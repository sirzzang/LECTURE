{
 "cells": [
  {
   "cell_type": "markdown",
   "metadata": {},
   "source": [
    "# scaler 사용법 정리 : 예측할 때 하나니까 미리 맞춰놓아야 한다.\n",
    "하나밖에 없으니까 minmax가 안 된다\n",
    "- fit_transform 두 가지 역할 동시에 한다.\n",
    "- fit : minmax 할 data 들고와\n",
    "- transform : 변환해\n",
    "나는 sclaer 사용했을 때 이상할 수도 있겠는데?????????????????test, 안에서만 하고 train 안에서만 했으니까.\n",
    "\n",
    "# one-hot indexing 하는 방법 정리\n",
    "- pandas.get_dummies()\n",
    "- tensorflow.one_hot()\n",
    "- 데이터 개수 주의하기!!!!\n",
    "\n",
    "# cast할 때 계속 졸아서 모른다 정리\n",
    "\n",
    "# 항상, 데이터 볼 때 결측치(isnull), 이상치(boxplot) 확인"
   ]
  },
  {
   "cell_type": "code",
   "execution_count": 1,
   "metadata": {},
   "outputs": [
    {
     "name": "stderr",
     "output_type": "stream",
     "text": [
      "C:\\Users\\student\\Anaconda3\\envs\\cpu_env\\lib\\site-packages\\tensorflow\\python\\framework\\dtypes.py:493: FutureWarning: Passing (type, 1) or '1type' as a synonym of type is deprecated; in a future version of numpy, it will be understood as (type, (1,)) / '(1,)type'.\n",
      "  _np_qint8 = np.dtype([(\"qint8\", np.int8, 1)])\n",
      "C:\\Users\\student\\Anaconda3\\envs\\cpu_env\\lib\\site-packages\\tensorflow\\python\\framework\\dtypes.py:494: FutureWarning: Passing (type, 1) or '1type' as a synonym of type is deprecated; in a future version of numpy, it will be understood as (type, (1,)) / '(1,)type'.\n",
      "  _np_quint8 = np.dtype([(\"quint8\", np.uint8, 1)])\n",
      "C:\\Users\\student\\Anaconda3\\envs\\cpu_env\\lib\\site-packages\\tensorflow\\python\\framework\\dtypes.py:495: FutureWarning: Passing (type, 1) or '1type' as a synonym of type is deprecated; in a future version of numpy, it will be understood as (type, (1,)) / '(1,)type'.\n",
      "  _np_qint16 = np.dtype([(\"qint16\", np.int16, 1)])\n",
      "C:\\Users\\student\\Anaconda3\\envs\\cpu_env\\lib\\site-packages\\tensorflow\\python\\framework\\dtypes.py:496: FutureWarning: Passing (type, 1) or '1type' as a synonym of type is deprecated; in a future version of numpy, it will be understood as (type, (1,)) / '(1,)type'.\n",
      "  _np_quint16 = np.dtype([(\"quint16\", np.uint16, 1)])\n",
      "C:\\Users\\student\\Anaconda3\\envs\\cpu_env\\lib\\site-packages\\tensorflow\\python\\framework\\dtypes.py:497: FutureWarning: Passing (type, 1) or '1type' as a synonym of type is deprecated; in a future version of numpy, it will be understood as (type, (1,)) / '(1,)type'.\n",
      "  _np_qint32 = np.dtype([(\"qint32\", np.int32, 1)])\n",
      "C:\\Users\\student\\Anaconda3\\envs\\cpu_env\\lib\\site-packages\\tensorflow\\python\\framework\\dtypes.py:502: FutureWarning: Passing (type, 1) or '1type' as a synonym of type is deprecated; in a future version of numpy, it will be understood as (type, (1,)) / '(1,)type'.\n",
      "  np_resource = np.dtype([(\"resource\", np.ubyte, 1)])\n"
     ]
    }
   ],
   "source": [
    "import numpy as np\n",
    "import pandas as pd\n",
    "import tensorflow as tf\n",
    "from sklearn.preprocessing import MinMaxScaler"
   ]
  },
  {
   "cell_type": "code",
   "execution_count": 2,
   "metadata": {},
   "outputs": [
    {
     "data": {
      "text/html": [
       "<div>\n",
       "<style scoped>\n",
       "    .dataframe tbody tr th:only-of-type {\n",
       "        vertical-align: middle;\n",
       "    }\n",
       "\n",
       "    .dataframe tbody tr th {\n",
       "        vertical-align: top;\n",
       "    }\n",
       "\n",
       "    .dataframe thead th {\n",
       "        text-align: right;\n",
       "    }\n",
       "</style>\n",
       "<table border=\"1\" class=\"dataframe\">\n",
       "  <thead>\n",
       "    <tr style=\"text-align: right;\">\n",
       "      <th></th>\n",
       "      <th>label</th>\n",
       "      <th>height</th>\n",
       "      <th>weight</th>\n",
       "    </tr>\n",
       "  </thead>\n",
       "  <tbody>\n",
       "    <tr>\n",
       "      <th>0</th>\n",
       "      <td>1</td>\n",
       "      <td>188</td>\n",
       "      <td>71</td>\n",
       "    </tr>\n",
       "    <tr>\n",
       "      <th>1</th>\n",
       "      <td>2</td>\n",
       "      <td>161</td>\n",
       "      <td>68</td>\n",
       "    </tr>\n",
       "    <tr>\n",
       "      <th>2</th>\n",
       "      <td>0</td>\n",
       "      <td>178</td>\n",
       "      <td>52</td>\n",
       "    </tr>\n",
       "    <tr>\n",
       "      <th>3</th>\n",
       "      <td>2</td>\n",
       "      <td>136</td>\n",
       "      <td>63</td>\n",
       "    </tr>\n",
       "    <tr>\n",
       "      <th>4</th>\n",
       "      <td>1</td>\n",
       "      <td>145</td>\n",
       "      <td>52</td>\n",
       "    </tr>\n",
       "    <tr>\n",
       "      <th>...</th>\n",
       "      <td>...</td>\n",
       "      <td>...</td>\n",
       "      <td>...</td>\n",
       "    </tr>\n",
       "    <tr>\n",
       "      <th>19995</th>\n",
       "      <td>0</td>\n",
       "      <td>163</td>\n",
       "      <td>48</td>\n",
       "    </tr>\n",
       "    <tr>\n",
       "      <th>19996</th>\n",
       "      <td>2</td>\n",
       "      <td>139</td>\n",
       "      <td>70</td>\n",
       "    </tr>\n",
       "    <tr>\n",
       "      <th>19997</th>\n",
       "      <td>1</td>\n",
       "      <td>150</td>\n",
       "      <td>48</td>\n",
       "    </tr>\n",
       "    <tr>\n",
       "      <th>19998</th>\n",
       "      <td>1</td>\n",
       "      <td>189</td>\n",
       "      <td>69</td>\n",
       "    </tr>\n",
       "    <tr>\n",
       "      <th>19999</th>\n",
       "      <td>1</td>\n",
       "      <td>142</td>\n",
       "      <td>41</td>\n",
       "    </tr>\n",
       "  </tbody>\n",
       "</table>\n",
       "<p>20000 rows × 3 columns</p>\n",
       "</div>"
      ],
      "text/plain": [
       "       label  height  weight\n",
       "0          1     188      71\n",
       "1          2     161      68\n",
       "2          0     178      52\n",
       "3          2     136      63\n",
       "4          1     145      52\n",
       "...      ...     ...     ...\n",
       "19995      0     163      48\n",
       "19996      2     139      70\n",
       "19997      1     150      48\n",
       "19998      1     189      69\n",
       "19999      1     142      41\n",
       "\n",
       "[20000 rows x 3 columns]"
      ]
     },
     "metadata": {},
     "output_type": "display_data"
    },
    {
     "data": {
      "text/plain": [
       "Index(['label', 'height', 'weight'], dtype='object')"
      ]
     },
     "execution_count": 2,
     "metadata": {},
     "output_type": "execute_result"
    }
   ],
   "source": [
    "bmi_df = pd.read_csv(\"./data/bmi.csv\", skiprows =3)\n",
    "display(bmi_df) \n",
    "# error_bad_lines=False? skiprows?\n",
    "\n",
    "bmi_df.columns"
   ]
  },
  {
   "cell_type": "code",
   "execution_count": 3,
   "metadata": {},
   "outputs": [],
   "source": [
    "bmi_df[\"thin\"] = 0\n",
    "bmi_df[\"normal\"] = 0\n",
    "bmi_df[\"fat\"] = 0\n",
    "\n",
    "bmi_df.loc[bmi_df[\"label\"] == 0, \"thin\"] = 1\n",
    "bmi_df.loc[bmi_df[\"label\"] == 1, \"normal\"] = 1\n",
    "bmi_df.loc[bmi_df[\"label\"] == 2, \"fat\"] = 1"
   ]
  },
  {
   "cell_type": "code",
   "execution_count": 4,
   "metadata": {},
   "outputs": [
    {
     "data": {
      "text/html": [
       "<div>\n",
       "<style scoped>\n",
       "    .dataframe tbody tr th:only-of-type {\n",
       "        vertical-align: middle;\n",
       "    }\n",
       "\n",
       "    .dataframe tbody tr th {\n",
       "        vertical-align: top;\n",
       "    }\n",
       "\n",
       "    .dataframe thead th {\n",
       "        text-align: right;\n",
       "    }\n",
       "</style>\n",
       "<table border=\"1\" class=\"dataframe\">\n",
       "  <thead>\n",
       "    <tr style=\"text-align: right;\">\n",
       "      <th></th>\n",
       "      <th>label</th>\n",
       "      <th>height</th>\n",
       "      <th>weight</th>\n",
       "      <th>thin</th>\n",
       "      <th>normal</th>\n",
       "      <th>fat</th>\n",
       "    </tr>\n",
       "  </thead>\n",
       "  <tbody>\n",
       "    <tr>\n",
       "      <th>0</th>\n",
       "      <td>1</td>\n",
       "      <td>188</td>\n",
       "      <td>71</td>\n",
       "      <td>0</td>\n",
       "      <td>1</td>\n",
       "      <td>0</td>\n",
       "    </tr>\n",
       "    <tr>\n",
       "      <th>1</th>\n",
       "      <td>2</td>\n",
       "      <td>161</td>\n",
       "      <td>68</td>\n",
       "      <td>0</td>\n",
       "      <td>0</td>\n",
       "      <td>1</td>\n",
       "    </tr>\n",
       "    <tr>\n",
       "      <th>2</th>\n",
       "      <td>0</td>\n",
       "      <td>178</td>\n",
       "      <td>52</td>\n",
       "      <td>1</td>\n",
       "      <td>0</td>\n",
       "      <td>0</td>\n",
       "    </tr>\n",
       "    <tr>\n",
       "      <th>3</th>\n",
       "      <td>2</td>\n",
       "      <td>136</td>\n",
       "      <td>63</td>\n",
       "      <td>0</td>\n",
       "      <td>0</td>\n",
       "      <td>1</td>\n",
       "    </tr>\n",
       "    <tr>\n",
       "      <th>4</th>\n",
       "      <td>1</td>\n",
       "      <td>145</td>\n",
       "      <td>52</td>\n",
       "      <td>0</td>\n",
       "      <td>1</td>\n",
       "      <td>0</td>\n",
       "    </tr>\n",
       "    <tr>\n",
       "      <th>...</th>\n",
       "      <td>...</td>\n",
       "      <td>...</td>\n",
       "      <td>...</td>\n",
       "      <td>...</td>\n",
       "      <td>...</td>\n",
       "      <td>...</td>\n",
       "    </tr>\n",
       "    <tr>\n",
       "      <th>19995</th>\n",
       "      <td>0</td>\n",
       "      <td>163</td>\n",
       "      <td>48</td>\n",
       "      <td>1</td>\n",
       "      <td>0</td>\n",
       "      <td>0</td>\n",
       "    </tr>\n",
       "    <tr>\n",
       "      <th>19996</th>\n",
       "      <td>2</td>\n",
       "      <td>139</td>\n",
       "      <td>70</td>\n",
       "      <td>0</td>\n",
       "      <td>0</td>\n",
       "      <td>1</td>\n",
       "    </tr>\n",
       "    <tr>\n",
       "      <th>19997</th>\n",
       "      <td>1</td>\n",
       "      <td>150</td>\n",
       "      <td>48</td>\n",
       "      <td>0</td>\n",
       "      <td>1</td>\n",
       "      <td>0</td>\n",
       "    </tr>\n",
       "    <tr>\n",
       "      <th>19998</th>\n",
       "      <td>1</td>\n",
       "      <td>189</td>\n",
       "      <td>69</td>\n",
       "      <td>0</td>\n",
       "      <td>1</td>\n",
       "      <td>0</td>\n",
       "    </tr>\n",
       "    <tr>\n",
       "      <th>19999</th>\n",
       "      <td>1</td>\n",
       "      <td>142</td>\n",
       "      <td>41</td>\n",
       "      <td>0</td>\n",
       "      <td>1</td>\n",
       "      <td>0</td>\n",
       "    </tr>\n",
       "  </tbody>\n",
       "</table>\n",
       "<p>20000 rows × 6 columns</p>\n",
       "</div>"
      ],
      "text/plain": [
       "       label  height  weight  thin  normal  fat\n",
       "0          1     188      71     0       1    0\n",
       "1          2     161      68     0       0    1\n",
       "2          0     178      52     1       0    0\n",
       "3          2     136      63     0       0    1\n",
       "4          1     145      52     0       1    0\n",
       "...      ...     ...     ...   ...     ...  ...\n",
       "19995      0     163      48     1       0    0\n",
       "19996      2     139      70     0       0    1\n",
       "19997      1     150      48     0       1    0\n",
       "19998      1     189      69     0       1    0\n",
       "19999      1     142      41     0       1    0\n",
       "\n",
       "[20000 rows x 6 columns]"
      ]
     },
     "metadata": {},
     "output_type": "display_data"
    },
    {
     "name": "stdout",
     "output_type": "stream",
     "text": [
      "16000\n"
     ]
    }
   ],
   "source": [
    "display(bmi_df)\n",
    "train_num = int(bmi_df.shape[0] * 0.8)\n",
    "print(train_num)"
   ]
  },
  {
   "cell_type": "code",
   "execution_count": 5,
   "metadata": {},
   "outputs": [],
   "source": [
    "# 데이터 준비 + 학습용/테스트용 나누기\n",
    "# scaler 맞춰놓기\n",
    "scaler = MinMaxScaler()\n",
    "scaler.fit(bmi_df[[\"height\", \"weight\"]])\n",
    "\n",
    "# x data \n",
    "x_data = bmi_df[[\"height\", \"weight\"]].values\n",
    "x_data = scaler.fit_transform(x_data)\n",
    "\n",
    "train_x_data = x_data[:train_num]\n",
    "test_x_data = x_data[train_num:]\n",
    "\n",
    "# y data\n",
    "train_y_data = bmi_df[[\"thin\", \"normal\", \"fat\"]][:train_num].values\n",
    "test_y_data = bmi_df[[\"thin\", \"normal\", \"fat\"]][train_num:].values\n"
   ]
  },
  {
   "cell_type": "code",
   "execution_count": 6,
   "metadata": {
    "scrolled": false
   },
   "outputs": [
    {
     "name": "stdout",
     "output_type": "stream",
     "text": [
      "cost 값은 : 1.3665722608566284\n",
      "cost 값은 : 0.35388636589050293\n",
      "cost 값은 : 0.28072211146354675\n",
      "cost 값은 : 0.24364839494228363\n",
      "cost 값은 : 0.21998779475688934\n",
      "cost 값은 : 0.20312057435512543\n",
      "cost 값은 : 0.19027547538280487\n",
      "cost 값은 : 0.18005216121673584\n",
      "cost 값은 : 0.1716541200876236\n",
      "cost 값은 : 0.16458822786808014\n"
     ]
    }
   ],
   "source": [
    "# 1. 학습\n",
    "\n",
    "# 1-1. 데이터 셋 준비\n",
    "train_x_data\n",
    "train_y_data\n",
    "\n",
    "# 1-2. placeholder\n",
    "X = tf.placeholder(shape = [None, 2], dtype = tf.float32)\n",
    "Y = tf.placeholder(shape = [None, 3], dtype = tf.float32)\n",
    "\n",
    "# 1-3. weight, bias\n",
    "W = tf.Variable(tf.random_normal([2,3]), name = \"weight\")\n",
    "b = tf.Variable(tf.random_normal([3]), name = \"bias\")\n",
    "\n",
    "# 1-4. hypothesis\n",
    "logit = tf.matmul(X,W)+b\n",
    "H = tf.nn.softmax(logit)\n",
    "\n",
    "# 1-5. cost\n",
    "cost = tf.reduce_mean(tf.nn.softmax_cross_entropy_with_logits_v2(logits = logit,\n",
    "                                                                labels = Y))\n",
    "\n",
    "# 1-6. train\n",
    "train = tf.train.GradientDescentOptimizer(learning_rate = 0.1).minimize(cost)\n",
    "\n",
    "# 1-7. 준비: session, 초기화\n",
    "sess = tf.Session()\n",
    "sess.run(tf.global_variables_initializer())\n",
    "\n",
    "# 1-8. 학습\n",
    "for step in range(30000):\n",
    "    _, cost_val = sess.run([train, cost], feed_dict = { X : train_x_data,\n",
    "                                                        Y : train_y_data})\n",
    "    if step % 3000 == 0:\n",
    "        print(\"cost 값은 : {}\".format(cost_val))"
   ]
  },
  {
   "cell_type": "code",
   "execution_count": 7,
   "metadata": {},
   "outputs": [
    {
     "name": "stdout",
     "output_type": "stream",
     "text": [
      "정확도 : 0.9804999828338623\n"
     ]
    }
   ],
   "source": [
    "# 2. 정확도 측정 : accuracy\n",
    "\n",
    "predict = tf.argmax(H, axis = 1) \n",
    "correct = tf.equal(predict, tf.argmax(Y, axis = 1))\n",
    "accuracy = tf.reduce_mean(tf.cast(correct, dtype = tf.float32))\n",
    "print(\"정확도 : {}\".format(sess.run(accuracy,\n",
    "                                feed_dict = {X: test_x_data,\n",
    "                                            Y: test_y_data})))"
   ]
  },
  {
   "cell_type": "code",
   "execution_count": 8,
   "metadata": {},
   "outputs": [
    {
     "name": "stdout",
     "output_type": "stream",
     "text": [
      "[[0.625      0.55555556]]\n",
      "1\n"
     ]
    }
   ],
   "source": [
    "# 3. 예측\n",
    "    \n",
    "predict_x_data = [[170, 60]]\n",
    "\n",
    "predict_x_data = scaler.transform(predict_x_data)\n",
    "print(predict_x_data)\n",
    "\n",
    "result = sess.run(tf.argmax(H, axis = 1), feed_dict = { X: predict_x_data })[0]\n",
    "print(result)"
   ]
  },
  {
   "cell_type": "markdown",
   "metadata": {},
   "source": [
    "# 이 밑에는 왜 안될까\n",
    "scaler 때문이었다!"
   ]
  },
  {
   "cell_type": "code",
   "execution_count": 9,
   "metadata": {},
   "outputs": [
    {
     "name": "stdout",
     "output_type": "stream",
     "text": [
      "3\n",
      "180 50\n",
      "thin\n",
      "180 90\n",
      "fat\n",
      "180 80\n",
      "normal\n"
     ]
    }
   ],
   "source": [
    "# 3. 예측\n",
    "\n",
    "# 입력값 받아서 예측\n",
    "\n",
    "T = int(input())\n",
    "\n",
    "for _ in range(T):\n",
    "    \n",
    "    a, b = map(int, input().split())\n",
    "    \n",
    "    predict_x_data = [[a, b]]\n",
    "    predict_x_data = scaler.transform(predict_x_data)\n",
    "    result = sess.run(tf.argmax(H, axis = 1), feed_dict = { X : predict_x_data })\n",
    "    \n",
    "    if result[0] == 0:\n",
    "        print(\"thin\")\n",
    "    elif result[0] == 1:\n",
    "        print(\"normal\")\n",
    "    else:\n",
    "        print(\"fat\")"
   ]
  },
  {
   "cell_type": "code",
   "execution_count": 10,
   "metadata": {},
   "outputs": [
    {
     "name": "stdout",
     "output_type": "stream",
     "text": [
      "30 60\n",
      "[[30, 60]]\n",
      "<class 'list'>\n",
      "[[-1.125       0.55555556]]\n",
      "<class 'numpy.ndarray'>\n"
     ]
    }
   ],
   "source": [
    "a, b = map(int, input().split())\n",
    "\n",
    "predict_x_data = [[a, b]]\n",
    "print(predict_x_data)\n",
    "print(type(predict_x_data))\n",
    "predict_x_data = scaler.transform(predict_x_data)\n",
    "print(predict_x_data)\n",
    "print(type(predict_x_data))\n",
    "# # predict_x_data = scaler.transform(predict_x_data)\n",
    "# print(predict_x_data)\n",
    "# # result = sess.run(tf.argmax(H, axis = 1), feed_dict = { X : predict_x_data })\n",
    "# # print(result)\n",
    "# sess.run(tf.argmax(H, axis=1), feed_dict={X : predict_x_data})"
   ]
  }
 ],
 "metadata": {
  "kernelspec": {
   "display_name": "[CPU_ENV]",
   "language": "python",
   "name": "cpu_env"
  },
  "language_info": {
   "codemirror_mode": {
    "name": "ipython",
    "version": 3
   },
   "file_extension": ".py",
   "mimetype": "text/x-python",
   "name": "python",
   "nbconvert_exporter": "python",
   "pygments_lexer": "ipython3",
   "version": "3.6.9"
  }
 },
 "nbformat": 4,
 "nbformat_minor": 2
}
