{
  "nbformat": 4,
  "nbformat_minor": 0,
  "metadata": {
    "kernelspec": {
      "display_name": "Python 3",
      "language": "python",
      "name": "python3"
    },
    "language_info": {
      "codemirror_mode": {
        "name": "ipython",
        "version": 3
      },
      "file_extension": ".py",
      "mimetype": "text/x-python",
      "name": "python",
      "nbconvert_exporter": "python",
      "pygments_lexer": "ipython3",
      "version": "3.7.7"
    },
    "colab": {
      "name": "[20200526] 01.변수와 자료형-2.ipynb",
      "provenance": []
    }
  },
  "cells": [
    {
      "cell_type": "markdown",
      "metadata": {
        "id": "aEBjePMKmrm9",
        "colab_type": "text"
      },
      "source": [
        "### 5) 리스트 자료형\n",
        "\n",
        "* 리스트 : 시퀀스 자료형. 연속된 데이터를 한 변수에 저장. 정적 타입 지원. 요소들의 데이터 타입 통일하지 않아도 됨.\n"
      ]
    },
    {
      "cell_type": "code",
      "metadata": {
        "id": "PUwDTMbumrm_",
        "colab_type": "code",
        "colab": {},
        "outputId": "daaa23c6-4ca4-40c0-9522-e5a29b6f8ba5"
      },
      "source": [
        "# 리스트 선언\n",
        "fruits = ['apple', 'grape', 'banana', 'melon', 'orange']\n",
        "print(type(fruits))\n",
        "print(fruits)\n",
        "\n",
        "# 다른 데이터타입을 갖는 리스트 선언\n",
        "lst = [1, 'a', True, 3.14]\n",
        "print(lst)"
      ],
      "execution_count": 0,
      "outputs": [
        {
          "output_type": "stream",
          "text": [
            "<class 'list'>\n",
            "['apple', 'grape', 'banana', 'melon', 'orange']\n",
            "[1, 'a', True, 3.14]\n"
          ],
          "name": "stdout"
        }
      ]
    },
    {
      "cell_type": "code",
      "metadata": {
        "scrolled": true,
        "id": "t2KNHmqzmrnH",
        "colab_type": "code",
        "colab": {},
        "outputId": "d5ff90d5-5019-4e1b-abe3-53fe396d7781"
      },
      "source": [
        "# 리스트 인덱싱 : 인덱스로 리스트 요소에 접근\n",
        "print(fruits[0])\n",
        "print(fruits[1])\n",
        "print(fruits[2])\n",
        "\n",
        "# 리스트 슬라이싱\n",
        "print(fruits[:3])\n",
        "print(fruits[::2]) # 스텝도 가능함.\n",
        "print(fruits[::-1])"
      ],
      "execution_count": 0,
      "outputs": [
        {
          "output_type": "stream",
          "text": [
            "apple\n",
            "grape\n",
            "banana\n",
            "['apple', 'grape', 'banana']\n",
            "['apple', 'banana', 'orange']\n",
            "['orange', 'melon', 'banana', 'grape', 'apple']\n"
          ],
          "name": "stdout"
        }
      ]
    },
    {
      "cell_type": "markdown",
      "metadata": {
        "id": "hAmL71DZmrnN",
        "colab_type": "text"
      },
      "source": [
        "#### Range 함수\n",
        "\n",
        " 연속된 숫자 생성. 이터레이터. "
      ]
    },
    {
      "cell_type": "code",
      "metadata": {
        "id": "d07hbCuZmrnO",
        "colab_type": "code",
        "colab": {},
        "outputId": "229a6aae-ccbb-4619-bb40-cd5210ff1312"
      },
      "source": [
        "# range 생성\n",
        "print(range(10))\n",
        "print([range(10)]) # range 객체 자체가 리스트의 요소.\n",
        "print(list(range(10))) # range가 만들어내는 객체들이 리스트의 요소.\n",
        "\n",
        "print(list(range(3, 20))) # 시작, 끝\n",
        "print(list(range(1, 100, 5))) # 시작, 끝, 간격\n"
      ],
      "execution_count": 0,
      "outputs": [
        {
          "output_type": "stream",
          "text": [
            "range(0, 10)\n",
            "[range(0, 10)]\n",
            "[0, 1, 2, 3, 4, 5, 6, 7, 8, 9]\n",
            "[3, 4, 5, 6, 7, 8, 9, 10, 11, 12, 13, 14, 15, 16, 17, 18, 19]\n",
            "[1, 6, 11, 16, 21, 26, 31, 36, 41, 46, 51, 56, 61, 66, 71, 76, 81, 86, 91, 96]\n"
          ],
          "name": "stdout"
        }
      ]
    },
    {
      "cell_type": "markdown",
      "metadata": {
        "id": "aKntpFV0mrnU",
        "colab_type": "text"
      },
      "source": [
        "#### 다차원(중첩) 리스트\n",
        "\n",
        " 리스트의 요소로 리스트가 포함되어 있다. C에서는 2차원 배열."
      ]
    },
    {
      "cell_type": "code",
      "metadata": {
        "id": "n32RZzY9mrnV",
        "colab_type": "code",
        "colab": {},
        "outputId": "fc96cfd5-60d4-4241-e234-6e0544ac514b"
      },
      "source": [
        "# 다차원 리스트 선언\n",
        "myList = [1, 'a', [1, 3, 4], ['pie', ['apple', True]]]\n",
        "print(myList)\n",
        "\n",
        "# 다차원 리스트 인덱싱\n",
        "print(myList[0])\n",
        "print(myList[1])\n",
        "print(myList[2])\n",
        "print(myList[2][2])\n",
        "print(myList[3])\n",
        "print(myList[3][0])\n",
        "print(myList[3][1])\n",
        "print(myList[3][1][0])"
      ],
      "execution_count": 0,
      "outputs": [
        {
          "output_type": "stream",
          "text": [
            "[1, 'a', [1, 3, 4], ['pie', ['apple', True]]]\n",
            "1\n",
            "a\n",
            "[1, 3, 4]\n",
            "4\n",
            "['pie', ['apple', True]]\n",
            "pie\n",
            "['apple', True]\n",
            "apple\n"
          ],
          "name": "stdout"
        }
      ]
    },
    {
      "cell_type": "code",
      "metadata": {
        "id": "GE_Uxq64mrnc",
        "colab_type": "code",
        "colab": {},
        "outputId": "0e43aaab-99a6-497c-ad8e-ec4026fc3888"
      },
      "source": [
        "# 다차원 리스트 요소의 개수\n",
        "print(myList, len(myList))\n",
        "print(myList[2], len(myList[2]))\n",
        "print(myList[3], len(myList[3]))\n",
        "print(myList[3][1], len(myList[3][1]))"
      ],
      "execution_count": 0,
      "outputs": [
        {
          "output_type": "stream",
          "text": [
            "[1, 'a', [1, 3, 4], ['pie', ['apple', True]]] 4\n",
            "[1, 3, 4] 3\n",
            "['pie', ['apple', True]] 2\n",
            "['apple', True] 2\n"
          ],
          "name": "stdout"
        }
      ]
    },
    {
      "cell_type": "markdown",
      "metadata": {
        "id": "A4LJt-cSmrng",
        "colab_type": "text"
      },
      "source": [
        "<연습문제 1>\n",
        "\n",
        "`b = [1, 2, 3, ['a', 'b', 'c', [1.0, 2.0, 3.0]]]`\n",
        "\n",
        "1. b 리스트에서 ['a', 'b']가 나오도록 인덱싱, 슬라이싱을 활용해 추출하라.\n",
        "2. [2.0, 3.0]이 나오도록 추출하라.\n",
        "3. 3.0을 인덱싱을 활용하여 추출하라."
      ]
    },
    {
      "cell_type": "code",
      "metadata": {
        "id": "eXDhrDAEmrni",
        "colab_type": "code",
        "colab": {},
        "outputId": "a8d72610-1cf6-4364-a5a1-63d56eabaccd"
      },
      "source": [
        "# 풀이\n",
        "b = [1, 2, 3, ['a', 'b', 'c', [1.0, 2.0, 3.0]]]\n",
        "print(f\"1번 : {b[-1][:2]}\")\n",
        "print(f\"2번 : {b[-1][-1][:-1]}\")\n",
        "print(f\"3번 : {b[-1][-1][-1]}\")"
      ],
      "execution_count": 0,
      "outputs": [
        {
          "output_type": "stream",
          "text": [
            "1번 : ['a', 'b']\n",
            "2번 : [1.0, 2.0]\n",
            "3번 : 3.0\n"
          ],
          "name": "stdout"
        }
      ]
    },
    {
      "cell_type": "code",
      "metadata": {
        "id": "MZpdY-2hmrnp",
        "colab_type": "code",
        "colab": {},
        "outputId": "6cb0546c-d7bf-44c4-c63b-4edcd5d2db12"
      },
      "source": [
        "# 리스트 연산\n",
        "a = [1, 2, 3]\n",
        "b = ['a', 'b', 'c']\n",
        "print(a + b) # 리스트 연결\n",
        "print(a*2) # 리스트 반복\n",
        "print(b*3)\n",
        "print(a*2 + b*3)"
      ],
      "execution_count": 0,
      "outputs": [
        {
          "output_type": "stream",
          "text": [
            "[1, 2, 3, 'a', 'b', 'c']\n",
            "[1, 2, 3, 1, 2, 3]\n",
            "['a', 'b', 'c', 'a', 'b', 'c', 'a', 'b', 'c']\n",
            "[1, 2, 3, 1, 2, 3, 'a', 'b', 'c', 'a', 'b', 'c', 'a', 'b', 'c']\n"
          ],
          "name": "stdout"
        }
      ]
    },
    {
      "cell_type": "code",
      "metadata": {
        "id": "4YEq2qX_mrnu",
        "colab_type": "code",
        "colab": {},
        "outputId": "60fa378b-6179-448e-8182-2e306135e706"
      },
      "source": [
        "# 리스트 값 수정\n",
        "a = [1, 2, 3]\n",
        "a[1] = 100 # 인덱스 사용해 값 변경.\n",
        "print(a)\n",
        "del a[1] # 값 삭제\n",
        "print(a)"
      ],
      "execution_count": 0,
      "outputs": [
        {
          "output_type": "stream",
          "text": [
            "[1, 100, 3]\n",
            "[1, 3]\n"
          ],
          "name": "stdout"
        }
      ]
    },
    {
      "cell_type": "markdown",
      "metadata": {
        "id": "NpOyYlLZmrnz",
        "colab_type": "text"
      },
      "source": [
        "#### 리스트 함수\n",
        "* 요소 추가\n",
        "    - 맨 뒤 위치\n",
        "        - `append` : 요소를 추가.\n",
        "        - `extend` : 이터러블 내의 요소들을 추가. **리스트 연산 중 `+`와 같음**. `extend` 적용 후의 과정을 나타내면, `a+=b`와 같음. 이터러블하지 않은 요소를 받을 경우 `TypeError`!!\n",
        "\n",
        "    - 특정 위치 : `insert`\n",
        "* 요소 삭제\n",
        "    - 인덱스 : `pop`\n",
        "    - 값 : `remove`\n",
        "* 특정 값의 인덱스 : `index`\n",
        "* 특정 값의 개수 : `count`\n",
        "* 정렬(내림차순의 경우 `reverse = True`)\n",
        "    - `.sort()` : 메서드. 원본 리스트의 순서 자체를 변경.\n",
        "    - `sorted()` : 정렬된 새로운 리스트 반환. 원본 리스트의 순서는 변경되지 않음."
      ]
    },
    {
      "cell_type": "code",
      "metadata": {
        "id": "1ewlO5eRmrn0",
        "colab_type": "code",
        "colab": {},
        "outputId": "39866fef-33af-41d3-f2fd-39454c2ac021"
      },
      "source": [
        "# append\n",
        "a = [1, 2, 3]\n",
        "a.append(4) # 4 추가\n",
        "print(a)\n",
        "a.append('Hello World!')\n",
        "print(a)\n",
        "a.append([1, 2]) # 리스트 자체가 요소로서 추가.\n",
        "print(a)"
      ],
      "execution_count": 0,
      "outputs": [
        {
          "output_type": "stream",
          "text": [
            "[1, 2, 3, 4]\n",
            "[1, 2, 3, 4, 'Hello World!']\n",
            "[1, 2, 3, 4, 'Hello World!', [1, 2]]\n"
          ],
          "name": "stdout"
        }
      ]
    },
    {
      "cell_type": "code",
      "metadata": {
        "id": "ho-LqD2pmrn4",
        "colab_type": "code",
        "colab": {},
        "outputId": "761d57d1-d08c-4f17-ff0d-fd4047127909"
      },
      "source": [
        "# extend\n",
        "b = [1, 2, 3]\n",
        "b.extend([4]) # 4 추가 \n",
        "print(b)\n",
        "b.extend(['Hello World!'])\n",
        "print(b)\n",
        "b.extend([1, 2]) # 리스트 내 요소들 추가.\n",
        "print(b)"
      ],
      "execution_count": 0,
      "outputs": [
        {
          "output_type": "stream",
          "text": [
            "[1, 2, 3, 4]\n",
            "[1, 2, 3, 4, 'Hello World!']\n",
            "[1, 2, 3, 4, 'Hello World!', 1, 2]\n"
          ],
          "name": "stdout"
        }
      ]
    },
    {
      "cell_type": "code",
      "metadata": {
        "id": "A-WVth_qmrn8",
        "colab_type": "code",
        "colab": {},
        "outputId": "f1a27772-6beb-4211-9d35-fdc1ab477e98"
      },
      "source": [
        "# append vs. extend\n",
        "a = [1, 2, 3]\n",
        "a.extend([4, 5])\n",
        "print(a) # [4, 5]의 요소들 4, 5가 각각 하나의 요소로 추가.\n",
        "print(a[-1] + 3)\n",
        "a.append([4, 5]) # [4, 5] 자체가 하나의 요소로 추가.\n",
        "print(a)\n",
        "print(a[-1] + 3) # 리스트 더하기 연산 불가능."
      ],
      "execution_count": 0,
      "outputs": [
        {
          "output_type": "stream",
          "text": [
            "[1, 2, 3, 4, 5]\n",
            "8\n",
            "[1, 2, 3, 4, 5, [4, 5]]\n"
          ],
          "name": "stdout"
        },
        {
          "output_type": "error",
          "ename": "TypeError",
          "evalue": "can only concatenate list (not \"int\") to list",
          "traceback": [
            "\u001b[1;31m---------------------------------------------------------------------------\u001b[0m",
            "\u001b[1;31mTypeError\u001b[0m                                 Traceback (most recent call last)",
            "\u001b[1;32m<ipython-input-11-b335692bc4e8>\u001b[0m in \u001b[0;36m<module>\u001b[1;34m\u001b[0m\n\u001b[0;32m      6\u001b[0m \u001b[0ma\u001b[0m\u001b[1;33m.\u001b[0m\u001b[0mappend\u001b[0m\u001b[1;33m(\u001b[0m\u001b[1;33m[\u001b[0m\u001b[1;36m4\u001b[0m\u001b[1;33m,\u001b[0m \u001b[1;36m5\u001b[0m\u001b[1;33m]\u001b[0m\u001b[1;33m)\u001b[0m \u001b[1;31m# [4, 5] 자체가 하나의 요소로 추가.\u001b[0m\u001b[1;33m\u001b[0m\u001b[1;33m\u001b[0m\u001b[0m\n\u001b[0;32m      7\u001b[0m \u001b[0mprint\u001b[0m\u001b[1;33m(\u001b[0m\u001b[0ma\u001b[0m\u001b[1;33m)\u001b[0m\u001b[1;33m\u001b[0m\u001b[1;33m\u001b[0m\u001b[0m\n\u001b[1;32m----> 8\u001b[1;33m \u001b[0mprint\u001b[0m\u001b[1;33m(\u001b[0m\u001b[0ma\u001b[0m\u001b[1;33m[\u001b[0m\u001b[1;33m-\u001b[0m\u001b[1;36m1\u001b[0m\u001b[1;33m]\u001b[0m \u001b[1;33m+\u001b[0m \u001b[1;36m3\u001b[0m\u001b[1;33m)\u001b[0m \u001b[1;31m# 리스트 더하기 연산 불가능.\u001b[0m\u001b[1;33m\u001b[0m\u001b[1;33m\u001b[0m\u001b[0m\n\u001b[0m",
            "\u001b[1;31mTypeError\u001b[0m: can only concatenate list (not \"int\") to list"
          ]
        }
      ]
    },
    {
      "cell_type": "code",
      "metadata": {
        "id": "lzW0dUT0mroA",
        "colab_type": "code",
        "colab": {},
        "outputId": "97d60836-bc90-4382-b119-87bd1750efee"
      },
      "source": [
        "# 특정 위치에 요소 삽입\n",
        "a = [1, 2, 3, 4, 5]\n",
        "a.insert(1, 'a')\n",
        "print(a)\n",
        "a.insert(0, 'Hello World!')\n",
        "print(a)"
      ],
      "execution_count": 0,
      "outputs": [
        {
          "output_type": "stream",
          "text": [
            "[1, 'a', 2, 3, 4, 5]\n",
            "['Hello World!', 1, 'a', 2, 3, 4, 5]\n"
          ],
          "name": "stdout"
        }
      ]
    },
    {
      "cell_type": "code",
      "metadata": {
        "scrolled": true,
        "id": "yXumtN1gmroE",
        "colab_type": "code",
        "colab": {},
        "outputId": "c3208f57-9804-472b-e8e1-9afe19246c3e"
      },
      "source": [
        "# 정렬 : sort vs. sorted\n",
        "a = [1, 3, 5, 2, 10]\n",
        "\n",
        "b = sorted(a) # 오름차순 정렬\n",
        "c = sorted(a, reverse=True) # 내림차순 정렬\n",
        "print(b)\n",
        "print(c)\n",
        "print(a) # 원본에 영향 없음.\n",
        "\n",
        "a.sort() # 오름차순 정렬 메소드\n",
        "print(a) # 원본에 영향 있음.\n",
        "a.sort(reverse=True) # 내림차순 정렬 메소드\n",
        "print(a)"
      ],
      "execution_count": 0,
      "outputs": [
        {
          "output_type": "stream",
          "text": [
            "[1, 2, 3, 5, 10]\n",
            "[10, 5, 3, 2, 1]\n",
            "[1, 3, 5, 2, 10]\n",
            "[1, 2, 3, 5, 10]\n",
            "[10, 5, 3, 2, 1]\n"
          ],
          "name": "stdout"
        }
      ]
    },
    {
      "cell_type": "code",
      "metadata": {
        "id": "ytap37DtmroI",
        "colab_type": "code",
        "colab": {},
        "outputId": "41bec111-d2ee-4f3d-b9fc-7a2e4ef9d5ca"
      },
      "source": [
        "# 순서를 반대로\n",
        "a = [1, 100, 2, 5, 2656, 3311111111]\n",
        "a.reverse()\n",
        "print(a)"
      ],
      "execution_count": 0,
      "outputs": [
        {
          "output_type": "stream",
          "text": [
            "[3311111111, 2656, 5, 2, 100, 1]\n"
          ],
          "name": "stdout"
        }
      ]
    },
    {
      "cell_type": "code",
      "metadata": {
        "id": "XzoAEltnmroM",
        "colab_type": "code",
        "colab": {},
        "outputId": "b85f3bb0-9dcd-4d65-fc1c-056127d6585f"
      },
      "source": [
        "# 값의 위치 찾기\n",
        "players = ['양현종', '나지완', '임기영', '최형우', '터커', '나지완']\n",
        "print(players.index('양현종'))\n",
        "print(players.index('나지완')) # 첫 번째로 만나는 값의 위치 반환\n",
        "players[players.index('나지완')] = '김기훈' # 값 변경\n",
        "print(players)"
      ],
      "execution_count": 0,
      "outputs": [
        {
          "output_type": "stream",
          "text": [
            "0\n",
            "1\n",
            "['양현종', '김기훈', '임기영', '최형우', '터커', '나지완']\n"
          ],
          "name": "stdout"
        }
      ]
    },
    {
      "cell_type": "code",
      "metadata": {
        "id": "4ur-_a4rmroQ",
        "colab_type": "code",
        "colab": {},
        "outputId": "68fbe05d-fa30-405e-ec5a-346219b99d38"
      },
      "source": [
        "# 특정 요소 삭제\n",
        "hangeul = ['가', '나', '다', '라', '마']\n",
        "hangeul.remove('다') # del hangeul[hangeul.index('다')]와 동일\n",
        "print(hangeul)"
      ],
      "execution_count": 0,
      "outputs": [
        {
          "output_type": "stream",
          "text": [
            "['가', '나', '라', '마']\n"
          ],
          "name": "stdout"
        }
      ]
    },
    {
      "cell_type": "code",
      "metadata": {
        "id": "rrmHr-rYmroT",
        "colab_type": "code",
        "colab": {},
        "outputId": "36d5aa19-d6d5-4980-c75a-d3bc6a17436f"
      },
      "source": [
        "# 특정 위치 요소 삭제\n",
        "a = [1, 2, 3, 4, 5]\n",
        "print(a.pop()) # 마지막 위치 요소 삭제 후 반환.\n",
        "print(a)\n",
        "print(a.pop(2)) # index 2 위치 요소 삭제 후 반환.\n",
        "print(a)\n",
        "c = a.pop(1) # 삭제한 요소 c에 할당.\n",
        "print(c)\n",
        "print(a)"
      ],
      "execution_count": 0,
      "outputs": [
        {
          "output_type": "stream",
          "text": [
            "5\n",
            "[1, 2, 3, 4]\n",
            "3\n",
            "[1, 2, 4]\n",
            "2\n",
            "[1, 4]\n"
          ],
          "name": "stdout"
        }
      ]
    },
    {
      "cell_type": "markdown",
      "metadata": {
        "id": "gBucQpFCmroY",
        "colab_type": "text"
      },
      "source": [
        "**티켓 예매 프로세스**\n",
        "\n",
        " 예매(리스트에 추가) 프로세스, 결제 처리 및 좌석 배정(리스트에서 꺼냄) 프로세스. 아주 간단하게 `pop`은 예약이 되어서 꺼내고 삭제한다고 보면 됨."
      ]
    },
    {
      "cell_type": "code",
      "metadata": {
        "scrolled": true,
        "id": "9grijtlTmroZ",
        "colab_type": "code",
        "colab": {},
        "outputId": "3dec004c-2fe5-43b0-b2c4-cc597ba18da7"
      },
      "source": [
        "# 예매 대기 리스트\n",
        "ticket_book_wating_list = []\n",
        "ticket_book_wating_list.append(\"A\")\n",
        "ticket_book_wating_list.append(\"B\")\n",
        "print(ticket_book_wating_list)\n",
        "\n",
        "# 먼저 들어온 값부터 처리\n",
        "ticket_book_wating_list.pop(0)\n",
        "print(ticket_book_wating_list)\n",
        "ticket_book_wating_list.pop(0)\n",
        "print(ticket_book_wating_list)"
      ],
      "execution_count": 0,
      "outputs": [
        {
          "output_type": "stream",
          "text": [
            "['A', 'B']\n",
            "['B']\n",
            "[]\n"
          ],
          "name": "stdout"
        }
      ]
    },
    {
      "cell_type": "code",
      "metadata": {
        "id": "_vjXgdKgmrod",
        "colab_type": "code",
        "colab": {},
        "outputId": "5a997f98-d33e-48d9-91c0-82fb3ec438e6"
      },
      "source": [
        "# in\n",
        "a = [1, 2, 3, 'a', 'b']\n",
        "print(1 in a)\n",
        "print(4 in a)\n",
        "print(1 not in a)\n",
        "print(4 not in a)"
      ],
      "execution_count": 0,
      "outputs": [
        {
          "output_type": "stream",
          "text": [
            "True\n",
            "False\n",
            "False\n",
            "True\n"
          ],
          "name": "stdout"
        }
      ]
    },
    {
      "cell_type": "markdown",
      "metadata": {
        "id": "4am9M7fQmrok",
        "colab_type": "text"
      },
      "source": [
        "#### 리스트의 저장 방식\n",
        "\n",
        " 파이썬에서 리스트를 저장할 때, 리스트의 0번째 인덱스 메모리 주소만을 저장하고, 실제 리스트 요소들은 다른 메모리 부분에 저장한다.\n",
        " \n",
        " \n",
        " \n",
        " *사실, 리스트 뿐만 아니라, 연속 자료형은 모두 이런 방식으로 저장한다. int, float, tuple 빼고 이런 식으로 들어 온다. 무슨 값이 들어올지 모르는 가변 자료형이기 때문.*\n",
        " \n",
        " \n",
        "\n",
        "* 변수 할당 : `Call by Reference/Address`.\n",
        "\n",
        " 하나의 리스트를 선언하고, 그 리스트를 다른 변수에 할당하면, 할당받은 변수는 원본 리스트의 0번째 인덱스 메모리 주소를 갖는다. **주소값으로 호출한다**고 이해하자. 이렇게 하면, 둘은 **똑같은 리스트**라는 말이다. 그래서 복사본을 바꾸든, 원본을 바꾸든 값이 모두 바뀌게 된다.\n",
        " \n",
        " \n",
        "---\n",
        "\n",
        "* 리스트를 값을 복사하려면? \n",
        "\n",
        " 하나의 리스트를 선언했을 때, 그 리스트의 값이 실제로 저장된 메모리에서, 그 리스트의 값들을 **꺼내서 다른 부분의 메모리에 할당하고, 그 때의 0번째 인덱스 값을 새롭게 저장해야** 된다. 즉, **메모리에서 주소값을 만날 경우, 그 주소값을 타고 들어가 해당 메모리 주소에 저장된 리스트의 값을 가져와야 한다는 의미**이다. 이 경우 복제본과 원본은 다른 객체이므로, 하나의 값을 바꾸더라도 다른 것은 바뀌지 않게 된다. 파이썬에서는 `copy` 함수가 이 일을 수행한다.\n",
        " \n",
        " \n",
        " \n",
        " * 다층 리스트를 복사하려면?\n",
        " \n",
        " 다층 리스트는 리스트의 값이 저장되어 있는 메모리 안에, 또 그 안에 들어 있는 리스트의 0번째 메모리 주소 값이 저장되어 있다. 그 안의 리스트 값은 또 다른 메모리 부분 어딘가에 저장되어 있는 것이다. 결국 다층 리스트의 값을 복사하려면, **다층 리스트에서 주소값을 만날 때마다 재귀적으로 리스트를 복사**해야 한다. 파이썬에서는 `copy` 모듈의 `deepcopy` 함수가 이 일을 수행한다.\n",
        " \n",
        "---\n",
        " \n",
        " * 얕은 복사 vs. 깊은 복사\n",
        " \n",
        " 얕은 복사의 경우, 리스트 자체의 값을 복사하기는 하지만, 이 일을 재귀적으로 수행하지는 않는다. 다차원으로 연속형 자료가 구성되어 있을 경우, 실제 값들을 복사하기 위해 주소값을 타고 재귀적으로 타고 들어가야 한다. 즉, 다층 리스트에서는 **깊은 복사를 수행해야 내부 리스트의 값 모두가 복사**된다.\n",
        " \n",
        "---\n",
        "\n",
        "  오류를 만나게 될 때가 있다. 함부로 복사하고 값 변경하지 말자. `copy`, `deepcopy` 함수를 사용하자. 상황에 따라서!"
      ]
    },
    {
      "cell_type": "code",
      "metadata": {
        "id": "MfmSpvPrmrok",
        "colab_type": "code",
        "colab": {},
        "outputId": "20a54823-3c37-4920-819b-fa3ee3713e0e"
      },
      "source": [
        "# 변수의 저장\n",
        "a = 10\n",
        "print(id(a))\n",
        "a = 5 # a에 새로운 값 할당.\n",
        "print(a)\n",
        "print(id(a)) \n",
        "# 값은 변하지만, 저장된 메모리 주소는 변하지 않음.\n",
        "# a로 선언된 객체에 값만 덮어 씌움."
      ],
      "execution_count": 0,
      "outputs": [
        {
          "output_type": "stream",
          "text": [
            "140706760991408\n",
            "5\n",
            "140706760991248\n"
          ],
          "name": "stdout"
        }
      ]
    },
    {
      "cell_type": "code",
      "metadata": {
        "id": "OyOAvg63mrou",
        "colab_type": "code",
        "colab": {},
        "outputId": "946c83c3-155b-46b3-f9f0-bfc4a76f7d78"
      },
      "source": [
        "# 변수의 경우 복사한 값을 바꿔도 원본은 바뀌지 않음.\n",
        "a = 5\n",
        "print(a)\n",
        "b = a\n",
        "print(b)\n",
        "print(b is a)\n",
        "b = 3\n",
        "print(b)\n",
        "print(a) # 원본에 영향 없음."
      ],
      "execution_count": 0,
      "outputs": [
        {
          "output_type": "stream",
          "text": [
            "5\n",
            "5\n",
            "True\n",
            "3\n",
            "5\n"
          ],
          "name": "stdout"
        }
      ]
    },
    {
      "cell_type": "code",
      "metadata": {
        "id": "EiocmGx2mroy",
        "colab_type": "code",
        "colab": {},
        "outputId": "63ad22e1-3c31-4ab5-b386-c755884ffa79"
      },
      "source": [
        "# 리스트의 저장\n",
        "c = [1, 2, 3, 4, 5]\n",
        "d = c\n",
        "print(d)\n",
        "print(c)\n",
        "print(id(d))\n",
        "print(id(c))\n",
        "print(d is c)\n",
        "d[1] = 100 # 새로 할당한 리스트의 값 변경\n",
        "print(d)\n",
        "print(c) # 리스트의 경우 원본도 바뀜."
      ],
      "execution_count": 0,
      "outputs": [
        {
          "output_type": "stream",
          "text": [
            "[1, 2, 3, 4, 5]\n",
            "[1, 2, 3, 4, 5]\n",
            "1571150211976\n",
            "1571150211976\n",
            "True\n",
            "[1, 100, 3, 4, 5]\n",
            "[1, 100, 3, 4, 5]\n"
          ],
          "name": "stdout"
        }
      ]
    },
    {
      "cell_type": "markdown",
      "metadata": {
        "id": "OWCBp81Ymro1",
        "colab_type": "text"
      },
      "source": [
        "#### 리스트 할당(배정)과 복사\n",
        "> https://kongdols-room.tistory.com/67\n",
        "\n",
        "* 리스트 배정.\n",
        "    - 1) `a = b` : 같은 객체.\n",
        "    - 2) `a = b[:]` : 다른 객체.\n",
        "* `.copy()` : 리스트 실제 값들의 얕은 복사.\n",
        "* `.deepcopy()` : 리스트 실제 값들의 깊은 복사. 다층 리스트의 실제 값 복사 시 활용."
      ]
    },
    {
      "cell_type": "code",
      "metadata": {
        "id": "NM5K6SFjmro2",
        "colab_type": "code",
        "colab": {},
        "outputId": "3c6b6be8-89be-4040-ffea-c19152c9720b"
      },
      "source": [
        "# Call by Reference : 실제 복사가 일어나지 않음. 배정.\n",
        "a = [1, 2, 3, 4, 5]\n",
        "b = a\n",
        "print(b)\n",
        "print(b is a) # a와 같은 객체\n",
        "a[0] = 10 \n",
        "print(b) # a의 요소를 바꿀 때 b의 요소도 함께 변화.\n",
        "print(a)"
      ],
      "execution_count": 0,
      "outputs": [
        {
          "output_type": "stream",
          "text": [
            "[1, 2, 3, 4, 5]\n",
            "True\n",
            "[10, 2, 3, 4, 5]\n",
            "[10, 2, 3, 4, 5]\n"
          ],
          "name": "stdout"
        }
      ]
    },
    {
      "cell_type": "code",
      "metadata": {
        "id": "K8IRWF3SmrpD",
        "colab_type": "code",
        "colab": {},
        "outputId": "f84c578f-7093-4d5f-993c-1b558dfcfb82"
      },
      "source": [
        "# 슬라이싱 이용해서 \"배정\"\n",
        "a = [1, 2, 3, 4, 5]\n",
        "b = a[:] # a와 다른 객체\n",
        "print(b)\n",
        "print(b is a) \n",
        "a[0] = 10 \n",
        "print(b) # a의 요소를 바꿀 때 b의 요소도 함께 변화.\n",
        "print(a)"
      ],
      "execution_count": 0,
      "outputs": [
        {
          "output_type": "stream",
          "text": [
            "[1, 2, 3, 4, 5]\n",
            "False\n",
            "[1, 2, 3, 4, 5]\n",
            "[10, 2, 3, 4, 5]\n"
          ],
          "name": "stdout"
        }
      ]
    },
    {
      "cell_type": "code",
      "metadata": {
        "id": "DyVti15kmrpG",
        "colab_type": "code",
        "colab": {},
        "outputId": "0874b64f-2c51-4048-9e4b-d8ec85c15aec"
      },
      "source": [
        "# [:]를 이용한 다차원 리스트 \"배정\"\n",
        "a = [1, 2, [3, 4, 5]]\n",
        "b = a[:]\n",
        "\n",
        "# 둘은 같은 객체일까?\n",
        "print(b is a) # 다른 객체다.\n",
        "print(id(a), id(b)) # 메모리 주소 다르다.\n",
        "\n",
        "# 중첩 리스트 외부 요소를 바꿔 보자.\n",
        "a[0] = 1000\n",
        "print(a) # 바뀐다.\n",
        "print(b) # 안 바뀐다.\n",
        "\n",
        "# 중첩 리스트 내부 요소까지 다 복사되나?\n",
        "# 둘 다 값이 바뀐다. 내부 값들까지 다 가져온 건 아니라는 의미다.\n",
        "a[-1][0] = 10\n",
        "print(a)\n",
        "print(b)\n",
        "print(id(a[2]), id(b[2])) # 중첩리스트 내부 요소의 메모리 주소값은 같다."
      ],
      "execution_count": 0,
      "outputs": [
        {
          "output_type": "stream",
          "text": [
            "False\n",
            "1571150569864 1571150569544\n",
            "[1000, 2, [3, 4, 5]]\n",
            "[1, 2, [3, 4, 5]]\n",
            "[1000, 2, [10, 4, 5]]\n",
            "[1, 2, [10, 4, 5]]\n",
            "1571150569608 1571150569608\n"
          ],
          "name": "stdout"
        }
      ]
    },
    {
      "cell_type": "code",
      "metadata": {
        "id": "HGS1Zq73mrpR",
        "colab_type": "code",
        "colab": {},
        "outputId": "99f9b020-f4ee-448d-e58e-15229a9a8f73"
      },
      "source": [
        "# 얕은 복사\n",
        "list1 = [[1, 2, 3], ['a', 'b', 'c']]\n",
        "list2 = list1.copy()\n",
        "print(list2)\n",
        "list2[0][0] = 5\n",
        "print(list2)\n",
        "print(list1) # 원본도 바뀐다."
      ],
      "execution_count": 0,
      "outputs": [
        {
          "output_type": "stream",
          "text": [
            "[[1, 2, 3], ['a', 'b', 'c']]\n",
            "[[5, 2, 3], ['a', 'b', 'c']]\n",
            "[[5, 2, 3], ['a', 'b', 'c']]\n"
          ],
          "name": "stdout"
        }
      ]
    },
    {
      "cell_type": "code",
      "metadata": {
        "id": "9SGuzs5NmrpT",
        "colab_type": "code",
        "colab": {},
        "outputId": "87cf9dd3-2b97-41c4-8ee0-13660ff326a1"
      },
      "source": [
        "# 깊은 복사\n",
        "\n",
        "from copy import deepcopy\n",
        "\n",
        "list1 = [[1, 2, 3], ['a', 'b', 'c']]\n",
        "list2 = deepcopy(list1)\n",
        "print(list2)\n",
        "list2[0][0] = 5\n",
        "print(list2)\n",
        "print(list1) # 원본은 안 바뀐다."
      ],
      "execution_count": 0,
      "outputs": [
        {
          "output_type": "stream",
          "text": [
            "[[1, 2, 3], ['a', 'b', 'c']]\n",
            "[[5, 2, 3], ['a', 'b', 'c']]\n",
            "[[1, 2, 3], ['a', 'b', 'c']]\n"
          ],
          "name": "stdout"
        }
      ]
    },
    {
      "cell_type": "markdown",
      "metadata": {
        "id": "PZ6yz8izmrpW",
        "colab_type": "text"
      },
      "source": [
        "### 6) 튜플\n",
        "\n",
        " 리스트와 비슷하지만, 리스트와 달리 값을 수정할 수 없다."
      ]
    },
    {
      "cell_type": "code",
      "metadata": {
        "scrolled": true,
        "id": "ykcAYjuumrpX",
        "colab_type": "code",
        "colab": {},
        "outputId": "9c4eb5bc-8b52-45ff-acc1-1f5941617077"
      },
      "source": [
        "# 튜플 선언\n",
        "a = (1, 2, 3)\n",
        "print(a)\n",
        "\n",
        "# 값 수정 불가\n",
        "a[2] = 4"
      ],
      "execution_count": 0,
      "outputs": [
        {
          "output_type": "stream",
          "text": [
            "(1, 2, 3)\n"
          ],
          "name": "stdout"
        },
        {
          "output_type": "error",
          "ename": "TypeError",
          "evalue": "'tuple' object does not support item assignment",
          "traceback": [
            "\u001b[1;31m---------------------------------------------------------------------------\u001b[0m",
            "\u001b[1;31mTypeError\u001b[0m                                 Traceback (most recent call last)",
            "\u001b[1;32m<ipython-input-28-79069e5bcb97>\u001b[0m in \u001b[0;36m<module>\u001b[1;34m\u001b[0m\n\u001b[0;32m      4\u001b[0m \u001b[1;33m\u001b[0m\u001b[0m\n\u001b[0;32m      5\u001b[0m \u001b[1;31m# 값 수정 불가\u001b[0m\u001b[1;33m\u001b[0m\u001b[1;33m\u001b[0m\u001b[1;33m\u001b[0m\u001b[0m\n\u001b[1;32m----> 6\u001b[1;33m \u001b[0ma\u001b[0m\u001b[1;33m[\u001b[0m\u001b[1;36m2\u001b[0m\u001b[1;33m]\u001b[0m \u001b[1;33m=\u001b[0m \u001b[1;36m4\u001b[0m\u001b[1;33m\u001b[0m\u001b[1;33m\u001b[0m\u001b[0m\n\u001b[0m",
            "\u001b[1;31mTypeError\u001b[0m: 'tuple' object does not support item assignment"
          ]
        }
      ]
    },
    {
      "cell_type": "code",
      "metadata": {
        "id": "vu7VkuLlmrpc",
        "colab_type": "code",
        "colab": {},
        "outputId": "8520003b-d13f-444a-cf0e-4e63621d8b61"
      },
      "source": [
        "# 길이가 1인 튜플\n",
        "c = (1) # 정수\n",
        "print(c, type(c))\n",
        "c_tuple = (1, )\n",
        "print(c, type(c_tuple)) # 출력 형식은 정수와 같지만, 튜플."
      ],
      "execution_count": 0,
      "outputs": [
        {
          "output_type": "stream",
          "text": [
            "1 <class 'int'>\n",
            "1 <class 'tuple'>\n"
          ],
          "name": "stdout"
        }
      ]
    },
    {
      "cell_type": "code",
      "metadata": {
        "id": "6yTf0n_Nmrpg",
        "colab_type": "code",
        "colab": {},
        "outputId": "0b73731f-2e96-4845-9206-3ca7900a7aa5"
      },
      "source": [
        "# 괄호 없이 튜플 선언 가능\n",
        "e = 1, 2, 3\n",
        "print(e, type(e))"
      ],
      "execution_count": 0,
      "outputs": [
        {
          "output_type": "stream",
          "text": [
            "(1, 2, 3) <class 'tuple'>\n"
          ],
          "name": "stdout"
        }
      ]
    },
    {
      "cell_type": "markdown",
      "metadata": {
        "id": "gpQNkV1bmrpi",
        "colab_type": "text"
      },
      "source": [
        "### 7) 세트 자료형\n",
        "\n",
        " 집합으로, 데이터가 중복되지 않는다. 집합 연산자를 활용할 수 있다."
      ]
    },
    {
      "cell_type": "code",
      "metadata": {
        "id": "lO-7T8Qbmrpi",
        "colab_type": "code",
        "colab": {},
        "outputId": "5f108d76-00b1-41d1-8bf1-e8d7c833902d"
      },
      "source": [
        "# 세트 선언\n",
        "tigers = {'양현종', '김선빈', '나지완', '서재응'}\n",
        "print(tigers)\n",
        "print(type(tigers))\n",
        "\n",
        "# 세트로의 형변환\n",
        "nums = [1, 2, 3, 4, 5]\n",
        "num_set = set(nums)\n",
        "print(num_set)\n",
        "print(type(num_set))"
      ],
      "execution_count": 0,
      "outputs": [
        {
          "output_type": "stream",
          "text": [
            "{'서재응', '나지완', '김선빈', '양현종'}\n",
            "<class 'set'>\n",
            "{1, 2, 3, 4, 5}\n",
            "<class 'set'>\n"
          ],
          "name": "stdout"
        }
      ]
    },
    {
      "cell_type": "code",
      "metadata": {
        "id": "pFSRc4Uwmrpk",
        "colab_type": "code",
        "colab": {}
      },
      "source": [
        "# 중복 제거를 위해 자주 사용\n",
        "lst = [1, 2, 3, 3, 3, 3, 4, 5, 4, 4, 4, 1, 3, 1]\n",
        "print(set(lst))"
      ],
      "execution_count": 0,
      "outputs": []
    },
    {
      "cell_type": "code",
      "metadata": {
        "id": "SL0Bg8t9mrpn",
        "colab_type": "code",
        "colab": {},
        "outputId": "908a7454-a3ec-49aa-b444-a5974c18853a"
      },
      "source": [
        "# 집합 연산자\n",
        "retired = {'이종범', '이승엽', '장성호', '윤석민', '송지만'}\n",
        "tigers = {'이종범', '양현종', '윤석민', '장성호', '나지완'}\n",
        "players = {'양현종', '나지완'}\n",
        "twins = {'채은성', '오지환'}\n",
        "\n",
        "print(retired | tigers) # 합집합 : union\n",
        "print(retired & tigers) # 교집합 : intersection\n",
        "print(retired - tigers) # 차집합 : difference\n",
        "print(tigers - retired)\n",
        "print(retired ^ tigers) # 대칭차집합 : symmetric_difference\n",
        "print(players <= tigers) # 부분집합 여부 : issubset\n",
        "print(tigers >= players) # 상위집합 여부 : issuperset\n",
        "print(retired.isdisjoint(tigers)) # 다른 집합 여부 : isdisjoint\n",
        "# 겹치는 요소 확인 : 완전히 다른 세트인지\n",
        "print(players.isdisjoint(tigers))\n",
        "print(twins.isdisjoint(tigers)) # 완전히 달라야 True 반환"
      ],
      "execution_count": 0,
      "outputs": [
        {
          "output_type": "stream",
          "text": [
            "{'송지만', '나지완', '윤석민', '장성호', '이종범', '이승엽', '양현종'}\n",
            "{'이종범', '윤석민', '장성호'}\n",
            "{'송지만', '이승엽'}\n",
            "{'나지완', '양현종'}\n",
            "{'나지완', '송지만', '이승엽', '양현종'}\n",
            "True\n",
            "True\n",
            "False\n",
            "False\n",
            "True\n"
          ],
          "name": "stdout"
        }
      ]
    },
    {
      "cell_type": "code",
      "metadata": {
        "id": "D3-tgp0_mrpp",
        "colab_type": "code",
        "colab": {},
        "outputId": "66358d3a-e180-42df-d377-916d60aa7c02"
      },
      "source": [
        "# 세트 함수\n",
        "a = {1, 2, 3}\n",
        "a.add(4) # 추가\n",
        "print(a)\n",
        "a.remove(1) # 삭제\n",
        "print(a)\n",
        "a.discard(3) # 삭제\n",
        "print(a)"
      ],
      "execution_count": 0,
      "outputs": [
        {
          "output_type": "stream",
          "text": [
            "{1, 2, 3, 4}\n",
            "{2, 3, 4}\n",
            "{2, 4}\n"
          ],
          "name": "stdout"
        }
      ]
    },
    {
      "cell_type": "markdown",
      "metadata": {
        "id": "WoxbVNAZmrpt",
        "colab_type": "text"
      },
      "source": [
        "### 8) 딕셔너리 자료형\n",
        "\n",
        " 키와 값의 쌍으로 저장. Key를 사용하여 Value에 접근한다. 키가 있으므로, 인덱스가 없고, 순서도 없다.\n",
        "\n",
        "* key는 불변 자료형(문자열, 숫자, 튜플 등)이어야 함.\n",
        "* value는 어떤 데이터 타입도 가능.\n",
        "* 개발 시 **입력이 들어오지 않을 때**를 대비해 초기값을 설정할 수 있음."
      ]
    },
    {
      "cell_type": "code",
      "metadata": {
        "id": "ZyJas1MRmrpu",
        "colab_type": "code",
        "colab": {},
        "outputId": "e6c2a959-e9dc-419a-83a0-618c62e13443"
      },
      "source": [
        "# 딕셔너리 선언\n",
        "d = {}\n",
        "print(type(d)) # 중괄호 쓸 때 기본값은 dict"
      ],
      "execution_count": 0,
      "outputs": [
        {
          "output_type": "stream",
          "text": [
            "<class 'dict'>\n"
          ],
          "name": "stdout"
        }
      ]
    },
    {
      "cell_type": "code",
      "metadata": {
        "id": "rJzPMiNXmrpy",
        "colab_type": "code",
        "colab": {},
        "outputId": "dd6f27b8-3b88-450b-fef2-fabe1623b0e8"
      },
      "source": [
        "# 딕셔너리 선언\n",
        "tigers = {\n",
        "    'pitcher' : ['양현종', '브룩스', '홍건희', '임기영'],\n",
        "    'infielder' : ['황대인', '박찬호', '김선빈', '나주환'],\n",
        "    'outfileder' : ['터커', '나지완', '최원준', '김호령'],\n",
        "    'rank' : {2017 : 1,\n",
        "             2018 : 5,\n",
        "             2019 : 7,\n",
        "             2020 : [7, 6, 4]},\n",
        "    'owner' : '현대기아차',\n",
        "    'avg_height' : 182.03,\n",
        "    'avg_weight' : 80.0,\n",
        "    'players' : 98\n",
        "}\n",
        "\n",
        "print(tigers)\n",
        "print(type(tigers))\n",
        "print('')\n",
        "\n",
        "from pprint import pprint\n",
        "\n",
        "pprint(tigers) # 딕셔너리 예쁘게 출력"
      ],
      "execution_count": 0,
      "outputs": [
        {
          "output_type": "stream",
          "text": [
            "{'pitcher': ['양현종', '브룩스', '홍건희', '임기영'], 'infielder': ['황대인', '박찬호', '김선빈', '나주환'], 'outfileder': ['터커', '나지완', '최원준', '김호령'], 'rank': {2017: 1, 2018: 5, 2019: 7, 2020: [7, 6, 4]}, 'owner': '현대기아차', 'avg_height': 182.03, 'avg_weight': 80.0, 'players': 98}\n",
            "<class 'dict'>\n",
            "\n",
            "{'avg_height': 182.03,\n",
            " 'avg_weight': 80.0,\n",
            " 'infielder': ['황대인', '박찬호', '김선빈', '나주환'],\n",
            " 'outfileder': ['터커', '나지완', '최원준', '김호령'],\n",
            " 'owner': '현대기아차',\n",
            " 'pitcher': ['양현종', '브룩스', '홍건희', '임기영'],\n",
            " 'players': 98,\n",
            " 'rank': {2017: 1, 2018: 5, 2019: 7, 2020: [7, 6, 4]}}\n"
          ],
          "name": "stdout"
        }
      ]
    },
    {
      "cell_type": "code",
      "metadata": {
        "id": "UkPdpUvBmrp0",
        "colab_type": "code",
        "colab": {},
        "outputId": "6d35bfb3-08a2-4538-f109-b3203a0fc5ef"
      },
      "source": [
        " # 딕셔너리 자료형 접근\n",
        "print(tigers['pitcher']) # 키로 접근\n",
        "print(tigers['avg_weight'])\n",
        "print(tigers['rank'])\n",
        "print(tigers['rank'][2020]) # 차례로 인덱싱하면 됨.\n",
        "print(tigers['rank'][2020][1])"
      ],
      "execution_count": 0,
      "outputs": [
        {
          "output_type": "stream",
          "text": [
            "['양현종', '브룩스', '홍건희', '임기영']\n",
            "80.0\n",
            "{2017: 1, 2018: 5, 2019: 7, 2020: [7, 6, 4]}\n",
            "[7, 6, 4]\n",
            "6\n"
          ],
          "name": "stdout"
        }
      ]
    },
    {
      "cell_type": "code",
      "metadata": {
        "id": "Tc1Ew99gmrp2",
        "colab_type": "code",
        "colab": {},
        "outputId": "74967c3f-c238-40a7-9350-5fd3d754a3fe"
      },
      "source": [
        "# 없는 키에 대해 접근할 경우 KeyError\n",
        "print(tigers['audience'])"
      ],
      "execution_count": 0,
      "outputs": [
        {
          "output_type": "error",
          "ename": "KeyError",
          "evalue": "'audience'",
          "traceback": [
            "\u001b[1;31m---------------------------------------------------------------------------\u001b[0m",
            "\u001b[1;31mKeyError\u001b[0m                                  Traceback (most recent call last)",
            "\u001b[1;32m<ipython-input-54-fa6ecfe01102>\u001b[0m in \u001b[0;36m<module>\u001b[1;34m\u001b[0m\n\u001b[0;32m      1\u001b[0m \u001b[1;31m# 없는 키에 대해 접근할 경우 KeyError\u001b[0m\u001b[1;33m\u001b[0m\u001b[1;33m\u001b[0m\u001b[1;33m\u001b[0m\u001b[0m\n\u001b[1;32m----> 2\u001b[1;33m \u001b[0mprint\u001b[0m\u001b[1;33m(\u001b[0m\u001b[0mtigers\u001b[0m\u001b[1;33m[\u001b[0m\u001b[1;34m'audience'\u001b[0m\u001b[1;33m]\u001b[0m\u001b[1;33m)\u001b[0m\u001b[1;33m\u001b[0m\u001b[1;33m\u001b[0m\u001b[0m\n\u001b[0m",
            "\u001b[1;31mKeyError\u001b[0m: 'audience'"
          ]
        }
      ]
    },
    {
      "cell_type": "code",
      "metadata": {
        "id": "lQhkGohDmrp5",
        "colab_type": "code",
        "colab": {},
        "outputId": "58ce3c43-9f26-4ad9-e93a-89312e724c04"
      },
      "source": [
        "# 데이터 추가\n",
        "tigers['revenue'] = 300000\n",
        "pprint(tigers)\n",
        "print(\"\")\n",
        "\n",
        "# 데이터 수정\n",
        "tigers['rank'] = [6, 7, 4]\n",
        "pprint(tigers)"
      ],
      "execution_count": 0,
      "outputs": [
        {
          "output_type": "stream",
          "text": [
            "{'avg_height': 182.03,\n",
            " 'avg_weight': 80.0,\n",
            " 'infielder': ['황대인', '박찬호', '김선빈', '나주환'],\n",
            " 'outfileder': ['터커', '나지완', '최원준', '김호령'],\n",
            " 'owner': '현대기아차',\n",
            " 'pitcher': ['양현종', '브룩스', '홍건희', '임기영'],\n",
            " 'players': 98,\n",
            " 'rank': {2017: 1, 2018: 5, 2019: 7, 2020: [7, 6, 4]},\n",
            " 'revenue': 300000}\n",
            "\n",
            "{'avg_height': 182.03,\n",
            " 'avg_weight': 80.0,\n",
            " 'infielder': ['황대인', '박찬호', '김선빈', '나주환'],\n",
            " 'outfileder': ['터커', '나지완', '최원준', '김호령'],\n",
            " 'owner': '현대기아차',\n",
            " 'pitcher': ['양현종', '브룩스', '홍건희', '임기영'],\n",
            " 'players': 98,\n",
            " 'rank': [6, 7, 4],\n",
            " 'revenue': 300000}\n"
          ],
          "name": "stdout"
        }
      ]
    },
    {
      "cell_type": "code",
      "metadata": {
        "scrolled": true,
        "id": "WGK1PnDfmrp-",
        "colab_type": "code",
        "colab": {},
        "outputId": "7250742b-532c-48da-9cb7-9e11c4c30768"
      },
      "source": [
        "# 딕셔너리 함수\n",
        "print(tigers.keys()) # 접근할 수 있는 키들\n",
        "print(list(tigers.keys()), end='\\n\\n') # 리스트로의 형변환 가능\n",
        "print(list(tigers.values()), end='\\n\\n') # 값들\n",
        "print(list(tigers.items()), end='\\n\\n') # 키와 값의 쌍을 튜플 형태로 반환"
      ],
      "execution_count": 0,
      "outputs": [
        {
          "output_type": "stream",
          "text": [
            "dict_keys(['pitcher', 'infielder', 'outfileder', 'rank', 'owner', 'avg_height', 'avg_weight', 'players', 'revenue'])\n",
            "['pitcher', 'infielder', 'outfileder', 'rank', 'owner', 'avg_height', 'avg_weight', 'players', 'revenue']\n",
            "\n",
            "[['양현종', '브룩스', '홍건희', '임기영'], ['황대인', '박찬호', '김선빈', '나주환'], ['터커', '나지완', '최원준', '김호령'], [6, 7, 4], '현대기아차', 182.03, 80.0, 98, 300000]\n",
            "\n",
            "[('pitcher', ['양현종', '브룩스', '홍건희', '임기영']), ('infielder', ['황대인', '박찬호', '김선빈', '나주환']), ('outfileder', ['터커', '나지완', '최원준', '김호령']), ('rank', [6, 7, 4]), ('owner', '현대기아차'), ('avg_height', 182.03), ('avg_weight', 80.0), ('players', 98), ('revenue', 300000)]\n",
            "\n"
          ],
          "name": "stdout"
        }
      ]
    },
    {
      "cell_type": "code",
      "metadata": {
        "scrolled": true,
        "id": "FtS-YLO9mrqA",
        "colab_type": "code",
        "colab": {},
        "outputId": "fb873ae6-c095-459d-cac1-0bce5ad6d8e7"
      },
      "source": [
        "# get 함수 이용해 값 반환\n",
        "print(tigers.get('avg_height'))\n",
        "print(tigers.get('audience')) # None"
      ],
      "execution_count": 0,
      "outputs": [
        {
          "output_type": "stream",
          "text": [
            "182.03\n",
            "None\n"
          ],
          "name": "stdout"
        }
      ]
    },
    {
      "cell_type": "code",
      "metadata": {
        "id": "v614b6qPmrqD",
        "colab_type": "code",
        "colab": {},
        "outputId": "01cd5e85-430f-435a-ab14-17faab335009"
      },
      "source": [
        "# 값을 가져오는데, 없을 경우 대비해 초기값 설정.\n",
        "tigers_audience = tigers.get('audience', 1000000)\n",
        "print(tigers_audience)"
      ],
      "execution_count": 0,
      "outputs": [
        {
          "output_type": "stream",
          "text": [
            "1000000\n"
          ],
          "name": "stdout"
        }
      ]
    },
    {
      "cell_type": "code",
      "metadata": {
        "id": "QUAGla5SmrqG",
        "colab_type": "code",
        "colab": {},
        "outputId": "e3182ab3-3c76-4d7e-cc16-8904b36eb8f8"
      },
      "source": [
        "# in 연산자 : key 기준으로\n",
        "print('양현종' in tigers) # value 아님.\n",
        "print('pitcher' in tigers) # key 있음.\n",
        "print('audience' in tigers) # 디폴트로 가져올 수는 있지만, 키가 생성되는 것은 아님."
      ],
      "execution_count": 0,
      "outputs": [
        {
          "output_type": "stream",
          "text": [
            "False\n",
            "True\n",
            "False\n"
          ],
          "name": "stdout"
        }
      ]
    },
    {
      "cell_type": "code",
      "metadata": {
        "scrolled": true,
        "id": "weLrPSC0mrqJ",
        "colab_type": "code",
        "colab": {},
        "outputId": "d46e2e2b-69b4-4cb0-f343-f51d147b1b25"
      },
      "source": [
        "# 해당 키에 대한 초기값 설정\n",
        "tigers.setdefault('audience', 30000)\n",
        "pprint(tigers) # 'audience' 키에 대해 디폴트값이 설정된 것을 확인할 수 있음."
      ],
      "execution_count": 0,
      "outputs": [
        {
          "output_type": "stream",
          "text": [
            "{'audience': 30000,\n",
            " 'avg_height': 182.03,\n",
            " 'avg_weight': 80.0,\n",
            " 'infielder': ['황대인', '박찬호', '김선빈', '나주환'],\n",
            " 'outfileder': ['터커', '나지완', '최원준', '김호령'],\n",
            " 'owner': '현대기아차',\n",
            " 'pitcher': ['양현종', '브룩스', '홍건희', '임기영'],\n",
            " 'players': 98,\n",
            " 'rank': [6, 7, 4],\n",
            " 'revenue': 300000}\n"
          ],
          "name": "stdout"
        }
      ]
    },
    {
      "cell_type": "code",
      "metadata": {
        "id": "XOj07srrmrqM",
        "colab_type": "code",
        "colab": {},
        "outputId": "295f81e6-d441-49c5-87b4-6046651b09fb"
      },
      "source": [
        "# 같은 키에 대해 값을 업데이트\n",
        "tigers.update({'pitgher' : '전상현', 'infielder' : '황윤호'})\n",
        "pprint(tigers)"
      ],
      "execution_count": 0,
      "outputs": [
        {
          "output_type": "stream",
          "text": [
            "{'audience': 30000,\n",
            " 'avg_height': 182.03,\n",
            " 'avg_weight': 80.0,\n",
            " 'infielder': '황윤호',\n",
            " 'outfileder': ['터커', '나지완', '최원준', '김호령'],\n",
            " 'owner': '현대기아차',\n",
            " 'pitcher': ['양현종', '브룩스', '홍건희', '임기영'],\n",
            " 'pitgher': '전상현',\n",
            " 'players': 98,\n",
            " 'rank': [6, 7, 4],\n",
            " 'revenue': 300000}\n"
          ],
          "name": "stdout"
        }
      ]
    },
    {
      "cell_type": "code",
      "metadata": {
        "id": "umSJtwNRmrqP",
        "colab_type": "code",
        "colab": {},
        "outputId": "2597a96d-9cc0-4a90-c30c-fe7cf714dd5f"
      },
      "source": [
        "# 키와 키에 해당하는 값 모두 삭제\n",
        "tigers.pop('rank')\n",
        "pprint(tigers)"
      ],
      "execution_count": 0,
      "outputs": [
        {
          "output_type": "stream",
          "text": [
            "{'audience': 30000,\n",
            " 'avg_height': 182.03,\n",
            " 'avg_weight': 80.0,\n",
            " 'infielder': '황윤호',\n",
            " 'outfileder': ['터커', '나지완', '최원준', '김호령'],\n",
            " 'owner': '현대기아차',\n",
            " 'pitcher': ['양현종', '브룩스', '홍건희', '임기영'],\n",
            " 'pitgher': '전상현',\n",
            " 'players': 98,\n",
            " 'revenue': 300000}\n"
          ],
          "name": "stdout"
        }
      ]
    },
    {
      "cell_type": "code",
      "metadata": {
        "id": "lC4R9DzomrqR",
        "colab_type": "code",
        "colab": {},
        "outputId": "b4a6fdd3-29a2-4f7f-dbc8-f709da4dd722"
      },
      "source": [
        "# 딕셔너리 초기화\n",
        "tigers.clear()\n",
        "print(tigers)"
      ],
      "execution_count": 0,
      "outputs": [
        {
          "output_type": "stream",
          "text": [
            "{}\n"
          ],
          "name": "stdout"
        }
      ]
    }
  ]
}