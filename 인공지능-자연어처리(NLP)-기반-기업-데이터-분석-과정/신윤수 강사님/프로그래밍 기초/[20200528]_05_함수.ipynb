{
  "nbformat": 4,
  "nbformat_minor": 0,
  "metadata": {
    "colab": {
      "name": "[20200528] 05.함수.ipynb",
      "provenance": [],
      "collapsed_sections": [
        "wXHyqFIw6TaT"
      ],
      "toc_visible": true,
      "authorship_tag": "ABX9TyM4M1AVtD114EDNc6PBkxn2"
    },
    "kernelspec": {
      "name": "python3",
      "display_name": "Python 3"
    }
  },
  "cells": [
    {
      "cell_type": "markdown",
      "metadata": {
        "id": "wXHyqFIw6TaT",
        "colab_type": "text"
      },
      "source": [
        "# 함수\n",
        "\n",
        " (스샷 1)\n",
        "\n",
        " 특정 기능(들) 혹은 일련의 작업을 반복해서 할 때 사용한다. **재사용성**을 위함이다.\n",
        "\n",
        " 다음과 같이 함수를 정의한 후, 사용한다.\n",
        "\n",
        "```\n",
        "def 함수 이름(인자):\n",
        "    ...\n",
        "    (변수)\n",
        "    (기능)\n",
        "    ...\n",
        "    return (반환값)\n",
        "```\n",
        "\n",
        " \n",
        " "
      ]
    },
    {
      "cell_type": "markdown",
      "metadata": {
        "id": "4IEJvDCN7wia",
        "colab_type": "text"
      },
      "source": [
        "## _1_. 함수 정의"
      ]
    },
    {
      "cell_type": "code",
      "metadata": {
        "id": "i8yYZ_fz6P66",
        "colab_type": "code",
        "colab": {
          "base_uri": "https://localhost:8080/",
          "height": 71
        },
        "outputId": "e7643daa-8da6-4850-9808-f20285f37459"
      },
      "source": [
        "# 두 개의 인자를 받아 더하기를 수행하는 함수 정의\n",
        "def func(a, b):\n",
        "    print(\"두 수를 더합니다.\")\n",
        "    return a+b\n",
        "\n",
        "# 함수 객체\n",
        "print(func)\n",
        "\n",
        "# 함수 실행\n",
        "func_test = func(1, 2)\n",
        "print(func_test)"
      ],
      "execution_count": 3,
      "outputs": [
        {
          "output_type": "stream",
          "text": [
            "<function func at 0x7f3de0a90ea0>\n",
            "두 수를 더합니다.\n",
            "3\n"
          ],
          "name": "stdout"
        }
      ]
    },
    {
      "cell_type": "markdown",
      "metadata": {
        "id": "l8n9V_EJ8KLI",
        "colab_type": "text"
      },
      "source": [
        "* 함수를 정의할 때, 인자, 반환값에 따라 정의하는 방법이 4가지가 있다. 인자가 있거나/없거나, 반환값이 있거나/없거나에 따라 나누어진다.\n",
        "\n"
      ]
    },
    {
      "cell_type": "markdown",
      "metadata": {
        "id": "emuYVF5T8T_3",
        "colab_type": "text"
      },
      "source": [
        "1.  인자 X, 반환값 X\n",
        " \n",
        " 함수를 실행할 때 인자를 넘기지도 않고, 실행 후에도 반환되는 값이 없다.\n",
        "\n",
        " "
      ]
    },
    {
      "cell_type": "code",
      "metadata": {
        "id": "eG62LcTL7ywP",
        "colab_type": "code",
        "colab": {
          "base_uri": "https://localhost:8080/",
          "height": 53
        },
        "outputId": "2d34bcdc-4eea-4aa6-d5e9-b7d6798e4501"
      },
      "source": [
        "def func():\n",
        "    print(\"Hello, World!\")\n",
        "\n",
        "# 함수 실행\n",
        "a = func() # 실행 시 인자를 넘기지 않는다.\n",
        "print(a) # 반환값은 없다."
      ],
      "execution_count": 5,
      "outputs": [
        {
          "output_type": "stream",
          "text": [
            "Hello, World!\n",
            "None\n"
          ],
          "name": "stdout"
        }
      ]
    },
    {
      "cell_type": "markdown",
      "metadata": {
        "colab_type": "text",
        "id": "a5FjkrAZ8rzc"
      },
      "source": [
        " 2. 인자 O, 반환값 X\n",
        " \n",
        " 함수를 실행할 때 인자를 넘긴다. 실행 후 반환되는 값은 없다.\n",
        "\n",
        " "
      ]
    },
    {
      "cell_type": "code",
      "metadata": {
        "id": "v7s33-Ag8jqB",
        "colab_type": "code",
        "colab": {
          "base_uri": "https://localhost:8080/",
          "height": 53
        },
        "outputId": "439a3595-eb73-4a8f-cdc4-010d38a15ebf"
      },
      "source": [
        "def func(name):\n",
        "    print(\"Hello %s\" %name)\n",
        "\n",
        "# 함수 실행\n",
        "b = func(\"아이시스\") # 인자가 있지만,\n",
        "print(b) # 반환값은 없다."
      ],
      "execution_count": 6,
      "outputs": [
        {
          "output_type": "stream",
          "text": [
            "Hello 아이시스\n",
            "None\n"
          ],
          "name": "stdout"
        }
      ]
    },
    {
      "cell_type": "code",
      "metadata": {
        "id": "lYD-GvOw87kv",
        "colab_type": "code",
        "colab": {
          "base_uri": "https://localhost:8080/",
          "height": 35
        },
        "outputId": "c801add0-dd3c-4d11-b47b-464f3d920ac8"
      },
      "source": [
        "# append 함수의 예\n",
        "\n",
        "li = [1, 2, 3, 4]\n",
        "res = li.append(5)\n",
        "print(res)"
      ],
      "execution_count": 8,
      "outputs": [
        {
          "output_type": "stream",
          "text": [
            "None\n"
          ],
          "name": "stdout"
        }
      ]
    },
    {
      "cell_type": "markdown",
      "metadata": {
        "id": "6LTj5k5X9JgP",
        "colab_type": "text"
      },
      "source": [
        " 3. 인자 X, 반환값 O\n",
        " \n",
        " 함수를 실행할 때 인자를 넘기지도 않는다. 반환값은 있다.\n",
        "\n",
        " "
      ]
    },
    {
      "cell_type": "code",
      "metadata": {
        "id": "cCXx7Lgm9M2O",
        "colab_type": "code",
        "colab": {
          "base_uri": "https://localhost:8080/",
          "height": 35
        },
        "outputId": "7a7581ea-0287-4b3d-d0dc-86c88d02cd87"
      },
      "source": [
        "import random\n",
        "\n",
        "def lotto():\n",
        "    return [random.randint(1, 45) for _ in range(6)]\n",
        "\n",
        "# 함수 실행\n",
        "lotto_nums = lotto()\n",
        "print(lotto_nums)"
      ],
      "execution_count": 11,
      "outputs": [
        {
          "output_type": "stream",
          "text": [
            "[42, 8, 29, 16, 18, 31]\n"
          ],
          "name": "stdout"
        }
      ]
    },
    {
      "cell_type": "markdown",
      "metadata": {
        "id": "WoyTufsa9Qym",
        "colab_type": "text"
      },
      "source": [
        " 4. 인자 O, 반환값 O\n",
        " \n",
        " 함수 실행 시 인자를 받아 작동한 뒤, 결과를 반환한다.\n",
        "\n",
        " "
      ]
    },
    {
      "cell_type": "code",
      "metadata": {
        "id": "RcPOn1Is9QhO",
        "colab_type": "code",
        "colab": {
          "base_uri": "https://localhost:8080/",
          "height": 53
        },
        "outputId": "553ed776-b3d0-465d-9cdd-e02c057ee83f"
      },
      "source": [
        "def func(a, b):\n",
        "    print(\"두 수를 더합니다.\")\n",
        "    return a+b\n",
        "\n",
        "# 함수 실행\n",
        "s = func(101, 202)\n",
        "print(s)"
      ],
      "execution_count": 12,
      "outputs": [
        {
          "output_type": "stream",
          "text": [
            "두 수를 더합니다.\n",
            "303\n"
          ],
          "name": "stdout"
        }
      ]
    },
    {
      "cell_type": "markdown",
      "metadata": {
        "id": "gM_yKQlT92VY",
        "colab_type": "text"
      },
      "source": [
        "<연습문제 1>\n",
        "\n",
        " 사칙연산의 결과를 튜플로 반환하는 함수 만들기."
      ]
    },
    {
      "cell_type": "code",
      "metadata": {
        "id": "ShRleit6-AHn",
        "colab_type": "code",
        "colab": {
          "base_uri": "https://localhost:8080/",
          "height": 35
        },
        "outputId": "8ddd6eaf-bccd-435c-bf12-f2128bbdd9dc"
      },
      "source": [
        "def calc(a, b):\n",
        "    return a+b, a-b, a*b, a/b\n",
        "\n",
        "# 함수 실행\n",
        "res = calc(3, 10)\n",
        "print(res)"
      ],
      "execution_count": 14,
      "outputs": [
        {
          "output_type": "stream",
          "text": [
            "(13, -7, 30, 0.3)\n"
          ],
          "name": "stdout"
        }
      ]
    },
    {
      "cell_type": "markdown",
      "metadata": {
        "id": "TzubXmF4-UBn",
        "colab_type": "text"
      },
      "source": [
        "* 함수의 반환값을 다른 함수의 인자로 사용할 수 있다."
      ]
    },
    {
      "cell_type": "code",
      "metadata": {
        "id": "nBJ8yV-Z-Xpu",
        "colab_type": "code",
        "colab": {
          "base_uri": "https://localhost:8080/",
          "height": 35
        },
        "outputId": "ef3871bf-6b5d-4dde-af62-67c9dcb22642"
      },
      "source": [
        "ans = calc(len([1,2,3,4,5,6,7,8,9]), 18)\n",
        "print(ans)"
      ],
      "execution_count": 16,
      "outputs": [
        {
          "output_type": "stream",
          "text": [
            "(27, -9, 162, 0.5)\n"
          ],
          "name": "stdout"
        }
      ]
    },
    {
      "cell_type": "markdown",
      "metadata": {
        "id": "ZYUCjzfr-2yY",
        "colab_type": "text"
      },
      "source": [
        "<연습문제 2>\n",
        "\n",
        " 해당 값을 모두 찾아 위치를 리턴하는 함수 만들기.\n"
      ]
    },
    {
      "cell_type": "code",
      "metadata": {
        "id": "ZpLjgX8j-7a2",
        "colab_type": "code",
        "colab": {
          "base_uri": "https://localhost:8080/",
          "height": 53
        },
        "outputId": "2cfadfe1-5050-4c29-a9ba-9fe044a0ed40"
      },
      "source": [
        "def allindex(lst, x):\n",
        "    return [idx for idx, val in enumerate(lst) if val == x]\n",
        "\n",
        "myList = [random.randint(1, 5) for _ in range(10)]\n",
        "print(myList)\n",
        "print(allindex(myList, 2))"
      ],
      "execution_count": 17,
      "outputs": [
        {
          "output_type": "stream",
          "text": [
            "[1, 1, 4, 3, 5, 1, 5, 3, 2, 4]\n",
            "[8]\n"
          ],
          "name": "stdout"
        }
      ]
    },
    {
      "cell_type": "markdown",
      "metadata": {
        "id": "DKwvKVuZH23h",
        "colab_type": "text"
      },
      "source": [
        "## _2_. 변수\n",
        "\n",
        "(스샷2), (스샷3)\n",
        "\n",
        "**[전역변수(global)]**\n",
        "\n",
        " 함수 **밖**, 전역 이름공간에서 정의된 변수이다. 프로그램 내 어디에서든 사용할 수 있다. *단*, 함수 **안**에서는 전역변수에 새로운 값을 대입할 수 없다. \n",
        "\n",
        "\n",
        "**[지역변수(local)]**\n",
        "\n",
        " 함수 **안**, 지역 이름공간에서 정의된 변수이다. 지역변수는 그 변수가 정의된 함수 안에서만 사용할 수 있다."
      ]
    },
    {
      "cell_type": "markdown",
      "metadata": {
        "id": "5czWAyeDPZwN",
        "colab_type": "text"
      },
      "source": [
        "\n",
        "* 전역 이름공간에서는 지역 이름공간의 변수를 볼 수 없다.\n",
        "    - 지역 이름공간에서 정의된 변수는, 지역을 벗어나면 사용할 수 없다. 함수 안의 변수를 전역에서 호출할 경우, 에러가 난다.\n",
        "* 지역 이름공간에서는 전역변수를 사용할 수 있다.\n",
        "    - 어떤 함수 안에도 정의되지 않은 변수를 함수 안에서 볼 때는, 전역변수를 사용한다.\n",
        "    - 전역 이름공간에서 정의된 것은 지역에서 값을 변경해도 바뀌지 않는다.\n",
        "* 지역 이름공간에서 전역변수를 사용하겠다고 선언할 수 있다.\n",
        "    - `global (변수명)`과 같이 선언한다.\n",
        "    - 값을 보는 것 뿐만 아니라, 변경도 가능하다.\n",
        "    - 권장하지는 않는 방법이다."
      ]
    },
    {
      "cell_type": "code",
      "metadata": {
        "id": "Y5DQwE71ISi9",
        "colab_type": "code",
        "colab": {
          "base_uri": "https://localhost:8080/",
          "height": 53
        },
        "outputId": "dede593e-62f6-4bec-af32-4e49c596b699"
      },
      "source": [
        "# 전역변수\n",
        "a, b, c = 3, 4, 5 # 전역변수\n",
        "\n",
        "def func():\n",
        "    # 지역변수 a, b\n",
        "    a = 1\n",
        "    b = 2\n",
        "\n",
        "    print(a, b, c)\n",
        "    return\n",
        "\n",
        "func() # c는 정의되지 않았으므로, 전역변수 사용.\n",
        "\n",
        "\n",
        "print(a, b) # 전역에서 a, b를 사용하면 a, b는 처음 정의된 값."
      ],
      "execution_count": 19,
      "outputs": [
        {
          "output_type": "stream",
          "text": [
            "1 2 5\n",
            "3 4\n"
          ],
          "name": "stdout"
        }
      ]
    },
    {
      "cell_type": "markdown",
      "metadata": {
        "id": "5R0z0qUeJ_QQ",
        "colab_type": "text"
      },
      "source": [
        "**[예시]**\n",
        "\n",
        "* `func_2` 실행 : `func_1` 호출\n",
        "* `func_1` 실행\n",
        "    - `a`, `b` 출력 : 지역변수\n",
        "    - `c` : 지역에 없으므로, 전역으로 올라가 출력.\n",
        "* `func_2` 복귀 후 `a`, `b` 출력 : 지역변수.\n",
        "* 전역변수 a, b, c 출력."
      ]
    },
    {
      "cell_type": "code",
      "metadata": {
        "id": "2O0hF7q7JRup",
        "colab_type": "code",
        "colab": {
          "base_uri": "https://localhost:8080/",
          "height": 71
        },
        "outputId": "7ededf4e-1507-43d3-df24-6f3eb4c1bb0f"
      },
      "source": [
        "# 전역변수\n",
        "a, b, c = 3, 4, 5 \n",
        "\n",
        "def func_1():\n",
        "    # 지역변수 a, b\n",
        "    a, b = 1, 2\n",
        "    print(a, b, c)\n",
        "    return\n",
        "\n",
        "def func_2():\n",
        "    a, b = 5, 6\n",
        "    func_1() # func_1 호출\n",
        "    print(a, b)\n",
        "    return\n",
        "\n",
        "# func_2 실행 : func_1func_2 내의 지역변수 a, b가 출력.\n",
        "func_2()\n",
        "\n",
        "# 전역변수 a, b 출력\n",
        "print(a, b) "
      ],
      "execution_count": 20,
      "outputs": [
        {
          "output_type": "stream",
          "text": [
            "1 2 5\n",
            "5 6\n",
            "3 4\n"
          ],
          "name": "stdout"
        }
      ]
    },
    {
      "cell_type": "markdown",
      "metadata": {
        "id": "qMZaXUw5KfRU",
        "colab_type": "text"
      },
      "source": [
        "### 변수의 유효 범위"
      ]
    },
    {
      "cell_type": "code",
      "metadata": {
        "id": "adljaonMKjCk",
        "colab_type": "code",
        "colab": {
          "base_uri": "https://localhost:8080/",
          "height": 125
        },
        "outputId": "693dc748-3cab-4a20-aea7-efa638c49516"
      },
      "source": [
        "a = 5 # 전역변수\n",
        "\n",
        "def func1():\n",
        "    a = 1\n",
        "    print(\"func1의 지역변수 사용\", a) \n",
        "\n",
        "func1() # 출력값 1\n",
        "print(\"전역\", a) # 출력값 5\n",
        "\n",
        "def func2():\n",
        "    print(\"func2에서 전역변수 사용\", a) \n",
        "\n",
        "func2() # 출력값 5\n",
        "\n",
        "def func3():\n",
        "    global a\n",
        "    print(\"전역변수 사용 선언 후\", a)\n",
        "    a = 3\n",
        "    print(\"전역변수 변경 후\", a)\n",
        "\n",
        "func3() # 출력값 5, 3\n",
        "print(\"전역\", a) # 출력값 3 : 함수 내에서 전역변수가 변경됨."
      ],
      "execution_count": 22,
      "outputs": [
        {
          "output_type": "stream",
          "text": [
            "func1의 지역변수 사용 1\n",
            "전역 5\n",
            "func2에서 전역변수 사용 5\n",
            "전역변수 사용 선언 후 5\n",
            "전역변수 변경 후 3\n",
            "전역 3\n"
          ],
          "name": "stdout"
        }
      ]
    },
    {
      "cell_type": "markdown",
      "metadata": {
        "id": "mVyTSuYGMFlM",
        "colab_type": "text"
      },
      "source": [
        "**[참고]** `*`를 이용한 언패킹\n",
        "\n",
        "컨테이너 타입의 데이터를 Unpacking 할 때 asterisk를 사용한다."
      ]
    },
    {
      "cell_type": "code",
      "metadata": {
        "id": "xQMRTzCYM6J8",
        "colab_type": "code",
        "colab": {
          "base_uri": "https://localhost:8080/",
          "height": 35
        },
        "outputId": "bbc32862-8995-462b-d43f-465f74dc4c9e"
      },
      "source": [
        "# 사용 예\n",
        "print(*[0, 1, 2, 3, 4, 5])"
      ],
      "execution_count": 25,
      "outputs": [
        {
          "output_type": "stream",
          "text": [
            "0 1 2 3 4 5\n"
          ],
          "name": "stdout"
        }
      ]
    },
    {
      "cell_type": "code",
      "metadata": {
        "id": "3t6p138KMAkI",
        "colab_type": "code",
        "colab": {
          "base_uri": "https://localhost:8080/",
          "height": 35
        },
        "outputId": "566d64b6-fb72-41ef-9105-7e11d07846de"
      },
      "source": [
        "def func(a, b, c):\n",
        "    return a+b+c\n",
        "\n",
        "# 언패킹\n",
        "lst = list(range(4, 7))\n",
        "func(*lst)"
      ],
      "execution_count": 26,
      "outputs": [
        {
          "output_type": "execute_result",
          "data": {
            "text/plain": [
              "15"
            ]
          },
          "metadata": {
            "tags": []
          },
          "execution_count": 26
        }
      ]
    },
    {
      "cell_type": "markdown",
      "metadata": {
        "id": "8J69EYIjage_",
        "colab_type": "text"
      },
      "source": [
        "## _3_. 인자"
      ]
    },
    {
      "cell_type": "markdown",
      "metadata": {
        "id": "uyV53K-MNEZL",
        "colab_type": "text"
      },
      "source": [
        "### 가변 인자\n",
        "\n",
        " 함수를 정의할 때, 인자의 길이를 제한하지 않는다. 정해지지 않은 길이의 인자들을 튜플로 받는다. 이후 언패킹을 통해 인자들을 함수에 넘긴다."
      ]
    },
    {
      "cell_type": "code",
      "metadata": {
        "id": "zTxT3AppNRff",
        "colab_type": "code",
        "colab": {
          "base_uri": "https://localhost:8080/",
          "height": 341
        },
        "outputId": "07332134-4b42-402a-dd83-2c28d0c5f091"
      },
      "source": [
        "def func2(*args):\n",
        "    print(type(args)) # args의 데이터 타입 확인\n",
        "    print(\"args 확인\")\n",
        "\n",
        "    for arg in args:\n",
        "        print(arg)\n",
        "    \n",
        "    return sum(args)\n",
        "\n",
        "func2(1, 2, 3, 4)\n",
        "print(\"=\" * 10)\n",
        "func2(6, 7, 8, 9, 10, 11, 12, 13) # 인자의 길이가 변해도 상관 없다."
      ],
      "execution_count": 28,
      "outputs": [
        {
          "output_type": "stream",
          "text": [
            "<class 'tuple'>\n",
            "args 확인\n",
            "1\n",
            "2\n",
            "3\n",
            "4\n",
            "==========\n",
            "<class 'tuple'>\n",
            "args 확인\n",
            "6\n",
            "7\n",
            "8\n",
            "9\n",
            "10\n",
            "11\n",
            "12\n",
            "13\n"
          ],
          "name": "stdout"
        },
        {
          "output_type": "execute_result",
          "data": {
            "text/plain": [
              "76"
            ]
          },
          "metadata": {
            "tags": []
          },
          "execution_count": 28
        }
      ]
    },
    {
      "cell_type": "code",
      "metadata": {
        "id": "Ep-HNRc5Pd9T",
        "colab_type": "code",
        "colab": {
          "base_uri": "https://localhost:8080/",
          "height": 89
        },
        "outputId": "89e1bb50-6fba-4b12-b299-0efc98d31b4b"
      },
      "source": [
        "def func3(*args):\n",
        "    print(f\"args : {args}\")\n",
        "    print(f\"args의 길이 : {len(args)}\")\n",
        "\n",
        "# unpacking하지 않으면\n",
        "func3([1, 2, 3])\n",
        "\n",
        "# unpacking하면\n",
        "func3(*[1, 2, 3])"
      ],
      "execution_count": 29,
      "outputs": [
        {
          "output_type": "stream",
          "text": [
            "args : ([1, 2, 3],)\n",
            "args의 길이 : 1\n",
            "args : (1, 2, 3)\n",
            "args의 길이 : 3\n"
          ],
          "name": "stdout"
        }
      ]
    },
    {
      "cell_type": "markdown",
      "metadata": {
        "id": "Y_y2qrfGP38d",
        "colab_type": "text"
      },
      "source": [
        "고정 길이 인자와 가변 길이 인자를 함께 사용할 수 있다."
      ]
    },
    {
      "cell_type": "code",
      "metadata": {
        "id": "kXuLGPzNP1on",
        "colab_type": "code",
        "colab": {
          "base_uri": "https://localhost:8080/",
          "height": 53
        },
        "outputId": "5a1ab830-5d84-43b3-cb92-9361a2ce885e"
      },
      "source": [
        "def calc(oper, *args):\n",
        "    if oper == '+':\n",
        "        return sum(args)\n",
        "    elif oper == 'max':\n",
        "        return max(args)\n",
        "\n",
        "print(calc('+', 1, 2, 3, 4, 5))\n",
        "print(calc('max', [19, 1, 6, 88, 732, 6]))"
      ],
      "execution_count": 32,
      "outputs": [
        {
          "output_type": "stream",
          "text": [
            "15\n",
            "[19, 1, 6, 88, 732, 6]\n"
          ],
          "name": "stdout"
        }
      ]
    },
    {
      "cell_type": "markdown",
      "metadata": {
        "id": "ysWZ9GzVQdAm",
        "colab_type": "text"
      },
      "source": [
        "### 키워드 인자\n",
        "\n",
        " 딕셔너리 언패킹을 이용해 키워드 인자를 전달할 수 있다. 인자의 순서에 영향을 받지 않으며, **key, value**를 이용해 값을 전달할 수 있다."
      ]
    },
    {
      "cell_type": "code",
      "metadata": {
        "id": "rIjTSz7KQ3-8",
        "colab_type": "code",
        "colab": {
          "base_uri": "https://localhost:8080/",
          "height": 197
        },
        "outputId": "887307a3-3a44-4f30-ce21-d97e61641cef"
      },
      "source": [
        "def func4(name, email, phone, address):\n",
        "    print(\"이름: \", name)\n",
        "    print(\"이메일: \", email)\n",
        "    print(\"전화번호: \", phone)\n",
        "    print(\"주소: \", address)\n",
        "    return {'name' : name, 'email' : email, 'phoneNumber' : phone, 'address' : address}\n",
        "\n",
        "# 인자 전달 순서를 맞춰야 하면,\n",
        "print(func4(\"이레이저\", 'sir950123@gmail.com', '010-4743-6879', '영종도'))\n",
        "\n",
        "# 인자 전달 순서를 맞추지 않고, key로 전달.\n",
        "print(func4(address='영종도',\n",
        "            phone='010-4743-6879',\n",
        "            email='sir950123@gmail.com',\n",
        "            name='이레이저'))"
      ],
      "execution_count": 37,
      "outputs": [
        {
          "output_type": "stream",
          "text": [
            "이름:  이레이저\n",
            "이메일:  sir950123@gmail.com\n",
            "전화번호:  010-4743-6879\n",
            "주소:  영종도\n",
            "{'name': '이레이저', 'email': 'sir950123@gmail.com', 'phoneNumber': '010-4743-6879', 'address': '영종도'}\n",
            "이름:  이레이저\n",
            "이메일:  sir950123@gmail.com\n",
            "전화번호:  010-4743-6879\n",
            "주소:  영종도\n",
            "{'name': '이레이저', 'email': 'sir950123@gmail.com', 'phoneNumber': '010-4743-6879', 'address': '영종도'}\n"
          ],
          "name": "stdout"
        }
      ]
    },
    {
      "cell_type": "markdown",
      "metadata": {
        "id": "pzPwsjTYWY2L",
        "colab_type": "text"
      },
      "source": [
        " 키워드 인자와 위치 인자를 함께 사용할 수 있다. 다만, 키워드 인자는 위치 인자보다 항상 뒤에 나와야 한다."
      ]
    },
    {
      "cell_type": "code",
      "metadata": {
        "id": "WVZdg6MkQ38i",
        "colab_type": "code",
        "colab": {
          "base_uri": "https://localhost:8080/",
          "height": 136
        },
        "outputId": "46308d1b-41b1-4c43-dd83-14c359742486"
      },
      "source": [
        "# 에러 확인\n",
        "func4(email=\"sir950123@gmail.com\", '이레이저')"
      ],
      "execution_count": 38,
      "outputs": [
        {
          "output_type": "error",
          "ename": "SyntaxError",
          "evalue": "ignored",
          "traceback": [
            "\u001b[0;36m  File \u001b[0;32m\"<ipython-input-38-529c093ade0f>\"\u001b[0;36m, line \u001b[0;32m2\u001b[0m\n\u001b[0;31m    func4(email=\"sir950123@gmail.com\", '이레이저')\u001b[0m\n\u001b[0m                                      ^\u001b[0m\n\u001b[0;31mSyntaxError\u001b[0m\u001b[0;31m:\u001b[0m positional argument follows keyword argument\n"
          ]
        }
      ]
    },
    {
      "cell_type": "code",
      "metadata": {
        "id": "ND5UfW0wQ36X",
        "colab_type": "code",
        "colab": {
          "base_uri": "https://localhost:8080/",
          "height": 107
        },
        "outputId": "e86d147d-e3bc-4beb-c900-552f05670e67"
      },
      "source": [
        "# 오류 수정\n",
        "print(func4('이레이저', phone='010-4743-6879', address='영종도', email='sir950123@gmail.com'))"
      ],
      "execution_count": 48,
      "outputs": [
        {
          "output_type": "stream",
          "text": [
            "이름:  이레이저\n",
            "이메일:  sir950123@gmail.com\n",
            "전화번호:  010-4743-6879\n",
            "주소:  영종도\n",
            "{'name': '이레이저', 'email': 'sir950123@gmail.com', 'phoneNumber': '010-4743-6879', 'address': '영종도'}\n"
          ],
          "name": "stdout"
        }
      ]
    },
    {
      "cell_type": "markdown",
      "metadata": {
        "id": "SKqKH2eNXjLr",
        "colab_type": "text"
      },
      "source": [
        " 딕셔너리 언패킹 형태로 키워드 인자를 전달할 수 있다. 키 값의 데이터와 전달된 밸류 값의 데이터를 매핑한다."
      ]
    },
    {
      "cell_type": "code",
      "metadata": {
        "id": "OFHl9amJXp4T",
        "colab_type": "code",
        "colab": {
          "base_uri": "https://localhost:8080/",
          "height": 89
        },
        "outputId": "edeaf4fe-1242-47fb-f81a-9afc0ea7f79b"
      },
      "source": [
        "my_profile = {'name' : '이레이저', 'phone' : '010-4743-6879', 'address' : '영종도', 'email' : 'sir950123@gmail.com'}\n",
        "\n",
        "def profile(name, email, phone, address):\n",
        "    return {'name' : name, 'email' : email, 'phoneNumber' : phone, 'address' : address}\n",
        "\n",
        "profile(**my_profile)\n",
        "\n",
        "# 다른 인자 넣어도 되지만, 함수 내에 처리 안 되어 있다."
      ],
      "execution_count": 44,
      "outputs": [
        {
          "output_type": "execute_result",
          "data": {
            "text/plain": [
              "{'address': '영종도',\n",
              " 'email': 'sir950123@gmail.com',\n",
              " 'name': '이레이저',\n",
              " 'phoneNumber': '010-4743-6879'}"
            ]
          },
          "metadata": {
            "tags": []
          },
          "execution_count": 44
        }
      ]
    },
    {
      "cell_type": "markdown",
      "metadata": {
        "id": "YRSdHtZXYs3Y",
        "colab_type": "text"
      },
      "source": [
        "가변 키워드 인자를 이용할 수 있다."
      ]
    },
    {
      "cell_type": "code",
      "metadata": {
        "id": "ZNjwQb6kYkya",
        "colab_type": "code",
        "colab": {
          "base_uri": "https://localhost:8080/",
          "height": 125
        },
        "outputId": "7b116554-e897-4a9c-ec70-08c5aa3f9846"
      },
      "source": [
        "def func5(**kwargs):\n",
        "    print(type(kwargs))\n",
        "    print(\"kwargs 확인\")\n",
        "\n",
        "    print(\"이름: \",kwargs['name'])\n",
        "    print(\"이메일: \", kwargs['email'])\n",
        "    print(\"전화번호: \", kwargs['phone'])\n",
        "    print(\"주소: \", kwargs['address'])\n",
        "    return\n",
        "\n",
        "# 키워드 언패킹을 이용한 가변인자 전달\n",
        "func5(**my_profile)"
      ],
      "execution_count": 46,
      "outputs": [
        {
          "output_type": "stream",
          "text": [
            "<class 'dict'>\n",
            "kwargs 확인\n",
            "이름:  이레이저\n",
            "이메일:  sir950123@gmail.com\n",
            "전화번호:  010-4743-6879\n",
            "주소:  영종도\n"
          ],
          "name": "stdout"
        }
      ]
    },
    {
      "cell_type": "code",
      "metadata": {
        "id": "ZcOABhVXZY74",
        "colab_type": "code",
        "colab": {
          "base_uri": "https://localhost:8080/",
          "height": 125
        },
        "outputId": "4774db77-5e43-42b2-90d8-1c5a3086925f"
      },
      "source": [
        "# 다른 인자 넣어도 되지만, 함수 내에 처리 안 되어 있다.\n",
        "func5(name='이레이저', phone='010-4743-6879', address='영종도', email='sir950123@gmail.com', fruit='strawberry')"
      ],
      "execution_count": 51,
      "outputs": [
        {
          "output_type": "stream",
          "text": [
            "<class 'dict'>\n",
            "kwargs 확인\n",
            "이름:  이레이저\n",
            "이메일:  sir950123@gmail.com\n",
            "전화번호:  010-4743-6879\n",
            "주소:  영종도\n"
          ],
          "name": "stdout"
        }
      ]
    },
    {
      "cell_type": "markdown",
      "metadata": {
        "id": "U30n3bEOW_J7",
        "colab_type": "text"
      },
      "source": [
        " 인자가 입력되지 않을 경우를 대비해 기본값을 지정할 수 있다."
      ]
    },
    {
      "cell_type": "code",
      "metadata": {
        "id": "FgRsRdziQ32k",
        "colab_type": "code",
        "colab": {
          "base_uri": "https://localhost:8080/",
          "height": 125
        },
        "outputId": "4b04dbc3-f0c6-4181-8043-c25768f9fbe7"
      },
      "source": [
        "def func6(**kwargs):\n",
        "    print(type(kwargs))\n",
        "    print(\"kwargs 확인\")\n",
        "\n",
        "    print(\"이름: \", kwargs.get('name', '이름이 입력되지 않았습니다.'))\n",
        "    print(\"이메일: \", kwargs.get('email', '이메일이 입력되지 않았습니다.'))\n",
        "    print(\"전화번호: \", kwargs.get('phone', '전화번호가 입력되지 않았습니다.'))\n",
        "    print(\"주소: \", kwargs.get('address', '주소가 입력되지 않았습니다.'))\n",
        "    return\n",
        "\n",
        "func6()"
      ],
      "execution_count": 52,
      "outputs": [
        {
          "output_type": "stream",
          "text": [
            "<class 'dict'>\n",
            "kwargs 확인\n",
            "이름:  이름이 입력되지 않았습니다.\n",
            "이메일:  이메일이 입력되지 않았습니다.\n",
            "전화번호:  전화번호가 입력되지 않았습니다.\n",
            "주소:  주소가 입력되지 않았습니다.\n"
          ],
          "name": "stdout"
        }
      ]
    },
    {
      "cell_type": "markdown",
      "metadata": {
        "id": "mPo9Gy2OallU",
        "colab_type": "text"
      },
      "source": [
        "## _4_. 매개변수 초기값"
      ]
    },
    {
      "cell_type": "markdown",
      "metadata": {
        "id": "4nD1PuM2b6tr",
        "colab_type": "text"
      },
      "source": [
        " 함수에 초기값을 설정할 수 있다."
      ]
    },
    {
      "cell_type": "code",
      "metadata": {
        "id": "YzMh5Nqcauih",
        "colab_type": "code",
        "colab": {
          "base_uri": "https://localhost:8080/",
          "height": 71
        },
        "outputId": "b4aafac6-da13-4843-bdde-e86aeeca487a"
      },
      "source": [
        "# print 함수 예시 : end 옵션 기본값 '\\n'\n",
        "print(\"안녕하세요.\")\n",
        "print(\"반갑습니다.\")\n",
        "\n",
        "# end 옵션 재정의\n",
        "print(\"안녕하세요?\", end=' ')\n",
        "print(\"반갑습니다!\")"
      ],
      "execution_count": 54,
      "outputs": [
        {
          "output_type": "stream",
          "text": [
            "안녕하세요.\n",
            "반갑습니다.\n",
            "안녕하세요? 반갑습니다!\n"
          ],
          "name": "stdout"
        }
      ]
    },
    {
      "cell_type": "code",
      "metadata": {
        "id": "NQqLppzCau2a",
        "colab_type": "code",
        "colab": {
          "base_uri": "https://localhost:8080/",
          "height": 179
        },
        "outputId": "0d5aedfd-0f84-42fa-eda8-d52b40c0a316"
      },
      "source": [
        "# 기본값을 사용한 함수 정의\n",
        "def func7(name, email, age=30, address='대한민국'):\n",
        "    print(\"이름: \", name)\n",
        "    print(\"이메일: \", email)\n",
        "    print(\"나이: \", age)\n",
        "    print(\"주소: \", address)\n",
        "    return\n",
        "\n",
        "func7('루비', 'ruby@gmail.com', age=7, address='인천')\n",
        "print(\"-----------\")\n",
        "func7('이레이저', 'sir950123@gmail.com') # 초기값으로 설정된 나이, 주소 출력."
      ],
      "execution_count": 56,
      "outputs": [
        {
          "output_type": "stream",
          "text": [
            "이름:  루비\n",
            "이메일:  ruby@gmail.com\n",
            "나이:  7\n",
            "주소:  인천\n",
            "-----------\n",
            "이름:  이레이저\n",
            "이메일:  sir950123@gmail.com\n",
            "나이:  30\n",
            "주소:  대한민국\n"
          ],
          "name": "stdout"
        }
      ]
    },
    {
      "cell_type": "markdown",
      "metadata": {
        "id": "gkZwzK81b8jT",
        "colab_type": "text"
      },
      "source": [
        " 초기값은 반드시 뒤(오른쪽)에서부터 설정한다. 컴퓨터가 인자를 어디에 할당해야 할지 헷갈려 한다."
      ]
    },
    {
      "cell_type": "code",
      "metadata": {
        "id": "WWOVQNVkb_VA",
        "colab_type": "code",
        "colab": {
          "base_uri": "https://localhost:8080/",
          "height": 136
        },
        "outputId": "4754eaac-3c39-4367-9ba7-7dffa3004895"
      },
      "source": [
        "# 오류 확인\n",
        "def func7(name='루비', email, age, address='대한민국'):\n",
        "    print(\"이름: \", name)\n",
        "    print(\"이메일: \", email)\n",
        "    print(\"나이: \", age)\n",
        "    print(\"주소: \", address)\n",
        "    return"
      ],
      "execution_count": 57,
      "outputs": [
        {
          "output_type": "error",
          "ename": "SyntaxError",
          "evalue": "ignored",
          "traceback": [
            "\u001b[0;36m  File \u001b[0;32m\"<ipython-input-57-f1cbe552c1a5>\"\u001b[0;36m, line \u001b[0;32m2\u001b[0m\n\u001b[0;31m    def func7(name='루비', email, age, address='대한민국'):\u001b[0m\n\u001b[0m             ^\u001b[0m\n\u001b[0;31mSyntaxError\u001b[0m\u001b[0;31m:\u001b[0m non-default argument follows default argument\n"
          ]
        }
      ]
    },
    {
      "cell_type": "markdown",
      "metadata": {
        "id": "AoNBBmNZcQpu",
        "colab_type": "text"
      },
      "source": [
        "# 모두 다 이용해 보자!\n",
        "\n",
        " 대부분의 패키지, 모듈에 있는 함수가 이런 식으로 함수 기능을 다 사용해서 설계된다."
      ]
    },
    {
      "cell_type": "code",
      "metadata": {
        "id": "1zb3eJ7ccXEx",
        "colab_type": "code",
        "colab": {}
      },
      "source": [
        "def test_func(name, email, addr=None, age=20, *args, **kwargs):\n",
        "    print(f\"이름 : {name}\")\n",
        "    print(f\"이메일 : {email}\")\n",
        "    print(f\"나이 : {age}\")\n",
        "\n",
        "    if addr is None: # 입력되지 않은 경우\n",
        "        addr = '대한민국'\n",
        "    print(f'주소 : {addr}')\n",
        "\n",
        "    print('-' * 10, 'args 시작')\n",
        "    for arg in args:\n",
        "        print(arg)\n",
        "    \n",
        "    print('-' * 10, 'kwargs 시작')\n",
        "    for k in kwargs:\n",
        "        print(f\"{k} : {kwargs[k]}\")"
      ],
      "execution_count": 0,
      "outputs": []
    },
    {
      "cell_type": "code",
      "metadata": {
        "id": "_a2RzfricXC7",
        "colab_type": "code",
        "colab": {
          "base_uri": "https://localhost:8080/",
          "height": 233
        },
        "outputId": "b359121a-7a18-4937-8d0c-d166dde93b04"
      },
      "source": [
        "test_func('이레이저',\n",
        "            'sir950123@gmail.com',\n",
        "            '영종도',\n",
        "            27,\n",
        "            1, 2, 3,\n",
        "            is_Korean=True, birth='0123', favorite_baseball='KiaTigers')"
      ],
      "execution_count": 75,
      "outputs": [
        {
          "output_type": "stream",
          "text": [
            "이름 : 이레이저\n",
            "이메일 : sir950123@gmail.com\n",
            "나이 : 27\n",
            "주소 : 영종도\n",
            "---------- args 시작\n",
            "1\n",
            "2\n",
            "3\n",
            "---------- kwargs 시작\n",
            "is_Korean : True\n",
            "birth : 0123\n",
            "favorite_baseball : KiaTigers\n"
          ],
          "name": "stdout"
        }
      ]
    },
    {
      "cell_type": "code",
      "metadata": {
        "id": "4yfCCxK7eXLZ",
        "colab_type": "code",
        "colab": {
          "base_uri": "https://localhost:8080/",
          "height": 179
        },
        "outputId": "7abc4854-86e4-4949-9b4f-3894963e0e1c"
      },
      "source": [
        "# kargs 없이 전달\n",
        "\n",
        "test_func('이레이저',\n",
        "            'sir950123@gmail.com',\n",
        "            '영종도', # 주소\n",
        "            is_Korean=True, birth='0123', favorite_baseball='KiaTigers')"
      ],
      "execution_count": 76,
      "outputs": [
        {
          "output_type": "stream",
          "text": [
            "이름 : 이레이저\n",
            "이메일 : sir950123@gmail.com\n",
            "나이 : 20\n",
            "주소 : 영종도\n",
            "---------- args 시작\n",
            "---------- kwargs 시작\n",
            "is_Korean : True\n",
            "birth : 0123\n",
            "favorite_baseball : KiaTigers\n"
          ],
          "name": "stdout"
        }
      ]
    },
    {
      "cell_type": "markdown",
      "metadata": {
        "id": "mFGzxE02ekUn",
        "colab_type": "text"
      },
      "source": [
        "위치 인자는 반드시 순서 맞춰서 전달해야 한다."
      ]
    },
    {
      "cell_type": "code",
      "metadata": {
        "id": "VBcc7ubAehQQ",
        "colab_type": "code",
        "colab": {
          "base_uri": "https://localhost:8080/",
          "height": 197
        },
        "outputId": "9ac5f2f3-8087-4dd2-b22a-a6257352ca7b"
      },
      "source": [
        "# kargs 없이 전달\n",
        "\n",
        "print(test_func('이레이저',\n",
        "                'sir950123@gmail.com',\n",
        "                27, # 주소로 들어감.\n",
        "                is_Korean=True, birth='0123', favorite_baseball='KiaTigers'\n",
        "                ))"
      ],
      "execution_count": 68,
      "outputs": [
        {
          "output_type": "stream",
          "text": [
            "이름 : 이레이저\n",
            "이메일 : sir950123@gmail.com\n",
            "나이 : 20\n",
            "주소 : 27\n",
            "---------- args 시작\n",
            "---------- kwargs 시작\n",
            "k : True\n",
            "k : 0123\n",
            "k : KiaTigers\n",
            "None\n"
          ],
          "name": "stdout"
        }
      ]
    }
  ]
}