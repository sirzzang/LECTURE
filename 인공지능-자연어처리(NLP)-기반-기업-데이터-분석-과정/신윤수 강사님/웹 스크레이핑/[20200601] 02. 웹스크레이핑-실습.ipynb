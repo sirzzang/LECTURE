{
 "cells": [
  {
   "cell_type": "code",
   "execution_count": 1,
   "metadata": {},
   "outputs": [],
   "source": [
    "# module import\n",
    "\n",
    "import requests\n",
    "from bs4 import BeautifulSoup"
   ]
  },
  {
   "cell_type": "markdown",
   "metadata": {},
   "source": [
    "<연습문제 1>\n",
    "\n",
    " 키워드로 뉴스 리스트 가져오자.\n"
   ]
  },
  {
   "cell_type": "code",
   "execution_count": 2,
   "metadata": {},
   "outputs": [
    {
     "data": {
      "text/plain": [
       "<Response [200]>"
      ]
     },
     "execution_count": 2,
     "metadata": {},
     "output_type": "execute_result"
    }
   ],
   "source": [
    "url = 'https://search.naver.com/search.naver?where=news&query=kia'\n",
    "response = requests.get(url)\n",
    "response"
   ]
  },
  {
   "cell_type": "code",
   "execution_count": 4,
   "metadata": {},
   "outputs": [],
   "source": [
    "soup = BeautifulSoup(response.text)"
   ]
  },
  {
   "cell_type": "code",
   "execution_count": 21,
   "metadata": {
    "scrolled": true
   },
   "outputs": [
    {
     "name": "stdout",
     "output_type": "stream",
     "text": [
      "KIA, LG 꺾고 3연패 탈출 http://isplus.live.joins.com/news/article/aid.asp?aid=23384214\n",
      "'20안타 폭발' LG, KIA에 대승...6연속 위닝시리즈 http://starin.edaily.co.kr/news/newspath.asp?newsid=02302566625774496\n",
      "KIA 맷 윌리엄스의 지시 http://www.newsis.com/view/?id=NISI20200531_0016364398\n",
      "'3연속 QS' 이민우, KIA 新 오른손 투수로 '탄탄대로' http://www.sportsseoul.com/news/read/922018?ref=naver\n",
      "KIA, 마운드 난조로 무너졌다 https://jnilbo.com/?p=913146\n",
      "KIA, LG전 5-13 대패 '루징시리즈' http://www.honam.co.kr/detail/Gnhc66/604380\n",
      "KIA 마운드, 장단 20안타 맞고 ‘와르르’ http://www.kjdaily.com/read.php3?aid=1590920619512459007\n",
      "LG·KIA, 위닝시리즈를 놓고 맞대결 http://yna.kr/PYH20200531065100054?did=1196m\n",
      "방망이에 다리 맞은 KIA 박진태 http://www.newsis.com/view/?id=NISI20200531_0016364387\n",
      "패배 KIA 타이거즈 http://www.newsis.com/view/?id=NISI20200531_0016364430\n"
     ]
    }
   ],
   "source": [
    "lis = soup.find('ul', {'class' : 'type01'}).find_all('li')\n",
    "anchors = [li.find('a', {'class' : '_sp_each_title'}) for li in lis]\n",
    "\n",
    "for a in anchors:\n",
    "    if a is not None:\n",
    "        title, link = a['title'], a['href']\n",
    "        print(title, link)"
   ]
  },
  {
   "cell_type": "markdown",
   "metadata": {},
   "source": [
    "**[강사님 정답]**\n",
    "\n",
    "* li 안에 li를 찾아와서 문제가 된다. recursive 옵션 줘서 제일 위의 li만 찾아오게 할 수도 있다."
   ]
  },
  {
   "cell_type": "code",
   "execution_count": 22,
   "metadata": {},
   "outputs": [
    {
     "data": {
      "text/plain": [
       "10"
      ]
     },
     "execution_count": 22,
     "metadata": {},
     "output_type": "execute_result"
    }
   ],
   "source": [
    "news_wrap = soup.find('ul', class_ = 'type01')\n",
    "news_list_items = news_wrap.find_all('li', recursive=False)\n",
    "len(news_list_items)"
   ]
  },
  {
   "cell_type": "code",
   "execution_count": 24,
   "metadata": {},
   "outputs": [
    {
     "name": "stdout",
     "output_type": "stream",
     "text": [
      "[{'title': 'KIA, LG 꺾고 3연패 탈출', 'url': 'http://isplus.live.joins.com/news/article/aid.asp?aid=23384214'}, {'title': \"'20안타 폭발' LG, KIA에 대승...6연속 위닝시리즈\", 'url': 'http://starin.edaily.co.kr/news/newspath.asp?newsid=02302566625774496'}, {'title': 'KIA 맷 윌리엄스의 지시', 'url': 'http://www.newsis.com/view/?id=NISI20200531_0016364398'}, {'title': \"'3연속 QS' 이민우, KIA 新 오른손 투수로 '탄탄대로'\", 'url': 'http://www.sportsseoul.com/news/read/922018?ref=naver'}, {'title': 'KIA, 마운드 난조로 무너졌다', 'url': 'https://jnilbo.com/?p=913146'}, {'title': \"KIA, LG전 5-13 대패 '루징시리즈'\", 'url': 'http://www.honam.co.kr/detail/Gnhc66/604380'}, {'title': 'KIA 마운드, 장단 20안타 맞고 ‘와르르’', 'url': 'http://www.kjdaily.com/read.php3?aid=1590920619512459007'}, {'title': 'LG·KIA, 위닝시리즈를 놓고 맞대결', 'url': 'http://yna.kr/PYH20200531065100054?did=1196m'}, {'title': '방망이에 다리 맞은 KIA 박진태', 'url': 'http://www.newsis.com/view/?id=NISI20200531_0016364387'}, {'title': '패배 KIA 타이거즈', 'url': 'http://www.newsis.com/view/?id=NISI20200531_0016364430'}]\n"
     ]
    }
   ],
   "source": [
    "results = []\n",
    "for news in news_list_items:\n",
    "    anchor_tag = news.find('a', class_ = '_sp_each_title')\n",
    "    results.append({\n",
    "        'title' : anchor_tag.text,\n",
    "        'url' : anchor_tag.get('href')\n",
    "    })\n",
    "print(results)"
   ]
  },
  {
   "cell_type": "code",
   "execution_count": 26,
   "metadata": {},
   "outputs": [
    {
     "data": {
      "text/plain": [
       "[<a class=\"_sp_each_title\" href=\"http://isplus.live.joins.com/news/article/aid.asp?aid=23384214\" onclick=\"return goOtherCR(this, 'a=nws*a.tit&amp;r=1&amp;i=880002FC_000000000000000003027103&amp;g=241.0003027103&amp;u='+urlencode(this.href));\" target=\"_blank\" title=\"KIA, LG 꺾고 3연패 탈출\"><strong class=\"hl\">KIA</strong>, LG 꺾고 3연패 탈출</a>,\n",
       " <a class=\"_sp_each_title\" href=\"http://starin.edaily.co.kr/news/newspath.asp?newsid=02302566625774496\" onclick=\"return goOtherCR(this, 'a=nws*a.tit&amp;r=6&amp;i=880000E7_000000000000000004653222&amp;g=018.0004653222&amp;u='+urlencode(this.href));\" target=\"_blank\" title=\"'20안타 폭발' LG, KIA에 대승...6연속 위닝시리즈\">'20안타 폭발' LG, <strong class=\"hl\">KIA</strong>에 대승...6연속 위닝시리즈</a>,\n",
       " <a class=\"_sp_each_title\" href=\"http://www.newsis.com/view/?id=NISI20200531_0016364398\" onclick=\"return goOtherCR(this, 'a=nws*e.tit&amp;r=11&amp;i=88000127_000000000000000009890034&amp;g=003.0009890034&amp;u='+urlencode(this.href));\" target=\"_blank\" title=\"KIA 맷 윌리엄스의 지시\"><strong class=\"hl\">KIA</strong> 맷 윌리엄스의 지시</a>,\n",
       " <a class=\"_sp_each_title\" href=\"http://www.sportsseoul.com/news/read/922018?ref=naver\" onclick=\"return goOtherCR(this, 'a=nws*e.tit&amp;r=12&amp;i=88156f78_000000000000000000664459&amp;g=468.0000664459&amp;u='+urlencode(this.href));\" target=\"_blank\" title=\"'3연속 QS' 이민우, KIA 新 오른손 투수로 '탄탄대로'\">'3연속 QS' 이민우, <strong class=\"hl\">KIA</strong> 新 오른손 투수로 '탄탄대로'</a>,\n",
       " <a class=\"_sp_each_url _sp_each_title\" href=\"https://jnilbo.com/?p=913146\" onclick=\"return goOtherCR(this, 'a=nws*f.tit&amp;r=13&amp;i=88155e55_000000000000000000130298&amp;g=5379.0000130298&amp;u='+urlencode(this.href));\" target=\"_blank\" title=\"KIA, 마운드 난조로 무너졌다\"><strong class=\"hl\">KIA</strong>, 마운드 난조로 무너졌다</a>,\n",
       " <a class=\"_sp_each_url _sp_each_title\" href=\"http://www.honam.co.kr/detail/Gnhc66/604380\" onclick=\"return goOtherCR(this, 'a=nws*f.tit&amp;r=14&amp;i=88155e8a_000000000000000000151043&amp;g=5323.0000151043&amp;u='+urlencode(this.href));\" target=\"_blank\" title=\"KIA, LG전 5-13 대패 '루징시리즈'\"><strong class=\"hl\">KIA</strong>, LG전 5-13 대패 '루징시리즈'</a>,\n",
       " <a class=\"_sp_each_url _sp_each_title\" href=\"http://www.kjdaily.com/read.php3?aid=1590920619512459007\" onclick=\"return goOtherCR(this, 'a=nws*f.tit&amp;r=15&amp;i=8813C2EC_000000000000000000111056&amp;g=5263.0000111056&amp;u='+urlencode(this.href));\" target=\"_blank\" title=\"KIA 마운드, 장단 20안타 맞고 ‘와르르’\"><strong class=\"hl\">KIA</strong> 마운드, 장단 20안타 맞고 ‘와르르’</a>,\n",
       " <a class=\"_sp_each_title\" href=\"http://yna.kr/PYH20200531065100054?did=1196m\" onclick=\"return goOtherCR(this, 'a=nws*e.tit&amp;r=16&amp;i=880000D8_000000000000000011645457&amp;g=001.0011645457&amp;u='+urlencode(this.href));\" target=\"_blank\" title=\"LG·KIA, 위닝시리즈를 놓고 맞대결\">LG·<strong class=\"hl\">KIA</strong>, 위닝시리즈를 놓고 맞대결</a>,\n",
       " <a class=\"_sp_each_title\" href=\"http://www.newsis.com/view/?id=NISI20200531_0016364387\" onclick=\"return goOtherCR(this, 'a=nws*e.tit&amp;r=17&amp;i=88000127_000000000000000009890026&amp;g=003.0009890026&amp;u='+urlencode(this.href));\" target=\"_blank\" title=\"방망이에 다리 맞은 KIA 박진태\">방망이에 다리 맞은 <strong class=\"hl\">KIA</strong> 박진태</a>,\n",
       " <a class=\"_sp_each_title\" href=\"http://www.newsis.com/view/?id=NISI20200531_0016364430\" onclick=\"return goOtherCR(this, 'a=nws*e.tit&amp;r=18&amp;i=88000127_000000000000000009890062&amp;g=003.0009890062&amp;u='+urlencode(this.href));\" target=\"_blank\" title=\"패배 KIA 타이거즈\">패배 <strong class=\"hl\">KIA</strong> 타이거즈</a>]"
      ]
     },
     "execution_count": 26,
     "metadata": {},
     "output_type": "execute_result"
    }
   ],
   "source": [
    "# selector\n",
    "anchor_tags = soup.select('ul.type01>li a._sp_each_title')\n",
    "anchor_tags"
   ]
  },
  {
   "cell_type": "markdown",
   "metadata": {},
   "source": [
    "<연습문제 2>\n",
    "\n",
    " 네이버 통합검색에서 검색어 검색 후 연관검색어를 저장하자."
   ]
  },
  {
   "cell_type": "code",
   "execution_count": 37,
   "metadata": {},
   "outputs": [],
   "source": [
    "from urllib.parse import urlencode"
   ]
  },
  {
   "cell_type": "code",
   "execution_count": null,
   "metadata": {},
   "outputs": [],
   "source": [
    "query = '기아타이거즈'\n",
    "QUERY = urlencode({'query':query}, encoding='utf-8')"
   ]
  },
  {
   "cell_type": "code",
   "execution_count": 57,
   "metadata": {},
   "outputs": [],
   "source": [
    "url = f'https://search.naver.com/search.naver?sm=tab_hty.top&where=nexearch&{QUERY}'\n",
    "req = requests.get(url)\n",
    "bs = BeautifulSoup(req.text)"
   ]
  },
  {
   "cell_type": "code",
   "execution_count": 44,
   "metadata": {},
   "outputs": [
    {
     "name": "stdout",
     "output_type": "stream",
     "text": [
      "['기아', '2020 프로야구 순위', '기아자동차', '기아타이거즈 갤러리', '기아타이거즈 샵', '기아타이거즈 감독', '두산베어스', '기아타이거즈 유니폼', '양현종', '기아타이거즈 순위']\n"
     ]
    }
   ],
   "source": [
    "queries = bs.find('dl', class_='relate_area').find_all('li')\n",
    "related_queries = [q.get_text(strip=True) for q in queries]\n",
    "print(related_queries)"
   ]
  },
  {
   "cell_type": "markdown",
   "metadata": {},
   "source": [
    "<연습문제 3>\n",
    "\n",
    "핫 뉴스토픽 가져오자."
   ]
  },
  {
   "cell_type": "code",
   "execution_count": 56,
   "metadata": {},
   "outputs": [
    {
     "name": "stdout",
     "output_type": "stream",
     "text": [
      "['내년 최저임금 동결해야', '회수율 69.3%', '홍콩 국가보안법', '이용수 할머니', '서울역 묻지마 폭행', '1분기 공적자금 361억원 회수', '배후설 김어준', '면역치료 국가 컨트롤타워', '재고 면세품', '포스트 코로나 대비하자']\n"
     ]
    }
   ],
   "source": [
    "topics = bs.find('ol', {'class':'lst_realtime_srch'}).find_all('li')\n",
    "hot_topics = [topic.find('a').find('span', {'class':'tit'}).get_text() for topic in topics]\n",
    "print(hot_topics)"
   ]
  },
  {
   "cell_type": "markdown",
   "metadata": {},
   "source": [
    "<연습문제 3.5>\n",
    "\n",
    "블로그 데이터 페이지 5페이지까지 가져오기"
   ]
  },
  {
   "cell_type": "code",
   "execution_count": 78,
   "metadata": {},
   "outputs": [],
   "source": [
    "import time"
   ]
  },
  {
   "cell_type": "code",
   "execution_count": 58,
   "metadata": {},
   "outputs": [],
   "source": [
    "query = '기아타이거즈'\n",
    "QUERY = urlencode({'query':query}, encoding='utf-8')"
   ]
  },
  {
   "cell_type": "code",
   "execution_count": 62,
   "metadata": {},
   "outputs": [
    {
     "name": "stdout",
     "output_type": "stream",
     "text": [
      "https://search.naver.com/search.naver?query=%EA%B8%B0%EC%95%84%ED%83%80%EC%9D%B4%EA%B1%B0%EC%A6%88&sm=tab_pge&srchby=all&st=sim&where=post\n"
     ]
    }
   ],
   "source": [
    "# 기본 블로그 url\n",
    "blog_url = f\"https://search.naver.com/search.naver?{QUERY}&sm=tab_pge&srchby=all&st=sim&where=post\"\n",
    "print(blog_url)"
   ]
  },
  {
   "cell_type": "code",
   "execution_count": 71,
   "metadata": {},
   "outputs": [
    {
     "name": "stdout",
     "output_type": "stream",
     "text": [
      "<Response [200]>\n",
      "10\n",
      "<Response [200]>\n",
      "10\n",
      "<Response [200]>\n",
      "10\n",
      "<Response [200]>\n",
      "10\n",
      "<Response [200]>\n",
      "10\n",
      "50\n"
     ]
    }
   ],
   "source": [
    "# 블로그 글 5페이지까지 돌면서 link 가져오기\n",
    "links = []\n",
    "\n",
    "for i in range(5):\n",
    "    url = f\"{blog_url}&start={i*10 + 1}\"\n",
    "    req = requests.get(url)\n",
    "    print(req) # 체크용\n",
    "    \n",
    "    soup = BeautifulSoup(req.text)\n",
    "    anchors = soup.find_all('a', {'class' : 'sh_blog_title'})\n",
    "    print(len(anchors))\n",
    "    \n",
    "    for anchor in anchors:\n",
    "        links.append(anchor['href'])\n",
    "\n",
    "print(len(links))"
   ]
  },
  {
   "cell_type": "code",
   "execution_count": 72,
   "metadata": {},
   "outputs": [
    {
     "name": "stdout",
     "output_type": "stream",
     "text": [
      "https://blog.naver.com/jyong2288?Redirect=Log&logNo=221972724113\n",
      "https://blog.naver.com/psbear?Redirect=Log&logNo=221981936696\n",
      "https://blog.naver.com/tmdgh2040?Redirect=Log&logNo=221981265398\n",
      "https://toxicnaomi.blog.me/221947006629\n",
      "https://blog.naver.com/pkijj04?Redirect=Log&logNo=221975138084\n",
      "https://blog.naver.com/imaplus?Redirect=Log&logNo=221951270588\n",
      "https://blog.naver.com/nabibelle?Redirect=Log&logNo=221977027811\n",
      "https://blog.naver.com/grappler39?Redirect=Log&logNo=221946915356\n",
      "https://blog.naver.com/pickmon_04?Redirect=Log&logNo=221981732445\n",
      "https://blog.naver.com/hanjinlee21?Redirect=Log&logNo=221956697661\n",
      "https://blog.naver.com/gkxodnjsdjflsdl?Redirect=Log&logNo=221968761493\n",
      "https://blog.naver.com/tou2me?Redirect=Log&logNo=221951806448\n",
      "https://blog.naver.com/vervexerox?Redirect=Log&logNo=221982941615\n",
      "https://blog.naver.com/nextf4?Redirect=Log&logNo=221986040416\n",
      "https://qorskawn5.blog.me/221960514369\n",
      "https://blog.naver.com/mt_park?Redirect=Log&logNo=221982913412\n",
      "https://blog.naver.com/pkijj04?Redirect=Log&logNo=221975534891\n",
      "https://blog.naver.com/freeze_13782?Redirect=Log&logNo=221958770009\n",
      "https://blog.naver.com/imaplus?Redirect=Log&logNo=221947077586\n",
      "https://blog.naver.com/nabibelle?Redirect=Log&logNo=221982686563\n",
      "https://blog.naver.com/jinyh97?Redirect=Log&logNo=221971727020\n",
      "https://blog.naver.com/luv0625?Redirect=Log&logNo=221974884815\n",
      "https://blog.naver.com/jichangmin84?Redirect=Log&logNo=221954589555\n",
      "https://blog.naver.com/kthee33?Redirect=Log&logNo=221968798137\n",
      "https://blog.naver.com/reliable0723?Redirect=Log&logNo=221978017103\n",
      "https://blog.naver.com/thryo1?Redirect=Log&logNo=221981908600\n",
      "https://blog.naver.com/nextf4?Redirect=Log&logNo=221984999040\n",
      "https://blog.naver.com/mr_mo_mo?Redirect=Log&logNo=221781635447\n",
      "https://blog.naver.com/mt_park?Redirect=Log&logNo=221959149763\n",
      "https://blog.naver.com/cousin_576?Redirect=Log&logNo=221968629333\n",
      "https://blog.naver.com/bluesadism0?Redirect=Log&logNo=221981674502\n",
      "https://blog.naver.com/dgb7171?Redirect=Log&logNo=221980432546\n",
      "https://blog.naver.com/nabibelle?Redirect=Log&logNo=221951483954\n",
      "https://blog.naver.com/ggw893?Redirect=Log&logNo=221981413191\n",
      "https://blog.naver.com/tou2me?Redirect=Log&logNo=221947868949\n",
      "https://1tym0420.blog.me/221970926907\n",
      "https://blog.naver.com/pickmon_04?Redirect=Log&logNo=221971211151\n",
      "https://blog.naver.com/kthee33?Redirect=Log&logNo=221986176626\n",
      "https://blog.naver.com/formation_9776?Redirect=Log&logNo=221971894600\n",
      "https://blog.naver.com/optatumplatform?Redirect=Log&logNo=221979308550\n",
      "https://blog.naver.com/80cjm?Redirect=Log&logNo=221960677427\n",
      "https://blog.naver.com/mt_park?Redirect=Log&logNo=221984037735\n",
      "https://blog.naver.com/benztata?Redirect=Log&logNo=221974282044\n",
      "https://blog.naver.com/mr_mo_mo?Redirect=Log&logNo=221931903246\n",
      "https://blog.naver.com/nabibelle?Redirect=Log&logNo=221963368300\n",
      "https://blog.naver.com/dgb7171?Redirect=Log&logNo=221979153048\n",
      "https://blog.naver.com/pik080706?Redirect=Log&logNo=221948916207\n",
      "https://blog.naver.com/qorwodn5?Redirect=Log&logNo=221975557854\n",
      "https://blog.naver.com/comment_1821?Redirect=Log&logNo=221971129631\n",
      "https://blog.naver.com/uiar3co4g?Redirect=Log&logNo=221984581415\n"
     ]
    }
   ],
   "source": [
    "# 각 블로그에서 제목과 글 작성자, 글 내용 가져오기\n",
    "\n",
    "for i in range(len(links)):\n",
    "    req = requests.get(links[i])\n",
    "    \n",
    "    if i % 5 == 0: # for check\n",
    "        print(i, req)\n",
    "    \n",
    "    soup = BeautifulSoup(req.text)\n",
    "    \n",
    "    title = soup.find()\n",
    "    \n",
    "    "
   ]
  },
  {
   "cell_type": "code",
   "execution_count": 84,
   "metadata": {
    "scrolled": false
   },
   "outputs": [
    {
     "data": {
      "text/plain": [
       "\n",
       "<!DOCTYPE html PUBLIC \"-//W3C//DTD XHTML 1.0 Transitional//EN\" \"http://www.w3.org/TR/xhtml1/DTD/xhtml1-transitional.dtd\">\n",
       "\n",
       "<html lang=\"ko\">\n",
       "<head>\n",
       "<meta content=\"no-cache\" http-equiv=\"Pragma\"/>\n",
       "<meta content=\"-1\" http-equiv=\"Expires\"/>\n",
       "<meta content=\"noindex,follow\" name=\"robots\"/>\n",
       "<meta content=\"always\" name=\"referrer\"/>\n",
       "<meta content=\"text/html;charset=utf-8\" http-equiv=\"content-type\"/>\n",
       "<meta content=\"IE=edge,chrome=1\" http-equiv=\"X-UA-Compatible\"/>\n",
       "<link href=\"/favicon.ico?2\" rel=\"shortcut icon\" type=\"image/x-icon\"/>\n",
       "<link href=\"https://rss.blog.naver.com/jyong2288.xml\" rel=\"alternate\" title=\"RSS feed for jyong2288 Blog\" type=\"application/rss+xml\"/>\n",
       "<link href=\"https://blog.naver.com/NBlogWlwLayout.nhn?blogId=jyong2288\" rel=\"wlwmanifest\" type=\"application/wlwmanifest+xml\"/>\n",
       "<title>청연한방병원 병원장 김지용입니다. : 네이버 블로그</title>\n",
       "</head>\n",
       "<script charset=\"UTF-8\" src=\"https://ssl.pstatic.net/t.static.blog/mylog/versioning/Frameset-657805386_https.js\" type=\"text/javascript\"></script>\n",
       "<script charset=\"UTF-8\" type=\"text/javascript\">\n",
       "var photoContent=\"\";\n",
       "var postContent=\"\";\n",
       "\n",
       "var videoId \t  = \"\";\n",
       "var thumbnail \t  = \"\";\n",
       "var inKey \t\t  = \"\";\n",
       "var movieFileSize = \"\";\n",
       "var playTime \t  = \"\";\n",
       "var screenSize \t  = \"\";\n",
       "\n",
       "var blogId = 'jyong2288';\n",
       "var blogURL = 'https://blog.naver.com';\n",
       "var eventCnt = '';\n",
       "\n",
       "var g_ShareObject = {};\n",
       "g_ShareObject.referer = \"\";\n",
       "\n",
       "\n",
       "jsMVC.setController(\"framesetTitleController\", FramesetTitleController);\n",
       "jsMVC.setController(\"framesetUrlController\", FramesetUrlController);\n",
       "jsMVC.setController(\"framesetMusicController\", FramesetMusicController);\n",
       "var oFramesetTitleController = jsMVC.getController(\"framesetTitleController\");\n",
       "var oFramesetUrlController = jsMVC.getController(\"framesetUrlController\");\n",
       "var oFramesetMusicController = jsMVC.getController(\"framesetMusicController\");\n",
       "var sTitle = document.title;\n",
       "\n",
       "</script>\n",
       "<style type=\"text/css\">\n",
       "    html{width:100%;height:100%;}\n",
       "    body{width:100%;height:100%;margin:0;padding:0;font-size:0;}\n",
       "    #mainFrame{width:100%;height:99.8%;margin:0;padding:0;border:0;}\n",
       "    #hiddenFrame{width:0;height:0;margin:0;padding:0;border:0;}\n",
       "</style>\n",
       "<body>\n",
       "<iframe allowfullscreen=\"\" id=\"mainFrame\" name=\"mainFrame\" onload=\"oFramesetTitleController.start(self.frames['mainFrame'], self, sTitle);oFramesetTitleController.onLoadFrame();oFramesetUrlController.start(self.frames['mainFrame']);oFramesetUrlController.onLoadFrame()\" scrolling=\"auto\" src=\"/PostView.nhn?blogId=jyong2288&amp;logNo=221972724113&amp;from=search&amp;redirect=Log&amp;widgetTypeCall=true&amp;directAccess=false\"></iframe>\n",
       "<iframe id=\"hiddenFrame\" name=\"hiddenFrame\" noresize=\"noresize\" scrolling=\"no\" src=\"/NBlogHidden.nhn?blogId=jyong2288&amp;musicYN=false\"></iframe>\n",
       "</body>\n",
       "</html>"
      ]
     },
     "execution_count": 84,
     "metadata": {},
     "output_type": "execute_result"
    }
   ],
   "source": [
    "# 확인용\n",
    "\n",
    "\n",
    "\n",
    "title = soup.find('div', {'class':'se-component-content'})\n",
    "data = "
   ]
  },
  {
   "cell_type": "code",
   "execution_count": null,
   "metadata": {},
   "outputs": [],
   "source": []
  },
  {
   "cell_type": "code",
   "execution_count": null,
   "metadata": {},
   "outputs": [],
   "source": []
  }
 ],
 "metadata": {
  "kernelspec": {
   "display_name": "Python 3",
   "language": "python",
   "name": "python3"
  },
  "language_info": {
   "codemirror_mode": {
    "name": "ipython",
    "version": 3
   },
   "file_extension": ".py",
   "mimetype": "text/x-python",
   "name": "python",
   "nbconvert_exporter": "python",
   "pygments_lexer": "ipython3",
   "version": "3.7.7"
  }
 },
 "nbformat": 4,
 "nbformat_minor": 4
}
