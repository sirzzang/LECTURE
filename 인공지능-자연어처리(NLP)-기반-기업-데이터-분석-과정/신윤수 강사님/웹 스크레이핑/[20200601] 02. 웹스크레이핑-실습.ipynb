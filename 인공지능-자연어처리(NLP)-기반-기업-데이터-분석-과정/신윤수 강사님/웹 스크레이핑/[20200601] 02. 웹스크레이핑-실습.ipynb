{
 "cells": [
  {
   "cell_type": "code",
   "execution_count": 1,
   "metadata": {},
   "outputs": [],
   "source": [
    "# module import\n",
    "\n",
    "import requests\n",
    "from bs4 import BeautifulSoup"
   ]
  },
  {
   "cell_type": "markdown",
   "metadata": {},
   "source": [
    "<연습문제 1>\n",
    "\n",
    " 키워드로 뉴스 리스트 가져오자.\n"
   ]
  },
  {
   "cell_type": "code",
   "execution_count": 2,
   "metadata": {},
   "outputs": [
    {
     "data": {
      "text/plain": [
       "<Response [200]>"
      ]
     },
     "execution_count": 2,
     "metadata": {},
     "output_type": "execute_result"
    }
   ],
   "source": [
    "url = 'https://search.naver.com/search.naver?where=news&query=kia'\n",
    "response = requests.get(url)\n",
    "response"
   ]
  },
  {
   "cell_type": "code",
   "execution_count": 4,
   "metadata": {},
   "outputs": [],
   "source": [
    "soup = BeautifulSoup(response.text)"
   ]
  },
  {
   "cell_type": "code",
   "execution_count": 21,
   "metadata": {
    "scrolled": true
   },
   "outputs": [
    {
     "name": "stdout",
     "output_type": "stream",
     "text": [
      "KIA, LG 꺾고 3연패 탈출 http://isplus.live.joins.com/news/article/aid.asp?aid=23384214\n",
      "'20안타 폭발' LG, KIA에 대승...6연속 위닝시리즈 http://starin.edaily.co.kr/news/newspath.asp?newsid=02302566625774496\n",
      "KIA 맷 윌리엄스의 지시 http://www.newsis.com/view/?id=NISI20200531_0016364398\n",
      "'3연속 QS' 이민우, KIA 新 오른손 투수로 '탄탄대로' http://www.sportsseoul.com/news/read/922018?ref=naver\n",
      "KIA, 마운드 난조로 무너졌다 https://jnilbo.com/?p=913146\n",
      "KIA, LG전 5-13 대패 '루징시리즈' http://www.honam.co.kr/detail/Gnhc66/604380\n",
      "KIA 마운드, 장단 20안타 맞고 ‘와르르’ http://www.kjdaily.com/read.php3?aid=1590920619512459007\n",
      "LG·KIA, 위닝시리즈를 놓고 맞대결 http://yna.kr/PYH20200531065100054?did=1196m\n",
      "방망이에 다리 맞은 KIA 박진태 http://www.newsis.com/view/?id=NISI20200531_0016364387\n",
      "패배 KIA 타이거즈 http://www.newsis.com/view/?id=NISI20200531_0016364430\n"
     ]
    }
   ],
   "source": [
    "lis = soup.find('ul', {'class' : 'type01'}).find_all('li')\n",
    "anchors = [li.find('a', {'class' : '_sp_each_title'}) for li in lis]\n",
    "\n",
    "for a in anchors:\n",
    "    if a is not None:\n",
    "        title, link = a['title'], a['href']\n",
    "        print(title, link)"
   ]
  },
  {
   "cell_type": "markdown",
   "metadata": {},
   "source": [
    "**[강사님 정답]**\n",
    "\n",
    "* li 안에 li를 찾아와서 문제가 된다. recursive 옵션 줘서 제일 위의 li만 찾아오게 할 수도 있다."
   ]
  },
  {
   "cell_type": "code",
   "execution_count": 22,
   "metadata": {},
   "outputs": [
    {
     "data": {
      "text/plain": [
       "10"
      ]
     },
     "execution_count": 22,
     "metadata": {},
     "output_type": "execute_result"
    }
   ],
   "source": [
    "news_wrap = soup.find('ul', class_ = 'type01')\n",
    "news_list_items = news_wrap.find_all('li', recursive=False)\n",
    "len(news_list_items)"
   ]
  },
  {
   "cell_type": "code",
   "execution_count": 24,
   "metadata": {},
   "outputs": [
    {
     "name": "stdout",
     "output_type": "stream",
     "text": [
      "[{'title': 'KIA, LG 꺾고 3연패 탈출', 'url': 'http://isplus.live.joins.com/news/article/aid.asp?aid=23384214'}, {'title': \"'20안타 폭발' LG, KIA에 대승...6연속 위닝시리즈\", 'url': 'http://starin.edaily.co.kr/news/newspath.asp?newsid=02302566625774496'}, {'title': 'KIA 맷 윌리엄스의 지시', 'url': 'http://www.newsis.com/view/?id=NISI20200531_0016364398'}, {'title': \"'3연속 QS' 이민우, KIA 新 오른손 투수로 '탄탄대로'\", 'url': 'http://www.sportsseoul.com/news/read/922018?ref=naver'}, {'title': 'KIA, 마운드 난조로 무너졌다', 'url': 'https://jnilbo.com/?p=913146'}, {'title': \"KIA, LG전 5-13 대패 '루징시리즈'\", 'url': 'http://www.honam.co.kr/detail/Gnhc66/604380'}, {'title': 'KIA 마운드, 장단 20안타 맞고 ‘와르르’', 'url': 'http://www.kjdaily.com/read.php3?aid=1590920619512459007'}, {'title': 'LG·KIA, 위닝시리즈를 놓고 맞대결', 'url': 'http://yna.kr/PYH20200531065100054?did=1196m'}, {'title': '방망이에 다리 맞은 KIA 박진태', 'url': 'http://www.newsis.com/view/?id=NISI20200531_0016364387'}, {'title': '패배 KIA 타이거즈', 'url': 'http://www.newsis.com/view/?id=NISI20200531_0016364430'}]\n"
     ]
    }
   ],
   "source": [
    "results = []\n",
    "for news in news_list_items:\n",
    "    anchor_tag = news.find('a', class_ = '_sp_each_title')\n",
    "    results.append({\n",
    "        'title' : anchor_tag.text,\n",
    "        'url' : anchor_tag.get('href')\n",
    "    })\n",
    "print(results)"
   ]
  },
  {
   "cell_type": "code",
   "execution_count": 26,
   "metadata": {},
   "outputs": [
    {
     "data": {
      "text/plain": [
       "[<a class=\"_sp_each_title\" href=\"http://isplus.live.joins.com/news/article/aid.asp?aid=23384214\" onclick=\"return goOtherCR(this, 'a=nws*a.tit&amp;r=1&amp;i=880002FC_000000000000000003027103&amp;g=241.0003027103&amp;u='+urlencode(this.href));\" target=\"_blank\" title=\"KIA, LG 꺾고 3연패 탈출\"><strong class=\"hl\">KIA</strong>, LG 꺾고 3연패 탈출</a>,\n",
       " <a class=\"_sp_each_title\" href=\"http://starin.edaily.co.kr/news/newspath.asp?newsid=02302566625774496\" onclick=\"return goOtherCR(this, 'a=nws*a.tit&amp;r=6&amp;i=880000E7_000000000000000004653222&amp;g=018.0004653222&amp;u='+urlencode(this.href));\" target=\"_blank\" title=\"'20안타 폭발' LG, KIA에 대승...6연속 위닝시리즈\">'20안타 폭발' LG, <strong class=\"hl\">KIA</strong>에 대승...6연속 위닝시리즈</a>,\n",
       " <a class=\"_sp_each_title\" href=\"http://www.newsis.com/view/?id=NISI20200531_0016364398\" onclick=\"return goOtherCR(this, 'a=nws*e.tit&amp;r=11&amp;i=88000127_000000000000000009890034&amp;g=003.0009890034&amp;u='+urlencode(this.href));\" target=\"_blank\" title=\"KIA 맷 윌리엄스의 지시\"><strong class=\"hl\">KIA</strong> 맷 윌리엄스의 지시</a>,\n",
       " <a class=\"_sp_each_title\" href=\"http://www.sportsseoul.com/news/read/922018?ref=naver\" onclick=\"return goOtherCR(this, 'a=nws*e.tit&amp;r=12&amp;i=88156f78_000000000000000000664459&amp;g=468.0000664459&amp;u='+urlencode(this.href));\" target=\"_blank\" title=\"'3연속 QS' 이민우, KIA 新 오른손 투수로 '탄탄대로'\">'3연속 QS' 이민우, <strong class=\"hl\">KIA</strong> 新 오른손 투수로 '탄탄대로'</a>,\n",
       " <a class=\"_sp_each_url _sp_each_title\" href=\"https://jnilbo.com/?p=913146\" onclick=\"return goOtherCR(this, 'a=nws*f.tit&amp;r=13&amp;i=88155e55_000000000000000000130298&amp;g=5379.0000130298&amp;u='+urlencode(this.href));\" target=\"_blank\" title=\"KIA, 마운드 난조로 무너졌다\"><strong class=\"hl\">KIA</strong>, 마운드 난조로 무너졌다</a>,\n",
       " <a class=\"_sp_each_url _sp_each_title\" href=\"http://www.honam.co.kr/detail/Gnhc66/604380\" onclick=\"return goOtherCR(this, 'a=nws*f.tit&amp;r=14&amp;i=88155e8a_000000000000000000151043&amp;g=5323.0000151043&amp;u='+urlencode(this.href));\" target=\"_blank\" title=\"KIA, LG전 5-13 대패 '루징시리즈'\"><strong class=\"hl\">KIA</strong>, LG전 5-13 대패 '루징시리즈'</a>,\n",
       " <a class=\"_sp_each_url _sp_each_title\" href=\"http://www.kjdaily.com/read.php3?aid=1590920619512459007\" onclick=\"return goOtherCR(this, 'a=nws*f.tit&amp;r=15&amp;i=8813C2EC_000000000000000000111056&amp;g=5263.0000111056&amp;u='+urlencode(this.href));\" target=\"_blank\" title=\"KIA 마운드, 장단 20안타 맞고 ‘와르르’\"><strong class=\"hl\">KIA</strong> 마운드, 장단 20안타 맞고 ‘와르르’</a>,\n",
       " <a class=\"_sp_each_title\" href=\"http://yna.kr/PYH20200531065100054?did=1196m\" onclick=\"return goOtherCR(this, 'a=nws*e.tit&amp;r=16&amp;i=880000D8_000000000000000011645457&amp;g=001.0011645457&amp;u='+urlencode(this.href));\" target=\"_blank\" title=\"LG·KIA, 위닝시리즈를 놓고 맞대결\">LG·<strong class=\"hl\">KIA</strong>, 위닝시리즈를 놓고 맞대결</a>,\n",
       " <a class=\"_sp_each_title\" href=\"http://www.newsis.com/view/?id=NISI20200531_0016364387\" onclick=\"return goOtherCR(this, 'a=nws*e.tit&amp;r=17&amp;i=88000127_000000000000000009890026&amp;g=003.0009890026&amp;u='+urlencode(this.href));\" target=\"_blank\" title=\"방망이에 다리 맞은 KIA 박진태\">방망이에 다리 맞은 <strong class=\"hl\">KIA</strong> 박진태</a>,\n",
       " <a class=\"_sp_each_title\" href=\"http://www.newsis.com/view/?id=NISI20200531_0016364430\" onclick=\"return goOtherCR(this, 'a=nws*e.tit&amp;r=18&amp;i=88000127_000000000000000009890062&amp;g=003.0009890062&amp;u='+urlencode(this.href));\" target=\"_blank\" title=\"패배 KIA 타이거즈\">패배 <strong class=\"hl\">KIA</strong> 타이거즈</a>]"
      ]
     },
     "execution_count": 26,
     "metadata": {},
     "output_type": "execute_result"
    }
   ],
   "source": [
    "# selector\n",
    "anchor_tags = soup.select('ul.type01>li a._sp_each_title')\n",
    "anchor_tags"
   ]
  },
  {
   "cell_type": "code",
   "execution_count": null,
   "metadata": {},
   "outputs": [],
   "source": []
  },
  {
   "cell_type": "code",
   "execution_count": null,
   "metadata": {},
   "outputs": [],
   "source": []
  },
  {
   "cell_type": "code",
   "execution_count": null,
   "metadata": {},
   "outputs": [],
   "source": []
  },
  {
   "cell_type": "code",
   "execution_count": null,
   "metadata": {},
   "outputs": [],
   "source": []
  }
 ],
 "metadata": {
  "kernelspec": {
   "display_name": "Python 3",
   "language": "python",
   "name": "python3"
  },
  "language_info": {
   "codemirror_mode": {
    "name": "ipython",
    "version": 3
   },
   "file_extension": ".py",
   "mimetype": "text/x-python",
   "name": "python",
   "nbconvert_exporter": "python",
   "pygments_lexer": "ipython3",
   "version": "3.7.7"
  }
 },
 "nbformat": 4,
 "nbformat_minor": 4
}
