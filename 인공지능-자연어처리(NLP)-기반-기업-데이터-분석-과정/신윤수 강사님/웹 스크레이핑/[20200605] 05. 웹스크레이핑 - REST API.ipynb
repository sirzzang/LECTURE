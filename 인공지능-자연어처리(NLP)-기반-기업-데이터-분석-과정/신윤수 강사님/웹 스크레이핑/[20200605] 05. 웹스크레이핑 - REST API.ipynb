{
 "cells": [
  {
   "cell_type": "markdown",
   "metadata": {},
   "source": [
    "# REST API\n",
    "\n",
    "1. 웹 API = WEB + API\n",
    "    * api : 응용프로그램 프로그래밍 인터페이스.\n",
    "        - 응용프로그램을 위한 기본 인터페이스.\n",
    "        - 응용프로그램에서 사용할 수 있도록, 운영체제나 프로그래밍 언어가 제공하는 자원(기능)을 제어할 수 있게 만든 서비스.\n",
    "        - 또 다른 프로그램을 위한 구현.\n",
    "       \n",
    "       > 예) Windows API : 파일 시스템 관리. GUI. 장치 제어. \n",
    "       >\n",
    "       > 예) Android API : 무선 인터넷 등 네트워크, 카메라, 계정 관리 등.\n",
    "   \n",
    "   * web api : 웹 서비스를 위한 API.\n",
    "       > 예) 부동산 정보 : 직방/다방 등.\n",
    "       >\n",
    "       > 예) 로그인 API : 페이스북으로 로그인하기, 구글로 로그인하기 등.\n",
    "       \n",
    "   * https://www.apistore.co.kr/main.do\n",
    "       \n",
    "       \n",
    "2. REST API = REST + API\n",
    "    * REST : **RE**presentational **S**tate **T**ranfer\n",
    "        - HTTP URI를 통해 자원을 명시하고, HTTP 메소드(POST, GET, PUT, DELETE)를 통해 해당 자원에 대한 CRUD operation 적용.\n",
    "    * 표현 방법 : JSON / XML.\n",
    "    * 특징 : 보통 아래 특징 중 4개 정도 선택해서 구현.\n",
    "         - 서버, 클라이언트 구조.\n",
    "         - stateless\n",
    "         - cachable\n",
    "         - 계층 구조\n",
    "         - code-on-demand\n",
    "         - ...\n",
    "         \n",
    "    * URL만 봐도 뭘 가져오는지 알 수 있다.\n",
    "    "
   ]
  },
  {
   "cell_type": "markdown",
   "metadata": {},
   "source": [
    "# REST API 실습\n",
    "\n",
    " 공공데이터 포털(http://data.go.kr/)에서 한국 환경공단의 대기오염 정보 API(https://www.data.go.kr/dataset/15000581/openapi.do) 를 활용한다.\n",
    " \n",
    " ![img-saved](./images/web_31.png)\n",
    " \n",
    " \n",
    " 1. 가입\n",
    " \n",
    " 2. API 명세 살펴보기 : url, parameter. *참고문서* 를 확인하자.\n",
    "  ![api-check](./images/web_32.png)\n",
    "  \n",
    " 3. 활용신청 후 인증키 받기\n",
    " \n",
    " 4. API 주소 : http://openapi.airkorea.or.kr/openapi/services/rest/MsrstnInfoInqireSvc/getNearbyMsrstnList?tmX=244148.546388&tmY=412423.75772&ServiceKey=서비스키"
   ]
  },
  {
   "cell_type": "markdown",
   "metadata": {},
   "source": [
    "## △ 인증키가 안 먹어요... △\n",
    "\n",
    "![api-error](./images/web_33.png)\n",
    "\n",
    "---\n",
    "\n",
    "## 미리보기에서 들어가봅시다.\n",
    "\n",
    "![api-again](./images/web_36.png)\n",
    "\n",
    "---\n",
    "\n",
    "## 공식문서가 이상하니까..\n",
    "\n",
    "* 미리보기로 들어가서 URL을 뽑아낸다.\n",
    "\n",
    "> http://openapi.airkorea.or.kr/openapi/services/rest/ArpltnInforInqireSvc/getMsrstnAcctoRltmMesureDnsty?serviceKey=MCUJnTxCUfXv74hUO2ocGgMVT6FYvaFDHL%2FDibEW8smotQDctJUp5LpOWnhmDHqTaA%2FoeC6OwyKf7AiTWZZlrA%3D%3D&numOfRows=10&pageNo=1&stationName=%EC%A2%85%EB%A1%9C%EA%B5%AC&dataTerm=DAILY&ver=1.3&\n",
    "\n",
    "* 서비스 키 인코딩할 수 있도록 인증키의 인코딩을 제거해주어야 한다. 우리가 발급받은 인증키가 미리 인코딩되어 있다. `%` 등을 빼주어야 한다. 특수문자들."
   ]
  },
  {
   "cell_type": "code",
   "execution_count": 16,
   "metadata": {},
   "outputs": [],
   "source": [
    "import requests\n",
    "from urllib.parse import unquote\n",
    "from bs4 import BeautifulSoup"
   ]
  },
  {
   "cell_type": "code",
   "execution_count": 9,
   "metadata": {},
   "outputs": [],
   "source": [
    "# URL 설정\n",
    "\n",
    "airApi_url = \"http://openapi.airkorea.or.kr/openapi/services/rest/ArpltnInforInqireSvc/getMsrstnAcctoRltmMesureDnsty\"\n",
    "service_key = \"MCUJnTxCUfXv74hUO2ocGgMVT6FYvaFDHL%2FDibEW8smotQDctJUp5LpOWnhmDHqTaA%2FoeC6OwyKf7AiTWZZlrA%3D%3D\"\n",
    "\n",
    "params = {\n",
    "    'serviceKey': unquote(service_key),\n",
    "    'numOfRows': 1,\n",
    "    'pageNo': 1,\n",
    "    'stationName': '종로구',\n",
    "    'dataTerm': 'DAILY',\n",
    "    'ver': 1.3\n",
    "}\n",
    "\n",
    "# ?serviceKey=MCUJnTxCUfXv74hUO2ocGgMVT6FYvaFDHL%2FDibEW8smotQDctJUp5LpOWnhmDHqTaA%2FoeC6OwyKf7AiTWZZlrA%3D%3D\n",
    "# &numOfRows=10\n",
    "# &pageNo=1\n",
    "# &stationName=%EC%A2%85%EB%A1%9C%EA%B5%AC\n",
    "# &dataTerm=DAILY\n",
    "# &ver=1.3&\""
   ]
  },
  {
   "cell_type": "code",
   "execution_count": 10,
   "metadata": {},
   "outputs": [
    {
     "data": {
      "text/plain": [
       "'<?xml version=\"1.0\" encoding=\"UTF-8\"?>\\r\\n\\r\\n\\r\\n\\r\\n\\r\\n<response>\\r\\n\\t<header>\\r\\n\\t\\t<resultCode>00</resultCode>\\r\\n\\t\\t<resultMsg>NORMAL SERVICE.</resultMsg>\\r\\n\\t</header>\\r\\n\\t<body>\\r\\n\\t\\t<items>\\r\\n\\t\\t\\t\\r\\n\\t\\t\\t\\t<item>\\r\\n\\t\\t\\t\\t\\t<dataTime>2020-06-05 11:00</dataTime>\\r\\n\\t\\t\\t\\t\\t\\r\\n                        <mangName>도시대기</mangName>\\r\\n                    \\r\\n\\t\\t\\t\\t\\t<so2Value>0.003</so2Value>\\r\\n\\t\\t\\t\\t\\t<coValue>0.5</coValue>\\r\\n\\t\\t\\t\\t\\t<o3Value>0.030</o3Value>\\r\\n\\t\\t\\t\\t\\t<no2Value>0.025</no2Value>\\r\\n\\t\\t\\t\\t\\t<pm10Value>46</pm10Value>\\r\\n\\t\\t\\t\\t\\t\\r\\n                        <pm10Value24>42</pm10Value24>\\r\\n                    \\r\\n\\t\\t\\t\\t\\t\\r\\n                        <pm25Value>24</pm25Value>\\r\\n                    \\r\\n                    \\r\\n                        <pm25Value24>21</pm25Value24>\\r\\n                    \\r\\n\\t\\t\\t\\t\\t<khaiValue>64</khaiValue>\\r\\n\\t\\t\\t\\t\\t<khaiGrade>2</khaiGrade>\\r\\n\\t\\t\\t\\t\\t<so2Grade>1</so2Grade>\\r\\n\\t\\t\\t\\t\\t<coGrade>1</coGrade>\\r\\n\\t\\t\\t\\t\\t<o3Grade>1</o3Grade>\\r\\n\\t\\t\\t\\t\\t<no2Grade>1</no2Grade>\\r\\n\\t\\t\\t\\t\\t<pm10Grade>2</pm10Grade>\\r\\n\\t\\t\\t\\t\\t\\r\\n                        <pm25Grade>2</pm25Grade>\\r\\n                    \\r\\n                    \\r\\n                        <pm10Grade1h>2</pm10Grade1h>\\r\\n                        <pm25Grade1h>2</pm25Grade1h>\\r\\n                    \\r\\n\\t\\t\\t\\t</item>\\r\\n\\t\\t\\t\\r\\n\\t\\t</items>\\r\\n\\t\\t\\t<numOfRows>1</numOfRows>\\r\\n\\t\\t\\t<pageNo>1</pageNo>\\r\\n\\t\\t\\t<totalCount>23</totalCount>\\r\\n\\t</body>\\r\\n</response>\\r\\n'"
      ]
     },
     "execution_count": 10,
     "metadata": {},
     "output_type": "execute_result"
    }
   ],
   "source": [
    "# 요청 전송\n",
    "req = requests.get(airApi_url, params=params)\n",
    "req.text"
   ]
  },
  {
   "cell_type": "code",
   "execution_count": 15,
   "metadata": {},
   "outputs": [
    {
     "name": "stdout",
     "output_type": "stream",
     "text": [
      "<?xml version=\"1.0\" encoding=\"UTF-8\"?><html><body><response>\n",
      "<header>\n",
      "<resultcode>00</resultcode>\n",
      "<resultmsg>NORMAL SERVICE.</resultmsg>\n",
      "</header>\n",
      "<items>\n",
      "<item>\n",
      "<datatime>2020-06-05 11:00</datatime>\n",
      "<mangname>도시대기</mangname>\n",
      "<so2value>0.003</so2value>\n",
      "<covalue>0.5</covalue>\n",
      "<o3value>0.030</o3value>\n",
      "<no2value>0.025</no2value>\n",
      "<pm10value>46</pm10value>\n",
      "<pm10value24>42</pm10value24>\n",
      "<pm25value>24</pm25value>\n",
      "<pm25value24>21</pm25value24>\n",
      "<khaivalue>64</khaivalue>\n",
      "<khaigrade>2</khaigrade>\n",
      "<so2grade>1</so2grade>\n",
      "<cograde>1</cograde>\n",
      "<o3grade>1</o3grade>\n",
      "<no2grade>1</no2grade>\n",
      "<pm10grade>2</pm10grade>\n",
      "<pm25grade>2</pm25grade>\n",
      "<pm10grade1h>2</pm10grade1h>\n",
      "<pm25grade1h>2</pm25grade1h>\n",
      "</item>\n",
      "</items>\n",
      "<numofrows>1</numofrows>\n",
      "<pageno>1</pageno>\n",
      "<totalcount>23</totalcount>\n",
      "</response>\n",
      "</body></html>\n"
     ]
    }
   ],
   "source": [
    "# 파싱\n",
    "soup = BeautifulSoup(req.text)\n",
    "print(soup)"
   ]
  },
  {
   "cell_type": "code",
   "execution_count": null,
   "metadata": {},
   "outputs": [],
   "source": []
  },
  {
   "cell_type": "code",
   "execution_count": null,
   "metadata": {},
   "outputs": [],
   "source": []
  },
  {
   "cell_type": "code",
   "execution_count": null,
   "metadata": {},
   "outputs": [],
   "source": []
  },
  {
   "cell_type": "markdown",
   "metadata": {},
   "source": [
    "## 코로나 19 병원정보 API\n",
    "\n",
    "https://www.data.go.kr/data/15043078/openapi.do\n",
    "\n",
    "![covid-api](./images/web_34.png)\n",
    "\n"
   ]
  }
 ],
 "metadata": {
  "kernelspec": {
   "display_name": "Python 3",
   "language": "python",
   "name": "python3"
  },
  "language_info": {
   "codemirror_mode": {
    "name": "ipython",
    "version": 3
   },
   "file_extension": ".py",
   "mimetype": "text/x-python",
   "name": "python",
   "nbconvert_exporter": "python",
   "pygments_lexer": "ipython3",
   "version": "3.7.7"
  }
 },
 "nbformat": 4,
 "nbformat_minor": 4
}
