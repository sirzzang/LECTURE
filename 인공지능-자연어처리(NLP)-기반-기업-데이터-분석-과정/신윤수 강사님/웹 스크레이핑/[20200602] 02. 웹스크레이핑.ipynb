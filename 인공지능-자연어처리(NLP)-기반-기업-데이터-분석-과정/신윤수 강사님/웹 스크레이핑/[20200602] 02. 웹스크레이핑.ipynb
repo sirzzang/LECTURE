{
 "cells": [
  {
   "cell_type": "markdown",
   "metadata": {},
   "source": [
    "# 인사이트\n",
    "\n",
    " 본문을 찾아내는 방법. `newspaper3k` 라이브러리의 방법은 일단 소거하고, 남은 것 중에서도 링크가 달려 있는 것 없는 것. 공백이 많으면? 등등 자기 방법을 고민해 보자."
   ]
  },
  {
   "cell_type": "markdown",
   "metadata": {},
   "source": [
    "# 오늘의 느낀 점\n",
    "\n",
    "1. url 파라미터를 넘기자.\n",
    "2. link 가져오는 방법\n",
    "    - 나는 href로 찾아 오는데,\n",
    "    - 강사님은 selector 이용해서 바로 찾는다. **selector로 찾는 게 더 편하다!!!!!**\n",
    "3. pagination 이용하는 다른 방법.\n",
    "    - 나는 마지막 페이지만 찾아서 반복문 돌렸는데,\n",
    "    - 강사님은 아예 페이지네이션의 링크를 가져 온다.\n",
    "4. selector 이용할 때 주의\n",
    "    - `>` : 태그의 직계 자식만을 의미. `find_all`에서 `recursive=False` 옵션을 준 것과 동일.\n",
    "    - ` ` : 공백은 하위 태그 전체를 의미.\n",
    "5. HTML 페이지 가져올 때 광고 등 빼낼 수 있는 방법은?\n",
    "    - HTML 포맷 보고 빼주거나,\n",
    "    - HTML 페이지 다 가져와서 바뀌는 부분만 남기고 소거하거나."
   ]
  },
  {
   "cell_type": "markdown",
   "metadata": {},
   "source": [
    "# 자주 만나는 오류\n",
    "\n",
    "![error](./images/web_09.png)\n",
    "\n",
    "\n",
    "- SSL 에러 : HTTP, HTTPS 때문에 생김.\n",
    "    - `주의 요함` 크롬 브라우저에 떠 있는 경우/`안전하지 않다`는 경우.\n",
    "    - 현재 url은 `https://`로 되어 있다. 그런데 인증받지 못해서 문제가 생길 수 있음.\n",
    "    \n",
    "- request 요청 보낼 때 verify 옵션을 넣어 준다. : `requests.get(url, verify=False)`\n",
    "\n"
   ]
  },
  {
   "cell_type": "code",
   "execution_count": 101,
   "metadata": {},
   "outputs": [],
   "source": [
    "# module import\n",
    "import requests\n",
    "from bs4 import BeautifulSoup\n",
    "import re\n",
    "from pprint import pprint"
   ]
  },
  {
   "cell_type": "code",
   "execution_count": null,
   "metadata": {},
   "outputs": [],
   "source": []
  },
  {
   "cell_type": "markdown",
   "metadata": {},
   "source": [
    "(0601 연습문제 이어서)\n",
    "* 내가 푼 방법은 `find`했기 때문에 뉴스 토픽만 나옴."
   ]
  },
  {
   "cell_type": "code",
   "execution_count": 2,
   "metadata": {},
   "outputs": [],
   "source": [
    "# 20200602\n",
    "# 강사님 정답\n",
    "\n",
    "# module import\n",
    "import requests\n",
    "from bs4 import BeautifulSoup"
   ]
  },
  {
   "cell_type": "code",
   "execution_count": 19,
   "metadata": {},
   "outputs": [
    {
     "data": {
      "text/plain": [
       "<Response [200]>"
      ]
     },
     "execution_count": 19,
     "metadata": {},
     "output_type": "execute_result"
    }
   ],
   "source": [
    "# url 요청\n",
    "url = \"https://search.naver.com/search.naver?sm=tab_hty.top&where=nexearch&query=%ED%95%9C%EA%B5%AD%EC%9D%80%ED%96%89&oquery=%EB%AC%B4%EC%97%AD%EC%A0%84%EC%9F%81&tqi=UWTPrdprvmssskwbSNwssssstPG-019933\"\n",
    "req = requests.get(url)\n",
    "req # 접속 성공 확인"
   ]
  },
  {
   "cell_type": "code",
   "execution_count": 11,
   "metadata": {},
   "outputs": [
    {
     "name": "stdout",
     "output_type": "stream",
     "text": [
      "<li><a class=\"bx bx_item\" href=\"?where=nexearch&amp;sm=tab_htk.nws&amp;ie=utf8&amp;query=5%EC%9B%94+%EC%86%8C%EB%B9%84%EC%9E%90%EB%AC%BC%EA%B0%80+0.3%25%E2%86%93\" onclick=\"return goOtherCR(this, 'a=htk.nwslist&amp;r=1&amp;i=&amp;u='+urlencode(urlexpand(this.href)));\"><span class=\"keyword\"><em class=\"num\">1</em><span class=\"tit\">5월 소비자물가 0.3%↓</span></span><em class=\"rank new\"><span class=\"spim\"></span><span>NEW</span></em></a></li> <li><a class=\"bx bx_item\" href=\"?where=nexearch&amp;sm=tab_htk.ent&amp;ie=utf8&amp;query=%EB%AF%B8%EC%8A%A4%ED%84%B0%ED%8A%B8%EB%A1%AF+%EC%A0%95%EB%8F%99%EC%9B%90X%EB%82%A8%EC%8A%B9%EB%AF%BC\" onclick=\"return goOtherCR(this, 'a=htk.entslist&amp;r=1&amp;i=&amp;u='+urlencode(urlexpand(this.href)));\"><span class=\"keyword\"><em class=\"num\">1</em><span class=\"tit\">미스터트롯 정동원X남승민</span></span><em class=\"rank new\"><span class=\"spim\"></span><span>NEW</span></em></a></li>\n"
     ]
    }
   ],
   "source": [
    "soup = BeautifulSoup(req.text) # soup 객체 생성\n",
    "\n",
    "# find/find_all로 찾기\n",
    "ols = soup.find_all('ol', class_='lst_realtime_srch')\n",
    "len(ols) # 확인용 : 첫 번째는 뉴스, 두 번째는 연예/스포츠.\n",
    "\n",
    "# 뉴스 및 연예, 스포츠를 zip을 써서 unpack한다.\n",
    "for news_li, enter_li in zip(*ols): # 확인용\n",
    "    print(news_li, enter_li)\n",
    "    break"
   ]
  },
  {
   "cell_type": "code",
   "execution_count": 18,
   "metadata": {},
   "outputs": [
    {
     "name": "stdout",
     "output_type": "stream",
     "text": [
      "['5월 소비자물가 0.3%↓', '흑인 사망 시위', '1분기 성장률', '다우 0.36%↑', '8개월만에 마이너스 물가', '대청호에 차량 추락', '3명 사망 2명 부상', '오늘 영장심사', '전 세계 확산', 'G7 초청 기꺼이 응할 것']\n",
      "['미스터트롯 정동원X남승민', '해군 문화 홍보단 지원', '동상이몽2 정찬성', '백종원 백파더', '첫방 가족입니다', '장제원 아들 노엘', '이연희 오늘 결혼', '박보검 해군 군악병 지원', '가족입니다 원미경', '미스터트롯 발매']\n"
     ]
    }
   ],
   "source": [
    "result_news_list = []\n",
    "result_enter_list = []\n",
    "\n",
    "# class가 'tit'인 내용만 불러 오면 된다.\n",
    "for news_li, enter_li in zip(*ols):\n",
    "    news_kwd = news_li.find('span', class_='tit').get_text()\n",
    "    enter_kwd = enter_li.find('span', class_='tit').get_text()\n",
    "    \n",
    "    # 결과 저장\n",
    "    result_news_list.append(news_kwd)\n",
    "    result_enter_list.append(enter_kwd)\n",
    "    \n",
    "print(result_news_list)\n",
    "print(result_enter_list)"
   ]
  },
  {
   "cell_type": "code",
   "execution_count": 41,
   "metadata": {},
   "outputs": [
    {
     "data": {
      "text/plain": [
       "[<span class=\"tit\">5월 소비자물가 0.3%↓</span>,\n",
       " <span class=\"tit\">흑인 사망 시위</span>,\n",
       " <span class=\"tit\">1분기 성장률</span>,\n",
       " <span class=\"tit\">다우 0.36%↑</span>,\n",
       " <span class=\"tit\">8개월만에 마이너스 물가</span>,\n",
       " <span class=\"tit\">대청호에 차량 추락</span>,\n",
       " <span class=\"tit\">3명 사망 2명 부상</span>,\n",
       " <span class=\"tit\">오늘 영장심사</span>,\n",
       " <span class=\"tit\">전 세계 확산</span>,\n",
       " <span class=\"tit\">G7 초청 기꺼이 응할 것</span>,\n",
       " <span class=\"tit\">미스터트롯 정동원X남승민</span>,\n",
       " <span class=\"tit\">해군 문화 홍보단 지원</span>,\n",
       " <span class=\"tit\">동상이몽2 정찬성</span>,\n",
       " <span class=\"tit\">백종원 백파더</span>,\n",
       " <span class=\"tit\">첫방 가족입니다</span>,\n",
       " <span class=\"tit\">장제원 아들 노엘</span>,\n",
       " <span class=\"tit\">이연희 오늘 결혼</span>,\n",
       " <span class=\"tit\">박보검 해군 군악병 지원</span>,\n",
       " <span class=\"tit\">가족입니다 원미경</span>,\n",
       " <span class=\"tit\">미스터트롯 발매</span>]"
      ]
     },
     "execution_count": 41,
     "metadata": {},
     "output_type": "execute_result"
    }
   ],
   "source": [
    "# select 활용\n",
    "ols = soup.select('ol.lst_realtime_srch span.tit')\n",
    "# class가 lst_realtime_srch인 ol의 자식으로 있는 span인데(바로 밑 자식은 아님) class가 title.\n",
    "ols # span만 한 번에 가져 옴."
   ]
  },
  {
   "cell_type": "code",
   "execution_count": 42,
   "metadata": {
    "scrolled": true
   },
   "outputs": [
    {
     "name": "stdout",
     "output_type": "stream",
     "text": [
      "['5월 소비자물가 0.3%↓', '흑인 사망 시위', '1분기 성장률', '다우 0.36%↑', '8개월만에 마이너스 물가', '대청호에 차량 추락', '3명 사망 2명 부상', '오늘 영장심사', '전 세계 확산', 'G7 초청 기꺼이 응할 것']\n",
      "['미스터트롯 정동원X남승민', '해군 문화 홍보단 지원', '동상이몽2 정찬성', '백종원 백파더', '첫방 가족입니다', '장제원 아들 노엘', '이연희 오늘 결혼', '박보검 해군 군악병 지원', '가족입니다 원미경', '미스터트롯 발매']\n"
     ]
    }
   ],
   "source": [
    "ols = [ol.get_text() for ol in ols]\n",
    "\n",
    "news_list = []\n",
    "enter_list = []\n",
    "\n",
    "for news_k, enter_k in zip(ols[:10], ols[10:]):\n",
    "    news_list.append(news_k)\n",
    "    enter_list.append(enter_k)\n",
    "\n",
    "print(news_list)\n",
    "print(enter_list)"
   ]
  },
  {
   "cell_type": "code",
   "execution_count": null,
   "metadata": {},
   "outputs": [],
   "source": []
  },
  {
   "cell_type": "markdown",
   "metadata": {},
   "source": [
    "### HTML 구조\n",
    "\n",
    "```\n",
    "<!DOCTYPE html>\n",
    "<html lang> ... : html 태그\n",
    "<head> ... </head> : 바디를 잘 보여주기 위한 메타데이터, description.\n",
    "<body> ... </body>: 구성요소. 눈에 보이는 것. html 태그들이 포함되어 있음.\n",
    "```\n",
    "\n",
    "(사진)"
   ]
  },
  {
   "cell_type": "code",
   "execution_count": null,
   "metadata": {},
   "outputs": [],
   "source": []
  },
  {
   "cell_type": "markdown",
   "metadata": {},
   "source": [
    "<연습문제 4> \n",
    "\n",
    "(이어 풀기)\n",
    "\n",
    "* 질문 : 블로그 스크레이핑이 안 돼요 ㅠㅠ\n",
    "\n",
    "#### 원래 안 되는 거예요!! 다른 방법을..."
   ]
  },
  {
   "cell_type": "code",
   "execution_count": 43,
   "metadata": {},
   "outputs": [],
   "source": [
    "from selenium import webdriver\n",
    "from selenium.webdriver.common.by import By\n",
    "from selenium.webdriver.support.ui import WebDriverWait\n",
    "from selenium.webdriver.support import expected_conditions as EC\n",
    "\n",
    "from urllib.parse import urlencode"
   ]
  },
  {
   "cell_type": "code",
   "execution_count": 26,
   "metadata": {},
   "outputs": [],
   "source": [
    "query = '기아타이거즈'\n",
    "QUERY = urlencode({'query':query}, encoding='utf-8')"
   ]
  },
  {
   "cell_type": "code",
   "execution_count": 27,
   "metadata": {},
   "outputs": [
    {
     "name": "stdout",
     "output_type": "stream",
     "text": [
      "https://search.naver.com/search.naver?query=%EA%B8%B0%EC%95%84%ED%83%80%EC%9D%B4%EA%B1%B0%EC%A6%88&sm=tab_pge&srchby=all&st=sim&where=post\n"
     ]
    }
   ],
   "source": [
    "# 기본 블로그 url\n",
    "blog_url = f\"https://search.naver.com/search.naver?{QUERY}&sm=tab_pge&srchby=all&st=sim&where=post\"\n",
    "print(blog_url)"
   ]
  },
  {
   "cell_type": "code",
   "execution_count": 28,
   "metadata": {
    "scrolled": true
   },
   "outputs": [
    {
     "name": "stdout",
     "output_type": "stream",
     "text": [
      "<Response [200]>\n",
      "10\n",
      "<Response [200]>\n",
      "10\n",
      "<Response [200]>\n",
      "10\n",
      "<Response [200]>\n",
      "10\n",
      "<Response [200]>\n",
      "10\n",
      "50\n"
     ]
    }
   ],
   "source": [
    "# 블로그 글 5페이지까지 돌면서 link 가져오기\n",
    "links = []\n",
    "\n",
    "for i in range(5):\n",
    "    url = f\"{blog_url}&start={i*10 + 1}\"\n",
    "    req = requests.get(url)\n",
    "    print(req) # 체크용\n",
    "    \n",
    "    soup = BeautifulSoup(req.text)\n",
    "    anchors = soup.find_all('a', {'class' : 'sh_blog_title'})\n",
    "    print(len(anchors))\n",
    "    \n",
    "    for anchor in anchors:\n",
    "        links.append(anchor['href'])\n",
    "\n",
    "print(len(links))"
   ]
  },
  {
   "cell_type": "code",
   "execution_count": 46,
   "metadata": {},
   "outputs": [
    {
     "data": {
      "text/plain": [
       "[<a class=\"sh_blog_title _sp_each_url _sp_each_title\" href=\"https://blog.naver.com/pickmon_04?Redirect=Log&amp;logNo=221971211151\" onclick=\"return goOtherCR(this, 'a=blg*i.tit&amp;r=41&amp;i=90000003_0000000000000033AE83E38F&amp;u='+urlencode(this.href))\" target=\"_blank\" title=\"[KBO] 05월20일 기아타이거즈 롯데자이언츠 : 이 투수가 선발로 나왔을 때 아직까지 득점지원이 0점이죠?\">[KBO] 05월20일 <strong class=\"hl\">기아타이거즈</strong> 롯데자이언츠 : 이 투수가 선발로...</a>,\n",
       " <a class=\"sh_blog_title _sp_each_url _sp_each_title\" href=\"https://blog.naver.com/formation_9776?Redirect=Log&amp;logNo=221971894600\" onclick=\"return goOtherCR(this, 'a=blg*i.tit&amp;r=42&amp;i=90000003_0000000000000033AE8E5148&amp;u='+urlencode(this.href))\" target=\"_blank\" title=\"2020년5월21일 롯데자이언츠 vs 기아타이거즈 / 국내야구 집중분석\">2020년5월21일 롯데자이언츠 vs <strong class=\"hl\">기아타이거즈</strong> / 국내야구...</a>,\n",
       " <a class=\"sh_blog_title _sp_each_url _sp_each_title\" href=\"https://blog.naver.com/80cjm?Redirect=Log&amp;logNo=221960677427\" onclick=\"return goOtherCR(this, 'a=blg*i.tit&amp;r=43&amp;i=90000003_0000000000000033ADE32833&amp;u='+urlencode(this.href))\" target=\"_blank\" title=\"2020시즌 20200512 기아 타이거즈 브룩스와 나지완\">2020시즌 20200512 <strong class=\"hl\">기아 타이거즈</strong> 브룩스와 나지완</a>,\n",
       " <a class=\"sh_blog_title _sp_each_url _sp_each_title\" href=\"https://blog.naver.com/optatumplatform?Redirect=Log&amp;logNo=221979308550\" onclick=\"return goOtherCR(this, 'a=blg*i.tit&amp;r=44&amp;i=90000003_0000000000000033AEFF7206&amp;u='+urlencode(this.href))\" target=\"_blank\" title=\"예금, 적금 상품-기아타이거즈 예금,적금\">예금, 적금 상품-<strong class=\"hl\">기아타이거즈</strong> 예금,적금</a>,\n",
       " <a class=\"sh_blog_title _sp_each_url _sp_each_title\" href=\"https://blog.naver.com/nabibelle?Redirect=Log&amp;logNo=221963368300\" onclick=\"return goOtherCR(this, 'a=blg*i.tit&amp;r=45&amp;i=90000003_0000000000000033AE0C376C&amp;u='+urlencode(this.href))\" target=\"_blank\" title=\"2020 프로야구 기아타이거즈 처음 한화 만난 3연전 결과는?\">2020 프로야구 <strong class=\"hl\">기아타이거즈</strong> 처음 한화 만난 3연전 결과는?</a>,\n",
       " <a class=\"sh_blog_title _sp_each_url _sp_each_title\" href=\"https://blog.naver.com/mr_mo_mo?Redirect=Log&amp;logNo=221931903246\" onclick=\"return goOtherCR(this, 'a=blg*i.tit&amp;r=46&amp;i=90000003_0000000000000033AC2C190E&amp;u='+urlencode(this.href))\" target=\"_blank\" title=\"슈베카 싸인카드 기아타이거즈 임기준 곽정철\">슈베카 싸인카드 <strong class=\"hl\">기아타이거즈</strong> 임기준 곽정철</a>,\n",
       " <a class=\"sh_blog_title _sp_each_url _sp_each_title\" href=\"https://blog.naver.com/benztata?Redirect=Log&amp;logNo=221974282044\" onclick=\"return goOtherCR(this, 'a=blg*i.tit&amp;r=47&amp;i=90000003_0000000000000033AEB2BF3C&amp;u='+urlencode(this.href))\" target=\"_blank\" title=\"5월22일 KBO분석 기아 타이거즈 SK 와이번스\">5월22일 KBO분석 <strong class=\"hl\">기아 타이거즈</strong> SK 와이번스</a>,\n",
       " <a class=\"sh_blog_title _sp_each_url _sp_each_title\" href=\"https://blog.naver.com/mt_park?Redirect=Log&amp;logNo=221984037735\" onclick=\"return goOtherCR(this, 'a=blg*i.tit&amp;r=48&amp;i=90000003_0000000000000033AF479B67&amp;u='+urlencode(this.href))\" target=\"_blank\" title=\"기아타이거즈 김호령 성장이야기와 연봉\"><strong class=\"hl\">기아타이거즈</strong> 김호령 성장이야기와 연봉</a>,\n",
       " <a class=\"sh_blog_title _sp_each_url _sp_each_title\" href=\"https://blog.naver.com/kthee33?Redirect=Log&amp;logNo=221986176626\" onclick=\"return goOtherCR(this, 'a=blg*i.tit&amp;r=49&amp;i=90000003_0000000000000033AF683E72&amp;u='+urlencode(this.href))\" target=\"_blank\" title=\"2020 6월 2일 프로야구 선발투수/ 롯데자이언츠 vs 기아타이거즈\">6월 2일 프로야구 선발투수/ 롯데자이언츠 vs <strong class=\"hl\">기아타이거즈</strong></a>,\n",
       " <a class=\"sh_blog_title _sp_each_url _sp_each_title\" href=\"https://blog.naver.com/dgb7171?Redirect=Log&amp;logNo=221979153048\" onclick=\"return goOtherCR(this, 'a=blg*i.tit&amp;r=50&amp;i=90000003_0000000000000033AEFD1298&amp;u='+urlencode(this.href))\" target=\"_blank\" title=\"[KBO] 기아타이거즈 vs KT위즈 5월26일\">[KBO] <strong class=\"hl\">기아타이거즈</strong> vs KT위즈 5월26일</a>]"
      ]
     },
     "execution_count": 46,
     "metadata": {},
     "output_type": "execute_result"
    }
   ],
   "source": [
    "anchors"
   ]
  },
  {
   "cell_type": "code",
   "execution_count": 30,
   "metadata": {},
   "outputs": [
    {
     "name": "stdout",
     "output_type": "stream",
     "text": [
      "https://blog.naver.com/jyong2288?Redirect=Log&logNo=221972724113\n",
      "https://blog.naver.com/psbear?Redirect=Log&logNo=221981936696\n",
      "https://blog.naver.com/tmdgh2040?Redirect=Log&logNo=221981265398\n",
      "https://toxicnaomi.blog.me/221947006629\n",
      "https://blog.naver.com/pkijj04?Redirect=Log&logNo=221975138084\n",
      "https://blog.naver.com/imaplus?Redirect=Log&logNo=221951270588\n",
      "https://blog.naver.com/nabibelle?Redirect=Log&logNo=221977027811\n",
      "https://blog.naver.com/grappler39?Redirect=Log&logNo=221946915356\n",
      "https://blog.naver.com/ekschf?Redirect=Log&logNo=221986637239\n",
      "https://blog.naver.com/pickmon_04?Redirect=Log&logNo=221981732445\n",
      "https://blog.naver.com/hanjinlee21?Redirect=Log&logNo=221956697661\n",
      "https://blog.naver.com/gkxodnjsdjflsdl?Redirect=Log&logNo=221968761493\n",
      "https://blog.naver.com/tou2me?Redirect=Log&logNo=221951806448\n",
      "https://qorskawn5.blog.me/221960514369\n",
      "https://blog.naver.com/vervexerox?Redirect=Log&logNo=221982941615\n",
      "https://blog.naver.com/niceccc?Redirect=Log&logNo=221986558513\n",
      "https://blog.naver.com/freeze_13782?Redirect=Log&logNo=221958770009\n",
      "https://blog.naver.com/pkijj04?Redirect=Log&logNo=221975534891\n",
      "https://blog.naver.com/imaplus?Redirect=Log&logNo=221947077586\n",
      "https://blog.naver.com/nabibelle?Redirect=Log&logNo=221982686563\n",
      "https://blog.naver.com/jinyh97?Redirect=Log&logNo=221971727020\n",
      "https://blog.naver.com/mt_park?Redirect=Log&logNo=221959149763\n",
      "https://blog.naver.com/nextf4?Redirect=Log&logNo=221984999040\n",
      "https://blog.naver.com/luv0625?Redirect=Log&logNo=221974884815\n",
      "https://blog.naver.com/jichangmin84?Redirect=Log&logNo=221954589555\n",
      "https://blog.naver.com/kthee33?Redirect=Log&logNo=221968798137\n",
      "https://blog.naver.com/mr_mo_mo?Redirect=Log&logNo=221781635447\n",
      "https://blog.naver.com/reliable0723?Redirect=Log&logNo=221978017103\n",
      "https://blog.naver.com/thryo1?Redirect=Log&logNo=221981908600\n",
      "https://blog.naver.com/cousin_576?Redirect=Log&logNo=221968629333\n",
      "https://blog.naver.com/tou2me?Redirect=Log&logNo=221947868949\n",
      "https://blog.naver.com/dgb7171?Redirect=Log&logNo=221980432546\n",
      "https://blog.naver.com/nabibelle?Redirect=Log&logNo=221951483954\n",
      "https://blog.naver.com/dishkhduyu771?Redirect=Log&logNo=221986343042\n",
      "https://blog.naver.com/mt_park?Redirect=Log&logNo=221982913412\n",
      "https://blog.naver.com/bluesadism0?Redirect=Log&logNo=221981674502\n",
      "https://blog.naver.com/nextf4?Redirect=Log&logNo=221986040416\n",
      "https://blog.naver.com/ggw893?Redirect=Log&logNo=221981413191\n",
      "https://blog.naver.com/nakawony?Redirect=Log&logNo=221986759312\n",
      "https://1tym0420.blog.me/221970926907\n",
      "https://blog.naver.com/pickmon_04?Redirect=Log&logNo=221971211151\n",
      "https://blog.naver.com/formation_9776?Redirect=Log&logNo=221971894600\n",
      "https://blog.naver.com/80cjm?Redirect=Log&logNo=221960677427\n",
      "https://blog.naver.com/optatumplatform?Redirect=Log&logNo=221979308550\n",
      "https://blog.naver.com/nabibelle?Redirect=Log&logNo=221963368300\n",
      "https://blog.naver.com/mr_mo_mo?Redirect=Log&logNo=221931903246\n",
      "https://blog.naver.com/benztata?Redirect=Log&logNo=221974282044\n",
      "https://blog.naver.com/mt_park?Redirect=Log&logNo=221984037735\n",
      "https://blog.naver.com/kthee33?Redirect=Log&logNo=221986176626\n",
      "https://blog.naver.com/dgb7171?Redirect=Log&logNo=221979153048\n"
     ]
    }
   ],
   "source": [
    "for link in links:\n",
    "    print(link)"
   ]
  },
  {
   "cell_type": "code",
   "execution_count": null,
   "metadata": {},
   "outputs": [],
   "source": [
    "# 각 블로그에서 제목과 글 작성자, 글 내용 가져오기\n",
    "\n",
    "for i in range(len(links)):\n",
    "    req = requests.get(links[i])\n",
    "    \n",
    "    if i % 5 == 0: # for check\n",
    "        print(i, req)\n",
    "    \n",
    "    soup = BeautifulSoup(req.text)\n",
    "    \n",
    "    title = soup.find()"
   ]
  },
  {
   "cell_type": "code",
   "execution_count": null,
   "metadata": {},
   "outputs": [],
   "source": [
    "driver = webdriver.Chrome('./chromedriver.exe')"
   ]
  },
  {
   "cell_type": "code",
   "execution_count": 45,
   "metadata": {
    "scrolled": true
   },
   "outputs": [
    {
     "ename": "TimeoutException",
     "evalue": "Message: \n",
     "output_type": "error",
     "traceback": [
      "\u001b[1;31m---------------------------------------------------------------------------\u001b[0m",
      "\u001b[1;31mTimeoutException\u001b[0m                          Traceback (most recent call last)",
      "\u001b[1;32m<ipython-input-45-e944fea23db7>\u001b[0m in \u001b[0;36m<module>\u001b[1;34m\u001b[0m\n\u001b[0;32m      8\u001b[0m \u001b[1;32mtry\u001b[0m\u001b[1;33m:\u001b[0m\u001b[1;33m\u001b[0m\u001b[1;33m\u001b[0m\u001b[0m\n\u001b[0;32m      9\u001b[0m     element = WebDriverWait(driver, 10).until(\n\u001b[1;32m---> 10\u001b[1;33m         \u001b[0mEC\u001b[0m\u001b[1;33m.\u001b[0m\u001b[0mpresence_of_element_located\u001b[0m\u001b[1;33m(\u001b[0m\u001b[1;33m(\u001b[0m\u001b[0mBy\u001b[0m\u001b[1;33m.\u001b[0m\u001b[0mCLASS_NAME\u001b[0m\u001b[1;33m,\u001b[0m \u001b[1;34m\"se-component-content\"\u001b[0m\u001b[1;33m)\u001b[0m\u001b[1;33m)\u001b[0m\u001b[1;33m\u001b[0m\u001b[1;33m\u001b[0m\u001b[0m\n\u001b[0m\u001b[0;32m     11\u001b[0m     )\n\u001b[0;32m     12\u001b[0m \u001b[1;32mfinally\u001b[0m\u001b[1;33m:\u001b[0m\u001b[1;33m\u001b[0m\u001b[1;33m\u001b[0m\u001b[0m\n",
      "\u001b[1;32m~\\.conda\\envs\\multi_sir950123\\lib\\site-packages\\selenium\\webdriver\\support\\wait.py\u001b[0m in \u001b[0;36muntil\u001b[1;34m(self, method, message)\u001b[0m\n\u001b[0;32m     78\u001b[0m             \u001b[1;32mif\u001b[0m \u001b[0mtime\u001b[0m\u001b[1;33m.\u001b[0m\u001b[0mtime\u001b[0m\u001b[1;33m(\u001b[0m\u001b[1;33m)\u001b[0m \u001b[1;33m>\u001b[0m \u001b[0mend_time\u001b[0m\u001b[1;33m:\u001b[0m\u001b[1;33m\u001b[0m\u001b[1;33m\u001b[0m\u001b[0m\n\u001b[0;32m     79\u001b[0m                 \u001b[1;32mbreak\u001b[0m\u001b[1;33m\u001b[0m\u001b[1;33m\u001b[0m\u001b[0m\n\u001b[1;32m---> 80\u001b[1;33m         \u001b[1;32mraise\u001b[0m \u001b[0mTimeoutException\u001b[0m\u001b[1;33m(\u001b[0m\u001b[0mmessage\u001b[0m\u001b[1;33m,\u001b[0m \u001b[0mscreen\u001b[0m\u001b[1;33m,\u001b[0m \u001b[0mstacktrace\u001b[0m\u001b[1;33m)\u001b[0m\u001b[1;33m\u001b[0m\u001b[1;33m\u001b[0m\u001b[0m\n\u001b[0m\u001b[0;32m     81\u001b[0m \u001b[1;33m\u001b[0m\u001b[0m\n\u001b[0;32m     82\u001b[0m     \u001b[1;32mdef\u001b[0m \u001b[0muntil_not\u001b[0m\u001b[1;33m(\u001b[0m\u001b[0mself\u001b[0m\u001b[1;33m,\u001b[0m \u001b[0mmethod\u001b[0m\u001b[1;33m,\u001b[0m \u001b[0mmessage\u001b[0m\u001b[1;33m=\u001b[0m\u001b[1;34m''\u001b[0m\u001b[1;33m)\u001b[0m\u001b[1;33m:\u001b[0m\u001b[1;33m\u001b[0m\u001b[1;33m\u001b[0m\u001b[0m\n",
      "\u001b[1;31mTimeoutException\u001b[0m: Message: \n"
     ]
    }
   ],
   "source": [
    "# 확인용\n",
    "\n",
    "test_url = \"https://blog.naver.com/jyong2288?Redirect=Log&logNo=221972724113\"\n",
    "\n",
    "driver = webdriver.Chrome('./chromedriver.exe')\n",
    "driver.get(test_url)\n",
    "\n",
    "try:\n",
    "    element = WebDriverWait(driver, 10).until(\n",
    "        EC.presence_of_element_located((By.CLASS_NAME, \"se-component-content\"))\n",
    "    )\n",
    "finally:\n",
    "    driver.quit()\n",
    "\n",
    "\n",
    "# driver.get(test_url)\n",
    "# driver.implicitly_wait(5)\n",
    "html = driver.page_source\n",
    "print(html)"
   ]
  },
  {
   "cell_type": "markdown",
   "metadata": {},
   "source": [
    "<연습문제 3.5, 4 강사님 풀이>\n",
    "\n",
    "* **params**를 넘기자~"
   ]
  },
  {
   "cell_type": "code",
   "execution_count": null,
   "metadata": {},
   "outputs": [],
   "source": [
    "# 강사님 정답 1) : 뉴스 링크 가져오기 \n",
    "\n",
    "base_url = \"https://search.naver.com/search.naver?where=post&sm=tab_jum&query=%EA%B8%B0%EC%95%84%ED%83%80%EC%9D%B4%EA%B1%B0%EC%A6%88\"\n",
    "\n",
    "result_list = []\n",
    "\n",
    "# url crawling\n",
    "for i in range(1, 50, 10):\n",
    "    url = base_url.format(i)\n",
    "    \n",
    "    resp = requests.get(url)\n",
    "    soup = BeautifulSoup(resp.text)\n",
    "    anchor_title_tag = soup.select('ul.type01>li a._sp_each_title')\n",
    "    for anchor_tag in anchor_title_tag:\n",
    "        result_list.append({\n",
    "            'title' : anchor_tag.text,\n",
    "            'url' : anchor_tag.get('href')\n",
    "        })\n",
    "    "
   ]
  },
  {
   "cell_type": "code",
   "execution_count": 103,
   "metadata": {
    "scrolled": false
   },
   "outputs": [
    {
     "name": "stdout",
     "output_type": "stream",
     "text": [
      "검색어를 입력해주세요. 양현종\n",
      "몇 페이지까지 가져올까요? 3\n",
      "[{'title': \"[SC핫플레이어]'4승, 0.51' 구창모, '우상' 양현종 넘었다\",\n",
      "  'url': 'http://sports.chosun.com/news/ntype.htm?id=202006020100017000000824&servicedate=20200602'},\n",
      " {'title': '대투수 양현종 등판 전날 온다고 부담스러워 하더니 外[SS 주간방담]',\n",
      "  'url': 'http://www.sportsseoul.com/news/read/922371?ref=naver'},\n",
      " {'title': '멈춰버린 스카우팅리포트…양현종은 MLB에 진출할 수 있을까',\n",
      "  'url': 'http://yna.kr/AKR20200601178700007?did=1195m'},\n",
      " {'title': '구창모, 양현종 류현진 시대 마감 선언 [성일만 야구선임기자의 핀치히터]',\n",
      "  'url': 'http://www.fnnews.com/news/202006011446092652'},\n",
      " {'title': \"[B스토리] 류현진·양현종도 비켜라! 올해는 구창모가 '왕'이다\",\n",
      "  'url': 'http://star.mt.co.kr/stview.php?no=2020060210085398644'},\n",
      " {'title': \"NC 구창모의 '역대급' 초구 스트라이크 비율 '76.4%'\",\n",
      "  'url': 'http://yna.kr/AKR20200602032400007?did=1195m'},\n",
      " {'title': '\"흥미로운 매치업\" 윌리엄스의 소형준 경계&양현종 칭찬[MD토크]',\n",
      "  'url': 'http://www.mydaily.co.kr/new_yk/html/read.php?newsid=202005281739639857&ext=na'},\n",
      " {'title': \"[IS 수원]KIA 양현종, KT전 시즌 최다 피안타+실점...'고전'\",\n",
      "  'url': 'http://isplus.live.joins.com/news/article/article.asp?total_id=23788495'},\n",
      " {'title': \"알고보니 에이스? 이민우, 호투 비결은 '양현종과 승수내기' [오!쎈 광주]\",\n",
      "  'url': 'http://www.osen.co.kr/article/G1111364292'},\n",
      " {'title': \"'소문난 잔치?' 아쉬움만 남은 양현종-소형준 맞대결\",\n",
      "  'url': 'http://www.newsis.com/view/?id=NISX20200528_0001040963&cID=10502&pID=10500'},\n",
      " {'title': \"'미래' 소형준은 '현재' 양현종을 유심히 눈에 담았다[MD이슈]\",\n",
      "  'url': 'http://www.mydaily.co.kr/new_yk/html/read.php?newsid=202005290042351206&ext=na'},\n",
      " {'title': '[포토]양현종,안풀리네~',\n",
      "  'url': 'http://isplus.live.joins.com/news/article/article.asp?total_id=23788460'},\n",
      " {'title': '[포토]양현종,선발 역투',\n",
      "  'url': 'http://isplus.live.joins.com/news/article/article.asp?total_id=23788404'},\n",
      " {'title': '[포토]양현종,쉽지 않아~',\n",
      "  'url': 'http://isplus.live.joins.com/news/article/article.asp?total_id=23788420'},\n",
      " {'title': '[포토]양현종,진땀 나네',\n",
      "  'url': 'http://isplus.live.joins.com/news/article/article.asp?total_id=23788421'},\n",
      " {'title': 'KIA, 5할 승률 6월에도 이어질까', 'url': 'https://jnilbo.com/?p=913624'},\n",
      " {'title': '[포토]양현종,승리를 위하여',\n",
      "  'url': 'http://isplus.live.joins.com/news/article/article.asp?total_id=23788406'},\n",
      " {'title': '[포토]양현종,대량실점이 믿기질 않아',\n",
      "  'url': 'http://isplus.live.joins.com/news/article/article.asp?total_id=23788459'},\n",
      " {'title': '\\'캡틴\\' 양현종에 대만족, 윌리엄스 감독 \"모든 면에서 프로페셔널\"[SS현장]',\n",
      "  'url': 'http://www.sportsseoul.com/news/read/921069?ref=naver'},\n",
      " {'title': '양현종의 도발? 이강철 kt 감독에게 \"감독님 기록 깨야죠\"',\n",
      "  'url': 'http://yna.kr/AKR20200527146900007?did=1195m'},\n",
      " {'title': \"[포토] 양현종 '시즌 4승을 향하여'\",\n",
      "  'url': 'http://sports.chosun.com/news/ntype.htm?id=202005280100259310018208&servicedate=20200528'},\n",
      " {'title': '패전에 고개 떨군 양현종 [MK포토]',\n",
      "  'url': 'http://mksports.co.kr/view/2020/549456/'},\n",
      " {'title': '양현종 `이게 아닌데~` [MK포토]',\n",
      "  'url': 'http://mksports.co.kr/view/2020/549200/'},\n",
      " {'title': \"[포토] 양현종 '안 풀린 4회, 아쉬운 5실점'\",\n",
      "  'url': 'http://sports.chosun.com/news/ntype.htm?id=202005280100260610018331&servicedate=20200528'},\n",
      " {'title': '양현종 `만루위기 넘겼다` [MK포토]',\n",
      "  'url': 'http://mksports.co.kr/view/2020/549120/'},\n",
      " {'title': 'KIA가 진 것이지 양현종이 패한 건 아니다',\n",
      "  'url': 'https://www.nocutnews.co.kr/news/5352201'},\n",
      " {'title': '[포토] 양현종, 오늘 날씨 좋네요~',\n",
      "  'url': 'http://sports.chosun.com/news/ntype.htm?id=202005270100243500017198&servicedate=20200527'},\n",
      " {'title': '양현종vs소형준, 투수전 예상은 완벽히 빗나갔다[MD현장]',\n",
      "  'url': 'http://www.mydaily.co.kr/new_yk/html/read.php?newsid=202005282136348014&ext=na'},\n",
      " {'title': '[덕아웃&] 이강철 감독 \"소형준, 양현종과 맞대결 져도 본전이니…\"',\n",
      "  'url': 'https://www.news1.kr/articles/?3948513'},\n",
      " {'title': '19세 소형준, 양현종에 밀리지 않았다',\n",
      "  'url': 'http://news.khan.co.kr/kh_news/khan_art_view.html?artid=202005290012005&code=980101'}]\n"
     ]
    }
   ],
   "source": [
    "# 강사님 정답 2) : 뉴스 링크 가져오기\n",
    "\n",
    "base_url = \"https://search.naver.com/search.naver\"\n",
    "\n",
    "query = input(\"검색어를 입력해주세요. \")\n",
    "page_limit = int(input(\"몇 페이지까지 가져올까요? \"))\n",
    "\n",
    "params = {'where': 'news', \n",
    "         'query': query,\n",
    "         'start': 0}\n",
    "\n",
    "result_list = []\n",
    "\n",
    "for i in range(page_limit):\n",
    "    params['start'] = i*10 + 1# 검색 결과 페이지 바꿔주기 위함.\n",
    "    resp = requests.get(base_url, params=params)\n",
    "    \n",
    "    soup = BeautifulSoup(resp.text)\n",
    "    anchor_title_tag = soup.select('ul.type01>li a._sp_each_title')\n",
    "    for anchor_tag in anchor_title_tag:\n",
    "        result_list.append({\n",
    "            'title' : anchor_tag.text,\n",
    "            'url' : anchor_tag.get('href')\n",
    "        })\n",
    "\n",
    "pprint(result_list)"
   ]
  },
  {
   "cell_type": "markdown",
   "metadata": {},
   "source": [
    "* pagination 접근에서는 start가 없다.\n",
    "* pagination을 나타내는 태그를 찾는다\n",
    "    - `div.paging`\n",
    "    - 현재 페이지: strong으로 감싸져 있음.\n",
    "* 페이지 번호마다 링크가 있다."
   ]
  },
  {
   "cell_type": "code",
   "execution_count": 107,
   "metadata": {},
   "outputs": [
    {
     "name": "stdout",
     "output_type": "stream",
     "text": [
      "검색어를 입력해주세요. 기아타이거즈\n"
     ]
    },
    {
     "data": {
      "text/plain": [
       "{'2': '?&where=news&query=%EA%B8%B0%EC%95%84%ED%83%80%EC%9D%B4%EA%B1%B0%EC%A6%88&sm=tab_pge&sort=0&photo=0&field=0&reporter_article=&pd=0&ds=&de=&docid=&nso=so:r,p:all,a:all&mynews=0&cluster_rank=19&start=11',\n",
       " '3': '?&where=news&query=%EA%B8%B0%EC%95%84%ED%83%80%EC%9D%B4%EA%B1%B0%EC%A6%88&sm=tab_pge&sort=0&photo=0&field=0&reporter_article=&pd=0&ds=&de=&docid=&nso=so:r,p:all,a:all&mynews=0&cluster_rank=19&start=21',\n",
       " '4': '?&where=news&query=%EA%B8%B0%EC%95%84%ED%83%80%EC%9D%B4%EA%B1%B0%EC%A6%88&sm=tab_pge&sort=0&photo=0&field=0&reporter_article=&pd=0&ds=&de=&docid=&nso=so:r,p:all,a:all&mynews=0&cluster_rank=19&start=31',\n",
       " '5': '?&where=news&query=%EA%B8%B0%EC%95%84%ED%83%80%EC%9D%B4%EA%B1%B0%EC%A6%88&sm=tab_pge&sort=0&photo=0&field=0&reporter_article=&pd=0&ds=&de=&docid=&nso=so:r,p:all,a:all&mynews=0&cluster_rank=19&start=41',\n",
       " '6': '?&where=news&query=%EA%B8%B0%EC%95%84%ED%83%80%EC%9D%B4%EA%B1%B0%EC%A6%88&sm=tab_pge&sort=0&photo=0&field=0&reporter_article=&pd=0&ds=&de=&docid=&nso=so:r,p:all,a:all&mynews=0&cluster_rank=19&start=51',\n",
       " '7': '?&where=news&query=%EA%B8%B0%EC%95%84%ED%83%80%EC%9D%B4%EA%B1%B0%EC%A6%88&sm=tab_pge&sort=0&photo=0&field=0&reporter_article=&pd=0&ds=&de=&docid=&nso=so:r,p:all,a:all&mynews=0&cluster_rank=19&start=61',\n",
       " '8': '?&where=news&query=%EA%B8%B0%EC%95%84%ED%83%80%EC%9D%B4%EA%B1%B0%EC%A6%88&sm=tab_pge&sort=0&photo=0&field=0&reporter_article=&pd=0&ds=&de=&docid=&nso=so:r,p:all,a:all&mynews=0&cluster_rank=19&start=71',\n",
       " '9': '?&where=news&query=%EA%B8%B0%EC%95%84%ED%83%80%EC%9D%B4%EA%B1%B0%EC%A6%88&sm=tab_pge&sort=0&photo=0&field=0&reporter_article=&pd=0&ds=&de=&docid=&nso=so:r,p:all,a:all&mynews=0&cluster_rank=19&start=81',\n",
       " '10': '?&where=news&query=%EA%B8%B0%EC%95%84%ED%83%80%EC%9D%B4%EA%B1%B0%EC%A6%88&sm=tab_pge&sort=0&photo=0&field=0&reporter_article=&pd=0&ds=&de=&docid=&nso=so:r,p:all,a:all&mynews=0&cluster_rank=19&start=91',\n",
       " '다음페이지': '?&where=news&query=%EA%B8%B0%EC%95%84%ED%83%80%EC%9D%B4%EA%B1%B0%EC%A6%88&sm=tab_pge&sort=0&photo=0&field=0&reporter_article=&pd=0&ds=&de=&docid=&nso=so:r,p:all,a:all&mynews=0&cluster_rank=19&start=11'}"
      ]
     },
     "execution_count": 107,
     "metadata": {},
     "output_type": "execute_result"
    }
   ],
   "source": [
    "# 강사님 정답 3 : pagination 접근\n",
    "\n",
    "base_url = \"https://search.naver.com/search.naver\"\n",
    "\n",
    "query = input(\"검색어를 입력해주세요. \")\n",
    "\n",
    "params = {'where': 'news', \n",
    "         'query': query}\n",
    "\n",
    "# pagination을 통해 \n",
    "resp = requests.get(base_url, params=params)\n",
    "soup = BeautifulSoup(resp.text)\n",
    "\n",
    "paging_wrap_tag = soup.find('div', class_='paging')\n",
    "active_page = paging_wrap_tag.find('strong').text\n",
    "other_pages = paging_wrap_tag.find_all('a')\n",
    "\n",
    "# dictionary comprehension 이용해 dict에 저장.\n",
    "page_list = {\n",
    "    a_tag.text.strip():a_tag.get('href') for a_tag in other_pages\n",
    "}\n",
    "\n",
    "# url을 만든다.\n",
    "for i in "
   ]
  },
  {
   "cell_type": "code",
   "execution_count": null,
   "metadata": {},
   "outputs": [],
   "source": []
  },
  {
   "cell_type": "markdown",
   "metadata": {},
   "source": [
    "<연습문제 4>\n",
    " 네이버 뉴스 상세페이지 조회하기"
   ]
  },
  {
   "cell_type": "markdown",
   "metadata": {},
   "source": [
    "* 연예 뉴스 주의\n",
    "\n",
    "![entertainment](./images/web_10.png)"
   ]
  },
  {
   "cell_type": "code",
   "execution_count": 137,
   "metadata": {},
   "outputs": [],
   "source": [
    "base_url = \"https://search.naver.com/search.naver?\""
   ]
  },
  {
   "cell_type": "code",
   "execution_count": 138,
   "metadata": {},
   "outputs": [
    {
     "name": "stdout",
     "output_type": "stream",
     "text": [
      "query=%ED%95%9C%EA%B5%AD\n",
      "where=news\n"
     ]
    }
   ],
   "source": [
    "query = \"한국\"\n",
    "where = \"news\"\n",
    "QUERY = urlencode({'query':query}, encoding='utf-8')\n",
    "WHERE = urlencode({'where':where}, encoding='utf-8')\n",
    "print(QUERY)\n",
    "print(WHERE)"
   ]
  },
  {
   "cell_type": "code",
   "execution_count": 139,
   "metadata": {},
   "outputs": [
    {
     "name": "stdout",
     "output_type": "stream",
     "text": [
      "https://search.naver.com/search.naver?&where=news&query=%ED%95%9C%EA%B5%AD\n"
     ]
    }
   ],
   "source": [
    "search_url = f\"{base_url}&{WHERE}&{QUERY}\"\n",
    "print(search_url)"
   ]
  },
  {
   "cell_type": "code",
   "execution_count": 140,
   "metadata": {},
   "outputs": [
    {
     "name": "stdout",
     "output_type": "stream",
     "text": [
      "https://search.naver.com/search.naver?&where=news&query=%ED%95%9C%EA%B5%AD&start=1\n",
      "https://search.naver.com/search.naver?&where=news&query=%ED%95%9C%EA%B5%AD&start=11\n",
      "https://search.naver.com/search.naver?&where=news&query=%ED%95%9C%EA%B5%AD&start=21\n",
      "https://search.naver.com/search.naver?&where=news&query=%ED%95%9C%EA%B5%AD&start=31\n",
      "https://search.naver.com/search.naver?&where=news&query=%ED%95%9C%EA%B5%AD&start=41\n"
     ]
    }
   ],
   "source": [
    "# 지정한 페이지까지 돌면서 뉴스 결과 가져오기\n",
    "\n",
    "limit = 5\n",
    "\n",
    "for i in range(limit):\n",
    "    url = f\"{search_url}&start={10*i + 1}\"\n",
    "    print(url)"
   ]
  },
  {
   "cell_type": "code",
   "execution_count": 141,
   "metadata": {
    "scrolled": false
   },
   "outputs": [
    {
     "name": "stdout",
     "output_type": "stream",
     "text": [
      "200\n",
      "1page : Found 16 links.\n",
      "200\n",
      "2page : Found 19 links.\n",
      "200\n",
      "3page : Found 11 links.\n",
      "200\n",
      "4page : Found 18 links.\n",
      "200\n",
      "5page : Found 14 links.\n",
      "78\n"
     ]
    }
   ],
   "source": [
    "# 뉴스 링크 가져오기\n",
    "links = []\n",
    "\n",
    "for i in range(limit):\n",
    "    prev = len(links)\n",
    "    \n",
    "    url = f\"{search_url}&start={10*i + 1}\"\n",
    "    req = requests.get(url)\n",
    "    print(req.status_code)\n",
    "    \n",
    "    soup = BeautifulSoup(req.text)\n",
    "    temp = soup.find_all('a', {'href' : re.compile('.+news.naver.com/.+')})\n",
    "    for t in temp:\n",
    "        link = t['href']\n",
    "        if link not in links and 'aid' in link: # aid 없는 뉴스면 article ID 없다고 판단해서 제외.\n",
    "            links.append(link)\n",
    "\n",
    "    print(f\"{i+1}page : Found {len(links) - prev} links.\")\n",
    "        \n",
    "print(len(links))"
   ]
  },
  {
   "cell_type": "code",
   "execution_count": 142,
   "metadata": {},
   "outputs": [
    {
     "name": "stdout",
     "output_type": "stream",
     "text": [
      "https://news.naver.com/main/read.nhn?mode=LSD&mid=sec&sid1=104&oid=025&aid=0003005762 200\n",
      "done\n",
      "https://news.naver.com/main/read.nhn?mode=LSD&mid=sec&sid1=101&oid=586&aid=0000014110 200\n",
      "done\n",
      "https://news.naver.com/main/read.nhn?mode=LSD&mid=sec&sid1=101&oid=011&aid=0003747132 200\n",
      "done\n",
      "https://news.naver.com/main/read.nhn?mode=LSD&mid=sec&sid1=101&oid=014&aid=0004435439 200\n",
      "done\n",
      "https://news.naver.com/main/read.nhn?mode=LSD&mid=sec&sid1=101&oid=016&aid=0001681124 200\n",
      "done\n",
      "https://news.naver.com/main/read.nhn?mode=LSD&mid=sec&sid1=104&oid=023&aid=0003535539 200\n",
      "done\n",
      "https://news.naver.com/main/read.nhn?mode=LSD&mid=sec&sid1=104&oid=025&aid=0003005378 200\n",
      "done\n",
      "https://news.naver.com/main/read.nhn?mode=LSD&mid=sec&sid1=101&oid=020&aid=0003289414 200\n",
      "done\n",
      "https://news.naver.com/main/read.nhn?mode=LSD&mid=sec&sid1=104&oid=001&aid=0011646355 200\n",
      "done\n",
      "https://news.naver.com/main/read.nhn?mode=LSD&mid=sec&sid1=100&oid=003&aid=0009892204 200\n",
      "done\n",
      "https://news.naver.com/main/read.nhn?mode=LSD&mid=sec&sid1=100&oid=001&aid=0011648227 200\n",
      "done\n",
      "https://news.naver.com/main/read.nhn?mode=LSD&mid=sec&sid1=100&oid=214&aid=0001041762 200\n",
      "done\n",
      "https://news.naver.com/main/read.nhn?mode=LSD&mid=sec&sid1=101&oid=009&aid=0004586160 200\n",
      "done\n",
      "https://news.naver.com/main/read.nhn?mode=LSD&mid=sec&sid1=101&oid=001&aid=0011646688 200\n",
      "done\n",
      "https://news.naver.com/main/read.nhn?mode=LSD&mid=sec&sid1=101&oid=055&aid=0000818438 200\n",
      "done\n",
      "https://news.naver.com/main/read.nhn?mode=LSD&mid=sec&sid1=102&oid=052&aid=0001446902 200\n",
      "done\n",
      "https://news.naver.com/main/read.nhn?mode=LSD&mid=sec&sid1=101&oid=001&aid=0011647939 200\n",
      "done\n",
      "https://news.naver.com/main/read.nhn?mode=LSD&mid=sec&sid1=104&oid=055&aid=0000818644 200\n",
      "done\n",
      "https://news.naver.com/main/read.nhn?mode=LSD&mid=sec&sid1=101&oid=001&aid=0011649323 200\n",
      "done\n",
      "https://news.naver.com/main/read.nhn?mode=LSD&mid=sec&sid1=104&oid=056&aid=0010845249 200\n",
      "done\n",
      "https://news.naver.com/main/read.nhn?mode=LSD&mid=sec&sid1=104&oid=011&aid=0003747355 200\n",
      "done\n",
      "https://news.naver.com/main/read.nhn?mode=LSD&mid=sec&sid1=104&oid=366&aid=0000531815 200\n",
      "done\n",
      "https://news.naver.com/main/read.nhn?mode=LSD&mid=sec&sid1=101&oid=023&aid=0003535510 200\n",
      "done\n",
      "https://news.naver.com/main/read.nhn?mode=LSD&mid=sec&sid1=101&oid=366&aid=0000532060 200\n",
      "done\n",
      "https://news.naver.com/main/read.nhn?mode=LSD&mid=sec&sid1=106&oid=001&aid=0011648951 200\n",
      "done\n",
      "https://news.naver.com/main/read.nhn?mode=LSD&mid=sec&sid1=103&oid=023&aid=0003535807 200\n",
      "done\n",
      "https://news.naver.com/main/read.nhn?mode=LSD&mid=sec&sid1=004&oid=366&aid=0000531981 200\n",
      "done\n",
      "https://news.naver.com/main/read.nhn?mode=LSD&mid=sec&sid1=106&oid=214&aid=0001041950 200\n",
      "done\n",
      "https://news.naver.com/main/read.nhn?mode=LSD&mid=sec&sid1=106&oid=001&aid=0011648681 200\n",
      "done\n",
      "https://news.naver.com/main/read.nhn?mode=LSD&mid=sec&sid1=100&oid=020&aid=0003289207 200\n",
      "done\n",
      "https://news.naver.com/main/read.nhn?mode=LSD&mid=sec&sid1=104&oid=005&aid=0001326962 200\n",
      "done\n",
      "https://news.naver.com/main/read.nhn?mode=LSD&mid=sec&sid1=101&oid=119&aid=0002405315 200\n",
      "done\n",
      "https://news.naver.com/main/read.nhn?mode=LSD&mid=sec&sid1=101&oid=008&aid=0004418433 200\n",
      "done\n",
      "https://news.naver.com/main/read.nhn?mode=LSD&mid=sec&sid1=102&oid=015&aid=0004351000 200\n",
      "done\n",
      "https://news.naver.com/main/read.nhn?mode=LSD&mid=sec&sid1=102&oid=001&aid=0011645981 200\n",
      "done\n",
      "https://news.naver.com/main/read.nhn?mode=LSD&mid=sec&sid1=101&oid=025&aid=0003005829 200\n",
      "done\n",
      "https://news.naver.com/main/read.nhn?mode=LSD&mid=sec&sid1=101&oid=366&aid=0000532285 200\n",
      "done\n",
      "https://news.naver.com/main/read.nhn?mode=LSD&mid=sec&sid1=102&oid=030&aid=0002885743 200\n",
      "done\n",
      "https://news.naver.com/main/read.nhn?mode=LSD&mid=sec&sid1=102&oid=005&aid=0001327091 200\n",
      "done\n",
      "https://news.naver.com/main/read.nhn?mode=LSD&mid=sec&sid1=105&oid=293&aid=0000028456 200\n",
      "done\n",
      "https://news.naver.com/main/read.nhn?mode=LSD&mid=sec&sid1=100&oid=005&aid=0001327188 200\n",
      "done\n",
      "https://news.naver.com/main/read.nhn?mode=LSD&mid=sec&sid1=100&oid=003&aid=0009891684 200\n",
      "done\n",
      "https://news.naver.com/main/read.nhn?mode=LSD&mid=sec&sid1=102&oid=468&aid=0000664946 200\n",
      "done\n",
      "https://news.naver.com/main/read.nhn?mode=LSD&mid=sec&sid1=101&oid=374&aid=0000212841 200\n",
      "done\n",
      "https://news.naver.com/main/read.nhn?mode=LSD&mid=sec&sid1=103&oid=030&aid=0002885696 200\n",
      "done\n",
      "https://news.naver.com/main/read.nhn?mode=LSD&mid=sec&sid1=104&oid=437&aid=0000239456 200\n",
      "done\n",
      "https://news.naver.com/main/read.nhn?mode=LSD&mid=sec&sid1=100&oid=005&aid=0001326859 200\n",
      "done\n",
      "https://news.naver.com/main/read.nhn?mode=LSD&mid=sec&sid1=100&oid=032&aid=0003012192 200\n",
      "done\n",
      "https://news.naver.com/main/read.nhn?mode=LSD&mid=sec&sid1=104&oid=001&aid=0011645011 200\n",
      "done\n",
      "https://news.naver.com/main/read.nhn?mode=LSD&mid=sec&sid1=100&oid=023&aid=0003535562 200\n",
      "done\n",
      "https://news.naver.com/main/read.nhn?mode=LSD&mid=sec&sid1=100&oid=016&aid=0001681027 200\n",
      "done\n",
      "https://news.naver.com/main/read.nhn?mode=LSD&mid=sec&sid1=102&oid=003&aid=0009892875 200\n",
      "done\n",
      "https://news.naver.com/main/read.nhn?mode=LSD&mid=sec&sid1=101&oid=366&aid=0000531772 200\n",
      "done\n",
      "https://news.naver.com/main/read.nhn?mode=LSD&mid=sec&sid1=101&oid=629&aid=0000027777 200\n",
      "done\n",
      "https://news.naver.com/main/read.nhn?mode=LSD&mid=sec&sid1=101&oid=011&aid=0003746610 200\n",
      "done\n",
      "https://news.naver.com/main/read.nhn?mode=LSD&mid=sec&sid1=101&oid=016&aid=0001681017 200\n",
      "done\n",
      "https://news.naver.com/main/read.nhn?mode=LSD&mid=sec&sid1=101&oid=011&aid=0003747189 200\n",
      "done\n",
      "https://news.naver.com/main/read.nhn?mode=LSD&mid=sec&sid1=101&oid=277&aid=0004689972 200\n",
      "done\n",
      "https://news.naver.com/main/read.nhn?mode=LSD&mid=sec&sid1=105&oid=092&aid=0002190002 200\n",
      "done\n",
      "https://news.naver.com/main/read.nhn?mode=LSD&mid=sec&sid1=101&oid=029&aid=0002601499 200\n",
      "done\n",
      "https://news.naver.com/main/read.nhn?mode=LSD&mid=sec&sid1=102&oid=011&aid=0003746838 200\n",
      "done\n",
      "https://news.naver.com/main/read.nhn?mode=LSD&mid=sec&sid1=105&oid=030&aid=0002885605 200\n",
      "done\n",
      "https://news.naver.com/main/read.nhn?mode=LSD&mid=sec&sid1=101&oid=011&aid=0003746744 200\n",
      "done\n",
      "https://news.naver.com/main/read.nhn?mode=LSD&mid=sec&sid1=104&oid=014&aid=0004435178 200\n",
      "done\n",
      "https://news.naver.com/main/read.nhn?mode=LSD&mid=sec&sid1=100&oid=001&aid=0011648280 200\n",
      "done\n",
      "https://news.naver.com/main/read.nhn?mode=LSD&mid=sec&sid1=101&oid=003&aid=0009891946 200\n",
      "done\n",
      "https://news.naver.com/main/read.nhn?mode=LSD&mid=sec&sid1=100&oid=214&aid=0001041738 200\n",
      "done\n",
      "https://news.naver.com/main/read.nhn?mode=LSD&mid=sec&sid1=100&oid=006&aid=0000102870 200\n",
      "done\n",
      "https://news.naver.com/main/read.nhn?mode=LSD&mid=sec&sid1=104&oid=005&aid=0001326748 200\n",
      "done\n",
      "https://news.naver.com/main/read.nhn?mode=LSD&mid=sec&sid1=104&oid=437&aid=0000239363 200\n",
      "done\n",
      "https://news.naver.com/main/read.nhn?mode=LSD&mid=sec&sid1=104&oid=002&aid=0002136156 200\n",
      "done\n",
      "https://news.naver.com/main/read.nhn?mode=LSD&mid=sec&sid1=104&oid=001&aid=0011644917 200\n",
      "done\n",
      "https://news.naver.com/main/read.nhn?mode=LSD&mid=sec&sid1=104&oid=014&aid=0004434168 200\n",
      "done\n",
      "https://news.naver.com/main/read.nhn?mode=LSD&mid=sec&sid1=103&oid=018&aid=0004654490 200\n",
      "done\n",
      "https://news.naver.com/main/read.nhn?mode=LSD&mid=sec&sid1=105&oid=277&aid=0004690233 200\n",
      "done\n",
      "https://news.naver.com/main/read.nhn?mode=LSD&mid=sec&sid1=100&oid=277&aid=0004690246 200\n",
      "done\n",
      "https://news.naver.com/main/read.nhn?mode=LSD&mid=sec&sid1=100&oid=052&aid=0001447228 200\n",
      "done\n",
      "https://news.naver.com/main/read.nhn?mode=LSD&mid=sec&sid1=102&oid=056&aid=0010845143 200\n",
      "done\n"
     ]
    }
   ],
   "source": [
    "results = []\n",
    "\n",
    "for link in links:\n",
    "    req = requests.get(link)\n",
    "    print(link, req.status_code)\n",
    "    soup = BeautifulSoup(req.text)\n",
    "    \n",
    "    try:        \n",
    "        title = soup.find('h3', {'id' : 'articleTitle'}).get_text(strip=True)\n",
    "        press = soup.find('div', {'class' : 'press_logo'}).find('img')['alt']\n",
    "        article = soup.find('div', {'id' : 'articleBodyContents'}).get_text(strip=True)\n",
    "        \n",
    "    except: # 연예뉴스인 경우\n",
    "        title = soup.find('h2', {'class' : 'end_tit'}).get_text(strip=True)\n",
    "        press = soup.find('div', {'class' : 'press_logo'}).find('img')['alt']\n",
    "        article = soup.find('div', {'id' : 'articeBody'}).get_text(strip=True)        \n",
    "    \n",
    "    print(\"done\")\n",
    "    \n",
    "    results.append({\n",
    "        'url':link,\n",
    "        'title':title,\n",
    "        'press':press,\n",
    "        'article':article\n",
    "                   })"
   ]
  },
  {
   "cell_type": "code",
   "execution_count": 148,
   "metadata": {},
   "outputs": [
    {
     "name": "stdout",
     "output_type": "stream",
     "text": [
      "[{'url': 'https://news.naver.com/main/read.nhn?mode=LSD&mid=sec&sid1=104&oid=025&aid=0003005762', 'title': '한국 등 G7회의 초청 못마땅한 日 \"정식 멤버는 아닐 것\"', 'press': '중앙일보', 'article': '외무성 간부 \"특별 초청국으로 참가할 듯\"아시아 유일 선진국 日 존재감 후퇴 우려연일 부정적 반응, 스가 \"G7 역할 중요\"도널드 트럼프 미국 대통령이 한국과 호주·인도·러시아 등을 주요 7개국(G7)정상회의에 초청한 것과 관련해 일본내에서 부정적인 반응이 이어지고 있다.문재인 대통령이 지난해 6월 28일 일본 오사카에서 열린 G20 정상회의 환영식에서 아베 신조 일본 총리(왼쪽)와 8초간 악수한 뒤 이동하고 있다. [청와대사진기자단]트럼프 대통령은 1일 문재인 대통령과의 통화에서 G7 체제를 “낡은 체제로서 현재의 국제정세를 반영하지 못한다”고 표현하며 이를 G11 또는 G12 체제로 확대하겠다는 뜻을 밝혔다.2일 일본 산케이 신문에 따르면 일본 외무성 관계자는 \"정상회의의 멤버를 갑자기 4개국 늘리는 건 무리\"라고 말했다.G7을 G11이나 G12로 늘리려면 기존 G7 참가국들의 동의가 필요하기 때문에 올해 의장국인 미국이 마음대로 정하기 어렵다는 것이다.산케이 신문은 \"트럼프 대통령이 (미국내)실무진과도 사전에 조정하지 않고 발언한 것으로 보여,일본 외무성도 트럼프 대통령의 진의 파악에 어려움을 겪고 있다”고 했다.이와관련, 외무성 간부는 산케이에 “우선은 (정식 멤버가 아닌 초청국을 뜻하는)아웃리치의 형태로 초청하지 않겠는가”라고 했다.정식 멤버가 아니라 의장국이 추가로 초청하는 국가나 국제기관의 자격으로 회의에 참석할 가능성이 크다는 뜻이다.일본은 트럼프 대통령의 구상대로 G7이 확대돼 한국 등이 추가로 참가하는 데 대해 못마땅하다는 입장을 공공연하게 드러내고 있다.전날 요미우리 신문엔 “(한국과 호주 등이 참가하면)아시아 유일의 G7 정상회의 참가국이라는 일본의 존재감이 엷어질 것”이란 외무성 간부의 발언이 소개되기도 했다.스가 요시히데 (菅義偉)관방장관도 1일 \"주요국들이 국제사회가 직면한 과제에 대한 방침과 협력을 확인하는 장으로서의 G7은 계속 중요한 역할을 할 것\"이라며 G7의 존재를 옹호하는 발언을 했다.2018년 6월 캐나다 샤를부아에서 열린 주요 7개국(G7) 정상회의에서 참석자들이 통상문제가 포함된 공동성명 문안을 논의하고 있다. 왼쪽부터 장클로드 융커 유럽위원회 위원장, 데레사 메이 영국 총리, 에마뉘엘 마크롱 프랑스 대통령, 앙겔라 메르켈 독일 총리, 아베 신조 일본 총리, 존 볼튼 미국 국가안보 보좌관, 도널드 트럼프 미 대통령, 주세페 콘테 이탈리아 총리, 쥐스탱 트뤼도 캐나다 총리. [로이터=연합뉴스]대표적인 선진국 클럽인 G7에 참가할 수 있는 아시아 국가들이 늘어나면 일본의 대표성이 약해질 수 있다는 우려가 일본내에서 확산되는 모양새다.도쿄=서승욱 특파원 sswook@joongang.co.kr▶그래서, 팩트가 뭐야? 궁금하면 \\'팩플\\'▶세상 쉬운 내 돈 관리 \\'그게머니\\'▶중앙일보 홈페이지 바로가기ⓒ중앙일보(https://joongang.co.kr), 무단 전재 및 재배포 금지'}, {'url': 'https://news.naver.com/main/read.nhn?mode=LSD&mid=sec&sid1=101&oid=586&aid=0000014110', 'title': \"'한국이 G7 정상회의에?' 당황한 아베\", 'press': '시사저널', 'article': '\\'미국 측 사전연락 있었나\\' 질문에 답변 회피…\"진의 파악 못 해\"아베 신조 일본 총리 ⓒ 연합뉴스일본 정부가 주요 7개국(G7) 정상회의에 한국이 참석할 가능성이 커지자 당황스러운 기색을 감추지 못하고 있다. 도널드 트럼프 미국 대통령 발언에 대한 진의 파악에 나선 일본은 \\'G11\\'으로의 확대 개편에\\xa0선을 긋는 모양새다.2일 일본 주요 언론에 따르면, 일본 정부 대변인인 스가 요시히데(菅義偉) 관방장관은 전날 기자회견에서 트럼프 대통령의 G7 정상회의 참가국 확대 발언과 관련해 미국 정부로부터 연락이 있었느냐는 물음에 \"외교상 대화이므로 세부 내용에 관한 설명은 삼가고 싶지만, 어쨌든 일본·미국 사이에는 평소에 긴밀한 대화를 확실하게 하고 있다\"며 명확한 답변을 피했다.트럼프 대통령이 확대 대상국으로 언급한 한국, 러시아, 호주, 인도 등이 일본과 가치관을 공유하느냐는 물음에는 \"매우 중요한 파트너이기는 하지만 일률적으로 말하는 것은 삼가겠다\"고 반응했다.아베 신조(安倍晋三) 일본 총리도 아직까지 이와 관련한 명확한 입장을 밝히지 않은 상태다.산케이(産經)신문은 이를 놓고 일본 정부 내에서 갑작스런 G7 확대 발언에 당혹스러워하는 분위기가 감지된다고 보도했다. 트럼프 대통령이 G7 정상회의 참가국 확대에 대해 실무 라인과 사전 조율없이 발언한 것으로 보이며, 일본 외무성 관계자도 이에 대한 진의를 파악하지 못하고 있다고 신문은 덧붙였다.일본 정부 일각에서는 트럼프 대통령이 언급한 것이 G7의 정상회의의 정식 확대는 아닐 것이라는 해석도 나온다. 외무성의 한 간부는 \"갑자기 구성원을 (4개국) 늘리는 것은 무리일 것\"이라며 \"우선 아웃리치로 한다는 것이 아니겠느냐\"고 반응했다. 아웃리치는 G7이 아닌 국가 정상이나 국제기구 수장이 의장국의 초대를 받아 참석하는 행사를 뜻한다.지지통신은 이날 일본 정부가 단순히 한국의 G7회의 참여를 넘어 미·중 관계에서 오는 외교적 문제로 난감한 상황에 처해있다고 분석했다. 일본은 올해 시진핑(習近平) 국가 주석의 국빈 방문을 추진 중이다. 그러나 트럼프 대통령이 \\'홍콩보안법\\' 제정을 강행한 중국을 압박할 목적으로 G7 확대를 추진한다면, 시 주석의 방일 무산과 함께 중국과 일본의 관계는 원점으로 돌아갈 가능성이 높다.한편 문재인 대통령은 G7 정상회의 참가국 확대 구상에 관해 트럼프 대통령의 직접 설명을 들은 것으로 전해졌다.청와대는 트럼프 대통령이 1일 문 대통령과 전화 회담을 갖고 G7에 관해 \"낡은 체제로서 현재의 국제정세를 반영하지 못한다\", \"G11이나 G12 체제로 확대하는 방안을 모색 중\"이라며 문 대통령의 의견을 물었다고 밝혔다.문 대통령은 이에 대해 \"초청에 기꺼이 응할 것이며 방역과 경제 양면에서 한국이 할 수 있는 역할을 다하고자 한다\"는 뜻을 밝혔다고 청와대는 설명했다.트럼프 대통령은 블라디미르 푸틴 러시아 대통령과도 전화 회담을 하고 G7 정상회의 참가국 확대 구상을 설명했다고 크렘린궁이 발표했다.이혜영 객원기자 applekroop@naver.com<저작권자 ⓒ 시사저널, 무단 전재 및 재배포 금지>☞ 네이버에서 시사저널 뉴스를 받아 보세요▶ 시사저널 최신호 보기▶ 시사저널 유튜브 채널 \\'시사저널TV\\' 보기'}]\n",
      "78\n"
     ]
    }
   ],
   "source": [
    "print(results[:2])\n",
    "print(len(results))"
   ]
  },
  {
   "cell_type": "code",
   "execution_count": null,
   "metadata": {},
   "outputs": [],
   "source": []
  },
  {
   "cell_type": "code",
   "execution_count": null,
   "metadata": {},
   "outputs": [],
   "source": []
  },
  {
   "cell_type": "markdown",
   "metadata": {},
   "source": [
    "## 이후 클래스화할 때 반영"
   ]
  },
  {
   "cell_type": "code",
   "execution_count": 149,
   "metadata": {},
   "outputs": [],
   "source": [
    "# 아래 방식으로 하면 네이버 뉴스 홈페이지가 아니라서 크롤링할 때 플랫폼별로 다르게 해야 한다!"
   ]
  },
  {
   "cell_type": "code",
   "execution_count": 58,
   "metadata": {},
   "outputs": [
    {
     "data": {
      "text/plain": [
       "re.compile(r'sp_news', re.UNICODE)"
      ]
     },
     "execution_count": 58,
     "metadata": {},
     "output_type": "execute_result"
    }
   ],
   "source": [
    "re.compile(r'sp_news')"
   ]
  },
  {
   "cell_type": "code",
   "execution_count": null,
   "metadata": {},
   "outputs": [],
   "source": [
    "# 스포츠 뉴스 링크 가져오기 : html을 가져오는 방식으로 하자.\n",
    "\n",
    "links = []\n",
    "\n",
    "for i in range(limit):\n",
    "    prev = len(links)\n",
    "    url = f\"{search_url}&start={10*i + 1}\"\n",
    "    req = requests.get(url)\n",
    "    print(req.status_code)\n",
    "    soup = BeautifulSoup(req.text)\n",
    "    temp = soup.find_all('li', {'id': re.compile('sp_nws\\d+')})\n",
    "    \n",
    "    for t in temp:\n",
    "        for a in t.find_all('a'):\n",
    "            link = a['href']\n",
    "            if link.startswith('http') and link not in links:\n",
    "                links.append(link)\n",
    "    \n",
    "    print(f\"{i+1}page : Found {len(links) - prev} links.\")\n",
    "        \n",
    "print(links)"
   ]
  },
  {
   "cell_type": "code",
   "execution_count": null,
   "metadata": {},
   "outputs": [],
   "source": []
  },
  {
   "cell_type": "code",
   "execution_count": null,
   "metadata": {},
   "outputs": [],
   "source": []
  },
  {
   "cell_type": "markdown",
   "metadata": {},
   "source": [
    "* dd 아래 description 태그"
   ]
  },
  {
   "cell_type": "code",
   "execution_count": 125,
   "metadata": {
    "scrolled": false
   },
   "outputs": [
    {
     "name": "stdout",
     "output_type": "stream",
     "text": [
      "몇 페이지까지 스크레이핑할까요?3\n"
     ]
    },
    {
     "name": "stderr",
     "output_type": "stream",
     "text": [
      "C:\\Users\\student\\.conda\\envs\\multi_sir950123\\lib\\site-packages\\urllib3\\connectionpool.py:986: InsecureRequestWarning: Unverified HTTPS request is being made to host 'search.naver.com'. Adding certificate verification is strongly advised. See: https://urllib3.readthedocs.io/en/latest/advanced-usage.html#ssl-warnings\n",
      "  InsecureRequestWarning,\n",
      "C:\\Users\\student\\.conda\\envs\\multi_sir950123\\lib\\site-packages\\urllib3\\connectionpool.py:986: InsecureRequestWarning: Unverified HTTPS request is being made to host 'www.fnnews.com'. Adding certificate verification is strongly advised. See: https://urllib3.readthedocs.io/en/latest/advanced-usage.html#ssl-warnings\n",
      "  InsecureRequestWarning,\n",
      "C:\\Users\\student\\.conda\\envs\\multi_sir950123\\lib\\site-packages\\urllib3\\connectionpool.py:986: InsecureRequestWarning: Unverified HTTPS request is being made to host 'search.naver.com'. Adding certificate verification is strongly advised. See: https://urllib3.readthedocs.io/en/latest/advanced-usage.html#ssl-warnings\n",
      "  InsecureRequestWarning,\n",
      "C:\\Users\\student\\.conda\\envs\\multi_sir950123\\lib\\site-packages\\urllib3\\connectionpool.py:986: InsecureRequestWarning: Unverified HTTPS request is being made to host 'www.fnnews.com'. Adding certificate verification is strongly advised. See: https://urllib3.readthedocs.io/en/latest/advanced-usage.html#ssl-warnings\n",
      "  InsecureRequestWarning,\n",
      "C:\\Users\\student\\.conda\\envs\\multi_sir950123\\lib\\site-packages\\urllib3\\connectionpool.py:986: InsecureRequestWarning: Unverified HTTPS request is being made to host 'search.naver.com'. Adding certificate verification is strongly advised. See: https://urllib3.readthedocs.io/en/latest/advanced-usage.html#ssl-warnings\n",
      "  InsecureRequestWarning,\n",
      "C:\\Users\\student\\.conda\\envs\\multi_sir950123\\lib\\site-packages\\urllib3\\connectionpool.py:986: InsecureRequestWarning: Unverified HTTPS request is being made to host 'www.fnnews.com'. Adding certificate verification is strongly advised. See: https://urllib3.readthedocs.io/en/latest/advanced-usage.html#ssl-warnings\n",
      "  InsecureRequestWarning,\n"
     ]
    }
   ],
   "source": [
    "# 강사님 풀이\n",
    "\n",
    "# 네이버 뉴스 리스트 저장\n",
    "base_url = \"https://search.naver.com/search.naver\"\n",
    "params = {\n",
    "    'where':'news',\n",
    "    'query':'무역전쟁'\n",
    "}\n",
    "\n",
    "# 네이버 뉴스 리스트 request & save\n",
    "for i in range(int(input('몇 페이지까지 스크레이핑할까요?'))):\n",
    "    resp = requests.get(base_url, params=params, verify=False)\n",
    "    soup = BeautifulSoup(resp.text)\n",
    "    news_list_items = soup.select('ul.type01 > li')\n",
    "    \n",
    "    for news_item in news_list_items:\n",
    "        anchor_title = news_item.find('a', class_ = '_sp_each_title')\n",
    "        desc = news_item.find_all('dd')[1]\n",
    "        title = anchor_title.text\n",
    "        url = anchor_title.get('href')\n",
    "        \n",
    "        # send request to news url\n",
    "        news_detail_resp = requests.get(url, verify=False)\n",
    "        content = news_detail_resp.text\n",
    "        \n",
    "        result_list.append({\n",
    "            'title' : title,\n",
    "            'desc' : desc,\n",
    "            'url' : url,\n",
    "            'content' : content\n",
    "        })\n",
    "        \n",
    "        break\n",
    "        "
   ]
  }
 ],
 "metadata": {
  "kernelspec": {
   "display_name": "Python 3",
   "language": "python",
   "name": "python3"
  },
  "language_info": {
   "codemirror_mode": {
    "name": "ipython",
    "version": 3
   },
   "file_extension": ".py",
   "mimetype": "text/x-python",
   "name": "python",
   "nbconvert_exporter": "python",
   "pygments_lexer": "ipython3",
   "version": "3.7.7"
  }
 },
 "nbformat": 4,
 "nbformat_minor": 4
}
