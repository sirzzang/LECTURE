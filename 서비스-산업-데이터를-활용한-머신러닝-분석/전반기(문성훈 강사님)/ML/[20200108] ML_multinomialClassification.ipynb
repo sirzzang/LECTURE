{
 "cells": [
  {
   "cell_type": "markdown",
   "metadata": {},
   "source": [
    "## Logistic Regression\n",
    "binary classification: y data label이 0 혹은 1의 2개."
   ]
  },
  {
   "cell_type": "code",
   "execution_count": 1,
   "metadata": {},
   "outputs": [
    {
     "name": "stderr",
     "output_type": "stream",
     "text": [
      "C:\\Users\\student\\Anaconda3\\envs\\cpu_env\\lib\\site-packages\\tensorflow\\python\\framework\\dtypes.py:493: FutureWarning: Passing (type, 1) or '1type' as a synonym of type is deprecated; in a future version of numpy, it will be understood as (type, (1,)) / '(1,)type'.\n",
      "  _np_qint8 = np.dtype([(\"qint8\", np.int8, 1)])\n",
      "C:\\Users\\student\\Anaconda3\\envs\\cpu_env\\lib\\site-packages\\tensorflow\\python\\framework\\dtypes.py:494: FutureWarning: Passing (type, 1) or '1type' as a synonym of type is deprecated; in a future version of numpy, it will be understood as (type, (1,)) / '(1,)type'.\n",
      "  _np_quint8 = np.dtype([(\"quint8\", np.uint8, 1)])\n",
      "C:\\Users\\student\\Anaconda3\\envs\\cpu_env\\lib\\site-packages\\tensorflow\\python\\framework\\dtypes.py:495: FutureWarning: Passing (type, 1) or '1type' as a synonym of type is deprecated; in a future version of numpy, it will be understood as (type, (1,)) / '(1,)type'.\n",
      "  _np_qint16 = np.dtype([(\"qint16\", np.int16, 1)])\n",
      "C:\\Users\\student\\Anaconda3\\envs\\cpu_env\\lib\\site-packages\\tensorflow\\python\\framework\\dtypes.py:496: FutureWarning: Passing (type, 1) or '1type' as a synonym of type is deprecated; in a future version of numpy, it will be understood as (type, (1,)) / '(1,)type'.\n",
      "  _np_quint16 = np.dtype([(\"quint16\", np.uint16, 1)])\n",
      "C:\\Users\\student\\Anaconda3\\envs\\cpu_env\\lib\\site-packages\\tensorflow\\python\\framework\\dtypes.py:497: FutureWarning: Passing (type, 1) or '1type' as a synonym of type is deprecated; in a future version of numpy, it will be understood as (type, (1,)) / '(1,)type'.\n",
      "  _np_qint32 = np.dtype([(\"qint32\", np.int32, 1)])\n",
      "C:\\Users\\student\\Anaconda3\\envs\\cpu_env\\lib\\site-packages\\tensorflow\\python\\framework\\dtypes.py:502: FutureWarning: Passing (type, 1) or '1type' as a synonym of type is deprecated; in a future version of numpy, it will be understood as (type, (1,)) / '(1,)type'.\n",
      "  np_resource = np.dtype([(\"resource\", np.ubyte, 1)])\n",
      "C:\\Users\\student\\Anaconda3\\envs\\cpu_env\\lib\\site-packages\\sklearn\\externals\\six.py:31: FutureWarning: The module is deprecated in version 0.21 and will be removed in version 0.23 since we've dropped support for Python 2.7. Please rely on the official version of six (https://pypi.org/project/six/).\n",
      "  \"(https://pypi.org/project/six/).\", FutureWarning)\n",
      "C:\\Users\\student\\Anaconda3\\envs\\cpu_env\\lib\\site-packages\\sklearn\\externals\\joblib\\__init__.py:15: FutureWarning: sklearn.externals.joblib is deprecated in 0.21 and will be removed in 0.23. Please import this functionality directly from joblib, which can be installed with: pip install joblib. If this warning is raised when loading pickled models, you may need to re-serialize those models with scikit-learn 0.21+.\n",
      "  warnings.warn(msg, category=FutureWarning)\n"
     ]
    }
   ],
   "source": [
    "# logistic model의 의미\n",
    "# Logistic Regression을 그림으로 알아보자.\n",
    "# 결국, Titanic 예제 같은 것을 하는 목적은, 가설을 얻어내는 것.\n",
    "import pandas as pd\n",
    "import numpy as np\n",
    "import matplotlib.pyplot as plt\n",
    "import tensorflow as tf\n",
    "import warnings\n",
    "from sklearn.linear_model import LogisticRegression\n",
    "import mglearn\n",
    "# warnings 내부 모듈 : 경고메시지 뜨지 않게 하려고\n",
    "# scikitlearn에서 linear model 활용\n",
    "# mglearn : 처음 쓰는 모듈 -> 설치 안 되어 있음 -> module not found error -> anaconda prompt -> activate cpu env -> pip install mglearn\n",
    "\n",
    "warnings.filterwarnings(action=\"ignore\")\n",
    "# warning 내부모듈에서 warning 메시지 무시하도록.\n",
    "# warning 출력 배제."
   ]
  },
  {
   "cell_type": "code",
   "execution_count": 2,
   "metadata": {
    "scrolled": false
   },
   "outputs": [
    {
     "name": "stdout",
     "output_type": "stream",
     "text": [
      "cost 값은 : 3.5901057720184326\n",
      "cost 값은 : 0.28111472725868225\n",
      "cost 값은 : 0.2499435693025589\n",
      "cost 값은 : 0.2418675422668457\n",
      "cost 값은 : 0.23877932131290436\n",
      "cost 값은 : 0.23727622628211975\n",
      "cost 값은 : 0.23637381196022034\n",
      "cost 값은 : 0.23572272062301636\n",
      "cost 값은 : 0.23518382012844086\n",
      "cost 값은 : 0.2346976399421692\n",
      "[1]\n"
     ]
    },
    {
     "data": {
      "image/png": "[encoded data removed]",
      "text/plain": [
       "<Figure size 432x288 with 1 Axes>"
      ]
     },
     "metadata": {},
     "output_type": "display_data"
    }
   ],
   "source": [
    "# mglearn의 기본 data set을 이용해 그림을 그린다.\n",
    "# mglearn의 dataset 중 make_forge라는 data set\n",
    "\n",
    "# 1. data load\n",
    "x, y = mglearn.datasets.make_forge()\n",
    "\n",
    "# 2. data 확인\n",
    "\n",
    "x   # x data는 2차원 numpy array\n",
    "y   # y data는 0, 1, 0, 1, ...\n",
    "\n",
    "# 데이터를 살펴본 결과, 입력 파라미터가 2개이고(2차원), label이 0 혹은 1로 떨어지는 logistic model.\n",
    "\n",
    "# 문제를 단순화시켜서 x축 data만 그림으로 살펴보자.\n",
    "\n",
    "# y label에 대해 각각의 x가 어떻게 분포되어 있는지를 확인하기 위함.\n",
    "\n",
    "# 산점도(scatter) 그리기.\n",
    "# y값이 0인 x를 추출해서, x의 첫 번째 column을 x축으로, x의 두 번째 column을 y축으로 그린다. -> column 간 관계 파악.\n",
    "# label이 각각 0과 1인 x 데이터만 출력 : 2번째 행, 4번째 행, 5번째 행, ...\n",
    "# boolean mask 사용\n",
    "y == 0   # broadcasting되어서 boolean mask 결과로 나옴. -> x 행에 집어넣으면, True에 해당하는 data만 추출.\n",
    "blue = x[y==0]  # 파란색 점 찍히는 애들\n",
    "plt.scatter(blue[:,0], blue[:,1])\n",
    "# blue[:,0] -> 모든 행에 대해서 첫 번째 열\n",
    "orange = x[y==1]   # 주황색 점 찍히는 애들\n",
    "plt.scatter(orange[:,0], orange[:,1])\n",
    "\n",
    "# 파란 점들: y가 0일 때, x축 data가 어떻게 분포되어 있나.\n",
    "# 주황 점들: y가 1일 때, x축 data가 어떻게 분포되어 있나.\n",
    "\n",
    "# 3. machine learning(Logistic Regression)\n",
    "# 데이터 넣어서 학습 -> 테스트 통해 정확도 측정 -> 예측.\n",
    "\n",
    "# 원래는 train data set, test data set 나눠서 accuracy 측정해야 하는데, 지금은 생략.\n",
    "\n",
    "# 3-1. 학습 : train data set\n",
    "\n",
    "# 1) train data set\n",
    "# x는 그냥 넣어도 되지만, y는 1차원이라서 그냥 넣으면 안 된다.\n",
    "train_x_data = x\n",
    "train_y_data = y.reshape([-1,1])\n",
    "\n",
    "# 2) placeholder\n",
    "X = tf.placeholder(shape = [None, 2], dtype = tf.float32)\n",
    "Y = tf.placeholder(shape = [None, 1], dtype = tf.float32)\n",
    "\n",
    "# 3) weight, bias\n",
    "# 초기 값으로 random 값을 주고, 학습을 통해 최적화되며 W와 b가 변해 간다.\n",
    "# 원래는 랜덤 값 외에 다른 것도 줄 수 있지만.\n",
    "W = tf.Variable(tf.random_normal([2, 1]), name = \"weight\")\n",
    "b = tf.Variable(tf.random_normal([1]), name = \"bias\")\n",
    "\n",
    "# 4) H, 가설 설정 -> 머신러닝의 목적: 가설 완성.\n",
    "logit = tf.matmul(X, W) + b\n",
    "H = tf.sigmoid(logit)\n",
    "\n",
    "# 5) cost function\n",
    "# tf.nn.sigmoid_cross_entropy_with_logits : 인자 2개로, 첫 번째 인자(logits)로 logit, 두 번째 인자(labels)로 Y. \n",
    "cost = tf.reduce_mean(tf.nn.sigmoid_cross_entropy_with_logits(logits = logit,\n",
    "                                                             labels = Y))\n",
    "\n",
    "# 6) train node, optimizer\n",
    "# optimizer = tf.train.GradientDescentOptimizer(learning_rate = 0.01)\n",
    "# train = optimizer.minimize(cost)\n",
    "# 한 줄로 표현하기\n",
    "train = tf.train.GradientDescentOptimizer(learning_rate = 0.01).minimize(cost)\n",
    "\n",
    "# 7) session, 초기화\n",
    "sess = tf.Session()\n",
    "sess.run(tf.global_variables_initializer())\n",
    "\n",
    "# 8) 학습 진행\n",
    "for step in range(3000):\n",
    "    _, cost_val = sess.run([train, cost], feed_dict = {X : train_x_data,\n",
    "                                                      Y: train_y_data})\n",
    "    if step % 300 == 0:\n",
    "        print(\"cost 값은 : {}\".format(cost_val))\n",
    "\n",
    "# 3-2. 정확도(accuracy) 측정 : test data set\n",
    "# 원래는 test data set을 가지고 정확도 측정해야 함.\n",
    "# 학습의 결과가 만족스러운지 확인하기 위함.\n",
    "# 지금 단계에서는 생략. 그냥 학습만 진행.\n",
    "# 정확도 측정에서 95% 이상 나오면 사용할 만한 모델. : 업무/실생활에서 적용할 수 있음.\n",
    "\n",
    "# 3-3. 예측(prediction)\n",
    "\n",
    "# H를 실행해서 예측하는 게 목적.\n",
    "result = sess.run(H, feed_dict = {X : [[9,4]]})\n",
    "result\n",
    "# X에 아무 거나 넣어서 예측.\n",
    "# X는 placeholder 형태이므로 shape 맞춰서 넣어야 함.\n",
    "# result 찍어보니까 0.8 정도 나옴 : 1에 가까움.\n",
    "\n",
    "# 그래프로 그려 보면, 1에 가깝게 나온다.\n",
    "plt.scatter(9,4)\n",
    "\n",
    "# 4. sklearn 활용\n",
    "\n",
    "# 4-1. 학습\n",
    "# 한 번에 학습이 끝남.\n",
    "model = LogisticRegression()\n",
    "myModel = model.fit(x,y) # logistic model 학습\n",
    "\n",
    "# 4-2. 예측\n",
    "# data를 넣어줘야 예측이 가능하니까, x쪽에 데이터 넣어준다.\n",
    "print(myModel.predict([[9,4]]))\n",
    "# 결과값이 1이 나옴.\n",
    "# 이전의 모델에서는 0.8 정도 떨어져서, 0.5보다 크니까 1로 간주한다고 이해했지만,\n",
    "# sklearn에서 model 이용해서 바로 학습 진행하고 예측하면, 1이라는 결과값 도출.\n",
    "\n",
    "# 4-3. mglearn 이용해 그래프 그리기.\n",
    "# mglearn, plots의 plot_2d_separator 활용해 내가 만든 모델을 그림으로 표현할 수 있음.\n",
    "# tensorflow로 만든 모델은 아니지만, sklearn으로 만든 모델이어도 그림으로 그린다.\n",
    "mglearn.plots.plot_2d_separator(myModel, x, fill = False, eps = 0.5, alpha = 0.7)\n",
    "# 중요한 인자 : myModel, x\n",
    "# myModel의 x data 이용해 그림을 그릴 것이다.\n",
    "# alpha : 투명도(1일수록 진함)\n",
    "# eps : 그래프가 크게 보이는데, 그 scale을 축소해서 보기 좋게 하려고.\n",
    "# x : x data 이용한다.\n",
    "\n",
    "# 그림 그려보니까, 선이 그려진다.\n",
    "# 결국 logistic model을 만든다는 것은, 저 선을 그린다는 것.\n",
    "# 내가 알고 싶은 데이터가 선을 기준으로 무슨 영역에 위치하는지 알아내는 것.\n",
    "\n",
    "# linear model은 주어진 데이터를 가장 잘 표현하는 직선을 만드는 것.\n",
    "# logistic은 0과 1을 구분하는 가장 적절한 선을 구하는 것.\n",
    "# 두 개의 분류를 가로지르는 적절한 선을 가로지르는 것.\n",
    "# 결국 logistic model을 만드는 것은 저 선이 무엇인지, 어디에 있는지 알아낸다.\n",
    "# 내가 알고 싶은 데이터가 어느 영역에 있는지 표현.\n",
    "\n",
    "# 만약 x축 데이터가 3개라면, 3차원 공간의 그래프가 될 것이고, logistic model은 평면이 된다.\n",
    "\n",
    "# hyperplan이라고 불리는 선/면/공간을 구하는 model이 logistic model.\n",
    "# 군집(0, 1)이 있는데, 그걸 가로지르는 hyperplane(경계)이 어디인지 알아내는 것.\n",
    "\n",
    "# 그렇다고 저 선이 0.5를 나타내는 것은 아님.\n",
    "# 0.5라는 값은 임의적으로 잡은 값 : 둘 중에 하나로 선택해야 하니까 50%를 기준으로.\n",
    "# 0.8이라는 값은, 선을 기준으로 위쪽 영역에 얼마나 가까운지를 수치로 나타낸 값.\n",
    "\n",
    "# 그런데, 그림을 그려보니까 파란색, 주황색이 완전하게 구분되지 않는다.\n",
    "# 과적합의 문제가 있어서 실제로 안 좋은 결과값을 도출할 수 있다.\n",
    "# 손필기!\n",
    "# 약간의 오류가 있어 보이는 것 같지만, 실제 data 예측에서는 훨씬 더 좋은 hyperplane.\n",
    "# overfitting 피하는 방법: 딥러닝에서!\n",
    "\n",
    "\n",
    "# tensorflow 가지고 예측을 하거나, logistic으로 만든 model을 가지고 예측을 하거나, \n",
    "# 결국 [[9,4]]가 어느 쪽에 있는지를 보고 그게 해당 선을 기준으로 어디에 있는지 판단한다."
   ]
  },
  {
   "cell_type": "code",
   "execution_count": 3,
   "metadata": {},
   "outputs": [],
   "source": [
    "# logistic model을 multinomial로 확장.\n",
    "# tensorflow 등 머신러닝에서 많이 쓰이는 사례\n",
    "\n",
    "# Multinomial classification\n",
    "# y data label이 여러 개.\n",
    "\n",
    "# hyperplane이 여러 개\n",
    "# 각 영역에 대해 가까울 확률이 얼마인지\n",
    "# 그래프가 바뀌기 때문에 가설도 바뀌고, 모델도 바뀌고"
   ]
  },
  {
   "cell_type": "code",
   "execution_count": 4,
   "metadata": {},
   "outputs": [],
   "source": [
    "# X data는 시험 성적과 출석 점수, Y data는 학점(0, 1이 아니라 다양함).\n",
    "# Y label이 2개 초과의, 정해져 있는 범주에서 나온다.\n",
    "\n",
    "# 시험점수 출석점수 성적\n",
    "#   10       5       A\n",
    "#   9        5       A\n",
    "#   5        1       B\n",
    "#   4        2       B\n",
    "#   1        3       C\n"
   ]
  },
  {
   "cell_type": "code",
   "execution_count": 5,
   "metadata": {},
   "outputs": [
    {
     "data": {
      "text/plain": [
       "<matplotlib.collections.PathCollection at 0x25b5d565550>"
      ]
     },
     "execution_count": 5,
     "metadata": {},
     "output_type": "execute_result"
    },
    {
     "data": {
      "image/png": "[encoded data removed]",
      "text/plain": [
       "<Figure size 432x288 with 1 Axes>"
      ]
     },
     "metadata": {
      "needs_background": "light"
     },
     "output_type": "display_data"
    }
   ],
   "source": [
    "# 입력으로 들어갈 X data : 시험점수, 출석점수 -> numpy array로 표현.\n",
    "\n",
    "x_data = np.array([[10,5],\n",
    "                  [9,5],\n",
    "                  [5,1],\n",
    "                  [4,2],\n",
    "                  [1,3]])\n",
    "# 2차원 numpy array\n",
    "\n",
    "y_data = np.array([[\"A\"],\n",
    "                  [\"A\"],\n",
    "                  [\"B\"],\n",
    "                  [\"B\"],\n",
    "                  [\"C\"]])\n",
    "# y label이 문자열이므로 학습이 되지 않음.\n",
    "\n",
    "# 자료 구조 확인\n",
    "\n",
    "# data를 따로 확인해 보자.\n",
    "# scatter 그리기\n",
    "plt.scatter(x_data[0:2,0], x_data[0:2, 1]) # A학점 받은 x data 구조(시험점수, 출석점수)\n",
    "plt.scatter(x_data[2:4,0], x_data[2:4, 1]) # B학점 받은 y data 구조(시험점수, 출석점수)\n",
    "plt.scatter(x_data[4,0], x_data[4, 1])\n",
    "\n",
    "# x_data의 0, 1행에 대해서 0열이므로 10, 9 + x_data의 0, 1행에 대해서 1열이므로 5, 5"
   ]
  },
  {
   "cell_type": "markdown",
   "metadata": {},
   "source": [
    "### 예시\n",
    "3번의 퀴즈, 출석 점수를 통해 성적을 예측.\n",
    "\n",
    "           x data                   label          one-hot encoding\n",
    "퀴즈1    퀴즈2   퀴즈3    출석      성적       A      B     C\n",
    "10         7       8        5        A         1\n",
    "8          8       9        4        A         1\n",
    "7          8       2        3        B                1\n",
    "6          3       9        3        B                1\n",
    "7          5       7        4        B                1\n",
    "3          5       6        2        C                      1\n",
    "2          6       3        1        C                      1"
   ]
  },
  {
   "cell_type": "code",
   "execution_count": 6,
   "metadata": {},
   "outputs": [
    {
     "name": "stdout",
     "output_type": "stream",
     "text": [
      "[[1, 0, 0], [1, 0, 0], [0, 1, 0], [0, 1, 0], [0, 1, 0], [0, 0, 1], [0, 0, 1]]\n",
      "cost 값은 : 11.230758666992188\n",
      "cost 값은 : 1.1732550859451294\n",
      "cost 값은 : 0.9902771711349487\n",
      "cost 값은 : 0.6860259175300598\n",
      "cost 값은 : 0.5618454813957214\n",
      "cost 값은 : 0.5118224024772644\n",
      "cost 값은 : 0.47368839383125305\n",
      "cost 값은 : 0.05306902900338173\n",
      "cost 값은 : 0.047983258962631226\n",
      "cost 값은 : 0.04433310404419899\n",
      "정확도 : 1.0\n"
     ]
    }
   ],
   "source": [
    "import tensorflow as tf\n",
    "# 학습(train) -> 정확도(test) -> 예측(prediction) : 정확도 생략.\n",
    "\n",
    "# 1. 학습\n",
    "\n",
    "# 1-1. training data set : numpy array\n",
    "\n",
    "# x data : 세 번의 퀴즈와 출석\n",
    "train_x_data = [[10,7,8,5],\n",
    "                [8,8,9,4],\n",
    "                [7,8,2,3],\n",
    "                [6,3,9,3],\n",
    "                [7,5,7,4],\n",
    "                [3,5,6,2],\n",
    "                [2,4,3,1]]\n",
    "\n",
    "# y data : y쪽 label -> one-hot encoding\n",
    "train_y_data = [[1,0,0],\n",
    "                [1,0,0],\n",
    "                [0,1,0],\n",
    "                [0,1,0],\n",
    "                [0,1,0],\n",
    "                [0,0,1],\n",
    "                [0,0,1]]\n",
    "print(train_y_data)\n",
    "\n",
    "# 1-2. placeholder\n",
    "# Y가 one- hot encoding으로 변하니까, shape에 주의.\n",
    "X = tf.placeholder(shape = [None, 4], dtype = tf.float32)\n",
    "Y = tf.placeholder(shape = [None, 3], dtype = tf.float32)\n",
    "\n",
    "# 1-3. W, bias\n",
    "# weight 행렬의 크기에 주의 : X, Y 보고 빠르게 구할 수 있음.\n",
    "# logistic 3개 모였으니까(A, B, C) bias 1차원으로 3개\n",
    "# bias : 분류의 개수\n",
    "W = tf.Variable(tf.random_normal([4,3]), name = \"weight\")\n",
    "b = tf.Variable(tf.random_normal([3]), name = \"bias\")\n",
    "\n",
    "# 1-4. hypothesis\n",
    "# logit은 동일하게 행렬곱\n",
    "# 가설 함수에서 sigmoid하면 각각의 가설에 대해 확률이 나온다. sigmoid 안 된다.\n",
    "# 전체 확률값의 합이 1이 되게 구하기 위해 softmax.\n",
    "# softmax : tensorflow가 제공하는, 확률값을 구해주기 위한 함수.\n",
    "logit = tf.matmul(X, W) + b\n",
    "H = tf.nn.softmax(logit)\n",
    "\n",
    "# 1-5. cost function\n",
    "# multinomial에서는 hypothesis가 바뀌니까 cost함수도 따라서 바뀌어야 함.\n",
    "# tensorflow 라이브러리가 제공해준다.\n",
    "# softmax cross entropy version2를 사용해야 한다! 인자는 binomial과 동일함\n",
    "cost = tf.reduce_mean(tf.nn.softmax_cross_entropy_with_logits_v2(logits = logit,\n",
    "                                                                 labels = Y))\n",
    "\n",
    "# 1-6. train\n",
    "# 동일 : gradient descent 사용, learning rate도 그대로 사용.\n",
    "train = tf.train.GradientDescentOptimizer(learning_rate = 0.1).minimize(cost)\n",
    "\n",
    "# 1-6. 실행할 준비 : session, 초기화\n",
    "sess = tf.Session()\n",
    "sess.run(tf.global_variables_initializer())\n",
    "\n",
    "# 1-7. 학습\n",
    "# learning_rate 0.1 줬을 때 cost값이 제일 작아지는데?\n",
    "for step in range(3000):\n",
    "    _, cost_val = sess.run([train, cost], feed_dict = { X : train_x_data,\n",
    "                                                      Y : train_y_data})\n",
    "    if step % 300 == 0:\n",
    "        print(\"cost 값은 : {}\".format(cost_val))\n",
    "\n",
    "# 학습 끝\n",
    "# 데이터 크기 매우 작기 때문에, minmax scaler 등 작업 거치지 않아도 raw data로 학습 가능.\n",
    "\n",
    "# 2. 정확도 측정\n",
    "\n",
    "# 로지스틱에서의 정확도 측정\n",
    "# predict = tf.cast(H>0.5, dtype = tf.float32)\n",
    "# 결과로 나오는 H가 true일 확률로 나오기 때문에, 0.5를 기준으로 boolean을 추출하고 실수로 casting할 수 있었음.\n",
    "\n",
    "# MULTINOMIAL의 정확도 측정\n",
    "# x 데이터만주면 됨. \n",
    "sess.run(H, feed_dict = { X : [[10,8,9,5]]})\n",
    "# 값이 3개 나옴. 10의  -1승으로 a일 확률이 제일 크게 나옴.\n",
    "\n",
    "# 예측해서 나온 A라는 학점이 y측 label과 같은지 봐야 함. 그걸 가지고 정확도 측정.\n",
    "predict = tf.argmax(H, axis = 1)  # 가장 큰 값의 index 번호 return\n",
    "# argmax : 특정 방향으로 가장 큰 값의 index 번호 return\n",
    "# axis = 0 : 세로(행) 방향, axis = 1 : 가로(열) 방향\n",
    "\n",
    "correct = tf.equal(predict, tf.argmax(Y, axis = 1))\n",
    "# 비교할 것인데, 입력한 정보(Y측 label)에서 가로 방향으로 가장 큰 값이 몇 번째에 있는지 index 번호 찾아서\n",
    "# 몇 번째에 있는지 비교. -> tensorflow의 equal을 기준으로.\n",
    "# logistic은 0.5를 기준으로 크냐작냐를기준으로 비교 했는데 여기서는 다르다.\n",
    "\n",
    "accuracy = tf.reduce_mean(tf.cast(correct,dtype = tf.float32))\n",
    "# correct를 cast하고 \n",
    "\n",
    "# test data 밀어넣어 주면서 accuracy 측정\n",
    "print(\"정확도 : {}\".format(sess.run(accuracy,\n",
    "                                feed_dict = {X: train_x_data,\n",
    "                                            Y: train_y_data})))\n",
    "# 예측 정확도와 별개로, 위와 같이 학습한 데이터를 가지고 테스트한다면 정확도 거의 1에 가깝게 나옴,\n",
    "# 특정 데이터를 가지고 학습했는데, 그 학습 데이터를 그대로 테스트하는 상황.\n"
   ]
  },
  {
   "cell_type": "markdown",
   "metadata": {},
   "source": [
    "### BMI 예제\n",
    "1. 혼자 푼 파일\n",
    "2. 정답 확인"
   ]
  },
  {
   "cell_type": "code",
   "execution_count": 7,
   "metadata": {},
   "outputs": [],
   "source": [
    "# 예제 : BMI 측정\n",
    "# BMI 데이터를 학습한 후 자신의 키와 몸무게를 넣어서 상태 확인.\n",
    "# 실측 데이터 : 표준 미만, 표준, 표준 초과의 3개 label\n",
    "# bmi.csv 찾아서 multinmial 문제 학습!\n",
    "\n",
    "# one hot encoding, minmax scaler"
   ]
  },
  {
   "cell_type": "code",
   "execution_count": 8,
   "metadata": {},
   "outputs": [],
   "source": [
    "# BMI 예제 정답"
   ]
  },
  {
   "cell_type": "code",
   "execution_count": 9,
   "metadata": {},
   "outputs": [],
   "source": [
    "import tensorflow as tf\n",
    "import numpy as np\n",
    "import pandas as pd\n",
    "import matplotlib.pyplot as plt\n",
    "import warnings\n",
    "from sklearn.preprocessing import MinMaxScaler\n",
    "\n",
    "warnings.filterwarnings(action = \"ignore\")"
   ]
  },
  {
   "cell_type": "code",
   "execution_count": 10,
   "metadata": {},
   "outputs": [
    {
     "data": {
      "text/plain": [
       "{'whiskers': [<matplotlib.lines.Line2D at 0x25b5e6db518>,\n",
       "  <matplotlib.lines.Line2D at 0x25b5e6db860>],\n",
       " 'caps': [<matplotlib.lines.Line2D at 0x25b5e6dbba8>,\n",
       "  <matplotlib.lines.Line2D at 0x25b5e6dbef0>],\n",
       " 'boxes': [<matplotlib.lines.Line2D at 0x25b5e6bbb70>],\n",
       " 'medians': [<matplotlib.lines.Line2D at 0x25b5e6e5278>],\n",
       " 'fliers': [<matplotlib.lines.Line2D at 0x25b5e6e55c0>],\n",
       " 'means': []}"
      ]
     },
     "execution_count": 10,
     "metadata": {},
     "output_type": "execute_result"
    },
    {
     "data": {
      "image/png": "[encoded data removed]",
      "text/plain": [
       "<Figure size 432x288 with 1 Axes>"
      ]
     },
     "metadata": {
      "needs_background": "light"
     },
     "output_type": "display_data"
    }
   ],
   "source": [
    "# 0. Data 준비 및 확인\n",
    "data_df = pd.read_csv(\"./data/bmi.csv\", skiprows = 3)\n",
    "\n",
    "# 결측치 확인 : 없음.\n",
    "data_df.isnull().sum()\n",
    "\n",
    "# 이상치 확인\n",
    "plt.boxplot(data_df[\"height\"]) # 이상치 없음\n",
    "plt.boxplot(data_df[\"weight\"]) # 이상치 없음"
   ]
  },
  {
   "cell_type": "code",
   "execution_count": 11,
   "metadata": {},
   "outputs": [
    {
     "ename": "AttributeError",
     "evalue": "'MinMaxScaler' object has no attribute 'data_max_'",
     "output_type": "error",
     "traceback": [
      "\u001b[1;31m---------------------------------------------------------------------------\u001b[0m",
      "\u001b[1;31mAttributeError\u001b[0m                            Traceback (most recent call last)",
      "\u001b[1;32m<ipython-input-11-b95ef96b7ac5>\u001b[0m in \u001b[0;36m<module>\u001b[1;34m\u001b[0m\n\u001b[0;32m     11\u001b[0m \u001b[0mscaler\u001b[0m \u001b[1;33m=\u001b[0m \u001b[0mMinMaxScaler\u001b[0m\u001b[1;33m(\u001b[0m\u001b[1;33m)\u001b[0m\u001b[1;33m\u001b[0m\u001b[1;33m\u001b[0m\u001b[0m\n\u001b[0;32m     12\u001b[0m \u001b[1;31m# scaler 하나의 변수로 저장해 놓기\u001b[0m\u001b[1;33m\u001b[0m\u001b[1;33m\u001b[0m\u001b[1;33m\u001b[0m\u001b[0m\n\u001b[1;32m---> 13\u001b[1;33m \u001b[0mMinMaxScaler\u001b[0m\u001b[1;33m(\u001b[0m\u001b[1;33m)\u001b[0m\u001b[1;33m.\u001b[0m\u001b[0mdata_max_\u001b[0m\u001b[1;33m\u001b[0m\u001b[1;33m\u001b[0m\u001b[0m\n\u001b[0m",
      "\u001b[1;31mAttributeError\u001b[0m: 'MinMaxScaler' object has no attribute 'data_max_'"
     ]
    }
   ],
   "source": [
    "# 1. data 준비\n",
    "\n",
    "# train, test data 나눌 기준 행 넘버\n",
    "split_num = int(data_df.shape[0] * 0.8)\n",
    "\n",
    "# x_data, y_data 준비\n",
    "# 행 들고 오고, 열은 뒤에 한 번에 fancy indexing 줘도 된다.\n",
    "# 들고올 때 한 번에 정규화하자.\n",
    "train_x_data = data_df.loc[:split_num, [\"height\", \"weight\"]]\n",
    "\n",
    "scaler = MinMaxScaler()\n",
    "# scaler 하나의 변수로 저장해 놓기\n",
    "MinMaxScaler().data_max_"
   ]
  },
  {
   "cell_type": "code",
   "execution_count": 12,
   "metadata": {},
   "outputs": [
    {
     "name": "stdout",
     "output_type": "stream",
     "text": [
      "(16000, 2)\n",
      "[[0. 1. 0.]\n",
      " [0. 0. 1.]\n",
      " [1. 0. 0.]\n",
      " ...\n",
      " [0. 0. 1.]\n",
      " [1. 0. 0.]\n",
      " [0. 1. 0.]]\n",
      "(16000, 3)\n",
      "(4000, 3)\n"
     ]
    }
   ],
   "source": [
    "# 1. data 준비\n",
    "\n",
    "# train, test data 나눌 기준 행 넘버\n",
    "split_num = int(data_df.shape[0] * 0.8)\n",
    "\n",
    "# scaler 변수로 저장\n",
    "scaler = MinMaxScaler()\n",
    "\n",
    "# 1-1. x_data\n",
    "# 1) 행 들고 오고, 열은 뒤에 한 번에 fancy indexing 줘도 된다.\n",
    "# 2) 들고 올 때 한 번에 정규화한다.\n",
    "x_data = scaler.fit_transform(data_df.loc[:split_num, [\"height\", \"weight\"]])\n",
    "## MinMaxScaler().fit_transform 이라는 함수\n",
    "## fit_transform 두 가지 역할 동시에 한다.\n",
    "## fit : minmax 할 data 들고와\n",
    "## transform : 변환해\n",
    "\n",
    "# 3) train, test용으로 나누기\n",
    "train_x_data = x_data[:split_num]\n",
    "print(train_x_data.shape)\n",
    "# x_data가 주체임 : min max scaler, fit transform 통과해서 들고온다 -> 정규화되면서 numpy array가 된다\n",
    "# -> numpy array에서는 뒤에가 exclusive\n",
    "test_x_data = x_data[split_num:]\n",
    "\n",
    "# 1-2. y_data  생성 \n",
    "\n",
    "# one_hot encoding 필요\n",
    "# - pandas.get_dummies()\n",
    "# - tensorflow.one_hot()\n",
    "\n",
    "sess = tf.Session()\n",
    "\n",
    "# 주의할 것 : 데이터의 개수\n",
    "sess.run(tf.one_hot(data_df.loc[:split_num, \"label\"], 3)).shape\n",
    "# data_df.loc[:split_num, \"label\"] : label column만 split_num까지 행을 들고 온다.\n",
    "# tf.one_hot의 인자 : 분할할 데이터(data_df.loc[:split_num, \"label\"]), 그것을 몇 개로 분할할 것인지(3)\n",
    "# sess.run(tf.one_hot(data_df.loc[:split_num, \"label\"], 3)) : 16001개\n",
    "# data_df : pandas의 dataframe -> numpy가 아님 -> data frame에서 loc 사용해서 행 가져오면 뒤에 inclusive\n",
    "# 따라서 one_hot 사용하려면 -1 해줘야 데이터의 개수가 일치한다\n",
    "\n",
    "train_y_data = sess.run(tf.one_hot(data_df.loc[:split_num-1, \"label\"], 3))\n",
    "print(train_y_data)\n",
    "print(train_y_data.shape)\n",
    "# -1 : 데이터 개수 일치시키기 위해\n",
    "test_y_data = sess.run(tf.one_hot(data_df.loc[split_num:, \"label\"], 3))\n",
    "print(test_y_data.shape)\n",
    "# test 에서는 split이 앞에 있으니까 inclusive이므로 -1 없음."
   ]
  },
  {
   "cell_type": "code",
   "execution_count": 13,
   "metadata": {
    "scrolled": true
   },
   "outputs": [
    {
     "name": "stdout",
     "output_type": "stream",
     "text": [
      "cost 값은 : 1.448047161102295\n",
      "cost 값은 : 0.3605087101459503\n",
      "cost 값은 : 0.28349339962005615\n",
      "cost 값은 : 0.24528183043003082\n",
      "cost 값은 : 0.2211015522480011\n",
      "cost 값은 : 0.2039448618888855\n",
      "cost 값은 : 0.1909186989068985\n",
      "cost 값은 : 0.18057306110858917\n",
      "cost 값은 : 0.17208760976791382\n",
      "cost 값은 : 0.16495674848556519\n"
     ]
    }
   ],
   "source": [
    "# 2. 학습\n",
    "\n",
    "# 2-1. 데이터 셋 준비\n",
    "train_x_data\n",
    "train_y_data\n",
    "\n",
    "# 2-2. placeholder\n",
    "X = tf.placeholder(shape = [None, 2], dtype = tf.float32)\n",
    "Y = tf.placeholder(shape = [None, 3], dtype = tf.float32)\n",
    "\n",
    "# 2-3. weight, bias\n",
    "W = tf.Variable(tf.random_normal([2,3]), name = \"weight\")\n",
    "b = tf.Variable(tf.random_normal([3]), name = \"bias\")\n",
    "\n",
    "# 2-4. hypothesis\n",
    "logit = tf.matmul(X,W)+b\n",
    "H = tf.nn.softmax(logit)\n",
    "\n",
    "# 2-5. cost\n",
    "cost = tf.reduce_mean(tf.nn.softmax_cross_entropy_with_logits_v2(logits = logit,\n",
    "                                                                labels = Y))\n",
    "\n",
    "# 2-6. train\n",
    "train = tf.train.GradientDescentOptimizer(learning_rate = 0.1).minimize(cost)\n",
    "\n",
    "# 2-7. 준비: session, 초기화\n",
    "sess = tf.Session()\n",
    "sess.run(tf.global_variables_initializer())\n",
    "\n",
    "# 2-8. 학습\n",
    "for step in range(30000):\n",
    "    _, cost_val = sess.run([train, cost], feed_dict = { X : train_x_data,\n",
    "                                                        Y : train_y_data})\n",
    "    if step % 3000 == 0:\n",
    "        print(\"cost 값은 : {}\".format(cost_val))"
   ]
  },
  {
   "cell_type": "code",
   "execution_count": 14,
   "metadata": {
    "scrolled": true
   },
   "outputs": [
    {
     "name": "stdout",
     "output_type": "stream",
     "text": [
      "정확도 : 0.30149999260902405\n"
     ]
    }
   ],
   "source": [
    "# 3. 정확도 : 잘못됐다.\n",
    "predict = tf.argmax(H, axis = 1) \n",
    "correct = tf.equal(predict, tf.argmax(Y, axis = 1))\n",
    "accuracy = tf.reduce_mean(tf.cast(correct, dtype = tf.float32))\n",
    "print(\"정확도 : {}\".format(sess.run(accuracy,\n",
    "                                feed_dict = {X: test_x_data,\n",
    "                                            Y: test_y_data})))"
   ]
  },
  {
   "cell_type": "code",
   "execution_count": null,
   "metadata": {},
   "outputs": [],
   "source": [
    "# 4. prediction\n",
    "prediction_data = scaler.transform([[180, 60]])\n",
    "prediction_data\n",
    "# sess.run(H, feed_dict = {X: prediction_data}) : 이렇게 나오면 너무 보기 안 좋으니...\n",
    "sess.run(tf.argmax(H,1), feed_dict = {X: prediction_data})"
   ]
  }
 ],
 "metadata": {
  "kernelspec": {
   "display_name": "[CPU_ENV]",
   "language": "python",
   "name": "cpu_env"
  },
  "language_info": {
   "codemirror_mode": {
    "name": "ipython",
    "version": 3
   },
   "file_extension": ".py",
   "mimetype": "text/x-python",
   "name": "python",
   "nbconvert_exporter": "python",
   "pygments_lexer": "ipython3",
   "version": "3.6.9"
  }
 },
 "nbformat": 4,
 "nbformat_minor": 2
}
