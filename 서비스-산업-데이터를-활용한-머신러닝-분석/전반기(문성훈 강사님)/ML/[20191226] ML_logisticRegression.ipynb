{
 "cells": [
  {
   "cell_type": "markdown",
   "metadata": {},
   "source": [
    "# 로지스틱회귀"
   ]
  },
  {
   "cell_type": "markdown",
   "metadata": {},
   "source": [
    "## 개요"
   ]
  },
  {
   "cell_type": "code",
   "execution_count": null,
   "metadata": {},
   "outputs": [],
   "source": [
    "# 지도학습(Supervised Learning)\n",
    "# 1. 선형회귀(Linear Regression)\n",
    "# 1.1. 단순선형회귀(Simple Linear Regression)\n",
    "# 1.2. 다중선형회귀(Multiple Linear Regression)\n",
    "\n",
    "# 2. 로지스틱 회귀(Logistic Regression) = 이항분류(Binary Classification)\n",
    "# 이항 분류 : y측 label(결과값)이 0, 1 / True, False / Pass, Fail 등 2개 중 하나로 도출됨.\n",
    "# 머신러닝의 결과는 확률값으로 출력됨. : 최종 학습 결과가 0과 1 사이의 확률값으로 나옴.\n",
    "# 그 확률이 0과 1 중 어느 쪽에 가까운지 기준을 설정하고, 그것을 기반으로 True인지 False인지 판별함.\n",
    "# 일반적으로 0.5 이상이면 1로 간주하고, 0.5 미만이면 0으로 간주함.\n",
    "# 로지스틱이 머신러닝의 기반 : 로지스틱 알기 위해서는 선형을 알아야 하기 때문에 선형회귀를 배운다.\n",
    "# 알고리즘 중 가장 보편화되고 정확한 알고리즘\n",
    "# 활용 예시 : email 스팸 판별, 주가 상승 여부 판별, 신용카드 도난 여부 판별 등.\n",
    "# 예)     x(시간)        y(시험 결과)\n",
    "#           1              Fail(0)\n",
    "#           2              Fail(0)\n",
    "#          ...               ...\n",
    "#           5              Pass(1)\n",
    "#          ...               ...\n",
    "#           8              Pass(1)\n",
    "#          ...               ...\n",
    "#          10              Pass(1)"
   ]
  },
  {
   "cell_type": "markdown",
   "metadata": {},
   "source": [
    "## 로지스틱회귀의 필요성\n",
    "\n",
    "> classification의 경우에 linear regression으로는 나쁜 예측이 일어날 수 있다. "
   ]
  },
  {
   "cell_type": "markdown",
   "metadata": {},
   "source": [
    "예)     x(시간)        y(시험 결과)\n",
    "          1              Fail(0)\n",
    "          2              Fail(0)\n",
    "         ...               ...\n",
    "          5              Pass(1)\n",
    "         ...               ...\n",
    "          8              Pass(1)\n",
    "         ...               ...\n",
    "         10              Pass(1)"
   ]
  },
  {
   "cell_type": "markdown",
   "metadata": {},
   "source": [
    "위의 데이터를 가지고 linear regression으로 학습한 후, 7시간 공부한 결과를 예측하라.\n",
    "(= y측 label이 기존 선형회귀 모델 데이터의 형태와 다른데도 불구하고, Linear Regression 진행해보자.)"
   ]
  },
  {
   "cell_type": "code",
   "execution_count": 8,
   "metadata": {
    "scrolled": false
   },
   "outputs": [
    {
     "name": "stdout",
     "output_type": "stream",
     "text": [
      "cost 값은 : 8.319875717163086\n",
      "cost 값은 : 0.04353741928935051\n",
      "cost 값은 : 0.04353741928935051\n",
      "cost 값은 : 0.04353741928935051\n",
      "cost 값은 : 0.04353741928935051\n",
      "cost 값은 : 0.04353741928935051\n",
      "cost 값은 : 0.04353741928935051\n",
      "cost 값은 : 0.04353741928935051\n",
      "cost 값은 : 0.04353741928935051\n",
      "cost 값은 : 0.04353741928935051\n",
      "[0.6326531]\n",
      "[0.50340176]\n",
      "[0.43877617]\n"
     ]
    }
   ],
   "source": [
    "import tensorflow as tf\n",
    "\n",
    "x_data = [1,2,5,8,10]\n",
    "y_data = [0,0,0,1,1]    # 수치계산을 하는데 문자열 pass나 fail이 들어가면 계산이 안 됨.\n",
    "\n",
    "x = tf.placeholder(dtype=tf.float32)\n",
    "y = tf.placeholder(dtype=tf.float32)\n",
    "\n",
    "W = tf.Variable(tf.random_normal([1]), name = \"weight\")\n",
    "b = tf.Variable(tf.random_normal([1]), name = \"bias\")\n",
    "\n",
    "H = W * x + b          # 가설 설정\n",
    "\n",
    "cost = tf.reduce_mean(tf.square(H-y))\n",
    "optimizer = tf.train.GradientDescentOptimizer(learning_rate = 0.01)\n",
    "train = optimizer.minimize(cost)\n",
    "\n",
    "sess = tf.Session()\n",
    "sess.run(tf.global_variables_initializer())\n",
    "\n",
    "for step in range(30000):\n",
    "    _, cost_val = sess.run([train, cost],\n",
    "                          feed_dict = {x : x_data,\n",
    "                                      y : y_data})\n",
    "    if step % 3000 == 0:\n",
    "        print(\"cost 값은 : {}\".format(cost_val))\n",
    "        \n",
    "# cost값이 0.04 정도이므로, 그냥저냥.\n",
    "\n",
    "# 예측\n",
    "print(sess.run(H, feed_dict = {x : 7})) \n",
    "# 예측 값이 0.6이 나왔다. -> 일반적으로 0.5보다 크므로, 1이라고 판정. -> 합격!\n",
    "print(sess.run(H, feed_dict = {x : 6})) # 0.5보다 크다. -> 합격\n",
    "print(sess.run(H, feed_dict = {x : 5.5})) # 0.5보다 작다. -> 불합격"
   ]
  },
  {
   "cell_type": "markdown",
   "metadata": {},
   "source": [
    "* 실제로 해보니, 별 차이 없는 것 같은데?\n",
    "-> 자료 하나 추가되거나 하면 달라짐\n",
    "* 데이터 set에 x = 20을 추가해보자."
   ]
  },
  {
   "cell_type": "code",
   "execution_count": 5,
   "metadata": {
    "scrolled": true
   },
   "outputs": [
    {
     "name": "stdout",
     "output_type": "stream",
     "text": [
      "cost 값은 : 69.5799560546875\n",
      "cost 값은 : 0.09461327642202377\n",
      "cost 값은 : 0.09461327642202377\n",
      "cost 값은 : 0.09461327642202377\n",
      "cost 값은 : 0.09461327642202377\n",
      "cost 값은 : 0.09461327642202377\n",
      "cost 값은 : 0.09461327642202377\n",
      "cost 값은 : 0.09461327642202377\n",
      "cost 값은 : 0.09461327642202377\n",
      "cost 값은 : 0.09461327642202377\n",
      "[0.45856532]\n",
      "[0.39641038]\n",
      "[0.36533293]\n"
     ]
    }
   ],
   "source": [
    "import tensorflow as tf\n",
    "import pandas as pd\n",
    "import numpy as np\n",
    "\n",
    "x_data = [1,2,5,8,10, 20]\n",
    "y_data = [0,0,0,1,1,1]\n",
    "\n",
    "x = tf.placeholder(dtype=tf.float32)\n",
    "y = tf.placeholder(dtype=tf.float32)\n",
    "\n",
    "W = tf.Variable(tf.random_normal([1]), name = \"weight\")\n",
    "b = tf.Variable(tf.random_normal([1]), name = \"bias\")\n",
    "\n",
    "H = W * x + b          # 가설 설정\n",
    "\n",
    "cost = tf.reduce_mean(tf.square(H-y))\n",
    "optimizer = tf.train.GradientDescentOptimizer(learning_rate = 0.01)\n",
    "train = optimizer.minimize(cost)\n",
    "\n",
    "sess = tf.Session()\n",
    "sess.run(tf.global_variables_initializer())\n",
    "\n",
    "for step in range(30000):\n",
    "    _, cost_val = sess.run([train, cost],\n",
    "                          feed_dict = {x : x_data,\n",
    "                                      y : y_data})\n",
    "    if step % 3000 == 0:\n",
    "        print(\"cost 값은 : {}\".format(cost_val))\n",
    "        \n",
    "# cost값이 0.04 정도이므로, 그냥저냥.\n",
    "\n",
    "# 예측\n",
    "print(sess.run(H, feed_dict = {x : 7})) # 위의 예에서는 0.63~이 나와서 합격이라고 봤는데, 이제는 아니다.\n",
    "print(sess.run(H, feed_dict = {x : 6})) # 역시 위의 예와 달리 불합격.\n",
    "print(sess.run(H, feed_dict = {x : 5.5}))"
   ]
  },
  {
   "cell_type": "markdown",
   "metadata": {},
   "source": [
    "## classification model에 linear regression model을 사용할 때의 문제점\n",
    "## 다른 예측 방식의 필요성이 대두되었다."
   ]
  }
 ],
 "metadata": {
  "kernelspec": {
   "display_name": "[CPU_ENV]",
   "language": "python",
   "name": "cpu_env"
  },
  "language_info": {
   "codemirror_mode": {
    "name": "ipython",
    "version": 3
   },
   "file_extension": ".py",
   "mimetype": "text/x-python",
   "name": "python",
   "nbconvert_exporter": "python",
   "pygments_lexer": "ipython3",
   "version": "3.6.9"
  }
 },
 "nbformat": 4,
 "nbformat_minor": 2
}
