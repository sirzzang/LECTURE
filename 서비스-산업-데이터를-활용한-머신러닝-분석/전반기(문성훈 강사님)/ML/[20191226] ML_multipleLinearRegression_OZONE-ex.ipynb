{
 "cells": [
  {
   "cell_type": "code",
   "execution_count": null,
   "metadata": {},
   "outputs": [],
   "source": [
    "# 다중선형회귀 연습문제\n",
    "# 관측된 Solar.R, Wind, Temp에 대한 Ozone량에 대한 데이터를 이용하여 machine learning을 진행하고\n",
    "# Solar.R이 170, Wind가 7.4, Temp가 67.0일 때 Ozone 수치를 예측하자."
   ]
  },
  {
   "cell_type": "code",
   "execution_count": null,
   "metadata": {},
   "outputs": [],
   "source": [
    "# Q) solar.R 이랑 ozone이랑 선형 아니지 않나????????????????????????????????????????"
   ]
  },
  {
   "cell_type": "code",
   "execution_count": 2,
   "metadata": {},
   "outputs": [],
   "source": [
    "import tensorflow as tf\n",
    "import numpy as np\n",
    "import pandas as pd\n",
    "import matplotlib.pyplot as plt"
   ]
  },
  {
   "cell_type": "code",
   "execution_count": 65,
   "metadata": {},
   "outputs": [
    {
     "data": {
      "text/html": [
       "<div>\n",
       "<style scoped>\n",
       "    .dataframe tbody tr th:only-of-type {\n",
       "        vertical-align: middle;\n",
       "    }\n",
       "\n",
       "    .dataframe tbody tr th {\n",
       "        vertical-align: top;\n",
       "    }\n",
       "\n",
       "    .dataframe thead th {\n",
       "        text-align: right;\n",
       "    }\n",
       "</style>\n",
       "<table border=\"1\" class=\"dataframe\">\n",
       "  <thead>\n",
       "    <tr style=\"text-align: right;\">\n",
       "      <th></th>\n",
       "      <th>Ozone</th>\n",
       "      <th>Solar.R</th>\n",
       "      <th>Wind</th>\n",
       "      <th>Temp</th>\n",
       "      <th>Month</th>\n",
       "      <th>Day</th>\n",
       "    </tr>\n",
       "  </thead>\n",
       "  <tbody>\n",
       "    <tr>\n",
       "      <th>0</th>\n",
       "      <td>41.0</td>\n",
       "      <td>190.0</td>\n",
       "      <td>7.4</td>\n",
       "      <td>67</td>\n",
       "      <td>5</td>\n",
       "      <td>1</td>\n",
       "    </tr>\n",
       "    <tr>\n",
       "      <th>1</th>\n",
       "      <td>36.0</td>\n",
       "      <td>118.0</td>\n",
       "      <td>8.0</td>\n",
       "      <td>72</td>\n",
       "      <td>5</td>\n",
       "      <td>2</td>\n",
       "    </tr>\n",
       "    <tr>\n",
       "      <th>2</th>\n",
       "      <td>12.0</td>\n",
       "      <td>149.0</td>\n",
       "      <td>12.6</td>\n",
       "      <td>74</td>\n",
       "      <td>5</td>\n",
       "      <td>3</td>\n",
       "    </tr>\n",
       "    <tr>\n",
       "      <th>3</th>\n",
       "      <td>18.0</td>\n",
       "      <td>313.0</td>\n",
       "      <td>11.5</td>\n",
       "      <td>62</td>\n",
       "      <td>5</td>\n",
       "      <td>4</td>\n",
       "    </tr>\n",
       "    <tr>\n",
       "      <th>4</th>\n",
       "      <td>NaN</td>\n",
       "      <td>NaN</td>\n",
       "      <td>14.3</td>\n",
       "      <td>56</td>\n",
       "      <td>5</td>\n",
       "      <td>5</td>\n",
       "    </tr>\n",
       "    <tr>\n",
       "      <th>...</th>\n",
       "      <td>...</td>\n",
       "      <td>...</td>\n",
       "      <td>...</td>\n",
       "      <td>...</td>\n",
       "      <td>...</td>\n",
       "      <td>...</td>\n",
       "    </tr>\n",
       "    <tr>\n",
       "      <th>148</th>\n",
       "      <td>30.0</td>\n",
       "      <td>193.0</td>\n",
       "      <td>6.9</td>\n",
       "      <td>70</td>\n",
       "      <td>9</td>\n",
       "      <td>26</td>\n",
       "    </tr>\n",
       "    <tr>\n",
       "      <th>149</th>\n",
       "      <td>NaN</td>\n",
       "      <td>145.0</td>\n",
       "      <td>13.2</td>\n",
       "      <td>77</td>\n",
       "      <td>9</td>\n",
       "      <td>27</td>\n",
       "    </tr>\n",
       "    <tr>\n",
       "      <th>150</th>\n",
       "      <td>14.0</td>\n",
       "      <td>191.0</td>\n",
       "      <td>14.3</td>\n",
       "      <td>75</td>\n",
       "      <td>9</td>\n",
       "      <td>28</td>\n",
       "    </tr>\n",
       "    <tr>\n",
       "      <th>151</th>\n",
       "      <td>18.0</td>\n",
       "      <td>131.0</td>\n",
       "      <td>8.0</td>\n",
       "      <td>76</td>\n",
       "      <td>9</td>\n",
       "      <td>29</td>\n",
       "    </tr>\n",
       "    <tr>\n",
       "      <th>152</th>\n",
       "      <td>20.0</td>\n",
       "      <td>223.0</td>\n",
       "      <td>11.5</td>\n",
       "      <td>68</td>\n",
       "      <td>9</td>\n",
       "      <td>30</td>\n",
       "    </tr>\n",
       "  </tbody>\n",
       "</table>\n",
       "<p>153 rows × 6 columns</p>\n",
       "</div>"
      ],
      "text/plain": [
       "     Ozone  Solar.R  Wind  Temp  Month  Day\n",
       "0     41.0    190.0   7.4    67      5    1\n",
       "1     36.0    118.0   8.0    72      5    2\n",
       "2     12.0    149.0  12.6    74      5    3\n",
       "3     18.0    313.0  11.5    62      5    4\n",
       "4      NaN      NaN  14.3    56      5    5\n",
       "..     ...      ...   ...   ...    ...  ...\n",
       "148   30.0    193.0   6.9    70      9   26\n",
       "149    NaN    145.0  13.2    77      9   27\n",
       "150   14.0    191.0  14.3    75      9   28\n",
       "151   18.0    131.0   8.0    76      9   29\n",
       "152   20.0    223.0  11.5    68      9   30\n",
       "\n",
       "[153 rows x 6 columns]"
      ]
     },
     "metadata": {},
     "output_type": "display_data"
    },
    {
     "data": {
      "text/plain": [
       "Ozone      37\n",
       "Solar.R     7\n",
       "Wind        0\n",
       "Temp        0\n",
       "Month       0\n",
       "Day         0\n",
       "dtype: int64"
      ]
     },
     "execution_count": 65,
     "metadata": {},
     "output_type": "execute_result"
    }
   ],
   "source": [
    "# 1. raw data load\n",
    "df = pd.read_csv(\"C:/Users/student/Desktop/data/ozone.csv\")\n",
    "display(df)\n",
    "df.shape\n",
    "df.isnull().sum()"
   ]
  },
  {
   "cell_type": "code",
   "execution_count": 66,
   "metadata": {
    "scrolled": false
   },
   "outputs": [
    {
     "data": {
      "text/html": [
       "<div>\n",
       "<style scoped>\n",
       "    .dataframe tbody tr th:only-of-type {\n",
       "        vertical-align: middle;\n",
       "    }\n",
       "\n",
       "    .dataframe tbody tr th {\n",
       "        vertical-align: top;\n",
       "    }\n",
       "\n",
       "    .dataframe thead th {\n",
       "        text-align: right;\n",
       "    }\n",
       "</style>\n",
       "<table border=\"1\" class=\"dataframe\">\n",
       "  <thead>\n",
       "    <tr style=\"text-align: right;\">\n",
       "      <th></th>\n",
       "      <th>Ozone</th>\n",
       "      <th>Solar.R</th>\n",
       "      <th>Wind</th>\n",
       "      <th>Temp</th>\n",
       "    </tr>\n",
       "  </thead>\n",
       "  <tbody>\n",
       "    <tr>\n",
       "      <th>0</th>\n",
       "      <td>41.0</td>\n",
       "      <td>190.0</td>\n",
       "      <td>7.4</td>\n",
       "      <td>67</td>\n",
       "    </tr>\n",
       "    <tr>\n",
       "      <th>1</th>\n",
       "      <td>36.0</td>\n",
       "      <td>118.0</td>\n",
       "      <td>8.0</td>\n",
       "      <td>72</td>\n",
       "    </tr>\n",
       "    <tr>\n",
       "      <th>2</th>\n",
       "      <td>12.0</td>\n",
       "      <td>149.0</td>\n",
       "      <td>12.6</td>\n",
       "      <td>74</td>\n",
       "    </tr>\n",
       "    <tr>\n",
       "      <th>3</th>\n",
       "      <td>18.0</td>\n",
       "      <td>313.0</td>\n",
       "      <td>11.5</td>\n",
       "      <td>62</td>\n",
       "    </tr>\n",
       "    <tr>\n",
       "      <th>6</th>\n",
       "      <td>23.0</td>\n",
       "      <td>299.0</td>\n",
       "      <td>8.6</td>\n",
       "      <td>65</td>\n",
       "    </tr>\n",
       "    <tr>\n",
       "      <th>...</th>\n",
       "      <td>...</td>\n",
       "      <td>...</td>\n",
       "      <td>...</td>\n",
       "      <td>...</td>\n",
       "    </tr>\n",
       "    <tr>\n",
       "      <th>147</th>\n",
       "      <td>14.0</td>\n",
       "      <td>20.0</td>\n",
       "      <td>16.6</td>\n",
       "      <td>63</td>\n",
       "    </tr>\n",
       "    <tr>\n",
       "      <th>148</th>\n",
       "      <td>30.0</td>\n",
       "      <td>193.0</td>\n",
       "      <td>6.9</td>\n",
       "      <td>70</td>\n",
       "    </tr>\n",
       "    <tr>\n",
       "      <th>150</th>\n",
       "      <td>14.0</td>\n",
       "      <td>191.0</td>\n",
       "      <td>14.3</td>\n",
       "      <td>75</td>\n",
       "    </tr>\n",
       "    <tr>\n",
       "      <th>151</th>\n",
       "      <td>18.0</td>\n",
       "      <td>131.0</td>\n",
       "      <td>8.0</td>\n",
       "      <td>76</td>\n",
       "    </tr>\n",
       "    <tr>\n",
       "      <th>152</th>\n",
       "      <td>20.0</td>\n",
       "      <td>223.0</td>\n",
       "      <td>11.5</td>\n",
       "      <td>68</td>\n",
       "    </tr>\n",
       "  </tbody>\n",
       "</table>\n",
       "<p>111 rows × 4 columns</p>\n",
       "</div>"
      ],
      "text/plain": [
       "     Ozone  Solar.R  Wind  Temp\n",
       "0     41.0    190.0   7.4    67\n",
       "1     36.0    118.0   8.0    72\n",
       "2     12.0    149.0  12.6    74\n",
       "3     18.0    313.0  11.5    62\n",
       "6     23.0    299.0   8.6    65\n",
       "..     ...      ...   ...   ...\n",
       "147   14.0     20.0  16.6    63\n",
       "148   30.0    193.0   6.9    70\n",
       "150   14.0    191.0  14.3    75\n",
       "151   18.0    131.0   8.0    76\n",
       "152   20.0    223.0  11.5    68\n",
       "\n",
       "[111 rows x 4 columns]"
      ]
     },
     "metadata": {},
     "output_type": "display_data"
    },
    {
     "name": "stdout",
     "output_type": "stream",
     "text": [
      "7.4 11.5\n",
      "4.1\n",
      "17.65\n",
      "18.0 62.0\n",
      "44.0\n",
      "128.0\n"
     ]
    },
    {
     "data": {
      "text/html": [
       "<div>\n",
       "<style scoped>\n",
       "    .dataframe tbody tr th:only-of-type {\n",
       "        vertical-align: middle;\n",
       "    }\n",
       "\n",
       "    .dataframe tbody tr th {\n",
       "        vertical-align: top;\n",
       "    }\n",
       "\n",
       "    .dataframe thead th {\n",
       "        text-align: right;\n",
       "    }\n",
       "</style>\n",
       "<table border=\"1\" class=\"dataframe\">\n",
       "  <thead>\n",
       "    <tr style=\"text-align: right;\">\n",
       "      <th></th>\n",
       "      <th>Ozone</th>\n",
       "      <th>Solar.R</th>\n",
       "      <th>Wind</th>\n",
       "      <th>Temp</th>\n",
       "    </tr>\n",
       "  </thead>\n",
       "  <tbody>\n",
       "    <tr>\n",
       "      <th>0</th>\n",
       "      <td>41.0</td>\n",
       "      <td>190.0</td>\n",
       "      <td>7.4</td>\n",
       "      <td>67</td>\n",
       "    </tr>\n",
       "    <tr>\n",
       "      <th>1</th>\n",
       "      <td>36.0</td>\n",
       "      <td>118.0</td>\n",
       "      <td>8.0</td>\n",
       "      <td>72</td>\n",
       "    </tr>\n",
       "    <tr>\n",
       "      <th>2</th>\n",
       "      <td>12.0</td>\n",
       "      <td>149.0</td>\n",
       "      <td>12.6</td>\n",
       "      <td>74</td>\n",
       "    </tr>\n",
       "    <tr>\n",
       "      <th>3</th>\n",
       "      <td>18.0</td>\n",
       "      <td>313.0</td>\n",
       "      <td>11.5</td>\n",
       "      <td>62</td>\n",
       "    </tr>\n",
       "    <tr>\n",
       "      <th>6</th>\n",
       "      <td>23.0</td>\n",
       "      <td>299.0</td>\n",
       "      <td>8.6</td>\n",
       "      <td>65</td>\n",
       "    </tr>\n",
       "    <tr>\n",
       "      <th>...</th>\n",
       "      <td>...</td>\n",
       "      <td>...</td>\n",
       "      <td>...</td>\n",
       "      <td>...</td>\n",
       "    </tr>\n",
       "    <tr>\n",
       "      <th>147</th>\n",
       "      <td>14.0</td>\n",
       "      <td>20.0</td>\n",
       "      <td>16.6</td>\n",
       "      <td>63</td>\n",
       "    </tr>\n",
       "    <tr>\n",
       "      <th>148</th>\n",
       "      <td>30.0</td>\n",
       "      <td>193.0</td>\n",
       "      <td>6.9</td>\n",
       "      <td>70</td>\n",
       "    </tr>\n",
       "    <tr>\n",
       "      <th>150</th>\n",
       "      <td>14.0</td>\n",
       "      <td>191.0</td>\n",
       "      <td>14.3</td>\n",
       "      <td>75</td>\n",
       "    </tr>\n",
       "    <tr>\n",
       "      <th>151</th>\n",
       "      <td>18.0</td>\n",
       "      <td>131.0</td>\n",
       "      <td>8.0</td>\n",
       "      <td>76</td>\n",
       "    </tr>\n",
       "    <tr>\n",
       "      <th>152</th>\n",
       "      <td>20.0</td>\n",
       "      <td>223.0</td>\n",
       "      <td>11.5</td>\n",
       "      <td>68</td>\n",
       "    </tr>\n",
       "  </tbody>\n",
       "</table>\n",
       "<p>106 rows × 4 columns</p>\n",
       "</div>"
      ],
      "text/plain": [
       "     Ozone  Solar.R  Wind  Temp\n",
       "0     41.0    190.0   7.4    67\n",
       "1     36.0    118.0   8.0    72\n",
       "2     12.0    149.0  12.6    74\n",
       "3     18.0    313.0  11.5    62\n",
       "6     23.0    299.0   8.6    65\n",
       "..     ...      ...   ...   ...\n",
       "147   14.0     20.0  16.6    63\n",
       "148   30.0    193.0   6.9    70\n",
       "150   14.0    191.0  14.3    75\n",
       "151   18.0    131.0   8.0    76\n",
       "152   20.0    223.0  11.5    68\n",
       "\n",
       "[106 rows x 4 columns]"
      ]
     },
     "metadata": {},
     "output_type": "display_data"
    }
   ],
   "source": [
    "# 2. 전처리\n",
    "\n",
    "# 2-1. 필요한 column 추출\n",
    "df = df[[\"Ozone\", \"Solar.R\", \"Wind\", \"Temp\"]]\n",
    "\n",
    "# 2-2. 결측치 처리\n",
    "df = df.dropna(how = \"any\", inplace = False)\n",
    "display(df)\n",
    "df.isnull().sum()\n",
    "\n",
    "# 2-3. 이상치 확인\n",
    "# plt.boxplot(df[\"Temp\"])         # Temp: 없음.\n",
    "# plt.boxplot(df[\"Wind\"])         # 상위 이상치 3개\n",
    "# plt.boxplot(df[\"Solar.R\"])      # Solar.R : 없음.\n",
    "# plt.boxplot(df[\"Ozone\"])        # 상위 이상치 2개\n",
    "\n",
    "# 2-4. 이상치 제거\n",
    "# 1) Wind 에 대해 이상치 제거\n",
    "wind1, wind3 = np.percentile(df[\"Wind\"], [25, 75])\n",
    "print(wind1, wind3)\n",
    "iqrWind = wind3 - wind1\n",
    "print(iqrWind)\n",
    "upperWind = wind3 + iqrWind * 1.5\n",
    "print(upperWind) # 17.65\n",
    "\n",
    "# 2) Ozone 에 대해 이상치 제거\n",
    "ozone1, ozone3 = np.percentile(df[\"Ozone\"], [25, 75])\n",
    "print(ozone1, ozone3)\n",
    "iqrOzone = ozone3 - ozone1\n",
    "print(iqrOzone)\n",
    "upperOzone = ozone3 + iqrOzone * 1.5\n",
    "print(upperOzone) # 128.0\n",
    "\n",
    "# 3) mask, boolean indexing\n",
    "# mask에 조건 2개 넣을 때\n",
    "# 참고사이트 : https://stackoverflow.com/questions/42380385/multiple-criteria-for-boolean-indexing\n",
    "\n",
    "mask = (df[\"Ozone\"] > upperOzone) | (df[\"Wind\"] > upperWind)\n",
    "df = df.loc[~mask]\n",
    "display(df)\n",
    "\n",
    "# plt.boxplot(df[\"Ozone\"]) # 없음.\n",
    "# plt.boxplot(df[\"Solar.R\"]) # 없음.\n",
    "# plt.boxplot(df[\"Wind\"]) # 없음.\n",
    "# plt.boxplot(df[\"Temp\"]) # 없음."
   ]
  },
  {
   "cell_type": "code",
   "execution_count": 58,
   "metadata": {},
   "outputs": [
    {
     "data": {
      "text/plain": [
       "<matplotlib.collections.PathCollection at 0x1c50d4e2b00>"
      ]
     },
     "execution_count": 58,
     "metadata": {},
     "output_type": "execute_result"
    },
    {
     "data": {
      "image/png": "[encoded data removed]",
      "text/plain": [
       "<Figure size 432x288 with 1 Axes>"
      ]
     },
     "metadata": {
      "needs_background": "light"
     },
     "output_type": "display_data"
    }
   ],
   "source": [
    "plt.scatter(df[\"Temp\"], df[\"Ozone\"])"
   ]
  },
  {
   "cell_type": "code",
   "execution_count": 59,
   "metadata": {
    "scrolled": false
   },
   "outputs": [
    {
     "data": {
      "text/plain": [
       "<matplotlib.collections.PathCollection at 0x1c50d51bd30>"
      ]
     },
     "execution_count": 59,
     "metadata": {},
     "output_type": "execute_result"
    },
    {
     "data": {
      "image/png": "[encoded data removed]",
      "text/plain": [
       "<Figure size 432x288 with 1 Axes>"
      ]
     },
     "metadata": {
      "needs_background": "light"
     },
     "output_type": "display_data"
    }
   ],
   "source": [
    "plt.scatter(df[\"Wind\"], df[\"Ozone\"])"
   ]
  },
  {
   "cell_type": "code",
   "execution_count": 60,
   "metadata": {},
   "outputs": [
    {
     "data": {
      "text/plain": [
       "<matplotlib.collections.PathCollection at 0x1c50d57be10>"
      ]
     },
     "execution_count": 60,
     "metadata": {},
     "output_type": "execute_result"
    },
    {
     "data": {
      "image/png": "[encoded data removed]",
      "text/plain": [
       "<Figure size 432x288 with 1 Axes>"
      ]
     },
     "metadata": {
      "needs_background": "light"
     },
     "output_type": "display_data"
    }
   ],
   "source": [
    "plt.scatter(df[\"Solar.R\"], df[\"Ozone\"])"
   ]
  },
  {
   "cell_type": "code",
   "execution_count": 67,
   "metadata": {
    "scrolled": false
   },
   "outputs": [
    {
     "data": {
      "text/html": [
       "<div>\n",
       "<style scoped>\n",
       "    .dataframe tbody tr th:only-of-type {\n",
       "        vertical-align: middle;\n",
       "    }\n",
       "\n",
       "    .dataframe tbody tr th {\n",
       "        vertical-align: top;\n",
       "    }\n",
       "\n",
       "    .dataframe thead th {\n",
       "        text-align: right;\n",
       "    }\n",
       "</style>\n",
       "<table border=\"1\" class=\"dataframe\">\n",
       "  <thead>\n",
       "    <tr style=\"text-align: right;\">\n",
       "      <th></th>\n",
       "      <th>Ozone</th>\n",
       "      <th>Solar.R</th>\n",
       "      <th>Wind</th>\n",
       "      <th>Temp</th>\n",
       "      <th>Temp_Norm</th>\n",
       "      <th>Wind_Norm</th>\n",
       "      <th>Solar.R_Norm</th>\n",
       "      <th>Ozone_Norm</th>\n",
       "    </tr>\n",
       "  </thead>\n",
       "  <tbody>\n",
       "    <tr>\n",
       "      <th>0</th>\n",
       "      <td>41.0</td>\n",
       "      <td>190.0</td>\n",
       "      <td>7.4</td>\n",
       "      <td>67</td>\n",
       "      <td>0.230769</td>\n",
       "      <td>0.356643</td>\n",
       "      <td>0.559633</td>\n",
       "      <td>0.330579</td>\n",
       "    </tr>\n",
       "    <tr>\n",
       "      <th>1</th>\n",
       "      <td>36.0</td>\n",
       "      <td>118.0</td>\n",
       "      <td>8.0</td>\n",
       "      <td>72</td>\n",
       "      <td>0.358974</td>\n",
       "      <td>0.398601</td>\n",
       "      <td>0.339450</td>\n",
       "      <td>0.289256</td>\n",
       "    </tr>\n",
       "    <tr>\n",
       "      <th>2</th>\n",
       "      <td>12.0</td>\n",
       "      <td>149.0</td>\n",
       "      <td>12.6</td>\n",
       "      <td>74</td>\n",
       "      <td>0.410256</td>\n",
       "      <td>0.720280</td>\n",
       "      <td>0.434251</td>\n",
       "      <td>0.090909</td>\n",
       "    </tr>\n",
       "    <tr>\n",
       "      <th>3</th>\n",
       "      <td>18.0</td>\n",
       "      <td>313.0</td>\n",
       "      <td>11.5</td>\n",
       "      <td>62</td>\n",
       "      <td>0.102564</td>\n",
       "      <td>0.643357</td>\n",
       "      <td>0.935780</td>\n",
       "      <td>0.140496</td>\n",
       "    </tr>\n",
       "    <tr>\n",
       "      <th>6</th>\n",
       "      <td>23.0</td>\n",
       "      <td>299.0</td>\n",
       "      <td>8.6</td>\n",
       "      <td>65</td>\n",
       "      <td>0.179487</td>\n",
       "      <td>0.440559</td>\n",
       "      <td>0.892966</td>\n",
       "      <td>0.181818</td>\n",
       "    </tr>\n",
       "    <tr>\n",
       "      <th>...</th>\n",
       "      <td>...</td>\n",
       "      <td>...</td>\n",
       "      <td>...</td>\n",
       "      <td>...</td>\n",
       "      <td>...</td>\n",
       "      <td>...</td>\n",
       "      <td>...</td>\n",
       "      <td>...</td>\n",
       "    </tr>\n",
       "    <tr>\n",
       "      <th>147</th>\n",
       "      <td>14.0</td>\n",
       "      <td>20.0</td>\n",
       "      <td>16.6</td>\n",
       "      <td>63</td>\n",
       "      <td>0.128205</td>\n",
       "      <td>1.000000</td>\n",
       "      <td>0.039755</td>\n",
       "      <td>0.107438</td>\n",
       "    </tr>\n",
       "    <tr>\n",
       "      <th>148</th>\n",
       "      <td>30.0</td>\n",
       "      <td>193.0</td>\n",
       "      <td>6.9</td>\n",
       "      <td>70</td>\n",
       "      <td>0.307692</td>\n",
       "      <td>0.321678</td>\n",
       "      <td>0.568807</td>\n",
       "      <td>0.239669</td>\n",
       "    </tr>\n",
       "    <tr>\n",
       "      <th>150</th>\n",
       "      <td>14.0</td>\n",
       "      <td>191.0</td>\n",
       "      <td>14.3</td>\n",
       "      <td>75</td>\n",
       "      <td>0.435897</td>\n",
       "      <td>0.839161</td>\n",
       "      <td>0.562691</td>\n",
       "      <td>0.107438</td>\n",
       "    </tr>\n",
       "    <tr>\n",
       "      <th>151</th>\n",
       "      <td>18.0</td>\n",
       "      <td>131.0</td>\n",
       "      <td>8.0</td>\n",
       "      <td>76</td>\n",
       "      <td>0.461538</td>\n",
       "      <td>0.398601</td>\n",
       "      <td>0.379205</td>\n",
       "      <td>0.140496</td>\n",
       "    </tr>\n",
       "    <tr>\n",
       "      <th>152</th>\n",
       "      <td>20.0</td>\n",
       "      <td>223.0</td>\n",
       "      <td>11.5</td>\n",
       "      <td>68</td>\n",
       "      <td>0.256410</td>\n",
       "      <td>0.643357</td>\n",
       "      <td>0.660550</td>\n",
       "      <td>0.157025</td>\n",
       "    </tr>\n",
       "  </tbody>\n",
       "</table>\n",
       "<p>106 rows × 8 columns</p>\n",
       "</div>"
      ],
      "text/plain": [
       "     Ozone  Solar.R  Wind  Temp  Temp_Norm  Wind_Norm  Solar.R_Norm  \\\n",
       "0     41.0    190.0   7.4    67   0.230769   0.356643      0.559633   \n",
       "1     36.0    118.0   8.0    72   0.358974   0.398601      0.339450   \n",
       "2     12.0    149.0  12.6    74   0.410256   0.720280      0.434251   \n",
       "3     18.0    313.0  11.5    62   0.102564   0.643357      0.935780   \n",
       "6     23.0    299.0   8.6    65   0.179487   0.440559      0.892966   \n",
       "..     ...      ...   ...   ...        ...        ...           ...   \n",
       "147   14.0     20.0  16.6    63   0.128205   1.000000      0.039755   \n",
       "148   30.0    193.0   6.9    70   0.307692   0.321678      0.568807   \n",
       "150   14.0    191.0  14.3    75   0.435897   0.839161      0.562691   \n",
       "151   18.0    131.0   8.0    76   0.461538   0.398601      0.379205   \n",
       "152   20.0    223.0  11.5    68   0.256410   0.643357      0.660550   \n",
       "\n",
       "     Ozone_Norm  \n",
       "0      0.330579  \n",
       "1      0.289256  \n",
       "2      0.090909  \n",
       "3      0.140496  \n",
       "6      0.181818  \n",
       "..          ...  \n",
       "147    0.107438  \n",
       "148    0.239669  \n",
       "150    0.107438  \n",
       "151    0.140496  \n",
       "152    0.157025  \n",
       "\n",
       "[106 rows x 8 columns]"
      ]
     },
     "metadata": {},
     "output_type": "display_data"
    }
   ],
   "source": [
    "# 정규화: 데이터 scale 변환\n",
    "\n",
    "df[\"Temp_Norm\"] = (df[\"Temp\"]-df[\"Temp\"].min())/(df[\"Temp\"].max()-df[\"Temp\"].min())\n",
    "df[\"Wind_Norm\"] = (df[\"Wind\"]-df[\"Wind\"].min())/(df[\"Wind\"].max()-df[\"Wind\"].min())\n",
    "df[\"Solar.R_Norm\"] = (df[\"Solar.R\"]-df[\"Solar.R\"].min())/(df[\"Solar.R\"].max()-df[\"Solar.R\"].min())\n",
    "df[\"Ozone_Norm\"] = (df[\"Ozone\"]-df[\"Ozone\"].min())/(df[\"Ozone\"].max()-df[\"Ozone\"].min())\n",
    "display(df)"
   ]
  },
  {
   "cell_type": "code",
   "execution_count": 116,
   "metadata": {},
   "outputs": [
    {
     "data": {
      "text/plain": [
       "<matplotlib.collections.PathCollection at 0x1c50fdd5a20>"
      ]
     },
     "execution_count": 116,
     "metadata": {},
     "output_type": "execute_result"
    },
    {
     "data": {
      "image/png": "[encoded data removed]",
      "text/plain": [
       "<Figure size 432x288 with 1 Axes>"
      ]
     },
     "metadata": {
      "needs_background": "light"
     },
     "output_type": "display_data"
    }
   ],
   "source": [
    "plt.scatter(df[\"Temp_Norm\"], df[\"Ozone_Norm\"])"
   ]
  },
  {
   "cell_type": "code",
   "execution_count": 117,
   "metadata": {},
   "outputs": [
    {
     "data": {
      "text/plain": [
       "<matplotlib.collections.PathCollection at 0x1c510e02ba8>"
      ]
     },
     "execution_count": 117,
     "metadata": {},
     "output_type": "execute_result"
    },
    {
     "data": {
      "image/png": "[encoded data removed]",
      "text/plain": [
       "<Figure size 432x288 with 1 Axes>"
      ]
     },
     "metadata": {
      "needs_background": "light"
     },
     "output_type": "display_data"
    }
   ],
   "source": [
    "plt.scatter(df[\"Wind_Norm\"], df[\"Ozone_Norm\"])"
   ]
  },
  {
   "cell_type": "code",
   "execution_count": 118,
   "metadata": {},
   "outputs": [
    {
     "data": {
      "text/plain": [
       "<matplotlib.collections.PathCollection at 0x1c510e45da0>"
      ]
     },
     "execution_count": 118,
     "metadata": {},
     "output_type": "execute_result"
    },
    {
     "data": {
      "image/png": "[encoded data removed]",
      "text/plain": [
       "<Figure size 432x288 with 1 Axes>"
      ]
     },
     "metadata": {
      "needs_background": "light"
     },
     "output_type": "display_data"
    }
   ],
   "source": [
    "plt.scatter(df[\"Solar.R_Norm\"], df[\"Ozone_Norm\"])"
   ]
  },
  {
   "cell_type": "code",
   "execution_count": 124,
   "metadata": {},
   "outputs": [
    {
     "name": "stdout",
     "output_type": "stream",
     "text": [
      "cost값 : 2.922238826751709\n",
      "cost값 : 0.02000429853796959\n",
      "cost값 : 0.02000429853796959\n",
      "cost값 : 0.02000429853796959\n",
      "cost값 : 0.02000429853796959\n",
      "cost값 : 0.02000429853796959\n",
      "cost값 : 0.02000429853796959\n",
      "cost값 : 0.02000429853796959\n",
      "cost값 : 0.02000429853796959\n",
      "cost값 : 0.02000429853796959\n",
      "[[0.23076923076923078, 0.35664335664335667, 0.4984709480122324]]\n",
      "[[0.22294375]]\n",
      "[[27.976194]]\n"
     ]
    }
   ],
   "source": [
    "# 머신러닝\n",
    "# 3-1. Training data set\n",
    "# values로 땡겨 오면 array로 형성된다.\n",
    "# 구글링 참고 : https://stackoverflow.com/questions/13187778/convert-pandas-dataframe-to-numpy-array\n",
    "\n",
    "x_data = df[[\"Temp_Norm\", \"Wind_Norm\", \"Solar.R_Norm\"]].values   # numpy.ndarray -> shape :106, 3\n",
    "y_data = df[[\"Ozone_Norm\"]].values # numpy.ndarray -> shape : 106, 1\n",
    "# y_data = df[\"Ozone\"].values.reshape(-1,1) -> 이렇게 해줘도 됨. : 행의 개수 정하지 않음.\n",
    "# 참고페이지: https://stackoverflow.com/questions/18691084/what-does-1-mean-in-numpy-reshape\n",
    "\n",
    "\n",
    "# 3-2. placeholder\n",
    "X = tf.placeholder(shape=[None, 3], dtype=tf.float32)\n",
    "Y = tf.placeholder(shape=[None, 1], dtype=tf.float32)\n",
    "\n",
    "# 3-3. weight, bias 지정\n",
    "W = tf.Variable(tf.random_normal([3,1]), name = \"weight\")\n",
    "b = tf.Variable(tf.random_normal([1]), name = \"bias\")\n",
    "\n",
    "# 3-4. hypothesis\n",
    "H = tf.matmul(X, W) + b\n",
    "\n",
    "# 3-5. cost\n",
    "cost = tf.reduce_mean(tf.square(H-Y))\n",
    "\n",
    "# 3-6. train\n",
    "optimizer = tf.train.GradientDescentOptimizer(learning_rate = 0.1)\n",
    "train = optimizer.minimize(cost)\n",
    "\n",
    "# 3-7. session, 초기화\n",
    "sess = tf.Session()\n",
    "sess.run(tf.global_variables_initializer())\n",
    "\n",
    "# 3-8. 학습\n",
    "for step in range(30000):\n",
    "    _, cost_val = sess.run([train, cost],\n",
    "                          feed_dict = {X : x_data,\n",
    "                                      Y : y_data})\n",
    "    if step % 3000 == 0:\n",
    "        print(\"cost값 : {}\".format(cost_val))\n",
    "        \n",
    "# 3-9. 예측\n",
    "normTmp = (67.0 - df[\"Temp\"].min())/(df[\"Temp\"].max()-df[\"Temp\"].min())\n",
    "normWind = (7.4 - df[\"Wind\"].min())/(df[\"Wind\"].max()-df[\"Wind\"].min())\n",
    "normSolar = (170 - df[\"Solar.R\"].min())/(df[\"Solar.R\"].max()-df[\"Solar.R\"].min())\n",
    "\n",
    "normData = [[normTmp, normWind, normSolar]]\n",
    "print(normData)\n",
    "\n",
    "result_scale = sess.run(H, feed_dict = { X : normData})\n",
    "print(result_scale)\n",
    "\n",
    "result_ozone = result_scale * (df[\"Ozone\"].max()-df[\"Ozone\"].min()) + df[\"Ozone\"].min()\n",
    "print(result_ozone)"
   ]
  }
 ],
 "metadata": {
  "kernelspec": {
   "display_name": "[CPU_ENV]",
   "language": "python",
   "name": "cpu_env"
  },
  "language_info": {
   "codemirror_mode": {
    "name": "ipython",
    "version": 3
   },
   "file_extension": ".py",
   "mimetype": "text/x-python",
   "name": "python",
   "nbconvert_exporter": "python",
   "pygments_lexer": "ipython3",
   "version": "3.6.9"
  }
 },
 "nbformat": 4,
 "nbformat_minor": 2
}
