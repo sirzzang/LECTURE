{
  "nbformat": 4,
  "nbformat_minor": 0,
  "metadata": {
    "colab": {
      "name": "[20200116] tensorflow_CNN_ensemble.ipynb",
      "provenance": [],
      "collapsed_sections": [],
      "authorship_tag": "ABX9TyNioPR4DhgAA8khnLkm+Fiz",
      "include_colab_link": true
    },
    "kernelspec": {
      "name": "python3",
      "display_name": "Python 3"
    },
    "accelerator": "GPU"
  },
  "cells": [
    {
      "cell_type": "markdown",
      "metadata": {
        "id": "view-in-github",
        "colab_type": "text"
      },
      "source": [
        "<a href=\"https://colab.research.google.com/github/sirzzang/TIL_multicampus_lecturefile/blob/master/machine%20learning%20%EA%B0%95%EC%9D%98%ED%8C%8C%EC%9D%BC/%5B20200116%5D%20tensorflow_CNN_MNIST_ensemble.ipynb\" target=\"_parent\"><img src=\"https://colab.research.google.com/assets/colab-badge.svg\" alt=\"Open In Colab\"/></a>"
      ]
    },
    {
      "cell_type": "markdown",
      "metadata": {
        "id": "EUCsu3g6SUv1",
        "colab_type": "text"
      },
      "source": [
        "### **궁금했던 내용**\n",
        "\n",
        "\n",
        "1. 모델 만드는 node는 `loop`안에 돌리지 말고, tensor로 설정해 둔다.\n",
        "    ```python\n",
        "    tf.reset_default_graph()\n",
        "\n",
        "    X = tf.placeholder(shape=[None,784], dtype=tf.float32)\n",
        "    Y = tf.placeholder(shape=[None,10], dtype=tf.float32)\n",
        "    drop_rate = tf.placeholder(dtype=tf.float32)\n",
        "\n",
        "    x_img = tf.reshape(X, [-1,28,28,1])\n",
        "\n",
        "    L1 = tf.layers.conv2d(inputs=x_img, filters=32, kernel_size=[3,3], padding=\"SAME\", strides=1, activation=tf.nn.relu)\n",
        "    L1 = tf.layers.max_pooling2d(inputs=L1, pool_size=[2,2], padding=\"SAME\", strides=2)\n",
        "    L1 = tf.layers.dropout(inputs=L1, rate=drop_rate)\n",
        "\n",
        "    L2 = tf.layers.conv2d(inputs=L1, filters=64, kernel_size=[3,3], padding=\"SAME\", strides=1, activation=tf.nn.relu)\n",
        "    L2 = tf.layers.max_pooling2d(inputs=L2, pool_size=[2,2], padding=\"SAME\", strides=2)\n",
        "    L2 = tf.layers.dropout(inputs=L2, rate=drop_rate)\n",
        "\n",
        "    L2 = tf.reshape(L2, [-1, 7*7*64])\n",
        "\n",
        "    dense1 = tf.layers.dense(inputs=L2, units=256, activation=tf.nn.relu)\n",
        "    dense1 = tf.layers.dropout(inputs=dense1, rate=drop_rate)\n",
        "\n",
        "    dense2 = tf.layers.dense(inputs=dense1, units=128, activation=tf.nn.relu)\n",
        "    dense2 = tf.layers.dropout(inputs=dense2, rate=drop_rate)\n",
        "\n",
        "    dense3 = tf.layers.dense(inputs=dense2, units=512, activation=tf.nn.relu)\n",
        "    dense3 = tf.layers.dropout(inputs=dense3, rate=drop_rate)\n",
        "\n",
        "    H = tf.layers.dense(inputs=dense3, units=10)\n",
        "\n",
        "    cost = tf.losses.softmax_cross_entropy(Y, H)\n",
        "\n",
        "    train = tf.train.AdamOptimizer(learning_rate=0.001).minimize(cost)\n",
        "\n",
        "    sess = tf.Session()\n",
        "    sess.run(tf.global_variables_initializer())\n",
        "    ```\n",
        "2. 학습을 for loop 안에 넣어서 돌린다.\n",
        "* np.zeros() : 인자로 차원, shape만 주면 된다. reshape 사용해서 어렵게 할 필요 없다.\n",
        "\n",
        "    ```python\n",
        "    # 학습\n",
        "\n",
        "    initial_predict = np.zeros([mnist.test.num_examples,10])  \n",
        "        # 차원만 주면 된다 안에! \n",
        "\n",
        "    for i in range(num_of_models):\n",
        "\n",
        "        print((i+1),\"번째 가설\")  \n",
        "\n",
        "        print(\"시간이 오래 걸립니다. 마음의 준비를 하세요.\")\n",
        "        num_of_epoch = 30\n",
        "        batch_size = 100\n",
        "\n",
        "        for step in range(num_of_epoch):\n",
        "            num_of_iter = int(mnist.train.num_examples / batch_size)\n",
        "            cost_val = 0\n",
        "            for j in range(num_of_iter):\n",
        "                batch_x, batch_y = mnist.train.next_batch(batch_size)\n",
        "                _, cost_val = sess.run([train, cost], feed_dict = { X : batch_x,\n",
        "                                                                    Y : batch_y,\n",
        "                                                                    drop_rate : 0.3})        \n",
        "\n",
        "        print((i+1),\"번째 가설 학습이 완료되었습니다.\")    \n",
        "\n",
        "        result = np.array(sess.run(H, feed_dict = { X : mnist.test.images }))     \n",
        "        \n",
        "        initial_predict += result\n",
        "\n",
        "    print(initial_predict)\n",
        "    \n",
        "    ```\n",
        "\n",
        "3. `enumerate` 사용하려면, class, OOP 사용해야 한다.\n",
        "    * 어제 안 됐던 부분 : tensor로서 가설 사용하려면 그래프 초기화하면 안 된다.\n",
        "\n",
        "4. `tf.layers.dense` 함수에서는 softmax 사용하지 않았기 때문에 예측값이 0과 1 사이의 수로 도출되지 않는다."
      ]
    },
    {
      "cell_type": "code",
      "metadata": {
        "id": "N7yxxJ1AeSNG",
        "colab_type": "code",
        "outputId": "cf8e1f4a-a7a7-412b-8a35-fce78a6f3aa0",
        "colab": {
          "base_uri": "https://localhost:8080/",
          "height": 89
        }
      },
      "source": [
        "import tensorflow as tf\n",
        "import pandas as pd\n",
        "import numpy as np\n",
        "from tensorflow.examples.tutorials.mnist import input_data\n",
        "import matplotlib.pyplot as plt\n",
        "\n",
        "mnist = input_data.read_data_sets(\"./data/mnist\", one_hot=True)"
      ],
      "execution_count": 0,
      "outputs": [
        {
          "output_type": "stream",
          "text": [
            "Extracting ./data/mnist/train-images-idx3-ubyte.gz\n",
            "Extracting ./data/mnist/train-labels-idx1-ubyte.gz\n",
            "Extracting ./data/mnist/t10k-images-idx3-ubyte.gz\n",
            "Extracting ./data/mnist/t10k-labels-idx1-ubyte.gz\n"
          ],
          "name": "stdout"
        }
      ]
    },
    {
      "cell_type": "code",
      "metadata": {
        "id": "pfMMsOKha-Br",
        "colab_type": "code",
        "outputId": "a384e4a2-6189-4211-928c-7be51291f0e1",
        "colab": {
          "base_uri": "https://localhost:8080/",
          "height": 1000
        }
      },
      "source": [
        "# 몇 명에게 가설을 물어볼 거니?\n",
        "num_of_models = int(input())\n",
        "\n",
        "# 가설을 여러 개 만드는 연습을 해보자.\n",
        "\n",
        "tf.reset_default_graph()\n",
        "\n",
        "X = tf.placeholder(shape=[None,784], dtype=tf.float32)\n",
        "Y = tf.placeholder(shape=[None,10], dtype=tf.float32)\n",
        "drop_rate = tf.placeholder(dtype=tf.float32)\n",
        "\n",
        "x_img = tf.reshape(X, [-1,28,28,1])\n",
        "\n",
        "L1 = tf.layers.conv2d(inputs=x_img, filters=32, kernel_size=[3,3], padding=\"SAME\", strides=1, activation=tf.nn.relu)\n",
        "L1 = tf.layers.max_pooling2d(inputs=L1, pool_size=[2,2], padding=\"SAME\", strides=2)\n",
        "L1 = tf.layers.dropout(inputs=L1, rate=drop_rate)\n",
        "\n",
        "L2 = tf.layers.conv2d(inputs=L1, filters=64, kernel_size=[3,3], padding=\"SAME\", strides=1, activation=tf.nn.relu)\n",
        "L2 = tf.layers.max_pooling2d(inputs=L2, pool_size=[2,2], padding=\"SAME\", strides=2)\n",
        "L2 = tf.layers.dropout(inputs=L2, rate=drop_rate)\n",
        "\n",
        "L2 = tf.reshape(L2, [-1, 7*7*64])\n",
        "\n",
        "dense1 = tf.layers.dense(inputs=L2, units=256, activation=tf.nn.relu)\n",
        "dense1 = tf.layers.dropout(inputs=dense1, rate=drop_rate)\n",
        "\n",
        "dense2 = tf.layers.dense(inputs=dense1, units=128, activation=tf.nn.relu)\n",
        "dense2 = tf.layers.dropout(inputs=dense2, rate=drop_rate)\n",
        "\n",
        "dense3 = tf.layers.dense(inputs=dense2, units=512, activation=tf.nn.relu)\n",
        "dense3 = tf.layers.dropout(inputs=dense3, rate=drop_rate)\n",
        "\n",
        "H = tf.layers.dense(inputs=dense3, units=10)\n",
        "\n",
        "cost = tf.losses.softmax_cross_entropy(Y, H)\n",
        "\n",
        "train = tf.train.AdamOptimizer(learning_rate=0.001).minimize(cost)\n",
        "\n",
        "sess = tf.Session()\n",
        "sess.run(tf.global_variables_initializer())\n",
        "\n",
        "# 학습\n",
        "\n",
        "initial_predict = np.zeros([mnist.test.num_examples,10])  # 차원만 주면 된다 안에! \n",
        "\n",
        "for i in range(num_of_models):\n",
        "\n",
        "    print((i+1),\"번째 가설\")  \n",
        "\n",
        "    print(\"시간이 오래 걸립니다. 마음의 준비를 하세요.\")\n",
        "    num_of_epoch = 30\n",
        "    batch_size = 100\n",
        "\n",
        "    for step in range(num_of_epoch):\n",
        "        num_of_iter = int(mnist.train.num_examples / batch_size)\n",
        "        cost_val = 0\n",
        "        for j in range(num_of_iter):\n",
        "            batch_x, batch_y = mnist.train.next_batch(batch_size)\n",
        "            _, cost_val = sess.run([train, cost], feed_dict = { X : batch_x,\n",
        "                                                                Y : batch_y,\n",
        "                                                                drop_rate : 0.3})        \n",
        "\n",
        "    print((i+1),\"번째 가설 학습이 완료되었습니다.\")    \n",
        "\n",
        "    result = np.array(sess.run(H, feed_dict = { X : mnist.test.images }))     \n",
        "    \n",
        "    initial_predict += result\n",
        "\n",
        "print(initial_predict)\n",
        "\n",
        "# 정확도 측정\n",
        "\n",
        "prediction = tf.argmax(initial_predict, 1)\n",
        "is_correct = tf.equal(prediction, tf.argmax(Y, 1))\n",
        "accuracy = tf.reduce_mean(tf.cast(is_correct, dtype = tf.float32))\n",
        "accuracy_rate = sess.run(accuracy, feed_dict = { X : mnist.test.images,\n",
        "                                                Y : mnist.test.labels,\n",
        "                                                drop_rate : 0})\n",
        "print(f\"정확도는 {accuracy_rate * 100}% 입니다.\")"
      ],
      "execution_count": 0,
      "outputs": [
        {
          "output_type": "stream",
          "text": [
            "25\n",
            "1 번째 가설\n",
            "시간이 오래 걸립니다. 마음의 준비를 하세요.\n",
            "1 번째 가설 학습이 완료되었습니다.\n",
            "2 번째 가설\n",
            "시간이 오래 걸립니다. 마음의 준비를 하세요.\n",
            "2 번째 가설 학습이 완료되었습니다.\n",
            "3 번째 가설\n",
            "시간이 오래 걸립니다. 마음의 준비를 하세요.\n",
            "3 번째 가설 학습이 완료되었습니다.\n",
            "4 번째 가설\n",
            "시간이 오래 걸립니다. 마음의 준비를 하세요.\n",
            "4 번째 가설 학습이 완료되었습니다.\n",
            "5 번째 가설\n",
            "시간이 오래 걸립니다. 마음의 준비를 하세요.\n",
            "5 번째 가설 학습이 완료되었습니다.\n",
            "6 번째 가설\n",
            "시간이 오래 걸립니다. 마음의 준비를 하세요.\n",
            "6 번째 가설 학습이 완료되었습니다.\n",
            "7 번째 가설\n",
            "시간이 오래 걸립니다. 마음의 준비를 하세요.\n",
            "7 번째 가설 학습이 완료되었습니다.\n",
            "8 번째 가설\n",
            "시간이 오래 걸립니다. 마음의 준비를 하세요.\n",
            "8 번째 가설 학습이 완료되었습니다.\n",
            "9 번째 가설\n",
            "시간이 오래 걸립니다. 마음의 준비를 하세요.\n",
            "9 번째 가설 학습이 완료되었습니다.\n",
            "10 번째 가설\n",
            "시간이 오래 걸립니다. 마음의 준비를 하세요.\n",
            "10 번째 가설 학습이 완료되었습니다.\n",
            "11 번째 가설\n",
            "시간이 오래 걸립니다. 마음의 준비를 하세요.\n",
            "11 번째 가설 학습이 완료되었습니다.\n",
            "12 번째 가설\n",
            "시간이 오래 걸립니다. 마음의 준비를 하세요.\n",
            "12 번째 가설 학습이 완료되었습니다.\n",
            "13 번째 가설\n",
            "시간이 오래 걸립니다. 마음의 준비를 하세요.\n",
            "13 번째 가설 학습이 완료되었습니다.\n",
            "14 번째 가설\n",
            "시간이 오래 걸립니다. 마음의 준비를 하세요.\n",
            "14 번째 가설 학습이 완료되었습니다.\n",
            "15 번째 가설\n",
            "시간이 오래 걸립니다. 마음의 준비를 하세요.\n",
            "15 번째 가설 학습이 완료되었습니다.\n",
            "16 번째 가설\n",
            "시간이 오래 걸립니다. 마음의 준비를 하세요.\n",
            "16 번째 가설 학습이 완료되었습니다.\n",
            "17 번째 가설\n",
            "시간이 오래 걸립니다. 마음의 준비를 하세요.\n",
            "17 번째 가설 학습이 완료되었습니다.\n",
            "18 번째 가설\n",
            "시간이 오래 걸립니다. 마음의 준비를 하세요.\n",
            "18 번째 가설 학습이 완료되었습니다.\n",
            "19 번째 가설\n",
            "시간이 오래 걸립니다. 마음의 준비를 하세요.\n",
            "19 번째 가설 학습이 완료되었습니다.\n",
            "20 번째 가설\n",
            "시간이 오래 걸립니다. 마음의 준비를 하세요.\n",
            "20 번째 가설 학습이 완료되었습니다.\n",
            "21 번째 가설\n",
            "시간이 오래 걸립니다. 마음의 준비를 하세요.\n",
            "21 번째 가설 학습이 완료되었습니다.\n",
            "22 번째 가설\n",
            "시간이 오래 걸립니다. 마음의 준비를 하세요.\n",
            "22 번째 가설 학습이 완료되었습니다.\n",
            "23 번째 가설\n",
            "시간이 오래 걸립니다. 마음의 준비를 하세요.\n",
            "23 번째 가설 학습이 완료되었습니다.\n",
            "24 번째 가설\n",
            "시간이 오래 걸립니다. 마음의 준비를 하세요.\n",
            "24 번째 가설 학습이 완료되었습니다.\n",
            "25 번째 가설\n",
            "시간이 오래 걸립니다. 마음의 준비를 하세요.\n",
            "25 번째 가설 학습이 완료되었습니다.\n",
            "[[-4687.28277206 -2773.54403019 -3135.08037806 ...   461.82504082\n",
            "  -3635.76250458 -2876.44646454]\n",
            " [-3064.4747963  -3136.57480812   559.18213081 ... -2139.38010025\n",
            "  -2939.58929825 -3291.35899353]\n",
            " [-1837.63289261   535.95387268 -1271.67940331 ... -1310.62822533\n",
            "  -1471.20205402 -1515.37879562]\n",
            " ...\n",
            " [-3922.72684097 -4249.00827026 -3603.19491386 ... -3351.75465584\n",
            "  -2846.63739395 -2211.07951546]\n",
            " [-2044.20656776 -1989.31406784 -2715.41027069 ... -1875.8542366\n",
            "  -1437.93685722 -1262.5892849 ]\n",
            " [-1926.148633   -2506.64439869 -2218.1466732  ... -3583.95843124\n",
            "  -1665.76169205 -2345.74920845]]\n",
            "정확도는 99.36000108718872% 입니다.\n"
          ],
          "name": "stdout"
        }
      ]
    },
    {
      "cell_type": "markdown",
      "metadata": {
        "id": "UZ8REUJmSddJ",
        "colab_type": "text"
      },
      "source": [
        "--------------------------------------------\n",
        "*밑에는 짜면서 연습했던 내용*"
      ]
    },
    {
      "cell_type": "code",
      "metadata": {
        "id": "YQ6yt1k4h7pE",
        "colab_type": "code",
        "colab": {}
      },
      "source": [
        "from google.colab import drive\n",
        "drive.mount('/content/drive')"
      ],
      "execution_count": 0,
      "outputs": []
    },
    {
      "cell_type": "code",
      "metadata": {
        "id": "NB-Uds37LTaa",
        "colab_type": "code",
        "outputId": "345af3b8-d502-4ba2-c755-f0c8882d0877",
        "colab": {
          "base_uri": "https://localhost:8080/",
          "height": 125
        }
      },
      "source": [
        "prediction = sess.run(tf.argmax(initial_predict, 1))\n",
        "print(prediction)\n",
        "print(len(prediction))\n",
        "\n",
        "actual = sess.run(tf.argmax(Y, 1), feed_dict = { Y : mnist.test.labels})\n",
        "print(actual)\n",
        "print(len(actual))\n",
        "\n",
        "is_correct = sess.run(tf.equal(prediction, actual))\n",
        "print(is_correct)\n",
        "\n",
        "accuracy = sess.run(tf.reduce_mean(tf.cast(is_correct, dtype = tf.float32)))\n",
        "print(accuracy)"
      ],
      "execution_count": 0,
      "outputs": [
        {
          "output_type": "stream",
          "text": [
            "[7 2 1 ... 4 5 6]\n",
            "10000\n",
            "[7 2 1 ... 4 5 6]\n",
            "10000\n",
            "[ True  True  True ...  True  True  True]\n",
            "0.9926\n"
          ],
          "name": "stdout"
        }
      ]
    },
    {
      "cell_type": "markdown",
      "metadata": {
        "id": "itglen95KCHi",
        "colab_type": "text"
      },
      "source": [
        ""
      ]
    },
    {
      "cell_type": "code",
      "metadata": {
        "id": "5-n7_kaEc4ET",
        "colab_type": "code",
        "outputId": "e8f0ccde-4d08-4c66-819d-68814f71f5d2",
        "colab": {
          "base_uri": "https://localhost:8080/",
          "height": 517
        }
      },
      "source": [
        "# 일단 저 위에가 i번째 가설이 맞다고 본다면\n",
        "# 예측값 뽑아내는 연습을 일단 해보자.\n",
        "# 이 셀에서 하는 건 각 가설에 대한 예측값은 아닐 것이다.\n",
        "# 위에서 두 번 돌렸으니까 두 번째 가설에 대한 예측값일 것.\n",
        "# 그럼에도 불구하고, 일단 예측값을 nd.array로 받아서 원소끼리 받는 연습을 해보기 위해서 뽑아지나 보는 것.\n",
        "\n",
        "# Q) 왜 -261, -195 이렇게 나올까..? 더해서 1인 확률이 나와야 하는 게 아닌가..?\n",
        "\n",
        "# print(mnist.test.images[0]) # scale되어 있음.\n",
        "\n",
        "tmp_result = sess.run(H, feed_dict = { X : mnist.test.images})\n",
        "print(tmp_result)\n",
        "\n",
        "plt.imshow(mnist.test.images[0].reshape(28, 28), cmap = \"gray\")\n",
        "\n",
        "# 7번째가 가장 크긴 한데, 뭘 잘못 생각하고 있는 것인가!\n",
        "# learning_rate, epoch 달랐다."
      ],
      "execution_count": 0,
      "outputs": [
        {
          "output_type": "stream",
          "text": [
            "[[-532.18677    -93.39636   -104.97832   ...    2.1812797 -246.65646\n",
            "   -64.695366 ]\n",
            " [-193.36827    -89.21035     18.05369   ... -203.33128   -228.38773\n",
            "  -403.02585  ]\n",
            " [-121.61318    269.28503    -69.79396   ... -175.05673   -139.18822\n",
            "  -273.3978   ]\n",
            " ...\n",
            " [-324.24985    -95.750305  -127.89657   ...  -80.402565   -81.77541\n",
            "   -58.5296   ]\n",
            " [-163.28249    -39.68734   -179.16678   ... -105.0597      -1.3729067\n",
            "   -23.47257  ]\n",
            " [-207.51788   -229.77101   -309.5963    ... -546.51355   -130.74165\n",
            "  -404.08075  ]]\n"
          ],
          "name": "stdout"
        },
        {
          "output_type": "execute_result",
          "data": {
            "text/plain": [
              "<matplotlib.image.AxesImage at 0x7fcaf44202e8>"
            ]
          },
          "metadata": {
            "tags": []
          },
          "execution_count": 22
        },
        {
          "output_type": "display_data",
          "data": {
            "image/png": "[encoded data removed]",
            "text/plain": [
              "<Figure size 432x288 with 1 Axes>"
            ]
          },
          "metadata": {
            "tags": []
          }
        }
      ]
    },
    {
      "cell_type": "markdown",
      "metadata": {
        "id": "mgGgx0VBtj4V",
        "colab_type": "text"
      },
      "source": [
        "### **강사님 해설**\n",
        "#### 1. Logic 이용(OOP X)\n",
        "* Logic 짜는 방법\n",
        "\n",
        "    - 1) 모델을 10개 만들고, 각각의 모델에서 한 번씩 학습 진행. : 내가 처음에 했던 방법(비효율적).\n",
        "    - 2) 전체 그래프 node(모델 껍데기) 만들어 놓고 학습만 나중에 10번 진행.\n",
        "\n",
        "* 정확도 구하는 방법\n",
        "    - 1) 10번의 학습을 진행하고, 예측값을 구한다.\n",
        "    - 2) label 데이터와 비교한다.\n",
        "    - 3) 하나의 정확도를 도출한다.\n",
        "\n",
        "* 문제점 : **Is prediction possible?**\n",
        "    - 1) for loop을 돌면서 학습하는 과정에서 마지막 model만 남는다.\n",
        "    - 2) prediction을 진행하기 위해서는, 10개의 모델이 다 남아 있어야 한다.\n",
        "\n",
        "#### 2. OOP 이용\n",
        "* Logic을 이용해 for loop을 사용하면, 10개 모델 각각에 대해 W, b 값을 저장할 수 없다.\n",
        "* 가설 자체, W와 b를 모두 저장해야 하므로, **객체지향 방식**을 사용할 필요가 있다.\n"
      ]
    },
    {
      "cell_type": "markdown",
      "metadata": {
        "id": "FPukvatltMJz",
        "colab_type": "text"
      },
      "source": [
        "## **강사님 코드**\n",
        "\n",
        "> Kaggle data 이용\n"
      ]
    },
    {
      "cell_type": "code",
      "metadata": {
        "id": "2pjeLvPNtIQX",
        "colab_type": "code",
        "colab": {}
      },
      "source": [
        "import numpy as np\n",
        "import pandas as pd\n",
        "import tensorflow as tf\n",
        "from sklearn.preprocessing import MinMaxScaler"
      ],
      "execution_count": 0,
      "outputs": []
    },
    {
      "cell_type": "code",
      "metadata": {
        "id": "6-l3XD2ptR1z",
        "colab_type": "code",
        "colab": {}
      },
      "source": [
        "from google.colab import drive\n",
        "drive.mount('/content/drive')"
      ],
      "execution_count": 0,
      "outputs": []
    },
    {
      "cell_type": "code",
      "metadata": {
        "id": "Iz2_E9z1tTPO",
        "colab_type": "code",
        "colab": {}
      },
      "source": [
        "# data loading\n",
        "\n",
        "# mnist = pd.read_csv(\"./data/DigitRecognizer/train.csv\")\n",
        "mnist = pd.read_csv(\"/content/drive/My Drive/Colab Notebooks/data/train.csv\")\n",
        "num_of_train = int(mnist.shape[0] * 0.8)\n",
        "train_data = mnist.loc[:num_of_train, :]\n",
        "test_data = mnist.loc[num_of_train +1:, :]\n",
        "\n",
        "train_x_data = train_data.drop(\"label\", axis = 1, inplace = False).values\n",
        "train_y_data = tf.one_hot(train_data[\"label\"].values, 10)\n",
        "sess = tf.Session()\n",
        "train_y_data = sess.run(train_y_data)\n",
        "\n",
        "test_x_data = test_data.drop(\"label\", axis = 1, inplace = False).values\n",
        "test_y_data = tf.one_hot(train_data[\"label\"].values, 10)\n",
        "test_y_data = sess.run(test_y_data)\n",
        "\n",
        "# MinMaxScaling\n",
        "train_x_data = MinMaxScaler().fit_transform(train_x_data)\n",
        "test_x_data = MinMaxScaler().fit_transform(test_x_data)"
      ],
      "execution_count": 0,
      "outputs": []
    },
    {
      "cell_type": "code",
      "metadata": {
        "id": "gbPHLcSNuRgS",
        "colab_type": "code",
        "colab": {}
      },
      "source": [
        "# Model\n",
        "tf.reset_default_graph()\n",
        "\n",
        "# placeholder\n",
        "X = tf.placeholder(shape = [None, 784], dtype=tf.float32)\n",
        "Y = tf.placeholder(shape = [None, 10], dtype=tf.float32)\n",
        "dropout_rate = tf.placeholder(dtype=tf.float32)\n",
        "\n",
        "# convolution layer\n",
        "# 입력 데이터 4차원\n",
        "x_img = tf.reshape(X, [-1,28,28,1])\n",
        "L1 = tf.layers.conv2d(inputs=x_img, filters=32,\n",
        "                     kernel_size=[3,3], padding=\"SAME\",\n",
        "                     strides=1, activation=tf.nn.relu)\n",
        "L1 = tf.layers.max_pooling2d(inputs=L1, pool_size=[2,2],\n",
        "                            padding=\"SAME\",\n",
        "                            strides=2)\n",
        "L1 = tf.layers.dropout(inputs=L1, rate=dropout_rate)\n",
        "\n",
        "L2 = tf.layers.conv2d(inputs=L1, filters=64,\n",
        "                     kernel_size=[3,3], padding=\"SAME\",\n",
        "                     strides=1, activation=tf.nn.relu)\n",
        "L2 = tf.layers.max_pooling2d(inputs=L2, pool_size=[2,2],\n",
        "                            padding=\"SAME\",\n",
        "                            strides=2)\n",
        "L2 = tf.layers.dropout(inputs=L2, rate=dropout_rate)\n",
        "\n",
        "# FC Layer = dense layer\n",
        "L2 = tf.reshape(L2, [-1, 7*7*64])\n",
        "\n",
        "dense1 = tf.layers.dense(inputs=L2, units=256,\n",
        "                        activation=tf.nn.relu)\n",
        "dense1 = tf.layers.dropout(inputs=dense1, rate=dropout_rate)\n",
        "\n",
        "dense2 = tf.layers.dense(inputs=dense1, units=128,\n",
        "                        activation=tf.nn.relu)\n",
        "dense2 = tf.layers.dropout(inputs=dense2, rate=dropout_rate)\n",
        "\n",
        "dense3 = tf.layers.dense(inputs=dense2, units=512,\n",
        "                        activation=tf.nn.relu)\n",
        "dense3 = tf.layers.dropout(inputs=dense3, rate=dropout_rate)\n",
        "\n",
        "H = tf.layers.dense(inputs=dense3, units=10)\n",
        "\n",
        "# cost\n",
        "cost = tf.losses.softmax_cross_entropy(Y, H)\n",
        "\n",
        "# train\n",
        "train = tf.train.AdagradOptimizer(learning_rate=0.001).minimize(cost)\n",
        "\n",
        "# session, 초기화\n",
        "sess = tf.Session()\n",
        "sess.run(tf.global_variables_initializer())\n",
        "\n",
        "# ensemble\n",
        "num_of_models = 10\n",
        "result_model = np.zeros([test_x_data.shape[0], 10])\n",
        "\n",
        "for models in range(num_of_models):\n",
        "    # 학습\n",
        "    num_of_epoch = 30\n",
        "    batch_size = 100\n",
        "    \n",
        "    for step in range(num_of_epoch):\n",
        "        num_of_iter = int(train_x_data.shape[0] / batch_size)\n",
        "        cost_val = 0\n",
        "        idx = 0\n",
        "        for i in range(num_of_iter):\n",
        "            batch_x = train_x_data[idx:idx+batch_size, :]\n",
        "            batch_y = train_y_data[idx:idx+batch_size, :]\n",
        "            idx = idx + batch_size\n",
        "            _, cost_val = sess.run([train, cost], feed_dict = { X :batch_x,\n",
        "                                                               Y : batch_y,\n",
        "                                                              dropout_rate = 0.4})\n",
        "            \n",
        "        if step % 3 == 0:\n",
        "            print(\"cost : {}\".format{cost_val})\n",
        "            \n",
        "    tmp = sess.run(H, feed_dict = { X : test_x_data,\n",
        "                                  Y : test_y_data,\n",
        "                                  dropout_rate : 0})\n",
        "    \n",
        "    result_model = result_model + tmp\n",
        "    \n",
        "    # 정확도\n",
        "    predict = np.argmax(result_model, 1)\n",
        "    correct = np.equal(predict, np.argmax(test_y_data, 1))\n",
        "    accuracy = np.mean(correct)\n",
        "    print(\"정확도 : {}\".format(accuracy))\n",
        "    "
      ],
      "execution_count": 0,
      "outputs": []
    }
  ]
}