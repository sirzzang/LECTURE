{
 "cells": [
  {
   "cell_type": "markdown",
   "metadata": {},
   "source": [
    "# REVIEW\n",
    "#### 1. learning rate\n",
    "- 정해져 있는 값은 없음\n",
    "- 0.01을 기준으로 cost값을 보고 learning rate를 조절\n",
    "- 만약 learning rate가 크다면 overshooting현상이 발생한다. (왔다갔다 발산)\n",
    "- overshooting현상이 발생\n",
    "- 만약 learning rate가 너무 작다면\n",
    "- local minimum현상이 발생\n",
    "- cost 값을 기준으로 커스터마이징을 해야한다! \n",
    "\n",
    "\n",
    "#### 2. 입력 데이터의 preprocessing\n",
    "- feature engineering을 포함해서 각 reature의 데이터의 범주와 크기를 살펴봐야 함 \n",
    "- 정규화(Normalization) - min max scale을 이용하자\n",
    "- 표준화(standardization) - 평균과 표준편차를 이용해서 -1~1사이의 값으로 scale하는 방식 \n",
    "\n",
    "\n"
   ]
  },
  {
   "cell_type": "markdown",
   "metadata": {},
   "source": [
    "#### overfitting(과적합)\n",
    "- 모델을 만들어서 학습하는데 학습데이터에 너무 잘 들어맞는 모델이 생성되는 경우\n",
    "- 실제 데이터를 적용할 때 결과값 예측이 잘 안되는 경우를 의미\n",
    "\n",
    "#### overfitting을 피하려면 \n",
    "- 많은 training data set이 있어야 한다.\n",
    "- feature의 개수를 가능한 줄여야 한다. -> 필요 없는 컬럼, 중복되는 컬럼을 삭제\n"
   ]
  },
  {
   "cell_type": "markdown",
   "metadata": {},
   "source": [
    "#### batch\n",
    "- 학습과정에서는 일반적으로 training data set의 크기가 굉장히 크다.\n",
    "- 1 epoch을 수행하는 시간이 오래 걸린다.\n",
    "- batch 처리를 이용해서 학습을 진행 \n",
    "\n",
    "#### 정확도 측정\n",
    "- 일반적으로 raw data set을 우리가 얻게 되면 training data set과 test data set으로 분리(일반적으로 7:3, 8:2정도)\n",
    "- n fold cross validation (n은 일반적으로 10,15)\n",
    "\n"
   ]
  },
  {
   "cell_type": "markdown",
   "metadata": {},
   "source": [
    "---"
   ]
  },
  {
   "cell_type": "markdown",
   "metadata": {},
   "source": [
    "# Deep learning\n",
    "- 지금 사용하고 있는 tensorflow는 cpu버전\n",
    "- deep learning으로 가면 더 많은 수학적 연산(matrix연산)이 필요하고 GPU를 이용하면 더 빠르게 계산할 수 있음\n",
    "- 새로운 가상환경을 만들어서 tensorflow GPU버전을 이용해 보자.\n",
    "- 딥러닝 하기 전이면 cpu가 더 빠를수도 있음!\n",
    "\n",
    "### 가상환경 생성\n",
    "#### 1. 새로운 가상환경을 하나 생성해야 한다. (gpu_env)\n",
    "- conda create -n gpu_env python=3.6 openssl  \n",
    "- 아나콘다에서 gpu_env 만들거다 / 파이썬 버전은 3.6 사용해야 한다. openssl 패키지 포함해서\n",
    "\n",
    "- gpu버전 사용하려면 몇 가지 설치가 필요\n",
    "- 공용폴더에서 tensorflow-gpu 파일 3개 \n",
    "\n",
    "#### 2. 새로운 가상환경으로 전환\n",
    "- activate gpu_env\n",
    "\n",
    "#### 3. nb_conda 모듈 설치 ( New-에서 우리 가상환경에 파일 만들 수 있게 해주는 모듈 ([GPU_ENV]라고 뜨게 해주는))\n",
    "- conda install nb_conda\n",
    "- python -m ipykernel install --user --name=gpu_env--display-name=[GPU_ENV]\n",
    "\n",
    "#### 4. 최신 비디오 드라이버 설치(NVIDIA) \n",
    "- 441로 시작하는 파일 먼저 설치하기 (다 default 값으로 설치)\n",
    "\n",
    "#### 5. CUDA 설치(NVIDIA) - 10.0 버전 설치하자 \n",
    "- cuda 파일 설치하기 ( 다 default값으로)\n",
    "- 제대로 설치되었다면 C:\\Program Files\\NVIDIA GPU Computing Toolkit\\CUDA\\v10.0 안에 파일들이 존재할 것\n",
    "\n",
    "#### 6. cuDNN 압축 풀어서 덮어쓰자! \n",
    "- 압축파일 압축 풀면 안에 폴더 3개, 파일 1개 있다. \n",
    "- 폴더 3개를 복사해서 쿠다 설치한 곳(C:\\Program Files\\NVIDIA GPU Computing Toolkit\\CUDA\\v10.0)에 붙여넣기\n"
   ]
  },
  {
   "cell_type": "markdown",
   "metadata": {},
   "source": [
    "- GPU_ENV는 주피터 노트북 파일(텍스트 파일들)은 다 같음. kernel만 달라진 것\n",
    "- 맨 오른쪽 위에 있는 [GPU_ENV]가 지금 내가 있는 가상환경. \n",
    "- 만약 변경하고 싶다면 Kernel에서 change kernel해서 바꿔주자.\n",
    "\n",
    "- pandas 등의 모듈도 다시 설치해야 한다. \n",
    "\n"
   ]
  },
  {
   "cell_type": "markdown",
   "metadata": {},
   "source": [
    "#### 필요한 module 설치\n",
    "- activate gpu_env\n",
    "- pip install numpy\n",
    "- pip install pandas \n",
    "- pip install matplotlib\n",
    "- pip install sklearn\n",
    "- pip install tensorflow-gpu==1.15    \n",
    "- -> 1.15버전 깔아야 한다. tensorflow버전, cuda 버전, cuDNN버전, python버전 다 맞아야 함 \n",
    "\n",
    "\n"
   ]
  },
  {
   "cell_type": "code",
   "execution_count": null,
   "metadata": {},
   "outputs": [],
   "source": []
  },
  {
   "cell_type": "code",
   "execution_count": null,
   "metadata": {},
   "outputs": [],
   "source": []
  },
  {
   "cell_type": "code",
   "execution_count": null,
   "metadata": {},
   "outputs": [],
   "source": []
  },
  {
   "cell_type": "code",
   "execution_count": null,
   "metadata": {},
   "outputs": [],
   "source": []
  },
  {
   "cell_type": "code",
   "execution_count": null,
   "metadata": {},
   "outputs": [],
   "source": []
  },
  {
   "cell_type": "code",
   "execution_count": null,
   "metadata": {},
   "outputs": [],
   "source": []
  },
  {
   "cell_type": "code",
   "execution_count": null,
   "metadata": {},
   "outputs": [],
   "source": []
  },
  {
   "cell_type": "code",
   "execution_count": null,
   "metadata": {},
   "outputs": [],
   "source": []
  },
  {
   "cell_type": "code",
   "execution_count": null,
   "metadata": {},
   "outputs": [],
   "source": []
  }
 ],
 "metadata": {
  "kernelspec": {
   "display_name": "[GPU_ENV]",
   "language": "python",
   "name": "gpu_env"
  },
  "language_info": {
   "codemirror_mode": {
    "name": "ipython",
    "version": 3
   },
   "file_extension": ".py",
   "mimetype": "text/x-python",
   "name": "python",
   "nbconvert_exporter": "python",
   "pygments_lexer": "ipython3",
   "version": "3.6.10"
  }
 },
 "nbformat": 4,
 "nbformat_minor": 2
}
