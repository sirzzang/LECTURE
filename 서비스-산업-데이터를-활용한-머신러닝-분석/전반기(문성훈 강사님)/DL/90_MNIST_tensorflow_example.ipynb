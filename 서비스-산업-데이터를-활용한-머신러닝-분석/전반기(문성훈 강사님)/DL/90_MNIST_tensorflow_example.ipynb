{
 "cells": [
  {
   "cell_type": "markdown",
   "metadata": {},
   "source": [
    "# MNIST\n",
    "### multinomial classification부터 다른 통계적 기법을 활용하여 정확도를 올리자!\n",
    "* MNIST는 이미지를 학습하고 prediction하는 예제 28 * 28 크기의 이미지가 주어진다\n",
    "* 한 사람이 0 ~ 9 까지 쓴 숫자가 각각의 이미지에 쓰여 있고, 이러한 데이터가 5만개 이상있다.\n",
    "* 각 숫자를 분류하고 학습하여 사진을 찍었을 때 의미하는 숫자가 무엇인지 예측해보자.\n"
   ]
  },
  {
   "cell_type": "markdown",
   "metadata": {},
   "source": [
    "### 1. Tensorflow에서 제공하는 예제를 통해 먼저 공부하자(더 쉬움)"
   ]
  },
  {
   "cell_type": "markdown",
   "metadata": {},
   "source": [
    "#### 1 ) 필요한 module import"
   ]
  },
  {
   "cell_type": "code",
   "execution_count": 1,
   "metadata": {},
   "outputs": [
    {
     "name": "stderr",
     "output_type": "stream",
     "text": [
      "C:\\Users\\student\\Anaconda3\\envs\\cpu_env\\lib\\site-packages\\tensorflow\\python\\framework\\dtypes.py:493: FutureWarning: Passing (type, 1) or '1type' as a synonym of type is deprecated; in a future version of numpy, it will be understood as (type, (1,)) / '(1,)type'.\n",
      "  _np_qint8 = np.dtype([(\"qint8\", np.int8, 1)])\n",
      "C:\\Users\\student\\Anaconda3\\envs\\cpu_env\\lib\\site-packages\\tensorflow\\python\\framework\\dtypes.py:494: FutureWarning: Passing (type, 1) or '1type' as a synonym of type is deprecated; in a future version of numpy, it will be understood as (type, (1,)) / '(1,)type'.\n",
      "  _np_quint8 = np.dtype([(\"quint8\", np.uint8, 1)])\n",
      "C:\\Users\\student\\Anaconda3\\envs\\cpu_env\\lib\\site-packages\\tensorflow\\python\\framework\\dtypes.py:495: FutureWarning: Passing (type, 1) or '1type' as a synonym of type is deprecated; in a future version of numpy, it will be understood as (type, (1,)) / '(1,)type'.\n",
      "  _np_qint16 = np.dtype([(\"qint16\", np.int16, 1)])\n",
      "C:\\Users\\student\\Anaconda3\\envs\\cpu_env\\lib\\site-packages\\tensorflow\\python\\framework\\dtypes.py:496: FutureWarning: Passing (type, 1) or '1type' as a synonym of type is deprecated; in a future version of numpy, it will be understood as (type, (1,)) / '(1,)type'.\n",
      "  _np_quint16 = np.dtype([(\"quint16\", np.uint16, 1)])\n",
      "C:\\Users\\student\\Anaconda3\\envs\\cpu_env\\lib\\site-packages\\tensorflow\\python\\framework\\dtypes.py:497: FutureWarning: Passing (type, 1) or '1type' as a synonym of type is deprecated; in a future version of numpy, it will be understood as (type, (1,)) / '(1,)type'.\n",
      "  _np_qint32 = np.dtype([(\"qint32\", np.int32, 1)])\n",
      "C:\\Users\\student\\Anaconda3\\envs\\cpu_env\\lib\\site-packages\\tensorflow\\python\\framework\\dtypes.py:502: FutureWarning: Passing (type, 1) or '1type' as a synonym of type is deprecated; in a future version of numpy, it will be understood as (type, (1,)) / '(1,)type'.\n",
      "  np_resource = np.dtype([(\"resource\", np.ubyte, 1)])\n"
     ]
    },
    {
     "name": "stdout",
     "output_type": "stream",
     "text": [
      "Extracting ./DA/mnist\\train-images-idx3-ubyte.gz\n",
      "Extracting ./DA/mnist\\train-labels-idx1-ubyte.gz\n",
      "Extracting ./DA/mnist\\t10k-images-idx3-ubyte.gz\n",
      "Extracting ./DA/mnist\\t10k-labels-idx1-ubyte.gz\n"
     ]
    }
   ],
   "source": [
    "# 필요한 module import\n",
    "import tensorflow as tf\n",
    "import pandas as pd\n",
    "import numpy as np\n",
    "import matplotlib.pyplot as plt\n",
    "from tensorflow.examples.tutorials.mnist import input_data\n",
    "\n",
    "# Data Loading\n",
    "# 우선 데이터 폴더 밑에 mnist 폴더를 만들어주자 ( 압축파일 네개가 생성될 예정 )\n",
    "# 속성으로 먼저 one_hot encoding을 하면 y값이 encoding된 채로 나온다\n",
    "# tensorflow예제에서만 가능하고 kaggle에선 직접해야한다 !\n",
    "mnist = input_data.read_data_sets(\"./DA/mnist\", one_hot = True)\n"
   ]
  },
  {
   "cell_type": "markdown",
   "metadata": {},
   "source": [
    "#### 2 ) 데이터 로딩 [ 시간 오래 걸림 주의! ]"
   ]
  },
  {
   "cell_type": "code",
   "execution_count": 2,
   "metadata": {},
   "outputs": [],
   "source": [
    "# 위의 데이터를 파일로 만들어주자\n",
    "train_x_data_df = pd.DataFrame(mnist.train.images)\n",
    "train_x_data_df.to_csv(\"./mnist_x_data.csv\", index=False)\n",
    "# x data의 각 pixel(각 column)은 0과 1 사이의 값으로, scaling된 숫자는 진하기를 나타낸다.\n",
    "# 이미지는 RGB + 알파로 표현되는 삼차원이다 \n",
    "# 현재는 0과 1사이의 숫자이고 0과 가까울수록 흰색을 지칭, 1과 가까울수록 색상이 어두워진다(검은색).\n",
    "\n",
    "train_y_data_df = pd.DataFrame(mnist.train.labels)\n",
    "train_y_data_df.to_csv(\"./mnist_y_data.csv\", index=False)"
   ]
  },
  {
   "cell_type": "markdown",
   "metadata": {},
   "source": [
    "#### 3 ) tensorflow로 machine learning"
   ]
  },
  {
   "cell_type": "code",
   "execution_count": 3,
   "metadata": {},
   "outputs": [],
   "source": [
    "# placeholder\n",
    "X = tf.placeholder(shape = [None, 784], dtype = tf.float32)\n",
    "Y = tf.placeholder(shape = [None, 10], dtype = tf.float32)\n",
    "# Weight, bias\n",
    "W = tf.Variable(tf.random_normal([784, 10]), name = \"Weight\")\n",
    "b = tf.Variable(tf.random_normal([10]), name = \"bias\")\n",
    "# Hypothesis\n",
    "logit = tf.matmul(X,W) + b\n",
    "H = tf.nn.softmax(logit)\n",
    "# Cost\n",
    "cost = tf.reduce_mean(tf.nn.softmax_cross_entropy_with_logits_v2(logits = logit,\n",
    "                                                                labels = Y))\n",
    "# Train\n",
    "train = tf.train.GradientDescentOptimizer(learning_rate = 0.5).minimize(cost)\n",
    "# Session\n",
    "sess = tf.Session()\n",
    "sess.run(tf.global_variables_initializer())    "
   ]
  },
  {
   "cell_type": "code",
   "execution_count": 4,
   "metadata": {},
   "outputs": [
    {
     "name": "stdout",
     "output_type": "stream",
     "text": [
      "Cost 값은 : 19.766536712646484\n",
      "Cost 값은 : 11.08687973022461\n",
      "Cost 값은 : 8.81389331817627\n",
      "Cost 값은 : 7.11265754699707\n",
      "Cost 값은 : 5.837159633636475\n",
      "Cost 값은 : 4.900848865509033\n",
      "Cost 값은 : 4.216954708099365\n",
      "Cost 값은 : 3.7111566066741943\n",
      "Cost 값은 : 3.3278369903564453\n",
      "Cost 값은 : 3.028888463973999\n"
     ]
    }
   ],
   "source": [
    "# 학습\n",
    "# 데이터가 매우 크기 때문에 이제 로딩할 때 많이하지말자\n",
    "# train data를 한 번 학습하는 것 = 1epoch\n",
    "train_epoch = 30\n",
    "for step in range(train_epoch):\n",
    "    _, cost_val = sess.run([train,cost],\n",
    "                           feed_dict = { X : mnist.train.images,\n",
    "                                        Y : mnist.train.labels})\n",
    "    if step % 3 == 0:\n",
    "        print(\"Cost 값은 : {}\". format(cost_val))\n",
    "# numpy array로 처리하기 위해 df이 아닌 mnist.train.images를 그대로 사용하자"
   ]
  },
  {
   "cell_type": "markdown",
   "metadata": {},
   "source": [
    "#### 4 ) accuracy 측정"
   ]
  },
  {
   "cell_type": "code",
   "execution_count": 5,
   "metadata": {
    "scrolled": true
   },
   "outputs": [
    {
     "name": "stdout",
     "output_type": "stream",
     "text": [
      "정확도는 : 0.5236999988555908\n"
     ]
    }
   ],
   "source": [
    "predict = tf.argmax(H,1)\n",
    "correct = tf.equal(predict, tf.argmax(Y,1))\n",
    "accuracy = tf.reduce_mean(tf.cast(correct, dtype = tf.float32))\n",
    "print(\"정확도는 : {}\".format(sess.run(accuracy,\n",
    "                                  feed_dict = {X : mnist.test.images,\n",
    "                                               Y : mnist.test.labels})))"
   ]
  },
  {
   "cell_type": "markdown",
   "metadata": {},
   "source": [
    " #### 5 ) 반복과 배치를 통해 모델 다시 만들기"
   ]
  },
  {
   "cell_type": "code",
   "execution_count": 6,
   "metadata": {},
   "outputs": [],
   "source": [
    "# 너무 많은 데이터가 있으면 데이터를 못불러들이거나 데이터를 잘못 계산한다\n",
    "# 따라서 한번에 다 부르지 말고 특정 사이즈만큼만 불러서 학습한다\n",
    "# 반복과 배치를 통해 데이터를 나누어 학습시켜보자\n",
    "# 아래의 모델은 위와 동일하지만 line 21의 batch size부터 살펴보자"
   ]
  },
  {
   "cell_type": "code",
   "execution_count": 7,
   "metadata": {},
   "outputs": [
    {
     "name": "stdout",
     "output_type": "stream",
     "text": [
      "Cost 값은 : 0.8596975207328796\n",
      "Cost 값은 : 0.6384946703910828\n",
      "Cost 값은 : 0.38845375180244446\n",
      "Cost 값은 : 0.31539544463157654\n",
      "Cost 값은 : 0.5171910524368286\n",
      "Cost 값은 : 0.46512994170188904\n",
      "Cost 값은 : 0.27266165614128113\n",
      "Cost 값은 : 0.3753893971443176\n",
      "Cost 값은 : 0.28353968262672424\n",
      "Cost 값은 : 0.1510837972164154\n",
      "정확도는 : 0.9192000031471252\n"
     ]
    }
   ],
   "source": [
    "# placeholder\n",
    "X = tf.placeholder(shape = [None, 784], dtype = tf.float32)\n",
    "Y = tf.placeholder(shape = [None, 10], dtype = tf.float32)\n",
    "# Weight, bias\n",
    "W = tf.Variable(tf.random_normal([784, 10]), name = \"Weight\")\n",
    "b = tf.Variable(tf.random_normal([10]), name = \"bias\")\n",
    "# Hypothesis\n",
    "logit = tf.matmul(X,W) + b\n",
    "H = tf.nn.softmax(logit)\n",
    "# Cost\n",
    "cost = tf.reduce_mean(tf.nn.softmax_cross_entropy_with_logits_v2(logits = logit,\n",
    "                                                                labels = Y))\n",
    "# Train\n",
    "train = tf.train.GradientDescentOptimizer(learning_rate = 0.5).minimize(cost)\n",
    "# Session\n",
    "sess = tf.Session()\n",
    "sess.run(tf.global_variables_initializer())    \n",
    "\n",
    "train_epoch = 30\n",
    "# 55000개를 100개씩 잘라서 학습시켜보자\n",
    "batch_size = 100\n",
    "\n",
    "for step in range(train_epoch):\n",
    "    num_of_iter = int(mnist.train.num_examples / batch_size)\n",
    "    cost_val = 0\n",
    "    \n",
    "    for i in range(num_of_iter):\n",
    "        # 학습용 데이터에서 100개씩 반복해서 뜯어온다 ( 그 다음 백개 ! )\n",
    "        batch_x, batch_y = mnist.train.next_batch(batch_size)\n",
    "        _, cost_val = sess.run([train,cost],\n",
    "                               feed_dict = { X : batch_x,\n",
    "                                             Y : batch_y})\n",
    "    if step % 3 == 0:\n",
    "        print(\"Cost 값은 : {}\". format(cost_val))\n",
    "\n",
    "predict = tf.argmax(H,1)\n",
    "correct = tf.equal(predict, tf.argmax(Y,1))\n",
    "accuracy = tf.reduce_mean(tf.cast(correct, dtype = tf.float32))\n",
    "print(\"정확도는 : {}\".format(sess.run(accuracy,\n",
    "                                  feed_dict = {X : mnist.test.images,\n",
    "                                               Y : mnist.test.labels})))"
   ]
  },
  {
   "cell_type": "markdown",
   "metadata": {},
   "source": [
    "#### 6 ) Prediction"
   ]
  },
  {
   "cell_type": "code",
   "execution_count": 8,
   "metadata": {},
   "outputs": [
    {
     "name": "stdout",
     "output_type": "stream",
     "text": [
      "Label : [1]\n",
      "predict : [1]\n"
     ]
    }
   ],
   "source": [
    "# 랜덤으로 하나의 데이터를 추출해서 이를 이용해서 prediction한 후, 결과를 비교해보자\n",
    "r = np.random.randint(0, mnist.test.num_examples)\n",
    "# 난수가 의미하는 행의 label 값을 먼저 구해보자\n",
    "# 이차원으로 해주기 위해 [ r : r+1 ] 대입\n",
    "print(\"Label : {}\".format(sess.run(tf.argmax(mnist.test.labels[r:r+1], axis=1))))\n",
    "print(\"predict : {}\".format(sess.run(tf.argmax(H,1),\n",
    "                                     feed_dict = { X : mnist.test.images[r:r+1] })))\n",
    "# 90%의 정확도이기 때문에 틀린 값이 나올 수 있다 ~ \n"
   ]
  },
  {
   "cell_type": "markdown",
   "metadata": {},
   "source": [
    "#### 7 ) 그림을 그려보자"
   ]
  },
  {
   "cell_type": "code",
   "execution_count": 9,
   "metadata": {
    "scrolled": false
   },
   "outputs": [
    {
     "data": {
      "text/plain": [
       "<matplotlib.image.AxesImage at 0x27b59a1c4e0>"
      ]
     },
     "execution_count": 9,
     "metadata": {},
     "output_type": "execute_result"
    },
    {
     "data": {
      "image/png": "[encoded data removed]",
      "text/plain": [
       "<Figure size 432x288 with 1 Axes>"
      ]
     },
     "metadata": {
      "needs_background": "light"
     },
     "output_type": "display_data"
    }
   ],
   "source": [
    "\n",
    "# 랜덤수 생성\n",
    "r = np.random.randint(0, mnist.test.num_examples)\n",
    "\n",
    "## 1차원 배열을 다시 28 * 28 의 2차원 배열로 바꿔보자\n",
    "#mnist.test.images[r:r+1].reshape(28,28)\n",
    "\n",
    "## 그림을 그려보자 1\n",
    "#plt.imshow(mnist.test.images[r:r+1].reshape(28,28))\n",
    "\n",
    "## 그림을 그려보자 2\n",
    "plt.imshow(mnist.test.images[r:r+1].reshape(28,28), cmap=\"Greys\")"
   ]
  },
  {
   "cell_type": "markdown",
   "metadata": {},
   "source": [
    "### 2. kaggle에서 제공하는 데이터로 예측해보자!"
   ]
  },
  {
   "cell_type": "markdown",
   "metadata": {},
   "source": [
    "#### 1 ) 필요한 module import"
   ]
  },
  {
   "cell_type": "code",
   "execution_count": 10,
   "metadata": {},
   "outputs": [],
   "source": [
    "# 필요한 module import\n",
    "import tensorflow as tf\n",
    "import pandas as pd\n",
    "import numpy as np\n",
    "import matplotlib.pyplot as plt\n",
    "from tensorflow.examples.tutorials.mnist import input_data\n",
    "from sklearn.preprocessing import MinMaxScaler\n",
    "from sklearn.linear_model import LogisticRegression\n",
    "\n",
    "# Data Loading\n",
    "# 우선 데이터 폴더 밑에 mnist 폴더를 만들어주자 ( 압축파일 네개가 생성될 예정 )\n",
    "# 속성으로 먼저 one_hot encoding을 하면 y값이 encoding된 채로 나온다\n",
    "# tensorflow예제에서만 가능하고 kaggle에선 직접해야한다 !\n",
    "mnist_df = pd.read_csv(\"C:/python_DA/Ex/DA/train.csv\")"
   ]
  },
  {
   "cell_type": "markdown",
   "metadata": {},
   "source": [
    "#### 2 ) 데이터 로딩 [ 시간 오래 걸림 주의! ]"
   ]
  },
  {
   "cell_type": "code",
   "execution_count": 11,
   "metadata": {},
   "outputs": [],
   "source": [
    "mnist_df.shape\n",
    "x_df = pd.DataFrame(mnist_df.drop(columns = [\"label\"]))\n",
    "x_df.to_csv(\"./x_df.csv\", index=False)\n",
    "y_df = pd.DataFrame(mnist_df[\"label\"].values)\n",
    "y_df.to_csv(\"./y_df.csv\", index=False)"
   ]
  },
  {
   "cell_type": "markdown",
   "metadata": {},
   "source": [
    "#### 3 ) 데이터 전처리"
   ]
  },
  {
   "cell_type": "code",
   "execution_count": 12,
   "metadata": {},
   "outputs": [
    {
     "data": {
      "text/plain": [
       "(8400, 10)"
      ]
     },
     "execution_count": 12,
     "metadata": {},
     "output_type": "execute_result"
    }
   ],
   "source": [
    "# 데이터 결측치 확인\n",
    "x_df.isnull().sum(axis=1).sum(axis=0)\n",
    "y_df.isnull().sum(axis=1).sum(axis=0)\n",
    "\n",
    "# 데이터 확인 \n",
    "#display(y_df.head())\n",
    "#display(x_df.head())\n",
    "\n",
    "# 데이터 train, test로 나누자\n",
    "split_num = int(x_df.shape[0] * 0.8)  # 42000, 33600, 8400\n",
    "\n",
    "# x_df scaling\n",
    "scaler = MinMaxScaler()\n",
    "x_data = scaler.fit_transform(x_df)\n",
    "\n",
    "train_x_data = x_data[:split_num]\n",
    "train_x_data.shape # 33600, 784\n",
    "test2_x_data = x_data[split_num:]\n",
    "test2_x_data.shape # 8400, 784\n",
    "\n",
    "# y_df one hot encoding\n",
    "sess = tf.Session()\n",
    "train_y_data = sess.run(tf.one_hot(y_df.loc[:split_num-1,0], 10))\n",
    "train_y_data.shape # 33600, 10\n",
    "test_y_data = sess.run(tf.one_hot(y_df.loc[split_num:,0],10))\n",
    "test_y_data.shape # 8400, 10"
   ]
  },
  {
   "cell_type": "markdown",
   "metadata": {},
   "source": [
    "#### 4 ) machine learning"
   ]
  },
  {
   "cell_type": "code",
   "execution_count": 17,
   "metadata": {},
   "outputs": [
    {
     "name": "stdout",
     "output_type": "stream",
     "text": [
      "Cost 값은 : 1.3148949146270752\n",
      "Cost 값은 : 0.847979724407196\n",
      "Cost 값은 : 0.7234461903572083\n",
      "Cost 값은 : 0.6582573056221008\n",
      "Cost 값은 : 0.6179904937744141\n",
      "Cost 값은 : 0.5912045836448669\n",
      "Cost 값은 : 0.5716921091079712\n",
      "Cost 값은 : 0.5561500787734985\n",
      "Cost 값은 : 0.5430468916893005\n",
      "Cost 값은 : 0.5316665172576904\n",
      "정확도는 : 0.9060714244842529\n",
      "predict : [0 7 7 ... 7 6 9]\n"
     ]
    }
   ],
   "source": [
    "X = tf.placeholder(shape = [None, 784], dtype = tf.float32)\n",
    "Y = tf.placeholder(shape = [None, 10], dtype = tf.float32)\n",
    "W = tf.Variable(tf.random_normal([784, 10]), name = \"Weight\")\n",
    "b = tf.Variable(tf.random_normal([10]), name = \"bias\")\n",
    "logit = tf.matmul(X,W) + b\n",
    "H = tf.nn.softmax(logit)\n",
    "cost = tf.reduce_mean(tf.nn.softmax_cross_entropy_with_logits_v2(logits = logit,\n",
    "                                                                labels = Y))\n",
    "train = tf.train.GradientDescentOptimizer(learning_rate = 0.5).minimize(cost)\n",
    "sess = tf.Session()\n",
    "sess.run(tf.global_variables_initializer())\n",
    "\n",
    "train_epoch = 30\n",
    "batch_size = 100\n",
    "for step in range(train_epoch):\n",
    "    num_of_iter = int(len(train_x_data) / batch_size)\n",
    "    cost_val = 0\n",
    "    \n",
    "    for i in range(num_of_iter):\n",
    "        # 학습용 데이터에서 100개씩 반복해서 뜯어온다 ( 그 다음 백개 ! )\n",
    "        batch_x = train_x_data[batch_size * i : batch_size * ( i + 1 )]\n",
    "        batch_y = train_y_data[batch_size * i : batch_size * ( i + 1 )]\n",
    "        _, cost_val = sess.run([train,cost],\n",
    "                               feed_dict = { X : batch_x,\n",
    "                                             Y : batch_y})\n",
    "    if step % 3 == 0:\n",
    "        print(\"Cost 값은 : {}\". format(cost_val))\n",
    "\n",
    "predict = tf.argmax(H,1)\n",
    "correct = tf.equal(predict, tf.argmax(Y,1))\n",
    "accuracy = tf.reduce_mean(tf.cast(correct, dtype = tf.float32))\n",
    "print(\"정확도는 : {}\".format(sess.run(accuracy,\n",
    "                                  feed_dict = {X : test2_x_data,\n",
    "                                               Y : test_y_data})))\n",
    "\n",
    "print(\"predict : {}\".format(sess.run(tf.argmax(H,1),\n",
    "                                     feed_dict = { X : test2_x_data })))\n"
   ]
  },
  {
   "cell_type": "markdown",
   "metadata": {},
   "source": [
    "#### 5 ) 제출할 test data를 입력하여 결과를 보자 !"
   ]
  },
  {
   "cell_type": "code",
   "execution_count": 19,
   "metadata": {},
   "outputs": [
    {
     "name": "stdout",
     "output_type": "stream",
     "text": [
      "Cost 값은 : nan\n",
      "Cost 값은 : nan\n",
      "Cost 값은 : nan\n",
      "Cost 값은 : nan\n",
      "Cost 값은 : nan\n",
      "Cost 값은 : nan\n",
      "Cost 값은 : nan\n",
      "Cost 값은 : nan\n",
      "Cost 값은 : nan\n",
      "Cost 값은 : nan\n",
      "정확도는 : 0.9110714197158813\n",
      "predict : [[2 0 5 ... 3 9 2]]\n"
     ]
    }
   ],
   "source": [
    "test_df = pd.read_csv(\"C:/python_DA/Ex/DA/test.csv\")\n",
    "scaler = MinMaxScaler()\n",
    "x_data = scaler.fit_transform(x_df)\n",
    "test_x_data = scaler.transform(test_df)\n",
    "\n",
    "X = tf.placeholder(shape = [None, 784], dtype = tf.float32)\n",
    "Y = tf.placeholder(shape = [None, 10], dtype = tf.float32)\n",
    "W = tf.Variable(tf.random_normal([784, 10]), name = \"Weight\")\n",
    "b = tf.Variable(tf.random_normal([10]), name = \"bias\")\n",
    "logit = tf.matmul(X,W) + b\n",
    "H = tf.nn.softmax(logit)\n",
    "cost = tf.reduce_mean(tf.nn.softmax_cross_entropy_with_logits_v2(logits = logit,\n",
    "                                                                labels = Y))\n",
    "train = tf.train.GradientDescentOptimizer(learning_rate = 0.5).minimize(cost)\n",
    "sess = tf.Session()\n",
    "sess.run(tf.global_variables_initializer())\n",
    "\n",
    "train_epoch = 30\n",
    "batch_size = 100\n",
    "for step in range(train_epoch):\n",
    "    num_of_iter = int(len(x_df) / batch_size)\n",
    "    cost_val = 0\n",
    "    \n",
    "    for i in range(num_of_iter):\n",
    "        # 학습용 데이터에서 100개씩 반복해서 뜯어온다 ( 그 다음 백개 ! )\n",
    "        batch_x = train_x_data[100*i:100*(i+1)]\n",
    "        batch_y = train_y_data[100*i:100*(i+1)]\n",
    "        _, cost_val = sess.run([train,cost],\n",
    "                               feed_dict = { X : batch_x,\n",
    "                                             Y : batch_y})\n",
    "    if step % 3 == 0:\n",
    "        print(\"Cost 값은 : {}\". format(cost_val))\n",
    "\n",
    "predict = tf.argmax(H,1)\n",
    "correct = tf.equal(predict, tf.argmax(Y,1))\n",
    "accuracy = tf.reduce_mean(tf.cast(correct, dtype = tf.float32))\n",
    "print(\"정확도는 : {}\".format(sess.run(accuracy,\n",
    "                                  feed_dict = {X : test2_x_data,\n",
    "                                               Y : test_y_data})))\n",
    "\n",
    "\n",
    "print(\"predict : [{}]\".format(sess.run(tf.argmax(H,1),\n",
    "                                     feed_dict = { X : test_x_data })))\n",
    "\n",
    "result = sess.run(tf.argmax(H,1),\n",
    "                                     feed_dict = { X : test_x_data })\n",
    "result_df = pd.DataFrame({'Label' : result })\n",
    "result_df.index = np.arange(1,len(result_df)+1)\n",
    "\n",
    "\n",
    "result_df.to_csv(\"result.csv\", index = True, index_label = \"ImageId\")\n",
    "\n"
   ]
  },
  {
   "cell_type": "markdown",
   "metadata": {},
   "source": [
    "#### 7 ) 직접 이미지를 찍어보자"
   ]
  },
  {
   "cell_type": "code",
   "execution_count": 44,
   "metadata": {},
   "outputs": [
    {
     "name": "stdout",
     "output_type": "stream",
     "text": [
      "Cost 값은 : 1.2201826572418213\n",
      "Cost 값은 : 0.830609142780304\n",
      "Cost 값은 : 0.7419776320457458\n",
      "Cost 값은 : 0.690538227558136\n",
      "Cost 값은 : 0.6525172591209412\n",
      "Cost 값은 : 0.6229352355003357\n",
      "Cost 값은 : 0.5996458530426025\n",
      "Cost 값은 : 0.5809520483016968\n",
      "Cost 값은 : 0.5656080842018127\n",
      "Cost 값은 : 0.5527008771896362\n",
      "정확도는 : 0.9072619080543518\n",
      "predict : [[5]]\n"
     ]
    },
    {
     "data": {
      "text/plain": [
       "<matplotlib.image.AxesImage at 0x27b3ab732b0>"
      ]
     },
     "execution_count": 44,
     "metadata": {},
     "output_type": "execute_result"
    },
    {
     "data": {
      "image/png": "[encoded data removed]",
      "text/plain": [
       "<Figure size 432x288 with 1 Axes>"
      ]
     },
     "metadata": {
      "needs_background": "light"
     },
     "output_type": "display_data"
    }
   ],
   "source": [
    "########### 어디선가 가져온 코딩 #################\n",
    "from PIL import Image, ImageFilter\n",
    "\n",
    "def imageprepare(argv):\n",
    "    im = Image.open(argv).convert('L')\n",
    "    width = float(im.size[0])\n",
    "    height = float(im.size[1])\n",
    "    newImage = Image.new('L', (28, 28), (255))  # 우리가 테스트할 네트워크는 28/28 이미지이다\n",
    "    # 입력된 28/28이 아닌 이미지를 28/28로 변환하기 위해 가로 세로 중 어느쪽이 큰지 확인\n",
    "    if width > height:\n",
    "        # 폭이 더 큰 경우 처리 로직\n",
    "        nheight = int(round((20.0 / width * height), 0))  # resize height according to ratio width\n",
    "        # 20/20 이미지로 변환하고\n",
    "        img = im.resize((20, nheight), Image.ANTIALIAS).filter(ImageFilter.SHARPEN)\n",
    "        wtop = int(round(((28 - nheight) / 2), 0))  #\n",
    "        newImage.paste(img, (4, wtop))  # 리사이즈된 이미지를 흰색 바탕의 캔버스에 붙여 넣는다\n",
    "    else:\n",
    "        # 높이가 더 큰경우에 처리 로직\n",
    "        nwidth = int(round((20.0 / height * width), 0))\n",
    "        if (nwidth == 0):\n",
    "            nwidth = 1\n",
    "            # resize and sharpen\n",
    "        img = im.resize((nwidth, 20), Image.ANTIALIAS).filter(ImageFilter.SHARPEN)\n",
    "        wleft = int(round(((28 - nwidth) / 2), 0))\n",
    "        newImage.paste(img, (wleft, 4))\n",
    "    # newImage.save(\"sample.png\")\n",
    "    tv = list(newImage.getdata())  # 픽셀 데이터로 변환\n",
    "    # 255의 RGB 0 흰색, 1 검은색의 이진수로 노멀라이제이션 작업을 수행\n",
    "    tva = [(255 - x) * 1.0 / 255.0 for x in tv]\n",
    "    return tva\n",
    "\n",
    "##################################################################################################################\n",
    "npa = np.asarray(imageprepare(\"C:/python_DA/Ex/DA/1.jpg\"), dtype=np.float32)\n",
    "\n",
    "scaler = MinMaxScaler()\n",
    "pic_df = [npa]\n",
    "\n",
    "x_data = scaler.fit_transform(x_df)\n",
    "test_x_data = scaler.transform(pic_df)\n",
    "\n",
    "X = tf.placeholder(shape = [None, 784], dtype = tf.float32)\n",
    "Y = tf.placeholder(shape = [None, 10], dtype = tf.float32)\n",
    "W = tf.Variable(tf.random_normal([784, 10]), name = \"Weight\")\n",
    "b = tf.Variable(tf.random_normal([10]), name = \"bias\")\n",
    "logit = tf.matmul(X,W) + b\n",
    "H = tf.nn.softmax(logit)\n",
    "cost = tf.reduce_mean(tf.nn.softmax_cross_entropy_with_logits_v2(logits = logit,\n",
    "                                                                labels = Y))\n",
    "train = tf.train.GradientDescentOptimizer(learning_rate = 0.5).minimize(cost)\n",
    "sess = tf.Session()\n",
    "sess.run(tf.global_variables_initializer())\n",
    "\n",
    "train_epoch = 30\n",
    "batch_size = 100\n",
    "\n",
    "for step in range(train_epoch):\n",
    "    num_of_iter = int(len(train_x_data) / batch_size)\n",
    "    cost_val = 0\n",
    "    for i in range(num_of_iter):\n",
    "        # 학습용 데이터에서 100개씩 반복해서 뜯어온다 ( 그 다음 백개 ! )\n",
    "        batch_x = train_x_data[batch_size*i:batch_size*(i+1)]\n",
    "        batch_y = train_y_data[batch_size*i:batch_size*(i+1)]\n",
    "        _, cost_val = sess.run([train,cost],\n",
    "                               feed_dict = { X : batch_x,\n",
    "                                             Y : batch_y})\n",
    "    if step % 3 == 0:\n",
    "        print(\"Cost 값은 : {}\". format(cost_val))\n",
    "\n",
    "predict = tf.argmax(H,1)\n",
    "correct = tf.equal(predict, tf.argmax(Y,1))\n",
    "accuracy = tf.reduce_mean(tf.cast(correct, dtype = tf.float32))\n",
    "print(\"정확도는 : {}\".format(sess.run(accuracy,\n",
    "                                  feed_dict = {X : test2_x_data,\n",
    "                                               Y : test_y_data})))\n",
    "\n",
    "\n",
    "print(\"predict : [{}]\".format(sess.run(tf.argmax(H,1),\n",
    "                                     feed_dict = { X : test_x_data })))\n",
    "\n",
    "\n",
    "plt.imshow(npa.reshape(28,28), cmap=\"Greys\")\n"
   ]
  },
  {
   "cell_type": "code",
   "execution_count": null,
   "metadata": {},
   "outputs": [],
   "source": [
    "\n",
    "\n",
    "\n",
    "\n",
    "\n",
    "\n",
    "\n",
    "\n",
    "\n",
    "\n",
    "\n",
    "\n",
    "\n",
    "\n",
    "\n",
    "\n",
    "\n",
    "\n",
    "\n",
    "\n"
   ]
  }
 ],
 "metadata": {
  "kernelspec": {
   "display_name": "[CPU_ENV]",
   "language": "python",
   "name": "cpu_env"
  },
  "language_info": {
   "codemirror_mode": {
    "name": "ipython",
    "version": 3
   },
   "file_extension": ".py",
   "mimetype": "text/x-python",
   "name": "python",
   "nbconvert_exporter": "python",
   "pygments_lexer": "ipython3",
   "version": "3.6.9"
  }
 },
 "nbformat": 4,
 "nbformat_minor": 2
}
