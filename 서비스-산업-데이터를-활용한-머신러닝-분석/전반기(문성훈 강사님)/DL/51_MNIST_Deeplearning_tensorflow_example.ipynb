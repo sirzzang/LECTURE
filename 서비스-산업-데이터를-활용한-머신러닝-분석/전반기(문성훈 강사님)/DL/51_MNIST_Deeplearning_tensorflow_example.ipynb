{
 "cells": [
  {
   "cell_type": "markdown",
   "metadata": {},
   "source": [
    "* 지금 사용하고 있는 tensorflow는 cpu버전\n",
    "* deep learning으로 가면 더 많은 수학적 연산(matrix연산)이 필요하고\n",
    "* GPU를 이용하면 더 빠르게 계산을 할 수 있다.\n",
    "* 새로운 가상환경을 만들어서 tensorflow GPU버전을 이용해 보자!\n",
    "* 새로운 가상환경을 하나 생성\n",
    "\n",
    "1. conda create -n gpu_env python=3.6 openssl\n",
    "2. activate gpu_env\n",
    "3. nb_conda 설치 -> conda install nb_conda\n",
    "4. python -m ipykernel install --user --name=gpu_env --display-name=[GPU_ENV]\n",
    "5. 최신 비디오 드라이버 설치(NVDIA)\n",
    "6. CUDA (설치)\n",
    "7. cuDNN 압축풀어서 덮어 씌우자. (파일 3개를 NVIDIA GPU Computing Toolkit v10안에 덮어씌우기)\n"
   ]
  },
  {
   "cell_type": "code",
   "execution_count": 1,
   "metadata": {},
   "outputs": [],
   "source": [
    "# 1. learning rate\n",
    "# 정해져 있는 값은 없다.\n",
    "# 0.01을 기준으로 cost값을 보고 learning rate를 조절\n",
    "# 만약 learning rate가 크다면 \n",
    "# overshooting 현상이 발생\n",
    "# 만약 learning가 너무 작다면\n",
    "# local minimum현상이 발생\n",
    "# cost값을 기준으로 커스터마이징을 해야한다"
   ]
  },
  {
   "cell_type": "code",
   "execution_count": 2,
   "metadata": {},
   "outputs": [],
   "source": [
    "# 2. preprocessing\n",
    "# feature engineering을 포함해서 \n",
    "# 각 feature의 데이터 범주와 크기를 살펴봐야 한다.\n",
    "# 정규화 (Normalization) -> Minmaxscale을 이용.\n",
    "# 표준화 (Standardization) \n",
    "# - 평균과 표준편차를 이용해서 -1 ~ 1 사이의 값으로 scale하는 방식"
   ]
  },
  {
   "cell_type": "code",
   "execution_count": 3,
   "metadata": {},
   "outputs": [],
   "source": [
    "# overfitting (과적합)\n",
    "# 모델을 만들어 학습을 하는데 학습데이터에 너무 잘 들어맞는\n",
    "# 모델이 생성되는 경우\n",
    "# 실제데이터를 적용할 때 결과값 예측이 잘 안되는 경우를 의미\n",
    "\n",
    "# overfitting을 피하려면\n",
    "# 1. 많은 training data set이 있어야 한다.\n",
    "# 2. feature의 개수를 가능한 줄여야 한다.\n",
    "#    필요없거나 중복되는 column을 삭제"
   ]
  },
  {
   "cell_type": "code",
   "execution_count": 4,
   "metadata": {},
   "outputs": [],
   "source": [
    "# 학습과정에서는 \n",
    "# 일반적으로 training data set의 크기가 굉장히 크다!\n",
    "# 1 epoch을 수행하는 시간이 오래걸린다.\n",
    "# batch처리를 이용해서 학습을 진행"
   ]
  },
  {
   "cell_type": "code",
   "execution_count": 5,
   "metadata": {},
   "outputs": [],
   "source": [
    "# 정확도 측정\n",
    "# 일반적으로 raw data set을 우리가 얻게되면\n",
    "# training data set, test data set으로 분리 (7:3 , 8:2)\n",
    "# n fold cross validation"
   ]
  }
 ],
 "metadata": {
  "kernelspec": {
   "display_name": "[GPU_ENV]",
   "language": "python",
   "name": "gpu_env"
  },
  "language_info": {
   "codemirror_mode": {
    "name": "ipython",
    "version": 3
   },
   "file_extension": ".py",
   "mimetype": "text/x-python",
   "name": "python",
   "nbconvert_exporter": "python",
   "pygments_lexer": "ipython3",
   "version": "3.6.10"
  }
 },
 "nbformat": 4,
 "nbformat_minor": 2
}
