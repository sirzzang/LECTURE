{
  "nbformat": 4,
  "nbformat_minor": 0,
  "metadata": {
    "colab": {
      "name": "[20200117] tensorflow_CNN_MNIST_ensemble_class.ipynb",
      "provenance": [],
      "collapsed_sections": [],
      "authorship_tag": "ABX9TyNsMOhLplHV98VUg8gnVaGi",
      "include_colab_link": true
    },
    "kernelspec": {
      "name": "python3",
      "display_name": "Python 3"
    },
    "accelerator": "GPU"
  },
  "cells": [
    {
      "cell_type": "markdown",
      "metadata": {
        "id": "view-in-github",
        "colab_type": "text"
      },
      "source": [
        "<a href=\"https://colab.research.google.com/github/sirzzang/TIL_multicampus_lecturefile/blob/master/%5B20200117%5Dtensorflow_CNN_MNIST_ensemble_class.ipynb\" target=\"_parent\"><img src=\"https://colab.research.google.com/assets/colab-badge.svg\" alt=\"Open In Colab\"/></a>"
      ]
    },
    {
      "cell_type": "markdown",
      "metadata": {
        "id": "0eyn2w93chwz",
        "colab_type": "text"
      },
      "source": [
        "## **OOP로 ensemble 구현**\n",
        "---\n",
        "> 일단 kaggle 말고 tensorflow MNIST 데이터 사용\n",
        "---\n",
        "> *OOP 구현*에서 주의할 점\n",
        "---\n",
        "1. 구조를 먼저 생각하고, class 안에 변수와 함수 덩어리를 넣어 놓자.\n",
        "    * class 안에 넣어 놓아야 하는지, class 밖에서 호출해야 하는지.\n",
        "2. 각 구조별로 객체가 생성되는지 확인하는 과정을 거치자.\n",
        "    * 예를 들어, `print(\"객체가 생성되었어요.\")`.\n",
        "    * console 통해 제대로 실행되는지 확인하며 단계별로 진행.\n",
        "3. 객체 생성 시 코드 작성 순서도 매우 중요하다.\n",
        "4. 딥러닝 코드로 구현하는 과정 자체는, 이전의 코드를 그대로 넣으면 된다.\n",
        "    * `self` : class 안에서 계속 사용해야 하는 변수인 경우, self 붙임.\n",
        "    * 외부에 노출할 필요가 없는 변수인 경우, `self` 붙이지 않음.\n",
        "\n",
        "---\n",
        "> *ensemble model 구현*에서 주의할 점\n",
        "1. ensemble은 여러 개의 CNN 모델을 만들어서 이용한다.\n",
        "    * list 이용 : 각 개체에 CNN 모델을 하나씩 저장.\n",
        "2. ensemble이 아닐 경우, 정확도 구하는 함수, 예측하는 함수 모두 class 안에 정의해도 된다. 다만, 지금은 **ensemble이기 때문에** Hval 구하는 부분까지만 class 안에 정의한다."
      ]
    },
    {
      "cell_type": "code",
      "metadata": {
        "id": "UK2tk80qc1G6",
        "colab_type": "code",
        "colab": {}
      },
      "source": [
        "# drive mount"
      ],
      "execution_count": 0,
      "outputs": []
    },
    {
      "cell_type": "code",
      "metadata": {
        "id": "YKzrjpu0u-1M",
        "colab_type": "code",
        "outputId": "af0d6804-9572-42d7-ba13-65d0c6ff421e",
        "colab": {
          "base_uri": "https://localhost:8080/",
          "height": 127
        }
      },
      "source": [
        "from google.colab import drive\n",
        "drive.mount('/content/drive')"
      ],
      "execution_count": 1,
      "outputs": [
        {
          "output_type": "stream",
          "text": [
            "Go to this URL in a browser: https://accounts.google.com/o/oauth2/auth?client_id=947318989803-6bn6qk8qdgf4n4g3pfee6491hc0brc4i.apps.googleusercontent.com&redirect_uri=urn%3aietf%3awg%3aoauth%3a2.0%3aoob&response_type=code&scope=email%20https%3a%2f%2fwww.googleapis.com%2fauth%2fdocs.test%20https%3a%2f%2fwww.googleapis.com%2fauth%2fdrive%20https%3a%2f%2fwww.googleapis.com%2fauth%2fdrive.photos.readonly%20https%3a%2f%2fwww.googleapis.com%2fauth%2fpeopleapi.readonly\n",
            "\n",
            "Enter your authorization code:\n",
            "··········\n",
            "Mounted at /content/drive\n"
          ],
          "name": "stdout"
        }
      ]
    },
    {
      "cell_type": "code",
      "metadata": {
        "id": "Ht-OmELmcuoD",
        "colab_type": "code",
        "outputId": "23269688-fa4b-40d5-c558-94744745436e",
        "colab": {
          "base_uri": "https://localhost:8080/",
          "height": 64
        }
      },
      "source": [
        "# module import\n",
        "\n",
        "import tensorflow as tf\n",
        "from tensorflow.examples.tutorials.mnist import input_data\n",
        "import numpy as np\n",
        "import pandas as pd"
      ],
      "execution_count": 2,
      "outputs": [
        {
          "output_type": "display_data",
          "data": {
            "text/html": [
              "<p style=\"color: red;\">\n",
              "The default version of TensorFlow in Colab will soon switch to TensorFlow 2.x.<br>\n",
              "We recommend you <a href=\"https://www.tensorflow.org/guide/migrate\" target=\"_blank\">upgrade</a> now \n",
              "or ensure your notebook will continue to use TensorFlow 1.x via the <code>%tensorflow_version 1.x</code> magic:\n",
              "<a href=\"https://colab.research.google.com/notebooks/tensorflow_version.ipynb\" target=\"_blank\">more info</a>.</p>\n"
            ],
            "text/plain": [
              "<IPython.core.display.HTML object>"
            ]
          },
          "metadata": {
            "tags": []
          }
        }
      ]
    },
    {
      "cell_type": "code",
      "metadata": {
        "id": "mah9HrAceUXr",
        "colab_type": "code",
        "colab": {}
      },
      "source": [
        "# graph 초기화\n",
        "\n",
        "tf.reset_default_graph()"
      ],
      "execution_count": 0,
      "outputs": []
    },
    {
      "cell_type": "markdown",
      "metadata": {
        "id": "21AKPhHEeV4f",
        "colab_type": "text"
      },
      "source": [
        "### Step 1. Class 만들기\n",
        "\n",
        "#### 1.1. 생성자\n",
        "* 처음에 모델 실행하자마자 뭘 할지 고민.\n",
        "* 변수 생성, 변수로 받아올 인자 정의해 두기.\n",
        "* 실행하자 마자 어떤 함수 실행하는지 호출하기.\n",
        "\n",
        "#### 1.2. 그래프 그리기\n",
        "* 계속 사용하는 변수에 `self`.\n",
        "    > * self 안 붙으면 scope. 변수 가동 범위가 해당 함수 내로 국한됨. 지역변수(local variable) 개념.\n",
        "    > * 제대로 안 붙이면 오류(NameError: name 'drop_rate' is not defined)\n",
        "* tensorflow node를 만드는 과정 자체가 그래프를 그리는 과정.\n",
        "* node : cost, train까지 만들면 tensorflow의 전체 그래프가 완성된다.\n",
        "\n",
        "#### 1.3. 학습시키기\n",
        "\n",
        "#### 1.4. 실행값 구하기\n",
        "\n",
        "#### 1.5. 기타: 만약 ensemble이 아니라면, 정확도 구하는 기능, 예측값 구하는 기능 모두 다 넣는다.\n"
      ]
    },
    {
      "cell_type": "code",
      "metadata": {
        "id": "bT2jjEituzxU",
        "colab_type": "code",
        "colab": {}
      },
      "source": [
        "# 1. 모델 객체를 class로 정의\n",
        "\n",
        "class CnnModel: \n",
        "\n",
        "    # 1.1. 생성자\n",
        "\n",
        "    def __init__(self, session, data):\n",
        "        print(\"객체 생성\") # 실행되는지 확인하기 위함.\n",
        "        self.sess = session # session 인자로 받아서 넘겨줄 변수.\n",
        "        self.mnist = data # data로 사용할 변수.\n",
        "        self.build_graph() # 객체 생성되면서 바로 그래프를 그린다.\n",
        " \n",
        "    # 1.2. 그래프 그리는 기능 : 객체 생성되자마자 그래프 노트 필요하므로, 생성자에 포함.\n",
        "    # self 붙는 변수에 주의.\n",
        "\n",
        "    def build_graph(self):\n",
        "        print(\"그래프 그려\")\n",
        "\n",
        "        # 1) placeholder\n",
        "        self.X = tf.placeholder(shape=[None,784], dtype=tf.float32) # 외부 노출 = 계속해서 사용.\n",
        "        self.Y = tf.placeholder(shape=[None,10], dtype=tf.float32)\n",
        "        self.drop_rate = tf.placeholder(dtype=tf.float32)\n",
        "        \n",
        "        # 2) convolution layer\n",
        "        x_img = tf.reshape(self.X, [-1,28,28,1])\n",
        "        \n",
        "        L1 = tf.layers.conv2d(inputs=x_img, filters=32, kernel_size=[3,3], padding=\"SAME\", strides=1, activation=tf.nn.relu)\n",
        "        L1 = tf.layers.max_pooling2d(inputs=L1, pool_size=[2,2], padding=\"SAME\", strides=2)\n",
        "        L1 = tf.layers.dropout(inputs=L1, rate=self.drop_rate)\n",
        "        \n",
        "        L2 = tf.layers.conv2d(inputs=L1, filters=64, kernel_size=[3,3], padding=\"SAME\", strides=1, activation=tf.nn.relu)\n",
        "        L2 = tf.layers.max_pooling2d(inputs=L2, pool_size=[2,2], padding=\"SAME\", strides=2)\n",
        "        L2 = tf.layers.dropout(inputs=L2, rate=self.drop_rate)\n",
        "        \n",
        "        L2 = tf.reshape(L2, [-1, 7*7*64])\n",
        "        \n",
        "        dense1 = tf.layers.dense(inputs=L2, units=256, activation=tf.nn.relu)\n",
        "        dense1 = tf.layers.dropout(inputs=dense1, rate=self.drop_rate)\n",
        "        \n",
        "        dense2 = tf.layers.dense(inputs=dense1, units=128, activation=tf.nn.relu)\n",
        "        dense2 = tf.layers.dropout(inputs=dense2, rate=self.drop_rate)\n",
        "        \n",
        "        dense3 = tf.layers.dense(inputs=dense2, units=512, activation=tf.nn.relu)\n",
        "        dense3 = tf.layers.dropout(inputs=dense3, rate=self.drop_rate)\n",
        " \n",
        "        self.H = tf.layers.dense(inputs=dense3, units=10)\n",
        "\n",
        "        # 3) cost     \n",
        "        self.cost = tf.losses.softmax_cross_entropy(self.Y, self.H) \n",
        "        \n",
        "        self.train = tf.train.AdamOptimizer(learning_rate=0.001).minimize(self.cost)\n",
        " \n",
        "    # 1.3. 학습시키는 기능: 학습은 class 밖에서 진행하므로, 생성자 안에 포함하지 않음.\n",
        "    def train_graph(self):\n",
        "        self.sess.run(tf.global_variables_initializer())\n",
        "        print(\"텐서플로우 그래프 학습\")\n",
        "\n",
        "        num_of_epoch = 3 # 외부에 노출할 필요 없는 변수.\n",
        "        batch_size = 100\n",
        "        \n",
        "        for step in range(num_of_epoch):\n",
        "            num_of_iter = int(self.mnist.train.num_examples / batch_size)\n",
        "            cost_val = 0\n",
        "            for i in range(num_of_iter):\n",
        "                batch_x, batch_y = self.mnist.train.next_batch(batch_size)\n",
        "                _, cost_val = self.sess.run([self.train, self.cost], feed_dict = {self.X :batch_x,\n",
        "                                                                                  self.Y : batch_y,\n",
        "                                                                                  self.drop_rate : 0.4})\n",
        "            if step % 3 == 0:\n",
        "                print(\"cost : {}\".format(cost_val))\n",
        " \n",
        "    # 1.4. H 실행시킨 값 구하는 기능\n",
        "    def get_Hval(self):\n",
        "        print(\"입력한 값에 대한 H를 리턴해요!\")\n",
        "        # 테스트 데이터에 대한 예측값(H)을 구해서 리턴해요!\n",
        "        return self.sess.run(self.H, feed_dict={self.X : self.mnist.test.images,\n",
        "                                                self.drop_rate : 0})"
      ],
      "execution_count": 0,
      "outputs": []
    },
    {
      "cell_type": "markdown",
      "metadata": {
        "colab_type": "text",
        "id": "w54IGCdyicpB"
      },
      "source": [
        "### Step 2. 모델 객체 만들기\n",
        "* 여러 개의 모델을 그 자체로 객체로 잡아서 만든다. 즉, 모델의 틀을 만들어 놓는 과정이라고 생각하자.\n",
        "* 모델 개수가 곧 객체의 개수라고 생각.\n",
        "* list 사용: 아래와 같은 방식은 매우 노동집약적.\n",
        "    ```\n",
        "    model1 =CnnModel()\n",
        "    model2 =CnnModel()\n",
        "    ...\n",
        "    ```\n",
        "* 모델 들어 있는 list 실행 결과\n",
        "```\n",
        "[<__main__.CnnModel object at 0x7f858574c7f0>, <__main__.CnnModel object at 0x7f858574c860>, <__main__.CnnModel object at 0x7f858574c748>, <__main__.CnnModel object at 0x7f858574c828>, <__main__.CnnModel object at 0x7f858574c908>, <__main__.CnnModel object at 0x7f858574ca90>, <__main__.CnnModel object at 0x7f858574cb00>, <__main__.CnnModel object at 0x7f858574c0f0>, <__main__.CnnModel object at 0x7f858574cc88>, <__main__.CnnModel object at 0x7f858574cc50>]\n",
        "```\n",
        "* session 정의\n",
        "    * 그래프 학습시 session이 있어야 학습할 수 있음.\n",
        "    * session 변수 여러 개 있을 필요 없음(메모리 낭비) .\n",
        "    * 모델 객체 만들 때 한 번 만들어서 실행 시 넘겨주도록 함.\n",
        "\n",
        "* data 변수 정의"
      ]
    },
    {
      "cell_type": "code",
      "metadata": {
        "id": "TcF5Qb5mkGX2",
        "colab_type": "code",
        "outputId": "b3ff4956-ac6b-42fb-ef44-52106e019296",
        "colab": {
          "base_uri": "https://localhost:8080/",
          "height": 161
        }
      },
      "source": [
        "# 2. 모델 객체 만들기\n",
        "# 모델 객체를 만들고, 그것을 list 안에 넣어 활용한다.\n",
        "# 여러 번 정의할 필요 없는 data, session 변수 정의하고, 위의 셀에 넘겨준다.\n",
        "mnist = input_data.read_data_sets(\"/content/drive/My Drive/data/mnist\", one_hot = True)\n",
        "sess = tf.Session()\n",
        "num_of_model = 2 # 외부 노출 필요 없음. 연습용으로 2개의 모델 생성할 것.\n",
        "models = [CnnModel(sess, mnist) for x in range(num_of_model)]"
      ],
      "execution_count": 6,
      "outputs": [
        {
          "output_type": "stream",
          "text": [
            "Extracting /content/drive/My Drive/data/mnist/train-images-idx3-ubyte.gz\n",
            "Extracting /content/drive/My Drive/data/mnist/train-labels-idx1-ubyte.gz\n",
            "Extracting /content/drive/My Drive/data/mnist/t10k-images-idx3-ubyte.gz\n",
            "Extracting /content/drive/My Drive/data/mnist/t10k-labels-idx1-ubyte.gz\n",
            "객체 생성\n",
            "그래프 그려\n",
            "객체 생성\n",
            "그래프 그려\n"
          ],
          "name": "stdout"
        }
      ]
    },
    {
      "cell_type": "markdown",
      "metadata": {
        "id": "taCnsZFgkJYZ",
        "colab_type": "text"
      },
      "source": [
        "### Step 3. 모델 학습시키기\n",
        "* 모델 만들었으니까, 각 모델을 학습시켜야 한다.\n",
        "* 학습시킬 때마다 각각 다른 모델이 완성되어야 한다.\n",
        "* 모델에 대해 위의 class에서 정의한 train_graph 함수 호출한다."
      ]
    },
    {
      "cell_type": "code",
      "metadata": {
        "id": "cfhsQsC6kWMW",
        "colab_type": "code",
        "outputId": "d4005386-533f-4e64-e999-63dbafdd5ec1",
        "colab": {
          "base_uri": "https://localhost:8080/",
          "height": 107
        }
      },
      "source": [
        "# 3. 모델 학습시키기\n",
        "# 모델을 학습해보아요!\n",
        "for i in range(num_of_model):\n",
        "    models[i].train_graph()\n",
        "\n",
        "print(models)"
      ],
      "execution_count": 8,
      "outputs": [
        {
          "output_type": "stream",
          "text": [
            "텐서플로우 그래프 학습\n",
            "cost : 0.03126775100827217\n",
            "텐서플로우 그래프 학습\n",
            "cost : 0.11475653946399689\n",
            "[<__main__.CnnModel object at 0x7f5c2410f940>, <__main__.CnnModel object at 0x7f5c22e067b8>]\n"
          ],
          "name": "stdout"
        }
      ]
    },
    {
      "cell_type": "markdown",
      "metadata": {
        "id": "EEi1zvpWkaxe",
        "colab_type": "text"
      },
      "source": [
        "### Step 4. H값 구하기\n",
        "\n",
        "* 모델 만들었으니까, 각 모델을 학습시켜야 한다.\n",
        "* 학습시킬 때마다 각각 다른 모델이 완성되어야 한다.\n",
        "* 모델에 대해 위의 class에서 정의한 train_graph 함수 호출한다."
      ]
    },
    {
      "cell_type": "code",
      "metadata": {
        "id": "xIERXvuomOqz",
        "colab_type": "code",
        "colab": {
          "base_uri": "https://localhost:8080/",
          "height": 287
        },
        "outputId": "fa3a6dc9-34cf-4675-9140-2d0f28eefe13"
      },
      "source": [
        "# test data 넣은 것에 대해 H값을 구해보아요!\n",
        "initial_predict = np.zeros([mnist.test.num_examples,10]) \n",
        "\n",
        "for i in range(num_of_model):\n",
        "    initial_predict = initial_predict + models[i].get_Hval()\n",
        "print(initial_predict)"
      ],
      "execution_count": 9,
      "outputs": [
        {
          "output_type": "stream",
          "text": [
            "입력한 값에 대한 H를 리턴해요!\n",
            "입력한 값에 대한 H를 리턴해요!\n",
            "[[-6.04032948  0.34726589 -0.9403764  ... 14.83251128 -5.59466042\n",
            "  -0.97225238]\n",
            " [-0.1277486  -0.64623719 17.21786486 ... -6.39279358 -3.36734584\n",
            "  -7.31494238]\n",
            " [-3.8862772  12.1824569  -1.60509282 ... -2.31005266 -2.47345691\n",
            "  -2.32049342]\n",
            " ...\n",
            " [-7.53872459 -1.67548626 -3.11262582 ... -2.32601954 -1.1806551\n",
            "  -1.2335626 ]\n",
            " [-3.01522733 -5.56961885 -7.96787756 ... -6.74841453  2.54983649\n",
            "  -2.02720371]\n",
            " [-1.59091121 -4.21687557 -2.31935791 ... -8.22261503 -2.14330608\n",
            "  -6.05175292]]\n"
          ],
          "name": "stdout"
        }
      ]
    },
    {
      "cell_type": "code",
      "metadata": {
        "id": "zfHChf0_hjpl",
        "colab_type": "code",
        "colab": {
          "base_uri": "https://localhost:8080/",
          "height": 35
        },
        "outputId": "3640cb62-aab9-40d7-de72-a3654829a593"
      },
      "source": [
        "### 여기서부터 내가 구현한 부분이라 logic 틀릴 수 있음. ###\n",
        "\n",
        "# H값에서 예측값 뽑아내기\n",
        "prediction = np.argmax(initial_predict, axis = 1)\n",
        "\n",
        "# 라벨값 확인하기\n",
        "actual = np.argmax(mnist.test.labels, axis = 1)\n",
        "\n",
        "# 정확도\n",
        "is_correct = np.equal(prediction, actual)\n",
        "accuracy = np.mean(is_correct.astype(np.float32))\n",
        "\n",
        "print(f\"정확도는 {accuracy * 100}%입니다.\")"
      ],
      "execution_count": 10,
      "outputs": [
        {
          "output_type": "stream",
          "text": [
            "정확도는 99.14000034332275%입니다.\n"
          ],
          "name": "stdout"
        }
      ]
    },
    {
      "cell_type": "markdown",
      "metadata": {
        "id": "-dCgO6UFm4i2",
        "colab_type": "text"
      },
      "source": [
        "# **오늘의 결론**\n",
        "한 칸에 다 작성하면 아래와 같이 된다"
      ]
    },
    {
      "cell_type": "code",
      "metadata": {
        "id": "T7Afrmn7X53E",
        "colab_type": "code",
        "outputId": "bb993752-3434-4195-b7aa-b1d79376d8d8",
        "colab": {
          "base_uri": "https://localhost:8080/",
          "height": 1000
        }
      },
      "source": [
        "import tensorflow as tf\n",
        "from tensorflow.examples.tutorials.mnist import input_data\n",
        "import numpy as np\n",
        "import pandas as pd\n",
        "\n",
        "# graph 초기화\n",
        "\n",
        "tf.reset_default_graph()\n",
        "\n",
        "# Class 만들기\n",
        "class CnnModel:\n",
        " \n",
        "    def __init__(self, session, data):\n",
        "        print(\"객체 생성\") \n",
        "        self.sess = session \n",
        "        self.mnist = data\n",
        "        self.build_graph()\n",
        " \n",
        "    # 그래프 그리는 기능\n",
        "    def build_graph(self):\n",
        "        print(\"그래프 그려\")\n",
        "\n",
        "        # placeholder\n",
        "        self.X = tf.placeholder(shape=[None,784], dtype=tf.float32)\n",
        "        self.Y = tf.placeholder(shape=[None,10], dtype=tf.float32)\n",
        "        self.drop_rate = tf.placeholder(dtype=tf.float32)\n",
        "        \n",
        "        # convolution layer\n",
        "        x_img = tf.reshape(self.X, [-1,28,28,1])\n",
        "        \n",
        "        L1 = tf.layers.conv2d(inputs=x_img, filters=32, kernel_size=[3,3], padding=\"SAME\", strides=1, activation=tf.nn.relu)\n",
        "        L1 = tf.layers.max_pooling2d(inputs=L1, pool_size=[2,2], padding=\"SAME\", strides=2)\n",
        "        L1 = tf.layers.dropout(inputs=L1, rate=self.drop_rate)\n",
        "        \n",
        "        L2 = tf.layers.conv2d(inputs=L1, filters=64, kernel_size=[3,3], padding=\"SAME\", strides=1, activation=tf.nn.relu)\n",
        "        L2 = tf.layers.max_pooling2d(inputs=L2, pool_size=[2,2], padding=\"SAME\", strides=2)\n",
        "        L2 = tf.layers.dropout(inputs=L2, rate=self.drop_rate)\n",
        "        \n",
        "        L2 = tf.reshape(L2, [-1, 7*7*64])\n",
        "        \n",
        "        dense1 = tf.layers.dense(inputs=L2, units=256, activation=tf.nn.relu)\n",
        "        dense1 = tf.layers.dropout(inputs=dense1, rate=self.drop_rate)\n",
        "        \n",
        "        dense2 = tf.layers.dense(inputs=dense1, units=128, activation=tf.nn.relu)\n",
        "        dense2 = tf.layers.dropout(inputs=dense2, rate=self.drop_rate)\n",
        "        \n",
        "        dense3 = tf.layers.dense(inputs=dense2, units=512, activation=tf.nn.relu)\n",
        "        dense3 = tf.layers.dropout(inputs=dense3, rate=self.drop_rate)\n",
        " \n",
        "        self.H = tf.layers.dense(inputs=dense3, units=10)\n",
        "\n",
        "        # cost     \n",
        "        self.cost = tf.losses.softmax_cross_entropy(self.Y, self.H) \n",
        "        \n",
        "        self.train = tf.train.AdamOptimizer(learning_rate=0.001).minimize(self.cost)\n",
        " \n",
        "    # 학습시키는 기능\n",
        "    def train_graph(self):\n",
        "        self.sess.run(tf.global_variables_initializer())\n",
        "        print(\"텐서플로우 그래프 학습\")\n",
        "        num_of_epoch = 30 \n",
        "        batch_size = 100\n",
        "        \n",
        "        for step in range(num_of_epoch):\n",
        "            num_of_iter = int(self.mnist.train.num_examples / batch_size)\n",
        "            cost_val = 0\n",
        "            for i in range(num_of_iter):\n",
        "                batch_x, batch_y = self.mnist.train.next_batch(batch_size)\n",
        "                _, cost_val = self.sess.run([self.train, self.cost], feed_dict = {self.X :batch_x,\n",
        "                                                                                  self.Y : batch_y,\n",
        "                                                                                  self.drop_rate : 0.4})\n",
        "            if step % 3 == 0:\n",
        "                print(\"cost : {}\".format(cost_val))\n",
        " \n",
        "    # H 실행시킨 값 구하기\n",
        "    def get_Hval(self):\n",
        "        print(\"입력한 값에 대한 H를 리턴해요!\")\n",
        "        # 테스트 데이터에 대한 예측값(H)을 구해서 리턴해요!\n",
        "        return self.sess.run(self.H, feed_dict={self.X : self.mnist.test.images,\n",
        "                                                self.drop_rate : 0})\n",
        "# 모델 객체 만들기\n",
        "mnist = input_data.read_data_sets(\"/content/drive/My Drive/data/mnist\", one_hot = True)\n",
        "sess = tf.Session()\n",
        "num_of_model = 10\n",
        "models = [CnnModel(sess, mnist) for x in range(num_of_model)]\n",
        "\n",
        "# 모델을 학습해보아요!\n",
        "for i in range(num_of_model):\n",
        "    models[i].train_graph()\n",
        "\n",
        "# test data 넣은 것에 대해 H값을 구해보아요!\n",
        "initial_predict = np.zeros([mnist.test.num_examples,10]) \n",
        "\n",
        "for i in range(num_of_model):\n",
        "    initial_predict = initial_predict + models[i].get_Hval()\n",
        "print(initial_predict)\n",
        "\n",
        "# H값에서 예측값 뽑아내기\n",
        "prediction = np.argmax(initial_predict, axis = 1)\n",
        "\n",
        "# 라벨값 확인하기\n",
        "actual = np.argmax(mnist.test.labels, axis = 1)\n",
        "\n",
        "# 정확도\n",
        "is_correct = np.equal(prediction, actual)\n",
        "accuracy = np.mean(is_correct.astype(np.float32))\n",
        "\n",
        "print(f\"정확도는 {accuracy * 100}%입니다.\")"
      ],
      "execution_count": 0,
      "outputs": [
        {
          "output_type": "stream",
          "text": [
            "Extracting /content/drive/My Drive/data/mnist/train-images-idx3-ubyte.gz\n",
            "Extracting /content/drive/My Drive/data/mnist/train-labels-idx1-ubyte.gz\n",
            "Extracting /content/drive/My Drive/data/mnist/t10k-images-idx3-ubyte.gz\n",
            "Extracting /content/drive/My Drive/data/mnist/t10k-labels-idx1-ubyte.gz\n",
            "객체 생성\n",
            "그래프 그려\n",
            "객체 생성\n",
            "그래프 그려\n",
            "객체 생성\n",
            "그래프 그려\n",
            "객체 생성\n",
            "그래프 그려\n",
            "객체 생성\n",
            "그래프 그려\n",
            "객체 생성\n",
            "그래프 그려\n",
            "객체 생성\n",
            "그래프 그려\n",
            "객체 생성\n",
            "그래프 그려\n",
            "객체 생성\n",
            "그래프 그려\n",
            "객체 생성\n",
            "그래프 그려\n",
            "텐서플로우 그래프 학습\n",
            "cost : 0.04145151749253273\n",
            "cost : 0.0312977060675621\n",
            "cost : 0.011897810734808445\n",
            "cost : 0.0004356267745606601\n",
            "cost : 0.004684537183493376\n",
            "cost : 0.0009076333953998983\n",
            "cost : 0.0017747249221429229\n",
            "cost : 0.0011817611521109939\n",
            "cost : 0.003257737960666418\n",
            "cost : 0.0006410174537450075\n",
            "텐서플로우 그래프 학습\n",
            "cost : 0.08781418949365616\n",
            "cost : 0.034552156925201416\n",
            "cost : 0.01623529940843582\n",
            "cost : 0.04752758890390396\n",
            "cost : 0.0005183284520171583\n",
            "cost : 3.9007500163279474e-05\n",
            "cost : 0.020704658702015877\n",
            "cost : 5.387692908698227e-06\n",
            "cost : 0.002130792010575533\n",
            "cost : 0.07279928028583527\n",
            "텐서플로우 그래프 학습\n",
            "cost : 0.07908494025468826\n",
            "cost : 0.014376560226082802\n",
            "cost : 0.0006860435241833329\n",
            "cost : 0.010772611014544964\n",
            "cost : 0.008691050112247467\n",
            "cost : 0.0003303125558886677\n",
            "cost : 0.00020417691848706454\n",
            "cost : 0.000186023156857118\n",
            "cost : 0.0007354696281254292\n",
            "cost : 1.927828270709142e-05\n",
            "텐서플로우 그래프 학습\n",
            "cost : 0.02362539991736412\n",
            "cost : 0.04760979115962982\n",
            "cost : 0.0020739054307341576\n",
            "cost : 0.00021827389718964696\n",
            "cost : 0.002557092346251011\n",
            "cost : 0.00017305089568253607\n",
            "cost : 2.6901083401753567e-05\n",
            "cost : 0.0015625747619196773\n",
            "cost : 5.584986865869723e-05\n",
            "cost : 0.016781456768512726\n",
            "텐서플로우 그래프 학습\n",
            "cost : 0.19001267850399017\n",
            "cost : 0.01245805248618126\n",
            "cost : 0.007689239457249641\n",
            "cost : 0.10535798221826553\n",
            "cost : 0.00010768588981591165\n",
            "cost : 0.017255622893571854\n",
            "cost : 0.0013794671976938844\n",
            "cost : 5.14064340677578e-05\n",
            "cost : 8.013156184460968e-05\n",
            "cost : 0.0014219239819794893\n",
            "텐서플로우 그래프 학습\n",
            "cost : 0.0787012130022049\n",
            "cost : 0.0007654213695786893\n",
            "cost : 0.0023044853005558252\n",
            "cost : 0.02822541445493698\n",
            "cost : 0.020048534497618675\n",
            "cost : 0.013189246878027916\n",
            "cost : 0.0017594551900401711\n",
            "cost : 0.0037770718336105347\n",
            "cost : 0.00047958362847566605\n",
            "cost : 1.6349533325410448e-05\n",
            "텐서플로우 그래프 학습\n",
            "cost : 0.042743802070617676\n",
            "cost : 0.03703776374459267\n",
            "cost : 0.013486312702298164\n",
            "cost : 0.03321642801165581\n",
            "cost : 0.0006323994020931423\n",
            "cost : 0.002806884702295065\n",
            "cost : 0.004487322177737951\n",
            "cost : 0.012641417793929577\n",
            "cost : 0.00016175171185750514\n",
            "cost : 5.225602762948256e-06\n",
            "텐서플로우 그래프 학습\n",
            "cost : 0.013109496794641018\n",
            "cost : 0.02408483251929283\n",
            "cost : 0.004923289641737938\n",
            "cost : 0.0091048339381814\n",
            "cost : 0.00028585951076820493\n",
            "cost : 0.00012570827675517648\n",
            "cost : 7.872599235270172e-05\n",
            "cost : 3.884344550897367e-05\n",
            "cost : 0.002504488453269005\n",
            "cost : 0.0004975628689862788\n",
            "텐서플로우 그래프 학습\n",
            "cost : 0.08507422357797623\n",
            "cost : 0.023459769785404205\n",
            "cost : 0.0034613755997270346\n",
            "cost : 0.006908082403242588\n",
            "cost : 0.0003927677171304822\n",
            "cost : 0.0003222212544642389\n",
            "cost : 0.01202591136097908\n",
            "cost : 9.689466969575733e-05\n",
            "cost : 0.001027537859044969\n",
            "cost : 8.918115054257214e-05\n",
            "텐서플로우 그래프 학습\n",
            "cost : 0.03130844607949257\n",
            "cost : 0.0074738929979503155\n",
            "cost : 0.0029669594950973988\n",
            "cost : 0.0007184954010881484\n",
            "cost : 0.010332218371331692\n",
            "cost : 0.004417330492287874\n",
            "cost : 6.1096201534383e-05\n",
            "cost : 0.0038622908759862185\n",
            "cost : 0.0006941617466509342\n",
            "cost : 0.00019977131159976125\n",
            "입력한 값에 대한 H를 리턴해요!\n",
            "입력한 값에 대한 H를 리턴해요!\n",
            "입력한 값에 대한 H를 리턴해요!\n",
            "입력한 값에 대한 H를 리턴해요!\n",
            "입력한 값에 대한 H를 리턴해요!\n",
            "입력한 값에 대한 H를 리턴해요!\n",
            "입력한 값에 대한 H를 리턴해요!\n",
            "입력한 값에 대한 H를 리턴해요!\n",
            "입력한 값에 대한 H를 리턴해요!\n",
            "입력한 값에 대한 H를 리턴해요!\n",
            "[[-31.89021869 -11.48790997  -7.17592104 ...  25.7550342  -16.59313558\n",
            "   -8.98768902]\n",
            " [-16.59673019 -16.03691208  32.87851466 ... -27.61895787 -26.56475036\n",
            "  -45.1876899 ]\n",
            " [-26.64434722  25.84713136 -16.44481092 ... -20.40706048  -9.47064773\n",
            "  -25.71879751]\n",
            " ...\n",
            " [-25.46442387 -11.89536177 -11.90965113 ... -16.81032482 -24.54249395\n",
            "  -11.19582013]\n",
            " [-16.75391489 -20.97231518 -30.61566669 ... -19.2005047   -9.10777335\n",
            "  -12.42009202]\n",
            " [-12.37229748 -19.57069276 -12.13862128 ... -36.67330647  -8.93066951\n",
            "  -20.93354535]]\n",
            "정확도는 99.08000230789185%입니다.\n"
          ],
          "name": "stdout"
        }
      ]
    },
    {
      "cell_type": "markdown",
      "metadata": {
        "id": "AniBwGQqlsgL",
        "colab_type": "text"
      },
      "source": [
        "###### 아래는 코드 짜면서 연습한 부분"
      ]
    },
    {
      "cell_type": "code",
      "metadata": {
        "id": "3RhI6aKMEhKv",
        "colab_type": "code",
        "outputId": "103c42e5-6f82-46f8-8d23-7688c258f3bd",
        "colab": {
          "base_uri": "https://localhost:8080/",
          "height": 179
        }
      },
      "source": [
        "# H값에서 예측값 뽑아내기\n",
        "# print(initial_predict)\n",
        "# print(initial_predict.shape)\n",
        "# print(type(initial_predict))\n",
        "prediction = np.argmax(initial_predict, axis = 1)\n",
        "print(prediction)\n",
        "\n",
        "actual = np.argmax(mnist.test.labels, axis = 1)\n",
        "print(actual)\n",
        "\n",
        "is_correct = np.equal(prediction, actual)\n",
        "print(is_correct)\n",
        "print(is_correct.astype(np.float32))\n",
        "print(np.mean(is_correct.astype(np.float32)))\n",
        "\n",
        "\n",
        "tf_prediction = sess.run(tf.argmax(initial_predict, axis = 1))\n",
        "print(tf_prediction)\n",
        "tf_actual = sess.run(tf.argmax(mnist.test.labels, axis = 1))\n",
        "print(tf_actual)\n",
        "tf_is_correct = sess.run(tf.equal(tf_prediction, tf_actual))\n",
        "print(tf_is_correct)\n",
        "tf_accuracy = sess.run(tf.reduce_mean(tf.cast(tf_is_correct, dtype = tf.float32)))\n",
        "print(tf_accuracy)"
      ],
      "execution_count": 0,
      "outputs": [
        {
          "output_type": "stream",
          "text": [
            "[7 2 1 ... 4 5 6]\n",
            "[7 2 1 ... 4 5 6]\n",
            "[ True  True  True ...  True  True  True]\n",
            "[1. 1. 1. ... 1. 1. 1.]\n",
            "0.9898\n",
            "[7 2 1 ... 4 5 6]\n",
            "[7 2 1 ... 4 5 6]\n",
            "[ True  True  True ...  True  True  True]\n",
            "0.9898\n"
          ],
          "name": "stdout"
        }
      ]
    }
  ]
}