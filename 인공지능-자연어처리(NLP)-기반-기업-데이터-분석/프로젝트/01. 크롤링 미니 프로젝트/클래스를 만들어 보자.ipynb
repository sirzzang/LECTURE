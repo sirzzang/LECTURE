{
 "cells": [
  {
   "cell_type": "markdown",
   "metadata": {},
   "source": [
    "https://www.flowdas.com/blog/iterators-in-python/index.html\n",
    "\n",
    "http://pythonstudy.xyz/python/article/23-Iterator%EC%99%80-Generator"
   ]
  },
  {
   "cell_type": "code",
   "execution_count": null,
   "metadata": {},
   "outputs": [],
   "source": [
    "import abc\n",
    "class AbstractCrawler(object):\n",
    "    \n",
    "    def __init__(self, url=None, default_headers= None, request_class=None, parser_class=None, config=None, **kwargs):\n",
    "        self.base_url = url\n",
    "    \n",
    "    def _crawl(self, param=None, headers=None):\n",
    "        url = self.make_url(self.base_url, param)\n",
    "        header = self.__make_headers(headers)\n",
    "        resp = request_class(url, header=header).get_data()\n",
    "        pass\n",
    "    \n",
    "    @abc.abstractmethod\n",
    "    def crawl(self, param, headers):\n",
    "        return self._crawl(param, headers)\n",
    "    \n",
    "    def __make_headers(self,headers):\n",
    "        return self.default_headers.update(headers)\n",
    "    \n",
    "    @abc.abstractmethod\n",
    "    def __make_url(self, base_url, params):\n",
    "        pass\n",
    "        \n",
    "    \n",
    "    @abc.abstractmethod\n",
    "    def run(self):\n",
    "        data = self.crawl()\n",
    "        self.save(data)\n",
    "        pass\n",
    "    \n",
    "    @abc.abstractmethod\n",
    "    def save(self):\n",
    "        # db handling\n",
    "        pass\n"
   ]
  },
  {
   "cell_type": "code",
   "execution_count": null,
   "metadata": {},
   "outputs": [],
   "source": []
  },
  {
   "cell_type": "code",
   "execution_count": null,
   "metadata": {},
   "outputs": [],
   "source": []
  },
  {
   "cell_type": "code",
   "execution_count": 90,
   "metadata": {},
   "outputs": [],
   "source": [
    "import datetime\n",
    "from datetime import timedelta"
   ]
  },
  {
   "cell_type": "code",
   "execution_count": 29,
   "metadata": {},
   "outputs": [],
   "source": [
    "# 날짜 다시 입력해야 할 때 에러 발생시키자.\n",
    "class NotAValidDateError(Exception):\n",
    "    def __init__(self):\n",
    "        super().__init__('마지막 검색 날짜를 다시 설정하십시오.')"
   ]
  },
  {
   "cell_type": "code",
   "execution_count": 108,
   "metadata": {},
   "outputs": [],
   "source": [
    "class DateRange:\n",
    "    def __init__(self, start_date, end_date):\n",
    "        self.start_date = datetime.datetime.strptime(str(start_date), \"%Y%m%d\")\n",
    "        self.end_date = datetime.datetime.strptime(str(end_date), \"%Y%m%d\") - timedelta(days=1)\n",
    "        \n",
    "        if self.start_date == self.end_date:\n",
    "            raise NotAValidDateError\n",
    "\n",
    "        self.size = (self.end_date - self.start_date).days\n",
    "        self.data = [self.start_date + timedelta(n) for n in range(self.size)]\n",
    "        \n",
    "    def __repr__(self):\n",
    "        return \"날짜 설정 : {0} ~ {1}\".format(self.start_date, self.end_date)\n",
    "    \n",
    "    def __iter__(self):\n",
    "        self.index = 0\n",
    "        return self\n",
    "    \n",
    "    def __next__(self):\n",
    "        if self.index >= self.size:\n",
    "            raise StopIteration\n",
    "\n",
    "        n = self.data[self.index]\n",
    "        self.index += 1\n",
    "        return n"
   ]
  },
  {
   "cell_type": "code",
   "execution_count": 109,
   "metadata": {},
   "outputs": [
    {
     "data": {
      "text/plain": [
       "날짜 설정 : 2020-06-01 00:00:00 ~ 2020-06-02 00:00:00"
      ]
     },
     "execution_count": 109,
     "metadata": {},
     "output_type": "execute_result"
    }
   ],
   "source": [
    "DateRange(20200601, 20200603)"
   ]
  },
  {
   "cell_type": "code",
   "execution_count": 110,
   "metadata": {},
   "outputs": [
    {
     "name": "stdout",
     "output_type": "stream",
     "text": [
      "2020-06-01 00:00:00\n",
      "2020-06-02 00:00:00\n",
      "2020-06-03 00:00:00\n",
      "2020-06-04 00:00:00\n",
      "2020-06-05 00:00:00\n",
      "2020-06-06 00:00:00\n",
      "2020-06-07 00:00:00\n",
      "2020-06-08 00:00:00\n",
      "2020-06-09 00:00:00\n",
      "2020-06-10 00:00:00\n",
      "2020-06-11 00:00:00\n",
      "2020-06-12 00:00:00\n",
      "2020-06-13 00:00:00\n",
      "2020-06-14 00:00:00\n",
      "2020-06-15 00:00:00\n",
      "2020-06-16 00:00:00\n",
      "2020-06-17 00:00:00\n",
      "2020-06-18 00:00:00\n"
     ]
    }
   ],
   "source": [
    "for d in DateRange(20200601, 20200620):\n",
    "    print(d)"
   ]
  },
  {
   "cell_type": "code",
   "execution_count": 111,
   "metadata": {},
   "outputs": [],
   "source": [
    "class myTweetCrawler(DateRange):\n",
    "    pass"
   ]
  },
  {
   "cell_type": "code",
   "execution_count": null,
   "metadata": {},
   "outputs": [],
   "source": []
  },
  {
   "cell_type": "code",
   "execution_count": null,
   "metadata": {},
   "outputs": [],
   "source": []
  },
  {
   "cell_type": "code",
   "execution_count": null,
   "metadata": {},
   "outputs": [],
   "source": []
  },
  {
   "cell_type": "code",
   "execution_count": null,
   "metadata": {},
   "outputs": [],
   "source": []
  },
  {
   "cell_type": "code",
   "execution_count": null,
   "metadata": {},
   "outputs": [],
   "source": []
  },
  {
   "cell_type": "code",
   "execution_count": null,
   "metadata": {},
   "outputs": [],
   "source": []
  },
  {
   "cell_type": "code",
   "execution_count": null,
   "metadata": {},
   "outputs": [],
   "source": []
  },
  {
   "cell_type": "code",
   "execution_count": null,
   "metadata": {},
   "outputs": [],
   "source": []
  },
  {
   "cell_type": "code",
   "execution_count": null,
   "metadata": {},
   "outputs": [],
   "source": []
  },
  {
   "cell_type": "code",
   "execution_count": null,
   "metadata": {},
   "outputs": [],
   "source": []
  },
  {
   "cell_type": "markdown",
   "metadata": {},
   "source": [
    "연습\n",
    "\n",
    "- 밑에 함수를 아예 크롤러에 넣는 게 낫나요?"
   ]
  },
  {
   "cell_type": "code",
   "execution_count": 80,
   "metadata": {},
   "outputs": [
    {
     "name": "stdout",
     "output_type": "stream",
     "text": [
      "2020-06-01 00:00:00\n",
      "2020-06-02 00:00:00\n",
      "2020-06-03 00:00:00\n",
      "2020-06-04 00:00:00\n",
      "2020-06-05 00:00:00\n",
      "2020-06-06 00:00:00\n",
      "2020-06-07 00:00:00\n",
      "2020-06-08 00:00:00\n",
      "2020-06-09 00:00:00\n"
     ]
    }
   ],
   "source": [
    "def daterange(start_date, end_date): # setUntil 마지막 날짜 안 포함.\n",
    "    start_date = datetime.datetime.strptime(str(start_date), \"%Y%m%d\")\n",
    "    end_date = datetime.datetime.strptime(str(end_date), \"%Y%m%d\")\n",
    "    \n",
    "    if end_date == start_date:\n",
    "        raise NotValidEndDateError\n",
    "    else:\n",
    "        for n in range(int((end_date - start_date).days)):\n",
    "            yield start_date + datetime.timedelta(n)\n",
    "\n",
    "gen = daterange(20200601, 20200610)\n",
    "for x in gen:\n",
    "    print(x)"
   ]
  }
 ],
 "metadata": {
  "kernelspec": {
   "display_name": "Python 3",
   "language": "python",
   "name": "python3"
  },
  "language_info": {
   "codemirror_mode": {
    "name": "ipython",
    "version": 3
   },
   "file_extension": ".py",
   "mimetype": "text/x-python",
   "name": "python",
   "nbconvert_exporter": "python",
   "pygments_lexer": "ipython3",
   "version": "3.7.7"
  }
 },
 "nbformat": 4,
 "nbformat_minor": 4
}
