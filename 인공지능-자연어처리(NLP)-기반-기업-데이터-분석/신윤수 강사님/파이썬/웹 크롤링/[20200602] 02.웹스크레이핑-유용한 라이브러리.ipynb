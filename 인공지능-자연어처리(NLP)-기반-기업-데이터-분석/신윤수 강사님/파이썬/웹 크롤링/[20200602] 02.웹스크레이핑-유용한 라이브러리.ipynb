{
 "cells": [
  {
   "cell_type": "markdown",
   "metadata": {},
   "source": [
    "파이썬에서 사용할 수 있는 기사 관련 라이브러리들을 알아보자!\n",
    "\n",
    "https://github.com/search?q=article+extractor"
   ]
  },
  {
   "cell_type": "markdown",
   "metadata": {},
   "source": [
    "# newspaper3k"
   ]
  },
  {
   "cell_type": "markdown",
   "metadata": {},
   "source": [
    ">*참고*\n",
    ">\n",
    "> 뉴스 본문만 긁어오고 싶은데, 본문을 지정하는 tag가 언론사마다 다르다. 정리해 둔 라이브러리가 있나?\n",
    "> 내가 스포츠 뉴스 긁어오면서 궁금했던 부분이기도 하다!!\n"
   ]
  },
  {
   "cell_type": "markdown",
   "metadata": {},
   "source": [
    "https://newspaper.readthedocs.io/en/latest/"
   ]
  },
  {
   "cell_type": "code",
   "execution_count": 1,
   "metadata": {},
   "outputs": [],
   "source": [
    "# pip 설치\n",
    "!pip install newspaper3k"
   ]
  },
  {
   "cell_type": "code",
   "execution_count": 5,
   "metadata": {},
   "outputs": [],
   "source": [
    "from newspaper import Article\n",
    "\n",
    "url = 'https://news.joins.com/article/23791214'\n",
    "article = Article(url)"
   ]
  },
  {
   "cell_type": "code",
   "execution_count": 6,
   "metadata": {},
   "outputs": [],
   "source": [
    "# newspaper 라이브러리 내부에서 request를 보내는 것.\n",
    "article.download() "
   ]
  },
  {
   "cell_type": "code",
   "execution_count": 7,
   "metadata": {},
   "outputs": [],
   "source": [
    "# newspaper 라이브러리 내부에서 bs4 사용해 parse\n",
    "article.parse()"
   ]
  },
  {
   "cell_type": "code",
   "execution_count": 8,
   "metadata": {},
   "outputs": [
    {
     "data": {
      "text/plain": [
       "<newspaper.article.Article at 0x24554dfaa08>"
      ]
     },
     "execution_count": 8,
     "metadata": {},
     "output_type": "execute_result"
    }
   ],
   "source": [
    "article # article 객체"
   ]
  },
  {
   "cell_type": "code",
   "execution_count": 9,
   "metadata": {},
   "outputs": [
    {
     "data": {
      "text/plain": [
       "[]"
      ]
     },
     "execution_count": 9,
     "metadata": {},
     "output_type": "execute_result"
    }
   ],
   "source": [
    "article.authors # 라이브러리에서 캐치하지 못함."
   ]
  },
  {
   "cell_type": "code",
   "execution_count": 10,
   "metadata": {},
   "outputs": [
    {
     "data": {
      "text/plain": [
       "'미국의 홍콩 특별지위 폐지와 맞물려 불안감 증폭\\n\\n중국 정부가 미국산 콩과 돼지고기 수입을 중단하라고 자국 곡물회사들에 지시했다.블룸버그와 로이터 통신 등은 1일 중국 정부의 관계자 말을 빌려 베이징이 자국 최대 곡물 회사인 중량(中糧)그룹(COFCO)과중국비축양곡관리공사(Sinograin) 등에 미국산 콩·목화·돼지고기 등 농축산물 수입을 중단하라고 지시했다고 보도했다.블룸버그는 “코스포와시노그래인 등 국영 농산물 업체가 수입을 타진하던 미국산 대두 작업을 중단했고 이미 체결한 미국산 돼지고기 수입계약도 취소한 것으로 알려졌다”고 전했다. 다만 사기업은 이러한 정부 지침에 직접 영향받지 않는다.중국은 올 1월 미국과 맺은 1단계 무역합의에서 앞으로 2년 동안 농산물을 비롯한 미국산 제품을 무역전쟁 발발 이전인 2017년 기준으로 2000억 달러를 추가 구매하기로 했다.이 가운데 중국이 올해 사들여야 할 미국산 농산물은 364억 달러다. 그러나 코로나19 사태로 올해 1분기 중국이 구매한 농산물은 오히려 지난해보다 줄어든 33억5000만 달러에 지나지 않는다. 블룸버그는 “중국의 수입중단이 무역협상 1단계 합의가 위태로운 상황임을 보여주는 시그널”이라고 했다.강남규 기자 dismal@joongang.co,kr'"
      ]
     },
     "execution_count": 10,
     "metadata": {},
     "output_type": "execute_result"
    }
   ],
   "source": [
    "article.text # 깔끔!"
   ]
  },
  {
   "cell_type": "code",
   "execution_count": 11,
   "metadata": {},
   "outputs": [
    {
     "data": {
      "text/plain": [
       "'중, 미국산 농산물 수입 중단...또 다시 무역전쟁?'"
      ]
     },
     "execution_count": 11,
     "metadata": {},
     "output_type": "execute_result"
    }
   ],
   "source": [
    "article.title # 깔끔!"
   ]
  },
  {
   "cell_type": "markdown",
   "metadata": {},
   "source": [
    " 사이트마다 권장하는 태그가 있지만, 다 지키지는 않음. 이 라이브러리는 소거법. 필요 없는 태그 제거. navigation 있는 태그 제거. footer 제거. 구글 광고 등 패턴이 있는데, 그런 패턴이 있는 것도 제거."
   ]
  },
  {
   "cell_type": "markdown",
   "metadata": {},
   "source": [
    " download 함수에서 verify 함수에 인자를 전달하지 않는다."
   ]
  },
  {
   "cell_type": "code",
   "execution_count": 14,
   "metadata": {
    "scrolled": false
   },
   "outputs": [
    {
     "ename": "ArticleException",
     "evalue": "Article `download()` failed with HTTPSConnectionPool(host='www.fnnews.com', port=443): Max retries exceeded with url: /news/202006020820186253 (Caused by SSLError(SSLError(\"bad handshake: Error([('SSL routines', 'tls_process_server_certificate', 'certificate verify failed')])\"))) on URL https://www.fnnews.com/news/202006020820186253",
     "output_type": "error",
     "traceback": [
      "\u001b[1;31m---------------------------------------------------------------------------\u001b[0m",
      "\u001b[1;31mArticleException\u001b[0m                          Traceback (most recent call last)",
      "\u001b[1;32m<ipython-input-14-64d6750a3e43>\u001b[0m in \u001b[0;36m<module>\u001b[1;34m\u001b[0m\n\u001b[0;32m      5\u001b[0m \u001b[0merror_article\u001b[0m \u001b[1;33m=\u001b[0m \u001b[0mArticle\u001b[0m\u001b[1;33m(\u001b[0m\u001b[0merror_url\u001b[0m\u001b[1;33m)\u001b[0m\u001b[1;33m\u001b[0m\u001b[1;33m\u001b[0m\u001b[0m\n\u001b[0;32m      6\u001b[0m \u001b[0merror_article\u001b[0m\u001b[1;33m.\u001b[0m\u001b[0mdownload\u001b[0m\u001b[1;33m(\u001b[0m\u001b[1;33m)\u001b[0m\u001b[1;33m\u001b[0m\u001b[1;33m\u001b[0m\u001b[0m\n\u001b[1;32m----> 7\u001b[1;33m \u001b[0merror_article\u001b[0m\u001b[1;33m.\u001b[0m\u001b[0mparse\u001b[0m\u001b[1;33m(\u001b[0m\u001b[1;33m)\u001b[0m\u001b[1;33m\u001b[0m\u001b[1;33m\u001b[0m\u001b[0m\n\u001b[0m",
      "\u001b[1;32m~\\.conda\\envs\\multi_sir950123\\lib\\site-packages\\newspaper\\article.py\u001b[0m in \u001b[0;36mparse\u001b[1;34m(self)\u001b[0m\n\u001b[0;32m    189\u001b[0m \u001b[1;33m\u001b[0m\u001b[0m\n\u001b[0;32m    190\u001b[0m     \u001b[1;32mdef\u001b[0m \u001b[0mparse\u001b[0m\u001b[1;33m(\u001b[0m\u001b[0mself\u001b[0m\u001b[1;33m)\u001b[0m\u001b[1;33m:\u001b[0m\u001b[1;33m\u001b[0m\u001b[1;33m\u001b[0m\u001b[0m\n\u001b[1;32m--> 191\u001b[1;33m         \u001b[0mself\u001b[0m\u001b[1;33m.\u001b[0m\u001b[0mthrow_if_not_downloaded_verbose\u001b[0m\u001b[1;33m(\u001b[0m\u001b[1;33m)\u001b[0m\u001b[1;33m\u001b[0m\u001b[1;33m\u001b[0m\u001b[0m\n\u001b[0m\u001b[0;32m    192\u001b[0m \u001b[1;33m\u001b[0m\u001b[0m\n\u001b[0;32m    193\u001b[0m         \u001b[0mself\u001b[0m\u001b[1;33m.\u001b[0m\u001b[0mdoc\u001b[0m \u001b[1;33m=\u001b[0m \u001b[0mself\u001b[0m\u001b[1;33m.\u001b[0m\u001b[0mconfig\u001b[0m\u001b[1;33m.\u001b[0m\u001b[0mget_parser\u001b[0m\u001b[1;33m(\u001b[0m\u001b[1;33m)\u001b[0m\u001b[1;33m.\u001b[0m\u001b[0mfromstring\u001b[0m\u001b[1;33m(\u001b[0m\u001b[0mself\u001b[0m\u001b[1;33m.\u001b[0m\u001b[0mhtml\u001b[0m\u001b[1;33m)\u001b[0m\u001b[1;33m\u001b[0m\u001b[1;33m\u001b[0m\u001b[0m\n",
      "\u001b[1;32m~\\.conda\\envs\\multi_sir950123\\lib\\site-packages\\newspaper\\article.py\u001b[0m in \u001b[0;36mthrow_if_not_downloaded_verbose\u001b[1;34m(self)\u001b[0m\n\u001b[0;32m    530\u001b[0m         \u001b[1;32melif\u001b[0m \u001b[0mself\u001b[0m\u001b[1;33m.\u001b[0m\u001b[0mdownload_state\u001b[0m \u001b[1;33m==\u001b[0m \u001b[0mArticleDownloadState\u001b[0m\u001b[1;33m.\u001b[0m\u001b[0mFAILED_RESPONSE\u001b[0m\u001b[1;33m:\u001b[0m\u001b[1;33m\u001b[0m\u001b[1;33m\u001b[0m\u001b[0m\n\u001b[0;32m    531\u001b[0m             raise ArticleException('Article `download()` failed with %s on URL %s' %\n\u001b[1;32m--> 532\u001b[1;33m                   (self.download_exception_msg, self.url))\n\u001b[0m\u001b[0;32m    533\u001b[0m \u001b[1;33m\u001b[0m\u001b[0m\n\u001b[0;32m    534\u001b[0m     \u001b[1;32mdef\u001b[0m \u001b[0mthrow_if_not_parsed_verbose\u001b[0m\u001b[1;33m(\u001b[0m\u001b[0mself\u001b[0m\u001b[1;33m)\u001b[0m\u001b[1;33m:\u001b[0m\u001b[1;33m\u001b[0m\u001b[1;33m\u001b[0m\u001b[0m\n",
      "\u001b[1;31mArticleException\u001b[0m: Article `download()` failed with HTTPSConnectionPool(host='www.fnnews.com', port=443): Max retries exceeded with url: /news/202006020820186253 (Caused by SSLError(SSLError(\"bad handshake: Error([('SSL routines', 'tls_process_server_certificate', 'certificate verify failed')])\"))) on URL https://www.fnnews.com/news/202006020820186253"
     ]
    }
   ],
   "source": [
    "# Error 경우\n",
    "\n",
    "error_url = 'https://www.fnnews.com/news/202006020820186253'\n",
    "\n",
    "error_article = Article(error_url)\n",
    "error_article.download() # 아무 것도 저장되지 않는데,\n",
    "error_article.parse() # parse를 하려니까 오류가 난다."
   ]
  },
  {
   "cell_type": "code",
   "execution_count": 20,
   "metadata": {},
   "outputs": [
    {
     "name": "stderr",
     "output_type": "stream",
     "text": [
      "C:\\Users\\student\\.conda\\envs\\multi_sir950123\\lib\\site-packages\\urllib3\\connectionpool.py:986: InsecureRequestWarning: Unverified HTTPS request is being made to host 'www.fnnews.com'. Adding certificate verification is strongly advised. See: https://urllib3.readthedocs.io/en/latest/advanced-usage.html#ssl-warnings\n",
      "  InsecureRequestWarning,\n"
     ]
    },
    {
     "data": {
      "text/plain": [
       "<newspaper.article.Article at 0x24554dfaa08>"
      ]
     },
     "execution_count": 20,
     "metadata": {},
     "output_type": "execute_result"
    }
   ],
   "source": [
    "# 도전해 보면?\n",
    "\n",
    "import requests\n",
    "\n",
    "resp = requests.get(error_url, verify=False)\n",
    "article.set_text(resp.text)\n",
    "article.parse()\n",
    "article"
   ]
  },
  {
   "cell_type": "markdown",
   "metadata": {},
   "source": [
    "*해결?!*\n",
    "\n",
    "1. article에 있는 내용을 숙지해서 개발한다.\n",
    "2. clone해서 download 부분만 바꾼다!\n",
    "    - `request` 날리는 부분만 찾고,\n",
    "    - `verify=False`.\n",
    "3. 오픈소스니까, 바꿨다고 올려보기도 한다."
   ]
  },
  {
   "cell_type": "code",
   "execution_count": null,
   "metadata": {},
   "outputs": [],
   "source": []
  },
  {
   "cell_type": "code",
   "execution_count": null,
   "metadata": {},
   "outputs": [],
   "source": []
  }
 ],
 "metadata": {
  "kernelspec": {
   "display_name": "Python 3",
   "language": "python",
   "name": "python3"
  },
  "language_info": {
   "codemirror_mode": {
    "name": "ipython",
    "version": 3
   },
   "file_extension": ".py",
   "mimetype": "text/x-python",
   "name": "python",
   "nbconvert_exporter": "python",
   "pygments_lexer": "ipython3",
   "version": "3.7.7"
  }
 },
 "nbformat": 4,
 "nbformat_minor": 4
}
