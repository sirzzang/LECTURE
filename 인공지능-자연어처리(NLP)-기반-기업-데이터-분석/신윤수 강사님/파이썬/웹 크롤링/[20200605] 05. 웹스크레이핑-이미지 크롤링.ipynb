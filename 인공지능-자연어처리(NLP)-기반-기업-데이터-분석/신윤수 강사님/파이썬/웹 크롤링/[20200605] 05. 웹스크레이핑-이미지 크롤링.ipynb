{
 "cells": [
  {
   "cell_type": "markdown",
   "metadata": {},
   "source": [
    "[복습]\n",
    "\n",
    " 1. Selenium 크롬 브라우저 사용했었다.\n",
    " \n",
    " 2. 화면에 안 뜨게 할 수도 있고, GUI 아닌 브라우저도 있음. \n",
    "\n",
    " 3. 데이터\n",
    "\n",
    "     - 텍스트가 아닌 것들은 모두 binary라고 보자.\n",
    "     - 대표적으로 이미지, 영상 등. \n",
    " \n",
    " \n",
    "\n",
    " 4. 로그인 데이터\n",
    " \n",
    "     - 셀레늄만 가능한 건 아니다.\n",
    "     - 로그인도 request와 response이기 때문에, request 시 받는 인증 토큰을 네트워크 반응 분석해서 요청 보내주면 된다."
   ]
  },
  {
   "cell_type": "markdown",
   "metadata": {},
   "source": [
    "# 이미지 크롤링\n",
    "\n",
    " 웹 상의 이미지도 결국은 데이터. \n",
    " \n",
    "## 이미지 저장 방법\n",
    "\n",
    "1. 개념적 저장 : 해당 이미지의 URL 저장 \n",
    "    - 실제 파일 저장 X\n",
    "    - URL 저장\n",
    "    \n",
    "    \n",
    "2. 물리적 저장 : 이미지 실제 파일을 저장. \n",
    "    - 실제 이미지를 내 컴퓨터에 저장하고,\n",
    "    - 저장된 이미지의 경로(파일 경로)를 저장한다.\n",
    "\n",
    "> 1번 방법의 경우, 서버에서 삭제되거나 rename될 경우 접근되지 않는 문제가 생긴다. xbox처럼 이미지가 도출되지 않을 수도 있다.\n",
    "> 따라서 파일 입출력을 사용한다.\n",
    "> 쓰기 모드로 파일을 열고, binary 모드로 쓴 후 파일을 닫는다."
   ]
  },
  {
   "cell_type": "markdown",
   "metadata": {},
   "source": [
    "### 개념적 저장 예시"
   ]
  },
  {
   "cell_type": "code",
   "execution_count": 1,
   "metadata": {},
   "outputs": [],
   "source": [
    "import requests"
   ]
  },
  {
   "cell_type": "code",
   "execution_count": 14,
   "metadata": {},
   "outputs": [
    {
     "data": {
      "text/plain": [
       "<Response [200]>"
      ]
     },
     "execution_count": 14,
     "metadata": {},
     "output_type": "execute_result"
    }
   ],
   "source": [
    "url = \"https://search.pstatic.net/common?type=o&size=150x112&quality=95&direct=true&src=http%3A%2F%2Fsstatic.naver.net%2Fkeypage%2Fimage%2Fdss%2F146%2F48%2F40%2F78%2F146_2484078_team_image_url_1484014683897.jpg\"\n",
    "req = requests.get(url)\n",
    "req"
   ]
  },
  {
   "cell_type": "code",
   "execution_count": 18,
   "metadata": {},
   "outputs": [
    {
     "data": {
      "text/plain": [
       "b'\\xff\\xd8\\xff\\xe0\\x00\\x10JFIF\\x00\\x01\\x01\\x00\\x00\\x01\\x00\\x01\\x00\\x00\\xff\\xdb\\x00C\\x00\\x02\\x01\\x01\\x01\\x01\\x01\\x02\\x01\\x01\\x01\\x02\\x02\\x02\\x02\\x02\\x04\\x03\\x02\\x02\\x02\\x02\\x05\\x04\\x04\\x03\\x04\\x06\\x05\\x06\\x06\\x06\\x05\\x06\\x06\\x06\\x07\\t\\x08\\x06\\x07\\t\\x07\\x06\\x06\\x08\\x0b\\x08\\t\\n\\n\\n\\n\\n\\x06\\x08\\x0b\\x0c\\x0b\\n\\x0c\\t\\n\\n\\n\\xff\\xdb\\x00C\\x01\\x02\\x02\\x02\\x02\\x02\\x02'"
      ]
     },
     "execution_count": 18,
     "metadata": {},
     "output_type": "execute_result"
    }
   ],
   "source": [
    "# 이미지 데이터 텍스트로 확인하면 binary 형태로 보임.\n",
    "req.content[:100]"
   ]
  },
  {
   "cell_type": "markdown",
   "metadata": {},
   "source": [
    "### 물리적 저장 예시\n",
    "\n",
    " 위에서 보낸 request를 바탕으로 저장한다."
   ]
  },
  {
   "cell_type": "code",
   "execution_count": 19,
   "metadata": {},
   "outputs": [],
   "source": [
    "img_name = 'kia_tigers_logo'\n",
    "\n",
    "# 파일 열고, 바이너리 모드로 쓰기.\n",
    "with open(f\"./{img_name}\", 'wb') as f:\n",
    "    f.write(req.content)"
   ]
  },
  {
   "cell_type": "markdown",
   "metadata": {},
   "source": []
  },
  {
   "cell_type": "markdown",
   "metadata": {},
   "source": [
    "# ----------------- 20200605 수업 -----------------"
   ]
  },
  {
   "cell_type": "code",
   "execution_count": 35,
   "metadata": {},
   "outputs": [],
   "source": [
    "# module import\n",
    "import requests\n",
    "from bs4 import BeautifulSoup\n",
    "import os\n",
    "from urllib.parse import parse_qs, urlparse"
   ]
  },
  {
   "cell_type": "markdown",
   "metadata": {},
   "source": [
    "**os 모듈** : 운영체제 관리."
   ]
  },
  {
   "cell_type": "code",
   "execution_count": null,
   "metadata": {},
   "outputs": [],
   "source": []
  },
  {
   "cell_type": "code",
   "execution_count": null,
   "metadata": {},
   "outputs": [],
   "source": []
  },
  {
   "cell_type": "markdown",
   "metadata": {},
   "source": [
    "# 네이버 뉴스 크롤링(with image)\n",
    "\n",
    "> 네이버 뉴스를 이미지 경로, description 함께 저장하자."
   ]
  },
  {
   "cell_type": "code",
   "execution_count": null,
   "metadata": {},
   "outputs": [],
   "source": []
  },
  {
   "cell_type": "code",
   "execution_count": 20,
   "metadata": {},
   "outputs": [
    {
     "data": {
      "text/plain": [
       "<Response [200]>"
      ]
     },
     "execution_count": 20,
     "metadata": {},
     "output_type": "execute_result"
    }
   ],
   "source": [
    "# url 설정\n",
    "base_url = \"https://search.naver.com/search.naver\"\n",
    "params = {\n",
    "    'where': 'news',\n",
    "    'query': '환율전쟁'\n",
    "}\n",
    "\n",
    "# 요청 전송\n",
    "req = requests.get(base_url, params)\n",
    "req"
   ]
  },
  {
   "cell_type": "code",
   "execution_count": 28,
   "metadata": {},
   "outputs": [],
   "source": [
    "# 뉴스 관련 정보와 이미지 url을 저장하자.\n",
    "\n",
    "soup = BeautifulSoup(req.text)\n",
    "\n",
    "news_list = soup.select('ul.type01 > li')\n",
    "\n",
    "# 제목, 이미지 소스, url 저장\n",
    "news_results = []\n",
    "for news in news_list:\n",
    "    a_tag = news.find('a', class_='_sp_each_title')\n",
    "    \n",
    "    title = a_tag.get_text(strip=True)\n",
    "    url = a_tag.get('href')\n",
    "        \n",
    "    news_dict = {\n",
    "        'title': title,\n",
    "        'url': url\n",
    "    }\n",
    "    \n",
    "    image_wrap = news.find('div', class_='thumb')    \n",
    "    if image_wrap: # 이미지 있으면\n",
    "        news_dict['img'] = image_wrap.find('img').get('src')\n",
    "    \n",
    "    news_results.append(news_dict)"
   ]
  },
  {
   "cell_type": "code",
   "execution_count": 29,
   "metadata": {
    "scrolled": false
   },
   "outputs": [
    {
     "data": {
      "text/plain": [
       "[{'title': '미·중 갈등 확산…환율전쟁조짐까지',\n",
       "  'url': 'http://news.kbs.co.kr/news/view.do?ncd=4455353&ref=A',\n",
       "  'img': 'https://search.pstatic.net/common/?src=https%3A%2F%2Fimgnews.pstatic.net%2Fimage%2Forigin%2F056%2F2020%2F05%2F26%2F10841598.jpg&type=ofullfill80_80_q75_re2'},\n",
       " {'title': '코로나발 ‘쩐의 전쟁’…환율전쟁더 복잡하게 전개된다',\n",
       "  'url': 'https://news.naver.com/main/read.nhn?mode=LSD&mid=sec&sid1=101&oid=050&aid=0000053885',\n",
       "  'img': 'https://search.pstatic.net/common/?src=https%3A%2F%2Fimgnews.pstatic.net%2Fimage%2Forigin%2F050%2F2020%2F06%2F03%2F53885.jpg&type=ofullfill80_80_q75_re2'},\n",
       " {'title': \"미·중환율전쟁에 홍콩보안법까지…산업계 '전전긍긍'\",\n",
       "  'url': 'http://yna.kr/AKR20200527090300003?did=1195m',\n",
       "  'img': 'https://search.pstatic.net/common/?src=https%3A%2F%2Fimgnews.pstatic.net%2Fimage%2Forigin%2F001%2F2020%2F05%2F27%2F11637257.jpg&type=ofullfill80_80_q75_re2'},\n",
       " {'title': '中, 이틀 연속 위안화 절하…환율‘힘겨루기’ 본격화',\n",
       "  'url': 'https://cnbc.sbs.co.kr/article_hub/10000984244?division=NAVER',\n",
       "  'img': 'https://search.pstatic.net/common/?src=https%3A%2F%2Fimgnews.pstatic.net%2Fimage%2Forigin%2F374%2F2020%2F05%2F27%2F212366.jpg&type=ofullfill80_80_q75_re2'},\n",
       " {'title': '환율이슈로 번지는 美中 갈등',\n",
       "  'url': 'https://www.donga.com/news/article/all/20200525/101210335/1',\n",
       "  'img': 'https://search.pstatic.net/common/?src=https%3A%2F%2Fimgnews.pstatic.net%2Fimage%2Forigin%2F020%2F2020%2F05%2F26%2F3288113.jpg&type=ofullfill80_80_q75_re2'},\n",
       " {'title': \"[신냉전환율전쟁] 은행 외화예금 422억 달러, '사상 최고치'\",\n",
       "  'url': 'http://www.newspim.com/news/view/20200602000869',\n",
       "  'img': 'https://search.pstatic.net/common/?src=https%3A%2F%2Fimgnews.pstatic.net%2Fimage%2Forigin%2F5002%2F2020%2F06%2F03%2F1547007.jpg&type=ofullfill80_80_q75_re2'},\n",
       " {'title': \"[美中 넛크래커 韓] 재계,환율힘겨루기 '촉각'…수출전선 먹구름\",\n",
       "  'url': 'http://www.inews24.com/view/1269495',\n",
       "  'img': 'https://search.pstatic.net/common/?src=https%3A%2F%2Fimgnews.pstatic.net%2Fimage%2Forigin%2F031%2F2020%2F06%2F02%2F541005.jpg&type=ofullfill80_80_q75_re2'},\n",
       " {'title': '위안화 0.38% 절하...미중환율전쟁조짐',\n",
       "  'url': 'https://www.sedaily.com/NewsView/1Z2W1B4KJJ',\n",
       "  'img': 'https://search.pstatic.net/common/?src=https%3A%2F%2Fimgnews.pstatic.net%2Fimage%2Forigin%2F011%2F2020%2F05%2F25%2F3742561.jpg&type=ofullfill80_80_q75_re2'},\n",
       " {'title': '[신냉전환율전쟁] 强달러·弱위안에 투자자 베팅…은행은 \"분할매수 추천\"',\n",
       "  'url': 'http://www.newspim.com/news/view/20200601000845',\n",
       "  'img': 'https://search.pstatic.net/common/?src=https%3A%2F%2Fimgnews.pstatic.net%2Fimage%2Forigin%2F5002%2F2020%2F06%2F03%2F1547017.jpg&type=ofullfill80_80_q75_re2'},\n",
       " {'title': \"홍콩보안법에 위안화 추락…'무역합의 봉합'환율전쟁재점화\",\n",
       "  'url': 'http://yna.kr/AKR20200528107500089?did=1195m',\n",
       "  'img': 'https://search.pstatic.net/common/?src=https%3A%2F%2Fimgnews.pstatic.net%2Fimage%2Forigin%2F001%2F2020%2F05%2F28%2F11641183.jpg&type=ofullfill80_80_q75_re2'}]"
      ]
     },
     "execution_count": 29,
     "metadata": {},
     "output_type": "execute_result"
    }
   ],
   "source": [
    "news_results"
   ]
  },
  {
   "cell_type": "markdown",
   "metadata": {},
   "source": [
    " 위에서 이미지 url을 저장했다.\n",
    " \n",
    " **url 저장**\n",
    "\n",
    "- 비용은 많이 들지 않는다.\n",
    "- 데이터 일관성이 떨어지고, 바뀔 수 있다.\n",
    "\n",
    "**binary 저장**\n",
    " \n",
    " 아래와 같이 코드를 수정해 보자.\n",
    "     "
   ]
  },
  {
   "cell_type": "markdown",
   "metadata": {},
   "source": [
    "### 1) binary 데이터 저장\n",
    "\n",
    " 바이너리 데이터로 이미지를 저장한다. 이 상태로 DB에 저장하기도 한다. 바이트 데이터 언제든 뽑아 와서 렌더링할 수 있다."
   ]
  },
  {
   "cell_type": "code",
   "execution_count": 30,
   "metadata": {},
   "outputs": [],
   "source": [
    "for result in news_results:\n",
    "    image_url = result['img']\n",
    "    \n",
    "    if image_url: # 이미지 url이 있으면,\n",
    "        req = requests.get(image_url)\n",
    "        result['img_content'] = req.content"
   ]
  },
  {
   "cell_type": "code",
   "execution_count": 33,
   "metadata": {},
   "outputs": [
    {
     "data": {
      "text/plain": [
       "{'title': '미·중 갈등 확산…환율전쟁조짐까지',\n",
       " 'url': 'http://news.kbs.co.kr/news/view.do?ncd=4455353&ref=A',\n",
       " 'img': 'https://search.pstatic.net/common/?src=https%3A%2F%2Fimgnews.pstatic.net%2Fimage%2Forigin%2F056%2F2020%2F05%2F26%2F10841598.jpg&type=ofullfill80_80_q75_re2',\n",
       " 'img_content': b'\\xff\\xd8\\xff\\xe0\\x00\\x10JFIF\\x00\\x01\\x01\\x00\\x00\\x01\\x00\\x01\\x00\\x00\\xff\\xdb\\x00C\\x00\\x08\\x06\\x06\\x07\\x06\\x05\\x08\\x07\\x07\\x07\\t\\t\\x08\\n\\x0c\\x14\\r\\x0c\\x0b\\x0b\\x0c\\x19\\x12\\x13\\x0f\\x14\\x1d\\x1a\\x1f\\x1e\\x1d\\x1a\\x1c\\x1c $.\\' \",#\\x1c\\x1c(7),01444\\x1f\\'9=82<.342\\xff\\xdb\\x00C\\x01\\t\\t\\t\\x0c\\x0b\\x0c\\x18\\r\\r\\x182!\\x1c!22222222222222222222222222222222222222222222222222\\xff\\xc0\\x00\\x11\\x08\\x00P\\x00P\\x03\\x01!\\x00\\x02\\x11\\x01\\x03\\x11\\x01\\xff\\xc4\\x00\\x1b\\x00\\x01\\x00\\x03\\x00\\x03\\x01\\x00\\x00\\x00\\x00\\x00\\x00\\x00\\x00\\x00\\x00\\x00\\x03\\x04\\x05\\x01\\x02\\x06\\x07\\xff\\xc4\\x009\\x10\\x00\\x02\\x01\\x03\\x02\\x05\\x02\\x03\\x04\\x07\\t\\x00\\x00\\x00\\x00\\x00\\x01\\x02\\x03\\x00\\x04\\x11\\x05!\\x06\\x12\\x131AQa\\x14\\x81\\x91\\x15\"q\\xc1\\x07\\x1634B\\xa1\\xb2$\\x82\\x92\\x93\\xa2\\xb1\\xd1\\xf0\\xf1\\xff\\xc4\\x00\\x19\\x01\\x01\\x00\\x03\\x01\\x01\\x00\\x00\\x00\\x00\\x00\\x00\\x00\\x00\\x00\\x00\\x00\\x00\\x02\\x03\\x04\\x01\\x05\\xff\\xc4\\x00$\\x11\\x00\\x02\\x02\\x02\\x02\\x01\\x03\\x05\\x00\\x00\\x00\\x00\\x00\\x00\\x00\\x00\\x00\\x01\\x02\\x11\\x03!\\x121A\\x04\\x13a\\x14\"2q\\xa1\\xff\\xda\\x00\\x0c\\x03\\x01\\x00\\x02\\x11\\x03\\x11\\x00?\\x00\\xfb\\xfd(\\x05(\\x05(\\x05(\\x05(\\x05(\\x05(\\x05(\\x05(\\x05(\\x0f\\x8bK\\xafjq\\x8ec\\xaa_\\x0f\\x00\\x9b\\x96\\x00\\x9f\\xadAq\\xc4Z\\xd4:y\\x95o\\xf5)J\\x8c\\xe4\\xce\\xca{\\xfa\\x03\\x9d\\xaa0v\\xcfAb\\x8b\\xab\\xa36]s^\\x9e5\\x92\\x1e!\\xd4ZB3\\x84\\x9d\\xc2\\x0fn\\xf55\\xa7\\x12k\\x93[\\xc5/\\xda\\xd7\\xad:l\\xean_\\x0c3\\x93\\xb0;\\x9cT\\xcdO\\x0e>?\\x8a\\xb4nE\\xaf\\xea\\x8f\\x0e\\x17V\\xbaA2\\x82\\x923\\xb1(N;\\x83S\\xdc\\xea\\xfa\\xd4\\x08K\\xeaR\\xa8;e\\xa5n\\xe7\\xb7\\x91\\\\2p\\x85\\xed\\x15N\\xb3\\xabF\\xca\\xcb\\xa8\\xdd\\xb4\\x8c@$]\\xb9\\x03\\xd7\\xee\\x93\\x8a\\x9e> \\xd5\\x16<\\xdc_\\\\\\xae\\x06r\\xd2\\xb2\\xe0{\\x90H\\xa8\\xa7m\\xfc\\x08\\xe3\\x8c\\x96\\x8a\\xd7\\x1cQ\\x7f$\\x80[j\\xd2`.\\xdf\\xda\\x8eX\\xef\\xb7\\x7f\\xc3\\x7f\\xe5\\\\\\xa6\\xb5\\xab\\x99]d\\xbc\\xbfT\\xc6\\xcf\\xf1/\\xbe\\xe7\\xdf\\xf0\\xfa\\xd1Z\\x96\\xc9\\xfbU\\xdcL\\x99\\xc3\\xda:\\xc3\\x1c,\\xccv\\xea7\\xde\\xc6\\xfew\\xc9\\xf5\\xaa\\xd0\\xdc\\x911\\xea\\xcc\\t\\xf2\\x882\\x07\\xf2\\xfcj\\n\\xf9h\\xeaN[F~\\xa4\\xf1YK\\x1c\\xb0\\xb7:?\\xf0\\x01\\xb0\\xf7\\xaaQ\\xc1-\\xdd\\xc06\\xe5\\xd0\\x13\\x96*J\\xd6\\x8f\\x93\\\\%Q\\xb9\\x1e\\xa7O\\xd3L\\x10\\xf2\\x89\\n\\x97<\\xcc\\xecs\\xbdM\\xaa\\xb4Io\\r\\xa4\\x92\\xc90\\x002\\x95=\\xc7\\x8c\\x9a\\xaf\\x92\\xf0e\\x94\\x93\\x95/\\xd9\\x96\\xaf\\xcf2\\x13\\xca9@R\\x0fb7\\xf4\\xf3S^)\\x8fO\\xe8\\xcc\\xe5\\x81\\xc0,~\\xb5(3\\xb0\\x82\\x8c\\x95\\x10^r\\x1b\\x0e\\x98X\\xc1 \\x04\\x01w\\xcdw\\x8aK\\xb8t\\xa4Ebd\\r\\x95*N@\\xed\\x8fz/\\x93]&\\xb6z-J\\x01qm\"\\xc0GW\\x1e?\\xd8\\x9f\\x15\\xe4\\x85\\x85\\xdc\\x92t\\xd2\\x13\\xdf\\xd7\\xb5B\\xe9\\xef\\xa3\\x16\\tE\\xc3o\\xa3F;h`\\x02\\xde\\xe0Fe\\x038oz\\x91\\x15\\x11\\xd0F\\xd6\\xf8$\\x15\\x18\\xc6\\xdek\\x96\\xf4\\x90\\x94\\xd3\\x99\\xcd\\xdd\\xf1\\x88\\xc3\\x13Bd\\x91\\xc9\\xe5\\xe9\\xc8F1\\xefU.\\xef\\x842 \\xbd\\xb4\\x1c\\xad\\xd9\\x92L\\x90>\\x95.%\\xb8\\xf1\\xda\\xef\\xb2y\\xbe\\xcf\\x81\\xa1b\\xae\\xc9(\\x0c\\xae\\x1fc\\x9flU}b\\xc2\\xec\\xbcRDfkw\\x00\\x85$\\x12\\x0f\\x9e\\xde\\xf5\\xd8\\xe8\\x92\\xfbZl\\xa1<W\\xb2\\xb2\\xafM\\x81\\x18\\xc6rkoO\\x86Ym\\xd5%\\x8b\\x91\\xc6>~\\xf5\\xd6Y).:=\\x18a\\x14x9 y\\xe5\\xfc\\x85F\\xb2\\xc3\\xba\\xa7(\\'\\xdb\\x19\\xaa\\x8f%3\\xcb_\\\\\\x8f\\x8fybV\\xeb!\\xc7P\\x9e\\xd8\\xcep=7\\xa8\\xed9]\\xbanJ\\x07 \\x95\\xcerF\\xfew\\x15\\xd8\\xcbv\\x8d\\x9c\\x13[\\xec\\x93Q\\x99#\\x9e\\x00\\xc5s\\xeaN1\\xb8\\xaa\\x17\\xaf\\x04\\xf2E\\x11\\xe5\\xe9\\xf3\\x12X\\x1e\\xe4\\xfb\\xd5\\xaf\\xb3F+\\xa4kIe\\x15\\xc2@J\\x90\\x17\\x01B\\x9f\\x1e\\x95\\xae\\xcc\\x92j\\xcfk3\\x00\\xa4f5\\xe5\\x1f\\x7f\\x1d\\xc0\\'\\xce\\xd5[~\\n\\xb2\\xcf\\xf8h[\\xdb\\xda7(\\xe8\\xf2\\x83\\xdb~\\xc7\\xc8>\\xf5/\\xd9\\x96\\xcb:\\xce\\x14s\\x83\\x9c\\x91\\x93]L\\xca\\xb2\\xc8\\xc9\\xbb2[\\xdb\\xa9t\\x13\\x11\\x927 \\xe7\\xbf|\\xd5\\x15\\xd7\\x98D\\xa0\\xdb\"&6-.\\x0f\\xd3\\x1f\\x9f\\x8a\\xaaN\\x9d\"1\\x87-\\xc4\\xa9,p]\\x83\"\\x83\\xcf\\xe4\\xc6\\xc35-\\xbd\\xb5\\xb2E\\xd7\\xeas\\xa1\\x07\\x07\\x9b8\\xf5\\xf9\\xd4\\x94Z\\xa6\\xcd\\nRZfd\\xfau\\xbbM\\xd6\\x82|\\x0f<\\xca\\xc3\\x1f<WD\\xd2\"\\xba\\x90\\x13w\\x0b\\xe7\\xb7\\xdf\\x15o$_\\x0c\\xba\\xb3\\x7fN\\xb50\\xb4P\\x12\\xf3 e\\xc3\\xe4\\x15\\x1f\\x9e*MJ\\xdc\\xceY\\xc3r\\xca\\xbc\\xcd\\x1b\\x0f_\\xfd\\xc7\\xd2\\xa1\\xab*m9\\x164\\xfdk\\xe2mz\\x17j~)q\\xcd\\xcb\\xb0a\\xe1\\xc7\\xfd\\xefU\\'\\xd7\\xe7\\x9eF\\x025\\xe9\\xe3\\x00\\x02A\\xfa\\xd2\\xc8\\xc7\\x12\\x8c\\x9d\\x9e\\xben\\x17\\xd5%\\x8c\\xa9\\xb4\\x1f\\xe6\\'\\xfc\\xd7\\x91\\x9f\\x808\\xa2Y\\xdaF\\xd3Cd\\x9c\\x0e\\xbcX\\xf6\\xfe*\\xef\\x93?\\xa7\\xcb\\x18\\xa7\\xc9\\x92\\xdap\\x0f\\x12s\\xb7Z\\xc1\\xa3R\\x08\\xfd\\xe23\\xdf\\xfb\\xd5%\\xb7\\xe8\\xfb_\\xd3\\xd9\\x84\\x16fH\\xe4\\xcf4fX\\xc0\\xfe\\xaa%\\xaa-\\xc9\\xea \\xd5&s\\xfa\\x85\\xc4`\\xfe\\xe6\\x1cx\\xcc\\xc81\\xfe\\xaa\\xb9\\x1f\\x03k\"\\x1c>\\x9e\\xac\\xdd\\xff\\x00j\\x98\\xfe\\xaa\\xe4U3\\x8f<+\\xb2)\\xf87\\x89e\\x02(\\xecLQ\\x9d\\x98\\xac\\xf1\\xe7\\x1f\\xe2\\xda\\xb9\\x1c\\x19\\xc4\\x90\\xf4\\xe16F\\xe2\\x02w\\xe7\\x9a>d\\xf7\\xcf5M\\xed\\x93Y\\xf1%Vv\\x8b\\x83\\xb5\\xe6\\x94\\xac\\x9aBF\\xf1\\xfe\\xcet\\x9a2\\x0f\\xcb\\x9b?*\\x89\\xf8\\x17\\x88$=E\\xb2\\x11\\x9691\\x99\\xa3\\xd8\\xfe9\\xa88\\x8f\\xa8\\xc6\\x9e\\xa5\\xd9\\xf5\\xfaT\\x8f4R\\x80R\\x80R\\x80R\\x80R\\x80R\\x80R\\x80R\\x80R\\x80\\xff\\xd9'}"
      ]
     },
     "execution_count": 33,
     "metadata": {},
     "output_type": "execute_result"
    }
   ],
   "source": [
    "news_results[0] # 이미지가 바이너리 데이터로 저장된다."
   ]
  },
  {
   "cell_type": "markdown",
   "metadata": {},
   "source": [
    "### 2) 파일 디렉토리 생성해서 저장\n",
    "\n",
    "- 파일 이름 지정할 때, `parse_qs` 이용해서 쿼리셋 기반으로 저장한다.\n",
    "- 이미지 저장을 위한 로컬 용량 소모된다.\n",
    "- 그러나 서버 상에서 사라지거나 편집되는 등 걱정하지 않아도 된다.(= 더 안정적이다.)\n",
    "\n",
    "![img-saved](./images/web_30.png)"
   ]
  },
  {
   "cell_type": "code",
   "execution_count": 44,
   "metadata": {
    "scrolled": false
   },
   "outputs": [
    {
     "name": "stdout",
     "output_type": "stream",
     "text": [
      "images_saved\\10841598.jpg\n",
      "images_saved\\53885.jpg\n",
      "images_saved\\11637257.jpg\n",
      "images_saved\\212366.jpg\n",
      "images_saved\\3288113.jpg\n",
      "images_saved\\1547007.jpg\n",
      "images_saved\\541005.jpg\n",
      "images_saved\\3742561.jpg\n",
      "images_saved\\1547017.jpg\n",
      "images_saved\\11641183.jpg\n"
     ]
    },
    {
     "data": {
      "text/plain": [
       "{'title': '미·중 갈등 확산…환율전쟁조짐까지',\n",
       " 'url': 'http://news.kbs.co.kr/news/view.do?ncd=4455353&ref=A',\n",
       " 'img': 'https://search.pstatic.net/common/?src=https%3A%2F%2Fimgnews.pstatic.net%2Fimage%2Forigin%2F056%2F2020%2F05%2F26%2F10841598.jpg&type=ofullfill80_80_q75_re2',\n",
       " 'img_content': b'\\xff\\xd8\\xff\\xe0\\x00\\x10JFIF\\x00\\x01\\x01\\x00\\x00\\x01\\x00\\x01\\x00\\x00\\xff\\xdb\\x00C\\x00\\x08\\x06\\x06\\x07\\x06\\x05\\x08\\x07\\x07\\x07\\t\\t\\x08\\n\\x0c\\x14\\r\\x0c\\x0b\\x0b\\x0c\\x19\\x12\\x13\\x0f\\x14\\x1d\\x1a\\x1f\\x1e\\x1d\\x1a\\x1c\\x1c $.\\' \",#\\x1c\\x1c(7),01444\\x1f\\'9=82<.342\\xff\\xdb\\x00C\\x01\\t\\t\\t\\x0c\\x0b\\x0c\\x18\\r\\r\\x182!\\x1c!22222222222222222222222222222222222222222222222222\\xff\\xc0\\x00\\x11\\x08\\x00P\\x00P\\x03\\x01!\\x00\\x02\\x11\\x01\\x03\\x11\\x01\\xff\\xc4\\x00\\x1b\\x00\\x01\\x00\\x03\\x00\\x03\\x01\\x00\\x00\\x00\\x00\\x00\\x00\\x00\\x00\\x00\\x00\\x00\\x03\\x04\\x05\\x01\\x02\\x06\\x07\\xff\\xc4\\x009\\x10\\x00\\x02\\x01\\x03\\x02\\x05\\x02\\x03\\x04\\x07\\t\\x00\\x00\\x00\\x00\\x00\\x01\\x02\\x03\\x00\\x04\\x11\\x05!\\x06\\x12\\x131AQa\\x14\\x81\\x91\\x15\"q\\xc1\\x07\\x1634B\\xa1\\xb2$\\x82\\x92\\x93\\xa2\\xb1\\xd1\\xf0\\xf1\\xff\\xc4\\x00\\x19\\x01\\x01\\x00\\x03\\x01\\x01\\x00\\x00\\x00\\x00\\x00\\x00\\x00\\x00\\x00\\x00\\x00\\x00\\x02\\x03\\x04\\x01\\x05\\xff\\xc4\\x00$\\x11\\x00\\x02\\x02\\x02\\x02\\x01\\x03\\x05\\x00\\x00\\x00\\x00\\x00\\x00\\x00\\x00\\x00\\x01\\x02\\x11\\x03!\\x121A\\x04\\x13a\\x14\"2q\\xa1\\xff\\xda\\x00\\x0c\\x03\\x01\\x00\\x02\\x11\\x03\\x11\\x00?\\x00\\xfb\\xfd(\\x05(\\x05(\\x05(\\x05(\\x05(\\x05(\\x05(\\x05(\\x05(\\x0f\\x8bK\\xafjq\\x8ec\\xaa_\\x0f\\x00\\x9b\\x96\\x00\\x9f\\xadAq\\xc4Z\\xd4:y\\x95o\\xf5)J\\x8c\\xe4\\xce\\xca{\\xfa\\x03\\x9d\\xaa0v\\xcfAb\\x8b\\xab\\xa36]s^\\x9e5\\x92\\x1e!\\xd4ZB3\\x84\\x9d\\xc2\\x0fn\\xf55\\xa7\\x12k\\x93[\\xc5/\\xda\\xd7\\xad:l\\xean_\\x0c3\\x93\\xb0;\\x9cT\\xcdO\\x0e>?\\x8a\\xb4nE\\xaf\\xea\\x8f\\x0e\\x17V\\xbaA2\\x82\\x923\\xb1(N;\\x83S\\xdc\\xea\\xfa\\xd4\\x08K\\xeaR\\xa8;e\\xa5n\\xe7\\xb7\\x91\\\\2p\\x85\\xed\\x15N\\xb3\\xabF\\xca\\xcb\\xa8\\xdd\\xb4\\x8c@$]\\xb9\\x03\\xd7\\xee\\x93\\x8a\\x9e> \\xd5\\x16<\\xdc_\\\\\\xae\\x06r\\xd2\\xb2\\xe0{\\x90H\\xa8\\xa7m\\xfc\\x08\\xe3\\x8c\\x96\\x8a\\xd7\\x1cQ\\x7f$\\x80[j\\xd2`.\\xdf\\xda\\x8eX\\xef\\xb7\\x7f\\xc3\\x7f\\xe5\\\\\\xa6\\xb5\\xab\\x99]d\\xbc\\xbfT\\xc6\\xcf\\xf1/\\xbe\\xe7\\xdf\\xf0\\xfa\\xd1Z\\x96\\xc9\\xfbU\\xdcL\\x99\\xc3\\xda:\\xc3\\x1c,\\xccv\\xea7\\xde\\xc6\\xfew\\xc9\\xf5\\xaa\\xd0\\xdc\\x911\\xea\\xcc\\t\\xf2\\x882\\x07\\xf2\\xfcj\\n\\xf9h\\xeaN[F~\\xa4\\xf1YK\\x1c\\xb0\\xb7:?\\xf0\\x01\\xb0\\xf7\\xaaQ\\xc1-\\xdd\\xc06\\xe5\\xd0\\x13\\x96*J\\xd6\\x8f\\x93\\\\%Q\\xb9\\x1e\\xa7O\\xd3L\\x10\\xf2\\x89\\n\\x97<\\xcc\\xecs\\xbdM\\xaa\\xb4Io\\r\\xa4\\x92\\xc90\\x002\\x95=\\xc7\\x8c\\x9a\\xaf\\x92\\xf0e\\x94\\x93\\x95/\\xd9\\x96\\xaf\\xcf2\\x13\\xca9@R\\x0fb7\\xf4\\xf3S^)\\x8fO\\xe8\\xcc\\xe5\\x81\\xc0,~\\xb5(3\\xb0\\x82\\x8c\\x95\\x10^r\\x1b\\x0e\\x98X\\xc1 \\x04\\x01w\\xcdw\\x8aK\\xb8t\\xa4Ebd\\r\\x95*N@\\xed\\x8fz/\\x93]&\\xb6z-J\\x01qm\"\\xc0GW\\x1e?\\xd8\\x9f\\x15\\xe4\\x85\\x85\\xdc\\x92t\\xd2\\x13\\xdf\\xd7\\xb5B\\xe9\\xef\\xa3\\x16\\tE\\xc3o\\xa3F;h`\\x02\\xde\\xe0Fe\\x038oz\\x91\\x15\\x11\\xd0F\\xd6\\xf8$\\x15\\x18\\xc6\\xdek\\x96\\xf4\\x90\\x94\\xd3\\x99\\xcd\\xdd\\xf1\\x88\\xc3\\x13Bd\\x91\\xc9\\xe5\\xe9\\xc8F1\\xefU.\\xef\\x842 \\xbd\\xb4\\x1c\\xad\\xd9\\x92L\\x90>\\x95.%\\xb8\\xf1\\xda\\xef\\xb2y\\xbe\\xcf\\x81\\xa1b\\xae\\xc9(\\x0c\\xae\\x1fc\\x9flU}b\\xc2\\xec\\xbcRDfkw\\x00\\x85$\\x12\\x0f\\x9e\\xde\\xf5\\xd8\\xe8\\x92\\xfbZl\\xa1<W\\xb2\\xb2\\xafM\\x81\\x18\\xc6rkoO\\x86Ym\\xd5%\\x8b\\x91\\xc6>~\\xf5\\xd6Y).:=\\x18a\\x14x9 y\\xe5\\xfc\\x85F\\xb2\\xc3\\xba\\xa7(\\'\\xdb\\x19\\xaa\\x8f%3\\xcb_\\\\\\x8f\\x8fybV\\xeb!\\xc7P\\x9e\\xd8\\xcep=7\\xa8\\xed9]\\xbanJ\\x07 \\x95\\xcerF\\xfew\\x15\\xd8\\xcbv\\x8d\\x9c\\x13[\\xec\\x93Q\\x99#\\x9e\\x00\\xc5s\\xeaN1\\xb8\\xaa\\x17\\xaf\\x04\\xf2E\\x11\\xe5\\xe9\\xf3\\x12X\\x1e\\xe4\\xfb\\xd5\\xaf\\xb3F+\\xa4kIe\\x15\\xc2@J\\x90\\x17\\x01B\\x9f\\x1e\\x95\\xae\\xcc\\x92j\\xcfk3\\x00\\xa4f5\\xe5\\x1f\\x7f\\x1d\\xc0\\'\\xce\\xd5[~\\n\\xb2\\xcf\\xf8h[\\xdb\\xda7(\\xe8\\xf2\\x83\\xdb~\\xc7\\xc8>\\xf5/\\xd9\\x96\\xcb:\\xce\\x14s\\x83\\x9c\\x91\\x93]L\\xca\\xb2\\xc8\\xc9\\xbb2[\\xdb\\xa9t\\x13\\x11\\x927 \\xe7\\xbf|\\xd5\\x15\\xd7\\x98D\\xa0\\xdb\"&6-.\\x0f\\xd3\\x1f\\x9f\\x8a\\xaaN\\x9d\"1\\x87-\\xc4\\xa9,p]\\x83\"\\x83\\xcf\\xe4\\xc6\\xc35-\\xbd\\xb5\\xb2E\\xd7\\xeas\\xa1\\x07\\x07\\x9b8\\xf5\\xf9\\xd4\\x94Z\\xa6\\xcd\\nRZfd\\xfau\\xbbM\\xd6\\x82|\\x0f<\\xca\\xc3\\x1f<WD\\xd2\"\\xba\\x90\\x13w\\x0b\\xe7\\xb7\\xdf\\x15o$_\\x0c\\xba\\xb3\\x7fN\\xb50\\xb4P\\x12\\xf3 e\\xc3\\xe4\\x15\\x1f\\x9e*MJ\\xdc\\xceY\\xc3r\\xca\\xbc\\xcd\\x1b\\x0f_\\xfd\\xc7\\xd2\\xa1\\xab*m9\\x164\\xfdk\\xe2mz\\x17j~)q\\xcd\\xcb\\xb0a\\xe1\\xc7\\xfd\\xefU\\'\\xd7\\xe7\\x9eF\\x025\\xe9\\xe3\\x00\\x02A\\xfa\\xd2\\xc8\\xc7\\x12\\x8c\\x9d\\x9e\\xben\\x17\\xd5%\\x8c\\xa9\\xb4\\x1f\\xe6\\'\\xfc\\xd7\\x91\\x9f\\x808\\xa2Y\\xdaF\\xd3Cd\\x9c\\x0e\\xbcX\\xf6\\xfe*\\xef\\x93?\\xa7\\xcb\\x18\\xa7\\xc9\\x92\\xdap\\x0f\\x12s\\xb7Z\\xc1\\xa3R\\x08\\xfd\\xe23\\xdf\\xfb\\xd5%\\xb7\\xe8\\xfb_\\xd3\\xd9\\x84\\x16fH\\xe4\\xcf4fX\\xc0\\xfe\\xaa%\\xaa-\\xc9\\xea \\xd5&s\\xfa\\x85\\xc4`\\xfe\\xe6\\x1cx\\xcc\\xc81\\xfe\\xaa\\xb9\\x1f\\x03k\"\\x1c>\\x9e\\xac\\xdd\\xff\\x00j\\x98\\xfe\\xaa\\xe4U3\\x8f<+\\xb2)\\xf87\\x89e\\x02(\\xecLQ\\x9d\\x98\\xac\\xf1\\xe7\\x1f\\xe2\\xda\\xb9\\x1c\\x19\\xc4\\x90\\xf4\\xe16F\\xe2\\x02w\\xe7\\x9a>d\\xf7\\xcf5M\\xed\\x93Y\\xf1%Vv\\x8b\\x83\\xb5\\xe6\\x94\\xac\\x9aBF\\xf1\\xfe\\xcet\\x9a2\\x0f\\xcb\\x9b?*\\x89\\xf8\\x17\\x88$=E\\xb2\\x11\\x9691\\x99\\xa3\\xd8\\xfe9\\xa88\\x8f\\xa8\\xc6\\x9e\\xa5\\xd9\\xf5\\xfaT\\x8f4R\\x80R\\x80R\\x80R\\x80R\\x80R\\x80R\\x80R\\x80R\\x80\\xff\\xd9',\n",
       " 'img_path': 'images_saved\\\\10841598.jpg'}"
      ]
     },
     "execution_count": 44,
     "metadata": {},
     "output_type": "execute_result"
    }
   ],
   "source": [
    "# 베이스 파일 경로\n",
    "base_file_dir = 'images_saved'\n",
    "\n",
    "# 파일 경로 검사 및 생성\n",
    "if not os.path.exists(base_file_dir):\n",
    "    os.makedirs(base_file_dir)\n",
    "\n",
    "# 저장한 이미지 경로에 요청을 보내고, 로컬 파일 디렉토리에 저장.\n",
    "for result in news_results:\n",
    "    image_url = result['img']\n",
    "\n",
    "    \n",
    "    if image_url: # 저장된 이미지 경로가 있으면,\n",
    "        \n",
    "        # 파일 이름을 만들기 위해 쿼리셋 생성.\n",
    "        parsed_image_url = urlparse(image_url) \n",
    "        parsed_image_queries = parse_qs(parsed_image_url.query)\n",
    "        image_src = parsed_image_queries['src'][0]\n",
    "        \n",
    "        # 파일 경로와 이름을 통해 이미지 저장 경로 생성.\n",
    "        image_path = os.path.join(base_file_dir, image_src.split('/')[-1])\n",
    "        print(image_path)\n",
    "        \n",
    "        # 이미지 가져온 후 저장.\n",
    "        image_content = requests.get(image_url).content\n",
    "        with open(image_path, 'wb') as f:\n",
    "            f.write(image_content)\n",
    "        \n",
    "        #이미지 경로도 저장\n",
    "        result['img_path'] = image_path\n",
    "\n",
    "# 확인\n",
    "news_results[0]"
   ]
  },
  {
   "cell_type": "markdown",
   "metadata": {},
   "source": [
    "**큰 데이터**\n",
    "\n",
    "이미지의 경우 메모리가 크지 않아서 한 번에 메모리에 올릴 수 있다. 그러나 유튜브 동영상 등 한 번에 메모리에 올리기 부담스러운 파일들의 경우, 다른 방식을 사용한다.\n",
    "\n",
    " 위와 같은 코드에, 큰 데이터라고 가정해 보겠다.\n",
    " \n",
    "* 한 번에 오지 않는다. stream 옵션을 준다. response가 여러 번 오기 때문에.\n",
    "* 잘려서 오는 데이터를 chunk 단위로 저장한다. "
   ]
  },
  {
   "cell_type": "code",
   "execution_count": 45,
   "metadata": {},
   "outputs": [
    {
     "data": {
      "text/plain": [
       "{'title': '미·중 갈등 확산…환율전쟁조짐까지',\n",
       " 'url': 'http://news.kbs.co.kr/news/view.do?ncd=4455353&ref=A',\n",
       " 'img': 'https://search.pstatic.net/common/?src=https%3A%2F%2Fimgnews.pstatic.net%2Fimage%2Forigin%2F056%2F2020%2F05%2F26%2F10841598.jpg&type=ofullfill80_80_q75_re2',\n",
       " 'img_content': b'\\xff\\xd8\\xff\\xe0\\x00\\x10JFIF\\x00\\x01\\x01\\x00\\x00\\x01\\x00\\x01\\x00\\x00\\xff\\xdb\\x00C\\x00\\x08\\x06\\x06\\x07\\x06\\x05\\x08\\x07\\x07\\x07\\t\\t\\x08\\n\\x0c\\x14\\r\\x0c\\x0b\\x0b\\x0c\\x19\\x12\\x13\\x0f\\x14\\x1d\\x1a\\x1f\\x1e\\x1d\\x1a\\x1c\\x1c $.\\' \",#\\x1c\\x1c(7),01444\\x1f\\'9=82<.342\\xff\\xdb\\x00C\\x01\\t\\t\\t\\x0c\\x0b\\x0c\\x18\\r\\r\\x182!\\x1c!22222222222222222222222222222222222222222222222222\\xff\\xc0\\x00\\x11\\x08\\x00P\\x00P\\x03\\x01!\\x00\\x02\\x11\\x01\\x03\\x11\\x01\\xff\\xc4\\x00\\x1b\\x00\\x01\\x00\\x03\\x00\\x03\\x01\\x00\\x00\\x00\\x00\\x00\\x00\\x00\\x00\\x00\\x00\\x00\\x03\\x04\\x05\\x01\\x02\\x06\\x07\\xff\\xc4\\x009\\x10\\x00\\x02\\x01\\x03\\x02\\x05\\x02\\x03\\x04\\x07\\t\\x00\\x00\\x00\\x00\\x00\\x01\\x02\\x03\\x00\\x04\\x11\\x05!\\x06\\x12\\x131AQa\\x14\\x81\\x91\\x15\"q\\xc1\\x07\\x1634B\\xa1\\xb2$\\x82\\x92\\x93\\xa2\\xb1\\xd1\\xf0\\xf1\\xff\\xc4\\x00\\x19\\x01\\x01\\x00\\x03\\x01\\x01\\x00\\x00\\x00\\x00\\x00\\x00\\x00\\x00\\x00\\x00\\x00\\x00\\x02\\x03\\x04\\x01\\x05\\xff\\xc4\\x00$\\x11\\x00\\x02\\x02\\x02\\x02\\x01\\x03\\x05\\x00\\x00\\x00\\x00\\x00\\x00\\x00\\x00\\x00\\x01\\x02\\x11\\x03!\\x121A\\x04\\x13a\\x14\"2q\\xa1\\xff\\xda\\x00\\x0c\\x03\\x01\\x00\\x02\\x11\\x03\\x11\\x00?\\x00\\xfb\\xfd(\\x05(\\x05(\\x05(\\x05(\\x05(\\x05(\\x05(\\x05(\\x05(\\x0f\\x8bK\\xafjq\\x8ec\\xaa_\\x0f\\x00\\x9b\\x96\\x00\\x9f\\xadAq\\xc4Z\\xd4:y\\x95o\\xf5)J\\x8c\\xe4\\xce\\xca{\\xfa\\x03\\x9d\\xaa0v\\xcfAb\\x8b\\xab\\xa36]s^\\x9e5\\x92\\x1e!\\xd4ZB3\\x84\\x9d\\xc2\\x0fn\\xf55\\xa7\\x12k\\x93[\\xc5/\\xda\\xd7\\xad:l\\xean_\\x0c3\\x93\\xb0;\\x9cT\\xcdO\\x0e>?\\x8a\\xb4nE\\xaf\\xea\\x8f\\x0e\\x17V\\xbaA2\\x82\\x923\\xb1(N;\\x83S\\xdc\\xea\\xfa\\xd4\\x08K\\xeaR\\xa8;e\\xa5n\\xe7\\xb7\\x91\\\\2p\\x85\\xed\\x15N\\xb3\\xabF\\xca\\xcb\\xa8\\xdd\\xb4\\x8c@$]\\xb9\\x03\\xd7\\xee\\x93\\x8a\\x9e> \\xd5\\x16<\\xdc_\\\\\\xae\\x06r\\xd2\\xb2\\xe0{\\x90H\\xa8\\xa7m\\xfc\\x08\\xe3\\x8c\\x96\\x8a\\xd7\\x1cQ\\x7f$\\x80[j\\xd2`.\\xdf\\xda\\x8eX\\xef\\xb7\\x7f\\xc3\\x7f\\xe5\\\\\\xa6\\xb5\\xab\\x99]d\\xbc\\xbfT\\xc6\\xcf\\xf1/\\xbe\\xe7\\xdf\\xf0\\xfa\\xd1Z\\x96\\xc9\\xfbU\\xdcL\\x99\\xc3\\xda:\\xc3\\x1c,\\xccv\\xea7\\xde\\xc6\\xfew\\xc9\\xf5\\xaa\\xd0\\xdc\\x911\\xea\\xcc\\t\\xf2\\x882\\x07\\xf2\\xfcj\\n\\xf9h\\xeaN[F~\\xa4\\xf1YK\\x1c\\xb0\\xb7:?\\xf0\\x01\\xb0\\xf7\\xaaQ\\xc1-\\xdd\\xc06\\xe5\\xd0\\x13\\x96*J\\xd6\\x8f\\x93\\\\%Q\\xb9\\x1e\\xa7O\\xd3L\\x10\\xf2\\x89\\n\\x97<\\xcc\\xecs\\xbdM\\xaa\\xb4Io\\r\\xa4\\x92\\xc90\\x002\\x95=\\xc7\\x8c\\x9a\\xaf\\x92\\xf0e\\x94\\x93\\x95/\\xd9\\x96\\xaf\\xcf2\\x13\\xca9@R\\x0fb7\\xf4\\xf3S^)\\x8fO\\xe8\\xcc\\xe5\\x81\\xc0,~\\xb5(3\\xb0\\x82\\x8c\\x95\\x10^r\\x1b\\x0e\\x98X\\xc1 \\x04\\x01w\\xcdw\\x8aK\\xb8t\\xa4Ebd\\r\\x95*N@\\xed\\x8fz/\\x93]&\\xb6z-J\\x01qm\"\\xc0GW\\x1e?\\xd8\\x9f\\x15\\xe4\\x85\\x85\\xdc\\x92t\\xd2\\x13\\xdf\\xd7\\xb5B\\xe9\\xef\\xa3\\x16\\tE\\xc3o\\xa3F;h`\\x02\\xde\\xe0Fe\\x038oz\\x91\\x15\\x11\\xd0F\\xd6\\xf8$\\x15\\x18\\xc6\\xdek\\x96\\xf4\\x90\\x94\\xd3\\x99\\xcd\\xdd\\xf1\\x88\\xc3\\x13Bd\\x91\\xc9\\xe5\\xe9\\xc8F1\\xefU.\\xef\\x842 \\xbd\\xb4\\x1c\\xad\\xd9\\x92L\\x90>\\x95.%\\xb8\\xf1\\xda\\xef\\xb2y\\xbe\\xcf\\x81\\xa1b\\xae\\xc9(\\x0c\\xae\\x1fc\\x9flU}b\\xc2\\xec\\xbcRDfkw\\x00\\x85$\\x12\\x0f\\x9e\\xde\\xf5\\xd8\\xe8\\x92\\xfbZl\\xa1<W\\xb2\\xb2\\xafM\\x81\\x18\\xc6rkoO\\x86Ym\\xd5%\\x8b\\x91\\xc6>~\\xf5\\xd6Y).:=\\x18a\\x14x9 y\\xe5\\xfc\\x85F\\xb2\\xc3\\xba\\xa7(\\'\\xdb\\x19\\xaa\\x8f%3\\xcb_\\\\\\x8f\\x8fybV\\xeb!\\xc7P\\x9e\\xd8\\xcep=7\\xa8\\xed9]\\xbanJ\\x07 \\x95\\xcerF\\xfew\\x15\\xd8\\xcbv\\x8d\\x9c\\x13[\\xec\\x93Q\\x99#\\x9e\\x00\\xc5s\\xeaN1\\xb8\\xaa\\x17\\xaf\\x04\\xf2E\\x11\\xe5\\xe9\\xf3\\x12X\\x1e\\xe4\\xfb\\xd5\\xaf\\xb3F+\\xa4kIe\\x15\\xc2@J\\x90\\x17\\x01B\\x9f\\x1e\\x95\\xae\\xcc\\x92j\\xcfk3\\x00\\xa4f5\\xe5\\x1f\\x7f\\x1d\\xc0\\'\\xce\\xd5[~\\n\\xb2\\xcf\\xf8h[\\xdb\\xda7(\\xe8\\xf2\\x83\\xdb~\\xc7\\xc8>\\xf5/\\xd9\\x96\\xcb:\\xce\\x14s\\x83\\x9c\\x91\\x93]L\\xca\\xb2\\xc8\\xc9\\xbb2[\\xdb\\xa9t\\x13\\x11\\x927 \\xe7\\xbf|\\xd5\\x15\\xd7\\x98D\\xa0\\xdb\"&6-.\\x0f\\xd3\\x1f\\x9f\\x8a\\xaaN\\x9d\"1\\x87-\\xc4\\xa9,p]\\x83\"\\x83\\xcf\\xe4\\xc6\\xc35-\\xbd\\xb5\\xb2E\\xd7\\xeas\\xa1\\x07\\x07\\x9b8\\xf5\\xf9\\xd4\\x94Z\\xa6\\xcd\\nRZfd\\xfau\\xbbM\\xd6\\x82|\\x0f<\\xca\\xc3\\x1f<WD\\xd2\"\\xba\\x90\\x13w\\x0b\\xe7\\xb7\\xdf\\x15o$_\\x0c\\xba\\xb3\\x7fN\\xb50\\xb4P\\x12\\xf3 e\\xc3\\xe4\\x15\\x1f\\x9e*MJ\\xdc\\xceY\\xc3r\\xca\\xbc\\xcd\\x1b\\x0f_\\xfd\\xc7\\xd2\\xa1\\xab*m9\\x164\\xfdk\\xe2mz\\x17j~)q\\xcd\\xcb\\xb0a\\xe1\\xc7\\xfd\\xefU\\'\\xd7\\xe7\\x9eF\\x025\\xe9\\xe3\\x00\\x02A\\xfa\\xd2\\xc8\\xc7\\x12\\x8c\\x9d\\x9e\\xben\\x17\\xd5%\\x8c\\xa9\\xb4\\x1f\\xe6\\'\\xfc\\xd7\\x91\\x9f\\x808\\xa2Y\\xdaF\\xd3Cd\\x9c\\x0e\\xbcX\\xf6\\xfe*\\xef\\x93?\\xa7\\xcb\\x18\\xa7\\xc9\\x92\\xdap\\x0f\\x12s\\xb7Z\\xc1\\xa3R\\x08\\xfd\\xe23\\xdf\\xfb\\xd5%\\xb7\\xe8\\xfb_\\xd3\\xd9\\x84\\x16fH\\xe4\\xcf4fX\\xc0\\xfe\\xaa%\\xaa-\\xc9\\xea \\xd5&s\\xfa\\x85\\xc4`\\xfe\\xe6\\x1cx\\xcc\\xc81\\xfe\\xaa\\xb9\\x1f\\x03k\"\\x1c>\\x9e\\xac\\xdd\\xff\\x00j\\x98\\xfe\\xaa\\xe4U3\\x8f<+\\xb2)\\xf87\\x89e\\x02(\\xecLQ\\x9d\\x98\\xac\\xf1\\xe7\\x1f\\xe2\\xda\\xb9\\x1c\\x19\\xc4\\x90\\xf4\\xe16F\\xe2\\x02w\\xe7\\x9a>d\\xf7\\xcf5M\\xed\\x93Y\\xf1%Vv\\x8b\\x83\\xb5\\xe6\\x94\\xac\\x9aBF\\xf1\\xfe\\xcet\\x9a2\\x0f\\xcb\\x9b?*\\x89\\xf8\\x17\\x88$=E\\xb2\\x11\\x9691\\x99\\xa3\\xd8\\xfe9\\xa88\\x8f\\xa8\\xc6\\x9e\\xa5\\xd9\\xf5\\xfaT\\x8f4R\\x80R\\x80R\\x80R\\x80R\\x80R\\x80R\\x80R\\x80R\\x80\\xff\\xd9',\n",
       " 'img_path': 'images_saved\\\\10841598.jpg',\n",
       " 'BIG-img_path': 'BIG-images_saved\\\\10841598.jpg'}"
      ]
     },
     "execution_count": 45,
     "metadata": {},
     "output_type": "execute_result"
    }
   ],
   "source": [
    "# 베이스 파일 경로\n",
    "base_file_dir = 'BIG-images_saved'\n",
    "\n",
    "if not os.path.exists(base_file_dir):\n",
    "    os.makedirs(base_file_dir)\n",
    "\n",
    "# 큰 데이터 가정\n",
    "for result in news_results:\n",
    "    image_url = result['img']\n",
    "\n",
    "    if image_url: \n",
    "        \n",
    "        parsed_image_url = urlparse(image_url) \n",
    "        parsed_image_queries = parse_qs(parsed_image_url.query)\n",
    "        image_src = parsed_image_queries['src'][0]        \n",
    "        image_path = os.path.join(base_file_dir, image_src.split('/')[-1])\n",
    "        \n",
    "        # 큰 데이터 : 한 번에 오지 않는다.\n",
    "        image_content = requests.get(image_url, stream=True).content # stream 옵션\n",
    "                \n",
    "        # chunk 단위로 저장\n",
    "        with open(image_path, 'wb') as f:\n",
    "            for chunk in req.iter_content():\n",
    "                f.write(chunk)\n",
    "                \n",
    "        #이미지 경로도 저장\n",
    "        result['BIG-img_path'] = image_path\n",
    "\n",
    "# 확인\n",
    "news_results[0]"
   ]
  },
  {
   "cell_type": "code",
   "execution_count": null,
   "metadata": {},
   "outputs": [],
   "source": []
  },
  {
   "cell_type": "code",
   "execution_count": null,
   "metadata": {},
   "outputs": [],
   "source": []
  },
  {
   "cell_type": "code",
   "execution_count": null,
   "metadata": {},
   "outputs": [],
   "source": []
  },
  {
   "cell_type": "code",
   "execution_count": null,
   "metadata": {},
   "outputs": [],
   "source": []
  },
  {
   "cell_type": "code",
   "execution_count": null,
   "metadata": {},
   "outputs": [],
   "source": []
  },
  {
   "cell_type": "code",
   "execution_count": null,
   "metadata": {},
   "outputs": [],
   "source": []
  },
  {
   "cell_type": "code",
   "execution_count": null,
   "metadata": {},
   "outputs": [],
   "source": []
  },
  {
   "cell_type": "code",
   "execution_count": null,
   "metadata": {},
   "outputs": [],
   "source": []
  },
  {
   "cell_type": "code",
   "execution_count": null,
   "metadata": {},
   "outputs": [],
   "source": []
  },
  {
   "cell_type": "code",
   "execution_count": null,
   "metadata": {},
   "outputs": [],
   "source": []
  }
 ],
 "metadata": {
  "kernelspec": {
   "display_name": "Python 3",
   "language": "python",
   "name": "python3"
  },
  "language_info": {
   "codemirror_mode": {
    "name": "ipython",
    "version": 3
   },
   "file_extension": ".py",
   "mimetype": "text/x-python",
   "name": "python",
   "nbconvert_exporter": "python",
   "pygments_lexer": "ipython3",
   "version": "3.7.7"
  }
 },
 "nbformat": 4,
 "nbformat_minor": 4
}
