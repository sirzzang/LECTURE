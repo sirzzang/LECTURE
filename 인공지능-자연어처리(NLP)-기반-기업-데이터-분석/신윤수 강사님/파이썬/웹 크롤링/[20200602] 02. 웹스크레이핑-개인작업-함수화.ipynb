{
 "cells": [
  {
   "cell_type": "markdown",
   "metadata": {},
   "source": [
    "# 네이버 링크 가져오는 크롤러\n",
    "\n",
    "- where : 각 검색 결과 찾을 분야\n",
    "    - 블로그 : blog\n",
    "   \n",
    "    \n",
    "- 해당하는 패턴 넣어야 함. : regex\n",
    "\n",
    "- 링크 찾을 때 무엇으로 찾을 것인지에 따라 확장!\n",
    "    - 정규표현식\n",
    "    - class\n",
    "    - id..."
   ]
  },
  {
   "cell_type": "code",
   "execution_count": 2,
   "metadata": {},
   "outputs": [],
   "source": [
    "import requests\n",
    "from urllib.parse import urlencode"
   ]
  },
  {
   "cell_type": "code",
   "execution_count": 9,
   "metadata": {},
   "outputs": [
    {
     "ename": "SyntaxError",
     "evalue": "unexpected EOF while parsing (<ipython-input-9-ee2d6648d3dc>, line 15)",
     "output_type": "error",
     "traceback": [
      "\u001b[1;36m  File \u001b[1;32m\"<ipython-input-9-ee2d6648d3dc>\"\u001b[1;36m, line \u001b[1;32m15\u001b[0m\n\u001b[1;33m    def get_links(regex_pat):\u001b[0m\n\u001b[1;37m                             ^\u001b[0m\n\u001b[1;31mSyntaxError\u001b[0m\u001b[1;31m:\u001b[0m unexpected EOF while parsing\n"
     ]
    }
   ],
   "source": [
    "def set_urls(base_url, where, query, limit):\n",
    "    urls = []\n",
    "    \n",
    "    WHERE = urlencode({'where':where}, encoding='utf-8')\n",
    "    QUERY = urlencode({'query':query}, encoding='utf-8')\n",
    "    \n",
    "    search_url = f\"{base_url}&{WHERE}&{QUERY}\"\n",
    "    \n",
    "    for i in range(limit):\n",
    "        url = f\"{search_url}&start={10*i + 1}\"\n",
    "        urls.append(url)\n",
    "        \n",
    "    return urls\n",
    "\n",
    "def get_links(urls, regex_pat):\n",
    "    links = []\n",
    "    prev = len(links)\n",
    "    \n",
    "    for url in urls:\n",
    "        \n",
    "        req = requests.get(url)\n",
    "        print(req.status_code) # for check\n",
    "        \n",
    "        soup = BeautifulSoup(req.text)\n",
    "        temp = soup.find_all('a', {'href' : re.compile(regex_pat)})\n",
    "        for t in temp:\n",
    "            link = t['href']\n",
    "            if link not in links:\n",
    "                links.append(link)\n",
    "\n",
    "        print(f\"{i+1}page : Found {len(links) - prev} links.\")\n",
    "        \n",
    "    "
   ]
  },
  {
   "cell_type": "code",
   "execution_count": 8,
   "metadata": {},
   "outputs": [
    {
     "data": {
      "text/plain": [
       "['https://search.naver.com/search.naver?&where=news&query=%EA%B8%B0%EC%95%84%ED%83%80%EC%9D%B4%EA%B1%B0%EC%A6%88&start=1',\n",
       " 'https://search.naver.com/search.naver?&where=news&query=%EA%B8%B0%EC%95%84%ED%83%80%EC%9D%B4%EA%B1%B0%EC%A6%88&start=11',\n",
       " 'https://search.naver.com/search.naver?&where=news&query=%EA%B8%B0%EC%95%84%ED%83%80%EC%9D%B4%EA%B1%B0%EC%A6%88&start=21',\n",
       " 'https://search.naver.com/search.naver?&where=news&query=%EA%B8%B0%EC%95%84%ED%83%80%EC%9D%B4%EA%B1%B0%EC%A6%88&start=31',\n",
       " 'https://search.naver.com/search.naver?&where=news&query=%EA%B8%B0%EC%95%84%ED%83%80%EC%9D%B4%EA%B1%B0%EC%A6%88&start=41',\n",
       " 'https://search.naver.com/search.naver?&where=news&query=%EA%B8%B0%EC%95%84%ED%83%80%EC%9D%B4%EA%B1%B0%EC%A6%88&start=51']"
      ]
     },
     "execution_count": 8,
     "metadata": {},
     "output_type": "execute_result"
    }
   ],
   "source": [
    "naver = \"https://search.naver.com/search.naver?\"\n",
    "naver_news_pat = '.+news.naver.com/.+'\n",
    "\n",
    "\n",
    "set_urls(naver, 'news', '기아타이거즈', 6)"
   ]
  },
  {
   "cell_type": "code",
   "execution_count": null,
   "metadata": {},
   "outputs": [],
   "source": []
  },
  {
   "cell_type": "code",
   "execution_count": null,
   "metadata": {},
   "outputs": [],
   "source": []
  },
  {
   "cell_type": "code",
   "execution_count": null,
   "metadata": {},
   "outputs": [],
   "source": []
  },
  {
   "cell_type": "code",
   "execution_count": null,
   "metadata": {},
   "outputs": [],
   "source": []
  },
  {
   "cell_type": "code",
   "execution_count": null,
   "metadata": {},
   "outputs": [],
   "source": []
  },
  {
   "cell_type": "code",
   "execution_count": null,
   "metadata": {},
   "outputs": [],
   "source": []
  },
  {
   "cell_type": "code",
   "execution_count": null,
   "metadata": {},
   "outputs": [],
   "source": []
  },
  {
   "cell_type": "code",
   "execution_count": null,
   "metadata": {},
   "outputs": [],
   "source": []
  },
  {
   "cell_type": "markdown",
   "metadata": {},
   "source": [
    "# 발전\n"
   ]
  },
  {
   "cell_type": "markdown",
   "metadata": {},
   "source": [
    "\n",
    "* 네이버, 다음 적용 가능할 듯?\n",
    "    - 네이버 \n",
    "\n",
    "https://search.daum.net/search?w=news&nil_search=btn&DA=NTB&enc=utf8&cluster=y&cluster_page=1&q=%EA%B8%B0%EC%95%84%ED%83%80%EC%9D%B4%EA%B1%B0%EC%A6%88\n"
   ]
  }
 ],
 "metadata": {
  "kernelspec": {
   "display_name": "Python 3",
   "language": "python",
   "name": "python3"
  },
  "language_info": {
   "codemirror_mode": {
    "name": "ipython",
    "version": 3
   },
   "file_extension": ".py",
   "mimetype": "text/x-python",
   "name": "python",
   "nbconvert_exporter": "python",
   "pygments_lexer": "ipython3",
   "version": "3.7.7"
  }
 },
 "nbformat": 4,
 "nbformat_minor": 4
}
