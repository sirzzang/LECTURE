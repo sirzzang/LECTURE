{
 "cells": [
  {
   "cell_type": "code",
   "execution_count": 1,
   "metadata": {},
   "outputs": [],
   "source": [
    "import pymysql.cursors"
   ]
  },
  {
   "cell_type": "code",
   "execution_count": 4,
   "metadata": {},
   "outputs": [],
   "source": [
    "# DB 연결\n",
    "connection = pymysql.connect(host='localhost', # IP\n",
    "                             user='root', # 계정\n",
    "                             password='songdy0123', # 패스워드\n",
    "                             db='crawling', # 데이터베이스 스키마 이름\n",
    "                             charset='utf8', # default-characgerset\n",
    "                             cursorclass=pymysql.cursors.DictCursor)"
   ]
  },
  {
   "cell_type": "code",
   "execution_count": 15,
   "metadata": {},
   "outputs": [],
   "source": [
    "# DB 데이터 삽입: sql문으로 진행\n",
    "with connection.cursor() as cursor:\n",
    "    sql = \"INSERT INTO `source` (`id`, `name`, `url`) VALUES (%s, %s, %s)\"\n",
    "    cursor.execute(sql, (10, '트위터', 'http://twitter.com'))\n",
    "connection.commit()"
   ]
  },
  {
   "cell_type": "markdown",
   "metadata": {},
   "source": [
    "**실행 결과**\n",
    "\n",
    "![db-twitter](./images/db_1.png)"
   ]
  },
  {
   "cell_type": "code",
   "execution_count": 16,
   "metadata": {},
   "outputs": [
    {
     "data": {
      "text/plain": [
       "10"
      ]
     },
     "execution_count": 16,
     "metadata": {},
     "output_type": "execute_result"
    }
   ],
   "source": [
    "source_id = cursor.lastrowid\n",
    "source_id"
   ]
  },
  {
   "cell_type": "code",
   "execution_count": 17,
   "metadata": {},
   "outputs": [
    {
     "data": {
      "text/plain": [
       "int"
      ]
     },
     "execution_count": 17,
     "metadata": {},
     "output_type": "execute_result"
    }
   ],
   "source": [
    "type(source_id)"
   ]
  },
  {
   "cell_type": "markdown",
   "metadata": {},
   "source": [
    "< 연습 >\n",
    "\n",
    " crawl_data 테이블에 임의의 데이터를 추가하시오. 단, source_id는 방금 추가한 source 데이터로 한다."
   ]
  },
  {
   "cell_type": "code",
   "execution_count": 23,
   "metadata": {
    "scrolled": false
   },
   "outputs": [],
   "source": [
    "with connection.cursor() as cursor:\n",
    "    sql = \"INSERT INTO `data` (`data_id`, `contents`, `src_id`, `url`)\"\n",
    "    sql += \" VALUES (%s, %s, %s, %s)\"\n",
    "    cursor.execute(sql, (1, '임시 데이터', source_id,\n",
    "                        'https://search.naver.com/search.naver?query=무역전쟁'))\n",
    "connection.commit()"
   ]
  },
  {
   "cell_type": "code",
   "execution_count": 24,
   "metadata": {},
   "outputs": [
    {
     "name": "stdout",
     "output_type": "stream",
     "text": [
      "[{'data_id': 1, 'contents': '임시 데이터', 'src_id': 10, 'url': 'https://search.naver.com/search.naver?query=무역전쟁'}]\n"
     ]
    }
   ],
   "source": [
    "# 데이터 추가 확인\n",
    "with connection.cursor() as cursor:\n",
    "    sql = \"SELECT * FROM `data`\"\n",
    "    cursor.execute(sql)\n",
    "    data = cursor.fetchall()\n",
    "    print(data)"
   ]
  },
  {
   "cell_type": "markdown",
   "metadata": {},
   "source": [
    "**실행 결과**\n",
    "![db-temp](./images/db_2.png)"
   ]
  },
  {
   "cell_type": "markdown",
   "metadata": {},
   "source": [
    "```\n",
    "---------------------------------------------------------------------------\n",
    "TypeError                                 Traceback (most recent call last)\n",
    "<ipython-input-12-6733754fae30> in <module>\n",
    "      1 with connection.cursor() as cursor:\n",
    "      2     sql = \"INSERT INTO `DATA` (`DATA_ID`, `CONTENTS`, `SRC_ID`, `URL`) VALUES (%d, %s, %d, %s)\"\n",
    "----> 3     cursor.execute(sql, (source_id, 'Hello, Elon Musk @ElonMusk', source_id, 'http://twitter.com'))\n",
    "      4 connection.commit()\n",
    "\n",
    "~\\anaconda3\\envs\\cpu_env\\lib\\site-packages\\pymysql\\cursors.py in execute(self, query, args)\n",
    "    166             pass\n",
    "    167 \n",
    "--> 168         query = self.mogrify(query, args)\n",
    "    169 \n",
    "    170         result = self._query(query)\n",
    "\n",
    "~\\anaconda3\\envs\\cpu_env\\lib\\site-packages\\pymysql\\cursors.py in mogrify(self, query, args)\n",
    "    145 \n",
    "    146         if args is not None:\n",
    "--> 147             query = query % self._escape_args(args, conn)\n",
    "    148 \n",
    "    149         return query\n",
    "\n",
    "TypeError: %d format: a number is required, not str\n",
    "```"
   ]
  },
  {
   "cell_type": "code",
   "execution_count": 11,
   "metadata": {
    "scrolled": false
   },
   "outputs": [
    {
     "data": {
      "text/plain": [
       "(1, int)"
      ]
     },
     "execution_count": 11,
     "metadata": {},
     "output_type": "execute_result"
    }
   ],
   "source": [
    "source_id, type(source_id)"
   ]
  },
  {
   "attachments": {},
   "cell_type": "markdown",
   "metadata": {},
   "source": [
    "```\n",
    "---------------------------------------------------------------------------\n",
    "InternalError                             Traceback (most recent call last)\n",
    "<ipython-input-22-ac482f564185> in <module>\n",
    "      3     sql += \" VALUES (%s, %s, %s)\"\n",
    "      4     cursor.execute(sql, ('임시 데이터', source_id,\n",
    "----> 5                         'https://search.naver.com/search.naver?query=무역전쟁'))\n",
    "      6 connection.commit()\n",
    "\n",
    "~\\anaconda3\\envs\\cpu_env\\lib\\site-packages\\pymysql\\cursors.py in execute(self, query, args)\n",
    "    168         query = self.mogrify(query, args)\n",
    "    169 \n",
    "--> 170         result = self._query(query)\n",
    "    171         self._executed = query\n",
    "    172         return result\n",
    "\n",
    "~\\anaconda3\\envs\\cpu_env\\lib\\site-packages\\pymysql\\cursors.py in _query(self, q)\n",
    "    326         self._last_executed = q\n",
    "    327         self._clear_result()\n",
    "--> 328         conn.query(q)\n",
    "    329         self._do_get_result()\n",
    "    330         return self.rowcount\n",
    "\n",
    "~\\anaconda3\\envs\\cpu_env\\lib\\site-packages\\pymysql\\connections.py in query(self, sql, unbuffered)\n",
    "    515                 sql = sql.encode(self.encoding, 'surrogateescape')\n",
    "    516         self._execute_command(COMMAND.COM_QUERY, sql)\n",
    "--> 517         self._affected_rows = self._read_query_result(unbuffered=unbuffered)\n",
    "    518         return self._affected_rows\n",
    "    519 \n",
    "\n",
    "~\\anaconda3\\envs\\cpu_env\\lib\\site-packages\\pymysql\\connections.py in _read_query_result(self, unbuffered)\n",
    "    730         else:\n",
    "    731             result = MySQLResult(self)\n",
    "--> 732             result.read()\n",
    "    733         self._result = result\n",
    "    734         if result.server_status is not None:\n",
    "\n",
    "~\\anaconda3\\envs\\cpu_env\\lib\\site-packages\\pymysql\\connections.py in read(self)\n",
    "   1073     def read(self):\n",
    "   1074         try:\n",
    "-> 1075             first_packet = self.connection._read_packet()\n",
    "   1076 \n",
    "   1077             if first_packet.is_ok_packet():\n",
    "\n",
    "~\\anaconda3\\envs\\cpu_env\\lib\\site-packages\\pymysql\\connections.py in _read_packet(self, packet_type)\n",
    "    682 \n",
    "    683         packet = packet_type(buff, self.encoding)\n",
    "--> 684         packet.check_error()\n",
    "    685         return packet\n",
    "    686 \n",
    "\n",
    "~\\anaconda3\\envs\\cpu_env\\lib\\site-packages\\pymysql\\protocol.py in check_error(self)\n",
    "    218             errno = self.read_uint16()\n",
    "    219             if DEBUG: print(\"errno =\", errno)\n",
    "--> 220             err.raise_mysql_exception(self._data)\n",
    "    221 \n",
    "    222     def dump(self):\n",
    "\n",
    "~\\anaconda3\\envs\\cpu_env\\lib\\site-packages\\pymysql\\err.py in raise_mysql_exception(data)\n",
    "    107         errval = data[3:].decode('utf-8', 'replace')\n",
    "    108     errorclass = error_map.get(errno, InternalError)\n",
    "--> 109     raise errorclass(errno, errval)\n",
    "\n",
    "InternalError: (1364, \"Field 'data_id' doesn't have a default value\")\n",
    "```"
   ]
  },
  {
   "cell_type": "markdown",
   "metadata": {},
   "source": [
    " 과거에는 위의 로직을 전부 다 함수로 만들었다. 반드시 DB에 있는 순서로 들어가야 한다. 이 테이블의 구조가 바뀌면, 우리가 만든 함수가 작동하지 않을 수 있음을 의미한다. 유지보수에 비용이 많이 든다는 의미다.\n",
    " \n",
    " 그런데 넣어야 할 데이터가 너무 많으면, 이런 문제가 생길 수 있어서, 최근에는 ORM으로 한다. 프로그램 언어 단에서 sql을 객체지향형으로 관리하자는 취지이다.\n",
    " \n",
    "<pseudo-code>\n",
    "    \n",
    "```\n",
    "# ORM 의사코드 python ver. \n",
    "class CrawlData(sa.Model):\n",
    "    data_id = sa.Integer(primary=True, auto_increment=True)\n",
    "    content = sa.Text()\n",
    "    source_id = sa.ForeignKey\n",
    "\n",
    "# DB 명령어\n",
    "python sa migrate()\n",
    "```\n",
    "    \n",
    "---\n",
    "    \n",
    "    \n",
    " 조회 시 다음과 같은 명령어를 사용한다.\n",
    "    \n",
    "```\n",
    "'SELECT * FROM data WHERE a=1' # sql문\n",
    "\n",
    "# ORM에서는\n",
    "CrawlData.query.filter(data_id=3).all()\n",
    "# select * from data where data_id=3\n",
    "```"
   ]
  }
 ],
 "metadata": {
  "kernelspec": {
   "display_name": "Python 3",
   "language": "python",
   "name": "python3"
  },
  "language_info": {
   "codemirror_mode": {
    "name": "ipython",
    "version": 3
   },
   "file_extension": ".py",
   "mimetype": "text/x-python",
   "name": "python",
   "nbconvert_exporter": "python",
   "pygments_lexer": "ipython3",
   "version": "3.7.7"
  }
 },
 "nbformat": 4,
 "nbformat_minor": 4
}
