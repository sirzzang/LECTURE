{
  "nbformat": 4,
  "nbformat_minor": 0,
  "metadata": {
    "colab": {
      "name": "NLP-LSA-practice.ipynb",
      "provenance": []
    },
    "kernelspec": {
      "name": "python3",
      "display_name": "Python 3"
    }
  },
  "cells": [
    {
      "cell_type": "code",
      "metadata": {
        "id": "Ksw0x68JraYj",
        "colab_type": "code",
        "colab": {
          "base_uri": "https://localhost:8080/",
          "height": 52
        },
        "outputId": "aad455c0-2de7-49f3-feba-389f406f7471"
      },
      "source": [
        "# module import\n",
        "import numpy as np\n",
        "import re\n",
        "import pickle\n",
        "import nltk\n",
        "nltk.download('stopwords')\n",
        "from nltk.corpus import stopwords\n",
        "from sklearn.feature_extraction.text import TfidfVectorizer\n",
        "from sklearn.decomposition import TruncatedSVD"
      ],
      "execution_count": 28,
      "outputs": [
        {
          "output_type": "stream",
          "text": [
            "[nltk_data] Downloading package stopwords to /root/nltk_data...\n",
            "[nltk_data]   Unzipping corpora/stopwords.zip.\n"
          ],
          "name": "stdout"
        }
      ]
    },
    {
      "cell_type": "code",
      "metadata": {
        "id": "RmuSWKZr9ENJ",
        "colab_type": "code",
        "colab": {}
      },
      "source": [
        "# 경로 설정\n",
        "root_path = \"/content/drive/My Drive/멀티캠퍼스/[혁신성장] 인공지능 자연어처리 기반/[강의]/조성현 강사님\"\n",
        "data_path = f\"{root_path}/dataset\""
      ],
      "execution_count": 20,
      "outputs": []
    },
    {
      "cell_type": "markdown",
      "metadata": {
        "id": "amalzwx_sL3G",
        "colab_type": "text"
      },
      "source": [
        "# _1_. SVD\n",
        "\n",
        " 특이값 분해\n",
        "\n",
        "* U : 특이값 가진 행렬.\n",
        "* S : 앞 부분 r개만 선택해서 자른 행렬. 대각 원소만 나오므로 행렬 변환해야 함.\n",
        "* D : 분해할 행렬의 주요 성분을 가지고 있는 행렬."
      ]
    },
    {
      "cell_type": "code",
      "metadata": {
        "id": "pSglcwWGsp7K",
        "colab_type": "code",
        "colab": {
          "base_uri": "https://localhost:8080/",
          "height": 633
        },
        "outputId": "289505a3-00cd-4ded-bb13-c2f1c89e17ef"
      },
      "source": [
        "statements = [\n",
        "              'ruled India',\n",
        "              'Chalukyas ruled Badami',\n",
        "              'So many kingdoms ruled India',\n",
        "              'Lalbagh is a botanical garden in India'\n",
        "              ]\n",
        "\n",
        "# Tf-idf 행렬 생성\n",
        "tf_vector = TfidfVectorizer(max_features=8) # 빈도 수 높은 8개 단어만 선택\n",
        "tfidf = tf_vector.fit_transform(statements) # tfidf 행렬 생성\n",
        "print(type(tfidf), tfidf.shape) # sparse matrix\n",
        "print(tfidf.toarray(), '\\n') # array 형태로 변환하여 확인\n",
        "\n",
        "# SVD로 Tf-idf 행렬 분해\n",
        "U, S, VT = np.linalg.svd(tfidf.toarray(), full_matrices=True)\n",
        "print(f\"========= U ========= :\\n{U.round(2)}\\]\\n\")\n",
        "print(f\"========= S ========= :\\n{S.round(2)}\\n\")\n",
        "print(f\"========= VT ========= :\\n{VT.round(2)}\\n\")\n",
        "\n",
        "# S 행렬 형태로 변환\n",
        "S_mat = np.zeros(tfidf.shape)\n",
        "S_mat[:S.shape[0], :S.shape[0]] = np.diag(S)\n",
        "print(f\"========= S Matrix ========= :\\n{S_mat.round(2)}\\n\")"
      ],
      "execution_count": 73,
      "outputs": [
        {
          "output_type": "stream",
          "text": [
            "<class 'scipy.sparse.csr.csr_matrix'> (4, 8)\n",
            "[[0.         0.         0.         0.         0.         0.70710678\n",
            "  0.         0.70710678]\n",
            " [0.64450299 0.         0.64450299 0.         0.         0.\n",
            "  0.         0.41137791]\n",
            " [0.         0.         0.         0.         0.         0.70710678\n",
            "  0.         0.70710678]\n",
            " [0.         0.47633035 0.         0.47633035 0.47633035 0.30403549\n",
            "  0.47633035 0.        ]] \n",
            "\n",
            "========= U ========= :\n",
            "[[-0.65  0.    0.27 -0.71]\n",
            " [-0.31 -0.59 -0.74 -0.  ]\n",
            " [-0.65 -0.    0.27  0.71]\n",
            " [-0.23  0.8  -0.55  0.  ]]\\]\n",
            "\n",
            "========= S ========= :\n",
            "[1.49 1.   0.89 0.  ]\n",
            "\n",
            "========= VT ========= :\n",
            "[[-0.14 -0.07 -0.14 -0.07 -0.07 -0.67 -0.07 -0.71]\n",
            " [-0.38  0.38 -0.38  0.38  0.38  0.24  0.38 -0.24]\n",
            " [-0.54 -0.29 -0.54 -0.29 -0.29  0.25 -0.29  0.09]\n",
            " [ 0.74 -0.03 -0.62 -0.03 -0.03  0.19 -0.03 -0.19]\n",
            " [-0.   -0.16 -0.03 -0.49  0.84 -0.04 -0.16  0.04]\n",
            " [ 0.    0.66  0.2  -0.52 -0.17  0.32 -0.17 -0.32]\n",
            " [-0.   -0.16 -0.03 -0.49 -0.16 -0.04  0.84  0.04]\n",
            " [ 0.    0.53 -0.35 -0.11 -0.04 -0.54 -0.04  0.54]]\n",
            "\n",
            "========= S Matrix ========= :\n",
            "[[1.49 0.   0.   0.   0.   0.   0.   0.  ]\n",
            " [0.   1.   0.   0.   0.   0.   0.   0.  ]\n",
            " [0.   0.   0.89 0.   0.   0.   0.   0.  ]\n",
            " [0.   0.   0.   0.   0.   0.   0.   0.  ]]\n",
            "\n"
          ],
          "name": "stdout"
        }
      ]
    },
    {
      "cell_type": "markdown",
      "metadata": {
        "id": "_E6Bx6zz8v0B",
        "colab_type": "text"
      },
      "source": [
        "# _2_. LSA\n",
        "\n",
        "- 뉴스 데이터 활용: 다운로드 시간 오래 걸리므로 강사님이 미리 받아 놓음.\n",
        "- `scikit-learn`의 `TruncatedSVD` 활용: 위와 사용법 다름.\n"
      ]
    },
    {
      "cell_type": "code",
      "metadata": {
        "id": "5yIqoNhX9RIU",
        "colab_type": "code",
        "colab": {}
      },
      "source": [
        "# 데이터 로드\n",
        "with open(f\"{data_path}/news.data\", 'rb') as f:\n",
        "    news_data = pickle.load(f)"
      ],
      "execution_count": 56,
      "outputs": []
    },
    {
      "cell_type": "code",
      "metadata": {
        "id": "km-01X0H9ZyN",
        "colab_type": "code",
        "colab": {
          "base_uri": "https://localhost:8080/",
          "height": 406
        },
        "outputId": "43b585e8-163e-4b46-8538-79c435dc683c"
      },
      "source": [
        "# 데이터 조회\n",
        "news = news_data.data\n",
        "print(len(news)) # 총 11314개의 뉴스 데이터\n",
        "print('')\n",
        "print(news[0])\n",
        "print('')\n",
        "\n",
        "# target 확인: 뉴스별로 분류되어 있는 topic\n",
        "print(news_data.target_names)\n",
        "print(len(news_data.target_names)) # 주제 총 20개"
      ],
      "execution_count": 57,
      "outputs": [
        {
          "output_type": "stream",
          "text": [
            "11314\n",
            "\n",
            "Well i'm not sure about the story nad it did seem biased. What\n",
            "I disagree with is your statement that the U.S. Media is out to\n",
            "ruin Israels reputation. That is rediculous. The U.S. media is\n",
            "the most pro-israeli media in the world. Having lived in Europe\n",
            "I realize that incidences such as the one described in the\n",
            "letter have occured. The U.S. media as a whole seem to try to\n",
            "ignore them. The U.S. is subsidizing Israels existance and the\n",
            "Europeans are not (at least not to the same degree). So I think\n",
            "that might be a reason they report more clearly on the\n",
            "atrocities.\n",
            "\tWhat is a shame is that in Austria, daily reports of\n",
            "the inhuman acts commited by Israeli soldiers and the blessing\n",
            "received from the Government makes some of the Holocaust guilt\n",
            "go away. After all, look how the Jews are treating other races\n",
            "when they got power. It is unfortunate.\n",
            "\n",
            "\n",
            "['alt.atheism', 'comp.graphics', 'comp.os.ms-windows.misc', 'comp.sys.ibm.pc.hardware', 'comp.sys.mac.hardware', 'comp.windows.x', 'misc.forsale', 'rec.autos', 'rec.motorcycles', 'rec.sport.baseball', 'rec.sport.hockey', 'sci.crypt', 'sci.electronics', 'sci.med', 'sci.space', 'soc.religion.christian', 'talk.politics.guns', 'talk.politics.mideast', 'talk.politics.misc', 'talk.religion.misc']\n",
            "20\n"
          ],
          "name": "stdout"
        }
      ]
    },
    {
      "cell_type": "code",
      "metadata": {
        "id": "9QJvCZdw97ZZ",
        "colab_type": "code",
        "colab": {
          "base_uri": "https://localhost:8080/",
          "height": 54
        },
        "outputId": "5cdfefec-6f9e-42ea-c8a0-31977159997b"
      },
      "source": [
        "# 전처리\n",
        "news_1 = []\n",
        "news_2 = []\n",
        "\n",
        "# 1) 영문자 아닌 문자 모두 제거\n",
        "for doc in news:\n",
        "    news_1.append(re.sub(\"[^a-zA-Z]\", \" \", doc))\n",
        "\n",
        "# 2) 소문자 변환, 불용어 제거, 3글자 이상인 단어만 사용.\n",
        "stopwords_list = stopwords.words('english') # 영어 불용어 리스트\n",
        "for doc in news_1:\n",
        "    doc_temp = []\n",
        "    for w in doc.split():\n",
        "        w = w.lower() # 소문자 변환\n",
        "        if len(w) > 3 and w not in stopwords_list: # 조건에 맞는 단어들만 선택\n",
        "            doc_temp.append(w)\n",
        "    news_2.append(\" \".join(doc_temp)) # 문자열로 바꾸어서 선택\n",
        "\n",
        "print(news_2[0]) # 위의 원문과 비교해 어떻게 달라졌는지 확인"
      ],
      "execution_count": 58,
      "outputs": [
        {
          "output_type": "stream",
          "text": [
            "well sure story seem biased disagree statement media ruin israels reputation rediculous media israeli media world lived europe realize incidences described letter occured media whole seem ignore subsidizing israels existance europeans least degree think might reason report clearly atrocities shame austria daily reports inhuman acts commited israeli soldiers blessing received government makes holocaust guilt away look jews treating races power unfortunate\n"
          ],
          "name": "stdout"
        }
      ]
    },
    {
      "cell_type": "code",
      "metadata": {
        "id": "3XojBggb_cGq",
        "colab_type": "code",
        "colab": {
          "base_uri": "https://localhost:8080/",
          "height": 90
        },
        "outputId": "ffcbcf7a-135f-47af-b553-0e4cd452709f"
      },
      "source": [
        "# Tf-idf matrix\n",
        "tf_vector = TfidfVectorizer(max_features=500) # 빈도가 높은 500개 단어만 선택\n",
        "tf_vector.fit(news_2) # fit하기\n",
        "print(tf_vector.vocabulary_) # 어휘 목록 확인: 500개.\n",
        "tfidf_matrix = tf_vector.transform(news_2)\n",
        "print(tfidf_matrix.shape)\n",
        "\n",
        "# 어휘 목록 확인 시 이렇게 해도 됨.\n",
        "vocab = tf_vector.get_feature_names()\n",
        "print(vocab[476]) # 476번째 확인하면 위와 똑같음."
      ],
      "execution_count": 59,
      "outputs": [
        {
          "output_type": "stream",
          "text": [
            "{'well': 476, 'sure': 420, 'seem': 370, 'statement': 410, 'israeli': 212, 'world': 493, 'whole': 481, 'least': 229, 'think': 435, 'might': 263, 'reason': 346, 'government': 170, 'makes': 253, 'away': 34, 'look': 244, 'jews': 216, 'power': 322, 'people': 303, 'read': 342, 'actually': 2, 'hard': 180, 'need': 278, 'little': 240, 'faith': 142, 'runs': 358, 'sorry': 397, 'ever': 130, 'anyway': 21, 'maybe': 258, 'start': 407, 'much': 272, 'although': 10, 'points': 315, 'would': 494, 'still': 413, 'like': 235, 'know': 222, 'question': 337, 'sort': 398, 'want': 471, 'israel': 211, 'must': 273, 'stop': 414, 'questions': 338, 'work': 490, 'last': 225, 'several': 380, 'everyone': 132, 'group': 174, 'center': 61, 'research': 351, 'nothing': 286, 'name': 274, 'change': 64, 'area': 25, 'clipper': 75, 'came': 54, 'thus': 440, 'seems': 371, 'rather': 341, 'technology': 428, 'drive': 113, 'cost': 90, 'going': 168, 'especially': 128, 'probably': 329, 'something': 394, 'real': 344, 'year': 498, 'privacy': 327, 'phone': 308, 'line': 237, 'even': 129, 'never': 281, 'time': 441, 'right': 354, 'certainly': 63, 'post': 319, 'rules': 356, 'matter': 257, 'good': 169, 'mail': 250, 'league': 228, 'jesus': 214, 'dead': 102, 'part': 299, 'also': 9, 'without': 486, 'small': 391, 'enough': 125, 'programs': 334, 'difference': 106, 'great': 172, 'sometimes': 395, 'simple': 385, 'card': 56, 'better': 40, 'says': 362, 'offer': 289, 'third': 436, 'problems': 331, 'check': 65, 'called': 53, 'numbers': 288, 'file': 145, 'mean': 259, 'process': 332, 'test': 430, 'months': 270, 'anything': 20, 'always': 11, 'side': 383, 'known': 223, 'within': 485, 'many': 255, 'saying': 361, 'could': 91, 'make': 252, 'force': 152, 'others': 296, 'include': 200, 'anyone': 19, 'light': 234, 'remember': 349, 'kind': 221, 'memory': 261, 'years': 499, 'life': 233, 'used': 460, 'easy': 119, 'price': 326, 'however': 194, 'tell': 429, 'thanks': 432, 'graphics': 171, 'list': 239, 'computer': 83, 'posting': 321, 'april': 24, 'including': 203, 'available': 33, 'directory': 108, 'news': 282, 'article': 30, 'server': 378, 'machine': 248, 'send': 375, 'message': 262, 'help': 187, 'body': 46, 'find': 147, 'information': 205, 'order': 294, 'soon': 396, 'keys': 219, 'subject': 418, 'public': 336, 'free': 157, 'systems': 422, 'stuff': 417, 'making': 254, 'lines': 238, 'text': 431, 'copy': 88, 'keep': 218, 'please': 312, 'contact': 85, 'software': 392, 'reading': 343, 'comp': 81, 'image': 197, 'date': 99, 'asked': 31, 'john': 217, 'nasa': 275, 'included': 201, 'related': 347, 'display': 111, 'data': 98, 'files': 146, 'space': 402, 'future': 159, 'info': 204, 'groups': 175, 'usually': 465, 'posted': 320, 'times': 442, 'type': 453, 'every': 131, 'another': 15, 'place': 309, 'general': 162, 'system': 421, 'service': 379, 'word': 488, 'following': 151, 'user': 461, 'anonymous': 14, 'internet': 210, 'address': 3, 'call': 52, 'sources': 401, 'note': 285, 'users': 462, 'united': 455, 'someone': 393, 'number': 287, 'things': 434, 'email': 123, 'unix': 457, 'days': 101, 'later': 226, 'written': 496, 'david': 100, 'package': 298, 'version': 468, 'source': 400, 'interesting': 208, 'next': 283, 'needs': 280, 'based': 36, 'though': 437, 'includes': 202, 'house': 193, 'uses': 463, 'interface': 209, 'program': 333, 'write': 495, 'code': 76, 'either': 121, 'format': 154, 'widget': 482, 'fast': 143, 'output': 297, 'support': 419, 'major': 251, 'looking': 245, 'nice': 284, 'various': 467, 'form': 153, 'access': 1, 'give': 165, 'images': 198, 'screen': 364, 'windows': 484, 'color': 77, 'books': 48, 'means': 260, 'first': 150, 'book': 47, 'specific': 404, 'mark': 256, 'window': 483, 'standard': 406, 'best': 39, 'back': 35, 'apple': 22, 'video': 469, 'near': 277, 'washington': 473, 'built': 50, 'science': 363, 'exist': 138, 'state': 409, 'course': 94, 'short': 381, 'human': 195, 'head': 182, 'different': 107, 'among': 13, 'particular': 300, 'come': 78, 'using': 464, 'plus': 313, 'wrong': 497, 'return': 353, 'answer': 16, 'original': 295, 'sent': 377, 'request': 350, 'since': 387, 'week': 475, 'example': 136, 'point': 314, 'entry': 126, 'currently': 97, 'long': 243, 'running': 357, 'sound': 399, 'special': 403, 'given': 166, 'full': 158, 'interested': 207, 'rate': 340, 'whatever': 478, 'found': 155, 'office': 290, 'money': 268, 'feel': 144, 'possible': 318, 'disk': 110, 'university': 456, 'president': 323, 'city': 72, 'personal': 307, 'together': 444, 'model': 267, 'build': 49, 'application': 23, 'heard': 185, 'company': 82, 'person': 306, 'today': 443, 'period': 305, 'fine': 148, 'three': 439, 'motif': 271, 'open': 293, 'current': 96, 'working': 491, 'sale': 360, 'really': 345, 'left': 230, 'control': 86, 'live': 241, 'exactly': 135, 'chip': 67, 'become': 37, 'private': 328, 'season': 366, 'thought': 438, 'case': 58, 'important': 199, 'issue': 213, 'said': 359, 'bible': 41, 'anti': 17, 'believe': 38, 'fact': 141, 'christ': 68, 'children': 66, 'sense': 376, 'works': 492, 'show': 382, 'cannot': 55, 'agree': 5, 'simply': 386, 'needed': 279, 'trying': 450, 'words': 489, 'whether': 479, 'large': 224, 'common': 80, 'seen': 372, 'deal': 103, 'often': 291, 'parts': 301, 'thing': 433, 'likely': 236, 'bill': 43, 'hand': 178, 'idea': 196, 'rights': 355, 'quite': 339, 'almost': 7, 'religion': 348, 'team': 427, 'four': 156, 'early': 117, 'national': 276, 'play': 310, 'second': 367, 'guess': 176, 'country': 92, 'love': 247, 'understand': 454, 'christians': 70, 'hell': 186, 'done': 112, 'care': 57, 'home': 191, 'similar': 384, 'effect': 120, 'encryption': 124, 'perhaps': 304, 'discussion': 109, 'game': 160, 'comes': 79, 'crime': 95, 'unless': 458, 'assume': 32, 'past': 302, 'high': 188, 'able': 0, 'security': 369, 'self': 373, 'defense': 105, 'turn': 452, 'problem': 330, 'drivers': 115, 'happened': 179, 'tried': 447, 'around': 29, 'experience': 139, 'church': 71, 'true': 448, 'death': 104, 'truth': 449, 'ground': 173, 'situation': 389, 'business': 51, 'view': 470, 'women': 487, 'killed': 220, 'advance': 4, 'claim': 73, 'already': 8, 'consider': 84, 'allow': 6, 'pretty': 325, 'black': 44, 'goes': 167, 'hope': 192, 'correct': 89, 'strong': 415, 'sell': 374, 'everything': 133, 'else': 122, 'drives': 116, 'upon': 459, 'wanted': 472, 'scsi': 365, 'press': 324, 'instead': 206, 'certain': 62, 'couple': 93, 'take': 423, 'anybody': 18, 'monitor': 269, 'size': 390, 'made': 249, 'speed': 405, 'single': 388, 'earth': 118, 'took': 446, 'level': 232, 'hardware': 181, 'games': 161, 'hockey': 190, 'fire': 149, 'getting': 164, 'mind': 265, 'less': 231, 'argument': 26, 'bike': 42, 'states': 411, 'told': 445, 'gets': 163, 'water': 474, 'local': 242, 'went': 477, 'hear': 184, 'christian': 69, 'police': 316, 'value': 466, 'board': 45, 'cause': 60, 'mode': 266, 'driver': 114, 'taken': 424, 'american': 12, 'talk': 425, 'started': 408, 'white': 480, 'controller': 87, 'face': 140, 'error': 127, 'evidence': 134, 'clear': 74, 'except': 137, 'position': 317, 'cases': 59, 'talking': 426, 'provide': 335, 'military': 264, 'ones': 292, 'armenians': 28, 'turkish': 451, 'armenian': 27, 'health': 183, 'players': 311, 'guns': 177, 'jewish': 215, 'study': 416, 'history': 189, 'rest': 352, 'section': 368, 'laws': 227, 'lost': 246, 'stephanopoulos': 412}\n",
            "(11314, 500)\n",
            "well\n"
          ],
          "name": "stdout"
        }
      ]
    },
    {
      "cell_type": "markdown",
      "metadata": {
        "id": "tJaQ_eJxAWXS",
        "colab_type": "text"
      },
      "source": [
        "* `TruncatedSVD` 통해 topic 20개 feature만 선택\n"
      ]
    },
    {
      "cell_type": "code",
      "metadata": {
        "id": "GNwoXiQXALRn",
        "colab_type": "code",
        "colab": {}
      },
      "source": [
        "# SVD 진행\n",
        "svd = TruncatedSVD(n_components=len(news_data.target_names), n_iter=1000)\n",
        "svd.fit(tfidf_matrix) # 위에서 생성한 tfidf 행렬에 맞추어 특잇값분해\n",
        "\n",
        "U = svd.fit_transform(tfidf_matrix) / svd.singular_values_\n",
        "VT = svd.components_\n",
        "S = np.diag(svd.singular_values_)"
      ],
      "execution_count": 60,
      "outputs": []
    },
    {
      "cell_type": "code",
      "metadata": {
        "id": "IF4zSoAHBhWz",
        "colab_type": "code",
        "colab": {
          "base_uri": "https://localhost:8080/",
          "height": 263
        },
        "outputId": "9499da52-e2d5-4a86-cafd-09f964268db3"
      },
      "source": [
        "# U: 토픽 번호\n",
        "print(U) # 가장 큰 값이 가장 연관성 높은 topic\n",
        "print(U.shape)"
      ],
      "execution_count": 61,
      "outputs": [
        {
          "output_type": "stream",
          "text": [
            "[[ 0.00834054 -0.01091546 -0.00328674 ...  0.01936484 -0.01445549\n",
            "   0.0079041 ]\n",
            " [ 0.0087589  -0.00410384 -0.00516331 ... -0.02103608 -0.00802416\n",
            "  -0.00894954]\n",
            " [ 0.01411892 -0.00762824  0.01663664 ...  0.0210131  -0.01613651\n",
            "   0.01971222]\n",
            " ...\n",
            " [ 0.00524679 -0.00311071  0.00175188 ...  0.00132466 -0.0033033\n",
            "  -0.00131575]\n",
            " [ 0.00580616  0.01161377 -0.01295616 ... -0.00440827  0.0273712\n",
            "  -0.02715296]\n",
            " [ 0.01586616 -0.009819   -0.01159506 ...  0.00658097 -0.00549311\n",
            "   0.01398965]]\n",
            "(11314, 20)\n"
          ],
          "name": "stdout"
        }
      ]
    },
    {
      "cell_type": "code",
      "metadata": {
        "id": "0aoTAb5_A9BL",
        "colab_type": "code",
        "colab": {
          "base_uri": "https://localhost:8080/",
          "height": 281
        },
        "outputId": "5657fe3f-d716-4ae1-a462-1585a81944df"
      },
      "source": [
        "# 문서별 Topic 번호 확인: U에서 가장 큰 feature 인텍스 찾기\n",
        "for i in range(15): # 문서 15개만 확인\n",
        "    print('문서 = {:d} : Topic = {:d}'.format(i, np.argmax(U[i:(i+1), :][0]))) "
      ],
      "execution_count": 62,
      "outputs": [
        {
          "output_type": "stream",
          "text": [
            "문서 = 0 : Topic = 17\n",
            "문서 = 1 : Topic = 0\n",
            "문서 = 2 : Topic = 17\n",
            "문서 = 3 : Topic = 5\n",
            "문서 = 4 : Topic = 3\n",
            "문서 = 5 : Topic = 8\n",
            "문서 = 6 : Topic = 0\n",
            "문서 = 7 : Topic = 6\n",
            "문서 = 8 : Topic = 7\n",
            "문서 = 9 : Topic = 12\n",
            "문서 = 10 : Topic = 1\n",
            "문서 = 11 : Topic = 10\n",
            "문서 = 12 : Topic = 9\n",
            "문서 = 13 : Topic = 0\n",
            "문서 = 14 : Topic = 6\n"
          ],
          "name": "stdout"
        }
      ]
    },
    {
      "cell_type": "code",
      "metadata": {
        "id": "CGTsi5NOBwwC",
        "colab_type": "code",
        "colab": {
          "base_uri": "https://localhost:8080/",
          "height": 263
        },
        "outputId": "f89a56e6-8593-41e2-8c14-35dfbcba22f7"
      },
      "source": [
        "# V: 토픽별 중요 단어\n",
        "print(VT) # 500개의 단어 중 각 토픽별로 등장하는 중요 단어 비중\n",
        "print(VT.shape)"
      ],
      "execution_count": 63,
      "outputs": [
        {
          "output_type": "stream",
          "text": [
            "[[ 4.55707965e-02  2.64628493e-02  5.36481364e-02 ...  4.47155421e-02\n",
            "   7.38468906e-02  7.17739949e-02]\n",
            " [ 1.35724772e-02  3.66328106e-02 -2.91410583e-02 ... -2.49454075e-02\n",
            "  -6.88385714e-02 -5.80195095e-02]\n",
            " [-1.29499109e-02 -2.82157474e-02 -2.21213084e-02 ... -6.87342986e-03\n",
            "  -9.32670218e-02 -3.75030696e-02]\n",
            " ...\n",
            " [-1.28278335e-02 -9.90293809e-03 -3.04429513e-02 ...  1.88829364e-05\n",
            "  -1.02939532e-02  3.94068164e-02]\n",
            " [-2.05348535e-02 -1.07326934e-02 -3.07443513e-03 ...  1.07910233e-02\n",
            "  -2.88018613e-03 -3.63476434e-03]\n",
            " [ 5.88746214e-03  1.53334692e-02 -1.07437023e-02 ...  2.21347084e-02\n",
            "   2.02575468e-01  4.00411511e-03]]\n",
            "(20, 500)\n"
          ],
          "name": "stdout"
        }
      ]
    },
    {
      "cell_type": "code",
      "metadata": {
        "id": "gof7X-gDB6xZ",
        "colab_type": "code",
        "colab": {
          "base_uri": "https://localhost:8080/",
          "height": 389
        },
        "outputId": "c8d228e7-9c20-4eb3-ef2d-583d277151d9"
      },
      "source": [
        "# 토픽별 중요 단어 표시\n",
        "for i in range(len(VT)):\n",
        "    idx = np.flipud(VT[i].argsort())[:10] # idx 목록: 자주 등장하는 거 sparse로\n",
        "    print('토픽 = {:d} {:s}'.format(i+1, news_data.target_names[i]), end=' || ') # i번째 토픽에서\n",
        "    for n in idx: # idx별로 뽑아서 보자\n",
        "        print('{:d}번째 단어 {:s}'.format(n, vocab[n]), end='/ ')\n",
        "    print('')"
      ],
      "execution_count": 69,
      "outputs": [
        {
          "output_type": "stream",
          "text": [
            "토픽 = 1 alt.atheism || 494번째 단어 would/ 235번째 단어 like/ 222번째 단어 know/ 303번째 단어 people/ 435번째 단어 think/ 169번째 단어 good/ 9번째 단어 also/ 91번째 단어 could/ 441번째 단어 time/ 476번째 단어 well/ \n",
            "토픽 = 2 comp.graphics || 432번째 단어 thanks/ 484번째 단어 windows/ 312번째 단어 please/ 19번째 단어 anyone/ 250번째 단어 mail/ 56번째 단어 card/ 222번째 단어 know/ 4번째 단어 advance/ 113번째 단어 drive/ 145번째 단어 file/ \n",
            "토픽 = 3 comp.os.ms-windows.misc || 494번째 단어 would/ 432번째 단어 thanks/ 19번째 단어 anyone/ 222번째 단어 know/ 235번째 단어 like/ 312번째 단어 please/ 91번째 단어 could/ 250번째 단어 mail/ 393번째 단어 someone/ 4번째 단어 advance/ \n",
            "토픽 = 4 comp.sys.ibm.pc.hardware || 160번째 단어 game/ 427번째 단어 team/ 498번째 단어 year/ 161번째 단어 games/ 169번째 단어 good/ 225번째 단어 last/ 366번째 단어 season/ 311번째 단어 players/ 310번째 단어 play/ 190번째 단어 hockey/ \n",
            "토픽 = 5 comp.sys.mac.hardware || 494번째 단어 would/ 235번째 단어 like/ 113번째 단어 drive/ 421번째 단어 system/ 484번째 단어 windows/ 56번째 단어 card/ 365번째 단어 scsi/ 110번째 단어 disk/ 427번째 단어 team/ 330번째 단어 problem/ \n",
            "토픽 = 6 comp.windows.x || 113번째 단어 drive/ 312번째 단어 please/ 365번째 단어 scsi/ 180번째 단어 hard/ 250번째 단어 mail/ 360번째 단어 sale/ 494번째 단어 would/ 123번째 단어 email/ 116번째 단어 drives/ 303번째 단어 people/ \n",
            "토픽 = 7 misc.forsale || 113번째 단어 drive/ 222번째 단어 know/ 235번째 단어 like/ 19번째 단어 anyone/ 365번째 단어 scsi/ 116번째 단어 drives/ 180번째 단어 hard/ 394번째 단어 something/ 56번째 단어 card/ 435번째 단어 think/ \n",
            "토픽 = 8 rec.autos || 235번째 단어 like/ 312번째 단어 please/ 360번째 단어 sale/ 250번째 단어 mail/ 123번째 단어 email/ 289번째 단어 offer/ 394번째 단어 something/ 375번째 단어 send/ 239번째 단어 list/ 207번째 단어 interested/ \n",
            "토픽 = 9 rec.motorcycles || 435번째 단어 think/ 484번째 단어 windows/ 303번째 단어 people/ 312번째 단어 please/ 56번째 단어 card/ 214번째 단어 jesus/ 432번째 단어 thanks/ 38번째 단어 believe/ 41번째 단어 bible/ 250번째 단어 mail/ \n",
            "토픽 = 10 rec.sport.baseball || 169번째 단어 good/ 56번째 단어 card/ 435번째 단어 think/ 360번째 단어 sale/ 326번째 단어 price/ 42번째 단어 bike/ 9번째 단어 also/ 272번째 단어 much/ 245번째 단어 looking/ 289번째 단어 offer/ \n",
            "토픽 = 11 rec.sport.hockey || 56번째 단어 card/ 303번째 단어 people/ 469번째 단어 video/ 222번째 단어 know/ 360번째 단어 sale/ 269번째 단어 monitor/ 170번째 단어 government/ 115번째 단어 drivers/ 326번째 단어 price/ 289번째 단어 offer/ \n",
            "토픽 = 12 sci.crypt || 435번째 단어 think/ 67번째 단어 chip/ 421번째 단어 system/ 91번째 단어 could/ 124번째 단어 encryption/ 75번째 단어 clipper/ 278번째 단어 need/ 170번째 단어 government/ 402번째 단어 space/ 272번째 단어 much/ \n",
            "토픽 = 13 sci.electronics || 91번째 단어 could/ 432번째 단어 thanks/ 354번째 단어 right/ 56번째 단어 card/ 330번째 단어 problem/ 272번째 단어 much/ 42번째 단어 bike/ 476번째 단어 well/ 393번째 단어 someone/ 4번째 단어 advance/ \n",
            "토픽 = 14 sci.med || 169번째 단어 good/ 303번째 단어 people/ 484번째 단어 windows/ 145번째 단어 file/ 170번째 단어 government/ 146번째 단어 files/ 432번째 단어 thanks/ 113번째 단어 drive/ 494번째 단어 would/ 498번째 단어 year/ \n",
            "토픽 = 15 sci.space || 19번째 단어 anyone/ 432번째 단어 thanks/ 235번째 단어 like/ 169번째 단어 good/ 9번째 단어 also/ 303번째 단어 people/ 402번째 단어 space/ 56번째 단어 card/ 91번째 단어 could/ 421번째 단어 system/ \n",
            "토픽 = 16 soc.religion.christian || 402번째 단어 space/ 498번째 단어 year/ 432번째 단어 thanks/ 330번째 단어 problem/ 275번째 단어 nasa/ 272번째 단어 much/ 42번째 단어 bike/ 9번째 단어 also/ 441번째 단어 time/ 435번째 단어 think/ \n",
            "토픽 = 17 talk.politics.guns || 330번째 단어 problem/ 432번째 단어 thanks/ 421번째 단어 system/ 160번째 단어 game/ 278번째 단어 need/ 483번째 단어 window/ 214번째 단어 jesus/ 441번째 단어 time/ 150번째 단어 first/ 464번째 단어 using/ \n",
            "토픽 = 18 talk.politics.mideast || 19번째 단어 anyone/ 354번째 단어 right/ 211번째 단어 israel/ 435번째 단어 think/ 360번째 단어 sale/ 483번째 단어 window/ 330번째 단어 problem/ 212번째 단어 israeli/ 170번째 단어 government/ 35번째 단어 back/ \n",
            "토픽 = 19 talk.politics.misc || 330번째 단어 problem/ 303번째 단어 people/ 312번째 단어 please/ 19번째 단어 anyone/ 91번째 단어 could/ 421번째 단어 system/ 123번째 단어 email/ 331번째 단어 problems/ 169번째 단어 good/ 441번째 단어 time/ \n",
            "토픽 = 20 talk.religion.misc || 9번째 단어 also/ 498번째 단어 year/ 169번째 단어 good/ 222번째 단어 know/ 483번째 단어 window/ 330번째 단어 problem/ 312번째 단어 please/ 211번째 단어 israel/ 225번째 단어 last/ 464번째 단어 using/ \n"
          ],
          "name": "stdout"
        }
      ]
    },
    {
      "cell_type": "code",
      "metadata": {
        "id": "9Nvq1TIzEJlM",
        "colab_type": "code",
        "colab": {
          "base_uri": "https://localhost:8080/",
          "height": 87
        },
        "outputId": "ae214ee9-c44f-45f7-9326-4c4321eb4cb1"
      },
      "source": [
        "# 문서별로 분류된 topic 코드 확인\n",
        "def check_topic(x, y):\n",
        "    print(\"문서 %d의 topic = %s\" %(x, news_data.target_names[news_data.target[x]]))\n",
        "    print(\"문서 %d의 topic = %s\" %(y, news_data.target_names[news_data.target[y]]))\n",
        "\n",
        "check_topic(1, 6)\n",
        "check_topic(0, 2)"
      ],
      "execution_count": 71,
      "outputs": [
        {
          "output_type": "stream",
          "text": [
            "문서 1의 topic = alt.atheism\n",
            "문서 6의 topic = comp.sys.mac.hardware\n",
            "문서 0의 topic = talk.politics.mideast\n",
            "문서 2의 topic = talk.politics.mideast\n"
          ],
          "name": "stdout"
        }
      ]
    }
  ]
}