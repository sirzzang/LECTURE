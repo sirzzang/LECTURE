{
  "nbformat": 4,
  "nbformat_minor": 0,
  "metadata": {
    "colab": {
      "name": "NLP-TopicModel-LDA-practice.ipynb",
      "provenance": []
    },
    "kernelspec": {
      "name": "python3",
      "display_name": "Python 3"
    }
  },
  "cells": [
    {
      "cell_type": "code",
      "metadata": {
        "id": "1gFm-9pvYZnv",
        "colab_type": "code",
        "colab": {
          "base_uri": "https://localhost:8080/",
          "height": 52
        },
        "outputId": "d02d4ebb-bf71-434e-f093-2a1c77271108"
      },
      "source": [
        "# module import\n",
        "import numpy as np\n",
        "import re\n",
        "import pickle\n",
        "import nltk\n",
        "nltk.download('stopwords')\n",
        "from nltk.corpus import stopwords\n",
        "from sklearn.feature_extraction.text import TfidfVectorizer\n",
        "from sklearn.decomposition import LatentDirichletAllocation as LDA"
      ],
      "execution_count": 9,
      "outputs": [
        {
          "output_type": "stream",
          "text": [
            "[nltk_data] Downloading package stopwords to /root/nltk_data...\n",
            "[nltk_data]   Unzipping corpora/stopwords.zip.\n"
          ],
          "name": "stdout"
        }
      ]
    },
    {
      "cell_type": "code",
      "metadata": {
        "id": "EYWrDYLqYqKk",
        "colab_type": "code",
        "colab": {}
      },
      "source": [
        "# 경로 설정\n",
        "root_path = \"/content/drive/My Drive/멀티캠퍼스/[혁신성장] 인공지능 자연어처리 기반/[강의]/조성현 강사님\"\n",
        "data_path = f\"{root_path}/dataset\""
      ],
      "execution_count": 2,
      "outputs": []
    },
    {
      "cell_type": "markdown",
      "metadata": {
        "id": "3RZC-i2LY7Gw",
        "colab_type": "text"
      },
      "source": [
        "# _1_. 데이터"
      ]
    },
    {
      "cell_type": "code",
      "metadata": {
        "id": "IJUlXljGY4JO",
        "colab_type": "code",
        "colab": {}
      },
      "source": [
        "# 데이터 로드\n",
        "with open(f\"{data_path}/news.data\", 'rb') as f:\n",
        "    news_data = pickle.load(f)"
      ],
      "execution_count": 3,
      "outputs": []
    },
    {
      "cell_type": "code",
      "metadata": {
        "id": "HsHrHgAVY9Rp",
        "colab_type": "code",
        "colab": {
          "base_uri": "https://localhost:8080/",
          "height": 34
        },
        "outputId": "497b6e19-c0d2-4015-934c-c8d68741f3a7"
      },
      "source": [
        "dir(news_data)"
      ],
      "execution_count": 4,
      "outputs": [
        {
          "output_type": "execute_result",
          "data": {
            "text/plain": [
              "['DESCR', 'data', 'filenames', 'target', 'target_names']"
            ]
          },
          "metadata": {
            "tags": []
          },
          "execution_count": 4
        }
      ]
    },
    {
      "cell_type": "code",
      "metadata": {
        "id": "mHLv0cBiZGwq",
        "colab_type": "code",
        "colab": {
          "base_uri": "https://localhost:8080/",
          "height": 389
        },
        "outputId": "3938fdea-d772-465a-f26a-7070ce514830"
      },
      "source": [
        "# 데이터 확인\n",
        "news = news_data.data\n",
        "print(len(news))\n",
        "print(news[0])\n",
        "print('')\n",
        "\n",
        "# 토픽 확인\n",
        "print(len(news_data.target_names))\n",
        "print(news_data.target_names)"
      ],
      "execution_count": 6,
      "outputs": [
        {
          "output_type": "stream",
          "text": [
            "11314\n",
            "Well i'm not sure about the story nad it did seem biased. What\n",
            "I disagree with is your statement that the U.S. Media is out to\n",
            "ruin Israels reputation. That is rediculous. The U.S. media is\n",
            "the most pro-israeli media in the world. Having lived in Europe\n",
            "I realize that incidences such as the one described in the\n",
            "letter have occured. The U.S. media as a whole seem to try to\n",
            "ignore them. The U.S. is subsidizing Israels existance and the\n",
            "Europeans are not (at least not to the same degree). So I think\n",
            "that might be a reason they report more clearly on the\n",
            "atrocities.\n",
            "\tWhat is a shame is that in Austria, daily reports of\n",
            "the inhuman acts commited by Israeli soldiers and the blessing\n",
            "received from the Government makes some of the Holocaust guilt\n",
            "go away. After all, look how the Jews are treating other races\n",
            "when they got power. It is unfortunate.\n",
            "\n",
            "\n",
            "20\n",
            "['alt.atheism', 'comp.graphics', 'comp.os.ms-windows.misc', 'comp.sys.ibm.pc.hardware', 'comp.sys.mac.hardware', 'comp.windows.x', 'misc.forsale', 'rec.autos', 'rec.motorcycles', 'rec.sport.baseball', 'rec.sport.hockey', 'sci.crypt', 'sci.electronics', 'sci.med', 'sci.space', 'soc.religion.christian', 'talk.politics.guns', 'talk.politics.mideast', 'talk.politics.misc', 'talk.religion.misc']\n"
          ],
          "name": "stdout"
        }
      ]
    },
    {
      "cell_type": "code",
      "metadata": {
        "id": "8Wlc2L_LZMUC",
        "colab_type": "code",
        "colab": {
          "base_uri": "https://localhost:8080/",
          "height": 54
        },
        "outputId": "96cbaf72-0274-480d-eee2-6af5146b3977"
      },
      "source": [
        "# 전처리\n",
        "news_1 = []\n",
        "news_2 = []\n",
        "\n",
        "\n",
        "# 1) 영문자 아닌 것 제외\n",
        "for doc in news:\n",
        "    news_1_temp = re.sub(\"[^a-zA-Z]\", \" \", doc)\n",
        "    news_1.append(news_1_temp)\n",
        "\n",
        "# 2) 불용어 제거, 소문자 변환, 길이 3이하 단어 제거\n",
        "stopwords_list = stopwords.words('english')\n",
        "for doc in news:\n",
        "    news_2_temp = [] # 임시로 보관할 리스트\n",
        "    for w in doc.split():\n",
        "        w = w.lower()\n",
        "        if len(w) > 3 and w not in stopwords_list:\n",
        "            news_2_temp.append(w)\n",
        "    news_2.append(\" \".join(news_2_temp))\n",
        "\n",
        "# 데이터 확인\n",
        "print(news_2[0])"
      ],
      "execution_count": 10,
      "outputs": [
        {
          "output_type": "stream",
          "text": [
            "well sure story seem biased. disagree statement u.s. media ruin israels reputation. rediculous. u.s. media pro-israeli media world. lived europe realize incidences described letter occured. u.s. media whole seem ignore them. u.s. subsidizing israels existance europeans least degree). think might reason report clearly atrocities. shame austria, daily reports inhuman acts commited israeli soldiers blessing received government makes holocaust guilt away. all, look jews treating races power. unfortunate.\n"
          ],
          "name": "stdout"
        }
      ]
    },
    {
      "cell_type": "markdown",
      "metadata": {
        "id": "-Pdq8s8naL2a",
        "colab_type": "text"
      },
      "source": [
        "# _2_. Tfidf matrix"
      ]
    },
    {
      "cell_type": "code",
      "metadata": {
        "id": "c-jRoVaxaPMq",
        "colab_type": "code",
        "colab": {
          "base_uri": "https://localhost:8080/",
          "height": 34
        },
        "outputId": "a29bbe48-f94a-4ebf-8052-5478661e7b4e"
      },
      "source": [
        "# tfidf 행렬\n",
        "tf_vector = TfidfVectorizer(max_features=500) # 500개 사용\n",
        "tfidf_matrix = tf_vector.fit_transform(news_2)\n",
        "print(tfidf_matrix.shape) # sparse matrix"
      ],
      "execution_count": 11,
      "outputs": [
        {
          "output_type": "stream",
          "text": [
            "(11314, 500)\n"
          ],
          "name": "stdout"
        }
      ]
    },
    {
      "cell_type": "code",
      "metadata": {
        "id": "Z-LjR6voabHk",
        "colab_type": "code",
        "colab": {
          "base_uri": "https://localhost:8080/",
          "height": 72
        },
        "outputId": "d874c2d5-2ddb-4d5c-f78d-abcf767482e4"
      },
      "source": [
        "# 어휘 목록 확인\n",
        "vocab_list = tf_vector.get_feature_names()\n",
        "print(len(vocab_list)) # 500개\n",
        "print(vocab_list[:30]) # 30개 확인"
      ],
      "execution_count": 12,
      "outputs": [
        {
          "output_type": "stream",
          "text": [
            "500\n",
            "['00', '000', '0t', '10', '11', '12', '14', '145', '15', '16', '17', '1992', '1993', '1d9', '1t', '20', '24', '25', '2di', '30', '34u', '3t', '50', '75u', '93', 'a86', 'able', 'access', 'actually', 'address']\n"
          ],
          "name": "stdout"
        }
      ]
    },
    {
      "cell_type": "markdown",
      "metadata": {
        "id": "HfvV_O0WavXl",
        "colab_type": "text"
      },
      "source": [
        "# _3_. LDA\n",
        "* document-topic 분포 반환\n",
        "* iteration 횟수 조정: 수렴하지 않은 경우 `max_iter` 증가.\n",
        "* 평가 지표: perplexity"
      ]
    },
    {
      "cell_type": "code",
      "metadata": {
        "id": "eEHHFYyOabLh",
        "colab_type": "code",
        "colab": {}
      },
      "source": [
        "# LDA 모델 생성\n",
        "lda_model = LDA(n_components=len(news_data.target_names),\n",
        "                learning_method='online',\n",
        "                evaluate_every=5,\n",
        "                max_iter=1000,\n",
        "                verbose=1)"
      ],
      "execution_count": 13,
      "outputs": []
    },
    {
      "cell_type": "code",
      "metadata": {
        "id": "ZrB1CGEjabJj",
        "colab_type": "code",
        "colab": {
          "base_uri": "https://localhost:8080/",
          "height": 281
        },
        "outputId": "9f545ac7-3d47-400b-edfe-780666121b04"
      },
      "source": [
        "# tf-idf 모델 학습 후 토픽 반환\n",
        "doc_topics = lda_model.fit_transform(tfidf_matrix)"
      ],
      "execution_count": 15,
      "outputs": [
        {
          "output_type": "stream",
          "text": [
            "iteration: 1 of max_iter: 1000\n",
            "iteration: 2 of max_iter: 1000\n",
            "iteration: 3 of max_iter: 1000\n",
            "iteration: 4 of max_iter: 1000\n",
            "iteration: 5 of max_iter: 1000, perplexity: 1520.1812\n",
            "iteration: 6 of max_iter: 1000\n",
            "iteration: 7 of max_iter: 1000\n",
            "iteration: 8 of max_iter: 1000\n",
            "iteration: 9 of max_iter: 1000\n",
            "iteration: 10 of max_iter: 1000, perplexity: 1519.6199\n",
            "iteration: 11 of max_iter: 1000\n",
            "iteration: 12 of max_iter: 1000\n",
            "iteration: 13 of max_iter: 1000\n",
            "iteration: 14 of max_iter: 1000\n",
            "iteration: 15 of max_iter: 1000, perplexity: 1519.5822\n"
          ],
          "name": "stdout"
        }
      ]
    },
    {
      "cell_type": "markdown",
      "metadata": {
        "id": "_QnITspRbaOY",
        "colab_type": "text"
      },
      "source": [
        "# _4_. 결과 확인"
      ]
    },
    {
      "cell_type": "code",
      "metadata": {
        "id": "kWYLbAXuaa8x",
        "colab_type": "code",
        "colab": {
          "base_uri": "https://localhost:8080/",
          "height": 193
        },
        "outputId": "5ca737c4-569c-4f9a-c9bb-cc6c321c27e7"
      },
      "source": [
        "# 문서별 토픽 번호 확인: 10개까지만 확인\n",
        "for i in range(10):\n",
        "    print(f\"문서 번호={i}, 할당된 주제={np.argmax(doc_topics[i:(i+1), :][0])}\")"
      ],
      "execution_count": 18,
      "outputs": [
        {
          "output_type": "stream",
          "text": [
            "문서 번호=0, 할당된 주제=18\n",
            "문서 번호=1, 할당된 주제=18\n",
            "문서 번호=2, 할당된 주제=18\n",
            "문서 번호=3, 할당된 주제=13\n",
            "문서 번호=4, 할당된 주제=13\n",
            "문서 번호=5, 할당된 주제=18\n",
            "문서 번호=6, 할당된 주제=1\n",
            "문서 번호=7, 할당된 주제=18\n",
            "문서 번호=8, 할당된 주제=15\n",
            "문서 번호=9, 할당된 주제=18\n"
          ],
          "name": "stdout"
        }
      ]
    },
    {
      "cell_type": "code",
      "metadata": {
        "id": "UScV8Jg8b6sA",
        "colab_type": "code",
        "colab": {
          "base_uri": "https://localhost:8080/",
          "height": 1000
        },
        "outputId": "9f15d90e-8561-4c03-847e-ca0e9401da4a"
      },
      "source": [
        "# 토픽-단어 행렬에서 토픽 별로 중요 단어 10개 표시\n",
        "topic_term_matrix = lda_model.components_\n",
        "print(topic_term_matrix)\n",
        "print(topic_term_matrix.shape) # VT에 해당\n",
        "\n",
        "for i in range(len(topic_term_matrix)):\n",
        "    indices = np.flipud(topic_term_matrix[i].argsort())[:10] # 큰 순서대로 정렬 후 10개 인덱스 반환\n",
        "    print(f\"토픽={i+1}\")\n",
        "    for idx in indices:\n",
        "        print(f\"   {vocab_list[idx]}\")\n",
        "    print(\"\")"
      ],
      "execution_count": 22,
      "outputs": [
        {
          "output_type": "stream",
          "text": [
            "[[1.15081489e+00 5.00000061e-02 5.00000001e-02 ... 1.77168418e+00\n",
            "  6.72926881e+00 8.43133681e+00]\n",
            " [5.00000003e-02 5.00000002e-02 5.00000001e-02 ... 5.00000152e-02\n",
            "  5.00000087e-02 5.00000019e-02]\n",
            " [5.00000391e-02 5.00000010e-02 5.00000002e-02 ... 5.00000010e-02\n",
            "  5.00000009e-02 5.00000003e-02]\n",
            " ...\n",
            " [5.00000012e-02 5.00000015e-02 5.00000002e-02 ... 2.85823527e+01\n",
            "  2.17984571e+01 1.84411263e+01]\n",
            " [5.00000922e-02 5.52691217e+00 5.00000001e-02 ... 3.83518716e+01\n",
            "  2.87581056e+01 6.26235471e+01]\n",
            " [6.53082624e+01 5.00000016e-02 5.00000001e-02 ... 5.00000004e-02\n",
            "  5.00000460e-02 5.00000103e-02]]\n",
            "(20, 500)\n",
            "토픽=1\n",
            "   file\n",
            "   program\n",
            "   files\n",
            "   windows\n",
            "   window\n",
            "   com\n",
            "   edu\n",
            "   data\n",
            "   using\n",
            "   image\n",
            "\n",
            "토픽=2\n",
            "   would\n",
            "   thought\n",
            "   much\n",
            "   says\n",
            "   thing\n",
            "   look\n",
            "   sure\n",
            "   out\n",
            "   might\n",
            "   like\n",
            "\n",
            "토픽=3\n",
            "   driver\n",
            "   speed\n",
            "   drive\n",
            "   heard\n",
            "   side\n",
            "   see\n",
            "   sound\n",
            "   output\n",
            "   code\n",
            "   rate\n",
            "\n",
            "토픽=4\n",
            "   sound\n",
            "   games\n",
            "   graphics\n",
            "   video\n",
            "   for\n",
            "   already\n",
            "   drivers\n",
            "   day\n",
            "   window\n",
            "   four\n",
            "\n",
            "토픽=5\n",
            "   drive\n",
            "   scsi\n",
            "   hard\n",
            "   disk\n",
            "   drives\n",
            "   computer\n",
            "   posting\n",
            "   off\n",
            "   apple\n",
            "   system\n",
            "\n",
            "토픽=6\n",
            "   apple\n",
            "   game\n",
            "   ve\n",
            "   last\n",
            "   book\n",
            "   couple\n",
            "   seen\n",
            "   local\n",
            "   can\n",
            "   looking\n",
            "\n",
            "토픽=7\n",
            "   team\n",
            "   good\n",
            "   later\n",
            "   many\n",
            "   course\n",
            "   players\n",
            "   but\n",
            "   either\n",
            "   and\n",
            "   think\n",
            "\n",
            "토픽=8\n",
            "   name\n",
            "   output\n",
            "   answer\n",
            "   too\n",
            "   he\n",
            "   simple\n",
            "   in\n",
            "   value\n",
            "   line\n",
            "   questions\n",
            "\n",
            "토픽=9\n",
            "   number\n",
            "   phone\n",
            "   year\n",
            "   probably\n",
            "   week\n",
            "   numbers\n",
            "   that\n",
            "   never\n",
            "   better\n",
            "   also\n",
            "\n",
            "토픽=10\n",
            "   color\n",
            "   bill\n",
            "   actually\n",
            "   lines\n",
            "   state\n",
            "   exist\n",
            "   though\n",
            "   self\n",
            "   control\n",
            "   what\n",
            "\n",
            "토픽=11\n",
            "   10\n",
            "   11\n",
            "   john\n",
            "   15\n",
            "   20\n",
            "   16\n",
            "   17\n",
            "   30\n",
            "   24\n",
            "   93\n",
            "\n",
            "토픽=12\n",
            "   space\n",
            "   would\n",
            "   000\n",
            "   1993\n",
            "   nasa\n",
            "   april\n",
            "   like\n",
            "   research\n",
            "   also\n",
            "   rate\n",
            "\n",
            "토픽=13\n",
            "   thanks\n",
            "   please\n",
            "   mail\n",
            "   anyone\n",
            "   email\n",
            "   edu\n",
            "   know\n",
            "   info\n",
            "   looking\n",
            "   interested\n",
            "\n",
            "토픽=14\n",
            "   they\n",
            "   game\n",
            "   re\n",
            "   year\n",
            "   team\n",
            "   ll\n",
            "   would\n",
            "   like\n",
            "   play\n",
            "   good\n",
            "\n",
            "토픽=15\n",
            "   windows\n",
            "   card\n",
            "   memory\n",
            "   software\n",
            "   problem\n",
            "   using\n",
            "   video\n",
            "   version\n",
            "   board\n",
            "   screen\n",
            "\n",
            "토픽=16\n",
            "   black\n",
            "   stuff\n",
            "   back\n",
            "   like\n",
            "   cost\n",
            "   still\n",
            "   money\n",
            "   well\n",
            "   little\n",
            "   long\n",
            "\n",
            "토픽=17\n",
            "   chip\n",
            "   clipper\n",
            "   encryption\n",
            "   keys\n",
            "   key\n",
            "   government\n",
            "   armenian\n",
            "   armenians\n",
            "   turkish\n",
            "   public\n",
            "\n",
            "토픽=18\n",
            "   years\n",
            "   first\n",
            "   yes\n",
            "   something\n",
            "   really\n",
            "   hand\n",
            "   left\n",
            "   true\n",
            "   perhaps\n",
            "   rather\n",
            "\n",
            "토픽=19\n",
            "   people\n",
            "   would\n",
            "   think\n",
            "   like\n",
            "   god\n",
            "   know\n",
            "   even\n",
            "   believe\n",
            "   jesus\n",
            "   many\n",
            "\n",
            "토픽=20\n",
            "   00\n",
            "   city\n",
            "   bit\n",
            "   take\n",
            "   power\n",
            "   include\n",
            "   similar\n",
            "   again\n",
            "   call\n",
            "   20\n",
            "\n"
          ],
          "name": "stdout"
        }
      ]
    },
    {
      "cell_type": "code",
      "metadata": {
        "id": "L9Ru-6cNcsAi",
        "colab_type": "code",
        "colab": {}
      },
      "source": [
        "# 문서별 분류 코드 예시로 확인\n",
        "def check_topic(x, y):\n",
        "    print(f\"문서 {x}의 topic = {news_data.target_names[news_data.target[x]]}\")\n",
        "    print(f\"문서 {y}의 topic = {news_data.target_names[news_data.target[y]]}\")"
      ],
      "execution_count": 26,
      "outputs": []
    },
    {
      "cell_type": "code",
      "metadata": {
        "id": "2sJVo223c_I8",
        "colab_type": "code",
        "colab": {
          "base_uri": "https://localhost:8080/",
          "height": 122
        },
        "outputId": "e3fa21a0-0c54-46d6-c918-8fc331723536"
      },
      "source": [
        "check_topic(1, 5)\n",
        "check_topic(0, 2)\n",
        "check_topic(131, 411)"
      ],
      "execution_count": 27,
      "outputs": [
        {
          "output_type": "stream",
          "text": [
            "문서 1의 topic = alt.atheism\n",
            "문서 5의 topic = soc.religion.christian\n",
            "문서 0의 topic = talk.politics.mideast\n",
            "문서 2의 topic = talk.politics.mideast\n",
            "문서 131의 topic = comp.sys.ibm.pc.hardware\n",
            "문서 411의 topic = misc.forsale\n"
          ],
          "name": "stdout"
        }
      ]
    }
  ]
}