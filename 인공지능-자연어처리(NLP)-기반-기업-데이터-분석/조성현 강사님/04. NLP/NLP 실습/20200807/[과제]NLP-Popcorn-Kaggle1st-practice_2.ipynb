{
  "nbformat": 4,
  "nbformat_minor": 0,
  "metadata": {
    "colab": {
      "name": "[과제]NLP-Popcorn-Kaggle1st-final.ipynb",
      "provenance": [],
      "collapsed_sections": [],
      "toc_visible": true,
      "machine_shape": "hm"
    },
    "kernelspec": {
      "name": "python3",
      "display_name": "Python 3"
    },
    "accelerator": "GPU"
  },
  "cells": [
    {
      "cell_type": "markdown",
      "metadata": {
        "id": "bJ-YISh48xqg",
        "colab_type": "text"
      },
      "source": [
        "# Kaggle 1등 수상자 코드 아이디어\n",
        "\n",
        "- 정확도가 50% 나오는데, 뭔가 이상하다.\n"
      ]
    },
    {
      "cell_type": "code",
      "metadata": {
        "id": "MDFlqgi08tKe",
        "colab_type": "code",
        "colab": {
          "base_uri": "https://localhost:8080/",
          "height": 88
        },
        "outputId": "c83db528-bfd0-4c05-b29e-5db64ae0e28a"
      },
      "source": [
        "# 모듈 불러 오기\n",
        "import numpy as np\n",
        "import pandas as pd\n",
        "from bs4 import BeautifulSoup\n",
        "import re\n",
        "\n",
        "import nltk\n",
        "nltk.download('stopwords')\n",
        "nltk.download('punkt')\n",
        "from nltk.corpus import stopwords\n",
        "from nltk.stem import PorterStemmer\n",
        "from nltk import word_tokenize\n",
        "\n",
        "from collections import Counter\n",
        "import math\n",
        "\n",
        "from sklearn.feature_extraction.text import TfidfVectorizer\n",
        "from sklearn.model_selection import train_test_split\n",
        "from gensim.models.doc2vec import Doc2Vec, TaggedDocument\n",
        "\n",
        "from tensorflow.keras.preprocessing.sequence import pad_sequences\n",
        "from tensorflow.keras.layers import Input, Embedding, Dense, Dropout\n",
        "from tensorflow.keras.layers import Concatenate\n",
        "from tensorflow.keras.models import Model\n",
        "from tensorflow.keras.optimizers import Adam, RMSprop\n",
        "from tensorflow.keras.callbacks import EarlyStopping\n",
        "from tensorflow.keras import backend as K\n",
        "import matplotlib.pyplot as plt"
      ],
      "execution_count": 7,
      "outputs": [
        {
          "output_type": "stream",
          "text": [
            "[nltk_data] Downloading package stopwords to /root/nltk_data...\n",
            "[nltk_data]   Package stopwords is already up-to-date!\n",
            "[nltk_data] Downloading package punkt to /root/nltk_data...\n",
            "[nltk_data]   Package punkt is already up-to-date!\n"
          ],
          "name": "stdout"
        }
      ]
    },
    {
      "cell_type": "code",
      "metadata": {
        "id": "i9jJaK1u9CqQ",
        "colab_type": "code",
        "colab": {}
      },
      "source": [
        "# 경로 설정\n",
        "root_path = \"/content/drive/My Drive/멀티캠퍼스/[혁신성장] 인공지능 자연어처리 기반/[강의]/조성현 강사님\"\n",
        "data_path = f\"{root_path}/dataset\""
      ],
      "execution_count": 8,
      "outputs": []
    },
    {
      "cell_type": "code",
      "metadata": {
        "id": "Nat_F0a69XBl",
        "colab_type": "code",
        "colab": {
          "base_uri": "https://localhost:8080/",
          "height": 399
        },
        "outputId": "13fd48db-d6d5-4648-d144-b77f5aeeb715"
      },
      "source": [
        "# 데이터 로드 및 원본 보존\n",
        "df_raw = pd.read_csv(f\"{data_path}/4-1.labeledTrainData.tsv\",\n",
        "                     header=0,\n",
        "                     delimiter='\\t',\n",
        "                     quoting=3)\n",
        "display(df_raw)"
      ],
      "execution_count": 9,
      "outputs": [
        {
          "output_type": "display_data",
          "data": {
            "text/html": [
              "<div>\n",
              "<style scoped>\n",
              "    .dataframe tbody tr th:only-of-type {\n",
              "        vertical-align: middle;\n",
              "    }\n",
              "\n",
              "    .dataframe tbody tr th {\n",
              "        vertical-align: top;\n",
              "    }\n",
              "\n",
              "    .dataframe thead th {\n",
              "        text-align: right;\n",
              "    }\n",
              "</style>\n",
              "<table border=\"1\" class=\"dataframe\">\n",
              "  <thead>\n",
              "    <tr style=\"text-align: right;\">\n",
              "      <th></th>\n",
              "      <th>id</th>\n",
              "      <th>sentiment</th>\n",
              "      <th>review</th>\n",
              "    </tr>\n",
              "  </thead>\n",
              "  <tbody>\n",
              "    <tr>\n",
              "      <th>0</th>\n",
              "      <td>\"5814_8\"</td>\n",
              "      <td>1</td>\n",
              "      <td>\"With all this stuff going down at the moment ...</td>\n",
              "    </tr>\n",
              "    <tr>\n",
              "      <th>1</th>\n",
              "      <td>\"2381_9\"</td>\n",
              "      <td>1</td>\n",
              "      <td>\"\\\"The Classic War of the Worlds\\\" by Timothy ...</td>\n",
              "    </tr>\n",
              "    <tr>\n",
              "      <th>2</th>\n",
              "      <td>\"7759_3\"</td>\n",
              "      <td>0</td>\n",
              "      <td>\"The film starts with a manager (Nicholas Bell...</td>\n",
              "    </tr>\n",
              "    <tr>\n",
              "      <th>3</th>\n",
              "      <td>\"3630_4\"</td>\n",
              "      <td>0</td>\n",
              "      <td>\"It must be assumed that those who praised thi...</td>\n",
              "    </tr>\n",
              "    <tr>\n",
              "      <th>4</th>\n",
              "      <td>\"9495_8\"</td>\n",
              "      <td>1</td>\n",
              "      <td>\"Superbly trashy and wondrously unpretentious ...</td>\n",
              "    </tr>\n",
              "    <tr>\n",
              "      <th>...</th>\n",
              "      <td>...</td>\n",
              "      <td>...</td>\n",
              "      <td>...</td>\n",
              "    </tr>\n",
              "    <tr>\n",
              "      <th>24995</th>\n",
              "      <td>\"3453_3\"</td>\n",
              "      <td>0</td>\n",
              "      <td>\"It seems like more consideration has gone int...</td>\n",
              "    </tr>\n",
              "    <tr>\n",
              "      <th>24996</th>\n",
              "      <td>\"5064_1\"</td>\n",
              "      <td>0</td>\n",
              "      <td>\"I don't believe they made this film. Complete...</td>\n",
              "    </tr>\n",
              "    <tr>\n",
              "      <th>24997</th>\n",
              "      <td>\"10905_3\"</td>\n",
              "      <td>0</td>\n",
              "      <td>\"Guy is a loser. Can't get girls, needs to bui...</td>\n",
              "    </tr>\n",
              "    <tr>\n",
              "      <th>24998</th>\n",
              "      <td>\"10194_3\"</td>\n",
              "      <td>0</td>\n",
              "      <td>\"This 30 minute documentary Buñuel made in the...</td>\n",
              "    </tr>\n",
              "    <tr>\n",
              "      <th>24999</th>\n",
              "      <td>\"8478_8\"</td>\n",
              "      <td>1</td>\n",
              "      <td>\"I saw this movie as a child and it broke my h...</td>\n",
              "    </tr>\n",
              "  </tbody>\n",
              "</table>\n",
              "<p>25000 rows × 3 columns</p>\n",
              "</div>"
            ],
            "text/plain": [
              "              id  sentiment                                             review\n",
              "0       \"5814_8\"          1  \"With all this stuff going down at the moment ...\n",
              "1       \"2381_9\"          1  \"\\\"The Classic War of the Worlds\\\" by Timothy ...\n",
              "2       \"7759_3\"          0  \"The film starts with a manager (Nicholas Bell...\n",
              "3       \"3630_4\"          0  \"It must be assumed that those who praised thi...\n",
              "4       \"9495_8\"          1  \"Superbly trashy and wondrously unpretentious ...\n",
              "...          ...        ...                                                ...\n",
              "24995   \"3453_3\"          0  \"It seems like more consideration has gone int...\n",
              "24996   \"5064_1\"          0  \"I don't believe they made this film. Complete...\n",
              "24997  \"10905_3\"          0  \"Guy is a loser. Can't get girls, needs to bui...\n",
              "24998  \"10194_3\"          0  \"This 30 minute documentary Buñuel made in the...\n",
              "24999   \"8478_8\"          1  \"I saw this movie as a child and it broke my h...\n",
              "\n",
              "[25000 rows x 3 columns]"
            ]
          },
          "metadata": {
            "tags": []
          }
        }
      ]
    },
    {
      "cell_type": "markdown",
      "metadata": {
        "id": "_CD2LR7pEOoO",
        "colab_type": "text"
      },
      "source": [
        "## _1_. 전처리\n",
        "\n",
        "- 텍스트 기본 전처리\n",
        "    - HTML 태그 제거\n",
        "    - 영어 제외 변환\n",
        "    - 소문자화\n",
        "    - 불용어 제거\n",
        "    - 포터 스테밍 어간 추출\n",
        "- MI Score 상위 50%"
      ]
    },
    {
      "cell_type": "code",
      "metadata": {
        "id": "cFmvj6fYEQKG",
        "colab_type": "code",
        "colab": {}
      },
      "source": [
        "def clean_text(x):\n",
        "    x = BeautifulSoup(x, 'lxml').get_text() # HTML 태그 제거\n",
        "    x = re.sub(\"[^a-zA-Z]\", \" \", x) # 영어 제외 바꾸기\n",
        "    x = x.lower() # 소문자\n",
        "    x = [w for w in x.split() if not w in stopwords.words('english')] # 불용어 제거\n",
        "    x = [PorterStemmer().stem(word) for word in x] # 포터 스테밍으로 어간 추출\n",
        "    return \" \".join(x)"
      ],
      "execution_count": 10,
      "outputs": []
    },
    {
      "cell_type": "code",
      "metadata": {
        "id": "HuEbaOZPFUDg",
        "colab_type": "code",
        "colab": {
          "base_uri": "https://localhost:8080/",
          "height": 52
        },
        "outputId": "a8209160-77ff-4ea1-c3a9-7d33a488170e"
      },
      "source": [
        "%%time\n",
        "df_raw['text'] = df_raw['review'].apply(lambda x: clean_text(x))"
      ],
      "execution_count": 11,
      "outputs": [
        {
          "output_type": "stream",
          "text": [
            "CPU times: user 8min 37s, sys: 51.2 s, total: 9min 28s\n",
            "Wall time: 9min 28s\n"
          ],
          "name": "stdout"
        }
      ]
    },
    {
      "cell_type": "code",
      "metadata": {
        "id": "vKV2a50hJvLX",
        "colab_type": "code",
        "colab": {
          "base_uri": "https://localhost:8080/",
          "height": 399
        },
        "outputId": "65815a0f-af08-439b-efda-ddfb3067f0c6"
      },
      "source": [
        "df = df_raw[['text', 'sentiment']]\n",
        "display(df)"
      ],
      "execution_count": 12,
      "outputs": [
        {
          "output_type": "display_data",
          "data": {
            "text/html": [
              "<div>\n",
              "<style scoped>\n",
              "    .dataframe tbody tr th:only-of-type {\n",
              "        vertical-align: middle;\n",
              "    }\n",
              "\n",
              "    .dataframe tbody tr th {\n",
              "        vertical-align: top;\n",
              "    }\n",
              "\n",
              "    .dataframe thead th {\n",
              "        text-align: right;\n",
              "    }\n",
              "</style>\n",
              "<table border=\"1\" class=\"dataframe\">\n",
              "  <thead>\n",
              "    <tr style=\"text-align: right;\">\n",
              "      <th></th>\n",
              "      <th>text</th>\n",
              "      <th>sentiment</th>\n",
              "    </tr>\n",
              "  </thead>\n",
              "  <tbody>\n",
              "    <tr>\n",
              "      <th>0</th>\n",
              "      <td>stuff go moment mj start listen music watch od...</td>\n",
              "      <td>1</td>\n",
              "    </tr>\n",
              "    <tr>\n",
              "      <th>1</th>\n",
              "      <td>classic war world timothi hine entertain film ...</td>\n",
              "      <td>1</td>\n",
              "    </tr>\n",
              "    <tr>\n",
              "      <th>2</th>\n",
              "      <td>film start manag nichola bell give welcom inve...</td>\n",
              "      <td>0</td>\n",
              "    </tr>\n",
              "    <tr>\n",
              "      <th>3</th>\n",
              "      <td>must assum prais film greatest film opera ever...</td>\n",
              "      <td>0</td>\n",
              "    </tr>\n",
              "    <tr>\n",
              "      <th>4</th>\n",
              "      <td>superbl trashi wondrous unpretenti exploit hoo...</td>\n",
              "      <td>1</td>\n",
              "    </tr>\n",
              "    <tr>\n",
              "      <th>...</th>\n",
              "      <td>...</td>\n",
              "      <td>...</td>\n",
              "    </tr>\n",
              "    <tr>\n",
              "      <th>24995</th>\n",
              "      <td>seem like consider gone imdb review film went ...</td>\n",
              "      <td>0</td>\n",
              "    </tr>\n",
              "    <tr>\n",
              "      <th>24996</th>\n",
              "      <td>believ made film complet unnecessari first fil...</td>\n",
              "      <td>0</td>\n",
              "    </tr>\n",
              "    <tr>\n",
              "      <th>24997</th>\n",
              "      <td>guy loser get girl need build pick stronger su...</td>\n",
              "      <td>0</td>\n",
              "    </tr>\n",
              "    <tr>\n",
              "      <th>24998</th>\n",
              "      <td>minut documentari bu uel made earli one spain ...</td>\n",
              "      <td>0</td>\n",
              "    </tr>\n",
              "    <tr>\n",
              "      <th>24999</th>\n",
              "      <td>saw movi child broke heart stori unfinish end ...</td>\n",
              "      <td>1</td>\n",
              "    </tr>\n",
              "  </tbody>\n",
              "</table>\n",
              "<p>25000 rows × 2 columns</p>\n",
              "</div>"
            ],
            "text/plain": [
              "                                                    text  sentiment\n",
              "0      stuff go moment mj start listen music watch od...          1\n",
              "1      classic war world timothi hine entertain film ...          1\n",
              "2      film start manag nichola bell give welcom inve...          0\n",
              "3      must assum prais film greatest film opera ever...          0\n",
              "4      superbl trashi wondrous unpretenti exploit hoo...          1\n",
              "...                                                  ...        ...\n",
              "24995  seem like consider gone imdb review film went ...          0\n",
              "24996  believ made film complet unnecessari first fil...          0\n",
              "24997  guy loser get girl need build pick stronger su...          0\n",
              "24998  minut documentari bu uel made earli one spain ...          0\n",
              "24999  saw movi child broke heart stori unfinish end ...          1\n",
              "\n",
              "[25000 rows x 2 columns]"
            ]
          },
          "metadata": {
            "tags": []
          }
        }
      ]
    },
    {
      "cell_type": "code",
      "metadata": {
        "id": "HIJMyRbsOSnT",
        "colab_type": "code",
        "colab": {}
      },
      "source": [
        "# 긍정 sentiment와 부정 sentiment로 나누기\n",
        "df_pos = df[df['sentiment'] == 1]\n",
        "df_neg = df[df['sentiment'] == 0]"
      ],
      "execution_count": 13,
      "outputs": []
    },
    {
      "cell_type": "markdown",
      "metadata": {
        "id": "uqh9QndvTicz",
        "colab_type": "text"
      },
      "source": [
        "### 어휘집 생성 : MI Score 계산\n",
        "\n",
        "- `counter` 방식 맞는지 확인"
      ]
    },
    {
      "cell_type": "code",
      "metadata": {
        "id": "4HRgLgG7bHOa",
        "colab_type": "code",
        "colab": {}
      },
      "source": [
        "def build_vocab(df):\n",
        "    vocabulary = Counter()\n",
        "\n",
        "    for text in df['text']:\n",
        "        for word in list(set(word_tokenize(text))): # set으로 중복 단어 제거\n",
        "            vocabulary[word] += 1\n",
        "    \n",
        "    return vocabulary.most_common()"
      ],
      "execution_count": 14,
      "outputs": []
    },
    {
      "cell_type": "code",
      "metadata": {
        "id": "u180Yt0CYjbb",
        "colab_type": "code",
        "colab": {}
      },
      "source": [
        "def calc_MI(pos_df, neg_df):\n",
        "\n",
        "    pos_vocab = build_vocab(pos_df)\n",
        "    neg_vocab = build_vocab(neg_df)\n",
        "    \n",
        "    merge_vocab = {}\n",
        "    for k, v in pos_vocab:\n",
        "        merge_vocab[k] = [v, 0]\n",
        "    for k, v in neg_vocab:\n",
        "        if k in merge_vocab:\n",
        "            merge_vocab[k][1] = v\n",
        "        else:\n",
        "            merge_vocab[k] = [0, v]\n",
        "    \n",
        "    # MI 계산\n",
        "    clip = 0.00001\n",
        "    for k, v in merge_vocab.items():\n",
        "        merge_vocab[k] = (v[0] / (len(pos_df)+len(neg_df))) * math.log(2*(v[0]+clip) / (v[0] + v[1])) + \\\n",
        "                        (v[1] / (len(pos_df)+len(neg_df))) * math.log(2*(v[1]+clip) / (v[0] + v[1]))\n",
        "    \n",
        "    return {k:v for k, v in sorted(merge_vocab.items(), key=lambda x:x[1], reverse=True)}"
      ],
      "execution_count": 15,
      "outputs": []
    },
    {
      "cell_type": "code",
      "metadata": {
        "id": "_yXqpc0Kgujc",
        "colab_type": "code",
        "colab": {
          "base_uri": "https://localhost:8080/",
          "height": 70
        },
        "outputId": "18288101-807c-4d23-d9a1-d5904f2a838d"
      },
      "source": [
        "# 어휘집 생성\n",
        "%%time\n",
        "vocabulary = calc_MI(df_pos, df_neg)\n",
        "print(f\"총 어휘집 크기: {len(vocabulary)}\")"
      ],
      "execution_count": 16,
      "outputs": [
        {
          "output_type": "stream",
          "text": [
            "총 어휘집 크기: 50593\n",
            "CPU times: user 12.9 s, sys: 21 ms, total: 12.9 s\n",
            "Wall time: 12.9 s\n"
          ],
          "name": "stdout"
        }
      ]
    },
    {
      "cell_type": "code",
      "metadata": {
        "id": "ijLMTAJCkdpd",
        "colab_type": "code",
        "colab": {
          "base_uri": "https://localhost:8080/",
          "height": 52
        },
        "outputId": "d19db10e-c30b-4d79-fb50-7d64510d2f47"
      },
      "source": [
        "# 가장 흔한 단어 20개 확인\n",
        "print(\"상위 20개 단어 확인\")\n",
        "print(list(vocabulary.keys())[:20])"
      ],
      "execution_count": 18,
      "outputs": [
        {
          "output_type": "stream",
          "text": [
            "상위 20개 단어 확인\n",
            "['worst', 'bad', 'wast', 'aw', 'excel', 'great', 'stupid', 'bore', 'terribl', 'wors', 'horribl', 'beauti', 'love', 'perfect', 'poor', 'crap', 'noth', 'poorli', 'suppos', 'lame']\n"
          ],
          "name": "stdout"
        }
      ]
    },
    {
      "cell_type": "code",
      "metadata": {
        "id": "H2nmtm7okDBn",
        "colab_type": "code",
        "colab": {}
      },
      "source": [
        "# 상위 50퍼센트만 남기기 + OOV 버리기\n",
        "word2idx = {k:i+1 for i, (k, v) in enumerate(vocabulary.items()) if i <= len(vocabulary)//2}\n",
        "# word2idx['OOV'] = 0\n",
        "idx2word = {v:k for k, v in word2idx.items()}"
      ],
      "execution_count": 19,
      "outputs": []
    },
    {
      "cell_type": "markdown",
      "metadata": {
        "id": "eg5c6z9htqd7",
        "colab_type": "text"
      },
      "source": [
        "### 시퀀스 토큰화"
      ]
    },
    {
      "cell_type": "code",
      "metadata": {
        "id": "8lpYHhcFnONM",
        "colab_type": "code",
        "colab": {
          "base_uri": "https://localhost:8080/",
          "height": 70
        },
        "outputId": "3b89a748-8a29-456f-e5f0-9b54050e5700"
      },
      "source": [
        "# 토크나이징\n",
        "print(f\"기존 문장 개수: {len(df['text'])}\")\n",
        "\n",
        "tokens = []\n",
        "\n",
        "for idx, text in enumerate(df['text']):\n",
        "    temp = []\n",
        "    delete_indices = []\n",
        "\n",
        "    for word in text.split():\n",
        "        try:\n",
        "            temp.append(word2idx[word])\n",
        "        except KeyError: # OOV\n",
        "            continue \n",
        "    \n",
        "    if len(temp) > 0:\n",
        "        tokens.append(temp)\n",
        "    else:\n",
        "        delete_indices.append(idx)\n",
        "\n",
        "print(f\"OOV 없는 문장으로만 남긴 개수: {len(tokens)}\")\n",
        "print(f\"삭제해야 할 문장 인덱스: {delete_indices}\")"
      ],
      "execution_count": null,
      "outputs": [
        {
          "output_type": "stream",
          "text": [
            "기존 문장 개수: 25000\n",
            "OOV 없는 문장으로만 남긴 개수: 25000\n",
            "삭제해야 할 문장 인덱스: []\n"
          ],
          "name": "stdout"
        }
      ]
    },
    {
      "cell_type": "markdown",
      "metadata": {
        "id": "5gfIokvstuaJ",
        "colab_type": "text"
      },
      "source": [
        "### 패딩"
      ]
    },
    {
      "cell_type": "code",
      "metadata": {
        "id": "4t6_lxz-sUHy",
        "colab_type": "code",
        "colab": {
          "base_uri": "https://localhost:8080/",
          "height": 532
        },
        "outputId": "83e16b96-b875-4e9a-fa59-893370839786"
      },
      "source": [
        "# 문장 길이 체크\n",
        "def check_len(threshold, sentences):\n",
        "    cnt = 0\n",
        "    for sent in sentences:\n",
        "        if len(sent) <= threshold:\n",
        "            cnt += 1\n",
        "    \n",
        "    return f'전체 문장 중 길이가 {threshold} 이하인 샘플의 비율: {(cnt/len(sentences))*100}'\n",
        "\n",
        "for i in range(10, 300, 10):\n",
        "    print(check_len(i, tokens))"
      ],
      "execution_count": null,
      "outputs": [
        {
          "output_type": "stream",
          "text": [
            "전체 문장 중 길이가 10 이하인 샘플의 비율: 0.132\n",
            "전체 문장 중 길이가 20 이하인 샘플의 비율: 2.084\n",
            "전체 문장 중 길이가 30 이하인 샘플의 비율: 6.672000000000001\n",
            "전체 문장 중 길이가 40 이하인 샘플의 비율: 11.856\n",
            "전체 문장 중 길이가 50 이하인 샘플의 비율: 22.567999999999998\n",
            "전체 문장 중 길이가 60 이하인 샘플의 비율: 37.303999999999995\n",
            "전체 문장 중 길이가 70 이하인 샘플의 비율: 48.46\n",
            "전체 문장 중 길이가 80 이하인 샘플의 비율: 56.912\n",
            "전체 문장 중 길이가 90 이하인 샘플의 비율: 63.188\n",
            "전체 문장 중 길이가 100 이하인 샘플의 비율: 68.328\n",
            "전체 문장 중 길이가 110 이하인 샘플의 비율: 72.432\n",
            "전체 문장 중 길이가 120 이하인 샘플의 비율: 75.976\n",
            "전체 문장 중 길이가 130 이하인 샘플의 비율: 78.996\n",
            "전체 문장 중 길이가 140 이하인 샘플의 비율: 81.636\n",
            "전체 문장 중 길이가 150 이하인 샘플의 비율: 83.804\n",
            "전체 문장 중 길이가 160 이하인 샘플의 비율: 85.804\n",
            "전체 문장 중 길이가 170 이하인 샘플의 비율: 87.508\n",
            "전체 문장 중 길이가 180 이하인 샘플의 비율: 88.872\n",
            "전체 문장 중 길이가 190 이하인 샘플의 비율: 90.13600000000001\n",
            "전체 문장 중 길이가 200 이하인 샘플의 비율: 91.316\n",
            "전체 문장 중 길이가 210 이하인 샘플의 비율: 92.32000000000001\n",
            "전체 문장 중 길이가 220 이하인 샘플의 비율: 93.244\n",
            "전체 문장 중 길이가 230 이하인 샘플의 비율: 93.988\n",
            "전체 문장 중 길이가 240 이하인 샘플의 비율: 94.692\n",
            "전체 문장 중 길이가 250 이하인 샘플의 비율: 95.204\n",
            "전체 문장 중 길이가 260 이하인 샘플의 비율: 95.776\n",
            "전체 문장 중 길이가 270 이하인 샘플의 비율: 96.22\n",
            "전체 문장 중 길이가 280 이하인 샘플의 비율: 96.616\n",
            "전체 문장 중 길이가 290 이하인 샘플의 비율: 96.956\n"
          ],
          "name": "stdout"
        }
      ]
    },
    {
      "cell_type": "code",
      "metadata": {
        "id": "sJhAiYGYsqAs",
        "colab_type": "code",
        "colab": {
          "base_uri": "https://localhost:8080/",
          "height": 52
        },
        "outputId": "f8ca76a9-7bfe-45f1-928f-ae3325e185ce"
      },
      "source": [
        "# 문장 패딩\n",
        "MAX_LENGTH = int(input('문장 최대 길이 설정: '))\n",
        "\n",
        "X_train = pad_sequences(tokens, \n",
        "                        maxlen=MAX_LENGTH,\n",
        "                        padding='post',\n",
        "                        truncating='post')\n",
        "\n",
        "X_train = np.array(X_train)\n",
        "print(f\"패딩 후 train data: {X_train.shape}\")"
      ],
      "execution_count": null,
      "outputs": [
        {
          "output_type": "stream",
          "text": [
            "문장 최대 길이 설정: 200\n",
            "패딩 후 train data: (25000, 200)\n"
          ],
          "name": "stdout"
        }
      ]
    },
    {
      "cell_type": "code",
      "metadata": {
        "id": "GHsa3iO3t9Br",
        "colab_type": "code",
        "colab": {
          "base_uri": "https://localhost:8080/",
          "height": 337
        },
        "outputId": "c514a703-bc95-4858-f8b7-185d676b200c"
      },
      "source": [
        "# 문장 확인\n",
        "print(X_train[0])\n",
        "print(f\"샘플 문장 길이: {len(X_train[0])}\")"
      ],
      "execution_count": null,
      "outputs": [
        {
          "output_type": "stream",
          "text": [
            "[ 1848   405  1232  1862   600   358   730  9191   623   730   730  1941\n",
            "   291   277   743  1230  3309   102 15403   715   291   501 15947   335\n",
            "  1941  8890  8587  8890  4602  9003   439   405  1528   636  1541   556\n",
            "   132  1994  1862  1349  6389    60   332  1994  6289     2 15371   573\n",
            "   531  1045  1908  8808    50   157   472  1862  1178   405   677   527\n",
            "     8   415   389  1862 13527   501   202  1862  1991   213   233   610\n",
            "  1991    99   715   676   228  4602  9003   526  1986   600    24   748\n",
            "  2378 15220  1916 15296   160  6289  3683   277  1862   750     2  1837\n",
            "  1862  4905  1916 15296  5067   277  3846  8726  6289  9160  3275   291\n",
            "   677  1862   358  5823   197   472  1862  6183  2693  8898   363 15251\n",
            " 13643 15220    60  1784  3230 14260  8592  4911  9003     2 15220 14021\n",
            "  1784   677   622  2304   387   363   103    27   164  1402  1616   327\n",
            "   681   202  3846   472  1862  3806  1422  3846  2799  3971    71  8034\n",
            "  9186  1994  5825  1862  9908   202  8424  1908  8808   522  8744  3846\n",
            "  1018    72  2365  8743  4832    72  8726  3846   126  9134  4489  8726\n",
            "  5861   162 15804   676     7   102  8305  2320 13729     0     0     0\n",
            "     0     0     0     0     0     0     0     0]\n",
            "샘플 문장 길이: 200\n"
          ],
          "name": "stdout"
        }
      ]
    },
    {
      "cell_type": "markdown",
      "metadata": {
        "id": "T9cJAv94uReP",
        "colab_type": "text"
      },
      "source": [
        "### 데이터 저장"
      ]
    },
    {
      "cell_type": "code",
      "metadata": {
        "id": "Il8u1opZuPmR",
        "colab_type": "code",
        "colab": {
          "base_uri": "https://localhost:8080/",
          "height": 35
        },
        "outputId": "53c3917a-79f8-4a65-fb37-f6dd63fd39ef"
      },
      "source": [
        "# 라벨 가져오기\n",
        "label = df['sentiment']\n",
        "label = np.array(y_train)\n",
        "print(f\"train label: {label.shape}\")"
      ],
      "execution_count": null,
      "outputs": [
        {
          "output_type": "stream",
          "text": [
            "train label: (25000,)\n"
          ],
          "name": "stdout"
        }
      ]
    },
    {
      "cell_type": "code",
      "metadata": {
        "id": "BU-CCt7zug5x",
        "colab_type": "code",
        "colab": {}
      },
      "source": [
        "# 전처리 완료된 데이터 저장\n",
        "input_out_path = f\"{data_path}/popcorn_input_mydata.npy\"\n",
        "label_out_path = f\"{data_path}/popcorn_label_mydata.npy\"\n",
        "\n",
        "np.save(open(input_out_path, 'wb'), X_train)\n",
        "np.save(open(label_out_path, 'wb'), y_train)\n",
        "df.to_csv(f\"{data_path}/popcorn_clean_mydata.csv\", index=False, encoding='utf-8-sig')"
      ],
      "execution_count": null,
      "outputs": []
    },
    {
      "cell_type": "markdown",
      "metadata": {
        "id": "izxGDESagEhS",
        "colab_type": "text"
      },
      "source": [
        "## _2_. 모델링"
      ]
    },
    {
      "cell_type": "code",
      "metadata": {
        "id": "giwrbJs3gDe8",
        "colab_type": "code",
        "colab": {}
      },
      "source": [
        "# 데이터 로드\n",
        "train_features = np.load(open(f\"{data_path}/popcorn_input_mydata.npy\", 'rb'))\n",
        "train_labels = np.load(open(f\"{data_path}/popcorn_label_mydata.npy\", 'rb'))"
      ],
      "execution_count": 20,
      "outputs": []
    },
    {
      "cell_type": "code",
      "metadata": {
        "id": "LcU1qh6c92u9",
        "colab_type": "code",
        "colab": {}
      },
      "source": [
        "# 원래 문장으로 바꾸기\n",
        "sequences = []\n",
        "for vector in train_features:\n",
        "    temp = []\n",
        "    for x in vector:\n",
        "        try:\n",
        "            temp.append(idx2word[x])\n",
        "        except KeyError:\n",
        "            pass\n",
        "\n",
        "    sequences.append(temp)"
      ],
      "execution_count": 21,
      "outputs": []
    },
    {
      "cell_type": "markdown",
      "metadata": {
        "id": "CqjsjYgTw8lk",
        "colab_type": "text"
      },
      "source": [
        "### TF-IDF"
      ]
    },
    {
      "cell_type": "code",
      "metadata": {
        "id": "YBQs7GlO20bV",
        "colab_type": "code",
        "colab": {
          "base_uri": "https://localhost:8080/",
          "height": 55
        },
        "outputId": "c12ffd60-4cb8-4a58-b229-ad2c8d8b673a"
      },
      "source": [
        "corpus = [\" \".join(sequence) for sequence in sequences ] # \n",
        "print(corpus[:3])"
      ],
      "execution_count": 22,
      "outputs": [
        {
          "output_type": "stream",
          "text": [
            "['stuff go moment mj start music watch odd documentari watch watch moonwalk mayb want get certain insight guy thought realli mayb make mind innoc moonwalk part biographi part featur film rememb go see cinema origin releas subtl messag mj feel toward also obviou messag drug bad kay visual impress cours michael jackson unless remot like mj anyway go hate find bore may call mj consent make movi mj fan would say made fan true realli nice actual featur film bit final start minut smooth crimin sequenc joe pesci power drug lord want mj dead bad beyond mj nah joe pesci rant want peopl know drug etc dunno mayb hate mj music lot thing like mj turn car robot whole speed demon sequenc also director must patienc saint came film bad sequenc usual director hate work kid let whole bunch perform complex danc scene bottom line movi peopl like mj anoth think peopl stay away tri give wholesom messag iron mj bestest movi girl michael jackson truli talent peopl ever well attent gave hmmm well know peopl differ close door know fact either extrem nice stupid guy sickest hope latter', 'classic war world timothi entertain film obvious great effort length faith recreat h well classic book mr succe watch film appreci fact standard predict hollywood year spielberg version tom cruis slightest resembl book obvious everyon look differ thing movi envis amateur critic look critic other rate movi import base like entertain peopl critic enjoy effort mr put faith h well classic novel entertain made easi overlook critic perceiv', 'film start manag give welcom investor robert carradin park secret project mutat anim fossil dna like jurassik park scientist resurrect natur sabretooth tiger wimmer ambit turn creatur escap begin stalk human meanwhil enter restrict area secur center attack pack larg pre histor anim addit secur smilodon brian haiduk hardli wimmer sabretooth cours real star star astound though giant anim stalk group run afoul natur furthermor sabretooth danger slow stalk victim movi deliv lot blood gore behead hair rais chill full scare sabretooth appear mediocr special effect stori provid excit stir entertain result quit bore giant anim major made comput gener seem total lousi middl perform though player appropri becom actor give vigor physic perform beast run bound dangl pack ridicul final scene small kid realist gori violent attack scene film sabretooth wimmer follow sabretooth jame vanessa angel david john davi much better bc cliff curti motion pictur bloodi moment badli georg miller origin take mani element film miller australian director usual work televis wave journey center earth mani other occasion cinema man snowi river roxann robinson rate averag bottom barrel']\n"
          ],
          "name": "stdout"
        }
      ]
    },
    {
      "cell_type": "code",
      "metadata": {
        "id": "YiGzuZwz8ftL",
        "colab_type": "code",
        "colab": {
          "base_uri": "https://localhost:8080/",
          "height": 70
        },
        "outputId": "a731157d-9d55-4ad5-bbf3-895411878845"
      },
      "source": [
        "vectorizer = TfidfVectorizer().fit(corpus)\n",
        "tfidf_vec = vectorizer.transform(corpus).toarray()\n",
        "print(f\"TF-IDF 행렬: {tfidf_vec.shape}\")\n",
        "print(\"========== 어휘집 내 단어 샘플 20개 확인 ==========\")\n",
        "print(list(vectorizer.vocabulary_)[:20])"
      ],
      "execution_count": 25,
      "outputs": [
        {
          "output_type": "stream",
          "text": [
            "TF-IDF 행렬: (25000, 24530)\n",
            "========== 어휘집 내 단어 샘플 20개 확인 ==========\n",
            "['stuff', 'go', 'moment', 'mj', 'start', 'music', 'watch', 'odd', 'documentari', 'moonwalk', 'mayb', 'want', 'get', 'certain', 'insight', 'guy', 'thought', 'realli', 'make', 'mind']\n"
          ],
          "name": "stdout"
        }
      ]
    },
    {
      "cell_type": "markdown",
      "metadata": {
        "id": "GAC4NQ4R9izz",
        "colab_type": "text"
      },
      "source": [
        "### Doc2Vec\n"
      ]
    },
    {
      "cell_type": "code",
      "metadata": {
        "id": "RFrj5WA8hZcZ",
        "colab_type": "code",
        "colab": {
          "base_uri": "https://localhost:8080/",
          "height": 90
        },
        "outputId": "901778d1-b031-4f68-fce3-daedb4c2c518"
      },
      "source": [
        "# Doc2Vec 파라미터 설정\n",
        "doc2vec_features = int(input('Doc2Vec 임베딩 차원 설정: '))\n",
        "\n",
        "# 사용할/로드할 모델 경로 설정\n",
        "model_path = f\"{data_path}/IMDB_{doc2vec_features}features.doc2vec\"\n",
        "\n",
        "try:\n",
        "    doc_model = Doc2Vec.load(model_path)\n",
        "except: # 저장된 모델 없는 경우\n",
        "    documents = [TaggedDocument(doc, [i]) for i, doc in enumerate(sequences)]\n",
        "    doc_model = Doc2Vec(vector_size=doc2vec_features,\n",
        "                        alpha=0.005,\n",
        "                        min_alpha=0.0001,\n",
        "                        min_count=1,\n",
        "                        workers=4,\n",
        "                        dm=1)\n",
        "    doc_model.build_vocab(documents)\n",
        "    doc_model.train(documents, total_examples=doc_model.corpus_count, epochs=10)\n",
        "    doc_model.save(model_path)"
      ],
      "execution_count": 26,
      "outputs": [
        {
          "output_type": "stream",
          "text": [
            "Doc2Vec 임베딩 차원 설정: 400\n"
          ],
          "name": "stdout"
        },
        {
          "output_type": "stream",
          "text": [
            "/usr/local/lib/python3.6/dist-packages/smart_open/smart_open_lib.py:254: UserWarning: This function is deprecated, use smart_open.open instead. See the migration notes for details: https://github.com/RaRe-Technologies/smart_open/blob/master/README.rst#migrating-to-the-new-open-function\n",
            "  'See the migration notes for details: %s' % _MIGRATION_NOTES_URL\n"
          ],
          "name": "stderr"
        }
      ]
    },
    {
      "cell_type": "code",
      "metadata": {
        "id": "kM10kL8O95J0",
        "colab_type": "code",
        "colab": {
          "base_uri": "https://localhost:8080/",
          "height": 70
        },
        "outputId": "a6ddfc29-775c-4fee-b847-714cb61719f4"
      },
      "source": [
        "# 모델 확인\n",
        "keys = list(doc_model.wv.vocab.keys())\n",
        "print(f\"단어 개수: {len(keys)}\")\n",
        "print(\"========= 샘플 확인 =========\")\n",
        "print(keys[:20])"
      ],
      "execution_count": 27,
      "outputs": [
        {
          "output_type": "stream",
          "text": [
            "단어 개수: 24539\n",
            "========= 샘플 확인 =========\n",
            "['stuff', 'go', 'moment', 'mj', 'start', 'music', 'watch', 'odd', 'documentari', 'moonwalk', 'mayb', 'want', 'get', 'certain', 'insight', 'guy', 'thought', 'realli', 'make', 'mind']\n"
          ],
          "name": "stdout"
        }
      ]
    },
    {
      "cell_type": "code",
      "metadata": {
        "id": "VbqyT-Bz-JI9",
        "colab_type": "code",
        "colab": {
          "base_uri": "https://localhost:8080/",
          "height": 35
        },
        "outputId": "89c9992d-5abc-4325-a599-00b91f4edb5a"
      },
      "source": [
        "# Doc2Vec 벡터 생성\n",
        "doc2vec_vec = [doc_model.docvecs[i] for i in range(len(sequences))]\n",
        "doc2vec_vec = np.array(doc2vec_vec)\n",
        "print(doc2vec_vec.shape)"
      ],
      "execution_count": 29,
      "outputs": [
        {
          "output_type": "stream",
          "text": [
            "(25000, 400)\n"
          ],
          "name": "stdout"
        }
      ]
    },
    {
      "cell_type": "markdown",
      "metadata": {
        "id": "loclU_X1C8ny",
        "colab_type": "text"
      },
      "source": [
        "### 결합 모델"
      ]
    },
    {
      "cell_type": "code",
      "metadata": {
        "id": "8-XcMOctlPXQ",
        "colab_type": "code",
        "colab": {
          "base_uri": "https://localhost:8080/",
          "height": 70
        },
        "outputId": "3f997f56-1295-4310-b16b-357d0b576b85"
      },
      "source": [
        "X_train_tf, X_test_tf, X_train_doc, X_test_doc, y_train, y_test = train_test_split(tfidf_vec, doc2vec_vec, train_labels,\n",
        "                                                                                   test_size=0.2,\n",
        "                                                                                   random_state=42)\n",
        "print(f\"TFIDF: train {X_train_tf.shape}, test {X_test_tf.shape}\")\n",
        "print(f\"Doc2Vec: train {X_train_doc.shape}, test {X_test_doc.shape}\")\n",
        "print(f\"label: train {y_train.shape}, test {y_test.shape}\")"
      ],
      "execution_count": 30,
      "outputs": [
        {
          "output_type": "stream",
          "text": [
            "TFIDF: train (20000, 24530), test (5000, 24530)\n",
            "Doc2Vec: train (20000, 400), test (5000, 400)\n",
            "label: train (20000,), test (5000,)\n"
          ],
          "name": "stdout"
        }
      ]
    },
    {
      "cell_type": "code",
      "metadata": {
        "id": "WIWiJ8q0-UmK",
        "colab_type": "code",
        "colab": {
          "base_uri": "https://localhost:8080/",
          "height": 426
        },
        "outputId": "6306735b-5b2d-420c-cedb-0fb2bb3111b4"
      },
      "source": [
        "K.clear_session()\n",
        "\n",
        "# FFN 네트워크 설정\n",
        "X_input_1 = Input(batch_shape=(None, tfidf_vec.shape[1])) # TFIDF 입력\n",
        "X_dense_1 = Dense(64, activation='linear')(X_input_1) # 선형 projection\n",
        "X_input_2 = Input(batch_shape=(None, doc2vec_vec.shape[1])) # Doc2Vec 입력\n",
        "X_dense_2 = Dense(64, activation='linear')(X_input_2)\n",
        "X_concat = Concatenate()([X_dense_1, X_dense_2])\n",
        "y_output = Dense(1, activation='sigmoid')(X_concat)\n",
        "\n",
        "# 모델 구성\n",
        "model = Model([X_input_1, X_input_2], y_output)\n",
        "model.compile(loss='binary_crossentropy', optimizer=Adam(lr=0.001))\n",
        "print(\"====== 전체 모델 구조 확인 ======\")\n",
        "print(model.summary())"
      ],
      "execution_count": 33,
      "outputs": [
        {
          "output_type": "stream",
          "text": [
            "====== 전체 모델 구조 확인 ======\n",
            "Model: \"functional_1\"\n",
            "__________________________________________________________________________________________________\n",
            "Layer (type)                    Output Shape         Param #     Connected to                     \n",
            "==================================================================================================\n",
            "input_1 (InputLayer)            [(None, 24530)]      0                                            \n",
            "__________________________________________________________________________________________________\n",
            "input_2 (InputLayer)            [(None, 400)]        0                                            \n",
            "__________________________________________________________________________________________________\n",
            "dense (Dense)                   (None, 64)           1569984     input_1[0][0]                    \n",
            "__________________________________________________________________________________________________\n",
            "dense_1 (Dense)                 (None, 64)           25664       input_2[0][0]                    \n",
            "__________________________________________________________________________________________________\n",
            "concatenate (Concatenate)       (None, 128)          0           dense[0][0]                      \n",
            "                                                                 dense_1[0][0]                    \n",
            "__________________________________________________________________________________________________\n",
            "dense_2 (Dense)                 (None, 1)            129         concatenate[0][0]                \n",
            "==================================================================================================\n",
            "Total params: 1,595,777\n",
            "Trainable params: 1,595,777\n",
            "Non-trainable params: 0\n",
            "__________________________________________________________________________________________________\n",
            "None\n"
          ],
          "name": "stdout"
        }
      ]
    },
    {
      "cell_type": "code",
      "metadata": {
        "id": "Bw1rHn_UkHTa",
        "colab_type": "code",
        "colab": {
          "base_uri": "https://localhost:8080/",
          "height": 604
        },
        "outputId": "119ffb09-4a29-466e-f466-92926ee1320d"
      },
      "source": [
        "# 학습\n",
        "es = EarlyStopping(monitor='val_loss', patience=10, verbose=1)\n",
        "hist = model.fit([X_train_tf, X_train_doc], y_train,\n",
        "                 epochs=300,\n",
        "                 batch_size=300,\n",
        "                 callbacks=[es],\n",
        "                 validation_data=([X_test_tf, X_test_doc], y_test))"
      ],
      "execution_count": 34,
      "outputs": [
        {
          "output_type": "stream",
          "text": [
            "Epoch 1/300\n",
            "67/67 [==============================] - 1s 19ms/step - loss: 0.5677 - val_loss: 0.4483\n",
            "Epoch 2/300\n",
            "67/67 [==============================] - 1s 15ms/step - loss: 0.3626 - val_loss: 0.3215\n",
            "Epoch 3/300\n",
            "67/67 [==============================] - 1s 15ms/step - loss: 0.2580 - val_loss: 0.2696\n",
            "Epoch 4/300\n",
            "67/67 [==============================] - 1s 15ms/step - loss: 0.2028 - val_loss: 0.2472\n",
            "Epoch 5/300\n",
            "67/67 [==============================] - 1s 15ms/step - loss: 0.1679 - val_loss: 0.2389\n",
            "Epoch 6/300\n",
            "67/67 [==============================] - 1s 15ms/step - loss: 0.1427 - val_loss: 0.2368\n",
            "Epoch 7/300\n",
            "67/67 [==============================] - 1s 15ms/step - loss: 0.1228 - val_loss: 0.2394\n",
            "Epoch 8/300\n",
            "67/67 [==============================] - 1s 15ms/step - loss: 0.1069 - val_loss: 0.2447\n",
            "Epoch 9/300\n",
            "67/67 [==============================] - 1s 15ms/step - loss: 0.0937 - val_loss: 0.2516\n",
            "Epoch 10/300\n",
            "67/67 [==============================] - 1s 15ms/step - loss: 0.0826 - val_loss: 0.2595\n",
            "Epoch 11/300\n",
            "67/67 [==============================] - 1s 15ms/step - loss: 0.0734 - val_loss: 0.2696\n",
            "Epoch 12/300\n",
            "67/67 [==============================] - 1s 15ms/step - loss: 0.0650 - val_loss: 0.2791\n",
            "Epoch 13/300\n",
            "67/67 [==============================] - 1s 15ms/step - loss: 0.0578 - val_loss: 0.2901\n",
            "Epoch 14/300\n",
            "67/67 [==============================] - 1s 15ms/step - loss: 0.0517 - val_loss: 0.3013\n",
            "Epoch 15/300\n",
            "67/67 [==============================] - 1s 15ms/step - loss: 0.0462 - val_loss: 0.3121\n",
            "Epoch 16/300\n",
            "67/67 [==============================] - 1s 15ms/step - loss: 0.0412 - val_loss: 0.3243\n",
            "Epoch 00016: early stopping\n"
          ],
          "name": "stdout"
        }
      ]
    },
    {
      "cell_type": "code",
      "metadata": {
        "id": "YNyRtFwpmpuR",
        "colab_type": "code",
        "colab": {
          "base_uri": "https://localhost:8080/",
          "height": 295
        },
        "outputId": "e9a9d347-0def-4f42-c05d-75d5175aaf29"
      },
      "source": [
        "# loss 시각화\n",
        "plt.plot(hist.history['loss'], label='Train loss')\n",
        "plt.plot(hist.history['val_loss'], label = 'Test loss')\n",
        "plt.legend()\n",
        "plt.title(\"Loss history\")\n",
        "plt.xlabel(\"epoch\")\n",
        "plt.ylabel(\"loss\")\n",
        "plt.show()"
      ],
      "execution_count": 35,
      "outputs": [
        {
          "output_type": "display_data",
          "data": {
            "image/png": "[encoded data removed]",
            "text/plain": [
              "<Figure size 432x288 with 1 Axes>"
            ]
          },
          "metadata": {
            "tags": [],
            "needs_background": "light"
          }
        }
      ]
    },
    {
      "cell_type": "code",
      "metadata": {
        "id": "qAoUhAmZnF0V",
        "colab_type": "code",
        "colab": {
          "base_uri": "https://localhost:8080/",
          "height": 35
        },
        "outputId": "b682d148-116e-42a3-bcca-2dff3bbd6eaa"
      },
      "source": [
        "# 예측 및 결과 확인\n",
        "y_pred = model.predict([X_test_tf, X_test_doc])\n",
        "y_pred = np.where(y_pred > 0.5, 1, 0)\n",
        "accuracy = (y_test == y_pred).mean()\n",
        "print(f\"Test Accuracy: {accuracy}\")"
      ],
      "execution_count": 36,
      "outputs": [
        {
          "output_type": "stream",
          "text": [
            "Test Accuracy: 0.50002584\n"
          ],
          "name": "stdout"
        }
      ]
    }
  ]
}