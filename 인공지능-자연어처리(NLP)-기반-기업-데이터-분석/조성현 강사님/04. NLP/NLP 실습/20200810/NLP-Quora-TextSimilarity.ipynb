{
  "nbformat": 4,
  "nbformat_minor": 0,
  "metadata": {
    "colab": {
      "name": "NLP-Quora-TextSimilarity.ipynb",
      "provenance": [],
      "collapsed_sections": [
        "nK8-wuH9Mt2p",
        "hD4ZAUAIOydi"
      ],
      "machine_shape": "hm"
    },
    "kernelspec": {
      "name": "python3",
      "display_name": "Python 3"
    },
    "accelerator": "GPU"
  },
  "cells": [
    {
      "cell_type": "markdown",
      "metadata": {
        "id": "oHiLiqg789Ol",
        "colab_type": "text"
      },
      "source": [
        "# Quora Question Pairs"
      ]
    },
    {
      "cell_type": "code",
      "metadata": {
        "id": "Wr9HuEDX87HL",
        "colab_type": "code",
        "colab": {}
      },
      "source": [
        "# 모듈 불러 오기\n",
        "import numpy as np\n",
        "import pandas as pd\n",
        "import matplotlib.pyplot as plt\n",
        "import seaborn as sns\n",
        "from wordcloud import WordCloud\n",
        "\n",
        "import re\n",
        "from tensorflow.python.keras.preprocessing.text import Tokenizer\n",
        "from tensorflow.python.keras.preprocessing.sequence import pad_sequences\n",
        "import pickle\n",
        "\n",
        "from sklearn.model_selection import train_test_split\n",
        "import xgboost as xgb\n",
        "\n",
        "from IPython.display import SVG\n",
        "from keras.utils import model_to_dot\n",
        "from tensorflow.keras import backend as K\n",
        "from tensorflow.keras.layers import Input, Embedding, Dense, Dropout\n",
        "from tensorflow.keras.layers import Conv1D, GlobalMaxPool1D, Concatenate\n",
        "from tensorflow.keras.layers import LSTM\n",
        "from tensorflow.keras.models import Model\n",
        "from tensorflow.keras.regularizers import l2\n",
        "from tensorflow.keras.optimizers import Adam\n",
        "\n",
        "from gensim.models import fasttext\n",
        "from gensim.test.utils import datapath"
      ],
      "execution_count": null,
      "outputs": []
    },
    {
      "cell_type": "code",
      "metadata": {
        "id": "iY-2O14g9FL1",
        "colab_type": "code",
        "colab": {}
      },
      "source": [
        "# 경로 설정\n",
        "root_path = \"/content/drive/My Drive/멀티캠퍼스/[혁신성장] 인공지능 자연어처리 기반/[강의]/조성현 강사님\"\n",
        "data_path = f\"{root_path}/dataset\""
      ],
      "execution_count": null,
      "outputs": []
    },
    {
      "cell_type": "code",
      "metadata": {
        "id": "_4M-0Ngn9QkD",
        "colab_type": "code",
        "colab": {
          "base_uri": "https://localhost:8080/",
          "height": 289
        },
        "outputId": "fdfb1e31-c211-4303-c704-d39d4834bfba"
      },
      "source": [
        "# 데이터 로드\n",
        "data = pd.read_csv(f\"{data_path}/5-1.questions.csv\")\n",
        "data.head()"
      ],
      "execution_count": null,
      "outputs": [
        {
          "output_type": "execute_result",
          "data": {
            "text/html": [
              "<div>\n",
              "<style scoped>\n",
              "    .dataframe tbody tr th:only-of-type {\n",
              "        vertical-align: middle;\n",
              "    }\n",
              "\n",
              "    .dataframe tbody tr th {\n",
              "        vertical-align: top;\n",
              "    }\n",
              "\n",
              "    .dataframe thead th {\n",
              "        text-align: right;\n",
              "    }\n",
              "</style>\n",
              "<table border=\"1\" class=\"dataframe\">\n",
              "  <thead>\n",
              "    <tr style=\"text-align: right;\">\n",
              "      <th></th>\n",
              "      <th>id</th>\n",
              "      <th>qid1</th>\n",
              "      <th>qid2</th>\n",
              "      <th>question1</th>\n",
              "      <th>question2</th>\n",
              "      <th>is_duplicate</th>\n",
              "    </tr>\n",
              "  </thead>\n",
              "  <tbody>\n",
              "    <tr>\n",
              "      <th>0</th>\n",
              "      <td>0</td>\n",
              "      <td>1</td>\n",
              "      <td>2</td>\n",
              "      <td>What is the step by step guide to invest in sh...</td>\n",
              "      <td>What is the step by step guide to invest in sh...</td>\n",
              "      <td>0</td>\n",
              "    </tr>\n",
              "    <tr>\n",
              "      <th>1</th>\n",
              "      <td>1</td>\n",
              "      <td>3</td>\n",
              "      <td>4</td>\n",
              "      <td>What is the story of Kohinoor (Koh-i-Noor) Dia...</td>\n",
              "      <td>What would happen if the Indian government sto...</td>\n",
              "      <td>0</td>\n",
              "    </tr>\n",
              "    <tr>\n",
              "      <th>2</th>\n",
              "      <td>2</td>\n",
              "      <td>5</td>\n",
              "      <td>6</td>\n",
              "      <td>How can I increase the speed of my internet co...</td>\n",
              "      <td>How can Internet speed be increased by hacking...</td>\n",
              "      <td>0</td>\n",
              "    </tr>\n",
              "    <tr>\n",
              "      <th>3</th>\n",
              "      <td>3</td>\n",
              "      <td>7</td>\n",
              "      <td>8</td>\n",
              "      <td>Why am I mentally very lonely? How can I solve...</td>\n",
              "      <td>Find the remainder when [math]23^{24}[/math] i...</td>\n",
              "      <td>0</td>\n",
              "    </tr>\n",
              "    <tr>\n",
              "      <th>4</th>\n",
              "      <td>4</td>\n",
              "      <td>9</td>\n",
              "      <td>10</td>\n",
              "      <td>Which one dissolve in water quikly sugar, salt...</td>\n",
              "      <td>Which fish would survive in salt water?</td>\n",
              "      <td>0</td>\n",
              "    </tr>\n",
              "  </tbody>\n",
              "</table>\n",
              "</div>"
            ],
            "text/plain": [
              "   id  qid1  ...                                          question2 is_duplicate\n",
              "0   0     1  ...  What is the step by step guide to invest in sh...            0\n",
              "1   1     3  ...  What would happen if the Indian government sto...            0\n",
              "2   2     5  ...  How can Internet speed be increased by hacking...            0\n",
              "3   3     7  ...  Find the remainder when [math]23^{24}[/math] i...            0\n",
              "4   4     9  ...            Which fish would survive in salt water?            0\n",
              "\n",
              "[5 rows x 6 columns]"
            ]
          },
          "metadata": {
            "tags": []
          },
          "execution_count": 25
        }
      ]
    },
    {
      "cell_type": "markdown",
      "metadata": {
        "id": "OigDwJxv9Q8W",
        "colab_type": "text"
      },
      "source": [
        "## _1_. EDA"
      ]
    },
    {
      "cell_type": "code",
      "metadata": {
        "id": "Koz1hkOX9eb-",
        "colab_type": "code",
        "colab": {
          "base_uri": "https://localhost:8080/",
          "height": 125
        },
        "outputId": "f99151b7-096c-4408-b6f4-74c357f93111"
      },
      "source": [
        "# 두 질문을 하나로 합치기\n",
        "train_set = pd.Series(data['question1'].tolist() + \n",
        "                      data['question2'].tolist()).astype(str)\n",
        "train_set.head()"
      ],
      "execution_count": null,
      "outputs": [
        {
          "output_type": "execute_result",
          "data": {
            "text/plain": [
              "0    What is the step by step guide to invest in sh...\n",
              "1    What is the story of Kohinoor (Koh-i-Noor) Dia...\n",
              "2    How can I increase the speed of my internet co...\n",
              "3    Why am I mentally very lonely? How can I solve...\n",
              "4    Which one dissolve in water quikly sugar, salt...\n",
              "dtype: object"
            ]
          },
          "metadata": {
            "tags": []
          },
          "execution_count": 4
        }
      ]
    },
    {
      "cell_type": "code",
      "metadata": {
        "id": "DoIEgtUs-Mbv",
        "colab_type": "code",
        "colab": {
          "base_uri": "https://localhost:8080/",
          "height": 53
        },
        "outputId": "4fcc7d73-8d58-4d5a-caf3-8a792958db19"
      },
      "source": [
        "# 데이터 중복 질문 개수 파악\n",
        "print(f\"총 질문 수: {len(np.unique(train_set))}\")\n",
        "print(f\"반복 질문수: {np.sum(train_set.value_counts() > 1)}\")"
      ],
      "execution_count": null,
      "outputs": [
        {
          "output_type": "stream",
          "text": [
            "총 질문 수: 537388\n",
            "반복 질문수: 111894\n"
          ],
          "name": "stdout"
        }
      ]
    },
    {
      "cell_type": "code",
      "metadata": {
        "id": "mrBzDlj0-MKk",
        "colab_type": "code",
        "colab": {
          "base_uri": "https://localhost:8080/",
          "height": 350
        },
        "outputId": "54a6a7e0-45e8-4d77-dbe1-c052e42ab805"
      },
      "source": [
        "# 각 질문별 출현 빈도 로그 히스토그램으로 표현\n",
        "plt.figure(figsize=(8, 5))\n",
        "plt.hist(train_set.value_counts(), bins=50, alpha=0.5, color='r', label='word')\n",
        "plt.yscale('log', nonposy='clip') # y값이 0보다 작은 애들 clip\n",
        "plt.title('Log-Histogram of Question Appearance Counts')\n",
        "plt.xlabel('Number of Occurences of Question')\n",
        "plt.ylabel('Number of Questions')\n",
        "plt.show()"
      ],
      "execution_count": null,
      "outputs": [
        {
          "output_type": "display_data",
          "data": {
            "image/png": "[encoded data removed]",
            "text/plain": [
              "<Figure size 576x360 with 1 Axes>"
            ]
          },
          "metadata": {
            "tags": [],
            "needs_background": "light"
          }
        }
      ]
    },
    {
      "cell_type": "code",
      "metadata": {
        "id": "ZrbRMlZ3-MFE",
        "colab_type": "code",
        "colab": {
          "base_uri": "https://localhost:8080/",
          "height": 423
        },
        "outputId": "be0e4a0c-e638-4a9f-acc7-b4a5e7aebc76"
      },
      "source": [
        "# 중복 질문 각 통계량 확인\n",
        "print(f'중복 최대 개수: {np.max(train_set.value_counts())}')\n",
        "print(f'중복 최소 개수: {np.min(train_set.value_counts())}')\n",
        "print(f'중복 평균 개수: {np.mean(train_set.value_counts())}')\n",
        "print(f'중복 표준편차: {np.std(train_set.value_counts())}')\n",
        "print(f'중복 중간길이: {np.median(train_set.value_counts())}')\n",
        "print(f'제 1 사분위 중복: {np.percentile(train_set.value_counts(), 25)}')\n",
        "print(f'제 3 사분위 중복: {np.percentile(train_set.value_counts(), 75)}')\n",
        "\n",
        "pd.DataFrame(train_set.value_counts()).describe()"
      ],
      "execution_count": null,
      "outputs": [
        {
          "output_type": "stream",
          "text": [
            "중복 최대 개수: 161\n",
            "중복 최소 개수: 1\n",
            "중복 평균 개수: 1.5048754345091442\n",
            "중복 표준편차: 1.911654109807301\n",
            "중복 중간길이: 1.0\n",
            "제 1 사분위 중복: 1.0\n",
            "제 3 사분위 중복: 1.0\n"
          ],
          "name": "stdout"
        },
        {
          "output_type": "execute_result",
          "data": {
            "text/html": [
              "<div>\n",
              "<style scoped>\n",
              "    .dataframe tbody tr th:only-of-type {\n",
              "        vertical-align: middle;\n",
              "    }\n",
              "\n",
              "    .dataframe tbody tr th {\n",
              "        vertical-align: top;\n",
              "    }\n",
              "\n",
              "    .dataframe thead th {\n",
              "        text-align: right;\n",
              "    }\n",
              "</style>\n",
              "<table border=\"1\" class=\"dataframe\">\n",
              "  <thead>\n",
              "    <tr style=\"text-align: right;\">\n",
              "      <th></th>\n",
              "      <th>0</th>\n",
              "    </tr>\n",
              "  </thead>\n",
              "  <tbody>\n",
              "    <tr>\n",
              "      <th>count</th>\n",
              "      <td>537388.000000</td>\n",
              "    </tr>\n",
              "    <tr>\n",
              "      <th>mean</th>\n",
              "      <td>1.504875</td>\n",
              "    </tr>\n",
              "    <tr>\n",
              "      <th>std</th>\n",
              "      <td>1.911656</td>\n",
              "    </tr>\n",
              "    <tr>\n",
              "      <th>min</th>\n",
              "      <td>1.000000</td>\n",
              "    </tr>\n",
              "    <tr>\n",
              "      <th>25%</th>\n",
              "      <td>1.000000</td>\n",
              "    </tr>\n",
              "    <tr>\n",
              "      <th>50%</th>\n",
              "      <td>1.000000</td>\n",
              "    </tr>\n",
              "    <tr>\n",
              "      <th>75%</th>\n",
              "      <td>1.000000</td>\n",
              "    </tr>\n",
              "    <tr>\n",
              "      <th>max</th>\n",
              "      <td>161.000000</td>\n",
              "    </tr>\n",
              "  </tbody>\n",
              "</table>\n",
              "</div>"
            ],
            "text/plain": [
              "                   0\n",
              "count  537388.000000\n",
              "mean        1.504875\n",
              "std         1.911656\n",
              "min         1.000000\n",
              "25%         1.000000\n",
              "50%         1.000000\n",
              "75%         1.000000\n",
              "max       161.000000"
            ]
          },
          "metadata": {
            "tags": []
          },
          "execution_count": 20
        }
      ]
    },
    {
      "cell_type": "markdown",
      "metadata": {
        "id": "2fLH0qkiAibA",
        "colab_type": "text"
      },
      "source": [
        "박스 플롯을 그려 본 결과, 중복 횟수 이상치가 너무 많다."
      ]
    },
    {
      "cell_type": "code",
      "metadata": {
        "id": "xpysXc0e_iSR",
        "colab_type": "code",
        "colab": {
          "base_uri": "https://localhost:8080/",
          "height": 320
        },
        "outputId": "58f635e7-8909-41e5-cc8c-ccbdea294bca"
      },
      "source": [
        "# 각 질문 중복 개수에 대해 박스플롯 그려 보기\n",
        "plt.figure(figsize=(8, 5))\n",
        "plt.boxplot([train_set.value_counts()], labels=['counts'], showmeans=True)\n",
        "plt.show()"
      ],
      "execution_count": null,
      "outputs": [
        {
          "output_type": "display_data",
          "data": {
            "image/png": "[encoded data removed]",
            "text/plain": [
              "<Figure size 576x360 with 1 Axes>"
            ]
          },
          "metadata": {
            "tags": [],
            "needs_background": "light"
          }
        }
      ]
    },
    {
      "cell_type": "code",
      "metadata": {
        "id": "i8gMejqfAyba",
        "colab_type": "code",
        "colab": {
          "base_uri": "https://localhost:8080/",
          "height": 484
        },
        "outputId": "a298b91d-1f13-4ecf-be9f-e63b916b5c36"
      },
      "source": [
        "# 데이터에 어떤 단어가 포함되어 있는지 워드클라우드로 살펴 보기\n",
        "cloud = WordCloud(width=800, height=600).generate(\" \".join(train_set.astype(str)))\n",
        "plt.figure(figsize=(12, 8))\n",
        "plt.imshow(cloud)\n",
        "plt.axis('off')"
      ],
      "execution_count": null,
      "outputs": [
        {
          "output_type": "execute_result",
          "data": {
            "text/plain": [
              "(-0.5, 799.5, 599.5, -0.5)"
            ]
          },
          "metadata": {
            "tags": []
          },
          "execution_count": 23
        },
        {
          "output_type": "display_data",
          "data": {
            "image/png": "[encoded data removed]",
            "text/plain": [
              "<Figure size 864x576 with 1 Axes>"
            ]
          },
          "metadata": {
            "tags": [],
            "needs_background": "light"
          }
        }
      ]
    },
    {
      "cell_type": "code",
      "metadata": {
        "id": "eoBjOIRI_iiM",
        "colab_type": "code",
        "colab": {
          "base_uri": "https://localhost:8080/",
          "height": 280
        },
        "outputId": "a74de513-9d19-4ae9-bf8f-74a9f409853c"
      },
      "source": [
        "# 0, 1별로 \n",
        "# fig, axes = plt.subplots(ncols=1)\n",
        "# fig.set_size_inches(6, 3)\n",
        "sns.countplot(data['is_duplicate'])\n",
        "plt.show()"
      ],
      "execution_count": null,
      "outputs": [
        {
          "output_type": "display_data",
          "data": {
            "image/png": "[encoded data removed]",
            "text/plain": [
              "<Figure size 432x288 with 1 Axes>"
            ]
          },
          "metadata": {
            "tags": [],
            "needs_background": "light"
          }
        }
      ]
    },
    {
      "cell_type": "code",
      "metadata": {
        "id": "e_Xz5Oku_iXU",
        "colab_type": "code",
        "colab": {
          "base_uri": "https://localhost:8080/",
          "height": 429
        },
        "outputId": "39539a20-1c34-4415-aace-3b1676cef25c"
      },
      "source": [
        "# 띄어쓰기 기준 단어의 개수\n",
        "train_word_counts = train_set.apply(lambda x:len(x.split(' ')))\n",
        "plt.figure(figsize=(8, 6))\n",
        "plt.hist(train_word_counts, bins=50, range=[0, 50], facecolor='r', density=True, label='Train')\n",
        "plt.title('Normalized Histogram of Word Count in Questions', fontsize=15)\n",
        "plt.legend()\n",
        "plt.xlabel('Number of Words', fontsize=15)\n",
        "plt.ylabel('Probability', fontsize=15)"
      ],
      "execution_count": null,
      "outputs": [
        {
          "output_type": "execute_result",
          "data": {
            "text/plain": [
              "Text(0, 0.5, 'Probability')"
            ]
          },
          "metadata": {
            "tags": []
          },
          "execution_count": 28
        },
        {
          "output_type": "display_data",
          "data": {
            "image/png": "[encoded data removed]",
            "text/plain": [
              "<Figure size 576x432 with 1 Axes>"
            ]
          },
          "metadata": {
            "tags": [],
            "needs_background": "light"
          }
        }
      ]
    },
    {
      "cell_type": "code",
      "metadata": {
        "id": "7DYmpKfB_iHY",
        "colab_type": "code",
        "colab": {
          "base_uri": "https://localhost:8080/",
          "height": 143
        },
        "outputId": "6e75dc73-d3c5-4bbd-ea50-56a887305787"
      },
      "source": [
        "# 단어 개수별 통계량 확인\n",
        "print('질문 단어 개수 최대 값: {}'.format(np.max(train_word_counts)))\n",
        "print('질문 단어 개수 평균 값: {:.2f}'.format(np.mean(train_word_counts)))\n",
        "print('질문 단어 개수 표준편차: {:.2f}'.format(np.std(train_word_counts)))\n",
        "print('질문 단어 개수 중간 값: {}'.format(np.median(train_word_counts)))\n",
        "print('질문 단어 개수 제 1 사분위: {}'.format(np.percentile(train_word_counts, 25)))\n",
        "print('질문 단어 개수 제 3 사분위: {}'.format(np.percentile(train_word_counts, 75)))\n",
        "print('질문 단어 개수 99 퍼센트: {}'.format(np.percentile(train_word_counts, 99)))"
      ],
      "execution_count": null,
      "outputs": [
        {
          "output_type": "stream",
          "text": [
            "질문 단어 개수 최대 값: 237\n",
            "질문 단어 개수 평균 값: 11.06\n",
            "질문 단어 개수 표준편차: 5.89\n",
            "질문 단어 개수 중간 값: 10.0\n",
            "질문 단어 개수 제 1 사분위: 7.0\n",
            "질문 단어 개수 제 3 사분위: 13.0\n",
            "질문 단어 개수 99 퍼센트: 31.0\n"
          ],
          "name": "stdout"
        }
      ]
    },
    {
      "cell_type": "markdown",
      "metadata": {
        "id": "xdxi7SOpHE7v",
        "colab_type": "text"
      },
      "source": [
        "### ==== 테스트 ===="
      ]
    },
    {
      "cell_type": "code",
      "metadata": {
        "id": "VMEeuMs9-ZYw",
        "colab_type": "code",
        "colab": {
          "base_uri": "https://localhost:8080/",
          "height": 233
        },
        "outputId": "750e5efa-5581-4a64-e731-2154652610d3"
      },
      "source": [
        "train_set.value_counts()"
      ],
      "execution_count": null,
      "outputs": [
        {
          "output_type": "execute_result",
          "data": {
            "text/plain": [
              "What are the best ways to lose weight?                                                            161\n",
              "How can you look at someone's private Instagram account without following them?                   120\n",
              "How can I lose weight quickly?                                                                    111\n",
              "What's the easiest way to make money online?                                                       88\n",
              "Can you see who views your Instagram?                                                              79\n",
              "                                                                                                 ... \n",
              "How is the structure of a protein different from the structure of a nucleic acid?                   1\n",
              "Where can I buy good quality car covers in US?                                                      1\n",
              "Does moisturizer get rid of wrinkles?                                                               1\n",
              "When did Subhash Chandra Bose die?                                                                  1\n",
              "Imagine If animals would have the same intelligence as human beings, how things would've been?      1\n",
              "Length: 537388, dtype: int64"
            ]
          },
          "metadata": {
            "tags": []
          },
          "execution_count": 11
        }
      ]
    },
    {
      "cell_type": "markdown",
      "metadata": {
        "id": "8Glm6cYxHJaG",
        "colab_type": "text"
      },
      "source": [
        "## _2_. 전처리"
      ]
    },
    {
      "cell_type": "code",
      "metadata": {
        "id": "sHCq9qnRHIqN",
        "colab_type": "code",
        "colab": {}
      },
      "source": [
        "# 중복된 데이터와 중복되지 않은 질문 데이터로 분리\n",
        "train_pos_data = data.loc[data['is_duplicate'] == 1]\n",
        "train_neg_data = data.loc[data['is_duplicate'] == 0]"
      ],
      "execution_count": null,
      "outputs": []
    },
    {
      "cell_type": "markdown",
      "metadata": {
        "id": "XAWpXh31IL6A",
        "colab_type": "text"
      },
      "source": [
        "샘플링을 통해 두 라벨에 해당하는 데이터 개수가 갖도록 만들어 준다."
      ]
    },
    {
      "cell_type": "code",
      "metadata": {
        "id": "iPqCEipiHIf7",
        "colab_type": "code",
        "colab": {
          "base_uri": "https://localhost:8080/",
          "height": 53
        },
        "outputId": "5b1a0044-4e35-46b7-b9c2-f16a3124c510"
      },
      "source": [
        "# 중복되지 않은 질문의 개수가 더 적으므로, 샘플링\n",
        "sample_frac = len(train_pos_data) / len(train_neg_data)\n",
        "print(f\"샘플링 전 1/0 비율: {sample_frac}\")\n",
        "train_neg_data = train_neg_data.sample(frac=sample_frac) # 0 데이터에서 1만큼 샘플링.\n",
        "print(f\"샘플링 후 1/0 비율: {len(train_pos_data) / len(train_neg_data)}\")"
      ],
      "execution_count": null,
      "outputs": [
        {
          "output_type": "stream",
          "text": [
            "샘플링 전 1/0 비율: 0.5854104177694133\n",
            "샘플링 후 1/0 비율: 1.0\n"
          ],
          "name": "stdout"
        }
      ]
    },
    {
      "cell_type": "code",
      "metadata": {
        "id": "c4rPSG7CHI8N",
        "colab_type": "code",
        "colab": {
          "base_uri": "https://localhost:8080/",
          "height": 1000
        },
        "outputId": "1021cee8-ea4b-49a1-a32e-242e0db15995"
      },
      "source": [
        "# 두 데이터를 확인 후, 합친다.\n",
        "display(train_pos_data.head())\n",
        "display(train_neg_data.head())\n",
        "\n",
        "train_data = pd.concat([train_neg_data, train_pos_data])\n",
        "display(train_data)"
      ],
      "execution_count": null,
      "outputs": [
        {
          "output_type": "display_data",
          "data": {
            "text/html": [
              "<div>\n",
              "<style scoped>\n",
              "    .dataframe tbody tr th:only-of-type {\n",
              "        vertical-align: middle;\n",
              "    }\n",
              "\n",
              "    .dataframe tbody tr th {\n",
              "        vertical-align: top;\n",
              "    }\n",
              "\n",
              "    .dataframe thead th {\n",
              "        text-align: right;\n",
              "    }\n",
              "</style>\n",
              "<table border=\"1\" class=\"dataframe\">\n",
              "  <thead>\n",
              "    <tr style=\"text-align: right;\">\n",
              "      <th></th>\n",
              "      <th>id</th>\n",
              "      <th>qid1</th>\n",
              "      <th>qid2</th>\n",
              "      <th>question1</th>\n",
              "      <th>question2</th>\n",
              "      <th>is_duplicate</th>\n",
              "    </tr>\n",
              "  </thead>\n",
              "  <tbody>\n",
              "    <tr>\n",
              "      <th>5</th>\n",
              "      <td>5</td>\n",
              "      <td>11</td>\n",
              "      <td>12</td>\n",
              "      <td>Astrology: I am a Capricorn Sun Cap moon and c...</td>\n",
              "      <td>I'm a triple Capricorn (Sun, Moon and ascendan...</td>\n",
              "      <td>1</td>\n",
              "    </tr>\n",
              "    <tr>\n",
              "      <th>7</th>\n",
              "      <td>7</td>\n",
              "      <td>15</td>\n",
              "      <td>16</td>\n",
              "      <td>How can I be a good geologist?</td>\n",
              "      <td>What should I do to be a great geologist?</td>\n",
              "      <td>1</td>\n",
              "    </tr>\n",
              "    <tr>\n",
              "      <th>11</th>\n",
              "      <td>11</td>\n",
              "      <td>23</td>\n",
              "      <td>24</td>\n",
              "      <td>How do I read and find my YouTube comments?</td>\n",
              "      <td>How can I see all my Youtube comments?</td>\n",
              "      <td>1</td>\n",
              "    </tr>\n",
              "    <tr>\n",
              "      <th>12</th>\n",
              "      <td>12</td>\n",
              "      <td>25</td>\n",
              "      <td>26</td>\n",
              "      <td>What can make Physics easy to learn?</td>\n",
              "      <td>How can you make physics easy to learn?</td>\n",
              "      <td>1</td>\n",
              "    </tr>\n",
              "    <tr>\n",
              "      <th>13</th>\n",
              "      <td>13</td>\n",
              "      <td>27</td>\n",
              "      <td>28</td>\n",
              "      <td>What was your first sexual experience like?</td>\n",
              "      <td>What was your first sexual experience?</td>\n",
              "      <td>1</td>\n",
              "    </tr>\n",
              "  </tbody>\n",
              "</table>\n",
              "</div>"
            ],
            "text/plain": [
              "    id  qid1  ...                                          question2 is_duplicate\n",
              "5    5    11  ...  I'm a triple Capricorn (Sun, Moon and ascendan...            1\n",
              "7    7    15  ...          What should I do to be a great geologist?            1\n",
              "11  11    23  ...             How can I see all my Youtube comments?            1\n",
              "12  12    25  ...            How can you make physics easy to learn?            1\n",
              "13  13    27  ...             What was your first sexual experience?            1\n",
              "\n",
              "[5 rows x 6 columns]"
            ]
          },
          "metadata": {
            "tags": []
          }
        },
        {
          "output_type": "display_data",
          "data": {
            "text/html": [
              "<div>\n",
              "<style scoped>\n",
              "    .dataframe tbody tr th:only-of-type {\n",
              "        vertical-align: middle;\n",
              "    }\n",
              "\n",
              "    .dataframe tbody tr th {\n",
              "        vertical-align: top;\n",
              "    }\n",
              "\n",
              "    .dataframe thead th {\n",
              "        text-align: right;\n",
              "    }\n",
              "</style>\n",
              "<table border=\"1\" class=\"dataframe\">\n",
              "  <thead>\n",
              "    <tr style=\"text-align: right;\">\n",
              "      <th></th>\n",
              "      <th>id</th>\n",
              "      <th>qid1</th>\n",
              "      <th>qid2</th>\n",
              "      <th>question1</th>\n",
              "      <th>question2</th>\n",
              "      <th>is_duplicate</th>\n",
              "    </tr>\n",
              "  </thead>\n",
              "  <tbody>\n",
              "    <tr>\n",
              "      <th>28688</th>\n",
              "      <td>28688</td>\n",
              "      <td>57199</td>\n",
              "      <td>57200</td>\n",
              "      <td>What is the package for freshers in Secureye?</td>\n",
              "      <td>What is the package offered by ABCO Advisary S...</td>\n",
              "      <td>0</td>\n",
              "    </tr>\n",
              "    <tr>\n",
              "      <th>130091</th>\n",
              "      <td>130091</td>\n",
              "      <td>257671</td>\n",
              "      <td>257672</td>\n",
              "      <td>What's it like to study A-levels at home?</td>\n",
              "      <td>What does studying A-level do?</td>\n",
              "      <td>0</td>\n",
              "    </tr>\n",
              "    <tr>\n",
              "      <th>105546</th>\n",
              "      <td>105546</td>\n",
              "      <td>209350</td>\n",
              "      <td>209351</td>\n",
              "      <td>What is Special about this Bollywood Personali...</td>\n",
              "      <td>How do you think banning Pakistani artists gon...</td>\n",
              "      <td>0</td>\n",
              "    </tr>\n",
              "    <tr>\n",
              "      <th>240266</th>\n",
              "      <td>240266</td>\n",
              "      <td>473255</td>\n",
              "      <td>473256</td>\n",
              "      <td>Does taking NSAIDs after a flu shot reduce the...</td>\n",
              "      <td>What are the disadvantages of getting flu and ...</td>\n",
              "      <td>0</td>\n",
              "    </tr>\n",
              "    <tr>\n",
              "      <th>108712</th>\n",
              "      <td>108712</td>\n",
              "      <td>215588</td>\n",
              "      <td>215589</td>\n",
              "      <td>Which are top five mutual funds in India based...</td>\n",
              "      <td>What are top five companies to invest in mutua...</td>\n",
              "      <td>0</td>\n",
              "    </tr>\n",
              "  </tbody>\n",
              "</table>\n",
              "</div>"
            ],
            "text/plain": [
              "            id  ...  is_duplicate\n",
              "28688    28688  ...             0\n",
              "130091  130091  ...             0\n",
              "105546  105546  ...             0\n",
              "240266  240266  ...             0\n",
              "108712  108712  ...             0\n",
              "\n",
              "[5 rows x 6 columns]"
            ]
          },
          "metadata": {
            "tags": []
          }
        },
        {
          "output_type": "display_data",
          "data": {
            "text/html": [
              "<div>\n",
              "<style scoped>\n",
              "    .dataframe tbody tr th:only-of-type {\n",
              "        vertical-align: middle;\n",
              "    }\n",
              "\n",
              "    .dataframe tbody tr th {\n",
              "        vertical-align: top;\n",
              "    }\n",
              "\n",
              "    .dataframe thead th {\n",
              "        text-align: right;\n",
              "    }\n",
              "</style>\n",
              "<table border=\"1\" class=\"dataframe\">\n",
              "  <thead>\n",
              "    <tr style=\"text-align: right;\">\n",
              "      <th></th>\n",
              "      <th>id</th>\n",
              "      <th>qid1</th>\n",
              "      <th>qid2</th>\n",
              "      <th>question1</th>\n",
              "      <th>question2</th>\n",
              "      <th>is_duplicate</th>\n",
              "    </tr>\n",
              "  </thead>\n",
              "  <tbody>\n",
              "    <tr>\n",
              "      <th>28688</th>\n",
              "      <td>28688</td>\n",
              "      <td>57199</td>\n",
              "      <td>57200</td>\n",
              "      <td>What is the package for freshers in Secureye?</td>\n",
              "      <td>What is the package offered by ABCO Advisary S...</td>\n",
              "      <td>0</td>\n",
              "    </tr>\n",
              "    <tr>\n",
              "      <th>130091</th>\n",
              "      <td>130091</td>\n",
              "      <td>257671</td>\n",
              "      <td>257672</td>\n",
              "      <td>What's it like to study A-levels at home?</td>\n",
              "      <td>What does studying A-level do?</td>\n",
              "      <td>0</td>\n",
              "    </tr>\n",
              "    <tr>\n",
              "      <th>105546</th>\n",
              "      <td>105546</td>\n",
              "      <td>209350</td>\n",
              "      <td>209351</td>\n",
              "      <td>What is Special about this Bollywood Personali...</td>\n",
              "      <td>How do you think banning Pakistani artists gon...</td>\n",
              "      <td>0</td>\n",
              "    </tr>\n",
              "    <tr>\n",
              "      <th>240266</th>\n",
              "      <td>240266</td>\n",
              "      <td>473255</td>\n",
              "      <td>473256</td>\n",
              "      <td>Does taking NSAIDs after a flu shot reduce the...</td>\n",
              "      <td>What are the disadvantages of getting flu and ...</td>\n",
              "      <td>0</td>\n",
              "    </tr>\n",
              "    <tr>\n",
              "      <th>108712</th>\n",
              "      <td>108712</td>\n",
              "      <td>215588</td>\n",
              "      <td>215589</td>\n",
              "      <td>Which are top five mutual funds in India based...</td>\n",
              "      <td>What are top five companies to invest in mutua...</td>\n",
              "      <td>0</td>\n",
              "    </tr>\n",
              "    <tr>\n",
              "      <th>...</th>\n",
              "      <td>...</td>\n",
              "      <td>...</td>\n",
              "      <td>...</td>\n",
              "      <td>...</td>\n",
              "      <td>...</td>\n",
              "      <td>...</td>\n",
              "    </tr>\n",
              "    <tr>\n",
              "      <th>404341</th>\n",
              "      <td>404341</td>\n",
              "      <td>789782</td>\n",
              "      <td>789783</td>\n",
              "      <td>What are some outfit ideas to wear to a frat p...</td>\n",
              "      <td>What are some outfit ideas wear to a frat them...</td>\n",
              "      <td>1</td>\n",
              "    </tr>\n",
              "    <tr>\n",
              "      <th>404342</th>\n",
              "      <td>404342</td>\n",
              "      <td>789784</td>\n",
              "      <td>789785</td>\n",
              "      <td>Why is Manaphy childish in Pokémon Ranger and ...</td>\n",
              "      <td>Why is Manaphy annoying in Pokemon ranger and ...</td>\n",
              "      <td>1</td>\n",
              "    </tr>\n",
              "    <tr>\n",
              "      <th>404343</th>\n",
              "      <td>404343</td>\n",
              "      <td>789786</td>\n",
              "      <td>789787</td>\n",
              "      <td>How does a long distance relationship work?</td>\n",
              "      <td>How are long distance relationships maintained?</td>\n",
              "      <td>1</td>\n",
              "    </tr>\n",
              "    <tr>\n",
              "      <th>404345</th>\n",
              "      <td>404345</td>\n",
              "      <td>789790</td>\n",
              "      <td>789791</td>\n",
              "      <td>What does Jainism say about homosexuality?</td>\n",
              "      <td>What does Jainism say about Gays and Homosexua...</td>\n",
              "      <td>1</td>\n",
              "    </tr>\n",
              "    <tr>\n",
              "      <th>404347</th>\n",
              "      <td>404347</td>\n",
              "      <td>789794</td>\n",
              "      <td>789795</td>\n",
              "      <td>Do you believe there is life after death?</td>\n",
              "      <td>Is it true that there is life after death?</td>\n",
              "      <td>1</td>\n",
              "    </tr>\n",
              "  </tbody>\n",
              "</table>\n",
              "<p>298612 rows × 6 columns</p>\n",
              "</div>"
            ],
            "text/plain": [
              "            id  ...  is_duplicate\n",
              "28688    28688  ...             0\n",
              "130091  130091  ...             0\n",
              "105546  105546  ...             0\n",
              "240266  240266  ...             0\n",
              "108712  108712  ...             0\n",
              "...        ...  ...           ...\n",
              "404341  404341  ...             1\n",
              "404342  404342  ...             1\n",
              "404343  404343  ...             1\n",
              "404345  404345  ...             1\n",
              "404347  404347  ...             1\n",
              "\n",
              "[298612 rows x 6 columns]"
            ]
          },
          "metadata": {
            "tags": []
          }
        }
      ]
    },
    {
      "cell_type": "code",
      "metadata": {
        "id": "lQVnEfAUJAjS",
        "colab_type": "code",
        "colab": {
          "base_uri": "https://localhost:8080/",
          "height": 35
        },
        "outputId": "aa248fda-20c1-4048-9abc-f6476d54379e"
      },
      "source": [
        "# q1, q2 문자열로\n",
        "q1 = [str(s) for s in train_data['question1']]\n",
        "q2 = [str(s) for s in train_data['question2']]\n",
        "len(q1), len(q2)"
      ],
      "execution_count": null,
      "outputs": [
        {
          "output_type": "execute_result",
          "data": {
            "text/plain": [
              "(298612, 298612)"
            ]
          },
          "metadata": {
            "tags": []
          },
          "execution_count": 29
        }
      ]
    },
    {
      "cell_type": "code",
      "metadata": {
        "id": "xANBLbghHI-Z",
        "colab_type": "code",
        "colab": {}
      },
      "source": [
        "# 간단한 전처리\n",
        "puncs = \"([~.,!?\\\"':;)(])\"\n",
        "filtered_q1 = []\n",
        "filtered_q2 = []\n",
        "for q1_, q2_, in zip(q1, q2):\n",
        "    filtered_q1.append(re.sub(re.compile(puncs), \"\", q1_).lower()) # 제거 후 소문자\n",
        "    filtered_q2.append(re.sub(re.compile(puncs), \"\", q2_).lower()) # 제거 후 소문자 -"
      ],
      "execution_count": null,
      "outputs": []
    },
    {
      "cell_type": "code",
      "metadata": {
        "id": "zJDcYbFgJngu",
        "colab_type": "code",
        "colab": {}
      },
      "source": [
        "# 전처리한 파일 pickle로 저장\n",
        "with open(f\"{data_path}/train_Q1_preprocessed.pickle\", \"wb\") as f:\n",
        "    pickle.dump(filtered_q1, f)\n",
        "    \n",
        "with open(f\"{data_path}/train_Q2_preprocessed.pickle\", \"wb\") as f:\n",
        "    pickle.dump(filtered_q2, f)"
      ],
      "execution_count": null,
      "outputs": []
    },
    {
      "cell_type": "code",
      "metadata": {
        "id": "yeYW45gqHJCI",
        "colab_type": "code",
        "colab": {}
      },
      "source": [
        "# 어휘집 생성 및 단어 워드 인덱스 변환\n",
        "tokenizer = Tokenizer()\n",
        "tokenizer.fit_on_texts(filtered_q1 + filtered_q2) # 두 물음 각각에 대해 fit\n",
        "q1_sequences = tokenizer.texts_to_sequences(filtered_q1)\n",
        "q2_sequences = tokenizer.texts_to_sequences(filtered_q2)"
      ],
      "execution_count": null,
      "outputs": []
    },
    {
      "cell_type": "code",
      "metadata": {
        "id": "FtpeJsM1HI5t",
        "colab_type": "code",
        "colab": {
          "base_uri": "https://localhost:8080/",
          "height": 71
        },
        "outputId": "b13c1db8-1959-4e82-b2c8-f1a05c1f87bf"
      },
      "source": [
        "# 어휘집 및 시퀀스 확인\n",
        "print(list(tokenizer.word_index)[:20])\n",
        "print(q1_sequences[0])\n",
        "print(q2_sequences[0])"
      ],
      "execution_count": null,
      "outputs": [
        {
          "output_type": "stream",
          "text": [
            "['the', 'what', 'is', 'how', 'i', 'to', 'a', 'in', 'do', 'of', 'are', 'and', 'can', 'for', 'you', 'why', 'best', 'my', 'it', 'on']\n",
            "[2, 3, 1, 1637, 14, 3119, 8, 45138]\n",
            "[2, 3, 1, 1637, 2740, 57, 62128, 62129, 455, 6, 7, 1430]\n"
          ],
          "name": "stdout"
        }
      ]
    },
    {
      "cell_type": "code",
      "metadata": {
        "id": "lXe2d81YHIWC",
        "colab_type": "code",
        "colab": {}
      },
      "source": [
        "# 토크나이저 객체 저장\n",
        "with open(f\"{data_path}/5-2.Quora-tokenizer.pickle\", \"wb\") as f:\n",
        "    pickle.dump(tokenizer, f)"
      ],
      "execution_count": null,
      "outputs": []
    },
    {
      "cell_type": "code",
      "metadata": {
        "id": "_HovJArmHIIe",
        "colab_type": "code",
        "colab": {
          "base_uri": "https://localhost:8080/",
          "height": 557
        },
        "outputId": "21114943-01fd-4f3b-bf80-1e25e0d718ed"
      },
      "source": [
        "# 문장 패딩\n",
        "def check_len(threshold, sentences):\n",
        "    cnt = 0\n",
        "    for sent in sentences:\n",
        "        if len(sent) <= threshold:\n",
        "            cnt += 1\n",
        "    return f'전체 문장 중 길이가 {threshold} 이하인 샘플의 비율: {(cnt/len(sentences))*100}'\n",
        "\n",
        "for i in range(10, 40):\n",
        "    print(check_len(i, q1_sequences + q2_sequences))"
      ],
      "execution_count": null,
      "outputs": [
        {
          "output_type": "stream",
          "text": [
            "전체 문장 중 길이가 10 이하인 샘플의 비율: 60.63085207560312\n",
            "전체 문장 중 길이가 11 이하인 샘플의 비율: 67.87001192182498\n",
            "전체 문장 중 길이가 12 이하인 샘플의 비율: 73.65511098013475\n",
            "전체 문장 중 길이가 13 이하인 샘플의 비율: 78.17770216870052\n",
            "전체 문장 중 길이가 14 이하인 샘플의 비율: 82.03722556360763\n",
            "전체 문장 중 길이가 15 이하인 샘플의 비율: 85.22715095173669\n",
            "전체 문장 중 길이가 16 이하인 샘플의 비율: 87.80189677574913\n",
            "전체 문장 중 길이가 17 이하인 샘플의 비율: 89.6432494340482\n",
            "전체 문장 중 길이가 18 이하인 샘플의 비율: 91.24482606191312\n",
            "전체 문장 중 길이가 19 이하인 샘플의 비율: 92.59406855719126\n",
            "전체 문장 중 길이가 20 이하인 샘플의 비율: 93.74506047981997\n",
            "전체 문장 중 길이가 21 이하인 샘플의 비율: 94.67050888778749\n",
            "전체 문장 중 길이가 22 이하인 샘플의 비율: 95.52780866140678\n",
            "전체 문장 중 길이가 23 이하인 샘플의 비율: 96.19389039958207\n",
            "전체 문장 중 길이가 24 이하인 샘플의 비율: 96.80488392964783\n",
            "전체 문장 중 길이가 25 이하인 샘플의 비율: 97.34923579762366\n",
            "전체 문장 중 길이가 26 이하인 샘플의 비율: 97.88035979799874\n",
            "전체 문장 중 길이가 27 이하인 샘플의 비율: 98.3450095776459\n",
            "전체 문장 중 길이가 28 이하인 샘플의 비율: 98.70232944422864\n",
            "전체 문장 중 길이가 29 이하인 샘플의 비율: 98.9350729374573\n",
            "전체 문장 중 길이가 30 이하인 샘플의 비율: 99.12294214566059\n",
            "전체 문장 중 길이가 31 이하인 샘플의 비율: 99.26945333744122\n",
            "전체 문장 중 길이가 32 이하인 샘플의 비율: 99.36941583057613\n",
            "전체 문장 중 길이가 33 이하인 샘플의 비율: 99.45380627704178\n",
            "전체 문장 중 길이가 34 이하인 샘플의 비율: 99.51123866421979\n",
            "전체 문장 중 길이가 35 이하인 샘플의 비율: 99.57319196817275\n",
            "전체 문장 중 길이가 36 이하인 샘플의 비율: 99.61823369456016\n",
            "전체 문장 중 길이가 37 이하인 샘플의 비율: 99.6647823932059\n",
            "전체 문장 중 길이가 38 이하인 샘플의 비율: 99.70747994052482\n",
            "전체 문장 중 길이가 39 이하인 샘플의 비율: 99.74833563286137\n"
          ],
          "name": "stdout"
        }
      ]
    },
    {
      "cell_type": "code",
      "metadata": {
        "id": "dFh9Y3sxHIAB",
        "colab_type": "code",
        "colab": {
          "base_uri": "https://localhost:8080/",
          "height": 35
        },
        "outputId": "73227546-486d-46f4-f5a9-d93fc69e412d"
      },
      "source": [
        "MAX_LENGTH = int(input('문장 최대 길이 설정: '))\n",
        "q1_data = pad_sequences(q1_sequences, maxlen=MAX_LENGTH, padding='post', truncating='post')\n",
        "q2_data = pad_sequences(q2_sequences, maxlen=MAX_LENGTH, padding='post', truncating='post')"
      ],
      "execution_count": null,
      "outputs": [
        {
          "output_type": "stream",
          "text": [
            "문장 최대 길이 설정: 31\n"
          ],
          "name": "stdout"
        }
      ]
    },
    {
      "cell_type": "code",
      "metadata": {
        "id": "roVeJAiNLu55",
        "colab_type": "code",
        "colab": {}
      },
      "source": [
        "# 데이터 저장\n",
        "train_labels = np.array(train_data['is_duplicate'], dtype=int)\n",
        "\n",
        "np.save(open(f\"{data_path}/5-2.train_q1.npy\", 'wb'), q1_data)\n",
        "np.save(open(f\"{data_path}/5-2.train_q2.npy\", 'wb'), q2_data)\n",
        "np.save(open(f\"{data_path}/5-2.train_label.npy\", 'wb'), train_labels)"
      ],
      "execution_count": null,
      "outputs": []
    },
    {
      "cell_type": "markdown",
      "metadata": {
        "id": "dEzI8qQP1QsH",
        "colab_type": "text"
      },
      "source": [
        "## _3_. 모델링"
      ]
    },
    {
      "cell_type": "markdown",
      "metadata": {
        "id": "nK8-wuH9Mt2p",
        "colab_type": "text"
      },
      "source": [
        "### 3.1. XGBoost"
      ]
    },
    {
      "cell_type": "markdown",
      "metadata": {
        "id": "jdEfXbBYM3Bn",
        "colab_type": "text"
      },
      "source": [
        "책에서는 3차원 array로 만들었으나, 강사님 코드에서는 2차원으로 데이터를 만들었다.\n",
        "\n",
        "- 책: `np.hstack((q1_data, q2_data), axis=1)`\n"
      ]
    },
    {
      "cell_type": "code",
      "metadata": {
        "id": "7p71qspkMF9w",
        "colab_type": "code",
        "colab": {
          "base_uri": "https://localhost:8080/",
          "height": 35
        },
        "outputId": "a3984ad3-df20-41d7-ce34-a8cebee888aa"
      },
      "source": [
        "# 데이터 결합\n",
        "train_data = np.hstack((q1_data, q2_data))\n",
        "train_data.shape"
      ],
      "execution_count": null,
      "outputs": [
        {
          "output_type": "execute_result",
          "data": {
            "text/plain": [
              "(298612, 62)"
            ]
          },
          "metadata": {
            "tags": []
          },
          "execution_count": 55
        }
      ]
    },
    {
      "cell_type": "code",
      "metadata": {
        "id": "3_nWeQa1NCtq",
        "colab_type": "code",
        "colab": {}
      },
      "source": [
        "# 데이터 분리\n",
        "X_train, X_test, y_train, y_test = train_test_split(train_data, train_labels,\n",
        "                                                    test_size=0.2,\n",
        "                                                    random_state=42)"
      ],
      "execution_count": null,
      "outputs": []
    },
    {
      "cell_type": "code",
      "metadata": {
        "id": "hahg7JsBNC8D",
        "colab_type": "code",
        "colab": {}
      },
      "source": [
        "# XGBoost 형태에 맞게 변경\n",
        "X_train = xgb.DMatrix(X_train, y_train)\n",
        "X_test = xgb.DMatrix(X_test, y_test)\n",
        "data_list = [(X_train, 'Train'), (X_test, 'Validation')]"
      ],
      "execution_count": null,
      "outputs": []
    },
    {
      "cell_type": "code",
      "metadata": {
        "id": "ls6ReTMENCzX",
        "colab_type": "code",
        "colab": {}
      },
      "source": [
        "# XGBoost 파라미터 설정\n",
        "params_ = {\n",
        "    'eta': 0.3,\n",
        "    'max_depth': 3,\n",
        "    'objective': 'binary:logistic',\n",
        "    'eval_metric': 'rmse'\n",
        "} "
      ],
      "execution_count": null,
      "outputs": []
    },
    {
      "cell_type": "code",
      "metadata": {
        "id": "0g_B-knRNCf0",
        "colab_type": "code",
        "colab": {
          "base_uri": "https://localhost:8080/",
          "height": 1000
        },
        "outputId": "2fae5d8d-d25d-4047-92d6-c7db15e852fe"
      },
      "source": [
        "# 모델 학습\n",
        "model = xgb.train(params=params_, dtrain=X_train,\n",
        "                  num_boost_round=1000,\n",
        "                  evals=data_list)"
      ],
      "execution_count": null,
      "outputs": [
        {
          "output_type": "stream",
          "text": [
            "[0]\tTrain-rmse:0.491892\tValidation-rmse:0.491608\n",
            "[1]\tTrain-rmse:0.487252\tValidation-rmse:0.486499\n",
            "[2]\tTrain-rmse:0.483387\tValidation-rmse:0.48273\n",
            "[3]\tTrain-rmse:0.480014\tValidation-rmse:0.47926\n",
            "[4]\tTrain-rmse:0.477106\tValidation-rmse:0.476238\n",
            "[5]\tTrain-rmse:0.474598\tValidation-rmse:0.47363\n",
            "[6]\tTrain-rmse:0.472559\tValidation-rmse:0.471708\n",
            "[7]\tTrain-rmse:0.470259\tValidation-rmse:0.469285\n",
            "[8]\tTrain-rmse:0.468245\tValidation-rmse:0.467384\n",
            "[9]\tTrain-rmse:0.466697\tValidation-rmse:0.46575\n",
            "[10]\tTrain-rmse:0.464774\tValidation-rmse:0.463838\n",
            "[11]\tTrain-rmse:0.463661\tValidation-rmse:0.462803\n",
            "[12]\tTrain-rmse:0.462624\tValidation-rmse:0.461738\n",
            "[13]\tTrain-rmse:0.46153\tValidation-rmse:0.460679\n",
            "[14]\tTrain-rmse:0.460156\tValidation-rmse:0.459336\n",
            "[15]\tTrain-rmse:0.459178\tValidation-rmse:0.458214\n",
            "[16]\tTrain-rmse:0.458174\tValidation-rmse:0.45721\n",
            "[17]\tTrain-rmse:0.457569\tValidation-rmse:0.45663\n",
            "[18]\tTrain-rmse:0.45691\tValidation-rmse:0.456052\n",
            "[19]\tTrain-rmse:0.456162\tValidation-rmse:0.455347\n",
            "[20]\tTrain-rmse:0.455559\tValidation-rmse:0.454738\n",
            "[21]\tTrain-rmse:0.454842\tValidation-rmse:0.454062\n",
            "[22]\tTrain-rmse:0.454227\tValidation-rmse:0.453541\n",
            "[23]\tTrain-rmse:0.453651\tValidation-rmse:0.452913\n",
            "[24]\tTrain-rmse:0.453112\tValidation-rmse:0.452453\n",
            "[25]\tTrain-rmse:0.452028\tValidation-rmse:0.451439\n",
            "[26]\tTrain-rmse:0.451461\tValidation-rmse:0.450948\n",
            "[27]\tTrain-rmse:0.451052\tValidation-rmse:0.450477\n",
            "[28]\tTrain-rmse:0.450606\tValidation-rmse:0.449976\n",
            "[29]\tTrain-rmse:0.45021\tValidation-rmse:0.449601\n",
            "[30]\tTrain-rmse:0.449912\tValidation-rmse:0.449339\n",
            "[31]\tTrain-rmse:0.449627\tValidation-rmse:0.449069\n",
            "[32]\tTrain-rmse:0.449141\tValidation-rmse:0.44858\n",
            "[33]\tTrain-rmse:0.448606\tValidation-rmse:0.448028\n",
            "[34]\tTrain-rmse:0.448365\tValidation-rmse:0.447782\n",
            "[35]\tTrain-rmse:0.448059\tValidation-rmse:0.447513\n",
            "[36]\tTrain-rmse:0.447764\tValidation-rmse:0.447202\n",
            "[37]\tTrain-rmse:0.447465\tValidation-rmse:0.446927\n",
            "[38]\tTrain-rmse:0.447069\tValidation-rmse:0.446502\n",
            "[39]\tTrain-rmse:0.446745\tValidation-rmse:0.446204\n",
            "[40]\tTrain-rmse:0.446478\tValidation-rmse:0.445944\n",
            "[41]\tTrain-rmse:0.446122\tValidation-rmse:0.445664\n",
            "[42]\tTrain-rmse:0.445462\tValidation-rmse:0.44491\n",
            "[43]\tTrain-rmse:0.445098\tValidation-rmse:0.444611\n",
            "[44]\tTrain-rmse:0.444822\tValidation-rmse:0.444365\n",
            "[45]\tTrain-rmse:0.44459\tValidation-rmse:0.444162\n",
            "[46]\tTrain-rmse:0.444368\tValidation-rmse:0.443962\n",
            "[47]\tTrain-rmse:0.444093\tValidation-rmse:0.443694\n",
            "[48]\tTrain-rmse:0.443723\tValidation-rmse:0.443303\n",
            "[49]\tTrain-rmse:0.443471\tValidation-rmse:0.443086\n",
            "[50]\tTrain-rmse:0.443295\tValidation-rmse:0.442886\n",
            "[51]\tTrain-rmse:0.443104\tValidation-rmse:0.442672\n",
            "[52]\tTrain-rmse:0.442856\tValidation-rmse:0.442415\n",
            "[53]\tTrain-rmse:0.44249\tValidation-rmse:0.44204\n",
            "[54]\tTrain-rmse:0.442088\tValidation-rmse:0.441686\n",
            "[55]\tTrain-rmse:0.441963\tValidation-rmse:0.441587\n",
            "[56]\tTrain-rmse:0.441747\tValidation-rmse:0.441408\n",
            "[57]\tTrain-rmse:0.441438\tValidation-rmse:0.441104\n",
            "[58]\tTrain-rmse:0.441319\tValidation-rmse:0.44097\n",
            "[59]\tTrain-rmse:0.441026\tValidation-rmse:0.440711\n",
            "[60]\tTrain-rmse:0.440849\tValidation-rmse:0.440572\n",
            "[61]\tTrain-rmse:0.440665\tValidation-rmse:0.4404\n",
            "[62]\tTrain-rmse:0.440504\tValidation-rmse:0.440233\n",
            "[63]\tTrain-rmse:0.439831\tValidation-rmse:0.439535\n",
            "[64]\tTrain-rmse:0.43966\tValidation-rmse:0.439395\n",
            "[65]\tTrain-rmse:0.439504\tValidation-rmse:0.439254\n",
            "[66]\tTrain-rmse:0.439378\tValidation-rmse:0.43914\n",
            "[67]\tTrain-rmse:0.439253\tValidation-rmse:0.439023\n",
            "[68]\tTrain-rmse:0.438716\tValidation-rmse:0.438527\n",
            "[69]\tTrain-rmse:0.438333\tValidation-rmse:0.438172\n",
            "[70]\tTrain-rmse:0.438178\tValidation-rmse:0.438016\n",
            "[71]\tTrain-rmse:0.437953\tValidation-rmse:0.43783\n",
            "[72]\tTrain-rmse:0.437805\tValidation-rmse:0.437697\n",
            "[73]\tTrain-rmse:0.437619\tValidation-rmse:0.437508\n",
            "[74]\tTrain-rmse:0.437438\tValidation-rmse:0.437324\n",
            "[75]\tTrain-rmse:0.437223\tValidation-rmse:0.437134\n",
            "[76]\tTrain-rmse:0.437045\tValidation-rmse:0.436961\n",
            "[77]\tTrain-rmse:0.436379\tValidation-rmse:0.436317\n",
            "[78]\tTrain-rmse:0.436232\tValidation-rmse:0.436188\n",
            "[79]\tTrain-rmse:0.436078\tValidation-rmse:0.436028\n",
            "[80]\tTrain-rmse:0.435763\tValidation-rmse:0.43571\n",
            "[81]\tTrain-rmse:0.435663\tValidation-rmse:0.435617\n",
            "[82]\tTrain-rmse:0.435583\tValidation-rmse:0.435552\n",
            "[83]\tTrain-rmse:0.435494\tValidation-rmse:0.435463\n",
            "[84]\tTrain-rmse:0.435403\tValidation-rmse:0.435353\n",
            "[85]\tTrain-rmse:0.435309\tValidation-rmse:0.435263\n",
            "[86]\tTrain-rmse:0.435215\tValidation-rmse:0.435177\n",
            "[87]\tTrain-rmse:0.43503\tValidation-rmse:0.43501\n",
            "[88]\tTrain-rmse:0.434746\tValidation-rmse:0.434723\n",
            "[89]\tTrain-rmse:0.43465\tValidation-rmse:0.434661\n",
            "[90]\tTrain-rmse:0.434443\tValidation-rmse:0.434459\n",
            "[91]\tTrain-rmse:0.434374\tValidation-rmse:0.434347\n",
            "[92]\tTrain-rmse:0.434298\tValidation-rmse:0.434258\n",
            "[93]\tTrain-rmse:0.434197\tValidation-rmse:0.434158\n",
            "[94]\tTrain-rmse:0.434092\tValidation-rmse:0.434028\n",
            "[95]\tTrain-rmse:0.433806\tValidation-rmse:0.433761\n",
            "[96]\tTrain-rmse:0.433683\tValidation-rmse:0.433655\n",
            "[97]\tTrain-rmse:0.43359\tValidation-rmse:0.433577\n",
            "[98]\tTrain-rmse:0.433487\tValidation-rmse:0.433476\n",
            "[99]\tTrain-rmse:0.433393\tValidation-rmse:0.433369\n",
            "[100]\tTrain-rmse:0.432911\tValidation-rmse:0.432963\n",
            "[101]\tTrain-rmse:0.43284\tValidation-rmse:0.432896\n",
            "[102]\tTrain-rmse:0.432598\tValidation-rmse:0.432655\n",
            "[103]\tTrain-rmse:0.432526\tValidation-rmse:0.432569\n",
            "[104]\tTrain-rmse:0.432429\tValidation-rmse:0.432475\n",
            "[105]\tTrain-rmse:0.432272\tValidation-rmse:0.432319\n",
            "[106]\tTrain-rmse:0.432167\tValidation-rmse:0.432233\n",
            "[107]\tTrain-rmse:0.432078\tValidation-rmse:0.432152\n",
            "[108]\tTrain-rmse:0.432013\tValidation-rmse:0.432073\n",
            "[109]\tTrain-rmse:0.431746\tValidation-rmse:0.431818\n",
            "[110]\tTrain-rmse:0.431436\tValidation-rmse:0.431503\n",
            "[111]\tTrain-rmse:0.431378\tValidation-rmse:0.431462\n",
            "[112]\tTrain-rmse:0.431242\tValidation-rmse:0.431358\n",
            "[113]\tTrain-rmse:0.43099\tValidation-rmse:0.431089\n",
            "[114]\tTrain-rmse:0.430944\tValidation-rmse:0.431045\n",
            "[115]\tTrain-rmse:0.430885\tValidation-rmse:0.431008\n",
            "[116]\tTrain-rmse:0.430838\tValidation-rmse:0.430961\n",
            "[117]\tTrain-rmse:0.430718\tValidation-rmse:0.430858\n",
            "[118]\tTrain-rmse:0.430669\tValidation-rmse:0.430819\n",
            "[119]\tTrain-rmse:0.430605\tValidation-rmse:0.430749\n",
            "[120]\tTrain-rmse:0.430556\tValidation-rmse:0.430712\n",
            "[121]\tTrain-rmse:0.430521\tValidation-rmse:0.430678\n",
            "[122]\tTrain-rmse:0.430453\tValidation-rmse:0.430629\n",
            "[123]\tTrain-rmse:0.430382\tValidation-rmse:0.430524\n",
            "[124]\tTrain-rmse:0.430326\tValidation-rmse:0.43047\n",
            "[125]\tTrain-rmse:0.43026\tValidation-rmse:0.430417\n",
            "[126]\tTrain-rmse:0.430215\tValidation-rmse:0.430377\n",
            "[127]\tTrain-rmse:0.430167\tValidation-rmse:0.430353\n",
            "[128]\tTrain-rmse:0.429922\tValidation-rmse:0.430127\n",
            "[129]\tTrain-rmse:0.429779\tValidation-rmse:0.430037\n",
            "[130]\tTrain-rmse:0.429341\tValidation-rmse:0.42965\n",
            "[131]\tTrain-rmse:0.429278\tValidation-rmse:0.429604\n",
            "[132]\tTrain-rmse:0.429223\tValidation-rmse:0.42955\n",
            "[133]\tTrain-rmse:0.429168\tValidation-rmse:0.429488\n",
            "[134]\tTrain-rmse:0.429106\tValidation-rmse:0.429454\n",
            "[135]\tTrain-rmse:0.428977\tValidation-rmse:0.429326\n",
            "[136]\tTrain-rmse:0.428862\tValidation-rmse:0.429279\n",
            "[137]\tTrain-rmse:0.428829\tValidation-rmse:0.429242\n",
            "[138]\tTrain-rmse:0.428778\tValidation-rmse:0.429182\n",
            "[139]\tTrain-rmse:0.428503\tValidation-rmse:0.42892\n",
            "[140]\tTrain-rmse:0.428425\tValidation-rmse:0.428854\n",
            "[141]\tTrain-rmse:0.428288\tValidation-rmse:0.428739\n",
            "[142]\tTrain-rmse:0.428039\tValidation-rmse:0.428517\n",
            "[143]\tTrain-rmse:0.427992\tValidation-rmse:0.428484\n",
            "[144]\tTrain-rmse:0.427867\tValidation-rmse:0.428402\n",
            "[145]\tTrain-rmse:0.42783\tValidation-rmse:0.428365\n",
            "[146]\tTrain-rmse:0.427796\tValidation-rmse:0.428341\n",
            "[147]\tTrain-rmse:0.427768\tValidation-rmse:0.428321\n",
            "[148]\tTrain-rmse:0.427567\tValidation-rmse:0.42819\n",
            "[149]\tTrain-rmse:0.427521\tValidation-rmse:0.42815\n",
            "[150]\tTrain-rmse:0.427484\tValidation-rmse:0.428123\n",
            "[151]\tTrain-rmse:0.427388\tValidation-rmse:0.428032\n",
            "[152]\tTrain-rmse:0.427306\tValidation-rmse:0.427968\n",
            "[153]\tTrain-rmse:0.427258\tValidation-rmse:0.427921\n",
            "[154]\tTrain-rmse:0.427147\tValidation-rmse:0.427816\n",
            "[155]\tTrain-rmse:0.427085\tValidation-rmse:0.427764\n",
            "[156]\tTrain-rmse:0.427058\tValidation-rmse:0.42775\n",
            "[157]\tTrain-rmse:0.426928\tValidation-rmse:0.427671\n",
            "[158]\tTrain-rmse:0.426766\tValidation-rmse:0.427531\n",
            "[159]\tTrain-rmse:0.426717\tValidation-rmse:0.427482\n",
            "[160]\tTrain-rmse:0.426692\tValidation-rmse:0.427441\n",
            "[161]\tTrain-rmse:0.42657\tValidation-rmse:0.427364\n",
            "[162]\tTrain-rmse:0.426535\tValidation-rmse:0.427334\n",
            "[163]\tTrain-rmse:0.426506\tValidation-rmse:0.427306\n",
            "[164]\tTrain-rmse:0.426372\tValidation-rmse:0.427204\n",
            "[165]\tTrain-rmse:0.426162\tValidation-rmse:0.427025\n",
            "[166]\tTrain-rmse:0.425992\tValidation-rmse:0.426853\n",
            "[167]\tTrain-rmse:0.425853\tValidation-rmse:0.426719\n",
            "[168]\tTrain-rmse:0.425696\tValidation-rmse:0.426583\n",
            "[169]\tTrain-rmse:0.425584\tValidation-rmse:0.426502\n",
            "[170]\tTrain-rmse:0.425362\tValidation-rmse:0.426298\n",
            "[171]\tTrain-rmse:0.425329\tValidation-rmse:0.426269\n",
            "[172]\tTrain-rmse:0.425299\tValidation-rmse:0.426242\n",
            "[173]\tTrain-rmse:0.425043\tValidation-rmse:0.426014\n",
            "[174]\tTrain-rmse:0.42501\tValidation-rmse:0.425981\n",
            "[175]\tTrain-rmse:0.424986\tValidation-rmse:0.425957\n",
            "[176]\tTrain-rmse:0.424964\tValidation-rmse:0.42594\n",
            "[177]\tTrain-rmse:0.424929\tValidation-rmse:0.425907\n",
            "[178]\tTrain-rmse:0.424917\tValidation-rmse:0.425903\n",
            "[179]\tTrain-rmse:0.424884\tValidation-rmse:0.425861\n",
            "[180]\tTrain-rmse:0.424805\tValidation-rmse:0.425792\n",
            "[181]\tTrain-rmse:0.424772\tValidation-rmse:0.425778\n",
            "[182]\tTrain-rmse:0.424747\tValidation-rmse:0.425744\n",
            "[183]\tTrain-rmse:0.424724\tValidation-rmse:0.425726\n",
            "[184]\tTrain-rmse:0.42467\tValidation-rmse:0.425679\n",
            "[185]\tTrain-rmse:0.424629\tValidation-rmse:0.425638\n",
            "[186]\tTrain-rmse:0.424605\tValidation-rmse:0.4256\n",
            "[187]\tTrain-rmse:0.424569\tValidation-rmse:0.425587\n",
            "[188]\tTrain-rmse:0.424541\tValidation-rmse:0.425556\n",
            "[189]\tTrain-rmse:0.424512\tValidation-rmse:0.425536\n",
            "[190]\tTrain-rmse:0.424473\tValidation-rmse:0.425504\n",
            "[191]\tTrain-rmse:0.424429\tValidation-rmse:0.425461\n",
            "[192]\tTrain-rmse:0.424403\tValidation-rmse:0.425447\n",
            "[193]\tTrain-rmse:0.424383\tValidation-rmse:0.425427\n",
            "[194]\tTrain-rmse:0.424269\tValidation-rmse:0.425329\n",
            "[195]\tTrain-rmse:0.424223\tValidation-rmse:0.425287\n",
            "[196]\tTrain-rmse:0.424198\tValidation-rmse:0.425266\n",
            "[197]\tTrain-rmse:0.424182\tValidation-rmse:0.42525\n",
            "[198]\tTrain-rmse:0.424126\tValidation-rmse:0.42523\n",
            "[199]\tTrain-rmse:0.423986\tValidation-rmse:0.425084\n",
            "[200]\tTrain-rmse:0.423821\tValidation-rmse:0.424996\n",
            "[201]\tTrain-rmse:0.423622\tValidation-rmse:0.424759\n",
            "[202]\tTrain-rmse:0.423521\tValidation-rmse:0.424695\n",
            "[203]\tTrain-rmse:0.423476\tValidation-rmse:0.424642\n",
            "[204]\tTrain-rmse:0.423447\tValidation-rmse:0.424631\n",
            "[205]\tTrain-rmse:0.423411\tValidation-rmse:0.424609\n",
            "[206]\tTrain-rmse:0.423384\tValidation-rmse:0.424575\n",
            "[207]\tTrain-rmse:0.423362\tValidation-rmse:0.424558\n",
            "[208]\tTrain-rmse:0.423348\tValidation-rmse:0.424539\n",
            "[209]\tTrain-rmse:0.423271\tValidation-rmse:0.424482\n",
            "[210]\tTrain-rmse:0.423149\tValidation-rmse:0.424394\n",
            "[211]\tTrain-rmse:0.423113\tValidation-rmse:0.424364\n",
            "[212]\tTrain-rmse:0.422828\tValidation-rmse:0.424083\n",
            "[213]\tTrain-rmse:0.422665\tValidation-rmse:0.423952\n",
            "[214]\tTrain-rmse:0.422608\tValidation-rmse:0.423901\n",
            "[215]\tTrain-rmse:0.422592\tValidation-rmse:0.423892\n",
            "[216]\tTrain-rmse:0.42257\tValidation-rmse:0.423874\n",
            "[217]\tTrain-rmse:0.422518\tValidation-rmse:0.423834\n",
            "[218]\tTrain-rmse:0.422488\tValidation-rmse:0.423802\n",
            "[219]\tTrain-rmse:0.422464\tValidation-rmse:0.423783\n",
            "[220]\tTrain-rmse:0.422431\tValidation-rmse:0.423762\n",
            "[221]\tTrain-rmse:0.422421\tValidation-rmse:0.423754\n",
            "[222]\tTrain-rmse:0.422376\tValidation-rmse:0.423731\n",
            "[223]\tTrain-rmse:0.422362\tValidation-rmse:0.423724\n",
            "[224]\tTrain-rmse:0.422329\tValidation-rmse:0.423713\n",
            "[225]\tTrain-rmse:0.422316\tValidation-rmse:0.423704\n",
            "[226]\tTrain-rmse:0.422305\tValidation-rmse:0.423693\n",
            "[227]\tTrain-rmse:0.422293\tValidation-rmse:0.423681\n",
            "[228]\tTrain-rmse:0.422271\tValidation-rmse:0.423662\n",
            "[229]\tTrain-rmse:0.422144\tValidation-rmse:0.423596\n",
            "[230]\tTrain-rmse:0.4221\tValidation-rmse:0.423568\n",
            "[231]\tTrain-rmse:0.421911\tValidation-rmse:0.423382\n",
            "[232]\tTrain-rmse:0.42178\tValidation-rmse:0.423302\n",
            "[233]\tTrain-rmse:0.421693\tValidation-rmse:0.423233\n",
            "[234]\tTrain-rmse:0.421641\tValidation-rmse:0.423206\n",
            "[235]\tTrain-rmse:0.421626\tValidation-rmse:0.423185\n",
            "[236]\tTrain-rmse:0.421597\tValidation-rmse:0.423153\n",
            "[237]\tTrain-rmse:0.42152\tValidation-rmse:0.423129\n",
            "[238]\tTrain-rmse:0.421503\tValidation-rmse:0.423125\n",
            "[239]\tTrain-rmse:0.421483\tValidation-rmse:0.423107\n",
            "[240]\tTrain-rmse:0.421465\tValidation-rmse:0.423088\n",
            "[241]\tTrain-rmse:0.421435\tValidation-rmse:0.423079\n",
            "[242]\tTrain-rmse:0.42142\tValidation-rmse:0.42306\n",
            "[243]\tTrain-rmse:0.421401\tValidation-rmse:0.423043\n",
            "[244]\tTrain-rmse:0.421382\tValidation-rmse:0.423023\n",
            "[245]\tTrain-rmse:0.421355\tValidation-rmse:0.422997\n",
            "[246]\tTrain-rmse:0.421323\tValidation-rmse:0.422978\n",
            "[247]\tTrain-rmse:0.421224\tValidation-rmse:0.422901\n",
            "[248]\tTrain-rmse:0.42121\tValidation-rmse:0.422888\n",
            "[249]\tTrain-rmse:0.421076\tValidation-rmse:0.422744\n",
            "[250]\tTrain-rmse:0.420937\tValidation-rmse:0.422646\n",
            "[251]\tTrain-rmse:0.420777\tValidation-rmse:0.422468\n",
            "[252]\tTrain-rmse:0.420674\tValidation-rmse:0.422362\n",
            "[253]\tTrain-rmse:0.420489\tValidation-rmse:0.42217\n",
            "[254]\tTrain-rmse:0.420354\tValidation-rmse:0.422048\n",
            "[255]\tTrain-rmse:0.420189\tValidation-rmse:0.421867\n",
            "[256]\tTrain-rmse:0.42009\tValidation-rmse:0.421762\n",
            "[257]\tTrain-rmse:0.420074\tValidation-rmse:0.421744\n",
            "[258]\tTrain-rmse:0.420014\tValidation-rmse:0.421711\n",
            "[259]\tTrain-rmse:0.420005\tValidation-rmse:0.421703\n",
            "[260]\tTrain-rmse:0.419995\tValidation-rmse:0.421695\n",
            "[261]\tTrain-rmse:0.419936\tValidation-rmse:0.421652\n",
            "[262]\tTrain-rmse:0.419907\tValidation-rmse:0.42164\n",
            "[263]\tTrain-rmse:0.419897\tValidation-rmse:0.421635\n",
            "[264]\tTrain-rmse:0.419876\tValidation-rmse:0.421614\n",
            "[265]\tTrain-rmse:0.41985\tValidation-rmse:0.42158\n",
            "[266]\tTrain-rmse:0.419793\tValidation-rmse:0.421525\n",
            "[267]\tTrain-rmse:0.419777\tValidation-rmse:0.421516\n",
            "[268]\tTrain-rmse:0.419755\tValidation-rmse:0.421495\n",
            "[269]\tTrain-rmse:0.419741\tValidation-rmse:0.421485\n",
            "[270]\tTrain-rmse:0.419616\tValidation-rmse:0.421388\n",
            "[271]\tTrain-rmse:0.419527\tValidation-rmse:0.421326\n",
            "[272]\tTrain-rmse:0.419427\tValidation-rmse:0.421264\n",
            "[273]\tTrain-rmse:0.41932\tValidation-rmse:0.421187\n",
            "[274]\tTrain-rmse:0.419162\tValidation-rmse:0.421024\n",
            "[275]\tTrain-rmse:0.419055\tValidation-rmse:0.420918\n",
            "[276]\tTrain-rmse:0.41896\tValidation-rmse:0.420839\n",
            "[277]\tTrain-rmse:0.418788\tValidation-rmse:0.420702\n",
            "[278]\tTrain-rmse:0.418722\tValidation-rmse:0.420655\n",
            "[279]\tTrain-rmse:0.418696\tValidation-rmse:0.42062\n",
            "[280]\tTrain-rmse:0.418682\tValidation-rmse:0.420612\n",
            "[281]\tTrain-rmse:0.418638\tValidation-rmse:0.420581\n",
            "[282]\tTrain-rmse:0.418518\tValidation-rmse:0.4205\n",
            "[283]\tTrain-rmse:0.418499\tValidation-rmse:0.420487\n",
            "[284]\tTrain-rmse:0.418487\tValidation-rmse:0.42049\n",
            "[285]\tTrain-rmse:0.418471\tValidation-rmse:0.420479\n",
            "[286]\tTrain-rmse:0.418453\tValidation-rmse:0.420466\n",
            "[287]\tTrain-rmse:0.418335\tValidation-rmse:0.420376\n",
            "[288]\tTrain-rmse:0.418236\tValidation-rmse:0.420316\n",
            "[289]\tTrain-rmse:0.418151\tValidation-rmse:0.420258\n",
            "[290]\tTrain-rmse:0.418069\tValidation-rmse:0.420187\n",
            "[291]\tTrain-rmse:0.418063\tValidation-rmse:0.420181\n",
            "[292]\tTrain-rmse:0.418056\tValidation-rmse:0.420173\n",
            "[293]\tTrain-rmse:0.418039\tValidation-rmse:0.420158\n",
            "[294]\tTrain-rmse:0.417889\tValidation-rmse:0.42003\n",
            "[295]\tTrain-rmse:0.417877\tValidation-rmse:0.420015\n",
            "[296]\tTrain-rmse:0.417789\tValidation-rmse:0.419958\n",
            "[297]\tTrain-rmse:0.417718\tValidation-rmse:0.419939\n",
            "[298]\tTrain-rmse:0.417621\tValidation-rmse:0.419867\n",
            "[299]\tTrain-rmse:0.417602\tValidation-rmse:0.419854\n",
            "[300]\tTrain-rmse:0.417584\tValidation-rmse:0.419842\n",
            "[301]\tTrain-rmse:0.417454\tValidation-rmse:0.419739\n",
            "[302]\tTrain-rmse:0.417442\tValidation-rmse:0.419732\n",
            "[303]\tTrain-rmse:0.417422\tValidation-rmse:0.419733\n",
            "[304]\tTrain-rmse:0.417406\tValidation-rmse:0.419718\n",
            "[305]\tTrain-rmse:0.417387\tValidation-rmse:0.419706\n",
            "[306]\tTrain-rmse:0.417335\tValidation-rmse:0.41966\n",
            "[307]\tTrain-rmse:0.417325\tValidation-rmse:0.419654\n",
            "[308]\tTrain-rmse:0.417304\tValidation-rmse:0.419631\n",
            "[309]\tTrain-rmse:0.417296\tValidation-rmse:0.419619\n",
            "[310]\tTrain-rmse:0.417253\tValidation-rmse:0.419582\n",
            "[311]\tTrain-rmse:0.41724\tValidation-rmse:0.419564\n",
            "[312]\tTrain-rmse:0.417229\tValidation-rmse:0.419548\n",
            "[313]\tTrain-rmse:0.417211\tValidation-rmse:0.419551\n",
            "[314]\tTrain-rmse:0.417078\tValidation-rmse:0.419448\n",
            "[315]\tTrain-rmse:0.416996\tValidation-rmse:0.419375\n",
            "[316]\tTrain-rmse:0.416906\tValidation-rmse:0.419336\n",
            "[317]\tTrain-rmse:0.416879\tValidation-rmse:0.419334\n",
            "[318]\tTrain-rmse:0.416667\tValidation-rmse:0.419135\n",
            "[319]\tTrain-rmse:0.416553\tValidation-rmse:0.419049\n",
            "[320]\tTrain-rmse:0.416452\tValidation-rmse:0.418988\n",
            "[321]\tTrain-rmse:0.416368\tValidation-rmse:0.418917\n",
            "[322]\tTrain-rmse:0.416266\tValidation-rmse:0.418867\n",
            "[323]\tTrain-rmse:0.416175\tValidation-rmse:0.418815\n",
            "[324]\tTrain-rmse:0.416094\tValidation-rmse:0.418786\n",
            "[325]\tTrain-rmse:0.415989\tValidation-rmse:0.418691\n",
            "[326]\tTrain-rmse:0.415894\tValidation-rmse:0.418589\n",
            "[327]\tTrain-rmse:0.415814\tValidation-rmse:0.418544\n",
            "[328]\tTrain-rmse:0.415753\tValidation-rmse:0.418527\n",
            "[329]\tTrain-rmse:0.415743\tValidation-rmse:0.418519\n",
            "[330]\tTrain-rmse:0.415715\tValidation-rmse:0.418496\n",
            "[331]\tTrain-rmse:0.415706\tValidation-rmse:0.41849\n",
            "[332]\tTrain-rmse:0.415696\tValidation-rmse:0.418474\n",
            "[333]\tTrain-rmse:0.415687\tValidation-rmse:0.418464\n",
            "[334]\tTrain-rmse:0.415677\tValidation-rmse:0.418452\n",
            "[335]\tTrain-rmse:0.415667\tValidation-rmse:0.418447\n",
            "[336]\tTrain-rmse:0.415638\tValidation-rmse:0.418422\n",
            "[337]\tTrain-rmse:0.415625\tValidation-rmse:0.418412\n",
            "[338]\tTrain-rmse:0.415605\tValidation-rmse:0.418398\n",
            "[339]\tTrain-rmse:0.415588\tValidation-rmse:0.418401\n",
            "[340]\tTrain-rmse:0.415578\tValidation-rmse:0.418393\n",
            "[341]\tTrain-rmse:0.415567\tValidation-rmse:0.418385\n",
            "[342]\tTrain-rmse:0.415532\tValidation-rmse:0.418366\n",
            "[343]\tTrain-rmse:0.415469\tValidation-rmse:0.41835\n",
            "[344]\tTrain-rmse:0.415278\tValidation-rmse:0.418144\n",
            "[345]\tTrain-rmse:0.415198\tValidation-rmse:0.418083\n",
            "[346]\tTrain-rmse:0.415112\tValidation-rmse:0.418045\n",
            "[347]\tTrain-rmse:0.415018\tValidation-rmse:0.417963\n",
            "[348]\tTrain-rmse:0.414949\tValidation-rmse:0.417914\n",
            "[349]\tTrain-rmse:0.414935\tValidation-rmse:0.417899\n",
            "[350]\tTrain-rmse:0.414925\tValidation-rmse:0.417892\n",
            "[351]\tTrain-rmse:0.414908\tValidation-rmse:0.417878\n",
            "[352]\tTrain-rmse:0.414886\tValidation-rmse:0.417854\n",
            "[353]\tTrain-rmse:0.414873\tValidation-rmse:0.41784\n",
            "[354]\tTrain-rmse:0.414866\tValidation-rmse:0.417835\n",
            "[355]\tTrain-rmse:0.414821\tValidation-rmse:0.417803\n",
            "[356]\tTrain-rmse:0.414805\tValidation-rmse:0.417772\n",
            "[357]\tTrain-rmse:0.414799\tValidation-rmse:0.41777\n",
            "[358]\tTrain-rmse:0.414793\tValidation-rmse:0.417763\n",
            "[359]\tTrain-rmse:0.414784\tValidation-rmse:0.417756\n",
            "[360]\tTrain-rmse:0.414761\tValidation-rmse:0.417737\n",
            "[361]\tTrain-rmse:0.414743\tValidation-rmse:0.417725\n",
            "[362]\tTrain-rmse:0.414711\tValidation-rmse:0.417718\n",
            "[363]\tTrain-rmse:0.414706\tValidation-rmse:0.417714\n",
            "[364]\tTrain-rmse:0.414641\tValidation-rmse:0.417672\n",
            "[365]\tTrain-rmse:0.414542\tValidation-rmse:0.417581\n",
            "[366]\tTrain-rmse:0.414457\tValidation-rmse:0.417538\n",
            "[367]\tTrain-rmse:0.41431\tValidation-rmse:0.417395\n",
            "[368]\tTrain-rmse:0.41423\tValidation-rmse:0.417319\n",
            "[369]\tTrain-rmse:0.414115\tValidation-rmse:0.417194\n",
            "[370]\tTrain-rmse:0.414\tValidation-rmse:0.417115\n",
            "[371]\tTrain-rmse:0.413927\tValidation-rmse:0.417081\n",
            "[372]\tTrain-rmse:0.413878\tValidation-rmse:0.417069\n",
            "[373]\tTrain-rmse:0.413759\tValidation-rmse:0.416964\n",
            "[374]\tTrain-rmse:0.413714\tValidation-rmse:0.416928\n",
            "[375]\tTrain-rmse:0.413705\tValidation-rmse:0.416924\n",
            "[376]\tTrain-rmse:0.413667\tValidation-rmse:0.416892\n",
            "[377]\tTrain-rmse:0.413604\tValidation-rmse:0.416867\n",
            "[378]\tTrain-rmse:0.413592\tValidation-rmse:0.416859\n",
            "[379]\tTrain-rmse:0.413504\tValidation-rmse:0.416788\n",
            "[380]\tTrain-rmse:0.413444\tValidation-rmse:0.416731\n",
            "[381]\tTrain-rmse:0.41338\tValidation-rmse:0.41669\n",
            "[382]\tTrain-rmse:0.413327\tValidation-rmse:0.416663\n",
            "[383]\tTrain-rmse:0.413313\tValidation-rmse:0.416651\n",
            "[384]\tTrain-rmse:0.413304\tValidation-rmse:0.416639\n",
            "[385]\tTrain-rmse:0.413295\tValidation-rmse:0.416629\n",
            "[386]\tTrain-rmse:0.41327\tValidation-rmse:0.416599\n",
            "[387]\tTrain-rmse:0.413249\tValidation-rmse:0.416577\n",
            "[388]\tTrain-rmse:0.413182\tValidation-rmse:0.416554\n",
            "[389]\tTrain-rmse:0.413177\tValidation-rmse:0.416549\n",
            "[390]\tTrain-rmse:0.413155\tValidation-rmse:0.416528\n",
            "[391]\tTrain-rmse:0.41315\tValidation-rmse:0.416526\n",
            "[392]\tTrain-rmse:0.413138\tValidation-rmse:0.416513\n",
            "[393]\tTrain-rmse:0.413131\tValidation-rmse:0.416504\n",
            "[394]\tTrain-rmse:0.413087\tValidation-rmse:0.416452\n",
            "[395]\tTrain-rmse:0.413028\tValidation-rmse:0.416393\n",
            "[396]\tTrain-rmse:0.412957\tValidation-rmse:0.416373\n",
            "[397]\tTrain-rmse:0.412881\tValidation-rmse:0.41633\n",
            "[398]\tTrain-rmse:0.412788\tValidation-rmse:0.416238\n",
            "[399]\tTrain-rmse:0.412736\tValidation-rmse:0.416213\n",
            "[400]\tTrain-rmse:0.412673\tValidation-rmse:0.416192\n",
            "[401]\tTrain-rmse:0.412616\tValidation-rmse:0.416135\n",
            "[402]\tTrain-rmse:0.412536\tValidation-rmse:0.416069\n",
            "[403]\tTrain-rmse:0.412426\tValidation-rmse:0.415957\n",
            "[404]\tTrain-rmse:0.412295\tValidation-rmse:0.415814\n",
            "[405]\tTrain-rmse:0.41218\tValidation-rmse:0.415711\n",
            "[406]\tTrain-rmse:0.412172\tValidation-rmse:0.415705\n",
            "[407]\tTrain-rmse:0.412166\tValidation-rmse:0.415703\n",
            "[408]\tTrain-rmse:0.41216\tValidation-rmse:0.415702\n",
            "[409]\tTrain-rmse:0.412153\tValidation-rmse:0.415694\n",
            "[410]\tTrain-rmse:0.41215\tValidation-rmse:0.415691\n",
            "[411]\tTrain-rmse:0.412116\tValidation-rmse:0.415667\n",
            "[412]\tTrain-rmse:0.412105\tValidation-rmse:0.415664\n",
            "[413]\tTrain-rmse:0.412066\tValidation-rmse:0.415654\n",
            "[414]\tTrain-rmse:0.411961\tValidation-rmse:0.415588\n",
            "[415]\tTrain-rmse:0.411879\tValidation-rmse:0.41554\n",
            "[416]\tTrain-rmse:0.411851\tValidation-rmse:0.415525\n",
            "[417]\tTrain-rmse:0.41184\tValidation-rmse:0.41552\n",
            "[418]\tTrain-rmse:0.411794\tValidation-rmse:0.415497\n",
            "[419]\tTrain-rmse:0.411774\tValidation-rmse:0.415487\n",
            "[420]\tTrain-rmse:0.411767\tValidation-rmse:0.415485\n",
            "[421]\tTrain-rmse:0.411689\tValidation-rmse:0.415423\n",
            "[422]\tTrain-rmse:0.411642\tValidation-rmse:0.415391\n",
            "[423]\tTrain-rmse:0.411553\tValidation-rmse:0.415293\n",
            "[424]\tTrain-rmse:0.411487\tValidation-rmse:0.415253\n",
            "[425]\tTrain-rmse:0.411424\tValidation-rmse:0.415226\n",
            "[426]\tTrain-rmse:0.411345\tValidation-rmse:0.415137\n",
            "[427]\tTrain-rmse:0.411278\tValidation-rmse:0.415102\n",
            "[428]\tTrain-rmse:0.41126\tValidation-rmse:0.415094\n",
            "[429]\tTrain-rmse:0.411256\tValidation-rmse:0.415091\n",
            "[430]\tTrain-rmse:0.411234\tValidation-rmse:0.415071\n",
            "[431]\tTrain-rmse:0.411208\tValidation-rmse:0.415059\n",
            "[432]\tTrain-rmse:0.411203\tValidation-rmse:0.415054\n",
            "[433]\tTrain-rmse:0.411189\tValidation-rmse:0.415044\n",
            "[434]\tTrain-rmse:0.411185\tValidation-rmse:0.415042\n",
            "[435]\tTrain-rmse:0.411178\tValidation-rmse:0.415043\n",
            "[436]\tTrain-rmse:0.411166\tValidation-rmse:0.415031\n",
            "[437]\tTrain-rmse:0.411158\tValidation-rmse:0.415021\n",
            "[438]\tTrain-rmse:0.411146\tValidation-rmse:0.415004\n",
            "[439]\tTrain-rmse:0.411125\tValidation-rmse:0.415003\n",
            "[440]\tTrain-rmse:0.411119\tValidation-rmse:0.414995\n",
            "[441]\tTrain-rmse:0.41111\tValidation-rmse:0.414987\n",
            "[442]\tTrain-rmse:0.411051\tValidation-rmse:0.414934\n",
            "[443]\tTrain-rmse:0.411032\tValidation-rmse:0.414922\n",
            "[444]\tTrain-rmse:0.410948\tValidation-rmse:0.414864\n",
            "[445]\tTrain-rmse:0.410875\tValidation-rmse:0.414783\n",
            "[446]\tTrain-rmse:0.410806\tValidation-rmse:0.414723\n",
            "[447]\tTrain-rmse:0.410741\tValidation-rmse:0.414682\n",
            "[448]\tTrain-rmse:0.410691\tValidation-rmse:0.414634\n",
            "[449]\tTrain-rmse:0.410688\tValidation-rmse:0.414629\n",
            "[450]\tTrain-rmse:0.410676\tValidation-rmse:0.414614\n",
            "[451]\tTrain-rmse:0.410667\tValidation-rmse:0.414607\n",
            "[452]\tTrain-rmse:0.410591\tValidation-rmse:0.414587\n",
            "[453]\tTrain-rmse:0.410539\tValidation-rmse:0.414542\n",
            "[454]\tTrain-rmse:0.410449\tValidation-rmse:0.414445\n",
            "[455]\tTrain-rmse:0.410445\tValidation-rmse:0.414441\n",
            "[456]\tTrain-rmse:0.410435\tValidation-rmse:0.414429\n",
            "[457]\tTrain-rmse:0.41042\tValidation-rmse:0.414422\n",
            "[458]\tTrain-rmse:0.410389\tValidation-rmse:0.414414\n",
            "[459]\tTrain-rmse:0.41038\tValidation-rmse:0.414407\n",
            "[460]\tTrain-rmse:0.410376\tValidation-rmse:0.414405\n",
            "[461]\tTrain-rmse:0.410368\tValidation-rmse:0.414397\n",
            "[462]\tTrain-rmse:0.410296\tValidation-rmse:0.414345\n",
            "[463]\tTrain-rmse:0.410288\tValidation-rmse:0.414327\n",
            "[464]\tTrain-rmse:0.410279\tValidation-rmse:0.414317\n",
            "[465]\tTrain-rmse:0.410272\tValidation-rmse:0.414321\n",
            "[466]\tTrain-rmse:0.41024\tValidation-rmse:0.414316\n",
            "[467]\tTrain-rmse:0.410206\tValidation-rmse:0.414296\n",
            "[468]\tTrain-rmse:0.410196\tValidation-rmse:0.414285\n",
            "[469]\tTrain-rmse:0.410177\tValidation-rmse:0.414271\n",
            "[470]\tTrain-rmse:0.410164\tValidation-rmse:0.414274\n",
            "[471]\tTrain-rmse:0.410155\tValidation-rmse:0.414264\n",
            "[472]\tTrain-rmse:0.410151\tValidation-rmse:0.414264\n",
            "[473]\tTrain-rmse:0.410146\tValidation-rmse:0.414261\n",
            "[474]\tTrain-rmse:0.410138\tValidation-rmse:0.414252\n",
            "[475]\tTrain-rmse:0.410117\tValidation-rmse:0.414232\n",
            "[476]\tTrain-rmse:0.410023\tValidation-rmse:0.414159\n",
            "[477]\tTrain-rmse:0.409981\tValidation-rmse:0.414141\n",
            "[478]\tTrain-rmse:0.409943\tValidation-rmse:0.414121\n",
            "[479]\tTrain-rmse:0.409939\tValidation-rmse:0.414119\n",
            "[480]\tTrain-rmse:0.409933\tValidation-rmse:0.414115\n",
            "[481]\tTrain-rmse:0.409921\tValidation-rmse:0.414106\n",
            "[482]\tTrain-rmse:0.409919\tValidation-rmse:0.414103\n",
            "[483]\tTrain-rmse:0.409883\tValidation-rmse:0.41407\n",
            "[484]\tTrain-rmse:0.409878\tValidation-rmse:0.41406\n",
            "[485]\tTrain-rmse:0.40986\tValidation-rmse:0.41406\n",
            "[486]\tTrain-rmse:0.409818\tValidation-rmse:0.414051\n",
            "[487]\tTrain-rmse:0.409775\tValidation-rmse:0.414027\n",
            "[488]\tTrain-rmse:0.40973\tValidation-rmse:0.414003\n",
            "[489]\tTrain-rmse:0.409724\tValidation-rmse:0.413997\n",
            "[490]\tTrain-rmse:0.409712\tValidation-rmse:0.413995\n",
            "[491]\tTrain-rmse:0.409692\tValidation-rmse:0.41398\n",
            "[492]\tTrain-rmse:0.409639\tValidation-rmse:0.413944\n",
            "[493]\tTrain-rmse:0.409558\tValidation-rmse:0.413914\n",
            "[494]\tTrain-rmse:0.409488\tValidation-rmse:0.413849\n",
            "[495]\tTrain-rmse:0.409379\tValidation-rmse:0.413758\n",
            "[496]\tTrain-rmse:0.40929\tValidation-rmse:0.41372\n",
            "[497]\tTrain-rmse:0.409209\tValidation-rmse:0.413658\n",
            "[498]\tTrain-rmse:0.409169\tValidation-rmse:0.413643\n",
            "[499]\tTrain-rmse:0.409102\tValidation-rmse:0.41358\n",
            "[500]\tTrain-rmse:0.409042\tValidation-rmse:0.413561\n",
            "[501]\tTrain-rmse:0.408967\tValidation-rmse:0.413489\n",
            "[502]\tTrain-rmse:0.408915\tValidation-rmse:0.413453\n",
            "[503]\tTrain-rmse:0.408858\tValidation-rmse:0.413397\n",
            "[504]\tTrain-rmse:0.408772\tValidation-rmse:0.413309\n",
            "[505]\tTrain-rmse:0.408694\tValidation-rmse:0.413262\n",
            "[506]\tTrain-rmse:0.408647\tValidation-rmse:0.413248\n",
            "[507]\tTrain-rmse:0.408643\tValidation-rmse:0.413246\n",
            "[508]\tTrain-rmse:0.408633\tValidation-rmse:0.413231\n",
            "[509]\tTrain-rmse:0.408619\tValidation-rmse:0.41323\n",
            "[510]\tTrain-rmse:0.408568\tValidation-rmse:0.413219\n",
            "[511]\tTrain-rmse:0.408566\tValidation-rmse:0.413217\n",
            "[512]\tTrain-rmse:0.408541\tValidation-rmse:0.413217\n",
            "[513]\tTrain-rmse:0.408537\tValidation-rmse:0.413212\n",
            "[514]\tTrain-rmse:0.408476\tValidation-rmse:0.41315\n",
            "[515]\tTrain-rmse:0.408456\tValidation-rmse:0.413143\n",
            "[516]\tTrain-rmse:0.408451\tValidation-rmse:0.413139\n",
            "[517]\tTrain-rmse:0.408445\tValidation-rmse:0.41314\n",
            "[518]\tTrain-rmse:0.408364\tValidation-rmse:0.413039\n",
            "[519]\tTrain-rmse:0.408263\tValidation-rmse:0.41299\n",
            "[520]\tTrain-rmse:0.408184\tValidation-rmse:0.412916\n",
            "[521]\tTrain-rmse:0.408126\tValidation-rmse:0.412897\n",
            "[522]\tTrain-rmse:0.40811\tValidation-rmse:0.41289\n",
            "[523]\tTrain-rmse:0.408075\tValidation-rmse:0.412893\n",
            "[524]\tTrain-rmse:0.408069\tValidation-rmse:0.41289\n",
            "[525]\tTrain-rmse:0.408047\tValidation-rmse:0.41288\n",
            "[526]\tTrain-rmse:0.408021\tValidation-rmse:0.412864\n",
            "[527]\tTrain-rmse:0.408018\tValidation-rmse:0.412862\n",
            "[528]\tTrain-rmse:0.408006\tValidation-rmse:0.412849\n",
            "[529]\tTrain-rmse:0.407989\tValidation-rmse:0.412848\n",
            "[530]\tTrain-rmse:0.407982\tValidation-rmse:0.412841\n",
            "[531]\tTrain-rmse:0.407932\tValidation-rmse:0.412826\n",
            "[532]\tTrain-rmse:0.407849\tValidation-rmse:0.412728\n",
            "[533]\tTrain-rmse:0.407802\tValidation-rmse:0.412666\n",
            "[534]\tTrain-rmse:0.4078\tValidation-rmse:0.412665\n",
            "[535]\tTrain-rmse:0.407784\tValidation-rmse:0.41266\n",
            "[536]\tTrain-rmse:0.407776\tValidation-rmse:0.412649\n",
            "[537]\tTrain-rmse:0.407772\tValidation-rmse:0.41264\n",
            "[538]\tTrain-rmse:0.407766\tValidation-rmse:0.412636\n",
            "[539]\tTrain-rmse:0.407762\tValidation-rmse:0.412631\n",
            "[540]\tTrain-rmse:0.407755\tValidation-rmse:0.412633\n",
            "[541]\tTrain-rmse:0.407752\tValidation-rmse:0.41263\n",
            "[542]\tTrain-rmse:0.407747\tValidation-rmse:0.412625\n",
            "[543]\tTrain-rmse:0.407714\tValidation-rmse:0.41259\n",
            "[544]\tTrain-rmse:0.407662\tValidation-rmse:0.412559\n",
            "[545]\tTrain-rmse:0.407659\tValidation-rmse:0.412558\n",
            "[546]\tTrain-rmse:0.407588\tValidation-rmse:0.412487\n",
            "[547]\tTrain-rmse:0.407522\tValidation-rmse:0.412445\n",
            "[548]\tTrain-rmse:0.407466\tValidation-rmse:0.412398\n",
            "[549]\tTrain-rmse:0.407384\tValidation-rmse:0.412334\n",
            "[550]\tTrain-rmse:0.407336\tValidation-rmse:0.412303\n",
            "[551]\tTrain-rmse:0.407272\tValidation-rmse:0.412277\n",
            "[552]\tTrain-rmse:0.407204\tValidation-rmse:0.412214\n",
            "[553]\tTrain-rmse:0.407131\tValidation-rmse:0.412159\n",
            "[554]\tTrain-rmse:0.407059\tValidation-rmse:0.412101\n",
            "[555]\tTrain-rmse:0.406994\tValidation-rmse:0.412035\n",
            "[556]\tTrain-rmse:0.406931\tValidation-rmse:0.411988\n",
            "[557]\tTrain-rmse:0.40683\tValidation-rmse:0.41189\n",
            "[558]\tTrain-rmse:0.406762\tValidation-rmse:0.411869\n",
            "[559]\tTrain-rmse:0.406708\tValidation-rmse:0.411846\n",
            "[560]\tTrain-rmse:0.406657\tValidation-rmse:0.411826\n",
            "[561]\tTrain-rmse:0.406595\tValidation-rmse:0.411789\n",
            "[562]\tTrain-rmse:0.40655\tValidation-rmse:0.411765\n",
            "[563]\tTrain-rmse:0.406541\tValidation-rmse:0.411766\n",
            "[564]\tTrain-rmse:0.406534\tValidation-rmse:0.411764\n",
            "[565]\tTrain-rmse:0.406487\tValidation-rmse:0.411729\n",
            "[566]\tTrain-rmse:0.406458\tValidation-rmse:0.411724\n",
            "[567]\tTrain-rmse:0.406418\tValidation-rmse:0.411705\n",
            "[568]\tTrain-rmse:0.406384\tValidation-rmse:0.411675\n",
            "[569]\tTrain-rmse:0.40638\tValidation-rmse:0.411671\n",
            "[570]\tTrain-rmse:0.406379\tValidation-rmse:0.411669\n",
            "[571]\tTrain-rmse:0.406367\tValidation-rmse:0.411653\n",
            "[572]\tTrain-rmse:0.406333\tValidation-rmse:0.411631\n",
            "[573]\tTrain-rmse:0.406303\tValidation-rmse:0.411631\n",
            "[574]\tTrain-rmse:0.406299\tValidation-rmse:0.411628\n",
            "[575]\tTrain-rmse:0.406288\tValidation-rmse:0.411627\n",
            "[576]\tTrain-rmse:0.40624\tValidation-rmse:0.41157\n",
            "[577]\tTrain-rmse:0.406167\tValidation-rmse:0.41151\n",
            "[578]\tTrain-rmse:0.406129\tValidation-rmse:0.411511\n",
            "[579]\tTrain-rmse:0.406091\tValidation-rmse:0.411493\n",
            "[580]\tTrain-rmse:0.406085\tValidation-rmse:0.411485\n",
            "[581]\tTrain-rmse:0.406059\tValidation-rmse:0.411488\n",
            "[582]\tTrain-rmse:0.406044\tValidation-rmse:0.411481\n",
            "[583]\tTrain-rmse:0.406041\tValidation-rmse:0.411478\n",
            "[584]\tTrain-rmse:0.406037\tValidation-rmse:0.411476\n",
            "[585]\tTrain-rmse:0.406019\tValidation-rmse:0.411483\n",
            "[586]\tTrain-rmse:0.405947\tValidation-rmse:0.411425\n",
            "[587]\tTrain-rmse:0.405876\tValidation-rmse:0.411364\n",
            "[588]\tTrain-rmse:0.405794\tValidation-rmse:0.411296\n",
            "[589]\tTrain-rmse:0.405727\tValidation-rmse:0.411252\n",
            "[590]\tTrain-rmse:0.40567\tValidation-rmse:0.41122\n",
            "[591]\tTrain-rmse:0.40559\tValidation-rmse:0.411111\n",
            "[592]\tTrain-rmse:0.405523\tValidation-rmse:0.411043\n",
            "[593]\tTrain-rmse:0.405462\tValidation-rmse:0.411007\n",
            "[594]\tTrain-rmse:0.405431\tValidation-rmse:0.410977\n",
            "[595]\tTrain-rmse:0.405356\tValidation-rmse:0.4109\n",
            "[596]\tTrain-rmse:0.405318\tValidation-rmse:0.410893\n",
            "[597]\tTrain-rmse:0.405312\tValidation-rmse:0.41089\n",
            "[598]\tTrain-rmse:0.405289\tValidation-rmse:0.410895\n",
            "[599]\tTrain-rmse:0.405268\tValidation-rmse:0.410877\n",
            "[600]\tTrain-rmse:0.405266\tValidation-rmse:0.410875\n",
            "[601]\tTrain-rmse:0.405261\tValidation-rmse:0.410869\n",
            "[602]\tTrain-rmse:0.405217\tValidation-rmse:0.41083\n",
            "[603]\tTrain-rmse:0.405215\tValidation-rmse:0.410828\n",
            "[604]\tTrain-rmse:0.40521\tValidation-rmse:0.410822\n",
            "[605]\tTrain-rmse:0.405179\tValidation-rmse:0.410818\n",
            "[606]\tTrain-rmse:0.405168\tValidation-rmse:0.410824\n",
            "[607]\tTrain-rmse:0.405156\tValidation-rmse:0.410816\n",
            "[608]\tTrain-rmse:0.405154\tValidation-rmse:0.410815\n",
            "[609]\tTrain-rmse:0.405146\tValidation-rmse:0.410804\n",
            "[610]\tTrain-rmse:0.405137\tValidation-rmse:0.410794\n",
            "[611]\tTrain-rmse:0.405118\tValidation-rmse:0.410778\n",
            "[612]\tTrain-rmse:0.405102\tValidation-rmse:0.410779\n",
            "[613]\tTrain-rmse:0.405073\tValidation-rmse:0.410768\n",
            "[614]\tTrain-rmse:0.405064\tValidation-rmse:0.410771\n",
            "[615]\tTrain-rmse:0.40506\tValidation-rmse:0.410774\n",
            "[616]\tTrain-rmse:0.405039\tValidation-rmse:0.410762\n",
            "[617]\tTrain-rmse:0.405038\tValidation-rmse:0.410761\n",
            "[618]\tTrain-rmse:0.404982\tValidation-rmse:0.410712\n",
            "[619]\tTrain-rmse:0.404917\tValidation-rmse:0.410659\n",
            "[620]\tTrain-rmse:0.404863\tValidation-rmse:0.410593\n",
            "[621]\tTrain-rmse:0.404802\tValidation-rmse:0.410578\n",
            "[622]\tTrain-rmse:0.404761\tValidation-rmse:0.41055\n",
            "[623]\tTrain-rmse:0.404718\tValidation-rmse:0.410515\n",
            "[624]\tTrain-rmse:0.404713\tValidation-rmse:0.410513\n",
            "[625]\tTrain-rmse:0.404707\tValidation-rmse:0.410505\n",
            "[626]\tTrain-rmse:0.404653\tValidation-rmse:0.410484\n",
            "[627]\tTrain-rmse:0.40457\tValidation-rmse:0.410392\n",
            "[628]\tTrain-rmse:0.404525\tValidation-rmse:0.410371\n",
            "[629]\tTrain-rmse:0.404467\tValidation-rmse:0.410323\n",
            "[630]\tTrain-rmse:0.404408\tValidation-rmse:0.410286\n",
            "[631]\tTrain-rmse:0.404357\tValidation-rmse:0.410258\n",
            "[632]\tTrain-rmse:0.404343\tValidation-rmse:0.410262\n",
            "[633]\tTrain-rmse:0.404342\tValidation-rmse:0.41026\n",
            "[634]\tTrain-rmse:0.40434\tValidation-rmse:0.410259\n",
            "[635]\tTrain-rmse:0.404337\tValidation-rmse:0.410252\n",
            "[636]\tTrain-rmse:0.404303\tValidation-rmse:0.410249\n",
            "[637]\tTrain-rmse:0.404281\tValidation-rmse:0.410231\n",
            "[638]\tTrain-rmse:0.404234\tValidation-rmse:0.410209\n",
            "[639]\tTrain-rmse:0.40423\tValidation-rmse:0.410206\n",
            "[640]\tTrain-rmse:0.404226\tValidation-rmse:0.410203\n",
            "[641]\tTrain-rmse:0.404216\tValidation-rmse:0.410203\n",
            "[642]\tTrain-rmse:0.404214\tValidation-rmse:0.410201\n",
            "[643]\tTrain-rmse:0.404207\tValidation-rmse:0.410196\n",
            "[644]\tTrain-rmse:0.404156\tValidation-rmse:0.410136\n",
            "[645]\tTrain-rmse:0.404127\tValidation-rmse:0.410091\n",
            "[646]\tTrain-rmse:0.40407\tValidation-rmse:0.41006\n",
            "[647]\tTrain-rmse:0.404013\tValidation-rmse:0.41001\n",
            "[648]\tTrain-rmse:0.403946\tValidation-rmse:0.409976\n",
            "[649]\tTrain-rmse:0.40387\tValidation-rmse:0.409928\n",
            "[650]\tTrain-rmse:0.403769\tValidation-rmse:0.409812\n",
            "[651]\tTrain-rmse:0.403707\tValidation-rmse:0.409782\n",
            "[652]\tTrain-rmse:0.403685\tValidation-rmse:0.409766\n",
            "[653]\tTrain-rmse:0.403642\tValidation-rmse:0.409734\n",
            "[654]\tTrain-rmse:0.403601\tValidation-rmse:0.409737\n",
            "[655]\tTrain-rmse:0.40353\tValidation-rmse:0.409678\n",
            "[656]\tTrain-rmse:0.403476\tValidation-rmse:0.409651\n",
            "[657]\tTrain-rmse:0.403471\tValidation-rmse:0.409641\n",
            "[658]\tTrain-rmse:0.403465\tValidation-rmse:0.409635\n",
            "[659]\tTrain-rmse:0.403432\tValidation-rmse:0.409612\n",
            "[660]\tTrain-rmse:0.403427\tValidation-rmse:0.409602\n",
            "[661]\tTrain-rmse:0.403413\tValidation-rmse:0.409594\n",
            "[662]\tTrain-rmse:0.403361\tValidation-rmse:0.40955\n",
            "[663]\tTrain-rmse:0.403356\tValidation-rmse:0.409552\n",
            "[664]\tTrain-rmse:0.403301\tValidation-rmse:0.409508\n",
            "[665]\tTrain-rmse:0.403272\tValidation-rmse:0.409503\n",
            "[666]\tTrain-rmse:0.40325\tValidation-rmse:0.409501\n",
            "[667]\tTrain-rmse:0.403181\tValidation-rmse:0.409455\n",
            "[668]\tTrain-rmse:0.403137\tValidation-rmse:0.40944\n",
            "[669]\tTrain-rmse:0.403111\tValidation-rmse:0.409429\n",
            "[670]\tTrain-rmse:0.403068\tValidation-rmse:0.409406\n",
            "[671]\tTrain-rmse:0.402937\tValidation-rmse:0.409285\n",
            "[672]\tTrain-rmse:0.402934\tValidation-rmse:0.409282\n",
            "[673]\tTrain-rmse:0.402929\tValidation-rmse:0.409278\n",
            "[674]\tTrain-rmse:0.402925\tValidation-rmse:0.409277\n",
            "[675]\tTrain-rmse:0.402913\tValidation-rmse:0.409278\n",
            "[676]\tTrain-rmse:0.402898\tValidation-rmse:0.409278\n",
            "[677]\tTrain-rmse:0.40286\tValidation-rmse:0.409272\n",
            "[678]\tTrain-rmse:0.402845\tValidation-rmse:0.409273\n",
            "[679]\tTrain-rmse:0.402843\tValidation-rmse:0.409273\n",
            "[680]\tTrain-rmse:0.402838\tValidation-rmse:0.409269\n",
            "[681]\tTrain-rmse:0.402836\tValidation-rmse:0.409267\n",
            "[682]\tTrain-rmse:0.402832\tValidation-rmse:0.40926\n",
            "[683]\tTrain-rmse:0.40283\tValidation-rmse:0.409258\n",
            "[684]\tTrain-rmse:0.402825\tValidation-rmse:0.409256\n",
            "[685]\tTrain-rmse:0.402807\tValidation-rmse:0.409246\n",
            "[686]\tTrain-rmse:0.402776\tValidation-rmse:0.409234\n",
            "[687]\tTrain-rmse:0.402763\tValidation-rmse:0.409237\n",
            "[688]\tTrain-rmse:0.402756\tValidation-rmse:0.40924\n",
            "[689]\tTrain-rmse:0.402741\tValidation-rmse:0.409236\n",
            "[690]\tTrain-rmse:0.402739\tValidation-rmse:0.409235\n",
            "[691]\tTrain-rmse:0.402735\tValidation-rmse:0.409231\n",
            "[692]\tTrain-rmse:0.402681\tValidation-rmse:0.409219\n",
            "[693]\tTrain-rmse:0.402619\tValidation-rmse:0.409182\n",
            "[694]\tTrain-rmse:0.402572\tValidation-rmse:0.409147\n",
            "[695]\tTrain-rmse:0.402544\tValidation-rmse:0.409147\n",
            "[696]\tTrain-rmse:0.402506\tValidation-rmse:0.409141\n",
            "[697]\tTrain-rmse:0.402458\tValidation-rmse:0.409092\n",
            "[698]\tTrain-rmse:0.402437\tValidation-rmse:0.40909\n",
            "[699]\tTrain-rmse:0.402381\tValidation-rmse:0.409039\n",
            "[700]\tTrain-rmse:0.402339\tValidation-rmse:0.409001\n",
            "[701]\tTrain-rmse:0.402306\tValidation-rmse:0.408999\n",
            "[702]\tTrain-rmse:0.402279\tValidation-rmse:0.409007\n",
            "[703]\tTrain-rmse:0.402253\tValidation-rmse:0.409009\n",
            "[704]\tTrain-rmse:0.402241\tValidation-rmse:0.409006\n",
            "[705]\tTrain-rmse:0.402188\tValidation-rmse:0.408982\n",
            "[706]\tTrain-rmse:0.40214\tValidation-rmse:0.408967\n",
            "[707]\tTrain-rmse:0.402077\tValidation-rmse:0.408974\n",
            "[708]\tTrain-rmse:0.402019\tValidation-rmse:0.408947\n",
            "[709]\tTrain-rmse:0.401967\tValidation-rmse:0.408917\n",
            "[710]\tTrain-rmse:0.401914\tValidation-rmse:0.408887\n",
            "[711]\tTrain-rmse:0.401845\tValidation-rmse:0.408846\n",
            "[712]\tTrain-rmse:0.401797\tValidation-rmse:0.408829\n",
            "[713]\tTrain-rmse:0.401794\tValidation-rmse:0.408826\n",
            "[714]\tTrain-rmse:0.401781\tValidation-rmse:0.408829\n",
            "[715]\tTrain-rmse:0.401781\tValidation-rmse:0.408827\n",
            "[716]\tTrain-rmse:0.401766\tValidation-rmse:0.408822\n",
            "[717]\tTrain-rmse:0.401759\tValidation-rmse:0.408815\n",
            "[718]\tTrain-rmse:0.401728\tValidation-rmse:0.408802\n",
            "[719]\tTrain-rmse:0.401673\tValidation-rmse:0.408741\n",
            "[720]\tTrain-rmse:0.401658\tValidation-rmse:0.40873\n",
            "[721]\tTrain-rmse:0.401617\tValidation-rmse:0.40872\n",
            "[722]\tTrain-rmse:0.401614\tValidation-rmse:0.408714\n",
            "[723]\tTrain-rmse:0.401613\tValidation-rmse:0.408713\n",
            "[724]\tTrain-rmse:0.401611\tValidation-rmse:0.408708\n",
            "[725]\tTrain-rmse:0.401608\tValidation-rmse:0.408708\n",
            "[726]\tTrain-rmse:0.401606\tValidation-rmse:0.408704\n",
            "[727]\tTrain-rmse:0.401597\tValidation-rmse:0.408711\n",
            "[728]\tTrain-rmse:0.401595\tValidation-rmse:0.408709\n",
            "[729]\tTrain-rmse:0.401577\tValidation-rmse:0.4087\n",
            "[730]\tTrain-rmse:0.401561\tValidation-rmse:0.408696\n",
            "[731]\tTrain-rmse:0.401556\tValidation-rmse:0.408687\n",
            "[732]\tTrain-rmse:0.401553\tValidation-rmse:0.408689\n",
            "[733]\tTrain-rmse:0.401535\tValidation-rmse:0.408689\n",
            "[734]\tTrain-rmse:0.401464\tValidation-rmse:0.408647\n",
            "[735]\tTrain-rmse:0.401449\tValidation-rmse:0.408638\n",
            "[736]\tTrain-rmse:0.4014\tValidation-rmse:0.408626\n",
            "[737]\tTrain-rmse:0.401398\tValidation-rmse:0.408624\n",
            "[738]\tTrain-rmse:0.401396\tValidation-rmse:0.40862\n",
            "[739]\tTrain-rmse:0.401338\tValidation-rmse:0.408587\n",
            "[740]\tTrain-rmse:0.401308\tValidation-rmse:0.408565\n",
            "[741]\tTrain-rmse:0.401253\tValidation-rmse:0.408558\n",
            "[742]\tTrain-rmse:0.401192\tValidation-rmse:0.408504\n",
            "[743]\tTrain-rmse:0.40117\tValidation-rmse:0.408488\n",
            "[744]\tTrain-rmse:0.401162\tValidation-rmse:0.408479\n",
            "[745]\tTrain-rmse:0.401155\tValidation-rmse:0.408482\n",
            "[746]\tTrain-rmse:0.401152\tValidation-rmse:0.408478\n",
            "[747]\tTrain-rmse:0.401149\tValidation-rmse:0.408477\n",
            "[748]\tTrain-rmse:0.401113\tValidation-rmse:0.408482\n",
            "[749]\tTrain-rmse:0.401066\tValidation-rmse:0.408473\n",
            "[750]\tTrain-rmse:0.401019\tValidation-rmse:0.408455\n",
            "[751]\tTrain-rmse:0.400976\tValidation-rmse:0.408424\n",
            "[752]\tTrain-rmse:0.400907\tValidation-rmse:0.408403\n",
            "[753]\tTrain-rmse:0.400856\tValidation-rmse:0.40838\n",
            "[754]\tTrain-rmse:0.400812\tValidation-rmse:0.408372\n",
            "[755]\tTrain-rmse:0.400775\tValidation-rmse:0.408346\n",
            "[756]\tTrain-rmse:0.400726\tValidation-rmse:0.408289\n",
            "[757]\tTrain-rmse:0.400678\tValidation-rmse:0.408249\n",
            "[758]\tTrain-rmse:0.400642\tValidation-rmse:0.408238\n",
            "[759]\tTrain-rmse:0.400624\tValidation-rmse:0.408234\n",
            "[760]\tTrain-rmse:0.400574\tValidation-rmse:0.408207\n",
            "[761]\tTrain-rmse:0.400517\tValidation-rmse:0.408168\n",
            "[762]\tTrain-rmse:0.400452\tValidation-rmse:0.408123\n",
            "[763]\tTrain-rmse:0.400358\tValidation-rmse:0.408035\n",
            "[764]\tTrain-rmse:0.400316\tValidation-rmse:0.408033\n",
            "[765]\tTrain-rmse:0.400294\tValidation-rmse:0.408034\n",
            "[766]\tTrain-rmse:0.40026\tValidation-rmse:0.407991\n",
            "[767]\tTrain-rmse:0.400231\tValidation-rmse:0.407986\n",
            "[768]\tTrain-rmse:0.400216\tValidation-rmse:0.407979\n",
            "[769]\tTrain-rmse:0.400187\tValidation-rmse:0.407983\n",
            "[770]\tTrain-rmse:0.400159\tValidation-rmse:0.407974\n",
            "[771]\tTrain-rmse:0.400099\tValidation-rmse:0.407955\n",
            "[772]\tTrain-rmse:0.400096\tValidation-rmse:0.407953\n",
            "[773]\tTrain-rmse:0.400094\tValidation-rmse:0.407952\n",
            "[774]\tTrain-rmse:0.400083\tValidation-rmse:0.407947\n",
            "[775]\tTrain-rmse:0.400079\tValidation-rmse:0.407945\n",
            "[776]\tTrain-rmse:0.400063\tValidation-rmse:0.407939\n",
            "[777]\tTrain-rmse:0.400062\tValidation-rmse:0.407937\n",
            "[778]\tTrain-rmse:0.400038\tValidation-rmse:0.407924\n",
            "[779]\tTrain-rmse:0.400036\tValidation-rmse:0.407922\n",
            "[780]\tTrain-rmse:0.399964\tValidation-rmse:0.407891\n",
            "[781]\tTrain-rmse:0.399906\tValidation-rmse:0.407857\n",
            "[782]\tTrain-rmse:0.399846\tValidation-rmse:0.407811\n",
            "[783]\tTrain-rmse:0.399724\tValidation-rmse:0.407674\n",
            "[784]\tTrain-rmse:0.39967\tValidation-rmse:0.407652\n",
            "[785]\tTrain-rmse:0.399615\tValidation-rmse:0.407636\n",
            "[786]\tTrain-rmse:0.399549\tValidation-rmse:0.407606\n",
            "[787]\tTrain-rmse:0.399516\tValidation-rmse:0.407596\n",
            "[788]\tTrain-rmse:0.399455\tValidation-rmse:0.407547\n",
            "[789]\tTrain-rmse:0.399423\tValidation-rmse:0.407543\n",
            "[790]\tTrain-rmse:0.399356\tValidation-rmse:0.407515\n",
            "[791]\tTrain-rmse:0.399307\tValidation-rmse:0.407473\n",
            "[792]\tTrain-rmse:0.399278\tValidation-rmse:0.407466\n",
            "[793]\tTrain-rmse:0.399247\tValidation-rmse:0.407444\n",
            "[794]\tTrain-rmse:0.399201\tValidation-rmse:0.4074\n",
            "[795]\tTrain-rmse:0.399161\tValidation-rmse:0.407361\n",
            "[796]\tTrain-rmse:0.399114\tValidation-rmse:0.407327\n",
            "[797]\tTrain-rmse:0.399064\tValidation-rmse:0.40728\n",
            "[798]\tTrain-rmse:0.399006\tValidation-rmse:0.407232\n",
            "[799]\tTrain-rmse:0.398966\tValidation-rmse:0.40721\n",
            "[800]\tTrain-rmse:0.398917\tValidation-rmse:0.407188\n",
            "[801]\tTrain-rmse:0.398879\tValidation-rmse:0.407193\n",
            "[802]\tTrain-rmse:0.398851\tValidation-rmse:0.407181\n",
            "[803]\tTrain-rmse:0.3988\tValidation-rmse:0.407154\n",
            "[804]\tTrain-rmse:0.398757\tValidation-rmse:0.40715\n",
            "[805]\tTrain-rmse:0.39869\tValidation-rmse:0.407121\n",
            "[806]\tTrain-rmse:0.398671\tValidation-rmse:0.407116\n",
            "[807]\tTrain-rmse:0.398607\tValidation-rmse:0.407048\n",
            "[808]\tTrain-rmse:0.398592\tValidation-rmse:0.407039\n",
            "[809]\tTrain-rmse:0.398539\tValidation-rmse:0.407019\n",
            "[810]\tTrain-rmse:0.398501\tValidation-rmse:0.406988\n",
            "[811]\tTrain-rmse:0.398454\tValidation-rmse:0.406973\n",
            "[812]\tTrain-rmse:0.398401\tValidation-rmse:0.406924\n",
            "[813]\tTrain-rmse:0.398368\tValidation-rmse:0.406911\n",
            "[814]\tTrain-rmse:0.398324\tValidation-rmse:0.40687\n",
            "[815]\tTrain-rmse:0.398276\tValidation-rmse:0.40684\n",
            "[816]\tTrain-rmse:0.398237\tValidation-rmse:0.406835\n",
            "[817]\tTrain-rmse:0.398211\tValidation-rmse:0.406833\n",
            "[818]\tTrain-rmse:0.398201\tValidation-rmse:0.406833\n",
            "[819]\tTrain-rmse:0.398168\tValidation-rmse:0.406804\n",
            "[820]\tTrain-rmse:0.398145\tValidation-rmse:0.406811\n",
            "[821]\tTrain-rmse:0.39814\tValidation-rmse:0.406802\n",
            "[822]\tTrain-rmse:0.398114\tValidation-rmse:0.40678\n",
            "[823]\tTrain-rmse:0.398084\tValidation-rmse:0.406771\n",
            "[824]\tTrain-rmse:0.398039\tValidation-rmse:0.406771\n",
            "[825]\tTrain-rmse:0.397988\tValidation-rmse:0.406727\n",
            "[826]\tTrain-rmse:0.397933\tValidation-rmse:0.406713\n",
            "[827]\tTrain-rmse:0.397881\tValidation-rmse:0.406679\n",
            "[828]\tTrain-rmse:0.397876\tValidation-rmse:0.40667\n",
            "[829]\tTrain-rmse:0.397874\tValidation-rmse:0.406668\n",
            "[830]\tTrain-rmse:0.397871\tValidation-rmse:0.406663\n",
            "[831]\tTrain-rmse:0.39781\tValidation-rmse:0.406614\n",
            "[832]\tTrain-rmse:0.39779\tValidation-rmse:0.406617\n",
            "[833]\tTrain-rmse:0.397559\tValidation-rmse:0.406426\n",
            "[834]\tTrain-rmse:0.397506\tValidation-rmse:0.406424\n",
            "[835]\tTrain-rmse:0.397463\tValidation-rmse:0.406411\n",
            "[836]\tTrain-rmse:0.397406\tValidation-rmse:0.406374\n",
            "[837]\tTrain-rmse:0.397372\tValidation-rmse:0.406358\n",
            "[838]\tTrain-rmse:0.397319\tValidation-rmse:0.406311\n",
            "[839]\tTrain-rmse:0.397278\tValidation-rmse:0.406296\n",
            "[840]\tTrain-rmse:0.397233\tValidation-rmse:0.406266\n",
            "[841]\tTrain-rmse:0.397199\tValidation-rmse:0.406257\n",
            "[842]\tTrain-rmse:0.39717\tValidation-rmse:0.406237\n",
            "[843]\tTrain-rmse:0.397141\tValidation-rmse:0.40621\n",
            "[844]\tTrain-rmse:0.397111\tValidation-rmse:0.406209\n",
            "[845]\tTrain-rmse:0.397105\tValidation-rmse:0.406211\n",
            "[846]\tTrain-rmse:0.39706\tValidation-rmse:0.406224\n",
            "[847]\tTrain-rmse:0.397031\tValidation-rmse:0.406214\n",
            "[848]\tTrain-rmse:0.39703\tValidation-rmse:0.406211\n",
            "[849]\tTrain-rmse:0.397026\tValidation-rmse:0.406207\n",
            "[850]\tTrain-rmse:0.397023\tValidation-rmse:0.406206\n",
            "[851]\tTrain-rmse:0.397011\tValidation-rmse:0.406195\n",
            "[852]\tTrain-rmse:0.396976\tValidation-rmse:0.40619\n",
            "[853]\tTrain-rmse:0.396955\tValidation-rmse:0.406191\n",
            "[854]\tTrain-rmse:0.396946\tValidation-rmse:0.406187\n",
            "[855]\tTrain-rmse:0.396925\tValidation-rmse:0.40619\n",
            "[856]\tTrain-rmse:0.396876\tValidation-rmse:0.406171\n",
            "[857]\tTrain-rmse:0.396837\tValidation-rmse:0.406146\n",
            "[858]\tTrain-rmse:0.396836\tValidation-rmse:0.406144\n",
            "[859]\tTrain-rmse:0.396833\tValidation-rmse:0.406143\n",
            "[860]\tTrain-rmse:0.396829\tValidation-rmse:0.406143\n",
            "[861]\tTrain-rmse:0.396828\tValidation-rmse:0.406143\n",
            "[862]\tTrain-rmse:0.396825\tValidation-rmse:0.406142\n",
            "[863]\tTrain-rmse:0.396822\tValidation-rmse:0.40614\n",
            "[864]\tTrain-rmse:0.396811\tValidation-rmse:0.406137\n",
            "[865]\tTrain-rmse:0.39681\tValidation-rmse:0.406136\n",
            "[866]\tTrain-rmse:0.396808\tValidation-rmse:0.406132\n",
            "[867]\tTrain-rmse:0.396765\tValidation-rmse:0.40611\n",
            "[868]\tTrain-rmse:0.396731\tValidation-rmse:0.406108\n",
            "[869]\tTrain-rmse:0.396689\tValidation-rmse:0.406101\n",
            "[870]\tTrain-rmse:0.396664\tValidation-rmse:0.406106\n",
            "[871]\tTrain-rmse:0.396649\tValidation-rmse:0.406108\n",
            "[872]\tTrain-rmse:0.396604\tValidation-rmse:0.406089\n",
            "[873]\tTrain-rmse:0.396563\tValidation-rmse:0.406073\n",
            "[874]\tTrain-rmse:0.396538\tValidation-rmse:0.406069\n",
            "[875]\tTrain-rmse:0.396535\tValidation-rmse:0.406063\n",
            "[876]\tTrain-rmse:0.396485\tValidation-rmse:0.406027\n",
            "[877]\tTrain-rmse:0.396442\tValidation-rmse:0.406011\n",
            "[878]\tTrain-rmse:0.39641\tValidation-rmse:0.406001\n",
            "[879]\tTrain-rmse:0.396402\tValidation-rmse:0.405995\n",
            "[880]\tTrain-rmse:0.396401\tValidation-rmse:0.405995\n",
            "[881]\tTrain-rmse:0.396396\tValidation-rmse:0.405992\n",
            "[882]\tTrain-rmse:0.396394\tValidation-rmse:0.405991\n",
            "[883]\tTrain-rmse:0.396371\tValidation-rmse:0.405993\n",
            "[884]\tTrain-rmse:0.396319\tValidation-rmse:0.405974\n",
            "[885]\tTrain-rmse:0.396272\tValidation-rmse:0.405956\n",
            "[886]\tTrain-rmse:0.396226\tValidation-rmse:0.405963\n",
            "[887]\tTrain-rmse:0.396188\tValidation-rmse:0.405955\n",
            "[888]\tTrain-rmse:0.396144\tValidation-rmse:0.405943\n",
            "[889]\tTrain-rmse:0.396098\tValidation-rmse:0.405949\n",
            "[890]\tTrain-rmse:0.396081\tValidation-rmse:0.405937\n",
            "[891]\tTrain-rmse:0.396065\tValidation-rmse:0.405938\n",
            "[892]\tTrain-rmse:0.396032\tValidation-rmse:0.40592\n",
            "[893]\tTrain-rmse:0.396005\tValidation-rmse:0.405907\n",
            "[894]\tTrain-rmse:0.395992\tValidation-rmse:0.405896\n",
            "[895]\tTrain-rmse:0.395957\tValidation-rmse:0.405893\n",
            "[896]\tTrain-rmse:0.39592\tValidation-rmse:0.405873\n",
            "[897]\tTrain-rmse:0.395884\tValidation-rmse:0.405834\n",
            "[898]\tTrain-rmse:0.395844\tValidation-rmse:0.405795\n",
            "[899]\tTrain-rmse:0.395808\tValidation-rmse:0.405767\n",
            "[900]\tTrain-rmse:0.395768\tValidation-rmse:0.405761\n",
            "[901]\tTrain-rmse:0.395724\tValidation-rmse:0.405708\n",
            "[902]\tTrain-rmse:0.395674\tValidation-rmse:0.405657\n",
            "[903]\tTrain-rmse:0.395646\tValidation-rmse:0.405628\n",
            "[904]\tTrain-rmse:0.395596\tValidation-rmse:0.405587\n",
            "[905]\tTrain-rmse:0.395514\tValidation-rmse:0.405524\n",
            "[906]\tTrain-rmse:0.395487\tValidation-rmse:0.405532\n",
            "[907]\tTrain-rmse:0.395483\tValidation-rmse:0.40553\n",
            "[908]\tTrain-rmse:0.395444\tValidation-rmse:0.405492\n",
            "[909]\tTrain-rmse:0.3954\tValidation-rmse:0.40547\n",
            "[910]\tTrain-rmse:0.395374\tValidation-rmse:0.405458\n",
            "[911]\tTrain-rmse:0.395339\tValidation-rmse:0.405458\n",
            "[912]\tTrain-rmse:0.395331\tValidation-rmse:0.40545\n",
            "[913]\tTrain-rmse:0.39533\tValidation-rmse:0.40545\n",
            "[914]\tTrain-rmse:0.395267\tValidation-rmse:0.405376\n",
            "[915]\tTrain-rmse:0.395078\tValidation-rmse:0.405187\n",
            "[916]\tTrain-rmse:0.39507\tValidation-rmse:0.405176\n",
            "[917]\tTrain-rmse:0.395056\tValidation-rmse:0.405166\n",
            "[918]\tTrain-rmse:0.395054\tValidation-rmse:0.405164\n",
            "[919]\tTrain-rmse:0.395034\tValidation-rmse:0.405152\n",
            "[920]\tTrain-rmse:0.395\tValidation-rmse:0.40514\n",
            "[921]\tTrain-rmse:0.394924\tValidation-rmse:0.405092\n",
            "[922]\tTrain-rmse:0.394899\tValidation-rmse:0.405075\n",
            "[923]\tTrain-rmse:0.394863\tValidation-rmse:0.405056\n",
            "[924]\tTrain-rmse:0.394861\tValidation-rmse:0.405053\n",
            "[925]\tTrain-rmse:0.394796\tValidation-rmse:0.404975\n",
            "[926]\tTrain-rmse:0.394748\tValidation-rmse:0.404949\n",
            "[927]\tTrain-rmse:0.394688\tValidation-rmse:0.404907\n",
            "[928]\tTrain-rmse:0.394677\tValidation-rmse:0.404901\n",
            "[929]\tTrain-rmse:0.394635\tValidation-rmse:0.404875\n",
            "[930]\tTrain-rmse:0.394589\tValidation-rmse:0.404838\n",
            "[931]\tTrain-rmse:0.394544\tValidation-rmse:0.404823\n",
            "[932]\tTrain-rmse:0.394498\tValidation-rmse:0.404814\n",
            "[933]\tTrain-rmse:0.39446\tValidation-rmse:0.404786\n",
            "[934]\tTrain-rmse:0.39443\tValidation-rmse:0.404776\n",
            "[935]\tTrain-rmse:0.394394\tValidation-rmse:0.404754\n",
            "[936]\tTrain-rmse:0.394336\tValidation-rmse:0.404729\n",
            "[937]\tTrain-rmse:0.394284\tValidation-rmse:0.404692\n",
            "[938]\tTrain-rmse:0.394238\tValidation-rmse:0.404677\n",
            "[939]\tTrain-rmse:0.394207\tValidation-rmse:0.404656\n",
            "[940]\tTrain-rmse:0.394197\tValidation-rmse:0.404653\n",
            "[941]\tTrain-rmse:0.394196\tValidation-rmse:0.404653\n",
            "[942]\tTrain-rmse:0.39416\tValidation-rmse:0.404638\n",
            "[943]\tTrain-rmse:0.394127\tValidation-rmse:0.404622\n",
            "[944]\tTrain-rmse:0.394102\tValidation-rmse:0.404611\n",
            "[945]\tTrain-rmse:0.394069\tValidation-rmse:0.404613\n",
            "[946]\tTrain-rmse:0.394068\tValidation-rmse:0.404608\n",
            "[947]\tTrain-rmse:0.394039\tValidation-rmse:0.404589\n",
            "[948]\tTrain-rmse:0.394\tValidation-rmse:0.40457\n",
            "[949]\tTrain-rmse:0.393998\tValidation-rmse:0.404568\n",
            "[950]\tTrain-rmse:0.393969\tValidation-rmse:0.40455\n",
            "[951]\tTrain-rmse:0.393943\tValidation-rmse:0.40455\n",
            "[952]\tTrain-rmse:0.393906\tValidation-rmse:0.404557\n",
            "[953]\tTrain-rmse:0.393902\tValidation-rmse:0.40455\n",
            "[954]\tTrain-rmse:0.393881\tValidation-rmse:0.40455\n",
            "[955]\tTrain-rmse:0.393835\tValidation-rmse:0.404552\n",
            "[956]\tTrain-rmse:0.393809\tValidation-rmse:0.404525\n",
            "[957]\tTrain-rmse:0.393772\tValidation-rmse:0.404508\n",
            "[958]\tTrain-rmse:0.39377\tValidation-rmse:0.404503\n",
            "[959]\tTrain-rmse:0.393769\tValidation-rmse:0.404504\n",
            "[960]\tTrain-rmse:0.393755\tValidation-rmse:0.404494\n",
            "[961]\tTrain-rmse:0.393753\tValidation-rmse:0.404495\n",
            "[962]\tTrain-rmse:0.393753\tValidation-rmse:0.404493\n",
            "[963]\tTrain-rmse:0.393718\tValidation-rmse:0.40448\n",
            "[964]\tTrain-rmse:0.393677\tValidation-rmse:0.404485\n",
            "[965]\tTrain-rmse:0.393629\tValidation-rmse:0.404441\n",
            "[966]\tTrain-rmse:0.393596\tValidation-rmse:0.404432\n",
            "[967]\tTrain-rmse:0.393581\tValidation-rmse:0.404439\n",
            "[968]\tTrain-rmse:0.393552\tValidation-rmse:0.404429\n",
            "[969]\tTrain-rmse:0.393539\tValidation-rmse:0.404426\n",
            "[970]\tTrain-rmse:0.393495\tValidation-rmse:0.404395\n",
            "[971]\tTrain-rmse:0.393466\tValidation-rmse:0.404395\n",
            "[972]\tTrain-rmse:0.39342\tValidation-rmse:0.404364\n",
            "[973]\tTrain-rmse:0.393376\tValidation-rmse:0.404347\n",
            "[974]\tTrain-rmse:0.393353\tValidation-rmse:0.404336\n",
            "[975]\tTrain-rmse:0.393339\tValidation-rmse:0.404332\n",
            "[976]\tTrain-rmse:0.39332\tValidation-rmse:0.40433\n",
            "[977]\tTrain-rmse:0.393255\tValidation-rmse:0.404272\n",
            "[978]\tTrain-rmse:0.393183\tValidation-rmse:0.404235\n",
            "[979]\tTrain-rmse:0.39314\tValidation-rmse:0.404197\n",
            "[980]\tTrain-rmse:0.393116\tValidation-rmse:0.404194\n",
            "[981]\tTrain-rmse:0.393024\tValidation-rmse:0.404086\n",
            "[982]\tTrain-rmse:0.392991\tValidation-rmse:0.404076\n",
            "[983]\tTrain-rmse:0.392955\tValidation-rmse:0.404063\n",
            "[984]\tTrain-rmse:0.392949\tValidation-rmse:0.404069\n",
            "[985]\tTrain-rmse:0.392912\tValidation-rmse:0.404049\n",
            "[986]\tTrain-rmse:0.392871\tValidation-rmse:0.404018\n",
            "[987]\tTrain-rmse:0.39275\tValidation-rmse:0.403896\n",
            "[988]\tTrain-rmse:0.392703\tValidation-rmse:0.403874\n",
            "[989]\tTrain-rmse:0.392646\tValidation-rmse:0.403838\n",
            "[990]\tTrain-rmse:0.392585\tValidation-rmse:0.403796\n",
            "[991]\tTrain-rmse:0.392538\tValidation-rmse:0.403772\n",
            "[992]\tTrain-rmse:0.392507\tValidation-rmse:0.403751\n",
            "[993]\tTrain-rmse:0.392461\tValidation-rmse:0.403712\n",
            "[994]\tTrain-rmse:0.392421\tValidation-rmse:0.403684\n",
            "[995]\tTrain-rmse:0.392381\tValidation-rmse:0.403663\n",
            "[996]\tTrain-rmse:0.392335\tValidation-rmse:0.403669\n",
            "[997]\tTrain-rmse:0.392286\tValidation-rmse:0.403614\n",
            "[998]\tTrain-rmse:0.392228\tValidation-rmse:0.403554\n",
            "[999]\tTrain-rmse:0.39219\tValidation-rmse:0.403534\n"
          ],
          "name": "stdout"
        }
      ]
    },
    {
      "cell_type": "code",
      "metadata": {
        "id": "aUt7NZNMNCVK",
        "colab_type": "code",
        "colab": {
          "base_uri": "https://localhost:8080/",
          "height": 35
        },
        "outputId": "5d901e9e-db31-4f6f-9040-b657b109d8df"
      },
      "source": [
        "# 테스트 데이터로 정확도 예측\n",
        "y_pred = model.predict(X_test)\n",
        "y_pred = np.where(y_pred > 0.5, 1, 0)\n",
        "accuracy = (y_test == y_pred).mean()\n",
        "print(f\"Test Accuracy: {accuracy}\")"
      ],
      "execution_count": null,
      "outputs": [
        {
          "output_type": "stream",
          "text": [
            "Test Accuracy: 0.7549855164676925\n"
          ],
          "name": "stdout"
        }
      ]
    },
    {
      "cell_type": "markdown",
      "metadata": {
        "id": "hD4ZAUAIOydi",
        "colab_type": "text"
      },
      "source": [
        "### 3.2. (샴) CNN\n",
        "- 교재에 나온 대로 `Siamese-CNN`을 구성하나, 임베딩 레이어를 공통으로 구성한다.\n",
        "\n"
      ]
    },
    {
      "cell_type": "code",
      "metadata": {
        "id": "fXrRR5bNXR4x",
        "colab_type": "code",
        "colab": {}
      },
      "source": [
        "# 데이터 분리\n",
        "X_train_1, X_test_1, X_train_2, X_test_2, y_train, y_test = train_test_split(q1_data, q2_data, train_labels,\n",
        "                                                                             test_size=0.2,\n",
        "                                                                             random_state=42)"
      ],
      "execution_count": null,
      "outputs": []
    },
    {
      "cell_type": "code",
      "metadata": {
        "id": "y6xRUXewOx58",
        "colab_type": "code",
        "colab": {
          "base_uri": "https://localhost:8080/",
          "height": 53
        },
        "outputId": "8ec2df52-ad0e-44dd-ada2-78fe716ce33c"
      },
      "source": [
        "# CNN 네트워크 파라미터\n",
        "vocab_size = np.max([q1_data, q2_data]) + 1 # 패딩용 추가\n",
        "EMB_SIZE = int(input('임베딩 차원 설정: '))\n",
        "n_kernel =  int(input('컨볼루션 필터 사이즈 설정: '))"
      ],
      "execution_count": null,
      "outputs": [
        {
          "output_type": "stream",
          "text": [
            "임베딩 차원 설정: 16\n",
            "컨볼루션 필터 사이즈 설정: 32\n"
          ],
          "name": "stdout"
        }
      ]
    },
    {
      "cell_type": "code",
      "metadata": {
        "id": "dxCUlCsIOzIr",
        "colab_type": "code",
        "colab": {
          "base_uri": "https://localhost:8080/"
        },
        "outputId": "ef2c68aa-a413-4fcf-94c7-02f41b1028eb"
      },
      "source": [
        "K.clear_session()\n",
        "\n",
        "# CNN 네트워크 구성\n",
        "X_input_1 = Input(batch_shape=(None, X_train_1.shape[1]))\n",
        "X_input_2 = Input(batch_shape=(None, X_train_2.shape[1]))\n",
        "\n",
        "X_embed = Embedding(input_dim = vocab_size, output_dim = EMB_SIZE) # 공통 임베딩 네트워크\n",
        "\n",
        "X_embed_1 = X_embed(X_input_1)\n",
        "X_embed_1 = Dropout(0.2)(X_embed_1)\n",
        "X_conv_1 = Conv1D(filters=n_kernel, kernel_size=3, activation='relu')(X_embed_1)\n",
        "X_pool_1 = GlobalMaxPool1D()(X_conv_1)\n",
        "X_dense_1 = Dense(64, activation='relu', kernel_regularizer=l2(0.005))(X_pool_1)\n",
        "X_dense_1 = Dropout(0.2)(X_dense_1)\n",
        "\n",
        "X_embed_2 = X_embed(X_input_2)\n",
        "X_embed_2 = Dropout(0.2)(X_embed_2)\n",
        "X_conv_2 = Conv1D(filters=n_kernel, kernel_size=3, activation='relu')(X_embed_2)\n",
        "X_pool_2 = GlobalMaxPool1D()(X_conv_2)\n",
        "X_dense_2 = Dense(64, activation='relu', kernel_regularizer=l2(0.005))(X_pool_2)\n",
        "X_dense_2 = Dropout(0.2)(X_dense_2)\n",
        "\n",
        "X_concat = Concatenate()([X_dense_1, X_dense_2])\n",
        "X_hidden = Dense(64, activation='relu', kernel_regularizer=l2(0.005))(X_concat)\n",
        "X_hidden = Dropout(0.2)(X_hidden)\n",
        "y_output = Dense(1, activation='sigmoid')(X_hidden)\n",
        "\n",
        "# 모델 구성\n",
        "model = Model([X_input_1, X_input_2], y_output)\n",
        "model.compile(loss='binary_crossentropy', optimizer=Adam(lr=0.0005))\n",
        "print(\"========== 모델 전체 구조 확인 ==========\")\n",
        "print(model.summary())\n",
        "SVG(model_to_dot(model, show_shapes= True, show_layer_names=True, dpi=65).create(prog='dot', format='svg'))"
      ],
      "execution_count": null,
      "outputs": [
        {
          "output_type": "stream",
          "text": [
            "========== 모델 전체 구조 확인 ==========\n",
            "Model: \"functional_1\"\n",
            "__________________________________________________________________________________________________\n",
            "Layer (type)                    Output Shape         Param #     Connected to                     \n",
            "==================================================================================================\n",
            "input_1 (InputLayer)            [(None, 31)]         0                                            \n",
            "__________________________________________________________________________________________________\n",
            "input_2 (InputLayer)            [(None, 31)]         0                                            \n",
            "__________________________________________________________________________________________________\n",
            "embedding (Embedding)           (None, 31, 16)       1223648     input_1[0][0]                    \n",
            "                                                                 input_2[0][0]                    \n",
            "__________________________________________________________________________________________________\n",
            "dropout (Dropout)               (None, 31, 16)       0           embedding[0][0]                  \n",
            "__________________________________________________________________________________________________\n",
            "dropout_2 (Dropout)             (None, 31, 16)       0           embedding[1][0]                  \n",
            "__________________________________________________________________________________________________\n",
            "conv1d (Conv1D)                 (None, 29, 32)       1568        dropout[0][0]                    \n",
            "__________________________________________________________________________________________________\n",
            "conv1d_1 (Conv1D)               (None, 29, 32)       1568        dropout_2[0][0]                  \n",
            "__________________________________________________________________________________________________\n",
            "global_max_pooling1d (GlobalMax (None, 32)           0           conv1d[0][0]                     \n",
            "__________________________________________________________________________________________________\n",
            "global_max_pooling1d_1 (GlobalM (None, 32)           0           conv1d_1[0][0]                   \n",
            "__________________________________________________________________________________________________\n",
            "dense (Dense)                   (None, 64)           2112        global_max_pooling1d[0][0]       \n",
            "__________________________________________________________________________________________________\n",
            "dense_1 (Dense)                 (None, 64)           2112        global_max_pooling1d_1[0][0]     \n",
            "__________________________________________________________________________________________________\n",
            "dropout_1 (Dropout)             (None, 64)           0           dense[0][0]                      \n",
            "__________________________________________________________________________________________________\n",
            "dropout_3 (Dropout)             (None, 64)           0           dense_1[0][0]                    \n",
            "__________________________________________________________________________________________________\n",
            "concatenate (Concatenate)       (None, 128)          0           dropout_1[0][0]                  \n",
            "                                                                 dropout_3[0][0]                  \n",
            "__________________________________________________________________________________________________\n",
            "dense_2 (Dense)                 (None, 64)           8256        concatenate[0][0]                \n",
            "__________________________________________________________________________________________________\n",
            "dropout_4 (Dropout)             (None, 64)           0           dense_2[0][0]                    \n",
            "__________________________________________________________________________________________________\n",
            "dense_3 (Dense)                 (None, 1)            65          dropout_4[0][0]                  \n",
            "==================================================================================================\n",
            "Total params: 1,239,329\n",
            "Trainable params: 1,239,329\n",
            "Non-trainable params: 0\n",
            "__________________________________________________________________________________________________\n",
            "None\n"
          ],
          "name": "stdout"
        },
        {
          "output_type": "execute_result",
          "data": {
            "text/plain": [
              "<IPython.core.display.SVG object>"
            ],
            "image/svg+xml": "<svg height=\"799pt\" viewBox=\"0.00 0.00 889.50 885.00\" width=\"803pt\" xmlns=\"http://www.w3.org/2000/svg\" xmlns:xlink=\"http://www.w3.org/1999/xlink\">\n<g class=\"graph\" id=\"graph0\" transform=\"scale(.9028 .9028) rotate(0) translate(4 881)\">\n<title>G</title>\n<polygon fill=\"#ffffff\" points=\"-4,4 -4,-881 885.5,-881 885.5,4 -4,4\" stroke=\"transparent\"/>\n<!-- 140417030292480 -->\n<g class=\"node\" id=\"node1\">\n<title>140417030292480</title>\n<polygon fill=\"none\" points=\"216,-830.5 216,-876.5 470,-876.5 470,-830.5 216,-830.5\" stroke=\"#000000\"/>\n<text fill=\"#000000\" font-family=\"Times,serif\" font-size=\"14.00\" text-anchor=\"middle\" x=\"282.5\" y=\"-849.8\">input_1: InputLayer</text>\n<polyline fill=\"none\" points=\"349,-830.5 349,-876.5 \" stroke=\"#000000\"/>\n<text fill=\"#000000\" font-family=\"Times,serif\" font-size=\"14.00\" text-anchor=\"middle\" x=\"378\" y=\"-861.3\">input:</text>\n<polyline fill=\"none\" points=\"349,-853.5 407,-853.5 \" stroke=\"#000000\"/>\n<text fill=\"#000000\" font-family=\"Times,serif\" font-size=\"14.00\" text-anchor=\"middle\" x=\"378\" y=\"-838.3\">output:</text>\n<polyline fill=\"none\" points=\"407,-830.5 407,-876.5 \" stroke=\"#000000\"/>\n<text fill=\"#000000\" font-family=\"Times,serif\" font-size=\"14.00\" text-anchor=\"middle\" x=\"438.5\" y=\"-861.3\">[(?, 31)]</text>\n<polyline fill=\"none\" points=\"407,-853.5 470,-853.5 \" stroke=\"#000000\"/>\n<text fill=\"#000000\" font-family=\"Times,serif\" font-size=\"14.00\" text-anchor=\"middle\" x=\"438.5\" y=\"-838.3\">[(?, 31)]</text>\n</g>\n<!-- 140417030379112 -->\n<g class=\"node\" id=\"node3\">\n<title>140417030379112</title>\n<polygon fill=\"none\" points=\"333.5,-747.5 333.5,-793.5 624.5,-793.5 624.5,-747.5 333.5,-747.5\" stroke=\"#000000\"/>\n<text fill=\"#000000\" font-family=\"Times,serif\" font-size=\"14.00\" text-anchor=\"middle\" x=\"411.5\" y=\"-766.8\">embedding: Embedding</text>\n<polyline fill=\"none\" points=\"489.5,-747.5 489.5,-793.5 \" stroke=\"#000000\"/>\n<text fill=\"#000000\" font-family=\"Times,serif\" font-size=\"14.00\" text-anchor=\"middle\" x=\"518.5\" y=\"-778.3\">input:</text>\n<polyline fill=\"none\" points=\"489.5,-770.5 547.5,-770.5 \" stroke=\"#000000\"/>\n<text fill=\"#000000\" font-family=\"Times,serif\" font-size=\"14.00\" text-anchor=\"middle\" x=\"518.5\" y=\"-755.3\">output:</text>\n<polyline fill=\"none\" points=\"547.5,-747.5 547.5,-793.5 \" stroke=\"#000000\"/>\n<text fill=\"#000000\" font-family=\"Times,serif\" font-size=\"14.00\" text-anchor=\"middle\" x=\"586\" y=\"-778.3\">(?, 31)</text>\n<polyline fill=\"none\" points=\"547.5,-770.5 624.5,-770.5 \" stroke=\"#000000\"/>\n<text fill=\"#000000\" font-family=\"Times,serif\" font-size=\"14.00\" text-anchor=\"middle\" x=\"586\" y=\"-755.3\">(?, 31, 16)</text>\n</g>\n<!-- 140417030292480&#45;&gt;140417030379112 -->\n<g class=\"edge\" id=\"edge1\">\n<title>140417030292480-&gt;140417030379112</title>\n<path d=\"M380.8836,-830.3799C396.8128,-820.6583 415.5052,-809.2505 432.2771,-799.0147\" fill=\"none\" stroke=\"#000000\"/>\n<polygon fill=\"#000000\" points=\"434.1353,-801.9811 440.8479,-793.784 430.4886,-796.0059 434.1353,-801.9811\" stroke=\"#000000\"/>\n</g>\n<!-- 140417029070184 -->\n<g class=\"node\" id=\"node2\">\n<title>140417029070184</title>\n<polygon fill=\"none\" points=\"488,-830.5 488,-876.5 742,-876.5 742,-830.5 488,-830.5\" stroke=\"#000000\"/>\n<text fill=\"#000000\" font-family=\"Times,serif\" font-size=\"14.00\" text-anchor=\"middle\" x=\"554.5\" y=\"-849.8\">input_2: InputLayer</text>\n<polyline fill=\"none\" points=\"621,-830.5 621,-876.5 \" stroke=\"#000000\"/>\n<text fill=\"#000000\" font-family=\"Times,serif\" font-size=\"14.00\" text-anchor=\"middle\" x=\"650\" y=\"-861.3\">input:</text>\n<polyline fill=\"none\" points=\"621,-853.5 679,-853.5 \" stroke=\"#000000\"/>\n<text fill=\"#000000\" font-family=\"Times,serif\" font-size=\"14.00\" text-anchor=\"middle\" x=\"650\" y=\"-838.3\">output:</text>\n<polyline fill=\"none\" points=\"679,-830.5 679,-876.5 \" stroke=\"#000000\"/>\n<text fill=\"#000000\" font-family=\"Times,serif\" font-size=\"14.00\" text-anchor=\"middle\" x=\"710.5\" y=\"-861.3\">[(?, 31)]</text>\n<polyline fill=\"none\" points=\"679,-853.5 742,-853.5 \" stroke=\"#000000\"/>\n<text fill=\"#000000\" font-family=\"Times,serif\" font-size=\"14.00\" text-anchor=\"middle\" x=\"710.5\" y=\"-838.3\">[(?, 31)]</text>\n</g>\n<!-- 140417029070184&#45;&gt;140417030379112 -->\n<g class=\"edge\" id=\"edge2\">\n<title>140417029070184-&gt;140417030379112</title>\n<path d=\"M577.1164,-830.3799C561.1872,-820.6583 542.4948,-809.2505 525.7229,-799.0147\" fill=\"none\" stroke=\"#000000\"/>\n<polygon fill=\"#000000\" points=\"527.5114,-796.0059 517.1521,-793.784 523.8647,-801.9811 527.5114,-796.0059\" stroke=\"#000000\"/>\n</g>\n<!-- 140417029430632 -->\n<g class=\"node\" id=\"node4\">\n<title>140417029430632</title>\n<polygon fill=\"none\" points=\"212,-664.5 212,-710.5 466,-710.5 466,-664.5 212,-664.5\" stroke=\"#000000\"/>\n<text fill=\"#000000\" font-family=\"Times,serif\" font-size=\"14.00\" text-anchor=\"middle\" x=\"271.5\" y=\"-683.8\">dropout: Dropout</text>\n<polyline fill=\"none\" points=\"331,-664.5 331,-710.5 \" stroke=\"#000000\"/>\n<text fill=\"#000000\" font-family=\"Times,serif\" font-size=\"14.00\" text-anchor=\"middle\" x=\"360\" y=\"-695.3\">input:</text>\n<polyline fill=\"none\" points=\"331,-687.5 389,-687.5 \" stroke=\"#000000\"/>\n<text fill=\"#000000\" font-family=\"Times,serif\" font-size=\"14.00\" text-anchor=\"middle\" x=\"360\" y=\"-672.3\">output:</text>\n<polyline fill=\"none\" points=\"389,-664.5 389,-710.5 \" stroke=\"#000000\"/>\n<text fill=\"#000000\" font-family=\"Times,serif\" font-size=\"14.00\" text-anchor=\"middle\" x=\"427.5\" y=\"-695.3\">(?, 31, 16)</text>\n<polyline fill=\"none\" points=\"389,-687.5 466,-687.5 \" stroke=\"#000000\"/>\n<text fill=\"#000000\" font-family=\"Times,serif\" font-size=\"14.00\" text-anchor=\"middle\" x=\"427.5\" y=\"-672.3\">(?, 31, 16)</text>\n</g>\n<!-- 140417030379112&#45;&gt;140417029430632 -->\n<g class=\"edge\" id=\"edge3\">\n<title>140417030379112-&gt;140417029430632</title>\n<path d=\"M440.0022,-747.3799C423.6044,-737.6583 404.3623,-726.2505 387.0971,-716.0147\" fill=\"none\" stroke=\"#000000\"/>\n<polygon fill=\"#000000\" points=\"388.6611,-712.8731 378.2742,-710.784 385.0912,-718.8944 388.6611,-712.8731\" stroke=\"#000000\"/>\n</g>\n<!-- 140417029385520 -->\n<g class=\"node\" id=\"node5\">\n<title>140417029385520</title>\n<polygon fill=\"none\" points=\"505.5,-664.5 505.5,-710.5 774.5,-710.5 774.5,-664.5 505.5,-664.5\" stroke=\"#000000\"/>\n<text fill=\"#000000\" font-family=\"Times,serif\" font-size=\"14.00\" text-anchor=\"middle\" x=\"572.5\" y=\"-683.8\">dropout_2: Dropout</text>\n<polyline fill=\"none\" points=\"639.5,-664.5 639.5,-710.5 \" stroke=\"#000000\"/>\n<text fill=\"#000000\" font-family=\"Times,serif\" font-size=\"14.00\" text-anchor=\"middle\" x=\"668.5\" y=\"-695.3\">input:</text>\n<polyline fill=\"none\" points=\"639.5,-687.5 697.5,-687.5 \" stroke=\"#000000\"/>\n<text fill=\"#000000\" font-family=\"Times,serif\" font-size=\"14.00\" text-anchor=\"middle\" x=\"668.5\" y=\"-672.3\">output:</text>\n<polyline fill=\"none\" points=\"697.5,-664.5 697.5,-710.5 \" stroke=\"#000000\"/>\n<text fill=\"#000000\" font-family=\"Times,serif\" font-size=\"14.00\" text-anchor=\"middle\" x=\"736\" y=\"-695.3\">(?, 31, 16)</text>\n<polyline fill=\"none\" points=\"697.5,-687.5 774.5,-687.5 \" stroke=\"#000000\"/>\n<text fill=\"#000000\" font-family=\"Times,serif\" font-size=\"14.00\" text-anchor=\"middle\" x=\"736\" y=\"-672.3\">(?, 31, 16)</text>\n</g>\n<!-- 140417030379112&#45;&gt;140417029385520 -->\n<g class=\"edge\" id=\"edge4\">\n<title>140417030379112-&gt;140417029385520</title>\n<path d=\"M523.8475,-747.3799C543.1316,-737.4384 565.8364,-725.7334 586.0326,-715.3217\" fill=\"none\" stroke=\"#000000\"/>\n<polygon fill=\"#000000\" points=\"587.8295,-718.3331 595.1141,-710.6399 584.6219,-712.1113 587.8295,-718.3331\" stroke=\"#000000\"/>\n</g>\n<!-- 140417029069120 -->\n<g class=\"node\" id=\"node6\">\n<title>140417029069120</title>\n<polygon fill=\"none\" points=\"127.5,-581.5 127.5,-627.5 380.5,-627.5 380.5,-581.5 127.5,-581.5\" stroke=\"#000000\"/>\n<text fill=\"#000000\" font-family=\"Times,serif\" font-size=\"14.00\" text-anchor=\"middle\" x=\"186.5\" y=\"-600.8\">conv1d: Conv1D</text>\n<polyline fill=\"none\" points=\"245.5,-581.5 245.5,-627.5 \" stroke=\"#000000\"/>\n<text fill=\"#000000\" font-family=\"Times,serif\" font-size=\"14.00\" text-anchor=\"middle\" x=\"274.5\" y=\"-612.3\">input:</text>\n<polyline fill=\"none\" points=\"245.5,-604.5 303.5,-604.5 \" stroke=\"#000000\"/>\n<text fill=\"#000000\" font-family=\"Times,serif\" font-size=\"14.00\" text-anchor=\"middle\" x=\"274.5\" y=\"-589.3\">output:</text>\n<polyline fill=\"none\" points=\"303.5,-581.5 303.5,-627.5 \" stroke=\"#000000\"/>\n<text fill=\"#000000\" font-family=\"Times,serif\" font-size=\"14.00\" text-anchor=\"middle\" x=\"342\" y=\"-612.3\">(?, 31, 16)</text>\n<polyline fill=\"none\" points=\"303.5,-604.5 380.5,-604.5 \" stroke=\"#000000\"/>\n<text fill=\"#000000\" font-family=\"Times,serif\" font-size=\"14.00\" text-anchor=\"middle\" x=\"342\" y=\"-589.3\">(?, 29, 32)</text>\n</g>\n<!-- 140417029430632&#45;&gt;140417029069120 -->\n<g class=\"edge\" id=\"edge5\">\n<title>140417029430632-&gt;140417029069120</title>\n<path d=\"M315.3228,-664.3799C306.0063,-655.2827 295.1777,-644.7088 285.2354,-635.0005\" fill=\"none\" stroke=\"#000000\"/>\n<polygon fill=\"#000000\" points=\"287.4451,-632.2663 277.8451,-627.784 282.5546,-637.2746 287.4451,-632.2663\" stroke=\"#000000\"/>\n</g>\n<!-- 140417029384624 -->\n<g class=\"node\" id=\"node7\">\n<title>140417029384624</title>\n<polygon fill=\"none\" points=\"517,-581.5 517,-627.5 785,-627.5 785,-581.5 517,-581.5\" stroke=\"#000000\"/>\n<text fill=\"#000000\" font-family=\"Times,serif\" font-size=\"14.00\" text-anchor=\"middle\" x=\"583.5\" y=\"-600.8\">conv1d_1: Conv1D</text>\n<polyline fill=\"none\" points=\"650,-581.5 650,-627.5 \" stroke=\"#000000\"/>\n<text fill=\"#000000\" font-family=\"Times,serif\" font-size=\"14.00\" text-anchor=\"middle\" x=\"679\" y=\"-612.3\">input:</text>\n<polyline fill=\"none\" points=\"650,-604.5 708,-604.5 \" stroke=\"#000000\"/>\n<text fill=\"#000000\" font-family=\"Times,serif\" font-size=\"14.00\" text-anchor=\"middle\" x=\"679\" y=\"-589.3\">output:</text>\n<polyline fill=\"none\" points=\"708,-581.5 708,-627.5 \" stroke=\"#000000\"/>\n<text fill=\"#000000\" font-family=\"Times,serif\" font-size=\"14.00\" text-anchor=\"middle\" x=\"746.5\" y=\"-612.3\">(?, 31, 16)</text>\n<polyline fill=\"none\" points=\"708,-604.5 785,-604.5 \" stroke=\"#000000\"/>\n<text fill=\"#000000\" font-family=\"Times,serif\" font-size=\"14.00\" text-anchor=\"middle\" x=\"746.5\" y=\"-589.3\">(?, 29, 32)</text>\n</g>\n<!-- 140417029385520&#45;&gt;140417029384624 -->\n<g class=\"edge\" id=\"edge6\">\n<title>140417029385520-&gt;140417029384624</title>\n<path d=\"M643.0641,-664.3799C644.1516,-656.1745 645.3982,-646.7679 646.5763,-637.8786\" fill=\"none\" stroke=\"#000000\"/>\n<polygon fill=\"#000000\" points=\"650.0699,-638.1572 647.9142,-627.784 643.1306,-637.2375 650.0699,-638.1572\" stroke=\"#000000\"/>\n</g>\n<!-- 140417029398936 -->\n<g class=\"node\" id=\"node8\">\n<title>140417029398936</title>\n<polygon fill=\"none\" points=\"0,-498.5 0,-544.5 424,-544.5 424,-498.5 0,-498.5\" stroke=\"#000000\"/>\n<text fill=\"#000000\" font-family=\"Times,serif\" font-size=\"14.00\" text-anchor=\"middle\" x=\"144.5\" y=\"-517.8\">global_max_pooling1d: GlobalMaxPooling1D</text>\n<polyline fill=\"none\" points=\"289,-498.5 289,-544.5 \" stroke=\"#000000\"/>\n<text fill=\"#000000\" font-family=\"Times,serif\" font-size=\"14.00\" text-anchor=\"middle\" x=\"318\" y=\"-529.3\">input:</text>\n<polyline fill=\"none\" points=\"289,-521.5 347,-521.5 \" stroke=\"#000000\"/>\n<text fill=\"#000000\" font-family=\"Times,serif\" font-size=\"14.00\" text-anchor=\"middle\" x=\"318\" y=\"-506.3\">output:</text>\n<polyline fill=\"none\" points=\"347,-498.5 347,-544.5 \" stroke=\"#000000\"/>\n<text fill=\"#000000\" font-family=\"Times,serif\" font-size=\"14.00\" text-anchor=\"middle\" x=\"385.5\" y=\"-529.3\">(?, 29, 32)</text>\n<polyline fill=\"none\" points=\"347,-521.5 424,-521.5 \" stroke=\"#000000\"/>\n<text fill=\"#000000\" font-family=\"Times,serif\" font-size=\"14.00\" text-anchor=\"middle\" x=\"385.5\" y=\"-506.3\">(?, 32)</text>\n</g>\n<!-- 140417029069120&#45;&gt;140417029398936 -->\n<g class=\"edge\" id=\"edge7\">\n<title>140417029069120-&gt;140417029398936</title>\n<path d=\"M242.3007,-581.3799C237.968,-572.8178 232.9735,-562.9477 228.3052,-553.7222\" fill=\"none\" stroke=\"#000000\"/>\n<polygon fill=\"#000000\" points=\"231.4203,-552.1264 223.7823,-544.784 225.1745,-555.287 231.4203,-552.1264\" stroke=\"#000000\"/>\n</g>\n<!-- 140417029335864 -->\n<g class=\"node\" id=\"node9\">\n<title>140417029335864</title>\n<polygon fill=\"none\" points=\"442.5,-498.5 442.5,-544.5 881.5,-544.5 881.5,-498.5 442.5,-498.5\" stroke=\"#000000\"/>\n<text fill=\"#000000\" font-family=\"Times,serif\" font-size=\"14.00\" text-anchor=\"middle\" x=\"594.5\" y=\"-517.8\">global_max_pooling1d_1: GlobalMaxPooling1D</text>\n<polyline fill=\"none\" points=\"746.5,-498.5 746.5,-544.5 \" stroke=\"#000000\"/>\n<text fill=\"#000000\" font-family=\"Times,serif\" font-size=\"14.00\" text-anchor=\"middle\" x=\"775.5\" y=\"-529.3\">input:</text>\n<polyline fill=\"none\" points=\"746.5,-521.5 804.5,-521.5 \" stroke=\"#000000\"/>\n<text fill=\"#000000\" font-family=\"Times,serif\" font-size=\"14.00\" text-anchor=\"middle\" x=\"775.5\" y=\"-506.3\">output:</text>\n<polyline fill=\"none\" points=\"804.5,-498.5 804.5,-544.5 \" stroke=\"#000000\"/>\n<text fill=\"#000000\" font-family=\"Times,serif\" font-size=\"14.00\" text-anchor=\"middle\" x=\"843\" y=\"-529.3\">(?, 29, 32)</text>\n<polyline fill=\"none\" points=\"804.5,-521.5 881.5,-521.5 \" stroke=\"#000000\"/>\n<text fill=\"#000000\" font-family=\"Times,serif\" font-size=\"14.00\" text-anchor=\"middle\" x=\"843\" y=\"-506.3\">(?, 32)</text>\n</g>\n<!-- 140417029384624&#45;&gt;140417029335864 -->\n<g class=\"edge\" id=\"edge8\">\n<title>140417029384624-&gt;140417029335864</title>\n<path d=\"M654.0641,-581.3799C655.1516,-573.1745 656.3982,-563.7679 657.5763,-554.8786\" fill=\"none\" stroke=\"#000000\"/>\n<polygon fill=\"#000000\" points=\"661.0699,-555.1572 658.9142,-544.784 654.1306,-554.2375 661.0699,-555.1572\" stroke=\"#000000\"/>\n</g>\n<!-- 140417029394104 -->\n<g class=\"node\" id=\"node10\">\n<title>140417029394104</title>\n<polygon fill=\"none\" points=\"203,-415.5 203,-461.5 407,-461.5 407,-415.5 203,-415.5\" stroke=\"#000000\"/>\n<text fill=\"#000000\" font-family=\"Times,serif\" font-size=\"14.00\" text-anchor=\"middle\" x=\"249\" y=\"-434.8\">dense: Dense</text>\n<polyline fill=\"none\" points=\"295,-415.5 295,-461.5 \" stroke=\"#000000\"/>\n<text fill=\"#000000\" font-family=\"Times,serif\" font-size=\"14.00\" text-anchor=\"middle\" x=\"324\" y=\"-446.3\">input:</text>\n<polyline fill=\"none\" points=\"295,-438.5 353,-438.5 \" stroke=\"#000000\"/>\n<text fill=\"#000000\" font-family=\"Times,serif\" font-size=\"14.00\" text-anchor=\"middle\" x=\"324\" y=\"-423.3\">output:</text>\n<polyline fill=\"none\" points=\"353,-415.5 353,-461.5 \" stroke=\"#000000\"/>\n<text fill=\"#000000\" font-family=\"Times,serif\" font-size=\"14.00\" text-anchor=\"middle\" x=\"380\" y=\"-446.3\">(?, 32)</text>\n<polyline fill=\"none\" points=\"353,-438.5 407,-438.5 \" stroke=\"#000000\"/>\n<text fill=\"#000000\" font-family=\"Times,serif\" font-size=\"14.00\" text-anchor=\"middle\" x=\"380\" y=\"-423.3\">(?, 64)</text>\n</g>\n<!-- 140417029398936&#45;&gt;140417029394104 -->\n<g class=\"edge\" id=\"edge9\">\n<title>140417029398936-&gt;140417029394104</title>\n<path d=\"M237.9057,-498.3799C248.1989,-489.1935 260.1792,-478.5013 271.1444,-468.7152\" fill=\"none\" stroke=\"#000000\"/>\n<polygon fill=\"#000000\" points=\"273.7804,-471.0539 278.9107,-461.784 269.1194,-465.8313 273.7804,-471.0539\" stroke=\"#000000\"/>\n</g>\n<!-- 140417029335248 -->\n<g class=\"node\" id=\"node11\">\n<title>140417029335248</title>\n<polygon fill=\"none\" points=\"540.5,-415.5 540.5,-461.5 759.5,-461.5 759.5,-415.5 540.5,-415.5\" stroke=\"#000000\"/>\n<text fill=\"#000000\" font-family=\"Times,serif\" font-size=\"14.00\" text-anchor=\"middle\" x=\"594\" y=\"-434.8\">dense_1: Dense</text>\n<polyline fill=\"none\" points=\"647.5,-415.5 647.5,-461.5 \" stroke=\"#000000\"/>\n<text fill=\"#000000\" font-family=\"Times,serif\" font-size=\"14.00\" text-anchor=\"middle\" x=\"676.5\" y=\"-446.3\">input:</text>\n<polyline fill=\"none\" points=\"647.5,-438.5 705.5,-438.5 \" stroke=\"#000000\"/>\n<text fill=\"#000000\" font-family=\"Times,serif\" font-size=\"14.00\" text-anchor=\"middle\" x=\"676.5\" y=\"-423.3\">output:</text>\n<polyline fill=\"none\" points=\"705.5,-415.5 705.5,-461.5 \" stroke=\"#000000\"/>\n<text fill=\"#000000\" font-family=\"Times,serif\" font-size=\"14.00\" text-anchor=\"middle\" x=\"732.5\" y=\"-446.3\">(?, 32)</text>\n<polyline fill=\"none\" points=\"705.5,-438.5 759.5,-438.5 \" stroke=\"#000000\"/>\n<text fill=\"#000000\" font-family=\"Times,serif\" font-size=\"14.00\" text-anchor=\"middle\" x=\"732.5\" y=\"-423.3\">(?, 64)</text>\n</g>\n<!-- 140417029335864&#45;&gt;140417029335248 -->\n<g class=\"edge\" id=\"edge10\">\n<title>140417029335864-&gt;140417029335248</title>\n<path d=\"M658.6573,-498.3799C657.471,-490.1745 656.111,-480.7679 654.8258,-471.8786\" fill=\"none\" stroke=\"#000000\"/>\n<polygon fill=\"#000000\" points=\"658.2613,-471.1803 653.3664,-461.784 651.3334,-472.1819 658.2613,-471.1803\" stroke=\"#000000\"/>\n</g>\n<!-- 140417029386080 -->\n<g class=\"node\" id=\"node12\">\n<title>140417029386080</title>\n<polygon fill=\"none\" points=\"228,-332.5 228,-378.5 474,-378.5 474,-332.5 228,-332.5\" stroke=\"#000000\"/>\n<text fill=\"#000000\" font-family=\"Times,serif\" font-size=\"14.00\" text-anchor=\"middle\" x=\"295\" y=\"-351.8\">dropout_1: Dropout</text>\n<polyline fill=\"none\" points=\"362,-332.5 362,-378.5 \" stroke=\"#000000\"/>\n<text fill=\"#000000\" font-family=\"Times,serif\" font-size=\"14.00\" text-anchor=\"middle\" x=\"391\" y=\"-363.3\">input:</text>\n<polyline fill=\"none\" points=\"362,-355.5 420,-355.5 \" stroke=\"#000000\"/>\n<text fill=\"#000000\" font-family=\"Times,serif\" font-size=\"14.00\" text-anchor=\"middle\" x=\"391\" y=\"-340.3\">output:</text>\n<polyline fill=\"none\" points=\"420,-332.5 420,-378.5 \" stroke=\"#000000\"/>\n<text fill=\"#000000\" font-family=\"Times,serif\" font-size=\"14.00\" text-anchor=\"middle\" x=\"447\" y=\"-363.3\">(?, 64)</text>\n<polyline fill=\"none\" points=\"420,-355.5 474,-355.5 \" stroke=\"#000000\"/>\n<text fill=\"#000000\" font-family=\"Times,serif\" font-size=\"14.00\" text-anchor=\"middle\" x=\"447\" y=\"-340.3\">(?, 64)</text>\n</g>\n<!-- 140417029394104&#45;&gt;140417029386080 -->\n<g class=\"edge\" id=\"edge11\">\n<title>140417029394104-&gt;140417029386080</title>\n<path d=\"M317.8136,-415.3799C322.5588,-406.8178 328.029,-396.9477 333.1419,-387.7222\" fill=\"none\" stroke=\"#000000\"/>\n<polygon fill=\"#000000\" points=\"336.3094,-389.2272 338.0956,-378.784 330.1868,-385.8339 336.3094,-389.2272\" stroke=\"#000000\"/>\n</g>\n<!-- 140417030005256 -->\n<g class=\"node\" id=\"node13\">\n<title>140417030005256</title>\n<polygon fill=\"none\" points=\"515,-332.5 515,-378.5 761,-378.5 761,-332.5 515,-332.5\" stroke=\"#000000\"/>\n<text fill=\"#000000\" font-family=\"Times,serif\" font-size=\"14.00\" text-anchor=\"middle\" x=\"582\" y=\"-351.8\">dropout_3: Dropout</text>\n<polyline fill=\"none\" points=\"649,-332.5 649,-378.5 \" stroke=\"#000000\"/>\n<text fill=\"#000000\" font-family=\"Times,serif\" font-size=\"14.00\" text-anchor=\"middle\" x=\"678\" y=\"-363.3\">input:</text>\n<polyline fill=\"none\" points=\"649,-355.5 707,-355.5 \" stroke=\"#000000\"/>\n<text fill=\"#000000\" font-family=\"Times,serif\" font-size=\"14.00\" text-anchor=\"middle\" x=\"678\" y=\"-340.3\">output:</text>\n<polyline fill=\"none\" points=\"707,-332.5 707,-378.5 \" stroke=\"#000000\"/>\n<text fill=\"#000000\" font-family=\"Times,serif\" font-size=\"14.00\" text-anchor=\"middle\" x=\"734\" y=\"-363.3\">(?, 64)</text>\n<polyline fill=\"none\" points=\"707,-355.5 761,-355.5 \" stroke=\"#000000\"/>\n<text fill=\"#000000\" font-family=\"Times,serif\" font-size=\"14.00\" text-anchor=\"middle\" x=\"734\" y=\"-340.3\">(?, 64)</text>\n</g>\n<!-- 140417029335248&#45;&gt;140417030005256 -->\n<g class=\"edge\" id=\"edge12\">\n<title>140417029335248-&gt;140417030005256</title>\n<path d=\"M646.6573,-415.3799C645.471,-407.1745 644.111,-397.7679 642.8258,-388.8786\" fill=\"none\" stroke=\"#000000\"/>\n<polygon fill=\"#000000\" points=\"646.2613,-388.1803 641.3664,-378.784 639.3334,-389.1819 646.2613,-388.1803\" stroke=\"#000000\"/>\n</g>\n<!-- 140417029707312 -->\n<g class=\"node\" id=\"node14\">\n<title>140417029707312</title>\n<polygon fill=\"none\" points=\"320,-249.5 320,-295.5 646,-295.5 646,-249.5 320,-249.5\" stroke=\"#000000\"/>\n<text fill=\"#000000\" font-family=\"Times,serif\" font-size=\"14.00\" text-anchor=\"middle\" x=\"400\" y=\"-268.8\">concatenate: Concatenate</text>\n<polyline fill=\"none\" points=\"480,-249.5 480,-295.5 \" stroke=\"#000000\"/>\n<text fill=\"#000000\" font-family=\"Times,serif\" font-size=\"14.00\" text-anchor=\"middle\" x=\"509\" y=\"-280.3\">input:</text>\n<polyline fill=\"none\" points=\"480,-272.5 538,-272.5 \" stroke=\"#000000\"/>\n<text fill=\"#000000\" font-family=\"Times,serif\" font-size=\"14.00\" text-anchor=\"middle\" x=\"509\" y=\"-257.3\">output:</text>\n<polyline fill=\"none\" points=\"538,-249.5 538,-295.5 \" stroke=\"#000000\"/>\n<text fill=\"#000000\" font-family=\"Times,serif\" font-size=\"14.00\" text-anchor=\"middle\" x=\"592\" y=\"-280.3\">[(?, 64), (?, 64)]</text>\n<polyline fill=\"none\" points=\"538,-272.5 646,-272.5 \" stroke=\"#000000\"/>\n<text fill=\"#000000\" font-family=\"Times,serif\" font-size=\"14.00\" text-anchor=\"middle\" x=\"592\" y=\"-257.3\">(?, 128)</text>\n</g>\n<!-- 140417029386080&#45;&gt;140417029707312 -->\n<g class=\"edge\" id=\"edge13\">\n<title>140417029386080-&gt;140417029707312</title>\n<path d=\"M387.7694,-332.3799C403.0883,-322.7475 421.04,-311.4597 437.2028,-301.2967\" fill=\"none\" stroke=\"#000000\"/>\n<polygon fill=\"#000000\" points=\"439.3675,-304.07 445.97,-295.784 435.6414,-298.1441 439.3675,-304.07\" stroke=\"#000000\"/>\n</g>\n<!-- 140417030005256&#45;&gt;140417029707312 -->\n<g class=\"edge\" id=\"edge14\">\n<title>140417030005256-&gt;140417029707312</title>\n<path d=\"M594.8239,-332.3799C576.342,-322.4832 554.5966,-310.8388 535.2191,-300.4625\" fill=\"none\" stroke=\"#000000\"/>\n<polygon fill=\"#000000\" points=\"536.6811,-297.2752 526.2132,-295.6399 533.3766,-303.4461 536.6811,-297.2752\" stroke=\"#000000\"/>\n</g>\n<!-- 140417029655688 -->\n<g class=\"node\" id=\"node15\">\n<title>140417029655688</title>\n<polygon fill=\"none\" points=\"369.5,-166.5 369.5,-212.5 596.5,-212.5 596.5,-166.5 369.5,-166.5\" stroke=\"#000000\"/>\n<text fill=\"#000000\" font-family=\"Times,serif\" font-size=\"14.00\" text-anchor=\"middle\" x=\"423\" y=\"-185.8\">dense_2: Dense</text>\n<polyline fill=\"none\" points=\"476.5,-166.5 476.5,-212.5 \" stroke=\"#000000\"/>\n<text fill=\"#000000\" font-family=\"Times,serif\" font-size=\"14.00\" text-anchor=\"middle\" x=\"505.5\" y=\"-197.3\">input:</text>\n<polyline fill=\"none\" points=\"476.5,-189.5 534.5,-189.5 \" stroke=\"#000000\"/>\n<text fill=\"#000000\" font-family=\"Times,serif\" font-size=\"14.00\" text-anchor=\"middle\" x=\"505.5\" y=\"-174.3\">output:</text>\n<polyline fill=\"none\" points=\"534.5,-166.5 534.5,-212.5 \" stroke=\"#000000\"/>\n<text fill=\"#000000\" font-family=\"Times,serif\" font-size=\"14.00\" text-anchor=\"middle\" x=\"565.5\" y=\"-197.3\">(?, 128)</text>\n<polyline fill=\"none\" points=\"534.5,-189.5 596.5,-189.5 \" stroke=\"#000000\"/>\n<text fill=\"#000000\" font-family=\"Times,serif\" font-size=\"14.00\" text-anchor=\"middle\" x=\"565.5\" y=\"-174.3\">(?, 64)</text>\n</g>\n<!-- 140417029707312&#45;&gt;140417029655688 -->\n<g class=\"edge\" id=\"edge15\">\n<title>140417029707312-&gt;140417029655688</title>\n<path d=\"M483,-249.3799C483,-241.1745 483,-231.7679 483,-222.8786\" fill=\"none\" stroke=\"#000000\"/>\n<polygon fill=\"#000000\" points=\"486.5001,-222.784 483,-212.784 479.5001,-222.784 486.5001,-222.784\" stroke=\"#000000\"/>\n</g>\n<!-- 140417306312096 -->\n<g class=\"node\" id=\"node16\">\n<title>140417306312096</title>\n<polygon fill=\"none\" points=\"360,-83.5 360,-129.5 606,-129.5 606,-83.5 360,-83.5\" stroke=\"#000000\"/>\n<text fill=\"#000000\" font-family=\"Times,serif\" font-size=\"14.00\" text-anchor=\"middle\" x=\"427\" y=\"-102.8\">dropout_4: Dropout</text>\n<polyline fill=\"none\" points=\"494,-83.5 494,-129.5 \" stroke=\"#000000\"/>\n<text fill=\"#000000\" font-family=\"Times,serif\" font-size=\"14.00\" text-anchor=\"middle\" x=\"523\" y=\"-114.3\">input:</text>\n<polyline fill=\"none\" points=\"494,-106.5 552,-106.5 \" stroke=\"#000000\"/>\n<text fill=\"#000000\" font-family=\"Times,serif\" font-size=\"14.00\" text-anchor=\"middle\" x=\"523\" y=\"-91.3\">output:</text>\n<polyline fill=\"none\" points=\"552,-83.5 552,-129.5 \" stroke=\"#000000\"/>\n<text fill=\"#000000\" font-family=\"Times,serif\" font-size=\"14.00\" text-anchor=\"middle\" x=\"579\" y=\"-114.3\">(?, 64)</text>\n<polyline fill=\"none\" points=\"552,-106.5 606,-106.5 \" stroke=\"#000000\"/>\n<text fill=\"#000000\" font-family=\"Times,serif\" font-size=\"14.00\" text-anchor=\"middle\" x=\"579\" y=\"-91.3\">(?, 64)</text>\n</g>\n<!-- 140417029655688&#45;&gt;140417306312096 -->\n<g class=\"edge\" id=\"edge16\">\n<title>140417029655688-&gt;140417306312096</title>\n<path d=\"M483,-166.3799C483,-158.1745 483,-148.7679 483,-139.8786\" fill=\"none\" stroke=\"#000000\"/>\n<polygon fill=\"#000000\" points=\"486.5001,-139.784 483,-129.784 479.5001,-139.784 486.5001,-139.784\" stroke=\"#000000\"/>\n</g>\n<!-- 140417306312376 -->\n<g class=\"node\" id=\"node17\">\n<title>140417306312376</title>\n<polygon fill=\"none\" points=\"373.5,-.5 373.5,-46.5 592.5,-46.5 592.5,-.5 373.5,-.5\" stroke=\"#000000\"/>\n<text fill=\"#000000\" font-family=\"Times,serif\" font-size=\"14.00\" text-anchor=\"middle\" x=\"427\" y=\"-19.8\">dense_3: Dense</text>\n<polyline fill=\"none\" points=\"480.5,-.5 480.5,-46.5 \" stroke=\"#000000\"/>\n<text fill=\"#000000\" font-family=\"Times,serif\" font-size=\"14.00\" text-anchor=\"middle\" x=\"509.5\" y=\"-31.3\">input:</text>\n<polyline fill=\"none\" points=\"480.5,-23.5 538.5,-23.5 \" stroke=\"#000000\"/>\n<text fill=\"#000000\" font-family=\"Times,serif\" font-size=\"14.00\" text-anchor=\"middle\" x=\"509.5\" y=\"-8.3\">output:</text>\n<polyline fill=\"none\" points=\"538.5,-.5 538.5,-46.5 \" stroke=\"#000000\"/>\n<text fill=\"#000000\" font-family=\"Times,serif\" font-size=\"14.00\" text-anchor=\"middle\" x=\"565.5\" y=\"-31.3\">(?, 64)</text>\n<polyline fill=\"none\" points=\"538.5,-23.5 592.5,-23.5 \" stroke=\"#000000\"/>\n<text fill=\"#000000\" font-family=\"Times,serif\" font-size=\"14.00\" text-anchor=\"middle\" x=\"565.5\" y=\"-8.3\">(?, 1)</text>\n</g>\n<!-- 140417306312096&#45;&gt;140417306312376 -->\n<g class=\"edge\" id=\"edge17\">\n<title>140417306312096-&gt;140417306312376</title>\n<path d=\"M483,-83.3799C483,-75.1745 483,-65.7679 483,-56.8786\" fill=\"none\" stroke=\"#000000\"/>\n<polygon fill=\"#000000\" points=\"486.5001,-56.784 483,-46.784 479.5001,-56.784 486.5001,-56.784\" stroke=\"#000000\"/>\n</g>\n</g>\n</svg>"
          },
          "metadata": {
            "tags": []
          },
          "execution_count": 86
        }
      ]
    },
    {
      "cell_type": "code",
      "metadata": {
        "id": "AFQkIax4Ozpu",
        "colab_type": "code",
        "colab": {
          "base_uri": "https://localhost:8080/",
          "height": 737
        },
        "outputId": "a4f258f9-49b5-4357-fdcf-42eac067afcb"
      },
      "source": [
        "# 모델 학습\n",
        "y_train = y_train.reshape(-1, 1)\n",
        "y_test = y_test.reshape(-1, 1)\n",
        "hist = model.fit([X_train_1, X_train_2], y_train,\n",
        "                 validation_data=([X_test_1, X_test_2], y_test),\n",
        "                 batch_size=1000,\n",
        "                 epochs=20)"
      ],
      "execution_count": null,
      "outputs": [
        {
          "output_type": "stream",
          "text": [
            "Epoch 1/20\n",
            "239/239 [==============================] - 20s 82ms/step - loss: 1.0589 - val_loss: 0.7250\n",
            "Epoch 2/20\n",
            "239/239 [==============================] - 19s 78ms/step - loss: 0.6281 - val_loss: 0.5760\n",
            "Epoch 3/20\n",
            "239/239 [==============================] - 18s 77ms/step - loss: 0.5387 - val_loss: 0.5504\n",
            "Epoch 4/20\n",
            "239/239 [==============================] - 18s 77ms/step - loss: 0.5052 - val_loss: 0.5460\n",
            "Epoch 5/20\n",
            "239/239 [==============================] - 18s 77ms/step - loss: 0.4833 - val_loss: 0.5481\n",
            "Epoch 6/20\n",
            "239/239 [==============================] - 18s 76ms/step - loss: 0.4649 - val_loss: 0.5527\n",
            "Epoch 7/20\n",
            "239/239 [==============================] - 18s 77ms/step - loss: 0.4486 - val_loss: 0.5611\n",
            "Epoch 8/20\n",
            "239/239 [==============================] - 19s 79ms/step - loss: 0.4339 - val_loss: 0.5619\n",
            "Epoch 9/20\n",
            "239/239 [==============================] - 19s 79ms/step - loss: 0.4211 - val_loss: 0.5673\n",
            "Epoch 10/20\n",
            "239/239 [==============================] - 19s 78ms/step - loss: 0.4092 - val_loss: 0.5747\n",
            "Epoch 11/20\n",
            "239/239 [==============================] - 19s 78ms/step - loss: 0.3983 - val_loss: 0.5780\n",
            "Epoch 12/20\n",
            "239/239 [==============================] - 19s 80ms/step - loss: 0.3885 - val_loss: 0.5874\n",
            "Epoch 13/20\n",
            "239/239 [==============================] - 19s 78ms/step - loss: 0.3783 - val_loss: 0.5951\n",
            "Epoch 14/20\n",
            "239/239 [==============================] - 19s 78ms/step - loss: 0.3711 - val_loss: 0.6060\n",
            "Epoch 15/20\n",
            "239/239 [==============================] - 19s 78ms/step - loss: 0.3639 - val_loss: 0.6132\n",
            "Epoch 16/20\n",
            "239/239 [==============================] - 18s 77ms/step - loss: 0.3569 - val_loss: 0.6140\n",
            "Epoch 17/20\n",
            "239/239 [==============================] - 18s 77ms/step - loss: 0.3497 - val_loss: 0.6280\n",
            "Epoch 18/20\n",
            "239/239 [==============================] - 20s 83ms/step - loss: 0.3421 - val_loss: 0.6267\n",
            "Epoch 19/20\n",
            "239/239 [==============================] - 18s 77ms/step - loss: 0.3373 - val_loss: 0.6318\n",
            "Epoch 20/20\n",
            "239/239 [==============================] - 19s 77ms/step - loss: 0.3305 - val_loss: 0.6465\n"
          ],
          "name": "stdout"
        }
      ]
    },
    {
      "cell_type": "code",
      "metadata": {
        "id": "Mf-69j20Ozxk",
        "colab_type": "code",
        "colab": {
          "base_uri": "https://localhost:8080/",
          "height": 295
        },
        "outputId": "dfeee065-1434-4742-d862-68aa6fbeba6f"
      },
      "source": [
        "# loss 시각화\n",
        "plt.plot(hist.history['loss'], label='Train loss')\n",
        "plt.plot(hist.history['val_loss'], label = 'Test loss')\n",
        "plt.legend()\n",
        "plt.title(\"Loss Trajectory\")\n",
        "plt.xlabel(\"epochs\")\n",
        "plt.ylabel(\"loss\")\n",
        "plt.show()"
      ],
      "execution_count": null,
      "outputs": [
        {
          "output_type": "display_data",
          "data": {
            "image/png": "[encoded data removed]",
            "text/plain": [
              "<Figure size 432x288 with 1 Axes>"
            ]
          },
          "metadata": {
            "tags": [],
            "needs_background": "light"
          }
        }
      ]
    },
    {
      "cell_type": "code",
      "metadata": {
        "id": "3BOTA55ZOzuz",
        "colab_type": "code",
        "colab": {
          "base_uri": "https://localhost:8080/"
        },
        "outputId": "7298591d-6b62-40e9-f6ac-d7c343b40be5"
      },
      "source": [
        "# 예측 및 결과 확인\n",
        "y_pred = model.predict([X_test_1, X_test_2])\n",
        "y_pred = np.where(y_pred > 0.5, 1, 0)\n",
        "accuracy = (y_test == y_pred).mean()\n",
        "print(f\"Test Accuracy: {accuracy}\")"
      ],
      "execution_count": null,
      "outputs": [
        {
          "output_type": "stream",
          "text": [
            "Test Accuracy: 0.7364499439077072\n"
          ],
          "name": "stdout"
        }
      ]
    },
    {
      "cell_type": "markdown",
      "metadata": {
        "id": "ncv8d9P-yTid",
        "colab_type": "text"
      },
      "source": [
        "### 3.3. maLSTM\n",
        "- 임베딩 레이어를 공통으로 구성한다.\n",
        "- LSTM 네트워크를 통과한 후 각각의 latent feature 간 유클리디안 거리를 측정한다. 이를 유사도 측정의 기준으로 삼는다.\n",
        "- 유클리디안 거리를 측정하기 위해 `backend` 기능을 사용한다.\n",
        "- 유클리디안 거리의 기준을 0.5로 삼아도 되는가에 대한 질문이 있었다.\n"
      ]
    },
    {
      "cell_type": "code",
      "metadata": {
        "id": "KNXP4pHcOzZP",
        "colab_type": "code",
        "colab": {}
      },
      "source": [
        "# 데이터 분리\n",
        "X_train_1, X_test_1, X_train_2, X_test_2, y_train, y_test = train_test_split(q1_data, q2_data, train_labels,\n",
        "                                                                             test_size=0.2,\n",
        "                                                                             random_state=42)"
      ],
      "execution_count": null,
      "outputs": []
    },
    {
      "cell_type": "code",
      "metadata": {
        "id": "OC3LvWMhOzRm",
        "colab_type": "code",
        "colab": {
          "base_uri": "https://localhost:8080/",
          "height": 71
        },
        "outputId": "d8a97190-f93f-4167-92cf-db4e4ee2dcf2"
      },
      "source": [
        "# LSTM 네트워크 파라미터\n",
        "vocab_size = np.max([q1_data, q2_data]) + 1 # 패딩용 추가\n",
        "EMB_SIZE = int(input('임베딩 차원 설정: '))\n",
        "n_hidden =  int(input('은닉 노드 수 설정: '))\n",
        "n_feature = int(input('latent feature 차원 수 설정: '))"
      ],
      "execution_count": null,
      "outputs": [
        {
          "output_type": "stream",
          "text": [
            "임베딩 차원 설정: 16\n",
            "은닉 노드 수 설정: 10\n",
            "latent feature 차원 수 설정: 10\n"
          ],
          "name": "stdout"
        }
      ]
    },
    {
      "cell_type": "code",
      "metadata": {
        "id": "NnMJeKeXOy6A",
        "colab_type": "code",
        "colab": {
          "base_uri": "https://localhost:8080/",
          "height": 1000
        },
        "outputId": "7497ed87-22a1-4a3e-acc6-c258ebc61edf"
      },
      "source": [
        "K.clear_session()\n",
        "\n",
        "# LSTM 네트워크 구성\n",
        "X_input_1 = Input(batch_shape=(None, X_train_1.shape[1]))\n",
        "X_input_2 = Input(batch_shape=(None, X_train_2.shape[1]))\n",
        "\n",
        "X_embed = Embedding(input_dim = vocab_size, output_dim = EMB_SIZE)\n",
        "\n",
        "X_embed_1 = X_embed(X_input_1)\n",
        "X_embed_1 = Dropout(0.2)(X_embed_1)\n",
        "X_lstm_1 = LSTM(n_hidden)(X_embed_1)\n",
        "X_dense_1 = Dense(n_feature, activation='relu', kernel_regularizer=l2(0.005))(X_lstm_1)\n",
        "X_dense_1 = Dropout(0.2)(X_dense_1)\n",
        "\n",
        "X_embed_2 = X_embed(X_input_2)\n",
        "X_embed_2 = Dropout(0.2)(X_embed_2)\n",
        "X_lstm_2 = LSTM(n_hidden)(X_embed_2)\n",
        "X_dense_2 = Dense(n_feature, activation='relu', kernel_regularizer=l2(0.005))(X_lstm_2)\n",
        "X_dense_2 = Dropout(0.2)(X_dense_2)\n",
        "\n",
        "y_manhattan_dist = K.exp(-K.sum(K.abs(X_dense_1 - X_dense_2), axis=1, keepdims=True)) # 각 출력으로 맨하탄 거리 계산\n",
        "\n",
        "# 모델 구성\n",
        "model = Model([X_input_1, X_input_2], y_manhattan_dist)\n",
        "model.compile(loss='mean_squared_error', optimizer=Adam(lr=0.0005))\n",
        "print(\"========== 모델 전체 구조 확인 ==========\")\n",
        "print(model.summary())\n",
        "SVG(model_to_dot(model, show_shapes= True, show_layer_names=True, dpi=65).create(prog='dot', format='svg'))"
      ],
      "execution_count": null,
      "outputs": [
        {
          "output_type": "stream",
          "text": [
            "========== 모델 전체 구조 확인 ==========\n",
            "Model: \"functional_1\"\n",
            "__________________________________________________________________________________________________\n",
            "Layer (type)                    Output Shape         Param #     Connected to                     \n",
            "==================================================================================================\n",
            "input_1 (InputLayer)            [(None, 31)]         0                                            \n",
            "__________________________________________________________________________________________________\n",
            "input_2 (InputLayer)            [(None, 31)]         0                                            \n",
            "__________________________________________________________________________________________________\n",
            "embedding (Embedding)           (None, 31, 16)       1223648     input_1[0][0]                    \n",
            "                                                                 input_2[0][0]                    \n",
            "__________________________________________________________________________________________________\n",
            "dropout (Dropout)               (None, 31, 16)       0           embedding[0][0]                  \n",
            "__________________________________________________________________________________________________\n",
            "dropout_2 (Dropout)             (None, 31, 16)       0           embedding[1][0]                  \n",
            "__________________________________________________________________________________________________\n",
            "lstm (LSTM)                     (None, 10)           1080        dropout[0][0]                    \n",
            "__________________________________________________________________________________________________\n",
            "lstm_1 (LSTM)                   (None, 10)           1080        dropout_2[0][0]                  \n",
            "__________________________________________________________________________________________________\n",
            "dense (Dense)                   (None, 10)           110         lstm[0][0]                       \n",
            "__________________________________________________________________________________________________\n",
            "dense_1 (Dense)                 (None, 10)           110         lstm_1[0][0]                     \n",
            "__________________________________________________________________________________________________\n",
            "dropout_1 (Dropout)             (None, 10)           0           dense[0][0]                      \n",
            "__________________________________________________________________________________________________\n",
            "dropout_3 (Dropout)             (None, 10)           0           dense_1[0][0]                    \n",
            "__________________________________________________________________________________________________\n",
            "tf_op_layer_Sub (TensorFlowOpLa [(None, 10)]         0           dropout_1[0][0]                  \n",
            "                                                                 dropout_3[0][0]                  \n",
            "__________________________________________________________________________________________________\n",
            "tf_op_layer_Abs (TensorFlowOpLa [(None, 10)]         0           tf_op_layer_Sub[0][0]            \n",
            "__________________________________________________________________________________________________\n",
            "tf_op_layer_Sum (TensorFlowOpLa [(None, 1)]          0           tf_op_layer_Abs[0][0]            \n",
            "__________________________________________________________________________________________________\n",
            "tf_op_layer_Neg (TensorFlowOpLa [(None, 1)]          0           tf_op_layer_Sum[0][0]            \n",
            "__________________________________________________________________________________________________\n",
            "tf_op_layer_Exp (TensorFlowOpLa [(None, 1)]          0           tf_op_layer_Neg[0][0]            \n",
            "==================================================================================================\n",
            "Total params: 1,226,028\n",
            "Trainable params: 1,226,028\n",
            "Non-trainable params: 0\n",
            "__________________________________________________________________________________________________\n",
            "None\n"
          ],
          "name": "stdout"
        },
        {
          "output_type": "execute_result",
          "data": {
            "text/plain": [
              "<IPython.core.display.SVG object>"
            ],
            "image/svg+xml": "<svg height=\"799pt\" viewBox=\"0.00 0.00 549.50 885.00\" width=\"496pt\" xmlns=\"http://www.w3.org/2000/svg\" xmlns:xlink=\"http://www.w3.org/1999/xlink\">\n<g class=\"graph\" id=\"graph0\" transform=\"scale(.9028 .9028) rotate(0) translate(4 881)\">\n<title>G</title>\n<polygon fill=\"#ffffff\" points=\"-4,4 -4,-881 545.5,-881 545.5,4 -4,4\" stroke=\"transparent\"/>\n<!-- 140417020387904 -->\n<g class=\"node\" id=\"node1\">\n<title>140417020387904</title>\n<polygon fill=\"none\" points=\"4,-830.5 4,-876.5 258,-876.5 258,-830.5 4,-830.5\" stroke=\"#000000\"/>\n<text fill=\"#000000\" font-family=\"Times,serif\" font-size=\"14.00\" text-anchor=\"middle\" x=\"70.5\" y=\"-849.8\">input_1: InputLayer</text>\n<polyline fill=\"none\" points=\"137,-830.5 137,-876.5 \" stroke=\"#000000\"/>\n<text fill=\"#000000\" font-family=\"Times,serif\" font-size=\"14.00\" text-anchor=\"middle\" x=\"166\" y=\"-861.3\">input:</text>\n<polyline fill=\"none\" points=\"137,-853.5 195,-853.5 \" stroke=\"#000000\"/>\n<text fill=\"#000000\" font-family=\"Times,serif\" font-size=\"14.00\" text-anchor=\"middle\" x=\"166\" y=\"-838.3\">output:</text>\n<polyline fill=\"none\" points=\"195,-830.5 195,-876.5 \" stroke=\"#000000\"/>\n<text fill=\"#000000\" font-family=\"Times,serif\" font-size=\"14.00\" text-anchor=\"middle\" x=\"226.5\" y=\"-861.3\">[(?, 31)]</text>\n<polyline fill=\"none\" points=\"195,-853.5 258,-853.5 \" stroke=\"#000000\"/>\n<text fill=\"#000000\" font-family=\"Times,serif\" font-size=\"14.00\" text-anchor=\"middle\" x=\"226.5\" y=\"-838.3\">[(?, 31)]</text>\n</g>\n<!-- 140417020390872 -->\n<g class=\"node\" id=\"node3\">\n<title>140417020390872</title>\n<polygon fill=\"none\" points=\"121.5,-747.5 121.5,-793.5 412.5,-793.5 412.5,-747.5 121.5,-747.5\" stroke=\"#000000\"/>\n<text fill=\"#000000\" font-family=\"Times,serif\" font-size=\"14.00\" text-anchor=\"middle\" x=\"199.5\" y=\"-766.8\">embedding: Embedding</text>\n<polyline fill=\"none\" points=\"277.5,-747.5 277.5,-793.5 \" stroke=\"#000000\"/>\n<text fill=\"#000000\" font-family=\"Times,serif\" font-size=\"14.00\" text-anchor=\"middle\" x=\"306.5\" y=\"-778.3\">input:</text>\n<polyline fill=\"none\" points=\"277.5,-770.5 335.5,-770.5 \" stroke=\"#000000\"/>\n<text fill=\"#000000\" font-family=\"Times,serif\" font-size=\"14.00\" text-anchor=\"middle\" x=\"306.5\" y=\"-755.3\">output:</text>\n<polyline fill=\"none\" points=\"335.5,-747.5 335.5,-793.5 \" stroke=\"#000000\"/>\n<text fill=\"#000000\" font-family=\"Times,serif\" font-size=\"14.00\" text-anchor=\"middle\" x=\"374\" y=\"-778.3\">(?, 31)</text>\n<polyline fill=\"none\" points=\"335.5,-770.5 412.5,-770.5 \" stroke=\"#000000\"/>\n<text fill=\"#000000\" font-family=\"Times,serif\" font-size=\"14.00\" text-anchor=\"middle\" x=\"374\" y=\"-755.3\">(?, 31, 16)</text>\n</g>\n<!-- 140417020387904&#45;&gt;140417020390872 -->\n<g class=\"edge\" id=\"edge1\">\n<title>140417020387904-&gt;140417020390872</title>\n<path d=\"M168.8836,-830.3799C184.8128,-820.6583 203.5052,-809.2505 220.2771,-799.0147\" fill=\"none\" stroke=\"#000000\"/>\n<polygon fill=\"#000000\" points=\"222.1353,-801.9811 228.8479,-793.784 218.4886,-796.0059 222.1353,-801.9811\" stroke=\"#000000\"/>\n</g>\n<!-- 140417019954624 -->\n<g class=\"node\" id=\"node2\">\n<title>140417019954624</title>\n<polygon fill=\"none\" points=\"276,-830.5 276,-876.5 530,-876.5 530,-830.5 276,-830.5\" stroke=\"#000000\"/>\n<text fill=\"#000000\" font-family=\"Times,serif\" font-size=\"14.00\" text-anchor=\"middle\" x=\"342.5\" y=\"-849.8\">input_2: InputLayer</text>\n<polyline fill=\"none\" points=\"409,-830.5 409,-876.5 \" stroke=\"#000000\"/>\n<text fill=\"#000000\" font-family=\"Times,serif\" font-size=\"14.00\" text-anchor=\"middle\" x=\"438\" y=\"-861.3\">input:</text>\n<polyline fill=\"none\" points=\"409,-853.5 467,-853.5 \" stroke=\"#000000\"/>\n<text fill=\"#000000\" font-family=\"Times,serif\" font-size=\"14.00\" text-anchor=\"middle\" x=\"438\" y=\"-838.3\">output:</text>\n<polyline fill=\"none\" points=\"467,-830.5 467,-876.5 \" stroke=\"#000000\"/>\n<text fill=\"#000000\" font-family=\"Times,serif\" font-size=\"14.00\" text-anchor=\"middle\" x=\"498.5\" y=\"-861.3\">[(?, 31)]</text>\n<polyline fill=\"none\" points=\"467,-853.5 530,-853.5 \" stroke=\"#000000\"/>\n<text fill=\"#000000\" font-family=\"Times,serif\" font-size=\"14.00\" text-anchor=\"middle\" x=\"498.5\" y=\"-838.3\">[(?, 31)]</text>\n</g>\n<!-- 140417019954624&#45;&gt;140417020390872 -->\n<g class=\"edge\" id=\"edge2\">\n<title>140417019954624-&gt;140417020390872</title>\n<path d=\"M365.1164,-830.3799C349.1872,-820.6583 330.4948,-809.2505 313.7229,-799.0147\" fill=\"none\" stroke=\"#000000\"/>\n<polygon fill=\"#000000\" points=\"315.5114,-796.0059 305.1521,-793.784 311.8647,-801.9811 315.5114,-796.0059\" stroke=\"#000000\"/>\n</g>\n<!-- 140417814609200 -->\n<g class=\"node\" id=\"node4\">\n<title>140417814609200</title>\n<polygon fill=\"none\" points=\"0,-664.5 0,-710.5 254,-710.5 254,-664.5 0,-664.5\" stroke=\"#000000\"/>\n<text fill=\"#000000\" font-family=\"Times,serif\" font-size=\"14.00\" text-anchor=\"middle\" x=\"59.5\" y=\"-683.8\">dropout: Dropout</text>\n<polyline fill=\"none\" points=\"119,-664.5 119,-710.5 \" stroke=\"#000000\"/>\n<text fill=\"#000000\" font-family=\"Times,serif\" font-size=\"14.00\" text-anchor=\"middle\" x=\"148\" y=\"-695.3\">input:</text>\n<polyline fill=\"none\" points=\"119,-687.5 177,-687.5 \" stroke=\"#000000\"/>\n<text fill=\"#000000\" font-family=\"Times,serif\" font-size=\"14.00\" text-anchor=\"middle\" x=\"148\" y=\"-672.3\">output:</text>\n<polyline fill=\"none\" points=\"177,-664.5 177,-710.5 \" stroke=\"#000000\"/>\n<text fill=\"#000000\" font-family=\"Times,serif\" font-size=\"14.00\" text-anchor=\"middle\" x=\"215.5\" y=\"-695.3\">(?, 31, 16)</text>\n<polyline fill=\"none\" points=\"177,-687.5 254,-687.5 \" stroke=\"#000000\"/>\n<text fill=\"#000000\" font-family=\"Times,serif\" font-size=\"14.00\" text-anchor=\"middle\" x=\"215.5\" y=\"-672.3\">(?, 31, 16)</text>\n</g>\n<!-- 140417020390872&#45;&gt;140417814609200 -->\n<g class=\"edge\" id=\"edge3\">\n<title>140417020390872-&gt;140417814609200</title>\n<path d=\"M228.0022,-747.3799C211.6044,-737.6583 192.3623,-726.2505 175.0971,-716.0147\" fill=\"none\" stroke=\"#000000\"/>\n<polygon fill=\"#000000\" points=\"176.6611,-712.8731 166.2742,-710.784 173.0912,-718.8944 176.6611,-712.8731\" stroke=\"#000000\"/>\n</g>\n<!-- 140417019912432 -->\n<g class=\"node\" id=\"node5\">\n<title>140417019912432</title>\n<polygon fill=\"none\" points=\"272.5,-664.5 272.5,-710.5 541.5,-710.5 541.5,-664.5 272.5,-664.5\" stroke=\"#000000\"/>\n<text fill=\"#000000\" font-family=\"Times,serif\" font-size=\"14.00\" text-anchor=\"middle\" x=\"339.5\" y=\"-683.8\">dropout_2: Dropout</text>\n<polyline fill=\"none\" points=\"406.5,-664.5 406.5,-710.5 \" stroke=\"#000000\"/>\n<text fill=\"#000000\" font-family=\"Times,serif\" font-size=\"14.00\" text-anchor=\"middle\" x=\"435.5\" y=\"-695.3\">input:</text>\n<polyline fill=\"none\" points=\"406.5,-687.5 464.5,-687.5 \" stroke=\"#000000\"/>\n<text fill=\"#000000\" font-family=\"Times,serif\" font-size=\"14.00\" text-anchor=\"middle\" x=\"435.5\" y=\"-672.3\">output:</text>\n<polyline fill=\"none\" points=\"464.5,-664.5 464.5,-710.5 \" stroke=\"#000000\"/>\n<text fill=\"#000000\" font-family=\"Times,serif\" font-size=\"14.00\" text-anchor=\"middle\" x=\"503\" y=\"-695.3\">(?, 31, 16)</text>\n<polyline fill=\"none\" points=\"464.5,-687.5 541.5,-687.5 \" stroke=\"#000000\"/>\n<text fill=\"#000000\" font-family=\"Times,serif\" font-size=\"14.00\" text-anchor=\"middle\" x=\"503\" y=\"-672.3\">(?, 31, 16)</text>\n</g>\n<!-- 140417020390872&#45;&gt;140417019912432 -->\n<g class=\"edge\" id=\"edge4\">\n<title>140417020390872-&gt;140417019912432</title>\n<path d=\"M305.9978,-747.3799C322.3956,-737.6583 341.6377,-726.2505 358.9029,-716.0147\" fill=\"none\" stroke=\"#000000\"/>\n<polygon fill=\"#000000\" points=\"360.9088,-718.8944 367.7258,-710.784 357.3389,-712.8731 360.9088,-718.8944\" stroke=\"#000000\"/>\n</g>\n<!-- 140417020388072 -->\n<g class=\"node\" id=\"node6\">\n<title>140417020388072</title>\n<polygon fill=\"none\" points=\"24,-581.5 24,-627.5 246,-627.5 246,-581.5 24,-581.5\" stroke=\"#000000\"/>\n<text fill=\"#000000\" font-family=\"Times,serif\" font-size=\"14.00\" text-anchor=\"middle\" x=\"67.5\" y=\"-600.8\">lstm: LSTM</text>\n<polyline fill=\"none\" points=\"111,-581.5 111,-627.5 \" stroke=\"#000000\"/>\n<text fill=\"#000000\" font-family=\"Times,serif\" font-size=\"14.00\" text-anchor=\"middle\" x=\"140\" y=\"-612.3\">input:</text>\n<polyline fill=\"none\" points=\"111,-604.5 169,-604.5 \" stroke=\"#000000\"/>\n<text fill=\"#000000\" font-family=\"Times,serif\" font-size=\"14.00\" text-anchor=\"middle\" x=\"140\" y=\"-589.3\">output:</text>\n<polyline fill=\"none\" points=\"169,-581.5 169,-627.5 \" stroke=\"#000000\"/>\n<text fill=\"#000000\" font-family=\"Times,serif\" font-size=\"14.00\" text-anchor=\"middle\" x=\"207.5\" y=\"-612.3\">(?, 31, 16)</text>\n<polyline fill=\"none\" points=\"169,-604.5 246,-604.5 \" stroke=\"#000000\"/>\n<text fill=\"#000000\" font-family=\"Times,serif\" font-size=\"14.00\" text-anchor=\"middle\" x=\"207.5\" y=\"-589.3\">(?, 10)</text>\n</g>\n<!-- 140417814609200&#45;&gt;140417020388072 -->\n<g class=\"edge\" id=\"edge5\">\n<title>140417814609200-&gt;140417020388072</title>\n<path d=\"M129.2284,-664.3799C130.0193,-656.1745 130.926,-646.7679 131.7828,-637.8786\" fill=\"none\" stroke=\"#000000\"/>\n<polygon fill=\"#000000\" points=\"135.2801,-638.0737 132.7558,-627.784 128.3124,-637.4021 135.2801,-638.0737\" stroke=\"#000000\"/>\n</g>\n<!-- 140417019912264 -->\n<g class=\"node\" id=\"node7\">\n<title>140417019912264</title>\n<polygon fill=\"none\" points=\"287.5,-581.5 287.5,-627.5 524.5,-627.5 524.5,-581.5 287.5,-581.5\" stroke=\"#000000\"/>\n<text fill=\"#000000\" font-family=\"Times,serif\" font-size=\"14.00\" text-anchor=\"middle\" x=\"338.5\" y=\"-600.8\">lstm_1: LSTM</text>\n<polyline fill=\"none\" points=\"389.5,-581.5 389.5,-627.5 \" stroke=\"#000000\"/>\n<text fill=\"#000000\" font-family=\"Times,serif\" font-size=\"14.00\" text-anchor=\"middle\" x=\"418.5\" y=\"-612.3\">input:</text>\n<polyline fill=\"none\" points=\"389.5,-604.5 447.5,-604.5 \" stroke=\"#000000\"/>\n<text fill=\"#000000\" font-family=\"Times,serif\" font-size=\"14.00\" text-anchor=\"middle\" x=\"418.5\" y=\"-589.3\">output:</text>\n<polyline fill=\"none\" points=\"447.5,-581.5 447.5,-627.5 \" stroke=\"#000000\"/>\n<text fill=\"#000000\" font-family=\"Times,serif\" font-size=\"14.00\" text-anchor=\"middle\" x=\"486\" y=\"-612.3\">(?, 31, 16)</text>\n<polyline fill=\"none\" points=\"447.5,-604.5 524.5,-604.5 \" stroke=\"#000000\"/>\n<text fill=\"#000000\" font-family=\"Times,serif\" font-size=\"14.00\" text-anchor=\"middle\" x=\"486\" y=\"-589.3\">(?, 10)</text>\n</g>\n<!-- 140417019912432&#45;&gt;140417019912264 -->\n<g class=\"edge\" id=\"edge6\">\n<title>140417019912432-&gt;140417019912264</title>\n<path d=\"M406.7214,-664.3799C406.6226,-656.1745 406.5093,-646.7679 406.4022,-637.8786\" fill=\"none\" stroke=\"#000000\"/>\n<polygon fill=\"#000000\" points=\"409.9008,-637.7411 406.2805,-627.784 402.9014,-637.8255 409.9008,-637.7411\" stroke=\"#000000\"/>\n</g>\n<!-- 140417020412928 -->\n<g class=\"node\" id=\"node8\">\n<title>140417020412928</title>\n<polygon fill=\"none\" points=\"37,-498.5 37,-544.5 241,-544.5 241,-498.5 37,-498.5\" stroke=\"#000000\"/>\n<text fill=\"#000000\" font-family=\"Times,serif\" font-size=\"14.00\" text-anchor=\"middle\" x=\"83\" y=\"-517.8\">dense: Dense</text>\n<polyline fill=\"none\" points=\"129,-498.5 129,-544.5 \" stroke=\"#000000\"/>\n<text fill=\"#000000\" font-family=\"Times,serif\" font-size=\"14.00\" text-anchor=\"middle\" x=\"158\" y=\"-529.3\">input:</text>\n<polyline fill=\"none\" points=\"129,-521.5 187,-521.5 \" stroke=\"#000000\"/>\n<text fill=\"#000000\" font-family=\"Times,serif\" font-size=\"14.00\" text-anchor=\"middle\" x=\"158\" y=\"-506.3\">output:</text>\n<polyline fill=\"none\" points=\"187,-498.5 187,-544.5 \" stroke=\"#000000\"/>\n<text fill=\"#000000\" font-family=\"Times,serif\" font-size=\"14.00\" text-anchor=\"middle\" x=\"214\" y=\"-529.3\">(?, 10)</text>\n<polyline fill=\"none\" points=\"187,-521.5 241,-521.5 \" stroke=\"#000000\"/>\n<text fill=\"#000000\" font-family=\"Times,serif\" font-size=\"14.00\" text-anchor=\"middle\" x=\"214\" y=\"-506.3\">(?, 10)</text>\n</g>\n<!-- 140417020388072&#45;&gt;140417020412928 -->\n<g class=\"edge\" id=\"edge7\">\n<title>140417020388072-&gt;140417020412928</title>\n<path d=\"M136.1142,-581.3799C136.5097,-573.1745 136.963,-563.7679 137.3914,-554.8786\" fill=\"none\" stroke=\"#000000\"/>\n<polygon fill=\"#000000\" points=\"140.8924,-554.9409 137.8779,-544.784 133.9005,-554.6039 140.8924,-554.9409\" stroke=\"#000000\"/>\n</g>\n<!-- 140417018863064 -->\n<g class=\"node\" id=\"node9\">\n<title>140417018863064</title>\n<polygon fill=\"none\" points=\"296.5,-498.5 296.5,-544.5 515.5,-544.5 515.5,-498.5 296.5,-498.5\" stroke=\"#000000\"/>\n<text fill=\"#000000\" font-family=\"Times,serif\" font-size=\"14.00\" text-anchor=\"middle\" x=\"350\" y=\"-517.8\">dense_1: Dense</text>\n<polyline fill=\"none\" points=\"403.5,-498.5 403.5,-544.5 \" stroke=\"#000000\"/>\n<text fill=\"#000000\" font-family=\"Times,serif\" font-size=\"14.00\" text-anchor=\"middle\" x=\"432.5\" y=\"-529.3\">input:</text>\n<polyline fill=\"none\" points=\"403.5,-521.5 461.5,-521.5 \" stroke=\"#000000\"/>\n<text fill=\"#000000\" font-family=\"Times,serif\" font-size=\"14.00\" text-anchor=\"middle\" x=\"432.5\" y=\"-506.3\">output:</text>\n<polyline fill=\"none\" points=\"461.5,-498.5 461.5,-544.5 \" stroke=\"#000000\"/>\n<text fill=\"#000000\" font-family=\"Times,serif\" font-size=\"14.00\" text-anchor=\"middle\" x=\"488.5\" y=\"-529.3\">(?, 10)</text>\n<polyline fill=\"none\" points=\"461.5,-521.5 515.5,-521.5 \" stroke=\"#000000\"/>\n<text fill=\"#000000\" font-family=\"Times,serif\" font-size=\"14.00\" text-anchor=\"middle\" x=\"488.5\" y=\"-506.3\">(?, 10)</text>\n</g>\n<!-- 140417019912264&#45;&gt;140417018863064 -->\n<g class=\"edge\" id=\"edge8\">\n<title>140417019912264-&gt;140417018863064</title>\n<path d=\"M406,-581.3799C406,-573.1745 406,-563.7679 406,-554.8786\" fill=\"none\" stroke=\"#000000\"/>\n<polygon fill=\"#000000\" points=\"409.5001,-554.784 406,-544.784 402.5001,-554.784 409.5001,-554.784\" stroke=\"#000000\"/>\n</g>\n<!-- 140417027147480 -->\n<g class=\"node\" id=\"node10\">\n<title>140417027147480</title>\n<polygon fill=\"none\" points=\"18,-415.5 18,-461.5 264,-461.5 264,-415.5 18,-415.5\" stroke=\"#000000\"/>\n<text fill=\"#000000\" font-family=\"Times,serif\" font-size=\"14.00\" text-anchor=\"middle\" x=\"85\" y=\"-434.8\">dropout_1: Dropout</text>\n<polyline fill=\"none\" points=\"152,-415.5 152,-461.5 \" stroke=\"#000000\"/>\n<text fill=\"#000000\" font-family=\"Times,serif\" font-size=\"14.00\" text-anchor=\"middle\" x=\"181\" y=\"-446.3\">input:</text>\n<polyline fill=\"none\" points=\"152,-438.5 210,-438.5 \" stroke=\"#000000\"/>\n<text fill=\"#000000\" font-family=\"Times,serif\" font-size=\"14.00\" text-anchor=\"middle\" x=\"181\" y=\"-423.3\">output:</text>\n<polyline fill=\"none\" points=\"210,-415.5 210,-461.5 \" stroke=\"#000000\"/>\n<text fill=\"#000000\" font-family=\"Times,serif\" font-size=\"14.00\" text-anchor=\"middle\" x=\"237\" y=\"-446.3\">(?, 10)</text>\n<polyline fill=\"none\" points=\"210,-438.5 264,-438.5 \" stroke=\"#000000\"/>\n<text fill=\"#000000\" font-family=\"Times,serif\" font-size=\"14.00\" text-anchor=\"middle\" x=\"237\" y=\"-423.3\">(?, 10)</text>\n</g>\n<!-- 140417020412928&#45;&gt;140417027147480 -->\n<g class=\"edge\" id=\"edge9\">\n<title>140417020412928-&gt;140417027147480</title>\n<path d=\"M139.5571,-498.3799C139.7548,-490.1745 139.9815,-480.7679 140.1957,-471.8786\" fill=\"none\" stroke=\"#000000\"/>\n<polygon fill=\"#000000\" points=\"143.6969,-471.8655 140.4389,-461.784 136.699,-471.6968 143.6969,-471.8655\" stroke=\"#000000\"/>\n</g>\n<!-- 140417019150688 -->\n<g class=\"node\" id=\"node11\">\n<title>140417019150688</title>\n<polygon fill=\"none\" points=\"283,-415.5 283,-461.5 529,-461.5 529,-415.5 283,-415.5\" stroke=\"#000000\"/>\n<text fill=\"#000000\" font-family=\"Times,serif\" font-size=\"14.00\" text-anchor=\"middle\" x=\"350\" y=\"-434.8\">dropout_3: Dropout</text>\n<polyline fill=\"none\" points=\"417,-415.5 417,-461.5 \" stroke=\"#000000\"/>\n<text fill=\"#000000\" font-family=\"Times,serif\" font-size=\"14.00\" text-anchor=\"middle\" x=\"446\" y=\"-446.3\">input:</text>\n<polyline fill=\"none\" points=\"417,-438.5 475,-438.5 \" stroke=\"#000000\"/>\n<text fill=\"#000000\" font-family=\"Times,serif\" font-size=\"14.00\" text-anchor=\"middle\" x=\"446\" y=\"-423.3\">output:</text>\n<polyline fill=\"none\" points=\"475,-415.5 475,-461.5 \" stroke=\"#000000\"/>\n<text fill=\"#000000\" font-family=\"Times,serif\" font-size=\"14.00\" text-anchor=\"middle\" x=\"502\" y=\"-446.3\">(?, 10)</text>\n<polyline fill=\"none\" points=\"475,-438.5 529,-438.5 \" stroke=\"#000000\"/>\n<text fill=\"#000000\" font-family=\"Times,serif\" font-size=\"14.00\" text-anchor=\"middle\" x=\"502\" y=\"-423.3\">(?, 10)</text>\n</g>\n<!-- 140417018863064&#45;&gt;140417019150688 -->\n<g class=\"edge\" id=\"edge10\">\n<title>140417018863064-&gt;140417019150688</title>\n<path d=\"M406,-498.3799C406,-490.1745 406,-480.7679 406,-471.8786\" fill=\"none\" stroke=\"#000000\"/>\n<polygon fill=\"#000000\" points=\"409.5001,-471.784 406,-461.784 402.5001,-471.784 409.5001,-471.784\" stroke=\"#000000\"/>\n</g>\n<!-- 140417017982480 -->\n<g class=\"node\" id=\"node12\">\n<title>140417017982480</title>\n<polygon fill=\"none\" points=\"69.5,-332.5 69.5,-378.5 476.5,-378.5 476.5,-332.5 69.5,-332.5\" stroke=\"#000000\"/>\n<text fill=\"#000000\" font-family=\"Times,serif\" font-size=\"14.00\" text-anchor=\"middle\" x=\"190\" y=\"-351.8\">tf_op_layer_Sub: TensorFlowOpLayer</text>\n<polyline fill=\"none\" points=\"310.5,-332.5 310.5,-378.5 \" stroke=\"#000000\"/>\n<text fill=\"#000000\" font-family=\"Times,serif\" font-size=\"14.00\" text-anchor=\"middle\" x=\"339.5\" y=\"-363.3\">input:</text>\n<polyline fill=\"none\" points=\"310.5,-355.5 368.5,-355.5 \" stroke=\"#000000\"/>\n<text fill=\"#000000\" font-family=\"Times,serif\" font-size=\"14.00\" text-anchor=\"middle\" x=\"339.5\" y=\"-340.3\">output:</text>\n<polyline fill=\"none\" points=\"368.5,-332.5 368.5,-378.5 \" stroke=\"#000000\"/>\n<text fill=\"#000000\" font-family=\"Times,serif\" font-size=\"14.00\" text-anchor=\"middle\" x=\"422.5\" y=\"-363.3\">[(?, 10), (?, 10)]</text>\n<polyline fill=\"none\" points=\"368.5,-355.5 476.5,-355.5 \" stroke=\"#000000\"/>\n<text fill=\"#000000\" font-family=\"Times,serif\" font-size=\"14.00\" text-anchor=\"middle\" x=\"422.5\" y=\"-340.3\">[(?, 10)]</text>\n</g>\n<!-- 140417027147480&#45;&gt;140417017982480 -->\n<g class=\"edge\" id=\"edge11\">\n<title>140417027147480-&gt;140417017982480</title>\n<path d=\"M177.7694,-415.3799C193.0883,-405.7475 211.04,-394.4597 227.2028,-384.2967\" fill=\"none\" stroke=\"#000000\"/>\n<polygon fill=\"#000000\" points=\"229.3675,-387.07 235.97,-378.784 225.6414,-381.1441 229.3675,-387.07\" stroke=\"#000000\"/>\n</g>\n<!-- 140417019150688&#45;&gt;140417017982480 -->\n<g class=\"edge\" id=\"edge12\">\n<title>140417019150688-&gt;140417017982480</title>\n<path d=\"M368.9521,-415.3799C353.5171,-405.7475 335.4294,-394.4597 319.1441,-384.2967\" fill=\"none\" stroke=\"#000000\"/>\n<polygon fill=\"#000000\" points=\"320.6471,-381.1091 310.3105,-378.784 316.9411,-387.0476 320.6471,-381.1091\" stroke=\"#000000\"/>\n</g>\n<!-- 140417017981696 -->\n<g class=\"node\" id=\"node13\">\n<title>140417017981696</title>\n<polygon fill=\"none\" points=\"92,-249.5 92,-295.5 454,-295.5 454,-249.5 92,-249.5\" stroke=\"#000000\"/>\n<text fill=\"#000000\" font-family=\"Times,serif\" font-size=\"14.00\" text-anchor=\"middle\" x=\"212.5\" y=\"-268.8\">tf_op_layer_Abs: TensorFlowOpLayer</text>\n<polyline fill=\"none\" points=\"333,-249.5 333,-295.5 \" stroke=\"#000000\"/>\n<text fill=\"#000000\" font-family=\"Times,serif\" font-size=\"14.00\" text-anchor=\"middle\" x=\"362\" y=\"-280.3\">input:</text>\n<polyline fill=\"none\" points=\"333,-272.5 391,-272.5 \" stroke=\"#000000\"/>\n<text fill=\"#000000\" font-family=\"Times,serif\" font-size=\"14.00\" text-anchor=\"middle\" x=\"362\" y=\"-257.3\">output:</text>\n<polyline fill=\"none\" points=\"391,-249.5 391,-295.5 \" stroke=\"#000000\"/>\n<text fill=\"#000000\" font-family=\"Times,serif\" font-size=\"14.00\" text-anchor=\"middle\" x=\"422.5\" y=\"-280.3\">(?, 10)</text>\n<polyline fill=\"none\" points=\"391,-272.5 454,-272.5 \" stroke=\"#000000\"/>\n<text fill=\"#000000\" font-family=\"Times,serif\" font-size=\"14.00\" text-anchor=\"middle\" x=\"422.5\" y=\"-257.3\">[(?, 10)]</text>\n</g>\n<!-- 140417017982480&#45;&gt;140417017981696 -->\n<g class=\"edge\" id=\"edge13\">\n<title>140417017982480-&gt;140417017981696</title>\n<path d=\"M273,-332.3799C273,-324.1745 273,-314.7679 273,-305.8786\" fill=\"none\" stroke=\"#000000\"/>\n<polygon fill=\"#000000\" points=\"276.5001,-305.784 273,-295.784 269.5001,-305.784 276.5001,-305.784\" stroke=\"#000000\"/>\n</g>\n<!-- 140417018007624 -->\n<g class=\"node\" id=\"node14\">\n<title>140417018007624</title>\n<polygon fill=\"none\" points=\"93.5,-166.5 93.5,-212.5 452.5,-212.5 452.5,-166.5 93.5,-166.5\" stroke=\"#000000\"/>\n<text fill=\"#000000\" font-family=\"Times,serif\" font-size=\"14.00\" text-anchor=\"middle\" x=\"216\" y=\"-185.8\">tf_op_layer_Sum: TensorFlowOpLayer</text>\n<polyline fill=\"none\" points=\"338.5,-166.5 338.5,-212.5 \" stroke=\"#000000\"/>\n<text fill=\"#000000\" font-family=\"Times,serif\" font-size=\"14.00\" text-anchor=\"middle\" x=\"367.5\" y=\"-197.3\">input:</text>\n<polyline fill=\"none\" points=\"338.5,-189.5 396.5,-189.5 \" stroke=\"#000000\"/>\n<text fill=\"#000000\" font-family=\"Times,serif\" font-size=\"14.00\" text-anchor=\"middle\" x=\"367.5\" y=\"-174.3\">output:</text>\n<polyline fill=\"none\" points=\"396.5,-166.5 396.5,-212.5 \" stroke=\"#000000\"/>\n<text fill=\"#000000\" font-family=\"Times,serif\" font-size=\"14.00\" text-anchor=\"middle\" x=\"424.5\" y=\"-197.3\">(?, 10)</text>\n<polyline fill=\"none\" points=\"396.5,-189.5 452.5,-189.5 \" stroke=\"#000000\"/>\n<text fill=\"#000000\" font-family=\"Times,serif\" font-size=\"14.00\" text-anchor=\"middle\" x=\"424.5\" y=\"-174.3\">[(?, 1)]</text>\n</g>\n<!-- 140417017981696&#45;&gt;140417018007624 -->\n<g class=\"edge\" id=\"edge14\">\n<title>140417017981696-&gt;140417018007624</title>\n<path d=\"M273,-249.3799C273,-241.1745 273,-231.7679 273,-222.8786\" fill=\"none\" stroke=\"#000000\"/>\n<polygon fill=\"#000000\" points=\"276.5001,-222.784 273,-212.784 269.5001,-222.784 276.5001,-222.784\" stroke=\"#000000\"/>\n</g>\n<!-- 140417018007848 -->\n<g class=\"node\" id=\"node15\">\n<title>140417018007848</title>\n<polygon fill=\"none\" points=\"95,-83.5 95,-129.5 451,-129.5 451,-83.5 95,-83.5\" stroke=\"#000000\"/>\n<text fill=\"#000000\" font-family=\"Times,serif\" font-size=\"14.00\" text-anchor=\"middle\" x=\"216\" y=\"-102.8\">tf_op_layer_Neg: TensorFlowOpLayer</text>\n<polyline fill=\"none\" points=\"337,-83.5 337,-129.5 \" stroke=\"#000000\"/>\n<text fill=\"#000000\" font-family=\"Times,serif\" font-size=\"14.00\" text-anchor=\"middle\" x=\"366\" y=\"-114.3\">input:</text>\n<polyline fill=\"none\" points=\"337,-106.5 395,-106.5 \" stroke=\"#000000\"/>\n<text fill=\"#000000\" font-family=\"Times,serif\" font-size=\"14.00\" text-anchor=\"middle\" x=\"366\" y=\"-91.3\">output:</text>\n<polyline fill=\"none\" points=\"395,-83.5 395,-129.5 \" stroke=\"#000000\"/>\n<text fill=\"#000000\" font-family=\"Times,serif\" font-size=\"14.00\" text-anchor=\"middle\" x=\"423\" y=\"-114.3\">(?, 1)</text>\n<polyline fill=\"none\" points=\"395,-106.5 451,-106.5 \" stroke=\"#000000\"/>\n<text fill=\"#000000\" font-family=\"Times,serif\" font-size=\"14.00\" text-anchor=\"middle\" x=\"423\" y=\"-91.3\">[(?, 1)]</text>\n</g>\n<!-- 140417018007624&#45;&gt;140417018007848 -->\n<g class=\"edge\" id=\"edge15\">\n<title>140417018007624-&gt;140417018007848</title>\n<path d=\"M273,-166.3799C273,-158.1745 273,-148.7679 273,-139.8786\" fill=\"none\" stroke=\"#000000\"/>\n<polygon fill=\"#000000\" points=\"276.5001,-139.784 273,-129.784 269.5001,-139.784 276.5001,-139.784\" stroke=\"#000000\"/>\n</g>\n<!-- 140417018008184 -->\n<g class=\"node\" id=\"node16\">\n<title>140417018008184</title>\n<polygon fill=\"none\" points=\"95,-.5 95,-46.5 451,-46.5 451,-.5 95,-.5\" stroke=\"#000000\"/>\n<text fill=\"#000000\" font-family=\"Times,serif\" font-size=\"14.00\" text-anchor=\"middle\" x=\"216\" y=\"-19.8\">tf_op_layer_Exp: TensorFlowOpLayer</text>\n<polyline fill=\"none\" points=\"337,-.5 337,-46.5 \" stroke=\"#000000\"/>\n<text fill=\"#000000\" font-family=\"Times,serif\" font-size=\"14.00\" text-anchor=\"middle\" x=\"366\" y=\"-31.3\">input:</text>\n<polyline fill=\"none\" points=\"337,-23.5 395,-23.5 \" stroke=\"#000000\"/>\n<text fill=\"#000000\" font-family=\"Times,serif\" font-size=\"14.00\" text-anchor=\"middle\" x=\"366\" y=\"-8.3\">output:</text>\n<polyline fill=\"none\" points=\"395,-.5 395,-46.5 \" stroke=\"#000000\"/>\n<text fill=\"#000000\" font-family=\"Times,serif\" font-size=\"14.00\" text-anchor=\"middle\" x=\"423\" y=\"-31.3\">(?, 1)</text>\n<polyline fill=\"none\" points=\"395,-23.5 451,-23.5 \" stroke=\"#000000\"/>\n<text fill=\"#000000\" font-family=\"Times,serif\" font-size=\"14.00\" text-anchor=\"middle\" x=\"423\" y=\"-8.3\">[(?, 1)]</text>\n</g>\n<!-- 140417018007848&#45;&gt;140417018008184 -->\n<g class=\"edge\" id=\"edge16\">\n<title>140417018007848-&gt;140417018008184</title>\n<path d=\"M273,-83.3799C273,-75.1745 273,-65.7679 273,-56.8786\" fill=\"none\" stroke=\"#000000\"/>\n<polygon fill=\"#000000\" points=\"276.5001,-56.784 273,-46.784 269.5001,-56.784 276.5001,-56.784\" stroke=\"#000000\"/>\n</g>\n</g>\n</svg>"
          },
          "metadata": {
            "tags": []
          },
          "execution_count": 94
        }
      ]
    },
    {
      "cell_type": "code",
      "metadata": {
        "id": "85oeEOC5Oy2A",
        "colab_type": "code",
        "colab": {
          "base_uri": "https://localhost:8080/",
          "height": 737
        },
        "outputId": "779006d1-4f47-4764-9131-35bc2c7555cb"
      },
      "source": [
        "# 모델 학습\n",
        "y_train = y_train.reshape(-1, 1)\n",
        "y_test = y_test.reshape(-1, 1)\n",
        "hist = model.fit([X_train_1, X_train_2], y_train,\n",
        "                 validation_data=([X_test_1, X_test_2], y_test),\n",
        "                 batch_size=1000,\n",
        "                 epochs=20)"
      ],
      "execution_count": null,
      "outputs": [
        {
          "output_type": "stream",
          "text": [
            "Epoch 1/20\n",
            "239/239 [==============================] - 23s 95ms/step - loss: 0.3499 - val_loss: 0.2805\n",
            "Epoch 2/20\n",
            "239/239 [==============================] - 22s 91ms/step - loss: 0.2459 - val_loss: 0.2169\n",
            "Epoch 3/20\n",
            "239/239 [==============================] - 22s 91ms/step - loss: 0.1998 - val_loss: 0.1949\n",
            "Epoch 4/20\n",
            "239/239 [==============================] - 22s 91ms/step - loss: 0.1750 - val_loss: 0.1831\n",
            "Epoch 5/20\n",
            "239/239 [==============================] - 22s 92ms/step - loss: 0.1598 - val_loss: 0.1832\n",
            "Epoch 6/20\n",
            "239/239 [==============================] - 22s 91ms/step - loss: 0.1497 - val_loss: 0.1829\n",
            "Epoch 7/20\n",
            "239/239 [==============================] - 22s 92ms/step - loss: 0.1424 - val_loss: 0.1830\n",
            "Epoch 8/20\n",
            "239/239 [==============================] - 22s 91ms/step - loss: 0.1381 - val_loss: 0.1850\n",
            "Epoch 9/20\n",
            "239/239 [==============================] - 22s 91ms/step - loss: 0.1343 - val_loss: 0.1874\n",
            "Epoch 10/20\n",
            "239/239 [==============================] - 22s 92ms/step - loss: 0.1318 - val_loss: 0.1860\n",
            "Epoch 11/20\n",
            "239/239 [==============================] - 22s 91ms/step - loss: 0.1296 - val_loss: 0.1862\n",
            "Epoch 12/20\n",
            "239/239 [==============================] - 22s 92ms/step - loss: 0.1273 - val_loss: 0.1912\n",
            "Epoch 13/20\n",
            "239/239 [==============================] - 22s 93ms/step - loss: 0.1255 - val_loss: 0.1892\n",
            "Epoch 14/20\n",
            "239/239 [==============================] - 22s 92ms/step - loss: 0.1243 - val_loss: 0.1945\n",
            "Epoch 15/20\n",
            "239/239 [==============================] - 22s 91ms/step - loss: 0.1230 - val_loss: 0.1931\n",
            "Epoch 16/20\n",
            "239/239 [==============================] - 22s 91ms/step - loss: 0.1218 - val_loss: 0.1955\n",
            "Epoch 17/20\n",
            "239/239 [==============================] - 22s 92ms/step - loss: 0.1207 - val_loss: 0.1957\n",
            "Epoch 18/20\n",
            "239/239 [==============================] - 26s 108ms/step - loss: 0.1200 - val_loss: 0.1900\n",
            "Epoch 19/20\n",
            "239/239 [==============================] - 22s 93ms/step - loss: 0.1188 - val_loss: 0.1931\n",
            "Epoch 20/20\n",
            "239/239 [==============================] - 22s 92ms/step - loss: 0.1185 - val_loss: 0.1928\n"
          ],
          "name": "stdout"
        }
      ]
    },
    {
      "cell_type": "code",
      "metadata": {
        "id": "OqIyKYRB1EvB",
        "colab_type": "code",
        "colab": {
          "base_uri": "https://localhost:8080/",
          "height": 295
        },
        "outputId": "75a0e28c-57ce-48e4-f3cf-79deea8eb9c0"
      },
      "source": [
        "# loss 시각화\n",
        "plt.plot(hist.history['loss'], label='Train loss')\n",
        "plt.plot(hist.history['val_loss'], label = 'Test loss')\n",
        "plt.legend()\n",
        "plt.title(\"Loss Trajectory\")\n",
        "plt.xlabel(\"epochs\")\n",
        "plt.ylabel(\"loss\")\n",
        "plt.show()"
      ],
      "execution_count": null,
      "outputs": [
        {
          "output_type": "display_data",
          "data": {
            "image/png": "[encoded data removed]",
            "text/plain": [
              "<Figure size 432x288 with 1 Axes>"
            ]
          },
          "metadata": {
            "tags": [],
            "needs_background": "light"
          }
        }
      ]
    },
    {
      "cell_type": "code",
      "metadata": {
        "id": "x4rnwNU21JYF",
        "colab_type": "code",
        "colab": {
          "base_uri": "https://localhost:8080/",
          "height": 35
        },
        "outputId": "718ae546-d893-4ba9-a47c-8d69b57bc0c3"
      },
      "source": [
        "# 예측 및 결과 확인\n",
        "y_pred = model.predict([X_test_1, X_test_2])\n",
        "y_pred = np.where(y_pred > 0.5, 1, 0)\n",
        "accuracy = (y_test == y_pred).mean()\n",
        "print(f\"Test Accuracy: {accuracy}\")"
      ],
      "execution_count": null,
      "outputs": [
        {
          "output_type": "stream",
          "text": [
            "Test Accuracy: 0.7412722066875408\n"
          ],
          "name": "stdout"
        }
      ]
    },
    {
      "cell_type": "markdown",
      "metadata": {
        "id": "Mo0ZSCx21eB1",
        "colab_type": "text"
      },
      "source": [
        "### 3.4. maLSTM + GlovePretrained\n",
        "\n",
        "- Quora 데이터셋의 vocabulary 활용: `5.2` 전처리 단계에서 진행했던 tokenizer의 `word_index`.\n",
        "\n",
        "- 가중치 벡터 만들 때\n",
        "    - Glove.txt 파일 원래 생김새\n",
        "\n",
        "    ```\n",
        "    , -0.082752 0.67204 -0.14987 -0.064983 0.056491 0.40228 0.0027747 -0.3311 -0.30691 2.0817 0.031819 0.013643 0.30265 0.0071297 -0.5819 -0.2774 -0.062254 1.1451 -0.24232 0.1235 -0.12243 0.33152 -0.006162 -0.30541 -0.13057 -0.054601 0.037083 -0.070552 0.5893 -0.30385 0.2898 -0.14653 -0.27052 0.37161 0.32031 -0.29125 0.0052483 -0.13212 -0.052736 0.087349 -0.26668 -0.16897 0.015162 -0.0083746 -0.14871 0.23413 -0.20719 -0.091386 0.40075 -0.17223 0.18145 0.37586 -0.28682 0.37289 -0.16185 0.18008 0.3032 -0.13216 0.18352 0.095759 0.094916 0.008289 0.11761 0.34046 0.03677 -0.29077 0.058303 -0.027814 0.082941 0.1862 -0.031494 0.27985 -0.074412 -0.13762 -0.21866 0.18138 0.040855 -0.113 0.24107 0.3657 -0.27525 -0.05684 0.34872 0.011884 0.14517 -0.71395 0.48497 0.14807 0.62287 0.20599 0.58379 -0.13438 0.40207 0.18311 0.28021 -0.42349 -0.25626 0.17715 -0.54095 0.16596 -0.036058 0.08499 -0.64989 0.075549 -0.28831 0.40626 -0.2802 0.094062 0.32406 0.28437 -0.26341 0.11553 0.071918 -0.47215 -0.18366 -0.34709 0.29964 -0.66514 0.002516 -0.42333 0.27512 0.36012 0.16311 0.23964 -0.05923 0.3261 0.20559 0.038677 -0.045816 0.089764 0.43151 -0.15954 0.08532 -0.26572 -0.15001 0.084286 -0.16714 -0.43004 0.060807 0.13121 -0.24112 0.66554 0.4453 -0.18019 -0.13919 0.56252 0.21457 -0.46443 -0.012211 0.029988 -0.051094 -0.20135 0.80788 0.47377 -0.057647 0.46216 0.16084 -0.20954 -0.05452 0.15572 -0.13712 0.12972 -0.011936 -0.003378 -0.13595 -0.080711 0.20065 0.054056 0.046816 0.059539 0.046265 0.17754 -0.31094 0.28119 -0.24355 0.085252 -0.21011 -0.19472 0.0027297 -0.46341 0.14789 -0.31517 -0.065939 0.036106 0.42903 -0.33759 0.16432 0.32568 -0.050392 -0.054297 0.24074 0.41923 0.13012 -0.17167 -0.37808 -0.23089 -0.019477 -0.29291 -0.30824 0.30297 -0.22659 0.081574 -0.18516 -0.21408 0.40616 -0.28974 0.074174 -0.17795 0.28595 -0.039626 -0.2339 -0.36054 -0.067503 -0.091065 0.23438 -0.0041331 0.003232 0.0072134 0.008697 0.21614 0.049904 0.35582 0.13748 0.073361 0.14166 0.2412 -0.013322 0.15613 0.083381 0.088146 -0.019357 0.43795 0.083961 0.45309 -0.50489 -0.10865 -0.2527 -0.18251 0.20441 0.13319 0.1294 0.050594 -0.15612 -0.39543 0.12538 0.24881 -0.1927 -0.31847 -0.12719 0.4341 0.31177 -0.0040946 -0.2094 -0.079961 0.1161 -0.050794 0.015266 -0.2803 -0.12486 0.23587 0.2339 -0.14023 0.028462 0.56923 -0.1649 -0.036429 0.010051 -0.17107 -0.042608 0.044965 -0.4393 -0.26137 0.30088 -0.060772 -0.45312 -0.19076 -0.20288 0.27694 -0.060888 0.11944 0.62206 -0.19343 0.47849 -0.30113 0.059389 0.074901 0.061068 -0.4662 0.40054 -0.19099 -0.14331 0.018267 -0.18643 0.20709 -0.35598 0.05338 -0.050821 -0.1918 -0.37846 -0.06589\n",
        "    ```\n",
        "\n",
        "    ```\n",
        ". 0.012001 0.20751 -0.12578 -0.59325 0.12525 0.15975 0.13748 -0.33157 -0.13694 1.7893 -0.47094 0.70434 0.26673 -0.089961 -0.18168 0.067226 0.053347 1.5595 -0.2541 0.038413 -0.01409 0.056774 0.023434 0.024042 0.31703 0.19025 -0.37505 0.035603 0.1181 0.012032 -0.037566 -0.5046 -0.049261 0.092351 0.11031 -0.073062 0.33994 0.28239 0.13413 0.070128 -0.022099 -0.28103 0.49607 -0.48693 -0.090964 -0.1538 -0.38011 -0.014228 -0.19392 -0.11068 -0.014088 -0.17906 0.24509 -0.16878 -0.15351 -0.13808 0.02151 0.13699 0.0068061 -0.14915 -0.38169 0.12727 0.44007 0.32678 -0.46117 0.068687 0.34747 0.18827 -0.31837 0.4447 -0.2095 -0.26987 0.48945 0.15388 0.05295 -0.049831 0.11207 0.14881 -0.37003 0.30777 -0.33865 0.045149 -0.18987 0.26634 -0.26401 -0.47556 0.68381 -0.30653 0.24606 0.31611 -0.071098 0.030417 0.088119 0.045025 0.20125 -0.21618 -0.36371 -0.25948 -0.42398 -0.14305 -0.10208 0.21498 -0.21924 -0.17935 0.21546 0.13801 0.24504 -0.2559 0.054815 0.21307 0.2564 -0.25673 0.17961 -0.47638 -0.25181 -0.0091498 -0.054362 -0.21007 0.12597 -0.40795 -0.021164 0.20585 0.18925 -0.0051896 -0.51394 0.28862 -0.077748 -0.27676 0.46567 -0.14225 -0.17879 -0.4357 -0.32481 0.15034 -0.058367 0.49652 0.20472 0.019866 0.13326 0.12823 -1.0177 0.29007 0.28995 0.029994 -0.10763 0.28665 -0.24387 0.22905 -0.26249 -0.069269 -0.17889 0.21936 0.15146 0.04567 -0.050497 0.071482 -0.1027 -0.080705 0.30296 0.031302 0.26613 -0.0060951 0.10313 -0.39987 -0.043945 -0.057625 0.08702 -0.098152 0.22835 -0.005211 0.038075 0.01591 -0.20622 0.021853 0.0040426 -0.043063 -0.002294 -0.26097 -0.25802 -0.28158 -0.23118 -0.010404 -0.30102 -0.4042 0.014653 -0.10445 0.30377 -0.20957 0.3119 0.068272 0.1008 0.010423 0.54011 0.29865 0.12653 0.013761 0.21738 -0.39521 0.066633 0.50327 0.14913 -0.11554 0.010042 0.095698 0.16607 -0.18808 0.055019 0.026715 -0.3164 -0.046583 -0.051591 0.023475 -0.11007 0.085642 0.28394 0.040497 0.071986 0.14157 -0.021199 0.44718 0.20088 -0.12964 -0.067183 0.47614 0.13394 -0.17287 -0.37324 -0.17285 0.02683 -0.1316 0.09116 -0.46487 0.1274 -0.090159 -0.10552 0.068006 -0.13381 0.17056 0.089509 -0.23133 -0.27572 0.061534 -0.051646 0.28377 0.25286 -0.24139 -0.19905 0.12049 -0.1011 0.27392 0.27843 0.26449 -0.18292 -0.048961 0.19198 0.17192 0.33659 -0.20184 -0.34305 -0.24553 -0.15399 0.3945 0.22839 -0.25753 -0.25675 -0.37332 -0.23884 -0.048816 0.78323 0.18851 -0.26477 0.096566 0.062658 -0.30668 -0.43334 0.10006 0.21136 0.039459 -0.11077 0.24421 0.60942 -0.46646 0.086385 -0.39702 -0.23363 0.021307 -0.10778 -0.2281 0.50803 0.11567 0.16165 -0.066737 -0.29556 0.022612 -0.28135 0.0635 0.14019 0.13871 -0.36049 -0.035\n",
        "    ```\n",
        "\n",
        "    ```\n",
        "the 0.27204 -0.06203 -0.1884 0.023225 -0.018158 0.0067192 -0.13877 0.17708 0.17709 2.5882 -0.35179 -0.17312 0.43285 -0.10708 0.15006 -0.19982 -0.19093 1.1871 -0.16207 -0.23538 0.003664 -0.19156 -0.085662 0.039199 -0.066449 -0.04209 -0.19122 0.011679 -0.37138 0.21886 0.0011423 0.4319 -0.14205 0.38059 0.30654 0.020167 -0.18316 -0.0065186 -0.0080549 -0.12063 0.027507 0.29839 -0.22896 -0.22882 0.14671 -0.076301 -0.1268 -0.0066651 -0.052795 0.14258 0.1561 0.05551 -0.16149 0.09629 -0.076533 -0.049971 -0.010195 -0.047641 -0.16679 -0.2394 0.0050141 -0.049175 0.013338 0.41923 -0.10104 0.015111 -0.077706 -0.13471 0.119 0.10802 0.21061 -0.051904 0.18527 0.17856 0.041293 -0.014385 -0.082567 -0.035483 -0.076173 -0.045367 0.089281 0.33672 -0.22099 -0.0067275 0.23983 -0.23147 -0.88592 0.091297 -0.012123 0.013233 -0.25799 -0.02972 0.016754 0.01369 0.32377 0.039546 0.042114 -0.088243 0.30318 0.087747 0.16346 -0.40485 -0.043845 -0.040697 0.20936 -0.77795 0.2997 0.2334 0.14891 -0.39037 -0.053086 0.062922 0.065663 -0.13906 0.094193 0.10344 -0.2797 0.28905 -0.32161 0.020687 0.063254 -0.23257 -0.4352 -0.017049 -0.32744 -0.047064 -0.075149 -0.18788 -0.015017 0.029342 -0.3527 -0.044278 -0.13507 -0.11644 -0.1043 0.1392 0.0039199 0.37603 0.067217 -0.37992 -1.1241 -0.057357 -0.16826 0.03941 0.2604 -0.023866 0.17963 0.13553 0.2139 0.052633 -0.25033 -0.11307 0.22234 0.066597 -0.11161 0.062438 -0.27972 0.19878 -0.36262 -1.0006e-05 -0.17262 0.29166 -0.15723 0.054295 0.06101 -0.39165 0.2766 0.057816 0.39709 0.025229 0.24672 -0.08905 0.15683 -0.2096 -0.22196 0.052394 -0.01136 0.050417 -0.14023 -0.042825 -0.031931 -0.21336 -0.20402 -0.23272 0.07449 0.088202 -0.11063 -0.33526 -0.014028 -0.29429 -0.086911 -0.1321 -0.43616 0.20513 0.0079362 0.48505 0.064237 0.14261 -0.43711 0.12783 -0.13111 0.24673 -0.27496 0.15896 0.43314 0.090286 0.24662 0.066463 -0.20099 0.1101 0.03644 0.17359 -0.15689 -0.086328 -0.17316 0.36975 -0.40317 -0.064814 -0.034166 -0.013773 0.062854 -0.17183 -0.12366 -0.034663 -0.22793 -0.23172 0.239 0.27473 0.15332 0.10661 -0.060982 -0.024805 -0.13478 0.17932 -0.37374 -0.02893 -0.11142 -0.08389 -0.055932 0.068039 -0.10783 0.1465 0.094617 -0.084554 0.067429 -0.3291 0.034082 -0.16747 -0.25997 -0.22917 0.020159 -0.02758 0.16136 -0.18538 0.037665 0.57603 0.20684 0.27941 0.16477 -0.018769 0.12062 0.069648 0.059022 -0.23154 0.24095 -0.3471 0.04854 -0.056502 0.41566 -0.43194 0.4823 -0.051759 -0.27285 -0.25893 0.16555 -0.1831 -0.06734 0.42457 0.010346 0.14237 0.25939 0.17123 -0.13821 -0.066846 0.015981 -0.30193 0.043579 -0.043102 0.35025 -0.19681 -0.4281 0.16899 0.22511 -0.28557 -0.1028 -0.018168 0.11407 0.13015 -0.18317 0.1323\n",
        "    ```\n",
        "\n",
        "    - 띄어쓰기 단위로 쪼개서 리스트로 만들고\n",
        "    - 단어랑 벡터로 분리\n",
        "\n",
        "    ```\n",
        "    [',', '-0.082752', '0.67204', '-0.14987', '-0.064983', '0.056491', '0.40228', '0.0027747', '-0.3311', '-0.30691', '2.0817', '0.031819', '0.013643', '0.30265', '0.0071297', '-0.5819', '-0.2774', '-0.062254', '1.1451', '-0.24232', '0.1235', '-0.12243', '0.33152', '-0.006162', '-0.30541', '-0.13057', '-0.054601', '0.037083', '-0.070552', '0.5893', '-0.30385', '0.2898', '-0.14653', '-0.27052', '0.37161', '0.32031', '-0.29125', '0.0052483', '-0.13212', '-0.052736', '0.087349', '-0.26668', '-0.16897', '0.015162', '-0.0083746', '-0.14871', '0.23413', '-0.20719', '-0.091386', '0.40075', '-0.17223', '0.18145', '0.37586', '-0.28682', '0.37289', '-0.16185', '0.18008', '0.3032', '-0.13216', '0.18352', '0.095759', '0.094916', '0.008289', '0.11761', '0.34046', '0.03677', '-0.29077', '0.058303', '-0.027814', '0.082941', '0.1862', '-0.031494', '0.27985', '-0.074412', '-0.13762', '-0.21866', '0.18138', '0.040855', '-0.113', '0.24107', '0.3657', '-0.27525', '-0.05684', '0.34872', '0.011884', '0.14517', '-0.71395', '0.48497', '0.14807', '0.62287', '0.20599', '0.58379', '-0.13438', '0.40207', '0.18311', '0.28021', '-0.42349', '-0.25626', '0.17715', '-0.54095', '0.16596', '-0.036058', '0.08499', '-0.64989', '0.075549', '-0.28831', '0.40626', '-0.2802', '0.094062', '0.32406', '0.28437', '-0.26341', '0.11553', '0.071918', '-0.47215', '-0.18366', '-0.34709', '0.29964', '-0.66514', '0.002516', '-0.42333', '0.27512', '0.36012', '0.16311', '0.23964', '-0.05923', '0.3261', '0.20559', '0.038677', '-0.045816', '0.089764', '0.43151', '-0.15954', '0.08532', '-0.26572', '-0.15001', '0.084286', '-0.16714', '-0.43004', '0.060807', '0.13121', '-0.24112', '0.66554', '0.4453', '-0.18019', '-0.13919', '0.56252', '0.21457', '-0.46443', '-0.012211', '0.029988', '-0.051094', '-0.20135', '0.80788', '0.47377', '-0.057647', '0.46216', '0.16084', '-0.20954', '-0.05452', '0.15572', '-0.13712', '0.12972', '-0.011936', '-0.003378', '-0.13595', '-0.080711', '0.20065', '0.054056', '0.046816', '0.059539', '0.046265', '0.17754', '-0.31094', '0.28119', '-0.24355', '0.085252', '-0.21011', '-0.19472', '0.0027297', '-0.46341', '0.14789', '-0.31517', '-0.065939', '0.036106', '0.42903', '-0.33759', '0.16432', '0.32568', '-0.050392', '-0.054297', '0.24074', '0.41923', '0.13012', '-0.17167', '-0.37808', '-0.23089', '-0.019477', '-0.29291', '-0.30824', '0.30297', '-0.22659', '0.081574', '-0.18516', '-0.21408', '0.40616', '-0.28974', '0.074174', '-0.17795', '0.28595', '-0.039626', '-0.2339', '-0.36054', '-0.067503', '-0.091065', '0.23438', '-0.0041331', '0.003232', '0.0072134', '0.008697', '0.21614', '0.049904', '0.35582', '0.13748', '0.073361', '0.14166', '0.2412', '-0.013322', '0.15613', '0.083381', '0.088146', '-0.019357', '0.43795', '0.083961', '0.45309', '-0.50489', '-0.10865', '-0.2527', '-0.18251', '0.20441', '0.13319', '0.1294', '0.050594', '-0.15612', '-0.39543', '0.12538', '0.24881', '-0.1927', '-0.31847', '-0.12719', '0.4341', '0.31177', '-0.0040946', '-0.2094', '-0.079961', '0.1161', '-0.050794', '0.015266', '-0.2803', '-0.12486', '0.23587', '0.2339', '-0.14023', '0.028462', '0.56923', '-0.1649', '-0.036429', '0.010051', '-0.17107', '-0.042608', '0.044965', '-0.4393', '-0.26137', '0.30088', '-0.060772', '-0.45312', '-0.19076', '-0.20288', '0.27694', '-0.060888', '0.11944', '0.62206', '-0.19343', '0.47849', '-0.30113', '0.059389', '0.074901', '0.061068', '-0.4662', '0.40054', '-0.19099', '-0.14331', '0.018267', '-0.18643', '0.20709', '-0.35598', '0.05338', '-0.050821', '-0.1918', '-0.37846', '-0.06589']\n",
        ",\n",
        "{',': array([-0.082752 ,  0.67204  , -0.14987  , -0.064983 ,  0.056491 ,\n",
        "        0.40228  ,  0.0027747, -0.3311   , -0.30691  ,  2.0817   ,\n",
        "        0.031819 ,  0.013643 ,  0.30265  ,  0.0071297, -0.5819   ,\n",
        "       -0.2774   , -0.062254 ,  1.1451   , -0.24232  ,  0.1235   ,\n",
        "       -0.12243  ,  0.33152  , -0.006162 , -0.30541  , -0.13057  ,\n",
        "       -0.054601 ,  0.037083 , -0.070552 ,  0.5893   , -0.30385  ,\n",
        "        0.2898   , -0.14653  , -0.27052  ,  0.37161  ,  0.32031  ,\n",
        "       -0.29125  ,  0.0052483, -0.13212  , -0.052736 ,  0.087349 ,\n",
        "       -0.26668  , -0.16897  ,  0.015162 , -0.0083746, -0.14871  ,\n",
        "        0.23413  , -0.20719  , -0.091386 ,  0.40075  , -0.17223  ,\n",
        "        0.18145  ,  0.37586  , -0.28682  ,  0.37289  , -0.16185  ,\n",
        "        0.18008  ,  0.3032   , -0.13216  ,  0.18352  ,  0.095759 ,\n",
        "        0.094916 ,  0.008289 ,  0.11761  ,  0.34046  ,  0.03677  ,\n",
        "       -0.29077  ,  0.058303 , -0.027814 ,  0.082941 ,  0.1862   ,\n",
        "       -0.031494 ,  0.27985  , -0.074412 , -0.13762  , -0.21866  ,\n",
        "        0.18138  ,  0.040855 , -0.113    ,  0.24107  ,  0.3657   ,\n",
        "       -0.27525  , -0.05684  ,  0.34872  ,  0.011884 ,  0.14517  ,\n",
        "       -0.71395  ,  0.48497  ,  0.14807  ,  0.62287  ,  0.20599  ,\n",
        "        0.58379  , -0.13438  ,  0.40207  ,  0.18311  ,  0.28021  ,\n",
        "       -0.42349  , -0.25626  ,  0.17715  , -0.54095  ,  0.16596  ,\n",
        "       -0.036058 ,  0.08499  , -0.64989  ,  0.075549 , -0.28831  ,\n",
        "        0.40626  , -0.2802   ,  0.094062 ,  0.32406  ,  0.28437  ,\n",
        "       -0.26341  ,  0.11553  ,  0.071918 , -0.47215  , -0.18366  ,\n",
        "       -0.34709  ,  0.29964  , -0.66514  ,  0.002516 , -0.42333  ,\n",
        "        0.27512  ,  0.36012  ,  0.16311  ,  0.23964  , -0.05923  ,\n",
        "        0.3261   ,  0.20559  ,  0.038677 , -0.045816 ,  0.089764 ,\n",
        "        0.43151  , -0.15954  ,  0.08532  , -0.26572  , -0.15001  ,\n",
        "        0.084286 , -0.16714  , -0.43004  ,  0.060807 ,  0.13121  ,\n",
        "       -0.24112  ,  0.66554  ,  0.4453   , -0.18019  , -0.13919  ,\n",
        "        0.56252  ,  0.21457  , -0.46443  , -0.012211 ,  0.029988 ,\n",
        "       -0.051094 , -0.20135  ,  0.80788  ,  0.47377  , -0.057647 ,\n",
        "        0.46216  ,  0.16084  , -0.20954  , -0.05452  ,  0.15572  ,\n",
        "       -0.13712  ,  0.12972  , -0.011936 , -0.003378 , -0.13595  ,\n",
        "       -0.080711 ,  0.20065  ,  0.054056 ,  0.046816 ,  0.059539 ,\n",
        "        0.046265 ,  0.17754  , -0.31094  ,  0.28119  , -0.24355  ,\n",
        "        0.085252 , -0.21011  , -0.19472  ,  0.0027297, -0.46341  ,\n",
        "        0.14789  , -0.31517  , -0.065939 ,  0.036106 ,  0.42903  ,\n",
        "       -0.33759  ,  0.16432  ,  0.32568  , -0.050392 , -0.054297 ,\n",
        "        0.24074  ,  0.41923  ,  0.13012  , -0.17167  , -0.37808  ,\n",
        "       -0.23089  , -0.019477 , -0.29291  , -0.30824  ,  0.30297  ,\n",
        "       -0.22659  ,  0.081574 , -0.18516  , -0.21408  ,  0.40616  ,\n",
        "       -0.28974  ,  0.074174 , -0.17795  ,  0.28595  , -0.039626 ,\n",
        "       -0.2339   , -0.36054  , -0.067503 , -0.091065 ,  0.23438  ,\n",
        "       -0.0041331,  0.003232 ,  0.0072134,  0.008697 ,  0.21614  ,\n",
        "        0.049904 ,  0.35582  ,  0.13748  ,  0.073361 ,  0.14166  ,\n",
        "        0.2412   , -0.013322 ,  0.15613  ,  0.083381 ,  0.088146 ,\n",
        "       -0.019357 ,  0.43795  ,  0.083961 ,  0.45309  , -0.50489  ,\n",
        "       -0.10865  , -0.2527   , -0.18251  ,  0.20441  ,  0.13319  ,\n",
        "        0.1294   ,  0.050594 , -0.15612  , -0.39543  ,  0.12538  ,\n",
        "        0.24881  , -0.1927   , -0.31847  , -0.12719  ,  0.4341   ,\n",
        "        0.31177  , -0.0040946, -0.2094   , -0.079961 ,  0.1161   ,\n",
        "       -0.050794 ,  0.015266 , -0.2803   , -0.12486  ,  0.23587  ,\n",
        "        0.2339   , -0.14023  ,  0.028462 ,  0.56923  , -0.1649   ,\n",
        "       -0.036429 ,  0.010051 , -0.17107  , -0.042608 ,  0.044965 ,\n",
        "       -0.4393   , -0.26137  ,  0.30088  , -0.060772 , -0.45312  ,\n",
        "       -0.19076  , -0.20288  ,  0.27694  , -0.060888 ,  0.11944  ,\n",
        "        0.62206  , -0.19343  ,  0.47849  , -0.30113  ,  0.059389 ,\n",
        "        0.074901 ,  0.061068 , -0.4662   ,  0.40054  , -0.19099  ,\n",
        "       -0.14331  ,  0.018267 , -0.18643  ,  0.20709  , -0.35598  ,\n",
        "        0.05338  , -0.050821 , -0.1918   , -0.37846  , -0.06589  ],\n",
        "      dtype=float32)}\n",
        "      ```\n",
        "\n"
      ]
    },
    {
      "cell_type": "code",
      "metadata": {
        "id": "it9Il0GC1JyA",
        "colab_type": "code",
        "colab": {
          "base_uri": "https://localhost:8080/",
          "height": 35
        },
        "outputId": "2dc339c3-49b4-4542-fe49-b055fcf4dc04"
      },
      "source": [
        "# 전처리 단계에서의 토크나이저 로드\n",
        "with open(f\"{data_path}/5-2.Quora-tokenizer.pickle\", 'rb') as f:\n",
        "    tokenizer = pickle.load(f)\n",
        "\n",
        "print(tokenizer)"
      ],
      "execution_count": null,
      "outputs": [
        {
          "output_type": "stream",
          "text": [
            "<keras_preprocessing.text.Tokenizer object at 0x7ff157c52400>\n"
          ],
          "name": "stdout"
        }
      ]
    },
    {
      "cell_type": "code",
      "metadata": {
        "id": "eF_KpDd52R2D",
        "colab_type": "code",
        "colab": {}
      },
      "source": [
        "# 토크나이저의 단어로 어휘집 생성\n",
        "word2idx = tokenizer.word_index\n",
        "print(word2idx)"
      ],
      "execution_count": null,
      "outputs": []
    },
    {
      "cell_type": "code",
      "metadata": {
        "id": "tesGFpGl6PBY",
        "colab_type": "code",
        "colab": {
          "base_uri": "https://localhost:8080/",
          "height": 35
        },
        "outputId": "892635d8-1296-4e55-b31d-62e96d662ee1"
      },
      "source": [
        "# 모델 파라미터 설정\n",
        "VOCAB_SIZE = len(word2idx) + 1 # 패딩용 추가\n",
        "EMB_SIZE = int(input('임베딩 출력 차원 설정: ')) # 사전학습된 임베딩과 동일한 차원이어야 함."
      ],
      "execution_count": null,
      "outputs": [
        {
          "output_type": "stream",
          "text": [
            "임베딩 출력 차원 설정: 300\n"
          ],
          "name": "stdout"
        }
      ]
    },
    {
      "cell_type": "code",
      "metadata": {
        "id": "wU8uw0o32-YC",
        "colab_type": "code",
        "colab": {
          "base_uri": "https://localhost:8080/",
          "height": 71
        },
        "outputId": "cf85522b-51ae-4ba1-bf59-5155f2a2543d"
      },
      "source": [
        "%%time\n",
        "\n",
        "# 사전학습된 glove word embedding 가중치\n",
        "embedding_matrix_path = f\"{data_path}/weightEmbedding_840B_300d.pickle\"\n",
        "\n",
        "try:\n",
        "    with open(embedding_matrix_path, 'rb') as f:\n",
        "        WE = pickle.load(f)\n",
        "except FileNotFoundError: # 없는 경우: 사전학습된 GloVe 임베딩 벡터로부터 가중치 생성\n",
        "    with open(f\"{data_path}/glove.840B.300d.txt\", encoding='utf-8') as f:\n",
        "        # 일단 dict 생성\n",
        "        glove = {}\n",
        "        for line in f:\n",
        "            wv = line.split() # 단어가 맨 앞에, 그 뒤로 300차원 임베딩 벡터.\n",
        "            # print(wv)\n",
        "            # word = ''.join(wv[:-300]) # 한 줄로 만들기\n",
        "            word = wv[0] # 이렇게 하면 안 되나?\n",
        "            # print(word)\n",
        "            glove[word] = np.asarray(wv[-300:], dtype=np.float32)\n",
        "            # print(glove)\n",
        "        print(f\"Glove Vocab Dict: {len(glove)}\") # wkrd : embedding vector 구조\n",
        "\n",
        "        WE = np.zeros((VOCAB_SIZE, EMB_SIZE))\n",
        "        for word, i in word2idx.items():\n",
        "            vec = glove.get(word) # key로 vector 가져옴.\n",
        "            if vec is not None:\n",
        "                WE[i] = vec\n",
        "\n",
        "        # 결과 저장\n",
        "        with open(embedding_matrix_path, 'wb') as f:\n",
        "            pickle.dump(WE, f, pickle.HIGHEST_PROTOCOL)"
      ],
      "execution_count": null,
      "outputs": [
        {
          "output_type": "stream",
          "text": [
            "Glove Vocab Dict: 2195884\n",
            "CPU times: user 2min 43s, sys: 5.22 s, total: 2min 49s\n",
            "Wall time: 2min 51s\n"
          ],
          "name": "stdout"
        }
      ]
    },
    {
      "cell_type": "code",
      "metadata": {
        "id": "MxaWT0vX7DXR",
        "colab_type": "code",
        "colab": {
          "base_uri": "https://localhost:8080/",
          "height": 53
        },
        "outputId": "508c3dc7-c1cd-4276-a690-b84eb1c0a7e1"
      },
      "source": [
        "# LSTM 네트워크\n",
        "n_hidden =  int(input('LSTM 은닉 노드 수 설정: '))\n",
        "n_feature = int(input('latent feature 차원 수 설정: '))"
      ],
      "execution_count": null,
      "outputs": [
        {
          "output_type": "stream",
          "text": [
            "LSTM 은닉 노드 수 설정: 128\n",
            "latent feature 차원 수 설정: 64\n"
          ],
          "name": "stdout"
        }
      ]
    },
    {
      "cell_type": "markdown",
      "metadata": {
        "id": "aKfSVmTB7zYV",
        "colab_type": "text"
      },
      "source": [
        "#### Fine-Tuning 없이 진행"
      ]
    },
    {
      "cell_type": "code",
      "metadata": {
        "id": "RaXEXpfW3icd",
        "colab_type": "code",
        "colab": {}
      },
      "source": [
        "# 데이터 분리\n",
        "X_train_1, X_test_1, X_train_2, X_test_2, y_train, y_test = train_test_split(q1_data, q2_data, train_labels,\n",
        "                                                                             test_size=0.2,\n",
        "                                                                             random_state=42)"
      ],
      "execution_count": null,
      "outputs": []
    },
    {
      "cell_type": "code",
      "metadata": {
        "id": "jrisUjsX7e2F",
        "colab_type": "code",
        "colab": {
          "base_uri": "https://localhost:8080/",
          "height": 1000
        },
        "outputId": "882b9245-bd51-4366-fe85-d1bad0f53c7e"
      },
      "source": [
        "K.clear_session()\n",
        "\n",
        "# LSTM 네트워크 구성\n",
        "X_input_1 = Input(batch_shape=(None, X_train_1.shape[1]))\n",
        "X_input_2 = Input(batch_shape=(None, X_train_2.shape[1]))\n",
        "\n",
        "# 임베딩 : trainable = False\n",
        "X_embed = Embedding(input_dim=VOCAB_SIZE, output_dim=EMB_SIZE,\n",
        "                    weights=[WE], trainable=False)\n",
        "\n",
        "X_embed_1 = X_embed(X_input_1)\n",
        "X_embed_1 = Dropout(0.2)(X_embed_1)\n",
        "X_lstm_1 = LSTM(n_hidden)(X_embed_1)\n",
        "X_dense_1 = Dense(n_feature, activation='relu', kernel_regularizer=l2(0.005))(X_lstm_1)\n",
        "X_dense_1 = Dropout(0.2)(X_dense_1)\n",
        "\n",
        "X_embed_2 = X_embed(X_input_2)\n",
        "X_embed_2 = Dropout(0.2)(X_embed_2)\n",
        "X_lstm_2 = LSTM(n_hidden)(X_embed_2)\n",
        "X_dense_2 = Dense(n_feature, activation='relu', kernel_regularizer=l2(0.005))(X_lstm_2)\n",
        "X_dense_2 = Dropout(0.2)(X_dense_2)\n",
        "\n",
        "y_manhattan_dist = K.exp(-K.sum(K.abs(X_dense_1 - X_dense_2), axis=1, keepdims=True)) # 각 출력으로 맨하탄 거리 계산\n",
        "\n",
        "# 모델 구성\n",
        "model = Model([X_input_1, X_input_2], y_manhattan_dist)\n",
        "model.compile(loss='mean_squared_error', optimizer=Adam(lr=0.0005))\n",
        "print(\"========== 모델 전체 구조 확인 ==========\")\n",
        "print(model.summary())\n",
        "SVG(model_to_dot(model, show_shapes= True, show_layer_names=True, dpi=65).create(prog='dot', format='svg'))"
      ],
      "execution_count": null,
      "outputs": [
        {
          "output_type": "stream",
          "text": [
            "========== 모델 전체 구조 확인 ==========\n",
            "Model: \"functional_1\"\n",
            "__________________________________________________________________________________________________\n",
            "Layer (type)                    Output Shape         Param #     Connected to                     \n",
            "==================================================================================================\n",
            "input_1 (InputLayer)            [(None, 31)]         0                                            \n",
            "__________________________________________________________________________________________________\n",
            "input_2 (InputLayer)            [(None, 31)]         0                                            \n",
            "__________________________________________________________________________________________________\n",
            "embedding (Embedding)           (None, 31, 300)      22922100    input_1[0][0]                    \n",
            "                                                                 input_2[0][0]                    \n",
            "__________________________________________________________________________________________________\n",
            "dropout (Dropout)               (None, 31, 300)      0           embedding[0][0]                  \n",
            "__________________________________________________________________________________________________\n",
            "dropout_2 (Dropout)             (None, 31, 300)      0           embedding[1][0]                  \n",
            "__________________________________________________________________________________________________\n",
            "lstm (LSTM)                     (None, 128)          219648      dropout[0][0]                    \n",
            "__________________________________________________________________________________________________\n",
            "lstm_1 (LSTM)                   (None, 128)          219648      dropout_2[0][0]                  \n",
            "__________________________________________________________________________________________________\n",
            "dense (Dense)                   (None, 64)           8256        lstm[0][0]                       \n",
            "__________________________________________________________________________________________________\n",
            "dense_1 (Dense)                 (None, 64)           8256        lstm_1[0][0]                     \n",
            "__________________________________________________________________________________________________\n",
            "dropout_1 (Dropout)             (None, 64)           0           dense[0][0]                      \n",
            "__________________________________________________________________________________________________\n",
            "dropout_3 (Dropout)             (None, 64)           0           dense_1[0][0]                    \n",
            "__________________________________________________________________________________________________\n",
            "tf_op_layer_Sub (TensorFlowOpLa [(None, 64)]         0           dropout_1[0][0]                  \n",
            "                                                                 dropout_3[0][0]                  \n",
            "__________________________________________________________________________________________________\n",
            "tf_op_layer_Abs (TensorFlowOpLa [(None, 64)]         0           tf_op_layer_Sub[0][0]            \n",
            "__________________________________________________________________________________________________\n",
            "tf_op_layer_Sum (TensorFlowOpLa [(None, 1)]          0           tf_op_layer_Abs[0][0]            \n",
            "__________________________________________________________________________________________________\n",
            "tf_op_layer_Neg (TensorFlowOpLa [(None, 1)]          0           tf_op_layer_Sum[0][0]            \n",
            "__________________________________________________________________________________________________\n",
            "tf_op_layer_Exp (TensorFlowOpLa [(None, 1)]          0           tf_op_layer_Neg[0][0]            \n",
            "==================================================================================================\n",
            "Total params: 23,377,908\n",
            "Trainable params: 455,808\n",
            "Non-trainable params: 22,922,100\n",
            "__________________________________________________________________________________________________\n",
            "None\n"
          ],
          "name": "stdout"
        },
        {
          "output_type": "execute_result",
          "data": {
            "text/plain": [
              "<IPython.core.display.SVG object>"
            ],
            "image/svg+xml": "<svg height=\"799pt\" viewBox=\"0.00 0.00 563.50 885.00\" width=\"509pt\" xmlns=\"http://www.w3.org/2000/svg\" xmlns:xlink=\"http://www.w3.org/1999/xlink\">\n<g class=\"graph\" id=\"graph0\" transform=\"scale(.9028 .9028) rotate(0) translate(4 881)\">\n<title>G</title>\n<polygon fill=\"#ffffff\" points=\"-4,4 -4,-881 559.5,-881 559.5,4 -4,4\" stroke=\"transparent\"/>\n<!-- 140671467882536 -->\n<g class=\"node\" id=\"node1\">\n<title>140671467882536</title>\n<polygon fill=\"none\" points=\"10.5,-830.5 10.5,-876.5 264.5,-876.5 264.5,-830.5 10.5,-830.5\" stroke=\"#000000\"/>\n<text fill=\"#000000\" font-family=\"Times,serif\" font-size=\"14.00\" text-anchor=\"middle\" x=\"77\" y=\"-849.8\">input_1: InputLayer</text>\n<polyline fill=\"none\" points=\"143.5,-830.5 143.5,-876.5 \" stroke=\"#000000\"/>\n<text fill=\"#000000\" font-family=\"Times,serif\" font-size=\"14.00\" text-anchor=\"middle\" x=\"172.5\" y=\"-861.3\">input:</text>\n<polyline fill=\"none\" points=\"143.5,-853.5 201.5,-853.5 \" stroke=\"#000000\"/>\n<text fill=\"#000000\" font-family=\"Times,serif\" font-size=\"14.00\" text-anchor=\"middle\" x=\"172.5\" y=\"-838.3\">output:</text>\n<polyline fill=\"none\" points=\"201.5,-830.5 201.5,-876.5 \" stroke=\"#000000\"/>\n<text fill=\"#000000\" font-family=\"Times,serif\" font-size=\"14.00\" text-anchor=\"middle\" x=\"233\" y=\"-861.3\">[(?, 31)]</text>\n<polyline fill=\"none\" points=\"201.5,-853.5 264.5,-853.5 \" stroke=\"#000000\"/>\n<text fill=\"#000000\" font-family=\"Times,serif\" font-size=\"14.00\" text-anchor=\"middle\" x=\"233\" y=\"-838.3\">[(?, 31)]</text>\n</g>\n<!-- 140674865609192 -->\n<g class=\"node\" id=\"node3\">\n<title>140674865609192</title>\n<polygon fill=\"none\" points=\"124.5,-747.5 124.5,-793.5 422.5,-793.5 422.5,-747.5 124.5,-747.5\" stroke=\"#000000\"/>\n<text fill=\"#000000\" font-family=\"Times,serif\" font-size=\"14.00\" text-anchor=\"middle\" x=\"202.5\" y=\"-766.8\">embedding: Embedding</text>\n<polyline fill=\"none\" points=\"280.5,-747.5 280.5,-793.5 \" stroke=\"#000000\"/>\n<text fill=\"#000000\" font-family=\"Times,serif\" font-size=\"14.00\" text-anchor=\"middle\" x=\"309.5\" y=\"-778.3\">input:</text>\n<polyline fill=\"none\" points=\"280.5,-770.5 338.5,-770.5 \" stroke=\"#000000\"/>\n<text fill=\"#000000\" font-family=\"Times,serif\" font-size=\"14.00\" text-anchor=\"middle\" x=\"309.5\" y=\"-755.3\">output:</text>\n<polyline fill=\"none\" points=\"338.5,-747.5 338.5,-793.5 \" stroke=\"#000000\"/>\n<text fill=\"#000000\" font-family=\"Times,serif\" font-size=\"14.00\" text-anchor=\"middle\" x=\"380.5\" y=\"-778.3\">(?, 31)</text>\n<polyline fill=\"none\" points=\"338.5,-770.5 422.5,-770.5 \" stroke=\"#000000\"/>\n<text fill=\"#000000\" font-family=\"Times,serif\" font-size=\"14.00\" text-anchor=\"middle\" x=\"380.5\" y=\"-755.3\">(?, 31, 300)</text>\n</g>\n<!-- 140671467882536&#45;&gt;140674865609192 -->\n<g class=\"edge\" id=\"edge1\">\n<title>140671467882536-&gt;140674865609192</title>\n<path d=\"M175.3836,-830.3799C191.3128,-820.6583 210.0052,-809.2505 226.7771,-799.0147\" fill=\"none\" stroke=\"#000000\"/>\n<polygon fill=\"#000000\" points=\"228.6353,-801.9811 235.3479,-793.784 224.9886,-796.0059 228.6353,-801.9811\" stroke=\"#000000\"/>\n</g>\n<!-- 140674883887904 -->\n<g class=\"node\" id=\"node2\">\n<title>140674883887904</title>\n<polygon fill=\"none\" points=\"282.5,-830.5 282.5,-876.5 536.5,-876.5 536.5,-830.5 282.5,-830.5\" stroke=\"#000000\"/>\n<text fill=\"#000000\" font-family=\"Times,serif\" font-size=\"14.00\" text-anchor=\"middle\" x=\"349\" y=\"-849.8\">input_2: InputLayer</text>\n<polyline fill=\"none\" points=\"415.5,-830.5 415.5,-876.5 \" stroke=\"#000000\"/>\n<text fill=\"#000000\" font-family=\"Times,serif\" font-size=\"14.00\" text-anchor=\"middle\" x=\"444.5\" y=\"-861.3\">input:</text>\n<polyline fill=\"none\" points=\"415.5,-853.5 473.5,-853.5 \" stroke=\"#000000\"/>\n<text fill=\"#000000\" font-family=\"Times,serif\" font-size=\"14.00\" text-anchor=\"middle\" x=\"444.5\" y=\"-838.3\">output:</text>\n<polyline fill=\"none\" points=\"473.5,-830.5 473.5,-876.5 \" stroke=\"#000000\"/>\n<text fill=\"#000000\" font-family=\"Times,serif\" font-size=\"14.00\" text-anchor=\"middle\" x=\"505\" y=\"-861.3\">[(?, 31)]</text>\n<polyline fill=\"none\" points=\"473.5,-853.5 536.5,-853.5 \" stroke=\"#000000\"/>\n<text fill=\"#000000\" font-family=\"Times,serif\" font-size=\"14.00\" text-anchor=\"middle\" x=\"505\" y=\"-838.3\">[(?, 31)]</text>\n</g>\n<!-- 140674883887904&#45;&gt;140674865609192 -->\n<g class=\"edge\" id=\"edge2\">\n<title>140674883887904-&gt;140674865609192</title>\n<path d=\"M371.6164,-830.3799C355.6872,-820.6583 336.9948,-809.2505 320.2229,-799.0147\" fill=\"none\" stroke=\"#000000\"/>\n<polygon fill=\"#000000\" points=\"322.0114,-796.0059 311.6521,-793.784 318.3647,-801.9811 322.0114,-796.0059\" stroke=\"#000000\"/>\n</g>\n<!-- 140674883888072 -->\n<g class=\"node\" id=\"node4\">\n<title>140674883888072</title>\n<polygon fill=\"none\" points=\"0,-664.5 0,-710.5 261,-710.5 261,-664.5 0,-664.5\" stroke=\"#000000\"/>\n<text fill=\"#000000\" font-family=\"Times,serif\" font-size=\"14.00\" text-anchor=\"middle\" x=\"59.5\" y=\"-683.8\">dropout: Dropout</text>\n<polyline fill=\"none\" points=\"119,-664.5 119,-710.5 \" stroke=\"#000000\"/>\n<text fill=\"#000000\" font-family=\"Times,serif\" font-size=\"14.00\" text-anchor=\"middle\" x=\"148\" y=\"-695.3\">input:</text>\n<polyline fill=\"none\" points=\"119,-687.5 177,-687.5 \" stroke=\"#000000\"/>\n<text fill=\"#000000\" font-family=\"Times,serif\" font-size=\"14.00\" text-anchor=\"middle\" x=\"148\" y=\"-672.3\">output:</text>\n<polyline fill=\"none\" points=\"177,-664.5 177,-710.5 \" stroke=\"#000000\"/>\n<text fill=\"#000000\" font-family=\"Times,serif\" font-size=\"14.00\" text-anchor=\"middle\" x=\"219\" y=\"-695.3\">(?, 31, 300)</text>\n<polyline fill=\"none\" points=\"177,-687.5 261,-687.5 \" stroke=\"#000000\"/>\n<text fill=\"#000000\" font-family=\"Times,serif\" font-size=\"14.00\" text-anchor=\"middle\" x=\"219\" y=\"-672.3\">(?, 31, 300)</text>\n</g>\n<!-- 140674865609192&#45;&gt;140674883888072 -->\n<g class=\"edge\" id=\"edge3\">\n<title>140674865609192-&gt;140674883888072</title>\n<path d=\"M233.6665,-747.3799C216.9174,-737.6583 197.2629,-726.2505 179.6277,-716.0147\" fill=\"none\" stroke=\"#000000\"/>\n<polygon fill=\"#000000\" points=\"181.0215,-712.7769 170.6158,-710.784 177.5076,-718.831 181.0215,-712.7769\" stroke=\"#000000\"/>\n</g>\n<!-- 140671467584256 -->\n<g class=\"node\" id=\"node5\">\n<title>140671467584256</title>\n<polygon fill=\"none\" points=\"279.5,-664.5 279.5,-710.5 555.5,-710.5 555.5,-664.5 279.5,-664.5\" stroke=\"#000000\"/>\n<text fill=\"#000000\" font-family=\"Times,serif\" font-size=\"14.00\" text-anchor=\"middle\" x=\"346.5\" y=\"-683.8\">dropout_2: Dropout</text>\n<polyline fill=\"none\" points=\"413.5,-664.5 413.5,-710.5 \" stroke=\"#000000\"/>\n<text fill=\"#000000\" font-family=\"Times,serif\" font-size=\"14.00\" text-anchor=\"middle\" x=\"442.5\" y=\"-695.3\">input:</text>\n<polyline fill=\"none\" points=\"413.5,-687.5 471.5,-687.5 \" stroke=\"#000000\"/>\n<text fill=\"#000000\" font-family=\"Times,serif\" font-size=\"14.00\" text-anchor=\"middle\" x=\"442.5\" y=\"-672.3\">output:</text>\n<polyline fill=\"none\" points=\"471.5,-664.5 471.5,-710.5 \" stroke=\"#000000\"/>\n<text fill=\"#000000\" font-family=\"Times,serif\" font-size=\"14.00\" text-anchor=\"middle\" x=\"513.5\" y=\"-695.3\">(?, 31, 300)</text>\n<polyline fill=\"none\" points=\"471.5,-687.5 555.5,-687.5 \" stroke=\"#000000\"/>\n<text fill=\"#000000\" font-family=\"Times,serif\" font-size=\"14.00\" text-anchor=\"middle\" x=\"513.5\" y=\"-672.3\">(?, 31, 300)</text>\n</g>\n<!-- 140674865609192&#45;&gt;140671467584256 -->\n<g class=\"edge\" id=\"edge4\">\n<title>140674865609192-&gt;140671467584256</title>\n<path d=\"M313.612,-747.3799C330.5492,-737.6175 350.4366,-726.1546 368.2524,-715.8857\" fill=\"none\" stroke=\"#000000\"/>\n<polygon fill=\"#000000\" points=\"370.4375,-718.6661 377.3536,-710.6399 366.9419,-712.6014 370.4375,-718.6661\" stroke=\"#000000\"/>\n</g>\n<!-- 140674883889696 -->\n<g class=\"node\" id=\"node6\">\n<title>140674883889696</title>\n<polygon fill=\"none\" points=\"27,-581.5 27,-627.5 256,-627.5 256,-581.5 27,-581.5\" stroke=\"#000000\"/>\n<text fill=\"#000000\" font-family=\"Times,serif\" font-size=\"14.00\" text-anchor=\"middle\" x=\"70.5\" y=\"-600.8\">lstm: LSTM</text>\n<polyline fill=\"none\" points=\"114,-581.5 114,-627.5 \" stroke=\"#000000\"/>\n<text fill=\"#000000\" font-family=\"Times,serif\" font-size=\"14.00\" text-anchor=\"middle\" x=\"143\" y=\"-612.3\">input:</text>\n<polyline fill=\"none\" points=\"114,-604.5 172,-604.5 \" stroke=\"#000000\"/>\n<text fill=\"#000000\" font-family=\"Times,serif\" font-size=\"14.00\" text-anchor=\"middle\" x=\"143\" y=\"-589.3\">output:</text>\n<polyline fill=\"none\" points=\"172,-581.5 172,-627.5 \" stroke=\"#000000\"/>\n<text fill=\"#000000\" font-family=\"Times,serif\" font-size=\"14.00\" text-anchor=\"middle\" x=\"214\" y=\"-612.3\">(?, 31, 300)</text>\n<polyline fill=\"none\" points=\"172,-604.5 256,-604.5 \" stroke=\"#000000\"/>\n<text fill=\"#000000\" font-family=\"Times,serif\" font-size=\"14.00\" text-anchor=\"middle\" x=\"214\" y=\"-589.3\">(?, 128)</text>\n</g>\n<!-- 140674883888072&#45;&gt;140674883889696 -->\n<g class=\"edge\" id=\"edge5\">\n<title>140674883888072-&gt;140674883889696</title>\n<path d=\"M133.5641,-664.3799C134.6516,-656.1745 135.8982,-646.7679 137.0763,-637.8786\" fill=\"none\" stroke=\"#000000\"/>\n<polygon fill=\"#000000\" points=\"140.5699,-638.1572 138.4142,-627.784 133.6306,-637.2375 140.5699,-638.1572\" stroke=\"#000000\"/>\n</g>\n<!-- 140671467205856 -->\n<g class=\"node\" id=\"node7\">\n<title>140671467205856</title>\n<polygon fill=\"none\" points=\"294.5,-581.5 294.5,-627.5 538.5,-627.5 538.5,-581.5 294.5,-581.5\" stroke=\"#000000\"/>\n<text fill=\"#000000\" font-family=\"Times,serif\" font-size=\"14.00\" text-anchor=\"middle\" x=\"345.5\" y=\"-600.8\">lstm_1: LSTM</text>\n<polyline fill=\"none\" points=\"396.5,-581.5 396.5,-627.5 \" stroke=\"#000000\"/>\n<text fill=\"#000000\" font-family=\"Times,serif\" font-size=\"14.00\" text-anchor=\"middle\" x=\"425.5\" y=\"-612.3\">input:</text>\n<polyline fill=\"none\" points=\"396.5,-604.5 454.5,-604.5 \" stroke=\"#000000\"/>\n<text fill=\"#000000\" font-family=\"Times,serif\" font-size=\"14.00\" text-anchor=\"middle\" x=\"425.5\" y=\"-589.3\">output:</text>\n<polyline fill=\"none\" points=\"454.5,-581.5 454.5,-627.5 \" stroke=\"#000000\"/>\n<text fill=\"#000000\" font-family=\"Times,serif\" font-size=\"14.00\" text-anchor=\"middle\" x=\"496.5\" y=\"-612.3\">(?, 31, 300)</text>\n<polyline fill=\"none\" points=\"454.5,-604.5 538.5,-604.5 \" stroke=\"#000000\"/>\n<text fill=\"#000000\" font-family=\"Times,serif\" font-size=\"14.00\" text-anchor=\"middle\" x=\"496.5\" y=\"-589.3\">(?, 128)</text>\n</g>\n<!-- 140671467584256&#45;&gt;140671467205856 -->\n<g class=\"edge\" id=\"edge6\">\n<title>140671467584256-&gt;140671467205856</title>\n<path d=\"M417.2214,-664.3799C417.1226,-656.1745 417.0093,-646.7679 416.9022,-637.8786\" fill=\"none\" stroke=\"#000000\"/>\n<polygon fill=\"#000000\" points=\"420.4008,-637.7411 416.7805,-627.784 413.4014,-637.8255 420.4008,-637.7411\" stroke=\"#000000\"/>\n</g>\n<!-- 140671467503232 -->\n<g class=\"node\" id=\"node8\">\n<title>140671467503232</title>\n<polygon fill=\"none\" points=\"41.5,-498.5 41.5,-544.5 253.5,-544.5 253.5,-498.5 41.5,-498.5\" stroke=\"#000000\"/>\n<text fill=\"#000000\" font-family=\"Times,serif\" font-size=\"14.00\" text-anchor=\"middle\" x=\"87.5\" y=\"-517.8\">dense: Dense</text>\n<polyline fill=\"none\" points=\"133.5,-498.5 133.5,-544.5 \" stroke=\"#000000\"/>\n<text fill=\"#000000\" font-family=\"Times,serif\" font-size=\"14.00\" text-anchor=\"middle\" x=\"162.5\" y=\"-529.3\">input:</text>\n<polyline fill=\"none\" points=\"133.5,-521.5 191.5,-521.5 \" stroke=\"#000000\"/>\n<text fill=\"#000000\" font-family=\"Times,serif\" font-size=\"14.00\" text-anchor=\"middle\" x=\"162.5\" y=\"-506.3\">output:</text>\n<polyline fill=\"none\" points=\"191.5,-498.5 191.5,-544.5 \" stroke=\"#000000\"/>\n<text fill=\"#000000\" font-family=\"Times,serif\" font-size=\"14.00\" text-anchor=\"middle\" x=\"222.5\" y=\"-529.3\">(?, 128)</text>\n<polyline fill=\"none\" points=\"191.5,-521.5 253.5,-521.5 \" stroke=\"#000000\"/>\n<text fill=\"#000000\" font-family=\"Times,serif\" font-size=\"14.00\" text-anchor=\"middle\" x=\"222.5\" y=\"-506.3\">(?, 64)</text>\n</g>\n<!-- 140674883889696&#45;&gt;140671467503232 -->\n<g class=\"edge\" id=\"edge7\">\n<title>140674883889696-&gt;140671467503232</title>\n<path d=\"M143.1713,-581.3799C143.7645,-573.1745 144.4445,-563.7679 145.0871,-554.8786\" fill=\"none\" stroke=\"#000000\"/>\n<polygon fill=\"#000000\" points=\"148.5866,-555.0104 145.8168,-544.784 141.6048,-554.5056 148.5866,-555.0104\" stroke=\"#000000\"/>\n</g>\n<!-- 140671466540448 -->\n<g class=\"node\" id=\"node9\">\n<title>140671466540448</title>\n<polygon fill=\"none\" points=\"302,-498.5 302,-544.5 529,-544.5 529,-498.5 302,-498.5\" stroke=\"#000000\"/>\n<text fill=\"#000000\" font-family=\"Times,serif\" font-size=\"14.00\" text-anchor=\"middle\" x=\"355.5\" y=\"-517.8\">dense_1: Dense</text>\n<polyline fill=\"none\" points=\"409,-498.5 409,-544.5 \" stroke=\"#000000\"/>\n<text fill=\"#000000\" font-family=\"Times,serif\" font-size=\"14.00\" text-anchor=\"middle\" x=\"438\" y=\"-529.3\">input:</text>\n<polyline fill=\"none\" points=\"409,-521.5 467,-521.5 \" stroke=\"#000000\"/>\n<text fill=\"#000000\" font-family=\"Times,serif\" font-size=\"14.00\" text-anchor=\"middle\" x=\"438\" y=\"-506.3\">output:</text>\n<polyline fill=\"none\" points=\"467,-498.5 467,-544.5 \" stroke=\"#000000\"/>\n<text fill=\"#000000\" font-family=\"Times,serif\" font-size=\"14.00\" text-anchor=\"middle\" x=\"498\" y=\"-529.3\">(?, 128)</text>\n<polyline fill=\"none\" points=\"467,-521.5 529,-521.5 \" stroke=\"#000000\"/>\n<text fill=\"#000000\" font-family=\"Times,serif\" font-size=\"14.00\" text-anchor=\"middle\" x=\"498\" y=\"-506.3\">(?, 64)</text>\n</g>\n<!-- 140671467205856&#45;&gt;140671466540448 -->\n<g class=\"edge\" id=\"edge8\">\n<title>140671467205856-&gt;140671466540448</title>\n<path d=\"M416.2214,-581.3799C416.1226,-573.1745 416.0093,-563.7679 415.9022,-554.8786\" fill=\"none\" stroke=\"#000000\"/>\n<polygon fill=\"#000000\" points=\"419.4008,-554.7411 415.7805,-544.784 412.4014,-554.8255 419.4008,-554.7411\" stroke=\"#000000\"/>\n</g>\n<!-- 140671467475576 -->\n<g class=\"node\" id=\"node10\">\n<title>140671467475576</title>\n<polygon fill=\"none\" points=\"27.5,-415.5 27.5,-461.5 273.5,-461.5 273.5,-415.5 27.5,-415.5\" stroke=\"#000000\"/>\n<text fill=\"#000000\" font-family=\"Times,serif\" font-size=\"14.00\" text-anchor=\"middle\" x=\"94.5\" y=\"-434.8\">dropout_1: Dropout</text>\n<polyline fill=\"none\" points=\"161.5,-415.5 161.5,-461.5 \" stroke=\"#000000\"/>\n<text fill=\"#000000\" font-family=\"Times,serif\" font-size=\"14.00\" text-anchor=\"middle\" x=\"190.5\" y=\"-446.3\">input:</text>\n<polyline fill=\"none\" points=\"161.5,-438.5 219.5,-438.5 \" stroke=\"#000000\"/>\n<text fill=\"#000000\" font-family=\"Times,serif\" font-size=\"14.00\" text-anchor=\"middle\" x=\"190.5\" y=\"-423.3\">output:</text>\n<polyline fill=\"none\" points=\"219.5,-415.5 219.5,-461.5 \" stroke=\"#000000\"/>\n<text fill=\"#000000\" font-family=\"Times,serif\" font-size=\"14.00\" text-anchor=\"middle\" x=\"246.5\" y=\"-446.3\">(?, 64)</text>\n<polyline fill=\"none\" points=\"219.5,-438.5 273.5,-438.5 \" stroke=\"#000000\"/>\n<text fill=\"#000000\" font-family=\"Times,serif\" font-size=\"14.00\" text-anchor=\"middle\" x=\"246.5\" y=\"-423.3\">(?, 64)</text>\n</g>\n<!-- 140671467503232&#45;&gt;140671467475576 -->\n<g class=\"edge\" id=\"edge9\">\n<title>140671467503232-&gt;140671467475576</title>\n<path d=\"M148.3357,-498.3799C148.6322,-490.1745 148.9722,-480.7679 149.2935,-471.8786\" fill=\"none\" stroke=\"#000000\"/>\n<polygon fill=\"#000000\" points=\"152.7948,-471.9039 149.6584,-461.784 145.7994,-471.651 152.7948,-471.9039\" stroke=\"#000000\"/>\n</g>\n<!-- 140671466779032 -->\n<g class=\"node\" id=\"node11\">\n<title>140671466779032</title>\n<polygon fill=\"none\" points=\"292.5,-415.5 292.5,-461.5 538.5,-461.5 538.5,-415.5 292.5,-415.5\" stroke=\"#000000\"/>\n<text fill=\"#000000\" font-family=\"Times,serif\" font-size=\"14.00\" text-anchor=\"middle\" x=\"359.5\" y=\"-434.8\">dropout_3: Dropout</text>\n<polyline fill=\"none\" points=\"426.5,-415.5 426.5,-461.5 \" stroke=\"#000000\"/>\n<text fill=\"#000000\" font-family=\"Times,serif\" font-size=\"14.00\" text-anchor=\"middle\" x=\"455.5\" y=\"-446.3\">input:</text>\n<polyline fill=\"none\" points=\"426.5,-438.5 484.5,-438.5 \" stroke=\"#000000\"/>\n<text fill=\"#000000\" font-family=\"Times,serif\" font-size=\"14.00\" text-anchor=\"middle\" x=\"455.5\" y=\"-423.3\">output:</text>\n<polyline fill=\"none\" points=\"484.5,-415.5 484.5,-461.5 \" stroke=\"#000000\"/>\n<text fill=\"#000000\" font-family=\"Times,serif\" font-size=\"14.00\" text-anchor=\"middle\" x=\"511.5\" y=\"-446.3\">(?, 64)</text>\n<polyline fill=\"none\" points=\"484.5,-438.5 538.5,-438.5 \" stroke=\"#000000\"/>\n<text fill=\"#000000\" font-family=\"Times,serif\" font-size=\"14.00\" text-anchor=\"middle\" x=\"511.5\" y=\"-423.3\">(?, 64)</text>\n</g>\n<!-- 140671466540448&#45;&gt;140671466779032 -->\n<g class=\"edge\" id=\"edge10\">\n<title>140671466540448-&gt;140671466779032</title>\n<path d=\"M415.5,-498.3799C415.5,-490.1745 415.5,-480.7679 415.5,-471.8786\" fill=\"none\" stroke=\"#000000\"/>\n<polygon fill=\"#000000\" points=\"419.0001,-471.784 415.5,-461.784 412.0001,-471.784 419.0001,-471.784\" stroke=\"#000000\"/>\n</g>\n<!-- 140671465983392 -->\n<g class=\"node\" id=\"node12\">\n<title>140671465983392</title>\n<polygon fill=\"none\" points=\"79,-332.5 79,-378.5 486,-378.5 486,-332.5 79,-332.5\" stroke=\"#000000\"/>\n<text fill=\"#000000\" font-family=\"Times,serif\" font-size=\"14.00\" text-anchor=\"middle\" x=\"199.5\" y=\"-351.8\">tf_op_layer_Sub: TensorFlowOpLayer</text>\n<polyline fill=\"none\" points=\"320,-332.5 320,-378.5 \" stroke=\"#000000\"/>\n<text fill=\"#000000\" font-family=\"Times,serif\" font-size=\"14.00\" text-anchor=\"middle\" x=\"349\" y=\"-363.3\">input:</text>\n<polyline fill=\"none\" points=\"320,-355.5 378,-355.5 \" stroke=\"#000000\"/>\n<text fill=\"#000000\" font-family=\"Times,serif\" font-size=\"14.00\" text-anchor=\"middle\" x=\"349\" y=\"-340.3\">output:</text>\n<polyline fill=\"none\" points=\"378,-332.5 378,-378.5 \" stroke=\"#000000\"/>\n<text fill=\"#000000\" font-family=\"Times,serif\" font-size=\"14.00\" text-anchor=\"middle\" x=\"432\" y=\"-363.3\">[(?, 64), (?, 64)]</text>\n<polyline fill=\"none\" points=\"378,-355.5 486,-355.5 \" stroke=\"#000000\"/>\n<text fill=\"#000000\" font-family=\"Times,serif\" font-size=\"14.00\" text-anchor=\"middle\" x=\"432\" y=\"-340.3\">[(?, 64)]</text>\n</g>\n<!-- 140671467475576&#45;&gt;140671465983392 -->\n<g class=\"edge\" id=\"edge11\">\n<title>140671467475576-&gt;140671465983392</title>\n<path d=\"M187.2694,-415.3799C202.5883,-405.7475 220.54,-394.4597 236.7028,-384.2967\" fill=\"none\" stroke=\"#000000\"/>\n<polygon fill=\"#000000\" points=\"238.8675,-387.07 245.47,-378.784 235.1414,-381.1441 238.8675,-387.07\" stroke=\"#000000\"/>\n</g>\n<!-- 140671466779032&#45;&gt;140671465983392 -->\n<g class=\"edge\" id=\"edge12\">\n<title>140671466779032-&gt;140671465983392</title>\n<path d=\"M378.4521,-415.3799C363.0171,-405.7475 344.9294,-394.4597 328.6441,-384.2967\" fill=\"none\" stroke=\"#000000\"/>\n<polygon fill=\"#000000\" points=\"330.1471,-381.1091 319.8105,-378.784 326.4411,-387.0476 330.1471,-381.1091\" stroke=\"#000000\"/>\n</g>\n<!-- 140671465982608 -->\n<g class=\"node\" id=\"node13\">\n<title>140671465982608</title>\n<polygon fill=\"none\" points=\"101.5,-249.5 101.5,-295.5 463.5,-295.5 463.5,-249.5 101.5,-249.5\" stroke=\"#000000\"/>\n<text fill=\"#000000\" font-family=\"Times,serif\" font-size=\"14.00\" text-anchor=\"middle\" x=\"222\" y=\"-268.8\">tf_op_layer_Abs: TensorFlowOpLayer</text>\n<polyline fill=\"none\" points=\"342.5,-249.5 342.5,-295.5 \" stroke=\"#000000\"/>\n<text fill=\"#000000\" font-family=\"Times,serif\" font-size=\"14.00\" text-anchor=\"middle\" x=\"371.5\" y=\"-280.3\">input:</text>\n<polyline fill=\"none\" points=\"342.5,-272.5 400.5,-272.5 \" stroke=\"#000000\"/>\n<text fill=\"#000000\" font-family=\"Times,serif\" font-size=\"14.00\" text-anchor=\"middle\" x=\"371.5\" y=\"-257.3\">output:</text>\n<polyline fill=\"none\" points=\"400.5,-249.5 400.5,-295.5 \" stroke=\"#000000\"/>\n<text fill=\"#000000\" font-family=\"Times,serif\" font-size=\"14.00\" text-anchor=\"middle\" x=\"432\" y=\"-280.3\">(?, 64)</text>\n<polyline fill=\"none\" points=\"400.5,-272.5 463.5,-272.5 \" stroke=\"#000000\"/>\n<text fill=\"#000000\" font-family=\"Times,serif\" font-size=\"14.00\" text-anchor=\"middle\" x=\"432\" y=\"-257.3\">[(?, 64)]</text>\n</g>\n<!-- 140671465983392&#45;&gt;140671465982608 -->\n<g class=\"edge\" id=\"edge13\">\n<title>140671465983392-&gt;140671465982608</title>\n<path d=\"M282.5,-332.3799C282.5,-324.1745 282.5,-314.7679 282.5,-305.8786\" fill=\"none\" stroke=\"#000000\"/>\n<polygon fill=\"#000000\" points=\"286.0001,-305.784 282.5,-295.784 279.0001,-305.784 286.0001,-305.784\" stroke=\"#000000\"/>\n</g>\n<!-- 140671465982832 -->\n<g class=\"node\" id=\"node14\">\n<title>140671465982832</title>\n<polygon fill=\"none\" points=\"103,-166.5 103,-212.5 462,-212.5 462,-166.5 103,-166.5\" stroke=\"#000000\"/>\n<text fill=\"#000000\" font-family=\"Times,serif\" font-size=\"14.00\" text-anchor=\"middle\" x=\"225.5\" y=\"-185.8\">tf_op_layer_Sum: TensorFlowOpLayer</text>\n<polyline fill=\"none\" points=\"348,-166.5 348,-212.5 \" stroke=\"#000000\"/>\n<text fill=\"#000000\" font-family=\"Times,serif\" font-size=\"14.00\" text-anchor=\"middle\" x=\"377\" y=\"-197.3\">input:</text>\n<polyline fill=\"none\" points=\"348,-189.5 406,-189.5 \" stroke=\"#000000\"/>\n<text fill=\"#000000\" font-family=\"Times,serif\" font-size=\"14.00\" text-anchor=\"middle\" x=\"377\" y=\"-174.3\">output:</text>\n<polyline fill=\"none\" points=\"406,-166.5 406,-212.5 \" stroke=\"#000000\"/>\n<text fill=\"#000000\" font-family=\"Times,serif\" font-size=\"14.00\" text-anchor=\"middle\" x=\"434\" y=\"-197.3\">(?, 64)</text>\n<polyline fill=\"none\" points=\"406,-189.5 462,-189.5 \" stroke=\"#000000\"/>\n<text fill=\"#000000\" font-family=\"Times,serif\" font-size=\"14.00\" text-anchor=\"middle\" x=\"434\" y=\"-174.3\">[(?, 1)]</text>\n</g>\n<!-- 140671465982608&#45;&gt;140671465982832 -->\n<g class=\"edge\" id=\"edge14\">\n<title>140671465982608-&gt;140671465982832</title>\n<path d=\"M282.5,-249.3799C282.5,-241.1745 282.5,-231.7679 282.5,-222.8786\" fill=\"none\" stroke=\"#000000\"/>\n<polygon fill=\"#000000\" points=\"286.0001,-222.784 282.5,-212.784 279.0001,-222.784 286.0001,-222.784\" stroke=\"#000000\"/>\n</g>\n<!-- 140671466004664 -->\n<g class=\"node\" id=\"node15\">\n<title>140671466004664</title>\n<polygon fill=\"none\" points=\"104.5,-83.5 104.5,-129.5 460.5,-129.5 460.5,-83.5 104.5,-83.5\" stroke=\"#000000\"/>\n<text fill=\"#000000\" font-family=\"Times,serif\" font-size=\"14.00\" text-anchor=\"middle\" x=\"225.5\" y=\"-102.8\">tf_op_layer_Neg: TensorFlowOpLayer</text>\n<polyline fill=\"none\" points=\"346.5,-83.5 346.5,-129.5 \" stroke=\"#000000\"/>\n<text fill=\"#000000\" font-family=\"Times,serif\" font-size=\"14.00\" text-anchor=\"middle\" x=\"375.5\" y=\"-114.3\">input:</text>\n<polyline fill=\"none\" points=\"346.5,-106.5 404.5,-106.5 \" stroke=\"#000000\"/>\n<text fill=\"#000000\" font-family=\"Times,serif\" font-size=\"14.00\" text-anchor=\"middle\" x=\"375.5\" y=\"-91.3\">output:</text>\n<polyline fill=\"none\" points=\"404.5,-83.5 404.5,-129.5 \" stroke=\"#000000\"/>\n<text fill=\"#000000\" font-family=\"Times,serif\" font-size=\"14.00\" text-anchor=\"middle\" x=\"432.5\" y=\"-114.3\">(?, 1)</text>\n<polyline fill=\"none\" points=\"404.5,-106.5 460.5,-106.5 \" stroke=\"#000000\"/>\n<text fill=\"#000000\" font-family=\"Times,serif\" font-size=\"14.00\" text-anchor=\"middle\" x=\"432.5\" y=\"-91.3\">[(?, 1)]</text>\n</g>\n<!-- 140671465982832&#45;&gt;140671466004664 -->\n<g class=\"edge\" id=\"edge15\">\n<title>140671465982832-&gt;140671466004664</title>\n<path d=\"M282.5,-166.3799C282.5,-158.1745 282.5,-148.7679 282.5,-139.8786\" fill=\"none\" stroke=\"#000000\"/>\n<polygon fill=\"#000000\" points=\"286.0001,-139.784 282.5,-129.784 279.0001,-139.784 286.0001,-139.784\" stroke=\"#000000\"/>\n</g>\n<!-- 140671466005000 -->\n<g class=\"node\" id=\"node16\">\n<title>140671466005000</title>\n<polygon fill=\"none\" points=\"104.5,-.5 104.5,-46.5 460.5,-46.5 460.5,-.5 104.5,-.5\" stroke=\"#000000\"/>\n<text fill=\"#000000\" font-family=\"Times,serif\" font-size=\"14.00\" text-anchor=\"middle\" x=\"225.5\" y=\"-19.8\">tf_op_layer_Exp: TensorFlowOpLayer</text>\n<polyline fill=\"none\" points=\"346.5,-.5 346.5,-46.5 \" stroke=\"#000000\"/>\n<text fill=\"#000000\" font-family=\"Times,serif\" font-size=\"14.00\" text-anchor=\"middle\" x=\"375.5\" y=\"-31.3\">input:</text>\n<polyline fill=\"none\" points=\"346.5,-23.5 404.5,-23.5 \" stroke=\"#000000\"/>\n<text fill=\"#000000\" font-family=\"Times,serif\" font-size=\"14.00\" text-anchor=\"middle\" x=\"375.5\" y=\"-8.3\">output:</text>\n<polyline fill=\"none\" points=\"404.5,-.5 404.5,-46.5 \" stroke=\"#000000\"/>\n<text fill=\"#000000\" font-family=\"Times,serif\" font-size=\"14.00\" text-anchor=\"middle\" x=\"432.5\" y=\"-31.3\">(?, 1)</text>\n<polyline fill=\"none\" points=\"404.5,-23.5 460.5,-23.5 \" stroke=\"#000000\"/>\n<text fill=\"#000000\" font-family=\"Times,serif\" font-size=\"14.00\" text-anchor=\"middle\" x=\"432.5\" y=\"-8.3\">[(?, 1)]</text>\n</g>\n<!-- 140671466004664&#45;&gt;140671466005000 -->\n<g class=\"edge\" id=\"edge16\">\n<title>140671466004664-&gt;140671466005000</title>\n<path d=\"M282.5,-83.3799C282.5,-75.1745 282.5,-65.7679 282.5,-56.8786\" fill=\"none\" stroke=\"#000000\"/>\n<polygon fill=\"#000000\" points=\"286.0001,-56.784 282.5,-46.784 279.0001,-56.784 286.0001,-56.784\" stroke=\"#000000\"/>\n</g>\n</g>\n</svg>"
          },
          "metadata": {
            "tags": []
          },
          "execution_count": 47
        }
      ]
    },
    {
      "cell_type": "code",
      "metadata": {
        "id": "oi_OVWPG7_HV",
        "colab_type": "code",
        "colab": {
          "base_uri": "https://localhost:8080/",
          "height": 737
        },
        "outputId": "d026d074-5657-4e4a-b347-4f84ae6c5950"
      },
      "source": [
        "# 모델 학습\n",
        "y_train = y_train.reshape(-1, 1)\n",
        "y_test = y_test.reshape(-1, 1)\n",
        "hist = model.fit([X_train_1, X_train_2], y_train,\n",
        "                 validation_data=([X_test_1, X_test_2], y_test),\n",
        "                 batch_size=1000,\n",
        "                 epochs=20)"
      ],
      "execution_count": null,
      "outputs": [
        {
          "output_type": "stream",
          "text": [
            "Epoch 1/20\n",
            "239/239 [==============================] - 11s 44ms/step - loss: 0.5701 - val_loss: 0.2875\n",
            "Epoch 2/20\n",
            "239/239 [==============================] - 10s 41ms/step - loss: 0.2252 - val_loss: 0.1924\n",
            "Epoch 3/20\n",
            "239/239 [==============================] - 10s 41ms/step - loss: 0.1877 - val_loss: 0.1863\n",
            "Epoch 4/20\n",
            "239/239 [==============================] - 10s 41ms/step - loss: 0.1807 - val_loss: 0.1823\n",
            "Epoch 5/20\n",
            "239/239 [==============================] - 10s 41ms/step - loss: 0.1769 - val_loss: 0.1776\n",
            "Epoch 6/20\n",
            "239/239 [==============================] - 10s 41ms/step - loss: 0.1734 - val_loss: 0.1820\n",
            "Epoch 7/20\n",
            "239/239 [==============================] - 10s 41ms/step - loss: 0.1704 - val_loss: 0.1836\n",
            "Epoch 8/20\n",
            "239/239 [==============================] - 10s 41ms/step - loss: 0.1678 - val_loss: 0.1772\n",
            "Epoch 9/20\n",
            "239/239 [==============================] - 10s 41ms/step - loss: 0.1648 - val_loss: 0.1776\n",
            "Epoch 10/20\n",
            "239/239 [==============================] - 10s 41ms/step - loss: 0.1628 - val_loss: 0.1720\n",
            "Epoch 11/20\n",
            "239/239 [==============================] - 10s 41ms/step - loss: 0.1601 - val_loss: 0.1742\n",
            "Epoch 12/20\n",
            "239/239 [==============================] - 10s 41ms/step - loss: 0.1582 - val_loss: 0.1746\n",
            "Epoch 13/20\n",
            "239/239 [==============================] - 10s 41ms/step - loss: 0.1557 - val_loss: 0.1744\n",
            "Epoch 14/20\n",
            "239/239 [==============================] - 10s 41ms/step - loss: 0.1542 - val_loss: 0.1726\n",
            "Epoch 15/20\n",
            "239/239 [==============================] - 10s 41ms/step - loss: 0.1521 - val_loss: 0.1693\n",
            "Epoch 16/20\n",
            "239/239 [==============================] - 10s 41ms/step - loss: 0.1503 - val_loss: 0.1708\n",
            "Epoch 17/20\n",
            "239/239 [==============================] - 10s 41ms/step - loss: 0.1482 - val_loss: 0.1688\n",
            "Epoch 18/20\n",
            "239/239 [==============================] - 10s 41ms/step - loss: 0.1464 - val_loss: 0.1667\n",
            "Epoch 19/20\n",
            "239/239 [==============================] - 10s 41ms/step - loss: 0.1447 - val_loss: 0.1762\n",
            "Epoch 20/20\n",
            "239/239 [==============================] - 10s 41ms/step - loss: 0.1432 - val_loss: 0.1698\n"
          ],
          "name": "stdout"
        }
      ]
    },
    {
      "cell_type": "code",
      "metadata": {
        "id": "jA1uSo3G8Ekx",
        "colab_type": "code",
        "colab": {
          "base_uri": "https://localhost:8080/",
          "height": 35
        },
        "outputId": "1c29f24a-b351-46cb-d076-18bba5865fab"
      },
      "source": [
        "# 예측 및 결과 확인\n",
        "y_pred = model.predict([X_test_1, X_test_2])\n",
        "y_pred = np.where(y_pred > 0.5, 1, 0)\n",
        "accuracy = (y_test == y_pred).mean()\n",
        "print(f\"Test Accuracy: {accuracy}\")"
      ],
      "execution_count": null,
      "outputs": [
        {
          "output_type": "stream",
          "text": [
            "Test Accuracy: 0.7513018435108753\n"
          ],
          "name": "stdout"
        }
      ]
    },
    {
      "cell_type": "markdown",
      "metadata": {
        "id": "_PTiRnaA_mlA",
        "colab_type": "text"
      },
      "source": [
        "#### Fine-Tuning 진행"
      ]
    },
    {
      "cell_type": "code",
      "metadata": {
        "id": "Dsuqr9FE_ocO",
        "colab_type": "code",
        "colab": {}
      },
      "source": [
        "# 데이터 분리\n",
        "X_train_1, X_test_1, X_train_2, X_test_2, y_train, y_test = train_test_split(q1_data, q2_data, train_labels,\n",
        "                                                                             test_size=0.2,\n",
        "                                                                             random_state=42)"
      ],
      "execution_count": null,
      "outputs": []
    },
    {
      "cell_type": "code",
      "metadata": {
        "id": "l8G2Bfsi_qi9",
        "colab_type": "code",
        "colab": {
          "base_uri": "https://localhost:8080/",
          "height": 1000
        },
        "outputId": "5e920d66-de5f-410b-d61c-8191416ee853"
      },
      "source": [
        "K.clear_session()\n",
        "\n",
        "# LSTM 네트워크 구성\n",
        "X_input_1 = Input(batch_shape=(None, X_train_1.shape[1]))\n",
        "X_input_2 = Input(batch_shape=(None, X_train_2.shape[1]))\n",
        "\n",
        "# 임베딩 : trainable = True\n",
        "X_embed = Embedding(input_dim=VOCAB_SIZE, output_dim=EMB_SIZE,\n",
        "                    weights=[WE], trainable=True)\n",
        "\n",
        "X_embed_1 = X_embed(X_input_1)\n",
        "X_embed_1 = Dropout(0.2)(X_embed_1)\n",
        "X_lstm_1 = LSTM(n_hidden)(X_embed_1)\n",
        "X_dense_1 = Dense(n_feature, activation='relu', kernel_regularizer=l2(0.005))(X_lstm_1)\n",
        "X_dense_1 = Dropout(0.2)(X_dense_1)\n",
        "\n",
        "X_embed_2 = X_embed(X_input_2)\n",
        "X_embed_2 = Dropout(0.2)(X_embed_2)\n",
        "X_lstm_2 = LSTM(n_hidden)(X_embed_2)\n",
        "X_dense_2 = Dense(n_feature, activation='relu', kernel_regularizer=l2(0.005))(X_lstm_2)\n",
        "X_dense_2 = Dropout(0.2)(X_dense_2)\n",
        "\n",
        "y_manhattan_dist = K.exp(-K.sum(K.abs(X_dense_1 - X_dense_2), axis=1, keepdims=True)) # 각 출력으로 맨하탄 거리 계산\n",
        "\n",
        "# 모델 구성\n",
        "model = Model([X_input_1, X_input_2], y_manhattan_dist)\n",
        "model.compile(loss='mean_squared_error', optimizer=Adam(lr=0.0005))\n",
        "print(\"========== 모델 전체 구조 확인 ==========\")\n",
        "print(model.summary())\n",
        "SVG(model_to_dot(model, show_shapes= True, show_layer_names=True, dpi=65).create(prog='dot', format='svg'))"
      ],
      "execution_count": null,
      "outputs": [
        {
          "output_type": "stream",
          "text": [
            "========== 모델 전체 구조 확인 ==========\n",
            "Model: \"functional_1\"\n",
            "__________________________________________________________________________________________________\n",
            "Layer (type)                    Output Shape         Param #     Connected to                     \n",
            "==================================================================================================\n",
            "input_1 (InputLayer)            [(None, 31)]         0                                            \n",
            "__________________________________________________________________________________________________\n",
            "input_2 (InputLayer)            [(None, 31)]         0                                            \n",
            "__________________________________________________________________________________________________\n",
            "embedding (Embedding)           (None, 31, 300)      22922100    input_1[0][0]                    \n",
            "                                                                 input_2[0][0]                    \n",
            "__________________________________________________________________________________________________\n",
            "dropout (Dropout)               (None, 31, 300)      0           embedding[0][0]                  \n",
            "__________________________________________________________________________________________________\n",
            "dropout_2 (Dropout)             (None, 31, 300)      0           embedding[1][0]                  \n",
            "__________________________________________________________________________________________________\n",
            "lstm (LSTM)                     (None, 128)          219648      dropout[0][0]                    \n",
            "__________________________________________________________________________________________________\n",
            "lstm_1 (LSTM)                   (None, 128)          219648      dropout_2[0][0]                  \n",
            "__________________________________________________________________________________________________\n",
            "dense (Dense)                   (None, 64)           8256        lstm[0][0]                       \n",
            "__________________________________________________________________________________________________\n",
            "dense_1 (Dense)                 (None, 64)           8256        lstm_1[0][0]                     \n",
            "__________________________________________________________________________________________________\n",
            "dropout_1 (Dropout)             (None, 64)           0           dense[0][0]                      \n",
            "__________________________________________________________________________________________________\n",
            "dropout_3 (Dropout)             (None, 64)           0           dense_1[0][0]                    \n",
            "__________________________________________________________________________________________________\n",
            "tf_op_layer_Sub (TensorFlowOpLa [(None, 64)]         0           dropout_1[0][0]                  \n",
            "                                                                 dropout_3[0][0]                  \n",
            "__________________________________________________________________________________________________\n",
            "tf_op_layer_Abs (TensorFlowOpLa [(None, 64)]         0           tf_op_layer_Sub[0][0]            \n",
            "__________________________________________________________________________________________________\n",
            "tf_op_layer_Sum (TensorFlowOpLa [(None, 1)]          0           tf_op_layer_Abs[0][0]            \n",
            "__________________________________________________________________________________________________\n",
            "tf_op_layer_Neg (TensorFlowOpLa [(None, 1)]          0           tf_op_layer_Sum[0][0]            \n",
            "__________________________________________________________________________________________________\n",
            "tf_op_layer_Exp (TensorFlowOpLa [(None, 1)]          0           tf_op_layer_Neg[0][0]            \n",
            "==================================================================================================\n",
            "Total params: 23,377,908\n",
            "Trainable params: 23,377,908\n",
            "Non-trainable params: 0\n",
            "__________________________________________________________________________________________________\n",
            "None\n"
          ],
          "name": "stdout"
        },
        {
          "output_type": "execute_result",
          "data": {
            "text/plain": [
              "<IPython.core.display.SVG object>"
            ],
            "image/svg+xml": "<svg height=\"799pt\" viewBox=\"0.00 0.00 563.50 885.00\" width=\"509pt\" xmlns=\"http://www.w3.org/2000/svg\" xmlns:xlink=\"http://www.w3.org/1999/xlink\">\n<g class=\"graph\" id=\"graph0\" transform=\"scale(.9028 .9028) rotate(0) translate(4 881)\">\n<title>G</title>\n<polygon fill=\"#ffffff\" points=\"-4,4 -4,-881 559.5,-881 559.5,4 -4,4\" stroke=\"transparent\"/>\n<!-- 140671427318616 -->\n<g class=\"node\" id=\"node1\">\n<title>140671427318616</title>\n<polygon fill=\"none\" points=\"10.5,-830.5 10.5,-876.5 264.5,-876.5 264.5,-830.5 10.5,-830.5\" stroke=\"#000000\"/>\n<text fill=\"#000000\" font-family=\"Times,serif\" font-size=\"14.00\" text-anchor=\"middle\" x=\"77\" y=\"-849.8\">input_1: InputLayer</text>\n<polyline fill=\"none\" points=\"143.5,-830.5 143.5,-876.5 \" stroke=\"#000000\"/>\n<text fill=\"#000000\" font-family=\"Times,serif\" font-size=\"14.00\" text-anchor=\"middle\" x=\"172.5\" y=\"-861.3\">input:</text>\n<polyline fill=\"none\" points=\"143.5,-853.5 201.5,-853.5 \" stroke=\"#000000\"/>\n<text fill=\"#000000\" font-family=\"Times,serif\" font-size=\"14.00\" text-anchor=\"middle\" x=\"172.5\" y=\"-838.3\">output:</text>\n<polyline fill=\"none\" points=\"201.5,-830.5 201.5,-876.5 \" stroke=\"#000000\"/>\n<text fill=\"#000000\" font-family=\"Times,serif\" font-size=\"14.00\" text-anchor=\"middle\" x=\"233\" y=\"-861.3\">[(?, 31)]</text>\n<polyline fill=\"none\" points=\"201.5,-853.5 264.5,-853.5 \" stroke=\"#000000\"/>\n<text fill=\"#000000\" font-family=\"Times,serif\" font-size=\"14.00\" text-anchor=\"middle\" x=\"233\" y=\"-838.3\">[(?, 31)]</text>\n</g>\n<!-- 140671428163568 -->\n<g class=\"node\" id=\"node3\">\n<title>140671428163568</title>\n<polygon fill=\"none\" points=\"124.5,-747.5 124.5,-793.5 422.5,-793.5 422.5,-747.5 124.5,-747.5\" stroke=\"#000000\"/>\n<text fill=\"#000000\" font-family=\"Times,serif\" font-size=\"14.00\" text-anchor=\"middle\" x=\"202.5\" y=\"-766.8\">embedding: Embedding</text>\n<polyline fill=\"none\" points=\"280.5,-747.5 280.5,-793.5 \" stroke=\"#000000\"/>\n<text fill=\"#000000\" font-family=\"Times,serif\" font-size=\"14.00\" text-anchor=\"middle\" x=\"309.5\" y=\"-778.3\">input:</text>\n<polyline fill=\"none\" points=\"280.5,-770.5 338.5,-770.5 \" stroke=\"#000000\"/>\n<text fill=\"#000000\" font-family=\"Times,serif\" font-size=\"14.00\" text-anchor=\"middle\" x=\"309.5\" y=\"-755.3\">output:</text>\n<polyline fill=\"none\" points=\"338.5,-747.5 338.5,-793.5 \" stroke=\"#000000\"/>\n<text fill=\"#000000\" font-family=\"Times,serif\" font-size=\"14.00\" text-anchor=\"middle\" x=\"380.5\" y=\"-778.3\">(?, 31)</text>\n<polyline fill=\"none\" points=\"338.5,-770.5 422.5,-770.5 \" stroke=\"#000000\"/>\n<text fill=\"#000000\" font-family=\"Times,serif\" font-size=\"14.00\" text-anchor=\"middle\" x=\"380.5\" y=\"-755.3\">(?, 31, 300)</text>\n</g>\n<!-- 140671427318616&#45;&gt;140671428163568 -->\n<g class=\"edge\" id=\"edge1\">\n<title>140671427318616-&gt;140671428163568</title>\n<path d=\"M175.3836,-830.3799C191.3128,-820.6583 210.0052,-809.2505 226.7771,-799.0147\" fill=\"none\" stroke=\"#000000\"/>\n<polygon fill=\"#000000\" points=\"228.6353,-801.9811 235.3479,-793.784 224.9886,-796.0059 228.6353,-801.9811\" stroke=\"#000000\"/>\n</g>\n<!-- 140670047682008 -->\n<g class=\"node\" id=\"node2\">\n<title>140670047682008</title>\n<polygon fill=\"none\" points=\"282.5,-830.5 282.5,-876.5 536.5,-876.5 536.5,-830.5 282.5,-830.5\" stroke=\"#000000\"/>\n<text fill=\"#000000\" font-family=\"Times,serif\" font-size=\"14.00\" text-anchor=\"middle\" x=\"349\" y=\"-849.8\">input_2: InputLayer</text>\n<polyline fill=\"none\" points=\"415.5,-830.5 415.5,-876.5 \" stroke=\"#000000\"/>\n<text fill=\"#000000\" font-family=\"Times,serif\" font-size=\"14.00\" text-anchor=\"middle\" x=\"444.5\" y=\"-861.3\">input:</text>\n<polyline fill=\"none\" points=\"415.5,-853.5 473.5,-853.5 \" stroke=\"#000000\"/>\n<text fill=\"#000000\" font-family=\"Times,serif\" font-size=\"14.00\" text-anchor=\"middle\" x=\"444.5\" y=\"-838.3\">output:</text>\n<polyline fill=\"none\" points=\"473.5,-830.5 473.5,-876.5 \" stroke=\"#000000\"/>\n<text fill=\"#000000\" font-family=\"Times,serif\" font-size=\"14.00\" text-anchor=\"middle\" x=\"505\" y=\"-861.3\">[(?, 31)]</text>\n<polyline fill=\"none\" points=\"473.5,-853.5 536.5,-853.5 \" stroke=\"#000000\"/>\n<text fill=\"#000000\" font-family=\"Times,serif\" font-size=\"14.00\" text-anchor=\"middle\" x=\"505\" y=\"-838.3\">[(?, 31)]</text>\n</g>\n<!-- 140670047682008&#45;&gt;140671428163568 -->\n<g class=\"edge\" id=\"edge2\">\n<title>140670047682008-&gt;140671428163568</title>\n<path d=\"M371.6164,-830.3799C355.6872,-820.6583 336.9948,-809.2505 320.2229,-799.0147\" fill=\"none\" stroke=\"#000000\"/>\n<polygon fill=\"#000000\" points=\"322.0114,-796.0059 311.6521,-793.784 318.3647,-801.9811 322.0114,-796.0059\" stroke=\"#000000\"/>\n</g>\n<!-- 140671427302456 -->\n<g class=\"node\" id=\"node4\">\n<title>140671427302456</title>\n<polygon fill=\"none\" points=\"0,-664.5 0,-710.5 261,-710.5 261,-664.5 0,-664.5\" stroke=\"#000000\"/>\n<text fill=\"#000000\" font-family=\"Times,serif\" font-size=\"14.00\" text-anchor=\"middle\" x=\"59.5\" y=\"-683.8\">dropout: Dropout</text>\n<polyline fill=\"none\" points=\"119,-664.5 119,-710.5 \" stroke=\"#000000\"/>\n<text fill=\"#000000\" font-family=\"Times,serif\" font-size=\"14.00\" text-anchor=\"middle\" x=\"148\" y=\"-695.3\">input:</text>\n<polyline fill=\"none\" points=\"119,-687.5 177,-687.5 \" stroke=\"#000000\"/>\n<text fill=\"#000000\" font-family=\"Times,serif\" font-size=\"14.00\" text-anchor=\"middle\" x=\"148\" y=\"-672.3\">output:</text>\n<polyline fill=\"none\" points=\"177,-664.5 177,-710.5 \" stroke=\"#000000\"/>\n<text fill=\"#000000\" font-family=\"Times,serif\" font-size=\"14.00\" text-anchor=\"middle\" x=\"219\" y=\"-695.3\">(?, 31, 300)</text>\n<polyline fill=\"none\" points=\"177,-687.5 261,-687.5 \" stroke=\"#000000\"/>\n<text fill=\"#000000\" font-family=\"Times,serif\" font-size=\"14.00\" text-anchor=\"middle\" x=\"219\" y=\"-672.3\">(?, 31, 300)</text>\n</g>\n<!-- 140671428163568&#45;&gt;140671427302456 -->\n<g class=\"edge\" id=\"edge3\">\n<title>140671428163568-&gt;140671427302456</title>\n<path d=\"M233.6665,-747.3799C216.9174,-737.6583 197.2629,-726.2505 179.6277,-716.0147\" fill=\"none\" stroke=\"#000000\"/>\n<polygon fill=\"#000000\" points=\"181.0215,-712.7769 170.6158,-710.784 177.5076,-718.831 181.0215,-712.7769\" stroke=\"#000000\"/>\n</g>\n<!-- 140670047738456 -->\n<g class=\"node\" id=\"node5\">\n<title>140670047738456</title>\n<polygon fill=\"none\" points=\"279.5,-664.5 279.5,-710.5 555.5,-710.5 555.5,-664.5 279.5,-664.5\" stroke=\"#000000\"/>\n<text fill=\"#000000\" font-family=\"Times,serif\" font-size=\"14.00\" text-anchor=\"middle\" x=\"346.5\" y=\"-683.8\">dropout_2: Dropout</text>\n<polyline fill=\"none\" points=\"413.5,-664.5 413.5,-710.5 \" stroke=\"#000000\"/>\n<text fill=\"#000000\" font-family=\"Times,serif\" font-size=\"14.00\" text-anchor=\"middle\" x=\"442.5\" y=\"-695.3\">input:</text>\n<polyline fill=\"none\" points=\"413.5,-687.5 471.5,-687.5 \" stroke=\"#000000\"/>\n<text fill=\"#000000\" font-family=\"Times,serif\" font-size=\"14.00\" text-anchor=\"middle\" x=\"442.5\" y=\"-672.3\">output:</text>\n<polyline fill=\"none\" points=\"471.5,-664.5 471.5,-710.5 \" stroke=\"#000000\"/>\n<text fill=\"#000000\" font-family=\"Times,serif\" font-size=\"14.00\" text-anchor=\"middle\" x=\"513.5\" y=\"-695.3\">(?, 31, 300)</text>\n<polyline fill=\"none\" points=\"471.5,-687.5 555.5,-687.5 \" stroke=\"#000000\"/>\n<text fill=\"#000000\" font-family=\"Times,serif\" font-size=\"14.00\" text-anchor=\"middle\" x=\"513.5\" y=\"-672.3\">(?, 31, 300)</text>\n</g>\n<!-- 140671428163568&#45;&gt;140670047738456 -->\n<g class=\"edge\" id=\"edge4\">\n<title>140671428163568-&gt;140670047738456</title>\n<path d=\"M313.612,-747.3799C330.5492,-737.6175 350.4366,-726.1546 368.2524,-715.8857\" fill=\"none\" stroke=\"#000000\"/>\n<polygon fill=\"#000000\" points=\"370.4375,-718.6661 377.3536,-710.6399 366.9419,-712.6014 370.4375,-718.6661\" stroke=\"#000000\"/>\n</g>\n<!-- 140671428164016 -->\n<g class=\"node\" id=\"node6\">\n<title>140671428164016</title>\n<polygon fill=\"none\" points=\"27,-581.5 27,-627.5 256,-627.5 256,-581.5 27,-581.5\" stroke=\"#000000\"/>\n<text fill=\"#000000\" font-family=\"Times,serif\" font-size=\"14.00\" text-anchor=\"middle\" x=\"70.5\" y=\"-600.8\">lstm: LSTM</text>\n<polyline fill=\"none\" points=\"114,-581.5 114,-627.5 \" stroke=\"#000000\"/>\n<text fill=\"#000000\" font-family=\"Times,serif\" font-size=\"14.00\" text-anchor=\"middle\" x=\"143\" y=\"-612.3\">input:</text>\n<polyline fill=\"none\" points=\"114,-604.5 172,-604.5 \" stroke=\"#000000\"/>\n<text fill=\"#000000\" font-family=\"Times,serif\" font-size=\"14.00\" text-anchor=\"middle\" x=\"143\" y=\"-589.3\">output:</text>\n<polyline fill=\"none\" points=\"172,-581.5 172,-627.5 \" stroke=\"#000000\"/>\n<text fill=\"#000000\" font-family=\"Times,serif\" font-size=\"14.00\" text-anchor=\"middle\" x=\"214\" y=\"-612.3\">(?, 31, 300)</text>\n<polyline fill=\"none\" points=\"172,-604.5 256,-604.5 \" stroke=\"#000000\"/>\n<text fill=\"#000000\" font-family=\"Times,serif\" font-size=\"14.00\" text-anchor=\"middle\" x=\"214\" y=\"-589.3\">(?, 128)</text>\n</g>\n<!-- 140671427302456&#45;&gt;140671428164016 -->\n<g class=\"edge\" id=\"edge5\">\n<title>140671427302456-&gt;140671428164016</title>\n<path d=\"M133.5641,-664.3799C134.6516,-656.1745 135.8982,-646.7679 137.0763,-637.8786\" fill=\"none\" stroke=\"#000000\"/>\n<polygon fill=\"#000000\" points=\"140.5699,-638.1572 138.4142,-627.784 133.6306,-637.2375 140.5699,-638.1572\" stroke=\"#000000\"/>\n</g>\n<!-- 140670047814152 -->\n<g class=\"node\" id=\"node7\">\n<title>140670047814152</title>\n<polygon fill=\"none\" points=\"294.5,-581.5 294.5,-627.5 538.5,-627.5 538.5,-581.5 294.5,-581.5\" stroke=\"#000000\"/>\n<text fill=\"#000000\" font-family=\"Times,serif\" font-size=\"14.00\" text-anchor=\"middle\" x=\"345.5\" y=\"-600.8\">lstm_1: LSTM</text>\n<polyline fill=\"none\" points=\"396.5,-581.5 396.5,-627.5 \" stroke=\"#000000\"/>\n<text fill=\"#000000\" font-family=\"Times,serif\" font-size=\"14.00\" text-anchor=\"middle\" x=\"425.5\" y=\"-612.3\">input:</text>\n<polyline fill=\"none\" points=\"396.5,-604.5 454.5,-604.5 \" stroke=\"#000000\"/>\n<text fill=\"#000000\" font-family=\"Times,serif\" font-size=\"14.00\" text-anchor=\"middle\" x=\"425.5\" y=\"-589.3\">output:</text>\n<polyline fill=\"none\" points=\"454.5,-581.5 454.5,-627.5 \" stroke=\"#000000\"/>\n<text fill=\"#000000\" font-family=\"Times,serif\" font-size=\"14.00\" text-anchor=\"middle\" x=\"496.5\" y=\"-612.3\">(?, 31, 300)</text>\n<polyline fill=\"none\" points=\"454.5,-604.5 538.5,-604.5 \" stroke=\"#000000\"/>\n<text fill=\"#000000\" font-family=\"Times,serif\" font-size=\"14.00\" text-anchor=\"middle\" x=\"496.5\" y=\"-589.3\">(?, 128)</text>\n</g>\n<!-- 140670047738456&#45;&gt;140670047814152 -->\n<g class=\"edge\" id=\"edge6\">\n<title>140670047738456-&gt;140670047814152</title>\n<path d=\"M417.2214,-664.3799C417.1226,-656.1745 417.0093,-646.7679 416.9022,-637.8786\" fill=\"none\" stroke=\"#000000\"/>\n<polygon fill=\"#000000\" points=\"420.4008,-637.7411 416.7805,-627.784 413.4014,-637.8255 420.4008,-637.7411\" stroke=\"#000000\"/>\n</g>\n<!-- 140670047537192 -->\n<g class=\"node\" id=\"node8\">\n<title>140670047537192</title>\n<polygon fill=\"none\" points=\"41.5,-498.5 41.5,-544.5 253.5,-544.5 253.5,-498.5 41.5,-498.5\" stroke=\"#000000\"/>\n<text fill=\"#000000\" font-family=\"Times,serif\" font-size=\"14.00\" text-anchor=\"middle\" x=\"87.5\" y=\"-517.8\">dense: Dense</text>\n<polyline fill=\"none\" points=\"133.5,-498.5 133.5,-544.5 \" stroke=\"#000000\"/>\n<text fill=\"#000000\" font-family=\"Times,serif\" font-size=\"14.00\" text-anchor=\"middle\" x=\"162.5\" y=\"-529.3\">input:</text>\n<polyline fill=\"none\" points=\"133.5,-521.5 191.5,-521.5 \" stroke=\"#000000\"/>\n<text fill=\"#000000\" font-family=\"Times,serif\" font-size=\"14.00\" text-anchor=\"middle\" x=\"162.5\" y=\"-506.3\">output:</text>\n<polyline fill=\"none\" points=\"191.5,-498.5 191.5,-544.5 \" stroke=\"#000000\"/>\n<text fill=\"#000000\" font-family=\"Times,serif\" font-size=\"14.00\" text-anchor=\"middle\" x=\"222.5\" y=\"-529.3\">(?, 128)</text>\n<polyline fill=\"none\" points=\"191.5,-521.5 253.5,-521.5 \" stroke=\"#000000\"/>\n<text fill=\"#000000\" font-family=\"Times,serif\" font-size=\"14.00\" text-anchor=\"middle\" x=\"222.5\" y=\"-506.3\">(?, 64)</text>\n</g>\n<!-- 140671428164016&#45;&gt;140670047537192 -->\n<g class=\"edge\" id=\"edge7\">\n<title>140671428164016-&gt;140670047537192</title>\n<path d=\"M143.1713,-581.3799C143.7645,-573.1745 144.4445,-563.7679 145.0871,-554.8786\" fill=\"none\" stroke=\"#000000\"/>\n<polygon fill=\"#000000\" points=\"148.5866,-555.0104 145.8168,-544.784 141.6048,-554.5056 148.5866,-555.0104\" stroke=\"#000000\"/>\n</g>\n<!-- 140670046320344 -->\n<g class=\"node\" id=\"node9\">\n<title>140670046320344</title>\n<polygon fill=\"none\" points=\"302,-498.5 302,-544.5 529,-544.5 529,-498.5 302,-498.5\" stroke=\"#000000\"/>\n<text fill=\"#000000\" font-family=\"Times,serif\" font-size=\"14.00\" text-anchor=\"middle\" x=\"355.5\" y=\"-517.8\">dense_1: Dense</text>\n<polyline fill=\"none\" points=\"409,-498.5 409,-544.5 \" stroke=\"#000000\"/>\n<text fill=\"#000000\" font-family=\"Times,serif\" font-size=\"14.00\" text-anchor=\"middle\" x=\"438\" y=\"-529.3\">input:</text>\n<polyline fill=\"none\" points=\"409,-521.5 467,-521.5 \" stroke=\"#000000\"/>\n<text fill=\"#000000\" font-family=\"Times,serif\" font-size=\"14.00\" text-anchor=\"middle\" x=\"438\" y=\"-506.3\">output:</text>\n<polyline fill=\"none\" points=\"467,-498.5 467,-544.5 \" stroke=\"#000000\"/>\n<text fill=\"#000000\" font-family=\"Times,serif\" font-size=\"14.00\" text-anchor=\"middle\" x=\"498\" y=\"-529.3\">(?, 128)</text>\n<polyline fill=\"none\" points=\"467,-521.5 529,-521.5 \" stroke=\"#000000\"/>\n<text fill=\"#000000\" font-family=\"Times,serif\" font-size=\"14.00\" text-anchor=\"middle\" x=\"498\" y=\"-506.3\">(?, 64)</text>\n</g>\n<!-- 140670047814152&#45;&gt;140670046320344 -->\n<g class=\"edge\" id=\"edge8\">\n<title>140670047814152-&gt;140670046320344</title>\n<path d=\"M416.2214,-581.3799C416.1226,-573.1745 416.0093,-563.7679 415.9022,-554.8786\" fill=\"none\" stroke=\"#000000\"/>\n<polygon fill=\"#000000\" points=\"419.4008,-554.7411 415.7805,-544.784 412.4014,-554.8255 419.4008,-554.7411\" stroke=\"#000000\"/>\n</g>\n<!-- 140670047813872 -->\n<g class=\"node\" id=\"node10\">\n<title>140670047813872</title>\n<polygon fill=\"none\" points=\"27.5,-415.5 27.5,-461.5 273.5,-461.5 273.5,-415.5 27.5,-415.5\" stroke=\"#000000\"/>\n<text fill=\"#000000\" font-family=\"Times,serif\" font-size=\"14.00\" text-anchor=\"middle\" x=\"94.5\" y=\"-434.8\">dropout_1: Dropout</text>\n<polyline fill=\"none\" points=\"161.5,-415.5 161.5,-461.5 \" stroke=\"#000000\"/>\n<text fill=\"#000000\" font-family=\"Times,serif\" font-size=\"14.00\" text-anchor=\"middle\" x=\"190.5\" y=\"-446.3\">input:</text>\n<polyline fill=\"none\" points=\"161.5,-438.5 219.5,-438.5 \" stroke=\"#000000\"/>\n<text fill=\"#000000\" font-family=\"Times,serif\" font-size=\"14.00\" text-anchor=\"middle\" x=\"190.5\" y=\"-423.3\">output:</text>\n<polyline fill=\"none\" points=\"219.5,-415.5 219.5,-461.5 \" stroke=\"#000000\"/>\n<text fill=\"#000000\" font-family=\"Times,serif\" font-size=\"14.00\" text-anchor=\"middle\" x=\"246.5\" y=\"-446.3\">(?, 64)</text>\n<polyline fill=\"none\" points=\"219.5,-438.5 273.5,-438.5 \" stroke=\"#000000\"/>\n<text fill=\"#000000\" font-family=\"Times,serif\" font-size=\"14.00\" text-anchor=\"middle\" x=\"246.5\" y=\"-423.3\">(?, 64)</text>\n</g>\n<!-- 140670047537192&#45;&gt;140670047813872 -->\n<g class=\"edge\" id=\"edge9\">\n<title>140670047537192-&gt;140670047813872</title>\n<path d=\"M148.3357,-498.3799C148.6322,-490.1745 148.9722,-480.7679 149.2935,-471.8786\" fill=\"none\" stroke=\"#000000\"/>\n<polygon fill=\"#000000\" points=\"152.7948,-471.9039 149.6584,-461.784 145.7994,-471.651 152.7948,-471.9039\" stroke=\"#000000\"/>\n</g>\n<!-- 140670047054200 -->\n<g class=\"node\" id=\"node11\">\n<title>140670047054200</title>\n<polygon fill=\"none\" points=\"292.5,-415.5 292.5,-461.5 538.5,-461.5 538.5,-415.5 292.5,-415.5\" stroke=\"#000000\"/>\n<text fill=\"#000000\" font-family=\"Times,serif\" font-size=\"14.00\" text-anchor=\"middle\" x=\"359.5\" y=\"-434.8\">dropout_3: Dropout</text>\n<polyline fill=\"none\" points=\"426.5,-415.5 426.5,-461.5 \" stroke=\"#000000\"/>\n<text fill=\"#000000\" font-family=\"Times,serif\" font-size=\"14.00\" text-anchor=\"middle\" x=\"455.5\" y=\"-446.3\">input:</text>\n<polyline fill=\"none\" points=\"426.5,-438.5 484.5,-438.5 \" stroke=\"#000000\"/>\n<text fill=\"#000000\" font-family=\"Times,serif\" font-size=\"14.00\" text-anchor=\"middle\" x=\"455.5\" y=\"-423.3\">output:</text>\n<polyline fill=\"none\" points=\"484.5,-415.5 484.5,-461.5 \" stroke=\"#000000\"/>\n<text fill=\"#000000\" font-family=\"Times,serif\" font-size=\"14.00\" text-anchor=\"middle\" x=\"511.5\" y=\"-446.3\">(?, 64)</text>\n<polyline fill=\"none\" points=\"484.5,-438.5 538.5,-438.5 \" stroke=\"#000000\"/>\n<text fill=\"#000000\" font-family=\"Times,serif\" font-size=\"14.00\" text-anchor=\"middle\" x=\"511.5\" y=\"-423.3\">(?, 64)</text>\n</g>\n<!-- 140670046320344&#45;&gt;140670047054200 -->\n<g class=\"edge\" id=\"edge10\">\n<title>140670046320344-&gt;140670047054200</title>\n<path d=\"M415.5,-498.3799C415.5,-490.1745 415.5,-480.7679 415.5,-471.8786\" fill=\"none\" stroke=\"#000000\"/>\n<polygon fill=\"#000000\" points=\"419.0001,-471.784 415.5,-461.784 412.0001,-471.784 419.0001,-471.784\" stroke=\"#000000\"/>\n</g>\n<!-- 140670045803968 -->\n<g class=\"node\" id=\"node12\">\n<title>140670045803968</title>\n<polygon fill=\"none\" points=\"79,-332.5 79,-378.5 486,-378.5 486,-332.5 79,-332.5\" stroke=\"#000000\"/>\n<text fill=\"#000000\" font-family=\"Times,serif\" font-size=\"14.00\" text-anchor=\"middle\" x=\"199.5\" y=\"-351.8\">tf_op_layer_Sub: TensorFlowOpLayer</text>\n<polyline fill=\"none\" points=\"320,-332.5 320,-378.5 \" stroke=\"#000000\"/>\n<text fill=\"#000000\" font-family=\"Times,serif\" font-size=\"14.00\" text-anchor=\"middle\" x=\"349\" y=\"-363.3\">input:</text>\n<polyline fill=\"none\" points=\"320,-355.5 378,-355.5 \" stroke=\"#000000\"/>\n<text fill=\"#000000\" font-family=\"Times,serif\" font-size=\"14.00\" text-anchor=\"middle\" x=\"349\" y=\"-340.3\">output:</text>\n<polyline fill=\"none\" points=\"378,-332.5 378,-378.5 \" stroke=\"#000000\"/>\n<text fill=\"#000000\" font-family=\"Times,serif\" font-size=\"14.00\" text-anchor=\"middle\" x=\"432\" y=\"-363.3\">[(?, 64), (?, 64)]</text>\n<polyline fill=\"none\" points=\"378,-355.5 486,-355.5 \" stroke=\"#000000\"/>\n<text fill=\"#000000\" font-family=\"Times,serif\" font-size=\"14.00\" text-anchor=\"middle\" x=\"432\" y=\"-340.3\">[(?, 64)]</text>\n</g>\n<!-- 140670047813872&#45;&gt;140670045803968 -->\n<g class=\"edge\" id=\"edge11\">\n<title>140670047813872-&gt;140670045803968</title>\n<path d=\"M187.2694,-415.3799C202.5883,-405.7475 220.54,-394.4597 236.7028,-384.2967\" fill=\"none\" stroke=\"#000000\"/>\n<polygon fill=\"#000000\" points=\"238.8675,-387.07 245.47,-378.784 235.1414,-381.1441 238.8675,-387.07\" stroke=\"#000000\"/>\n</g>\n<!-- 140670047054200&#45;&gt;140670045803968 -->\n<g class=\"edge\" id=\"edge12\">\n<title>140670047054200-&gt;140670045803968</title>\n<path d=\"M378.4521,-415.3799C363.0171,-405.7475 344.9294,-394.4597 328.6441,-384.2967\" fill=\"none\" stroke=\"#000000\"/>\n<polygon fill=\"#000000\" points=\"330.1471,-381.1091 319.8105,-378.784 326.4411,-387.0476 330.1471,-381.1091\" stroke=\"#000000\"/>\n</g>\n<!-- 140670045803184 -->\n<g class=\"node\" id=\"node13\">\n<title>140670045803184</title>\n<polygon fill=\"none\" points=\"101.5,-249.5 101.5,-295.5 463.5,-295.5 463.5,-249.5 101.5,-249.5\" stroke=\"#000000\"/>\n<text fill=\"#000000\" font-family=\"Times,serif\" font-size=\"14.00\" text-anchor=\"middle\" x=\"222\" y=\"-268.8\">tf_op_layer_Abs: TensorFlowOpLayer</text>\n<polyline fill=\"none\" points=\"342.5,-249.5 342.5,-295.5 \" stroke=\"#000000\"/>\n<text fill=\"#000000\" font-family=\"Times,serif\" font-size=\"14.00\" text-anchor=\"middle\" x=\"371.5\" y=\"-280.3\">input:</text>\n<polyline fill=\"none\" points=\"342.5,-272.5 400.5,-272.5 \" stroke=\"#000000\"/>\n<text fill=\"#000000\" font-family=\"Times,serif\" font-size=\"14.00\" text-anchor=\"middle\" x=\"371.5\" y=\"-257.3\">output:</text>\n<polyline fill=\"none\" points=\"400.5,-249.5 400.5,-295.5 \" stroke=\"#000000\"/>\n<text fill=\"#000000\" font-family=\"Times,serif\" font-size=\"14.00\" text-anchor=\"middle\" x=\"432\" y=\"-280.3\">(?, 64)</text>\n<polyline fill=\"none\" points=\"400.5,-272.5 463.5,-272.5 \" stroke=\"#000000\"/>\n<text fill=\"#000000\" font-family=\"Times,serif\" font-size=\"14.00\" text-anchor=\"middle\" x=\"432\" y=\"-257.3\">[(?, 64)]</text>\n</g>\n<!-- 140670045803968&#45;&gt;140670045803184 -->\n<g class=\"edge\" id=\"edge13\">\n<title>140670045803968-&gt;140670045803184</title>\n<path d=\"M282.5,-332.3799C282.5,-324.1745 282.5,-314.7679 282.5,-305.8786\" fill=\"none\" stroke=\"#000000\"/>\n<polygon fill=\"#000000\" points=\"286.0001,-305.784 282.5,-295.784 279.0001,-305.784 286.0001,-305.784\" stroke=\"#000000\"/>\n</g>\n<!-- 140670045803408 -->\n<g class=\"node\" id=\"node14\">\n<title>140670045803408</title>\n<polygon fill=\"none\" points=\"103,-166.5 103,-212.5 462,-212.5 462,-166.5 103,-166.5\" stroke=\"#000000\"/>\n<text fill=\"#000000\" font-family=\"Times,serif\" font-size=\"14.00\" text-anchor=\"middle\" x=\"225.5\" y=\"-185.8\">tf_op_layer_Sum: TensorFlowOpLayer</text>\n<polyline fill=\"none\" points=\"348,-166.5 348,-212.5 \" stroke=\"#000000\"/>\n<text fill=\"#000000\" font-family=\"Times,serif\" font-size=\"14.00\" text-anchor=\"middle\" x=\"377\" y=\"-197.3\">input:</text>\n<polyline fill=\"none\" points=\"348,-189.5 406,-189.5 \" stroke=\"#000000\"/>\n<text fill=\"#000000\" font-family=\"Times,serif\" font-size=\"14.00\" text-anchor=\"middle\" x=\"377\" y=\"-174.3\">output:</text>\n<polyline fill=\"none\" points=\"406,-166.5 406,-212.5 \" stroke=\"#000000\"/>\n<text fill=\"#000000\" font-family=\"Times,serif\" font-size=\"14.00\" text-anchor=\"middle\" x=\"434\" y=\"-197.3\">(?, 64)</text>\n<polyline fill=\"none\" points=\"406,-189.5 462,-189.5 \" stroke=\"#000000\"/>\n<text fill=\"#000000\" font-family=\"Times,serif\" font-size=\"14.00\" text-anchor=\"middle\" x=\"434\" y=\"-174.3\">[(?, 1)]</text>\n</g>\n<!-- 140670045803184&#45;&gt;140670045803408 -->\n<g class=\"edge\" id=\"edge14\">\n<title>140670045803184-&gt;140670045803408</title>\n<path d=\"M282.5,-249.3799C282.5,-241.1745 282.5,-231.7679 282.5,-222.8786\" fill=\"none\" stroke=\"#000000\"/>\n<polygon fill=\"#000000\" points=\"286.0001,-222.784 282.5,-212.784 279.0001,-222.784 286.0001,-222.784\" stroke=\"#000000\"/>\n</g>\n<!-- 140670045802960 -->\n<g class=\"node\" id=\"node15\">\n<title>140670045802960</title>\n<polygon fill=\"none\" points=\"104.5,-83.5 104.5,-129.5 460.5,-129.5 460.5,-83.5 104.5,-83.5\" stroke=\"#000000\"/>\n<text fill=\"#000000\" font-family=\"Times,serif\" font-size=\"14.00\" text-anchor=\"middle\" x=\"225.5\" y=\"-102.8\">tf_op_layer_Neg: TensorFlowOpLayer</text>\n<polyline fill=\"none\" points=\"346.5,-83.5 346.5,-129.5 \" stroke=\"#000000\"/>\n<text fill=\"#000000\" font-family=\"Times,serif\" font-size=\"14.00\" text-anchor=\"middle\" x=\"375.5\" y=\"-114.3\">input:</text>\n<polyline fill=\"none\" points=\"346.5,-106.5 404.5,-106.5 \" stroke=\"#000000\"/>\n<text fill=\"#000000\" font-family=\"Times,serif\" font-size=\"14.00\" text-anchor=\"middle\" x=\"375.5\" y=\"-91.3\">output:</text>\n<polyline fill=\"none\" points=\"404.5,-83.5 404.5,-129.5 \" stroke=\"#000000\"/>\n<text fill=\"#000000\" font-family=\"Times,serif\" font-size=\"14.00\" text-anchor=\"middle\" x=\"432.5\" y=\"-114.3\">(?, 1)</text>\n<polyline fill=\"none\" points=\"404.5,-106.5 460.5,-106.5 \" stroke=\"#000000\"/>\n<text fill=\"#000000\" font-family=\"Times,serif\" font-size=\"14.00\" text-anchor=\"middle\" x=\"432.5\" y=\"-91.3\">[(?, 1)]</text>\n</g>\n<!-- 140670045803408&#45;&gt;140670045802960 -->\n<g class=\"edge\" id=\"edge15\">\n<title>140670045803408-&gt;140670045802960</title>\n<path d=\"M282.5,-166.3799C282.5,-158.1745 282.5,-148.7679 282.5,-139.8786\" fill=\"none\" stroke=\"#000000\"/>\n<polygon fill=\"#000000\" points=\"286.0001,-139.784 282.5,-129.784 279.0001,-139.784 286.0001,-139.784\" stroke=\"#000000\"/>\n</g>\n<!-- 140670045803072 -->\n<g class=\"node\" id=\"node16\">\n<title>140670045803072</title>\n<polygon fill=\"none\" points=\"104.5,-.5 104.5,-46.5 460.5,-46.5 460.5,-.5 104.5,-.5\" stroke=\"#000000\"/>\n<text fill=\"#000000\" font-family=\"Times,serif\" font-size=\"14.00\" text-anchor=\"middle\" x=\"225.5\" y=\"-19.8\">tf_op_layer_Exp: TensorFlowOpLayer</text>\n<polyline fill=\"none\" points=\"346.5,-.5 346.5,-46.5 \" stroke=\"#000000\"/>\n<text fill=\"#000000\" font-family=\"Times,serif\" font-size=\"14.00\" text-anchor=\"middle\" x=\"375.5\" y=\"-31.3\">input:</text>\n<polyline fill=\"none\" points=\"346.5,-23.5 404.5,-23.5 \" stroke=\"#000000\"/>\n<text fill=\"#000000\" font-family=\"Times,serif\" font-size=\"14.00\" text-anchor=\"middle\" x=\"375.5\" y=\"-8.3\">output:</text>\n<polyline fill=\"none\" points=\"404.5,-.5 404.5,-46.5 \" stroke=\"#000000\"/>\n<text fill=\"#000000\" font-family=\"Times,serif\" font-size=\"14.00\" text-anchor=\"middle\" x=\"432.5\" y=\"-31.3\">(?, 1)</text>\n<polyline fill=\"none\" points=\"404.5,-23.5 460.5,-23.5 \" stroke=\"#000000\"/>\n<text fill=\"#000000\" font-family=\"Times,serif\" font-size=\"14.00\" text-anchor=\"middle\" x=\"432.5\" y=\"-8.3\">[(?, 1)]</text>\n</g>\n<!-- 140670045802960&#45;&gt;140670045803072 -->\n<g class=\"edge\" id=\"edge16\">\n<title>140670045802960-&gt;140670045803072</title>\n<path d=\"M282.5,-83.3799C282.5,-75.1745 282.5,-65.7679 282.5,-56.8786\" fill=\"none\" stroke=\"#000000\"/>\n<polygon fill=\"#000000\" points=\"286.0001,-56.784 282.5,-46.784 279.0001,-56.784 286.0001,-56.784\" stroke=\"#000000\"/>\n</g>\n</g>\n</svg>"
          },
          "metadata": {
            "tags": []
          },
          "execution_count": 54
        }
      ]
    },
    {
      "cell_type": "code",
      "metadata": {
        "id": "_lFrz-gq_ulP",
        "colab_type": "code",
        "colab": {
          "base_uri": "https://localhost:8080/",
          "height": 1000
        },
        "outputId": "51a50200-0cce-4c96-b137-0843573e9c58"
      },
      "source": [
        "# 모델 학습\n",
        "y_train = y_train.reshape(-1, 1)\n",
        "y_test = y_test.reshape(-1, 1)\n",
        "hist = model.fit([X_train_1, X_train_2], y_train,\n",
        "                 validation_data=([X_test_1, X_test_2], y_test),\n",
        "                 batch_size=512,\n",
        "                 epochs=50)"
      ],
      "execution_count": null,
      "outputs": [
        {
          "output_type": "stream",
          "text": [
            "Epoch 1/50\n",
            "467/467 [==============================] - 73s 156ms/step - loss: 0.3997 - val_loss: 0.1940\n",
            "Epoch 2/50\n",
            "467/467 [==============================] - 72s 153ms/step - loss: 0.1756 - val_loss: 0.1740\n",
            "Epoch 3/50\n",
            "467/467 [==============================] - 71s 152ms/step - loss: 0.1621 - val_loss: 0.1714\n",
            "Epoch 4/50\n",
            "467/467 [==============================] - 71s 153ms/step - loss: 0.1528 - val_loss: 0.1693\n",
            "Epoch 5/50\n",
            "467/467 [==============================] - 71s 153ms/step - loss: 0.1441 - val_loss: 0.1704\n",
            "Epoch 6/50\n",
            "467/467 [==============================] - 71s 153ms/step - loss: 0.1370 - val_loss: 0.1695\n",
            "Epoch 7/50\n",
            "467/467 [==============================] - 71s 152ms/step - loss: 0.1301 - val_loss: 0.1708\n",
            "Epoch 8/50\n",
            "467/467 [==============================] - 71s 153ms/step - loss: 0.1244 - val_loss: 0.1708\n",
            "Epoch 9/50\n",
            "467/467 [==============================] - 70s 151ms/step - loss: 0.1197 - val_loss: 0.1717\n",
            "Epoch 10/50\n",
            "467/467 [==============================] - 70s 151ms/step - loss: 0.1149 - val_loss: 0.1772\n",
            "Epoch 11/50\n",
            "467/467 [==============================] - 71s 151ms/step - loss: 0.1108 - val_loss: 0.1733\n",
            "Epoch 12/50\n",
            "467/467 [==============================] - 71s 151ms/step - loss: 0.1063 - val_loss: 0.1739\n",
            "Epoch 13/50\n",
            "467/467 [==============================] - 71s 151ms/step - loss: 0.1021 - val_loss: 0.1734\n",
            "Epoch 14/50\n",
            "467/467 [==============================] - 70s 150ms/step - loss: 0.0983 - val_loss: 0.1763\n",
            "Epoch 15/50\n",
            "467/467 [==============================] - 71s 151ms/step - loss: 0.0949 - val_loss: 0.1839\n",
            "Epoch 16/50\n",
            "467/467 [==============================] - 70s 151ms/step - loss: 0.0915 - val_loss: 0.1793\n",
            "Epoch 17/50\n",
            "467/467 [==============================] - 71s 152ms/step - loss: 0.0883 - val_loss: 0.1795\n",
            "Epoch 18/50\n",
            "467/467 [==============================] - 71s 152ms/step - loss: 0.0849 - val_loss: 0.1799\n",
            "Epoch 19/50\n",
            "467/467 [==============================] - 71s 152ms/step - loss: 0.0817 - val_loss: 0.1890\n",
            "Epoch 20/50\n",
            "467/467 [==============================] - 71s 152ms/step - loss: 0.0783 - val_loss: 0.1892\n",
            "Epoch 21/50\n",
            "467/467 [==============================] - 71s 152ms/step - loss: 0.0765 - val_loss: 0.1839\n",
            "Epoch 22/50\n",
            "467/467 [==============================] - 71s 152ms/step - loss: 0.0734 - val_loss: 0.1848\n",
            "Epoch 23/50\n",
            "467/467 [==============================] - 71s 152ms/step - loss: 0.0710 - val_loss: 0.1834\n",
            "Epoch 24/50\n",
            "467/467 [==============================] - 71s 151ms/step - loss: 0.0684 - val_loss: 0.1881\n",
            "Epoch 25/50\n",
            "467/467 [==============================] - 71s 152ms/step - loss: 0.0663 - val_loss: 0.1923\n",
            "Epoch 26/50\n",
            "467/467 [==============================] - 71s 152ms/step - loss: 0.0640 - val_loss: 0.1906\n",
            "Epoch 27/50\n",
            "467/467 [==============================] - 71s 152ms/step - loss: 0.0623 - val_loss: 0.1925\n",
            "Epoch 28/50\n",
            "467/467 [==============================] - 71s 151ms/step - loss: 0.0602 - val_loss: 0.1925\n",
            "Epoch 29/50\n",
            "467/467 [==============================] - 71s 151ms/step - loss: 0.0586 - val_loss: 0.1959\n",
            "Epoch 30/50\n",
            "467/467 [==============================] - 71s 152ms/step - loss: 0.0566 - val_loss: 0.1968\n",
            "Epoch 31/50\n",
            "467/467 [==============================] - 71s 152ms/step - loss: 0.0547 - val_loss: 0.1951\n",
            "Epoch 32/50\n",
            "467/467 [==============================] - 71s 151ms/step - loss: 0.0530 - val_loss: 0.1953\n",
            "Epoch 33/50\n",
            "467/467 [==============================] - 71s 151ms/step - loss: 0.0512 - val_loss: 0.1927\n",
            "Epoch 34/50\n",
            "467/467 [==============================] - 71s 152ms/step - loss: 0.0499 - val_loss: 0.2035\n",
            "Epoch 35/50\n",
            "467/467 [==============================] - 71s 152ms/step - loss: 0.0487 - val_loss: 0.1992\n",
            "Epoch 36/50\n",
            "467/467 [==============================] - 71s 151ms/step - loss: 0.0474 - val_loss: 0.2016\n",
            "Epoch 37/50\n",
            "467/467 [==============================] - 71s 152ms/step - loss: 0.0457 - val_loss: 0.1975\n",
            "Epoch 38/50\n",
            "467/467 [==============================] - 71s 151ms/step - loss: 0.0447 - val_loss: 0.2079\n",
            "Epoch 39/50\n",
            "467/467 [==============================] - 71s 152ms/step - loss: 0.0435 - val_loss: 0.2013\n",
            "Epoch 40/50\n",
            "467/467 [==============================] - 72s 153ms/step - loss: 0.0422 - val_loss: 0.2081\n",
            "Epoch 41/50\n",
            "467/467 [==============================] - 71s 153ms/step - loss: 0.0414 - val_loss: 0.2040\n",
            "Epoch 42/50\n",
            "467/467 [==============================] - 71s 153ms/step - loss: 0.0399 - val_loss: 0.2070\n",
            "Epoch 43/50\n",
            "467/467 [==============================] - 71s 153ms/step - loss: 0.0392 - val_loss: 0.2068\n",
            "Epoch 44/50\n",
            "467/467 [==============================] - 72s 154ms/step - loss: 0.0385 - val_loss: 0.2044\n",
            "Epoch 45/50\n",
            "467/467 [==============================] - 71s 153ms/step - loss: 0.0377 - val_loss: 0.2030\n",
            "Epoch 46/50\n",
            "467/467 [==============================] - 72s 154ms/step - loss: 0.0368 - val_loss: 0.2117\n",
            "Epoch 47/50\n",
            "467/467 [==============================] - 72s 154ms/step - loss: 0.0357 - val_loss: 0.2078\n",
            "Epoch 48/50\n",
            "467/467 [==============================] - 72s 154ms/step - loss: 0.0350 - val_loss: 0.2095\n",
            "Epoch 49/50\n",
            "467/467 [==============================] - 72s 154ms/step - loss: 0.0345 - val_loss: 0.2043\n",
            "Epoch 50/50\n",
            "467/467 [==============================] - 72s 153ms/step - loss: 0.0335 - val_loss: 0.2077\n"
          ],
          "name": "stdout"
        }
      ]
    },
    {
      "cell_type": "code",
      "metadata": {
        "id": "GTFI_ZLb_vwj",
        "colab_type": "code",
        "colab": {
          "base_uri": "https://localhost:8080/",
          "height": 35
        },
        "outputId": "23b3c85d-5d7f-4bce-e138-87ee8761bf57"
      },
      "source": [
        "# 예측 및 결과 확인\n",
        "y_pred = model.predict([X_test_1, X_test_2])\n",
        "y_pred = np.where(y_pred > 0.5, 1, 0)\n",
        "accuracy = (y_test == y_pred).mean()\n",
        "print(f\"Test Accuracy: {accuracy}\")"
      ],
      "execution_count": null,
      "outputs": [
        {
          "output_type": "stream",
          "text": [
            "Test Accuracy: 0.7577817591212765\n"
          ],
          "name": "stdout"
        }
      ]
    },
    {
      "cell_type": "markdown",
      "metadata": {
        "id": "6mRqBlwpacr2",
        "colab_type": "text"
      },
      "source": [
        "### 3.5. maLSTM + fastText pretrained\n",
        "\n",
        "- Quora 데이터셋의 vocabulary 활용: `5.2` 전처리 단계에서 진행했던 tokenizer의 `word_index`.\n",
        "\n",
        "- 가중치 벡터 만들 때\n",
        "    - Glove.txt 파일 원래 생김새"
      ]
    },
    {
      "cell_type": "code",
      "metadata": {
        "id": "E-t240Cace_4",
        "colab_type": "code",
        "colab": {}
      },
      "source": [
        "# 전처리 단계에서의 토크나이저 로드\n",
        "with open(f\"{data_path}/5-2.Quora-tokenizer.pickle\", 'rb') as f:\n",
        "    tokenizer = pickle.load(f)\n",
        "\n",
        "print(tokenizer)"
      ],
      "execution_count": null,
      "outputs": []
    },
    {
      "cell_type": "code",
      "metadata": {
        "id": "E-1ayMLOczgi",
        "colab_type": "code",
        "colab": {}
      },
      "source": [
        "# 토크나이저의 단어로 어휘집 생성\n",
        "word2idx = tokenizer.word_index\n",
        "print(word2idx)"
      ],
      "execution_count": null,
      "outputs": []
    },
    {
      "cell_type": "code",
      "metadata": {
        "id": "CZqzMVBppZTD",
        "colab_type": "code",
        "colab": {}
      },
      "source": [
        "from gensim.models import fasttext\n",
        "from gensim.test.utils import datapath"
      ],
      "execution_count": null,
      "outputs": []
    },
    {
      "cell_type": "code",
      "metadata": {
        "id": "8Mvq23aGdCoH",
        "colab_type": "code",
        "colab": {
          "base_uri": "https://localhost:8080/",
          "height": 646
        },
        "outputId": "7f680a05-195e-4222-c622-392326b2f41b"
      },
      "source": [
        "%%time\n",
        "# 사전학습된 fasttext embedding 가중치\n",
        "embedding_matrix_path = f\"{data_path}/weightEmbedding_fasttext.pickle\"\n",
        "\n",
        "try:\n",
        "    with open(embedding_matrix_path, 'rb') as f:\n",
        "        WE = pickle.load(f)\n",
        "except FileNotFoundError: # 없는 경우: 사전학습된 GloVe 임베딩 벡터로부터 가중치 생성\n",
        "    # model = fasttext.load_facebook_model(f\"{data_path}/wiki.en.bin\")\n",
        "    wv = fasttext.load_facebook_vectors(datapath(f\"{data_path}/wiki.en.bin\"))\n",
        "    WE = np.zeros((VOCAB_SIZE, EMB_SIZE))\n",
        "    for word, i in word2idx.items():\n",
        "        WE[i] = model.wv[word]\n",
        "        # 결과 저장\n",
        "        with open(embedding_matrix_path, 'wb') as f:\n",
        "            pickle.dump(WE, f, pickle.HIGHEST_PROTOCOL)"
      ],
      "execution_count": null,
      "outputs": [
        {
          "output_type": "error",
          "ename": "AttributeError",
          "evalue": "ignored",
          "traceback": [
            "\u001b[0;31m---------------------------------------------------------------------------\u001b[0m",
            "\u001b[0;31mFileNotFoundError\u001b[0m                         Traceback (most recent call last)",
            "\u001b[0;32m<timed exec>\u001b[0m in \u001b[0;36m<module>\u001b[0;34m()\u001b[0m\n",
            "\u001b[0;31mFileNotFoundError\u001b[0m: [Errno 2] No such file or directory: '/content/drive/My Drive/멀티캠퍼스/[혁신성장] 인공지능 자연어처리 기반/[강의]/조성현 강사님/dataset/weightEmbedding_fasttext.pickle'",
            "\nDuring handling of the above exception, another exception occurred:\n",
            "\u001b[0;31mAttributeError\u001b[0m                            Traceback (most recent call last)",
            "\u001b[0;32m<ipython-input-75-319ad79d2266>\u001b[0m in \u001b[0;36m<module>\u001b[0;34m()\u001b[0m\n\u001b[0;32m----> 1\u001b[0;31m \u001b[0mget_ipython\u001b[0m\u001b[0;34m(\u001b[0m\u001b[0;34m)\u001b[0m\u001b[0;34m.\u001b[0m\u001b[0mrun_cell_magic\u001b[0m\u001b[0;34m(\u001b[0m\u001b[0;34m'time'\u001b[0m\u001b[0;34m,\u001b[0m \u001b[0;34m''\u001b[0m\u001b[0;34m,\u001b[0m \u001b[0;34m'# 사전학습된 fasttext embedding 가중치\\nembedding_matrix_path = f\"{data_path}/weightEmbedding_fasttext.pickle\"\\n\\ntry:\\n    with open(embedding_matrix_path, \\'rb\\') as f:\\n        WE = pickle.load(f)\\nexcept FileNotFoundError: # 없는 경우: 사전학습된 GloVe 임베딩 벡터로부터 가중치 생성\\n    # model = fasttext.load_facebook_model(f\"{data_path}/wiki.en.bin\")\\n    wv = fasttext.load_facebook_vectors(datapath(f\"{data_path}/wiki.en.bin\"))\\n    WE = np.zeros((VOCAB_SIZE, EMB_SIZE))\\n    for word, i in word2idx.items():\\n        WE[i] = model.wv[word]\\n        # 결과 저장\\n        with open(embedding_matrix_path, \\'wb\\') as f:\\n            pickle.dump(WE, f, pickle.HIGHEST_PROTOCOL)'\u001b[0m\u001b[0;34m)\u001b[0m\u001b[0;34m\u001b[0m\u001b[0;34m\u001b[0m\u001b[0m\n\u001b[0m",
            "\u001b[0;32m/usr/local/lib/python3.6/dist-packages/IPython/core/interactiveshell.py\u001b[0m in \u001b[0;36mrun_cell_magic\u001b[0;34m(self, magic_name, line, cell)\u001b[0m\n\u001b[1;32m   2115\u001b[0m             \u001b[0mmagic_arg_s\u001b[0m \u001b[0;34m=\u001b[0m \u001b[0mself\u001b[0m\u001b[0;34m.\u001b[0m\u001b[0mvar_expand\u001b[0m\u001b[0;34m(\u001b[0m\u001b[0mline\u001b[0m\u001b[0;34m,\u001b[0m \u001b[0mstack_depth\u001b[0m\u001b[0;34m)\u001b[0m\u001b[0;34m\u001b[0m\u001b[0;34m\u001b[0m\u001b[0m\n\u001b[1;32m   2116\u001b[0m             \u001b[0;32mwith\u001b[0m \u001b[0mself\u001b[0m\u001b[0;34m.\u001b[0m\u001b[0mbuiltin_trap\u001b[0m\u001b[0;34m:\u001b[0m\u001b[0;34m\u001b[0m\u001b[0;34m\u001b[0m\u001b[0m\n\u001b[0;32m-> 2117\u001b[0;31m                 \u001b[0mresult\u001b[0m \u001b[0;34m=\u001b[0m \u001b[0mfn\u001b[0m\u001b[0;34m(\u001b[0m\u001b[0mmagic_arg_s\u001b[0m\u001b[0;34m,\u001b[0m \u001b[0mcell\u001b[0m\u001b[0;34m)\u001b[0m\u001b[0;34m\u001b[0m\u001b[0;34m\u001b[0m\u001b[0m\n\u001b[0m\u001b[1;32m   2118\u001b[0m             \u001b[0;32mreturn\u001b[0m \u001b[0mresult\u001b[0m\u001b[0;34m\u001b[0m\u001b[0;34m\u001b[0m\u001b[0m\n\u001b[1;32m   2119\u001b[0m \u001b[0;34m\u001b[0m\u001b[0m\n",
            "\u001b[0;32m<decorator-gen-60>\u001b[0m in \u001b[0;36mtime\u001b[0;34m(self, line, cell, local_ns)\u001b[0m\n",
            "\u001b[0;32m/usr/local/lib/python3.6/dist-packages/IPython/core/magic.py\u001b[0m in \u001b[0;36m<lambda>\u001b[0;34m(f, *a, **k)\u001b[0m\n\u001b[1;32m    186\u001b[0m     \u001b[0;31m# but it's overkill for just that one bit of state.\u001b[0m\u001b[0;34m\u001b[0m\u001b[0;34m\u001b[0m\u001b[0;34m\u001b[0m\u001b[0m\n\u001b[1;32m    187\u001b[0m     \u001b[0;32mdef\u001b[0m \u001b[0mmagic_deco\u001b[0m\u001b[0;34m(\u001b[0m\u001b[0marg\u001b[0m\u001b[0;34m)\u001b[0m\u001b[0;34m:\u001b[0m\u001b[0;34m\u001b[0m\u001b[0;34m\u001b[0m\u001b[0m\n\u001b[0;32m--> 188\u001b[0;31m         \u001b[0mcall\u001b[0m \u001b[0;34m=\u001b[0m \u001b[0;32mlambda\u001b[0m \u001b[0mf\u001b[0m\u001b[0;34m,\u001b[0m \u001b[0;34m*\u001b[0m\u001b[0ma\u001b[0m\u001b[0;34m,\u001b[0m \u001b[0;34m**\u001b[0m\u001b[0mk\u001b[0m\u001b[0;34m:\u001b[0m \u001b[0mf\u001b[0m\u001b[0;34m(\u001b[0m\u001b[0;34m*\u001b[0m\u001b[0ma\u001b[0m\u001b[0;34m,\u001b[0m \u001b[0;34m**\u001b[0m\u001b[0mk\u001b[0m\u001b[0;34m)\u001b[0m\u001b[0;34m\u001b[0m\u001b[0;34m\u001b[0m\u001b[0m\n\u001b[0m\u001b[1;32m    189\u001b[0m \u001b[0;34m\u001b[0m\u001b[0m\n\u001b[1;32m    190\u001b[0m         \u001b[0;32mif\u001b[0m \u001b[0mcallable\u001b[0m\u001b[0;34m(\u001b[0m\u001b[0marg\u001b[0m\u001b[0;34m)\u001b[0m\u001b[0;34m:\u001b[0m\u001b[0;34m\u001b[0m\u001b[0;34m\u001b[0m\u001b[0m\n",
            "\u001b[0;32m/usr/local/lib/python3.6/dist-packages/IPython/core/magics/execution.py\u001b[0m in \u001b[0;36mtime\u001b[0;34m(self, line, cell, local_ns)\u001b[0m\n\u001b[1;32m   1191\u001b[0m         \u001b[0;32melse\u001b[0m\u001b[0;34m:\u001b[0m\u001b[0;34m\u001b[0m\u001b[0;34m\u001b[0m\u001b[0m\n\u001b[1;32m   1192\u001b[0m             \u001b[0mst\u001b[0m \u001b[0;34m=\u001b[0m \u001b[0mclock2\u001b[0m\u001b[0;34m(\u001b[0m\u001b[0;34m)\u001b[0m\u001b[0;34m\u001b[0m\u001b[0;34m\u001b[0m\u001b[0m\n\u001b[0;32m-> 1193\u001b[0;31m             \u001b[0mexec\u001b[0m\u001b[0;34m(\u001b[0m\u001b[0mcode\u001b[0m\u001b[0;34m,\u001b[0m \u001b[0mglob\u001b[0m\u001b[0;34m,\u001b[0m \u001b[0mlocal_ns\u001b[0m\u001b[0;34m)\u001b[0m\u001b[0;34m\u001b[0m\u001b[0;34m\u001b[0m\u001b[0m\n\u001b[0m\u001b[1;32m   1194\u001b[0m             \u001b[0mend\u001b[0m \u001b[0;34m=\u001b[0m \u001b[0mclock2\u001b[0m\u001b[0;34m(\u001b[0m\u001b[0;34m)\u001b[0m\u001b[0;34m\u001b[0m\u001b[0;34m\u001b[0m\u001b[0m\n\u001b[1;32m   1195\u001b[0m             \u001b[0mout\u001b[0m \u001b[0;34m=\u001b[0m \u001b[0;32mNone\u001b[0m\u001b[0;34m\u001b[0m\u001b[0;34m\u001b[0m\u001b[0m\n",
            "\u001b[0;32m<timed exec>\u001b[0m in \u001b[0;36m<module>\u001b[0;34m()\u001b[0m\n",
            "\u001b[0;31mAttributeError\u001b[0m: module 'gensim.models.fasttext' has no attribute 'load_facebook_vectors'"
          ]
        }
      ]
    },
    {
      "cell_type": "code",
      "metadata": {
        "id": "7adUUyANd164",
        "colab_type": "code",
        "colab": {}
      },
      "source": [
        "# LSTM 네트워크\n",
        "n_hidden =  int(input('LSTM 은닉 노드 수 설정: '))\n",
        "n_feature = int(input('latent feature 차원 수 설정: '))"
      ],
      "execution_count": null,
      "outputs": []
    },
    {
      "cell_type": "code",
      "metadata": {
        "id": "GJdTfNYPd5Qs",
        "colab_type": "code",
        "colab": {}
      },
      "source": [
        "K.clear_session()\n",
        "\n",
        "# LSTM 네트워크 구성\n",
        "X_input_1 = Input(batch_shape=(None, X_train_1.shape[1]))\n",
        "X_input_2 = Input(batch_shape=(None, X_train_2.shape[1]))\n",
        "\n",
        "# 임베딩 : trainable = True\n",
        "X_embed = Embedding(input_dim=VOCAB_SIZE, output_dim=EMB_SIZE,\n",
        "                    weights=[WE], trainable=True)\n",
        "\n",
        "X_embed_1 = X_embed(X_input_1)\n",
        "X_embed_1 = Dropout(0.2)(X_embed_1)\n",
        "X_lstm_1 = LSTM(n_hidden)(X_embed_1)\n",
        "X_dense_1 = Dense(n_feature, activation='relu', kernel_regularizer=l2(0.005))(X_lstm_1)\n",
        "X_dense_1 = Dropout(0.2)(X_dense_1)\n",
        "\n",
        "X_embed_2 = X_embed(X_input_2)\n",
        "X_embed_2 = Dropout(0.2)(X_embed_2)\n",
        "X_lstm_2 = LSTM(n_hidden)(X_embed_2)\n",
        "X_dense_2 = Dense(n_feature, activation='relu', kernel_regularizer=l2(0.005))(X_lstm_2)\n",
        "X_dense_2 = Dropout(0.2)(X_dense_2)\n",
        "\n",
        "y_manhattan_dist = K.exp(-K.sum(K.abs(X_dense_1 - X_dense_2), axis=1, keepdims=True)) # 각 출력으로 맨하탄 거리 계산\n",
        "\n",
        "# 모델 구성\n",
        "model = Model([X_input_1, X_input_2], y_manhattan_dist)\n",
        "model.compile(loss='mean_squared_error', optimizer=Adam(lr=0.0005))\n",
        "print(\"========== 모델 전체 구조 확인 ==========\")\n",
        "print(model.summary())\n",
        "SVG(model_to_dot(model, show_shapes= True, show_layer_names=True, dpi=65).create(prog='dot', format='svg'))"
      ],
      "execution_count": null,
      "outputs": []
    },
    {
      "cell_type": "code",
      "metadata": {
        "id": "fxei6ELrd9PZ",
        "colab_type": "code",
        "colab": {}
      },
      "source": [
        "# 모델 학습\n",
        "y_train = y_train.reshape(-1, 1)\n",
        "y_test = y_test.reshape(-1, 1)\n",
        "hist = model.fit([X_train_1, X_train_2], y_train,\n",
        "                 validation_data=([X_test_1, X_test_2], y_test),\n",
        "                 batch_size=512,\n",
        "                 epochs=50)"
      ],
      "execution_count": null,
      "outputs": []
    },
    {
      "cell_type": "code",
      "metadata": {
        "id": "86b6b7lPeCjc",
        "colab_type": "code",
        "colab": {}
      },
      "source": [
        "# loss 시각화\n",
        "plt.plot(hist.history['loss'], label='Train loss')\n",
        "plt.plot(hist.history['val_loss'], label = 'Test loss')\n",
        "plt.legend()\n",
        "plt.title(\"Loss Trajectory\")\n",
        "plt.xlabel(\"epochs\")\n",
        "plt.ylabel(\"loss\")\n",
        "plt.show()"
      ],
      "execution_count": null,
      "outputs": []
    },
    {
      "cell_type": "code",
      "metadata": {
        "id": "b-GFc-hNd91V",
        "colab_type": "code",
        "colab": {}
      },
      "source": [
        "# 예측 및 결과 확인\n",
        "y_pred = model.predict([X_test_1, X_test_2])\n",
        "y_pred = np.where(y_pred > 0.5, 1, 0)\n",
        "accuracy = (y_test == y_pred).mean()\n",
        "print(f\"Test Accuracy: {accuracy}\")"
      ],
      "execution_count": null,
      "outputs": []
    }
  ]
}