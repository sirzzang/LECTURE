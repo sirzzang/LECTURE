{
  "nbformat": 4,
  "nbformat_minor": 0,
  "metadata": {
    "colab": {
      "name": "NLP-Keras-IMDB-CNN-practice.ipynb",
      "provenance": [],
      "collapsed_sections": [],
      "machine_shape": "hm"
    },
    "kernelspec": {
      "name": "python3",
      "display_name": "Python 3"
    },
    "accelerator": "GPU"
  },
  "cells": [
    {
      "cell_type": "markdown",
      "metadata": {
        "id": "IEBcymHBkF4w",
        "colab_type": "text"
      },
      "source": [
        "# [1] Sequential"
      ]
    },
    {
      "cell_type": "code",
      "metadata": {
        "id": "Y8Vgh3bbeT8w",
        "colab_type": "code",
        "colab": {}
      },
      "source": [
        "# 모듈 불러오기\n",
        "from tensorflow.keras.datasets import imdb\n",
        "from tensorflow.keras.preprocessing.sequence import pad_sequences\n",
        "from tensorflow.keras.models import Sequential\n",
        "from tensorflow.keras.layers import Dense, Activation, Embedding, Dropout, Conv1D, GlobalMaxPooling1D\n",
        "from tensorflow.keras.callbacks import EarlyStopping\n",
        "import matplotlib.pyplot as plt\n",
        "from sklearn.metrics import accuracy_score\n",
        "import numpy as np"
      ],
      "execution_count": 46,
      "outputs": []
    },
    {
      "cell_type": "code",
      "metadata": {
        "id": "yOAiAyO_e9Yo",
        "colab_type": "code",
        "colab": {
          "base_uri": "https://localhost:8080/",
          "height": 52
        },
        "outputId": "c6c906e3-12b9-4457-830b-1c64b8813ad9"
      },
      "source": [
        "# 파라미터 설정\n",
        "max_features = int(input('최대 단어 수 설정: ')) # 어휘 집합 수\n",
        "max_length = int(input('문장 길이 설정: '))"
      ],
      "execution_count": 2,
      "outputs": [
        {
          "output_type": "stream",
          "text": [
            "최대 단어 수 설정: 6000\n",
            "문장 길이 설정: 400\n"
          ],
          "name": "stdout"
        }
      ]
    },
    {
      "cell_type": "markdown",
      "metadata": {
        "id": "OEnO6VDVfXLF",
        "colab_type": "text"
      },
      "source": [
        "* `IMDB load_data`에서 `num_words`의 의미?\n",
        "* 샘플 데이터 확인하면 단어 인덱스가 몇인지 구성 확인해 보자."
      ]
    },
    {
      "cell_type": "code",
      "metadata": {
        "id": "RYTJpo0nfIBN",
        "colab_type": "code",
        "colab": {
          "base_uri": "https://localhost:8080/",
          "height": 125
        },
        "outputId": "bf9f37e4-30a3-4e06-b802-8d57807543bc"
      },
      "source": [
        "# 데이터 로드 및 확인\n",
        "(X_train, y_train), (X_test, y_test) = imdb.load_data(num_words=max_features)\n",
        "print(f\"훈련 데이터: {X_train.shape}, 훈련 라벨: {y_train.shape}\")\n",
        "print(f\"테스트 데이터: {y_train.shape}, 테스트 라벨: {y_test.shape}\")\n",
        "print()\n",
        "print(\"훈련 데이터 샘플 확인\")\n",
        "print(X_train[0]) # 단어 인덱스 확인"
      ],
      "execution_count": 25,
      "outputs": [
        {
          "output_type": "stream",
          "text": [
            "훈련 데이터: (25000,), 훈련 라벨: (25000,)\n",
            "테스트 데이터: (25000,), 테스트 라벨: (25000,)\n",
            "\n",
            "훈련 데이터 샘플 확인\n",
            "[1, 14, 22, 16, 43, 530, 973, 1622, 1385, 65, 458, 4468, 66, 3941, 4, 173, 36, 256, 5, 25, 100, 43, 838, 112, 50, 670, 2, 9, 35, 480, 284, 5, 150, 4, 172, 112, 167, 2, 336, 385, 39, 4, 172, 4536, 1111, 17, 546, 38, 13, 447, 4, 192, 50, 16, 6, 147, 2025, 19, 14, 22, 4, 1920, 4613, 469, 4, 22, 71, 87, 12, 16, 43, 530, 38, 76, 15, 13, 1247, 4, 22, 17, 515, 17, 12, 16, 626, 18, 2, 5, 62, 386, 12, 8, 316, 8, 106, 5, 4, 2223, 5244, 16, 480, 66, 3785, 33, 4, 130, 12, 16, 38, 619, 5, 25, 124, 51, 36, 135, 48, 25, 1415, 33, 6, 22, 12, 215, 28, 77, 52, 5, 14, 407, 16, 82, 2, 8, 4, 107, 117, 5952, 15, 256, 4, 2, 7, 3766, 5, 723, 36, 71, 43, 530, 476, 26, 400, 317, 46, 7, 4, 2, 1029, 13, 104, 88, 4, 381, 15, 297, 98, 32, 2071, 56, 26, 141, 6, 194, 2, 18, 4, 226, 22, 21, 134, 476, 26, 480, 5, 144, 30, 5535, 18, 51, 36, 28, 224, 92, 25, 104, 4, 226, 65, 16, 38, 1334, 88, 12, 16, 283, 5, 16, 4472, 113, 103, 32, 15, 16, 5345, 19, 178, 32]\n"
          ],
          "name": "stdout"
        }
      ]
    },
    {
      "cell_type": "markdown",
      "metadata": {
        "id": "4VhzLHd7f8hW",
        "colab_type": "text"
      },
      "source": [
        "* IMDB 데이터셋의 어휘 집합 확인\n",
        "    - `get_word_index()` : dict 형태\n",
        "* 인덱스 숫자, 단어 순서로 vocab_dict 구성\n"
      ]
    },
    {
      "cell_type": "code",
      "metadata": {
        "id": "NOzKnfJEfw_I",
        "colab_type": "code",
        "colab": {}
      },
      "source": [
        "# 어휘집합\n",
        "vocabulary = imdb.get_word_index() # dict\n",
        "vocab_dict = dict((v, k) for k, v in vocabulary.items())"
      ],
      "execution_count": 6,
      "outputs": []
    },
    {
      "cell_type": "code",
      "metadata": {
        "id": "kbIn8Mhcgwru",
        "colab_type": "code",
        "colab": {
          "base_uri": "https://localhost:8080/",
          "height": 34
        },
        "outputId": "e466affc-d3da-40ad-e680-d4a92c68bd81"
      },
      "source": [
        "print('OOV' in imdb.get_word_index())"
      ],
      "execution_count": 16,
      "outputs": [
        {
          "output_type": "stream",
          "text": [
            "False\n"
          ],
          "name": "stdout"
        }
      ]
    },
    {
      "cell_type": "markdown",
      "metadata": {
        "id": "uX-kioYzgZli",
        "colab_type": "text"
      },
      "source": [
        "* padding, 문장 시작, OOV 넣어서 구성되어 있는 데이터"
      ]
    },
    {
      "cell_type": "code",
      "metadata": {
        "id": "yoQljQXcgWt0",
        "colab_type": "code",
        "colab": {}
      },
      "source": [
        "# IMDB 데이터셋 문장 decode\n",
        "def decode_sent(sentences):\n",
        "    '''\n",
        "    - 0: padding, 1: start, 2: OOV\n",
        "    - 실제 word index에서 3을 빼고, 없으면 '*'로 채운다.\n",
        "    '''\n",
        "\n",
        "    temp_sent = []\n",
        "    for sent in sentences:\n",
        "        temp = vocab_dict.get(sent-3, '*')\n",
        "        temp_sent.append(temp)\n",
        "    \n",
        "    comb_sent = \" \".join(temp_sent)\n",
        "\n",
        "    return comb_sent"
      ],
      "execution_count": 21,
      "outputs": []
    },
    {
      "cell_type": "code",
      "metadata": {
        "id": "EHqtYLKiht_V",
        "colab_type": "code",
        "colab": {
          "base_uri": "https://localhost:8080/",
          "height": 54
        },
        "outputId": "ee0aa97b-7be5-45fe-db39-7f25d105c49e"
      },
      "source": [
        "print(decode_sent(X_train[0])) # 문장 앞에 '*' 붙는다."
      ],
      "execution_count": 22,
      "outputs": [
        {
          "output_type": "stream",
          "text": [
            "* this film was just brilliant casting location scenery story direction everyone's really suited the part they played and you could just imagine being there robert * is an amazing actor and now the same being director * father came from the same scottish island as myself so i loved the fact there was a real connection with this film the witty remarks throughout the film were great it was just brilliant so much that i bought the film as soon as it was released for * and would recommend it to everyone to watch and the fly fishing was amazing really cried at the end it was so sad and you know what they say if you cry at a film it must have been good and this definitely was also * to the two little boy's that played the * of norman and paul they were just brilliant children are often left out of the * list i think because the stars that play them all grown up are such a big * for the whole film but these children are amazing and should be praised for what they have done don't you think the whole story was so lovely because it was true and was someone's life after all that was shared with us all\n"
          ],
          "name": "stdout"
        }
      ]
    },
    {
      "cell_type": "markdown",
      "metadata": {
        "id": "-aZEx0VFiXLj",
        "colab_type": "text"
      },
      "source": [
        "* 패딩"
      ]
    },
    {
      "cell_type": "code",
      "metadata": {
        "id": "M85pNFlwhtsi",
        "colab_type": "code",
        "colab": {
          "base_uri": "https://localhost:8080/",
          "height": 70
        },
        "outputId": "34f52d49-30cc-4363-a988-d06f53c31188"
      },
      "source": [
        "# 패딩\n",
        "X_train = pad_sequences(X_train, maxlen=max_length)\n",
        "X_test = pad_sequences(X_test, maxlen=max_length)\n",
        "print(\"========== 패딩 후 ==========\")\n",
        "print(f\"훈련 데이터: {X_train.shape}\")\n",
        "print(f\"테스트 데이터: {X_test.shape}\")"
      ],
      "execution_count": 27,
      "outputs": [
        {
          "output_type": "stream",
          "text": [
            "========== 패딩 후 ==========\n",
            "훈련 데이터: (25000, 400)\n",
            "테스트 데이터: (25000, 400)\n"
          ],
          "name": "stdout"
        }
      ]
    },
    {
      "cell_type": "code",
      "metadata": {
        "id": "TPnM-MXahtnG",
        "colab_type": "code",
        "colab": {
          "base_uri": "https://localhost:8080/",
          "height": 193
        },
        "outputId": "75b3279b-9838-483d-aaca-5ed02dd802ce"
      },
      "source": [
        "# OOV 확인\n",
        "for i in range(10):\n",
        "    print(f\"{i}번째 문장에서 OOV 개수: {(X_train[i] == 2).sum()}\")"
      ],
      "execution_count": 29,
      "outputs": [
        {
          "output_type": "stream",
          "text": [
            "0번째 문장에서 OOV 개수: 7\n",
            "1번째 문장에서 OOV 개수: 16\n",
            "2번째 문장에서 OOV 개수: 3\n",
            "3번째 문장에서 OOV 개수: 51\n",
            "4번째 문장에서 OOV 개수: 3\n",
            "5번째 문장에서 OOV 개수: 4\n",
            "6번째 문장에서 OOV 개수: 14\n",
            "7번째 문장에서 OOV 개수: 26\n",
            "8번째 문장에서 OOV 개수: 8\n",
            "9번째 문장에서 OOV 개수: 6\n"
          ],
          "name": "stdout"
        }
      ]
    },
    {
      "cell_type": "markdown",
      "metadata": {
        "id": "JgdAlZ65jl5g",
        "colab_type": "text"
      },
      "source": [
        "* 네트워크 구성"
      ]
    },
    {
      "cell_type": "code",
      "metadata": {
        "id": "Cw64wXZIjivb",
        "colab_type": "code",
        "colab": {
          "base_uri": "https://localhost:8080/",
          "height": 122
        },
        "outputId": "77d6959a-6311-41ed-f29d-c2f32dc8d89a"
      },
      "source": [
        "# 네트워크 파라미터\n",
        "BATCH = int(input('배치 사이즈 설정: '))\n",
        "EMBED_DIM = int(input('임베딩 차원 설정: '))\n",
        "n_filters = int(input('컨볼루션 필터 개수 설정: '))\n",
        "s_filters = int(input('컨볼루션 필터 사이즈 설정: '))\n",
        "n_hidden = int(input('은닉 노드 수 설정: '))\n",
        "EPOCHS = int(input('학습 횟수 설정: '))"
      ],
      "execution_count": 36,
      "outputs": [
        {
          "output_type": "stream",
          "text": [
            "배치 사이즈 설정: 32\n",
            "임베딩 차원 설정: 60\n",
            "컨볼루션 필터 개수 설정: 260\n",
            "컨볼루션 필터 사이즈 설정: 3\n",
            "은닉 노드 수 설정: 300\n",
            "학습 횟수 설정: 1000\n"
          ],
          "name": "stdout"
        }
      ]
    },
    {
      "cell_type": "code",
      "metadata": {
        "id": "SwcCoAu8kBpx",
        "colab_type": "code",
        "colab": {
          "base_uri": "https://localhost:8080/",
          "height": 510
        },
        "outputId": "0dd42680-d04f-484b-f0fb-365953eb2e07"
      },
      "source": [
        "# 모델 구성\n",
        "model = Sequential()\n",
        "\n",
        "# 임베딩 \n",
        "model.add(Embedding(input_dim=max_features,\n",
        "                    output_dim=EMBED_DIM,\n",
        "                    input_length=max_length))\n",
        "model.add(Dropout(0.2))\n",
        "# CNN\n",
        "model.add(Conv1D(filters=n_filters,\n",
        "                 kernel_size=s_filters,\n",
        "                 strides=1,\n",
        "                 padding='valid',\n",
        "                 activation='relu'))\n",
        "model.add(GlobalMaxPooling1D())\n",
        "# FC 가기 전 은닉\n",
        "model.add(Dense(n_hidden))\n",
        "model.add(Dropout(0.5))\n",
        "model.add(Activation('relu')) # 은닉층 활성화\n",
        "# FC\n",
        "model.add(Dense(1)) # sigmoid로 나온다\n",
        "model.add(Activation('sigmoid'))\n",
        "\n",
        "# 컴파일\n",
        "model.compile(loss='binary_crossentropy', optimizer='adam')\n",
        "print(\"========== 모델 전체 구조 확인 ==========\")\n",
        "print(model.summary())"
      ],
      "execution_count": 38,
      "outputs": [
        {
          "output_type": "stream",
          "text": [
            "========== 모델 전체 구조 확인 ==========\n",
            "Model: \"sequential_1\"\n",
            "_________________________________________________________________\n",
            "Layer (type)                 Output Shape              Param #   \n",
            "=================================================================\n",
            "embedding_1 (Embedding)      (None, 400, 60)           360000    \n",
            "_________________________________________________________________\n",
            "dropout_2 (Dropout)          (None, 400, 60)           0         \n",
            "_________________________________________________________________\n",
            "conv1d_1 (Conv1D)            (None, 398, 260)          47060     \n",
            "_________________________________________________________________\n",
            "global_max_pooling1d_1 (Glob (None, 260)               0         \n",
            "_________________________________________________________________\n",
            "dense_2 (Dense)              (None, 300)               78300     \n",
            "_________________________________________________________________\n",
            "dropout_3 (Dropout)          (None, 300)               0         \n",
            "_________________________________________________________________\n",
            "activation_2 (Activation)    (None, 300)               0         \n",
            "_________________________________________________________________\n",
            "dense_3 (Dense)              (None, 1)                 301       \n",
            "_________________________________________________________________\n",
            "activation_3 (Activation)    (None, 1)                 0         \n",
            "=================================================================\n",
            "Total params: 485,661\n",
            "Trainable params: 485,661\n",
            "Non-trainable params: 0\n",
            "_________________________________________________________________\n",
            "None\n"
          ],
          "name": "stdout"
        }
      ]
    },
    {
      "cell_type": "code",
      "metadata": {
        "id": "rJwpd8gRlsnT",
        "colab_type": "code",
        "colab": {
          "base_uri": "https://localhost:8080/",
          "height": 281
        },
        "outputId": "8acc3e87-9f53-4076-9625-44d03520db62"
      },
      "source": [
        "# 모델 학습\n",
        "es = EarlyStopping(monitor='val_loss', patience=5, verbose=1)\n",
        "\n",
        "hist= model.fit(X_train, y_train,\n",
        "                batch_size=BATCH,\n",
        "                epochs=EPOCHS,\n",
        "                validation_data=(X_test, y_test),\n",
        "                callbacks=[es])"
      ],
      "execution_count": 39,
      "outputs": [
        {
          "output_type": "stream",
          "text": [
            "Epoch 1/1000\n",
            "782/782 [==============================] - 7s 9ms/step - loss: 0.4191 - val_loss: 0.2829\n",
            "Epoch 2/1000\n",
            "782/782 [==============================] - 7s 9ms/step - loss: 0.2286 - val_loss: 0.2698\n",
            "Epoch 3/1000\n",
            "782/782 [==============================] - 7s 9ms/step - loss: 0.1526 - val_loss: 0.2848\n",
            "Epoch 4/1000\n",
            "782/782 [==============================] - 7s 9ms/step - loss: 0.0966 - val_loss: 0.3218\n",
            "Epoch 5/1000\n",
            "782/782 [==============================] - 7s 9ms/step - loss: 0.0648 - val_loss: 0.3658\n",
            "Epoch 6/1000\n",
            "782/782 [==============================] - 7s 9ms/step - loss: 0.0468 - val_loss: 0.4149\n",
            "Epoch 7/1000\n",
            "782/782 [==============================] - 7s 9ms/step - loss: 0.0365 - val_loss: 0.4609\n",
            "Epoch 00007: early stopping\n"
          ],
          "name": "stdout"
        }
      ]
    },
    {
      "cell_type": "code",
      "metadata": {
        "id": "7I-eZMwHmKke",
        "colab_type": "code",
        "colab": {
          "base_uri": "https://localhost:8080/",
          "height": 295
        },
        "outputId": "36fe78e3-90d8-48fe-935d-6ba3eb26d04e"
      },
      "source": [
        "# plot loss\n",
        "plt.plot(hist.history['loss'], label='Train Loss')\n",
        "plt.plot(hist.history['val_loss'], label='Test Loss')\n",
        "plt.legend()\n",
        "plt.title('Loss Trajectory')\n",
        "plt.xlabel('epoch')\n",
        "plt.ylabel('Loss')\n",
        "plt.show()"
      ],
      "execution_count": 41,
      "outputs": [
        {
          "output_type": "display_data",
          "data": {
            "image/png": "[encoded data removed]",
            "text/plain": [
              "<Figure size 432x288 with 1 Axes>"
            ]
          },
          "metadata": {
            "tags": [],
            "needs_background": "light"
          }
        }
      ]
    },
    {
      "cell_type": "code",
      "metadata": {
        "id": "R2apAhXFmc3S",
        "colab_type": "code",
        "colab": {
          "base_uri": "https://localhost:8080/",
          "height": 52
        },
        "outputId": "e1733b23-ee30-4849-e7d3-9ef4141ae1b9"
      },
      "source": [
        "# 예측 및 결과 확인: Deprecation Warning 주의\n",
        "y_train_pred = model.predict_classes(X_train, batch_size=BATCH)\n",
        "y_test_pred = model.predict_classes(X_test, batch_size=BATCH)\n",
        "y_train_pred = np.reshape(y_train_pred, y_train.shape)\n",
        "y_test_pred = np.reshape(y_test_pred, y_test.shape)\n",
        "\n",
        "print(f\"Train Accuracy: {accuracy_score(y_train, y_train_pred)}\")\n",
        "print(f\"Test Accuracy: {accuracy_score(y_test, y_test_pred)}\")"
      ],
      "execution_count": 49,
      "outputs": [
        {
          "output_type": "stream",
          "text": [
            "Train Accuracy: 0.99884\n",
            "Test Accuracy: 0.884\n"
          ],
          "name": "stdout"
        }
      ]
    },
    {
      "cell_type": "code",
      "metadata": {
        "id": "vaudcCawnlyX",
        "colab_type": "code",
        "colab": {}
      },
      "source": [
        ""
      ],
      "execution_count": null,
      "outputs": []
    },
    {
      "cell_type": "code",
      "metadata": {
        "id": "SqSO0v1pnl0I",
        "colab_type": "code",
        "colab": {}
      },
      "source": [
        ""
      ],
      "execution_count": null,
      "outputs": []
    },
    {
      "cell_type": "code",
      "metadata": {
        "id": "AXLJR9pVnlwV",
        "colab_type": "code",
        "colab": {}
      },
      "source": [
        ""
      ],
      "execution_count": null,
      "outputs": []
    },
    {
      "cell_type": "markdown",
      "metadata": {
        "id": "arqSom64nkwr",
        "colab_type": "text"
      },
      "source": [
        "# [2] Functional API"
      ]
    },
    {
      "cell_type": "code",
      "metadata": {
        "id": "aoyNYFX4-20g",
        "colab_type": "code",
        "colab": {
          "base_uri": "https://localhost:8080/",
          "height": 1000
        },
        "outputId": "bdd14e03-e6ab-4520-d5a4-29304f39e6ad"
      },
      "source": [
        "# 모듈 불러오기\n",
        "from tensorflow.keras.datasets import imdb\n",
        "from tensorflow.keras.preprocessing.sequence import pad_sequences\n",
        "from tensorflow.keras.models import Model\n",
        "from tensorflow.keras.layers import Input, Dense, Activation, Embedding, Dropout, Conv1D, GlobalMaxPooling1D\n",
        "from tensorflow.keras.callbacks import EarlyStopping\n",
        "from tensorflow.keras.optimizers import Adam\n",
        "import matplotlib.pyplot as plt\n",
        "from sklearn.metrics import accuracy_score\n",
        "import numpy as np\n",
        "\n",
        "# 파라미터 설정\n",
        "max_features = int(input('최대 단어 수 설정: ')) # 어휘 집합 수\n",
        "max_length = int(input('문장 길이 설정: '))\n",
        "\n",
        "# 데이터 로드 및 확인\n",
        "(X_train, y_train), (X_test, y_test) = imdb.load_data(num_words=max_features)\n",
        "print(f\"훈련 데이터: {X_train.shape}, 훈련 라벨: {y_train.shape}\")\n",
        "print(f\"테스트 데이터: {y_train.shape}, 테스트 라벨: {y_test.shape}\")\n",
        "print()\n",
        "print(\"훈련 데이터 샘플 확인\")\n",
        "print(X_train[0]) # 단어 인덱스 확인\n",
        "print()\n",
        "\n",
        "# 어휘집합\n",
        "vocabulary = imdb.get_word_index() # dict\n",
        "vocab_dict = dict((v, k) for k, v in vocabulary.items())\n",
        "\n",
        "# IMDB 데이터셋 문장 decode\n",
        "def decode_sent(sentences, vocabulary=vocab_dict):\n",
        "    '''\n",
        "    - 0: padding, 1: start, 2: OOV\n",
        "    - 실제 word index에서 3을 빼고, 없으면 '*'로 채운다.\n",
        "    '''\n",
        "    temp_sent = []\n",
        "    for sent in sentences:\n",
        "        temp = vocab_dict.get(sent-3, '*')\n",
        "        temp_sent.append(temp)\n",
        "    \n",
        "    comb_sent = \" \".join(temp_sent)\n",
        "\n",
        "    return comb_sent\n",
        "\n",
        "# 디코드해서 확인\n",
        "print(decode_sent(X_train[0])) # 문장 앞에 '*' 붙는다.\n",
        "\n",
        "# 패딩\n",
        "X_train = pad_sequences(X_train, maxlen=max_length)\n",
        "X_test = pad_sequences(X_test, maxlen=max_length)\n",
        "print(\"========== 패딩 후 ==========\")\n",
        "print(f\"훈련 데이터: {X_train.shape}\")\n",
        "print(f\"테스트 데이터: {X_test.shape}\")\n",
        "\n",
        "# OOV 확인\n",
        "for i in range(10):\n",
        "    print(f\"{i}번째 문장에서 OOV 개수: {(X_train[i] == 2).sum()}\")\n",
        "print()\n",
        "\n",
        "# 네트워크 파라미터\n",
        "BATCH = int(input('배치 사이즈 설정: '))\n",
        "n_embed = int(input('임베딩 차원 설정: '))\n",
        "n_filters = int(input('컨볼루션 필터 개수 설정: '))\n",
        "s_filters = int(input('컨볼루션 필터 사이즈 설정: '))\n",
        "n_hidden = int(input('은닉 노드 수 설정: '))\n",
        "EPOCHS = int(input('학습 횟수 설정: '))\n",
        "\n",
        "# 모델 레이어 구성\n",
        "X_Input = Input(batch_shape=(None, max_length))\n",
        "X_Embed = Embedding(input_dim=max_features, output_dim=n_embed, input_length=max_length)(X_Input)\n",
        "X_Embed2 = Dropout(0.2)(X_Embed)\n",
        "X_Conv = Conv1D(filters=n_filters, kernel_size=s_filters, strides=1, padding='valid', activation='relu')(X_Embed2)\n",
        "X_Pool = GlobalMaxPooling1D()(X_Conv)\n",
        "X_Dense = Dense(n_hidden, activation='relu')(X_Pool)\n",
        "X_Dense2 = Dropout(0.5)(X_Dense)\n",
        "y_output = Dense(1, activation='sigmoid')(X_Dense2)\n",
        "\n",
        "# 모델 구성\n",
        "model = Model(X_Input, y_output)\n",
        "\n",
        "# 모델 컴파일\n",
        "model.compile(loss='binary_crossentropy', optimizer=Adam(learning_rate=0.001))\n",
        "print(\"========== 모델 전체 구조 확인 ==========\")\n",
        "print(model.summary())\n",
        "print()\n",
        "\n",
        "# 모델 학습\n",
        "es = EarlyStopping(monitor='val_loss', patience=5, verbose=1)\n",
        "hist= model.fit(X_train, y_train,\n",
        "                batch_size=BATCH,\n",
        "                epochs=EPOCHS,\n",
        "                validation_data=(X_test, y_test),\n",
        "                callbacks=[es])\n",
        "\n",
        "# plot loss\n",
        "plt.plot(hist.history['loss'], label='Train Loss')\n",
        "plt.plot(hist.history['val_loss'], label='Test Loss')\n",
        "plt.legend()\n",
        "plt.title('Loss Trajectory')\n",
        "plt.xlabel('epoch')\n",
        "plt.ylabel('Loss')\n",
        "plt.show()\n",
        "print()\n",
        "\n",
        "# 예측 및 결과 확인: Deprecation Warning 주의\n",
        "y_train_pred = model.predict(X_train)\n",
        "y_test_pred = model.predict(X_test)\n",
        "y_train_pred = np.reshape(np.where(y_train_pred > 0.5, 1, 0), y_train.shape)\n",
        "y_test_pred = np.reshape(np.where(y_test_pred > 0.5, 1, 0), y_test.shape)\n",
        "print(f\"Train Accuracy: {accuracy_score(y_train, y_train_pred)}\")\n",
        "print(f\"Test Accuracy: {accuracy_score(y_test, y_test_pred)}\")"
      ],
      "execution_count": 7,
      "outputs": [
        {
          "output_type": "stream",
          "text": [
            "최대 단어 수 설정: 6000\n",
            "문장 길이 설정: 400\n",
            "훈련 데이터: (25000,), 훈련 라벨: (25000,)\n",
            "테스트 데이터: (25000,), 테스트 라벨: (25000,)\n",
            "\n",
            "훈련 데이터 샘플 확인\n",
            "[1, 14, 22, 16, 43, 530, 973, 1622, 1385, 65, 458, 4468, 66, 3941, 4, 173, 36, 256, 5, 25, 100, 43, 838, 112, 50, 670, 2, 9, 35, 480, 284, 5, 150, 4, 172, 112, 167, 2, 336, 385, 39, 4, 172, 4536, 1111, 17, 546, 38, 13, 447, 4, 192, 50, 16, 6, 147, 2025, 19, 14, 22, 4, 1920, 4613, 469, 4, 22, 71, 87, 12, 16, 43, 530, 38, 76, 15, 13, 1247, 4, 22, 17, 515, 17, 12, 16, 626, 18, 2, 5, 62, 386, 12, 8, 316, 8, 106, 5, 4, 2223, 5244, 16, 480, 66, 3785, 33, 4, 130, 12, 16, 38, 619, 5, 25, 124, 51, 36, 135, 48, 25, 1415, 33, 6, 22, 12, 215, 28, 77, 52, 5, 14, 407, 16, 82, 2, 8, 4, 107, 117, 5952, 15, 256, 4, 2, 7, 3766, 5, 723, 36, 71, 43, 530, 476, 26, 400, 317, 46, 7, 4, 2, 1029, 13, 104, 88, 4, 381, 15, 297, 98, 32, 2071, 56, 26, 141, 6, 194, 2, 18, 4, 226, 22, 21, 134, 476, 26, 480, 5, 144, 30, 5535, 18, 51, 36, 28, 224, 92, 25, 104, 4, 226, 65, 16, 38, 1334, 88, 12, 16, 283, 5, 16, 4472, 113, 103, 32, 15, 16, 5345, 19, 178, 32]\n",
            "\n",
            "* this film was just brilliant casting location scenery story direction everyone's really suited the part they played and you could just imagine being there robert * is an amazing actor and now the same being director * father came from the same scottish island as myself so i loved the fact there was a real connection with this film the witty remarks throughout the film were great it was just brilliant so much that i bought the film as soon as it was released for * and would recommend it to everyone to watch and the fly fishing was amazing really cried at the end it was so sad and you know what they say if you cry at a film it must have been good and this definitely was also * to the two little boy's that played the * of norman and paul they were just brilliant children are often left out of the * list i think because the stars that play them all grown up are such a big * for the whole film but these children are amazing and should be praised for what they have done don't you think the whole story was so lovely because it was true and was someone's life after all that was shared with us all\n",
            "========== 패딩 후 ==========\n",
            "훈련 데이터: (25000, 400)\n",
            "테스트 데이터: (25000, 400)\n",
            "0번째 문장에서 OOV 개수: 7\n",
            "1번째 문장에서 OOV 개수: 16\n",
            "2번째 문장에서 OOV 개수: 3\n",
            "3번째 문장에서 OOV 개수: 51\n",
            "4번째 문장에서 OOV 개수: 3\n",
            "5번째 문장에서 OOV 개수: 4\n",
            "6번째 문장에서 OOV 개수: 14\n",
            "7번째 문장에서 OOV 개수: 26\n",
            "8번째 문장에서 OOV 개수: 8\n",
            "9번째 문장에서 OOV 개수: 6\n",
            "\n",
            "배치 사이즈 설정: 32\n",
            "임베딩 차원 설정: 60\n",
            "컨볼루션 필터 개수 설정: 260\n",
            "컨볼루션 필터 사이즈 설정: 3\n",
            "은닉 노드 수 설정: 300\n",
            "학습 횟수 설정: 1000\n",
            "========== 모델 전체 구조 확인 ==========\n",
            "Model: \"model_1\"\n",
            "_________________________________________________________________\n",
            "Layer (type)                 Output Shape              Param #   \n",
            "=================================================================\n",
            "input_2 (InputLayer)         [(None, 400)]             0         \n",
            "_________________________________________________________________\n",
            "embedding_1 (Embedding)      (None, 400, 60)           360000    \n",
            "_________________________________________________________________\n",
            "dropout_2 (Dropout)          (None, 400, 60)           0         \n",
            "_________________________________________________________________\n",
            "conv1d_1 (Conv1D)            (None, 398, 260)          47060     \n",
            "_________________________________________________________________\n",
            "global_max_pooling1d_1 (Glob (None, 260)               0         \n",
            "_________________________________________________________________\n",
            "dense_2 (Dense)              (None, 300)               78300     \n",
            "_________________________________________________________________\n",
            "dropout_3 (Dropout)          (None, 300)               0         \n",
            "_________________________________________________________________\n",
            "dense_3 (Dense)              (None, 1)                 301       \n",
            "=================================================================\n",
            "Total params: 485,661\n",
            "Trainable params: 485,661\n",
            "Non-trainable params: 0\n",
            "_________________________________________________________________\n",
            "None\n",
            "\n",
            "Epoch 1/1000\n",
            "782/782 [==============================] - 8s 10ms/step - loss: 0.4192 - val_loss: 0.2815\n",
            "Epoch 2/1000\n",
            "782/782 [==============================] - 7s 9ms/step - loss: 0.2321 - val_loss: 0.2574\n",
            "Epoch 3/1000\n",
            "782/782 [==============================] - 8s 10ms/step - loss: 0.1610 - val_loss: 0.2822\n",
            "Epoch 4/1000\n",
            "782/782 [==============================] - 7s 9ms/step - loss: 0.1062 - val_loss: 0.3099\n",
            "Epoch 5/1000\n",
            "782/782 [==============================] - 7s 9ms/step - loss: 0.0663 - val_loss: 0.3735\n",
            "Epoch 6/1000\n",
            "782/782 [==============================] - 7s 10ms/step - loss: 0.0458 - val_loss: 0.4038\n",
            "Epoch 7/1000\n",
            "782/782 [==============================] - 7s 10ms/step - loss: 0.0374 - val_loss: 0.4781\n",
            "Epoch 00007: early stopping\n"
          ],
          "name": "stdout"
        },
        {
          "output_type": "display_data",
          "data": {
            "image/png": "[encoded data removed]",
            "text/plain": [
              "<Figure size 432x288 with 1 Axes>"
            ]
          },
          "metadata": {
            "tags": [],
            "needs_background": "light"
          }
        },
        {
          "output_type": "stream",
          "text": [
            "\n",
            "Train Accuracy: 0.99732\n",
            "Test Accuracy: 0.87792\n"
          ],
          "name": "stdout"
        }
      ]
    },
    {
      "cell_type": "code",
      "metadata": {
        "id": "6reseZjloRb2",
        "colab_type": "code",
        "colab": {}
      },
      "source": [
        ""
      ],
      "execution_count": null,
      "outputs": []
    },
    {
      "cell_type": "markdown",
      "metadata": {
        "id": "2CG-UPq2oRyH",
        "colab_type": "text"
      },
      "source": [
        "# [3] 코드 수정\n",
        "\n",
        "- 문장 길이 확인하는 부분 추가\n"
      ]
    }
  ]
}