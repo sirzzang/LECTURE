{
  "nbformat": 4,
  "nbformat_minor": 0,
  "metadata": {
    "colab": {
      "name": "NLP-Keras-IMDB-LSTM-practice.ipynb",
      "provenance": [],
      "collapsed_sections": [],
      "machine_shape": "hm"
    },
    "kernelspec": {
      "name": "python3",
      "display_name": "Python 3"
    },
    "accelerator": "GPU"
  },
  "cells": [
    {
      "cell_type": "markdown",
      "metadata": {
        "id": "IEBcymHBkF4w",
        "colab_type": "text"
      },
      "source": [
        "# [1] Sequential"
      ]
    },
    {
      "cell_type": "code",
      "metadata": {
        "id": "vaudcCawnlyX",
        "colab_type": "code",
        "colab": {
          "base_uri": "https://localhost:8080/",
          "height": 1000
        },
        "outputId": "86e11c8f-bbbb-446a-ee20-f0ea9dac90e7"
      },
      "source": [
        "# 모듈 불러오기\n",
        "from tensorflow.keras.datasets import imdb\n",
        "from tensorflow.keras.preprocessing.sequence import pad_sequences\n",
        "from tensorflow.keras.models import Sequential\n",
        "from tensorflow.keras.layers import Dense, Embedding, Bidirectional, LSTM\n",
        "from tensorflow.keras.optimizers import Adam\n",
        "from tensorflow.keras.callbacks import EarlyStopping\n",
        "import matplotlib.pyplot as plt\n",
        "from sklearn.metrics import accuracy_score\n",
        "\n",
        "# 데이터 로드 및 확인\n",
        "\n",
        "max_features = int(input('최대 단어 수 설정: ')) # 어휘 집합 수 설정\n",
        "\n",
        "(X_train, y_train), (X_test, y_test) = imdb.load_data(num_words=max_features)\n",
        "print(f\"훈련 데이터: {X_train.shape}, 훈련 라벨: {y_train.shape}\")\n",
        "print(f\"테스트 데이터: {y_train.shape}, 테스트 라벨: {y_test.shape}\")\n",
        "print()\n",
        "print(\"훈련 데이터 샘플 확인\")\n",
        "print(X_train[0]) # 단어 인덱스 확인\n",
        "print()\n",
        "\n",
        "def check_len(m, sentences):\n",
        "    cnt = 0\n",
        "    for sent in sentences:\n",
        "        if len(sent) <= m:\n",
        "            cnt += 1\n",
        "    \n",
        "    return f'전체 문장 중 길이가 {m} 이하인 샘플의 비율: {(cnt/len(sentences))*100}'\n",
        "\n",
        "# 문장 길이 설정: 패딩\n",
        "for length in range(100, 1000, 50):\n",
        "    print(check_len(length, X_train))\n",
        "print()\n",
        "\n",
        "# 파라미터 설정\n",
        "max_length = int(input('문장 길이 설정: '))\n",
        "\n",
        "# IMDB 데이터셋 문장 decode\n",
        "def decode_sent(sentences):\n",
        "    '''\n",
        "    - 0: padding, 1: start, 2: OOV\n",
        "    - 실제 word index에서 3을 빼고, 없으면 '*'로 채운다.\n",
        "    '''\n",
        "    temp_sent = []\n",
        "    for sent in sentences:\n",
        "        temp = vocab_dict.get(sent-3, '*')\n",
        "        temp_sent.append(temp)\n",
        "    \n",
        "    comb_sent = \" \".join(temp_sent)\n",
        "\n",
        "    return comb_sent\n",
        "\n",
        "# 원래 문장 어떤 상태였는지 확인\n",
        "print(decode_sent(X_train[0])) # 문장 앞에 '*' 붙는다.\n",
        "print()\n",
        "\n",
        "# 패딩\n",
        "X_train = pad_sequences(X_train, maxlen=max_length) # truncate 되는 건가?\n",
        "X_test = pad_sequences(X_test, maxlen=max_length)\n",
        "print(\"========== 패딩 후 ==========\")\n",
        "print(f\"훈련 데이터: {X_train.shape}\")\n",
        "print(f\"테스트 데이터: {X_test.shape}\")\n",
        "print()\n",
        "\n",
        "# OOV 확인\n",
        "for i in range(10):\n",
        "    print(f\"{i}번째 문장에서 OOV 개수: {(X_train[i] == 2).sum()}\")\n",
        "print()\n",
        "\n",
        "# 네트워크 파라미터\n",
        "BATCH = int(input('배치 사이즈 설정: '))\n",
        "n_embed = int(input('임베딩 차원 설정: '))\n",
        "n_hidden = int(input('은닉 노드 수 설정: '))\n",
        "EPOCHS = int(input('학습 횟수 설정: '))\n",
        "\n",
        "# 모델 레이어 설정 및 구성\n",
        "model = Sequential()\n",
        "model.add(Embedding(input_dim=max_features, output_dim=n_embed, input_length=max_length))\n",
        "model.add(Bidirectional(LSTM(n_hidden)))\n",
        "model.add(Dense(1, activation='sigmoid'))\n",
        "\n",
        "# 모델 컴파일\n",
        "model.compile(loss='binary_crossentropy', optimizer=Adam(learning_rate=0.002))\n",
        "print(\"========== 모델 전체 구조 확인 ==========\")\n",
        "print(model.summary())\n",
        "print()\n",
        "\n",
        "# 모델 훈련\n",
        "es = EarlyStopping(monitor='val_loss', patience=5, verbose=1)\n",
        "\n",
        "hist = model.fit(X_train, y_train,\n",
        "                 batch_size=BATCH,\n",
        "                 epochs=EPOCHS,\n",
        "                 validation_data=(X_test, y_test),\n",
        "                 callbacks=[es])\n",
        "\n",
        "# 예측\n",
        "y_train_pred = model.predict_classes(X_train)\n",
        "y_test_pred = model.predict_classes(X_test)\n",
        "y_train_pred = np.reshape(y_train_pred, y_train.shape)\n",
        "y_test_pred = np.reshape(y_test_pred, y_test.shape)\n",
        "\n",
        "print(f\"Train Accuracy: {accuracy_score(y_train, y_train_pred)}\")\n",
        "print(f\"Test Accuracy: {accuracy_score(y_test, y_test_pred)}\")"
      ],
      "execution_count": 58,
      "outputs": [
        {
          "output_type": "stream",
          "text": [
            "최대 단어 수 설정: 6000\n",
            "훈련 데이터: (25000,), 훈련 라벨: (25000,)\n",
            "테스트 데이터: (25000,), 테스트 라벨: (25000,)\n",
            "\n",
            "훈련 데이터 샘플 확인\n",
            "[1, 14, 22, 16, 43, 530, 973, 1622, 1385, 65, 458, 4468, 66, 3941, 4, 173, 36, 256, 5, 25, 100, 43, 838, 112, 50, 670, 2, 9, 35, 480, 284, 5, 150, 4, 172, 112, 167, 2, 336, 385, 39, 4, 172, 4536, 1111, 17, 546, 38, 13, 447, 4, 192, 50, 16, 6, 147, 2025, 19, 14, 22, 4, 1920, 4613, 469, 4, 22, 71, 87, 12, 16, 43, 530, 38, 76, 15, 13, 1247, 4, 22, 17, 515, 17, 12, 16, 626, 18, 2, 5, 62, 386, 12, 8, 316, 8, 106, 5, 4, 2223, 5244, 16, 480, 66, 3785, 33, 4, 130, 12, 16, 38, 619, 5, 25, 124, 51, 36, 135, 48, 25, 1415, 33, 6, 22, 12, 215, 28, 77, 52, 5, 14, 407, 16, 82, 2, 8, 4, 107, 117, 5952, 15, 256, 4, 2, 7, 3766, 5, 723, 36, 71, 43, 530, 476, 26, 400, 317, 46, 7, 4, 2, 1029, 13, 104, 88, 4, 381, 15, 297, 98, 32, 2071, 56, 26, 141, 6, 194, 2, 18, 4, 226, 22, 21, 134, 476, 26, 480, 5, 144, 30, 5535, 18, 51, 36, 28, 224, 92, 25, 104, 4, 226, 65, 16, 38, 1334, 88, 12, 16, 283, 5, 16, 4472, 113, 103, 32, 15, 16, 5345, 19, 178, 32]\n",
            "\n",
            "전체 문장 중 길이가 100 이하인 샘플의 비율: 11.288\n",
            "전체 문장 중 길이가 150 이하인 샘플의 비율: 37.732\n",
            "전체 문장 중 길이가 200 이하인 샘플의 비율: 57.292\n",
            "전체 문장 중 길이가 250 이하인 샘플의 비율: 68.688\n",
            "전체 문장 중 길이가 300 이하인 샘플의 비율: 76.36800000000001\n",
            "전체 문장 중 길이가 350 이하인 샘플의 비율: 81.93599999999999\n",
            "전체 문장 중 길이가 400 이하인 샘플의 비율: 86.064\n",
            "전체 문장 중 길이가 450 이하인 샘플의 비율: 89.184\n",
            "전체 문장 중 길이가 500 이하인 샘플의 비율: 91.56800000000001\n",
            "전체 문장 중 길이가 550 이하인 샘플의 비율: 93.308\n",
            "전체 문장 중 길이가 600 이하인 샘플의 비율: 94.812\n",
            "전체 문장 중 길이가 650 이하인 샘플의 비율: 95.92399999999999\n",
            "전체 문장 중 길이가 700 이하인 샘플의 비율: 96.72800000000001\n",
            "전체 문장 중 길이가 750 이하인 샘플의 비율: 97.432\n",
            "전체 문장 중 길이가 800 이하인 샘플의 비율: 98.012\n",
            "전체 문장 중 길이가 850 이하인 샘플의 비율: 98.5\n",
            "전체 문장 중 길이가 900 이하인 샘플의 비율: 98.832\n",
            "전체 문장 중 길이가 950 이하인 샘플의 비율: 99.136\n",
            "\n",
            "문장 길이 설정: 700\n",
            "* this film was just brilliant casting location scenery story direction everyone's really suited the part they played and you could just imagine being there robert * is an amazing actor and now the same being director * father came from the same scottish island as myself so i loved the fact there was a real connection with this film the witty remarks throughout the film were great it was just brilliant so much that i bought the film as soon as it was released for * and would recommend it to everyone to watch and the fly fishing was amazing really cried at the end it was so sad and you know what they say if you cry at a film it must have been good and this definitely was also * to the two little boy's that played the * of norman and paul they were just brilliant children are often left out of the * list i think because the stars that play them all grown up are such a big * for the whole film but these children are amazing and should be praised for what they have done don't you think the whole story was so lovely because it was true and was someone's life after all that was shared with us all\n",
            "\n",
            "========== 패딩 후 ==========\n",
            "훈련 데이터: (25000, 700)\n",
            "테스트 데이터: (25000, 700)\n",
            "\n",
            "0번째 문장에서 OOV 개수: 7\n",
            "1번째 문장에서 OOV 개수: 16\n",
            "2번째 문장에서 OOV 개수: 3\n",
            "3번째 문장에서 OOV 개수: 62\n",
            "4번째 문장에서 OOV 개수: 3\n",
            "5번째 문장에서 OOV 개수: 4\n",
            "6번째 문장에서 OOV 개수: 14\n",
            "7번째 문장에서 OOV 개수: 54\n",
            "8번째 문장에서 OOV 개수: 8\n",
            "9번째 문장에서 OOV 개수: 6\n",
            "\n",
            "배치 사이즈 설정: 32\n",
            "임베딩 차원 설정: 64\n",
            "은닉 노드 수 설정: 128\n",
            "학습 횟수 설정: 1000\n",
            "========== 모델 전체 구조 확인 ==========\n",
            "Model: \"sequential\"\n",
            "_________________________________________________________________\n",
            "Layer (type)                 Output Shape              Param #   \n",
            "=================================================================\n",
            "embedding_1 (Embedding)      (None, 700, 64)           384000    \n",
            "_________________________________________________________________\n",
            "bidirectional_1 (Bidirection (None, 256)               197632    \n",
            "_________________________________________________________________\n",
            "dense_1 (Dense)              (None, 1)                 257       \n",
            "=================================================================\n",
            "Total params: 581,889\n",
            "Trainable params: 581,889\n",
            "Non-trainable params: 0\n",
            "_________________________________________________________________\n",
            "None\n",
            "\n",
            "Epoch 1/1000\n",
            "782/782 [==============================] - 84s 107ms/step - loss: 0.5137 - val_loss: 0.6174\n",
            "Epoch 2/1000\n",
            "782/782 [==============================] - 85s 109ms/step - loss: 0.4463 - val_loss: 0.4962\n",
            "Epoch 3/1000\n",
            "782/782 [==============================] - 85s 109ms/step - loss: 0.2900 - val_loss: 0.2802\n",
            "Epoch 4/1000\n",
            "782/782 [==============================] - 86s 109ms/step - loss: 0.1954 - val_loss: 0.3034\n",
            "Epoch 5/1000\n",
            "782/782 [==============================] - 86s 110ms/step - loss: 0.1539 - val_loss: 0.3060\n",
            "Epoch 6/1000\n",
            "782/782 [==============================] - 86s 110ms/step - loss: 0.1075 - val_loss: 0.3762\n",
            "Epoch 7/1000\n",
            "782/782 [==============================] - 86s 110ms/step - loss: 0.0816 - val_loss: 0.4221\n",
            "Epoch 8/1000\n",
            "782/782 [==============================] - 86s 110ms/step - loss: 0.0600 - val_loss: 0.4449\n",
            "Epoch 00008: early stopping\n",
            "WARNING:tensorflow:From <ipython-input-58-28c4fec27270>:99: Sequential.predict_classes (from tensorflow.python.keras.engine.sequential) is deprecated and will be removed after 2021-01-01.\n",
            "Instructions for updating:\n",
            "Please use instead:* `np.argmax(model.predict(x), axis=-1)`,   if your model does multi-class classification   (e.g. if it uses a `softmax` last-layer activation).* `(model.predict(x) > 0.5).astype(\"int32\")`,   if your model does binary classification   (e.g. if it uses a `sigmoid` last-layer activation).\n",
            "Train Accuracy: 0.99004\n",
            "Test Accuracy: 0.877\n"
          ],
          "name": "stdout"
        }
      ]
    },
    {
      "cell_type": "code",
      "metadata": {
        "id": "AXLJR9pVnlwV",
        "colab_type": "code",
        "colab": {}
      },
      "source": [
        ""
      ],
      "execution_count": null,
      "outputs": []
    },
    {
      "cell_type": "markdown",
      "metadata": {
        "id": "arqSom64nkwr",
        "colab_type": "text"
      },
      "source": [
        "# [2] Functional API\n",
        "\n",
        "- 희귀 단어 등장 빈도 확인하는 부분을 추가해 보자.\n",
        "\n",
        "> For convenience, words are indexed by overall frequency in the dataset, so that for instance the integer \"3\" encodes the 3rd most frequent word in the data.\n",
        "\n",
        "- 문장 길이 확인하는 부분을 추가해서 문장 길이 설정 다시 해 주자."
      ]
    },
    {
      "cell_type": "code",
      "metadata": {
        "id": "UW9zABzzn5tF",
        "colab_type": "code",
        "colab": {}
      },
      "source": [
        "# 모듈 불러오기\n",
        "from tensorflow.keras.datasets import imdb\n",
        "from tensorflow.keras.preprocessing.sequence import pad_sequences\n",
        "from tensorflow.keras.models import Model\n",
        "from tensorflow.keras.layers import Input, Dense, Embedding, Bidirectional, LSTM\n",
        "from tensorflow.keras.optimizers import Adam\n",
        "from tensorflow.keras.callbacks import EarlyStopping\n",
        "import matplotlib.pyplot as plt\n",
        "from sklearn.metrics import accuracy_score"
      ],
      "execution_count": 54,
      "outputs": []
    },
    {
      "cell_type": "code",
      "metadata": {
        "id": "_2-AEwAMoCPu",
        "colab_type": "code",
        "colab": {
          "base_uri": "https://localhost:8080/",
          "height": 142
        },
        "outputId": "5dcdda03-d23e-4920-f224-ef5f30bf6196"
      },
      "source": [
        "# 데이터 로드 및 확인\n",
        "\n",
        "max_features = int(input('최대 단어 수 설정: ')) # 어휘 집합 수 설정\n",
        "\n",
        "(X_train, y_train), (X_test, y_test) = imdb.load_data(num_words=max_features)\n",
        "print(f\"훈련 데이터: {X_train.shape}, 훈련 라벨: {y_train.shape}\")\n",
        "print(f\"테스트 데이터: {y_train.shape}, 테스트 라벨: {y_test.shape}\")\n",
        "print()\n",
        "print(\"훈련 데이터 샘플 확인\")\n",
        "print(X_train[0]) # 단어 인덱스 확인"
      ],
      "execution_count": 25,
      "outputs": [
        {
          "output_type": "stream",
          "text": [
            "최대 단어 수 설정: 6000\n",
            "훈련 데이터: (25000,), 훈련 라벨: (25000,)\n",
            "테스트 데이터: (25000,), 테스트 라벨: (25000,)\n",
            "\n",
            "훈련 데이터 샘플 확인\n",
            "[1, 14, 22, 16, 43, 530, 973, 1622, 1385, 65, 458, 4468, 66, 3941, 4, 173, 36, 256, 5, 25, 100, 43, 838, 112, 50, 670, 2, 9, 35, 480, 284, 5, 150, 4, 172, 112, 167, 2, 336, 385, 39, 4, 172, 4536, 1111, 17, 546, 38, 13, 447, 4, 192, 50, 16, 6, 147, 2025, 19, 14, 22, 4, 1920, 4613, 469, 4, 22, 71, 87, 12, 16, 43, 530, 38, 76, 15, 13, 1247, 4, 22, 17, 515, 17, 12, 16, 626, 18, 2, 5, 62, 386, 12, 8, 316, 8, 106, 5, 4, 2223, 5244, 16, 480, 66, 3785, 33, 4, 130, 12, 16, 38, 619, 5, 25, 124, 51, 36, 135, 48, 25, 1415, 33, 6, 22, 12, 215, 28, 77, 52, 5, 14, 407, 16, 82, 2, 8, 4, 107, 117, 5952, 15, 256, 4, 2, 7, 3766, 5, 723, 36, 71, 43, 530, 476, 26, 400, 317, 46, 7, 4, 2, 1029, 13, 104, 88, 4, 381, 15, 297, 98, 32, 2071, 56, 26, 141, 6, 194, 2, 18, 4, 226, 22, 21, 134, 476, 26, 480, 5, 144, 30, 5535, 18, 51, 36, 28, 224, 92, 25, 104, 4, 226, 65, 16, 38, 1334, 88, 12, 16, 283, 5, 16, 4472, 113, 103, 32, 15, 16, 5345, 19, 178, 32]\n"
          ],
          "name": "stdout"
        }
      ]
    },
    {
      "cell_type": "markdown",
      "metadata": {
        "id": "xJfA_ctX7XTq",
        "colab_type": "text"
      },
      "source": [
        "* 희귀 단어 빈돌르 확인하자 --> 아직 써먹지는 않았다."
      ]
    },
    {
      "cell_type": "code",
      "metadata": {
        "id": "LwTXkhiWobkU",
        "colab_type": "code",
        "colab": {}
      },
      "source": [
        "# # 어휘집합\n",
        "# vocabulary = imdb.get_word_index() # dict\n",
        "# vocab_dict = dict((v, k) for k, v in vocabulary.items())"
      ],
      "execution_count": 28,
      "outputs": []
    },
    {
      "cell_type": "markdown",
      "metadata": {
        "id": "zWDc_vdsp8ia",
        "colab_type": "text"
      },
      "source": [
        "* 문장 길이를 확인하자"
      ]
    },
    {
      "cell_type": "code",
      "metadata": {
        "id": "cbPS9ptTqk4s",
        "colab_type": "code",
        "colab": {}
      },
      "source": [
        "def check_len(m, sentences):\n",
        "    cnt = 0\n",
        "    for sent in sentences:\n",
        "        if len(sent) <= m:\n",
        "            cnt += 1\n",
        "    \n",
        "    return f'전체 문장 중 길이가 {m} 이하인 샘플의 비율: {(cnt/len(sentences))*100}'"
      ],
      "execution_count": 26,
      "outputs": []
    },
    {
      "cell_type": "code",
      "metadata": {
        "id": "_QsjtF5krD-e",
        "colab_type": "code",
        "colab": {
          "base_uri": "https://localhost:8080/",
          "height": 1000
        },
        "outputId": "a394cb82-3956-4bd2-c62e-36b5a949ebfc"
      },
      "source": [
        "# 문장 길이 설정: 패딩\n",
        "for length in range(100,  1000, 10):\n",
        "    print(check_len(length, X_train))\n",
        "\n",
        "# 파라미터 설정\n",
        "max_length = int(input('문장 길이 설정: '))"
      ],
      "execution_count": 27,
      "outputs": [
        {
          "output_type": "stream",
          "text": [
            "전체 문장 중 길이가 100 이하인 샘플의 비율: 11.288\n",
            "전체 문장 중 길이가 110 이하인 샘플의 비율: 13.96\n",
            "전체 문장 중 길이가 120 이하인 샘플의 비율: 18.587999999999997\n",
            "전체 문장 중 길이가 130 이하인 샘플의 비율: 25.44\n",
            "전체 문장 중 길이가 140 이하인 샘플의 비율: 32.135999999999996\n",
            "전체 문장 중 길이가 150 이하인 샘플의 비율: 37.732\n",
            "전체 문장 중 길이가 160 이하인 샘플의 비율: 42.664\n",
            "전체 문장 중 길이가 170 이하인 샘플의 비율: 46.988\n",
            "전체 문장 중 길이가 180 이하인 샘플의 비율: 50.8\n",
            "전체 문장 중 길이가 190 이하인 샘플의 비율: 54.244\n",
            "전체 문장 중 길이가 200 이하인 샘플의 비율: 57.292\n",
            "전체 문장 중 길이가 210 이하인 샘플의 비율: 60.05200000000001\n",
            "전체 문장 중 길이가 220 이하인 샘플의 비율: 62.452\n",
            "전체 문장 중 길이가 230 이하인 샘플의 비율: 64.68\n",
            "전체 문장 중 길이가 240 이하인 샘플의 비율: 66.73599999999999\n",
            "전체 문장 중 길이가 250 이하인 샘플의 비율: 68.688\n",
            "전체 문장 중 길이가 260 이하인 샘플의 비율: 70.548\n",
            "전체 문장 중 길이가 270 이하인 샘플의 비율: 72.196\n",
            "전체 문장 중 길이가 280 이하인 샘플의 비율: 73.724\n",
            "전체 문장 중 길이가 290 이하인 샘플의 비율: 74.988\n",
            "전체 문장 중 길이가 300 이하인 샘플의 비율: 76.36800000000001\n",
            "전체 문장 중 길이가 310 이하인 샘플의 비율: 77.61200000000001\n",
            "전체 문장 중 길이가 320 이하인 샘플의 비율: 78.8\n",
            "전체 문장 중 길이가 330 이하인 샘플의 비율: 79.932\n",
            "전체 문장 중 길이가 340 이하인 샘플의 비율: 80.96\n",
            "전체 문장 중 길이가 350 이하인 샘플의 비율: 81.93599999999999\n",
            "전체 문장 중 길이가 360 이하인 샘플의 비율: 82.88799999999999\n",
            "전체 문장 중 길이가 370 이하인 샘플의 비율: 83.848\n",
            "전체 문장 중 길이가 380 이하인 샘플의 비율: 84.696\n",
            "전체 문장 중 길이가 390 이하인 샘플의 비율: 85.432\n",
            "전체 문장 중 길이가 400 이하인 샘플의 비율: 86.064\n",
            "전체 문장 중 길이가 410 이하인 샘플의 비율: 86.776\n",
            "전체 문장 중 길이가 420 이하인 샘플의 비율: 87.42\n",
            "전체 문장 중 길이가 430 이하인 샘플의 비율: 88.044\n",
            "전체 문장 중 길이가 440 이하인 샘플의 비율: 88.6\n",
            "전체 문장 중 길이가 450 이하인 샘플의 비율: 89.184\n",
            "전체 문장 중 길이가 460 이하인 샘플의 비율: 89.68\n",
            "전체 문장 중 길이가 470 이하인 샘플의 비율: 90.212\n",
            "전체 문장 중 길이가 480 이하인 샘플의 비율: 90.66\n",
            "전체 문장 중 길이가 490 이하인 샘플의 비율: 91.132\n",
            "전체 문장 중 길이가 500 이하인 샘플의 비율: 91.56800000000001\n",
            "전체 문장 중 길이가 510 이하인 샘플의 비율: 91.956\n",
            "전체 문장 중 길이가 520 이하인 샘플의 비율: 92.34\n",
            "전체 문장 중 길이가 530 이하인 샘플의 비율: 92.7\n",
            "전체 문장 중 길이가 540 이하인 샘플의 비율: 93.084\n",
            "전체 문장 중 길이가 550 이하인 샘플의 비율: 93.308\n",
            "전체 문장 중 길이가 560 이하인 샘플의 비율: 93.664\n",
            "전체 문장 중 길이가 570 이하인 샘플의 비율: 93.964\n",
            "전체 문장 중 길이가 580 이하인 샘플의 비율: 94.196\n",
            "전체 문장 중 길이가 590 이하인 샘플의 비율: 94.488\n",
            "전체 문장 중 길이가 600 이하인 샘플의 비율: 94.812\n",
            "전체 문장 중 길이가 610 이하인 샘플의 비율: 95.016\n",
            "전체 문장 중 길이가 620 이하인 샘플의 비율: 95.22800000000001\n",
            "전체 문장 중 길이가 630 이하인 샘플의 비율: 95.48400000000001\n",
            "전체 문장 중 길이가 640 이하인 샘플의 비율: 95.724\n",
            "전체 문장 중 길이가 650 이하인 샘플의 비율: 95.92399999999999\n",
            "전체 문장 중 길이가 660 이하인 샘플의 비율: 96.088\n",
            "전체 문장 중 길이가 670 이하인 샘플의 비율: 96.244\n",
            "전체 문장 중 길이가 680 이하인 샘플의 비율: 96.404\n",
            "전체 문장 중 길이가 690 이하인 샘플의 비율: 96.56\n",
            "전체 문장 중 길이가 700 이하인 샘플의 비율: 96.72800000000001\n",
            "전체 문장 중 길이가 710 이하인 샘플의 비율: 96.896\n",
            "전체 문장 중 길이가 720 이하인 샘플의 비율: 97.024\n",
            "전체 문장 중 길이가 730 이하인 샘플의 비율: 97.172\n",
            "전체 문장 중 길이가 740 이하인 샘플의 비율: 97.30799999999999\n",
            "전체 문장 중 길이가 750 이하인 샘플의 비율: 97.432\n",
            "전체 문장 중 길이가 760 이하인 샘플의 비율: 97.58\n",
            "전체 문장 중 길이가 770 이하인 샘플의 비율: 97.668\n",
            "전체 문장 중 길이가 780 이하인 샘플의 비율: 97.768\n",
            "전체 문장 중 길이가 790 이하인 샘플의 비율: 97.892\n",
            "전체 문장 중 길이가 800 이하인 샘플의 비율: 98.012\n",
            "전체 문장 중 길이가 810 이하인 샘플의 비율: 98.116\n",
            "전체 문장 중 길이가 820 이하인 샘플의 비율: 98.224\n",
            "전체 문장 중 길이가 830 이하인 샘플의 비율: 98.32\n",
            "전체 문장 중 길이가 840 이하인 샘플의 비율: 98.416\n",
            "전체 문장 중 길이가 850 이하인 샘플의 비율: 98.5\n",
            "전체 문장 중 길이가 860 이하인 샘플의 비율: 98.55199999999999\n",
            "전체 문장 중 길이가 870 이하인 샘플의 비율: 98.648\n",
            "전체 문장 중 길이가 880 이하인 샘플의 비율: 98.724\n",
            "전체 문장 중 길이가 890 이하인 샘플의 비율: 98.776\n",
            "전체 문장 중 길이가 900 이하인 샘플의 비율: 98.832\n",
            "전체 문장 중 길이가 910 이하인 샘플의 비율: 98.892\n",
            "전체 문장 중 길이가 920 이하인 샘플의 비율: 98.964\n",
            "전체 문장 중 길이가 930 이하인 샘플의 비율: 99.032\n",
            "전체 문장 중 길이가 940 이하인 샘플의 비율: 99.08\n",
            "전체 문장 중 길이가 950 이하인 샘플의 비율: 99.136\n",
            "전체 문장 중 길이가 960 이하인 샘플의 비율: 99.196\n",
            "전체 문장 중 길이가 970 이하인 샘플의 비율: 99.244\n",
            "전체 문장 중 길이가 980 이하인 샘플의 비율: 99.336\n",
            "전체 문장 중 길이가 990 이하인 샘플의 비율: 99.44\n",
            "문장 길이 설정: 700\n"
          ],
          "name": "stdout"
        }
      ]
    },
    {
      "cell_type": "code",
      "metadata": {
        "id": "0hRYRSaNrpEI",
        "colab_type": "code",
        "colab": {}
      },
      "source": [
        "# IMDB 데이터셋 문장 decode\n",
        "def decode_sent(sentences):\n",
        "    '''\n",
        "    - 0: padding, 1: start, 2: OOV\n",
        "    - 실제 word index에서 3을 빼고, 없으면 '*'로 채운다.\n",
        "    '''\n",
        "\n",
        "    temp_sent = []\n",
        "    for sent in sentences:\n",
        "        temp = vocab_dict.get(sent-3, '*')\n",
        "        temp_sent.append(temp)\n",
        "    \n",
        "    comb_sent = \" \".join(temp_sent)\n",
        "\n",
        "    return comb_sent"
      ],
      "execution_count": 29,
      "outputs": []
    },
    {
      "cell_type": "code",
      "metadata": {
        "id": "G2G28hYWrphW",
        "colab_type": "code",
        "colab": {
          "base_uri": "https://localhost:8080/",
          "height": 54
        },
        "outputId": "de1ccf7e-94c7-467a-8f84-7976bf75afbf"
      },
      "source": [
        "# 원래 문장 어떤 상태였는지 확인\n",
        "print(decode_sent(X_train[0])) # 문장 앞에 '*' 붙는다."
      ],
      "execution_count": 30,
      "outputs": [
        {
          "output_type": "stream",
          "text": [
            "* this film was just brilliant casting location scenery story direction everyone's really suited the part they played and you could just imagine being there robert * is an amazing actor and now the same being director * father came from the same scottish island as myself so i loved the fact there was a real connection with this film the witty remarks throughout the film were great it was just brilliant so much that i bought the film as soon as it was released for * and would recommend it to everyone to watch and the fly fishing was amazing really cried at the end it was so sad and you know what they say if you cry at a film it must have been good and this definitely was also * to the two little boy's that played the * of norman and paul they were just brilliant children are often left out of the * list i think because the stars that play them all grown up are such a big * for the whole film but these children are amazing and should be praised for what they have done don't you think the whole story was so lovely because it was true and was someone's life after all that was shared with us all\n"
          ],
          "name": "stdout"
        }
      ]
    },
    {
      "cell_type": "code",
      "metadata": {
        "id": "RIPMGBNCrqTV",
        "colab_type": "code",
        "colab": {
          "base_uri": "https://localhost:8080/",
          "height": 70
        },
        "outputId": "e03d755b-af63-4813-dc01-e2a5f4ae2450"
      },
      "source": [
        "# 패딩\n",
        "X_train = pad_sequences(X_train, maxlen=max_length) # truncate 되는 건가?\n",
        "X_test = pad_sequences(X_test, maxlen=max_length)\n",
        "print(\"========== 패딩 후 ==========\")\n",
        "print(f\"훈련 데이터: {X_train.shape}\")\n",
        "print(f\"테스트 데이터: {X_test.shape}\")"
      ],
      "execution_count": 31,
      "outputs": [
        {
          "output_type": "stream",
          "text": [
            "========== 패딩 후 ==========\n",
            "훈련 데이터: (25000, 700)\n",
            "테스트 데이터: (25000, 700)\n"
          ],
          "name": "stdout"
        }
      ]
    },
    {
      "cell_type": "code",
      "metadata": {
        "id": "MG_mKn6_r1dV",
        "colab_type": "code",
        "colab": {
          "base_uri": "https://localhost:8080/",
          "height": 193
        },
        "outputId": "4ba0b61c-a2bf-4d1a-b65d-3c536c58589c"
      },
      "source": [
        "# OOV 확인\n",
        "for i in range(10):\n",
        "    print(f\"{i}번째 문장에서 OOV 개수: {(X_train[i] == 2).sum()}\")"
      ],
      "execution_count": 32,
      "outputs": [
        {
          "output_type": "stream",
          "text": [
            "0번째 문장에서 OOV 개수: 7\n",
            "1번째 문장에서 OOV 개수: 16\n",
            "2번째 문장에서 OOV 개수: 3\n",
            "3번째 문장에서 OOV 개수: 62\n",
            "4번째 문장에서 OOV 개수: 3\n",
            "5번째 문장에서 OOV 개수: 4\n",
            "6번째 문장에서 OOV 개수: 14\n",
            "7번째 문장에서 OOV 개수: 54\n",
            "8번째 문장에서 OOV 개수: 8\n",
            "9번째 문장에서 OOV 개수: 6\n"
          ],
          "name": "stdout"
        }
      ]
    },
    {
      "cell_type": "code",
      "metadata": {
        "id": "Var-cbKhr2sk",
        "colab_type": "code",
        "colab": {
          "base_uri": "https://localhost:8080/",
          "height": 87
        },
        "outputId": "9282997b-268a-4240-9432-9b8ac59edc3c"
      },
      "source": [
        "# 네트워크 파라미터\n",
        "BATCH = int(input('배치 사이즈 설정: '))\n",
        "EMBED_DIM = int(input('임베딩 차원 설정: '))\n",
        "n_hidden = int(input('은닉 노드 수 설정: '))\n",
        "EPOCHS = int(input('학습 횟수 설정: '))"
      ],
      "execution_count": 34,
      "outputs": [
        {
          "output_type": "stream",
          "text": [
            "배치 사이즈 설정: 32\n",
            "임베딩 차원 설정: 64\n",
            "은닉 노드 수 설정: 128\n",
            "학습 횟수 설정: 1000\n"
          ],
          "name": "stdout"
        }
      ]
    },
    {
      "cell_type": "code",
      "metadata": {
        "id": "coSHgtMOsMVT",
        "colab_type": "code",
        "colab": {
          "base_uri": "https://localhost:8080/",
          "height": 334
        },
        "outputId": "5dae3613-f073-4314-92a9-44e7c6804c17"
      },
      "source": [
        "# 모델 레이어 설정 및 구성\n",
        "X_input = Input(batch_shape=(None, max_length)) # 시퀀스 길이만큼 들어간다\n",
        "X_embed = Embedding(input_dim=max_features, output_dim=EMBED_DIM, input_length=max_length)(X_input)\n",
        "X_lstm = Bidirectional(LSTM(n_hidden))(X_embed) # many to one이므로 return sequences 없음\n",
        "y_output = Dense(1, activation='sigmoid')(X_lstm)\n",
        "\n",
        "# 모델 구성\n",
        "model = Model(X_input, y_output)\n",
        "\n",
        "# 모델 컴파일\n",
        "model.compile(loss='binary_crossentropy', optimizer=Adam(learning_rate=0.002))\n",
        "print(\"========== 모델 전체 구조 확인 ==========\")\n",
        "print(model.summary())"
      ],
      "execution_count": 37,
      "outputs": [
        {
          "output_type": "stream",
          "text": [
            "========== 모델 전체 구조 확인 ==========\n",
            "Model: \"model\"\n",
            "_________________________________________________________________\n",
            "Layer (type)                 Output Shape              Param #   \n",
            "=================================================================\n",
            "input_1 (InputLayer)         [(None, 700)]             0         \n",
            "_________________________________________________________________\n",
            "embedding (Embedding)        (None, 700, 64)           384000    \n",
            "_________________________________________________________________\n",
            "bidirectional (Bidirectional (None, 256)               197632    \n",
            "_________________________________________________________________\n",
            "dense (Dense)                (None, 1)                 257       \n",
            "=================================================================\n",
            "Total params: 581,889\n",
            "Trainable params: 581,889\n",
            "Non-trainable params: 0\n",
            "_________________________________________________________________\n",
            "None\n"
          ],
          "name": "stdout"
        }
      ]
    },
    {
      "cell_type": "code",
      "metadata": {
        "id": "87Xk_AjS8al1",
        "colab_type": "code",
        "colab": {
          "base_uri": "https://localhost:8080/",
          "height": 386
        },
        "outputId": "88f964dd-2fea-407f-a2ed-cdf65dfb4209"
      },
      "source": [
        "# 모델 훈련\n",
        "es = EarlyStopping(monitor='val_loss', patience=5, verbose=1)\n",
        "\n",
        "hist = model.fit(X_train, y_train,\n",
        "                 batch_size=BATCH,\n",
        "                 epochs=EPOCHS,\n",
        "                 validation_data=(X_test, y_test),\n",
        "                 callbacks=[es])"
      ],
      "execution_count": 38,
      "outputs": [
        {
          "output_type": "stream",
          "text": [
            "Epoch 1/1000\n",
            "782/782 [==============================] - 86s 110ms/step - loss: 0.5138 - val_loss: 0.4868\n",
            "Epoch 2/1000\n",
            "782/782 [==============================] - 88s 113ms/step - loss: 0.3598 - val_loss: 0.3321\n",
            "Epoch 3/1000\n",
            "782/782 [==============================] - 88s 113ms/step - loss: 0.2585 - val_loss: 0.3222\n",
            "Epoch 4/1000\n",
            "782/782 [==============================] - 89s 113ms/step - loss: 0.2036 - val_loss: 0.4300\n",
            "Epoch 5/1000\n",
            "782/782 [==============================] - 89s 113ms/step - loss: 0.1905 - val_loss: 0.3120\n",
            "Epoch 6/1000\n",
            "782/782 [==============================] - 88s 113ms/step - loss: 0.1111 - val_loss: 0.3460\n",
            "Epoch 7/1000\n",
            "782/782 [==============================] - 88s 113ms/step - loss: 0.0757 - val_loss: 0.4442\n",
            "Epoch 8/1000\n",
            "782/782 [==============================] - 89s 113ms/step - loss: 0.0533 - val_loss: 0.4795\n",
            "Epoch 9/1000\n",
            "782/782 [==============================] - 88s 113ms/step - loss: 0.0393 - val_loss: 0.5173\n",
            "Epoch 10/1000\n",
            "782/782 [==============================] - 89s 113ms/step - loss: 0.0320 - val_loss: 0.6060\n",
            "Epoch 00010: early stopping\n"
          ],
          "name": "stdout"
        }
      ]
    },
    {
      "cell_type": "code",
      "metadata": {
        "id": "IUXBHaQK8wCE",
        "colab_type": "code",
        "colab": {
          "base_uri": "https://localhost:8080/",
          "height": 295
        },
        "outputId": "cdbc1cd1-7af9-45c7-ca4f-5a715084686b"
      },
      "source": [
        "# plot loss\n",
        "plt.plot(hist.history['loss'], label='Train Loss')\n",
        "plt.plot(hist.history['val_loss'], label='Test Loss')\n",
        "plt.legend()\n",
        "plt.title('Loss Trajectory')\n",
        "plt.xlabel('epochs')\n",
        "plt.ylabel('loss')\n",
        "plt.show()"
      ],
      "execution_count": 40,
      "outputs": [
        {
          "output_type": "display_data",
          "data": {
            "image/png": "[encoded data removed]",
            "text/plain": [
              "<Figure size 432x288 with 1 Axes>"
            ]
          },
          "metadata": {
            "tags": [],
            "needs_background": "light"
          }
        }
      ]
    },
    {
      "cell_type": "code",
      "metadata": {
        "id": "RqbI8txb9JzR",
        "colab_type": "code",
        "colab": {
          "base_uri": "https://localhost:8080/",
          "height": 52
        },
        "outputId": "f947c7bf-dffd-4823-f217-5f927e0dbd2a"
      },
      "source": [
        "# 예측\n",
        "y_train_pred = model.predict(X_train)\n",
        "y_test_pred = model.predict(X_test)\n",
        "y_train_pred = np.reshape(np.where(y_train_pred > 0.5, 1, 0), y_train.shape)\n",
        "y_test_pred = np.reshape(np.where(y_test_pred > 0.5, 1, 0), y_test.shape)\n",
        "\n",
        "print(f\"Train Accuracy: {accuracy_score(y_train, y_train_pred)}\")\n",
        "print(f\"Test Accuracy: {accuracy_score(y_test, y_test_pred)}\")"
      ],
      "execution_count": 55,
      "outputs": [
        {
          "output_type": "stream",
          "text": [
            "Train Accuracy: 0.99644\n",
            "Test Accuracy: 0.87544\n"
          ],
          "name": "stdout"
        }
      ]
    }
  ]
}