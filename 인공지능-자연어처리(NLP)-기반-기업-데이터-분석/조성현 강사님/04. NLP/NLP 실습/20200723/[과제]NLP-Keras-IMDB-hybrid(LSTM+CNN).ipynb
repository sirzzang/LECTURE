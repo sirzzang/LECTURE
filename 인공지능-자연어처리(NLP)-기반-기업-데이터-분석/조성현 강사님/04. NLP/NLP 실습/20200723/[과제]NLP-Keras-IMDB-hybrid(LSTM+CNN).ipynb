{
  "nbformat": 4,
  "nbformat_minor": 0,
  "metadata": {
    "colab": {
      "name": "NLP-IMDB-과제-2.CNN+LSTM.ipynb",
      "provenance": [],
      "toc_visible": true,
      "machine_shape": "hm"
    },
    "kernelspec": {
      "name": "python3",
      "display_name": "Python 3"
    },
    "accelerator": "GPU"
  },
  "cells": [
    {
      "cell_type": "markdown",
      "metadata": {
        "id": "OabkboJ5SRQ4",
        "colab_type": "text"
      },
      "source": [
        "# _2_. 두 모델 구성\n",
        "\n",
        "* A : IMDB -> CNN용 임베딩/ LSTM용 임베딩 -> 감성분석\n",
        "* B : IMDB -> 임베딩 -> CNN, LSTM 모델 -> 감성분석\n",
        "\n",
        "---\n",
        "\n",
        "> *고통받았다* : `nan`\n",
        "- 엄밀히 보면 `발산`이라고 보기는 어렵고, 수학적으로 계산할 수 없는 값일 것. 가중치 확인했을 때 전부 다 `nan`이었으니까. 찾아보다 보니까 LSTM에 `relu` activation 줬다. 왜 그랬을까.\n",
        "    - RMSprop 쓰면 처음부터 nan.\n",
        "    - LSTM Flatten 해주면 `nan`까지는 안 가던데?\n",
        "- 보통 데이터 문제\n",
        "- `X_Dense = Dense(n_hidden, activation='relu')(X_Pool) # relu가 0이 나오나? : 그건 아닐거다`\n"
      ]
    },
    {
      "cell_type": "markdown",
      "metadata": {
        "id": "UHk2vUfNSwWt",
        "colab_type": "text"
      },
      "source": [
        "## 2.0. 모듈, 데이터"
      ]
    },
    {
      "cell_type": "code",
      "metadata": {
        "id": "2AL1w_gmSuC8",
        "colab_type": "code",
        "colab": {}
      },
      "source": [
        "# 모듈 불러오기\n",
        "from tensorflow.keras.datasets import imdb\n",
        "from tensorflow.keras.preprocessing.sequence import pad_sequences\n",
        "from tensorflow.keras.models import Model\n",
        "from tensorflow.keras.layers import Input, Dense, Embedding, Dropout, Flatten\n",
        "from tensorflow.keras.layers import Conv1D, GlobalMaxPooling1D # CNN\n",
        "from tensorflow.keras.layers import Bidirectional, LSTM # LSTM\n",
        "from tensorflow.keras.layers import Concatenate\n",
        "from tensorflow.keras.callbacks import EarlyStopping\n",
        "from tensorflow.keras.optimizers import Adam\n",
        "import matplotlib.pyplot as plt\n",
        "from sklearn.metrics import accuracy_score\n",
        "import numpy as np"
      ],
      "execution_count": 1,
      "outputs": []
    },
    {
      "cell_type": "code",
      "metadata": {
        "id": "BImynSFTi0YQ",
        "colab_type": "code",
        "colab": {
          "base_uri": "https://localhost:8080/",
          "height": 70
        },
        "outputId": "5e68090d-84a9-45e9-a4d1-d141b6f71fa5"
      },
      "source": [
        "# 데이터 불러 오기\n",
        "max_features = int(input('최대 단어 빈도 설정: '))\n",
        "(X_train_raw, y_train), (X_test_raw, y_test) = imdb.load_data(num_words=max_features)"
      ],
      "execution_count": 2,
      "outputs": [
        {
          "output_type": "stream",
          "text": [
            "최대 단어 빈도 설정: 6000\n",
            "Downloading data from https://storage.googleapis.com/tensorflow/tf-keras-datasets/imdb.npz\n",
            "17465344/17464789 [==============================] - 0s 0us/step\n"
          ],
          "name": "stdout"
        }
      ]
    },
    {
      "cell_type": "markdown",
      "metadata": {
        "id": "ay0VrwZ1WqIO",
        "colab_type": "text"
      },
      "source": [
        "## 2.1. 두 모델 공통 파라미터"
      ]
    },
    {
      "cell_type": "code",
      "metadata": {
        "id": "MGkuazLvWp1c",
        "colab_type": "code",
        "colab": {
          "base_uri": "https://localhost:8080/",
          "height": 87
        },
        "outputId": "4366f4f3-281e-462a-b8f4-2d1564bf038d"
      },
      "source": [
        "# 공통 파라미터\n",
        "BATCH = int(input('배치 사이즈 설정: '))\n",
        "n_embed = int(input('임베딩 차원 설정: '))\n",
        "n_hidden = int(input('은닉 노드 수 설정: '))\n",
        "EPOCHS = int(input('학습 횟수 설정: '))"
      ],
      "execution_count": 3,
      "outputs": [
        {
          "output_type": "stream",
          "text": [
            "배치 사이즈 설정: 32\n",
            "임베딩 차원 설정: 64\n",
            "은닉 노드 수 설정: 128\n",
            "학습 횟수 설정: 1000\n"
          ],
          "name": "stdout"
        }
      ]
    },
    {
      "cell_type": "code",
      "metadata": {
        "id": "Hwp-yaOhUSvK",
        "colab_type": "code",
        "colab": {
          "base_uri": "https://localhost:8080/",
          "height": 369
        },
        "outputId": "74910ed0-c13d-425d-cfe0-b689beb6af98"
      },
      "source": [
        "# 최대 문장 길이 설정\n",
        "def check_len(m, sentences):\n",
        "    cnt = 0\n",
        "    for sent in sentences:\n",
        "        if len(sent) <= m:\n",
        "            cnt += 1\n",
        "    \n",
        "    return f'전체 문장 중 길이가 {m} 이하인 샘플의 비율: {(cnt/len(sentences))*100}'\n",
        "\n",
        "# 문장 길이 설정: 패딩\n",
        "for length in range(100, 1000, 50):\n",
        "    print(check_len(length, X_train_raw))\n",
        "print()\n",
        "max_length = int(input('문장 길이 설정: '))"
      ],
      "execution_count": 4,
      "outputs": [
        {
          "output_type": "stream",
          "text": [
            "전체 문장 중 길이가 100 이하인 샘플의 비율: 11.288\n",
            "전체 문장 중 길이가 150 이하인 샘플의 비율: 37.732\n",
            "전체 문장 중 길이가 200 이하인 샘플의 비율: 57.292\n",
            "전체 문장 중 길이가 250 이하인 샘플의 비율: 68.688\n",
            "전체 문장 중 길이가 300 이하인 샘플의 비율: 76.36800000000001\n",
            "전체 문장 중 길이가 350 이하인 샘플의 비율: 81.93599999999999\n",
            "전체 문장 중 길이가 400 이하인 샘플의 비율: 86.064\n",
            "전체 문장 중 길이가 450 이하인 샘플의 비율: 89.184\n",
            "전체 문장 중 길이가 500 이하인 샘플의 비율: 91.56800000000001\n",
            "전체 문장 중 길이가 550 이하인 샘플의 비율: 93.308\n",
            "전체 문장 중 길이가 600 이하인 샘플의 비율: 94.812\n",
            "전체 문장 중 길이가 650 이하인 샘플의 비율: 95.92399999999999\n",
            "전체 문장 중 길이가 700 이하인 샘플의 비율: 96.72800000000001\n",
            "전체 문장 중 길이가 750 이하인 샘플의 비율: 97.432\n",
            "전체 문장 중 길이가 800 이하인 샘플의 비율: 98.012\n",
            "전체 문장 중 길이가 850 이하인 샘플의 비율: 98.5\n",
            "전체 문장 중 길이가 900 이하인 샘플의 비율: 98.832\n",
            "전체 문장 중 길이가 950 이하인 샘플의 비율: 99.136\n",
            "\n",
            "문장 길이 설정: 500\n"
          ],
          "name": "stdout"
        }
      ]
    },
    {
      "cell_type": "markdown",
      "metadata": {
        "id": "JLYbLKesSq9R",
        "colab_type": "text"
      },
      "source": [
        "## 2.3. [A] 임베딩 따로 한 모델 구성"
      ]
    },
    {
      "cell_type": "code",
      "metadata": {
        "id": "ztvnwtiBjBkZ",
        "colab_type": "code",
        "colab": {
          "base_uri": "https://localhost:8080/",
          "height": 70
        },
        "outputId": "27480cd0-1156-4c9c-ae11-34b5b42434f2"
      },
      "source": [
        "# 패딩 진행\n",
        "X_train_A = pad_sequences(X_train_raw, maxlen=max_length)\n",
        "X_test_A = pad_sequences(X_test_raw, maxlen=max_length)\n",
        "y_train_A = y_train.copy()\n",
        "y_test_A = y_test.copy()\n",
        "print(\"========== 패딩 후 ==========\")\n",
        "print(f\"훈련 데이터: {X_train_A.shape}\")\n",
        "print(f\"테스트 데이터: {X_test_A.shape}\")"
      ],
      "execution_count": 5,
      "outputs": [
        {
          "output_type": "stream",
          "text": [
            "========== 패딩 후 ==========\n",
            "훈련 데이터: (25000, 500)\n",
            "테스트 데이터: (25000, 500)\n"
          ],
          "name": "stdout"
        }
      ]
    },
    {
      "cell_type": "code",
      "metadata": {
        "id": "eJYjrpLNjO57",
        "colab_type": "code",
        "colab": {}
      },
      "source": [
        "# # 각 네트워크별 input\n",
        "# X_train_A_LSTM = X_train_A.copy()\n",
        "# X_test_A_LSTM = X_test_A.copy()\n",
        "# X_train_A_CNN = X_train_A.copy()\n",
        "# X_test_A_CNN = X_test_A.copy()"
      ],
      "execution_count": null,
      "outputs": []
    },
    {
      "cell_type": "markdown",
      "metadata": {
        "id": "N714IaQNpx5D",
        "colab_type": "text"
      },
      "source": [
        "### 0) Input"
      ]
    },
    {
      "cell_type": "code",
      "metadata": {
        "id": "f5FfKh5LpEj5",
        "colab_type": "code",
        "colab": {}
      },
      "source": [
        "# 입력층\n",
        "X_Input = Input(batch_shape=(None, max_length))"
      ],
      "execution_count": 6,
      "outputs": []
    },
    {
      "cell_type": "markdown",
      "metadata": {
        "id": "5r7RhRi6WiGZ",
        "colab_type": "text"
      },
      "source": [
        "### 1) IMDB -> 임베딩 -> CNN"
      ]
    },
    {
      "cell_type": "code",
      "metadata": {
        "id": "Z46qJvaVTYZU",
        "colab_type": "code",
        "colab": {
          "base_uri": "https://localhost:8080/",
          "height": 721
        },
        "outputId": "c124c31b-45c0-4822-b577-4464571fbe70"
      },
      "source": [
        "# CNN 네트워크 파라미터 설정\n",
        "n_filters = int(input('필터 개수 설정: '))\n",
        "s_filters = int(input('커널 사이즈 설정: '))\n",
        "\n",
        "# CNN 네트워크 레이어 구성\n",
        "X_Embed_CNN = Embedding(input_dim=max_features, output_dim=n_embed, input_length=max_length)(X_Input)\n",
        "X_Embed_CNN_2 = Dropout(0.2)(X_Embed_CNN) # CNN 최종 임베딩\n",
        "X_Conv = Conv1D(filters=n_filters, kernel_size=s_filters, strides=1, padding='same', activation='relu')(X_Embed_CNN_2)\n",
        "X_Pool = GlobalMaxPooling1D()(X_Conv)\n",
        "X_Dense = Dense(n_hidden, activation='relu')(X_Pool) # relu가 0이 나오나?\n",
        "X_Dense_2 = Dropout(0.5)(X_Dense)\n",
        "X_Flatten = Flatten()(X_Pool)\n",
        "\n",
        "# CNN 네트워크 구성\n",
        "cnn_model = Model(X_Input, X_Flatten)\n",
        "cnn_embed_model = Model(X_Input, X_Embed_CNN)\n",
        "\n",
        "# CNN 네트워크 확인\n",
        "print(\"========== CNN 모델 전체 구조 확인 ==========\")\n",
        "print(cnn_model.summary())\n",
        "print()\n",
        "print(\"========== CNN 임베딩 모델 구조 확인 ==========\")\n",
        "print(cnn_embed_model.summary())\n",
        "print()"
      ],
      "execution_count": 8,
      "outputs": [
        {
          "output_type": "stream",
          "text": [
            "필터 개수 설정: 260\n",
            "커널 사이즈 설정: 3\n",
            "========== CNN 모델 전체 구조 확인 ==========\n",
            "Model: \"model\"\n",
            "_________________________________________________________________\n",
            "Layer (type)                 Output Shape              Param #   \n",
            "=================================================================\n",
            "input_1 (InputLayer)         [(None, 500)]             0         \n",
            "_________________________________________________________________\n",
            "embedding_1 (Embedding)      (None, 500, 64)           384000    \n",
            "_________________________________________________________________\n",
            "dropout_1 (Dropout)          (None, 500, 64)           0         \n",
            "_________________________________________________________________\n",
            "conv1d (Conv1D)              (None, 500, 260)          50180     \n",
            "_________________________________________________________________\n",
            "global_max_pooling1d (Global (None, 260)               0         \n",
            "_________________________________________________________________\n",
            "flatten (Flatten)            (None, 260)               0         \n",
            "=================================================================\n",
            "Total params: 434,180\n",
            "Trainable params: 434,180\n",
            "Non-trainable params: 0\n",
            "_________________________________________________________________\n",
            "None\n",
            "\n",
            "========== CNN 임베딩 모델 구조 확인 ==========\n",
            "Model: \"model_1\"\n",
            "_________________________________________________________________\n",
            "Layer (type)                 Output Shape              Param #   \n",
            "=================================================================\n",
            "input_1 (InputLayer)         [(None, 500)]             0         \n",
            "_________________________________________________________________\n",
            "embedding_1 (Embedding)      (None, 500, 64)           384000    \n",
            "=================================================================\n",
            "Total params: 384,000\n",
            "Trainable params: 384,000\n",
            "Non-trainable params: 0\n",
            "_________________________________________________________________\n",
            "None\n",
            "\n"
          ],
          "name": "stdout"
        }
      ]
    },
    {
      "cell_type": "markdown",
      "metadata": {
        "id": "QscyffqSaL8D",
        "colab_type": "text"
      },
      "source": [
        "### 2) IMDB -> 임베딩 -> LSTM\n",
        "  \n",
        "LSTM 절대로 activation에 RELU 안 된다."
      ]
    },
    {
      "cell_type": "code",
      "metadata": {
        "id": "h0Cl75E7XUut",
        "colab_type": "code",
        "colab": {
          "base_uri": "https://localhost:8080/",
          "height": 615
        },
        "outputId": "ed72c502-2adc-4dc6-9db9-140566126d62"
      },
      "source": [
        "# LSTM 모델 레이어 구성\n",
        "X_Embed_LSTM = Embedding(input_dim=max_features, output_dim=n_embed, input_length=max_length)(X_Input)\n",
        "X_Embed_LSTM_2 = Dropout(0.2)(X_Embed_LSTM) # LSTM 최종 임베딩\n",
        "X_LSTM = Bidirectional(LSTM(n_hidden))(X_Embed_LSTM_2) ###### LSTM\n",
        "\n",
        "# LSTM 모델 구성\n",
        "lstm_model = Model(X_Input, X_LSTM)\n",
        "lstm_embed_model = Model(X_Input, X_Embed_LSTM)\n",
        "\n",
        "# 컴파일\n",
        "print(\"========== LSTM 모델 전체 구조 확인 ==========\")\n",
        "print(lstm_model.summary())\n",
        "print()\n",
        "print(\"========== LSTM 임베딩 모델 구조 확인 ==========\")\n",
        "print(lstm_embed_model.summary())\n",
        "print()"
      ],
      "execution_count": 9,
      "outputs": [
        {
          "output_type": "stream",
          "text": [
            "========== LSTM 모델 전체 구조 확인 ==========\n",
            "Model: \"model_2\"\n",
            "_________________________________________________________________\n",
            "Layer (type)                 Output Shape              Param #   \n",
            "=================================================================\n",
            "input_1 (InputLayer)         [(None, 500)]             0         \n",
            "_________________________________________________________________\n",
            "embedding_2 (Embedding)      (None, 500, 64)           384000    \n",
            "_________________________________________________________________\n",
            "dropout_3 (Dropout)          (None, 500, 64)           0         \n",
            "_________________________________________________________________\n",
            "bidirectional (Bidirectional (None, 256)               197632    \n",
            "=================================================================\n",
            "Total params: 581,632\n",
            "Trainable params: 581,632\n",
            "Non-trainable params: 0\n",
            "_________________________________________________________________\n",
            "None\n",
            "\n",
            "========== LSTM 임베딩 모델 구조 확인 ==========\n",
            "Model: \"model_3\"\n",
            "_________________________________________________________________\n",
            "Layer (type)                 Output Shape              Param #   \n",
            "=================================================================\n",
            "input_1 (InputLayer)         [(None, 500)]             0         \n",
            "_________________________________________________________________\n",
            "embedding_2 (Embedding)      (None, 500, 64)           384000    \n",
            "=================================================================\n",
            "Total params: 384,000\n",
            "Trainable params: 384,000\n",
            "Non-trainable params: 0\n",
            "_________________________________________________________________\n",
            "None\n",
            "\n"
          ],
          "name": "stdout"
        }
      ]
    },
    {
      "cell_type": "markdown",
      "metadata": {
        "id": "fiPoAHiaaN-x",
        "colab_type": "text"
      },
      "source": [
        "### 3) 네트워크 연결"
      ]
    },
    {
      "cell_type": "code",
      "metadata": {
        "id": "2kgXFExyaU3d",
        "colab_type": "code",
        "colab": {
          "base_uri": "https://localhost:8080/",
          "height": 598
        },
        "outputId": "f880d939-7671-447c-eba9-90c09a88eba0"
      },
      "source": [
        "# 두 층 concat\n",
        "X_merge = Concatenate()([X_Flatten, X_LSTM])\n",
        "y_output = Dense(1, activation='sigmoid')(X_merge)\n",
        "\n",
        "model = Model(X_Input, y_output)\n",
        "\n",
        "# 모델 컴파일\n",
        "model.compile(loss='binary_crossentropy', optimizer=Adam(learning_rate=0.001))\n",
        "print(\"========== 전체 모델 구조 확인 ==========\")\n",
        "print(model.summary())"
      ],
      "execution_count": 10,
      "outputs": [
        {
          "output_type": "stream",
          "text": [
            "========== 전체 모델 구조 확인 ==========\n",
            "Model: \"model_4\"\n",
            "__________________________________________________________________________________________________\n",
            "Layer (type)                    Output Shape         Param #     Connected to                     \n",
            "==================================================================================================\n",
            "input_1 (InputLayer)            [(None, 500)]        0                                            \n",
            "__________________________________________________________________________________________________\n",
            "embedding_1 (Embedding)         (None, 500, 64)      384000      input_1[0][0]                    \n",
            "__________________________________________________________________________________________________\n",
            "dropout_1 (Dropout)             (None, 500, 64)      0           embedding_1[0][0]                \n",
            "__________________________________________________________________________________________________\n",
            "conv1d (Conv1D)                 (None, 500, 260)     50180       dropout_1[0][0]                  \n",
            "__________________________________________________________________________________________________\n",
            "embedding_2 (Embedding)         (None, 500, 64)      384000      input_1[0][0]                    \n",
            "__________________________________________________________________________________________________\n",
            "global_max_pooling1d (GlobalMax (None, 260)          0           conv1d[0][0]                     \n",
            "__________________________________________________________________________________________________\n",
            "dropout_3 (Dropout)             (None, 500, 64)      0           embedding_2[0][0]                \n",
            "__________________________________________________________________________________________________\n",
            "flatten (Flatten)               (None, 260)          0           global_max_pooling1d[0][0]       \n",
            "__________________________________________________________________________________________________\n",
            "bidirectional (Bidirectional)   (None, 256)          197632      dropout_3[0][0]                  \n",
            "__________________________________________________________________________________________________\n",
            "concatenate (Concatenate)       (None, 516)          0           flatten[0][0]                    \n",
            "                                                                 bidirectional[0][0]              \n",
            "__________________________________________________________________________________________________\n",
            "dense_1 (Dense)                 (None, 1)            517         concatenate[0][0]                \n",
            "==================================================================================================\n",
            "Total params: 1,016,329\n",
            "Trainable params: 1,016,329\n",
            "Non-trainable params: 0\n",
            "__________________________________________________________________________________________________\n",
            "None\n"
          ],
          "name": "stdout"
        }
      ]
    },
    {
      "cell_type": "markdown",
      "metadata": {
        "id": "nPydptvRdfPO",
        "colab_type": "text"
      },
      "source": [
        "### 4) 모델 학습\n",
        "\n",
        "loss 음수이거나 0이거나. binary니까 keras가 알아서 로그 속에서는 처리해주는데? binary crosss entropy\n",
        "\n",
        "- 0.001 : loss `nan` 실화인가?'\n",
        "- 0.01"
      ]
    },
    {
      "cell_type": "code",
      "metadata": {
        "id": "UVqCa6IUarjz",
        "colab_type": "code",
        "colab": {
          "base_uri": "https://localhost:8080/",
          "height": 281
        },
        "outputId": "745f948f-b5b2-47d3-afdd-e6383466082c"
      },
      "source": [
        "# 모델 학습\n",
        "es = EarlyStopping(monitor='val_loss', patience=5, verbose=1)\n",
        "hist= model.fit(X_train_A, y_train_A,\n",
        "                batch_size=BATCH,\n",
        "                epochs=EPOCHS,\n",
        "                validation_data=(X_test_A, y_test_A),\n",
        "                callbacks=[es])\n",
        "\n",
        "# hist = model.fit(X_train_A, y_train_A,\n",
        "#                  batch_size=100,\n",
        "#                  epochs=1,\n",
        "#                  validation_data =(X_test_A, y_test_A),\n",
        "#                  shuffle=True)"
      ],
      "execution_count": 11,
      "outputs": [
        {
          "output_type": "stream",
          "text": [
            "Epoch 1/1000\n",
            "782/782 [==============================] - 55s 71ms/step - loss: 0.3840 - val_loss: 0.2986\n",
            "Epoch 2/1000\n",
            "782/782 [==============================] - 55s 70ms/step - loss: 0.2279 - val_loss: 0.2688\n",
            "Epoch 3/1000\n",
            "782/782 [==============================] - 55s 71ms/step - loss: 0.1736 - val_loss: 0.2889\n",
            "Epoch 4/1000\n",
            "782/782 [==============================] - 55s 71ms/step - loss: 0.0996 - val_loss: 0.3336\n",
            "Epoch 5/1000\n",
            "782/782 [==============================] - 55s 71ms/step - loss: 0.0570 - val_loss: 0.3831\n",
            "Epoch 6/1000\n",
            "782/782 [==============================] - 56s 72ms/step - loss: 0.0301 - val_loss: 0.5134\n",
            "Epoch 7/1000\n",
            "782/782 [==============================] - 57s 72ms/step - loss: 0.0193 - val_loss: 0.5151\n",
            "Epoch 00007: early stopping\n"
          ],
          "name": "stdout"
        }
      ]
    },
    {
      "cell_type": "code",
      "metadata": {
        "id": "uMLE76iz0XwS",
        "colab_type": "code",
        "colab": {}
      },
      "source": [
        ""
      ],
      "execution_count": null,
      "outputs": []
    },
    {
      "cell_type": "markdown",
      "metadata": {
        "id": "OLo_VMMyiSvF",
        "colab_type": "text"
      },
      "source": [
        "### 5) 결과 확인"
      ]
    },
    {
      "cell_type": "code",
      "metadata": {
        "id": "wAyFKAB1if5K",
        "colab_type": "code",
        "colab": {
          "base_uri": "https://localhost:8080/",
          "height": 454
        },
        "outputId": "58d924e5-581e-4365-e951-167b342e7c02"
      },
      "source": [
        "# plot loss\n",
        "plt.plot(hist.history['loss'], label='Train Loss')\n",
        "plt.plot(hist.history['val_loss'], label='Test Loss')\n",
        "plt.legend()\n",
        "plt.title('A 모델 Loss Trajectory')\n",
        "plt.xlabel('epoch')\n",
        "plt.ylabel('Loss')\n",
        "plt.show()\n",
        "print()"
      ],
      "execution_count": 12,
      "outputs": [
        {
          "output_type": "stream",
          "text": [
            "/usr/local/lib/python3.6/dist-packages/matplotlib/backends/backend_agg.py:214: RuntimeWarning: Glyph 47784 missing from current font.\n",
            "  font.set_text(s, 0.0, flags=flags)\n",
            "/usr/local/lib/python3.6/dist-packages/matplotlib/backends/backend_agg.py:214: RuntimeWarning: Glyph 45944 missing from current font.\n",
            "  font.set_text(s, 0.0, flags=flags)\n",
            "/usr/local/lib/python3.6/dist-packages/matplotlib/backends/backend_agg.py:183: RuntimeWarning: Glyph 47784 missing from current font.\n",
            "  font.set_text(s, 0, flags=flags)\n",
            "/usr/local/lib/python3.6/dist-packages/matplotlib/backends/backend_agg.py:183: RuntimeWarning: Glyph 45944 missing from current font.\n",
            "  font.set_text(s, 0, flags=flags)\n"
          ],
          "name": "stderr"
        },
        {
          "output_type": "display_data",
          "data": {
            "image/png": "[encoded data removed]",
            "text/plain": [
              "<Figure size 432x288 with 1 Axes>"
            ]
          },
          "metadata": {
            "tags": [],
            "needs_background": "light"
          }
        },
        {
          "output_type": "stream",
          "text": [
            "\n"
          ],
          "name": "stdout"
        }
      ]
    },
    {
      "cell_type": "code",
      "metadata": {
        "id": "X_7toRg8ijzf",
        "colab_type": "code",
        "colab": {
          "base_uri": "https://localhost:8080/",
          "height": 52
        },
        "outputId": "bdd14724-f7df-4971-b8d4-8d9340e6022b"
      },
      "source": [
        "# 예측 및 결과 확인: Deprecation Warning 주의\n",
        "y_train_pred = model.predict(X_train_A)\n",
        "y_test_pred = model.predict(X_test_A)\n",
        "y_train_pred = np.reshape(np.where(y_train_pred > 0.5, 1, 0), y_train.shape)\n",
        "y_test_pred = np.reshape(np.where(y_test_pred > 0.5, 1, 0), y_test.shape)\n",
        "print(f\"Train Accuracy: {accuracy_score(y_train_A, y_train_pred)}\")\n",
        "print(f\"Test Accuracy: {accuracy_score(y_test_A, y_test_pred)}\")"
      ],
      "execution_count": 13,
      "outputs": [
        {
          "output_type": "stream",
          "text": [
            "Train Accuracy: 0.99936\n",
            "Test Accuracy: 0.87504\n"
          ],
          "name": "stdout"
        }
      ]
    },
    {
      "cell_type": "markdown",
      "metadata": {
        "id": "tAsgWzZhgLev",
        "colab_type": "text"
      },
      "source": [
        "## 2.4. [B] 임베딩 따로 한 모델 구성\n"
      ]
    },
    {
      "cell_type": "code",
      "metadata": {
        "id": "m_a3LTr-LL0E",
        "colab_type": "code",
        "colab": {
          "base_uri": "https://localhost:8080/",
          "height": 70
        },
        "outputId": "28fce74a-343e-4112-9ad0-43606b790622"
      },
      "source": [
        "# 패딩 진행\n",
        "X_train_B = pad_sequences(X_train_raw, maxlen=max_length)\n",
        "X_test_B = pad_sequences(X_test_raw, maxlen=max_length)\n",
        "print(\"========== 패딩 후 ==========\")\n",
        "print(f\"훈련 데이터: {X_train_B.shape}\")\n",
        "print(f\"테스트 데이터: {X_test_B.shape}\")"
      ],
      "execution_count": 21,
      "outputs": [
        {
          "output_type": "stream",
          "text": [
            "========== 패딩 후 ==========\n",
            "훈련 데이터: (25000, 500)\n",
            "테스트 데이터: (25000, 500)\n"
          ],
          "name": "stdout"
        }
      ]
    },
    {
      "cell_type": "markdown",
      "metadata": {
        "id": "zUi0gVRXgqVd",
        "colab_type": "text"
      },
      "source": [
        "### 1) IMDB -> 임베딩"
      ]
    },
    {
      "cell_type": "code",
      "metadata": {
        "id": "0QR4vbnUeFvy",
        "colab_type": "code",
        "colab": {
          "base_uri": "https://localhost:8080/",
          "height": 298
        },
        "outputId": "17ad46c1-4b5b-489b-e46b-e2eaa347d4e2"
      },
      "source": [
        "# 임베딩 레이어 구성\n",
        "X_Input = Input(batch_shape=(None, max_length))\n",
        "X_Embed = Embedding(input_dim=max_features, output_dim=n_embed, input_length=max_length)(X_Input)\n",
        "X_Embed_2 = Dropout(0.2)(X_Embed) # 최종 임베딩\n",
        "\n",
        "# 임베딩 모델 구조 확인\n",
        "embedding_model = Model(X_Input, X_Embed_2)\n",
        "print(\"========== 임베딩 모델 구조 확인 ==========\")\n",
        "print(embedding_model.summary())"
      ],
      "execution_count": 22,
      "outputs": [
        {
          "output_type": "stream",
          "text": [
            "========== 임베딩 모델 구조 확인 ==========\n",
            "Model: \"model_10\"\n",
            "_________________________________________________________________\n",
            "Layer (type)                 Output Shape              Param #   \n",
            "=================================================================\n",
            "input_3 (InputLayer)         [(None, 500)]             0         \n",
            "_________________________________________________________________\n",
            "embedding_4 (Embedding)      (None, 500, 64)           384000    \n",
            "_________________________________________________________________\n",
            "dropout_6 (Dropout)          (None, 500, 64)           0         \n",
            "=================================================================\n",
            "Total params: 384,000\n",
            "Trainable params: 384,000\n",
            "Non-trainable params: 0\n",
            "_________________________________________________________________\n",
            "None\n"
          ],
          "name": "stdout"
        }
      ]
    },
    {
      "cell_type": "markdown",
      "metadata": {
        "id": "xqP60DXYg-62",
        "colab_type": "text"
      },
      "source": [
        "### 2) 임베딩 -> CNN"
      ]
    },
    {
      "cell_type": "code",
      "metadata": {
        "id": "oXei-LpIhDnu",
        "colab_type": "code",
        "colab": {
          "base_uri": "https://localhost:8080/",
          "height": 510
        },
        "outputId": "dc3c9707-876d-42ee-b87f-c9c8887d7fb2"
      },
      "source": [
        "# CNN 네트워크 파라미터 설정\n",
        "n_filters = int(input('컨볼루션 필터 개수 설정: '))\n",
        "s_filters = int(input('컨볼루션 필터 사이즈 설정: '))\n",
        "\n",
        "# CNN 네트워크 레이어 구성\n",
        "X_Conv = Conv1D(filters=n_filters, kernel_size=s_filters, strides=1, padding='valid', activation='relu')(X_Embed_2)\n",
        "X_Pool = GlobalMaxPooling1D()(X_Conv)\n",
        "X_Dense = Dense(n_hidden, activation='relu')(X_Pool)\n",
        "X_Dense_2 = Dropout(0.5)(X_Dense)\n",
        "X_Flatten = Flatten()(X_Dense_2)\n",
        "\n",
        "# CNN 네트워크 확인\n",
        "cnn_model = Model(X_Input, X_Flatten)\n",
        "print(\"========== CNN 모델 전체 구조 확인 ==========\")\n",
        "print(cnn_model.summary())"
      ],
      "execution_count": 23,
      "outputs": [
        {
          "output_type": "stream",
          "text": [
            "컨볼루션 필터 개수 설정: 260\n",
            "컨볼루션 필터 사이즈 설정: 3\n",
            "========== CNN 모델 전체 구조 확인 ==========\n",
            "Model: \"model_11\"\n",
            "_________________________________________________________________\n",
            "Layer (type)                 Output Shape              Param #   \n",
            "=================================================================\n",
            "input_3 (InputLayer)         [(None, 500)]             0         \n",
            "_________________________________________________________________\n",
            "embedding_4 (Embedding)      (None, 500, 64)           384000    \n",
            "_________________________________________________________________\n",
            "dropout_6 (Dropout)          (None, 500, 64)           0         \n",
            "_________________________________________________________________\n",
            "conv1d_2 (Conv1D)            (None, 498, 260)          50180     \n",
            "_________________________________________________________________\n",
            "global_max_pooling1d_2 (Glob (None, 260)               0         \n",
            "_________________________________________________________________\n",
            "dense_4 (Dense)              (None, 128)               33408     \n",
            "_________________________________________________________________\n",
            "dropout_7 (Dropout)          (None, 128)               0         \n",
            "_________________________________________________________________\n",
            "flatten_2 (Flatten)          (None, 128)               0         \n",
            "=================================================================\n",
            "Total params: 467,588\n",
            "Trainable params: 467,588\n",
            "Non-trainable params: 0\n",
            "_________________________________________________________________\n",
            "None\n"
          ],
          "name": "stdout"
        }
      ]
    },
    {
      "cell_type": "markdown",
      "metadata": {
        "id": "oW9cKvbThZgk",
        "colab_type": "text"
      },
      "source": [
        "### 3) 임베딩 -> LSTM"
      ]
    },
    {
      "cell_type": "code",
      "metadata": {
        "id": "kneCQXUHhb8Q",
        "colab_type": "code",
        "colab": {
          "base_uri": "https://localhost:8080/",
          "height": 334
        },
        "outputId": "dec1e913-c4e1-45b3-bcb4-e8a677c8a318"
      },
      "source": [
        "# LSTM 네트워크 레이어 구성\n",
        "X_LSTM = Bidirectional(LSTM(n_hidden))(X_Embed_2)\n",
        "\n",
        "# LSTM 네트워크 확인\n",
        "lstm_model = Model(X_Input, X_LSTM)\n",
        "print(\"========== CNN 모델 전체 구조 확인 ==========\")\n",
        "print(lstm_model.summary())"
      ],
      "execution_count": 24,
      "outputs": [
        {
          "output_type": "stream",
          "text": [
            "========== CNN 모델 전체 구조 확인 ==========\n",
            "Model: \"model_12\"\n",
            "_________________________________________________________________\n",
            "Layer (type)                 Output Shape              Param #   \n",
            "=================================================================\n",
            "input_3 (InputLayer)         [(None, 500)]             0         \n",
            "_________________________________________________________________\n",
            "embedding_4 (Embedding)      (None, 500, 64)           384000    \n",
            "_________________________________________________________________\n",
            "dropout_6 (Dropout)          (None, 500, 64)           0         \n",
            "_________________________________________________________________\n",
            "bidirectional_4 (Bidirection (None, 256)               197632    \n",
            "=================================================================\n",
            "Total params: 581,632\n",
            "Trainable params: 581,632\n",
            "Non-trainable params: 0\n",
            "_________________________________________________________________\n",
            "None\n"
          ],
          "name": "stdout"
        }
      ]
    },
    {
      "cell_type": "markdown",
      "metadata": {
        "id": "FL8asJ4-h4NV",
        "colab_type": "text"
      },
      "source": [
        "### 4) 네트워크 연결"
      ]
    },
    {
      "cell_type": "code",
      "metadata": {
        "id": "e5-RvfHUh6zA",
        "colab_type": "code",
        "colab": {
          "base_uri": "https://localhost:8080/",
          "height": 598
        },
        "outputId": "0cc5ede3-405d-4585-91d4-8202f5909ba1"
      },
      "source": [
        "# 두 층 concat\n",
        "X_merge = Concatenate()([X_Flatten, X_LSTM])\n",
        "y_output = Dense(1, activation='sigmoid')(X_merge)\n",
        "\n",
        "model = Model(X_Input, y_output)\n",
        "\n",
        "# 모델 컴파일\n",
        "model.compile(loss='binary_crossentropy', optimizer=Adam(learning_rate=0.001))\n",
        "print(\"========== 전체 모델 구조 확인 ==========\")\n",
        "print(model.summary())"
      ],
      "execution_count": 19,
      "outputs": [
        {
          "output_type": "stream",
          "text": [
            "========== 전체 모델 구조 확인 ==========\n",
            "Model: \"model_9\"\n",
            "__________________________________________________________________________________________________\n",
            "Layer (type)                    Output Shape         Param #     Connected to                     \n",
            "==================================================================================================\n",
            "input_2 (InputLayer)            [(None, 500)]        0                                            \n",
            "__________________________________________________________________________________________________\n",
            "embedding_3 (Embedding)         (None, 500, 64)      384000      input_2[0][0]                    \n",
            "__________________________________________________________________________________________________\n",
            "dropout_4 (Dropout)             (None, 500, 64)      0           embedding_3[0][0]                \n",
            "__________________________________________________________________________________________________\n",
            "conv1d_1 (Conv1D)               (None, 498, 260)     50180       dropout_4[0][0]                  \n",
            "__________________________________________________________________________________________________\n",
            "global_max_pooling1d_1 (GlobalM (None, 260)          0           conv1d_1[0][0]                   \n",
            "__________________________________________________________________________________________________\n",
            "dense_2 (Dense)                 (None, 128)          33408       global_max_pooling1d_1[0][0]     \n",
            "__________________________________________________________________________________________________\n",
            "dropout_5 (Dropout)             (None, 128)          0           dense_2[0][0]                    \n",
            "__________________________________________________________________________________________________\n",
            "flatten_1 (Flatten)             (None, 128)          0           dropout_5[0][0]                  \n",
            "__________________________________________________________________________________________________\n",
            "bidirectional_3 (Bidirectional) (None, 256)          197632      dropout_4[0][0]                  \n",
            "__________________________________________________________________________________________________\n",
            "concatenate_1 (Concatenate)     (None, 384)          0           flatten_1[0][0]                  \n",
            "                                                                 bidirectional_3[0][0]            \n",
            "__________________________________________________________________________________________________\n",
            "dense_3 (Dense)                 (None, 1)            385         concatenate_1[0][0]              \n",
            "==================================================================================================\n",
            "Total params: 665,605\n",
            "Trainable params: 665,605\n",
            "Non-trainable params: 0\n",
            "__________________________________________________________________________________________________\n",
            "None\n"
          ],
          "name": "stdout"
        }
      ]
    },
    {
      "cell_type": "markdown",
      "metadata": {
        "id": "Lxqewqg3iKeP",
        "colab_type": "text"
      },
      "source": [
        "### 5) 모델 학습"
      ]
    },
    {
      "cell_type": "code",
      "metadata": {
        "id": "ZQPUhh0EiP-j",
        "colab_type": "code",
        "colab": {
          "base_uri": "https://localhost:8080/",
          "height": 281
        },
        "outputId": "27218680-c9aa-4546-d27d-5d84f288d595"
      },
      "source": [
        "# 모델 학습\n",
        "es = EarlyStopping(monitor='val_loss', patience=5, verbose=1)\n",
        "hist= model.fit(X_train_B, y_train,\n",
        "                batch_size=BATCH,\n",
        "                epochs=EPOCHS,\n",
        "                validation_data=(X_test_B, y_test),\n",
        "                callbacks=[es])"
      ],
      "execution_count": 25,
      "outputs": [
        {
          "output_type": "stream",
          "text": [
            "Epoch 1/1000\n",
            "782/782 [==============================] - 52s 67ms/step - loss: 0.4022 - val_loss: 0.2873\n",
            "Epoch 2/1000\n",
            "782/782 [==============================] - 52s 67ms/step - loss: 0.2346 - val_loss: 0.2550\n",
            "Epoch 3/1000\n",
            "782/782 [==============================] - 52s 66ms/step - loss: 0.1712 - val_loss: 0.2743\n",
            "Epoch 4/1000\n",
            "782/782 [==============================] - 52s 66ms/step - loss: 0.1177 - val_loss: 0.3311\n",
            "Epoch 5/1000\n",
            "782/782 [==============================] - 51s 66ms/step - loss: 0.0783 - val_loss: 0.3489\n",
            "Epoch 6/1000\n",
            "782/782 [==============================] - 52s 66ms/step - loss: 0.0527 - val_loss: 0.4468\n",
            "Epoch 7/1000\n",
            "782/782 [==============================] - 52s 66ms/step - loss: 0.0376 - val_loss: 0.4686\n",
            "Epoch 00007: early stopping\n"
          ],
          "name": "stdout"
        }
      ]
    },
    {
      "cell_type": "markdown",
      "metadata": {
        "id": "AWJdTrCgJt3m",
        "colab_type": "text"
      },
      "source": [
        "### 6) 결과 확인"
      ]
    },
    {
      "cell_type": "code",
      "metadata": {
        "id": "ZyXISGx6inaw",
        "colab_type": "code",
        "colab": {
          "base_uri": "https://localhost:8080/",
          "height": 454
        },
        "outputId": "56ff0960-565b-4f8e-830c-cefcaaec139d"
      },
      "source": [
        "# plot loss\n",
        "plt.plot(hist.history['loss'], label='Train Loss')\n",
        "plt.plot(hist.history['val_loss'], label='Test Loss')\n",
        "plt.legend()\n",
        "plt.title('B모델 Loss Trajectory')\n",
        "plt.xlabel('epoch')\n",
        "plt.ylabel('Loss')\n",
        "plt.show()\n",
        "print()"
      ],
      "execution_count": 26,
      "outputs": [
        {
          "output_type": "stream",
          "text": [
            "/usr/local/lib/python3.6/dist-packages/matplotlib/backends/backend_agg.py:214: RuntimeWarning: Glyph 47784 missing from current font.\n",
            "  font.set_text(s, 0.0, flags=flags)\n",
            "/usr/local/lib/python3.6/dist-packages/matplotlib/backends/backend_agg.py:214: RuntimeWarning: Glyph 45944 missing from current font.\n",
            "  font.set_text(s, 0.0, flags=flags)\n",
            "/usr/local/lib/python3.6/dist-packages/matplotlib/backends/backend_agg.py:183: RuntimeWarning: Glyph 47784 missing from current font.\n",
            "  font.set_text(s, 0, flags=flags)\n",
            "/usr/local/lib/python3.6/dist-packages/matplotlib/backends/backend_agg.py:183: RuntimeWarning: Glyph 45944 missing from current font.\n",
            "  font.set_text(s, 0, flags=flags)\n"
          ],
          "name": "stderr"
        },
        {
          "output_type": "display_data",
          "data": {
            "image/png": "[encoded data removed]",
            "text/plain": [
              "<Figure size 432x288 with 1 Axes>"
            ]
          },
          "metadata": {
            "tags": [],
            "needs_background": "light"
          }
        },
        {
          "output_type": "stream",
          "text": [
            "\n"
          ],
          "name": "stdout"
        }
      ]
    },
    {
      "cell_type": "code",
      "metadata": {
        "id": "WdWQjE-rinWp",
        "colab_type": "code",
        "colab": {
          "base_uri": "https://localhost:8080/",
          "height": 52
        },
        "outputId": "2ede1251-b092-437c-a84c-3b54fa1de81a"
      },
      "source": [
        "# 예측 및 결과 확인\n",
        "y_train_pred = model.predict(X_train_B)\n",
        "y_test_pred = model.predict(X_test_B)\n",
        "y_train_pred = np.reshape(np.where(y_train_pred > 0.5, 1, 0), y_train.shape)\n",
        "y_test_pred = np.reshape(np.where(y_test_pred > 0.5, 1, 0), y_test.shape)\n",
        "print(f\"Train Accuracy: {accuracy_score(y_train, y_train_pred)}\")\n",
        "print(f\"Test Accuracy: {accuracy_score(y_test, y_test_pred)}\")"
      ],
      "execution_count": 28,
      "outputs": [
        {
          "output_type": "stream",
          "text": [
            "Train Accuracy: 0.99776\n",
            "Test Accuracy: 0.88492\n"
          ],
          "name": "stdout"
        }
      ]
    },
    {
      "cell_type": "code",
      "metadata": {
        "id": "PqBubTs_LbkG",
        "colab_type": "code",
        "colab": {}
      },
      "source": [
        ""
      ],
      "execution_count": null,
      "outputs": []
    }
  ]
}