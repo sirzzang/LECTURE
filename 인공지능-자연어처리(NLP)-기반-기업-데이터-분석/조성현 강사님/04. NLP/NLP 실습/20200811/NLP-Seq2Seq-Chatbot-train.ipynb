{
  "nbformat": 4,
  "nbformat_minor": 0,
  "metadata": {
    "colab": {
      "name": "NLP-Seq2Seq-Chatbot-train",
      "provenance": [],
      "machine_shape": "hm"
    },
    "kernelspec": {
      "name": "python3",
      "display_name": "Python 3"
    },
    "accelerator": "TPU"
  },
  "cells": [
    {
      "cell_type": "markdown",
      "metadata": {
        "id": "raumPUyOCxDz",
        "colab_type": "text"
      },
      "source": [
        "# Seq2Seq 기반 챗봇 만들기\n",
        "\n",
        "> 2. 모델 학습"
      ]
    },
    {
      "cell_type": "code",
      "metadata": {
        "id": "bVfXiwPz7Dx2",
        "colab_type": "code",
        "colab": {}
      },
      "source": [
        "# 모듈 불러오기\n",
        "from tensorflow.keras.layers import Input, Dense, Embedding\n",
        "from tensorflow.keras.layers import LSTM, TimeDistributed\n",
        "from tensorflow.keras.models import Model\n",
        "from tensorflow.keras.optimizers import Adam, RMSprop\n",
        "from tensorflow.keras import backend as K\n",
        "import matplotlib.pyplot as plt\n",
        "import pickle\n",
        "\n",
        "from IPython.display import SVG\n",
        "from keras.utils import model_to_dot"
      ],
      "execution_count": 19,
      "outputs": []
    },
    {
      "cell_type": "code",
      "metadata": {
        "id": "fBE5E_jr7o4U",
        "colab_type": "code",
        "colab": {}
      },
      "source": [
        "# 경로 설정\n",
        "root_path = \"/content/drive/My Drive/멀티캠퍼스/[혁신성장] 인공지능 자연어처리 기반/[강의]/조성현 강사님\"\n",
        "data_path = f\"{root_path}/dataset\"\n",
        "chatbot_path = f\"{root_path}/Seq2Seq-Chatbot\""
      ],
      "execution_count": 20,
      "outputs": []
    },
    {
      "cell_type": "markdown",
      "metadata": {
        "id": "T3vDzkvP8I7X",
        "colab_type": "text"
      },
      "source": [
        "## 데이터 로드"
      ]
    },
    {
      "cell_type": "code",
      "metadata": {
        "id": "1U_VEeKM7vH4",
        "colab_type": "code",
        "colab": {}
      },
      "source": [
        "# 어휘집 사전\n",
        "with open(f\"{data_path}/6-1.vocabulary.pickle\", 'rb') as f:\n",
        "    word2idx, idx2word = pickle.load(f)"
      ],
      "execution_count": 21,
      "outputs": []
    },
    {
      "cell_type": "code",
      "metadata": {
        "id": "iF_7BuCj8MtS",
        "colab_type": "code",
        "colab": {}
      },
      "source": [
        "# 학습 데이터: 인코딩, 디코딩 입력, 디코딩 출력\n",
        "with open(f\"{data_path}/6-1.train_data.pickle\", 'rb') as f:\n",
        "    X_train_E, X_train_D, y_train_D = pickle.load(f)\n",
        "\n",
        "# 테스트 데이터: 인코딩, 디코딩 입력, 디코딩 출력\n",
        "with open(f\"{data_path}/6-1.eval_data.pickle\", 'rb') as f:\n",
        "    X_test_E, X_test_D, y_test_D = pickle.load(f)"
      ],
      "execution_count": 22,
      "outputs": []
    },
    {
      "cell_type": "markdown",
      "metadata": {
        "id": "TYXXgh_c8nrN",
        "colab_type": "text"
      },
      "source": [
        "## 모델 구성"
      ]
    },
    {
      "cell_type": "code",
      "metadata": {
        "id": "NBTshUqA8j6W",
        "colab_type": "code",
        "colab": {
          "base_uri": "https://localhost:8080/",
          "height": 53
        },
        "outputId": "40977e3c-f485-4efd-87d3-a92f1cc19e05"
      },
      "source": [
        "# 모델 파라미터 설정\n",
        "VOCAB_SIZE = len(idx2word)\n",
        "EMB_SIZE = int(input('임베딩 출력 차원 설정: '))\n",
        "LSTM_HIDDEN = int(input('LSTM 은닉 노드 수 설정: '))\n",
        "MODEL_PATH = f\"{chatbot_path}/Seq2Seq.h5\""
      ],
      "execution_count": 23,
      "outputs": [
        {
          "output_type": "stream",
          "text": [
            "임베딩 출력 차원 설정: 128\n",
            "LSTM 은닉 노드 수 설정: 128\n"
          ],
          "name": "stdout"
        }
      ]
    },
    {
      "cell_type": "code",
      "metadata": {
        "id": "nZwNFaJC9aQs",
        "colab_type": "code",
        "colab": {}
      },
      "source": [
        "# 세션 클리어\n",
        "K.clear_session()\n",
        "\n",
        "# 공통 임베딩 레이어\n",
        "wordEmbedding = Embedding(input_dim=VOCAB_SIZE, output_dim=EMB_SIZE)"
      ],
      "execution_count": 24,
      "outputs": []
    },
    {
      "cell_type": "code",
      "metadata": {
        "id": "sVfC0Ih79Kip",
        "colab_type": "code",
        "colab": {}
      },
      "source": [
        "# Encoder 네트워크 구성\n",
        "X_input_E = Input(batch_shape=(None, X_train_E.shape[1]))\n",
        "X_embed_E = wordEmbedding(X_input_E)\n",
        "X_lstm1_E = LSTM(LSTM_HIDDEN, return_sequences=True, return_state=True)\n",
        "X_lstm2_E = LSTM(LSTM_HIDDEN, return_state=True)\n",
        "ey1, eh1, ec1 = X_lstm1_E(X_embed_E)\n",
        "_, eh2, ec2 = X_lstm2_E(ey1) # 1층의 출력을 받는다"
      ],
      "execution_count": 25,
      "outputs": []
    },
    {
      "cell_type": "code",
      "metadata": {
        "id": "vLTk9GCp-AV5",
        "colab_type": "code",
        "colab": {}
      },
      "source": [
        "# Decoder 네트워크 구성\n",
        "X_input_D = Input(batch_shape=(None, X_train_D.shape[1]))\n",
        "X_embed_D = wordEmbedding(X_input_D)\n",
        "X_lstm1_D = LSTM(LSTM_HIDDEN, return_sequences=True, return_state=True)\n",
        "X_lstm2_D = LSTM(LSTM_HIDDEN, return_sequences=True, return_state=True)\n",
        "dy1, _, _ = X_lstm1_D(X_embed_D, initial_state=[eh1, ec1]) # 초기 상태 설정\n",
        "dy2, _, _ = X_lstm2_D(dy1, initial_state=[eh2, ec2]) # 초기 상태 설정"
      ],
      "execution_count": 26,
      "outputs": []
    },
    {
      "cell_type": "code",
      "metadata": {
        "id": "84Svj18s_eAp",
        "colab_type": "code",
        "colab": {}
      },
      "source": [
        "# 출력 네트워크\n",
        "y_output = TimeDistributed(Dense(VOCAB_SIZE, activation='softmax')) # 시간 분배\n",
        "y_output = y_output(dy2)"
      ],
      "execution_count": 27,
      "outputs": []
    },
    {
      "cell_type": "code",
      "metadata": {
        "id": "VnhDcdBb_o6N",
        "colab_type": "code",
        "colab": {
          "base_uri": "https://localhost:8080/",
          "height": 1000
        },
        "outputId": "f2408890-1465-46dd-9192-bc855f2e3006"
      },
      "source": [
        "# 모델 구성\n",
        "model = Model([X_input_E, X_input_D], y_output)\n",
        "model.compile(optimizer=Adam(lr=0.001),\n",
        "              loss='sparse_categorical_crossentropy')\n",
        "print(\"========== 모델 전체 구조 확인 ==========\")\n",
        "print(model.summary())\n",
        "SVG(model_to_dot(model, show_shapes= True, show_layer_names=True, dpi=65).create(prog='dot', format='svg'))"
      ],
      "execution_count": 28,
      "outputs": [
        {
          "output_type": "stream",
          "text": [
            "========== 모델 전체 구조 확인 ==========\n",
            "Model: \"functional_1\"\n",
            "__________________________________________________________________________________________________\n",
            "Layer (type)                    Output Shape         Param #     Connected to                     \n",
            "==================================================================================================\n",
            "input_2 (InputLayer)            [(None, 10)]         0                                            \n",
            "__________________________________________________________________________________________________\n",
            "input_1 (InputLayer)            [(None, 10)]         0                                            \n",
            "__________________________________________________________________________________________________\n",
            "embedding (Embedding)           (None, 10, 128)      2650240     input_1[0][0]                    \n",
            "                                                                 input_2[0][0]                    \n",
            "__________________________________________________________________________________________________\n",
            "lstm (LSTM)                     [(None, 10, 128), (N 131584      embedding[0][0]                  \n",
            "__________________________________________________________________________________________________\n",
            "lstm_2 (LSTM)                   [(None, 10, 128), (N 131584      embedding[1][0]                  \n",
            "                                                                 lstm[0][1]                       \n",
            "                                                                 lstm[0][2]                       \n",
            "__________________________________________________________________________________________________\n",
            "lstm_1 (LSTM)                   [(None, 128), (None, 131584      lstm[0][0]                       \n",
            "__________________________________________________________________________________________________\n",
            "lstm_3 (LSTM)                   [(None, 10, 128), (N 131584      lstm_2[0][0]                     \n",
            "                                                                 lstm_1[0][1]                     \n",
            "                                                                 lstm_1[0][2]                     \n",
            "__________________________________________________________________________________________________\n",
            "time_distributed (TimeDistribut (None, 10, 20705)    2670945     lstm_3[0][0]                     \n",
            "==================================================================================================\n",
            "Total params: 5,847,521\n",
            "Trainable params: 5,847,521\n",
            "Non-trainable params: 0\n",
            "__________________________________________________________________________________________________\n",
            "None\n"
          ],
          "name": "stdout"
        },
        {
          "output_type": "execute_result",
          "data": {
            "text/plain": [
              "<IPython.core.display.SVG object>"
            ],
            "image/svg+xml": "<svg height=\"424pt\" viewBox=\"0.00 0.00 720.00 470.00\" width=\"650pt\" xmlns=\"http://www.w3.org/2000/svg\" xmlns:xlink=\"http://www.w3.org/1999/xlink\">\n<g class=\"graph\" id=\"graph0\" transform=\"scale(.9028 .9028) rotate(0) translate(4 466)\">\n<title>G</title>\n<polygon fill=\"#ffffff\" points=\"-4,4 -4,-466 716,-466 716,4 -4,4\" stroke=\"transparent\"/>\n<!-- 140192974984808 -->\n<g class=\"node\" id=\"node1\">\n<title>140192974984808</title>\n<polygon fill=\"none\" points=\"15,-415.5 15,-461.5 269,-461.5 269,-415.5 15,-415.5\" stroke=\"#000000\"/>\n<text fill=\"#000000\" font-family=\"Times,serif\" font-size=\"14.00\" text-anchor=\"middle\" x=\"81.5\" y=\"-434.8\">input_2: InputLayer</text>\n<polyline fill=\"none\" points=\"148,-415.5 148,-461.5 \" stroke=\"#000000\"/>\n<text fill=\"#000000\" font-family=\"Times,serif\" font-size=\"14.00\" text-anchor=\"middle\" x=\"177\" y=\"-446.3\">input:</text>\n<polyline fill=\"none\" points=\"148,-438.5 206,-438.5 \" stroke=\"#000000\"/>\n<text fill=\"#000000\" font-family=\"Times,serif\" font-size=\"14.00\" text-anchor=\"middle\" x=\"177\" y=\"-423.3\">output:</text>\n<polyline fill=\"none\" points=\"206,-415.5 206,-461.5 \" stroke=\"#000000\"/>\n<text fill=\"#000000\" font-family=\"Times,serif\" font-size=\"14.00\" text-anchor=\"middle\" x=\"237.5\" y=\"-446.3\">[(?, 10)]</text>\n<polyline fill=\"none\" points=\"206,-438.5 269,-438.5 \" stroke=\"#000000\"/>\n<text fill=\"#000000\" font-family=\"Times,serif\" font-size=\"14.00\" text-anchor=\"middle\" x=\"237.5\" y=\"-423.3\">[(?, 10)]</text>\n</g>\n<!-- 140195351181408 -->\n<g class=\"node\" id=\"node3\">\n<title>140195351181408</title>\n<polygon fill=\"none\" points=\"129,-332.5 129,-378.5 427,-378.5 427,-332.5 129,-332.5\" stroke=\"#000000\"/>\n<text fill=\"#000000\" font-family=\"Times,serif\" font-size=\"14.00\" text-anchor=\"middle\" x=\"207\" y=\"-351.8\">embedding: Embedding</text>\n<polyline fill=\"none\" points=\"285,-332.5 285,-378.5 \" stroke=\"#000000\"/>\n<text fill=\"#000000\" font-family=\"Times,serif\" font-size=\"14.00\" text-anchor=\"middle\" x=\"314\" y=\"-363.3\">input:</text>\n<polyline fill=\"none\" points=\"285,-355.5 343,-355.5 \" stroke=\"#000000\"/>\n<text fill=\"#000000\" font-family=\"Times,serif\" font-size=\"14.00\" text-anchor=\"middle\" x=\"314\" y=\"-340.3\">output:</text>\n<polyline fill=\"none\" points=\"343,-332.5 343,-378.5 \" stroke=\"#000000\"/>\n<text fill=\"#000000\" font-family=\"Times,serif\" font-size=\"14.00\" text-anchor=\"middle\" x=\"385\" y=\"-363.3\">(?, 10)</text>\n<polyline fill=\"none\" points=\"343,-355.5 427,-355.5 \" stroke=\"#000000\"/>\n<text fill=\"#000000\" font-family=\"Times,serif\" font-size=\"14.00\" text-anchor=\"middle\" x=\"385\" y=\"-340.3\">(?, 10, 128)</text>\n</g>\n<!-- 140192974984808&#45;&gt;140195351181408 -->\n<g class=\"edge\" id=\"edge2\">\n<title>140192974984808-&gt;140195351181408</title>\n<path d=\"M179.8836,-415.3799C195.8128,-405.6583 214.5052,-394.2505 231.2771,-384.0147\" fill=\"none\" stroke=\"#000000\"/>\n<polygon fill=\"#000000\" points=\"233.1353,-386.9811 239.8479,-378.784 229.4886,-381.0059 233.1353,-386.9811\" stroke=\"#000000\"/>\n</g>\n<!-- 140191731151256 -->\n<g class=\"node\" id=\"node2\">\n<title>140191731151256</title>\n<polygon fill=\"none\" points=\"287,-415.5 287,-461.5 541,-461.5 541,-415.5 287,-415.5\" stroke=\"#000000\"/>\n<text fill=\"#000000\" font-family=\"Times,serif\" font-size=\"14.00\" text-anchor=\"middle\" x=\"353.5\" y=\"-434.8\">input_1: InputLayer</text>\n<polyline fill=\"none\" points=\"420,-415.5 420,-461.5 \" stroke=\"#000000\"/>\n<text fill=\"#000000\" font-family=\"Times,serif\" font-size=\"14.00\" text-anchor=\"middle\" x=\"449\" y=\"-446.3\">input:</text>\n<polyline fill=\"none\" points=\"420,-438.5 478,-438.5 \" stroke=\"#000000\"/>\n<text fill=\"#000000\" font-family=\"Times,serif\" font-size=\"14.00\" text-anchor=\"middle\" x=\"449\" y=\"-423.3\">output:</text>\n<polyline fill=\"none\" points=\"478,-415.5 478,-461.5 \" stroke=\"#000000\"/>\n<text fill=\"#000000\" font-family=\"Times,serif\" font-size=\"14.00\" text-anchor=\"middle\" x=\"509.5\" y=\"-446.3\">[(?, 10)]</text>\n<polyline fill=\"none\" points=\"478,-438.5 541,-438.5 \" stroke=\"#000000\"/>\n<text fill=\"#000000\" font-family=\"Times,serif\" font-size=\"14.00\" text-anchor=\"middle\" x=\"509.5\" y=\"-423.3\">[(?, 10)]</text>\n</g>\n<!-- 140191731151256&#45;&gt;140195351181408 -->\n<g class=\"edge\" id=\"edge1\">\n<title>140191731151256-&gt;140195351181408</title>\n<path d=\"M376.1164,-415.3799C360.1872,-405.6583 341.4948,-394.2505 324.7229,-384.0147\" fill=\"none\" stroke=\"#000000\"/>\n<polygon fill=\"#000000\" points=\"326.5114,-381.0059 316.1521,-378.784 322.8647,-386.9811 326.5114,-381.0059\" stroke=\"#000000\"/>\n</g>\n<!-- 140195026145064 -->\n<g class=\"node\" id=\"node4\">\n<title>140195026145064</title>\n<polygon fill=\"none\" points=\"206.5,-249.5 206.5,-295.5 549.5,-295.5 549.5,-249.5 206.5,-249.5\" stroke=\"#000000\"/>\n<text fill=\"#000000\" font-family=\"Times,serif\" font-size=\"14.00\" text-anchor=\"middle\" x=\"250\" y=\"-268.8\">lstm: LSTM</text>\n<polyline fill=\"none\" points=\"293.5,-249.5 293.5,-295.5 \" stroke=\"#000000\"/>\n<text fill=\"#000000\" font-family=\"Times,serif\" font-size=\"14.00\" text-anchor=\"middle\" x=\"322.5\" y=\"-280.3\">input:</text>\n<polyline fill=\"none\" points=\"293.5,-272.5 351.5,-272.5 \" stroke=\"#000000\"/>\n<text fill=\"#000000\" font-family=\"Times,serif\" font-size=\"14.00\" text-anchor=\"middle\" x=\"322.5\" y=\"-257.3\">output:</text>\n<polyline fill=\"none\" points=\"351.5,-249.5 351.5,-295.5 \" stroke=\"#000000\"/>\n<text fill=\"#000000\" font-family=\"Times,serif\" font-size=\"14.00\" text-anchor=\"middle\" x=\"450.5\" y=\"-280.3\">(?, 10, 128)</text>\n<polyline fill=\"none\" points=\"351.5,-272.5 549.5,-272.5 \" stroke=\"#000000\"/>\n<text fill=\"#000000\" font-family=\"Times,serif\" font-size=\"14.00\" text-anchor=\"middle\" x=\"450.5\" y=\"-257.3\">[(?, 10, 128), (?, 128), (?, 128)]</text>\n</g>\n<!-- 140195351181408&#45;&gt;140195026145064 -->\n<g class=\"edge\" id=\"edge3\">\n<title>140195351181408-&gt;140195026145064</title>\n<path d=\"M305.8556,-332.3799C317.031,-323.1043 330.056,-312.2936 341.9392,-302.4304\" fill=\"none\" stroke=\"#000000\"/>\n<polygon fill=\"#000000\" points=\"344.4875,-304.8639 349.947,-295.784 340.0168,-299.4775 344.4875,-304.8639\" stroke=\"#000000\"/>\n</g>\n<!-- 140192978144448 -->\n<g class=\"node\" id=\"node5\">\n<title>140192978144448</title>\n<polygon fill=\"none\" points=\"0,-166.5 0,-212.5 358,-212.5 358,-166.5 0,-166.5\" stroke=\"#000000\"/>\n<text fill=\"#000000\" font-family=\"Times,serif\" font-size=\"14.00\" text-anchor=\"middle\" x=\"51\" y=\"-185.8\">lstm_2: LSTM</text>\n<polyline fill=\"none\" points=\"102,-166.5 102,-212.5 \" stroke=\"#000000\"/>\n<text fill=\"#000000\" font-family=\"Times,serif\" font-size=\"14.00\" text-anchor=\"middle\" x=\"131\" y=\"-197.3\">input:</text>\n<polyline fill=\"none\" points=\"102,-189.5 160,-189.5 \" stroke=\"#000000\"/>\n<text fill=\"#000000\" font-family=\"Times,serif\" font-size=\"14.00\" text-anchor=\"middle\" x=\"131\" y=\"-174.3\">output:</text>\n<polyline fill=\"none\" points=\"160,-166.5 160,-212.5 \" stroke=\"#000000\"/>\n<text fill=\"#000000\" font-family=\"Times,serif\" font-size=\"14.00\" text-anchor=\"middle\" x=\"259\" y=\"-197.3\">[(?, 10, 128), (?, 128), (?, 128)]</text>\n<polyline fill=\"none\" points=\"160,-189.5 358,-189.5 \" stroke=\"#000000\"/>\n<text fill=\"#000000\" font-family=\"Times,serif\" font-size=\"14.00\" text-anchor=\"middle\" x=\"259\" y=\"-174.3\">[(?, 10, 128), (?, 128), (?, 128)]</text>\n</g>\n<!-- 140195351181408&#45;&gt;140192978144448 -->\n<g class=\"edge\" id=\"edge4\">\n<title>140195351181408-&gt;140192978144448</title>\n<path d=\"M234.8098,-332.2567C221.0205,-322.7738 207.0141,-310.5736 198,-296 184.5004,-274.1743 179.9987,-245.3067 178.7356,-223.1324\" fill=\"none\" stroke=\"#000000\"/>\n<polygon fill=\"#000000\" points=\"182.2222,-222.7067 178.3504,-212.8447 175.2271,-222.9687 182.2222,-222.7067\" stroke=\"#000000\"/>\n</g>\n<!-- 140195026145064&#45;&gt;140192978144448 -->\n<g class=\"edge\" id=\"edge5\">\n<title>140195026145064-&gt;140192978144448</title>\n<path d=\"M322.8317,-249.4901C298.245,-239.2353 269.1188,-227.0872 243.5287,-216.414\" fill=\"none\" stroke=\"#000000\"/>\n<polygon fill=\"#000000\" points=\"244.8524,-213.1739 234.2756,-212.5547 242.1577,-219.6345 244.8524,-213.1739\" stroke=\"#000000\"/>\n</g>\n<!-- 140195026144952 -->\n<g class=\"node\" id=\"node6\">\n<title>140195026144952</title>\n<polygon fill=\"none\" points=\"376,-166.5 376,-212.5 712,-212.5 712,-166.5 376,-166.5\" stroke=\"#000000\"/>\n<text fill=\"#000000\" font-family=\"Times,serif\" font-size=\"14.00\" text-anchor=\"middle\" x=\"427\" y=\"-185.8\">lstm_1: LSTM</text>\n<polyline fill=\"none\" points=\"478,-166.5 478,-212.5 \" stroke=\"#000000\"/>\n<text fill=\"#000000\" font-family=\"Times,serif\" font-size=\"14.00\" text-anchor=\"middle\" x=\"507\" y=\"-197.3\">input:</text>\n<polyline fill=\"none\" points=\"478,-189.5 536,-189.5 \" stroke=\"#000000\"/>\n<text fill=\"#000000\" font-family=\"Times,serif\" font-size=\"14.00\" text-anchor=\"middle\" x=\"507\" y=\"-174.3\">output:</text>\n<polyline fill=\"none\" points=\"536,-166.5 536,-212.5 \" stroke=\"#000000\"/>\n<text fill=\"#000000\" font-family=\"Times,serif\" font-size=\"14.00\" text-anchor=\"middle\" x=\"624\" y=\"-197.3\">(?, 10, 128)</text>\n<polyline fill=\"none\" points=\"536,-189.5 712,-189.5 \" stroke=\"#000000\"/>\n<text fill=\"#000000\" font-family=\"Times,serif\" font-size=\"14.00\" text-anchor=\"middle\" x=\"624\" y=\"-174.3\">[(?, 128), (?, 128), (?, 128)]</text>\n</g>\n<!-- 140195026145064&#45;&gt;140195026144952 -->\n<g class=\"edge\" id=\"edge6\">\n<title>140195026145064-&gt;140195026144952</title>\n<path d=\"M424.2403,-249.3799C444.2128,-239.3936 467.7442,-227.6279 488.6378,-217.1811\" fill=\"none\" stroke=\"#000000\"/>\n<polygon fill=\"#000000\" points=\"490.3411,-220.2426 497.7201,-212.6399 487.2106,-213.9816 490.3411,-220.2426\" stroke=\"#000000\"/>\n</g>\n<!-- 140192978145176 -->\n<g class=\"node\" id=\"node7\">\n<title>140192978145176</title>\n<polygon fill=\"none\" points=\"182,-83.5 182,-129.5 540,-129.5 540,-83.5 182,-83.5\" stroke=\"#000000\"/>\n<text fill=\"#000000\" font-family=\"Times,serif\" font-size=\"14.00\" text-anchor=\"middle\" x=\"233\" y=\"-102.8\">lstm_3: LSTM</text>\n<polyline fill=\"none\" points=\"284,-83.5 284,-129.5 \" stroke=\"#000000\"/>\n<text fill=\"#000000\" font-family=\"Times,serif\" font-size=\"14.00\" text-anchor=\"middle\" x=\"313\" y=\"-114.3\">input:</text>\n<polyline fill=\"none\" points=\"284,-106.5 342,-106.5 \" stroke=\"#000000\"/>\n<text fill=\"#000000\" font-family=\"Times,serif\" font-size=\"14.00\" text-anchor=\"middle\" x=\"313\" y=\"-91.3\">output:</text>\n<polyline fill=\"none\" points=\"342,-83.5 342,-129.5 \" stroke=\"#000000\"/>\n<text fill=\"#000000\" font-family=\"Times,serif\" font-size=\"14.00\" text-anchor=\"middle\" x=\"441\" y=\"-114.3\">[(?, 10, 128), (?, 128), (?, 128)]</text>\n<polyline fill=\"none\" points=\"342,-106.5 540,-106.5 \" stroke=\"#000000\"/>\n<text fill=\"#000000\" font-family=\"Times,serif\" font-size=\"14.00\" text-anchor=\"middle\" x=\"441\" y=\"-91.3\">[(?, 10, 128), (?, 128), (?, 128)]</text>\n</g>\n<!-- 140192978144448&#45;&gt;140192978145176 -->\n<g class=\"edge\" id=\"edge7\">\n<title>140192978144448-&gt;140192978145176</title>\n<path d=\"M229.6971,-166.3799C251.7912,-156.304 277.8573,-144.4167 300.9173,-133.9003\" fill=\"none\" stroke=\"#000000\"/>\n<polygon fill=\"#000000\" points=\"302.6131,-136.9738 310.2594,-129.6399 299.7086,-130.6048 302.6131,-136.9738\" stroke=\"#000000\"/>\n</g>\n<!-- 140195026144952&#45;&gt;140192978145176 -->\n<g class=\"edge\" id=\"edge8\">\n<title>140195026144952-&gt;140192978145176</title>\n<path d=\"M493.0243,-166.3799C470.8089,-156.304 444.5995,-144.4167 421.4128,-133.9003\" fill=\"none\" stroke=\"#000000\"/>\n<polygon fill=\"#000000\" points=\"422.5722,-130.5831 412.0194,-129.6399 419.6808,-136.958 422.5722,-130.5831\" stroke=\"#000000\"/>\n</g>\n<!-- 140192975841208 -->\n<g class=\"node\" id=\"node8\">\n<title>140192975841208</title>\n<polygon fill=\"none\" points=\"134.5,-.5 134.5,-46.5 587.5,-46.5 587.5,-.5 134.5,-.5\" stroke=\"#000000\"/>\n<text fill=\"#000000\" font-family=\"Times,serif\" font-size=\"14.00\" text-anchor=\"middle\" x=\"282.5\" y=\"-19.8\">time_distributed(dense): TimeDistributed(Dense)</text>\n<polyline fill=\"none\" points=\"430.5,-.5 430.5,-46.5 \" stroke=\"#000000\"/>\n<text fill=\"#000000\" font-family=\"Times,serif\" font-size=\"14.00\" text-anchor=\"middle\" x=\"459.5\" y=\"-31.3\">input:</text>\n<polyline fill=\"none\" points=\"430.5,-23.5 488.5,-23.5 \" stroke=\"#000000\"/>\n<text fill=\"#000000\" font-family=\"Times,serif\" font-size=\"14.00\" text-anchor=\"middle\" x=\"459.5\" y=\"-8.3\">output:</text>\n<polyline fill=\"none\" points=\"488.5,-.5 488.5,-46.5 \" stroke=\"#000000\"/>\n<text fill=\"#000000\" font-family=\"Times,serif\" font-size=\"14.00\" text-anchor=\"middle\" x=\"538\" y=\"-31.3\">(?, 10, 128)</text>\n<polyline fill=\"none\" points=\"488.5,-23.5 587.5,-23.5 \" stroke=\"#000000\"/>\n<text fill=\"#000000\" font-family=\"Times,serif\" font-size=\"14.00\" text-anchor=\"middle\" x=\"538\" y=\"-8.3\">(?, 10, 20705)</text>\n</g>\n<!-- 140192978145176&#45;&gt;140192975841208 -->\n<g class=\"edge\" id=\"edge9\">\n<title>140192978145176-&gt;140192975841208</title>\n<path d=\"M361,-83.3799C361,-75.1745 361,-65.7679 361,-56.8786\" fill=\"none\" stroke=\"#000000\"/>\n<polygon fill=\"#000000\" points=\"364.5001,-56.784 361,-46.784 357.5001,-56.784 364.5001,-56.784\" stroke=\"#000000\"/>\n</g>\n</g>\n</svg>"
          },
          "metadata": {
            "tags": []
          },
          "execution_count": 28
        }
      ]
    },
    {
      "cell_type": "markdown",
      "metadata": {
        "id": "lBGECoPCAqap",
        "colab_type": "text"
      },
      "source": [
        "## 학습"
      ]
    },
    {
      "cell_type": "code",
      "metadata": {
        "id": "LB7ehYxyAX58",
        "colab_type": "code",
        "colab": {
          "base_uri": "https://localhost:8080/",
          "height": 1000
        },
        "outputId": "4285411c-94aa-4073-a61b-fc14275e9e1b"
      },
      "source": [
        "LOAD_MODEL = False\n",
        "\n",
        "if LOAD_MODEL :\n",
        "    model.load_weights(MODEL_PATH)\n",
        "\n",
        "# teacher forcing 학습\n",
        "hist = model.fit([X_train_E, X_train_D], y_train_D,\n",
        "                 batch_size=300,\n",
        "                 epochs=500,\n",
        "                 shuffle=True,\n",
        "                 validation_data=([X_test_E, X_test_D], y_test_D))"
      ],
      "execution_count": null,
      "outputs": [
        {
          "output_type": "stream",
          "text": [
            "Epoch 1/500\n",
            "36/36 [==============================] - 16s 453ms/step - loss: 7.7641 - val_loss: 4.6962\n",
            "Epoch 2/500\n",
            "36/36 [==============================] - 15s 410ms/step - loss: 3.9470 - val_loss: 3.8038\n",
            "Epoch 3/500\n",
            "36/36 [==============================] - 14s 396ms/step - loss: 3.6484 - val_loss: 3.6988\n",
            "Epoch 4/500\n",
            "36/36 [==============================] - 14s 401ms/step - loss: 3.5489 - val_loss: 3.6492\n",
            "Epoch 5/500\n",
            "36/36 [==============================] - 14s 403ms/step - loss: 3.4539 - val_loss: 3.5810\n",
            "Epoch 6/500\n",
            "36/36 [==============================] - 14s 389ms/step - loss: 3.3504 - val_loss: 3.5436\n",
            "Epoch 7/500\n",
            "36/36 [==============================] - 14s 394ms/step - loss: 3.2722 - val_loss: 3.5453\n",
            "Epoch 8/500\n",
            "36/36 [==============================] - 14s 400ms/step - loss: 3.2111 - val_loss: 3.5317\n",
            "Epoch 9/500\n",
            "36/36 [==============================] - 14s 395ms/step - loss: 3.1524 - val_loss: 3.4904\n",
            "Epoch 10/500\n",
            "36/36 [==============================] - 14s 383ms/step - loss: 3.0864 - val_loss: 3.4351\n",
            "Epoch 11/500\n",
            "36/36 [==============================] - 14s 384ms/step - loss: 3.0191 - val_loss: 3.3636\n",
            "Epoch 12/500\n",
            "36/36 [==============================] - 14s 381ms/step - loss: 2.9570 - val_loss: 3.3206\n",
            "Epoch 13/500\n",
            "36/36 [==============================] - 14s 388ms/step - loss: 2.9018 - val_loss: 3.2807\n",
            "Epoch 14/500\n",
            "36/36 [==============================] - 14s 383ms/step - loss: 2.8594 - val_loss: 3.2777\n",
            "Epoch 15/500\n",
            "36/36 [==============================] - 14s 385ms/step - loss: 2.8225 - val_loss: 3.2685\n",
            "Epoch 16/500\n",
            "36/36 [==============================] - 14s 383ms/step - loss: 2.7873 - val_loss: 3.2633\n",
            "Epoch 17/500\n",
            "36/36 [==============================] - 14s 384ms/step - loss: 2.7522 - val_loss: 3.2536\n",
            "Epoch 18/500\n",
            "36/36 [==============================] - 14s 385ms/step - loss: 2.7203 - val_loss: 3.2463\n",
            "Epoch 19/500\n",
            "36/36 [==============================] - 14s 382ms/step - loss: 2.6906 - val_loss: 3.2582\n",
            "Epoch 20/500\n",
            "36/36 [==============================] - 14s 380ms/step - loss: 2.6618 - val_loss: 3.2341\n",
            "Epoch 21/500\n",
            "36/36 [==============================] - 14s 387ms/step - loss: 2.6322 - val_loss: 3.2359\n",
            "Epoch 22/500\n",
            "36/36 [==============================] - 14s 389ms/step - loss: 2.6051 - val_loss: 3.2273\n",
            "Epoch 23/500\n",
            "36/36 [==============================] - 15s 412ms/step - loss: 2.5761 - val_loss: 3.2426\n",
            "Epoch 24/500\n",
            "36/36 [==============================] - 14s 385ms/step - loss: 2.5474 - val_loss: 3.2400\n",
            "Epoch 25/500\n",
            "36/36 [==============================] - 14s 388ms/step - loss: 2.5225 - val_loss: 3.2239\n",
            "Epoch 26/500\n",
            "36/36 [==============================] - 14s 389ms/step - loss: 2.4961 - val_loss: 3.2390\n",
            "Epoch 27/500\n",
            "36/36 [==============================] - 14s 384ms/step - loss: 2.4666 - val_loss: 3.2544\n",
            "Epoch 28/500\n",
            "36/36 [==============================] - 14s 388ms/step - loss: 2.4387 - val_loss: 3.2517\n",
            "Epoch 29/500\n",
            "36/36 [==============================] - 14s 384ms/step - loss: 2.4100 - val_loss: 3.2579\n",
            "Epoch 30/500\n",
            "36/36 [==============================] - 14s 399ms/step - loss: 2.3819 - val_loss: 3.2602\n",
            "Epoch 31/500\n",
            "36/36 [==============================] - 14s 385ms/step - loss: 2.3527 - val_loss: 3.2428\n",
            "Epoch 32/500\n",
            "36/36 [==============================] - 14s 387ms/step - loss: 2.3230 - val_loss: 3.2542\n",
            "Epoch 33/500\n",
            "36/36 [==============================] - 14s 385ms/step - loss: 2.2914 - val_loss: 3.2484\n",
            "Epoch 34/500\n",
            "36/36 [==============================] - 14s 388ms/step - loss: 2.2615 - val_loss: 3.2667\n",
            "Epoch 35/500\n",
            "36/36 [==============================] - 14s 384ms/step - loss: 2.2338 - val_loss: 3.2673\n",
            "Epoch 36/500\n",
            "36/36 [==============================] - 14s 383ms/step - loss: 2.2079 - val_loss: 3.2597\n",
            "Epoch 37/500\n",
            "36/36 [==============================] - 14s 380ms/step - loss: 2.1810 - val_loss: 3.2639\n",
            "Epoch 38/500\n",
            "36/36 [==============================] - 14s 384ms/step - loss: 2.1547 - val_loss: 3.2541\n",
            "Epoch 39/500\n",
            "36/36 [==============================] - 14s 382ms/step - loss: 2.1277 - val_loss: 3.2791\n",
            "Epoch 40/500\n",
            "36/36 [==============================] - 14s 378ms/step - loss: 2.1008 - val_loss: 3.2689\n",
            "Epoch 41/500\n",
            "36/36 [==============================] - 14s 377ms/step - loss: 2.0761 - val_loss: 3.2709\n",
            "Epoch 42/500\n",
            "36/36 [==============================] - 14s 381ms/step - loss: 2.0512 - val_loss: 3.2784\n",
            "Epoch 43/500\n",
            "36/36 [==============================] - 14s 380ms/step - loss: 2.0249 - val_loss: 3.2823\n",
            "Epoch 44/500\n",
            "36/36 [==============================] - 14s 380ms/step - loss: 1.9983 - val_loss: 3.2955\n",
            "Epoch 45/500\n",
            "36/36 [==============================] - 15s 411ms/step - loss: 1.9756 - val_loss: 3.2883\n",
            "Epoch 46/500\n",
            "36/36 [==============================] - 14s 384ms/step - loss: 1.9513 - val_loss: 3.2884\n",
            "Epoch 47/500\n",
            "36/36 [==============================] - 14s 386ms/step - loss: 1.9260 - val_loss: 3.2948\n",
            "Epoch 48/500\n",
            "36/36 [==============================] - 14s 382ms/step - loss: 1.9025 - val_loss: 3.2908\n",
            "Epoch 49/500\n",
            "36/36 [==============================] - 14s 382ms/step - loss: 1.8772 - val_loss: 3.3088\n",
            "Epoch 50/500\n",
            "36/36 [==============================] - 14s 382ms/step - loss: 1.8521 - val_loss: 3.3062\n",
            "Epoch 51/500\n",
            "36/36 [==============================] - 14s 398ms/step - loss: 1.8288 - val_loss: 3.3114\n",
            "Epoch 52/500\n",
            "36/36 [==============================] - 14s 384ms/step - loss: 1.8081 - val_loss: 3.3143\n",
            "Epoch 53/500\n",
            "36/36 [==============================] - 14s 384ms/step - loss: 1.7874 - val_loss: 3.3074\n",
            "Epoch 54/500\n",
            "36/36 [==============================] - 14s 382ms/step - loss: 1.7659 - val_loss: 3.3129\n",
            "Epoch 55/500\n",
            "36/36 [==============================] - 14s 389ms/step - loss: 1.7428 - val_loss: 3.3175\n",
            "Epoch 56/500\n",
            "36/36 [==============================] - 14s 389ms/step - loss: 1.7197 - val_loss: 3.3210\n",
            "Epoch 57/500\n",
            "36/36 [==============================] - 14s 385ms/step - loss: 1.6991 - val_loss: 3.3244\n",
            "Epoch 58/500\n",
            "36/36 [==============================] - 14s 383ms/step - loss: 1.6773 - val_loss: 3.3291\n",
            "Epoch 59/500\n",
            "36/36 [==============================] - 14s 386ms/step - loss: 1.6539 - val_loss: 3.3345\n",
            "Epoch 60/500\n",
            "36/36 [==============================] - 14s 387ms/step - loss: 1.6297 - val_loss: 3.3448\n",
            "Epoch 61/500\n",
            "36/36 [==============================] - 14s 394ms/step - loss: 1.6100 - val_loss: 3.3340\n",
            "Epoch 62/500\n",
            "36/36 [==============================] - 14s 389ms/step - loss: 1.5898 - val_loss: 3.3384\n",
            "Epoch 63/500\n",
            "36/36 [==============================] - 14s 389ms/step - loss: 1.5676 - val_loss: 3.3379\n",
            "Epoch 64/500\n",
            "36/36 [==============================] - 14s 391ms/step - loss: 1.5461 - val_loss: 3.3540\n",
            "Epoch 65/500\n",
            "36/36 [==============================] - 14s 389ms/step - loss: 1.5274 - val_loss: 3.3573\n",
            "Epoch 66/500\n",
            "36/36 [==============================] - 14s 394ms/step - loss: 1.5082 - val_loss: 3.3478\n",
            "Epoch 67/500\n",
            "36/36 [==============================] - 15s 405ms/step - loss: 1.4892 - val_loss: 3.3532\n",
            "Epoch 68/500\n",
            "36/36 [==============================] - 14s 388ms/step - loss: 1.4679 - val_loss: 3.3614\n",
            "Epoch 69/500\n",
            "36/36 [==============================] - 14s 379ms/step - loss: 1.4470 - val_loss: 3.3637\n",
            "Epoch 70/500\n",
            "36/36 [==============================] - 14s 389ms/step - loss: 1.4275 - val_loss: 3.3599\n",
            "Epoch 71/500\n",
            "36/36 [==============================] - 14s 388ms/step - loss: 1.4106 - val_loss: 3.3686\n",
            "Epoch 72/500\n",
            "36/36 [==============================] - 14s 394ms/step - loss: 1.3904 - val_loss: 3.3686\n",
            "Epoch 73/500\n",
            "36/36 [==============================] - 14s 386ms/step - loss: 1.3701 - val_loss: 3.3792\n",
            "Epoch 74/500\n",
            "36/36 [==============================] - 14s 382ms/step - loss: 1.3526 - val_loss: 3.3744\n",
            "Epoch 75/500\n",
            "36/36 [==============================] - 14s 380ms/step - loss: 1.3332 - val_loss: 3.3809\n",
            "Epoch 76/500\n",
            "36/36 [==============================] - 14s 380ms/step - loss: 1.3149 - val_loss: 3.3837\n",
            "Epoch 77/500\n",
            "36/36 [==============================] - 14s 382ms/step - loss: 1.2956 - val_loss: 3.3849\n",
            "Epoch 78/500\n",
            "36/36 [==============================] - 14s 382ms/step - loss: 1.2782 - val_loss: 3.3940\n",
            "Epoch 79/500\n",
            "36/36 [==============================] - 14s 380ms/step - loss: 1.2629 - val_loss: 3.3965\n",
            "Epoch 80/500\n",
            "36/36 [==============================] - 14s 379ms/step - loss: 1.2466 - val_loss: 3.3900\n",
            "Epoch 81/500\n",
            "36/36 [==============================] - 14s 379ms/step - loss: 1.2292 - val_loss: 3.3879\n",
            "Epoch 82/500\n",
            "36/36 [==============================] - 14s 382ms/step - loss: 1.2116 - val_loss: 3.3994\n",
            "Epoch 83/500\n",
            "36/36 [==============================] - 14s 380ms/step - loss: 1.1918 - val_loss: 3.4022\n",
            "Epoch 84/500\n",
            "36/36 [==============================] - 14s 386ms/step - loss: 1.1770 - val_loss: 3.4034\n",
            "Epoch 85/500\n",
            "36/36 [==============================] - 14s 382ms/step - loss: 1.1596 - val_loss: 3.4048\n",
            "Epoch 86/500\n",
            "36/36 [==============================] - 14s 379ms/step - loss: 1.1405 - val_loss: 3.4042\n",
            "Epoch 87/500\n",
            "36/36 [==============================] - 14s 383ms/step - loss: 1.1247 - val_loss: 3.4132\n",
            "Epoch 88/500\n",
            "36/36 [==============================] - 14s 393ms/step - loss: 1.1085 - val_loss: 3.4192\n",
            "Epoch 89/500\n",
            "18/36 [==============>...............] - ETA: 6s - loss: 1.0781"
          ],
          "name": "stdout"
        }
      ]
    },
    {
      "cell_type": "code",
      "metadata": {
        "id": "l5gH5i-3A9D1",
        "colab_type": "code",
        "colab": {
          "base_uri": "https://localhost:8080/",
          "height": 295
        },
        "outputId": "98eccdfc-a759-413b-f932-74c3dd260f2f"
      },
      "source": [
        "# # loss 시각화 : 첫 번째 학습\n",
        "# plt.plot(hist.history['loss'], label='Train Loss')\n",
        "# plt.plot(hist.history['val_loss'], label='Test Loss')\n",
        "# plt.legend()\n",
        "# plt.title('Loss Trajectory')\n",
        "# plt.xlabel('epoch')\n",
        "# plt.ylabel('loss')\n",
        "# plt.show()"
      ],
      "execution_count": 16,
      "outputs": [
        {
          "output_type": "display_data",
          "data": {
            "image/png": "[encoded data removed]",
            "text/plain": [
              "<Figure size 432x288 with 1 Axes>"
            ]
          },
          "metadata": {
            "tags": [],
            "needs_background": "light"
          }
        }
      ]
    },
    {
      "cell_type": "code",
      "metadata": {
        "id": "8npoWZ5pZJmq",
        "colab_type": "code",
        "colab": {}
      },
      "source": [
        "# loss 시각화 : 두 번째 학습(500)\n",
        "plt.plot(hist.history['loss'], label='Train Loss')\n",
        "plt.plot(hist.history['val_loss'], label='Test Loss')\n",
        "plt.legend()\n",
        "plt.title('Loss Trajectory')\n",
        "plt.xlabel('epoch')\n",
        "plt.ylabel('loss')\n",
        "plt.show()"
      ],
      "execution_count": null,
      "outputs": []
    },
    {
      "cell_type": "code",
      "metadata": {
        "id": "hCRhUKcTBKpM",
        "colab_type": "code",
        "colab": {}
      },
      "source": [
        "# 학습 결과 저장\n",
        "model.save_weights(MODEL_PATH)"
      ],
      "execution_count": 17,
      "outputs": []
    },
    {
      "cell_type": "code",
      "metadata": {
        "id": "l6ejww_IBRlU",
        "colab_type": "code",
        "colab": {}
      },
      "source": [
        ""
      ],
      "execution_count": null,
      "outputs": []
    }
  ]
}