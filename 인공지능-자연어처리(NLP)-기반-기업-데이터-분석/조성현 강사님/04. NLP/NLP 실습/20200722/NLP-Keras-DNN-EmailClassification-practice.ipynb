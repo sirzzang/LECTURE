{
  "nbformat": 4,
  "nbformat_minor": 0,
  "metadata": {
    "colab": {
      "name": "NLP-Keras-DNN-EmailClassification-practice.ipynb",
      "provenance": [],
      "collapsed_sections": [],
      "machine_shape": "hm"
    },
    "kernelspec": {
      "name": "python3",
      "display_name": "Python 3"
    }
  },
  "cells": [
    {
      "cell_type": "markdown",
      "metadata": {
        "id": "HaUO_rpkl9I_",
        "colab_type": "text"
      },
      "source": [
        "# 심층 신경망을 이용한 이메일 분류"
      ]
    },
    {
      "cell_type": "markdown",
      "metadata": {
        "id": "19rktzHNLuG4",
        "colab_type": "text"
      },
      "source": [
        "## [Sequential] \n"
      ]
    },
    {
      "cell_type": "code",
      "metadata": {
        "id": "afr1x9BZLoN-",
        "colab_type": "code",
        "colab": {
          "base_uri": "https://localhost:8080/",
          "height": 175
        },
        "outputId": "a6af6c36-d33e-43a7-be52-baead216c60d"
      },
      "source": [
        "# module import\n",
        "import nltk\n",
        "nltk.download('stopwords')\n",
        "nltk.download('punkt')\n",
        "nltk.download('averaged_perceptron_tagger')\n",
        "nltk.download('wordnet')\n",
        "\n",
        "\n",
        "from nltk.corpus import stopwords\n",
        "from nltk.stem import WordNetLemmatizer\n",
        "\n",
        "import string\n",
        "from nltk import pos_tag\n",
        "from nltk.stem import PorterStemmer\n",
        "\n",
        "from sklearn.feature_extraction.text import TfidfVectorizer\n",
        "from sklearn.datasets import fetch_20newsgroups\n",
        "\n",
        "import numpy as np\n",
        "from tensorflow.keras.models import Sequential\n",
        "from tensorflow.keras.layers import Dense, Dropout, Activation\n",
        "from tensorflow.keras.utils import to_categorical\n",
        "from tensorflow.keras.callbacks import EarlyStopping\n",
        "\n",
        "from sklearn.metrics import accuracy_score\n",
        "import matplotlib.pyplot as plt"
      ],
      "execution_count": 1,
      "outputs": [
        {
          "output_type": "stream",
          "text": [
            "[nltk_data] Downloading package stopwords to /root/nltk_data...\n",
            "[nltk_data]   Unzipping corpora/stopwords.zip.\n",
            "[nltk_data] Downloading package punkt to /root/nltk_data...\n",
            "[nltk_data]   Unzipping tokenizers/punkt.zip.\n",
            "[nltk_data] Downloading package averaged_perceptron_tagger to\n",
            "[nltk_data]     /root/nltk_data...\n",
            "[nltk_data]   Unzipping taggers/averaged_perceptron_tagger.zip.\n",
            "[nltk_data] Downloading package wordnet to /root/nltk_data...\n",
            "[nltk_data]   Unzipping corpora/wordnet.zip.\n"
          ],
          "name": "stdout"
        }
      ]
    },
    {
      "cell_type": "markdown",
      "metadata": {
        "id": "8KWW027sMzmJ",
        "colab_type": "text"
      },
      "source": [
        "### _1_. 데이터 준비"
      ]
    },
    {
      "cell_type": "code",
      "metadata": {
        "id": "-ayohm3cMy2w",
        "colab_type": "code",
        "colab": {
          "base_uri": "https://localhost:8080/",
          "height": 52
        },
        "outputId": "f10c33ea-79fd-4a7e-b034-2c8d99001493"
      },
      "source": [
        "# 데이터 로드\n",
        "train_data = fetch_20newsgroups(subset='train')\n",
        "test_data = fetch_20newsgroups(subset='test')"
      ],
      "execution_count": 2,
      "outputs": [
        {
          "output_type": "stream",
          "text": [
            "Downloading 20news dataset. This may take a few minutes.\n",
            "Downloading dataset from https://ndownloader.figshare.com/files/5975967 (14 MB)\n"
          ],
          "name": "stderr"
        }
      ]
    },
    {
      "cell_type": "code",
      "metadata": {
        "id": "FYhzeR4PNWWC",
        "colab_type": "code",
        "colab": {
          "base_uri": "https://localhost:8080/",
          "height": 52
        },
        "outputId": "562aeb48-109e-4a72-b9f1-292edae66689"
      },
      "source": [
        "# 데이터 준비\n",
        "X_train, y_train = train_data.data, train_data.target\n",
        "X_test, y_test = test_data.data, test_data.target\n",
        "print(f\"훈련 데이터: {len(X_train)}, 훈련 라벨: {len(y_train)}\")\n",
        "print(f\"훈련 데이터: {len(X_test)}, 훈련 라벨: {len(y_test)}\")"
      ],
      "execution_count": 3,
      "outputs": [
        {
          "output_type": "stream",
          "text": [
            "훈련 데이터: 11314, 훈련 라벨: 11314\n",
            "훈련 데이터: 7532, 훈련 라벨: 7532\n"
          ],
          "name": "stdout"
        }
      ]
    },
    {
      "cell_type": "code",
      "metadata": {
        "id": "qEvYqKFSNJNy",
        "colab_type": "code",
        "colab": {
          "base_uri": "https://localhost:8080/",
          "height": 565
        },
        "outputId": "9ee16938-8652-4b1f-f5b8-cba578b880ca"
      },
      "source": [
        "# 데이터 확인\n",
        "print(\"뉴스 20개 카테고리\")\n",
        "print(f\"{train_data.target_names}\")\n",
        "print(\"\")\n",
        "print(\"훈련용 샘플 이메일\")\n",
        "print(X_train[0])\n",
        "print(\"\")\n",
        "print(\"훈련용 샘플 이메일 카테고리\")\n",
        "print(y_train[0])\n",
        "print(test_data.target_names[y_train[0]])"
      ],
      "execution_count": 4,
      "outputs": [
        {
          "output_type": "stream",
          "text": [
            "뉴스 20개 카테고리\n",
            "['alt.atheism', 'comp.graphics', 'comp.os.ms-windows.misc', 'comp.sys.ibm.pc.hardware', 'comp.sys.mac.hardware', 'comp.windows.x', 'misc.forsale', 'rec.autos', 'rec.motorcycles', 'rec.sport.baseball', 'rec.sport.hockey', 'sci.crypt', 'sci.electronics', 'sci.med', 'sci.space', 'soc.religion.christian', 'talk.politics.guns', 'talk.politics.mideast', 'talk.politics.misc', 'talk.religion.misc']\n",
            "\n",
            "훈련용 샘플 이메일\n",
            "From: lerxst@wam.umd.edu (where's my thing)\n",
            "Subject: WHAT car is this!?\n",
            "Nntp-Posting-Host: rac3.wam.umd.edu\n",
            "Organization: University of Maryland, College Park\n",
            "Lines: 15\n",
            "\n",
            " I was wondering if anyone out there could enlighten me on this car I saw\n",
            "the other day. It was a 2-door sports car, looked to be from the late 60s/\n",
            "early 70s. It was called a Bricklin. The doors were really small. In addition,\n",
            "the front bumper was separate from the rest of the body. This is \n",
            "all I know. If anyone can tellme a model name, engine specs, years\n",
            "of production, where this car is made, history, or whatever info you\n",
            "have on this funky looking car, please e-mail.\n",
            "\n",
            "Thanks,\n",
            "- IL\n",
            "   ---- brought to you by your neighborhood Lerxst ----\n",
            "\n",
            "\n",
            "\n",
            "\n",
            "\n",
            "\n",
            "훈련용 샘플 이메일 카테고리\n",
            "7\n",
            "rec.autos\n"
          ],
          "name": "stdout"
        }
      ]
    },
    {
      "cell_type": "markdown",
      "metadata": {
        "id": "WCex8h1vN_fH",
        "colab_type": "text"
      },
      "source": [
        "### _2_. 데이터 전처리\n",
        "\n",
        "* `string.punctuation` 사용: `'!\"#$%&\\'()*+,-./:;<=>?@[\\\\]^_`{|}~'`\n",
        "\n",
        "---\n",
        "\n",
        "* '\\n'을 제거하기 위해 split() 후 다시 합침 --> 그냥 strip하면 안 되나??\n",
        "* 표제어 추출?"
      ]
    },
    {
      "cell_type": "code",
      "metadata": {
        "id": "-XpFzSd6N9ai",
        "colab_type": "code",
        "colab": {}
      },
      "source": [
        "def preprocessing(text):\n",
        "    '''\n",
        "    1) 구둣점 제거\n",
        "    2) 개행문자 제거\n",
        "    3) 토큰화\n",
        "    4) 불용어 제거\n",
        "    5) 길이 2이하 제거\n",
        "    6) 어간 분석: optional\n",
        "    7) 품사 태그\n",
        "    8) 표제어 추출\n",
        "    '''\n",
        "\n",
        "    temp = '' # 남길 텍스트\n",
        "    for ch in text:\n",
        "        if ch in string.punctuation: # 구둣점 제거\n",
        "            temp += ' '\n",
        "        else:\n",
        "            temp += ch\n",
        "    temp = ' '.join(temp.split()) # 개행문자 제거\n",
        "\n",
        "    tokens = []\n",
        "    for sent in nltk.sent_tokenize(temp): # 문단 -> 문장\n",
        "        for word in nltk.word_tokenize(sent): # 문장 -> 단어\n",
        "            tokens.append(word.lower()) # 소문자\n",
        "    \n",
        "    # 불용어 제거, 길이 3이상인 단어만 남기기\n",
        "    stopwords_list= stopwords.words('english')\n",
        "    tokens = [token for token in tokens if token not in stopwords_list] # 토큰 중 불용어 제거\n",
        "    tokens = [word for word in tokens if len(word) >= 3] # 길이 2이하 제거\n",
        "\n",
        "    # # 어간 분석: optional\n",
        "    # stemmer = PorterStemmer()\n",
        "    # try:\n",
        "    #     tokens = [stemmer.stem(word) for word in tokens]\n",
        "    # except:\n",
        "    #     tokens = tokens\n",
        "    \n",
        "    # 품사 태깅\n",
        "    tagged_corpus = pos_tag(tokens)\n",
        "\n",
        "    # lemmatize vs. pos\n",
        "    n_tags = ['NN', 'NNP', 'NNPS', 'NNS']\n",
        "    v_tags = ['VB', 'VBD', 'VBG', 'VBN', 'VBP', 'VBZ']\n",
        "\n",
        "    # 표제어 추출\n",
        "    lemmatizer = WordNetLemmatizer()\n",
        "    def prat_lemmatize(token, tag):\n",
        "        if tag in n_tags:\n",
        "            return lemmatizer.lemmatize(token, 'n')\n",
        "        elif tag in v_tags:\n",
        "            return lemmatizer.lemmatize(token, 'v')\n",
        "        else:\n",
        "            return lemmatizer.lemmatize(token, 'n')  \n",
        "    \n",
        "    pre_processed_text = \" \".join([prat_lemmatize(token, tag) for token, tag in tagged_corpus])\n",
        "\n",
        "    return pre_processed_text"
      ],
      "execution_count": 5,
      "outputs": []
    },
    {
      "cell_type": "code",
      "metadata": {
        "id": "X2I2PC1lTBeO",
        "colab_type": "code",
        "colab": {
          "base_uri": "https://localhost:8080/",
          "height": 107
        },
        "outputId": "13c05e7f-e1df-4418-a48b-e348800d9d36"
      },
      "source": [
        "# 전처리 진행\n",
        "X_train_preprocessed = []\n",
        "for text in X_train:\n",
        "    X_train_preprocessed.append(preprocessing(text))\n",
        "\n",
        "X_test_preprocessed = []\n",
        "for text in X_test:\n",
        "    X_test_preprocessed.append(preprocessing(text))\n",
        "\n",
        "# 전처리 후 데이터 확인\n",
        "print(\"전처리된 훈련용 샘플 이메일\")\n",
        "print(X_train_preprocessed[0])\n",
        "\n",
        "# 확인\n",
        "print(f\"전처리된 훈련 데이터: {len(X_train_preprocessed)}\")\n",
        "print(f\"전처리된 테스트 데이터: {len(X_test_preprocessed)}\")"
      ],
      "execution_count": 6,
      "outputs": [
        {
          "output_type": "stream",
          "text": [
            "전처리된 훈련용 샘플 이메일\n",
            "lerxst wam umd edu thing subject car nntp post host rac3 wam umd edu organization university maryland college park line wonder anyone could enlighten car saw day door sport car look late 60 early 70 call bricklin door really small addition front bumper separate rest body know anyone tellme model name engine spec year production car make history whatever info funky look car please mail thanks bring neighborhood lerxst\n",
            "전처리된 훈련 데이터: 11314\n",
            "전처리된 테스트 데이터: 7532\n"
          ],
          "name": "stdout"
        }
      ]
    },
    {
      "cell_type": "markdown",
      "metadata": {
        "id": "6jNf715aW8BY",
        "colab_type": "text"
      },
      "source": [
        "### _3_. TFIDF 행렬 만들기\n",
        "\n",
        " sparse 행렬이므로 dense로 바꿔야 한다.\n",
        "\n",
        "* `min_df` : 최소 2개 이상의 문서(문장)에 나타나야 함.\n",
        "* `ngram` : unigram, bigram 사용.\n",
        "* `max_features` : 단어 개수 100개로 지정.(문장 길이 관련)\n",
        "\n"
      ]
    },
    {
      "cell_type": "code",
      "metadata": {
        "id": "9NX1J-WIUeli",
        "colab_type": "code",
        "colab": {}
      },
      "source": [
        "# tf-idf 행렬\n",
        "vectorizer = TfidfVectorizer(min_df=2, \n",
        "                             ngram_range=(1, 2),\n",
        "                             stop_words='english',\n",
        "                             max_features=10000)"
      ],
      "execution_count": 7,
      "outputs": []
    },
    {
      "cell_type": "code",
      "metadata": {
        "id": "QADVMKTTUepz",
        "colab_type": "code",
        "colab": {
          "base_uri": "https://localhost:8080/",
          "height": 52
        },
        "outputId": "c443765a-faca-43d4-a252-59a10d1f6fb2"
      },
      "source": [
        "# tf-idf 행렬 변환\n",
        "tfidf_vectorizer = vectorizer.fit(X_train_preprocessed)\n",
        "X_train_tfidf = tfidf_vectorizer.transform(X_train_preprocessed).todense()\n",
        "print(f\"훈련 데이터: {X_train_tfidf.shape}\")\n",
        "X_test_tfidf = tfidf_vectorizer.transform(X_test_preprocessed).todense()\n",
        "print(f\"테스트 데이터: {X_test_tfidf.shape}\")"
      ],
      "execution_count": 8,
      "outputs": [
        {
          "output_type": "stream",
          "text": [
            "훈련 데이터: (11314, 10000)\n",
            "테스트 데이터: (7532, 10000)\n"
          ],
          "name": "stdout"
        }
      ]
    },
    {
      "cell_type": "code",
      "metadata": {
        "id": "2ig1FECYUehb",
        "colab_type": "code",
        "colab": {
          "base_uri": "https://localhost:8080/",
          "height": 90
        },
        "outputId": "c6b4e2a1-f234-422c-f93b-60173c83ff8d"
      },
      "source": [
        "# vectorizer 확인\n",
        "print(f\"tfidf 행렬로 만드는 데 사용한 단어 개수: {len(tfidf_vectorizer.get_feature_names())}\")\n",
        "print(\"샘플 단어 10개 확인\")\n",
        "print(tfidf_vectorizer.get_feature_names()[:10]) # 예시로 확인"
      ],
      "execution_count": 9,
      "outputs": [
        {
          "output_type": "stream",
          "text": [
            "tfidf 행렬로 만드는 데 사용한 단어 개수: 10000\n",
            "샘플 단어 10개 확인\n",
            "['000', '000 000', '000 mile', '000 people', '000 year', '005', '02238', '02p', '030', '0358']\n"
          ],
          "name": "stdout"
        }
      ]
    },
    {
      "cell_type": "markdown",
      "metadata": {
        "id": "O4H6rq9PnAVf",
        "colab_type": "text"
      },
      "source": [
        "### _4_. 딥러닝 모델"
      ]
    },
    {
      "cell_type": "code",
      "metadata": {
        "id": "wgrUDqevQGkT",
        "colab_type": "code",
        "colab": {
          "base_uri": "https://localhost:8080/",
          "height": 52
        },
        "outputId": "4ded865f-b4cf-4945-ba56-048595a31c67"
      },
      "source": [
        "# 파라미터 설정\n",
        "np.random.seed(42) # 시드 고정\n",
        "num_labels = len(np.unique(y_train)) # 라벨 20개\n",
        "BATCH = int(input('배치 사이즈 설정: '))\n",
        "EPOCHS = int(input('학습 에폭 수 설정: '))"
      ],
      "execution_count": 10,
      "outputs": [
        {
          "output_type": "stream",
          "text": [
            "배치 사이즈 설정: 100\n",
            "학습 에폭 수 설정: 1000\n"
          ],
          "name": "stdout"
        }
      ]
    },
    {
      "cell_type": "code",
      "metadata": {
        "id": "3nvqgtJ7m_0g",
        "colab_type": "code",
        "colab": {
          "base_uri": "https://localhost:8080/",
          "height": 52
        },
        "outputId": "a92a08e7-2125-4b07-f07c-9bac3f22b043"
      },
      "source": [
        "# 라벨 범주형 변수로 변환\n",
        "Y_train = to_categorical(y_train, num_classes=num_labels)\n",
        "Y_test = to_categorical(y_test, num_classes=num_labels)\n",
        "print(f\"훈련 라벨: {Y_train.shape}\")\n",
        "print(f\"테스트 라벨: {Y_test.shape}\")"
      ],
      "execution_count": 11,
      "outputs": [
        {
          "output_type": "stream",
          "text": [
            "훈련 라벨: (11314, 20)\n",
            "테스트 라벨: (7532, 20)\n"
          ],
          "name": "stdout"
        }
      ]
    },
    {
      "cell_type": "code",
      "metadata": {
        "id": "lKu1Fx30m_yf",
        "colab_type": "code",
        "colab": {
          "base_uri": "https://localhost:8080/",
          "height": 369
        },
        "outputId": "6405ca8d-e329-4622-8c87-c329f6d8ed86"
      },
      "source": [
        "# 모델 설정\n",
        "model = Sequential()\n",
        "\n",
        "# 첫 번째 층\n",
        "model.add(Dense(1000, input_shape=(X_train_tfidf.shape[1], ))) # 입력 데이터 shape: 10000개 단어, 11314개 데이터 수.\n",
        "model.add(Activation('relu')) # relu 활성화 함수 적용\n",
        "model.add(Dropout(0.5))\n",
        "\n",
        "# 두 번째 층: 분류 결과\n",
        "model.add(Dense(num_labels)) # 라벨 개수만큼 출력 노드 설정\n",
        "model.add(Activation('softmax')) # 다중 분류\n",
        "\n",
        "# 모델 컴파일: 학습\n",
        "model.compile(loss='categorical_crossentropy', optimizer='adam')\n",
        "print(\"=========== 모델 전체 구조 ===========\")\n",
        "print(model.summary())"
      ],
      "execution_count": 12,
      "outputs": [
        {
          "output_type": "stream",
          "text": [
            "=========== 모델 전체 구조 ===========\n",
            "Model: \"sequential\"\n",
            "_________________________________________________________________\n",
            "Layer (type)                 Output Shape              Param #   \n",
            "=================================================================\n",
            "dense (Dense)                (None, 1000)              10001000  \n",
            "_________________________________________________________________\n",
            "activation (Activation)      (None, 1000)              0         \n",
            "_________________________________________________________________\n",
            "dropout (Dropout)            (None, 1000)              0         \n",
            "_________________________________________________________________\n",
            "dense_1 (Dense)              (None, 20)                20020     \n",
            "_________________________________________________________________\n",
            "activation_1 (Activation)    (None, 20)                0         \n",
            "=================================================================\n",
            "Total params: 10,021,020\n",
            "Trainable params: 10,021,020\n",
            "Non-trainable params: 0\n",
            "_________________________________________________________________\n",
            "None\n"
          ],
          "name": "stdout"
        }
      ]
    },
    {
      "cell_type": "code",
      "metadata": {
        "id": "qwFDxVBUm_w1",
        "colab_type": "code",
        "colab": {
          "base_uri": "https://localhost:8080/",
          "height": 351
        },
        "outputId": "1be0bd1b-3752-448f-c2c1-154f173904ea"
      },
      "source": [
        "# 모델 학습\n",
        "es = EarlyStopping(monitor='val_loss', patience=5, verbose=1)\n",
        "\n",
        "hist = model.fit(X_train_tfidf, Y_train,\n",
        "                 batch_size=BATCH,\n",
        "                 epochs=EPOCHS,\n",
        "                 validation_data = (X_test_tfidf, Y_test),\n",
        "                 callbacks=[es])"
      ],
      "execution_count": 13,
      "outputs": [
        {
          "output_type": "stream",
          "text": [
            "Epoch 1/1000\n",
            "114/114 [==============================] - 7s 66ms/step - loss: 1.7502 - val_loss: 0.8989\n",
            "Epoch 2/1000\n",
            "114/114 [==============================] - 7s 65ms/step - loss: 0.3839 - val_loss: 0.6267\n",
            "Epoch 3/1000\n",
            "114/114 [==============================] - 7s 65ms/step - loss: 0.1661 - val_loss: 0.5743\n",
            "Epoch 4/1000\n",
            "114/114 [==============================] - 7s 64ms/step - loss: 0.0814 - val_loss: 0.5680\n",
            "Epoch 5/1000\n",
            "114/114 [==============================] - 7s 64ms/step - loss: 0.0469 - val_loss: 0.5738\n",
            "Epoch 6/1000\n",
            "114/114 [==============================] - 7s 64ms/step - loss: 0.0297 - val_loss: 0.5766\n",
            "Epoch 7/1000\n",
            "114/114 [==============================] - 7s 64ms/step - loss: 0.0201 - val_loss: 0.5842\n",
            "Epoch 8/1000\n",
            "114/114 [==============================] - 7s 63ms/step - loss: 0.0153 - val_loss: 0.5922\n",
            "Epoch 9/1000\n",
            "114/114 [==============================] - 7s 64ms/step - loss: 0.0120 - val_loss: 0.6019\n",
            "Epoch 00009: early stopping\n"
          ],
          "name": "stdout"
        }
      ]
    },
    {
      "cell_type": "markdown",
      "metadata": {
        "id": "yyX8t1RtqCsm",
        "colab_type": "text"
      },
      "source": [
        "### _5_. 결과 확인 및 예측"
      ]
    },
    {
      "cell_type": "code",
      "metadata": {
        "id": "fNhrElQFof2t",
        "colab_type": "code",
        "colab": {
          "base_uri": "https://localhost:8080/",
          "height": 295
        },
        "outputId": "e6ab2a20-ebb1-4642-eb3b-5c3739b668d2"
      },
      "source": [
        "# plot loss\n",
        "plt.plot(hist.history['loss'], label='Train Loss')\n",
        "plt.plot(hist.history['val_loss'], label='Test Loss')\n",
        "plt.legend()\n",
        "plt.title(\"Loss Trajectory\")\n",
        "plt.xlabel(\"epoch\")\n",
        "plt.ylabel(\"loss\")\n",
        "plt.show()"
      ],
      "execution_count": 14,
      "outputs": [
        {
          "output_type": "display_data",
          "data": {
            "image/png": "[encoded data removed]",
            "text/plain": [
              "<Figure size 432x288 with 1 Axes>"
            ]
          },
          "metadata": {
            "tags": [],
            "needs_background": "light"
          }
        }
      ]
    },
    {
      "cell_type": "code",
      "metadata": {
        "id": "43KFQYWCppHu",
        "colab_type": "code",
        "colab": {
          "base_uri": "https://localhost:8080/",
          "height": 125
        },
        "outputId": "c67e27b8-f54f-4031-f2c7-92a66086e909"
      },
      "source": [
        "# 예측\n",
        "y_train_pred = model.predict_classes(X_train_tfidf, batch_size=BATCH)\n",
        "y_test_pred = model.predict_classes(X_test_tfidf, batch_size=BATCH)\n",
        "print(f\"Train Accuracy: {accuracy_score(y_train, y_train_pred)}\")\n",
        "print(f\"Test Accuracy: {accuracy_score(y_test, y_test_pred)}\")"
      ],
      "execution_count": 15,
      "outputs": [
        {
          "output_type": "stream",
          "text": [
            "WARNING:tensorflow:From <ipython-input-15-339946bdf9b2>:2: Sequential.predict_classes (from tensorflow.python.keras.engine.sequential) is deprecated and will be removed after 2021-01-01.\n",
            "Instructions for updating:\n",
            "Please use instead:* `np.argmax(model.predict(x), axis=-1)`,   if your model does multi-class classification   (e.g. if it uses a `softmax` last-layer activation).* `(model.predict(x) > 0.5).astype(\"int32\")`,   if your model does binary classification   (e.g. if it uses a `sigmoid` last-layer activation).\n",
            "Train Accuracy: 0.9992929114371575\n",
            "Test Accuracy: 0.8271375464684015\n"
          ],
          "name": "stdout"
        }
      ]
    },
    {
      "cell_type": "markdown",
      "metadata": {
        "id": "LAAUo6h6Rmyw",
        "colab_type": "text"
      },
      "source": [
        "## [Functional API]\n",
        "\n",
        "- 개행문자 제거\n",
        "- 불용어 제거 및 최소 단어 길이 설정\n",
        "- 어간\n",
        "- functional API\n",
        "    - `predict_classes` 없음.\n",
        "    "
      ]
    },
    {
      "cell_type": "code",
      "metadata": {
        "id": "dU0hafO2ofvY",
        "colab_type": "code",
        "colab": {
          "base_uri": "https://localhost:8080/",
          "height": 1000
        },
        "outputId": "37944d5f-f3a0-4a9f-e523-c60df5e0577c"
      },
      "source": [
        "# module import\n",
        "import nltk\n",
        "nltk.download('stopwords')\n",
        "nltk.download('punkt')\n",
        "nltk.download('averaged_perceptron_tagger')\n",
        "nltk.download('wordnet')\n",
        "from nltk.corpus import stopwords\n",
        "from nltk.stem import WordNetLemmatizer\n",
        "import string\n",
        "from nltk import pos_tag\n",
        "from nltk.stem import PorterStemmer\n",
        "from sklearn.feature_extraction.text import TfidfVectorizer\n",
        "from sklearn.datasets import fetch_20newsgroups\n",
        "import numpy as np\n",
        "from tensorflow.keras.models import Model\n",
        "from tensorflow.keras.layers import Dense, Dropout, Input\n",
        "from tensorflow.keras.optimizers import Adam\n",
        "from tensorflow.keras.utils import to_categorical\n",
        "from tensorflow.keras.callbacks import EarlyStopping\n",
        "from sklearn.metrics import accuracy_score\n",
        "import matplotlib.pyplot as plt\n",
        "\n",
        "# 1) 데이터 로드\n",
        "train_data = fetch_20newsgroups(subset='train')\n",
        "test_data = fetch_20newsgroups(subset='test')\n",
        "\n",
        "# 2) 데이터 준비\n",
        "X_train, y_train = train_data.data, train_data.target\n",
        "X_test, y_test = test_data.data, test_data.target\n",
        "print(f\"훈련 데이터: {len(X_train)}, 훈련 라벨: {len(y_train)}\")\n",
        "print(f\"테스트 데이터: {len(X_test)}, 훈련 라벨: {len(y_test)}\")\n",
        "\n",
        "# 3) 샘플 데이터 확인\n",
        "print('')\n",
        "print(\"라벨 종류:\")\n",
        "print(train_data.target_names)\n",
        "print(f\"   샘플 훈련 데이터\")\n",
        "print(X_train[0])\n",
        "print(f\"   샘플 훈련 데이터 라벨\")\n",
        "print(y_train[0], train_data.target_names[y_train[0]])\n",
        "print()\n",
        "\n",
        "# 4) 전처리\n",
        "def preprocessing(text):\n",
        "    '''\n",
        "    - 구둣점, 개행문자 제거.\n",
        "    - 토큰화: 문서~문장~단어, 소문자화.\n",
        "    - 불용어 제거, 최소 단어 길이 설정.\n",
        "    - 어간 추출.\n",
        "    - 품사 태그.\n",
        "    - 표제어 추출.\n",
        "    '''\n",
        "    \n",
        "    # 구둣점, 개행문자 제거\n",
        "    temp = \"\"\n",
        "    for t in text:\n",
        "        if t in string.punctuation: # 구둣점 제거\n",
        "            temp += \" \"\n",
        "        else:\n",
        "            temp += t\n",
        "    temp = temp.strip('\\n') # 개행문자 제거\n",
        "\n",
        "    # 토큰화, 소문자\n",
        "    tokens = []\n",
        "    for sent in nltk.sent_tokenize(temp):\n",
        "        for word in nltk.word_tokenize(sent):\n",
        "            tokens.append(word.lower())\n",
        "    \n",
        "    # 불용어 제거, 최소 단어 길이 3 설정\n",
        "    stopwords_list = stopwords.words('english')\n",
        "    token_list = []\n",
        "    for token in tokens:\n",
        "        if token not in stopwords_list and len(token) >= 3:\n",
        "            token_list.append(token)\n",
        "    \n",
        "    # 어간 추출\n",
        "    stemmer = PorterStemmer()\n",
        "    try:\n",
        "        token_list = [stemmer.stem(word) for word in tokens]\n",
        "    except:\n",
        "        token_list = token_list\n",
        "    \n",
        "    # 품사 태그\n",
        "    tagged_tokens = pos_tag(tokens)\n",
        "\n",
        "    # 표제어 추출\n",
        "    n_tags = ['NN','NNP','NNPS','NNS']\n",
        "    v_tags = ['VB','VBD','VBG','VBN','VBP','VBZ']\n",
        "\n",
        "    lemmatizer = WordNetLemmatizer()\n",
        "\n",
        "    def prat_lemmatize(token, tag):\n",
        "        if tag in n_tags:\n",
        "            return lemmatizer.lemmatize(token, 'n')\n",
        "        elif tag in v_tags:\n",
        "            return lemmatizer.lemmatize(token, 'v')\n",
        "        else:\n",
        "            return lemmatizer.lemmatize(token, 'n')\n",
        "    \n",
        "    lemmatized_tokens = [prat_lemmatize(token, tag) for token, tag in tagged_tokens]\n",
        "    \n",
        "    # 최종 전처리 텍스트\n",
        "    preprocessed_text = \" \".join(lemmatized_tokens)\n",
        "\n",
        "    return preprocessed_text\n",
        "\n",
        "# 데이터 전처리\n",
        "X_train_preprocessed = []\n",
        "for train_text in X_train:\n",
        "    X_train_preprocessed.append(preprocessing(train_text))\n",
        "\n",
        "X_test_preprocessed = []\n",
        "for test_text in X_test:\n",
        "    X_test_preprocessed.append(preprocessing(test_text))\n",
        "\n",
        "# 전처리 데이터 확인\n",
        "print(f\"전처리된 훈련 데이터: {len(X_train_preprocessed)}\")\n",
        "print(f\"전처리된 테스트 데이터: {len(X_test_preprocessed)}\")\n",
        "print()\n",
        "print(f\"   전처리된 샘플 훈련 데이터\")\n",
        "print(X_train_preprocessed[0])\n",
        "print()\n",
        "\n",
        "# 5) TFIDF 행렬 생성\n",
        "vectorizer = TfidfVectorizer(min_df=2,\n",
        "                             ngram_range=(1, 2),\n",
        "                             stop_words='english',\n",
        "                             max_features=10000)\n",
        "\n",
        "tfidf_vectorizer = vectorizer.fit(X_train_preprocessed)\n",
        "print(f\"Vectorizer:\\n {tfidf_vectorizer}\\n\")\n",
        "print(f\"Vectorizer에 사용된 단어 확인:\\n{tfidf_vectorizer.get_feature_names()}\\n\")\n",
        "X_train_tfidf = tfidf_vectorizer.transform(X_train_preprocessed).todense() # 밀집행렬\n",
        "X_test_tfidf = tfidf_vectorizer.transform(X_test_preprocessed).todense()\n",
        "print(f\"훈련 데이터 tfidf: {X_train_tfidf.shape}\")\n",
        "print(f\"테스트 데이터 tfidf: {X_test_tfidf.shape}\")\n",
        "print()\n",
        "\n",
        "# 6) 모델 파라미터\n",
        "np.random.seed(42) # 시드 고정\n",
        "n_classes = len(np.unique(y_train)) # 라벨 수\n",
        "BATCH = int(input('배치 사이즈 설정: '))\n",
        "EPOCHS = int(input('학습 에폭 수 설정: '))\n",
        "n_hidden = int(input('은닉 노드 수 설정: '))\n",
        "\n",
        "# 7) 범주형 변수 원핫인코딩\n",
        "Y_train = to_categorical(y_train, n_classes)\n",
        "Y_test = to_categorical(y_test, n_classes)\n",
        "\n",
        "# 8) 모델 레이어 설정\n",
        "X_input = Input(batch_shape=(None, X_train_tfidf.shape[1]))\n",
        "X_hidden = Dense(n_hidden, activation='relu')(X_input)\n",
        "X_hidden = Dropout(0.5)(X_hidden)\n",
        "y_output = Dense(n_classes, activation='softmax')(X_hidden)\n",
        "\n",
        "# 9) 모델 컴파일\n",
        "model = Model(X_input, y_output)\n",
        "model.compile(loss='categorical_crossentropy', optimizer=Adam(learning_rate=0.001))\n",
        "print(\"========= 모델 전체 구조 =========\")\n",
        "print(model.summary())\n",
        "print()\n",
        "\n",
        "# 10) 모델 학습\n",
        "es = EarlyStopping(monitor='val_loss', patience=5, verbose=1)\n",
        "hist = model.fit(X_train_tfidf, Y_train,\n",
        "                 batch_size=BATCH,\n",
        "                 epochs=EPOCHS,\n",
        "                 validation_data=(X_test_tfidf, Y_test),\n",
        "                 callbacks=[es])\n",
        "\n",
        "# 11) plot loss\n",
        "plt.plot(hist.history['loss'], label='Train Loss')\n",
        "plt.plot(hist.history['val_loss'], label='Test Loss')\n",
        "plt.legend()\n",
        "plt.title('Loss Trajectory')\n",
        "plt.xlabel('Epochs')\n",
        "plt.ylabel('Loss')\n",
        "plt.show()\n",
        "\n",
        "# 12) 예측 및 결과 확인\n",
        "y_train_pred = model.predict(X_train_tfidf)\n",
        "y_train_pred = np.argmax(y_train_pred, axis=1)\n",
        "y_test_pred = model.predict(X_test_tfidf)\n",
        "y_test_pred = np.argmax(y_test_pred, axis=1)\n",
        "print(f\"Train Accuracy: {accuracy_score(y_train, y_train_pred)}\")\n",
        "print(f\"Test Accuracy: {accuracy_score(y_test, y_test_pred)}\")"
      ],
      "execution_count": 16,
      "outputs": [
        {
          "output_type": "stream",
          "text": [
            "[nltk_data] Downloading package stopwords to /root/nltk_data...\n",
            "[nltk_data]   Package stopwords is already up-to-date!\n",
            "[nltk_data] Downloading package punkt to /root/nltk_data...\n",
            "[nltk_data]   Package punkt is already up-to-date!\n",
            "[nltk_data] Downloading package averaged_perceptron_tagger to\n",
            "[nltk_data]     /root/nltk_data...\n",
            "[nltk_data]   Package averaged_perceptron_tagger is already up-to-\n",
            "[nltk_data]       date!\n",
            "[nltk_data] Downloading package wordnet to /root/nltk_data...\n",
            "[nltk_data]   Package wordnet is already up-to-date!\n",
            "훈련 데이터: 11314, 훈련 라벨: 11314\n",
            "테스트 데이터: 7532, 훈련 라벨: 7532\n",
            "\n",
            "라벨 종류:\n",
            "['alt.atheism', 'comp.graphics', 'comp.os.ms-windows.misc', 'comp.sys.ibm.pc.hardware', 'comp.sys.mac.hardware', 'comp.windows.x', 'misc.forsale', 'rec.autos', 'rec.motorcycles', 'rec.sport.baseball', 'rec.sport.hockey', 'sci.crypt', 'sci.electronics', 'sci.med', 'sci.space', 'soc.religion.christian', 'talk.politics.guns', 'talk.politics.mideast', 'talk.politics.misc', 'talk.religion.misc']\n",
            "   샘플 훈련 데이터\n",
            "From: lerxst@wam.umd.edu (where's my thing)\n",
            "Subject: WHAT car is this!?\n",
            "Nntp-Posting-Host: rac3.wam.umd.edu\n",
            "Organization: University of Maryland, College Park\n",
            "Lines: 15\n",
            "\n",
            " I was wondering if anyone out there could enlighten me on this car I saw\n",
            "the other day. It was a 2-door sports car, looked to be from the late 60s/\n",
            "early 70s. It was called a Bricklin. The doors were really small. In addition,\n",
            "the front bumper was separate from the rest of the body. This is \n",
            "all I know. If anyone can tellme a model name, engine specs, years\n",
            "of production, where this car is made, history, or whatever info you\n",
            "have on this funky looking car, please e-mail.\n",
            "\n",
            "Thanks,\n",
            "- IL\n",
            "   ---- brought to you by your neighborhood Lerxst ----\n",
            "\n",
            "\n",
            "\n",
            "\n",
            "\n",
            "   샘플 훈련 데이터 라벨\n",
            "7 rec.autos\n",
            "\n",
            "전처리된 훈련 데이터: 11314\n",
            "전처리된 테스트 데이터: 7532\n",
            "\n",
            "   전처리된 샘플 훈련 데이터\n",
            "from lerxst wam umd edu where s my thing subject what car be this nntp post host rac3 wam umd edu organization university of maryland college park line 15 i be wonder if anyone out there could enlighten me on this car i saw the other day it be a 2 door sport car look to be from the late 60 early 70 it be call a bricklin the door be really small in addition the front bumper be separate from the rest of the body this be all i know if anyone can tellme a model name engine spec year of production where this car be make history or whatever info you have on this funky look car please e mail thanks il bring to you by your neighborhood lerxst\n",
            "\n",
            "Vectorizer:\n",
            " TfidfVectorizer(analyzer='word', binary=False, decode_error='strict',\n",
            "                dtype=<class 'numpy.float64'>, encoding='utf-8',\n",
            "                input='content', lowercase=True, max_df=1.0, max_features=10000,\n",
            "                min_df=2, ngram_range=(1, 2), norm='l2', preprocessor=None,\n",
            "                smooth_idf=True, stop_words='english', strip_accents=None,\n",
            "                sublinear_tf=False, token_pattern='(?u)\\\\b\\\\w\\\\w+\\\\b',\n",
            "                tokenizer=None, use_idf=True, vocabulary=None)\n",
            "\n",
            "Vectorizer에 사용된 단어 확인:\n",
            "['00', '00 00', '00 1993', '00 gmt', '000', '000 000', '000 mile', '000 people', '000 year', '005', '01', '02', '02p', '03', '0358', '04', '04 04', '040', '0400', '05', '06', '06 a86', '07', '08', '09', '0b', '0d', '0d 0d', '0g', '0i', '0l', '0m', '0q', '0q ax', '0qax', '0qax ax', '0t', '0t 0t', '0t bxn', '0tq', '0w', '10', '10 00', '10 000', '10 10', '10 11', '10 12', '10 15', '10 20', '10 april', '10 article', '10 nntp', '10 year', '100', '100 000', '1000', '101', '102', '1024', '1024x768', '103', '104', '105', '106', '107', '108', '109', '10k', '10th', '11', '11 12', '11 article', '11 nntp', '110', '111', '112', '113', '114', '115', '117', '118', '119', '12', '12 13', '12 article', '12 nntp', '120', '1200', '121', '122', '123', '124', '125', '126', '127', '128', '1280x1024', '129', '13', '13 00', '13 14', '13 article', '13 nntp', '130', '131', '132', '133', '134', '135', '136', '137', '138', '13p', '13q', '14', '14 15', '14 1993', '14 4k', '14 apr', '14 article', '14 distribution', '14 m5', '14 nntp', '140', '141', '142', '143', '144', '145', '145 14', '145 145', '146', '147', '148', '149', '15', '15 00', '15 16', '15 1993', '15 apr', '15 article', '15 nntp', '15 year', '150', '1500', '151', '152', '1542', '155', '157', '158', '15o', '16', '16 005', '16 1993', '16 apr', '16 article', '16 bit', '16 nntp', '160', '161', '162', '163', '16550', '167', '16m', '16mb', '17', '17 apr', '17 article', '17 monitor', '17 nntp', '170', '172', '175', '18', '18 article', '18 nntp', '180', '182', '188', '19', '19 apr', '19 article', '19 nntp', '1914', '1915', '1918', '1919', '1919 soviet', '192', '1920', '1923', '1948', '1958', '1960', '1964', '1967', '1968', '1969', '1970', '1972', '1973', '1974', '1975', '1976', '1977', '1978', '1979', '198', '1980', '1981', '1982', '1983', '1984', '1985', '1986', '1987', '1988', '1989', '199', '1990', '1991', '1992', '1992 93', '1993', '1993 04', '1993 15', '1993 line', '1993apr12', '1993apr13', '1993apr14', '1993apr15', '1993apr16', '1993apr17', '1993apr18', '1993apr19', '1993apr2', '1993apr20', '1993apr21', '1993apr22', '1993apr3', '1993apr5', '1993apr6', '1994', '1a', '1b', '1d', '1d9', '1d9 1d9', '1d9 1d9l', '1d9 1eq', '1d9 pl', '1d9l', '1eq', '1f', '1f9', '1fpl', '1g', '1k', '1m', '1mb', '1p', '1q', '1st', '1t', '1t 1t', '1t ei', '1v', '1w', '1x', '1y', '1z4', '1z6e', '20', '20 00', '20 1993', '20 30', '20 apr', '20 article', '20 nntp', '20 year', '200', '2000', '2000 year', '201', '202', '203', '204', '205', '206', '207', '20th', '21', '21 apr', '21 article', '21 nntp', '210', '212', '213', '214', '215', '216', '217', '22', '22 1993', '22 article', '22 nntp', '220', '222', '223', '224', '225', '226', '227', '23', '23 article', '23 nntp', '230', '231', '232', '24', '24 article', '24 bit', '24 hour', '24 nntp', '240', '2400', '241', '241 9760', '245', '249', '24bit', '24e', '24x', '25', '25 00', '25 article', '25 mhz', '25 nntp', '250', '253', '255', '256', '256 color', '256k', '25mhz', '26', '26 article', '26 nntp', '267', '268', '27', '27 article', '27 nntp', '273', '274', '275', '28', '28 article', '28 nntp', '280', '285', '286', '29', '29 article', '296', '2a', '2b', '2d', '2di', '2di 2di', '2f', '2g', '2j', '2m', '2mb', '2nd', '2nd amendment', '2p', '2pl', '2pu', '2q', '2r', '2tct', '2tg', '2tm', '2tm 2tm', '2u', '2w', '2x', '30', '30 article', '30 day', '30 year', '300', '3000', '301', '303', '30602', '30602 7415', '31', '31 article', '31 nntp', '310', '312', '313', '316', '32', '32 32', '32 article', '32 bit', '320', '325', '32bis', '33', '33 article', '333', '33mhz', '34', '34 article', '345', '348', '34l', '34u', '34u 34', '34u 34u', '34u 3l', '35', '35 00', '35 article', '350', '354', '36', '36 article', '360', '37', '37 article', '38', '38 article', '386', '386bsd', '386sx', '39', '3a', '3b', '3c', '3d', '3d graphic', '3do', '3dy', '3dy 3dy', '3h', '3hz', '3k', '3l', '3m', '3o', '3p', '3q', '3rd', '3t', '3t 3t', '3w2tm', '3x', '40', '40 54715', '40 article', '400', '4000', '407', '408', '408 241', '41', '41 article', '41 nntp', '412', '415', '416', '42', '42 article', '43', '43 article', '44', '45', '45 145', '45 article', '450', '455', '456', '46', '462', '47', '48', '486', '486dx', '49', '49 40', '4d', '4e', '4f', '4k', '4l', '4m', '4mb', '4r', '4t', '4t 0t', '4th', '4u', '50', '50 year', '500', '5000', '503', '508', '51', '510', '512', '512k', '52', '520', '525', '53', '54', '542', '54715', '55', '550', '56', '57', '575', '58', '580', '59', '5g', '5g9p', '5g9v', '5k', '5m', '5mb', '5t', '5th', '5u', '5u 75u', '5v', '60', '600', '6000', '601', '602', '604', '61', '610', '613', '617', '619', '62', '621', '63', '64', '64 bit', '64k', '65', '650', '66', '663', '666', '67', '68', '68000', '68030', '68040', '69', '6a', '6c', '6e', '6e1t', '6ei', '6ei 6ei', '6ei4', '6f', '6g', '6k', '6n', '6p', '6ql', '6t', '6th', '6um', '6um 6um', '6v', '6w', '6x', '70', '700', '7000', '703', '706', '706 542', '708', '71', '713', '714', '72', '73', '74', '7415', '7415 amateur', '75', '750', '75u', '75u 75u', '76', '768', '77', '78', '79', '7b', '7ex', '7ey', '7ey 7ey', '7ez', '7g', '7klj', '7kn', '7r', '7t', '7th', '7tl', '7u', '7v', '7z', '80', '80 bit', '800', '8000', '800x600', '804', '805', '81', '818', '82', '83', '84', '85', '86', '87', '88', '89', '8c', '8cx', '8k', '8mb', '8n', '8o', '8v', '8y', '90', '900', '9000', '908', '91', '91 92', '91109', '919', '92', '93', '93 organization', '94', '94305', '95', '950', '96', '9600', '97', '9760', '9760 guest', '9760 login', '98', '99', '9c', '9d', '9f', '9f8', '9f9', '9f9f', '9g', '9l', '9l3', '9m', '9p', '9v', '9v g9v', '9z', 'a2', 'a3', 'a4', 'a7', 'a85', 'a86', 'a86 a86', 'a86 a86r', 'a86 lg', 'a865', 'a86r', 'a945', 'aa', 'aaa', 'aaron', 'aau', 'aau dk', 'ab', 'ab ca', 'ab4z', 'ab4z virginia', 'abandon', 'abc', 'abide', 'abide citizen', 'ability', 'able', 'able use', 'abo', 'abo fi', 'abolish', 'abort', 'abortion', 'abraham', 'abroad', 'absence', 'absolute', 'absolute truth', 'absolutely', 'abstract', 'absurd', 'absurdity', 'abuse', 'ac', 'ac il', 'ac nz', 'ac oakland', 'ac ohio', 'ac ucalgary', 'ac uk', 'ac za', 'acad', 'acad3', 'acad3 alaska', 'academic', 'academic computer', 'academy', 'acc', 'acc virginia', 'accelerate', 'acceleration', 'accelerator', 'accept', 'acceptable', 'acceptance', 'access', 'access digex', 'access online', 'access unix', 'accessory', 'accident', 'accidental', 'accompany', 'accomplish', 'accord', 'account', 'accuracy', 'accurate', 'accurately', 'accusation', 'accuse', 'ace', 'achieve', 'acid', 'acker', 'acknowledge', 'aclu', 'acm', 'acns', 'acns colostate', 'acns nwu', 'acpub', 'acpub duke', 'acquire', 'acquisition', 'acronym', 'acsu', 'acsu buffalo', 'act', 'action', 'active', 'actively', 'activist', 'activity', 'activity net', 'actual', 'actually', 'ad', 'adam', 'adam shostack', 'adams', 'adapt', 'adaptec', 'adapter', 'adaptor', 'adb', 'adcom', 'add', 'addition', 'additional', 'additive', 'address', 'adelaide', 'adequate', 'adirondack', 'adjust', 'adjustment', 'adl', 'admin', 'administration', 'administration official', 'administrative', 'administrator', 'admiral', 'admission', 'admit', 'admittedly', 'adobe', 'adobe com', 'adopt', 'adrian', 'adult', 'advance', 'advanced', 'advantage', 'adventure', 'advertise', 'advertising', 'advice', 'advise', 'advocate', 'ae', 'aerospace', 'af', 'af mil', 'affair', 'affect', 'affiliate', 'afford', 'afraid', 'africa', 'african', 'afterlife', 'aftermarket', 'afternoon', 'agate', 'agate berkeley', 'agdam', 'age', 'agency', 'agenda', 'agent', 'aggressive', 'agnostic', 'ago', 'agree', 'agreement', 'ah', 'ahead', 'ahf', 'ahl', 'ai', 'ai mit', 'ai uga', 'aid', 'aim', 'ain', 'air', 'air force', 'aircraft', 'airplane', 'airport', 'aisun3', 'aisun3 ai', 'aix', 'aj', 'ajz', 'ak', 'ak296', 'ak296 yfn', 'aka', 'al', 'ala', 'alabama', 'alan', 'alarm', 'alaska', 'alaska edu', 'albany', 'albert', 'alberta', 'albicans', 'alchemy', 'alchemy chem', 'alcohol', 'alex', 'alexander', 'algorithm', 'algorithm clipper', 'ali', 'alias', 'alice', 'alicea', 'alien', 'alike', 'alink', 'alink ksand', 'alive', 'allah', 'allan', 'allan schneider', 'alleg', 'alleg edu', 'allege', 'allen', 'allergic', 'allergy', 'allocate', 'allocation', 'allocation unit', 'allow', 'allow use', 'ally', 'almanac', 'alomar', 'alot', 'alpha', 'alt', 'alt atheism', 'alter', 'alternate', 'alternative', 'altitude', 'altogether', 'aludra', 'aludra usc', 'aluminum', 'alvin', 'ama', 'amanda', 'amanda intercon', 'amanda walker', 'amateur', 'amateur radio', 'amaze', 'amazing', 'amd', 'amdahl', 'amdahl com', 'amend', 'amendment', 'america', 'american', 'american edu', 'american express', 'american people', 'ames', 'ames ia', 'amherst', 'amherst edu', 'ami', 'amiga', 'ammo', 'ammunition', 'amour', 'amp', 'amplifier', 'amuse', 'ana', 'analog', 'analogy', 'analysis', 'analyst', 'analyze', 'anatolia', 'anchor', 'ancient', 'anderson', 'andi', 'andi beyer', 'andre', 'andre beck', 'andreas', 'andrew', 'andrew cmu', 'andy', 'andy bgsu', 'andy freeman', 'andy sail', 'anecdotal', 'anecdote', 'angel', 'angeles', 'angeles ca', 'anger', 'angle', 'angmar', 'angry', 'animal', 'animation', 'ankara', 'ann', 'ann arbor', 'announce', 'announcement', 'announcement clipper', 'announcer', 'annoy', 'annual', 'anon', 'anonymity', 'anonymous', 'anonymous ftp', 'anonymous posting', 'ansi', 'answer', 'answer question', 'antenna', 'anthony', 'anti', 'anti defamation', 'anti gun', 'anti semitism', 'antibiotic', 'antonio', 'anybody', 'anybody know', 'anymore', 'anytime', 'anyways', 'ao', 'aoj', 'aol', 'ap', 'ap mchp', 'apana', 'apana org', 'apart', 'apartment', 'apc', 'apc org', 'api', 'apollo', 'apollo hp', 'apologize', 'apology', 'apostle', 'app', 'app default', 'apparent', 'apparently', 'appeal', 'appear', 'appearance', 'apple', 'apple com', 'apple computer', 'applicable', 'application', 'applied', 'applies', 'apply', 'appoint', 'appointment', 'appreciate', 'appreciate help', 'appreciate thanks', 'appreciated', 'appreciated thanks', 'appressian', 'appressian 1919', 'approach', 'appropriate', 'approval', 'approve', 'approximately', 'apps', 'apr', 'apr 13', 'apr 14', 'apr 16', 'apr 1993', 'apr 93', 'april', 'april 15', 'april 18', 'april 19', 'april 1993', 'april 20', 'april 93', 'aq', 'ar', 'arab', 'arab state', 'arbitrary', 'arbor', 'arbor mi', 'arc', 'arc cco', 'arc nasa', 'archer', 'archie', 'architecture', 'archive', 'archive server', 'area', 'aren', 'arena', 'arens', 'arf', 'argc', 'argic', 'argic close', 'argic distribution', 'argic subject', 'args', 'argue', 'argument', 'argv', 'arise', 'arithmetic', 'arizona', 'arizona edu', 'arm', 'armed', 'armenia', 'armenia today', 'armenian', 'armenian government', 'armored', 'armory', 'army', 'army mil', 'arrange', 'arrangement', 'arras', 'array', 'arrest', 'arrive', 'arrogance', 'arrogance christian', 'arrogant', 'arromdee', 'art', 'art science', 'arthur', 'article', 'article 1993apr12', 'article 1993apr13', 'article 1993apr14', 'article 1993apr15', 'article 1993apr16', 'article 1993apr17', 'article 1993apr18', 'article 1993apr19', 'article 1993apr2', 'article 1993apr20', 'article 1993apr21', 'article 1993apr22', 'article 1993apr3', 'article 1993apr5', 'article 1993apr6', 'article apr', 'article news', 'artificial', 'artificial intelligence', 'artist', 'asala', 'ascii', 'asd', 'asd sgi', 'ashley', 'ashok', 'aside', 'ask', 'ask question', 'aspect', 'aspi4dos', 'assault', 'assault weapon', 'assemble', 'assembly', 'assert', 'assertion', 'assess', 'assessment', 'asshole', 'assign', 'assist', 'assistance', 'assistant', 'associate', 'association', 'assume', 'assumption', 'assure', 'ast', 'asteroid', 'astro', 'astronaut', 'astronomer', 'astronomical', 'astronomy', 'astros', 'asynchronous', 'atari', 'atf', 'atf burn', 'atheism', 'atheist', 'atheist organization', 'athena', 'athena mit', 'athena uga', 'athens', 'athens georgia', 'athens line', 'athos', 'athos rutgers', 'ati', 'ati ultra', 'atlanta', 'atlantaga', 'atlantaga ncr', 'atlantic', 'atlas', 'atm', 'atmosphere', 'atmospheric', 'atom', 'atomic', 'atrocity', 'att', 'att com', 'attach', 'attack', 'attack israel', 'attacker', 'attempt', 'attend', 'attendance', 'attention', 'attitude', 'attorney', 'attorney general', 'attractive', 'attribute', 'au', 'auburn', 'audience', 'audio', 'aug', 'august', 'aurora', 'aurora alaska', 'austin', 'austin austin', 'austin ibm', 'austin line', 'austin texas', 'austin tx', 'australia', 'australia line', 'australian', 'austria', 'authentication', 'author', 'authority', 'authorization', 'authorize', 'auto', 'automatic', 'automatic weapon', 'automatically', 'automobile', 'automotive', 'automotive concept', 'auvm', 'auvm american', 'av', 'avail', 'availability', 'available', 'available anonymous', 'available export', 'available ftp', 'available request', 'ave', 'avenue', 'average', 'aviation', 'avoid', 'aw', 'await', 'award', 'aware', 'awareness', 'away', 'awful', 'aws', 'ax', 'ax 1f', 'ax au', 'ax ax', 'ax max', 'ax qq', 'axe', 'axis', 'ay', 'az', 'azerbaijan', 'azerbaijani', 'azeri', 'b1', 'b2', 'b30', 'b30 ingr', 'b4q', 'b6', 'b8', 'b8e', 'b8f', 'b8f b4q', 'b8f b8e', 'b8f b8f', 'b8f b8g', 'b8f mb8f', 'b8g', 'b9r', 'ba', 'baalke', 'baalke kelvin', 'babb', 'baby', 'babylon', 'bach', 'background', 'backup', 'bacteria', 'bad', 'bad idea', 'bad thing', 'badly', 'baerga', 'bag', 'bailey', 'bait', 'bake', 'baker', 'baku', 'balance', 'balcony', 'ball', 'balloon', 'balltown', 'balltown cma', 'baltimore', 'ban', 'band', 'bandwidth', 'bang', 'bank', 'bank n3jxp', 'bank organization', 'bank subject', 'baptism', 'baptist', 'bar', 'barbara', 'bare', 'barely', 'barrel', 'barrier', 'barry', 'base', 'baseball', 'baseball player', 'bash', 'basic', 'basically', 'basil', 'basis', 'bass', 'bastard', 'bat', 'batch', 'batf', 'batf fbi', 'bath', 'bathroom', 'batman', 'batman bmd', 'batter', 'battery', 'battle', 'baud', 'bauer', 'bay', 'bay area', 'bayonet', 'bb', 'bbn', 'bbs', 'bc', 'bc ca', 'bc canada', 'bcstec', 'bcstec ca', 'bd', 'beach', 'beam', 'bean', 'bear', 'bear arm', 'bear jim', 'bearing', 'beast', 'beat', 'beauchaine', 'beautiful', 'beaverton', 'beaverton line', 'beck', 'beckman', 'bed', 'bedroom', 'bee', 'beep', 'beer', 'beg', 'begin', 'begin think', 'beginning', 'behalf', 'behanna', 'behanna syl', 'behave', 'behavior', 'behaviour', 'beleive', 'belief', 'believe', 'believe god', 'believe speak', 'believer', 'bell', 'bell labs', 'bell northern', 'bellcore', 'bellcore com', 'bellovin', 'belong', 'belt', 'ben', 'bench', 'benchmark', 'bend', 'benedikt', 'benedikt rosenau', 'benefit', 'berkeley', 'berkeley edu', 'berkeley line', 'berlin', 'bernard', 'berry', 'best', 'best offer', 'best way', 'bet', 'beta', 'beth', 'bethesda', 'better', 'betz', 'beware', 'beyer', 'bgsu', 'bgsu edu', 'bh', 'bhj', 'bhj bhj', 'bhj bj', 'bhj giz', 'bhj kn', 'bhjn', 'bi', 'bias', 'bible', 'bible say', 'bible teach', 'biblical', 'bicycle', 'bid', 'big', 'big brother', 'big deal', 'bigger', 'biggest', 'bigot', 'bih', 'bih harvard', 'bike', 'biker', 'bikers', 'bil', 'billboard', 'billion', 'billion dollar', 'billion year', 'billy', 'bin', 'binah', 'binah cc', 'binary', 'bind', 'binding', 'binghamton', 'biochemistry', 'biological', 'biology', 'bios', 'bird', 'birth', 'bishop', 'bison', 'bison mb', 'bit', 'bit block', 'bit color', 'bit key', 'bite', 'bitmap', 'bitnet', 'bitnet subject', 'biz', 'bizarre', 'bj', 'bk', 'bl', 'black', 'black hole', 'black white', 'blackhawks', 'blacksburg', 'blade', 'blah', 'blah blah', 'blame', 'blank', 'blanket', 'blast', 'blaze', 'bless', 'blind', 'blindly', 'block', 'blood', 'bloody', 'bloom', 'blow', 'blue', 'blue ci', 'blue jay', 'bm', 'bm com', 'bmd', 'bmd trw', 'bmp', 'bmp file', 'bmug', 'bmw', 'bn', 'bnr', 'bnr ca', 'bo', 'board', 'boat', 'bob', 'bob gainey', 'bobbe', 'bobbe vice', 'bobby', 'body', 'boeing', 'boeing com', 'boggs', 'boi', 'boi hp', 'bold', 'bolshevik', 'bolt', 'bomb', 'bomber', 'bombing', 'bond', 'bone', 'bontchev', 'bontchev fbihh', 'bony', 'bony com', 'bony1', 'bony1 bony', 'book', 'bookstore', 'boom', 'boomer', 'boost', 'booster', 'boot', 'border', 'bore', 'borland', 'born', 'borrow', 'bos', 'bosnia', 'boston', 'boston ma', 'boston university', 'bother', 'bottle', 'boulder', 'boulder line', 'bounce', 'bound', 'boundary', 'bowl', 'box', 'boy', 'boyle', 'boyle cactus', 'bp', 'bps', 'bq', 'br', 'br com', 'brad', 'brad clarinet', 'brad hernlem', 'brad templeton', 'bradley', 'bradley edu', 'brady', 'brain', 'brake', 'branch', 'branch davidians', 'brand', 'brand new', 'brandeis', 'brandeis edu', 'brandt', 'brave', 'bread', 'break', 'breaker', 'breast', 'breath', 'breathe', 'brendan', 'brent', 'breton', 'brett', 'brewer', 'brian', 'brian kendig', 'brick', 'bridge', 'brief', 'briefing', 'briefly', 'brigham', 'bright', 'brind', 'brind amour', 'bring', 'bristol', 'britain', 'british', 'british columbia', 'broad', 'broadcast', 'broken', 'brook', 'brookline', 'brookline ma', 'brother', 'broward', 'broward horne', 'brown', 'brown edu', 'bruce', 'bruin', 'brunel', 'bruno', 'brunswick', 'brute', 'brute force', 'bryan', 'bs0t', 'bskendig', 'bskendig netcom', 'bt', 'btw', 'bu', 'bu edu', 'bubblejet', 'buck', 'buddy', 'budget', 'buf', 'buffalo', 'buffalo edu', 'buffer', 'bug', 'build', 'build file', 'builder', 'building', 'bulb', 'bull', 'bullet', 'bulletin', 'bulletin board', 'bullock', 'bullpen', 'bullshit', 'bumper', 'bunch', 'bundle', 'buphy', 'buphy bu', 'burden', 'bure', 'bureau', 'bureau line', 'burn', 'burn dividian', 'burning', 'burst', 'bury', 'bus', 'bush', 'business', 'business uwo', 'bust', 'busy', 'butcher', 'butt', 'button', 'buy', 'buy car', 'buy new', 'buyer', 'buying', 'buzz', 'bv', 'bx', 'bxlt', 'bxn', 'bxn bxn', 'bxom', 'bye', 'byler', 'byte', 'byu', 'byu edu', 'bz', 'c0', 'c2', 'c4', 'c4u', 'c6', 'c650', 'c8', 'c8v', 'ca', 'ca 94305', 'ca boeing', 'ca gerald', 'ca line', 'ca mark', 'ca organization', 'ca roger', 'ca subject', 'ca wayne', 'ca write', 'cabin', 'cabinet', 'cable', 'cache', 'cacs', 'cacs usl', 'cactus', 'cactus org', 'cad', 'cadre', 'cadre dsl', 'cae', 'cae wisc', 'cage', 'cain', 'cal', 'calculate', 'calculation', 'calgary', 'calgary flame', 'caliber', 'calif', 'california', 'california berkeley', 'california institute', 'california irvine', 'california line', 'california los', 'callback', 'called', 'callison', 'callison uokmax', 'calm', 'calpoly', 'calpoly edu', 'calstate', 'calstate edu', 'caltech', 'caltech edu', 'calvin', 'cam', 'cam ac', 'cambridge', 'cambridge ma', 'camelot', 'camelot bradley', 'camera', 'camp', 'camp clarkson', 'campaign', 'campbell', 'campus', 'canada', 'canada line', 'canadian', 'canadiens', 'canberra', 'cancel', 'cancer', 'cancer center', 'candida', 'candida albicans', 'candidate', 'canon', 'canterbury', 'canuck', 'cap', 'capability', 'capable', 'capacitor', 'capacity', 'cape', 'capital', 'capitalist', 'captain', 'capture', 'car', 'caralv', 'card', 'card organization', 'carderock', 'cardinal', 'care', 'career', 'careful', 'carefully', 'carina', 'carina unm', 'carl', 'carleton', 'carleton ca', 'carlos', 'carnegie', 'carnegie mellon', 'carol', 'carolina', 'carolina chapel', 'caronni', 'carpenter', 'carrier', 'carry', 'carson', 'carson washington', 'cart', 'carter', 'cartridge', 'casbah', 'casbah acns', 'case', 'case case', 'case western', 'cash', 'casper', 'cassette', 'cast', 'castle', 'casualty', 'cat', 'catalog', 'catbyte', 'catbyte b30', 'catch', 'catcher', 'category', 'catholic', 'catholic church', 'cause', 'cause problem', 'cb', 'cb att', 'cbc', 'cbnewsj', 'cbnewsj cb', 'cc', 'cc brandeis', 'cc buffalo', 'cc columbia', 'cc lehigh', 'cc monash', 'cc purdue', 'cc rochester', 'cc ukans', 'cc utexas', 'cc vt', 'ccc', 'cci', 'ccit', 'ccit arizona', 'cco', 'cco caltech', 'ccu', 'ccu umanitoba', 'ccwf', 'ccwf cc', 'cd', 'cd player', 'cd rom', 'cdc', 'cdp', 'cdrom', 'cdt', 'cdt sw', 'ce', 'ce cwru', 'cease', 'cec', 'cec1', 'cec1 wustl', 'celebrate', 'celebration', 'cell', 'cellar', 'cellar org', 'cellular', 'cellular phone', 'censor', 'cent', 'centaur', 'center', 'center line', 'center policy', 'center regional', 'center university', 'centerline', 'centerline com', 'central', 'central sun', 'centre', 'centris', 'centris 610', 'centris 650', 'century', 'ceremonial', 'ceremony', 'cern', 'cern ch', 'certain', 'certainly', 'certainty', 'cf', 'ch', 'chain', 'chair', 'chairman', 'challenge', 'chamber', 'champ', 'champaign', 'champion', 'championship', 'chance', 'change', 'change mind', 'change oil', 'channel', 'chaos', 'chapel', 'chapel hill', 'chapter', 'char', 'character', 'characteristic', 'characterize', 'charge', 'charity', 'charles', 'charley', 'charlie', 'chart', 'charter', 'chase', 'chastity', 'chastity intellect', 'cheap', 'cheaper', 'cheat', 'check', 'check io', 'cheer', 'cheer kent', 'chelios', 'chem', 'chem utoronto', 'chemical', 'chemistry', 'chemistry department', 'chen', 'chen subject', 'cherry', 'chess', 'chess ncsu', 'chest', 'chevron', 'chevy', 'chi', 'chi il', 'chicago', 'chicago academic', 'chicago line', 'chief', 'child', 'chin', 'china', 'chinese', 'chip', 'chip crypto', 'chip encryption', 'chip use', 'chipset', 'cho', 'choice', 'choose', 'chop', 'chopin', 'chopin udel', 'chris', 'chris behanna', 'christ', 'christian', 'christian morality', 'christian organization', 'christianity', 'christians', 'christmas', 'christopher', 'chronic', 'chrysler', 'chuck', 'church', 'chz', 'chz chz', 'ci', 'ci ohio', 'ci pitt', 'cia', 'cica', 'cigarette', 'cincinnati', 'cipher', 'ciphertext', 'cipriani', 'circa', 'circle', 'circuit', 'circular', 'circumstance', 'cirrus', 'cit', 'cit cornell', 'cite', 'citizen', 'citizenship', 'city', 'civic', 'civil', 'civil liberty', 'civil right', 'civil war', 'civilian', 'civilization', 'cj', 'cj1', 'cjackson', 'ck', 'ck8', 'cl', 'cl msu', 'claim', 'claire', 'clara', 'claremont', 'claremont edu', 'clarification', 'clarify', 'clarinet', 'clarinet com', 'clark', 'clarke', 'clarkson', 'clarkson edu', 'clas', 'clas virginia', 'class', 'classic', 'classified', 'classify', 'clause', 'clayton', 'clayton cramer', 'clean', 'cleaner', 'clear', 'clearly', 'clemens', 'cleveland', 'cleveland freenet', 'cleveland oh', 'cleveland ohio', 'clever', 'clh', 'click', 'client', 'cliff', 'clinic', 'clinical', 'clinton', 'clinton administration', 'clinton gore', 'clip', 'clipper', 'clipper chip', 'clock', 'clock speed', 'clone', 'close', 'close road', 'closed', 'closely', 'closer', 'closest', 'clothes', 'cloud', 'club', 'clue', 'cluster', 'clutch', 'cm', 'cma', 'cma com', 'cmos', 'cmu', 'cmu edu', 'cmuvm', 'cn', 'cnn', 'cns', 'cnsvax', 'cnsvax uwec', 'cnt', 'coach', 'coalition', 'coast', 'coat', 'cobb', 'cobra', 'cocaine', 'cod', 'code', 'code good', 'coffee', 'coffey', 'cohen', 'coin', 'col', 'col hp', 'cold', 'cole', 'collaborator', 'collapse', 'colleague', 'collect', 'collection', 'collective', 'college', 'college engineering', 'college line', 'college park', 'collins', 'collision', 'colony', 'color', 'colorado', 'colorado boulder', 'colorado edu', 'colorado state', 'colormap', 'colormaps', 'colostate', 'colostate edu', 'colour', 'colt', 'columbia', 'columbia edu', 'columbia university', 'column', 'com', 'com alink', 'com amanda', 'com andrew', 'com article', 'com au', 'com believe', 'com bob', 'com brad', 'com brian', 'com chris', 'com clayton', 'com dan', 'com dave', 'com david', 'com don', 'com doug', 'com ed', 'com eric', 'com gary', 'com graham', 'com jack', 'com jake', 'com jim', 'com john', 'com jon', 'com ken', 'com kent', 'com larry', 'com line', 'com mark', 'com message', 'com michael', 'com mike', 'com newsreader', 'com nntp', 'com organization', 'com pat', 'com paul', 'com peter', 'com phil', 'com reply', 'com richard', 'com robert', 'com ron', 'com scott', 'com steve', 'com steven', 'com subject', 'com tavares', 'com tom', 'com uunet', 'com write', 'com1', 'com3', 'combat', 'combination', 'combine', 'come', 'come close', 'come know', 'come mind', 'come say', 'comet', 'comfort', 'comfortable', 'comic', 'comm', 'comm mot', 'command', 'command line', 'commander', 'commandment', 'comment', 'commentary', 'commerce', 'commercial', 'commercial space', 'commission', 'commit', 'commitment', 'committee', 'common', 'common sense', 'commonly', 'communicate', 'communication', 'communication greenbelt', 'communication service', 'communication usa', 'communist', 'community', 'comp', 'comp graphic', 'comp os2', 'comp sci', 'comp source', 'comp sys', 'comp window', 'compact', 'company', 'company cdt', 'compaq', 'comparable', 'compare', 'comparison', 'compartment', 'compassion', 'compatibility', 'compatible', 'compdyn', 'compdyn questor', 'compel', 'compete', 'competition', 'competitive', 'competitor', 'compile', 'compiler', 'complain', 'complaint', 'complete', 'completely', 'complex', 'complexity', 'compliance', 'complicate', 'complicated', 'comply', 'component', 'compose', 'composite', 'compound', 'comprehensive', 'compress', 'compressed', 'compression', 'comprise', 'compromise', 'compuserve', 'compuserve com', 'computation', 'compute', 'compute center', 'compute service', 'computer', 'computer center', 'computer corp', 'computer engineering', 'computer graphic', 'computer line', 'computer network', 'computer science', 'computer service', 'computing', 'conceal', 'concealed', 'concentrate', 'concentration', 'concept', 'concept time', 'conception', 'concern', 'concerned', 'concert', 'concise', 'conclude', 'conclusion', 'concordia', 'concordia ca', 'concrete', 'condemn', 'condition', 'conduct', 'conductor', 'cone', 'conference', 'confess', 'confidence', 'confidential', 'config', 'config sys', 'configuration', 'configure', 'confirm', 'conflict', 'confuse', 'confused', 'confusion', 'congress', 'congressional', 'connect', 'connection', 'connector', 'conner', 'connor', 'consensus', 'consent', 'consequence', 'conservative', 'consider', 'considerable', 'considerably', 'consideration', 'consist', 'consistent', 'consistently', 'console', 'consortium', 'conspiracy', 'constant', 'constantly', 'constellation', 'constitute', 'constitution', 'constitutional', 'constraint', 'construct', 'construction', 'consult', 'consultant', 'consume', 'consumer', 'consumption', 'cont', 'cont education', 'contact', 'contain', 'contemporary', 'contend', 'content', 'contest', 'contest rule', 'context', 'continental', 'continue', 'continuous', 'contract', 'contractor', 'contradict', 'contradiction', 'contradictory', 'contrary', 'contrast', 'contrib', 'contribute', 'contribution', 'contributor', 'control', 'control panel', 'controller', 'controller card', 'convenience', 'convenient', 'convention', 'conventional', 'conversation', 'conversion', 'convert', 'converter', 'convertible', 'convex', 'convex com', 'convex computer', 'convict', 'conviction', 'convince', 'cook', 'cookamunga', 'cookamunga tourist', 'cool', 'cool tower', 'cooling', 'cooper', 'cooperate', 'cooperation', 'coordinate', 'cop', 'copper', 'coprocessor', 'copy', 'copyright', 'cord', 'cordless', 'core', 'corn', 'cornell', 'cornell edu', 'corner', 'corp', 'corp hp', 'corp line', 'corp sgi', 'corporate', 'corporation', 'corporation line', 'corporation petaluma', 'corps', 'correct', 'correction', 'correctly', 'correspond', 'corrupt', 'corruption', 'cosmic', 'cosmo', 'cost', 'costly', 'couldn', 'council', 'count', 'counter', 'countersteering', 'country', 'county', 'couple', 'couple week', 'couple year', 'course', 'course don', 'court', 'court order', 'courtesy', 'courtnall', 'cousineau', 'cousineau compdyn', 'covenant', 'cover', 'coverage', 'covington', 'cow', 'cox', 'cp', 'cpr', 'cpr igc', 'cpr subject', 'cpsr', 'cpu', 'cr', 'crack', 'craft', 'craig', 'craig boyle', 'cramer', 'cramer opinion', 'cramer optilink', 'cramer subject', 'cramer uunet', 'cramer write', 'crap', 'crary', 'crash', 'crawl', 'cray', 'cray com', 'crazy', 'create', 'creation', 'creative', 'creator', 'creature', 'credit', 'creed', 'crew', 'crime', 'crime rate', 'criminal', 'cripple', 'crisis', 'criterion', 'critical', 'criticism', 'criticize', 'crl', 'crohn', 'crook', 'cross', 'cross link', 'crowd', 'crucial', 'cruel', 'cruise', 'cruiser', 'crux', 'cruz', 'crypt', 'cryptanalysis', 'crypto', 'crypto key', 'cryptographic', 'cryptography', 'cryptography faq', 'cryptology', 'cryptosystem', 'crystal', 'cs', 'csa', 'csc', 'csd', 'csd harris', 'csd unb', 'csd uwm', 'csd uwo', 'csd4', 'csd4 csd', 'cse', 'csiro', 'csn', 'csn org', 'cso', 'cso uiuc', 'csrc', 'csrc ncsl', 'ct', 'ctr', 'ctr columbia', 'ctrl', 'ctron', 'cu', 'cub', 'cub suck', 'cube', 'cube handheld', 'cult', 'cultural', 'culture', 'cunixa', 'cunixa cc', 'cunixb', 'cunixb cc', 'cunyvm', 'cup', 'cup hp', 'cup portal', 'cure', 'curious', 'current', 'current version', 'currently', 'curse', 'cursor', 'curt', 'curtis', 'curve', 'custom', 'customer', 'cut', 'cute', 'cv', 'cv hp', 'cview', 'cwru', 'cwru edu', 'cx', 'cx cx', 'cx scx', 'cy', 'cyberspace', 'cycle', 'cylinder', 'cypriot', 'cyprus', 'cz', 'czech', 'd012s658', 'd012s658 uucp', 'd1', 'd2', 'd3', 'd6', 'd6 a86', 'd8', 'd9', 'd9 1d9', 'da', 'dac', 'dad', 'daemon', 'daily', 'daker', 'dakota', 'dal', 'dal ca', 'dale', 'dallas', 'damage', 'damn', 'dan', 'dan sorenson', 'dance', 'danger', 'dangerous', 'daniel', 'danny', 'dante', 'dante nmsu', 'dare', 'darice', 'darice yoyo', 'darius', 'dark', 'darkness', 'darren', 'dartmouth', 'dartmouth edu', 'daryl', 'data', 'data transfer', 'database', 'date', 'daughter', 'dave', 'david', 'david david', 'david davidian', 'david koresh', 'david nye', 'david sternlight', 'david veal', 'davidian', 'davidian dbd', 'davidians', 'davidsson', 'davis', 'dawn', 'dawson', 'day', 'day ago', 'day day', 'day week', 'dayton', 'db', 'dbd', 'dbd urartu', 'dbstu1', 'dbstu1 rz', 'dc', 'dchhabra', 'dchhabra stpl', 'dcoleman', 'dd', 'dead', 'deadline', 'deadly', 'deal', 'dealer', 'dealership', 'dealy', 'dean', 'dear', 'death', 'death penalty', 'debate', 'debt', 'dec', 'dec com', 'decade', 'december', 'decenso', 'decent', 'decide', 'decision', 'decision make', 'deck', 'declaration', 'declare', 'decline', 'decnet', 'decode', 'decoder', 'decrease', 'decrypt', 'decryption', 'dedicate', 'dee', 'deed', 'deep', 'deepak', 'deeper', 'deeply', 'deer', 'defamation', 'defamation league', 'default', 'default file', 'defeat', 'defect', 'defence', 'defend', 'defense', 'defenseman', 'defensive', 'defensively', 'deficit', 'define', 'definite', 'definitely', 'definition', 'degree', 'deity', 'del', 'delaware', 'delay', 'delete', 'deletion', 'deliberately', 'deliver', 'delivery', 'delta', 'demand', 'demers', 'demo', 'democracy', 'democrat', 'democratic', 'demon', 'demon uk', 'demonstrate', 'demonstration', 'den', 'denial', 'denis', 'denizen', 'denning', 'dennis', 'density', 'denver', 'denver math', 'deny', 'department', 'department computer', 'department line', 'department stanford', 'depend', 'dependent', 'deposit', 'depression', 'deprive', 'dept', 'dept computer', 'dept line', 'dept math', 'depth', 'deputy', 'der', 'derek', 'derive', 'des', 'description', 'desert', 'deserve', 'design', 'designate', 'designer', 'desirable', 'desire', 'desire wright', 'desk', 'deskjet', 'desktop', 'desonia', 'despite', 'destroy', 'destruction', 'destructive', 'desy', 'det', 'detailed', 'detect', 'detection', 'detector', 'deter', 'determination', 'determine', 'detroit', 'dev', 'develop', 'developer', 'development', 'device', 'device use', 'devil', 'devote', 'dg', 'dg com', 'dh', 'di', 'diabetes', 'diablo', 'diagnose', 'diagnosis', 'diagram', 'dial', 'dialog', 'dialog box', 'diameter', 'diamond', 'dick', 'dictate', 'dictionary', 'didn', 'didn know', 'didn say', 'didn think', 'didn want', 'didn work', 'die', 'diego', 'diego ca', 'diet', 'dietz', 'diff', 'differ', 'difference', 'different', 'different thing', 'differential', 'differently', 'difficult', 'difficulty', 'dig', 'digest', 'digex', 'digex com', 'digex net', 'digit', 'digital', 'digital equipment', 'digitize', 'dillon', 'dimension', 'dimensional', 'dineen', 'dinner', 'dip', 'dir', 'direct', 'direction', 'directive', 'directly', 'director', 'directory', 'directory pub', 'dirt', 'dirty', 'dis', 'disable', 'disadvantage', 'disagree', 'disappear', 'disarm', 'disaster', 'disc', 'discharge', 'disciple', 'discipline', 'disclaimer', 'disclaimer apply', 'disclaimer message', 'disclaimer opinion', 'disclaimer posting', 'discount', 'discourage', 'discover', 'discovery', 'discredit', 'discriminate', 'discrimination', 'discuss', 'discussion', 'disease', 'disgust', 'disk', 'disk controller', 'disk drive', 'disk space', 'diskette', 'dislike', 'dismiss', 'disorder', 'display', 'disprove', 'dispute', 'disregard', 'distance', 'distant', 'distinction', 'distinguish', 'distortion', 'distribute', 'distribution', 'distribution comp', 'distribution inet', 'distribution na', 'distribution sci', 'distribution usa', 'distribution world', 'distributor', 'district', 'disturb', 'div', 'divide', 'dividian', 'dividian ranch', 'divine', 'division', 'division line', 'divorce', 'dixie', 'dixon', 'dj', 'dk', 'dl', 'dm', 'dma', 'dn', 'dna', 'doc', 'dock', 'doctor', 'doctrine', 'document', 'documentary', 'documentation', 'dod', 'dodge', 'dodger', 'doesn', 'doesn help', 'doesn know', 'doesn like', 'doesn make', 'doesn mean', 'doesn work', 'dog', 'dole', 'dollar', 'domain', 'domestic', 'domi', 'dominate', 'don', 'don agree', 'don ask', 'don believe', 'don care', 'don expect', 'don forget', 'don just', 'don know', 'don let', 'don like', 'don look', 'don make', 'don mean', 'don need', 'don read', 'don really', 'don recall', 'don remember', 'don speak', 'don tell', 'don think', 'don time', 'don try', 'don understand', 'don use', 'don want', 'don worry', 'donald', 'dont', 'doom', 'door', 'dorin', 'dorothy', 'dorothy denning', 'dortmund', 'dos6', 'dose', 'dot', 'double', 'doubt', 'doug', 'douglas', 'download', 'dozen', 'dp', 'dpi', 'dpy', 'dr', 'draft', 'drag', 'dragon', 'drain', 'drake', 'dram', 'dramatically', 'draw', 'draw line', 'drawing', 'dream', 'dresden', 'dress', 'drill', 'drink', 'drinking', 'drive', 'drive car', 'drive drive', 'driver', 'driver window', 'driving', 'drop', 'drug', 'drug dealer', 'drug use', 'drum', 'drunk', 'dry', 'dryden', 'dscomsa', 'dscomsa desy', 'dsd', 'dseg', 'dseg ti', 'dsg', 'dsg stanford', 'dsi', 'dsl', 'dsl pitt', 'dsp', 'dsu', 'dsu edu', 'dt', 'dt navy', 'dtmedin', 'dtmedin catbyte', 'du', 'du edu', 'dual', 'ducati', 'duck', 'duke', 'duke edu', 'dumb', 'dumbest', 'dumbest automotive', 'dump', 'dunn', 'dunno', 'duo', 'durham', 'dust', 'duty', 'dv', 'dwarner', 'dwyer', 'dwyer write', 'dx', 'dx2', 'dy', 'dyer', 'dynamic', 'e1', 'e145', 'ea', 'eagle', 'ear', 'earl', 'earlier', 'early', 'earn', 'earth', 'earth orbit', 'ease', 'easier', 'easily', 'east', 'east sun', 'easter', 'eastern', 'easy', 'eat', 'eau', 'eau claire', 'ec', 'ece', 'ecf', 'echo', 'eclipse', 'ecn', 'ecn purdue', 'ecn uoknor', 'econ', 'economic', 'economics', 'economy', 'ed', 'ed ac', 'ed green', 'eddie', 'edge', 'edinburgh', 'edit', 'edition', 'editor', 'editorial', 'edm', 'edmonton', 'edt', 'edu', 'edu 128', 'edu aaron', 'edu andi', 'edu andrew', 'edu andy', 'edu article', 'edu au', 'edu brad', 'edu brian', 'edu broward', 'edu charles', 'edu chris', 'edu christopher', 'edu contrib', 'edu dan', 'edu daniel', 'edu dave', 'edu david', 'edu distribution', 'edu doug', 'edu douglas', 'edu edward', 'edu eric', 'edu frank', 'edu gary', 'edu george', 'edu gordon', 'edu greg', 'edu gregg', 'edu henry', 'edu hi', 'edu high', 'edu james', 'edu jason', 'edu jeff', 'edu jim', 'edu john', 'edu jon', 'edu jonathan', 'edu joseph', 'edu keith', 'edu ken', 'edu kenneth', 'edu kevin', 'edu keywords', 'edu line', 'edu marc', 'edu mark', 'edu matthew', 'edu message', 'edu michael', 'edu mike', 'edu mr', 'edu news', 'edu newsreader', 'edu nntp', 'edu organization', 'edu originator', 'edu paul', 'edu peter', 'edu previous', 'edu pub', 'edu remember', 'edu reply', 'edu richard', 'edu robert', 'edu roby', 'edu roger', 'edu ryan', 'edu say', 'edu scott', 'edu shameful', 'edu stephen', 'edu steve', 'edu steven', 'edu subject', 'edu summary', 'edu ted', 'edu thanks', 'edu theodore', 'edu tim', 'edu tom', 'edu tony', 'edu tw', 'edu university', 'edu utzoo', 'edu william', 'edu write', 'edu writes', 'edu xpert', 'educate', 'education', 'education info', 'educational', 'edward', 'edward ted', 'ee', 'eec', 'eff', 'eff org', 'effect', 'effective', 'effectively', 'effectiveness', 'efficient', 'effort', 'ega', 'egalon', 'egg', 'egreen', 'egreen east', 'egypt', 'egyptian', 'eh', 'ehrlich', 'ei', 'ei0l', 'einstein', 'eis', 'eis calstate', 'eisa', 'eklund', 'el', 'elaborate', 'elect', 'election', 'electric', 'electrical', 'electrical computer', 'electrical engineering', 'electricity', 'electron', 'electronic', 'electronic mail', 'electronically', 'electronics', 'element', 'elevator', 'eli', 'elia', 'eliminate', 'eliot', 'elite', 'elizabeth', 'em', 'emacs', 'email', 'email address', 'embargo', 'embed', 'embrace', 'emerge', 'emergency', 'emm386', 'emotion', 'emotional', 'emphasis', 'emphasize', 'empire', 'empirical', 'employ', 'employee', 'employer', 'employer opinion', 'employment', 'emulator', 'en', 'enable', 'enclose', 'encode', 'encore', 'encore com', 'encounter', 'encourage', 'encrypt', 'encrypted', 'encryption', 'encryption algorithm', 'encryption device', 'encryption scheme', 'encryption technology', 'encyclopedia', 'end', 'end end', 'endor', 'endorse', 'enemy', 'energy', 'enet', 'enet dec', 'enforce', 'enforcement', 'enforcement agency', 'eng', 'eng sun', 'eng umd', 'engage', 'engin', 'engin umich', 'engine', 'engineer', 'engineering', 'engineering carnegie', 'engineering computer', 'engineering line', 'england', 'english', 'engr', 'engr latech', 'enhance', 'enhancement', 'enjoy', 'enlighten', 'enormous', 'ensure', 'enter', 'enterpoop', 'enterpoop mit', 'enterprise', 'enterprise bih', 'entire', 'entirely', 'entitle', 'entity', 'entry', 'entry output', 'envelope', 'environment', 'environmental', 'enzo', 'eof', 'eof ok', 'eos', 'eos ncsu', 'ep', 'epa', 'episode', 'eq', 'equal', 'equally', 'equation', 'equip', 'equipment', 'equivalent', 'er', 'era', 'ergo', 'eric', 'erich', 'erics', 'ericsson', 'ericsson se', 'erik', 'error', 'error message', 'erzurum', 'es', 'esa', 'escape', 'escape turk', 'escrow', 'escrow agency', 'escrow house', 'escrowed', 'esd', 'esdi', 'eskimo', 'eskimo com', 'esp', 'especially', 'espn', 'essence', 'essential', 'essentially', 'est', 'establish', 'establishment', 'estimate', 'et', 'et al', 'eternal', 'eternal life', 'eternity', 'ether', 'ethernet', 'ethic', 'ethical', 'ethnic', 'ethz', 'ethz ch', 'eu', 'eugene', 'euro', 'europe', 'european', 'european nhl', 'evaluate', 'evaluation', 'evangelical', 'evans', 'evans sutherland', 'eve', 'evening', 'event', 'eventually', 'everybody', 'everyday', 'evidence', 'evil', 'evolution', 'evolve', 'ex', 'exact', 'exactly', 'examination', 'examine', 'example', 'exceed', 'excel', 'excellent', 'excellent condition', 'exception', 'excerpt', 'excess', 'excessive', 'exchange', 'exciting', 'exclude', 'exclusive', 'exclusively', 'excuse', 'exe', 'exec', 'execute', 'execution', 'executive', 'exercise', 'exhaust', 'exhibit', 'exist', 'exist single', 'existance', 'existence', 'existence god', 'existent', 'exists', 'exit', 'exnet', 'expand', 'expansion', 'expect', 'expectation', 'expense', 'expensive', 'experience', 'experiment', 'experimental', 'expert', 'expire', 'explain', 'explanation', 'explicit', 'explicitly', 'explode', 'exploit', 'exploration', 'explore', 'explorer', 'explosion', 'explosive', 'expo', 'expo lcs', 'export', 'export lcs', 'expose', 'expose event', 'exposure', 'express', 'express access', 'express card', 'express user', 'expression', 'ext', 'extend', 'extended', 'extension', 'extensive', 'extent', 'exterminate', 'extermination', 'extermination ohanus', 'external', 'extra', 'extract', 'extreme', 'extremely', 'eye', 'ez', 'f0', 'f1', 'f3', 'f7', 'f9d', 'f9f9', 'face', 'facility', 'fact', 'factor', 'factory', 'factory com', 'fail', 'failed', 'failure', 'fair', 'fairbanks', 'fairly', 'faith', 'fake', 'fall', 'fallacy', 'false', 'fame', 'familiar', 'family', 'famous', 'fan', 'fanatic', 'fancy', 'fantasy', 'faq', 'faq post', 'far', 'far away', 'far know', 'farm', 'fascist', 'fashion', 'fast', 'faster', 'fastest', 'fat', 'fatal', 'fate', 'father', 'father son', 'fault', 'favor', 'favorite', 'fax', 'fax 49', 'fax modem', 'fbi', 'fbi murder', 'fbihh', 'fbihh informatik', 'fc', 'fc hp', 'fd', 'fdz', 'fear', 'feasible', 'feature', 'feb', 'february', 'fed', 'federal', 'federal government', 'federalist', 'federalist paper', 'fee', 'feed', 'feedback', 'feel', 'feel free', 'feel like', 'feel way', 'feeling', 'fell', 'fellow', 'felt', 'female', 'fence', 'ferguson', 'fermi', 'feustel', 'fewer', 'ff', 'fg', 'fi', 'fiction', 'fido', 'fido asd', 'fidonet', 'fidonet org', 'field', 'fifth', 'fight', 'fighter', 'figure', 'fij', 'fij fij', 'file', 'file format', 'file stream', 'file use', 'filename', 'film', 'filter', 'fin', 'final', 'final solution', 'finally', 'finance', 'financial', 'finding', 'fine', 'finger', 'finish', 'finland', 'finnish', 'firearm', 'firm', 'firmly', 'fischer', 'fish', 'fisher', 'fist', 'fit', 'fix', 'fix problem', 'fixed', 'fj', 'fl', 'flag', 'flame', 'flash', 'flat', 'flavor', 'flaw', 'flee', 'fleet', 'flesh', 'flexible', 'flight', 'flight center', 'flip', 'float', 'flood', 'floor', 'floppy', 'floppy disk', 'floppy drive', 'florida', 'flow', 'fluid', 'fluke', 'fly', 'flyer', 'fm', 'fnal', 'fnal fnal', 'fnal gov', 'fnalf', 'fnalf fnal', 'focus', 'fold', 'folk', 'follow', 'follower', 'following', 'followup', 'font', 'foo', 'food', 'fool', 'foolish', 'foot', 'football', 'forbid', 'force', 'ford', 'ford com', 'foreign', 'forest', 'forever', 'forge', 'forget', 'forgive', 'fork', 'form', 'formal', 'format', 'formation', 'formula', 'forsale', 'fort', 'forth', 'fortran', 'fortunately', 'forum', 'forward', 'foster', 'foul', 'foundation', 'founder', 'fourth', 'fox', 'fp', 'fprintf', 'fprintf output', 'fprintf stderr', 'fpu', 'fr', 'fractal', 'fraction', 'frame', 'framework', 'france', 'franchise', 'francis', 'francisco', 'frank', 'frank crary', 'frank d012s658', 'frank dwyer', 'franklin', 'frankly', 'fraser', 'fraser sfu', 'fraud', 'fred', 'fred mccall', 'fred rice', 'frederick', 'free', 'free state', 'freedom', 'freedom speech', 'freely', 'freeman', 'freenet', 'freenet carleton', 'freenet edu', 'freeway', 'freeze', 'french', 'frequency', 'frequent', 'frequently', 'frequently ask', 'fresh', 'freshman', 'fri', 'fri 16', 'friday', 'friend', 'friendly', 'fringe', 'frog', 'frontier', 'frost', 'fruit', 'fry', 'fsu', 'fsu edu', 'ft', 'ftp', 'ftp ftp', 'ftp site', 'fuck', 'fuel', 'fuhr', 'fujitsu', 'fulfil', 'fulfill', 'fulk', 'fuller', 'fully', 'fun', 'function', 'functionality', 'fund', 'fundamental', 'fundamentalist', 'funding', 'funny', 'furthermore', 'fuse', 'fusion', 'future', 'fuzzy', 'fw', 'fx', 'fy', 'fyn', 'g4', 'g6', 'g9', 'g9p', 'g9v', 'g9v g9v', 'g9v mg9v', 'ga', 'gadget', 'gain', 'gainey', 'galaxy', 'galileo', 'galley', 'game', 'game play', 'gamma', 'gamma ray', 'gang', 'gang member', 'gap', 'gap caltech', 'garage', 'garbage', 'garden', 'gardner', 'garnet', 'garrett', 'gary', 'gary dare', 'gas', 'gate', 'gatech', 'gatech edu', 'gateway', 'gateway line', 'gather', 'gay', 'gay percentage', 'gaza', 'gazans', 'gb', 'gballent', 'gc', 'gcc', 'gcx', 'gd', 'ge', 'gear', 'geb', 'geb cadre', 'geb pitt', 'gec', 'gee', 'gem', 'gen', 'gen nz', 'gene', 'general', 'generally', 'generate', 'generation', 'generator', 'generic', 'genesis', 'genesis mc', 'genetic', 'geneva', 'geneva rutgers', 'genius', 'genocide', 'genocide million', 'gentile', 'geoff', 'geoffrey', 'geometry', 'george', 'george bush', 'georgetown', 'georgetown edu', 'georgia', 'georgia 30602', 'georgia athens', 'georgia institute', 'gerald', 'gerald olchowy', 'gerard', 'german', 'germany', 'germany line', 'gerry', 'gf', 'gfci', 'gfx', 'gfx vpic46', 'ghetto', 'ghj', 'ghost', 'gi', 'giant', 'gibson', 'gif', 'gif file', 'gifs', 'gift', 'gilbert', 'gilmour', 'girl', 'girlfriend', 'giz', 'giz bhj', 'giz giz', 'giz gk', 'gizw', 'gk', 'gk 1t', 'gk wt', 'gl', 'glad', 'glass', 'gld', 'gld cunixb', 'glen', 'glenn', 'global', 'glock', 'glory', 'glove', 'glutamate', 'gm', 'gmt', 'gmt article', 'gmt line', 'gmt nntp', 'gmt organization', 'gmt reply', 'gnu', 'gnu ai', 'gnv', 'gnv ifas', 'goal', 'goalie', 'goaltender', 'god', 'god exist', 'god god', 'god know', 'god love', 'god promise', 'god say', 'god want', 'goddard', 'golchowy', 'golchowy alchemy', 'gold', 'golden', 'golf', 'gon', 'gon na', 'good', 'good bad', 'good book', 'good condition', 'good deal', 'good idea', 'good job', 'good luck', 'good organization', 'good people', 'good player', 'good point', 'good reason', 'good thing', 'good way', 'gordon', 'gordon bank', 'gore', 'gospel', 'gothamcity', 'gothamcity jsc', 'gov', 'gov article', 'gov ron', 'gov subject', 'gov write', 'goverment', 'govern', 'government', 'government agency', 'governor', 'govt', 'gozer', 'gp', 'gps', 'gq', 'gr', 'grab', 'grace', 'grad', 'grade', 'graduate', 'graduate student', 'grady', 'graham', 'graham toal', 'grain', 'grand', 'grant', 'graph', 'graphic', 'graphic card', 'graphic library', 'graphical', 'grasp', 'grass', 'grateful', 'grave', 'gravity', 'gray', 'grayscale', 'great', 'great deal', 'greater', 'greatest', 'greatly', 'greatly appreciate', 'greatly appreciated', 'greece', 'greek', 'green', 'greenbelt', 'greenbelt md', 'greeting', 'greg', 'gregg', 'gregg jaeger', 'gregory', 'grenade', 'gretzky', 'grey', 'grief', 'grind', 'grip', 'gross', 'ground', 'ground wire', 'grounding', 'group', 'group line', 'group pa146008', 'group people', 'grow', 'growth', 'gsfc', 'gsfc nasa', 'gt', 'gtd597a', 'gtd597a prism', 'gtoal', 'gtoal com', 'gtoal gtoal', 'gu', 'guarantee', 'guard', 'guday', 'guerilla', 'guess', 'guest', 'guest line', 'gui', 'guide', 'guideline', 'guild', 'guild org', 'guilt', 'guilty', 'guitar', 'gulf', 'gun', 'gun control', 'gun law', 'gun like', 'gun owner', 'guru', 'gut', 'guy', 'gw', 'gwu', 'gwu edu', 'gx', 'gy', 'h0', 'h7', 'ha', 'habit', 'habs', 'hack', 'hacker', 'hades', 'hadn', 'haines', 'hair', 'hal', 'halat', 'halat pooh', 'halcyon', 'half', 'halifax', 'hall', 'hall fame', 'hallam', 'hallam baker', 'ham', 'hamas', 'hamburg', 'hamilton', 'hammer', 'hammerl', 'hampshire', 'han', 'hand', 'hand hold', 'handbook', 'handgun', 'handheld', 'handheld com', 'handle', 'handler', 'handling', 'handy', 'hang', 'happen', 'happiness', 'happy', 'har', 'hard', 'hard believe', 'hard disk', 'hard drive', 'hard time', 'harddisk', 'harder', 'hardly', 'hardware', 'hardware software', 'hardy', 'harley', 'harm', 'harmful', 'harold', 'harris', 'harris com', 'harry', 'hart', 'hartford', 'harvard', 'harvard edu', 'harvard university', 'harvey', 'hasan', 'hash', 'hasn', 'hassle', 'hat', 'hate', 'hatred', 'haven', 'hawaii', 'hawaii edu', 'hawk', 'hay', 'hayes', 'hazard', 'hb', 'hcf', 'hcf jhu', 'hci', 'hd', 'hdd', 'head', 'headache', 'header', 'headquarters', 'heal', 'healta', 'health', 'health care', 'health insurance', 'healthy', 'healy', 'hear', 'heard', 'hearing', 'heart', 'heart rri', 'heat', 'heaven', 'heavily', 'heavy', 'hebrew', 'heck', 'heh', 'height', 'hela', 'hela ins', 'helicopter', 'hell', 'hell organization', 'hellman', 'hello', 'helmet', 'help', 'help appreciate', 'help greatly', 'help need', 'help organization', 'helpful', 'helsinki', 'hendricks', 'henrik', 'henry', 'henry spencer', 'henry zoo', 'hercules', 'heresy', 'hernandez', 'hernlem', 'hernlem chess', 'hero', 'het', 'heterosexual', 'hewlett', 'hewlett packard', 'hey', 'hezbollah', 'hi', 'hicnet', 'hicnet medical', 'hidden', 'hide', 'hierarchy', 'higgins', 'high', 'high end', 'high just', 'high performance', 'high quality', 'high school', 'high speed', 'high tech', 'higher', 'highest', 'highlight', 'highly', 'highway', 'hill', 'hint', 'hip', 'hiram', 'hiram edu', 'hire', 'hispanic', 'historian', 'historical', 'historically', 'history', 'hit', 'hite', 'hitler', 'hitter', 'hiv', 'hj', 'hk', 'hl', 'hm', 'hmm', 'hmmm', 'ho', 'hockey', 'hockey league', 'hold', 'holder', 'hole', 'holland', 'holland colostate', 'holocaust', 'holy', 'holy spirit', 'home', 'home run', 'homeland', 'homeopathy', 'homer', 'homicide', 'homosexual', 'homosexuality', 'honda', 'honest', 'honestly', 'honeywell', 'hong', 'honor', 'honour', 'hood', 'hook', 'hop', 'hope', 'hope help', 'hopefully', 'hopkins', 'hopkins university', 'hopper', 'horizontal', 'horn', 'horne', 'horrible', 'horror', 'horse', 'horus', 'horus ap', 'hospital', 'host', 'host access', 'host carson', 'host cunixb', 'host enterpoop', 'host hela', 'host magnusug', 'host punisher', 'host solntze', 'host thor', 'host utexas', 'hostile', 'hostility', 'hot', 'hotel', 'hou', 'hour', 'house', 'house announcement', 'house office', 'housing', 'houston', 'houston tx', 'howard', 'howe', 'howland', 'hp', 'hp com', 'hpcc01', 'hq', 'hr', 'hrivnak', 'hst', 'ht', 'hub', 'hudson', 'hudson uvic', 'huge', 'hughes', 'huh', 'huji', 'huji ac', 'hulk', 'hull', 'hulman', 'hulman edu', 'human', 'human right', 'humanitarian', 'humanity', 'humor', 'hung', 'hunt', 'hunter', 'huntsville', 'huntsville al', 'huot', 'hurt', 'husband', 'hussein', 'hut', 'hut fi', 'hv', 'hw', 'hydra', 'hydra gatech', 'hydro', 'hydro ca', 'hype', 'hypothesis', 'hz', 'hzv', 'i0l', 'i1', 'i3150101', 'i3150101 dbstu1', 'i4', 'ia', 'ian', 'iastate', 'iastate edu', 'ibm', 'ibm austin', 'ibm com', 'ibm pc', 'ic', 'ic sunysb', 'ic uci', 'ice', 'ico', 'ico tek', 'icon', 'id', 'ida', 'idacom', 'idaho', 'idbsu', 'idbsu edu', 'ide', 'ide controller', 'ide drive', 'ide scsi', 'idea', 'ideal', 'identical', 'identification', 'identify', 'identity', 'ideology', 'idf', 'idiot', 'idle', 'ieee', 'ifas', 'ifas ufl', 'ifi', 'ifi uio', 'igc', 'igc apc', 'ignite', 'ignition', 'ignorance', 'ignorant', 'ignore', 'igor', 'ihl', 'ii', 'iii', 'iisi', 'ij', 'ik', 'il', 'il line', 'ill', 'illegal', 'illinois', 'illinois chicago', 'illinois urbana', 'illness', 'illusion', 'illustrate', 'im', 'imag', 'image', 'image file', 'image processing', 'imagination', 'imagine', 'imake', 'imho', 'immaculate', 'immediate', 'immediately', 'immoral', 'immune', 'immunization', 'imo', 'impact', 'implement', 'implementation', 'implication', 'imply', 'import', 'importance', 'important', 'impose', 'impossible', 'impress', 'impressed', 'impression', 'impressive', 'improve', 'improvement', 'impulse', 'incapable', 'incentive', 'inch', 'incident', 'include', 'income', 'incoming', 'incompatible', 'incorporate', 'incorrect', 'increase', 'increasingly', 'incredible', 'incredibly', 'independence', 'independent', 'independently', 'index', 'indian', 'indiana', 'indiana edu', 'indiana university', 'indicate', 'indication', 'individual', 'individual right', 'industrial', 'industry', 'inet', 'inevitable', 'inexpensive', 'inf', 'inf tu', 'infallible', 'infant', 'infante', 'infection', 'infectious', 'infinite', 'inflammation', 'inflammatory', 'inflatable', 'inflict', 'influence', 'info', 'info file', 'info service', 'inform', 'informatik', 'informatik uni', 'information', 'infrared', 'infrastructure', 'infringe', 'ingr', 'ingr com', 'ingredient', 'ingres', 'ingres com', 'inhabitant', 'inherent', 'inherently', 'ini', 'ini file', 'iniquity', 'init', 'initial', 'initially', 'initiate', 'initiative', 'inject', 'injection', 'injure', 'injury', 'ink', 'inner', 'inning', 'innocent', 'innocent people', 'input', 'inquire', 'inquiry', 'inria', 'ins', 'ins cwru', 'insane', 'insert', 'inside', 'insight', 'insist', 'inspection', 'inspector', 'inspire', 'instal', 'install', 'installation', 'instance', 'instant', 'instead', 'institute', 'institute line', 'institute technology', 'institution', 'instruct', 'instruction', 'instruction set', 'instrument', 'insulation', 'insult', 'insurance', 'insurance company', 'insure', 'int', 'intake', 'integer', 'integra', 'integrate', 'integration', 'intel', 'intel com', 'intellect', 'intellect geb', 'intellectual', 'intelligence', 'intelligence program', 'intelligent', 'intend', 'intense', 'intensive', 'intent', 'intention', 'intentional', 'intentionally', 'interaction', 'interactive', 'intercept', 'intercon', 'intercon com', 'intercon corporation', 'interested', 'interesting', 'interface', 'interfere', 'interference', 'intergraph', 'interior', 'interleave', 'internal', 'international', 'international law', 'international space', 'internet', 'internet line', 'interpret', 'interpretation', 'interrupt', 'intersection', 'interval', 'intervention', 'interview', 'intrinsics', 'introduce', 'introduction', 'invade', 'invalid', 'invasion', 'invent', 'invest', 'investigate', 'investigation', 'investigator', 'investment', 'investor', 'invite', 'invoke', 'involve', 'involvement', 'io', 'io output', 'ioccc', 'iowa', 'iowa state', 'ip', 'ipser', 'ipx', 'iq', 'ir', 'ira', 'iran', 'iranian', 'iraq', 'iraqi', 'ireland', 'iron', 'irq', 'irrational', 'irrelevant', 'irs', 'irvine', 'irzr17', 'irzr17 inf', 'isa', 'isa bus', 'isaiah', 'isbn', 'isc', 'isc br', 'isc rit', 'isi', 'isi edu', 'islam', 'islamic', 'islamic law', 'island', 'islander', 'isle', 'isn', 'israel', 'israeli', 'israeli government', 'israeli press', 'israeli soldier', 'israelite', 'issue', 'istanbul', 'ists', 'ists ca', 'isu', 'italy', 'itc', 'itd', 'item', 'iti', 'iti org', 'iv', 'ix', 'j1', 'j3', 'j6', 'jack', 'jack morris', 'jacket', 'jackson', 'jacob', 'jaeger', 'jaeger buphy', 'jagr', 'jail', 'jake', 'jake bony1', 'jake livni', 'jam', 'james', 'james callison', 'jamie', 'jan', 'janet', 'january', 'japan', 'japanese', 'jason', 'jason kratz', 'jay', 'jayne', 'jb', 'jbrown', 'jc', 'jd', 'je', 'jean', 'jeep', 'jeff', 'jefferson', 'jeffrey', 'jeremy', 'jerk', 'jerry', 'jersey', 'jerusalem', 'jesus', 'jesus christ', 'jesus say', 'jet', 'jet propulsion', 'jew', 'jewish', 'jewish baseball', 'jewish people', 'jews', 'jhu', 'jhu edu', 'jhunix', 'jhunix hcf', 'jim', 'jim arras', 'jim frost', 'jim halat', 'jim zisfein', 'jimf', 'jimf centerline', 'jimmy', 'jj', 'jl', 'jmd', 'jmd cube', 'job', 'jockey', 'jody', 'jody levine', 'joe', 'joel', 'john', 'john daker', 'john hopkins', 'johnson', 'johnston', 'join', 'joint', 'joke', 'jon', 'jon livesey', 'jon noring', 'jonas', 'jonathan', 'jones', 'jordan', 'jose', 'joseph', 'josh', 'josh hopkins', 'joshua', 'joslin', 'journal', 'journalism', 'journalism indiana', 'journalist', 'joy', 'joystick', 'jp', 'jpeg', 'jpl', 'jpl nasa', 'jr', 'jr subject', 'jrm', 'jrm gnv', 'jsc', 'jsc nasa', 'jt', 'juda', 'judaism', 'judge', 'judgement', 'judgment', 'julie', 'july', 'jumbo', 'jump', 'jumper', 'june', 'junior', 'junk', 'jupiter', 'jur', 'jurisdiction', 'jury', 'just', 'just buy', 'just curious', 'just don', 'just fine', 'just good', 'just happen', 'just jack', 'just like', 'just little', 'just look', 'just make', 'just opinion', 'just plain', 'just say', 'just think', 'just try', 'just use', 'just want', 'just wonder', 'just work', 'justice', 'justifiable', 'justification', 'justified', 'justify', 'jz', 'k1', 'k2', 'k4', 'k5', 'k8', 'k8v', 'ka', 'kadie', 'kaldis', 'kansa', 'kansa city', 'karabagh', 'karabakh', 'karina', 'karl', 'karr', 'kb', 'kc', 'ke', 'ke4zv', 'keenan', 'keeper', 'keith', 'keith allan', 'keith cco', 'keith keller', 'keith ryan', 'keller', 'kelly', 'kelvin', 'kelvin jpl', 'ken', 'ken arromdee', 'kendig', 'kennedy', 'kenneth', 'kent', 'kent apple', 'kent sandvik', 'kentucky', 'kernel', 'kevin', 'key', 'key available', 'key cryptography', 'key escrow', 'keyboard', 'keywords', 'kfu', 'kfu com', 'kg', 'kh', 'khan', 'khf', 'khomeini', 'khz', 'ki', 'kick', 'kid', 'kidney', 'kill', 'kill people', 'killer', 'killing', 'kim', 'kimbark', 'kimbark uchicago', 'kind', 'kinda', 'king', 'kingdom', 'kingdom heaven', 'kingman', 'kingston', 'kipling', 'kipling henry', 'kirk', 'kiss', 'kit', 'kitchen', 'kj', 'kjz', 'kk', 'kkeller', 'kkeller mail', 'kl', 'km', 'kmr4', 'kmr4 po', 'kn', 'knee', 'knife', 'knight', 'knock', 'know', 'know believe', 'know better', 'know don', 'know god', 'know good', 'know happen', 'know just', 'know know', 'know ll', 'know lot', 'know make', 'know people', 'know problem', 'know say', 'know sure', 'know talk', 'know thanks', 'know thing', 'know think', 'know truth', 'know use', 'know ve', 'know work', 'knowledge', 'knowledgeable', 'known', 'kodak', 'kolstad', 'kong', 'koresh', 'koufax', 'kp', 'kpc', 'kpc com', 'kr', 'kratz', 'kratz u28037', 'krillean', 'ksand', 'ksand private', 'ksu', 'ksu edu', 'ksu ksu', 'kt', 'kth', 'kth se', 'ku', 'kuhub', 'kuhub cc', 'kulikauskas', 'kurd', 'kurdish', 'kurt', 'ky', 'kyle', 'l4', 'la', 'lab', 'lab line', 'label', 'labor', 'laboratory', 'laboratory line', 'labs', 'lack', 'lady', 'lafayette', 'lake', 'lamb', 'lamont', 'lamp', 'lan', 'lance', 'lance colostate', 'land', 'landing', 'landon', 'lane', 'lang', 'langley', 'langley research', 'language', 'lap', 'laptop', 'larc', 'larc nasa', 'large', 'large number', 'largely', 'larger', 'largest', 'larry', 'larry cipriani', 'larson', 'laser', 'laser printer', 'laserwriter', 'late', 'latech', 'latech edu', 'lately', 'later', 'latest', 'latest version', 'latin', 'laugh', 'laughter', 'launch', 'launch vehicle', 'launcher', 'laurentian', 'laurentian ca', 'law', 'law abide', 'law enforcement', 'lawrence', 'lawyer', 'lay', 'layer', 'layout', 'lazarus', 'lb', 'lbl', 'lc', 'lc iii', 'lcd', 'lciii', 'lcs', 'lcs mit', 'ld', 'lds', 'le', 'lead', 'leader', 'leadership', 'leaf', 'league', 'leak', 'lean', 'leap', 'learn', 'learning', 'leather', 'leave', 'lebanese', 'lebanon', 'lee', 'lee subject', 'leech', 'lefebvre', 'left', 'left hand', 'leg', 'legal', 'legality', 'legalize', 'legally', 'legend', 'legislation', 'legislative', 'legitimate', 'lehigh', 'lehigh edu', 'lehigh university', 'leland', 'leland stanford', 'lemieux', 'lemon', 'len', 'length', 'lens', 'leo', 'leonard', 'lerc', 'lerc nasa', 'lesson', 'let', 'let know', 'let say', 'lethal', 'letter', 'level', 'levine', 'levy', 'lewis', 'lewis research', 'lf', 'lg', 'lh', 'lhz', 'li', 'li uiuc', 'liability', 'liar', 'lib', 'lib x11', 'lib xmu', 'liberal', 'liberation', 'libertarian', 'liberty', 'library', 'libxmu', 'licence', 'license', 'licensing', 'lie', 'life', 'lifetime', 'lift', 'light', 'lighter', 'lightning', 'like', 'like american', 'like ask', 'like good', 'like hear', 'like know', 'like make', 'like new', 'like say', 'like use', 'likely', 'likewise', 'lim', 'limbaugh', 'limit', 'limitation', 'limited', 'lin', 'lincoln', 'lindros', 'line', 'line 10', 'line 11', 'line 12', 'line 13', 'line 14', 'line 15', 'line 16', 'line 17', 'line 18', 'line 19', 'line 20', 'line 21', 'line 22', 'line 23', 'line 24', 'line 25', 'line 26', 'line 27', 'line 28', 'line 29', 'line 30', 'line 31', 'line 32', 'line 33', 'line 34', 'line 35', 'line 36', 'line 37', 'line 38', 'line 39', 'line 40', 'line 41', 'line 42', 'line 43', 'line 44', 'line 45', 'line 46', 'line 47', 'line 48', 'line 49', 'line 50', 'line 51', 'line 52', 'line 53', 'line 54', 'line 55', 'line 56', 'line 57', 'line 59', 'line 60', 'line 63', 'line 66', 'line article', 'line communication', 'line distribution', 'line hi', 'line nntp', 'linear', 'lineup', 'link', 'link allocation', 'linknet', 'linknet com', 'linus', 'linux', 'lion', 'lip', 'lippard', 'liquid', 'lisp', 'list', 'listen', 'listing', 'listserv', 'liter', 'literal', 'literally', 'literature', 'little', 'little bit', 'liturgy', 'liu', 'liv', 'live', 'liver', 'livermore', 'liverpool', 'livesey', 'livesey solntze', 'livesey subject', 'livesey write', 'living', 'livni', 'lj', 'lk', 'll', 'll just', 'll mit', 'll try', 'llnl', 'llnl gov', 'lloyd', 'lm', 'lmsc', 'lmsc lockheed', 'lo', 'load', 'loan', 'lobby', 'local', 'local bus', 'locate', 'location', 'lock', 'lockheed', 'lockheed com', 'locus', 'log', 'logic', 'logical', 'logically', 'login', 'login guest', 'logo', 'london', 'lonestar', 'lonestar org', 'long', 'long term', 'long time', 'longer', 'longer exist', 'look', 'look forward', 'look good', 'look information', 'look like', 'loop', 'loose', 'lopez', 'loral', 'lord', 'los', 'los angeles', 'lose', 'loser', 'loss', 'lot', 'lot people', 'loud', 'louis', 'louisiana', 'louisville', 'louisville edu', 'louray', 'love', 'lover', 'loving', 'low', 'low cost', 'low level', 'lowell', 'lower', 'lowest', 'lp', 'lpl', 'lpl arizona', 'lq', 'lt', 'lu', 'lucifer', 'luck', 'lucky', 'ludicrous', 'luis', 'luke', 'lunar', 'lunatic', 'lunch', 'lung', 'lustig', 'luxury', 'lw', 'lyme', 'lynn', 'lynx', 'lyuda', 'm0', 'm1', 'm1t', 'm2', 'm3', 'm3 b8f', 'm4', 'm45', 'm5', 'm5 145', 'm6', 'm7', 'm8', 'm9', 'm9v', 'ma', 'ma 02238', 'ma line', 'ma usa', 'mac', 'mac ii', 'mac use', 'mach', 'machine', 'machine gun', 'macintosh', 'macro', 'mad', 'madison', 'mag', 'magazine', 'magellan', 'magi', 'magic', 'magnetic', 'magnitude', 'magnus', 'magnus ac', 'magnusug', 'magnusug magnus', 'magpie', 'magpie linknet', 'mahan', 'mahan tgv', 'mail', 'mail address', 'mail list', 'mail news', 'mail order', 'mail sa', 'mail server', 'mail thanks', 'mailer', 'mailing', 'mailing list', 'main', 'maine', 'maine edu', 'mainly', 'mainstream', 'maintain', 'maintenance', 'major', 'major league', 'majority', 'make', 'make claim', 'make clear', 'make decision', 'make difference', 'make good', 'make mistake', 'make money', 'make offer', 'make point', 'make public', 'make sense', 'make sure', 'make thing', 'make think', 'make use', 'make work', 'maker', 'malcolm', 'malcolm lee', 'male', 'mamma', 'man', 'man page', 'man work', 'manage', 'management', 'manager', 'mancus', 'mandate', 'mandatory', 'mane', 'mane magpie', 'mangoe', 'mangoe umd', 'manifest', 'manipulate', 'manipulation', 'manitoba', 'mankind', 'manner', 'mantis', 'mantis uk', 'manual', 'manufacture', 'manufacturer', 'manufacturing', 'manuscript', 'map', 'maple', 'maple leaf', 'mapping', 'mar', 'marc', 'march', 'march 1992', 'marcus', 'margin', 'maria', 'marijuana', 'marina', 'marine', 'mariner', 'mario', 'mark', 'mark singer', 'mark wilson', 'market', 'marketing', 'markus', 'marlin', 'marriage', 'marry', 'marshall', 'martin', 'marvin', 'mary', 'maryland', 'maryland college', 'mask', 'mason', 'mass', 'massachusetts', 'massachusetts institute', 'massacre', 'massive', 'master', 'mat', 'match', 'material', 'math', 'math dept', 'math uwaterloo', 'mathematical', 'mathematics', 'mathew', 'mathew mantis', 'mathew mathew', 'matrix', 'matt', 'matt ksu', 'matter', 'matthew', 'max', 'max ax', 'maximum', 'maxtor', 'maybe', 'maybe just', 'maynard', 'maynard ramsey', 'mayo', 'mazda', 'mb', 'mb ca', 'mb8f', 'mb8f b8f', 'mc', 'mc com', 'mccall', 'mccoy', 'mcgill', 'mcgill ca', 'mcgill edu', 'mcguire', 'mchp', 'mchp sni', 'mcmaster', 'mcovingt', 'mcovingt aisun3', 'mcrcim', 'mcrcim mcgill', 'mcx', 'md', 'md usa', 'md5', 'mdi', 'meal', 'mean', 'mean say', 'meaning', 'meaningful', 'meaningless', 'meant', 'measure', 'measurement', 'meat', 'mechanic', 'mechanical', 'mechanism', 'med', 'median', 'medical', 'medical newsletter', 'medication', 'medicine', 'medium', 'meet', 'meeting', 'meg', 'meg ram', 'mega', 'megabyte', 'megatek', 'megatest', 'mel', 'melbourne', 'melkonian', 'melkonian 1920', 'mellon', 'mellon pittsburgh', 'member', 'member congress', 'membership', 'meme', 'memorial', 'memory', 'men', 'men woman', 'mental', 'mention', 'mentor', 'mentor cc', 'mentorg', 'mentorg com', 'menu', 'mercedes', 'mercury', 'mercy', 'mere', 'merely', 'merit', 'mess', 'message', 'message id', 'message write', 'messenger', 'messiah', 'messier', 'metal', 'meter', 'method', 'method use', 'methodology', 'metric', 'mets', 'metzger', 'mexico', 'mf', 'mfm', 'mg', 'mg9v', 'mg9v g9v', 'mh', 'mhz', 'mi', 'miami', 'michael', 'michael covington', 'michigan', 'micro', 'microcircuit', 'microdistrict', 'microphone', 'microsoft', 'microsoft com', 'microsystems', 'microsystems line', 'microwave', 'mid', 'middle', 'middle class', 'middle east', 'midi', 'midway', 'midway uchicago', 'mighty', 'migraine', 'mike', 'mikey', 'mil', 'mild', 'mile', 'mileage', 'military', 'military weapon', 'militia', 'milk', 'miller', 'million', 'million dollar', 'million muslim', 'milwaukee', 'mime', 'min', 'mind', 'mini', 'minimal', 'minimize', 'minimum', 'mining', 'minister', 'ministry', 'minnesota', 'minor', 'minor league', 'minority', 'mint', 'minus', 'minute', 'mips', 'miracle', 'mirror', 'misc', 'mislead', 'miss', 'missile', 'mission', 'mississippi', 'missouri', 'missouri edu', 'mistake', 'misunderstand', 'misuse', 'mit', 'mit edu', 'mitch', 'mitchell', 'mitre', 'mitre org', 'mitsubishi', 'mix', 'mixed', 'mixer', 'mizzou1', 'mizzou1 missouri', 'mj', 'mjs', 'mk', 'mkentry', 'mksol', 'mksol dseg', 'ml', 'mlb', 'mlee', 'mm', 'mmalt', 'mmalt guild', 'mn', 'mnemosyne', 'mnemosyne du', 'mo', 'moa', 'mob', 'mobile', 'mod', 'mode', 'model', 'modem', 'moderate', 'moderator', 'modern', 'modification', 'modified', 'modify', 'module', 'mogilny', 'mohammad', 'molecular', 'molester', 'molitor', 'mom', 'moment', 'mon', 'mon apr', 'monash', 'monash edu', 'monash university', 'moncton', 'monday', 'money', 'monitor', 'mono', 'monochrome', 'montana', 'month', 'month ago', 'month old', 'monthly', 'montreal', 'moon', 'moore', 'moral', 'morality', 'morality organization', 'morally', 'morgan', 'mormon', 'morning', 'moron', 'morris', 'moscow', 'moses', 'moslem', 'mot', 'mot com', 'mother', 'motherboard', 'motif', 'motion', 'motivate', 'motivation', 'moto', 'motor', 'motorcycle', 'motorola', 'motorola cellular', 'motto', 'mount', 'mountain', 'mountain pass', 'mountain view', 'mouse', 'mouth', 'mov', 'movement', 'movie', 'mozumder', 'mp', 'mpc', 'mpce', 'mpce mq', 'mpeg', 'mph', 'mpr', 'mpr ca', 'mq', 'mq edu', 'mr', 'mr b8f', 'mr president', 'mr stephanopoulos', 'mrc', 'mri', 'ms', 'ms netcom', 'msdos', 'msfc', 'msg', 'msg sensitivity', 'msstate', 'msstate edu', 'msu', 'msu edu', 'msus', 'msus edu', 'mt', 'mtl', 'mtm', 'mtu', 'mu', 'mu edu', 'muenchen', 'multi', 'multimedia', 'multiple', 'mun', 'mun ca', 'murder', 'murderer', 'murdoch', 'murdoch acc', 'murphy', 'murray', 'muscle', 'museum', 'music', 'muslim', 'muslim people', 'mustang', 'mutlu', 'mutual', 'mutual consent', 'mv', 'mvp', 'mw', 'mwm', 'mx', 'mydisplay', 'myers', 'mykotronx', 'myrto', 'mystery', 'myth', 'mz', 'n1', 'n2', 'n3', 'n3jxp', 'n3jxp skepticism', 'n4tmi', 'na', 'na line', 'na nntp', 'na organization', 'nada', 'nada kth', 'nagorno', 'nagorno karabakh', 'nail', 'naive', 'nancy', 'napoleon', 'narrow', 'nasa', 'nasa ames', 'nasa gov', 'nasa langley', 'nasa lewis', 'nasty', 'nathan', 'nation', 'national', 'national institute', 'national laboratory', 'national security', 'national university', 'nationality', 'native', 'natural', 'naturally', 'nature', 'naval', 'navy', 'navy mil', 'nazi', 'nazi germany', 'nb', 'nc', 'ncar', 'ncd', 'ncr', 'ncr com', 'ncratl', 'ncratl atlantaga', 'ncsa', 'ncsc', 'ncsc mil', 'ncsl', 'ncsl nist', 'ncsu', 'ncsu edu', 'nctu', 'nctu edu', 'nd', 'nd edu', 'ne', 'ne1', 'neal', 'near', 'near future', 'nearby', 'nearly', 'neat', 'nebraska', 'nec', 'nec com', 'necessarily', 'necessary', 'necessity', 'neck', 'need', 'need help', 'need info', 'need information', 'need know', 'need make', 'need organization', 'needle', 'negative', 'neglect', 'negotiate', 'negotiation', 'nei', 'neighbor', 'neighborhood', 'neil', 'nejm', 'nelson', 'neoucom', 'nerve', 'net', 'netcom', 'netcom com', 'netcom line', 'netcom online', 'netherlands', 'netnews', 'netters', 'network', 'network line', 'neu', 'neutral', 'nevada', 'new', 'new brunswick', 'new car', 'new jersey', 'new mexico', 'new study', 'new technology', 'new testament', 'new trial', 'new york', 'new zealand', 'newbie', 'newer', 'newly', 'news', 'news answer', 'news columbia', 'news cso', 'news gateway', 'news group', 'news reader', 'news service', 'news software', 'news udel', 'newsgroup', 'newsgroups', 'newsletter', 'newsletter page', 'newspaper', 'newsreader', 'newsreader tin', 'newton', 'newton apple', 'nextwork', 'nextwork rise', 'nf', 'nfotis', 'ng', 'nh', 'nhl', 'nhl team', 'ni', 'nic', 'nice', 'nicely', 'nicho', 'nicholas', 'nichols', 'nick', 'nick pettefar', 'nickname', 'nigel', 'night', 'nih', 'nih gov', 'ninja', 'ninth', 'nissan', 'nist', 'nist gov', 'nixon', 'nj', 'nj nec', 'njd', 'nk', 'nl', 'nm', 'nmsu', 'nmsu edu', 'nntp', 'nntp post', 'noah', 'nodak', 'nodak edu', 'node', 'nodomain', 'noise', 'noisy', 'nolan', 'noll', 'non', 'non christian', 'non profit', 'nonsense', 'nope', 'noring', 'noring netcom', 'norm', 'normal', 'normally', 'norman', 'norris', 'north', 'north america', 'north american', 'north carolina', 'north star', 'northeastern', 'northeastern edu', 'northern', 'northern research', 'norton', 'norway', 'nose', 'nosubdomain', 'nosubdomain nodomain', 'note', 'notice', 'notify', 'notion', 'nov', 'nova', 'novel', 'novell', 'november', 'np', 'npet', 'npet bnr', 'nr', 'nra', 'nrhj', 'nriz', 'nrl', 'ns1', 'ns1 cc', 'nsa', 'nsc', 'nsmca', 'nsmca acad3', 'nsmca aurora', 'nswc', 'nt', 'ntu', 'nu', 'nu sg', 'nubus', 'nuclear', 'nuclear war', 'nuclear weapon', 'null', 'number', 'number 10', 'number people', 'numerous', 'nuntius', 'nuntius v1', 'nut', 'nuy', 'nw', 'nwu', 'nwu edu', 'ny', 'ny line', 'nyc', 'nye', 'nyeda', 'nyeda cnsvax', 'nyi', 'nyr', 'nysernet', 'nysernet org', 'nyx', 'nyx du', 'nyx public', 'nz', 'o4', 'oac', 'oac uci', 'oak', 'oakland', 'oakland edu', 'oasys', 'oasys dt', 'ob', 'obedience', 'obey', 'obfuscate', 'object', 'objection', 'objective', 'objective morality', 'objective value', 'objectively', 'obo', 'obp', 'obscure', 'observation', 'observatory', 'observe', 'observer', 'obsolete', 'obtain', 'obvious', 'obviously', 'occasion', 'occasional', 'occasionally', 'occupation', 'occupied', 'occupy', 'occur', 'ocean', 'ocs', 'oct', 'october', 'octopus', 'od', 'odd', 'odds', 'odin', 'odometer', 'offend', 'offense', 'offensive', 'offer', 'office', 'officer', 'official', 'officially', 'offset', 'oh', 'oh line', 'oh usa', 'oh yeah', 'ohanus', 'ohanus appressian', 'ohio', 'ohio state', 'ohio usa', 'ohm', 'oil', 'oiler', 'oit', 'oit unc', 'oj', 'ok', 'okay', 'okcforum', 'okcforum osrhe', 'oklahoma', 'okstate', 'okstate edu', 'okz', 'okz okz', 'ol', 'olchowy', 'olchowy subject', 'old', 'old testament', 'older', 'ole', 'oliver', 'olivetti', 'olson', 'olwm', 'om', 'omen', 'omit', 'omniscient', 'oname', 'oname eof', 'online', 'online communication', 'ontario', 'ontario canada', 'onur', 'onur yalcin', 'oo', 'oops', 'op', 'open', 'open look', 'opening', 'openwindows', 'operate', 'operating', 'operation', 'operational', 'operator', 'opinion', 'opinion employer', 'opinion express', 'opinion relation', 'opponent', 'opportunity', 'oppose', 'opposite', 'opposition', 'optical', 'optilink', 'optilink com', 'optilink corporation', 'optilink cramer', 'option', 'optional', 'oq', 'oracle', 'oracle com', 'orange', 'orbit', 'orbital', 'orbiter', 'orchid', 'order', 'ordinary', 'oregon', 'org', 'org au', 'org center', 'org craig', 'org david', 'org organization', 'org ryan', 'org subject', 'org write', 'organ', 'organisation', 'organism', 'organization', 'organization ai', 'organization bell', 'organization bnr', 'organization boeing', 'organization california', 'organization case', 'organization center', 'organization colorado', 'organization columbia', 'organization computer', 'organization cookamunga', 'organization cornell', 'organization department', 'organization dept', 'organization distribution', 'organization dsg', 'organization engineering', 'organization express', 'organization georgia', 'organization hewlett', 'organization hp', 'organization ibm', 'organization indiana', 'organization intergraph', 'organization internet', 'organization iowa', 'organization jet', 'organization lehigh', 'organization line', 'organization massachusetts', 'organization mit', 'organization motorola', 'organization nasa', 'organization national', 'organization ncr', 'organization netcom', 'organization new', 'organization north', 'organization nyx', 'organization ohio', 'organization optilink', 'organization penn', 'organization portal', 'organization purdue', 'organization royal', 'organization school', 'organization sgi', 'organization stratus', 'organization sun', 'organization technical', 'organization tektronix', 'organization texas', 'organization toronto', 'organization univ', 'organization university', 'organization virginia', 'organization world', 'organize', 'organize militia', 'orient', 'oriental', 'orientation', 'origin', 'original', 'original poster', 'original question', 'originally', 'originate', 'originator', 'oriole', 'orion', 'orion oac', 'orst', 'orst edu', 'orthodox', 'os', 'os2', 'oscillator', 'osf', 'osf org', 'osrhe', 'osrhe edu', 'oswego', 'ot', 'otis', 'ott', 'ottawa', 'ottawa canada', 'otto', 'ottoman', 'ottoman empire', 'ou', 'ought', 'oulu', 'oulu fi', 'outbreak', 'outcome', 'outer', 'outlaw', 'outlet', 'outline', 'output', 'output file', 'output oname', 'outright', 'outside', 'overall', 'overhead', 'overlap', 'overpass', 'override', 'overview', 'owen', 'owner', 'ownership', 'ox', 'oxford', 'oxygen', 'oy', 'oz', 'oz au', 'ozone', 'p1', 'p2', 'p3', 'p4', 'p45', 'p4u', 'pa', 'pa dec', 'pa line', 'pa146008', 'pa146008 utkvm1', 'pace', 'pacific', 'pack', 'package', 'packard', 'packet', 'pad', 'pagan', 'page', 'pain', 'painful', 'paint', 'pair', 'pal', 'palestine', 'palestinian', 'palette', 'palm', 'palmer', 'palo', 'pan', 'panasonic', 'panel', 'panic', 'panix', 'panix com', 'pant', 'panther', 'paper', 'paradise', 'paradox', 'paragraph', 'parallel', 'parameter', 'paranoid', 'paraphrase', 'pardon', 'parent', 'paris', 'parity', 'park', 'parking', 'parr', 'parse', 'parsli', 'partial', 'partially', 'participant', 'participate', 'participation', 'particle', 'particular', 'particularly', 'partition', 'partly', 'partner', 'party', 'pas', 'pasadena', 'pasadena ca', 'pasadena line', 'pascal', 'pass', 'pass serve', 'passage', 'passenger', 'passion', 'passive', 'password', 'past', 'past year', 'pastor', 'pat', 'pat myrto', 'pat rwing', 'pat subject', 'pat write', 'patch', 'patent', 'path', 'patient', 'patrick', 'patrol', 'pattern', 'paul', 'pay', 'pay attention', 'payload', 'payment', 'pb', 'pc', 'pc magazine', 'pc week', 'pcx', 'pd', 'pdt', 'pe', 'peace', 'peaceful', 'peak', 'pedal', 'peer', 'pegasus', 'pem', 'pen', 'penalty', 'penguin', 'penn', 'penn state', 'pennsylvania', 'pentium', 'people', 'people believe', 'people come', 'people die', 'people don', 'people just', 'people kill', 'people know', 'people like', 'people live', 'people make', 'people mutual', 'people people', 'people right', 'people say', 'people think', 'people try', 'people use', 'people want', 'people work', 'perceive', 'percent', 'percentage', 'perception', 'perfect', 'perfectly', 'perform', 'performance', 'period', 'periodically', 'peripheral', 'perish', 'permanent', 'permission', 'permit', 'perry', 'perry metzger', 'persecute', 'persecution', 'persian', 'person', 'personal', 'personality', 'personally', 'personnel', 'perspective', 'persuade', 'pet', 'petaluma', 'petaluma ca', 'pete', 'peter', 'pettefar', 'pex', 'pg', 'pgf', 'pgh', 'pgp', 'pgp key', 'pgp public', 'ph', 'phase', 'phd', 'phenomenon', 'phi', 'phigs', 'phil', 'philadelphia', 'philip', 'phill', 'phill hallam', 'phillies', 'phillips', 'philly', 'philosopher', 'philosophical', 'philosophy', 'phoenix', 'phoenix princeton', 'phone', 'phone company', 'phone conversation', 'phone number', 'photo', 'photograph', 'photography', 'photoshop', 'phrase', 'physic', 'physical', 'physically', 'physician', 'physicist', 'pi', 'pick', 'pickup', 'picture', 'picture sleeve', 'piece', 'pierce', 'pig', 'pile', 'pill', 'pilot', 'pin', 'pinch', 'pink', 'pioneer', 'pipe', 'pirate', 'piss', 'pistol', 'pit', 'pitch', 'pitcher', 'pitching', 'pitt', 'pitt edu', 'pittsburg', 'pittsburgh', 'pittsburgh computer', 'pittsburgh pa', 'pixel', 'pixmap', 'pk', 'pkp', 'pl', 'pl 1d9', 'pl d9', 'pl pl', 'pl4', 'pl5', 'pl6', 'pl6 line', 'pl8', 'pl8 line', 'pl9', 'pl9 line', 'place', 'placebo', 'plague', 'plain', 'plaintext', 'plan', 'plane', 'planet', 'planetary', 'plant', 'plastic', 'plate', 'platform', 'plausible', 'play', 'play game', 'play scorer', 'player', 'playing', 'playoff', 'pleasant', 'pleasure', 'plenty', 'plo', 'plot', 'plug', 'plus', 'plus minus', 'pluto', 'plymouth', 'pm', 'pmetzger', 'pmfq', 'po', 'po box', 'po cwru', 'pocket', 'point', 'point make', 'point view', 'pointer', 'poison', 'pole', 'police', 'police officer', 'policeman', 'policy', 'policy research', 'polish', 'political', 'political atheist', 'politically', 'politician', 'politics', 'politics gun', 'poll', 'pollution', 'polygon', 'polytechnic', 'polytechnic institute', 'ponder', 'pooh', 'pooh bear', 'pool', 'poor', 'poorly', 'pop', 'pope', 'popular', 'population', 'popup', 'pork', 'porsche', 'port', 'portable', 'portal', 'portal com', 'portal tm', 'portion', 'portland', 'pose', 'position', 'positive', 'possess', 'possession', 'possibility', 'possible', 'possible use', 'possibly', 'post', 'post alt', 'post article', 'post group', 'post host', 'post summary', 'poster', 'poster view', 'posting', 'posting represent', 'postscript', 'pot', 'potential', 'potentially', 'potvin', 'pound', 'pour', 'pov', 'power', 'power play', 'power supply', 'powerbook', 'powerful', 'powerpc', 'pp', 'pr', 'practical', 'practically', 'practice', 'praise', 'pray', 'prayer', 'prb', 'prb access', 'pre', 'preach', 'precedent', 'precise', 'precisely', 'precision', 'predict', 'prediction', 'prefer', 'preferably', 'preference', 'pregnancy', 'prejudice', 'preliminary', 'premise', 'premium', 'preparation', 'prepare', 'prepared', 'presence', 'present', 'presentation', 'presently', 'preserve', 'president', 'president clinton', 'press', 'press conference', 'press release', 'press secretary', 'pressure', 'presumably', 'presume', 'pretend', 'pretty', 'pretty good', 'pretty sure', 'prevent', 'prevention', 'previous', 'previous article', 'previously', 'price', 'pricing', 'pride', 'priest', 'primarily', 'primary', 'prime', 'prime minister', 'primitive', 'prince', 'princeton', 'princeton edu', 'principal', 'principle', 'print', 'printer', 'printf', 'printing', 'prior', 'priority', 'prism', 'prism gatech', 'prison', 'prisoner', 'privacy', 'private', 'private activity', 'private key', 'private sector', 'privately', 'privilege', 'prize', 'pro', 'pro angmar', 'probability', 'probable', 'probably', 'probe', 'probert', 'problem', 'problem organization', 'problem use', 'procedure', 'proceed', 'proceed work', 'proceeding', 'process', 'processing', 'processor', 'proclaim', 'produce', 'product', 'product line', 'production', 'prof', 'professional', 'professor', 'professor history', 'profile', 'profit', 'prog', 'program', 'program manager', 'program run', 'program university', 'program use', 'programmer', 'programming', 'progress', 'prohibit', 'project', 'projection', 'projector', 'promiscuous', 'promise', 'promote', 'prompt', 'prone', 'prong', 'proof', 'propaganda', 'proper', 'properly', 'property', 'prophecy', 'prophet', 'proportion', 'proposal', 'propose', 'proposition', 'proprietary', 'propulsion', 'propulsion laboratory', 'prospect', 'protect', 'protect privacy', 'protection', 'protective', 'protein', 'protest', 'protestant', 'protocol', 'proton', 'prototype', 'proud', 'prove', 'proven', 'provide', 'provide evidence', 'providence', 'provider', 'province', 'provision', 'ps', 'psalm', 'pseudo', 'psi', 'psilink', 'psilink com', 'psu', 'psu edu', 'psuvm', 'psuvm psu', 'psych', 'psychological', 'psychology', 'psyrobtw', 'pt', 'ptr', 'pu', 'pub', 'public', 'public access', 'public domain', 'public health', 'public key', 'public safety', 'publication', 'publicly', 'publish', 'publisher', 'puck', 'pull', 'pulse', 'pump', 'punch', 'punish', 'punisher', 'punisher caltech', 'punishment', 'purchase', 'purdue', 'purdue edu', 'purdue university', 'pure', 'purely', 'purpose', 'pursue', 'push', 'puzzle', 'pw', 'pyramid', 'pyramid optilink', 'pyron', 'pyron skndiv', 'q1', 'q30t', 'q4', 'q45', 'q5o', 'q6', 'q9', 'qax', 'qax ax', 'qazi', 'qb', 'qc', 'qd', 'qh', 'qi', 'qk', 'ql', 'ql ql', 'qm', 'qq', 'qr', 'qt', 'qtm', 'qu', 'quack', 'quack kfu', 'quad', 'quadra', 'qualcomm', 'qualcomm com', 'qualify', 'quality', 'quantity', 'quantum', 'quarter', 'quayle', 'que', 'quebec', 'queen', 'query', 'quest', 'question', 'question answer', 'question ask', 'question authority', 'question like', 'question organization', 'questor', 'questor org', 'quick', 'quickdraw', 'quickly', 'quicktime', 'quiet', 'quietly', 'quinn', 'quit', 'quite', 'quite bit', 'quotation', 'quote', 'quote context', 'qur', 'quran', 'qv', 'qx', 'qy', 'r1', 'r186', 'r186 a86', 'r3', 'r4', 'r5', 'r6', 'r8f', 'r8f b8f', 'ra', 'ra msstate', 'race', 'racial', 'racism', 'racist', 'rack', 'radar', 'radar detector', 'radiation', 'radical', 'radio', 'radio shack', 'radio station', 'radiosity', 'radius', 'rahul', 'rahul net', 'raid', 'raider', 'raider net', 'rain', 'rain com', 'rainbow', 'rainer', 'raise', 'rally', 'ralph', 'ram', 'ramsey', 'ramsey laurentian', 'ranch', 'ranch survivor', 'ranck', 'rand', 'random', 'randy', 'range', 'ranger', 'rank', 'rap', 'rape', 'rapid', 'rapidly', 'rare', 'rarely', 'rash', 'raster', 'rat', 'rate', 'rating', 'ratio', 'rational', 'rauser', 'ravel', 'ravel udel', 'raw', 'ray', 'ray trace', 'ray tracer', 'raymond', 'rayshade', 'rb', 'rbi', 'rc', 'rchland', 'rck', 'rd', 'rd hydro', 'reach', 'react', 'reaction', 'reactor', 'read', 'read article', 'read book', 'read group', 'read organization', 'read write', 'reader', 'reader vms', 'readily', 'reading', 'readme', 'ready', 'reagan', 'real', 'real thing', 'real time', 'real world', 'realistic', 'reality', 'realize', 'really', 'really believe', 'really don', 'really good', 'really know', 'really like', 'really need', 'really think', 'really want', 'rear', 'reason', 'reason believe', 'reasonable', 'reasonably', 'reasoning', 'reboot', 'rebound', 'rebuild', 'rec', 'rec auto', 'rec motorcycle', 'rec sport', 'recall', 'recchi', 'receive', 'receiver', 'recent', 'recently', 'recipient', 'recognise', 'recognition', 'recognize', 'recommend', 'recommendation', 'reconcile', 'record', 'recover', 'recovery', 'rectangle', 'red', 'red sox', 'red wing', 'redesign', 'redirect', 'reduce', 'reduction', 'redundancy', 'reed', 'ref', 'refer', 'reference', 'refers', 'reflect', 'reform', 'refresh', 'refugee', 'refuse', 'regard', 'regardless', 'regime', 'region', 'regional', 'regional study', 'register', 'registration', 'regular', 'regular season', 'regularly', 'regulate', 'regulate militia', 'regulation', 'reich', 'reid', 'reilly', 'rein', 'reject', 'relate', 'related', 'relation', 'relation people', 'relationship', 'relative', 'relatively', 'relay', 'release', 'relevant', 'reliability', 'reliable', 'relief', 'religion', 'religious', 'rely', 'remain', 'remark', 'remedy', 'remember', 'remind', 'remote', 'remote sense', 'removal', 'remove', 'render', 'renew', 'reno', 'rent', 'rep', 'repair', 'repeat', 'repeatedly', 'replace', 'replacement', 'reply', 'reply geb', 'reply mail', 'reply sera', 'report', 'reporter', 'repost', 'represent', 'represent poster', 'representation', 'representative', 'reproduce', 'republic', 'republican', 'reputation', 'request', 'require', 'requirement', 'rescue', 'research', 'research att', 'research center', 'research cpr', 'research institute', 'research laboratory', 'research line', 'research scientist', 'researcher', 'resemble', 'reserve', 'reserve university', 'reset', 'resident', 'resist', 'resistance', 'resistor', 'resize', 'resolution', 'resolve', 'resort', 'resource', 'respect', 'respectively', 'respond', 'response', 'responsibility', 'responsible', 'rest', 'restaurant', 'reston', 'restore', 'restrain', 'restraint', 'restrict', 'restriction', 'result', 'resume', 'resurrection', 'retail', 'retain', 'retire', 'retract', 'retreat', 'retrieve', 'return', 'rev', 'reveal', 'revelation', 'revenge', 'revenue', 'reverse', 'review', 'revise', 'revision', 'revolt', 'revolution', 'revolutionary', 'revolver', 'reward', 'rewrite', 'rex', 'rf', 'rfc', 'rg', 'rgb', 'ri', 'rice', 'rice edu', 'rich', 'richard', 'richardson', 'richardson tx', 'richmond', 'rick', 'rickert', 'rid', 'riddle', 'ride', 'rider', 'rider cactus', 'ridiculous', 'rifle', 'rigel', 'right', 'right bear', 'right hand', 'right people', 'right say', 'right violation', 'right wrong', 'righteous', 'rind', 'ring', 'rintintin', 'rintintin colorado', 'riot', 'rip', 'ripem', 'risc', 'rise', 'rise hulman', 'risk', 'rit', 'rit edu', 'ritual', 'ritvax', 'river', 'rj', 'rk', 'rkba', 'rl', 'rlk', 'rll', 'rm', 'rmw', 'rn', 'road', 'road mountain', 'rob', 'robbie', 'robert', 'robert beauchaine', 'robert desonia', 'robert wei', 'robertson', 'robin', 'robinson', 'roby', 'roby chopin', 'roby write', 'rochester', 'rochester edu', 'rock', 'rockefeller', 'rocket', 'rocket sw', 'rockies', 'rockwell', 'rod', 'rodney', 'roger', 'roger lustig', 'roger maynard', 'rogers', 'roland', 'role', 'roll', 'rom', 'rom bios', 'rom drive', 'roman', 'rome', 'romulus', 'romulus rutgers', 'ron', 'ron baalke', 'ron roth', 'ronald', 'roof', 'rookie', 'room', 'root', 'root window', 'rosenau', 'rosicrucian', 'ross', 'roster', 'rotate', 'rotation', 'roth', 'rough', 'roughly', 'round', 'roussel', 'route', 'routine', 'row', 'roy', 'royal', 'royalroads', 'royalroads ca', 'rp', 'rpi', 'rpi edu', 'rpm', 'rr', 'rri', 'rri uwo', 'rsa', 'rsi', 'rt', 'rtfm', 'rtp', 'rtsg', 'rtsg mot', 'rub', 'rubber', 'rubin', 'ruin', 'rule', 'ruler', 'ruling', 'rumor', 'rumour', 'run', 'run program', 'run score', 'run time', 'run window', 'runner', 'running', 'rus', 'rush', 'rushdie', 'rusnews', 'russell', 'russia', 'russian', 'rutgers', 'rutgers edu', 'ruth', 'rutledge', 'ruu', 'ruu nl', 'rv', 'rw', 'rwing', 'rwing uucp', 'ryan', 'ryan cousineau', 'ryan scharfy', 'rz', 'rz tu', 's1', 's1 s2', 's2', 's3', 's6', 's8', 'sa', 'sa com', 'sa upenn', 'sabbath', 'sabre', 'sacred', 'sacrifice', 'sad', 'sadly', 'safe', 'safeguard', 'safely', 'safer', 'safety', 'sahak', 'sahak melkonian', 'sail', 'sail stanford', 'saint', 'sake', 'salary', 'sale', 'sale organization', 'sale tax', 'salmon', 'salt', 'salvation', 'sam', 'sample', 'samuel', 'san', 'san diego', 'san francisco', 'san jose', 'sanction', 'sand', 'sandberg', 'sander', 'sanderson', 'sandman', 'sandvik', 'sandvik kent', 'sandvik newton', 'sandvik subject', 'sandvik write', 'sandy', 'santa', 'santa clara', 'sarah', 'sarcasm', 'sasghm', 'sat', 'satan', 'satellite', 'satisfy', 'saturday', 'saturn', 'saturn wwc', 'save', 'save life', 'saving', 'savior', 'saw', 'say', 'say article', 'say believe', 'say christian', 'say don', 'say god', 'say good', 'say just', 'say know', 'say let', 'say like', 'say make', 'say mean', 'say people', 'say say', 'say thing', 'say think', 'say want', 'say yes', 'sb', 'sc', 'scale', 'scan', 'scanner', 'scar', 'scarolina', 'scarolina edu', 'scary', 'scenario', 'scene', 'scharfy', 'schedule', 'scheme', 'schism', 'schmidt', 'schneider', 'schneider subject', 'scholar', 'school', 'school computer', 'schwartz', 'sci', 'sci astro', 'sci crypt', 'sci line', 'sci med', 'sci space', 'science', 'science carnegie', 'science department', 'science dept', 'science line', 'science technology', 'science university', 'scientific', 'scientist', 'sco', 'sco com', 'scope', 'score', 'scorer', 'scorer pt', 'scoring', 'scott', 'scott roby', 'scout', 'scramble', 'scratch', 'scream', 'screen', 'screw', 'script', 'scripture', 'scroll', 'scsi', 'scsi controller', 'scsi drive', 'scsi port', 'scsi scsi', 'scx', 'scx cx', 'scx scx', 'sd', 'sdpa', 'sdpa org', 'sdsu', 'sdsu edu', 'se', 'se 30', 'sea', 'sea gwu', 'sea upenn', 'seagate', 'seal', 'sean', 'search', 'season', 'seat', 'seattle', 'seattle line', 'seattle wa', 'sec', 'second', 'second amendment', 'second hand', 'second period', 'second time', 'secondary', 'secondly', 'secrecy', 'secret', 'secret algorithm', 'secret key', 'secretary', 'sect', 'section', 'sector', 'secular', 'secure', 'security', 'sedan', 'seed', 'seek', 'segment', 'sehari', 'sei', 'seize', 'seizure', 'selanne', 'select', 'selection', 'selective', 'self', 'self defense', 'selfish', 'sell', 'seller', 'semi', 'semi auto', 'semiconductor', 'seminar', 'semitism', 'senate', 'senator', 'send', 'send email', 'send mail', 'send request', 'sender', 'senior', 'senior administration', 'sens', 'sense', 'sensitive', 'sensitivity', 'sensitivity superstition', 'sensor', 'sent', 'sentence', 'sep', 'separate', 'separately', 'separation', 'seperate', 'september', 'sequence', 'sera', 'sera zuma', 'serb', 'serbia', 'serbian', 'serdar', 'serdar argic', 'serial', 'serial number', 'serial port', 'series', 'seriously', 'serum', 'serum zuma', 'servant', 'serve', 'serve way', 'server', 'service', 'service 408', 'service line', 'session', 'session key', 'set', 'seth', 'setting', 'settle', 'settlement', 'setup', 'seven', 'seventh', 'severe', 'severely', 'sex', 'sexual', 'sexual orientation', 'sf', 'sf ca', 'sfu', 'sfu ca', 'sg', 'sgi', 'sgi com', 'sh', 'shack', 'shade', 'shadow', 'shafer', 'shaft', 'shai', 'shai guday', 'shake', 'shall', 'shame', 'shameful', 'shameful surrender', 'shanahan', 'shape', 'shar', 'share', 'shareware', 'shark', 'sharp', 'shaw', 'shearson', 'shearson com', 'shed', 'sheep', 'sheet', 'shelf', 'shell', 'shelley', 'sherri', 'sherri nichols', 'sherzer', 'shield', 'shift', 'ship', 'shipping', 'shirt', 'shit', 'sho', 'shock', 'shoe', 'shoot', 'shoot turkish', 'shooting', 'shop', 'shore', 'short', 'shorter', 'shortly', 'shostack', 'shot', 'shotgun', 'shoulder', 'shouldn', 'shout', 'shut', 'shutout', 'shuttle', 'shz', 'si', 'sick', 'sig', 'siggraph', 'sigh', 'sight', 'sigma', 'sign', 'signal', 'signature', 'significance', 'significant', 'significantly', 'silence', 'silent', 'silicon', 'silicon graphic', 'silly', 'silver', 'silver ucs', 'sim', 'similar', 'similarly', 'simm', 'simmons', 'simms', 'simon', 'simple', 'simpler', 'simply', 'simulation', 'simultaneously', 'sin', 'sincerely', 'sing', 'singapore', 'singer', 'single', 'single turkish', 'sink', 'sinner', 'sinus', 'sir', 'sister', 'sit', 'site', 'situation', 'sixth', 'size', 'sizeof', 'sj', 'sj1', 'sk', 'skate', 'skepticism', 'skepticism chastity', 'ski', 'skidmore', 'skill', 'skin', 'skip', 'skipjack', 'skndiv', 'skndiv dseg', 'sky', 'sl', 'sl sl', 'slack', 'slaughter', 'slave', 'slavery', 'slb', 'slb com', 'sleep', 'sleeve', 'slg', 'slick', 'slide', 'slight', 'slightly', 'slip', 'sloan', 'slot', 'slow', 'slower', 'slowly', 'sm', 'sm business', 'small', 'smaller', 'smart', 'smb', 'smell', 'smile', 'smiley', 'smith', 'smith subject', 'smith write', 'smoke', 'smokeless', 'smoker', 'smooth', 'smuggle', 'smythe', 'sn', 'snail', 'snap', 'sni', 'sni frank', 'snichols', 'snichols adobe', 'sniper', 'snm6394', 'snm6394 ultb', 'snow', 'snyder', 'soc', 'social', 'socialism', 'socialist', 'society', 'socket', 'soda', 'soda berkeley', 'soderstrom', 'soft', 'software', 'software engineer', 'software engineering', 'software foundation', 'software line', 'software package', 'software vax', 'soil', 'sol', 'solar', 'solar sail', 'solaris', 'solder', 'soldier', 'sole', 'solely', 'solid', 'solntze', 'solntze wpd', 'solomon', 'solution', 'solve', 'solve problem', 'somalia', 'somebody', 'someday', 'somewhat', 'son', 'son god', 'song', 'sony', 'soon', 'sooner', 'sophisticated', 'sorenson', 'sorry', 'sorry don', 'sort', 'sort thing', 'soul', 'soul sahak', 'sound', 'sound card', 'sound like', 'soundblaster', 'source', 'source code', 'source information', 'south', 'south africa', 'southern', 'southern california', 'soviet', 'soviet armenia', 'soviet armenian', 'soviet union', 'sox', 'sp', 'space', 'space digest', 'space flight', 'space science', 'space shuttle', 'space station', 'spacecraft', 'span', 'spanish', 'sparc', 'spare', 'spark', 'spd', 'spdcc', 'spdcc com', 'speak', 'speak company', 'speaker', 'speaking', 'spec', 'special', 'specialist', 'specie', 'specific', 'specifically', 'specification', 'specify', 'spectrum', 'speculate', 'speculation', 'speech', 'speed', 'speed limit', 'speedstar', 'speedy', 'spell', 'spencer', 'spencer subject', 'spencer toronto', 'spend', 'spend money', 'spend time', 'spending', 'spent', 'sphere', 'spider', 'spike', 'spin', 'spirit', 'spiritual', 'spite', 'split', 'sponsor', 'spook', 'sport', 'sport hockey', 'spot', 'spot colorado', 'spray', 'spread', 'spring', 'springfield', 'sps', 'sps mot', 'spss', 'spy', 'sq', 'sqs', 'square', 'squeeze', 'squid', 'sr', 'src', 'srl', 'srl ford', 'ssc', 'ssd', 'ssd csd', 'ssf', 'ssto', 'st', 'st john', 'st louis', 'stab', 'stable', 'stack', 'stadium', 'staff', 'staff tc', 'staffan', 'stafford', 'stage', 'stalin', 'stamp', 'stan', 'stance', 'stand', 'standard', 'standard disclaimer', 'standing', 'stanford', 'stanford edu', 'stanford university', 'stanley', 'stanley cup', 'star', 'star trek', 'starr', 'start', 'start use', 'starter', 'startup', 'stat', 'state', 'state edu', 'state israel', 'state univ', 'state university', 'statement', 'static', 'station', 'statistic', 'statistical', 'stats', 'status', 'statute', 'stay', 'std', 'std com', 'stderr', 'stdin', 'steal', 'stealth', 'stealth 24', 'steam', 'steel', 'steer', 'stefan', 'stein', 'stein washington', 'steinly', 'step', 'steph', 'stephanopoulos', 'stephanopoulos don', 'stephanopoulos think', 'stephen', 'stephenson', 'stereo', 'sternlight', 'sternlight write', 'steve', 'steve dyer', 'steve hendricks', 'steveh', 'steveh thor', 'steven', 'stevens', 'stewart', 'stick', 'sticker', 'stimulus', 'stimulus package', 'stl', 'stock', 'stockholm', 'stomach', 'stone', 'stop', 'storage', 'store', 'storm', 'story', 'stove', 'stpl', 'stpl ists', 'straight', 'strain', 'strange', 'strategy', 'stratus', 'stratus com', 'stratus computer', 'streak', 'stream', 'street', 'strength', 'stress', 'stretch', 'strict', 'strictly', 'strike', 'string', 'strip', 'strnlght', 'strnlght netcom', 'stroke', 'strong', 'stronger', 'strongly', 'structure', 'struggle', 'sts', 'stuart', 'stud', 'student', 'student cwru', 'studio', 'study', 'study gay', 'study line', 'stuff', 'stuff delete', 'stupid', 'stupidity', 'style', 'su', 'su oz', 'sub', 'subject', 'subject 2000', 'subject arrogance', 'subject atf', 'subject batf', 'subject change', 'subject clinton', 'subject clipper', 'subject diamond', 'subject dumbest', 'subject fast', 'subject good', 'subject gun', 'subject help', 'subject hezbollah', 'subject ide', 'subject israeli', 'subject jewish', 'subject line', 'subject look', 'subject msg', 'subject need', 'subject new', 'subject nhl', 'subject old', 'subject political', 'subject problem', 'subject question', 'subject really', 'subject sale', 'subject say', 'subject secret', 'subject space', 'subject tap', 'subject text', 'subject thought', 'subject want', 'subject warn', 'subject win', 'subject window', 'subject windows', 'subjective', 'submarine', 'submission', 'submit', 'subscribe', 'subscription', 'subsequent', 'substance', 'substantial', 'substantially', 'substitute', 'succeed', 'success', 'successful', 'successfully', 'suck', 'sudden', 'suddenly', 'sue', 'suffer', 'suffering', 'sufficient', 'sufficiently', 'sugar', 'suggest', 'suggestion', 'suicide', 'suit', 'suitable', 'suite', 'sum', 'sumgait', 'summarize', 'summary', 'summer', 'summer job', 'sun', 'sun com', 'sun microsystems', 'sunday', 'sunnyvale', 'sunnyvale ca', 'sunos', 'sunrise', 'sunset', 'sunview', 'sunysb', 'sunysb edu', 'super', 'superior', 'supernatural', 'superstition', 'superstition organization', 'supplement', 'supplier', 'supply', 'support', 'supporter', 'suppose', 'supposedly', 'suppress', 'supreme', 'supreme court', 'sure', 'surely', 'surface', 'surgery', 'surprise', 'surprised', 'surprising', 'surrender', 'surrender soon', 'surround', 'surveillance', 'survey', 'survival', 'survive', 'survivor', 'suspect', 'suspend', 'suspension', 'sustain', 'sutherland', 'sv', 'svga', 'svoboda', 'svr4', 'sw', 'sw stratus', 'swap', 'swap file', 'swear', 'sweden', 'sweden line', 'swedish', 'sweep', 'swell', 'swing', 'swiss', 'switch', 'switzerland', 'sword', 'sx', 'sy', 'sydney', 'syl', 'syl nj', 'symbol', 'symposium', 'symptom', 'sync', 'syndrome', 'synoptics', 'syquest', 'syria', 'syrian', 'sys', 'sysmgr', 'syx', 't3p', 't3q', 't3s', 't4', 't45', 't5', 't7', 'ta', 'tab', 'table', 'tactic', 'tad', 'tail', 'tale', 'talent', 'talk', 'talk politics', 'tall', 'tammy', 'tampa', 'tampa bay', 'tamu', 'tamu edu', 'tank', 'tap', 'tap code', 'tape', 'tape backup', 'tape drive', 'tar', 'target', 'tartar', 'task', 'taste', 'tate', 'taurus', 'tavares', 'tavares write', 'tax', 'taylor', 'tb', 'tc', 'tc umn', 'tclock', 'tclock orion', 'tcp', 'tcp ip', 'td', 'te', 'tea', 'teach', 'teacher', 'teaching', 'teal', 'team', 'team win', 'tear', 'tear gas', 'tech', 'tech support', 'technet', 'technet sg', 'technical', 'technical university', 'technically', 'technician', 'technique', 'technological', 'technology', 'technology line', 'technology pasadena', 'ted', 'ted fischer', 'ted frank', 'tedward', 'tedward cornell', 'teel', 'teen', 'teenager', 'teeth', 'tek', 'tek com', 'tektronix', 'tel', 'tele', 'telecom', 'telecommunication', 'telephone', 'telescope', 'television', 'tell', 'tell people', 'telnet', 'temp', 'temper', 'temperature', 'tempest', 'temple', 'temple edu', 'templeton', 'temporarily', 'temporary', 'tend', 'tendency', 'tenn', 'tenn div', 'tennessee', 'tension', 'term', 'terminal', 'terminate', 'terminator', 'terrible', 'terribly', 'territory', 'terrorism', 'terrorist', 'terry', 'tesla', 'test', 'test center', 'testament', 'testify', 'testimony', 'testing', 'tex', 'texas', 'texas austin', 'texas instrument', 'text', 'text white', 'texture', 'tf', 'tg', 'tgv', 'th', 'thank', 'thank advance', 'thanks', 'thanks advance', 'thanks help', 'thanks info', 'thanx', 'thats', 'theirs', 'theist', 'theme', 'theodore', 'theodore kaldis', 'theological', 'theology', 'theoretical', 'theory', 'theporch', 'theporch raider', 'therapy', 'thereof', 'thermal', 'theseus', 'theseus unx', 'thesis', 'thf2', 'thf2 kimbark', 'thief', 'thing', 'thing don', 'thing happen', 'thing know', 'thing like', 'thing say', 'think', 'think com', 'think don', 'think good', 'think just', 'think know', 'think ll', 'think machine', 'think make', 'think mean', 'think people', 'think problem', 'think right', 'think say', 'think thing', 'think use', 'think ve', 'think want', 'think way', 'thinking', 'thirty', 'thomas', 'thomas jefferson', 'thomas parsli', 'thomasp', 'thomasp ifi', 'thompson', 'thor', 'thor isc', 'thoroughly', 'thou', 'thought', 'thousand', 'thousand year', 'thread', 'threat', 'threaten', 'throat', 'throttle', 'throw', 'thu', 'thu 15', 'thug', 'thumb', 'thunder', 'thunder mcrcim', 'thursday', 'ti', 'ti com', 'ticket', 'tie', 'tie breaker', 'tiff', 'tiger', 'tight', 'till', 'tilt', 'tim', 'tim clock', 'time', 'time ago', 'time come', 'time organization', 'time read', 'time think', 'time time', 'time try', 'time use', 'time ve', 'time year', 'timer', 'timing', 'timothy', 'tin', 'tin pl5', 'tin version', 'tiny', 'tip', 'tire', 'tissue', 'titan', 'title', 'tl', 'tm', 'tmc', 'tmc edu', 'tn', 'toad', 'toad com', 'toal', 'tobacco', 'tobias', 'tocchet', 'today', 'today longer', 'todd', 'toilet', 'token', 'tokyo', 'tolerance', 'tolerate', 'toll', 'tom', 'tomb', 'tommy', 'tomorrow', 'ton', 'tone', 'tongue', 'tonight', 'tony', 'tool', 'toolkit', 'toolkits', 'topaz', 'topic', 'toplevel', 'tor', 'toronto', 'toronto chemistry', 'toronto edu', 'toronto ontario', 'toronto zoology', 'torque', 'torre', 'torture', 'toshiba', 'toss', 'total', 'totally', 'touch', 'tough', 'tour', 'tourist', 'tourist bureau', 'tower', 'town', 'toxic', 'toy', 'toyota', 'tq', 'tq b8f', 'tr', 'trace', 'tracer', 'track', 'tract', 'trade', 'tradition', 'traditional', 'traffic', 'tragedy', 'train', 'training', 'trajectory', 'transaction', 'transfer', 'transfer rate', 'transfer stratus', 'transform', 'transformation', 'transformer', 'transition', 'translate', 'translation', 'translator', 'transmission', 'transmit', 'transmitter', 'transplant', 'transport', 'transportation', 'trap', 'trash', 'travel', 'treasury', 'treat', 'treatment', 'treaty', 'tree', 'trek', 'tremendous', 'trend', 'tri', 'trial', 'triangle', 'tribe', 'trick', 'tricky', 'trident', 'trigger', 'trim', 'trinity', 'trip', 'triple', 'triumf', 'triumf ca', 'triumph', 'trivial', 'troop', 'trouble', 'troy', 'truck', 'true', 'truetype', 'truetype font', 'truly', 'trumpet', 'trunk', 'trust', 'truth', 'trw', 'trw com', 'try', 'try figure', 'try make', 'try say', 'try use', 'tt', 'ttl', 'tu', 'tu benedikt', 'tu berlin', 'tu dresden', 'tu muenchen', 'tube', 'tucson', 'tue', 'tue 20', 'tue nl', 'tuesday', 'tuft', 'tuinstra', 'tulsa', 'tune', 'turbo', 'turk', 'turk kurd', 'turk proceed', 'turkey', 'turkish', 'turkish genocide', 'turkish government', 'turkish plane', 'turkish soul', 'turn', 'turner', 'turpin', 'tut', 'tut fi', 'tutorial', 'tv', 'tvtwm', 'tw', 'twice', 'twin', 'twist', 'twm', 'tx', 'tx line', 'txt', 'type', 'typical', 'typically', 'tyre', 'tz', 'u1', 'u2', 'u28037', 'u28037 uicvm', 'u34', 'u34u', 'u3l', 'ua', 'ualberta', 'ualberta ca', 'uart', 'ub', 'ubc', 'ubc ca', 'ubvmsb', 'ubvmsb cc', 'uc', 'ucalgary', 'ucalgary ca', 'ucar', 'ucar edu', 'ucc', 'uchicago', 'uchicago edu', 'uci', 'uci edu', 'ucla', 'ucla edu', 'uclink', 'uclink berkeley', 'ucs', 'ucs indiana', 'ucsc', 'ucsc edu', 'ucsd', 'ucsd edu', 'ucsu', 'ucsu colorado', 'ud', 'udel', 'udel edu', 'ufl', 'ufl edu', 'ug', 'ug dal', 'uga', 'uga edu', 'ugly', 'uh', 'uh edu', 'uhura', 'uhura cc', 'uic', 'uic edu', 'uicvm', 'uicvm uic', 'uio', 'uiowa', 'uiowa edu', 'uiuc', 'uiuc edu', 'uj', 'uk', 'uk ac', 'uk line', 'uk newsreader', 'uk organization', 'uk subject', 'uk write', 'ukans', 'ukans edu', 'uky', 'uky edu', 'ul', 'ulf', 'ulkyvx', 'ulowell', 'ulowell edu', 'ultb', 'ultb isc', 'ultimate', 'ultimately', 'ultra', 'ultra pro', 'ulysses', 'um', 'uma', 'uma edu', 'umanitoba', 'umanitoba ca', 'umcc', 'umd', 'umd edu', 'umich', 'umich edu', 'umn', 'umn edu', 'umr', 'umr edu', 'unable', 'unauthorized', 'unb', 'unb ca', 'unbreakable', 'unc', 'unc edu', 'uncle', 'unclear', 'und', 'undefined', 'undergrad', 'undergrad math', 'underground', 'understand', 'understanding', 'understood', 'unfair', 'unfortunate', 'unfortunately', 'uni', 'uni hamburg', 'uniform', 'union', 'unique', 'unisa', 'unisql', 'unit', 'unit key', 'unite', 'united', 'united kingdom', 'united nation', 'united state', 'unity', 'univ', 'univ pittsburgh', 'univ tenn', 'universal', 'universe', 'university', 'university alaska', 'university ames', 'university arizona', 'university california', 'university chicago', 'university cleveland', 'university college', 'university colorado', 'university compute', 'university computer', 'university delaware', 'university denver', 'university distribution', 'university engineering', 'university georgia', 'university hamburg', 'university illinois', 'university line', 'university maryland', 'university michigan', 'university minnesota', 'university new', 'university north', 'university pennsylvania', 'university pittsburgh', 'university rochester', 'university southern', 'university st', 'university technology', 'university tennessee', 'university texas', 'university toronto', 'university virginia', 'university washington', 'university waterloo', 'university western', 'university wisconsin', 'unix', 'unix amherst', 'unix brookline', 'unix denver', 'unixg', 'unixg ubc', 'unknown', 'unl', 'unl edu', 'unless', 'unlike', 'unlikely', 'unlimited', 'unm', 'unm edu', 'unnecessary', 'unocal', 'unocal com', 'unreasonable', 'unt', 'unt edu', 'unto', 'unusual', 'unx', 'unx sa', 'uo', 'uokmax', 'uokmax ecn', 'uoknor', 'uoknor edu', 'uoregon', 'uoregon edu', 'update', 'updated', 'upenn', 'upenn edu', 'upgrade', 'upload', 'upper', 'ups', 'upset', 'uq', 'ur', 'uranium', 'urartu', 'urartu sdpa', 'urban', 'urbana', 'urbana line', 'urge', 'ursa', 'usa', 'usa line', 'usa nntp', 'usa organization', 'usable', 'usage', 'usc', 'usc edu', 'usd', 'usd edu', 'use', 'use device', 'use different', 'use drug', 'use key', 'use new', 'use program', 'use standard', 'use use', 'use window', 'use word', 'used', 'useful', 'useless', 'usenet', 'usenet cwru', 'usenet news', 'user', 'user group', 'user interface', 'user necessarily', 'useragent', 'useragent nuntius', 'usl', 'usl edu', 'usr', 'usr lib', 'ussr', 'usual', 'usually', 'ut', 'uta', 'uta edu', 'utah', 'utah edu', 'utarlg', 'utarlg uta', 'utc', 'utexas', 'utexas edu', 'utica', 'utility', 'utilize', 'utk', 'utk edu', 'utkvm1', 'utkvm1 utk', 'utoronto', 'utoronto ca', 'utsa', 'utsa edu', 'utter', 'utterly', 'utzoo', 'utzoo henry', 'uu', 'uu net', 'uu se', 'uucp', 'uucp frank', 'uucp pat', 'uucp serdar', 'uucp uunet', 'uuencode', 'uunet', 'uunet pyramid', 'uunet uu', 'uv', 'uva', 'uvic', 'uvic ca', 'uw', 'uw0', 'uwa', 'uwaterloo', 'uwaterloo ca', 'uwec', 'uwec edu', 'uwm', 'uwm edu', 'uwo', 'uwo ca', 'uww', 'uww7', 'ux', 'ux1', 'ux1 cso', 'ux4', 'ux4 cso', 'uxa', 'uxa cso', 'uxh', 'uxh cso', 'uy', 'uz', 'v0', 'v1', 'v2', 'v3', 'v6', 'v9fq', 'va', 'va line', 'vacation', 'vaccine', 'vacuum', 'vague', 'val', 'valentine', 'valid', 'valley', 'valuable', 'value', 'valve', 'valve heart', 'van', 'vancouver', 'vancouver canada', 'vandalize', 'variable', 'variant', 'variation', 'variety', 'various', 'vary', 'vast', 'vat', 'vax', 'vax vms', 'vcr', 'vd', 've', 've hear', 've heard', 've just', 've read', 've say', 've try', 've use', 'veal', 'vector', 'vegetable', 'vehicle', 'vela', 'vela ac', 'velocity', 'vendor', 'vent', 'venture', 'venus', 'verdict', 'verify', 'vernon', 'versa', 'verse', 'version', 'version available', 'version pl6', 'version pl8', 'version pl9', 'versus', 'vertex', 'vertical', 'vesa', 'vesa local', 'vesselin', 'veteran', 'veto', 'vg', 'vga', 'vga card', 'vga monitor', 'vi', 'vice', 'vice ico', 'vice president', 'vice versa', 'victim', 'victor', 'victoria', 'victory', 'video', 'video card', 'vietnam', 'view', 'view ca', 'view express', 'viewer', 'viewpoint', 'viking', 'viking iastate', 'village', 'vincent', 'viola', 'violate', 'violation', 'violence', 'violent', 'violent crime', 'viper', 'virgin', 'virginia', 'virginia edu', 'virginia line', 'virtual', 'virtual reality', 'virtually', 'virtue', 'virus', 'virus test', 'visible', 'vision', 'visit', 'visual', 'visualization', 'vitamin', 'vl', 'vlb', 'vm', 'vma', 'vmk', 'vms', 'vms news', 'vms vnews', 'vnet', 'vnet ibm', 'vnews', 'vnews 41', 'vo', 'voice', 'voice encryption', 'void', 'vol', 'volt', 'voltage', 'volume', 'volume number', 'voluntary', 'volunteer', 'volvo', 'vos', 'vos stratus', 'vote', 'voter', 'voyager', 'vp', 'vpic46', 'vr', 'vram', 'vs', 'vt', 'vt edu', 'vu', 'vulnerable', 'vw', 'w0', 'w1', 'w1t', 'w1w', 'w2', 'w3p', 'w3q', 'w3s', 'w4', 'w44', 'w45', 'w47', 'w4wg', 'w7', 'w8', 'wa', 'waco', 'waco today', 'wade', 'wage', 'wagner', 'wagon', 'waii', 'waii com', 'wait', 'wait period', 'wake', 'wale', 'walk', 'walker', 'walker subject', 'wall', 'walla', 'walsh', 'walter', 'wam', 'wam umd', 'wan', 'wan na', 'wang', 'want', 'want buy', 'want know', 'want make', 'want organization', 'want say', 'want use', 'war', 'war drug', 'war ii', 'ward', 'warm', 'warn', 'warn read', 'warning', 'warrant', 'warranty', 'warren', 'warsaw', 'warwick', 'wash', 'washer', 'washington', 'washington dc', 'washington edu', 'washington seattle', 'washington university', 'wasn', 'waste', 'waste time', 'watch', 'water', 'waterloo', 'watson', 'watson ibm', 'watt', 'wave', 'wax', 'way', 'way escape', 'way just', 'way know', 'way make', 'way tell', 'wayne', 'wayne smith', 'wb', 'wc', 'wd', 'weak', 'weakness', 'wealth', 'weapon', 'wear', 'weather', 'weaver', 'wed', 'wednesday', 'week', 'week ago', 'weekend', 'weekly', 'wei', 'weigh', 'weight', 'weird', 'weird al', 'welch', 'welcome', 'welfare', 'welty', 'weren', 'wesleyan', 'wesleyan edu', 'west', 'west bank', 'western', 'western digital', 'western reserve', 'wet', 'wg2', 'wg2 waii', 'whaler', 'whaley', 'whatsoever', 'wheel', 'white', 'white house', 'wi', 'wide', 'widely', 'widespread', 'widget', 'widget set', 'width', 'wife', 'wild', 'william', 'williams', 'willie', 'willing', 'willis', 'wilson', 'wimsey', 'wimsey bc', 'win', 'win cup', 'win game', 'win nt', 'win win', 'win3', 'winbench', 'wind', 'window', 'window application', 'window driver', 'window manager', 'window nt', 'window organization', 'window use', 'window version', 'window window', 'windows', 'winfield', 'wing', 'wingate', 'winner', 'winnipeg', 'winnipeg jet', 'winona', 'winter', 'wip', 'wipe', 'wire', 'wiretap', 'wiretap chip', 'wiring', 'wisc', 'wisc edu', 'wisconsin', 'wisconsin madison', 'wisdom', 'wise', 'wish', 'wit', 'withdraw', 'witness', 'wk', 'wlsmith', 'wlsmith valve', 'wm', 'wm wm', 'wm4u', 'wmbxn', 'wn', 'wolf', 'wolverine', 'woman', 'woman child', 'wonder', 'wonderful', 'wong', 'wood', 'worcester', 'word', 'word god', 'wordperfect', 'work', 'work extermination', 'work fine', 'work great', 'work group', 'work henry', 'work just', 'work like', 'work man', 'work way', 'worker', 'working', 'workshop', 'workspace', 'workstation', 'world', 'world line', 'world nntp', 'world organization', 'world public', 'world reply', 'world series', 'world std', 'world war', 'world wide', 'worried', 'worry', 'worse', 'worship', 'worst', 'worth', 'worthless', 'worthwhile', 'worthy', 'wouldn', 'wound', 'wow', 'wp', 'wpd', 'wpd sgi', 'wpi', 'wpi edu', 'wpi wpi', 'wrap', 'wrench', 'wright', 'wright edu', 'wrist', 'write', 'write anybody', 'write article', 'write book', 'write don', 'write good', 'write hello', 'write hi', 'write just', 'write know', 'write like', 'write look', 'write new', 'write people', 'write previous', 'write question', 'write say', 'write stuff', 'write think', 'write today', 'write use', 'write ve', 'writer', 'writes', 'writes article', 'writing', 'wrong', 'wt', 'wu', 'wuarchive', 'wuarchive wustl', 'wustl', 'wustl edu', 'wv', 'ww', 'ww7', 'wwc', 'wwc edu', 'wwii', 'wwiz', 'x11', 'x11r4', 'x11r5', 'x3', 'x386', 'x5', 'x6', 'x7', 'xdm', 'xerox', 'xfree86', 'xi', 'xj', 'xl', 'xlib', 'xm', 'xmu', 'xmu libxmu', 'xor', 'xpert', 'xpert expo', 'xputimage', 'xr', 'xsun', 'xt', 'xte', 'xterm', 'xtsetarg', 'xv', 'xview', 'xvoid', 'xwd', 'xx', 'xxdate', 'xxmessage', 'xxmessage id', 'xxxx', 'xy', 'y0', 'y8', 'ya', 'yalanci', 'yalcin', 'yale', 'yale edu', 'yamaha', 'yang', 'yankee', 'yard', 'yassin', 'yd', 'ye', 'yeah', 'yeah right', 'year', 'year ago', 'year later', 'year old', 'year say', 'year year', 'yeast', 'yee', 'yell', 'yellow', 'yep', 'yes', 'yesterday', 'yf9', 'yfn', 'yfn ysu', 'yield', 'yigal', 'yj', 'yn', 'yo', 'york', 'york city', 'york time', 'young', 'young people', 'younger', 'youngstown', 'youth', 'yoyo', 'yoyo cc', 'yr', 'ysu', 'ysu edu', 'yu', 'yuma', 'yuma acns', 'yup', 'yx', 'yzerman', 'z0', 'z1', 'z5', 'z6ei', 'z7', 'za', 'zd', 'zealand', 'zeos', 'zero', 'zeus', 'zionism', 'zionist', 'zip', 'zisfein', 'zisfein factory', 'zone', 'zoo', 'zoo toronto', 'zoology', 'zoology kipling', 'zoology line', 'zoom', 'zoroastrian', 'zq', 'zuma', 'zuma uucp', 'zv', 'zx', 'zx 11', 'zz']\n",
            "\n",
            "훈련 데이터 tfidf: (11314, 10000)\n",
            "테스트 데이터 tfidf: (7532, 10000)\n",
            "\n",
            "배치 사이즈 설정: 100\n",
            "학습 에폭 수 설정: 1000\n",
            "은닉 노드 수 설정: 1000\n",
            "========= 모델 전체 구조 =========\n",
            "Model: \"model\"\n",
            "_________________________________________________________________\n",
            "Layer (type)                 Output Shape              Param #   \n",
            "=================================================================\n",
            "input_1 (InputLayer)         [(None, 10000)]           0         \n",
            "_________________________________________________________________\n",
            "dense_2 (Dense)              (None, 1000)              10001000  \n",
            "_________________________________________________________________\n",
            "dropout_1 (Dropout)          (None, 1000)              0         \n",
            "_________________________________________________________________\n",
            "dense_3 (Dense)              (None, 20)                20020     \n",
            "=================================================================\n",
            "Total params: 10,021,020\n",
            "Trainable params: 10,021,020\n",
            "Non-trainable params: 0\n",
            "_________________________________________________________________\n",
            "None\n",
            "\n",
            "Epoch 1/1000\n",
            "114/114 [==============================] - 7s 63ms/step - loss: 1.7694 - val_loss: 0.9146\n",
            "Epoch 2/1000\n",
            "114/114 [==============================] - 7s 63ms/step - loss: 0.3903 - val_loss: 0.6388\n",
            "Epoch 3/1000\n",
            "114/114 [==============================] - 7s 62ms/step - loss: 0.1665 - val_loss: 0.5870\n",
            "Epoch 4/1000\n",
            "114/114 [==============================] - 7s 63ms/step - loss: 0.0835 - val_loss: 0.5751\n",
            "Epoch 5/1000\n",
            "114/114 [==============================] - 7s 63ms/step - loss: 0.0472 - val_loss: 0.5714\n",
            "Epoch 6/1000\n",
            "114/114 [==============================] - 7s 63ms/step - loss: 0.0292 - val_loss: 0.5828\n",
            "Epoch 7/1000\n",
            "114/114 [==============================] - 7s 63ms/step - loss: 0.0197 - val_loss: 0.5876\n",
            "Epoch 8/1000\n",
            "114/114 [==============================] - 7s 64ms/step - loss: 0.0147 - val_loss: 0.5994\n",
            "Epoch 9/1000\n",
            "114/114 [==============================] - 7s 64ms/step - loss: 0.0113 - val_loss: 0.6024\n",
            "Epoch 10/1000\n",
            "114/114 [==============================] - 7s 62ms/step - loss: 0.0093 - val_loss: 0.6117\n",
            "Epoch 00010: early stopping\n"
          ],
          "name": "stdout"
        },
        {
          "output_type": "display_data",
          "data": {
            "image/png": "[encoded data removed]",
            "text/plain": [
              "<Figure size 432x288 with 1 Axes>"
            ]
          },
          "metadata": {
            "tags": [],
            "needs_background": "light"
          }
        },
        {
          "output_type": "stream",
          "text": [
            "Train Accuracy: 0.9995580696482235\n",
            "Test Accuracy: 0.8248805098247477\n"
          ],
          "name": "stdout"
        }
      ]
    },
    {
      "cell_type": "code",
      "metadata": {
        "id": "4F06B7jgPt7_",
        "colab_type": "code",
        "colab": {}
      },
      "source": [
        ""
      ],
      "execution_count": null,
      "outputs": []
    },
    {
      "cell_type": "markdown",
      "metadata": {
        "id": "-4i1xtgiS2UP",
        "colab_type": "text"
      },
      "source": [
        "# =========== 테스트 ==========="
      ]
    },
    {
      "cell_type": "code",
      "metadata": {
        "id": "MXzzcBAwO84u",
        "colab_type": "code",
        "colab": {
          "base_uri": "https://localhost:8080/",
          "height": 72
        },
        "outputId": "837d5e82-433a-4c83-f46a-e5404b759c2e"
      },
      "source": [
        "for sent in nltk.sent_tokenize('I was wondering if anyone out there could enlighten me on this car I saw the other day. It was a 2-door sports car, looked to be from the late 60s early 70s.If anyone can tellme a model name, engine specs, years of production, where this car is made, history, or whatever info you have on this funky looking car, please e-mail.'):\n",
        "    print(sent)"
      ],
      "execution_count": null,
      "outputs": [
        {
          "output_type": "stream",
          "text": [
            "I was wondering if anyone out there could enlighten me on this car I saw the other day.\n",
            "It was a 2-door sports car, looked to be from the late 60s early 70s.If anyone can tellme a model name, engine specs, years of production, where this car is made, history, or whatever info you have on this funky looking car, please e-mail.\n"
          ],
          "name": "stdout"
        }
      ]
    },
    {
      "cell_type": "code",
      "metadata": {
        "id": "vkYLYGzXPPbt",
        "colab_type": "code",
        "colab": {
          "base_uri": "https://localhost:8080/",
          "height": 846
        },
        "outputId": "088b919d-67f9-45c8-f1ab-0005d85eb4a3"
      },
      "source": [
        "test = \"I was wondering if anyone out there could enlighten me on this car I saw the other day. It was a 2-door sports car, looked to be from the late 60s early 70s.If anyone can tellme a model name, engine specs, years of production, where this car is made, history, or whatever info you have on this funky looking car, please e-mail.\"\n",
        "\n",
        "\n",
        "tokens = []\n",
        "for sent in nltk.sent_tokenize(test): # 문단 -> 문장\n",
        "    for word in nltk.word_tokenize(sent): # 문장 -> 단어\n",
        "        tokens.append(word.lower()) # 소문자\n",
        "print(\"토큰화\")\n",
        "print(tokens)\n",
        "print()\n",
        "\n",
        "# 불용어 제거, 길이 3이상인 단어만 남기기\n",
        "stopwords_list= stopwords.words('english')\n",
        "tokens = [token for token in tokens if token not in stopwords_list] # 토큰 중 불용어 제거\n",
        "tokens = [word for word in tokens if len(word) >= 3] # 길이 2이하 제거\n",
        "print(\"불용어 제거\")\n",
        "print(tokens)\n",
        "print()\n",
        "\n",
        "# 어간 분석: optional\n",
        "stemmer = PorterStemmer()\n",
        "try:\n",
        "    tokens = [stemmer.stem(word) for word in tokens]\n",
        "except:\n",
        "    tokens = tokens\n",
        "print(\"어간 분석\")\n",
        "print()\n",
        "\n",
        "# 품사 태깅\n",
        "tagged_corpus = pos_tag(tokens)\n",
        "print(\"품사 태깅\")\n",
        "print(tagged_corpus)\n",
        "print()\n",
        "\n",
        "# prat_lemmatize\n",
        "n_tags = ['NN', 'NNP', 'NNPS', 'NNS']\n",
        "v_tags = ['VB', 'VBD', 'VBG', 'VBN', 'VBP', 'VBZ']\n",
        "lemmatizer = WordNetLemmatizer()\n",
        "def prat_lemmatize(token, tag):\n",
        "    if tag in n_tags:\n",
        "        return lemmatizer.lemmatize(token, 'n')\n",
        "    elif tag in v_tags:\n",
        "        return lemmatizer.lemmatize(token, 'v')\n",
        "    else:\n",
        "        return lemmatizer.lemmatize(token, 'n')\n",
        "\n",
        "print(\"prat_lemmatize\")\n",
        "for token, tag in tagged_corpus:\n",
        "    print(prat_lemmatize(token, tag))\n",
        "print()"
      ],
      "execution_count": null,
      "outputs": [
        {
          "output_type": "stream",
          "text": [
            "토큰화\n",
            "['i', 'was', 'wondering', 'if', 'anyone', 'out', 'there', 'could', 'enlighten', 'me', 'on', 'this', 'car', 'i', 'saw', 'the', 'other', 'day', '.', 'it', 'was', 'a', '2-door', 'sports', 'car', ',', 'looked', 'to', 'be', 'from', 'the', 'late', '60s', 'early', '70s.if', 'anyone', 'can', 'tellme', 'a', 'model', 'name', ',', 'engine', 'specs', ',', 'years', 'of', 'production', ',', 'where', 'this', 'car', 'is', 'made', ',', 'history', ',', 'or', 'whatever', 'info', 'you', 'have', 'on', 'this', 'funky', 'looking', 'car', ',', 'please', 'e-mail', '.']\n",
            "\n",
            "불용어 제거\n",
            "['wondering', 'anyone', 'could', 'enlighten', 'car', 'saw', 'day', '2-door', 'sports', 'car', 'looked', 'late', '60s', 'early', '70s.if', 'anyone', 'tellme', 'model', 'name', 'engine', 'specs', 'years', 'production', 'car', 'made', 'history', 'whatever', 'info', 'funky', 'looking', 'car', 'please', 'e-mail']\n",
            "\n",
            "어간 분석\n",
            "\n",
            "품사 태깅\n",
            "[('wonder', 'NN'), ('anyon', 'NN'), ('could', 'MD'), ('enlighten', 'VB'), ('car', 'NN'), ('saw', 'JJ'), ('day', 'NN'), ('2-door', 'JJ'), ('sport', 'NN'), ('car', 'NN'), ('look', 'NN'), ('late', 'RB'), ('60', 'CD'), ('earli', 'JJ'), ('70s.if', 'CD'), ('anyon', 'NN'), ('tellm', 'NN'), ('model', 'NN'), ('name', 'NN'), ('engin', 'NN'), ('spec', 'JJ'), ('year', 'NN'), ('product', 'NN'), ('car', 'NN'), ('made', 'VBD'), ('histori', 'NN'), ('whatev', 'NN'), ('info', 'NN'), ('funki', 'VBP'), ('look', 'NN'), ('car', 'NN'), ('pleas', 'NNS'), ('e-mail', 'VBP')]\n",
            "\n",
            "prat_lemmatize\n",
            "wonder\n",
            "anyon\n",
            "could\n",
            "enlighten\n",
            "car\n",
            "saw\n",
            "day\n",
            "2-door\n",
            "sport\n",
            "car\n",
            "look\n",
            "late\n",
            "60\n",
            "earli\n",
            "70s.if\n",
            "anyon\n",
            "tellm\n",
            "model\n",
            "name\n",
            "engin\n",
            "spec\n",
            "year\n",
            "product\n",
            "car\n",
            "make\n",
            "histori\n",
            "whatev\n",
            "info\n",
            "funki\n",
            "look\n",
            "car\n",
            "plea\n",
            "e-mail\n",
            "\n"
          ],
          "name": "stdout"
        }
      ]
    },
    {
      "cell_type": "markdown",
      "metadata": {
        "id": "n_vEwMHOW9nn",
        "colab_type": "text"
      },
      "source": [
        "* stemmer 때문에 이상한 건가?\n",
        "> 애초에 위에 lxr 등등 이상한 이메일 있었다."
      ]
    },
    {
      "cell_type": "code",
      "metadata": {
        "id": "U2batfapQT--",
        "colab_type": "code",
        "colab": {
          "base_uri": "https://localhost:8080/",
          "height": 72
        },
        "outputId": "98863014-179e-4e98-fc8c-14c0437f4d81"
      },
      "source": [
        "# 전처리 진행\n",
        "X_train_preprocessed = []\n",
        "for text in X_train:\n",
        "    X_train_preprocessed.append(preprocessing(text))\n",
        "\n",
        "X_test_preprocessed = []\n",
        "for text in X_test:\n",
        "    X_test_preprocessed.append(preprocessing(text))\n",
        "\n",
        "# 전처리 후 데이터 확인\n",
        "print(\"전처리된 훈련용 샘플 이메일\")\n",
        "print(X_train_preprocessed[0])"
      ],
      "execution_count": null,
      "outputs": [
        {
          "output_type": "stream",
          "text": [
            "전처리된 훈련용 샘플 이메일\n",
            "lerxst wam umd edu thing subject car nntp post host rac3 wam umd edu organ univers maryland colleg park line wonder anyon could enlighten car saw day door sport car look late 60 earli 70 call bricklin door realli small addit front bumper separ rest bodi know anyon tellm model name engin spec year product car make histori whatev info funki look car plea mail thank bring neighborhood lerxst\n"
          ],
          "name": "stdout"
        }
      ]
    },
    {
      "cell_type": "markdown",
      "metadata": {
        "id": "nRrQgUt7jIPY",
        "colab_type": "text"
      },
      "source": [
        "* tf-idf vectorizer 결과\n",
        "> 책 코드에 왜 \n",
        "```\n",
        "x_train_2 = vectorizer.fit(x_train_preprocessed)\n",
        "x_train_2 = vectorizer.transform(x_train_preprocessed).todense()\n",
        "```\n",
        "굳이 이렇게 두 개 나눠놨는지 모르겠다."
      ]
    },
    {
      "cell_type": "code",
      "metadata": {
        "id": "ACmtmkKMjKNE",
        "colab_type": "code",
        "colab": {
          "base_uri": "https://localhost:8080/",
          "height": 52
        },
        "outputId": "fca02b8b-cbbc-4bb6-f23a-1ddbc3c06832"
      },
      "source": [
        "test_vectorizer = TfidfVectorizer(min_df=2, ngram_range=(1, 2),\n",
        "                                  stop_words='english',\n",
        "                                  max_features=10000)\n",
        "\n",
        "test_matrix = test_vectorizer.fit_transform(X_train_preprocessed)\n",
        "test_matrix"
      ],
      "execution_count": null,
      "outputs": [
        {
          "output_type": "execute_result",
          "data": {
            "text/plain": [
              "<11314x10000 sparse matrix of type '<class 'numpy.float64'>'\n",
              "\twith 1074009 stored elements in Compressed Sparse Row format>"
            ]
          },
          "metadata": {
            "tags": []
          },
          "execution_count": 41
        }
      ]
    },
    {
      "cell_type": "code",
      "metadata": {
        "id": "hjOK8OIGljeT",
        "colab_type": "code",
        "colab": {
          "base_uri": "https://localhost:8080/",
          "height": 140
        },
        "outputId": "c27887e3-7348-48db-bc72-bb1258c04b43"
      },
      "source": [
        "test_vectorizer_2 = TfidfVectorizer(min_df=2, ngram_range=(1, 2),\n",
        "                                    stop_words='english',\n",
        "                                    max_features=10000)\n",
        "test_2 = test_vectorizer.fit(X_train_preprocessed)\n",
        "test_2"
      ],
      "execution_count": null,
      "outputs": [
        {
          "output_type": "execute_result",
          "data": {
            "text/plain": [
              "TfidfVectorizer(analyzer='word', binary=False, decode_error='strict',\n",
              "                dtype=<class 'numpy.float64'>, encoding='utf-8',\n",
              "                input='content', lowercase=True, max_df=1.0, max_features=10000,\n",
              "                min_df=2, ngram_range=(1, 2), norm='l2', preprocessor=None,\n",
              "                smooth_idf=True, stop_words='english', strip_accents=None,\n",
              "                sublinear_tf=False, token_pattern='(?u)\\\\b\\\\w\\\\w+\\\\b',\n",
              "                tokenizer=None, use_idf=True, vocabulary=None)"
            ]
          },
          "metadata": {
            "tags": []
          },
          "execution_count": 42
        }
      ]
    },
    {
      "cell_type": "markdown",
      "metadata": {
        "id": "mFdM-Ut2nYbT",
        "colab_type": "text"
      },
      "source": [
        "* 모델링 단계"
      ]
    },
    {
      "cell_type": "code",
      "metadata": {
        "id": "R2z6ejy9nZ55",
        "colab_type": "code",
        "colab": {
          "base_uri": "https://localhost:8080/",
          "height": 52
        },
        "outputId": "2dd8cce9-2608-44b2-9a47-efb337bf2693"
      },
      "source": [
        "np.unique(y_train)"
      ],
      "execution_count": null,
      "outputs": [
        {
          "output_type": "execute_result",
          "data": {
            "text/plain": [
              "array([ 0,  1,  2,  3,  4,  5,  6,  7,  8,  9, 10, 11, 12, 13, 14, 15, 16,\n",
              "       17, 18, 19])"
            ]
          },
          "metadata": {
            "tags": []
          },
          "execution_count": 49
        }
      ]
    }
  ]
}