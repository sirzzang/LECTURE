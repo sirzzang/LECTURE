{
  "nbformat": 4,
  "nbformat_minor": 0,
  "metadata": {
    "colab": {
      "name": "NLP-Keras-Popcorn-LSTM-practice.ipynb",
      "provenance": []
    },
    "kernelspec": {
      "name": "python3",
      "display_name": "Python 3"
    }
  },
  "cells": [
    {
      "cell_type": "markdown",
      "metadata": {
        "id": "dMPylLCpk2jo",
        "colab_type": "text"
      },
      "source": [
        "# IMDB 영화 리뷰 데이터\n",
        "\n",
        " Kaggle 영화리뷰 데이터 LSTM 분석"
      ]
    },
    {
      "cell_type": "code",
      "metadata": {
        "id": "nd0oTLDfkwf9",
        "colab_type": "code",
        "colab": {}
      },
      "source": [
        "# 모듈 불러 오기\n",
        "import numpy as np\n",
        "from sklearn.model_selection import train_test_split\n",
        "from tensorflow.keras.layers import Input, Embedding, Dropout, Dense, LSTM\n",
        "from tensorflow.keras.models import Model\n",
        "from tensorflow.keras.optimizers import Adam\n",
        "from tensorflow.keras.regularizers import l2\n",
        "from tensorflow.keras.callbacks import EarlyStopping\n",
        "import matplotlib.pyplot as plt"
      ],
      "execution_count": 23,
      "outputs": []
    },
    {
      "cell_type": "code",
      "metadata": {
        "id": "pIFTu4pOniK8",
        "colab_type": "code",
        "colab": {}
      },
      "source": [
        "# 경로 설정\n",
        "root_path = \"/content/drive/My Drive/멀티캠퍼스/[혁신성장] 인공지능 자연어처리 기반/[강의]/조성현 강사님\"\n",
        "data_path = f\"{root_path}/dataset\"\n",
        "data_input_path = f\"{data_path}/4-1.train_input.npy\"\n",
        "data_label_path = f\"{data_path}/4-1.train_label.npy\""
      ],
      "execution_count": 24,
      "outputs": []
    },
    {
      "cell_type": "markdown",
      "metadata": {
        "id": "jYN9rQ88opve",
        "colab_type": "text"
      },
      "source": [
        "데이터 형태 확인\n",
        "\n",
        "```\n",
        "# data_input\n",
        "\n",
        "array([[  404,    70,   419, ...,    25,    16,   640],\n",
        "       [  232,   203,  3048, ...,     0,     0,     0],\n",
        "       [    2,   382,  2818, ...,  1109,    49,    30],\n",
        "       ...,\n",
        "       [  117,  3104,    14, ...,     0,     0,     0],\n",
        "       [  639,   516, 16593, ...,     0,     0,     0],\n",
        "       [  109,     1,   350, ...,     0,     0,     0]], dtype=int32)\n",
        "\n",
        "```"
      ]
    },
    {
      "cell_type": "code",
      "metadata": {
        "id": "fnLyN6Ewn3t3",
        "colab_type": "code",
        "colab": {}
      },
      "source": [
        "# 데이터 로드\n",
        "data_input = np.load(open(data_input_path, 'rb'))\n",
        "data_label = np.load(open(data_label_path, 'rb'))"
      ],
      "execution_count": 25,
      "outputs": []
    },
    {
      "cell_type": "code",
      "metadata": {
        "id": "XvabuYnHn4HX",
        "colab_type": "code",
        "colab": {}
      },
      "source": [
        "# 데이터 분리\n",
        "X_train, X_test, y_train, y_test = train_test_split(data_input, data_label, \n",
        "                                                    test_size=0.1, \n",
        "                                                    random_state=42) "
      ],
      "execution_count": 26,
      "outputs": []
    },
    {
      "cell_type": "code",
      "metadata": {
        "id": "gMZXIhF6ojP9",
        "colab_type": "code",
        "colab": {
          "base_uri": "https://localhost:8080/",
          "height": 70
        },
        "outputId": "3d83dbec-0a54-4584-c60f-932905e18bbb"
      },
      "source": [
        "# LSTM 모델 파라미터 설정\n",
        "VOCAB_SIZE = data_input.max() + 1 # 패딩용 단어\n",
        "EMBEDDING_DIM = int(input('임베딩 벡터 차원 설정: '))\n",
        "n_hidden = int(input('LSTM 출력 노드 수 설정: '))\n",
        "FEATURE_DIM = int(input('은닉층 노드 수 설정: '))"
      ],
      "execution_count": 27,
      "outputs": [
        {
          "output_type": "stream",
          "text": [
            "임베딩 벡터 차원 설정: 64\n",
            "LSTM 출력 노드 수 설정: 128\n",
            "은닉층 노드 수 설정: 256\n"
          ],
          "name": "stdout"
        }
      ]
    },
    {
      "cell_type": "code",
      "metadata": {
        "id": "_3OGRjLQooAE",
        "colab_type": "code",
        "colab": {}
      },
      "source": [
        "# LSTM 네트워크 설정\n",
        "X_input = Input(batch_shape=(None, data_input.shape[1]))\n",
        "X_embed = Embedding(input_dim=VOCAB_SIZE, output_dim=EMBEDDING_DIM)(X_input)\n",
        "X_embed = Dropout(0.2)(X_embed)\n",
        "X_lstm = LSTM(n_hidden)(X_embed)\n",
        "X_dense = Dense(FEATURE_DIM, activation='relu', kernel_regularizer=l2(0.01))(X_lstm)\n",
        "y_output = Dense(1, activation='sigmoid')(X_dense)"
      ],
      "execution_count": 28,
      "outputs": []
    },
    {
      "cell_type": "code",
      "metadata": {
        "id": "xQHfhUW6pw1f",
        "colab_type": "code",
        "colab": {
          "base_uri": "https://localhost:8080/",
          "height": 408
        },
        "outputId": "fff74bed-db6e-4e54-e51e-7a5273d8d9f6"
      },
      "source": [
        "# 모델 설정\n",
        "model = Model(X_input, y_output)\n",
        "model.compile(loss='binary_crossentropy', optimizer=Adam(learning_rate=0.0005))\n",
        "print(\"========= 모델 전체 구조 확인 =========\")\n",
        "print(model.summary())"
      ],
      "execution_count": 29,
      "outputs": [
        {
          "output_type": "stream",
          "text": [
            "========= 모델 전체 구조 확인 =========\n",
            "Model: \"functional_3\"\n",
            "_________________________________________________________________\n",
            "Layer (type)                 Output Shape              Param #   \n",
            "=================================================================\n",
            "input_2 (InputLayer)         [(None, 174)]             0         \n",
            "_________________________________________________________________\n",
            "embedding_1 (Embedding)      (None, 174, 64)           4740224   \n",
            "_________________________________________________________________\n",
            "dropout_1 (Dropout)          (None, 174, 64)           0         \n",
            "_________________________________________________________________\n",
            "lstm_1 (LSTM)                (None, 128)               98816     \n",
            "_________________________________________________________________\n",
            "dense_2 (Dense)              (None, 256)               33024     \n",
            "_________________________________________________________________\n",
            "dense_3 (Dense)              (None, 1)                 257       \n",
            "=================================================================\n",
            "Total params: 4,872,321\n",
            "Trainable params: 4,872,321\n",
            "Non-trainable params: 0\n",
            "_________________________________________________________________\n",
            "None\n"
          ],
          "name": "stdout"
        }
      ]
    },
    {
      "cell_type": "code",
      "metadata": {
        "id": "nI6SiWGGqWO9",
        "colab_type": "code",
        "colab": {
          "base_uri": "https://localhost:8080/",
          "height": 1000
        },
        "outputId": "2db6b33b-e231-4a57-c594-e398abbe38eb"
      },
      "source": [
        "# 모델 학습\n",
        "y_train = y_train.reshape(-1, 1) # 2차원 array로 변경\n",
        "y_test = y_test.reshape(-1, 1)\n",
        "\n",
        "EPOCHS = int(input('학습 에폭 수 설정: '))\n",
        "BATCH = int(input('배치 사이즈 설정: '))\n",
        "\n",
        "es = EarlyStopping(monitor='val_loss', patience=5, verbose=1)\n",
        "hist = model.fit(X_train, y_train,\n",
        "                 validation_data = (X_test, y_test),\n",
        "                 batch_size=BATCH,\n",
        "                 epochs=EPOCHS,\n",
        "                 callbacks=[es])"
      ],
      "execution_count": 30,
      "outputs": [
        {
          "output_type": "stream",
          "text": [
            "학습 에폭 수 설정: 1000\n",
            "배치 사이즈 설정: 500\n",
            "Epoch 1/1000\n",
            "45/45 [==============================] - 84s 2s/step - loss: 2.0040 - val_loss: 1.6536\n",
            "Epoch 2/1000\n",
            "45/45 [==============================] - 81s 2s/step - loss: 1.3900 - val_loss: 1.2030\n",
            "Epoch 3/1000\n",
            "45/45 [==============================] - 85s 2s/step - loss: 1.0682 - val_loss: 0.9670\n",
            "Epoch 4/1000\n",
            "45/45 [==============================] - 79s 2s/step - loss: 0.8708 - val_loss: 0.8141\n",
            "Epoch 5/1000\n",
            "45/45 [==============================] - 82s 2s/step - loss: 0.7547 - val_loss: 0.7207\n",
            "Epoch 6/1000\n",
            "45/45 [==============================] - 82s 2s/step - loss: 0.6783 - val_loss: 0.6804\n",
            "Epoch 7/1000\n",
            "45/45 [==============================] - 81s 2s/step - loss: 0.6500 - val_loss: 0.6605\n",
            "Epoch 8/1000\n",
            "45/45 [==============================] - 82s 2s/step - loss: 0.6342 - val_loss: 0.6469\n",
            "Epoch 9/1000\n",
            "45/45 [==============================] - 76s 2s/step - loss: 0.6244 - val_loss: 0.6434\n",
            "Epoch 10/1000\n",
            "45/45 [==============================] - 81s 2s/step - loss: 0.6199 - val_loss: 0.6366\n",
            "Epoch 11/1000\n",
            "45/45 [==============================] - 78s 2s/step - loss: 0.6170 - val_loss: 0.6346\n",
            "Epoch 12/1000\n",
            "45/45 [==============================] - 82s 2s/step - loss: 0.6173 - val_loss: 0.6352\n",
            "Epoch 13/1000\n",
            "45/45 [==============================] - 80s 2s/step - loss: 0.6172 - val_loss: 0.6372\n",
            "Epoch 14/1000\n",
            "45/45 [==============================] - 82s 2s/step - loss: 0.6146 - val_loss: 0.6375\n",
            "Epoch 15/1000\n",
            "45/45 [==============================] - 80s 2s/step - loss: 0.6097 - val_loss: 0.6313\n",
            "Epoch 16/1000\n",
            "45/45 [==============================] - 74s 2s/step - loss: 0.6119 - val_loss: 0.6328\n",
            "Epoch 17/1000\n",
            "45/45 [==============================] - 73s 2s/step - loss: 0.6141 - val_loss: 0.6349\n",
            "Epoch 18/1000\n",
            "45/45 [==============================] - 76s 2s/step - loss: 0.6098 - val_loss: 0.6315\n",
            "Epoch 19/1000\n",
            "45/45 [==============================] - 79s 2s/step - loss: 0.6022 - val_loss: 0.6185\n",
            "Epoch 20/1000\n",
            "45/45 [==============================] - 74s 2s/step - loss: 0.6077 - val_loss: 0.6279\n",
            "Epoch 21/1000\n",
            "45/45 [==============================] - 75s 2s/step - loss: 0.6112 - val_loss: 0.6244\n",
            "Epoch 22/1000\n",
            "45/45 [==============================] - 70s 2s/step - loss: 0.6045 - val_loss: 0.6250\n",
            "Epoch 23/1000\n",
            "45/45 [==============================] - 70s 2s/step - loss: 0.5884 - val_loss: 0.5999\n",
            "Epoch 24/1000\n",
            "45/45 [==============================] - 70s 2s/step - loss: 0.5586 - val_loss: 0.5762\n",
            "Epoch 25/1000\n",
            "45/45 [==============================] - 70s 2s/step - loss: 0.6473 - val_loss: 0.7101\n",
            "Epoch 26/1000\n",
            "45/45 [==============================] - 71s 2s/step - loss: 0.6923 - val_loss: 0.6950\n",
            "Epoch 27/1000\n",
            "45/45 [==============================] - 70s 2s/step - loss: 0.6825 - val_loss: 0.6961\n",
            "Epoch 28/1000\n",
            "45/45 [==============================] - 71s 2s/step - loss: 0.6734 - val_loss: 0.6933\n",
            "Epoch 29/1000\n",
            "45/45 [==============================] - 70s 2s/step - loss: 0.6135 - val_loss: 0.6785\n",
            "Epoch 00029: early stopping\n"
          ],
          "name": "stdout"
        }
      ]
    },
    {
      "cell_type": "code",
      "metadata": {
        "id": "oTyNF3yiqZ5H",
        "colab_type": "code",
        "colab": {
          "base_uri": "https://localhost:8080/",
          "height": 295
        },
        "outputId": "4bd84065-2acb-42e1-fcf8-e7818aab9222"
      },
      "source": [
        "# loss 시각화\n",
        "plt.plot(hist.history['loss'], label='Train Loss')\n",
        "plt.plot(hist.history['val_loss'], label='Test Loss')\n",
        "plt.legend()\n",
        "plt.title('Loss Trajectory')\n",
        "plt.xlabel('epochs')\n",
        "plt.ylabel('loss')\n",
        "plt.show()"
      ],
      "execution_count": 31,
      "outputs": [
        {
          "output_type": "display_data",
          "data": {
            "image/png": "[encoded data removed]",
            "text/plain": [
              "<Figure size 432x288 with 1 Axes>"
            ]
          },
          "metadata": {
            "tags": [],
            "needs_background": "light"
          }
        }
      ]
    },
    {
      "cell_type": "code",
      "metadata": {
        "id": "CpUaKuQCrDgM",
        "colab_type": "code",
        "colab": {
          "base_uri": "https://localhost:8080/",
          "height": 35
        },
        "outputId": "076ee16a-c044-466f-ea1a-b074be586b6e"
      },
      "source": [
        "# 결과 확인\n",
        "y_pred = model.predict(X_test)\n",
        "y_pred = np.where(y_pred > 0.5, 1, 0) # binary 라벨\n",
        "accuracy = (y_pred == y_test).mean()\n",
        "print(f\"Test Accuracy: {accuracy}\")"
      ],
      "execution_count": 32,
      "outputs": [
        {
          "output_type": "stream",
          "text": [
            "Test Accuracy: 0.6132\n"
          ],
          "name": "stdout"
        }
      ]
    },
    {
      "cell_type": "code",
      "metadata": {
        "id": "CKpidkN8H5wb",
        "colab_type": "code",
        "colab": {}
      },
      "source": [
        ""
      ],
      "execution_count": null,
      "outputs": []
    }
  ]
}