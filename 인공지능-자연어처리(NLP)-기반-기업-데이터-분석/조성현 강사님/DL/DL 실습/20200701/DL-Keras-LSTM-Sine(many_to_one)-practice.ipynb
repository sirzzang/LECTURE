{
  "nbformat": 4,
  "nbformat_minor": 0,
  "metadata": {
    "colab": {
      "name": "DL-Keras-LSTM-Sine(many to one)-practice",
      "provenance": [],
      "collapsed_sections": []
    },
    "kernelspec": {
      "name": "python3",
      "display_name": "Python 3"
    }
  },
  "cells": [
    {
      "cell_type": "markdown",
      "metadata": {
        "id": "RjuR9ynY7CTZ",
        "colab_type": "text"
      },
      "source": [
        "## Noisy Sine 그래프 예측\n",
        "- LSTM `Many-to-One` 방식"
      ]
    },
    {
      "cell_type": "code",
      "metadata": {
        "id": "341FipEl2q5e",
        "colab_type": "code",
        "colab": {}
      },
      "source": [
        "# module import\n",
        "from tensorflow.keras.layers import Dense, Input, LSTM\n",
        "from tensorflow.keras.models import Model\n",
        "from tensorflow.keras.optimizers import Adam\n",
        "import numpy as np\n",
        "import matplotlib.pyplot as plt"
      ],
      "execution_count": 1,
      "outputs": []
    },
    {
      "cell_type": "markdown",
      "metadata": {
        "id": "AhP5757074TB",
        "colab_type": "text"
      },
      "source": [
        "* `createData`\n",
        "    - 입력 1, 출력 1.\n",
        "    - 입력, 출력 데이터는 3차원 텐서로 return한다.\n",
        "\n",
        "* X_data = (1, 2, 3, 4, 5, 6, 7, 8, 9, 10), step=3인 경우의 예시.\n",
        "```\n",
        "m = [0 1 2 3 4 5 6] # 시작할 인덱스\n",
        "step = 윈도우 역할. 몇 기간 설정할 것인지.\n",
        "x = [(1, 2, 3), (2, 3, 4), (3, 4, 5), (4, 5, 6), (5, 6, 7), (6, 7, 8), (7, 8, 9)]\n",
        "# batch_X : (7, 3, 1)\n",
        "batch_X = array([[[1],\n",
        "        [2],\n",
        "        [3]],\n",
        "\n",
        "       [[2],\n",
        "        [3],\n",
        "        [4]],\n",
        "\n",
        "       [[3],\n",
        "        [4],\n",
        "        [5]],\n",
        "\n",
        "       [[4],\n",
        "        [5],\n",
        "        [6]],\n",
        "\n",
        "       [[5],\n",
        "        [6],\n",
        "        [7]],\n",
        "\n",
        "       [[6],\n",
        "        [7],\n",
        "        [8]],\n",
        "\n",
        "       [[7],\n",
        "        [8],\n",
        "        [9]]])\n",
        "m이 numpy array니까 +1 하면 각 원소 +1씩 된다.\n",
        "j를 가지고 하나씩 뒤에까지 구해서 x 다음에 나와야 할 라벨을 구한다.\n",
        "```\n",
        "\n"
      ]
    },
    {
      "cell_type": "markdown",
      "metadata": {
        "id": "seAU6GH7ArfK",
        "colab_type": "text"
      },
      "source": [
        "강사님 코드 수정: 굳이 x, y ,따로 해야 할 필요가 없는듯하다."
      ]
    },
    {
      "cell_type": "code",
      "metadata": {
        "id": "eDuZcO0U7eQC",
        "colab_type": "code",
        "colab": {}
      },
      "source": [
        "# 1차원 배열의 시계열 데이터로 학습용 배치 파일 생성\n",
        "def createData(X_data, step):\n",
        "    '''\n",
        "    <params>\n",
        "        X_data: 생성할 시계열 데이터\n",
        "        step: 시계열\n",
        "    <return>\n",
        "        batch_X : RNN 입력 데이터\n",
        "        batch_Y : RNN 출력 데이터\n",
        "    '''\n",
        "\n",
        "    m = np.arange(len(X_data) - step) # step 전까지. 기본 배열\n",
        "\n",
        "    x, y = [], []\n",
        "\n",
        "    for i in m:\n",
        "        # 입력데이터 생성\n",
        "        a = X_data[i:(i+step)] # step 옮겨 가며 window처럼 생성\n",
        "        x.append(a)\n",
        "        # 라벨데이터 생성\n",
        "        b = X_data[i+1:(i+1+step)]\n",
        "        y.append(b[-1])\n",
        "        \n",
        "    batch_X = np.reshape(np.array(x), (len(m), step, 1)) # D0: 데이터 개수, D1: step, feature: 1.\n",
        "    batch_y = np.reshape(np.array(y), (len(m), 1)) # 각각의 2차원 데이터에 대해 라벨이 하나씩 붙으므로, D0 축은 데이터의 개수, D1축은 라벨 개수니까 1.\n",
        "\n",
        "    return batch_X, batch_y"
      ],
      "execution_count": 2,
      "outputs": []
    },
    {
      "cell_type": "markdown",
      "metadata": {
        "id": "7dhkoMvECLm0",
        "colab_type": "text"
      },
      "source": [
        "원래 sine 곡선: np.sin(2 * np.pi * 0.03 * np.arange(1001))"
      ]
    },
    {
      "cell_type": "code",
      "metadata": {
        "id": "Ir5R9IQVBoN-",
        "colab_type": "code",
        "colab": {}
      },
      "source": [
        "# 시계열 데이터(noise 포함해서 생성)\n",
        "data = np.arange(1001)*0.01 + np.sin(2 * np.pi * 0.03 * np.arange(1001)) + np.random.random(1001)"
      ],
      "execution_count": 3,
      "outputs": []
    },
    {
      "cell_type": "code",
      "metadata": {
        "id": "U1SvD5-vBoLs",
        "colab_type": "code",
        "colab": {
          "base_uri": "https://localhost:8080/",
          "height": 87
        },
        "outputId": "9420cf1b-e7c9-4ef9-cb63-5b2f8fb4e0c4"
      },
      "source": [
        "# parameters\n",
        "n_input = 1 # feature 개수\n",
        "n_output = 1 # 라벨 몇 개인지\n",
        "n_step = int(input('분석할 step(기간) 수를 설정하세요: '))\n",
        "n_hidden = int(input('hidden node 뉴런 수를 설정하세요: '))\n",
        "\n",
        "EPOCHS = int(input('학습 횟수를 설정하세요: '))\n",
        "BATCH = int(input('배치 사이즈를 설정하세요: '))"
      ],
      "execution_count": 4,
      "outputs": [
        {
          "output_type": "stream",
          "text": [
            "분석할 step(기간) 수를 설정하세요: 20\n",
            "hidden node 뉴런 수를 설정하세요: 50\n",
            "학습 횟수를 설정하세요: 100\n",
            "배치 사이즈를 설정하세요: 100\n"
          ],
          "name": "stdout"
        }
      ]
    },
    {
      "cell_type": "code",
      "metadata": {
        "id": "sy3n9TV8BoHd",
        "colab_type": "code",
        "colab": {
          "base_uri": "https://localhost:8080/",
          "height": 34
        },
        "outputId": "0b3c2a63-5e1a-43bf-aeae-0136f9405991"
      },
      "source": [
        "# 시계열 데이터 생성\n",
        "x, y = createData(data, n_step)\n",
        "print(f\"X 데이터: {x.shape}, y 데이터: {y.shape}\")"
      ],
      "execution_count": 5,
      "outputs": [
        {
          "output_type": "stream",
          "text": [
            "X 데이터: (981, 20, 1), y 데이터: (981, 1)\n"
          ],
          "name": "stdout"
        }
      ]
    },
    {
      "cell_type": "code",
      "metadata": {
        "id": "P4xXnB8lBoFU",
        "colab_type": "code",
        "colab": {
          "base_uri": "https://localhost:8080/",
          "height": 721
        },
        "outputId": "587d3d89-6091-4322-c06f-504e4b79a497"
      },
      "source": [
        "print(x[0], y[0]) # 0번째 데이터: 각 20기간이 담겨 있고, 이 때 예측값은 \n",
        "print(x[980], y[980])"
      ],
      "execution_count": 6,
      "outputs": [
        {
          "output_type": "stream",
          "text": [
            "[[0.72964496]\n",
            " [0.49782398]\n",
            " [0.9577234 ]\n",
            " [1.39039079]\n",
            " [1.30723367]\n",
            " [1.12148906]\n",
            " [1.03888043]\n",
            " [1.45742838]\n",
            " [1.10145755]\n",
            " [1.67298889]\n",
            " [1.90270837]\n",
            " [1.65190702]\n",
            " [1.13476454]\n",
            " [1.47911326]\n",
            " [1.52883524]\n",
            " [0.78104294]\n",
            " [0.96430039]\n",
            " [0.4284071 ]\n",
            " [0.08553347]\n",
            " [0.4056696 ]] [-0.102587]\n",
            "[[10.74407208]\n",
            " [10.56170175]\n",
            " [10.89850103]\n",
            " [10.76632535]\n",
            " [10.47590437]\n",
            " [10.36548002]\n",
            " [10.07904619]\n",
            " [ 9.90324359]\n",
            " [ 9.58433099]\n",
            " [ 9.62133737]\n",
            " [ 9.40847772]\n",
            " [ 9.13924125]\n",
            " [ 9.20724198]\n",
            " [ 9.0136407 ]\n",
            " [ 9.97867339]\n",
            " [10.08048213]\n",
            " [10.14861471]\n",
            " [10.05117986]\n",
            " [ 9.76934714]\n",
            " [10.23248581]] [10.86880816]\n"
          ],
          "name": "stdout"
        }
      ]
    },
    {
      "cell_type": "code",
      "metadata": {
        "id": "0UImaH12Bn4k",
        "colab_type": "code",
        "colab": {
          "base_uri": "https://localhost:8080/",
          "height": 281
        },
        "outputId": "c3da4fbd-73a1-4213-a462-5534511121fd"
      },
      "source": [
        "# LSTM 모델 생성\n",
        "x_Input = Input(batch_shape=(None, n_step, 1)) # 몇 개 있는지 모르므로 None\n",
        "x_Lstm = LSTM(n_hidden)(x_Input) # LSTM 뉴런에서 히든으로 나가는 뉴런 수는 50\n",
        "x_Output = Dense(n_output)(x_Lstm) # LSTM 뉴런에서 나와서 출력되어야 하는 수는 1.\n",
        "model = Model(x_Input, x_Output)\n",
        "model.compile(loss='mse',\n",
        "              optimizer=Adam(lr=0.01)) # 회귀 문제이므로\n",
        "print(model.summary())"
      ],
      "execution_count": 7,
      "outputs": [
        {
          "output_type": "stream",
          "text": [
            "Model: \"model\"\n",
            "_________________________________________________________________\n",
            "Layer (type)                 Output Shape              Param #   \n",
            "=================================================================\n",
            "input_1 (InputLayer)         [(None, 20, 1)]           0         \n",
            "_________________________________________________________________\n",
            "lstm (LSTM)                  (None, 50)                10400     \n",
            "_________________________________________________________________\n",
            "dense (Dense)                (None, 1)                 51        \n",
            "=================================================================\n",
            "Total params: 10,451\n",
            "Trainable params: 10,451\n",
            "Non-trainable params: 0\n",
            "_________________________________________________________________\n",
            "None\n"
          ],
          "name": "stdout"
        }
      ]
    },
    {
      "cell_type": "code",
      "metadata": {
        "id": "GxuQe8FtEgSd",
        "colab_type": "code",
        "colab": {
          "base_uri": "https://localhost:8080/",
          "height": 1000
        },
        "outputId": "3fe009d9-9a8e-4a57-f765-8c57ebb96172"
      },
      "source": [
        "# 학습: 학습 시에는 shuffle해도 상관 없음.\n",
        "hist = model.fit(x, y, epochs=EPOCHS, batch_size=BATCH, shuffle=True)"
      ],
      "execution_count": 8,
      "outputs": [
        {
          "output_type": "stream",
          "text": [
            "Epoch 1/100\n",
            "10/10 [==============================] - 0s 14ms/step - loss: 11.3626\n",
            "Epoch 2/100\n",
            "10/10 [==============================] - 0s 13ms/step - loss: 0.7155\n",
            "Epoch 3/100\n",
            "10/10 [==============================] - 0s 13ms/step - loss: 0.2457\n",
            "Epoch 4/100\n",
            "10/10 [==============================] - 0s 13ms/step - loss: 0.1711\n",
            "Epoch 5/100\n",
            "10/10 [==============================] - 0s 15ms/step - loss: 0.1745\n",
            "Epoch 6/100\n",
            "10/10 [==============================] - 0s 14ms/step - loss: 0.1730\n",
            "Epoch 7/100\n",
            "10/10 [==============================] - 0s 13ms/step - loss: 0.1569\n",
            "Epoch 8/100\n",
            "10/10 [==============================] - 0s 14ms/step - loss: 0.1577\n",
            "Epoch 9/100\n",
            "10/10 [==============================] - 0s 13ms/step - loss: 0.1660\n",
            "Epoch 10/100\n",
            "10/10 [==============================] - 0s 13ms/step - loss: 0.1502\n",
            "Epoch 11/100\n",
            "10/10 [==============================] - 0s 13ms/step - loss: 0.1407\n",
            "Epoch 12/100\n",
            "10/10 [==============================] - 0s 13ms/step - loss: 0.1461\n",
            "Epoch 13/100\n",
            "10/10 [==============================] - 0s 13ms/step - loss: 0.1521\n",
            "Epoch 14/100\n",
            "10/10 [==============================] - 0s 13ms/step - loss: 0.1483\n",
            "Epoch 15/100\n",
            "10/10 [==============================] - 0s 14ms/step - loss: 0.1590\n",
            "Epoch 16/100\n",
            "10/10 [==============================] - 0s 14ms/step - loss: 0.1593\n",
            "Epoch 17/100\n",
            "10/10 [==============================] - 0s 13ms/step - loss: 0.1497\n",
            "Epoch 18/100\n",
            "10/10 [==============================] - 0s 13ms/step - loss: 0.1502\n",
            "Epoch 19/100\n",
            "10/10 [==============================] - 0s 13ms/step - loss: 0.1562\n",
            "Epoch 20/100\n",
            "10/10 [==============================] - 0s 13ms/step - loss: 0.1549\n",
            "Epoch 21/100\n",
            "10/10 [==============================] - 0s 13ms/step - loss: 0.1538\n",
            "Epoch 22/100\n",
            "10/10 [==============================] - 0s 14ms/step - loss: 0.1476\n",
            "Epoch 23/100\n",
            "10/10 [==============================] - 0s 13ms/step - loss: 0.1437\n",
            "Epoch 24/100\n",
            "10/10 [==============================] - 0s 13ms/step - loss: 0.1333\n",
            "Epoch 25/100\n",
            "10/10 [==============================] - 0s 13ms/step - loss: 0.1351\n",
            "Epoch 26/100\n",
            "10/10 [==============================] - 0s 13ms/step - loss: 0.1429\n",
            "Epoch 27/100\n",
            "10/10 [==============================] - 0s 13ms/step - loss: 0.1407\n",
            "Epoch 28/100\n",
            "10/10 [==============================] - 0s 14ms/step - loss: 0.1395\n",
            "Epoch 29/100\n",
            "10/10 [==============================] - 0s 13ms/step - loss: 0.1391\n",
            "Epoch 30/100\n",
            "10/10 [==============================] - 0s 13ms/step - loss: 0.1304\n",
            "Epoch 31/100\n",
            "10/10 [==============================] - 0s 13ms/step - loss: 0.1299\n",
            "Epoch 32/100\n",
            "10/10 [==============================] - 0s 14ms/step - loss: 0.1315\n",
            "Epoch 33/100\n",
            "10/10 [==============================] - 0s 13ms/step - loss: 0.1311\n",
            "Epoch 34/100\n",
            "10/10 [==============================] - 0s 14ms/step - loss: 0.1424\n",
            "Epoch 35/100\n",
            "10/10 [==============================] - 0s 13ms/step - loss: 0.1363\n",
            "Epoch 36/100\n",
            "10/10 [==============================] - 0s 13ms/step - loss: 0.1377\n",
            "Epoch 37/100\n",
            "10/10 [==============================] - 0s 13ms/step - loss: 0.1282\n",
            "Epoch 38/100\n",
            "10/10 [==============================] - 0s 13ms/step - loss: 0.1297\n",
            "Epoch 39/100\n",
            "10/10 [==============================] - 0s 13ms/step - loss: 0.1340\n",
            "Epoch 40/100\n",
            "10/10 [==============================] - 0s 13ms/step - loss: 0.1332\n",
            "Epoch 41/100\n",
            "10/10 [==============================] - 0s 13ms/step - loss: 0.1333\n",
            "Epoch 42/100\n",
            "10/10 [==============================] - 0s 15ms/step - loss: 0.1296\n",
            "Epoch 43/100\n",
            "10/10 [==============================] - 0s 13ms/step - loss: 0.1385\n",
            "Epoch 44/100\n",
            "10/10 [==============================] - 0s 13ms/step - loss: 0.1451\n",
            "Epoch 45/100\n",
            "10/10 [==============================] - 0s 13ms/step - loss: 0.1366\n",
            "Epoch 46/100\n",
            "10/10 [==============================] - 0s 13ms/step - loss: 0.1300\n",
            "Epoch 47/100\n",
            "10/10 [==============================] - 0s 13ms/step - loss: 0.1289\n",
            "Epoch 48/100\n",
            "10/10 [==============================] - 0s 13ms/step - loss: 0.1282\n",
            "Epoch 49/100\n",
            "10/10 [==============================] - 0s 13ms/step - loss: 0.1229\n",
            "Epoch 50/100\n",
            "10/10 [==============================] - 0s 13ms/step - loss: 0.1264\n",
            "Epoch 51/100\n",
            "10/10 [==============================] - 0s 14ms/step - loss: 0.1274\n",
            "Epoch 52/100\n",
            "10/10 [==============================] - 0s 13ms/step - loss: 0.1387\n",
            "Epoch 53/100\n",
            "10/10 [==============================] - 0s 13ms/step - loss: 0.1254\n",
            "Epoch 54/100\n",
            "10/10 [==============================] - 0s 13ms/step - loss: 0.1271\n",
            "Epoch 55/100\n",
            "10/10 [==============================] - 0s 13ms/step - loss: 0.1299\n",
            "Epoch 56/100\n",
            "10/10 [==============================] - 0s 14ms/step - loss: 0.1257\n",
            "Epoch 57/100\n",
            "10/10 [==============================] - 0s 13ms/step - loss: 0.1232\n",
            "Epoch 58/100\n",
            "10/10 [==============================] - 0s 13ms/step - loss: 0.1263\n",
            "Epoch 59/100\n",
            "10/10 [==============================] - 0s 13ms/step - loss: 0.1232\n",
            "Epoch 60/100\n",
            "10/10 [==============================] - 0s 13ms/step - loss: 0.1252\n",
            "Epoch 61/100\n",
            "10/10 [==============================] - 0s 13ms/step - loss: 0.1271\n",
            "Epoch 62/100\n",
            "10/10 [==============================] - 0s 13ms/step - loss: 0.1226\n",
            "Epoch 63/100\n",
            "10/10 [==============================] - 0s 14ms/step - loss: 0.1266\n",
            "Epoch 64/100\n",
            "10/10 [==============================] - 0s 14ms/step - loss: 0.1273\n",
            "Epoch 65/100\n",
            "10/10 [==============================] - 0s 13ms/step - loss: 0.1239\n",
            "Epoch 66/100\n",
            "10/10 [==============================] - 0s 14ms/step - loss: 0.1208\n",
            "Epoch 67/100\n",
            "10/10 [==============================] - 0s 13ms/step - loss: 0.1200\n",
            "Epoch 68/100\n",
            "10/10 [==============================] - 0s 13ms/step - loss: 0.1234\n",
            "Epoch 69/100\n",
            "10/10 [==============================] - 0s 14ms/step - loss: 0.1334\n",
            "Epoch 70/100\n",
            "10/10 [==============================] - 0s 13ms/step - loss: 0.1262\n",
            "Epoch 71/100\n",
            "10/10 [==============================] - 0s 13ms/step - loss: 0.1147\n",
            "Epoch 72/100\n",
            "10/10 [==============================] - 0s 14ms/step - loss: 0.1181\n",
            "Epoch 73/100\n",
            "10/10 [==============================] - 0s 14ms/step - loss: 0.1237\n",
            "Epoch 74/100\n",
            "10/10 [==============================] - 0s 13ms/step - loss: 0.1254\n",
            "Epoch 75/100\n",
            "10/10 [==============================] - 0s 15ms/step - loss: 0.1229\n",
            "Epoch 76/100\n",
            "10/10 [==============================] - 0s 14ms/step - loss: 0.1230\n",
            "Epoch 77/100\n",
            "10/10 [==============================] - 0s 13ms/step - loss: 0.1206\n",
            "Epoch 78/100\n",
            "10/10 [==============================] - 0s 13ms/step - loss: 0.1144\n",
            "Epoch 79/100\n",
            "10/10 [==============================] - 0s 13ms/step - loss: 0.1275\n",
            "Epoch 80/100\n",
            "10/10 [==============================] - 0s 13ms/step - loss: 0.1290\n",
            "Epoch 81/100\n",
            "10/10 [==============================] - 0s 13ms/step - loss: 0.1203\n",
            "Epoch 82/100\n",
            "10/10 [==============================] - 0s 13ms/step - loss: 0.1175\n",
            "Epoch 83/100\n",
            "10/10 [==============================] - 0s 13ms/step - loss: 0.1184\n",
            "Epoch 84/100\n",
            "10/10 [==============================] - 0s 13ms/step - loss: 0.1222\n",
            "Epoch 85/100\n",
            "10/10 [==============================] - 0s 13ms/step - loss: 0.1226\n",
            "Epoch 86/100\n",
            "10/10 [==============================] - 0s 13ms/step - loss: 0.1282\n",
            "Epoch 87/100\n",
            "10/10 [==============================] - 0s 13ms/step - loss: 0.1208\n",
            "Epoch 88/100\n",
            "10/10 [==============================] - 0s 14ms/step - loss: 0.1182\n",
            "Epoch 89/100\n",
            "10/10 [==============================] - 0s 13ms/step - loss: 0.1157\n",
            "Epoch 90/100\n",
            "10/10 [==============================] - 0s 13ms/step - loss: 0.1187\n",
            "Epoch 91/100\n",
            "10/10 [==============================] - 0s 13ms/step - loss: 0.1190\n",
            "Epoch 92/100\n",
            "10/10 [==============================] - 0s 13ms/step - loss: 0.1167\n",
            "Epoch 93/100\n",
            "10/10 [==============================] - 0s 13ms/step - loss: 0.1135\n",
            "Epoch 94/100\n",
            "10/10 [==============================] - 0s 13ms/step - loss: 0.1117\n",
            "Epoch 95/100\n",
            "10/10 [==============================] - 0s 13ms/step - loss: 0.1172\n",
            "Epoch 96/100\n",
            "10/10 [==============================] - 0s 13ms/step - loss: 0.1131\n",
            "Epoch 97/100\n",
            "10/10 [==============================] - 0s 13ms/step - loss: 0.1248\n",
            "Epoch 98/100\n",
            "10/10 [==============================] - 0s 13ms/step - loss: 0.1293\n",
            "Epoch 99/100\n",
            "10/10 [==============================] - 0s 13ms/step - loss: 0.1279\n",
            "Epoch 100/100\n",
            "10/10 [==============================] - 0s 13ms/step - loss: 0.1185\n"
          ],
          "name": "stdout"
        }
      ]
    },
    {
      "cell_type": "code",
      "metadata": {
        "id": "R1ccqU0USvmJ",
        "colab_type": "code",
        "colab": {
          "base_uri": "https://localhost:8080/",
          "height": 573
        },
        "outputId": "9a3e1b0e-1016-4ce1-fe64-320d25298ce9"
      },
      "source": [
        "# plot history\n",
        "plt.figure(figsize=(8, 4))\n",
        "plt.plot(hist.history['loss'])\n",
        "plt.title('Train Loss History')\n",
        "plt.xlabel('Epochs')\n",
        "plt.ylabel('Train Loss')\n",
        "plt.show()\n",
        "\n",
        "plt.figure(figsize=(8, 4))\n",
        "plt.plot(hist.history['loss'][1:])\n",
        "plt.title('Train Loss History from Epoch 1')\n",
        "plt.xlabel('Epochs from 1')\n",
        "plt.ylabel('Train Loss from Epoch 1')\n",
        "plt.show()"
      ],
      "execution_count": 9,
      "outputs": [
        {
          "output_type": "display_data",
          "data": {
            "image/png": "[encoded data removed]",
            "text/plain": [
              "<Figure size 576x288 with 1 Axes>"
            ]
          },
          "metadata": {
            "tags": [],
            "needs_background": "light"
          }
        },
        {
          "output_type": "display_data",
          "data": {
            "image/png": "[encoded data removed]",
            "text/plain": [
              "<Figure size 576x288 with 1 Axes>"
            ]
          },
          "metadata": {
            "tags": [],
            "needs_background": "light"
          }
        }
      ]
    },
    {
      "cell_type": "code",
      "metadata": {
        "id": "q_y4cu2-OIvD",
        "colab_type": "code",
        "colab": {
          "base_uri": "https://localhost:8080/",
          "height": 34
        },
        "outputId": "7ec302fd-746f-4dc0-bffd-214c112926d2"
      },
      "source": [
        "# 예측\n",
        "n_future = int(input('예측할 미래 기간 수를 설정하세요: '))"
      ],
      "execution_count": 10,
      "outputs": [
        {
          "output_type": "stream",
          "text": [
            "예측할 미래 기간 수를 설정하세요: 20\n"
          ],
          "name": "stdout"
        }
      ]
    },
    {
      "cell_type": "code",
      "metadata": {
        "id": "F8Iwt7WtOLqT",
        "colab_type": "code",
        "colab": {}
      },
      "source": [
        "# 데이터 개수가 너무 많으니까 마지막 100일만 가져온다.\n",
        "if len(data) > 100:\n",
        "    last_data = np.copy(data[-100:])\n",
        "else:\n",
        "    last_data = np.copy(data)"
      ],
      "execution_count": 11,
      "outputs": []
    },
    {
      "cell_type": "code",
      "metadata": {
        "id": "aCJm6aNrOLoN",
        "colab_type": "code",
        "colab": {}
      },
      "source": [
        "# 예측에 사용할 마지막 데이터: 원래 data는 사인 곡선 생성하려고 만든 x 좌표들.\n",
        "X_pred = np.copy(last_data)\n",
        "\n",
        "# 예측한 애들 저장할 배열\n",
        "estimate = [X_pred[-1]] # 예측 처음에 마지막 1일부터 시작하게 초기화."
      ],
      "execution_count": 12,
      "outputs": []
    },
    {
      "cell_type": "markdown",
      "metadata": {
        "id": "oq8qpyPYSjKI",
        "colab_type": "text"
      },
      "source": [
        "```\n",
        "0번째 시퀀스: [[[10.63212101]\n",
        "  [10.60856744]\n",
        "  [10.7998853 ]\n",
        "  [10.55473486]\n",
        "  [ 9.89698368]\n",
        "  [ 9.51331506]\n",
        "  [ 9.49289537]\n",
        "  [ 9.96142479]\n",
        "  [ 9.60326334]\n",
        "  [ 9.87334534]\n",
        "  [ 9.11980084]\n",
        "  [ 9.84464069]\n",
        "  [ 9.91556959]\n",
        "  [ 9.0355223 ]\n",
        "  [ 9.52879011]\n",
        "  [ 9.52070787]\n",
        "  [ 9.46356759]\n",
        "  [10.33896153]\n",
        "  [10.09133776]\n",
        "  [10.78530712]]]\n",
        "변경된 예측 대상: [ 9.31704819  9.56453436  9.5743764  10.33628295 10.08449268 10.31933123\n",
        " 10.04040288 10.77281635 11.00917304 10.38107644 10.84419072 10.25678533\n",
        " 10.02386371  9.95991897 10.36784604 10.17146452  9.2832402   9.5355864\n",
        "  9.43101853  8.88809886  8.6002459   8.44638025  8.62253548  8.39533549\n",
        "  8.78465399  8.8798512   8.75182326  9.41648183  9.4727854   9.25645055\n",
        "  9.21354707  9.58242738  9.71790916  9.82210778  9.75905245 10.18593728\n",
        " 10.68771351 10.81248152 11.02150394 11.03419569 10.95923655 10.76780495\n",
        " 11.30808367 10.66592627 10.93845809 10.88163015 10.02112148 10.06652436\n",
        "  9.96312828 10.46204774  9.87983741  9.53709939  8.99654731  9.61635805\n",
        "  9.65744765  9.12863998  9.04957234  9.13216996  9.54411375  9.27105242\n",
        "  9.61931613  9.39942633  9.57047072  9.55941848 10.33091338 10.50467655\n",
        " 10.45530096 10.69248923 10.73375909 10.42865765 10.90518196 11.22500734\n",
        " 11.17374712 11.11512221 11.62103433 11.49067535 10.93772801 11.30720153\n",
        " 11.23750142 10.79576332 10.63212101 10.60856744 10.7998853  10.55473486\n",
        "  9.89698368  9.51331506  9.49289537  9.96142479  9.60326334  9.87334534\n",
        "  9.11980084  9.84464069  9.91556959  9.0355223   9.52879011  9.52070787\n",
        "  9.46356759 10.33896153 10.09133776 10.78530712 10.50329304]\n",
        "6번째 시퀀스: [[[ 9.49289537]\n",
        "  [ 9.96142479]\n",
        "  [ 9.60326334]\n",
        "  [ 9.87334534]\n",
        "  [ 9.11980084]\n",
        "  [ 9.84464069]\n",
        "  [ 9.91556959]\n",
        "  [ 9.0355223 ]\n",
        "  [ 9.52879011]\n",
        "  [ 9.52070787]\n",
        "  [ 9.46356759]\n",
        "  [10.33896153]\n",
        "  [10.09133776]\n",
        "  [10.78530712]\n",
        "  [10.50329304]\n",
        "  [10.65279293]\n",
        "  [10.79310513]\n",
        "  [10.90784073]\n",
        "  [11.0141449 ]\n",
        "  [11.12168026]]]\n",
        "변경된 예측 대상: [ 9.31704819  9.56453436  9.5743764  10.33628295 10.08449268 10.31933123\n",
        " 10.04040288 10.77281635 11.00917304 10.38107644 10.84419072 10.25678533\n",
        " 10.02386371  9.95991897 10.36784604 10.17146452  9.2832402   9.5355864\n",
        "  9.43101853  8.88809886  8.6002459   8.44638025  8.62253548  8.39533549\n",
        "  8.78465399  8.8798512   8.75182326  9.41648183  9.4727854   9.25645055\n",
        "  9.21354707  9.58242738  9.71790916  9.82210778  9.75905245 10.18593728\n",
        " 10.68771351 10.81248152 11.02150394 11.03419569 10.95923655 10.76780495\n",
        " 11.30808367 10.66592627 10.93845809 10.88163015 10.02112148 10.06652436\n",
        "  9.96312828 10.46204774  9.87983741  9.53709939  8.99654731  9.61635805\n",
        "  9.65744765  9.12863998  9.04957234  9.13216996  9.54411375  9.27105242\n",
        "  9.61931613  9.39942633  9.57047072  9.55941848 10.33091338 10.50467655\n",
        " 10.45530096 10.69248923 10.73375909 10.42865765 10.90518196 11.22500734\n",
        " 11.17374712 11.11512221 11.62103433 11.49067535 10.93772801 11.30720153\n",
        " 11.23750142 10.79576332 10.63212101 10.60856744 10.7998853  10.55473486\n",
        "  9.89698368  9.51331506  9.49289537  9.96142479  9.60326334  9.87334534\n",
        "  9.11980084  9.84464069  9.91556959  9.0355223   9.52879011  9.52070787\n",
        "  9.46356759 10.33896153 10.09133776 10.78530712 10.50329304 10.65279293\n",
        " 10.79310513 10.90784073 11.0141449  11.12168026 11.20759296]\n",
        "10번째 시퀀스: [[[ 9.11980084]\n",
        "  [ 9.84464069]\n",
        "  [ 9.91556959]\n",
        "  [ 9.0355223 ]\n",
        "  [ 9.52879011]\n",
        "  [ 9.52070787]\n",
        "  [ 9.46356759]\n",
        "  [10.33896153]\n",
        "  [10.09133776]\n",
        "  [10.78530712]\n",
        "  [10.50329304]\n",
        "  [10.65279293]\n",
        "  [10.79310513]\n",
        "  [10.90784073]\n",
        "  [11.0141449 ]\n",
        "  [11.12168026]\n",
        "  [11.20759296]\n",
        "  [11.25418091]\n",
        "  [11.25606728]\n",
        "  [11.2289238 ]]]\n",
        "변경된 예측 대상: [ 9.31704819  9.56453436  9.5743764  10.33628295 10.08449268 10.31933123\n",
        " 10.04040288 10.77281635 11.00917304 10.38107644 10.84419072 10.25678533\n",
        " 10.02386371  9.95991897 10.36784604 10.17146452  9.2832402   9.5355864\n",
        "  9.43101853  8.88809886  8.6002459   8.44638025  8.62253548  8.39533549\n",
        "  8.78465399  8.8798512   8.75182326  9.41648183  9.4727854   9.25645055\n",
        "  9.21354707  9.58242738  9.71790916  9.82210778  9.75905245 10.18593728\n",
        " 10.68771351 10.81248152 11.02150394 11.03419569 10.95923655 10.76780495\n",
        " 11.30808367 10.66592627 10.93845809 10.88163015 10.02112148 10.06652436\n",
        "  9.96312828 10.46204774  9.87983741  9.53709939  8.99654731  9.61635805\n",
        "  9.65744765  9.12863998  9.04957234  9.13216996  9.54411375  9.27105242\n",
        "  9.61931613  9.39942633  9.57047072  9.55941848 10.33091338 10.50467655\n",
        " 10.45530096 10.69248923 10.73375909 10.42865765 10.90518196 11.22500734\n",
        " 11.17374712 11.11512221 11.62103433 11.49067535 10.93772801 11.30720153\n",
        " 11.23750142 10.79576332 10.63212101 10.60856744 10.7998853  10.55473486\n",
        "  9.89698368  9.51331506  9.49289537  9.96142479  9.60326334  9.87334534\n",
        "  9.11980084  9.84464069  9.91556959  9.0355223   9.52879011  9.52070787\n",
        "  9.46356759 10.33896153 10.09133776 10.78530712 10.50329304 10.65279293\n",
        " 10.79310513 10.90784073 11.0141449  11.12168026 11.20759296 11.25418091\n",
        " 11.25606728 11.2289238  11.1738081 ]\n",
        "15번째 시퀀스: [[[ 9.52070787]\n",
        "  [ 9.46356759]\n",
        "  [10.33896153]\n",
        "  [10.09133776]\n",
        "  [10.78530712]\n",
        "  [10.50329304]\n",
        "  [10.65279293]\n",
        "  [10.79310513]\n",
        "  [10.90784073]\n",
        "  [11.0141449 ]\n",
        "  [11.12168026]\n",
        "  [11.20759296]\n",
        "  [11.25418091]\n",
        "  [11.25606728]\n",
        "  [11.2289238 ]\n",
        "  [11.1738081 ]\n",
        "  [11.07597446]\n",
        "  [10.9406147 ]\n",
        "  [10.83065128]\n",
        "  [10.73289776]]]\n",
        "변경된 예측 대상: [ 9.31704819  9.56453436  9.5743764  10.33628295 10.08449268 10.31933123\n",
        " 10.04040288 10.77281635 11.00917304 10.38107644 10.84419072 10.25678533\n",
        " 10.02386371  9.95991897 10.36784604 10.17146452  9.2832402   9.5355864\n",
        "  9.43101853  8.88809886  8.6002459   8.44638025  8.62253548  8.39533549\n",
        "  8.78465399  8.8798512   8.75182326  9.41648183  9.4727854   9.25645055\n",
        "  9.21354707  9.58242738  9.71790916  9.82210778  9.75905245 10.18593728\n",
        " 10.68771351 10.81248152 11.02150394 11.03419569 10.95923655 10.76780495\n",
        " 11.30808367 10.66592627 10.93845809 10.88163015 10.02112148 10.06652436\n",
        "  9.96312828 10.46204774  9.87983741  9.53709939  8.99654731  9.61635805\n",
        "  9.65744765  9.12863998  9.04957234  9.13216996  9.54411375  9.27105242\n",
        "  9.61931613  9.39942633  9.57047072  9.55941848 10.33091338 10.50467655\n",
        " 10.45530096 10.69248923 10.73375909 10.42865765 10.90518196 11.22500734\n",
        " 11.17374712 11.11512221 11.62103433 11.49067535 10.93772801 11.30720153\n",
        " 11.23750142 10.79576332 10.63212101 10.60856744 10.7998853  10.55473486\n",
        "  9.89698368  9.51331506  9.49289537  9.96142479  9.60326334  9.87334534\n",
        "  9.11980084  9.84464069  9.91556959  9.0355223   9.52879011  9.52070787\n",
        "  9.46356759 10.33896153 10.09133776 10.78530712 10.50329304 10.65279293\n",
        " 10.79310513 10.90784073 11.0141449  11.12168026 11.20759296 11.25418091\n",
        " 11.25606728 11.2289238  11.1738081  11.07597446 10.9406147  10.83065128\n",
        " 10.73289776 10.63375187]\n",
        "19번째 시퀀스: [[[10.78530712]\n",
        "  [10.50329304]\n",
        "  [10.65279293]\n",
        "  [10.79310513]\n",
        "  [10.90784073]\n",
        "  [11.0141449 ]\n",
        "  [11.12168026]\n",
        "  [11.20759296]\n",
        "  [11.25418091]\n",
        "  [11.25606728]\n",
        "  [11.2289238 ]\n",
        "  [11.1738081 ]\n",
        "  [11.07597446]\n",
        "  [10.9406147 ]\n",
        "  [10.83065128]\n",
        "  [10.73289776]\n",
        "  [10.63375187]\n",
        "  [10.52024174]\n",
        "  [10.39453506]\n",
        "  [10.26683331]]]\n",
        "변경된 예측 대상: [ 9.31704819  9.56453436  9.5743764  10.33628295 10.08449268 10.31933123\n",
        " 10.04040288 10.77281635 11.00917304 10.38107644 10.84419072 10.25678533\n",
        " 10.02386371  9.95991897 10.36784604 10.17146452  9.2832402   9.5355864\n",
        "  9.43101853  8.88809886  8.6002459   8.44638025  8.62253548  8.39533549\n",
        "  8.78465399  8.8798512   8.75182326  9.41648183  9.4727854   9.25645055\n",
        "  9.21354707  9.58242738  9.71790916  9.82210778  9.75905245 10.18593728\n",
        " 10.68771351 10.81248152 11.02150394 11.03419569 10.95923655 10.76780495\n",
        " 11.30808367 10.66592627 10.93845809 10.88163015 10.02112148 10.06652436\n",
        "  9.96312828 10.46204774  9.87983741  9.53709939  8.99654731  9.61635805\n",
        "  9.65744765  9.12863998  9.04957234  9.13216996  9.54411375  9.27105242\n",
        "  9.61931613  9.39942633  9.57047072  9.55941848 10.33091338 10.50467655\n",
        " 10.45530096 10.69248923 10.73375909 10.42865765 10.90518196 11.22500734\n",
        " 11.17374712 11.11512221 11.62103433 11.49067535 10.93772801 11.30720153\n",
        " 11.23750142 10.79576332 10.63212101 10.60856744 10.7998853  10.55473486\n",
        "  9.89698368  9.51331506  9.49289537  9.96142479  9.60326334  9.87334534\n",
        "  9.11980084  9.84464069  9.91556959  9.0355223   9.52879011  9.52070787\n",
        "  9.46356759 10.33896153 10.09133776 10.78530712 10.50329304 10.65279293\n",
        " 10.79310513 10.90784073 11.0141449  11.12168026 11.20759296 11.25418091\n",
        " 11.25606728 11.2289238  11.1738081  11.07597446 10.9406147  10.83065128\n",
        " 10.73289776 10.63375187 10.52024174 10.39453506 10.26683331 10.15812778]\n",
        " ```"
      ]
    },
    {
      "cell_type": "code",
      "metadata": {
        "id": "tptjNuLzOLj8",
        "colab_type": "code",
        "colab": {}
      },
      "source": [
        "# 계속 반복할 것: 이거 함수로 만들어도 되지 않을까\n",
        "for _ in range(n_future):\n",
        "    x = X_pred[-n_step:].reshape(1, n_step, 1) # 마지막 시퀀스 데이터 가져 와서 LSTM 모델 형태로 만든다. d0: 데이터 1개, n_step 시퀀스 길이, feature1\n",
        "    y_hat = model.predict(x)[0][0] # y_hat은 [[10.503293]] : LSTM 모델에 넣은 형태 다시 생각해 보면 1차원 라벨 d0축 개수만큼 있어야 하는데 라벨 1개만 나왔으니까 저렇게 껍데기 두개다.\n",
        "    estimate.append(y_hat) # 추정값 저장\n",
        "    X_pred = np.insert(X_pred, len(X_pred), y_hat) # 마지막 위치 인덱스(len(X_pred))에 추정값 추가해서 늘림: 인덱스 0부터 시작하니까 len(X_pred)자리는 원래 없던 애."
      ],
      "execution_count": 13,
      "outputs": []
    },
    {
      "cell_type": "code",
      "metadata": {
        "id": "9zpl55ynTHTB",
        "colab_type": "code",
        "colab": {
          "base_uri": "https://localhost:8080/",
          "height": 386
        },
        "outputId": "24af8ecf-2e9c-46df-9b31-05673891a8c5"
      },
      "source": [
        "estimate"
      ],
      "execution_count": 14,
      "outputs": [
        {
          "output_type": "execute_result",
          "data": {
            "text/plain": [
              "[10.86880816155736,\n",
              " 10.60765,\n",
              " 10.714847,\n",
              " 10.784239,\n",
              " 10.834631,\n",
              " 10.862201,\n",
              " 10.864786,\n",
              " 10.840796,\n",
              " 10.797013,\n",
              " 10.738267,\n",
              " 10.670045,\n",
              " 10.611567,\n",
              " 10.549443,\n",
              " 10.487655,\n",
              " 10.414124,\n",
              " 10.3236,\n",
              " 10.237113,\n",
              " 10.154091,\n",
              " 10.0796175,\n",
              " 10.015583,\n",
              " 9.954574]"
            ]
          },
          "metadata": {
            "tags": []
          },
          "execution_count": 14
        }
      ]
    },
    {
      "cell_type": "code",
      "metadata": {
        "id": "yxrzbpD7OLh3",
        "colab_type": "code",
        "colab": {
          "base_uri": "https://localhost:8080/",
          "height": 211
        },
        "outputId": "a88f904c-8896-4097-de8e-7142de98d485"
      },
      "source": [
        "# 원 데이터와 예측된 시계열을 그려 보자\n",
        "ax1 = np.arange(1, len(last_data)+1) # 원래 데이터\n",
        "ax2 = np.arange(len(last_data), len(last_data) + len(estimate)) # 추정치까지 합한\n",
        "\n",
        "plt.figure(figsize=(8, 3))\n",
        "plt.plot(ax1, last_data, 'b-o', color='blue', markersize=3, label='Original Time Series', linewidth=1)\n",
        "plt.plot(ax2, estimate, 'b-o', color='red', markersize=3, label='Estimates')\n",
        "plt.axvline(x=ax1[-1], linestyle='dashed', linewidth=1) ## 수직선 그어 준다.\n",
        "plt.legend()\n",
        "plt.show()"
      ],
      "execution_count": 15,
      "outputs": [
        {
          "output_type": "display_data",
          "data": {
            "image/png": "[encoded data removed]",
            "text/plain": [
              "<Figure size 576x216 with 1 Axes>"
            ]
          },
          "metadata": {
            "tags": [],
            "needs_background": "light"
          }
        }
      ]
    },
    {
      "cell_type": "code",
      "metadata": {
        "id": "VqH8mimnTDbO",
        "colab_type": "code",
        "colab": {}
      },
      "source": [
        ""
      ],
      "execution_count": null,
      "outputs": []
    },
    {
      "cell_type": "code",
      "metadata": {
        "id": "GuyC8zb_TDwP",
        "colab_type": "code",
        "colab": {}
      },
      "source": [
        ""
      ],
      "execution_count": null,
      "outputs": []
    },
    {
      "cell_type": "code",
      "metadata": {
        "id": "Hwr68sZqTDuC",
        "colab_type": "code",
        "colab": {}
      },
      "source": [
        ""
      ],
      "execution_count": null,
      "outputs": []
    },
    {
      "cell_type": "code",
      "metadata": {
        "id": "o0BJqmtROLfv",
        "colab_type": "code",
        "colab": {}
      },
      "source": [
        ""
      ],
      "execution_count": null,
      "outputs": []
    },
    {
      "cell_type": "code",
      "metadata": {
        "id": "OtHLoumwHKFH",
        "colab_type": "code",
        "colab": {}
      },
      "source": [
        ""
      ],
      "execution_count": null,
      "outputs": []
    },
    {
      "cell_type": "code",
      "metadata": {
        "id": "teluNpugHKC6",
        "colab_type": "code",
        "colab": {}
      },
      "source": [
        ""
      ],
      "execution_count": null,
      "outputs": []
    },
    {
      "cell_type": "code",
      "metadata": {
        "id": "1scVfpy5HKA1",
        "colab_type": "code",
        "colab": {}
      },
      "source": [
        ""
      ],
      "execution_count": null,
      "outputs": []
    },
    {
      "cell_type": "code",
      "metadata": {
        "id": "C3dQ8yR1HJ_H",
        "colab_type": "code",
        "colab": {}
      },
      "source": [
        ""
      ],
      "execution_count": null,
      "outputs": []
    },
    {
      "cell_type": "code",
      "metadata": {
        "id": "coQRW8M_HJ9i",
        "colab_type": "code",
        "colab": {}
      },
      "source": [
        ""
      ],
      "execution_count": null,
      "outputs": []
    },
    {
      "cell_type": "code",
      "metadata": {
        "id": "LB5fvN58HJ7t",
        "colab_type": "code",
        "colab": {}
      },
      "source": [
        ""
      ],
      "execution_count": null,
      "outputs": []
    },
    {
      "cell_type": "code",
      "metadata": {
        "id": "LjjYNj2BHJ5k",
        "colab_type": "code",
        "colab": {}
      },
      "source": [
        ""
      ],
      "execution_count": null,
      "outputs": []
    },
    {
      "cell_type": "code",
      "metadata": {
        "id": "R5pYWNH1EgMh",
        "colab_type": "code",
        "colab": {}
      },
      "source": [
        ""
      ],
      "execution_count": null,
      "outputs": []
    },
    {
      "cell_type": "markdown",
      "metadata": {
        "id": "uzgwOhqGO4QU",
        "colab_type": "text"
      },
      "source": [
        "# 사인곡선"
      ]
    },
    {
      "cell_type": "code",
      "metadata": {
        "id": "LKH6afdzIURH",
        "colab_type": "code",
        "colab": {
          "base_uri": "https://localhost:8080/",
          "height": 294
        },
        "outputId": "f7574a2b-fb8a-482f-8c8f-ac77033ea090"
      },
      "source": [
        "plt.plot(np.sin(2 * np.pi * np.arange(1001)))"
      ],
      "execution_count": 37,
      "outputs": [
        {
          "output_type": "execute_result",
          "data": {
            "text/plain": [
              "[<matplotlib.lines.Line2D at 0x7fd5a36cc860>]"
            ]
          },
          "metadata": {
            "tags": []
          },
          "execution_count": 37
        },
        {
          "output_type": "display_data",
          "data": {
            "image/png": "[encoded data removed]",
            "text/plain": [
              "<Figure size 432x288 with 1 Axes>"
            ]
          },
          "metadata": {
            "tags": [],
            "needs_background": "light"
          }
        }
      ]
    },
    {
      "cell_type": "code",
      "metadata": {
        "id": "K2B1gFH-I-d9",
        "colab_type": "code",
        "colab": {
          "base_uri": "https://localhost:8080/",
          "height": 282
        },
        "outputId": "96fa56e9-66c1-495a-bb8d-539155acd167"
      },
      "source": [
        "plt.plot(np.sin(2 * np.pi * 0.001 * np.arange(1001)))"
      ],
      "execution_count": 38,
      "outputs": [
        {
          "output_type": "execute_result",
          "data": {
            "text/plain": [
              "[<matplotlib.lines.Line2D at 0x7fd5a3626f98>]"
            ]
          },
          "metadata": {
            "tags": []
          },
          "execution_count": 38
        },
        {
          "output_type": "display_data",
          "data": {
            "image/png": "[encoded data removed]",
            "text/plain": [
              "<Figure size 432x288 with 1 Axes>"
            ]
          },
          "metadata": {
            "tags": [],
            "needs_background": "light"
          }
        }
      ]
    },
    {
      "cell_type": "code",
      "metadata": {
        "id": "VKcU7fazIqTF",
        "colab_type": "code",
        "colab": {
          "base_uri": "https://localhost:8080/",
          "height": 282
        },
        "outputId": "842d919c-b962-4c3e-a7aa-36c6edde6cb1"
      },
      "source": [
        "plt.plot(np.sin(2 * np.pi * 0.05 * np.arange(1001)))"
      ],
      "execution_count": 35,
      "outputs": [
        {
          "output_type": "execute_result",
          "data": {
            "text/plain": [
              "[<matplotlib.lines.Line2D at 0x7fd5a3782550>]"
            ]
          },
          "metadata": {
            "tags": []
          },
          "execution_count": 35
        },
        {
          "output_type": "display_data",
          "data": {
            "image/png": "[encoded data removed]",
            "text/plain": [
              "<Figure size 432x288 with 1 Axes>"
            ]
          },
          "metadata": {
            "tags": [],
            "needs_background": "light"
          }
        }
      ]
    },
    {
      "cell_type": "code",
      "metadata": {
        "id": "PzaTeZBFEgKj",
        "colab_type": "code",
        "colab": {
          "base_uri": "https://localhost:8080/",
          "height": 282
        },
        "outputId": "a8cde04d-b0fa-4f6b-ce69-724a3a019cc6"
      },
      "source": [
        "plt.plot(np.sin(2 * np.pi * 0.03 * np.arange(1001)))"
      ],
      "execution_count": 26,
      "outputs": [
        {
          "output_type": "execute_result",
          "data": {
            "text/plain": [
              "[<matplotlib.lines.Line2D at 0x7fd5a40b9eb8>]"
            ]
          },
          "metadata": {
            "tags": []
          },
          "execution_count": 26
        },
        {
          "output_type": "display_data",
          "data": {
            "image/png": "[encoded data removed]",
            "text/plain": [
              "<Figure size 432x288 with 1 Axes>"
            ]
          },
          "metadata": {
            "tags": [],
            "needs_background": "light"
          }
        }
      ]
    },
    {
      "cell_type": "code",
      "metadata": {
        "id": "HXfS3O7aEgIu",
        "colab_type": "code",
        "colab": {
          "base_uri": "https://localhost:8080/",
          "height": 284
        },
        "outputId": "1784422f-c2a4-432c-ad38-319adf005ccc"
      },
      "source": [
        "plt.plot(data)"
      ],
      "execution_count": 24,
      "outputs": [
        {
          "output_type": "execute_result",
          "data": {
            "text/plain": [
              "[<matplotlib.lines.Line2D at 0x7fd5a40b7198>]"
            ]
          },
          "metadata": {
            "tags": []
          },
          "execution_count": 24
        },
        {
          "output_type": "display_data",
          "data": {
            "image/png": "[encoded data removed]",
            "text/plain": [
              "<Figure size 432x288 with 1 Axes>"
            ]
          },
          "metadata": {
            "tags": [],
            "needs_background": "light"
          }
        }
      ]
    },
    {
      "cell_type": "code",
      "metadata": {
        "id": "CLla-bHAEgGr",
        "colab_type": "code",
        "colab": {}
      },
      "source": [
        ""
      ],
      "execution_count": null,
      "outputs": []
    },
    {
      "cell_type": "markdown",
      "metadata": {
        "id": "o7y8wBFdO6Gw",
        "colab_type": "text"
      },
      "source": [
        "# 강사님 함수 수정"
      ]
    },
    {
      "cell_type": "code",
      "metadata": {
        "id": "qIG7rxVc-G65",
        "colab_type": "code",
        "colab": {}
      },
      "source": [
        "def createTrainData(xData, step):\n",
        "    m = np.arange(len(xData) - step)\n",
        "    \n",
        "    x, y = [], []\n",
        "    for i in m:\n",
        "        a = xData[i:(i+step)]\n",
        "        x.append(a)\n",
        "    xBatch = np.reshape(np.array(x), (len(m), step, 1))\n",
        "    \n",
        "    for i in m+1:\n",
        "        a = xData[i:(i+step)]\n",
        "        y.append(a[-1])\n",
        "    yBatch = np.reshape(np.array(y), (len(m), 1))\n",
        "    \n",
        "    return xBatch, yBatch"
      ],
      "execution_count": 3,
      "outputs": []
    },
    {
      "cell_type": "code",
      "metadata": {
        "id": "KRXrbZ3QBKke",
        "colab_type": "code",
        "colab": {}
      },
      "source": [
        "x_1, y_1 = createData((1, 2, 3, 4, 5, 6, 7, 8, 9, 10), 3) # 내 방식\n",
        "x_2, y_2 = createTrainData((1, 2, 3, 4, 5, 6, 7, 8, 9, 10), 3) # 강사님 방식"
      ],
      "execution_count": 4,
      "outputs": []
    },
    {
      "cell_type": "code",
      "metadata": {
        "id": "TDTHGNj8BgfR",
        "colab_type": "code",
        "colab": {
          "base_uri": "https://localhost:8080/",
          "height": 1000
        },
        "outputId": "0a39a8a2-2877-4775-c5a7-40e0b3ca06f7"
      },
      "source": [
        "print(x_1)\n",
        "print(x_2)\n",
        "print(x_1 == x_2)"
      ],
      "execution_count": 5,
      "outputs": [
        {
          "output_type": "stream",
          "text": [
            "[[[1]\n",
            "  [2]\n",
            "  [3]]\n",
            "\n",
            " [[2]\n",
            "  [3]\n",
            "  [4]]\n",
            "\n",
            " [[3]\n",
            "  [4]\n",
            "  [5]]\n",
            "\n",
            " [[4]\n",
            "  [5]\n",
            "  [6]]\n",
            "\n",
            " [[5]\n",
            "  [6]\n",
            "  [7]]\n",
            "\n",
            " [[6]\n",
            "  [7]\n",
            "  [8]]\n",
            "\n",
            " [[7]\n",
            "  [8]\n",
            "  [9]]]\n",
            "[[[1]\n",
            "  [2]\n",
            "  [3]]\n",
            "\n",
            " [[2]\n",
            "  [3]\n",
            "  [4]]\n",
            "\n",
            " [[3]\n",
            "  [4]\n",
            "  [5]]\n",
            "\n",
            " [[4]\n",
            "  [5]\n",
            "  [6]]\n",
            "\n",
            " [[5]\n",
            "  [6]\n",
            "  [7]]\n",
            "\n",
            " [[6]\n",
            "  [7]\n",
            "  [8]]\n",
            "\n",
            " [[7]\n",
            "  [8]\n",
            "  [9]]]\n",
            "[[[ True]\n",
            "  [ True]\n",
            "  [ True]]\n",
            "\n",
            " [[ True]\n",
            "  [ True]\n",
            "  [ True]]\n",
            "\n",
            " [[ True]\n",
            "  [ True]\n",
            "  [ True]]\n",
            "\n",
            " [[ True]\n",
            "  [ True]\n",
            "  [ True]]\n",
            "\n",
            " [[ True]\n",
            "  [ True]\n",
            "  [ True]]\n",
            "\n",
            " [[ True]\n",
            "  [ True]\n",
            "  [ True]]\n",
            "\n",
            " [[ True]\n",
            "  [ True]\n",
            "  [ True]]]\n"
          ],
          "name": "stdout"
        }
      ]
    },
    {
      "cell_type": "code",
      "metadata": {
        "id": "IE31UDJrBqTw",
        "colab_type": "code",
        "colab": {
          "base_uri": "https://localhost:8080/",
          "height": 386
        },
        "outputId": "ef7c701a-c1d7-4b2a-9a7f-4843fa685934"
      },
      "source": [
        "print(y_1)\n",
        "print(y_2)\n",
        "print(y_1 == y_2)"
      ],
      "execution_count": 6,
      "outputs": [
        {
          "output_type": "stream",
          "text": [
            "[[ 4]\n",
            " [ 5]\n",
            " [ 6]\n",
            " [ 7]\n",
            " [ 8]\n",
            " [ 9]\n",
            " [10]]\n",
            "[[ 4]\n",
            " [ 5]\n",
            " [ 6]\n",
            " [ 7]\n",
            " [ 8]\n",
            " [ 9]\n",
            " [10]]\n",
            "[[ True]\n",
            " [ True]\n",
            " [ True]\n",
            " [ True]\n",
            " [ True]\n",
            " [ True]\n",
            " [ True]]\n"
          ],
          "name": "stdout"
        }
      ]
    }
  ]
}