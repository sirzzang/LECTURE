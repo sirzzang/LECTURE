{
  "nbformat": 4,
  "nbformat_minor": 0,
  "metadata": {
    "colab": {
      "name": "COVID-LSTM-3.ipynb",
      "provenance": []
    },
    "kernelspec": {
      "name": "python3",
      "display_name": "Python 3"
    }
  },
  "cells": [
    {
      "cell_type": "markdown",
      "metadata": {
        "id": "sY2MLpZrJSrS",
        "colab_type": "text"
      },
      "source": [
        "# COVID data LSTM 예측\n",
        "\n",
        "* 안 예쁘게 나왔다. 뭔가 이상하군!\n",
        "    - 모양 자체는 비슷한데, 예측 기간을 25일로 잡아서 뒤로 갈수록 더 주기적인 패턴으로 나온 것 같다.\n",
        "    - 그래프 색깔을 다르게 그리자."
      ]
    },
    {
      "cell_type": "code",
      "metadata": {
        "id": "4wz524eeYWrh",
        "colab_type": "code",
        "colab": {}
      },
      "source": [
        "# module import\n",
        "import pandas as pd\n",
        "from sklearn.preprocessing import StandardScaler\n",
        "import matplotlib.pyplot as plt\n",
        "import numpy as np\n",
        "import tensorflow as tf\n",
        "from tensorflow.keras.layers import Input, Dense, LSTM, Bidirectional\n",
        "from tensorflow.keras.models import Model\n",
        "from tensorflow.keras.optimizers import Adam"
      ],
      "execution_count": null,
      "outputs": []
    },
    {
      "cell_type": "code",
      "metadata": {
        "id": "GwlpxJcGqkEd",
        "colab_type": "code",
        "colab": {}
      },
      "source": [
        "# path\n",
        "root_path = \"/content/drive/My Drive/TOY/Data Analysis/Kaggle/novel-COVID\"\n",
        "data_path = f\"{root_path}/data\""
      ],
      "execution_count": null,
      "outputs": []
    },
    {
      "cell_type": "code",
      "metadata": {
        "id": "mYdBj8iBqetf",
        "colab_type": "code",
        "colab": {}
      },
      "source": [
        "# load data\n",
        "df_raw = pd.read_csv(f\"{data_path}/covid_19_data.csv\")\n",
        "df = df_raw.copy()"
      ],
      "execution_count": null,
      "outputs": []
    },
    {
      "cell_type": "markdown",
      "metadata": {
        "id": "KgWqktKE9D_L",
        "colab_type": "text"
      },
      "source": [
        "# _1_. 데이터 정제\n",
        "\n",
        "- 정제 후 `copy`"
      ]
    },
    {
      "cell_type": "code",
      "metadata": {
        "id": "aKJy2l6G9Oay",
        "colab_type": "code",
        "colab": {
          "base_uri": "https://localhost:8080/",
          "height": 281
        },
        "outputId": "b516073b-7931-4cc9-8457-56ad481128f7"
      },
      "source": [
        "df.info()"
      ],
      "execution_count": null,
      "outputs": [
        {
          "output_type": "stream",
          "text": [
            "<class 'pandas.core.frame.DataFrame'>\n",
            "RangeIndex: 53927 entries, 0 to 53926\n",
            "Data columns (total 8 columns):\n",
            " #   Column           Non-Null Count  Dtype  \n",
            "---  ------           --------------  -----  \n",
            " 0   SNo              53927 non-null  int64  \n",
            " 1   ObservationDate  53927 non-null  object \n",
            " 2   Province/State   32870 non-null  object \n",
            " 3   Country/Region   53927 non-null  object \n",
            " 4   Last Update      53927 non-null  object \n",
            " 5   Confirmed        53927 non-null  float64\n",
            " 6   Deaths           53927 non-null  float64\n",
            " 7   Recovered        53927 non-null  float64\n",
            "dtypes: float64(3), int64(1), object(4)\n",
            "memory usage: 3.3+ MB\n"
          ],
          "name": "stdout"
        }
      ]
    },
    {
      "cell_type": "code",
      "metadata": {
        "id": "dGaEcTO09SsT",
        "colab_type": "code",
        "colab": {
          "base_uri": "https://localhost:8080/",
          "height": 195
        },
        "outputId": "a86ea28b-87b5-429d-b412-64b20d14b3a6"
      },
      "source": [
        "df.head()"
      ],
      "execution_count": null,
      "outputs": [
        {
          "output_type": "execute_result",
          "data": {
            "text/html": [
              "<div>\n",
              "<style scoped>\n",
              "    .dataframe tbody tr th:only-of-type {\n",
              "        vertical-align: middle;\n",
              "    }\n",
              "\n",
              "    .dataframe tbody tr th {\n",
              "        vertical-align: top;\n",
              "    }\n",
              "\n",
              "    .dataframe thead th {\n",
              "        text-align: right;\n",
              "    }\n",
              "</style>\n",
              "<table border=\"1\" class=\"dataframe\">\n",
              "  <thead>\n",
              "    <tr style=\"text-align: right;\">\n",
              "      <th></th>\n",
              "      <th>SNo</th>\n",
              "      <th>ObservationDate</th>\n",
              "      <th>Province/State</th>\n",
              "      <th>Country/Region</th>\n",
              "      <th>Last Update</th>\n",
              "      <th>Confirmed</th>\n",
              "      <th>Deaths</th>\n",
              "      <th>Recovered</th>\n",
              "    </tr>\n",
              "  </thead>\n",
              "  <tbody>\n",
              "    <tr>\n",
              "      <th>0</th>\n",
              "      <td>1</td>\n",
              "      <td>01/22/2020</td>\n",
              "      <td>Anhui</td>\n",
              "      <td>Mainland China</td>\n",
              "      <td>1/22/2020 17:00</td>\n",
              "      <td>1.0</td>\n",
              "      <td>0.0</td>\n",
              "      <td>0.0</td>\n",
              "    </tr>\n",
              "    <tr>\n",
              "      <th>1</th>\n",
              "      <td>2</td>\n",
              "      <td>01/22/2020</td>\n",
              "      <td>Beijing</td>\n",
              "      <td>Mainland China</td>\n",
              "      <td>1/22/2020 17:00</td>\n",
              "      <td>14.0</td>\n",
              "      <td>0.0</td>\n",
              "      <td>0.0</td>\n",
              "    </tr>\n",
              "    <tr>\n",
              "      <th>2</th>\n",
              "      <td>3</td>\n",
              "      <td>01/22/2020</td>\n",
              "      <td>Chongqing</td>\n",
              "      <td>Mainland China</td>\n",
              "      <td>1/22/2020 17:00</td>\n",
              "      <td>6.0</td>\n",
              "      <td>0.0</td>\n",
              "      <td>0.0</td>\n",
              "    </tr>\n",
              "    <tr>\n",
              "      <th>3</th>\n",
              "      <td>4</td>\n",
              "      <td>01/22/2020</td>\n",
              "      <td>Fujian</td>\n",
              "      <td>Mainland China</td>\n",
              "      <td>1/22/2020 17:00</td>\n",
              "      <td>1.0</td>\n",
              "      <td>0.0</td>\n",
              "      <td>0.0</td>\n",
              "    </tr>\n",
              "    <tr>\n",
              "      <th>4</th>\n",
              "      <td>5</td>\n",
              "      <td>01/22/2020</td>\n",
              "      <td>Gansu</td>\n",
              "      <td>Mainland China</td>\n",
              "      <td>1/22/2020 17:00</td>\n",
              "      <td>0.0</td>\n",
              "      <td>0.0</td>\n",
              "      <td>0.0</td>\n",
              "    </tr>\n",
              "  </tbody>\n",
              "</table>\n",
              "</div>"
            ],
            "text/plain": [
              "   SNo ObservationDate Province/State  ... Confirmed Deaths  Recovered\n",
              "0    1      01/22/2020          Anhui  ...       1.0    0.0        0.0\n",
              "1    2      01/22/2020        Beijing  ...      14.0    0.0        0.0\n",
              "2    3      01/22/2020      Chongqing  ...       6.0    0.0        0.0\n",
              "3    4      01/22/2020         Fujian  ...       1.0    0.0        0.0\n",
              "4    5      01/22/2020          Gansu  ...       0.0    0.0        0.0\n",
              "\n",
              "[5 rows x 8 columns]"
            ]
          },
          "metadata": {
            "tags": []
          },
          "execution_count": 19
        }
      ]
    },
    {
      "cell_type": "code",
      "metadata": {
        "id": "jWvLQC1N9So5",
        "colab_type": "code",
        "colab": {
          "base_uri": "https://localhost:8080/",
          "height": 195
        },
        "outputId": "39ac3a1c-4961-4f14-a8d6-07d7c28dd7a0"
      },
      "source": [
        "df.tail()"
      ],
      "execution_count": null,
      "outputs": [
        {
          "output_type": "execute_result",
          "data": {
            "text/html": [
              "<div>\n",
              "<style scoped>\n",
              "    .dataframe tbody tr th:only-of-type {\n",
              "        vertical-align: middle;\n",
              "    }\n",
              "\n",
              "    .dataframe tbody tr th {\n",
              "        vertical-align: top;\n",
              "    }\n",
              "\n",
              "    .dataframe thead th {\n",
              "        text-align: right;\n",
              "    }\n",
              "</style>\n",
              "<table border=\"1\" class=\"dataframe\">\n",
              "  <thead>\n",
              "    <tr style=\"text-align: right;\">\n",
              "      <th></th>\n",
              "      <th>SNo</th>\n",
              "      <th>ObservationDate</th>\n",
              "      <th>Province/State</th>\n",
              "      <th>Country/Region</th>\n",
              "      <th>Last Update</th>\n",
              "      <th>Confirmed</th>\n",
              "      <th>Deaths</th>\n",
              "      <th>Recovered</th>\n",
              "    </tr>\n",
              "  </thead>\n",
              "  <tbody>\n",
              "    <tr>\n",
              "      <th>53922</th>\n",
              "      <td>53923</td>\n",
              "      <td>06/30/2020</td>\n",
              "      <td>Zacatecas</td>\n",
              "      <td>Mexico</td>\n",
              "      <td>2020-07-01 04:33:52</td>\n",
              "      <td>908.0</td>\n",
              "      <td>96.0</td>\n",
              "      <td>626.0</td>\n",
              "    </tr>\n",
              "    <tr>\n",
              "      <th>53923</th>\n",
              "      <td>53924</td>\n",
              "      <td>06/30/2020</td>\n",
              "      <td>Zakarpattia Oblast</td>\n",
              "      <td>Ukraine</td>\n",
              "      <td>2020-07-01 04:33:52</td>\n",
              "      <td>2889.0</td>\n",
              "      <td>91.0</td>\n",
              "      <td>943.0</td>\n",
              "    </tr>\n",
              "    <tr>\n",
              "      <th>53924</th>\n",
              "      <td>53925</td>\n",
              "      <td>06/30/2020</td>\n",
              "      <td>Zaporizhia Oblast</td>\n",
              "      <td>Ukraine</td>\n",
              "      <td>2020-07-01 04:33:52</td>\n",
              "      <td>572.0</td>\n",
              "      <td>17.0</td>\n",
              "      <td>418.0</td>\n",
              "    </tr>\n",
              "    <tr>\n",
              "      <th>53925</th>\n",
              "      <td>53926</td>\n",
              "      <td>06/30/2020</td>\n",
              "      <td>Zhejiang</td>\n",
              "      <td>Mainland China</td>\n",
              "      <td>2020-07-01 04:33:52</td>\n",
              "      <td>1269.0</td>\n",
              "      <td>1.0</td>\n",
              "      <td>1267.0</td>\n",
              "    </tr>\n",
              "    <tr>\n",
              "      <th>53926</th>\n",
              "      <td>53927</td>\n",
              "      <td>06/30/2020</td>\n",
              "      <td>Zhytomyr Oblast</td>\n",
              "      <td>Ukraine</td>\n",
              "      <td>2020-07-01 04:33:52</td>\n",
              "      <td>1404.0</td>\n",
              "      <td>29.0</td>\n",
              "      <td>746.0</td>\n",
              "    </tr>\n",
              "  </tbody>\n",
              "</table>\n",
              "</div>"
            ],
            "text/plain": [
              "         SNo ObservationDate      Province/State  ... Confirmed Deaths  Recovered\n",
              "53922  53923      06/30/2020           Zacatecas  ...     908.0   96.0      626.0\n",
              "53923  53924      06/30/2020  Zakarpattia Oblast  ...    2889.0   91.0      943.0\n",
              "53924  53925      06/30/2020   Zaporizhia Oblast  ...     572.0   17.0      418.0\n",
              "53925  53926      06/30/2020            Zhejiang  ...    1269.0    1.0     1267.0\n",
              "53926  53927      06/30/2020     Zhytomyr Oblast  ...    1404.0   29.0      746.0\n",
              "\n",
              "[5 rows x 8 columns]"
            ]
          },
          "metadata": {
            "tags": []
          },
          "execution_count": 20
        }
      ]
    },
    {
      "cell_type": "code",
      "metadata": {
        "id": "S_XgB2oZ9WET",
        "colab_type": "code",
        "colab": {
          "base_uri": "https://localhost:8080/",
          "height": 195
        },
        "outputId": "2b379dae-2072-4f75-a33c-49712d7932a3"
      },
      "source": [
        "# 필요 없는 열 제거\n",
        "df.drop(columns=['SNo'], axis=1, inplace=True)\n",
        "df.head()"
      ],
      "execution_count": null,
      "outputs": [
        {
          "output_type": "execute_result",
          "data": {
            "text/html": [
              "<div>\n",
              "<style scoped>\n",
              "    .dataframe tbody tr th:only-of-type {\n",
              "        vertical-align: middle;\n",
              "    }\n",
              "\n",
              "    .dataframe tbody tr th {\n",
              "        vertical-align: top;\n",
              "    }\n",
              "\n",
              "    .dataframe thead th {\n",
              "        text-align: right;\n",
              "    }\n",
              "</style>\n",
              "<table border=\"1\" class=\"dataframe\">\n",
              "  <thead>\n",
              "    <tr style=\"text-align: right;\">\n",
              "      <th></th>\n",
              "      <th>ObservationDate</th>\n",
              "      <th>Province/State</th>\n",
              "      <th>Country/Region</th>\n",
              "      <th>Last Update</th>\n",
              "      <th>Confirmed</th>\n",
              "      <th>Deaths</th>\n",
              "      <th>Recovered</th>\n",
              "    </tr>\n",
              "  </thead>\n",
              "  <tbody>\n",
              "    <tr>\n",
              "      <th>0</th>\n",
              "      <td>01/22/2020</td>\n",
              "      <td>Anhui</td>\n",
              "      <td>Mainland China</td>\n",
              "      <td>1/22/2020 17:00</td>\n",
              "      <td>1.0</td>\n",
              "      <td>0.0</td>\n",
              "      <td>0.0</td>\n",
              "    </tr>\n",
              "    <tr>\n",
              "      <th>1</th>\n",
              "      <td>01/22/2020</td>\n",
              "      <td>Beijing</td>\n",
              "      <td>Mainland China</td>\n",
              "      <td>1/22/2020 17:00</td>\n",
              "      <td>14.0</td>\n",
              "      <td>0.0</td>\n",
              "      <td>0.0</td>\n",
              "    </tr>\n",
              "    <tr>\n",
              "      <th>2</th>\n",
              "      <td>01/22/2020</td>\n",
              "      <td>Chongqing</td>\n",
              "      <td>Mainland China</td>\n",
              "      <td>1/22/2020 17:00</td>\n",
              "      <td>6.0</td>\n",
              "      <td>0.0</td>\n",
              "      <td>0.0</td>\n",
              "    </tr>\n",
              "    <tr>\n",
              "      <th>3</th>\n",
              "      <td>01/22/2020</td>\n",
              "      <td>Fujian</td>\n",
              "      <td>Mainland China</td>\n",
              "      <td>1/22/2020 17:00</td>\n",
              "      <td>1.0</td>\n",
              "      <td>0.0</td>\n",
              "      <td>0.0</td>\n",
              "    </tr>\n",
              "    <tr>\n",
              "      <th>4</th>\n",
              "      <td>01/22/2020</td>\n",
              "      <td>Gansu</td>\n",
              "      <td>Mainland China</td>\n",
              "      <td>1/22/2020 17:00</td>\n",
              "      <td>0.0</td>\n",
              "      <td>0.0</td>\n",
              "      <td>0.0</td>\n",
              "    </tr>\n",
              "  </tbody>\n",
              "</table>\n",
              "</div>"
            ],
            "text/plain": [
              "  ObservationDate Province/State  Country/Region  ... Confirmed  Deaths  Recovered\n",
              "0      01/22/2020          Anhui  Mainland China  ...       1.0     0.0        0.0\n",
              "1      01/22/2020        Beijing  Mainland China  ...      14.0     0.0        0.0\n",
              "2      01/22/2020      Chongqing  Mainland China  ...       6.0     0.0        0.0\n",
              "3      01/22/2020         Fujian  Mainland China  ...       1.0     0.0        0.0\n",
              "4      01/22/2020          Gansu  Mainland China  ...       0.0     0.0        0.0\n",
              "\n",
              "[5 rows x 7 columns]"
            ]
          },
          "metadata": {
            "tags": []
          },
          "execution_count": 4
        }
      ]
    },
    {
      "cell_type": "code",
      "metadata": {
        "id": "O56UwbSh9c2U",
        "colab_type": "code",
        "colab": {
          "base_uri": "https://localhost:8080/",
          "height": 477
        },
        "outputId": "b92c3b0f-be89-47f4-fa87-0e38bb2d1a5f"
      },
      "source": [
        "# 결측치 제거\n",
        "print(df.isnull().sum())\n",
        "df.dropna(inplace=True)\n",
        "print(df.isnull().sum())\n",
        "df.head()"
      ],
      "execution_count": null,
      "outputs": [
        {
          "output_type": "stream",
          "text": [
            "ObservationDate        0\n",
            "Province/State     21057\n",
            "Country/Region         0\n",
            "Last Update            0\n",
            "Confirmed              0\n",
            "Deaths                 0\n",
            "Recovered              0\n",
            "dtype: int64\n",
            "ObservationDate    0\n",
            "Province/State     0\n",
            "Country/Region     0\n",
            "Last Update        0\n",
            "Confirmed          0\n",
            "Deaths             0\n",
            "Recovered          0\n",
            "dtype: int64\n"
          ],
          "name": "stdout"
        },
        {
          "output_type": "execute_result",
          "data": {
            "text/html": [
              "<div>\n",
              "<style scoped>\n",
              "    .dataframe tbody tr th:only-of-type {\n",
              "        vertical-align: middle;\n",
              "    }\n",
              "\n",
              "    .dataframe tbody tr th {\n",
              "        vertical-align: top;\n",
              "    }\n",
              "\n",
              "    .dataframe thead th {\n",
              "        text-align: right;\n",
              "    }\n",
              "</style>\n",
              "<table border=\"1\" class=\"dataframe\">\n",
              "  <thead>\n",
              "    <tr style=\"text-align: right;\">\n",
              "      <th></th>\n",
              "      <th>ObservationDate</th>\n",
              "      <th>Province/State</th>\n",
              "      <th>Country/Region</th>\n",
              "      <th>Last Update</th>\n",
              "      <th>Confirmed</th>\n",
              "      <th>Deaths</th>\n",
              "      <th>Recovered</th>\n",
              "    </tr>\n",
              "  </thead>\n",
              "  <tbody>\n",
              "    <tr>\n",
              "      <th>0</th>\n",
              "      <td>01/22/2020</td>\n",
              "      <td>Anhui</td>\n",
              "      <td>Mainland China</td>\n",
              "      <td>1/22/2020 17:00</td>\n",
              "      <td>1.0</td>\n",
              "      <td>0.0</td>\n",
              "      <td>0.0</td>\n",
              "    </tr>\n",
              "    <tr>\n",
              "      <th>1</th>\n",
              "      <td>01/22/2020</td>\n",
              "      <td>Beijing</td>\n",
              "      <td>Mainland China</td>\n",
              "      <td>1/22/2020 17:00</td>\n",
              "      <td>14.0</td>\n",
              "      <td>0.0</td>\n",
              "      <td>0.0</td>\n",
              "    </tr>\n",
              "    <tr>\n",
              "      <th>2</th>\n",
              "      <td>01/22/2020</td>\n",
              "      <td>Chongqing</td>\n",
              "      <td>Mainland China</td>\n",
              "      <td>1/22/2020 17:00</td>\n",
              "      <td>6.0</td>\n",
              "      <td>0.0</td>\n",
              "      <td>0.0</td>\n",
              "    </tr>\n",
              "    <tr>\n",
              "      <th>3</th>\n",
              "      <td>01/22/2020</td>\n",
              "      <td>Fujian</td>\n",
              "      <td>Mainland China</td>\n",
              "      <td>1/22/2020 17:00</td>\n",
              "      <td>1.0</td>\n",
              "      <td>0.0</td>\n",
              "      <td>0.0</td>\n",
              "    </tr>\n",
              "    <tr>\n",
              "      <th>4</th>\n",
              "      <td>01/22/2020</td>\n",
              "      <td>Gansu</td>\n",
              "      <td>Mainland China</td>\n",
              "      <td>1/22/2020 17:00</td>\n",
              "      <td>0.0</td>\n",
              "      <td>0.0</td>\n",
              "      <td>0.0</td>\n",
              "    </tr>\n",
              "  </tbody>\n",
              "</table>\n",
              "</div>"
            ],
            "text/plain": [
              "  ObservationDate Province/State  Country/Region  ... Confirmed  Deaths  Recovered\n",
              "0      01/22/2020          Anhui  Mainland China  ...       1.0     0.0        0.0\n",
              "1      01/22/2020        Beijing  Mainland China  ...      14.0     0.0        0.0\n",
              "2      01/22/2020      Chongqing  Mainland China  ...       6.0     0.0        0.0\n",
              "3      01/22/2020         Fujian  Mainland China  ...       1.0     0.0        0.0\n",
              "4      01/22/2020          Gansu  Mainland China  ...       0.0     0.0        0.0\n",
              "\n",
              "[5 rows x 7 columns]"
            ]
          },
          "metadata": {
            "tags": []
          },
          "execution_count": 22
        }
      ]
    },
    {
      "cell_type": "code",
      "metadata": {
        "id": "BPxRCvea9qQB",
        "colab_type": "code",
        "colab": {
          "base_uri": "https://localhost:8080/",
          "height": 225
        },
        "outputId": "6ed3ba2e-abdb-4e6a-d29d-8c048395fcde"
      },
      "source": [
        "# 그룹핑 통해 일자별 숫자 구하기\n",
        "df = df.groupby(by=['ObservationDate']).sum()\n",
        "df.head()"
      ],
      "execution_count": null,
      "outputs": [
        {
          "output_type": "execute_result",
          "data": {
            "text/html": [
              "<div>\n",
              "<style scoped>\n",
              "    .dataframe tbody tr th:only-of-type {\n",
              "        vertical-align: middle;\n",
              "    }\n",
              "\n",
              "    .dataframe tbody tr th {\n",
              "        vertical-align: top;\n",
              "    }\n",
              "\n",
              "    .dataframe thead th {\n",
              "        text-align: right;\n",
              "    }\n",
              "</style>\n",
              "<table border=\"1\" class=\"dataframe\">\n",
              "  <thead>\n",
              "    <tr style=\"text-align: right;\">\n",
              "      <th></th>\n",
              "      <th>Confirmed</th>\n",
              "      <th>Deaths</th>\n",
              "      <th>Recovered</th>\n",
              "    </tr>\n",
              "    <tr>\n",
              "      <th>ObservationDate</th>\n",
              "      <th></th>\n",
              "      <th></th>\n",
              "      <th></th>\n",
              "    </tr>\n",
              "  </thead>\n",
              "  <tbody>\n",
              "    <tr>\n",
              "      <th>01/22/2020</th>\n",
              "      <td>555.0</td>\n",
              "      <td>17.0</td>\n",
              "      <td>28.0</td>\n",
              "    </tr>\n",
              "    <tr>\n",
              "      <th>01/23/2020</th>\n",
              "      <td>653.0</td>\n",
              "      <td>18.0</td>\n",
              "      <td>30.0</td>\n",
              "    </tr>\n",
              "    <tr>\n",
              "      <th>01/24/2020</th>\n",
              "      <td>941.0</td>\n",
              "      <td>26.0</td>\n",
              "      <td>36.0</td>\n",
              "    </tr>\n",
              "    <tr>\n",
              "      <th>01/25/2020</th>\n",
              "      <td>1438.0</td>\n",
              "      <td>42.0</td>\n",
              "      <td>39.0</td>\n",
              "    </tr>\n",
              "    <tr>\n",
              "      <th>01/26/2020</th>\n",
              "      <td>2118.0</td>\n",
              "      <td>56.0</td>\n",
              "      <td>52.0</td>\n",
              "    </tr>\n",
              "  </tbody>\n",
              "</table>\n",
              "</div>"
            ],
            "text/plain": [
              "                 Confirmed  Deaths  Recovered\n",
              "ObservationDate                              \n",
              "01/22/2020           555.0    17.0       28.0\n",
              "01/23/2020           653.0    18.0       30.0\n",
              "01/24/2020           941.0    26.0       36.0\n",
              "01/25/2020          1438.0    42.0       39.0\n",
              "01/26/2020          2118.0    56.0       52.0"
            ]
          },
          "metadata": {
            "tags": []
          },
          "execution_count": 5
        }
      ]
    },
    {
      "cell_type": "code",
      "metadata": {
        "id": "K2EAgsu4975S",
        "colab_type": "code",
        "colab": {
          "base_uri": "https://localhost:8080/",
          "height": 225
        },
        "outputId": "31169d45-6283-44ff-cc84-25ae0f9b47c0"
      },
      "source": [
        "# 누적합 해체, 일자별 날짜 구하기\n",
        "df = df - df.shift(1)\n",
        "df.head()"
      ],
      "execution_count": null,
      "outputs": [
        {
          "output_type": "execute_result",
          "data": {
            "text/html": [
              "<div>\n",
              "<style scoped>\n",
              "    .dataframe tbody tr th:only-of-type {\n",
              "        vertical-align: middle;\n",
              "    }\n",
              "\n",
              "    .dataframe tbody tr th {\n",
              "        vertical-align: top;\n",
              "    }\n",
              "\n",
              "    .dataframe thead th {\n",
              "        text-align: right;\n",
              "    }\n",
              "</style>\n",
              "<table border=\"1\" class=\"dataframe\">\n",
              "  <thead>\n",
              "    <tr style=\"text-align: right;\">\n",
              "      <th></th>\n",
              "      <th>Confirmed</th>\n",
              "      <th>Deaths</th>\n",
              "      <th>Recovered</th>\n",
              "    </tr>\n",
              "    <tr>\n",
              "      <th>ObservationDate</th>\n",
              "      <th></th>\n",
              "      <th></th>\n",
              "      <th></th>\n",
              "    </tr>\n",
              "  </thead>\n",
              "  <tbody>\n",
              "    <tr>\n",
              "      <th>01/22/2020</th>\n",
              "      <td>NaN</td>\n",
              "      <td>NaN</td>\n",
              "      <td>NaN</td>\n",
              "    </tr>\n",
              "    <tr>\n",
              "      <th>01/23/2020</th>\n",
              "      <td>98.0</td>\n",
              "      <td>1.0</td>\n",
              "      <td>2.0</td>\n",
              "    </tr>\n",
              "    <tr>\n",
              "      <th>01/24/2020</th>\n",
              "      <td>288.0</td>\n",
              "      <td>8.0</td>\n",
              "      <td>6.0</td>\n",
              "    </tr>\n",
              "    <tr>\n",
              "      <th>01/25/2020</th>\n",
              "      <td>497.0</td>\n",
              "      <td>16.0</td>\n",
              "      <td>3.0</td>\n",
              "    </tr>\n",
              "    <tr>\n",
              "      <th>01/26/2020</th>\n",
              "      <td>680.0</td>\n",
              "      <td>14.0</td>\n",
              "      <td>13.0</td>\n",
              "    </tr>\n",
              "  </tbody>\n",
              "</table>\n",
              "</div>"
            ],
            "text/plain": [
              "                 Confirmed  Deaths  Recovered\n",
              "ObservationDate                              \n",
              "01/22/2020             NaN     NaN        NaN\n",
              "01/23/2020            98.0     1.0        2.0\n",
              "01/24/2020           288.0     8.0        6.0\n",
              "01/25/2020           497.0    16.0        3.0\n",
              "01/26/2020           680.0    14.0       13.0"
            ]
          },
          "metadata": {
            "tags": []
          },
          "execution_count": 6
        }
      ]
    },
    {
      "cell_type": "code",
      "metadata": {
        "id": "okZ1vUCp9_w_",
        "colab_type": "code",
        "colab": {
          "base_uri": "https://localhost:8080/",
          "height": 225
        },
        "outputId": "cb343ccc-6bb2-4638-8584-85f261b27b0c"
      },
      "source": [
        "# 결측치 제거\n",
        "df.dropna(inplace=True)\n",
        "df.head()"
      ],
      "execution_count": null,
      "outputs": [
        {
          "output_type": "execute_result",
          "data": {
            "text/html": [
              "<div>\n",
              "<style scoped>\n",
              "    .dataframe tbody tr th:only-of-type {\n",
              "        vertical-align: middle;\n",
              "    }\n",
              "\n",
              "    .dataframe tbody tr th {\n",
              "        vertical-align: top;\n",
              "    }\n",
              "\n",
              "    .dataframe thead th {\n",
              "        text-align: right;\n",
              "    }\n",
              "</style>\n",
              "<table border=\"1\" class=\"dataframe\">\n",
              "  <thead>\n",
              "    <tr style=\"text-align: right;\">\n",
              "      <th></th>\n",
              "      <th>Confirmed</th>\n",
              "      <th>Deaths</th>\n",
              "      <th>Recovered</th>\n",
              "    </tr>\n",
              "    <tr>\n",
              "      <th>ObservationDate</th>\n",
              "      <th></th>\n",
              "      <th></th>\n",
              "      <th></th>\n",
              "    </tr>\n",
              "  </thead>\n",
              "  <tbody>\n",
              "    <tr>\n",
              "      <th>01/23/2020</th>\n",
              "      <td>98.0</td>\n",
              "      <td>1.0</td>\n",
              "      <td>2.0</td>\n",
              "    </tr>\n",
              "    <tr>\n",
              "      <th>01/24/2020</th>\n",
              "      <td>288.0</td>\n",
              "      <td>8.0</td>\n",
              "      <td>6.0</td>\n",
              "    </tr>\n",
              "    <tr>\n",
              "      <th>01/25/2020</th>\n",
              "      <td>497.0</td>\n",
              "      <td>16.0</td>\n",
              "      <td>3.0</td>\n",
              "    </tr>\n",
              "    <tr>\n",
              "      <th>01/26/2020</th>\n",
              "      <td>680.0</td>\n",
              "      <td>14.0</td>\n",
              "      <td>13.0</td>\n",
              "    </tr>\n",
              "    <tr>\n",
              "      <th>01/27/2020</th>\n",
              "      <td>809.0</td>\n",
              "      <td>26.0</td>\n",
              "      <td>9.0</td>\n",
              "    </tr>\n",
              "  </tbody>\n",
              "</table>\n",
              "</div>"
            ],
            "text/plain": [
              "                 Confirmed  Deaths  Recovered\n",
              "ObservationDate                              \n",
              "01/23/2020            98.0     1.0        2.0\n",
              "01/24/2020           288.0     8.0        6.0\n",
              "01/25/2020           497.0    16.0        3.0\n",
              "01/26/2020           680.0    14.0       13.0\n",
              "01/27/2020           809.0    26.0        9.0"
            ]
          },
          "metadata": {
            "tags": []
          },
          "execution_count": 7
        }
      ]
    },
    {
      "cell_type": "code",
      "metadata": {
        "id": "fPPN3DOh-I67",
        "colab_type": "code",
        "colab": {
          "base_uri": "https://localhost:8080/",
          "height": 473
        },
        "outputId": "7b6cf881-6c5b-42b3-a23e-4e67f90a17e0"
      },
      "source": [
        "# 표준화\n",
        "df = (df - df.mean())/df.std()\n",
        "display(df.head())\n",
        "\n",
        "plt.plot(df['Confirmed'], label='Confirmed')\n",
        "plt.plot(df['Deaths'], label='Deaths')\n",
        "plt.plot(df['Recovered'], label='Recovered')\n",
        "plt.legend()\n",
        "plt.show()"
      ],
      "execution_count": null,
      "outputs": [
        {
          "output_type": "display_data",
          "data": {
            "text/html": [
              "<div>\n",
              "<style scoped>\n",
              "    .dataframe tbody tr th:only-of-type {\n",
              "        vertical-align: middle;\n",
              "    }\n",
              "\n",
              "    .dataframe tbody tr th {\n",
              "        vertical-align: top;\n",
              "    }\n",
              "\n",
              "    .dataframe thead th {\n",
              "        text-align: right;\n",
              "    }\n",
              "</style>\n",
              "<table border=\"1\" class=\"dataframe\">\n",
              "  <thead>\n",
              "    <tr style=\"text-align: right;\">\n",
              "      <th></th>\n",
              "      <th>Confirmed</th>\n",
              "      <th>Deaths</th>\n",
              "      <th>Recovered</th>\n",
              "    </tr>\n",
              "    <tr>\n",
              "      <th>ObservationDate</th>\n",
              "      <th></th>\n",
              "      <th></th>\n",
              "      <th></th>\n",
              "    </tr>\n",
              "  </thead>\n",
              "  <tbody>\n",
              "    <tr>\n",
              "      <th>01/23/2020</th>\n",
              "      <td>-1.213310</td>\n",
              "      <td>-1.220262</td>\n",
              "      <td>-0.928623</td>\n",
              "    </tr>\n",
              "    <tr>\n",
              "      <th>01/24/2020</th>\n",
              "      <td>-1.209784</td>\n",
              "      <td>-1.217588</td>\n",
              "      <td>-0.928512</td>\n",
              "    </tr>\n",
              "    <tr>\n",
              "      <th>01/25/2020</th>\n",
              "      <td>-1.205905</td>\n",
              "      <td>-1.214532</td>\n",
              "      <td>-0.928595</td>\n",
              "    </tr>\n",
              "    <tr>\n",
              "      <th>01/26/2020</th>\n",
              "      <td>-1.202508</td>\n",
              "      <td>-1.215296</td>\n",
              "      <td>-0.928317</td>\n",
              "    </tr>\n",
              "    <tr>\n",
              "      <th>01/27/2020</th>\n",
              "      <td>-1.200114</td>\n",
              "      <td>-1.210711</td>\n",
              "      <td>-0.928428</td>\n",
              "    </tr>\n",
              "  </tbody>\n",
              "</table>\n",
              "</div>"
            ],
            "text/plain": [
              "                 Confirmed    Deaths  Recovered\n",
              "ObservationDate                                \n",
              "01/23/2020       -1.213310 -1.220262  -0.928623\n",
              "01/24/2020       -1.209784 -1.217588  -0.928512\n",
              "01/25/2020       -1.205905 -1.214532  -0.928595\n",
              "01/26/2020       -1.202508 -1.215296  -0.928317\n",
              "01/27/2020       -1.200114 -1.210711  -0.928428"
            ]
          },
          "metadata": {
            "tags": []
          }
        },
        {
          "output_type": "display_data",
          "data": {
            "image/png": "[encoded data removed]",
            "text/plain": [
              "<Figure size 432x288 with 1 Axes>"
            ]
          },
          "metadata": {
            "tags": [],
            "needs_background": "light"
          }
        }
      ]
    },
    {
      "cell_type": "code",
      "metadata": {
        "id": "ajq0RWGf_Cw6",
        "colab_type": "code",
        "colab": {
          "base_uri": "https://localhost:8080/",
          "height": 34
        },
        "outputId": "c88292b9-26fc-4c09-971e-3b7b7eae1a3f"
      },
      "source": [
        "# 복사\n",
        "data = df.copy()\n",
        "data.shape"
      ],
      "execution_count": null,
      "outputs": [
        {
          "output_type": "execute_result",
          "data": {
            "text/plain": [
              "(160, 3)"
            ]
          },
          "metadata": {
            "tags": []
          },
          "execution_count": 49
        }
      ]
    },
    {
      "cell_type": "markdown",
      "metadata": {
        "id": "6A4GWyCO_G9s",
        "colab_type": "text"
      },
      "source": [
        "# _2_. LSTM 구성"
      ]
    },
    {
      "cell_type": "code",
      "metadata": {
        "id": "aL2f-Qpr_Jgx",
        "colab_type": "code",
        "colab": {}
      },
      "source": [
        "# train data 생성\n",
        "def createTrainData(X_data, step):\n",
        "    m = np.arange(len(X_data)-step)\n",
        "\n",
        "    # np.array로 바꿔 주기: 안 그러면 나중에 KeyError난다.\n",
        "    X_data = np.array(X_data)\n",
        "\n",
        "    X, Y = [], []\n",
        "    for i in m:\n",
        "        x = X_data[i:i+step]\n",
        "        X.append(x)\n",
        "    for i in m+1:\n",
        "        y = X_data[i:i+step]\n",
        "        Y.append(y[-1])\n",
        "\n",
        "    X = np.reshape(np.array(X), (len(m), step, 3))\n",
        "    Y = np.reshape(np.array(Y), (len(m), 3))\n",
        "\n",
        "    return X, Y"
      ],
      "execution_count": null,
      "outputs": []
    },
    {
      "cell_type": "code",
      "metadata": {
        "id": "AZVx3YPGABW1",
        "colab_type": "code",
        "colab": {
          "base_uri": "https://localhost:8080/",
          "height": 34
        },
        "outputId": "1d1579af-c223-4f51-acac-85ed3a3e562b"
      },
      "source": [
        "# copy data\n",
        "data_1 = data.copy()\n",
        "data_1.shape"
      ],
      "execution_count": null,
      "outputs": [
        {
          "output_type": "execute_result",
          "data": {
            "text/plain": [
              "(160, 3)"
            ]
          },
          "metadata": {
            "tags": []
          },
          "execution_count": 51
        }
      ]
    },
    {
      "cell_type": "code",
      "metadata": {
        "id": "3d4QWxEiAM8g",
        "colab_type": "code",
        "colab": {
          "base_uri": "https://localhost:8080/",
          "height": 52
        },
        "outputId": "1ab8fb5b-cc64-4f05-c67a-4325581a56d5"
      },
      "source": [
        "# params\n",
        "n_step = int(input('학습 스텝 설정: '))\n",
        "n_features = X_data.shape[-1]\n",
        "n_hidden = int(input('FFN 은닉노드 수 설정: '))\n",
        "n_output = y_data.shape[-1]"
      ],
      "execution_count": null,
      "outputs": [
        {
          "output_type": "stream",
          "text": [
            "학습 스텝 설정: 10\n",
            "FFN 은닉노드 수 설정: 100\n"
          ],
          "name": "stdout"
        }
      ]
    },
    {
      "cell_type": "code",
      "metadata": {
        "id": "g7Nk9vmVCSF_",
        "colab_type": "code",
        "colab": {
          "base_uri": "https://localhost:8080/",
          "height": 34
        },
        "outputId": "ca355a8b-e076-489d-e7c5-a42fb1bdc2af"
      },
      "source": [
        "X_data, y_data = createTrainData(data_1, n_step)\n",
        "print(f\"X: {X_data.shape}, y: {y_data.shape}\")"
      ],
      "execution_count": null,
      "outputs": [
        {
          "output_type": "stream",
          "text": [
            "X: (150, 10, 3), y: (150, 3)\n"
          ],
          "name": "stdout"
        }
      ]
    },
    {
      "cell_type": "code",
      "metadata": {
        "id": "pPVC9Sy6AkN6",
        "colab_type": "code",
        "colab": {
          "base_uri": "https://localhost:8080/",
          "height": 334
        },
        "outputId": "d79f6dc0-75c1-4ca4-b64f-3b0584f042f6"
      },
      "source": [
        "# 모델 구성\n",
        "x_Input = Input(batch_shape = (None, n_step, n_features))\n",
        "x_Lstm = LSTM(n_hidden)(x_Input)\n",
        "x_Output = Dense(n_output)(x_Lstm)\n",
        "\n",
        "# 모델 params\n",
        "LR = float(input('학습률 설정: '))\n",
        "EPOCHS = int(input('학습 에폭 수 설정: '))\n",
        "BATCH = int(input('배치 사이즈 설정: '))\n",
        "\n",
        "model = Model(x_Input, x_Output)\n",
        "model.compile(loss='mse', optimizer=Adam(lr=LR))\n",
        "print(model.summary())"
      ],
      "execution_count": null,
      "outputs": [
        {
          "output_type": "stream",
          "text": [
            "학습률 설정: 0.01\n",
            "학습 에폭 수 설정: 300\n",
            "배치 사이즈 설정: 50\n",
            "Model: \"model\"\n",
            "_________________________________________________________________\n",
            "Layer (type)                 Output Shape              Param #   \n",
            "=================================================================\n",
            "input_1 (InputLayer)         [(None, 10, 3)]           0         \n",
            "_________________________________________________________________\n",
            "lstm (LSTM)                  (None, 100)               41600     \n",
            "_________________________________________________________________\n",
            "dense (Dense)                (None, 3)                 303       \n",
            "=================================================================\n",
            "Total params: 41,903\n",
            "Trainable params: 41,903\n",
            "Non-trainable params: 0\n",
            "_________________________________________________________________\n",
            "None\n"
          ],
          "name": "stdout"
        }
      ]
    },
    {
      "cell_type": "code",
      "metadata": {
        "id": "LbS2G-UpCGO7",
        "colab_type": "code",
        "colab": {
          "base_uri": "https://localhost:8080/",
          "height": 1000
        },
        "outputId": "f7094ff0-0eb1-4f0f-f859-250d5da8a263"
      },
      "source": [
        "# 모델 훈련\n",
        "hist = model.fit(X_data, y_data,\n",
        "                 batch_size=BATCH,\n",
        "                 epochs=EPOCHS,\n",
        "                 shuffle=True)"
      ],
      "execution_count": null,
      "outputs": [
        {
          "output_type": "stream",
          "text": [
            "Epoch 1/300\n",
            "3/3 [==============================] - 0s 10ms/step - loss: 0.5715\n",
            "Epoch 2/300\n",
            "3/3 [==============================] - 0s 7ms/step - loss: 0.2114\n",
            "Epoch 3/300\n",
            "3/3 [==============================] - 0s 7ms/step - loss: 0.1778\n",
            "Epoch 4/300\n",
            "3/3 [==============================] - 0s 7ms/step - loss: 0.1316\n",
            "Epoch 5/300\n",
            "3/3 [==============================] - 0s 7ms/step - loss: 0.1277\n",
            "Epoch 6/300\n",
            "3/3 [==============================] - 0s 7ms/step - loss: 0.1220\n",
            "Epoch 7/300\n",
            "3/3 [==============================] - 0s 7ms/step - loss: 0.1125\n",
            "Epoch 8/300\n",
            "3/3 [==============================] - 0s 7ms/step - loss: 0.1098\n",
            "Epoch 9/300\n",
            "3/3 [==============================] - 0s 7ms/step - loss: 0.1031\n",
            "Epoch 10/300\n",
            "3/3 [==============================] - 0s 7ms/step - loss: 0.1018\n",
            "Epoch 11/300\n",
            "3/3 [==============================] - 0s 11ms/step - loss: 0.0985\n",
            "Epoch 12/300\n",
            "3/3 [==============================] - 0s 9ms/step - loss: 0.0976\n",
            "Epoch 13/300\n",
            "3/3 [==============================] - 0s 8ms/step - loss: 0.0985\n",
            "Epoch 14/300\n",
            "3/3 [==============================] - 0s 8ms/step - loss: 0.0948\n",
            "Epoch 15/300\n",
            "3/3 [==============================] - 0s 7ms/step - loss: 0.0947\n",
            "Epoch 16/300\n",
            "3/3 [==============================] - 0s 7ms/step - loss: 0.0950\n",
            "Epoch 17/300\n",
            "3/3 [==============================] - 0s 7ms/step - loss: 0.0925\n",
            "Epoch 18/300\n",
            "3/3 [==============================] - 0s 7ms/step - loss: 0.0915\n",
            "Epoch 19/300\n",
            "3/3 [==============================] - 0s 6ms/step - loss: 0.0906\n",
            "Epoch 20/300\n",
            "3/3 [==============================] - 0s 7ms/step - loss: 0.0885\n",
            "Epoch 21/300\n",
            "3/3 [==============================] - 0s 6ms/step - loss: 0.0884\n",
            "Epoch 22/300\n",
            "3/3 [==============================] - 0s 7ms/step - loss: 0.0895\n",
            "Epoch 23/300\n",
            "3/3 [==============================] - 0s 7ms/step - loss: 0.0862\n",
            "Epoch 24/300\n",
            "3/3 [==============================] - 0s 7ms/step - loss: 0.0852\n",
            "Epoch 25/300\n",
            "3/3 [==============================] - 0s 8ms/step - loss: 0.0839\n",
            "Epoch 26/300\n",
            "3/3 [==============================] - 0s 7ms/step - loss: 0.0836\n",
            "Epoch 27/300\n",
            "3/3 [==============================] - 0s 7ms/step - loss: 0.0794\n",
            "Epoch 28/300\n",
            "3/3 [==============================] - 0s 7ms/step - loss: 0.0827\n",
            "Epoch 29/300\n",
            "3/3 [==============================] - 0s 7ms/step - loss: 0.0848\n",
            "Epoch 30/300\n",
            "3/3 [==============================] - 0s 7ms/step - loss: 0.0784\n",
            "Epoch 31/300\n",
            "3/3 [==============================] - 0s 7ms/step - loss: 0.0770\n",
            "Epoch 32/300\n",
            "3/3 [==============================] - 0s 8ms/step - loss: 0.0791\n",
            "Epoch 33/300\n",
            "3/3 [==============================] - 0s 7ms/step - loss: 0.0790\n",
            "Epoch 34/300\n",
            "3/3 [==============================] - 0s 7ms/step - loss: 0.0700\n",
            "Epoch 35/300\n",
            "3/3 [==============================] - 0s 7ms/step - loss: 0.0694\n",
            "Epoch 36/300\n",
            "3/3 [==============================] - 0s 8ms/step - loss: 0.0700\n",
            "Epoch 37/300\n",
            "3/3 [==============================] - 0s 7ms/step - loss: 0.0658\n",
            "Epoch 38/300\n",
            "3/3 [==============================] - 0s 8ms/step - loss: 0.0672\n",
            "Epoch 39/300\n",
            "3/3 [==============================] - 0s 7ms/step - loss: 0.0643\n",
            "Epoch 40/300\n",
            "3/3 [==============================] - 0s 9ms/step - loss: 0.0587\n",
            "Epoch 41/300\n",
            "3/3 [==============================] - 0s 8ms/step - loss: 0.0615\n",
            "Epoch 42/300\n",
            "3/3 [==============================] - 0s 7ms/step - loss: 0.0609\n",
            "Epoch 43/300\n",
            "3/3 [==============================] - 0s 7ms/step - loss: 0.0570\n",
            "Epoch 44/300\n",
            "3/3 [==============================] - 0s 7ms/step - loss: 0.0584\n",
            "Epoch 45/300\n",
            "3/3 [==============================] - 0s 7ms/step - loss: 0.0537\n",
            "Epoch 46/300\n",
            "3/3 [==============================] - 0s 7ms/step - loss: 0.0561\n",
            "Epoch 47/300\n",
            "3/3 [==============================] - 0s 6ms/step - loss: 0.0534\n",
            "Epoch 48/300\n",
            "3/3 [==============================] - 0s 7ms/step - loss: 0.0536\n",
            "Epoch 49/300\n",
            "3/3 [==============================] - 0s 7ms/step - loss: 0.0612\n",
            "Epoch 50/300\n",
            "3/3 [==============================] - 0s 7ms/step - loss: 0.0655\n",
            "Epoch 51/300\n",
            "3/3 [==============================] - 0s 7ms/step - loss: 0.0606\n",
            "Epoch 52/300\n",
            "3/3 [==============================] - 0s 7ms/step - loss: 0.0551\n",
            "Epoch 53/300\n",
            "3/3 [==============================] - 0s 7ms/step - loss: 0.0528\n",
            "Epoch 54/300\n",
            "3/3 [==============================] - 0s 7ms/step - loss: 0.0513\n",
            "Epoch 55/300\n",
            "3/3 [==============================] - 0s 7ms/step - loss: 0.0506\n",
            "Epoch 56/300\n",
            "3/3 [==============================] - 0s 8ms/step - loss: 0.0495\n",
            "Epoch 57/300\n",
            "3/3 [==============================] - 0s 7ms/step - loss: 0.0454\n",
            "Epoch 58/300\n",
            "3/3 [==============================] - 0s 8ms/step - loss: 0.0480\n",
            "Epoch 59/300\n",
            "3/3 [==============================] - 0s 7ms/step - loss: 0.0439\n",
            "Epoch 60/300\n",
            "3/3 [==============================] - 0s 7ms/step - loss: 0.0409\n",
            "Epoch 61/300\n",
            "3/3 [==============================] - 0s 7ms/step - loss: 0.0388\n",
            "Epoch 62/300\n",
            "3/3 [==============================] - 0s 9ms/step - loss: 0.0363\n",
            "Epoch 63/300\n",
            "3/3 [==============================] - 0s 8ms/step - loss: 0.0363\n",
            "Epoch 64/300\n",
            "3/3 [==============================] - 0s 8ms/step - loss: 0.0351\n",
            "Epoch 65/300\n",
            "3/3 [==============================] - 0s 7ms/step - loss: 0.0343\n",
            "Epoch 66/300\n",
            "3/3 [==============================] - 0s 7ms/step - loss: 0.0381\n",
            "Epoch 67/300\n",
            "3/3 [==============================] - 0s 7ms/step - loss: 0.0295\n",
            "Epoch 68/300\n",
            "3/3 [==============================] - 0s 8ms/step - loss: 0.0363\n",
            "Epoch 69/300\n",
            "3/3 [==============================] - 0s 8ms/step - loss: 0.0346\n",
            "Epoch 70/300\n",
            "3/3 [==============================] - 0s 9ms/step - loss: 0.0311\n",
            "Epoch 71/300\n",
            "3/3 [==============================] - 0s 7ms/step - loss: 0.0305\n",
            "Epoch 72/300\n",
            "3/3 [==============================] - 0s 7ms/step - loss: 0.0306\n",
            "Epoch 73/300\n",
            "3/3 [==============================] - 0s 7ms/step - loss: 0.0287\n",
            "Epoch 74/300\n",
            "3/3 [==============================] - 0s 7ms/step - loss: 0.0304\n",
            "Epoch 75/300\n",
            "3/3 [==============================] - 0s 6ms/step - loss: 0.0260\n",
            "Epoch 76/300\n",
            "3/3 [==============================] - 0s 8ms/step - loss: 0.0254\n",
            "Epoch 77/300\n",
            "3/3 [==============================] - 0s 7ms/step - loss: 0.0255\n",
            "Epoch 78/300\n",
            "3/3 [==============================] - 0s 7ms/step - loss: 0.0243\n",
            "Epoch 79/300\n",
            "3/3 [==============================] - 0s 6ms/step - loss: 0.0234\n",
            "Epoch 80/300\n",
            "3/3 [==============================] - 0s 6ms/step - loss: 0.0202\n",
            "Epoch 81/300\n",
            "3/3 [==============================] - 0s 6ms/step - loss: 0.0209\n",
            "Epoch 82/300\n",
            "3/3 [==============================] - 0s 7ms/step - loss: 0.0198\n",
            "Epoch 83/300\n",
            "3/3 [==============================] - 0s 7ms/step - loss: 0.0178\n",
            "Epoch 84/300\n",
            "3/3 [==============================] - 0s 7ms/step - loss: 0.0176\n",
            "Epoch 85/300\n",
            "3/3 [==============================] - 0s 7ms/step - loss: 0.0187\n",
            "Epoch 86/300\n",
            "3/3 [==============================] - 0s 7ms/step - loss: 0.0219\n",
            "Epoch 87/300\n",
            "3/3 [==============================] - 0s 7ms/step - loss: 0.0215\n",
            "Epoch 88/300\n",
            "3/3 [==============================] - 0s 7ms/step - loss: 0.0179\n",
            "Epoch 89/300\n",
            "3/3 [==============================] - 0s 8ms/step - loss: 0.0237\n",
            "Epoch 90/300\n",
            "3/3 [==============================] - 0s 7ms/step - loss: 0.0225\n",
            "Epoch 91/300\n",
            "3/3 [==============================] - 0s 7ms/step - loss: 0.0185\n",
            "Epoch 92/300\n",
            "3/3 [==============================] - 0s 7ms/step - loss: 0.0189\n",
            "Epoch 93/300\n",
            "3/3 [==============================] - 0s 7ms/step - loss: 0.0183\n",
            "Epoch 94/300\n",
            "3/3 [==============================] - 0s 7ms/step - loss: 0.0174\n",
            "Epoch 95/300\n",
            "3/3 [==============================] - 0s 6ms/step - loss: 0.0142\n",
            "Epoch 96/300\n",
            "3/3 [==============================] - 0s 6ms/step - loss: 0.0121\n",
            "Epoch 97/300\n",
            "3/3 [==============================] - 0s 10ms/step - loss: 0.0126\n",
            "Epoch 98/300\n",
            "3/3 [==============================] - 0s 8ms/step - loss: 0.0110\n",
            "Epoch 99/300\n",
            "3/3 [==============================] - 0s 7ms/step - loss: 0.0109\n",
            "Epoch 100/300\n",
            "3/3 [==============================] - 0s 7ms/step - loss: 0.0100\n",
            "Epoch 101/300\n",
            "3/3 [==============================] - 0s 7ms/step - loss: 0.0102\n",
            "Epoch 102/300\n",
            "3/3 [==============================] - 0s 7ms/step - loss: 0.0095\n",
            "Epoch 103/300\n",
            "3/3 [==============================] - 0s 7ms/step - loss: 0.0096\n",
            "Epoch 104/300\n",
            "3/3 [==============================] - 0s 8ms/step - loss: 0.0093\n",
            "Epoch 105/300\n",
            "3/3 [==============================] - 0s 6ms/step - loss: 0.0095\n",
            "Epoch 106/300\n",
            "3/3 [==============================] - 0s 7ms/step - loss: 0.0104\n",
            "Epoch 107/300\n",
            "3/3 [==============================] - 0s 7ms/step - loss: 0.0090\n",
            "Epoch 108/300\n",
            "3/3 [==============================] - 0s 9ms/step - loss: 0.0078\n",
            "Epoch 109/300\n",
            "3/3 [==============================] - 0s 6ms/step - loss: 0.0090\n",
            "Epoch 110/300\n",
            "3/3 [==============================] - 0s 7ms/step - loss: 0.0077\n",
            "Epoch 111/300\n",
            "3/3 [==============================] - 0s 7ms/step - loss: 0.0090\n",
            "Epoch 112/300\n",
            "3/3 [==============================] - 0s 7ms/step - loss: 0.0106\n",
            "Epoch 113/300\n",
            "3/3 [==============================] - 0s 8ms/step - loss: 0.0098\n",
            "Epoch 114/300\n",
            "3/3 [==============================] - 0s 7ms/step - loss: 0.0111\n",
            "Epoch 115/300\n",
            "3/3 [==============================] - 0s 6ms/step - loss: 0.0107\n",
            "Epoch 116/300\n",
            "3/3 [==============================] - 0s 7ms/step - loss: 0.0118\n",
            "Epoch 117/300\n",
            "3/3 [==============================] - 0s 7ms/step - loss: 0.0115\n",
            "Epoch 118/300\n",
            "3/3 [==============================] - 0s 7ms/step - loss: 0.0116\n",
            "Epoch 119/300\n",
            "3/3 [==============================] - 0s 7ms/step - loss: 0.0098\n",
            "Epoch 120/300\n",
            "3/3 [==============================] - 0s 8ms/step - loss: 0.0101\n",
            "Epoch 121/300\n",
            "3/3 [==============================] - 0s 7ms/step - loss: 0.0076\n",
            "Epoch 122/300\n",
            "3/3 [==============================] - 0s 7ms/step - loss: 0.0070\n",
            "Epoch 123/300\n",
            "3/3 [==============================] - 0s 7ms/step - loss: 0.0074\n",
            "Epoch 124/300\n",
            "3/3 [==============================] - 0s 7ms/step - loss: 0.0060\n",
            "Epoch 125/300\n",
            "3/3 [==============================] - 0s 7ms/step - loss: 0.0056\n",
            "Epoch 126/300\n",
            "3/3 [==============================] - 0s 8ms/step - loss: 0.0052\n",
            "Epoch 127/300\n",
            "3/3 [==============================] - 0s 8ms/step - loss: 0.0047\n",
            "Epoch 128/300\n",
            "3/3 [==============================] - 0s 7ms/step - loss: 0.0048\n",
            "Epoch 129/300\n",
            "3/3 [==============================] - 0s 7ms/step - loss: 0.0041\n",
            "Epoch 130/300\n",
            "3/3 [==============================] - 0s 7ms/step - loss: 0.0040\n",
            "Epoch 131/300\n",
            "3/3 [==============================] - 0s 7ms/step - loss: 0.0038\n",
            "Epoch 132/300\n",
            "3/3 [==============================] - 0s 7ms/step - loss: 0.0033\n",
            "Epoch 133/300\n",
            "3/3 [==============================] - 0s 9ms/step - loss: 0.0033\n",
            "Epoch 134/300\n",
            "3/3 [==============================] - 0s 8ms/step - loss: 0.0031\n",
            "Epoch 135/300\n",
            "3/3 [==============================] - 0s 8ms/step - loss: 0.0032\n",
            "Epoch 136/300\n",
            "3/3 [==============================] - 0s 7ms/step - loss: 0.0029\n",
            "Epoch 137/300\n",
            "3/3 [==============================] - 0s 7ms/step - loss: 0.0028\n",
            "Epoch 138/300\n",
            "3/3 [==============================] - 0s 7ms/step - loss: 0.0027\n",
            "Epoch 139/300\n",
            "3/3 [==============================] - 0s 7ms/step - loss: 0.0027\n",
            "Epoch 140/300\n",
            "3/3 [==============================] - 0s 7ms/step - loss: 0.0025\n",
            "Epoch 141/300\n",
            "3/3 [==============================] - 0s 8ms/step - loss: 0.0028\n",
            "Epoch 142/300\n",
            "3/3 [==============================] - 0s 7ms/step - loss: 0.0029\n",
            "Epoch 143/300\n",
            "3/3 [==============================] - 0s 7ms/step - loss: 0.0028\n",
            "Epoch 144/300\n",
            "3/3 [==============================] - 0s 7ms/step - loss: 0.0026\n",
            "Epoch 145/300\n",
            "3/3 [==============================] - 0s 8ms/step - loss: 0.0025\n",
            "Epoch 146/300\n",
            "3/3 [==============================] - 0s 7ms/step - loss: 0.0023\n",
            "Epoch 147/300\n",
            "3/3 [==============================] - 0s 7ms/step - loss: 0.0024\n",
            "Epoch 148/300\n",
            "3/3 [==============================] - 0s 7ms/step - loss: 0.0022\n",
            "Epoch 149/300\n",
            "3/3 [==============================] - 0s 7ms/step - loss: 0.0022\n",
            "Epoch 150/300\n",
            "3/3 [==============================] - 0s 7ms/step - loss: 0.0024\n",
            "Epoch 151/300\n",
            "3/3 [==============================] - 0s 7ms/step - loss: 0.0021\n",
            "Epoch 152/300\n",
            "3/3 [==============================] - 0s 7ms/step - loss: 0.0022\n",
            "Epoch 153/300\n",
            "3/3 [==============================] - 0s 7ms/step - loss: 0.0024\n",
            "Epoch 154/300\n",
            "3/3 [==============================] - 0s 9ms/step - loss: 0.0022\n",
            "Epoch 155/300\n",
            "3/3 [==============================] - 0s 7ms/step - loss: 0.0022\n",
            "Epoch 156/300\n",
            "3/3 [==============================] - 0s 7ms/step - loss: 0.0020\n",
            "Epoch 157/300\n",
            "3/3 [==============================] - 0s 6ms/step - loss: 0.0019\n",
            "Epoch 158/300\n",
            "3/3 [==============================] - 0s 6ms/step - loss: 0.0025\n",
            "Epoch 159/300\n",
            "3/3 [==============================] - 0s 7ms/step - loss: 0.0023\n",
            "Epoch 160/300\n",
            "3/3 [==============================] - 0s 6ms/step - loss: 0.0025\n",
            "Epoch 161/300\n",
            "3/3 [==============================] - 0s 6ms/step - loss: 0.0023\n",
            "Epoch 162/300\n",
            "3/3 [==============================] - 0s 6ms/step - loss: 0.0028\n",
            "Epoch 163/300\n",
            "3/3 [==============================] - 0s 7ms/step - loss: 0.0021\n",
            "Epoch 164/300\n",
            "3/3 [==============================] - 0s 6ms/step - loss: 0.0022\n",
            "Epoch 165/300\n",
            "3/3 [==============================] - 0s 7ms/step - loss: 0.0025\n",
            "Epoch 166/300\n",
            "3/3 [==============================] - 0s 6ms/step - loss: 0.0025\n",
            "Epoch 167/300\n",
            "3/3 [==============================] - 0s 7ms/step - loss: 0.0021\n",
            "Epoch 168/300\n",
            "3/3 [==============================] - 0s 7ms/step - loss: 0.0022\n",
            "Epoch 169/300\n",
            "3/3 [==============================] - 0s 7ms/step - loss: 0.0018\n",
            "Epoch 170/300\n",
            "3/3 [==============================] - 0s 7ms/step - loss: 0.0020\n",
            "Epoch 171/300\n",
            "3/3 [==============================] - 0s 7ms/step - loss: 0.0019\n",
            "Epoch 172/300\n",
            "3/3 [==============================] - 0s 6ms/step - loss: 0.0017\n",
            "Epoch 173/300\n",
            "3/3 [==============================] - 0s 6ms/step - loss: 0.0018\n",
            "Epoch 174/300\n",
            "3/3 [==============================] - 0s 6ms/step - loss: 0.0020\n",
            "Epoch 175/300\n",
            "3/3 [==============================] - 0s 7ms/step - loss: 0.0020\n",
            "Epoch 176/300\n",
            "3/3 [==============================] - 0s 6ms/step - loss: 0.0025\n",
            "Epoch 177/300\n",
            "3/3 [==============================] - 0s 6ms/step - loss: 0.0027\n",
            "Epoch 178/300\n",
            "3/3 [==============================] - 0s 7ms/step - loss: 0.0024\n",
            "Epoch 179/300\n",
            "3/3 [==============================] - 0s 7ms/step - loss: 0.0020\n",
            "Epoch 180/300\n",
            "3/3 [==============================] - 0s 7ms/step - loss: 0.0024\n",
            "Epoch 181/300\n",
            "3/3 [==============================] - 0s 7ms/step - loss: 0.0033\n",
            "Epoch 182/300\n",
            "3/3 [==============================] - 0s 7ms/step - loss: 0.0032\n",
            "Epoch 183/300\n",
            "3/3 [==============================] - 0s 7ms/step - loss: 0.0031\n",
            "Epoch 184/300\n",
            "3/3 [==============================] - 0s 8ms/step - loss: 0.0035\n",
            "Epoch 185/300\n",
            "3/3 [==============================] - 0s 7ms/step - loss: 0.0043\n",
            "Epoch 186/300\n",
            "3/3 [==============================] - 0s 7ms/step - loss: 0.0046\n",
            "Epoch 187/300\n",
            "3/3 [==============================] - 0s 7ms/step - loss: 0.0043\n",
            "Epoch 188/300\n",
            "3/3 [==============================] - 0s 7ms/step - loss: 0.0038\n",
            "Epoch 189/300\n",
            "3/3 [==============================] - 0s 7ms/step - loss: 0.0026\n",
            "Epoch 190/300\n",
            "3/3 [==============================] - 0s 7ms/step - loss: 0.0029\n",
            "Epoch 191/300\n",
            "3/3 [==============================] - 0s 6ms/step - loss: 0.0028\n",
            "Epoch 192/300\n",
            "3/3 [==============================] - 0s 8ms/step - loss: 0.0027\n",
            "Epoch 193/300\n",
            "3/3 [==============================] - 0s 8ms/step - loss: 0.0022\n",
            "Epoch 194/300\n",
            "3/3 [==============================] - 0s 7ms/step - loss: 0.0023\n",
            "Epoch 195/300\n",
            "3/3 [==============================] - 0s 6ms/step - loss: 0.0021\n",
            "Epoch 196/300\n",
            "3/3 [==============================] - 0s 6ms/step - loss: 0.0021\n",
            "Epoch 197/300\n",
            "3/3 [==============================] - 0s 6ms/step - loss: 0.0018\n",
            "Epoch 198/300\n",
            "3/3 [==============================] - 0s 7ms/step - loss: 0.0018\n",
            "Epoch 199/300\n",
            "3/3 [==============================] - 0s 8ms/step - loss: 0.0019\n",
            "Epoch 200/300\n",
            "3/3 [==============================] - 0s 7ms/step - loss: 0.0019\n",
            "Epoch 201/300\n",
            "3/3 [==============================] - 0s 7ms/step - loss: 0.0019\n",
            "Epoch 202/300\n",
            "3/3 [==============================] - 0s 7ms/step - loss: 0.0018\n",
            "Epoch 203/300\n",
            "3/3 [==============================] - 0s 7ms/step - loss: 0.0016\n",
            "Epoch 204/300\n",
            "3/3 [==============================] - 0s 7ms/step - loss: 0.0017\n",
            "Epoch 205/300\n",
            "3/3 [==============================] - 0s 7ms/step - loss: 0.0014\n",
            "Epoch 206/300\n",
            "3/3 [==============================] - 0s 7ms/step - loss: 0.0015\n",
            "Epoch 207/300\n",
            "3/3 [==============================] - 0s 7ms/step - loss: 0.0015\n",
            "Epoch 208/300\n",
            "3/3 [==============================] - 0s 7ms/step - loss: 0.0016\n",
            "Epoch 209/300\n",
            "3/3 [==============================] - 0s 8ms/step - loss: 0.0014\n",
            "Epoch 210/300\n",
            "3/3 [==============================] - 0s 7ms/step - loss: 0.0016\n",
            "Epoch 211/300\n",
            "3/3 [==============================] - 0s 6ms/step - loss: 0.0013\n",
            "Epoch 212/300\n",
            "3/3 [==============================] - 0s 6ms/step - loss: 0.0014\n",
            "Epoch 213/300\n",
            "3/3 [==============================] - 0s 10ms/step - loss: 0.0013\n",
            "Epoch 214/300\n",
            "3/3 [==============================] - 0s 7ms/step - loss: 0.0015\n",
            "Epoch 215/300\n",
            "3/3 [==============================] - 0s 6ms/step - loss: 0.0013\n",
            "Epoch 216/300\n",
            "3/3 [==============================] - 0s 7ms/step - loss: 0.0013\n",
            "Epoch 217/300\n",
            "3/3 [==============================] - 0s 7ms/step - loss: 0.0013\n",
            "Epoch 218/300\n",
            "3/3 [==============================] - 0s 7ms/step - loss: 0.0014\n",
            "Epoch 219/300\n",
            "3/3 [==============================] - 0s 7ms/step - loss: 0.0013\n",
            "Epoch 220/300\n",
            "3/3 [==============================] - 0s 7ms/step - loss: 0.0012\n",
            "Epoch 221/300\n",
            "3/3 [==============================] - 0s 8ms/step - loss: 0.0013\n",
            "Epoch 222/300\n",
            "3/3 [==============================] - 0s 7ms/step - loss: 0.0013\n",
            "Epoch 223/300\n",
            "3/3 [==============================] - 0s 7ms/step - loss: 0.0014\n",
            "Epoch 224/300\n",
            "3/3 [==============================] - 0s 7ms/step - loss: 0.0013\n",
            "Epoch 225/300\n",
            "3/3 [==============================] - 0s 7ms/step - loss: 0.0014\n",
            "Epoch 226/300\n",
            "3/3 [==============================] - 0s 7ms/step - loss: 0.0014\n",
            "Epoch 227/300\n",
            "3/3 [==============================] - 0s 7ms/step - loss: 0.0015\n",
            "Epoch 228/300\n",
            "3/3 [==============================] - 0s 8ms/step - loss: 0.0015\n",
            "Epoch 229/300\n",
            "3/3 [==============================] - 0s 7ms/step - loss: 0.0014\n",
            "Epoch 230/300\n",
            "3/3 [==============================] - 0s 7ms/step - loss: 0.0015\n",
            "Epoch 231/300\n",
            "3/3 [==============================] - 0s 7ms/step - loss: 0.0018\n",
            "Epoch 232/300\n",
            "3/3 [==============================] - 0s 7ms/step - loss: 0.0027\n",
            "Epoch 233/300\n",
            "3/3 [==============================] - 0s 7ms/step - loss: 0.0023\n",
            "Epoch 234/300\n",
            "3/3 [==============================] - 0s 6ms/step - loss: 0.0019\n",
            "Epoch 235/300\n",
            "3/3 [==============================] - 0s 7ms/step - loss: 0.0019\n",
            "Epoch 236/300\n",
            "3/3 [==============================] - 0s 8ms/step - loss: 0.0017\n",
            "Epoch 237/300\n",
            "3/3 [==============================] - 0s 7ms/step - loss: 0.0016\n",
            "Epoch 238/300\n",
            "3/3 [==============================] - 0s 7ms/step - loss: 0.0014\n",
            "Epoch 239/300\n",
            "3/3 [==============================] - 0s 7ms/step - loss: 0.0014\n",
            "Epoch 240/300\n",
            "3/3 [==============================] - 0s 7ms/step - loss: 0.0013\n",
            "Epoch 241/300\n",
            "3/3 [==============================] - 0s 6ms/step - loss: 0.0013\n",
            "Epoch 242/300\n",
            "3/3 [==============================] - 0s 10ms/step - loss: 0.0013\n",
            "Epoch 243/300\n",
            "3/3 [==============================] - 0s 7ms/step - loss: 0.0013\n",
            "Epoch 244/300\n",
            "3/3 [==============================] - 0s 7ms/step - loss: 0.0015\n",
            "Epoch 245/300\n",
            "3/3 [==============================] - 0s 7ms/step - loss: 0.0014\n",
            "Epoch 246/300\n",
            "3/3 [==============================] - 0s 7ms/step - loss: 0.0014\n",
            "Epoch 247/300\n",
            "3/3 [==============================] - 0s 7ms/step - loss: 0.0013\n",
            "Epoch 248/300\n",
            "3/3 [==============================] - 0s 7ms/step - loss: 0.0013\n",
            "Epoch 249/300\n",
            "3/3 [==============================] - 0s 7ms/step - loss: 0.0013\n",
            "Epoch 250/300\n",
            "3/3 [==============================] - 0s 7ms/step - loss: 0.0012\n",
            "Epoch 251/300\n",
            "3/3 [==============================] - 0s 7ms/step - loss: 0.0012\n",
            "Epoch 252/300\n",
            "3/3 [==============================] - 0s 7ms/step - loss: 0.0012\n",
            "Epoch 253/300\n",
            "3/3 [==============================] - 0s 7ms/step - loss: 0.0012\n",
            "Epoch 254/300\n",
            "3/3 [==============================] - 0s 6ms/step - loss: 0.0012\n",
            "Epoch 255/300\n",
            "3/3 [==============================] - 0s 7ms/step - loss: 0.0012\n",
            "Epoch 256/300\n",
            "3/3 [==============================] - 0s 7ms/step - loss: 0.0013\n",
            "Epoch 257/300\n",
            "3/3 [==============================] - 0s 7ms/step - loss: 0.0014\n",
            "Epoch 258/300\n",
            "3/3 [==============================] - 0s 7ms/step - loss: 0.0015\n",
            "Epoch 259/300\n",
            "3/3 [==============================] - 0s 7ms/step - loss: 0.0016\n",
            "Epoch 260/300\n",
            "3/3 [==============================] - 0s 6ms/step - loss: 0.0014\n",
            "Epoch 261/300\n",
            "3/3 [==============================] - 0s 7ms/step - loss: 0.0013\n",
            "Epoch 262/300\n",
            "3/3 [==============================] - 0s 7ms/step - loss: 0.0014\n",
            "Epoch 263/300\n",
            "3/3 [==============================] - 0s 7ms/step - loss: 0.0014\n",
            "Epoch 264/300\n",
            "3/3 [==============================] - 0s 7ms/step - loss: 0.0015\n",
            "Epoch 265/300\n",
            "3/3 [==============================] - 0s 7ms/step - loss: 0.0016\n",
            "Epoch 266/300\n",
            "3/3 [==============================] - 0s 7ms/step - loss: 0.0013\n",
            "Epoch 267/300\n",
            "3/3 [==============================] - 0s 7ms/step - loss: 0.0014\n",
            "Epoch 268/300\n",
            "3/3 [==============================] - 0s 7ms/step - loss: 0.0016\n",
            "Epoch 269/300\n",
            "3/3 [==============================] - 0s 7ms/step - loss: 0.0017\n",
            "Epoch 270/300\n",
            "3/3 [==============================] - 0s 7ms/step - loss: 0.0020\n",
            "Epoch 271/300\n",
            "3/3 [==============================] - 0s 10ms/step - loss: 0.0019\n",
            "Epoch 272/300\n",
            "3/3 [==============================] - 0s 7ms/step - loss: 0.0018\n",
            "Epoch 273/300\n",
            "3/3 [==============================] - 0s 7ms/step - loss: 0.0024\n",
            "Epoch 274/300\n",
            "3/3 [==============================] - 0s 7ms/step - loss: 0.0028\n",
            "Epoch 275/300\n",
            "3/3 [==============================] - 0s 7ms/step - loss: 0.0031\n",
            "Epoch 276/300\n",
            "3/3 [==============================] - 0s 7ms/step - loss: 0.0027\n",
            "Epoch 277/300\n",
            "3/3 [==============================] - 0s 7ms/step - loss: 0.0021\n",
            "Epoch 278/300\n",
            "3/3 [==============================] - 0s 7ms/step - loss: 0.0024\n",
            "Epoch 279/300\n",
            "3/3 [==============================] - 0s 7ms/step - loss: 0.0019\n",
            "Epoch 280/300\n",
            "3/3 [==============================] - 0s 7ms/step - loss: 0.0018\n",
            "Epoch 281/300\n",
            "3/3 [==============================] - 0s 6ms/step - loss: 0.0021\n",
            "Epoch 282/300\n",
            "3/3 [==============================] - 0s 7ms/step - loss: 0.0016\n",
            "Epoch 283/300\n",
            "3/3 [==============================] - 0s 7ms/step - loss: 0.0017\n",
            "Epoch 284/300\n",
            "3/3 [==============================] - 0s 7ms/step - loss: 0.0016\n",
            "Epoch 285/300\n",
            "3/3 [==============================] - 0s 7ms/step - loss: 0.0017\n",
            "Epoch 286/300\n",
            "3/3 [==============================] - 0s 6ms/step - loss: 0.0015\n",
            "Epoch 287/300\n",
            "3/3 [==============================] - 0s 7ms/step - loss: 0.0018\n",
            "Epoch 288/300\n",
            "3/3 [==============================] - 0s 6ms/step - loss: 0.0020\n",
            "Epoch 289/300\n",
            "3/3 [==============================] - 0s 7ms/step - loss: 0.0019\n",
            "Epoch 290/300\n",
            "3/3 [==============================] - 0s 6ms/step - loss: 0.0014\n",
            "Epoch 291/300\n",
            "3/3 [==============================] - 0s 7ms/step - loss: 0.0015\n",
            "Epoch 292/300\n",
            "3/3 [==============================] - 0s 7ms/step - loss: 0.0014\n",
            "Epoch 293/300\n",
            "3/3 [==============================] - 0s 7ms/step - loss: 0.0014\n",
            "Epoch 294/300\n",
            "3/3 [==============================] - 0s 7ms/step - loss: 0.0013\n",
            "Epoch 295/300\n",
            "3/3 [==============================] - 0s 6ms/step - loss: 0.0012\n",
            "Epoch 296/300\n",
            "3/3 [==============================] - 0s 7ms/step - loss: 0.0012\n",
            "Epoch 297/300\n",
            "3/3 [==============================] - 0s 7ms/step - loss: 0.0011\n",
            "Epoch 298/300\n",
            "3/3 [==============================] - 0s 7ms/step - loss: 0.0011\n",
            "Epoch 299/300\n",
            "3/3 [==============================] - 0s 7ms/step - loss: 0.0011\n",
            "Epoch 300/300\n",
            "3/3 [==============================] - 0s 9ms/step - loss: 0.0011\n"
          ],
          "name": "stdout"
        }
      ]
    },
    {
      "cell_type": "code",
      "metadata": {
        "id": "bgvzYXuUCGMb",
        "colab_type": "code",
        "colab": {
          "base_uri": "https://localhost:8080/",
          "height": 295
        },
        "outputId": "6d0b7a14-f745-4128-90a3-f01b3f8ea582"
      },
      "source": [
        "# plot loss\n",
        "plt.plot(hist.history['loss'], label='Train Loss')\n",
        "plt.xlabel('Epochs')\n",
        "plt.ylabel('Loss')\n",
        "plt.title('Loss Function')\n",
        "plt.legend()\n",
        "plt.show()"
      ],
      "execution_count": null,
      "outputs": [
        {
          "output_type": "display_data",
          "data": {
            "image/png": "[encoded data removed]",
            "text/plain": [
              "<Figure size 432x288 with 1 Axes>"
            ]
          },
          "metadata": {
            "tags": [],
            "needs_background": "light"
          }
        }
      ]
    },
    {
      "cell_type": "code",
      "metadata": {
        "id": "0kmor6zLCGKL",
        "colab_type": "code",
        "colab": {
          "base_uri": "https://localhost:8080/",
          "height": 52
        },
        "outputId": "26f570de-2855-41ca-d7c0-7c27644994cd"
      },
      "source": [
        "# 예측\n",
        "n_futures = int(input('예측 기간 수 설정: '))\n",
        "\n",
        "last_data = data_1[-100:]\n",
        "print(last_data.shape)"
      ],
      "execution_count": null,
      "outputs": [
        {
          "output_type": "stream",
          "text": [
            "예측 기간 수 설정: 25\n",
            "(100, 3)\n"
          ],
          "name": "stdout"
        }
      ]
    },
    {
      "cell_type": "code",
      "metadata": {
        "id": "IXAiJy0mCGGk",
        "colab_type": "code",
        "colab": {
          "base_uri": "https://localhost:8080/",
          "height": 52
        },
        "outputId": "953ab5be-2fa7-47f9-a24f-529ac2255475"
      },
      "source": [
        "X_pred = np.copy(last_data)\n",
        "print(f\"예측에 활용할 데이터: {X_pred.shape}\")\n",
        "estimate = [X_pred[-1]]\n",
        "print(estimate)"
      ],
      "execution_count": null,
      "outputs": [
        {
          "output_type": "stream",
          "text": [
            "예측에 활용할 데이터: (100, 3)\n",
            "[array([2.0084913, 0.9752143, 2.3315988])]\n"
          ],
          "name": "stdout"
        }
      ]
    },
    {
      "cell_type": "code",
      "metadata": {
        "id": "KyX99IU-CGCM",
        "colab_type": "code",
        "colab": {
          "base_uri": "https://localhost:8080/",
          "height": 457
        },
        "outputId": "7a586534-4965-439e-9c92-897d9c2f273e"
      },
      "source": [
        "# 예측\n",
        "for _ in range(n_futures):\n",
        "    x = X_pred[-n_step:].reshape(1, n_step, n_features)\n",
        "    # print(x)\n",
        "    y_hat = model.predict(x)[0]\n",
        "    # print(y_hat)\n",
        "    estimate.append(y_hat)\n",
        "    X_pred = np.insert(X_pred, len(X_pred), y_hat, axis=0)\n",
        "    print(f\"{_} : {X_pred.shape}\")"
      ],
      "execution_count": null,
      "outputs": [
        {
          "output_type": "stream",
          "text": [
            "0 : (101, 3)\n",
            "1 : (102, 3)\n",
            "2 : (103, 3)\n",
            "3 : (104, 3)\n",
            "4 : (105, 3)\n",
            "5 : (106, 3)\n",
            "6 : (107, 3)\n",
            "7 : (108, 3)\n",
            "8 : (109, 3)\n",
            "9 : (110, 3)\n",
            "10 : (111, 3)\n",
            "11 : (112, 3)\n",
            "12 : (113, 3)\n",
            "13 : (114, 3)\n",
            "14 : (115, 3)\n",
            "15 : (116, 3)\n",
            "16 : (117, 3)\n",
            "17 : (118, 3)\n",
            "18 : (119, 3)\n",
            "19 : (120, 3)\n",
            "20 : (121, 3)\n",
            "21 : (122, 3)\n",
            "22 : (123, 3)\n",
            "23 : (124, 3)\n",
            "24 : (125, 3)\n"
          ],
          "name": "stdout"
        }
      ]
    },
    {
      "cell_type": "code",
      "metadata": {
        "id": "S6piHhA_I7O7",
        "colab_type": "code",
        "colab": {
          "base_uri": "https://localhost:8080/",
          "height": 474
        },
        "outputId": "fc33926b-a692-4ec4-9434-4e78a2aaa5c2"
      },
      "source": [
        "estimate"
      ],
      "execution_count": null,
      "outputs": [
        {
          "output_type": "execute_result",
          "data": {
            "text/plain": [
              "[array([2.0084913, 0.9752143, 2.3315988]),\n",
              " array([2.1565735, 0.6884165, 2.5321908], dtype=float32),\n",
              " array([2.1033335, 1.2415987, 1.6361828], dtype=float32),\n",
              " array([2.572298 , 0.7808899, 2.0891864], dtype=float32),\n",
              " array([1.72885   , 0.48628342, 2.476856  ], dtype=float32),\n",
              " array([2.067026  , 0.30405843, 1.1275321 ], dtype=float32),\n",
              " array([1.7481204 , 0.04222913, 1.7370276 ], dtype=float32),\n",
              " array([1.8846846 , 0.65068525, 2.214517  ], dtype=float32),\n",
              " array([1.948285 , 0.7874849, 2.342166 ], dtype=float32),\n",
              " array([2.3223722, 1.2769281, 1.9338568], dtype=float32),\n",
              " array([2.4075058 , 0.67611504, 2.0082479 ], dtype=float32),\n",
              " array([2.0836256, 0.5939165, 2.203424 ], dtype=float32),\n",
              " array([1.9037226 , 0.09715243, 1.4185069 ], dtype=float32),\n",
              " array([1.8033168 , 0.13888858, 1.713726  ], dtype=float32),\n",
              " array([1.9471886, 0.7581835, 2.307542 ], dtype=float32),\n",
              " array([2.0585358 , 0.78665704, 2.4193902 ], dtype=float32),\n",
              " array([2.2599542, 1.192428 , 1.932968 ], dtype=float32),\n",
              " array([2.4561374, 0.7735554, 1.9685612], dtype=float32),\n",
              " array([1.986646 , 0.5072911, 2.284765 ], dtype=float32),\n",
              " array([1.9501525, 0.1846081, 1.4133061], dtype=float32),\n",
              " array([1.7878344 , 0.12923224, 1.6457223 ], dtype=float32),\n",
              " array([1.9514478, 0.6965786, 2.2869952], dtype=float32),\n",
              " array([2.0189378, 0.7840869, 2.381533 ], dtype=float32),\n",
              " array([2.2964337, 1.2387561, 1.9492607], dtype=float32),\n",
              " array([2.4356606, 0.7354486, 1.9903433], dtype=float32),\n",
              " array([2.0349689 , 0.53937685, 2.2000456 ], dtype=float32)]"
            ]
          },
          "metadata": {
            "tags": []
          },
          "execution_count": 82
        }
      ]
    },
    {
      "cell_type": "code",
      "metadata": {
        "id": "IMcW40KsCGAG",
        "colab_type": "code",
        "colab": {
          "base_uri": "https://localhost:8080/",
          "height": 211
        },
        "outputId": "1bbed368-7628-45fc-a916-4045acdf6cfa"
      },
      "source": [
        "# 예측 그래프 그리기\n",
        "ax_prev = np.arange(1, len(last_data)+1)\n",
        "ax_next = np.arange(len(last_data), len(last_data)+len(estimate))\n",
        "plt.figure(figsize=(8, 3))\n",
        "plt.plot(ax_prev, last_data, 'b-o', color='blue', markersize=3, label='Confirmed', linewidth=1)\n",
        "plt.plot(ax_next, estimate, 'b-o', color='red', markersize=3, label='Estimated Time Series')\n",
        "plt.axvline(x=ax_prev[-1], linestyle='dashed', linewidth=1)\n",
        "plt.legend()\n",
        "plt.show()"
      ],
      "execution_count": null,
      "outputs": [
        {
          "output_type": "display_data",
          "data": {
            "image/png": "[encoded data removed]",
            "text/plain": [
              "<Figure size 576x216 with 1 Axes>"
            ]
          },
          "metadata": {
            "tags": [],
            "needs_background": "light"
          }
        }
      ]
    },
    {
      "cell_type": "code",
      "metadata": {
        "id": "Y92dmDWOCF-M",
        "colab_type": "code",
        "colab": {}
      },
      "source": [
        ""
      ],
      "execution_count": null,
      "outputs": []
    },
    {
      "cell_type": "code",
      "metadata": {
        "id": "xw460PqgCF8F",
        "colab_type": "code",
        "colab": {}
      },
      "source": [
        ""
      ],
      "execution_count": null,
      "outputs": []
    },
    {
      "cell_type": "code",
      "metadata": {
        "id": "_3sFKoGbCF58",
        "colab_type": "code",
        "colab": {}
      },
      "source": [
        ""
      ],
      "execution_count": null,
      "outputs": []
    },
    {
      "cell_type": "code",
      "metadata": {
        "id": "gi9PRJiqCF37",
        "colab_type": "code",
        "colab": {}
      },
      "source": [
        ""
      ],
      "execution_count": null,
      "outputs": []
    },
    {
      "cell_type": "code",
      "metadata": {
        "id": "Z09xUd0dCF1o",
        "colab_type": "code",
        "colab": {}
      },
      "source": [
        ""
      ],
      "execution_count": null,
      "outputs": []
    },
    {
      "cell_type": "markdown",
      "metadata": {
        "id": "SzWISlfFCOqt",
        "colab_type": "text"
      },
      "source": [
        "## 에러 기록"
      ]
    },
    {
      "cell_type": "code",
      "metadata": {
        "id": "ZX73kYyF_9Ub",
        "colab_type": "code",
        "colab": {
          "base_uri": "https://localhost:8080/",
          "height": 721
        },
        "outputId": "5e0de22f-9a43-42bd-c2fb-a9acf8faa803"
      },
      "source": [
        "X_data, y_data = createTrainData(data_1, n_step)\n",
        "print(f\"X: {X_data.shape}, Y: {y_data.shape}\")"
      ],
      "execution_count": null,
      "outputs": [
        {
          "output_type": "error",
          "ename": "KeyError",
          "evalue": "ignored",
          "traceback": [
            "\u001b[0;31m---------------------------------------------------------------------------\u001b[0m",
            "\u001b[0;31mKeyError\u001b[0m                                  Traceback (most recent call last)",
            "\u001b[0;32m/usr/local/lib/python3.6/dist-packages/pandas/core/indexes/base.py\u001b[0m in \u001b[0;36mget_loc\u001b[0;34m(self, key, method, tolerance)\u001b[0m\n\u001b[1;32m   2645\u001b[0m             \u001b[0;32mtry\u001b[0m\u001b[0;34m:\u001b[0m\u001b[0;34m\u001b[0m\u001b[0;34m\u001b[0m\u001b[0m\n\u001b[0;32m-> 2646\u001b[0;31m                 \u001b[0;32mreturn\u001b[0m \u001b[0mself\u001b[0m\u001b[0;34m.\u001b[0m\u001b[0m_engine\u001b[0m\u001b[0;34m.\u001b[0m\u001b[0mget_loc\u001b[0m\u001b[0;34m(\u001b[0m\u001b[0mkey\u001b[0m\u001b[0;34m)\u001b[0m\u001b[0;34m\u001b[0m\u001b[0;34m\u001b[0m\u001b[0m\n\u001b[0m\u001b[1;32m   2647\u001b[0m             \u001b[0;32mexcept\u001b[0m \u001b[0mKeyError\u001b[0m\u001b[0;34m:\u001b[0m\u001b[0;34m\u001b[0m\u001b[0;34m\u001b[0m\u001b[0m\n",
            "\u001b[0;32mpandas/_libs/index.pyx\u001b[0m in \u001b[0;36mpandas._libs.index.IndexEngine.get_loc\u001b[0;34m()\u001b[0m\n",
            "\u001b[0;32mpandas/_libs/index.pyx\u001b[0m in \u001b[0;36mpandas._libs.index.IndexEngine.get_loc\u001b[0;34m()\u001b[0m\n",
            "\u001b[0;32mpandas/_libs/hashtable_class_helper.pxi\u001b[0m in \u001b[0;36mpandas._libs.hashtable.PyObjectHashTable.get_item\u001b[0;34m()\u001b[0m\n",
            "\u001b[0;32mpandas/_libs/hashtable_class_helper.pxi\u001b[0m in \u001b[0;36mpandas._libs.hashtable.PyObjectHashTable.get_item\u001b[0;34m()\u001b[0m\n",
            "\u001b[0;31mKeyError\u001b[0m: -1",
            "\nDuring handling of the above exception, another exception occurred:\n",
            "\u001b[0;31mKeyError\u001b[0m                                  Traceback (most recent call last)",
            "\u001b[0;32m<ipython-input-30-61aba22f74fb>\u001b[0m in \u001b[0;36m<module>\u001b[0;34m()\u001b[0m\n\u001b[0;32m----> 1\u001b[0;31m \u001b[0mX_data\u001b[0m\u001b[0;34m,\u001b[0m \u001b[0my_data\u001b[0m \u001b[0;34m=\u001b[0m \u001b[0mcreateTrainData\u001b[0m\u001b[0;34m(\u001b[0m\u001b[0mdata_1\u001b[0m\u001b[0;34m,\u001b[0m \u001b[0mn_step\u001b[0m\u001b[0;34m)\u001b[0m\u001b[0;34m\u001b[0m\u001b[0;34m\u001b[0m\u001b[0m\n\u001b[0m\u001b[1;32m      2\u001b[0m \u001b[0mprint\u001b[0m\u001b[0;34m(\u001b[0m\u001b[0;34mf\"X: {X_data.shape}, Y: {y_data.shape}\"\u001b[0m\u001b[0;34m)\u001b[0m\u001b[0;34m\u001b[0m\u001b[0;34m\u001b[0m\u001b[0m\n",
            "\u001b[0;32m<ipython-input-27-5178b48cbd0e>\u001b[0m in \u001b[0;36mcreateTrainData\u001b[0;34m(X_data, step)\u001b[0m\n\u001b[1;32m      9\u001b[0m     \u001b[0;32mfor\u001b[0m \u001b[0mi\u001b[0m \u001b[0;32min\u001b[0m \u001b[0mm\u001b[0m\u001b[0;34m+\u001b[0m\u001b[0;36m1\u001b[0m\u001b[0;34m:\u001b[0m\u001b[0;34m\u001b[0m\u001b[0;34m\u001b[0m\u001b[0m\n\u001b[1;32m     10\u001b[0m         \u001b[0my\u001b[0m \u001b[0;34m=\u001b[0m \u001b[0mX_data\u001b[0m\u001b[0;34m[\u001b[0m\u001b[0mi\u001b[0m\u001b[0;34m:\u001b[0m\u001b[0mi\u001b[0m\u001b[0;34m+\u001b[0m\u001b[0mstep\u001b[0m\u001b[0;34m]\u001b[0m\u001b[0;34m\u001b[0m\u001b[0;34m\u001b[0m\u001b[0m\n\u001b[0;32m---> 11\u001b[0;31m         \u001b[0mY\u001b[0m\u001b[0;34m.\u001b[0m\u001b[0mappend\u001b[0m\u001b[0;34m(\u001b[0m\u001b[0my\u001b[0m\u001b[0;34m[\u001b[0m\u001b[0;34m-\u001b[0m\u001b[0;36m1\u001b[0m\u001b[0;34m]\u001b[0m\u001b[0;34m)\u001b[0m\u001b[0;34m\u001b[0m\u001b[0;34m\u001b[0m\u001b[0m\n\u001b[0m\u001b[1;32m     12\u001b[0m \u001b[0;34m\u001b[0m\u001b[0m\n\u001b[1;32m     13\u001b[0m     \u001b[0mX\u001b[0m \u001b[0;34m=\u001b[0m \u001b[0mnp\u001b[0m\u001b[0;34m.\u001b[0m\u001b[0mreshape\u001b[0m\u001b[0;34m(\u001b[0m\u001b[0mnp\u001b[0m\u001b[0;34m.\u001b[0m\u001b[0marray\u001b[0m\u001b[0;34m(\u001b[0m\u001b[0mX\u001b[0m\u001b[0;34m)\u001b[0m\u001b[0;34m,\u001b[0m \u001b[0;34m(\u001b[0m\u001b[0mlen\u001b[0m\u001b[0;34m(\u001b[0m\u001b[0mm\u001b[0m\u001b[0;34m)\u001b[0m\u001b[0;34m,\u001b[0m \u001b[0mstep\u001b[0m\u001b[0;34m,\u001b[0m \u001b[0;36m3\u001b[0m\u001b[0;34m)\u001b[0m\u001b[0;34m)\u001b[0m\u001b[0;34m\u001b[0m\u001b[0;34m\u001b[0m\u001b[0m\n",
            "\u001b[0;32m/usr/local/lib/python3.6/dist-packages/pandas/core/frame.py\u001b[0m in \u001b[0;36m__getitem__\u001b[0;34m(self, key)\u001b[0m\n\u001b[1;32m   2798\u001b[0m             \u001b[0;32mif\u001b[0m \u001b[0mself\u001b[0m\u001b[0;34m.\u001b[0m\u001b[0mcolumns\u001b[0m\u001b[0;34m.\u001b[0m\u001b[0mnlevels\u001b[0m \u001b[0;34m>\u001b[0m \u001b[0;36m1\u001b[0m\u001b[0;34m:\u001b[0m\u001b[0;34m\u001b[0m\u001b[0;34m\u001b[0m\u001b[0m\n\u001b[1;32m   2799\u001b[0m                 \u001b[0;32mreturn\u001b[0m \u001b[0mself\u001b[0m\u001b[0;34m.\u001b[0m\u001b[0m_getitem_multilevel\u001b[0m\u001b[0;34m(\u001b[0m\u001b[0mkey\u001b[0m\u001b[0;34m)\u001b[0m\u001b[0;34m\u001b[0m\u001b[0;34m\u001b[0m\u001b[0m\n\u001b[0;32m-> 2800\u001b[0;31m             \u001b[0mindexer\u001b[0m \u001b[0;34m=\u001b[0m \u001b[0mself\u001b[0m\u001b[0;34m.\u001b[0m\u001b[0mcolumns\u001b[0m\u001b[0;34m.\u001b[0m\u001b[0mget_loc\u001b[0m\u001b[0;34m(\u001b[0m\u001b[0mkey\u001b[0m\u001b[0;34m)\u001b[0m\u001b[0;34m\u001b[0m\u001b[0;34m\u001b[0m\u001b[0m\n\u001b[0m\u001b[1;32m   2801\u001b[0m             \u001b[0;32mif\u001b[0m \u001b[0mis_integer\u001b[0m\u001b[0;34m(\u001b[0m\u001b[0mindexer\u001b[0m\u001b[0;34m)\u001b[0m\u001b[0;34m:\u001b[0m\u001b[0;34m\u001b[0m\u001b[0;34m\u001b[0m\u001b[0m\n\u001b[1;32m   2802\u001b[0m                 \u001b[0mindexer\u001b[0m \u001b[0;34m=\u001b[0m \u001b[0;34m[\u001b[0m\u001b[0mindexer\u001b[0m\u001b[0;34m]\u001b[0m\u001b[0;34m\u001b[0m\u001b[0;34m\u001b[0m\u001b[0m\n",
            "\u001b[0;32m/usr/local/lib/python3.6/dist-packages/pandas/core/indexes/base.py\u001b[0m in \u001b[0;36mget_loc\u001b[0;34m(self, key, method, tolerance)\u001b[0m\n\u001b[1;32m   2646\u001b[0m                 \u001b[0;32mreturn\u001b[0m \u001b[0mself\u001b[0m\u001b[0;34m.\u001b[0m\u001b[0m_engine\u001b[0m\u001b[0;34m.\u001b[0m\u001b[0mget_loc\u001b[0m\u001b[0;34m(\u001b[0m\u001b[0mkey\u001b[0m\u001b[0;34m)\u001b[0m\u001b[0;34m\u001b[0m\u001b[0;34m\u001b[0m\u001b[0m\n\u001b[1;32m   2647\u001b[0m             \u001b[0;32mexcept\u001b[0m \u001b[0mKeyError\u001b[0m\u001b[0;34m:\u001b[0m\u001b[0;34m\u001b[0m\u001b[0;34m\u001b[0m\u001b[0m\n\u001b[0;32m-> 2648\u001b[0;31m                 \u001b[0;32mreturn\u001b[0m \u001b[0mself\u001b[0m\u001b[0;34m.\u001b[0m\u001b[0m_engine\u001b[0m\u001b[0;34m.\u001b[0m\u001b[0mget_loc\u001b[0m\u001b[0;34m(\u001b[0m\u001b[0mself\u001b[0m\u001b[0;34m.\u001b[0m\u001b[0m_maybe_cast_indexer\u001b[0m\u001b[0;34m(\u001b[0m\u001b[0mkey\u001b[0m\u001b[0;34m)\u001b[0m\u001b[0;34m)\u001b[0m\u001b[0;34m\u001b[0m\u001b[0;34m\u001b[0m\u001b[0m\n\u001b[0m\u001b[1;32m   2649\u001b[0m         \u001b[0mindexer\u001b[0m \u001b[0;34m=\u001b[0m \u001b[0mself\u001b[0m\u001b[0;34m.\u001b[0m\u001b[0mget_indexer\u001b[0m\u001b[0;34m(\u001b[0m\u001b[0;34m[\u001b[0m\u001b[0mkey\u001b[0m\u001b[0;34m]\u001b[0m\u001b[0;34m,\u001b[0m \u001b[0mmethod\u001b[0m\u001b[0;34m=\u001b[0m\u001b[0mmethod\u001b[0m\u001b[0;34m,\u001b[0m \u001b[0mtolerance\u001b[0m\u001b[0;34m=\u001b[0m\u001b[0mtolerance\u001b[0m\u001b[0;34m)\u001b[0m\u001b[0;34m\u001b[0m\u001b[0;34m\u001b[0m\u001b[0m\n\u001b[1;32m   2650\u001b[0m         \u001b[0;32mif\u001b[0m \u001b[0mindexer\u001b[0m\u001b[0;34m.\u001b[0m\u001b[0mndim\u001b[0m \u001b[0;34m>\u001b[0m \u001b[0;36m1\u001b[0m \u001b[0;32mor\u001b[0m \u001b[0mindexer\u001b[0m\u001b[0;34m.\u001b[0m\u001b[0msize\u001b[0m \u001b[0;34m>\u001b[0m \u001b[0;36m1\u001b[0m\u001b[0;34m:\u001b[0m\u001b[0;34m\u001b[0m\u001b[0;34m\u001b[0m\u001b[0m\n",
            "\u001b[0;32mpandas/_libs/index.pyx\u001b[0m in \u001b[0;36mpandas._libs.index.IndexEngine.get_loc\u001b[0;34m()\u001b[0m\n",
            "\u001b[0;32mpandas/_libs/index.pyx\u001b[0m in \u001b[0;36mpandas._libs.index.IndexEngine.get_loc\u001b[0;34m()\u001b[0m\n",
            "\u001b[0;32mpandas/_libs/hashtable_class_helper.pxi\u001b[0m in \u001b[0;36mpandas._libs.hashtable.PyObjectHashTable.get_item\u001b[0;34m()\u001b[0m\n",
            "\u001b[0;32mpandas/_libs/hashtable_class_helper.pxi\u001b[0m in \u001b[0;36mpandas._libs.hashtable.PyObjectHashTable.get_item\u001b[0;34m()\u001b[0m\n",
            "\u001b[0;31mKeyError\u001b[0m: -1"
          ]
        }
      ]
    },
    {
      "cell_type": "code",
      "metadata": {
        "id": "NlcB2SzDBRUM",
        "colab_type": "code",
        "colab": {
          "base_uri": "https://localhost:8080/",
          "height": 228
        },
        "outputId": "4f603b25-8519-4d9a-a971-4f6d50ca23b2"
      },
      "source": [
        "np.arange(len(data_1)-n_step)"
      ],
      "execution_count": null,
      "outputs": [
        {
          "output_type": "execute_result",
          "data": {
            "text/plain": [
              "array([  0,   1,   2,   3,   4,   5,   6,   7,   8,   9,  10,  11,  12,\n",
              "        13,  14,  15,  16,  17,  18,  19,  20,  21,  22,  23,  24,  25,\n",
              "        26,  27,  28,  29,  30,  31,  32,  33,  34,  35,  36,  37,  38,\n",
              "        39,  40,  41,  42,  43,  44,  45,  46,  47,  48,  49,  50,  51,\n",
              "        52,  53,  54,  55,  56,  57,  58,  59,  60,  61,  62,  63,  64,\n",
              "        65,  66,  67,  68,  69,  70,  71,  72,  73,  74,  75,  76,  77,\n",
              "        78,  79,  80,  81,  82,  83,  84,  85,  86,  87,  88,  89,  90,\n",
              "        91,  92,  93,  94,  95,  96,  97,  98,  99, 100, 101, 102, 103,\n",
              "       104, 105, 106, 107, 108, 109, 110, 111, 112, 113, 114, 115, 116,\n",
              "       117, 118, 119, 120, 121, 122, 123, 124, 125, 126, 127, 128, 129,\n",
              "       130, 131, 132, 133, 134, 135, 136, 137, 138, 139, 140, 141, 142,\n",
              "       143, 144, 145, 146, 147, 148, 149])"
            ]
          },
          "metadata": {
            "tags": []
          },
          "execution_count": 36
        }
      ]
    },
    {
      "cell_type": "code",
      "metadata": {
        "id": "3ViMEm2NBZAe",
        "colab_type": "code",
        "colab": {
          "base_uri": "https://localhost:8080/",
          "height": 862
        },
        "outputId": "61918a85-cd42-46d3-d252-592a9c592d9a"
      },
      "source": [
        "for i in np.arange(len(data_1)-n_step):\n",
        "    x = data_1[i:i+n_step]\n",
        "    print(x, type(x))\n",
        "    if i == 3:\n",
        "        break"
      ],
      "execution_count": null,
      "outputs": [
        {
          "output_type": "stream",
          "text": [
            "                 Confirmed    Deaths  Recovered\n",
            "ObservationDate                                \n",
            "01/23/2020       -1.213310 -1.220262  -0.928623\n",
            "01/24/2020       -1.209784 -1.217588  -0.928512\n",
            "01/25/2020       -1.205905 -1.214532  -0.928595\n",
            "01/26/2020       -1.202508 -1.215296  -0.928317\n",
            "01/27/2020       -1.200114 -1.210711  -0.928428\n",
            "01/28/2020       -1.165926 -1.201925  -0.927401\n",
            "01/29/2020       -1.204234 -1.219880  -0.928151\n",
            "01/30/2020       -1.176710 -1.206127  -0.928206\n",
            "01/31/2020       -1.183763 -1.204599  -0.926485\n",
            "02/01/2020       -1.175912 -1.203071  -0.926957 <class 'pandas.core.frame.DataFrame'>\n",
            "                 Confirmed    Deaths  Recovered\n",
            "ObservationDate                                \n",
            "01/24/2020       -1.209784 -1.217588  -0.928512\n",
            "01/25/2020       -1.205905 -1.214532  -0.928595\n",
            "01/26/2020       -1.202508 -1.215296  -0.928317\n",
            "01/27/2020       -1.200114 -1.210711  -0.928428\n",
            "01/28/2020       -1.165926 -1.201925  -0.927401\n",
            "01/29/2020       -1.204234 -1.219880  -0.928151\n",
            "01/30/2020       -1.176710 -1.206127  -0.928206\n",
            "01/31/2020       -1.183763 -1.204599  -0.926485\n",
            "02/01/2020       -1.175912 -1.203071  -0.926957\n",
            "02/02/2020       -1.126988 -1.181296  -0.923460 <class 'pandas.core.frame.DataFrame'>\n",
            "                 Confirmed    Deaths  Recovered\n",
            "ObservationDate                                \n",
            "01/25/2020       -1.205905 -1.214532  -0.928595\n",
            "01/26/2020       -1.202508 -1.215296  -0.928317\n",
            "01/27/2020       -1.200114 -1.210711  -0.928428\n",
            "01/28/2020       -1.165926 -1.201925  -0.927401\n",
            "01/29/2020       -1.204234 -1.219880  -0.928151\n",
            "01/30/2020       -1.176710 -1.206127  -0.928206\n",
            "01/31/2020       -1.183763 -1.204599  -0.926485\n",
            "02/01/2020       -1.175912 -1.203071  -0.926957\n",
            "02/02/2020       -1.126988 -1.181296  -0.923460\n",
            "02/03/2020       -1.157704 -1.196194  -0.924487 <class 'pandas.core.frame.DataFrame'>\n",
            "                 Confirmed    Deaths  Recovered\n",
            "ObservationDate                                \n",
            "01/26/2020       -1.202508 -1.215296  -0.928317\n",
            "01/27/2020       -1.200114 -1.210711  -0.928428\n",
            "01/28/2020       -1.165926 -1.201925  -0.927401\n",
            "01/29/2020       -1.204234 -1.219880  -0.928151\n",
            "01/30/2020       -1.176710 -1.206127  -0.928206\n",
            "01/31/2020       -1.183763 -1.204599  -0.926485\n",
            "02/01/2020       -1.175912 -1.203071  -0.926957\n",
            "02/02/2020       -1.126988 -1.181296  -0.923460\n",
            "02/03/2020       -1.157704 -1.196194  -0.924487\n",
            "02/04/2020       -1.140685 -1.195430  -0.922322 <class 'pandas.core.frame.DataFrame'>\n"
          ],
          "name": "stdout"
        }
      ]
    },
    {
      "cell_type": "code",
      "metadata": {
        "id": "P8uctTfcBzzx",
        "colab_type": "code",
        "colab": {
          "base_uri": "https://localhost:8080/",
          "height": 70
        },
        "outputId": "454ae321-58e0-4c6f-a082-9a7b03b137b4"
      },
      "source": [
        "for i in np.arange(len(data_1)-n_step)+1:\n",
        "    y = data_1[i:i+n_step]\n",
        "    y = np.array(y)\n",
        "    print(y[-1], type(y[-1]))\n",
        "    if i == 3:\n",
        "        break"
      ],
      "execution_count": null,
      "outputs": [
        {
          "output_type": "stream",
          "text": [
            "[-1.12698769 -1.18129566 -0.92345995] <class 'numpy.ndarray'>\n",
            "[-1.15770439 -1.19619449 -0.92448695] <class 'numpy.ndarray'>\n",
            "[-1.14068492 -1.19543045 -0.92232193] <class 'numpy.ndarray'>\n"
          ],
          "name": "stdout"
        }
      ]
    },
    {
      "cell_type": "code",
      "metadata": {
        "id": "dy7MJ4TUCGEa",
        "colab_type": "code",
        "colab": {
          "base_uri": "https://localhost:8080/",
          "height": 222
        },
        "outputId": "2e111aeb-2ecf-455d-ab28-8a7d321edfd5"
      },
      "source": [
        "# 이거 처음에 X_pred를 원본 데이터로 안 잡고 3차원으로 잡아서;;;\n",
        "\n",
        "for _ in range(n_futures):\n",
        "    x = X_pred[-n_step:].reshape(1, n_step, n_features)\n",
        "    print(x)\n",
        "    break"
      ],
      "execution_count": null,
      "outputs": [
        {
          "output_type": "error",
          "ename": "ValueError",
          "evalue": "ignored",
          "traceback": [
            "\u001b[0;31m---------------------------------------------------------------------------\u001b[0m",
            "\u001b[0;31mValueError\u001b[0m                                Traceback (most recent call last)",
            "\u001b[0;32m<ipython-input-67-0986d4f487ed>\u001b[0m in \u001b[0;36m<module>\u001b[0;34m()\u001b[0m\n\u001b[1;32m      1\u001b[0m \u001b[0;32mfor\u001b[0m \u001b[0m_\u001b[0m \u001b[0;32min\u001b[0m \u001b[0mrange\u001b[0m\u001b[0;34m(\u001b[0m\u001b[0mn_futures\u001b[0m\u001b[0;34m)\u001b[0m\u001b[0;34m:\u001b[0m\u001b[0;34m\u001b[0m\u001b[0;34m\u001b[0m\u001b[0m\n\u001b[0;32m----> 2\u001b[0;31m     \u001b[0mx\u001b[0m \u001b[0;34m=\u001b[0m \u001b[0mX_pred\u001b[0m\u001b[0;34m[\u001b[0m\u001b[0;34m-\u001b[0m\u001b[0mn_step\u001b[0m\u001b[0;34m:\u001b[0m\u001b[0;34m]\u001b[0m\u001b[0;34m.\u001b[0m\u001b[0mreshape\u001b[0m\u001b[0;34m(\u001b[0m\u001b[0;36m1\u001b[0m\u001b[0;34m,\u001b[0m \u001b[0mn_step\u001b[0m\u001b[0;34m,\u001b[0m \u001b[0mn_features\u001b[0m\u001b[0;34m)\u001b[0m\u001b[0;34m\u001b[0m\u001b[0;34m\u001b[0m\u001b[0m\n\u001b[0m\u001b[1;32m      3\u001b[0m     \u001b[0mprint\u001b[0m\u001b[0;34m(\u001b[0m\u001b[0mx\u001b[0m\u001b[0;34m)\u001b[0m\u001b[0;34m\u001b[0m\u001b[0;34m\u001b[0m\u001b[0m\n\u001b[1;32m      4\u001b[0m     \u001b[0;32mbreak\u001b[0m\u001b[0;34m\u001b[0m\u001b[0;34m\u001b[0m\u001b[0m\n",
            "\u001b[0;31mValueError\u001b[0m: cannot reshape array of size 300 into shape (1,10,3)"
          ]
        }
      ]
    }
  ]
}