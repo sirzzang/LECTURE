{
  "nbformat": 4,
  "nbformat_minor": 0,
  "metadata": {
    "colab": {
      "name": "DL-Keras-CNN-Sine(2d convolution)",
      "provenance": []
    },
    "kernelspec": {
      "name": "python3",
      "display_name": "Python 3"
    }
  },
  "cells": [
    {
      "cell_type": "markdown",
      "metadata": {
        "id": "XnUsFtUkGzDS",
        "colab_type": "text"
      },
      "source": [
        "# `Conv1d`와 다른 점\n",
        "- `shuffle`\n",
        "- 4d 구조 변경 : 이미지 아니고 시계열이기 때문에, channel=1로 본다.\n",
        "- kernel 2차원으로 움직인다.\n",
        "- 강사님 함수 수정: step, feature, channel 인자 추가\n"
      ]
    },
    {
      "cell_type": "code",
      "metadata": {
        "id": "NqTsFLq-ibNu",
        "colab_type": "code",
        "colab": {}
      },
      "source": [
        "# module import\n",
        "import numpy as np\n",
        "from tensorflow.keras.layers import Input, Conv2D, Dense, MaxPooling2D, Flatten\n",
        "from tensorflow.keras.models import Model\n",
        "from tensorflow.keras.optimizers import Adam\n",
        "import matplotlib.pyplot as plt"
      ],
      "execution_count": 1,
      "outputs": []
    },
    {
      "cell_type": "code",
      "metadata": {
        "id": "83wuozjSikZG",
        "colab_type": "code",
        "colab": {}
      },
      "source": [
        "# data 생성\n",
        "def createData(X_data, step, feature, channel):\n",
        "    m = np.arange(len(X_data)-step)\n",
        "    np.random.shuffle(m) # shuffle 왜?\n",
        "\n",
        "    x, y = [], []\n",
        "    for i in m:\n",
        "        a = X_data[i:i+step]\n",
        "        b = X_data[i+1:i+1+step]\n",
        "        x.append(a)\n",
        "        y.append(b[-1])\n",
        "    \n",
        "    X = np.reshape(np.array(x), (len(m), step, feature, channel)) # conv1d에서는 원래 3차원\n",
        "    Y = np.reshape(np.array(y), (len(m), 1))\n",
        "\n",
        "    return X, Y"
      ],
      "execution_count": 4,
      "outputs": []
    },
    {
      "cell_type": "code",
      "metadata": {
        "id": "aRduRC5KikW-",
        "colab_type": "code",
        "colab": {
          "base_uri": "https://localhost:8080/",
          "height": 52
        },
        "outputId": "90559d1c-9ca8-42bd-98bd-ef298b12d93f"
      },
      "source": [
        "# 시계열 Sine 데이터 생성\n",
        "n_step = int(input('스텝 설정: '))\n",
        "n_feature = 1\n",
        "n_channel = 1\n",
        "data = np.sin(2*np.pi*0.03*np.arange(1001)) + np.random.random(1001) + np.arange(1001)*0.03\n",
        "X_data, y_data = createData(data, n_step, n_feature, n_channel)\n",
        "print(f\"X: {X_data.shape}, y: {y_data.shape}\")"
      ],
      "execution_count": 5,
      "outputs": [
        {
          "output_type": "stream",
          "text": [
            "스텝 설정: 20\n",
            "X: (981, 20, 1, 1), y: (981, 1)\n"
          ],
          "name": "stdout"
        }
      ]
    },
    {
      "cell_type": "markdown",
      "metadata": {
        "id": "Rn9gpeLIH143",
        "colab_type": "text"
      },
      "source": [
        "## 모델 구성 달라진 부분 잘 보기"
      ]
    },
    {
      "cell_type": "code",
      "metadata": {
        "id": "6o0HrnBvikQX",
        "colab_type": "code",
        "colab": {
          "base_uri": "https://localhost:8080/",
          "height": 422
        },
        "outputId": "b4d97b02-9248-4bb6-d935-b66e830c6d65"
      },
      "source": [
        "# conv2d CNN 모델 구성\n",
        "X_input = Input(batch_shape=(None, n_step, n_feature, n_channel))\n",
        "X_conv_1 = Conv2D(filters=30, kernel_size=(8, 1), strides=1, padding='same', activation='relu')(X_input)\n",
        "X_pool_1 = MaxPooling2D(pool_size=(2, 1), strides=1, padding='valid')(X_conv_1)\n",
        "X_conv_2 = Conv2D(filters=10, kernel_size=(8, 1), strides=1, padding='same', activation='relu')(X_pool_1)\n",
        "X_pool_2 = MaxPooling2D(pool_size=(2, 1), strides=1, padding='valid')(X_conv_2)\n",
        "X_flat = Flatten()(X_pool_2)\n",
        "X_output = Dense(1, activation='linear')(X_flat)\n",
        "\n",
        "model = Model(X_input, X_output)\n",
        "model.compile(loss='mse', optimizer=Adam(learning_rate=0.001))\n",
        "print(model.summary())"
      ],
      "execution_count": 6,
      "outputs": [
        {
          "output_type": "stream",
          "text": [
            "Model: \"model\"\n",
            "_________________________________________________________________\n",
            "Layer (type)                 Output Shape              Param #   \n",
            "=================================================================\n",
            "input_1 (InputLayer)         [(None, 20, 1, 1)]        0         \n",
            "_________________________________________________________________\n",
            "conv2d (Conv2D)              (None, 20, 1, 30)         270       \n",
            "_________________________________________________________________\n",
            "max_pooling2d (MaxPooling2D) (None, 19, 1, 30)         0         \n",
            "_________________________________________________________________\n",
            "conv2d_1 (Conv2D)            (None, 19, 1, 10)         2410      \n",
            "_________________________________________________________________\n",
            "max_pooling2d_1 (MaxPooling2 (None, 18, 1, 10)         0         \n",
            "_________________________________________________________________\n",
            "flatten (Flatten)            (None, 180)               0         \n",
            "_________________________________________________________________\n",
            "dense (Dense)                (None, 1)                 181       \n",
            "=================================================================\n",
            "Total params: 2,861\n",
            "Trainable params: 2,861\n",
            "Non-trainable params: 0\n",
            "_________________________________________________________________\n",
            "None\n"
          ],
          "name": "stdout"
        }
      ]
    },
    {
      "cell_type": "code",
      "metadata": {
        "id": "M-NaUi0IlCOR",
        "colab_type": "code",
        "colab": {
          "base_uri": "https://localhost:8080/",
          "height": 1000
        },
        "outputId": "3118202f-f772-4847-eadd-911044581ed8"
      },
      "source": [
        "# 모델 학습\n",
        "hist = model.fit(X_data, y_data,\n",
        "                 epochs=100,\n",
        "                 batch_size=300)"
      ],
      "execution_count": 7,
      "outputs": [
        {
          "output_type": "stream",
          "text": [
            "Epoch 1/100\n",
            "4/4 [==============================] - 0s 14ms/step - loss: 58.8294\n",
            "Epoch 2/100\n",
            "4/4 [==============================] - 0s 11ms/step - loss: 7.4425\n",
            "Epoch 3/100\n",
            "4/4 [==============================] - 0s 11ms/step - loss: 13.0199\n",
            "Epoch 4/100\n",
            "4/4 [==============================] - 0s 11ms/step - loss: 1.2145\n",
            "Epoch 5/100\n",
            "4/4 [==============================] - 0s 11ms/step - loss: 4.5457\n",
            "Epoch 6/100\n",
            "4/4 [==============================] - 0s 11ms/step - loss: 2.9083\n",
            "Epoch 7/100\n",
            "4/4 [==============================] - 0s 10ms/step - loss: 0.9753\n",
            "Epoch 8/100\n",
            "4/4 [==============================] - 0s 11ms/step - loss: 1.9526\n",
            "Epoch 9/100\n",
            "4/4 [==============================] - 0s 11ms/step - loss: 0.9412\n",
            "Epoch 10/100\n",
            "4/4 [==============================] - 0s 10ms/step - loss: 1.0074\n",
            "Epoch 11/100\n",
            "4/4 [==============================] - 0s 10ms/step - loss: 1.0378\n",
            "Epoch 12/100\n",
            "4/4 [==============================] - 0s 10ms/step - loss: 0.7480\n",
            "Epoch 13/100\n",
            "4/4 [==============================] - 0s 11ms/step - loss: 0.7905\n",
            "Epoch 14/100\n",
            "4/4 [==============================] - 0s 11ms/step - loss: 0.7049\n",
            "Epoch 15/100\n",
            "4/4 [==============================] - 0s 10ms/step - loss: 0.7406\n",
            "Epoch 16/100\n",
            "4/4 [==============================] - 0s 11ms/step - loss: 0.6933\n",
            "Epoch 17/100\n",
            "4/4 [==============================] - 0s 10ms/step - loss: 0.7114\n",
            "Epoch 18/100\n",
            "4/4 [==============================] - 0s 11ms/step - loss: 0.6857\n",
            "Epoch 19/100\n",
            "4/4 [==============================] - 0s 12ms/step - loss: 0.6552\n",
            "Epoch 20/100\n",
            "4/4 [==============================] - 0s 12ms/step - loss: 0.6376\n",
            "Epoch 21/100\n",
            "4/4 [==============================] - 0s 11ms/step - loss: 0.6187\n",
            "Epoch 22/100\n",
            "4/4 [==============================] - 0s 10ms/step - loss: 0.5928\n",
            "Epoch 23/100\n",
            "4/4 [==============================] - 0s 11ms/step - loss: 0.5978\n",
            "Epoch 24/100\n",
            "4/4 [==============================] - 0s 11ms/step - loss: 0.5822\n",
            "Epoch 25/100\n",
            "4/4 [==============================] - 0s 11ms/step - loss: 0.5640\n",
            "Epoch 26/100\n",
            "4/4 [==============================] - 0s 11ms/step - loss: 0.5043\n",
            "Epoch 27/100\n",
            "4/4 [==============================] - 0s 11ms/step - loss: 0.5107\n",
            "Epoch 28/100\n",
            "4/4 [==============================] - 0s 11ms/step - loss: 0.4779\n",
            "Epoch 29/100\n",
            "4/4 [==============================] - 0s 11ms/step - loss: 0.4652\n",
            "Epoch 30/100\n",
            "4/4 [==============================] - 0s 11ms/step - loss: 0.4778\n",
            "Epoch 31/100\n",
            "4/4 [==============================] - 0s 12ms/step - loss: 0.4228\n",
            "Epoch 32/100\n",
            "4/4 [==============================] - 0s 10ms/step - loss: 0.4731\n",
            "Epoch 33/100\n",
            "4/4 [==============================] - 0s 11ms/step - loss: 0.5287\n",
            "Epoch 34/100\n",
            "4/4 [==============================] - 0s 11ms/step - loss: 0.4597\n",
            "Epoch 35/100\n",
            "4/4 [==============================] - 0s 14ms/step - loss: 0.4775\n",
            "Epoch 36/100\n",
            "4/4 [==============================] - 0s 11ms/step - loss: 0.4191\n",
            "Epoch 37/100\n",
            "4/4 [==============================] - 0s 11ms/step - loss: 0.3867\n",
            "Epoch 38/100\n",
            "4/4 [==============================] - 0s 10ms/step - loss: 0.3677\n",
            "Epoch 39/100\n",
            "4/4 [==============================] - 0s 10ms/step - loss: 0.3551\n",
            "Epoch 40/100\n",
            "4/4 [==============================] - 0s 11ms/step - loss: 0.3373\n",
            "Epoch 41/100\n",
            "4/4 [==============================] - 0s 10ms/step - loss: 0.3302\n",
            "Epoch 42/100\n",
            "4/4 [==============================] - 0s 11ms/step - loss: 0.3146\n",
            "Epoch 43/100\n",
            "4/4 [==============================] - 0s 11ms/step - loss: 0.3126\n",
            "Epoch 44/100\n",
            "4/4 [==============================] - 0s 10ms/step - loss: 0.3128\n",
            "Epoch 45/100\n",
            "4/4 [==============================] - 0s 11ms/step - loss: 0.3473\n",
            "Epoch 46/100\n",
            "4/4 [==============================] - 0s 11ms/step - loss: 0.3067\n",
            "Epoch 47/100\n",
            "4/4 [==============================] - 0s 11ms/step - loss: 0.2789\n",
            "Epoch 48/100\n",
            "4/4 [==============================] - 0s 11ms/step - loss: 0.2911\n",
            "Epoch 49/100\n",
            "4/4 [==============================] - 0s 12ms/step - loss: 0.2742\n",
            "Epoch 50/100\n",
            "4/4 [==============================] - 0s 12ms/step - loss: 0.2558\n",
            "Epoch 51/100\n",
            "4/4 [==============================] - 0s 11ms/step - loss: 0.2560\n",
            "Epoch 52/100\n",
            "4/4 [==============================] - 0s 11ms/step - loss: 0.2472\n",
            "Epoch 53/100\n",
            "4/4 [==============================] - 0s 11ms/step - loss: 0.2429\n",
            "Epoch 54/100\n",
            "4/4 [==============================] - 0s 11ms/step - loss: 0.2338\n",
            "Epoch 55/100\n",
            "4/4 [==============================] - 0s 11ms/step - loss: 0.2369\n",
            "Epoch 56/100\n",
            "4/4 [==============================] - 0s 11ms/step - loss: 0.2491\n",
            "Epoch 57/100\n",
            "4/4 [==============================] - 0s 11ms/step - loss: 0.2284\n",
            "Epoch 58/100\n",
            "4/4 [==============================] - 0s 11ms/step - loss: 0.2210\n",
            "Epoch 59/100\n",
            "4/4 [==============================] - 0s 11ms/step - loss: 0.2110\n",
            "Epoch 60/100\n",
            "4/4 [==============================] - 0s 10ms/step - loss: 0.2188\n",
            "Epoch 61/100\n",
            "4/4 [==============================] - 0s 12ms/step - loss: 0.2067\n",
            "Epoch 62/100\n",
            "4/4 [==============================] - 0s 11ms/step - loss: 0.2077\n",
            "Epoch 63/100\n",
            "4/4 [==============================] - 0s 11ms/step - loss: 0.2035\n",
            "Epoch 64/100\n",
            "4/4 [==============================] - 0s 10ms/step - loss: 0.1896\n",
            "Epoch 65/100\n",
            "4/4 [==============================] - 0s 11ms/step - loss: 0.1862\n",
            "Epoch 66/100\n",
            "4/4 [==============================] - 0s 10ms/step - loss: 0.1848\n",
            "Epoch 67/100\n",
            "4/4 [==============================] - 0s 11ms/step - loss: 0.1908\n",
            "Epoch 68/100\n",
            "4/4 [==============================] - 0s 10ms/step - loss: 0.1849\n",
            "Epoch 69/100\n",
            "4/4 [==============================] - 0s 11ms/step - loss: 0.1712\n",
            "Epoch 70/100\n",
            "4/4 [==============================] - 0s 10ms/step - loss: 0.1695\n",
            "Epoch 71/100\n",
            "4/4 [==============================] - 0s 10ms/step - loss: 0.1796\n",
            "Epoch 72/100\n",
            "4/4 [==============================] - 0s 10ms/step - loss: 0.1988\n",
            "Epoch 73/100\n",
            "4/4 [==============================] - 0s 11ms/step - loss: 0.1697\n",
            "Epoch 74/100\n",
            "4/4 [==============================] - 0s 11ms/step - loss: 0.1599\n",
            "Epoch 75/100\n",
            "4/4 [==============================] - 0s 10ms/step - loss: 0.1588\n",
            "Epoch 76/100\n",
            "4/4 [==============================] - 0s 11ms/step - loss: 0.1567\n",
            "Epoch 77/100\n",
            "4/4 [==============================] - 0s 11ms/step - loss: 0.1546\n",
            "Epoch 78/100\n",
            "4/4 [==============================] - 0s 12ms/step - loss: 0.1644\n",
            "Epoch 79/100\n",
            "4/4 [==============================] - 0s 11ms/step - loss: 0.1550\n",
            "Epoch 80/100\n",
            "4/4 [==============================] - 0s 11ms/step - loss: 0.1548\n",
            "Epoch 81/100\n",
            "4/4 [==============================] - 0s 13ms/step - loss: 0.1487\n",
            "Epoch 82/100\n",
            "4/4 [==============================] - 0s 11ms/step - loss: 0.1463\n",
            "Epoch 83/100\n",
            "4/4 [==============================] - 0s 11ms/step - loss: 0.1493\n",
            "Epoch 84/100\n",
            "4/4 [==============================] - 0s 11ms/step - loss: 0.1497\n",
            "Epoch 85/100\n",
            "4/4 [==============================] - 0s 11ms/step - loss: 0.1672\n",
            "Epoch 86/100\n",
            "4/4 [==============================] - 0s 11ms/step - loss: 0.1445\n",
            "Epoch 87/100\n",
            "4/4 [==============================] - 0s 11ms/step - loss: 0.1568\n",
            "Epoch 88/100\n",
            "4/4 [==============================] - 0s 18ms/step - loss: 0.1474\n",
            "Epoch 89/100\n",
            "4/4 [==============================] - 0s 11ms/step - loss: 0.1712\n",
            "Epoch 90/100\n",
            "4/4 [==============================] - 0s 10ms/step - loss: 0.1528\n",
            "Epoch 91/100\n",
            "4/4 [==============================] - 0s 10ms/step - loss: 0.1598\n",
            "Epoch 92/100\n",
            "4/4 [==============================] - 0s 10ms/step - loss: 0.1705\n",
            "Epoch 93/100\n",
            "4/4 [==============================] - 0s 11ms/step - loss: 0.1731\n",
            "Epoch 94/100\n",
            "4/4 [==============================] - 0s 11ms/step - loss: 0.1736\n",
            "Epoch 95/100\n",
            "4/4 [==============================] - 0s 11ms/step - loss: 0.1853\n",
            "Epoch 96/100\n",
            "4/4 [==============================] - 0s 12ms/step - loss: 0.1734\n",
            "Epoch 97/100\n",
            "4/4 [==============================] - 0s 11ms/step - loss: 0.1572\n",
            "Epoch 98/100\n",
            "4/4 [==============================] - 0s 10ms/step - loss: 0.1405\n",
            "Epoch 99/100\n",
            "4/4 [==============================] - 0s 10ms/step - loss: 0.1309\n",
            "Epoch 100/100\n",
            "4/4 [==============================] - 0s 10ms/step - loss: 0.1320\n"
          ],
          "name": "stdout"
        }
      ]
    },
    {
      "cell_type": "code",
      "metadata": {
        "id": "74824VsVl-bv",
        "colab_type": "code",
        "colab": {
          "base_uri": "https://localhost:8080/",
          "height": 295
        },
        "outputId": "d33e0985-5a6e-4b57-bd88-4b33b611d97e"
      },
      "source": [
        "# plot loss\n",
        "plt.figure(figsize=(8, 4))\n",
        "plt.plot(hist.history['loss'])\n",
        "plt.xlabel('Epochs')\n",
        "plt.ylabel('Train Loss')\n",
        "plt.title('Loss Function')\n",
        "plt.show()"
      ],
      "execution_count": 8,
      "outputs": [
        {
          "output_type": "display_data",
          "data": {
            "image/png": "[encoded data removed]",
            "text/plain": [
              "<Figure size 576x288 with 1 Axes>"
            ]
          },
          "metadata": {
            "tags": [],
            "needs_background": "light"
          }
        }
      ]
    },
    {
      "cell_type": "code",
      "metadata": {
        "id": "YlrWb43AlCMY",
        "colab_type": "code",
        "colab": {
          "base_uri": "https://localhost:8080/",
          "height": 34
        },
        "outputId": "1cfc33fd-2508-441e-806d-87d3004a7a87"
      },
      "source": [
        "# 예측\n",
        "n_future = 20\n",
        "\n",
        "last_data = np.copy(data[-100:])\n",
        "X_pred = np.copy(last_data)\n",
        "estimate = [X_pred[-1]]\n",
        "print(X_pred.shape)"
      ],
      "execution_count": 9,
      "outputs": [
        {
          "output_type": "stream",
          "text": [
            "(100,)\n"
          ],
          "name": "stdout"
        }
      ]
    },
    {
      "cell_type": "code",
      "metadata": {
        "id": "FafOlSHxlroZ",
        "colab_type": "code",
        "colab": {}
      },
      "source": [
        "for _ in range(n_future):\n",
        "    x = X_pred[-n_step:].reshape(-1, n_step, n_feature, n_channel)\n",
        "    y_hat = model.predict(x)[0][0]\n",
        "    estimate.append(y_hat)\n",
        "    X_pred = np.insert(X_pred, len(X_pred), y_hat)"
      ],
      "execution_count": 12,
      "outputs": []
    },
    {
      "cell_type": "code",
      "metadata": {
        "id": "eAaUHtkflrme",
        "colab_type": "code",
        "colab": {
          "base_uri": "https://localhost:8080/",
          "height": 211
        },
        "outputId": "a6e7e90d-1eb2-47ea-bdc8-628844a2738b"
      },
      "source": [
        "# plot 예측\n",
        "ax1 = np.arange(1, len(last_data)+1)\n",
        "ax2 = np.arange(len(last_data), len(last_data)+len(estimate))\n",
        "plt.figure(figsize=(8, 3))\n",
        "plt.plot(ax1, last_data, markersize=3, color='blue', label='Original Time Series', linewidth=1)\n",
        "plt.plot(ax2, estimate, markersize=3, color='red', label='Estimated Time Series')\n",
        "plt.axvline(ax1[-1], linestyle='dashed', linewidth=1)\n",
        "plt.legend()\n",
        "plt.show()"
      ],
      "execution_count": 13,
      "outputs": [
        {
          "output_type": "display_data",
          "data": {
            "image/png": "[encoded data removed]",
            "text/plain": [
              "<Figure size 576x216 with 1 Axes>"
            ]
          },
          "metadata": {
            "tags": [],
            "needs_background": "light"
          }
        }
      ]
    },
    {
      "cell_type": "code",
      "metadata": {
        "id": "_OLBu6Iolrkl",
        "colab_type": "code",
        "colab": {}
      },
      "source": [
        ""
      ],
      "execution_count": null,
      "outputs": []
    },
    {
      "cell_type": "code",
      "metadata": {
        "id": "mRV26QJzlrip",
        "colab_type": "code",
        "colab": {}
      },
      "source": [
        ""
      ],
      "execution_count": null,
      "outputs": []
    },
    {
      "cell_type": "code",
      "metadata": {
        "id": "17T5K3Ztlrgq",
        "colab_type": "code",
        "colab": {}
      },
      "source": [
        ""
      ],
      "execution_count": null,
      "outputs": []
    }
  ]
}