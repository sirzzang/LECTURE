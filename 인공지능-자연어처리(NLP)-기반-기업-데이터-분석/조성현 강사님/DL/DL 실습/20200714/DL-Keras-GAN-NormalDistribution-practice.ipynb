{
  "nbformat": 4,
  "nbformat_minor": 0,
  "metadata": {
    "colab": {
      "name": "DL-Keras-GAN-NormalDistribution.ipynb",
      "provenance": [],
      "collapsed_sections": []
    },
    "kernelspec": {
      "name": "python3",
      "display_name": "Python 3"
    }
  },
  "cells": [
    {
      "cell_type": "markdown",
      "metadata": {
        "id": "36TjMkkolfXS",
        "colab_type": "text"
      },
      "source": [
        " Keras에서 GAN 모델을 생성하는 것은 Tensorflow와 다르다. Supervised Learning 목적이기 때문에, 직접 loss 함수를 만들어 학습하기가 어렵다. 따라서 지도 학습 방식으로 바꾸어 GAN 네트워크를 학습한다."
      ]
    },
    {
      "cell_type": "code",
      "metadata": {
        "id": "armL6lFGlvoj",
        "colab_type": "code",
        "colab": {
          "base_uri": "https://localhost:8080/",
          "height": 52
        },
        "outputId": "46129aee-5ce5-4bc8-96ca-3e1c4a8f42ee"
      },
      "source": [
        "# module import\n",
        "from tensorflow.keras.layers import Input, Dense\n",
        "from tensorflow.keras.models import Model\n",
        "from tensorflow.keras.optimizers import RMSprop\n",
        "from tensorflow.keras import backend as K\n",
        "import numpy as np\n",
        "import matplotlib.pyplot as plt\n",
        "import seaborn as sns\n",
        "import tensorflow as tf\n",
        "\n",
        "# eager execution 기능 끄기\n",
        "tf.compat.v1.disable_eager_execution()"
      ],
      "execution_count": 1,
      "outputs": [
        {
          "output_type": "stream",
          "text": [
            "/usr/local/lib/python3.6/dist-packages/statsmodels/tools/_testing.py:19: FutureWarning: pandas.util.testing is deprecated. Use the functions in the public API at pandas.testing instead.\n",
            "  import pandas.util.testing as tm\n"
          ],
          "name": "stderr"
        }
      ]
    },
    {
      "cell_type": "markdown",
      "metadata": {
        "id": "EuVG5z3ZlutS",
        "colab_type": "text"
      },
      "source": [
        "# _1_. 데이터 생성 "
      ]
    },
    {
      "cell_type": "code",
      "metadata": {
        "id": "e6VgJ0S7lJua",
        "colab_type": "code",
        "colab": {}
      },
      "source": [
        "# 정규분포 데이터 샘플링\n",
        "real_data = np.random.normal(size=1000)\n",
        "real_data = real_data.reshape(real_data.shape[0], 1)"
      ],
      "execution_count": 2,
      "outputs": []
    },
    {
      "cell_type": "code",
      "metadata": {
        "id": "V5wH3ByUmX8g",
        "colab_type": "code",
        "colab": {}
      },
      "source": [
        "# 파라미터 설정\n",
        "d_input = real_data.shape[1]\n",
        "d_hidden = 32\n",
        "d_output = 1 # 주의\n",
        "g_input = 16\n",
        "g_hidden = 32\n",
        "g_output = d_input"
      ],
      "execution_count": 3,
      "outputs": []
    },
    {
      "cell_type": "markdown",
      "metadata": {
        "id": "L91yUISFmlJU",
        "colab_type": "text"
      },
      "source": [
        "# _2_. 필요한 함수 만들기"
      ]
    },
    {
      "cell_type": "code",
      "metadata": {
        "id": "4AtEPx4_mX6c",
        "colab_type": "code",
        "colab": {}
      },
      "source": [
        "def calc_KL(P, Q):\n",
        "    \n",
        "    hist_P, bins_P = np.histogram(P, bins=100)\n",
        "    hist_Q, bins_Q = np.histogram(Q, bins=bins_P)\n",
        "\n",
        "    # pdf로 만들기 위해 정규화\n",
        "    hist_P = hist_P / (np.sum(hist_P) + 1e-8) # 분모 0 방지\n",
        "    hist_Q = hist_Q / (np.sum(hist_Q) + 1e-8) \n",
        "\n",
        "    # KL divergence 계산\n",
        "    kld = np.sum(hist_P * (np.log(hist_P + 1e-8) - np.log(hist_Q + 1e-8)))\n",
        "\n",
        "    return kld"
      ],
      "execution_count": 4,
      "outputs": []
    },
    {
      "cell_type": "code",
      "metadata": {
        "id": "XNX5iKskmX4k",
        "colab_type": "code",
        "colab": {}
      },
      "source": [
        "def getNoise(m, n=g_input):\n",
        "    z = np.random.uniform(-1.0, 1.0, size=[m, n])\n",
        "    return z"
      ],
      "execution_count": 5,
      "outputs": []
    },
    {
      "cell_type": "code",
      "metadata": {
        "id": "4LaHaHspn8db",
        "colab_type": "code",
        "colab": {}
      },
      "source": [
        "def myOptimizer(a):\n",
        "    return RMSprop(learning_rate=a)"
      ],
      "execution_count": 6,
      "outputs": []
    },
    {
      "cell_type": "markdown",
      "metadata": {
        "id": "rYVmBEwKoKwT",
        "colab_type": "text"
      },
      "source": [
        "# _2_. Discriminator\n",
        "- label을 붙일 (나중의) Input과 그것이 진짜인지(1) 가짜인지(0) 판단해서 sigmoid로 출력해 주는 Output이 있다.\n",
        "- Input, Output의 모델을 생성한다.\n",
        "- discriminator는 학습한다."
      ]
    },
    {
      "cell_type": "code",
      "metadata": {
        "id": "DBqTYJ6Pn8bP",
        "colab_type": "code",
        "colab": {}
      },
      "source": [
        "def build_discriminator():\n",
        "    d_x = Input(batch_shape=(None, d_input))\n",
        "    d_h = Dense(d_hidden, activation='relu')(d_x)\n",
        "    d_o = Dense(d_output, activation='sigmoid')(d_h)\n",
        "    \n",
        "    d_model = Model(d_x, d_o)\n",
        "    d_model.compile(loss='binary_crossentropy', optimizer=myOptimizer(0.001))\n",
        "    \n",
        "    return d_model"
      ],
      "execution_count": 9,
      "outputs": []
    },
    {
      "cell_type": "markdown",
      "metadata": {
        "id": "m6vhYdVbpGLs",
        "colab_type": "text"
      },
      "source": [
        "# _3_. Generator\n",
        "* 가짜 데이터를 생성한다.\n",
        "* 모델을 만들기는 하나, 학습은 하지 않는다. 따라서 compile하지 않는다.\n",
        "* 출력 시 활성화는 그대로 출력하도록 하는 linear이다."
      ]
    },
    {
      "cell_type": "code",
      "metadata": {
        "id": "Y7XLtZgIn8W_",
        "colab_type": "code",
        "colab": {}
      },
      "source": [
        "def build_generator():\n",
        "    g_x = Input(batch_shape=(None, g_input))\n",
        "    g_h = Dense(g_hidden, activation='relu')(g_x)\n",
        "    g_o = Dense(g_output, activation='linear')(g_h)\n",
        "\n",
        "    g_model = Model(g_x, g_o)\n",
        "    \n",
        "    return g_model"
      ],
      "execution_count": 10,
      "outputs": []
    },
    {
      "cell_type": "markdown",
      "metadata": {
        "id": "_bI3I1wapk2-",
        "colab_type": "text"
      },
      "source": [
        "# _4_. GAN 네트워크\n",
        "\n",
        "```\n",
        "        +---+   Gz   +---+\n",
        "  z --->| G |------->| D |---> DGz\n",
        "        +---+        +---+\n",
        "      trainable   not trainable\n",
        "```\n",
        "\n",
        "* 기본적으로 z가 들어가면, DGz가 1이 나오도록 G가 학습된다.\n",
        "* 이 때 D는 위에서 학습하므로, G의 네트워크만 업데이트한다.\n",
        "* G는 여기서 학습된다. 컴파일을 여기서!\n",
        "    - 이진 분류 지도 학습 문제로 바꾸어 풀기 때문에, loss는 `binary_crossentropy`.\n",
        "    "
      ]
    },
    {
      "cell_type": "code",
      "metadata": {
        "id": "tAEAsp8WpsCb",
        "colab_type": "code",
        "colab": {}
      },
      "source": [
        "def build_GAN(discriminator, generator):\n",
        "    discriminator.trainable = False # discriminator 업데이트 해제\n",
        "    z = Input(batch_shape=(None, g_input))\n",
        "    Gz = generator(z)\n",
        "    DGz = discriminator(Gz)\n",
        "\n",
        "    gan_model = Model(z, DGz)\n",
        "    gan_model.compile(loss='binary_crossentropy', optimizer = myOptimizer(0.0005))\n",
        "\n",
        "    return gan_model"
      ],
      "execution_count": 11,
      "outputs": []
    },
    {
      "cell_type": "markdown",
      "metadata": {
        "id": "Aer_hDrdqahT",
        "colab_type": "text"
      },
      "source": [
        "# _5_. 학습\n",
        "- 그래프 초기화 왜 있죠?\n",
        "- PyTorch에서 마지막이면 끝 데이터까지 쓰는 거 훨씬 쉽게 사용할 수 있을 듯!\n",
        "- G(generator) 자체를 모델로 만들었기 때문에, `model.predict` 해야 노이즈 데이터 생성할 수 있음.\n",
        "- `.fit`보다 `.train_on_batch`\n",
        "- 학습 방식: D 1회, G 1회 --> 이렇게 한 번 돌아야 에폭 1회.\n",
        "- generator : GAN 네트워크 자체에서 학습됨.\n",
        "\n",
        "---\n",
        "\n",
        "- ? `*2` 왜? batch 안에 들어 있는 개수만큼 generate했으므로!\n",
        "- generator는 `X_Batch.shape[0]`만 해준다? 제너레이터는 만들어 내는 것에 대해서만 학습??\n",
        "- `g_target[:]`으로 해야 바뀜!\n"
      ]
    },
    {
      "cell_type": "code",
      "metadata": {
        "id": "9Pkys9xzpsAZ",
        "colab_type": "code",
        "colab": {
          "base_uri": "https://localhost:8080/",
          "height": 1000
        },
        "outputId": "33bb7481-d4e9-4607-bce3-835c9da45c0b"
      },
      "source": [
        "# 그래프 초기화\n",
        "K.clear_session()\n",
        "D = build_discriminator()\n",
        "G = build_generator()\n",
        "GAN = build_GAN(D, G)\n",
        "\n",
        "n_batch_cnt = int(input('입력 데이터 배치 블록 수 설정: '))\n",
        "n_batch_size = int(real_data.shape[0] / n_batch_cnt) # 배치 블록 당 사이즈\n",
        "EPOCHS = int(input('학습 횟수 설정: '))\n",
        "\n",
        "for epoch in range(EPOCHS):\n",
        "\n",
        "    # 미니배치 학습\n",
        "    for n in range(n_batch_cnt):\n",
        "        from_, to_ = n*n_batch_size, (n+1)*n_batch_size\n",
        "\n",
        "        # 마지막 루프라면 n_to는 끝까지\n",
        "        if n == n_batch_cnt - 1:\n",
        "            to_ = real_data.shape[0]\n",
        "        \n",
        "        # 학습 데이터 배치로 준비\n",
        "        X_batch = real_data[from_ : to_]\n",
        "        Z_batch = getNoise(m = X_batch.shape[0], n = g_input)\n",
        "        Gz = G.predict(Z_batch) # predict 해야 제너레이터가 만들어낼 수 있음.\n",
        "\n",
        "        # discriminator 학습을 위한 데이터 준비\n",
        "        d_target = np.zeros(X_batch.shape[0] * 2) # batch 안에 들어 있는 개수만큼 generate\n",
        "        d_target[:X_batch.shape[0]] = 0.9 # 1.0 대신 0.9\n",
        "        d_target[X_batch.shape[0]:] = 0.1 # 0.0 대신 0.1\n",
        "\n",
        "        # discriminator 학습\n",
        "        X_batch_Gz = np.concatenate([X_batch, Gz])\n",
        "        loss_discriminator = D.train_on_batch(X_batch_Gz, d_target)\n",
        "\n",
        "        # generator 학습\n",
        "        g_target = np.zeros(X_batch.shape[0])\n",
        "        g_target[:] = 0.9\n",
        "        loss_generator = GAN.train_on_batch(Z_batch, g_target)\n",
        "\n",
        "    if epoch % 10 == 0:\n",
        "        z = getNoise(m = real_data.shape[0], n=g_input)\n",
        "        fake_data = G.predict(z) # generator 모델이 가짜 분포 생성\n",
        "        kld = calc_KL(real_data, fake_data) # KL Divergence 계산\n",
        "        print(f\"epoch: %d, D-Loss = %.4f, G-Loss = %.4f, KL-divergence = %.4f\" % (epoch, loss_discriminator, loss_generator, kld))"
      ],
      "execution_count": 15,
      "outputs": [
        {
          "output_type": "stream",
          "text": [
            "입력 데이터 배치 블록 수 설정: 3\n",
            "학습 횟수 설정: 1000\n",
            "WARNING:tensorflow:Discrepancy between trainable weights and collected trainable weights, did you set `model.trainable` without calling `model.compile` after ?\n",
            "epoch: 0, D-Loss = 0.6802, G-Loss = 0.6699, KL-divergence = 2.3204\n",
            "epoch: 10, D-Loss = 0.6760, G-Loss = 0.6766, KL-divergence = 1.5530\n",
            "epoch: 20, D-Loss = 0.6843, G-Loss = 0.6920, KL-divergence = 0.5916\n",
            "epoch: 30, D-Loss = 0.6963, G-Loss = 0.7011, KL-divergence = 0.2417\n",
            "epoch: 40, D-Loss = 0.6969, G-Loss = 0.7040, KL-divergence = 0.1622\n",
            "epoch: 50, D-Loss = 0.6950, G-Loss = 0.7172, KL-divergence = 0.1795\n",
            "epoch: 60, D-Loss = 0.6925, G-Loss = 0.7197, KL-divergence = 0.1829\n",
            "epoch: 70, D-Loss = 0.6935, G-Loss = 0.6937, KL-divergence = 0.2673\n",
            "epoch: 80, D-Loss = 0.6927, G-Loss = 0.6964, KL-divergence = 0.3166\n",
            "epoch: 90, D-Loss = 0.6932, G-Loss = 0.6937, KL-divergence = 0.1891\n",
            "epoch: 100, D-Loss = 0.6929, G-Loss = 0.6929, KL-divergence = 0.1398\n",
            "epoch: 110, D-Loss = 0.6930, G-Loss = 0.6949, KL-divergence = 0.2168\n",
            "epoch: 120, D-Loss = 0.6932, G-Loss = 0.6948, KL-divergence = 0.1970\n",
            "epoch: 130, D-Loss = 0.6930, G-Loss = 0.6942, KL-divergence = 0.1402\n",
            "epoch: 140, D-Loss = 0.6931, G-Loss = 0.6954, KL-divergence = 0.2129\n",
            "epoch: 150, D-Loss = 0.6934, G-Loss = 0.6944, KL-divergence = 0.1700\n",
            "epoch: 160, D-Loss = 0.6937, G-Loss = 0.6935, KL-divergence = 0.1930\n",
            "epoch: 170, D-Loss = 0.6933, G-Loss = 0.6952, KL-divergence = 0.1957\n",
            "epoch: 180, D-Loss = 0.6930, G-Loss = 0.6925, KL-divergence = 0.1314\n",
            "epoch: 190, D-Loss = 0.6929, G-Loss = 0.6955, KL-divergence = 0.2003\n",
            "epoch: 200, D-Loss = 0.6930, G-Loss = 0.6938, KL-divergence = 0.2237\n",
            "epoch: 210, D-Loss = 0.6930, G-Loss = 0.6945, KL-divergence = 0.1916\n",
            "epoch: 220, D-Loss = 0.6929, G-Loss = 0.6926, KL-divergence = 0.1465\n",
            "epoch: 230, D-Loss = 0.6932, G-Loss = 0.6927, KL-divergence = 0.1498\n",
            "epoch: 240, D-Loss = 0.6929, G-Loss = 0.6942, KL-divergence = 0.1574\n",
            "epoch: 250, D-Loss = 0.6930, G-Loss = 0.6946, KL-divergence = 0.2894\n",
            "epoch: 260, D-Loss = 0.6931, G-Loss = 0.6930, KL-divergence = 0.2299\n",
            "epoch: 270, D-Loss = 0.6932, G-Loss = 0.6917, KL-divergence = 0.1752\n",
            "epoch: 280, D-Loss = 0.6936, G-Loss = 0.6934, KL-divergence = 0.2302\n",
            "epoch: 290, D-Loss = 0.6930, G-Loss = 0.6958, KL-divergence = 0.2498\n",
            "epoch: 300, D-Loss = 0.6929, G-Loss = 0.6926, KL-divergence = 0.1690\n",
            "epoch: 310, D-Loss = 0.6932, G-Loss = 0.6912, KL-divergence = 0.2305\n",
            "epoch: 320, D-Loss = 0.6934, G-Loss = 0.6933, KL-divergence = 0.1891\n",
            "epoch: 330, D-Loss = 0.6933, G-Loss = 0.6944, KL-divergence = 0.1850\n",
            "epoch: 340, D-Loss = 0.6931, G-Loss = 0.6925, KL-divergence = 0.1911\n",
            "epoch: 350, D-Loss = 0.6930, G-Loss = 0.6967, KL-divergence = 0.1913\n",
            "epoch: 360, D-Loss = 0.6929, G-Loss = 0.6935, KL-divergence = 0.2194\n",
            "epoch: 370, D-Loss = 0.6928, G-Loss = 0.6928, KL-divergence = 0.2141\n",
            "epoch: 380, D-Loss = 0.6928, G-Loss = 0.6936, KL-divergence = 0.1776\n",
            "epoch: 390, D-Loss = 0.6930, G-Loss = 0.6925, KL-divergence = 0.2302\n",
            "epoch: 400, D-Loss = 0.6930, G-Loss = 0.6941, KL-divergence = 0.1420\n",
            "epoch: 410, D-Loss = 0.6931, G-Loss = 0.6933, KL-divergence = 0.1856\n",
            "epoch: 420, D-Loss = 0.6932, G-Loss = 0.6930, KL-divergence = 0.1326\n",
            "epoch: 430, D-Loss = 0.6930, G-Loss = 0.6940, KL-divergence = 0.1617\n",
            "epoch: 440, D-Loss = 0.6928, G-Loss = 0.6945, KL-divergence = 0.2406\n",
            "epoch: 450, D-Loss = 0.6931, G-Loss = 0.6931, KL-divergence = 0.1625\n",
            "epoch: 460, D-Loss = 0.6930, G-Loss = 0.6949, KL-divergence = 0.2674\n",
            "epoch: 470, D-Loss = 0.6929, G-Loss = 0.6940, KL-divergence = 0.2415\n",
            "epoch: 480, D-Loss = 0.6930, G-Loss = 0.6924, KL-divergence = 0.1835\n",
            "epoch: 490, D-Loss = 0.6931, G-Loss = 0.6921, KL-divergence = 0.2835\n",
            "epoch: 500, D-Loss = 0.6932, G-Loss = 0.6950, KL-divergence = 0.1917\n",
            "epoch: 510, D-Loss = 0.6931, G-Loss = 0.6921, KL-divergence = 0.3462\n",
            "epoch: 520, D-Loss = 0.6931, G-Loss = 0.6941, KL-divergence = 0.1909\n",
            "epoch: 530, D-Loss = 0.6933, G-Loss = 0.6941, KL-divergence = 0.1985\n",
            "epoch: 540, D-Loss = 0.6930, G-Loss = 0.6928, KL-divergence = 0.1700\n",
            "epoch: 550, D-Loss = 0.6932, G-Loss = 0.6943, KL-divergence = 0.2007\n",
            "epoch: 560, D-Loss = 0.6931, G-Loss = 0.6908, KL-divergence = 0.2095\n",
            "epoch: 570, D-Loss = 0.6932, G-Loss = 0.6952, KL-divergence = 0.2300\n",
            "epoch: 580, D-Loss = 0.6932, G-Loss = 0.6934, KL-divergence = 0.2155\n",
            "epoch: 590, D-Loss = 0.6931, G-Loss = 0.6952, KL-divergence = 0.1553\n",
            "epoch: 600, D-Loss = 0.6929, G-Loss = 0.6928, KL-divergence = 0.2134\n",
            "epoch: 610, D-Loss = 0.6932, G-Loss = 0.6923, KL-divergence = 0.1846\n",
            "epoch: 620, D-Loss = 0.6930, G-Loss = 0.6940, KL-divergence = 0.1480\n",
            "epoch: 630, D-Loss = 0.6930, G-Loss = 0.6919, KL-divergence = 0.1710\n",
            "epoch: 640, D-Loss = 0.6934, G-Loss = 0.6940, KL-divergence = 0.1932\n",
            "epoch: 650, D-Loss = 0.6932, G-Loss = 0.6932, KL-divergence = 0.1690\n",
            "epoch: 660, D-Loss = 0.6930, G-Loss = 0.6932, KL-divergence = 0.1945\n",
            "epoch: 670, D-Loss = 0.6929, G-Loss = 0.6928, KL-divergence = 0.1696\n",
            "epoch: 680, D-Loss = 0.6929, G-Loss = 0.6967, KL-divergence = 0.1266\n",
            "epoch: 690, D-Loss = 0.6934, G-Loss = 0.6941, KL-divergence = 0.1215\n",
            "epoch: 700, D-Loss = 0.6932, G-Loss = 0.6936, KL-divergence = 0.2375\n",
            "epoch: 710, D-Loss = 0.6928, G-Loss = 0.6940, KL-divergence = 0.1621\n",
            "epoch: 720, D-Loss = 0.6930, G-Loss = 0.6913, KL-divergence = 0.1504\n",
            "epoch: 730, D-Loss = 0.6934, G-Loss = 0.6956, KL-divergence = 0.1497\n",
            "epoch: 740, D-Loss = 0.6929, G-Loss = 0.6951, KL-divergence = 0.1890\n",
            "epoch: 750, D-Loss = 0.6934, G-Loss = 0.6936, KL-divergence = 0.1292\n",
            "epoch: 760, D-Loss = 0.6931, G-Loss = 0.6923, KL-divergence = 0.2063\n",
            "epoch: 770, D-Loss = 0.6928, G-Loss = 0.6933, KL-divergence = 0.2099\n",
            "epoch: 780, D-Loss = 0.6931, G-Loss = 0.6923, KL-divergence = 0.2710\n",
            "epoch: 790, D-Loss = 0.6928, G-Loss = 0.6940, KL-divergence = 0.1603\n",
            "epoch: 800, D-Loss = 0.6930, G-Loss = 0.6921, KL-divergence = 0.2272\n",
            "epoch: 810, D-Loss = 0.6928, G-Loss = 0.6956, KL-divergence = 0.3163\n",
            "epoch: 820, D-Loss = 0.6932, G-Loss = 0.6933, KL-divergence = 0.1659\n",
            "epoch: 830, D-Loss = 0.6930, G-Loss = 0.6951, KL-divergence = 0.2076\n",
            "epoch: 840, D-Loss = 0.6931, G-Loss = 0.6923, KL-divergence = 0.2639\n",
            "epoch: 850, D-Loss = 0.6929, G-Loss = 0.6930, KL-divergence = 0.1789\n",
            "epoch: 860, D-Loss = 0.6927, G-Loss = 0.6947, KL-divergence = 0.1624\n",
            "epoch: 870, D-Loss = 0.6929, G-Loss = 0.6937, KL-divergence = 0.2231\n",
            "epoch: 880, D-Loss = 0.6933, G-Loss = 0.6931, KL-divergence = 0.1453\n",
            "epoch: 890, D-Loss = 0.6930, G-Loss = 0.6937, KL-divergence = 0.2358\n",
            "epoch: 900, D-Loss = 0.6931, G-Loss = 0.6931, KL-divergence = 0.1560\n",
            "epoch: 910, D-Loss = 0.6928, G-Loss = 0.6925, KL-divergence = 0.1647\n",
            "epoch: 920, D-Loss = 0.6929, G-Loss = 0.6944, KL-divergence = 0.1373\n",
            "epoch: 930, D-Loss = 0.6931, G-Loss = 0.6939, KL-divergence = 0.2974\n",
            "epoch: 940, D-Loss = 0.6934, G-Loss = 0.6941, KL-divergence = 0.2359\n",
            "epoch: 950, D-Loss = 0.6928, G-Loss = 0.6941, KL-divergence = 0.1732\n",
            "epoch: 960, D-Loss = 0.6930, G-Loss = 0.6940, KL-divergence = 0.2115\n",
            "epoch: 970, D-Loss = 0.6929, G-Loss = 0.6925, KL-divergence = 0.1960\n",
            "epoch: 980, D-Loss = 0.6930, G-Loss = 0.6940, KL-divergence = 0.2090\n",
            "epoch: 990, D-Loss = 0.6931, G-Loss = 0.6929, KL-divergence = 0.1878\n"
          ],
          "name": "stdout"
        }
      ]
    },
    {
      "cell_type": "markdown",
      "metadata": {
        "id": "TLzGo4tOu6iS",
        "colab_type": "text"
      },
      "source": [
        "# _6_. 데이터 분포 그려 보기\n",
        "* 역시나, 여기서도 model이기 때문에 predict해야 분포가 나온다."
      ]
    },
    {
      "cell_type": "code",
      "metadata": {
        "id": "OWcHPRR5rEOv",
        "colab_type": "code",
        "colab": {
          "base_uri": "https://localhost:8080/",
          "height": 336
        },
        "outputId": "2d90e62e-0476-48ba-fcdd-bbe01aa0633e"
      },
      "source": [
        "# 데이터 분포\n",
        "z = getNoise(m = real_data.shape[0], n=g_input)\n",
        "fake_data = G.predict(z) # predict해야 data 나옴.\n",
        "\n",
        "plt.figure(figsize=(8, 5))\n",
        "sns.set_style('whitegrid')\n",
        "sns.kdeplot(real_data[:, 0], color='blue', bw=0.3, label='REAL data')\n",
        "sns.kdeplot(fake_data[:, 0], color='red', bw=0.3, label='FAKE data')\n",
        "plt.legend()\n",
        "plt.title('REAL vs. FAKE distribution')\n",
        "plt.show()"
      ],
      "execution_count": 16,
      "outputs": [
        {
          "output_type": "display_data",
          "data": {
            "image/png": "[encoded data removed]",
            "text/plain": [
              "<Figure size 576x360 with 1 Axes>"
            ]
          },
          "metadata": {
            "tags": [],
            "needs_background": "light"
          }
        }
      ]
    },
    {
      "cell_type": "code",
      "metadata": {
        "id": "5A1z1ovKpr-l",
        "colab_type": "code",
        "colab": {
          "base_uri": "https://localhost:8080/",
          "height": 336
        },
        "outputId": "2fd7b7b4-431f-4341-eef5-dde905222d56"
      },
      "source": [
        "# 실제 데이터 넣어서 discriminator가 어떻게 예측하는지 보기\n",
        "discriminate_real_values = D.predict(real_data)\n",
        "discriminate_fake_values = D.predict(fake_data)\n",
        "\n",
        "plt.figure(figsize=(8, 5))\n",
        "plt.plot(discriminate_real_values, label='Discriminated Real Data')\n",
        "plt.plot(discriminate_fake_values, label='Discriminated Fake Data', color='red')\n",
        "plt.title(\"Discriminator vs. Generator\")\n",
        "plt.legend()\n",
        "plt.show()"
      ],
      "execution_count": 20,
      "outputs": [
        {
          "output_type": "display_data",
          "data": {
            "image/png": "[encoded data removed]",
            "text/plain": [
              "<Figure size 576x360 with 1 Axes>"
            ]
          },
          "metadata": {
            "tags": []
          }
        }
      ]
    },
    {
      "cell_type": "markdown",
      "metadata": {
        "id": "GUmOHdQr0Mzu",
        "colab_type": "text"
      },
      "source": [
        "# 해석\n",
        "- GAN 모델 구조를 확인하면, layer가 아니라 model이 들어 있다.\n",
        "- model이 통째로 안에 들어 있는 것이라고 해석한다."
      ]
    },
    {
      "cell_type": "code",
      "metadata": {
        "id": "aq0-4pA6zbDd",
        "colab_type": "code",
        "colab": {
          "base_uri": "https://localhost:8080/",
          "height": 809
        },
        "outputId": "c25b927a-ba0e-4c8b-937a-8451a2f02570"
      },
      "source": [
        "# GAN model 구조 확인\n",
        "print(GAN.summary())\n",
        "print(G.summary())\n",
        "print(D.summary())"
      ],
      "execution_count": 23,
      "outputs": [
        {
          "output_type": "stream",
          "text": [
            "Model: \"model_2\"\n",
            "_________________________________________________________________\n",
            "Layer (type)                 Output Shape              Param #   \n",
            "=================================================================\n",
            "input_3 (InputLayer)         [(None, 16)]              0         \n",
            "_________________________________________________________________\n",
            "model_1 (Model)              (None, 1)                 577       \n",
            "_________________________________________________________________\n",
            "model (Model)                (None, 1)                 97        \n",
            "=================================================================\n",
            "Total params: 674\n",
            "Trainable params: 577\n",
            "Non-trainable params: 97\n",
            "_________________________________________________________________\n",
            "None\n",
            "Model: \"model_1\"\n",
            "_________________________________________________________________\n",
            "Layer (type)                 Output Shape              Param #   \n",
            "=================================================================\n",
            "input_2 (InputLayer)         [(None, 16)]              0         \n",
            "_________________________________________________________________\n",
            "dense_2 (Dense)              (None, 32)                544       \n",
            "_________________________________________________________________\n",
            "dense_3 (Dense)              (None, 1)                 33        \n",
            "=================================================================\n",
            "Total params: 577\n",
            "Trainable params: 577\n",
            "Non-trainable params: 0\n",
            "_________________________________________________________________\n",
            "None\n",
            "Model: \"model\"\n",
            "_________________________________________________________________\n",
            "Layer (type)                 Output Shape              Param #   \n",
            "=================================================================\n",
            "input_1 (InputLayer)         [(None, 1)]               0         \n",
            "_________________________________________________________________\n",
            "dense (Dense)                (None, 32)                64        \n",
            "_________________________________________________________________\n",
            "dense_1 (Dense)              (None, 1)                 33        \n",
            "=================================================================\n",
            "Total params: 194\n",
            "Trainable params: 97\n",
            "Non-trainable params: 97\n",
            "_________________________________________________________________\n",
            "None\n"
          ],
          "name": "stdout"
        }
      ]
    }
  ]
}