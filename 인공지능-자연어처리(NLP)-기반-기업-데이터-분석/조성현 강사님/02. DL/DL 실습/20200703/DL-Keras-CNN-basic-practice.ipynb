{
  "nbformat": 4,
  "nbformat_minor": 0,
  "metadata": {
    "colab": {
      "name": "Untitled0.ipynb",
      "provenance": []
    },
    "kernelspec": {
      "name": "python3",
      "display_name": "Python 3"
    }
  },
  "cells": [
    {
      "cell_type": "code",
      "metadata": {
        "id": "qVq8zr_UPspf",
        "colab_type": "code",
        "colab": {}
      },
      "source": [
        "# module import\n",
        "import tensorflow as tf\n",
        "import numpy as np"
      ],
      "execution_count": 1,
      "outputs": []
    },
    {
      "cell_type": "markdown",
      "metadata": {
        "id": "cCBGkDAWW3zY",
        "colab_type": "text"
      },
      "source": [
        "* 입력 이미지의 채널은 컨볼루션 필터, 풀링 레이어, 업샘플링에 동일하게 적용됨.\n",
        "* 풀링 레이어의 수와 필터의 수는 같아야 함.(필터로 나온 만큼 풀링 적용해야 하기 때문)\n"
      ]
    },
    {
      "cell_type": "code",
      "metadata": {
        "id": "stIOs1pdWfcb",
        "colab_type": "code",
        "colab": {}
      },
      "source": [
        "# 이미지, 필터, 풀링, 업샘플링 정의\n",
        "n_batch, n_height, n_width, n_channel = (1, 5, 5, 1) # 입력 이미지: 1장, 5x5, 흑백.\n",
        "f_height, f_width, f_channel, f_count = (3, 3, n_channel, 1) # 컨볼루션 필터: 1장, 3x3, 흑백.\n",
        "p_height, p_width, p_channel, p_count = (3, 3, n_channel, f_count) # 풀링: 1장, 3x3 사이즈.\n",
        "u_height, u_width, u_channel, u_count = (3, 3, n_channel, f_count) # 업샘플링: 1장, 3x3 사이즈."
      ],
      "execution_count": 2,
      "outputs": []
    },
    {
      "cell_type": "code",
      "metadata": {
        "id": "oglWoyIXXh67",
        "colab_type": "code",
        "colab": {}
      },
      "source": [
        "# 이미지, 필터, 업샘플 레이어 정의\n",
        "X = np.arange(0.1, 2.6, 0.1).reshape(n_batch, n_height, n_width, n_channel) # 0.1부터 2.6까지의 픽셀 5x5 사이즈 이미지로 가정.\n",
        "F = np.random.rand(9).reshape(f_height, f_width, f_channel, f_count)\n",
        "U = np.array(np.repeat(1, 9)).reshape(u_height, u_width, u_channel, u_count) # untrainable, 상수 업샘플링 레이어."
      ],
      "execution_count": 9,
      "outputs": []
    },
    {
      "cell_type": "code",
      "metadata": {
        "id": "mgYKrKytXmjW",
        "colab_type": "code",
        "colab": {
          "base_uri": "https://localhost:8080/",
          "height": 639
        },
        "outputId": "e63fefc6-be99-477c-fef2-797e2891a0d8"
      },
      "source": [
        "# 이미지 확인\n",
        "print(\"========== Input Image ==========\")\n",
        "print(X) # 원래 Keras layer에 들어가는 형태\n",
        "print(X.reshape(n_height, n_width)) # 2차원 이미지 형태로 표현"
      ],
      "execution_count": 11,
      "outputs": [
        {
          "output_type": "stream",
          "text": [
            "========== Input Image ==========\n",
            "[[[[0.1]\n",
            "   [0.2]\n",
            "   [0.3]\n",
            "   [0.4]\n",
            "   [0.5]]\n",
            "\n",
            "  [[0.6]\n",
            "   [0.7]\n",
            "   [0.8]\n",
            "   [0.9]\n",
            "   [1. ]]\n",
            "\n",
            "  [[1.1]\n",
            "   [1.2]\n",
            "   [1.3]\n",
            "   [1.4]\n",
            "   [1.5]]\n",
            "\n",
            "  [[1.6]\n",
            "   [1.7]\n",
            "   [1.8]\n",
            "   [1.9]\n",
            "   [2. ]]\n",
            "\n",
            "  [[2.1]\n",
            "   [2.2]\n",
            "   [2.3]\n",
            "   [2.4]\n",
            "   [2.5]]]]\n",
            "[[0.1 0.2 0.3 0.4 0.5]\n",
            " [0.6 0.7 0.8 0.9 1. ]\n",
            " [1.1 1.2 1.3 1.4 1.5]\n",
            " [1.6 1.7 1.8 1.9 2. ]\n",
            " [2.1 2.2 2.3 2.4 2.5]]\n"
          ],
          "name": "stdout"
        }
      ]
    },
    {
      "cell_type": "code",
      "metadata": {
        "id": "UF4bxfWwYXd2",
        "colab_type": "code",
        "colab": {
          "base_uri": "https://localhost:8080/",
          "height": 88
        },
        "outputId": "bc61338c-c2ce-4b69-c82a-43e69540c844"
      },
      "source": [
        "# 컨볼루션 필터 확인\n",
        "print(\"========== Convolution Filter ==========\")\n",
        "print(F.reshape(f_height, f_width)) # 2차원 형태로 표현"
      ],
      "execution_count": 12,
      "outputs": [
        {
          "output_type": "stream",
          "text": [
            "========== Convolution Filter ==========\n",
            "[[0.48234635 0.92134703 0.13204006]\n",
            " [0.38135477 0.98996817 0.84678709]\n",
            " [0.09391369 0.89831192 0.51753341]]\n"
          ],
          "name": "stdout"
        }
      ]
    },
    {
      "cell_type": "code",
      "metadata": {
        "id": "_CuPhh4EYiWT",
        "colab_type": "code",
        "colab": {
          "base_uri": "https://localhost:8080/",
          "height": 88
        },
        "outputId": "58fabbb9-e71d-4f48-b01f-9ea6a5e4f50a"
      },
      "source": [
        "# 업샘플 필터 확인\n",
        "print(\"========== Upsampling Filter ==========\")\n",
        "print(U.reshape(u_height, u_width)) # 2차원 형태로 표현"
      ],
      "execution_count": 13,
      "outputs": [
        {
          "output_type": "stream",
          "text": [
            "========== Upsampling Filter ==========\n",
            "[[1 1 1]\n",
            " [1 1 1]\n",
            " [1 1 1]]\n"
          ],
          "name": "stdout"
        }
      ]
    },
    {
      "cell_type": "code",
      "metadata": {
        "id": "QX42NtzKYsMj",
        "colab_type": "code",
        "colab": {}
      },
      "source": [
        "# CNN 예시\n",
        "image = tf.constant(X, dtype=tf.float32)\n",
        "filter = tf.constant(F, dtype=tf.float32)\n",
        "conv_layer = tf.nn.conv2d(image, filter, strides=[1,1,1,1], padding='VALID') # 패딩 설정 안함.\n",
        "pooling_layer = tf.nn.max_pool(conv_layer, ksize=[1, p_height, p_width, 1], strides=[1,1,1,1], padding='SAME') # 패딩 적용함: 이미지 크기 유지\n",
        "upsampling_layer = tf.nn.conv2d_transpose(pooling_layer, U, output_shape=[1, n_height, n_width, 1], strides=[1,1,1,1], padding='VALID') # 패딩 적용 안 함."
      ],
      "execution_count": 15,
      "outputs": []
    },
    {
      "cell_type": "code",
      "metadata": {
        "id": "NFuO0viZZkza",
        "colab_type": "code",
        "colab": {
          "base_uri": "https://localhost:8080/",
          "height": 88
        },
        "outputId": "ff549a20-c5a4-4892-8060-b770eabb84b9"
      },
      "source": [
        "# Convolution Layer 확인\n",
        "print(\"========== Convolution Layer ==========\")\n",
        "print(conv_layer.numpy().reshape(n_height-f_height+1, n_width-f_width+1)) # padding 적용 안 함. convolution filter 공식에 의해"
      ],
      "execution_count": 18,
      "outputs": [
        {
          "output_type": "stream",
          "text": [
            "========== Convolution Layer ==========\n",
            "[[ 3.725409   4.2517695  4.7781296]\n",
            " [ 6.35721    6.8835707  7.40993  ]\n",
            " [ 8.989012   9.515372  10.041732 ]]\n"
          ],
          "name": "stdout"
        }
      ]
    },
    {
      "cell_type": "code",
      "metadata": {
        "id": "gnQNS2imZ6i_",
        "colab_type": "code",
        "colab": {
          "base_uri": "https://localhost:8080/",
          "height": 88
        },
        "outputId": "c975e304-ddae-401c-bcf6-fab67dc9c522"
      },
      "source": [
        "# Pooling Layer 확인\n",
        "print(\"========== Pooling Layer ==========\")\n",
        "print(pooling_layer.numpy().reshape(f_height, f_width)) # padding 적용됨."
      ],
      "execution_count": 20,
      "outputs": [
        {
          "output_type": "stream",
          "text": [
            "========== Pooling Layer ==========\n",
            "[[ 6.8835707  7.40993    7.40993  ]\n",
            " [ 9.515372  10.041732  10.041732 ]\n",
            " [ 9.515372  10.041732  10.041732 ]]\n"
          ],
          "name": "stdout"
        }
      ]
    },
    {
      "cell_type": "code",
      "metadata": {
        "id": "lx-MlRPYaLXN",
        "colab_type": "code",
        "colab": {
          "base_uri": "https://localhost:8080/",
          "height": 124
        },
        "outputId": "b15b09a6-2c67-4134-a304-dad6599d9000"
      },
      "source": [
        "# Upsampling Layer 확인\n",
        "print(\"========== Upsampling Layer ==========\")\n",
        "print(upsampling_layer.numpy().reshape(n_height, n_width)) # padding 적용: 원래 이미지 크기로 돌아감."
      ],
      "execution_count": 21,
      "outputs": [
        {
          "output_type": "stream",
          "text": [
            "========== Upsampling Layer ==========\n",
            "[[ 6.8835707 14.293501  21.70343   14.81986    7.40993  ]\n",
            " [16.398943  33.850605  51.30227   34.903324  17.451662 ]\n",
            " [25.914314  53.40771   80.90111   54.98679   27.493393 ]\n",
            " [19.030745  39.11421   59.197674  40.166927  20.083464 ]\n",
            " [ 9.515372  19.557104  29.598835  20.083464  10.041732 ]]\n"
          ],
          "name": "stdout"
        }
      ]
    },
    {
      "cell_type": "code",
      "metadata": {
        "id": "B2mcyWjCaYnj",
        "colab_type": "code",
        "colab": {}
      },
      "source": [
        ""
      ],
      "execution_count": null,
      "outputs": []
    }
  ]
}