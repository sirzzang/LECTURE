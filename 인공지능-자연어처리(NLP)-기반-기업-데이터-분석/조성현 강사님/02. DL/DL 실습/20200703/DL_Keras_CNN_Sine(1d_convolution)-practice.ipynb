{
  "nbformat": 4,
  "nbformat_minor": 0,
  "metadata": {
    "colab": {
      "name": "DL-Keras-CNN-Sine(1d convolution)",
      "provenance": []
    },
    "kernelspec": {
      "name": "python3",
      "display_name": "Python 3"
    }
  },
  "cells": [
    {
      "cell_type": "code",
      "metadata": {
        "id": "NqTsFLq-ibNu",
        "colab_type": "code",
        "colab": {}
      },
      "source": [
        "# module import\n",
        "import numpy as np\n",
        "from tensorflow.keras.layers import Input, Conv1D, Dense, MaxPooling1D, Flatten\n",
        "from tensorflow.keras.models import Model\n",
        "from tensorflow.keras.optimizers import Adam\n",
        "import matplotlib.pyplot as plt"
      ],
      "execution_count": 14,
      "outputs": []
    },
    {
      "cell_type": "code",
      "metadata": {
        "id": "83wuozjSikZG",
        "colab_type": "code",
        "colab": {}
      },
      "source": [
        "# data 생성\n",
        "def createData(X_data, step):\n",
        "    m = np.arange(len(X_data)-step)\n",
        "\n",
        "    x, y = [], []\n",
        "    for i in m:\n",
        "        a = X_data[i:i+step]\n",
        "        b = X_data[i+1:i+1+step]\n",
        "        x.append(a)\n",
        "        y.append(b[-1])\n",
        "    \n",
        "    X = np.reshape(np.array(x), (len(m), step, 1))\n",
        "    Y = np.reshape(np.array(y), (len(m), 1))\n",
        "\n",
        "    return X, Y"
      ],
      "execution_count": 2,
      "outputs": []
    },
    {
      "cell_type": "code",
      "metadata": {
        "id": "aRduRC5KikW-",
        "colab_type": "code",
        "colab": {
          "base_uri": "https://localhost:8080/",
          "height": 52
        },
        "outputId": "9a940b3a-a838-4012-dec8-5b01f79ea40b"
      },
      "source": [
        "# 시계열 Sine 데이터 생성\n",
        "n_step = int(input('스텝 설정: '))\n",
        "n_feature = 1\n",
        "data = np.sin(2*np.pi*0.03*np.arange(1001)) + np.random.random(1001) + np.arange(1001)*0.03\n",
        "X_data, y_data = createData(data, n_step)\n",
        "print(f\"X: {X_data.shape}, y: {y_data.shape}\")"
      ],
      "execution_count": 3,
      "outputs": [
        {
          "output_type": "stream",
          "text": [
            "스텝 설정: 20\n",
            "X: (981, 20, 1), y: (981, 1)\n"
          ],
          "name": "stdout"
        }
      ]
    },
    {
      "cell_type": "code",
      "metadata": {
        "id": "6o0HrnBvikQX",
        "colab_type": "code",
        "colab": {
          "base_uri": "https://localhost:8080/",
          "height": 355
        },
        "outputId": "243a2ef0-e2de-465b-d1a9-be023258dc7e"
      },
      "source": [
        "# conv1d CNN 모델 구성\n",
        "X_input = Input(batch_shape=(None, n_step, n_feature))\n",
        "X_conv = Conv1D(filters=30, kernel_size=8, strides=1, padding='valid', activation='relu')(X_input) # (20-13/1)+1 x (20-13/1)+1 x 30\n",
        "X_pool = MaxPooling1D(pool_size=4, strides=1, padding='valid')(X_conv) # (13-4+1) x (13-4+1)\n",
        "X_flat = Flatten()(X_pool)\n",
        "X_output = Dense(1, activation='linear')(X_flat)\n",
        "\n",
        "model = Model(X_input, X_output)\n",
        "model.compile(loss='mse', optimizer=Adam(learning_rate=0.001))\n",
        "print(model.summary())"
      ],
      "execution_count": 8,
      "outputs": [
        {
          "output_type": "stream",
          "text": [
            "Model: \"model\"\n",
            "_________________________________________________________________\n",
            "Layer (type)                 Output Shape              Param #   \n",
            "=================================================================\n",
            "input_2 (InputLayer)         [(None, 20, 1)]           0         \n",
            "_________________________________________________________________\n",
            "conv1d_1 (Conv1D)            (None, 13, 30)            270       \n",
            "_________________________________________________________________\n",
            "max_pooling1d_1 (MaxPooling1 (None, 10, 30)            0         \n",
            "_________________________________________________________________\n",
            "flatten (Flatten)            (None, 300)               0         \n",
            "_________________________________________________________________\n",
            "dense (Dense)                (None, 1)                 301       \n",
            "=================================================================\n",
            "Total params: 571\n",
            "Trainable params: 571\n",
            "Non-trainable params: 0\n",
            "_________________________________________________________________\n",
            "None\n"
          ],
          "name": "stdout"
        }
      ]
    },
    {
      "cell_type": "code",
      "metadata": {
        "id": "M-NaUi0IlCOR",
        "colab_type": "code",
        "colab": {
          "base_uri": "https://localhost:8080/",
          "height": 1000
        },
        "outputId": "fc591950-c720-48c1-c23b-d4cd9c6e774e"
      },
      "source": [
        "# 모델 학습\n",
        "hist = model.fit(X_data, y_data,\n",
        "                 epochs=100,\n",
        "                 batch_size=300)"
      ],
      "execution_count": 9,
      "outputs": [
        {
          "output_type": "stream",
          "text": [
            "Epoch 1/100\n",
            "4/4 [==============================] - 0s 4ms/step - loss: 297.4055\n",
            "Epoch 2/100\n",
            "4/4 [==============================] - 0s 5ms/step - loss: 210.3023\n",
            "Epoch 3/100\n",
            "4/4 [==============================] - 0s 4ms/step - loss: 136.2816\n",
            "Epoch 4/100\n",
            "4/4 [==============================] - 0s 4ms/step - loss: 73.8180\n",
            "Epoch 5/100\n",
            "4/4 [==============================] - 0s 4ms/step - loss: 28.1745\n",
            "Epoch 6/100\n",
            "4/4 [==============================] - 0s 4ms/step - loss: 3.7600\n",
            "Epoch 7/100\n",
            "4/4 [==============================] - 0s 4ms/step - loss: 5.3227\n",
            "Epoch 8/100\n",
            "4/4 [==============================] - 0s 4ms/step - loss: 11.7490\n",
            "Epoch 9/100\n",
            "4/4 [==============================] - 0s 4ms/step - loss: 8.6679\n",
            "Epoch 10/100\n",
            "4/4 [==============================] - 0s 4ms/step - loss: 3.2016\n",
            "Epoch 11/100\n",
            "4/4 [==============================] - 0s 4ms/step - loss: 1.4094\n",
            "Epoch 12/100\n",
            "4/4 [==============================] - 0s 4ms/step - loss: 1.6920\n",
            "Epoch 13/100\n",
            "4/4 [==============================] - 0s 4ms/step - loss: 1.8485\n",
            "Epoch 14/100\n",
            "4/4 [==============================] - 0s 5ms/step - loss: 1.4756\n",
            "Epoch 15/100\n",
            "4/4 [==============================] - 0s 4ms/step - loss: 1.2866\n",
            "Epoch 16/100\n",
            "4/4 [==============================] - 0s 4ms/step - loss: 1.4015\n",
            "Epoch 17/100\n",
            "4/4 [==============================] - 0s 4ms/step - loss: 1.3008\n",
            "Epoch 18/100\n",
            "4/4 [==============================] - 0s 4ms/step - loss: 1.2699\n",
            "Epoch 19/100\n",
            "4/4 [==============================] - 0s 4ms/step - loss: 1.2624\n",
            "Epoch 20/100\n",
            "4/4 [==============================] - 0s 4ms/step - loss: 1.1668\n",
            "Epoch 21/100\n",
            "4/4 [==============================] - 0s 4ms/step - loss: 1.0835\n",
            "Epoch 22/100\n",
            "4/4 [==============================] - 0s 4ms/step - loss: 1.0581\n",
            "Epoch 23/100\n",
            "4/4 [==============================] - 0s 4ms/step - loss: 1.0308\n",
            "Epoch 24/100\n",
            "4/4 [==============================] - 0s 4ms/step - loss: 1.0173\n",
            "Epoch 25/100\n",
            "4/4 [==============================] - 0s 4ms/step - loss: 0.9909\n",
            "Epoch 26/100\n",
            "4/4 [==============================] - 0s 4ms/step - loss: 0.9579\n",
            "Epoch 27/100\n",
            "4/4 [==============================] - 0s 4ms/step - loss: 0.9348\n",
            "Epoch 28/100\n",
            "4/4 [==============================] - 0s 4ms/step - loss: 0.9193\n",
            "Epoch 29/100\n",
            "4/4 [==============================] - 0s 4ms/step - loss: 0.9115\n",
            "Epoch 30/100\n",
            "4/4 [==============================] - 0s 4ms/step - loss: 0.8974\n",
            "Epoch 31/100\n",
            "4/4 [==============================] - 0s 6ms/step - loss: 0.9071\n",
            "Epoch 32/100\n",
            "4/4 [==============================] - 0s 4ms/step - loss: 0.8708\n",
            "Epoch 33/100\n",
            "4/4 [==============================] - 0s 5ms/step - loss: 0.8209\n",
            "Epoch 34/100\n",
            "4/4 [==============================] - 0s 4ms/step - loss: 0.8111\n",
            "Epoch 35/100\n",
            "4/4 [==============================] - 0s 4ms/step - loss: 0.7499\n",
            "Epoch 36/100\n",
            "4/4 [==============================] - 0s 4ms/step - loss: 0.7740\n",
            "Epoch 37/100\n",
            "4/4 [==============================] - 0s 4ms/step - loss: 0.6952\n",
            "Epoch 38/100\n",
            "4/4 [==============================] - 0s 4ms/step - loss: 0.6639\n",
            "Epoch 39/100\n",
            "4/4 [==============================] - 0s 4ms/step - loss: 0.6255\n",
            "Epoch 40/100\n",
            "4/4 [==============================] - 0s 4ms/step - loss: 0.6090\n",
            "Epoch 41/100\n",
            "4/4 [==============================] - 0s 4ms/step - loss: 0.5830\n",
            "Epoch 42/100\n",
            "4/4 [==============================] - 0s 4ms/step - loss: 0.5648\n",
            "Epoch 43/100\n",
            "4/4 [==============================] - 0s 4ms/step - loss: 0.5212\n",
            "Epoch 44/100\n",
            "4/4 [==============================] - 0s 5ms/step - loss: 0.4476\n",
            "Epoch 45/100\n",
            "4/4 [==============================] - 0s 4ms/step - loss: 0.4259\n",
            "Epoch 46/100\n",
            "4/4 [==============================] - 0s 4ms/step - loss: 0.4057\n",
            "Epoch 47/100\n",
            "4/4 [==============================] - 0s 4ms/step - loss: 0.3920\n",
            "Epoch 48/100\n",
            "4/4 [==============================] - 0s 4ms/step - loss: 0.3756\n",
            "Epoch 49/100\n",
            "4/4 [==============================] - 0s 4ms/step - loss: 0.3793\n",
            "Epoch 50/100\n",
            "4/4 [==============================] - 0s 4ms/step - loss: 0.3489\n",
            "Epoch 51/100\n",
            "4/4 [==============================] - 0s 4ms/step - loss: 0.3410\n",
            "Epoch 52/100\n",
            "4/4 [==============================] - 0s 4ms/step - loss: 0.3455\n",
            "Epoch 53/100\n",
            "4/4 [==============================] - 0s 5ms/step - loss: 0.3435\n",
            "Epoch 54/100\n",
            "4/4 [==============================] - 0s 4ms/step - loss: 0.3226\n",
            "Epoch 55/100\n",
            "4/4 [==============================] - 0s 4ms/step - loss: 0.3085\n",
            "Epoch 56/100\n",
            "4/4 [==============================] - 0s 4ms/step - loss: 0.3097\n",
            "Epoch 57/100\n",
            "4/4 [==============================] - 0s 4ms/step - loss: 0.2960\n",
            "Epoch 58/100\n",
            "4/4 [==============================] - 0s 4ms/step - loss: 0.2930\n",
            "Epoch 59/100\n",
            "4/4 [==============================] - 0s 4ms/step - loss: 0.2921\n",
            "Epoch 60/100\n",
            "4/4 [==============================] - 0s 4ms/step - loss: 0.2952\n",
            "Epoch 61/100\n",
            "4/4 [==============================] - 0s 4ms/step - loss: 0.2836\n",
            "Epoch 62/100\n",
            "4/4 [==============================] - 0s 4ms/step - loss: 0.2840\n",
            "Epoch 63/100\n",
            "4/4 [==============================] - 0s 4ms/step - loss: 0.2702\n",
            "Epoch 64/100\n",
            "4/4 [==============================] - 0s 4ms/step - loss: 0.2596\n",
            "Epoch 65/100\n",
            "4/4 [==============================] - 0s 4ms/step - loss: 0.2595\n",
            "Epoch 66/100\n",
            "4/4 [==============================] - 0s 4ms/step - loss: 0.2711\n",
            "Epoch 67/100\n",
            "4/4 [==============================] - 0s 4ms/step - loss: 0.2514\n",
            "Epoch 68/100\n",
            "4/4 [==============================] - 0s 4ms/step - loss: 0.2454\n",
            "Epoch 69/100\n",
            "4/4 [==============================] - 0s 4ms/step - loss: 0.2591\n",
            "Epoch 70/100\n",
            "4/4 [==============================] - 0s 5ms/step - loss: 0.2554\n",
            "Epoch 71/100\n",
            "4/4 [==============================] - 0s 5ms/step - loss: 0.2326\n",
            "Epoch 72/100\n",
            "4/4 [==============================] - 0s 4ms/step - loss: 0.2260\n",
            "Epoch 73/100\n",
            "4/4 [==============================] - 0s 4ms/step - loss: 0.2245\n",
            "Epoch 74/100\n",
            "4/4 [==============================] - 0s 4ms/step - loss: 0.2170\n",
            "Epoch 75/100\n",
            "4/4 [==============================] - 0s 4ms/step - loss: 0.2153\n",
            "Epoch 76/100\n",
            "4/4 [==============================] - 0s 4ms/step - loss: 0.2097\n",
            "Epoch 77/100\n",
            "4/4 [==============================] - 0s 4ms/step - loss: 0.2070\n",
            "Epoch 78/100\n",
            "4/4 [==============================] - 0s 4ms/step - loss: 0.2046\n",
            "Epoch 79/100\n",
            "4/4 [==============================] - 0s 4ms/step - loss: 0.2050\n",
            "Epoch 80/100\n",
            "4/4 [==============================] - 0s 5ms/step - loss: 0.1998\n",
            "Epoch 81/100\n",
            "4/4 [==============================] - 0s 5ms/step - loss: 0.1966\n",
            "Epoch 82/100\n",
            "4/4 [==============================] - 0s 4ms/step - loss: 0.1964\n",
            "Epoch 83/100\n",
            "4/4 [==============================] - 0s 4ms/step - loss: 0.1969\n",
            "Epoch 84/100\n",
            "4/4 [==============================] - 0s 4ms/step - loss: 0.2117\n",
            "Epoch 85/100\n",
            "4/4 [==============================] - 0s 4ms/step - loss: 0.2244\n",
            "Epoch 86/100\n",
            "4/4 [==============================] - 0s 4ms/step - loss: 0.2061\n",
            "Epoch 87/100\n",
            "4/4 [==============================] - 0s 4ms/step - loss: 0.1892\n",
            "Epoch 88/100\n",
            "4/4 [==============================] - 0s 4ms/step - loss: 0.1828\n",
            "Epoch 89/100\n",
            "4/4 [==============================] - 0s 4ms/step - loss: 0.1814\n",
            "Epoch 90/100\n",
            "4/4 [==============================] - 0s 4ms/step - loss: 0.1797\n",
            "Epoch 91/100\n",
            "4/4 [==============================] - 0s 4ms/step - loss: 0.1790\n",
            "Epoch 92/100\n",
            "4/4 [==============================] - 0s 4ms/step - loss: 0.1821\n",
            "Epoch 93/100\n",
            "4/4 [==============================] - 0s 4ms/step - loss: 0.1869\n",
            "Epoch 94/100\n",
            "4/4 [==============================] - 0s 4ms/step - loss: 0.1802\n",
            "Epoch 95/100\n",
            "4/4 [==============================] - 0s 4ms/step - loss: 0.1744\n",
            "Epoch 96/100\n",
            "4/4 [==============================] - 0s 4ms/step - loss: 0.1731\n",
            "Epoch 97/100\n",
            "4/4 [==============================] - 0s 4ms/step - loss: 0.1699\n",
            "Epoch 98/100\n",
            "4/4 [==============================] - 0s 4ms/step - loss: 0.1694\n",
            "Epoch 99/100\n",
            "4/4 [==============================] - 0s 4ms/step - loss: 0.1655\n",
            "Epoch 100/100\n",
            "4/4 [==============================] - 0s 4ms/step - loss: 0.1650\n"
          ],
          "name": "stdout"
        }
      ]
    },
    {
      "cell_type": "code",
      "metadata": {
        "id": "74824VsVl-bv",
        "colab_type": "code",
        "colab": {
          "base_uri": "https://localhost:8080/",
          "height": 295
        },
        "outputId": "41196d8f-931a-4645-f748-310aaf996073"
      },
      "source": [
        "# plot loss\n",
        "plt.figure(figsize=(8, 4))\n",
        "plt.plot(hist.history['loss'])\n",
        "plt.xlabel('Epochs')\n",
        "plt.ylabel('Train Loss')\n",
        "plt.title('Loss Function')\n",
        "plt.show()"
      ],
      "execution_count": 15,
      "outputs": [
        {
          "output_type": "display_data",
          "data": {
            "image/png": "[encoded data removed]",
            "text/plain": [
              "<Figure size 576x288 with 1 Axes>"
            ]
          },
          "metadata": {
            "tags": [],
            "needs_background": "light"
          }
        }
      ]
    },
    {
      "cell_type": "code",
      "metadata": {
        "id": "YlrWb43AlCMY",
        "colab_type": "code",
        "colab": {
          "base_uri": "https://localhost:8080/",
          "height": 35
        },
        "outputId": "eb602ec4-4adc-4820-aa7f-2344a79f3c5e"
      },
      "source": [
        "# 예측\n",
        "n_future = 20\n",
        "\n",
        "last_data = np.copy(data[-100:])\n",
        "X_pred = np.copy(last_data)\n",
        "estimate = [X_pred[-1]]\n",
        "print(X_pred.shape)"
      ],
      "execution_count": 10,
      "outputs": [
        {
          "output_type": "stream",
          "text": [
            "(100,)\n"
          ],
          "name": "stdout"
        }
      ]
    },
    {
      "cell_type": "code",
      "metadata": {
        "id": "FafOlSHxlroZ",
        "colab_type": "code",
        "colab": {}
      },
      "source": [
        "for _ in range(n_future):\n",
        "    x = X_pred[-n_step:].reshape(-1, n_step, n_feature)\n",
        "    y_hat = model.predict(x)[0][0]\n",
        "    estimate.append(y_hat)\n",
        "    X_pred = np.insert(X_pred, len(X_pred), y_hat)"
      ],
      "execution_count": 12,
      "outputs": []
    },
    {
      "cell_type": "code",
      "metadata": {
        "id": "eAaUHtkflrme",
        "colab_type": "code",
        "colab": {
          "base_uri": "https://localhost:8080/",
          "height": 211
        },
        "outputId": "4c977055-fd1c-4292-e871-9f6ab98ecfce"
      },
      "source": [
        "# plot 예측\n",
        "ax1 = np.arange(1, len(last_data)+1)\n",
        "ax2 = np.arange(len(last_data), len(last_data)+len(estimate))\n",
        "plt.figure(figsize=(8, 3))\n",
        "plt.plot(ax1, last_data, markersize=3, color='blue', label='Original Time Series', linewidth=1)\n",
        "plt.plot(ax2, estimate, markersize=3, color='red', label='Estimated Time Series')\n",
        "plt.axvline(ax1[-1], linestyle='dashed', linewidth=1)\n",
        "plt.legend()\n",
        "plt.show()"
      ],
      "execution_count": 16,
      "outputs": [
        {
          "output_type": "display_data",
          "data": {
            "image/png": "[encoded data removed]",
            "text/plain": [
              "<Figure size 576x216 with 1 Axes>"
            ]
          },
          "metadata": {
            "tags": [],
            "needs_background": "light"
          }
        }
      ]
    },
    {
      "cell_type": "code",
      "metadata": {
        "id": "_OLBu6Iolrkl",
        "colab_type": "code",
        "colab": {}
      },
      "source": [
        ""
      ],
      "execution_count": null,
      "outputs": []
    },
    {
      "cell_type": "code",
      "metadata": {
        "id": "mRV26QJzlrip",
        "colab_type": "code",
        "colab": {}
      },
      "source": [
        ""
      ],
      "execution_count": null,
      "outputs": []
    },
    {
      "cell_type": "code",
      "metadata": {
        "id": "17T5K3Ztlrgq",
        "colab_type": "code",
        "colab": {}
      },
      "source": [
        ""
      ],
      "execution_count": null,
      "outputs": []
    },
    {
      "cell_type": "markdown",
      "metadata": {
        "id": "iVf-cqLXlsJT",
        "colab_type": "text"
      },
      "source": [
        "## 테스트"
      ]
    },
    {
      "cell_type": "code",
      "metadata": {
        "id": "O0Z_1NXBlCKS",
        "colab_type": "code",
        "colab": {
          "base_uri": "https://localhost:8080/",
          "height": 52
        },
        "outputId": "639f7439-b53a-4701-dcd7-c1c649ad1720"
      },
      "source": [
        "for _ in range(n_future):\n",
        "    x = X_pred[-n_step:]\n",
        "    print(x.shape)\n",
        "    x = x.reshape(-1, n_step, n_feature)\n",
        "    print(x.shape)\n",
        "    break"
      ],
      "execution_count": 11,
      "outputs": [
        {
          "output_type": "stream",
          "text": [
            "(20,)\n",
            "(1, 20, 1)\n"
          ],
          "name": "stdout"
        }
      ]
    }
  ]
}