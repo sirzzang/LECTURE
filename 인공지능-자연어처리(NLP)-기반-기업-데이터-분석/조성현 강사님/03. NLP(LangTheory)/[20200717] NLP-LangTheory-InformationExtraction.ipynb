{
  "nbformat": 4,
  "nbformat_minor": 0,
  "metadata": {
    "colab": {
      "name": "[20200717] NLP-Information Extraction.ipynb",
      "provenance": [],
      "collapsed_sections": []
    },
    "kernelspec": {
      "name": "python3",
      "display_name": "Python 3"
    }
  },
  "cells": [
    {
      "cell_type": "code",
      "metadata": {
        "id": "zYi_Y9EgLGRG",
        "colab_type": "code",
        "colab": {}
      },
      "source": [
        "# module import\n",
        "import nltk\n",
        "import re"
      ],
      "execution_count": 3,
      "outputs": []
    },
    {
      "cell_type": "code",
      "metadata": {
        "id": "BYXbJY7ONcvM",
        "colab_type": "code",
        "colab": {
          "base_uri": "https://localhost:8080/",
          "height": 298
        },
        "outputId": "ad86d3bf-27b1-47b2-c039-cd0453df9908"
      },
      "source": [
        "nltk.download('words')\n",
        "nltk.download('nps_chat')\n",
        "nltk.download('treebank')\n",
        "nltk.download('brown')\n",
        "nltk.download('conll2000')\n",
        "nltk.download('maxent_ne_chunker')\n",
        "nltk.download('ieer')"
      ],
      "execution_count": 44,
      "outputs": [
        {
          "output_type": "stream",
          "text": [
            "[nltk_data] Downloading package words to /root/nltk_data...\n",
            "[nltk_data]   Package words is already up-to-date!\n",
            "[nltk_data] Downloading package nps_chat to /root/nltk_data...\n",
            "[nltk_data]   Package nps_chat is already up-to-date!\n",
            "[nltk_data] Downloading package treebank to /root/nltk_data...\n",
            "[nltk_data]   Package treebank is already up-to-date!\n",
            "[nltk_data] Downloading package brown to /root/nltk_data...\n",
            "[nltk_data]   Package brown is already up-to-date!\n",
            "[nltk_data] Downloading package conll2000 to /root/nltk_data...\n",
            "[nltk_data]   Package conll2000 is already up-to-date!\n",
            "[nltk_data] Downloading package maxent_ne_chunker to\n",
            "[nltk_data]     /root/nltk_data...\n",
            "[nltk_data]   Package maxent_ne_chunker is already up-to-date!\n",
            "[nltk_data] Downloading package ieer to /root/nltk_data...\n",
            "[nltk_data]   Unzipping corpora/ieer.zip.\n"
          ],
          "name": "stdout"
        },
        {
          "output_type": "execute_result",
          "data": {
            "text/plain": [
              "True"
            ]
          },
          "metadata": {
            "tags": []
          },
          "execution_count": 44
        }
      ]
    },
    {
      "cell_type": "markdown",
      "metadata": {
        "id": "_z9KkBUhK5Hb",
        "colab_type": "text"
      },
      "source": [
        "# 문서 정보 추출"
      ]
    },
    {
      "cell_type": "markdown",
      "metadata": {
        "id": "ER4uJgIlRSxm",
        "colab_type": "text"
      },
      "source": [
        "## === 구 ==="
      ]
    },
    {
      "cell_type": "markdown",
      "metadata": {
        "id": "EpCbCNT4K8dm",
        "colab_type": "text"
      },
      "source": [
        "### 1. Regular Expression"
      ]
    },
    {
      "cell_type": "code",
      "metadata": {
        "id": "6Na-PR5FNQur",
        "colab_type": "code",
        "colab": {}
      },
      "source": [
        "en_words = nltk.corpus.words.words('en')\n",
        "en_words = [w for w in en_words if w.islower()] # 소문자 단어들만 추출"
      ],
      "execution_count": 4,
      "outputs": []
    },
    {
      "cell_type": "code",
      "metadata": {
        "id": "GmVDj0pSF_d_",
        "colab_type": "code",
        "colab": {
          "base_uri": "https://localhost:8080/",
          "height": 54
        },
        "outputId": "24f61059-593b-4830-8aa9-51da2a1d2be7"
      },
      "source": [
        "# 'ed'로 끝나는 단어\n",
        "v = [w for w in en_words if re.search('ed$', w)] # 단어에서 ed로 끝나는 것 검색\n",
        "print(v[:20])"
      ],
      "execution_count": 5,
      "outputs": [
        {
          "output_type": "stream",
          "text": [
            "['abaissed', 'abandoned', 'abased', 'abashed', 'abatised', 'abed', 'aborted', 'abridged', 'abscessed', 'absconded', 'absorbed', 'abstracted', 'abstricted', 'accelerated', 'accepted', 'accidented', 'accoladed', 'accolated', 'accomplished', 'accosted']\n"
          ],
          "name": "stdout"
        }
      ]
    },
    {
      "cell_type": "code",
      "metadata": {
        "id": "ORb4bV87M19A",
        "colab_type": "code",
        "colab": {
          "base_uri": "https://localhost:8080/",
          "height": 54
        },
        "outputId": "3b02aebd-c1cd-4d90-c7a0-d02fcfd51aab"
      },
      "source": [
        "# 3번째 'j', 6번째 't'가 있는 8글자 단어\n",
        "v = [w for w in en_words if re.search('^..j..t..$', w)]\n",
        "print(v[:20])"
      ],
      "execution_count": 6,
      "outputs": [
        {
          "output_type": "stream",
          "text": [
            "['abjectly', 'adjuster', 'dejected', 'dejectly', 'injector', 'majestic', 'objectee', 'objector', 'rejecter', 'rejector', 'unjilted', 'unjolted', 'unjustly']\n"
          ],
          "name": "stdout"
        }
      ]
    },
    {
      "cell_type": "code",
      "metadata": {
        "id": "WhcPOn_DM167",
        "colab_type": "code",
        "colab": {
          "base_uri": "https://localhost:8080/",
          "height": 34
        },
        "outputId": "26f99ab6-0881-4f61-8fef-d564d237ad4b"
      },
      "source": [
        "# 전화기 문자판 순서\n",
        "v = [w for w in en_words if re.search('^[ghi][mno][jlk][def]$', w)]\n",
        "print(v[:20])"
      ],
      "execution_count": 7,
      "outputs": [
        {
          "output_type": "stream",
          "text": [
            "['gold', 'golf', 'hold', 'hole']\n"
          ],
          "name": "stdout"
        }
      ]
    },
    {
      "cell_type": "code",
      "metadata": {
        "id": "LqzCYV6NM14n",
        "colab_type": "code",
        "colab": {
          "base_uri": "https://localhost:8080/",
          "height": 72
        },
        "outputId": "7c56d50b-9dc1-4698-bafc-c414a6222783"
      },
      "source": [
        "# NPS Chat: 더 다양한 규칙 검색\n",
        "chat_words = sorted(set(w for w in nltk.corpus.nps_chat.words()))\n",
        "v = [w for w in chat_words if re.search('^m+i+n+e+$', w)]\n",
        "print(v[:20])\n",
        "v2 = [w for w in chat_words if re.search('^[ha]+$', w)]\n",
        "print(v2[:20])"
      ],
      "execution_count": 13,
      "outputs": [
        {
          "output_type": "stream",
          "text": [
            "['miiiiiiiiiiiiinnnnnnnnnnneeeeeeeeee', 'miiiiiinnnnnnnnnneeeeeeee', 'mine', 'mmmmmmmmiiiiiiiiinnnnnnnnneeeeeeee']\n",
            "['a', 'aaaaaaaaaaaaaaaaa', 'aaahhhh', 'ah', 'ahah', 'ahahah', 'ahh', 'ahhahahaha', 'ahhh', 'ahhhh', 'ahhhhhh', 'ahhhhhhhhhhhhhh', 'h', 'ha', 'haaa', 'hah', 'haha', 'hahaaa', 'hahah', 'hahaha']\n"
          ],
          "name": "stdout"
        }
      ]
    },
    {
      "cell_type": "markdown",
      "metadata": {
        "id": "vjfv3-JQO7yf",
        "colab_type": "text"
      },
      "source": [
        "이스케이프 문자를 연습해 보자."
      ]
    },
    {
      "cell_type": "code",
      "metadata": {
        "id": "YnQZ0_xaNFbQ",
        "colab_type": "code",
        "colab": {}
      },
      "source": [
        "# Peen Treebank corpus\n",
        "treebank_words = set(nltk.corpus.treebank.words())"
      ],
      "execution_count": 16,
      "outputs": []
    },
    {
      "cell_type": "code",
      "metadata": {
        "id": "qpyYfmujNFZK",
        "colab_type": "code",
        "colab": {
          "base_uri": "https://localhost:8080/",
          "height": 54
        },
        "outputId": "25213ef9-7609-43b3-edd4-24f4dbec8dd4"
      },
      "source": [
        "# 숫자\n",
        "v = [w for w in treebank_words if re.search('^[0-9]+\\.[0-9]+$', w)]\n",
        "print(v[:20])"
      ],
      "execution_count": 17,
      "outputs": [
        {
          "output_type": "stream",
          "text": [
            "['35500.64', '72.7', '1.637', '47.5', '4.8', '7.55', '4.1', '5.2180', '5.4', '11.57', '3.8', '3.6', '734.9', '83.4', '18.6', '5.82', '0.5', '11.5', '1.18', '2.3']\n"
          ],
          "name": "stdout"
        }
      ]
    },
    {
      "cell_type": "code",
      "metadata": {
        "id": "xoxZymgXPlct",
        "colab_type": "code",
        "colab": {
          "base_uri": "https://localhost:8080/",
          "height": 34
        },
        "outputId": "bc29a8dc-aab2-443e-d18a-34324b995d1a"
      },
      "source": [
        "# 통화 표시\n",
        "v = [w for w in treebank_words if re.search('^[A-Z]+\\$$', w)]\n",
        "print(v[:20])"
      ],
      "execution_count": 18,
      "outputs": [
        {
          "output_type": "stream",
          "text": [
            "['C$', 'US$']\n"
          ],
          "name": "stdout"
        }
      ]
    },
    {
      "cell_type": "code",
      "metadata": {
        "id": "VS2zCEXzPvVR",
        "colab_type": "code",
        "colab": {
          "base_uri": "https://localhost:8080/",
          "height": 54
        },
        "outputId": "be6dc76b-9647-46eb-e32e-37151acc99cd"
      },
      "source": [
        "# digit number\n",
        "v = [w for w in treebank_words if re.search('^[0-9]{4}$', w)]\n",
        "print(v[:20])"
      ],
      "execution_count": 19,
      "outputs": [
        {
          "output_type": "stream",
          "text": [
            "['1966', '1953', '1977', '1917', '1971', '1990', '1988', '1985', '1972', '2009', '1991', '2000', '1934', '1993', '1999', '2019', '1903', '1956', '1933', '1981']\n"
          ],
          "name": "stdout"
        }
      ]
    },
    {
      "cell_type": "code",
      "metadata": {
        "id": "TPRxo8kqQAfe",
        "colab_type": "code",
        "colab": {
          "base_uri": "https://localhost:8080/",
          "height": 72
        },
        "outputId": "d95519a4-29e5-40fc-acd9-26ea3c283cac"
      },
      "source": [
        "# '-'는 이스케이프 필요 없음. 소문자 3-5개로 제한.\n",
        "v = [w for w in treebank_words if re.search('^[0-9]+-[a-z]', w)]\n",
        "print(v[:20]) # 차이를 확인하자\n",
        "v2 = [w for w in treebank_words if re.search('^[0-9]+-[a-z]{3,5}', w)]\n",
        "print(v2[:20])"
      ],
      "execution_count": 23,
      "outputs": [
        {
          "output_type": "stream",
          "text": [
            "['45-a-share', '150-point', '100-share', '12-member', '36-store', '21-month', '18-a-share', '50-state', '63-year-old', '11-month-old', '55-a-share', '64-year-old', '10-day', '40-megabyte', '30-year', '17-year-old', '237-seat', '58-year-old', '300-day', '75-year-old']\n",
            "['150-point', '100-share', '12-member', '36-store', '21-month', '50-state', '63-year-old', '11-month-old', '64-year-old', '10-day', '40-megabyte', '30-year', '17-year-old', '237-seat', '58-year-old', '300-day', '75-year-old', '42-year', '90-day', '500-stock']\n"
          ],
          "name": "stdout"
        }
      ]
    },
    {
      "cell_type": "code",
      "metadata": {
        "id": "7yJWFuY8RwYk",
        "colab_type": "code",
        "colab": {
          "base_uri": "https://localhost:8080/",
          "height": 54
        },
        "outputId": "e8afbc0e-e819-4e15-edb6-cbd0c0f5066a"
      },
      "source": [
        "# 영문 소문자 5글자 이상 - 영문 소문자 2글자 이상 3글자 이하 - 영문 소문자 6글자 이하.\n",
        "v = [w for w in treebank_words if re.search('^[a-z]{5,}-[a-z]{2,3}-[a-z]{,6}$', w)]\n",
        "print(v[:20])"
      ],
      "execution_count": 24,
      "outputs": [
        {
          "output_type": "stream",
          "text": [
            "['savings-and-loan', 'bread-and-butter', 'black-and-white', 'father-in-law', 'machine-gun-toting']\n"
          ],
          "name": "stdout"
        }
      ]
    },
    {
      "cell_type": "code",
      "metadata": {
        "id": "6YMO5Y64SJ4i",
        "colab_type": "code",
        "colab": {
          "base_uri": "https://localhost:8080/",
          "height": 54
        },
        "outputId": "7506763f-ebc1-4d1b-89e3-2686662ce1e1"
      },
      "source": [
        "# ed나 ing로 끝나는 단어\n",
        "v = [w for w in treebank_words if re.search('(ed|ing)$', w)]\n",
        "print(v[:20])"
      ],
      "execution_count": 25,
      "outputs": [
        {
          "output_type": "stream",
          "text": [
            "['mixed', 'improved', 'painting', 'agreed', 'eating', 'change-ringing', 'nullified', 'Miami-based', 'collective-bargaining', 'reminded', 'consisting', 'totaling', 'despised', 'duckling', 'headed', 'introducing', 'surrounding', 'Named', 'excited', 'rooted']\n"
          ],
          "name": "stdout"
        }
      ]
    },
    {
      "cell_type": "code",
      "metadata": {
        "id": "JsrvOvqUSXSW",
        "colab_type": "code",
        "colab": {
          "base_uri": "https://localhost:8080/",
          "height": 34
        },
        "outputId": "f2714948-8d72-4dd6-8710-1d35892b174c"
      },
      "source": [
        "# find all\n",
        "word = 'supercalifragilisticexpialidocious'\n",
        "vowels = re.findall(r'[aeiou]', word)\n",
        "print(vowels)"
      ],
      "execution_count": 26,
      "outputs": [
        {
          "output_type": "stream",
          "text": [
            "['u', 'e', 'a', 'i', 'a', 'i', 'i', 'i', 'e', 'i', 'a', 'i', 'o', 'i', 'o', 'u']\n"
          ],
          "name": "stdout"
        }
      ]
    },
    {
      "cell_type": "code",
      "metadata": {
        "id": "B7MMGgHxUdeP",
        "colab_type": "code",
        "colab": {
          "base_uri": "https://localhost:8080/",
          "height": 266
        },
        "outputId": "5961643d-1057-4a83-c259-e4ac853b6f29"
      },
      "source": [
        "# 모음 조합 많은 순서로 빈도 표시\n",
        "\n",
        "# for w in treebank_words:\n",
        "#     for v in re.findall(r'[aeiou]{2,}', w):\n",
        "#         print(v)\n",
        "\n",
        "vowels = [v for w in treebank_words for v in re.findall(r'[aeiou]{2,}', w)]\n",
        "print(vowels)\n",
        "fd = nltk.FreqDist(vowels)\n",
        "fd.most_common(12)"
      ],
      "execution_count": 35,
      "outputs": [
        {
          "output_type": "stream",
          "text": [
            "['ea', 'ai', 'oo', 'ua', 'ue', 'ea', 'ea', 'ie', 'io', 'oa', 'ai', 'ee', 'ea', 'ua', 'ia', 'ea', 'ea', 'ee', 'ie', 'ea', 'ia', 'ai', 'ai', 'ea', 'ue', 'ea', 'ie', 'io', 'ai', 'ea', 'ui', 'ea', 'ua', 'ai', 'ia', 'ea', 'ou', 'oo', 'ia', 'ie', 'oo', 'ee', 'ai', 'ie', 'ou', 'ea', 'uie', 'ie', 'ee', 'oe', 'io', 'oa', 'oo', 'iu', 'io', 'ea', 'oi', 'ea', 'ea', 'ie', 'ee', 'io', 'ie', 'ou', 'oei', 'ua', 'ea', 'io', 'ue', 'ua', 'oo', 'eo', 'ie', 'ui', 'au', 'eo', 'ou', 'ou', 'io', 'ou', 'ee', 'oa', 'uou', 'ie', 'ai', 'ea', 'ua', 'ai', 'ia', 'ie', 'ou', 'ea', 'ea', 'ai', 'au', 'io', 'ou', 'au', 'iu', 'ai', 'ou', 'ea', 'ie', 'ea', 'io', 'aia', 'oo', 'ea', 'ee', 'ea', 'ou', 'ia', 'eu', 'oi', 'ie', 'ou', 'ua', 'ea', 'ou', 'ea', 'ea', 'ee', 'ia', 'ea', 'oi', 'oe', 'ea', 'ou', 'ua', 'ea', 'io', 'ei', 'oa', 'ou', 'ea', 'ia', 'ie', 'ai', 'ui', 'ea', 'ie', 'ie', 'io', 'ei', 'ue', 'ou', 'ea', 'ue', 'io', 'io', 'io', 'ee', 'ea', 'ea', 'iou', 'io', 'ea', 'ie', 'ee', 'oo', 'ea', 'ia', 'ou', 'io', 'ai', 'oa', 'ee', 'eu', 'ee', 'ua', 'io', 'oo', 'ia', 'io', 'io', 'ea', 'ao', 'ea', 'oo', 'ea', 'oa', 'io', 'ie', 'ia', 'ie', 'ie', 'ea', 'io', 'io', 'ee', 'ai', 'ou', 'ou', 'ou', 'oi', 'ou', 'ei', 'oo', 'io', 'ie', 'io', 'oo', 'aii', 'ue', 'ea', 'ei', 'ie', 'ea', 'ai', 'ea', 'ie', 'ia', 'ue', 'io', 'ai', 'ui', 'ea', 'au', 'io', 'ea', 'ea', 'oo', 'ai', 'ie', 'ou', 'ui', 'ie', 'au', 'ou', 'ai', 'ea', 'ai', 'ei', 'ai', 'io', 'iu', 'io', 'oo', 'io', 'ou', 'ea', 'io', 'oi', 'io', 'ea', 'io', 'ie', 'io', 'ie', 'ie', 'ia', 'ie', 'io', 'io', 'ai', 'ea', 'ie', 'oui', 'ie', 'oo', 'ee', 'ua', 'io', 'ea', 'ai', 'ie', 'ia', 'ie', 'oo', 'ea', 'io', 'ea', 'oa', 'ea', 'io', 'ee', 'ea', 'io', 'io', 'io', 'ea', 'oo', 'ea', 'ei', 'ie', 'io', 'ai', 'ea', 'ie', 'ua', 'io', 'io', 'ea', 'ai', 'io', 'ui', 'ai', 'ua', 'ou', 'ea', 'oi', 'oo', 'ia', 'io', 'ie', 'ee', 'ea', 'ee', 'au', 'ai', 'ua', 'ee', 'ai', 'ea', 'ie', 'ea', 'ia', 'ea', 'oo', 'ia', 'ei', 'ea', 'ie', 'eu', 'ie', 'ea', 'ie', 'ou', 'iou', 'ie', 'ea', 'ia', 'au', 'ua', 'ea', 'ou', 'ua', 'ai', 'ie', 'ia', 'eu', 'ia', 'io', 'ea', 'io', 'ai', 'ei', 'ea', 'ai', 'eo', 'ea', 'ee', 'ee', 'ie', 'ue', 'ie', 'io', 'ai', 'ou', 'ei', 'ai', 'ei', 'ie', 'ia', 'ou', 'ou', 'io', 'ie', 'io', 'oo', 'io', 'ee', 'io', 'ou', 'ie', 'ie', 'oi', 'ea', 'ea', 'ie', 'ua', 'ia', 'io', 'oa', 'ue', 'ee', 'io', 'ee', 'ea', 'ea', 'ea', 'ia', 'oo', 'io', 'ui', 'ou', 'ea', 'ia', 'io', 'oo', 'ou', 'ueui', 'io', 'ai', 'ai', 'ai', 'ea', 'io', 'oo', 'ee', 'au', 'ou', 'ea', 'ui', 'ie', 'io', 'ou', 'ea', 'oi', 'ou', 'io', 'ia', 'ei', 'oo', 'oo', 'io', 'ou', 'ea', 'oo', 'ai', 'ie', 'ou', 'io', 'ua', 'io', 'uee', 'io', 'ea', 'ao', 'ou', 'ea', 'ui', 'oi', 'ou', 'ui', 'ee', 'ee', 'ia', 'ia', 'io', 'ue', 'au', 'ie', 'oo', 'io', 'ou', 'ie', 'ea', 'ia', 'au', 'iou', 'ia', 'ea', 'ie', 'ua', 'oa', 'ee', 'ai', 'ai', 'ie', 'ue', 'ai', 'ai', 'oo', 'ea', 'ia', 'io', 'ia', 'ie', 'ui', 'io', 'ea', 'io', 'ai', 'ie', 'io', 'oo', 'eo', 'ee', 'oo', 'io', 'ea', 'au', 'ea', 'ou', 'ai', 'oi', 'ea', 'ie', 'au', 'ua', 'io', 'ai', 'ea', 'ee', 'oa', 'ua', 'ea', 'oo', 'ee', 'ai', 'ee', 'ua', 'ou', 'ie', 'au', 'io', 'oo', 'ee', 'eau', 'ou', 'oi', 'io', 'ia', 'ea', 'ou', 'ai', 'ai', 'ie', 'oo', 'ea', 'ea', 'ie', 'au', 'io', 'ou', 'io', 'ie', 'ao', 'ee', 'io', 'iou', 'oi', 'ai', 'oo', 'ia', 'ie', 'ou', 'oo', 'ai', 'eo', 'ue', 'ia', 'io', 'ea', 'ia', 'io', 'oo', 'io', 'ai', 'ia', 'ee', 'ie', 'oe', 'oa', 'ia', 'io', 'ue', 'ie', 'io', 'ui', 'ai', 'ou', 'ea', 'iu', 'iao', 'ee', 'ea', 'io', 'ea', 'ou', 'ia', 'ea', 'ou', 'ee', 'ie', 'ee', 'ai', 'io', 'ou', 'io', 'iou', 'ou', 'io', 'ai', 'ie', 'oa', 'ee', 'ie', 'ou', 'ua', 'ee', 'io', 'ei', 'eo', 'io', 'ai', 'io', 'ai', 'ea', 'io', 'ie', 'ou', 'eei', 'ua', 'ui', 'ia', 'io', 'ai', 'ia', 'io', 'ai', 'ue', 'io', 'oi', 'oo', 'ou', 'ie', 'ea', 'ua', 'ou', 'ea', 'io', 'ue', 'io', 'ie', 'oi', 'io', 'ue', 'ou', 'io', 'ou', 'io', 'ia', 'ia', 'ou', 'ai', 'ea', 'iou', 'ai', 'ee', 'ia', 'au', 'ou', 'ua', 'ai', 'ou', 'ie', 'ea', 'eu', 'oi', 'ea', 'ea', 'ie', 'ea', 'ia', 'io', 'ea', 'ai', 'ai', 'ei', 'ai', 'io', 'io', 'ea', 'ia', 'ei', 'io', 'io', 'io', 'ou', 'io', 'ai', 'ea', 'oi', 'ia', 'ia', 'ea', 'io', 'ue', 'oo', 'ou', 'ea', 'ie', 'iou', 'ua', 'io', 'ea', 'ae', 'ie', 'io', 'io', 'ie', 'ea', 'oo', 'ea', 'oo', 'ea', 'oi', 'ea', 'ie', 'ia', 'ea', 'oo', 'ea', 'io', 'ou', 'ea', 'eau', 'io', 'ia', 'io', 'ee', 'io', 'io', 'io', 'ia', 'ea', 'ou', 'ai', 'oo', 'ea', 'ou', 'ua', 'ee', 'ea', 'ie', 'oa', 'ai', 'ie', 'ea', 'ai', 'ie', 'ee', 'ea', 'ai', 'io', 'ie', 'ua', 'ou', 'ea', 'ua', 'ie', 'io', 'io', 'ou', 'ou', 'io', 'ou', 'ua', 'ao', 'ie', 'oa', 'ee', 'ee', 'oi', 'ai', 'ea', 'ie', 'ai', 'io', 'ie', 'ea', 'ee', 'iu', 'ia', 'ea', 'ua', 'oo', 'ea', 'ee', 'ea', 'oa', 'ee', 'ie', 'ea', 'ei', 'ee', 'ua', 'ee', 'ai', 'ee', 'ie', 'oo', 'ea', 'ea', 'oo', 'ia', 'ia', 'io', 'ou', 'ee', 'oo', 'ea', 'io', 'ou', 'io', 'io', 'iou', 'oo', 'ei', 'ou', 'ia', 'ea', 'ou', 'io', 'ai', 'ea', 'eu', 'io', 'ee', 'ee', 'ee', 'ea', 'ou', 'ou', 'ou', 'ie', 'ou', 'ui', 'ie', 'ia', 'ea', 'oo', 'ou', 'ou', 'ee', 'ee', 'ea', 'ea', 'ai', 'ia', 'ia', 'io', 'ai', 'au', 'ou', 'ie', 'ai', 'ai', 'ua', 'ai', 'ee', 'ou', 'ee', 'ee', 'io', 'ou', 'ui', 'ai', 'io', 'ue', 'ea', 'ea', 'io', 'ea', 'ei', 'ee', 'ue', 'io', 'ea', 'ie', 'ou', 'ee', 'ue', 'ee', 'ai', 'ea', 'io', 'ee', 'oa', 'ie', 'io', 'ou', 'ea', 'ea', 'ea', 'ea', 'ee', 'ua', 'au', 'io', 'eo', 'ue', 'ia', 'ia', 'ee', 'ou', 'oi', 'ie', 'ie', 'oi', 'ue', 'io', 'ie', 'ea', 'ai', 'ou', 'oe', 'ea', 'io', 'ei', 'io', 'ou', 'io', 'ai', 'au', 'iou', 'ou', 'ei', 'ai', 'io', 'ie', 'io', 'iou', 'ea', 'io', 'ou', 'ou', 'io', 'ea', 'ea', 'ue', 'ai', 'eo', 'oi', 'ua', 'io', 'au', 'ea', 'ai', 'ea', 'io', 'ou', 'ua', 'ea', 'ue', 'ie', 'ea', 'ou', 'ie', 'ua', 'oo', 'ie', 'io', 'ia', 'ie', 'ea', 'ia', 'io', 'ie', 'io', 'ia', 'ei', 'ie', 'ai', 'ie', 'ai', 'ia', 'ea', 'ee', 'oo', 'ea', 'ue', 'ee', 'eo', 'ia', 'oo', 'ea', 'ou', 'ou', 'ei', 'ea', 'ue', 'oi', 'ou', 'ai', 'ui', 'ua', 'eo', 'au', 'ie', 'oa', 'ai', 'oi', 'ia', 'oa', 'ai', 'ea', 'io', 'ie', 'ee', 'ui', 'ou', 'oo', 'ea', 'ea', 'ai', 'ia', 'ai', 'ie', 'ea', 'ae', 'ie', 'ie', 'ee', 'ie', 'io', 'ia', 'ia', 'ia', 'ea', 'ea', 'oe', 'io', 'io', 'ue', 'ai', 'ei', 'ia', 'ie', 'ie', 'io', 'ia', 'io', 'ui', 'io', 'ui', 'ea', 'ia', 'ou', 'ea', 'io', 'ea', 'iu', 'io', 'ie', 'ou', 'oo', 'ea', 'ie', 'oo', 'io', 'iu', 'eo', 'io', 'ue', 'ia', 'oi', 'io', 'ou', 'oo', 'io', 'ea', 'ua', 'ia', 'ui', 'oo', 'ea', 'ea', 'ie', 'io', 'ui', 'ea', 'ea', 'oo', 'ou', 'ai', 'ei', 'ue', 'ai', 'io', 'io', 'ia', 'au', 'ea', 'oe', 'io', 'ea', 'ou', 'ou', 'ea', 'ai', 'ai', 'ai', 'ia', 'ou', 'ai', 'ua', 'oi', 'ie', 'ou', 'ou', 'oo', 'ia', 'ea', 'ia', 'ea', 'ou', 'ai', 'ea', 'ou', 'ia', 'io', 'ai', 'io', 'ei', 'ou', 'ui', 'ee', 'oi', 'ou', 'ou', 'ia', 'io', 'ea', 'oi', 'ou', 'ia', 'ie', 'oo', 'ai', 'ea', 'oa', 'io', 'io', 'ou', 'ei', 'ea', 'ie', 'ou', 'io', 'io', 'ie', 'io', 'io', 'ai', 'ue', 'oo', 'ua', 'ai', 'ue', 'io', 'ee', 'ee', 'ea', 'ea', 'ia', 'ou', 'au', 'ei', 'oa', 'ie', 'ia', 'ie', 'ee', 'ia', 'oo', 'ie', 'ua', 'ie', 'io', 'iou', 'ai', 'eu', 'ie', 'uo', 'ee', 'ie', 'ie', 'io', 'ia', 'ieu', 'ai', 'oa', 'ee', 'au', 'ia', 'ie', 'ua', 'ia', 'uou', 'io', 'ia', 'ou', 'ea', 'ea', 'ea', 'ou', 'ia', 'ai', 'ie', 'eo', 'ia', 'ia', 'iou', 'ee', 'ei', 'ai', 'iu', 'ee', 'ia', 'io', 'ai', 'ee', 'ee', 'ue', 'oe', 'io', 'ea', 'aa', 'aa', 'ia', 'ie', 'ui', 'io', 'ee', 'ai', 'ia', 'ea', 'ou', 'ai', 'eo', 'ue', 'ee', 'ou', 'ie', 'ei', 'ie', 'ee', 'ia', 'ee', 'ea', 'ai', 'iou', 'ie', 'ie', 'ee', 'ou', 'ie', 'ea', 'ai', 'ai', 'ee', 'io', 'au', 'io', 'eu', 'ie', 'io', 'ue', 'io', 'oa', 'ue', 'ai', 'ei', 'ai', 'ia', 'ua', 'io', 'ia', 'oo', 'oa', 'ia', 'io', 'oo', 'oo', 'io', 'io', 'ue', 'io', 'io', 'ea', 'ea', 'ia', 'ie', 'ee', 'ie', 'ea', 'ei', 'ee', 'io', 'ea', 'ia', 'ee', 'ua', 'ia', 'ui', 'ai', 'ea', 'oo', 'ea', 'ea', 'ie', 'ui', 'ee', 'ea', 'oo', 'ou', 'au', 'ie', 'ou', 'ie', 'ua', 'ue', 'io', 'ea', 'ai', 'ie', 'ee', 'ou', 'oo', 'ea', 'ai', 'ea', 'ie', 'io', 'ou', 'ai', 'ie', 'ee', 'ia', 'ee', 'ea', 'io', 'oi', 'io', 'ea', 'ie', 'ea', 'ie', 'ea', 'ea', 'ie', 'ee', 'ee', 'oa', 'ua', 'ua', 'ue', 'ua', 'ou', 'ie', 'io', 'ua', 'ie', 'ou', 'ui', 'iou', 'au', 'ui', 'ai', 'ua', 'ea', 'ea', 'ei', 'eo', 'ou', 'ie', 'ie', 'ai', 'ai', 'ea', 'oa', 'au', 'io', 'oa', 'io', 'oo', 'ie', 'io', 'oi', 'oa', 'io', 'io', 'ia', 'oo', 'oo', 'ou', 'ea', 'ia', 'ea', 'eau', 'ou', 'ai', 'ia', 'ee', 'oo', 'ie', 'oa', 'au', 'ea', 'oo', 'ui', 'ou', 'ee', 'oi', 'ai', 'au', 'io', 'io', 'ou', 'ou', 'ie', 'ee', 'ie', 'ou', 'ia', 'ei', 'ou', 'ea', 'ie', 'ee', 'iou', 'ou', 'au', 'ia', 'ai', 'ai', 'oi', 'ou', 'au', 'io', 'ua', 'ee', 'ou', 'ue', 'ie', 'ai', 'ae', 'ae', 'ai', 'ei', 'ou', 'ee', 'ea', 'io', 'ia', 'ou', 'io', 'ui', 'ea', 'oo', 'ua', 'ue', 'ue', 'oi', 'ee', 'io', 'ia', 'io', 'ou', 'oo', 'io', 'oi', 'ie', 'ie', 'ea', 'ou', 'ie', 'ou', 'io', 'ie', 'ai', 'ui', 'ea', 'ue', 'ai', 'ue', 'ie', 'ea', 'eo', 'ie', 'oi', 'ia', 'ei', 'au', 'au', 'ia', 'ou', 'io', 'ou', 'ea', 'ui', 'ia', 'ua', 'io', 'ea', 'oo', 'ia', 'ee', 'oo', 'ie', 'au', 'io', 'ou', 'ea', 'ea', 'io', 'ie', 'oa', 'ei', 'ou', 'ue', 'ou', 'ee', 'io', 'au', 'ee', 'io', 'ai', 'ua', 'ou', 'ou', 'eo', 'ia', 'ou', 'ai', 'ia', 'ai', 'ea', 'oa', 'ea', 'io', 'ie', 'ea', 'ia', 'ai', 'ui', 'ie', 'ie', 'oi', 'ai', 'au', 'ua', 'ai', 'ea', 'au', 'iou', 'ea', 'oo', 'ie', 'ou', 'ou', 'ou', 'ai', 'ie', 'ua', 'ou', 'io', 'ea', 'oe', 'io', 'uo', 'ea', 'ia', 'ui', 'oa', 'ue', 'ou', 'ieu', 'ee', 'oi', 'ue', 'oo', 'ou', 'ui', 'io', 'ue', 'io', 'io', 'ea', 'ee', 'io', 'ie', 'oo', 'ea', 'ea', 'io', 'ea', 'io', 'ie', 'ie', 'ou', 'io', 'iou', 'io', 'ei', 'ai', 'ai', 'ei', 'eu', 'ia', 'ea', 'ie', 'oo', 'io', 'oo', 'ai', 'ia', 'ai', 'ie', 'oo', 'ou', 'ie', 'ea', 'ai', 'ou', 'au', 'ie', 'ou', 'ai', 'ua', 'ai', 'ea', 'ou', 'ea', 'ou', 'oa', 'ia', 'ia', 'io', 'io', 'oa', 'ea', 'ue', 'io', 'eo', 'ia', 'io', 'ue', 'ai', 'ea', 'ou', 'ia', 'ea', 'ee', 'ee', 'uou', 'ea', 'ea', 'eo', 'io', 'ie', 'ie', 'ou', 'ou', 'ea', 'ia', 'ie', 'ea', 'oa', 'ue', 'io', 'oo', 'ee', 'ou', 'oo', 'ai', 'ie', 'ia', 'ea', 'ea', 'iu', 'ia', 'ea', 'au', 'ue', 'ei', 'eo', 'ai', 'iou', 'ua', 'ui', 'ai', 'ua', 'ou', 'ou', 'ea', 'ai', 'ie', 'ai', 'io', 'ou', 'ea', 'ou', 'ui', 'ai', 'io', 'ia', 'ie', 'ui', 'ua', 'io', 'ia', 'oo', 'ie', 'ee', 'au', 'ue', 'io', 'ue', 'ue', 'ou', 'eau', 'ea', 'ou', 'ei', 'ou', 'oo', 'io', 'ia', 'ou', 'ie', 'ai', 'ia', 'io', 'au', 'ui', 'oa', 'ee', 'ou', 'oo', 'ai', 'ou', 'ue', 'ia', 'ua', 'ia', 'io', 'ou', 'io', 'aiia', 'oo', 'ia', 'io', 'ou', 'ua', 'ou', 'oa', 'ee', 'ee', 'ou', 'io', 'io', 'ee', 'ea', 'ia', 'ea', 'ee', 'ea', 'ia', 'ia', 'ou', 'ia', 'ea', 'io', 'ou', 'oi', 'ou', 'au', 'io', 'ie', 'io', 'ui', 'io', 'oo', 'ee', 'ia', 'ie', 'ua', 'ou', 'ea', 'io', 'ue', 'ai', 'ie', 'ou', 'ee', 'ea', 'ee', 'oo', 'eau', 'ue', 'io', 'ue', 'oo', 'oe', 'iu', 'io', 'au', 'ea', 'ue', 'io', 'ua', 'io', 'io', 'ea', 'ea', 'ea', 'ei', 'ai', 'eau', 'ee', 'ie', 'ai', 'au', 'ie', 'ea', 'ie', 'io', 'oo', 'io', 'ou', 'oo', 'ei', 'io', 'eau', 'ei', 'ea', 'ai', 'ui', 'ie', 'ia', 'oo', 'ue', 'ou', 'ie', 'io', 'ou', 'ie', 'au', 'ua', 'ee', 'ia', 'eo', 'ea', 'ee', 'ea', 'ai', 'io', 'oo', 'ui', 'io', 'ue', 'ee', 'io', 'ea', 'ee', 'ui', 'io', 'ea', 'ie', 'ue', 'ea', 'io', 'ui', 'ou', 'ai', 'io', 'ai', 'ie', 'ui', 'ea', 'ea', 'ue', 'ia', 'ou', 'ou', 'au', 'ie', 'ea', 'ou', 'oo', 'ou', 'io', 'ie', 'ou', 'oe', 'ie', 'io', 'io', 'ou', 'eou', 'ou', 'io', 'ai', 'ee', 'io', 'iu', 'ie', 'oo', 'ia', 'io', 'ie', 'io', 'oo', 'ie', 'ui', 'eo', 'ia', 'io', 'ea', 'ai', 'ea', 'io', 'ui', 'ai', 'ie', 'ie', 'io', 'ai', 'ea', 'ue', 'ea', 'ea', 'eu', 'ia', 'ue', 'au', 'ea', 'eu', 'ae', 'ia', 'oa', 'ei', 'ee', 'ia', 'ea', 'ia', 'io', 'ieu', 'io', 'ie', 'ie', 'ee', 'ui', 'oo', 'ea', 'uee', 'oui', 'ia', 'io', 'ui', 'au', 'ie', 'ou', 'ia', 'ai', 'ai', 'ia', 'iou', 'ee', 'ua', 'io', 'uie', 'ue', 'ea', 'au', 'ie', 'oo', 'ou', 'io', 'eo', 'ie', 'oo', 'ai', 'ia', 'ue', 'ie', 'ia', 'ea', 'ui', 'ea', 'ie', 'io', 'oui', 'au', 'ie', 'io', 'ao', 'au', 'oo', 'ue', 'ou', 'ee', 'ie', 'io', 'iu', 'ea', 'io', 'ia', 'io', 'ou', 'ia', 'ea', 'io', 'ie', 'ei', 'ui', 'ua', 'oa', 'ie', 'io', 'au', 'io', 'io', 'ia', 'ou', 'io', 'ai', 'io', 'ui', 'ae', 'ea', 'ia', 'io', 'io', 'io', 'ia', 'ea', 'oo', 'ai', 'ee', 'oo', 'ia', 'ee', 'ai', 'io', 'ea', 'ia', 'ea', 'io', 'io', 'ei', 'ea', 'ua', 'eea', 'io', 'io', 'io', 'ai', 'ee', 'ia', 'ia', 'ei', 'ue', 'ai', 'ou', 'eo', 'ou', 'io', 'ee', 'ai', 'ea', 'ea', 'ie', 'oa', 'uo', 'io', 'ee', 'oa', 'au', 'io', 'ea', 'ee', 'ai', 'ee', 'ao', 'oi', 'io', 'ea', 'ie', 'ea', 'ou', 'ou', 'io', 'ea', 'io', 'ea', 'ie', 'oi', 'io', 'ai', 'oo', 'ui', 'eu', 'ee', 'ie', 'oo', 'ai', 'eo', 'ia', 'oo', 'ee', 'oo', 'oo', 'au', 'ea', 'ou', 'ae', 'ie', 'ea', 'io', 'ee', 'ee', 'ai', 'ia', 'au', 'ea', 'ie', 'ia', 'iou', 'io', 'ia', 'ai', 'io', 'ia', 'ea', 'ie', 'ia', 'ou', 'io', 'ou', 'ee', 'io', 'ea', 'ei', 'oo', 'io', 'uo', 'ea', 'ua', 'uo', 'ou', 'au', 'ea', 'oo', 'ea', 'ou', 'ie', 'ea', 'ie', 'ea', 'ou', 'io', 'eo', 'ou', 'ea', 'ee', 'oo', 'ou', 'io', 'ui', 'ea', 'ee', 'ei', 'io', 'ui', 'io', 'ai', 'ie', 'ua', 'ou', 'ou', 'oo', 'ea', 'ei', 'ia', 'io', 'ua', 'ia', 'oi', 'ia', 'ua', 'ea', 'ou', 'ai', 'io', 'oa', 'au', 'oo', 'au', 'eo', 'ee', 'io', 'ai', 'ia', 'io', 'ie', 'ea', 'ua', 'io', 'ia', 'ea', 'io', 'ei', 'ua', 'io', 'ua', 'ee', 'ie', 'io', 'ua', 'ea', 'ou', 'iou', 'io', 'au', 'ea', 'io', 'ee', 'io', 'ui', 'ai', 'ei', 'io', 'ea', 'io', 'ea', 'io', 'oe', 'ai', 'ue', 'ou', 'ie', 'eou', 'ia', 'io', 'oo', 'ie', 'ee', 'io', 'ua', 'io', 'eo', 'ia', 'ai', 'ou', 'ia', 'io', 'io', 'ea', 'ue', 'io', 'ie', 'oe', 'ee', 'ia', 'au', 'oo', 'ea', 'ee', 'ea', 'ia', 'ou', 'ei', 'ua', 'ai', 'oo', 'oo', 'ou', 'ea', 'ie', 'oo', 'au', 'io', 'ua', 'ee', 'ou', 'ie', 'ea', 'io', 'ui', 'ei', 'oo', 'ou', 'ee', 'au', 'io', 'ee', 'oo', 'ea', 'oo', 'oo', 'ea', 'io', 'ui', 'ia', 'ee', 'ua', 'au', 'ue', 'ee', 'oo', 'io', 'ee', 'ea', 'ua', 'ui', 'io', 'ou', 'io', 'ie', 'ia', 'ie', 'ua', 'io', 'au', 'ae', 'ea', 'ou', 'ou', 'ia', 'ie', 'eu', 'io', 'ie', 'ie', 'ui', 'oa', 'ou', 'ea', 'oe', 'ie', 'io', 'ea', 'io', 'ia', 'io', 'ue', 'io', 'io', 'au', 'io', 'io', 'ai', 'ea', 'io', 'ai', 'eu', 'ia', 'ea', 'oo', 'io', 'ou', 'oa', 'ee', 'io', 'ea', 'ie', 'au', 'ia', 'ai', 'eau', 'io', 'io', 'ea', 'ie', 'oo', 'ie', 'ou', 'ea', 'ie', 'ea', 'ui', 'ia', 'ea', 'ui', 'ou', 'ia', 'ue', 'ea', 'io', 'ui', 'ea', 'oo', 'ou', 'ou', 'ei', 'ei', 'uou', 'ia', 'ea', 'ui', 'io', 'ua', 'ia', 'oi', 'ie', 'ui', 'ei', 'ee', 'ie', 'ee', 'ie', 'ie', 'ea', 'io', 'ue', 'io', 'oo', 'ee', 'oo', 'oo', 'ai', 'ia', 'ai', 'ea', 'ie', 'ia', 'ue', 'ia', 'io', 'io', 'oi', 'ui', 'ou', 'ai', 'au', 'ui', 'ee', 'ou', 'eou', 'ie', 'ia', 'io', 'io', 'io', 'ai', 'io', 'ai', 'ie', 'ie', 'ie', 'ou', 'ea', 'ou', 'ee', 'ai', 'oa', 'oui', 'ia', 'ou', 'ie', 'oo', 'io', 'io', 'ou', 'au', 'io', 'io', 'io', 'aa', 'ai', 'ua', 'au', 'au', 'io', 'ee', 'ea', 'au', 'ui', 'ee', 'ie', 'ia', 'io', 'ia', 'ia', 'ea', 'ie', 'ea', 'io', 'ea', 'io', 'io', 'ie', 'io', 'ua', 'ie', 'ai', 'ee', 'ai', 'io', 'eau', 'ie', 'ou', 'ou', 'oo', 'ia', 'ai', 'oui', 'au', 'ie', 'io', 'ea', 'ai', 'ei', 'io', 'io', 'au', 'io', 'ou', 'ee', 'eei', 'ou', 'ui', 'ia', 'ie', 'io', 'io', 'ai', 'ee', 'ie', 'eo', 'oi', 'io', 'ea', 'ie', 'ai', 'ei', 'ea', 'io', 'io', 'ie', 'ie', 'ai', 'au', 'ua', 'ea', 'oo', 'ea', 'ui', 'io', 'io', 'ei', 'ai', 'io', 'ea', 'ai', 'ai', 'io', 'ea', 'ee', 'oo', 'oo', 'io', 'ia', 'ou', 'au', 'ai', 'io', 'io', 'ai', 'ua', 'ee', 'iou', 'ui', 'io', 'ou', 'ui', 'io', 'io', 'ee', 'ue', 'ea', 'io', 'ia', 'io', 'au', 'ea', 'ou', 'ea', 'ee', 'io', 'oo', 'ou', 'ea', 'ie', 'ea', 'ea', 'oo', 'io', 'io', 'io', 'ie', 'ei', 'ea', 'io', 'uee', 'ai', 'ue', 'ie', 'ea', 'ee', 'ou', 'ui', 'ai', 'ui', 'ea', 'ou', 'oo', 'ou', 'ou', 'ia', 'io', 'ea', 'ue', 'ou', 'ie', 'ea', 'io', 'ui', 'ie', 'ie', 'ia', 'ou', 'ea', 'ou', 'uu', 'ai', 'ai', 'io', 'ui', 'io', 'oi', 'ea', 'ea', 'ia', 'ou', 'ia', 'ue', 'ee', 'oa', 'io', 'au', 'io', 'ui', 'io', 'io', 'ea', 'io', 'ou', 'ou', 'ea', 'ea', 'eo', 'ea', 'ai', 'oo', 'ee', 'oa', 'io', 'uie', 'io', 'ai', 'ia', 'io', 'ia', 'ee', 'ie', 'ee', 'ea', 'ua', 'ie', 'ie', 'ea', 'io', 'ai', 'oo', 'ou', 'ou', 'ou', 'ea', 'oo', 'ia', 'ia', 'ou', 'ue', 'ie', 'eo', 'ie', 'io', 'ie', 'io', 'ai', 'ou', 'oo', 'ou', 'ai', 'ai', 'io', 'io', 'ou', 'oo', 'ea', 'oa', 'ie', 'ia', 'oo', 'ie', 'ai', 'io', 'io', 'ai', 'io', 'ea', 'ee', 'io', 'ea', 'ui', 'io', 'io', 'au', 'io', 'oui', 'ai', 'ai', 'oi', 'ai', 'ou', 'ioa', 'ai', 'ou', 'ia', 'ie', 'io', 'ia', 'ea', 'io', 'ea', 'ee', 'ia', 'au', 'iou', 'ea', 'ea', 'ia', 'io', 'ie', 'ia', 'ea', 'iou', 'ie', 'ia', 'ue', 'io', 'io', 'oi', 'io', 'eau', 'ea', 'ie', 'au', 'ie', 'ie', 'ea', 'ee', 'ua', 'io', 'io', 'io', 'oo', 'eou', 'eo', 'io', 'ei', 'ea', 'ou', 'ee', 'ou', 'ia', 'ea', 'ua', 'ea', 'ie', 'ie', 'io', 'io', 'ia', 'ee', 'oo', 'io', 'ee', 'ou', 'ia', 'ue', 'oo', 'ou', 'au', 'ou', 'ua', 'au', 'oo', 'io', 'ai', 'oa', 'ee', 'ea', 'ei', 'oi', 'ee', 'ie', 'ai', 'ie', 'ou', 'io', 'ai', 'au', 'eu', 'ie', 'ou', 'io', 'io', 'io', 'ia', 'oi', 'oo', 'iu', 'ai', 'ea', 'ea', 'ua', 'io', 'ei', 'oo', 'ou', 'au', 'ui', 'oi', 'io', 'ou', 'ea', 'oa', 'ie', 'ie', 'uee', 'ee', 'oo', 'io', 'oa', 'ea', 'ua', 'ie', 'io', 'ou', 'io', 'ee', 'ue', 'oi', 'ue', 'ie', 'ia', 'ee', 'io', 'ai', 'io', 'oo', 'ea', 'ee', 'ai', 'ia', 'ou', 'ea', 'ea', 'ei', 'ea', 'oi', 'ea', 'io', 'ie', 'ea', 'au', 'oo', 'ei', 'ou', 'ai', 'ia', 'ie', 'oo', 'io', 'ea', 'ua', 'io', 'io', 'ai', 'ue', 'ie', 'ue', 'ea', 'eu', 'ui', 'ea', 'ai', 'oo', 'ia', 'au', 'ea', 'ou', 'ue', 'io', 'eo', 'ea', 'oo', 'ie', 'ae', 'ia', 'ou', 'io', 'ie', 'ou', 'io', 'ou', 'ee', 'io', 'io', 'io', 'ee', 'ie', 'ee', 'ai', 'ea', 'au', 'iou', 'oi', 'ei', 'ia', 'ia', 'ai', 'ea', 'ea', 'ui', 'ou', 'ea', 'ua', 'io', 'ou', 'io', 'ea', 'au', 'au', 'oi', 'ea', 'io', 'ui', 'io', 'oo', 'io', 'oo', 'au', 'ee', 'oe', 'ae', 'ou', 'io', 'io', 'io', 'oo', 'ea', 'ue', 'oo', 'ou', 'ia', 'ou', 'ea', 'ai', 'ee', 'ai', 'ea', 'io', 'ie', 'ia', 'io', 'ou', 'oo', 'ou', 'ua', 'io', 'ei', 'eo', 'ue', 'io', 'ea', 'ei', 'ou', 'io', 'ai', 'ea', 'ai', 'oo', 'ia', 'ie', 'ee', 'ou', 'ia', 'ea', 'ie', 'ea', 'ea', 'ea', 'ou', 'ou', 'oa', 'ee', 'io', 'io', 'ou', 'io', 'eo', 'ea', 'ou', 'ea', 'ie', 'io', 'ai', 'ou', 'au', 'io', 'ea', 'eu', 'ie', 'ou', 'eo', 'ue', 'ea', 'oa', 'ie', 'ui', 'ia', 'au', 'io', 'ea', 'ea', 'ei', 'au', 'ia', 'ei', 'ie', 'ie', 'ee', 'oo', 'ie', 'oi', 'ai', 'ou', 'ea', 'ee', 'oo', 'ie', 'ei', 'io', 'ie', 'ai', 'ui', 'ou', 'io', 'ai', 'io', 'ea', 'io', 'ea', 'ie', 'ie', 'ui', 'ee', 'ie', 'ea', 'ei', 'au', 'ea', 'io', 'io', 'uou', 'ea', 'io', 'ie', 'ia', 'ui', 'oo', 'ea', 'ua', 'ee', 'ei', 'io', 'ou', 'iai', 'io', 'io', 'io', 'ia', 'io', 'ea', 'io', 'ui', 'ie', 'au', 'ou', 'io', 'ui', 'io', 'ei', 'io', 'oo', 'ai', 'ie', 'ia', 'io', 'ea', 'io', 'ea', 'oa', 'ie', 'ue', 'ua', 'io', 'ea', 'ea', 'ea', 'oe', 'ia', 'ue', 'ea', 'ui', 'ea', 'io', 'ea', 'ia', 'io', 'au', 'ie', 'ee', 'iou', 'oi', 'ou', 'io', 'ou', 'ee', 'ue', 'ue', 'eo', 'io', 'ia', 'ai', 'oo', 'ai', 'ou', 'ou', 'oi', 'ie', 'ea', 'au', 'io', 'io', 'io', 'ui', 'ei', 'ou', 'io', 'ue', 'ou', 'ua', 'ea', 'oo', 'oa', 'ei', 'oi', 'ui', 'ai', 'io', 'oa', 'ie', 'io', 'io', 'ai', 'io', 'ua', 'ee', 'ou', 'ou', 'ee', 'ua', 'ea', 'ou', 'eo', 'ui', 'ee', 'io', 'ea', 'io', 'ea', 'ee', 'uo', 'ei', 'io', 'oi', 'ea', 'ea', 'ie', 'ia', 'ie', 'eou', 'ei', 'ai', 'ou', 'ou', 'ue', 'io', 'oi', 'ea', 'ie', 'ia', 'au', 'au', 'ua', 'io', 'oa', 'ie', 'ie', 'io', 'ie', 'ea', 'io', 'io', 'oa', 'ea', 'ea', 'ei', 'ou', 'oi', 'ou', 'oi', 'ia', 'ou', 'au', 'ee', 'oi', 'oo', 'io', 'io', 'io', 'ia', 'io', 'ia', 'ua', 'ia', 'io', 'ou', 'ei', 'ei', 'ue', 'au', 'ee', 'io', 'ai', 'ue', 'oo', 'ie', 'ou', 'oo', 'ue', 'ai', 'ou', 'ui', 'ie', 'ea', 'io', 'io', 'ai', 'ia', 'ia', 'io', 'ea', 'oo', 'ee', 'ea', 'ei', 'io', 'oa', 'io', 'ui', 'io', 'io', 'io', 'ee', 'ia', 'io', 'io', 'ea', 'ea', 'ee', 'ai', 'ai', 'au', 'io', 'iou', 'ui', 'ou', 'ai', 'oo', 'ia', 'ia', 'ei', 'ui', 'ia', 'ia', 'io', 'ou', 'ea', 'ou', 'ie', 'ai', 'oa', 'ooi', 'oi', 'io', 'ai', 'ee', 'ia', 'io', 'ue', 'ea', 'ea', 'eo', 'eu', 'uo', 'ou', 'ou', 'ai', 'au', 'ee', 'uo', 'iu', 'ea', 'ea', 'ue', 'ee', 'ua', 'ia', 'ai', 'oo', 'ai', 'ee', 'ee', 'ie', 'ue', 'io', 'io', 'oi', 'ie', 'ea', 'ou', 'io', 'au', 'ua', 'ou', 'ee', 'ou', 'ea', 'ou', 'ai', 'ea', 'ae', 'ai', 'ea', 'ai', 'ou', 'ee', 'ea', 'io', 'ea', 'ua', 'ia', 'ea', 'ua', 'ou', 'ue', 'ie', 'ei', 'au', 'ea', 'ua', 'ue', 'oo', 'ei', 'ie', 'ou', 'ea', 'ei', 'ie', 'io', 'ee', 'oi', 'au', 'eo', 'ou']\n"
          ],
          "name": "stdout"
        },
        {
          "output_type": "execute_result",
          "data": {
            "text/plain": [
              "[('io', 549),\n",
              " ('ea', 476),\n",
              " ('ie', 331),\n",
              " ('ou', 329),\n",
              " ('ai', 261),\n",
              " ('ia', 253),\n",
              " ('ee', 217),\n",
              " ('oo', 174),\n",
              " ('ua', 109),\n",
              " ('au', 106),\n",
              " ('ue', 105),\n",
              " ('ui', 95)]"
            ]
          },
          "metadata": {
            "tags": []
          },
          "execution_count": 35
        }
      ]
    },
    {
      "cell_type": "markdown",
      "metadata": {
        "id": "enen_5oeYTRU",
        "colab_type": "text"
      },
      "source": [
        "### 2. Chunking"
      ]
    },
    {
      "cell_type": "markdown",
      "metadata": {
        "id": "4iA4nObUYfmt",
        "colab_type": "text"
      },
      "source": [
        "문장에서 명사구로 판단하는 것의 예시이다.\n",
        "* DT+JJ+NN\n",
        "* DT+JJ+JJ+NN\n",
        "* JJ+NN\n",
        "\n",
        "-> DT는 0개나 1개, JJ는 1개나 2개, NN은 반드시!"
      ]
    },
    {
      "cell_type": "code",
      "metadata": {
        "id": "XcMjEKs6YTob",
        "colab_type": "code",
        "colab": {
          "base_uri": "https://localhost:8080/",
          "height": 474
        },
        "outputId": "58abf5c1-ed0f-442a-c032-2eecb05684ed"
      },
      "source": [
        "# 수동으로 POS tagged 문장 생성\n",
        "sentence = [(\"the\", \"DT\"), (\"little\", \"JJ\"), (\"yellow\", \"JJ\"), (\"dog\", \"NN\"), (\"barked\", \"VBD\"), (\"at\", \"IN\"),  (\"the\", \"DT\"), (\"cat\", \"NN\")]\n",
        "\n",
        "# regular expression 이용해 chunking 문법 정의\n",
        "grammer = \"NP: {<DT>?<JJ>*<NN>}\"\n",
        "\n",
        "# chunk parser\n",
        "cp = nltk.RegexpParser(grammer)\n",
        "\n",
        "# sentence 분석\n",
        "result = cp.parse(sentence)\n",
        "\n",
        "# 결과 출력\n",
        "print(result)\n",
        "result.draw()"
      ],
      "execution_count": 5,
      "outputs": [
        {
          "output_type": "stream",
          "text": [
            "(S\n",
            "  (NP the/DT little/JJ yellow/JJ dog/NN)\n",
            "  barked/VBD\n",
            "  at/IN\n",
            "  (NP the/DT cat/NN))\n"
          ],
          "name": "stdout"
        },
        {
          "output_type": "error",
          "ename": "TclError",
          "evalue": "ignored",
          "traceback": [
            "\u001b[0;31m---------------------------------------------------------------------------\u001b[0m",
            "\u001b[0;31mTclError\u001b[0m                                  Traceback (most recent call last)",
            "\u001b[0;32m<ipython-input-5-5b6033d5340c>\u001b[0m in \u001b[0;36m<module>\u001b[0;34m()\u001b[0m\n\u001b[1;32m     13\u001b[0m \u001b[0;31m# 결과 출력\u001b[0m\u001b[0;34m\u001b[0m\u001b[0;34m\u001b[0m\u001b[0;34m\u001b[0m\u001b[0m\n\u001b[1;32m     14\u001b[0m \u001b[0mprint\u001b[0m\u001b[0;34m(\u001b[0m\u001b[0mresult\u001b[0m\u001b[0;34m)\u001b[0m\u001b[0;34m\u001b[0m\u001b[0;34m\u001b[0m\u001b[0m\n\u001b[0;32m---> 15\u001b[0;31m \u001b[0mresult\u001b[0m\u001b[0;34m.\u001b[0m\u001b[0mdraw\u001b[0m\u001b[0;34m(\u001b[0m\u001b[0;34m)\u001b[0m\u001b[0;34m\u001b[0m\u001b[0;34m\u001b[0m\u001b[0m\n\u001b[0m",
            "\u001b[0;32m/usr/local/lib/python3.6/dist-packages/nltk/tree.py\u001b[0m in \u001b[0;36mdraw\u001b[0;34m(self)\u001b[0m\n\u001b[1;32m    688\u001b[0m         \"\"\"\n\u001b[1;32m    689\u001b[0m         \u001b[0;32mfrom\u001b[0m \u001b[0mnltk\u001b[0m\u001b[0;34m.\u001b[0m\u001b[0mdraw\u001b[0m\u001b[0;34m.\u001b[0m\u001b[0mtree\u001b[0m \u001b[0;32mimport\u001b[0m \u001b[0mdraw_trees\u001b[0m\u001b[0;34m\u001b[0m\u001b[0;34m\u001b[0m\u001b[0m\n\u001b[0;32m--> 690\u001b[0;31m         \u001b[0mdraw_trees\u001b[0m\u001b[0;34m(\u001b[0m\u001b[0mself\u001b[0m\u001b[0;34m)\u001b[0m\u001b[0;34m\u001b[0m\u001b[0;34m\u001b[0m\u001b[0m\n\u001b[0m\u001b[1;32m    691\u001b[0m \u001b[0;34m\u001b[0m\u001b[0m\n\u001b[1;32m    692\u001b[0m     \u001b[0;32mdef\u001b[0m \u001b[0mpretty_print\u001b[0m\u001b[0;34m(\u001b[0m\u001b[0mself\u001b[0m\u001b[0;34m,\u001b[0m \u001b[0msentence\u001b[0m\u001b[0;34m=\u001b[0m\u001b[0;32mNone\u001b[0m\u001b[0;34m,\u001b[0m \u001b[0mhighlight\u001b[0m\u001b[0;34m=\u001b[0m\u001b[0;34m(\u001b[0m\u001b[0;34m)\u001b[0m\u001b[0;34m,\u001b[0m \u001b[0mstream\u001b[0m\u001b[0;34m=\u001b[0m\u001b[0;32mNone\u001b[0m\u001b[0;34m,\u001b[0m \u001b[0;34m**\u001b[0m\u001b[0mkwargs\u001b[0m\u001b[0;34m)\u001b[0m\u001b[0;34m:\u001b[0m\u001b[0;34m\u001b[0m\u001b[0;34m\u001b[0m\u001b[0m\n",
            "\u001b[0;32m/usr/local/lib/python3.6/dist-packages/nltk/draw/tree.py\u001b[0m in \u001b[0;36mdraw_trees\u001b[0;34m(*trees)\u001b[0m\n\u001b[1;32m    861\u001b[0m     \u001b[0;34m:\u001b[0m\u001b[0mrtype\u001b[0m\u001b[0;34m:\u001b[0m \u001b[0;32mNone\u001b[0m\u001b[0;34m\u001b[0m\u001b[0;34m\u001b[0m\u001b[0m\n\u001b[1;32m    862\u001b[0m     \"\"\"\n\u001b[0;32m--> 863\u001b[0;31m     \u001b[0mTreeView\u001b[0m\u001b[0;34m(\u001b[0m\u001b[0;34m*\u001b[0m\u001b[0mtrees\u001b[0m\u001b[0;34m)\u001b[0m\u001b[0;34m.\u001b[0m\u001b[0mmainloop\u001b[0m\u001b[0;34m(\u001b[0m\u001b[0;34m)\u001b[0m\u001b[0;34m\u001b[0m\u001b[0;34m\u001b[0m\u001b[0m\n\u001b[0m\u001b[1;32m    864\u001b[0m     \u001b[0;32mreturn\u001b[0m\u001b[0;34m\u001b[0m\u001b[0;34m\u001b[0m\u001b[0m\n\u001b[1;32m    865\u001b[0m \u001b[0;34m\u001b[0m\u001b[0m\n",
            "\u001b[0;32m/usr/local/lib/python3.6/dist-packages/nltk/draw/tree.py\u001b[0m in \u001b[0;36m__init__\u001b[0;34m(self, *trees)\u001b[0m\n\u001b[1;32m    754\u001b[0m         \u001b[0mself\u001b[0m\u001b[0;34m.\u001b[0m\u001b[0m_trees\u001b[0m \u001b[0;34m=\u001b[0m \u001b[0mtrees\u001b[0m\u001b[0;34m\u001b[0m\u001b[0;34m\u001b[0m\u001b[0m\n\u001b[1;32m    755\u001b[0m \u001b[0;34m\u001b[0m\u001b[0m\n\u001b[0;32m--> 756\u001b[0;31m         \u001b[0mself\u001b[0m\u001b[0;34m.\u001b[0m\u001b[0m_top\u001b[0m \u001b[0;34m=\u001b[0m \u001b[0mTk\u001b[0m\u001b[0;34m(\u001b[0m\u001b[0;34m)\u001b[0m\u001b[0;34m\u001b[0m\u001b[0;34m\u001b[0m\u001b[0m\n\u001b[0m\u001b[1;32m    757\u001b[0m         \u001b[0mself\u001b[0m\u001b[0;34m.\u001b[0m\u001b[0m_top\u001b[0m\u001b[0;34m.\u001b[0m\u001b[0mtitle\u001b[0m\u001b[0;34m(\u001b[0m\u001b[0;34m'NLTK'\u001b[0m\u001b[0;34m)\u001b[0m\u001b[0;34m\u001b[0m\u001b[0;34m\u001b[0m\u001b[0m\n\u001b[1;32m    758\u001b[0m         \u001b[0mself\u001b[0m\u001b[0;34m.\u001b[0m\u001b[0m_top\u001b[0m\u001b[0;34m.\u001b[0m\u001b[0mbind\u001b[0m\u001b[0;34m(\u001b[0m\u001b[0;34m'<Control-x>'\u001b[0m\u001b[0;34m,\u001b[0m \u001b[0mself\u001b[0m\u001b[0;34m.\u001b[0m\u001b[0mdestroy\u001b[0m\u001b[0;34m)\u001b[0m\u001b[0;34m\u001b[0m\u001b[0;34m\u001b[0m\u001b[0m\n",
            "\u001b[0;32m/usr/lib/python3.6/tkinter/__init__.py\u001b[0m in \u001b[0;36m__init__\u001b[0;34m(self, screenName, baseName, className, useTk, sync, use)\u001b[0m\n\u001b[1;32m   2021\u001b[0m                 \u001b[0mbaseName\u001b[0m \u001b[0;34m=\u001b[0m \u001b[0mbaseName\u001b[0m \u001b[0;34m+\u001b[0m \u001b[0mext\u001b[0m\u001b[0;34m\u001b[0m\u001b[0;34m\u001b[0m\u001b[0m\n\u001b[1;32m   2022\u001b[0m         \u001b[0minteractive\u001b[0m \u001b[0;34m=\u001b[0m \u001b[0;36m0\u001b[0m\u001b[0;34m\u001b[0m\u001b[0;34m\u001b[0m\u001b[0m\n\u001b[0;32m-> 2023\u001b[0;31m         \u001b[0mself\u001b[0m\u001b[0;34m.\u001b[0m\u001b[0mtk\u001b[0m \u001b[0;34m=\u001b[0m \u001b[0m_tkinter\u001b[0m\u001b[0;34m.\u001b[0m\u001b[0mcreate\u001b[0m\u001b[0;34m(\u001b[0m\u001b[0mscreenName\u001b[0m\u001b[0;34m,\u001b[0m \u001b[0mbaseName\u001b[0m\u001b[0;34m,\u001b[0m \u001b[0mclassName\u001b[0m\u001b[0;34m,\u001b[0m \u001b[0minteractive\u001b[0m\u001b[0;34m,\u001b[0m \u001b[0mwantobjects\u001b[0m\u001b[0;34m,\u001b[0m \u001b[0museTk\u001b[0m\u001b[0;34m,\u001b[0m \u001b[0msync\u001b[0m\u001b[0;34m,\u001b[0m \u001b[0muse\u001b[0m\u001b[0;34m)\u001b[0m\u001b[0;34m\u001b[0m\u001b[0;34m\u001b[0m\u001b[0m\n\u001b[0m\u001b[1;32m   2024\u001b[0m         \u001b[0;32mif\u001b[0m \u001b[0museTk\u001b[0m\u001b[0;34m:\u001b[0m\u001b[0;34m\u001b[0m\u001b[0;34m\u001b[0m\u001b[0m\n\u001b[1;32m   2025\u001b[0m             \u001b[0mself\u001b[0m\u001b[0;34m.\u001b[0m\u001b[0m_loadtk\u001b[0m\u001b[0;34m(\u001b[0m\u001b[0;34m)\u001b[0m\u001b[0;34m\u001b[0m\u001b[0;34m\u001b[0m\u001b[0m\n",
            "\u001b[0;31mTclError\u001b[0m: no display name and no $DISPLAY environment variable"
          ]
        }
      ]
    },
    {
      "cell_type": "markdown",
      "metadata": {
        "id": "kJg2Jo6hd2V-",
        "colab_type": "text"
      },
      "source": [
        "2개의 규칙을 적용해 보자."
      ]
    },
    {
      "cell_type": "code",
      "metadata": {
        "id": "9lPqG0fobZq-",
        "colab_type": "code",
        "colab": {
          "base_uri": "https://localhost:8080/",
          "height": 105
        },
        "outputId": "f3ca3cc1-8e91-4b14-8a42-601e818efded"
      },
      "source": [
        "# 2개의 규칙\n",
        "grammars = \"\"\"\n",
        "    NP: {<DT|PP\\$>?<JJ>*<NN>}\n",
        "        {<NNP>+}\n",
        "\"\"\"\n",
        "\n",
        "parser = nltk.RegexpParser(grammars)\n",
        "sentence = [(\"Rapunzel\", \"NNP\"), (\"let\", \"VBD\"), (\"down\", \"RP\"), (\"her\", \"PP$\"), (\"long\", \"JJ\"), (\"golden\", \"JJ\"), (\"hair\", \"NN\")]\n",
        "result = parser.parse(sentence)\n",
        "print(result)"
      ],
      "execution_count": 6,
      "outputs": [
        {
          "output_type": "stream",
          "text": [
            "(S\n",
            "  (NP Rapunzel/NNP)\n",
            "  let/VBD\n",
            "  down/RP\n",
            "  (NP her/PP$ long/JJ golden/JJ hair/NN))\n"
          ],
          "name": "stdout"
        }
      ]
    },
    {
      "cell_type": "markdown",
      "metadata": {
        "id": "GQHnDk7Gei7T",
        "colab_type": "text"
      },
      "source": [
        "grammar 패턴이 2개 이상의 위치에서 나오면, 왼쪽에서부터 뽑아 온다."
      ]
    },
    {
      "cell_type": "code",
      "metadata": {
        "id": "VDjTFrrEe536",
        "colab_type": "code",
        "colab": {
          "base_uri": "https://localhost:8080/",
          "height": 34
        },
        "outputId": "6687b464-8c15-4486-ccfa-2b8ce898b809"
      },
      "source": [
        "nouns = [(\"money\", \"NN\"), (\"market\", \"NN\"), (\"fund\", \"NN\")]\n",
        "grammar = \"NP: {<NN><NN>}\" # 2개의 연속된 명사 추출\n",
        "cp = nltk.RegexpParser(grammar)\n",
        "result = cp.parse(nouns)\n",
        "print(result)"
      ],
      "execution_count": 8,
      "outputs": [
        {
          "output_type": "stream",
          "text": [
            "(S (NP money/NN market/NN) fund/NN)\n"
          ],
          "name": "stdout"
        }
      ]
    },
    {
      "cell_type": "code",
      "metadata": {
        "id": "bpmcBYkeeikO",
        "colab_type": "code",
        "colab": {
          "base_uri": "https://localhost:8080/",
          "height": 34
        },
        "outputId": "571029ee-c258-4dd4-cdec-7ac9b559fb66"
      },
      "source": [
        "nouns = [(\"money\", \"NN\"), (\"market\", \"NN\"), (\"fund\", \"NN\"), (\"mind\", \"NN\")]\n",
        "grammar = \"NP: {<NN><NN>}\"\n",
        "cp = nltk.RegexpParser(grammar)\n",
        "result = cp.parse(nouns)\n",
        "print(result)"
      ],
      "execution_count": 7,
      "outputs": [
        {
          "output_type": "stream",
          "text": [
            "(S (NP money/NN market/NN) (NP fund/NN mind/NN))\n"
          ],
          "name": "stdout"
        }
      ]
    },
    {
      "cell_type": "code",
      "metadata": {
        "id": "NMSxyn81bZvh",
        "colab_type": "code",
        "colab": {
          "base_uri": "https://localhost:8080/",
          "height": 34
        },
        "outputId": "8520b722-d1bf-4633-add9-04ab6e813d19"
      },
      "source": [
        "nouns = [(\"money\", \"NN\"), (\"market\", \"NN\"), (\"fund\", \"NN\"), (\"mind\", \"NN\"), (\"monkey\", \"NN\")]\n",
        "grammar = \"NP: {<NN><NN>}\"\n",
        "cp = nltk.RegexpParser(grammar)\n",
        "result = cp.parse(nouns)\n",
        "print(result)"
      ],
      "execution_count": 9,
      "outputs": [
        {
          "output_type": "stream",
          "text": [
            "(S (NP money/NN market/NN) (NP fund/NN mind/NN) monkey/NN)\n"
          ],
          "name": "stdout"
        }
      ]
    },
    {
      "cell_type": "markdown",
      "metadata": {
        "id": "i9qo-f0ODHNc",
        "colab_type": "text"
      },
      "source": [
        "tree가 형성된다.\n",
        "* `subtree`\n",
        "* `label`"
      ]
    },
    {
      "cell_type": "code",
      "metadata": {
        "id": "VuUUPecGbZto",
        "colab_type": "code",
        "colab": {
          "base_uri": "https://localhost:8080/",
          "height": 281
        },
        "outputId": "b119edee-4bec-4b16-b93a-97f0b692f863"
      },
      "source": [
        "from pprint import pprint\n",
        "\n",
        "sentence =  [(\"the\", \"DT\"), (\"little\", \"JJ\"), (\"yellow\", \"JJ\"), (\"dog\", \"NN\"), (\"barked\", \"VBD\"), (\"at\", \"IN\"), (\"the\", \"DT\"), (\"cat\", \"NN\")]\n",
        "\n",
        "grammar = \"NP: {<DT>?<JJ>*<NN>}\" # <DT> 있어도 되고 없어도 되고, <JJ> 여러 개, <NN>으로 끝나야 함.\n",
        "cp = nltk.RegexpParser(grammar) \n",
        "tree = cp.parse(sentence) \n",
        "print(tree) \n",
        "\n",
        "# subtree 확인\n",
        "for subtree in tree.subtrees():\n",
        "    print(subtree)\n",
        "    print(subtree.label())"
      ],
      "execution_count": 16,
      "outputs": [
        {
          "output_type": "stream",
          "text": [
            "(S\n",
            "  (NP the/DT little/JJ yellow/JJ dog/NN)\n",
            "  barked/VBD\n",
            "  at/IN\n",
            "  (NP the/DT cat/NN))\n",
            "(S\n",
            "  (NP the/DT little/JJ yellow/JJ dog/NN)\n",
            "  barked/VBD\n",
            "  at/IN\n",
            "  (NP the/DT cat/NN))\n",
            "S\n",
            "(NP the/DT little/JJ yellow/JJ dog/NN)\n",
            "NP\n",
            "(NP the/DT cat/NN)\n",
            "NP\n"
          ],
          "name": "stdout"
        }
      ]
    },
    {
      "cell_type": "code",
      "metadata": {
        "id": "uOO47gtsbZJ0",
        "colab_type": "code",
        "colab": {
          "base_uri": "https://localhost:8080/",
          "height": 210
        },
        "outputId": "a17a646b-a7cd-4600-ceca-7330c1141d5d"
      },
      "source": [
        "# 원하는 형태의 시퀀스 발췌\n",
        "cp = nltk.RegexpParser('CHUNK: {<V.*> <TO> <V.*>}')\n",
        "brown = nltk.corpus.brown\n",
        "i = 0\n",
        "for sent in brown.tagged_sents():\n",
        "    tree = cp.parse(sent)\n",
        "    for subtree in tree.subtrees():\n",
        "        if subtree.label() == \"CHUNK\":\n",
        "            print(subtree)\n",
        "            i += 1\n",
        "    if i > 10:\n",
        "        break"
      ],
      "execution_count": 20,
      "outputs": [
        {
          "output_type": "stream",
          "text": [
            "(CHUNK combined/VBN to/TO achieve/VB)\n",
            "(CHUNK continue/VB to/TO place/VB)\n",
            "(CHUNK serve/VB to/TO protect/VB)\n",
            "(CHUNK wanted/VBD to/TO wait/VB)\n",
            "(CHUNK allowed/VBN to/TO place/VB)\n",
            "(CHUNK expected/VBN to/TO become/VB)\n",
            "(CHUNK expected/VBN to/TO approve/VB)\n",
            "(CHUNK expected/VBN to/TO make/VB)\n",
            "(CHUNK intends/VBZ to/TO make/VB)\n",
            "(CHUNK seek/VB to/TO set/VB)\n",
            "(CHUNK like/VB to/TO see/VB)\n"
          ],
          "name": "stdout"
        }
      ]
    },
    {
      "cell_type": "markdown",
      "metadata": {
        "id": "zyIiVSz1G08k",
        "colab_type": "text"
      },
      "source": [
        "### 3. Chinking"
      ]
    },
    {
      "cell_type": "code",
      "metadata": {
        "id": "JZgsWMtqIP9r",
        "colab_type": "code",
        "colab": {
          "base_uri": "https://localhost:8080/",
          "height": 193
        },
        "outputId": "cf8d5f88-0405-4ed2-85da-199833993724"
      },
      "source": [
        "# 모든 것을 chunking\n",
        "\n",
        "grammar = r\"\"\"\n",
        "    NP:\n",
        "    {<.*>+} \n",
        "    \"\"\"\n",
        "\n",
        "sentence = [(\"the\", \"DT\"), (\"little\", \"JJ\"), (\"yellow\", \"JJ\"), (\"dog\", \"NN\"), (\"barked\", \"VBD\"), (\"at\", \"IN\"), (\"the\", \"DT\"), (\"cat\", \"NN\")]\n",
        "cp = nltk.RegexpParser(grammar)\n",
        "result = cp.parse(sentence)\n",
        "\n",
        "print(result)"
      ],
      "execution_count": 22,
      "outputs": [
        {
          "output_type": "stream",
          "text": [
            "(S\n",
            "  (NP\n",
            "    the/DT\n",
            "    little/JJ\n",
            "    yellow/JJ\n",
            "    dog/NN\n",
            "    barked/VBD\n",
            "    at/IN\n",
            "    the/DT\n",
            "    cat/NN))\n"
          ],
          "name": "stdout"
        }
      ]
    },
    {
      "cell_type": "code",
      "metadata": {
        "id": "utE_IybsG1ay",
        "colab_type": "code",
        "colab": {
          "base_uri": "https://localhost:8080/",
          "height": 105
        },
        "outputId": "c17eb5c4-b43f-4e8e-bb72-bbef65fafbd6"
      },
      "source": [
        "# chinking 부분 추가\n",
        "\n",
        "grammar = r\"\"\"\n",
        "    NP:\n",
        "    {<.*>+} \n",
        "    }<VBD|IN>+{\n",
        "    \"\"\"\n",
        "\n",
        "sentence = [(\"the\", \"DT\"), (\"little\", \"JJ\"), (\"yellow\", \"JJ\"), (\"dog\", \"NN\"), (\"barked\", \"VBD\"), (\"at\", \"IN\"), (\"the\", \"DT\"), (\"cat\", \"NN\")]\n",
        "cp = nltk.RegexpParser(grammar)\n",
        "result = cp.parse(sentence)\n",
        "\n",
        "print(result)"
      ],
      "execution_count": 23,
      "outputs": [
        {
          "output_type": "stream",
          "text": [
            "(S\n",
            "  (NP the/DT little/JJ yellow/JJ dog/NN)\n",
            "  barked/VBD\n",
            "  at/IN\n",
            "  (NP the/DT cat/NN))\n"
          ],
          "name": "stdout"
        }
      ]
    },
    {
      "cell_type": "markdown",
      "metadata": {
        "id": "m7qEbCzBP6C1",
        "colab_type": "text"
      },
      "source": [
        "### 4. IOB tags"
      ]
    },
    {
      "cell_type": "code",
      "metadata": {
        "id": "Q-BTLTybP4tE",
        "colab_type": "code",
        "colab": {
          "base_uri": "https://localhost:8080/",
          "height": 670
        },
        "outputId": "939cfafa-4002-4947-b25f-e12f41264902"
      },
      "source": [
        "# chunk 표시된 conll 데이터\n",
        "conl = nltk.corpus.conll2000\n",
        "\n",
        "# chunked 문장 확인\n",
        "print(conl.chunked_sents('train.txt')[1])\n",
        "print(\"\")\n",
        "\n",
        "# NP만 chunk로 표시\n",
        "# print(conl.chunked_sents('train.txt', chunk_types=['NP'])) # 너무 많다.\n",
        "print(conl.chunked_sents('train.txt', chunk_types=['NP'])[1])\n",
        "print(\"\")\n",
        "\n",
        "# IOB tag 표시\n",
        "print(conl.iob_sents('train.txt')[1])"
      ],
      "execution_count": 31,
      "outputs": [
        {
          "output_type": "stream",
          "text": [
            "(S\n",
            "  Chancellor/NNP\n",
            "  (PP of/IN)\n",
            "  (NP the/DT Exchequer/NNP)\n",
            "  (NP Nigel/NNP Lawson/NNP)\n",
            "  (NP 's/POS restated/VBN commitment/NN)\n",
            "  (PP to/TO)\n",
            "  (NP a/DT firm/NN monetary/JJ policy/NN)\n",
            "  (VP has/VBZ helped/VBN to/TO prevent/VB)\n",
            "  (NP a/DT freefall/NN)\n",
            "  (PP in/IN)\n",
            "  (NP sterling/NN)\n",
            "  (PP over/IN)\n",
            "  (NP the/DT past/JJ week/NN)\n",
            "  ./.)\n",
            "\n",
            "(S\n",
            "  Chancellor/NNP\n",
            "  of/IN\n",
            "  (NP the/DT Exchequer/NNP)\n",
            "  (NP Nigel/NNP Lawson/NNP)\n",
            "  (NP 's/POS restated/VBN commitment/NN)\n",
            "  to/TO\n",
            "  (NP a/DT firm/NN monetary/JJ policy/NN)\n",
            "  has/VBZ\n",
            "  helped/VBN\n",
            "  to/TO\n",
            "  prevent/VB\n",
            "  (NP a/DT freefall/NN)\n",
            "  in/IN\n",
            "  (NP sterling/NN)\n",
            "  over/IN\n",
            "  (NP the/DT past/JJ week/NN)\n",
            "  ./.)\n",
            "\n",
            "[('Chancellor', 'NNP', 'O'), ('of', 'IN', 'B-PP'), ('the', 'DT', 'B-NP'), ('Exchequer', 'NNP', 'I-NP'), ('Nigel', 'NNP', 'B-NP'), ('Lawson', 'NNP', 'I-NP'), (\"'s\", 'POS', 'B-NP'), ('restated', 'VBN', 'I-NP'), ('commitment', 'NN', 'I-NP'), ('to', 'TO', 'B-PP'), ('a', 'DT', 'B-NP'), ('firm', 'NN', 'I-NP'), ('monetary', 'JJ', 'I-NP'), ('policy', 'NN', 'I-NP'), ('has', 'VBZ', 'B-VP'), ('helped', 'VBN', 'I-VP'), ('to', 'TO', 'I-VP'), ('prevent', 'VB', 'I-VP'), ('a', 'DT', 'B-NP'), ('freefall', 'NN', 'I-NP'), ('in', 'IN', 'B-PP'), ('sterling', 'NN', 'B-NP'), ('over', 'IN', 'B-PP'), ('the', 'DT', 'B-NP'), ('past', 'JJ', 'I-NP'), ('week', 'NN', 'I-NP'), ('.', '.', 'O')]\n"
          ],
          "name": "stdout"
        }
      ]
    },
    {
      "cell_type": "markdown",
      "metadata": {
        "id": "TiYDoPyORZrR",
        "colab_type": "text"
      },
      "source": [
        "## === 절 ==="
      ]
    },
    {
      "cell_type": "markdown",
      "metadata": {
        "id": "FBEhRu6URees",
        "colab_type": "text"
      },
      "source": [
        "### Chunking: CLAUSE 생성"
      ]
    },
    {
      "cell_type": "code",
      "metadata": {
        "id": "yXtEeQRXP4ws",
        "colab_type": "code",
        "colab": {
          "base_uri": "https://localhost:8080/",
          "height": 122
        },
        "outputId": "46221e14-787c-42f4-d65b-4d68e4338a05"
      },
      "source": [
        "# CLAUSE 정의\n",
        "grammar = r\"\"\"\n",
        "    NP: {<DT|JJ|NN.*>+}\n",
        "    PP: {<IN><NP>}\n",
        "    VP: {<VB.*><NP|PP|CLUASE>+$}\n",
        "    CLAUSE: {<NP><VP>}\n",
        "    \"\"\"\n",
        "\n",
        "cp = nltk.RegexpParser(grammar)\n",
        "sentence = sentence = [(\"Mary\", \"NN\"), (\"saw\", \"VBD\"), (\"the\", \"DT\"), (\"cat\", \"NN\"), (\"sit\", \"VB\"), (\"on\", \"IN\"), (\"the\", \"DT\"), (\"mat\", \"NN\")]\n",
        "tree = cp.parse(sentence)\n",
        "print(tree)"
      ],
      "execution_count": 33,
      "outputs": [
        {
          "output_type": "stream",
          "text": [
            "(S\n",
            "  (NP Mary/NN)\n",
            "  saw/VBD\n",
            "  (CLAUSE\n",
            "    (NP the/DT cat/NN)\n",
            "    (VP sit/VB (PP on/IN (NP the/DT mat/NN)))))\n"
          ],
          "name": "stdout"
        }
      ]
    },
    {
      "cell_type": "code",
      "metadata": {
        "id": "ibbXDcXoRZBo",
        "colab_type": "code",
        "colab": {
          "base_uri": "https://localhost:8080/",
          "height": 316
        },
        "outputId": "26fdaef1-36df-4d33-bda1-9d9acf2ab7b3"
      },
      "source": [
        "# 잘못된 안은 문장 분석\n",
        "sentence = [(\"John\", \"NNP\"), (\"thinks\", \"VBZ\"), (\"Mary\", \"NN\"), (\"saw\", \"VBD\"), (\"the\", \"DT\"), (\"cat\", \"NN\"), (\"sit\", \"VB\"), (\"on\", \"IN\"), (\"the\", \"DT\"), (\"mat\", \"NN\")]\n",
        "print(cp.parse(sentence))\n",
        "print(\"\")\n",
        "\n",
        "# 제대로 된 안은 문장 분석\n",
        "cp = nltk.RegexpParser(grammar, loop=2)\n",
        "print(cp.parse(sentence))"
      ],
      "execution_count": 37,
      "outputs": [
        {
          "output_type": "stream",
          "text": [
            "(S\n",
            "  (NP John/NNP)\n",
            "  thinks/VBZ\n",
            "  (NP Mary/NN)\n",
            "  saw/VBD\n",
            "  (CLAUSE\n",
            "    (NP the/DT cat/NN)\n",
            "    (VP sit/VB (PP on/IN (NP the/DT mat/NN)))))\n",
            "\n",
            "(S\n",
            "  (NP John/NNP)\n",
            "  thinks/VBZ\n",
            "  (NP Mary/NN)\n",
            "  saw/VBD\n",
            "  (CLAUSE\n",
            "    (NP the/DT cat/NN)\n",
            "    (VP sit/VB (PP on/IN (NP the/DT mat/NN)))))\n"
          ],
          "name": "stdout"
        }
      ]
    },
    {
      "cell_type": "markdown",
      "metadata": {
        "id": "q5hsLkC1UYTR",
        "colab_type": "text"
      },
      "source": [
        "## === 개체명 인식(NER) ==="
      ]
    },
    {
      "cell_type": "code",
      "metadata": {
        "id": "FGT1j4FfP4qM",
        "colab_type": "code",
        "colab": {
          "base_uri": "https://localhost:8080/",
          "height": 1000
        },
        "outputId": "76547c54-943c-44cc-db8e-ea53b9f41820"
      },
      "source": [
        "# NER\n",
        "sent = nltk.corpus.treebank.tagged_sents()[22]\n",
        "print(nltk.ne_chunk(sent)) # binary 옵션 안 줬을 때\n",
        "print(\"\")\n",
        "print(nltk.ne_chunk(sent, binary=True))"
      ],
      "execution_count": 43,
      "outputs": [
        {
          "output_type": "stream",
          "text": [
            "(S\n",
            "  The/DT\n",
            "  (GPE U.S./NNP)\n",
            "  is/VBZ\n",
            "  one/CD\n",
            "  of/IN\n",
            "  the/DT\n",
            "  few/JJ\n",
            "  industrialized/VBN\n",
            "  nations/NNS\n",
            "  that/WDT\n",
            "  *T*-7/-NONE-\n",
            "  does/VBZ\n",
            "  n't/RB\n",
            "  have/VB\n",
            "  a/DT\n",
            "  higher/JJR\n",
            "  standard/NN\n",
            "  of/IN\n",
            "  regulation/NN\n",
            "  for/IN\n",
            "  the/DT\n",
            "  smooth/JJ\n",
            "  ,/,\n",
            "  needle-like/JJ\n",
            "  fibers/NNS\n",
            "  such/JJ\n",
            "  as/IN\n",
            "  crocidolite/NN\n",
            "  that/WDT\n",
            "  *T*-1/-NONE-\n",
            "  are/VBP\n",
            "  classified/VBN\n",
            "  *-5/-NONE-\n",
            "  as/IN\n",
            "  amphobiles/NNS\n",
            "  ,/,\n",
            "  according/VBG\n",
            "  to/TO\n",
            "  (PERSON Brooke/NNP T./NNP Mossman/NNP)\n",
            "  ,/,\n",
            "  a/DT\n",
            "  professor/NN\n",
            "  of/IN\n",
            "  pathlogy/NN\n",
            "  at/IN\n",
            "  the/DT\n",
            "  (ORGANIZATION University/NNP)\n",
            "  of/IN\n",
            "  (PERSON Vermont/NNP College/NNP)\n",
            "  of/IN\n",
            "  (GPE Medicine/NNP)\n",
            "  ./.)\n",
            "\n",
            "(S\n",
            "  The/DT\n",
            "  (NE U.S./NNP)\n",
            "  is/VBZ\n",
            "  one/CD\n",
            "  of/IN\n",
            "  the/DT\n",
            "  few/JJ\n",
            "  industrialized/VBN\n",
            "  nations/NNS\n",
            "  that/WDT\n",
            "  *T*-7/-NONE-\n",
            "  does/VBZ\n",
            "  n't/RB\n",
            "  have/VB\n",
            "  a/DT\n",
            "  higher/JJR\n",
            "  standard/NN\n",
            "  of/IN\n",
            "  regulation/NN\n",
            "  for/IN\n",
            "  the/DT\n",
            "  smooth/JJ\n",
            "  ,/,\n",
            "  needle-like/JJ\n",
            "  fibers/NNS\n",
            "  such/JJ\n",
            "  as/IN\n",
            "  crocidolite/NN\n",
            "  that/WDT\n",
            "  *T*-1/-NONE-\n",
            "  are/VBP\n",
            "  classified/VBN\n",
            "  *-5/-NONE-\n",
            "  as/IN\n",
            "  amphobiles/NNS\n",
            "  ,/,\n",
            "  according/VBG\n",
            "  to/TO\n",
            "  (NE Brooke/NNP)\n",
            "  T./NNP\n",
            "  Mossman/NNP\n",
            "  ,/,\n",
            "  a/DT\n",
            "  professor/NN\n",
            "  of/IN\n",
            "  pathlogy/NN\n",
            "  at/IN\n",
            "  the/DT\n",
            "  (NE University/NNP)\n",
            "  of/IN\n",
            "  (NE Vermont/NNP College/NNP)\n",
            "  of/IN\n",
            "  (NE Medicine/NNP)\n",
            "  ./.)\n"
          ],
          "name": "stdout"
        }
      ]
    },
    {
      "cell_type": "code",
      "metadata": {
        "id": "4vO4eOMdIFep",
        "colab_type": "code",
        "colab": {
          "base_uri": "https://localhost:8080/",
          "height": 283
        },
        "outputId": "5764ffd2-7e19-4f8a-b3c4-b8820807c0a5"
      },
      "source": [
        "# 관계 추출\n",
        "ieer = nltk.corpus.ieer\n",
        "doc_ieer = ieer.parsed_docs('NYT_19980315')\n",
        "print(doc_ieer[0].text[:20])\n",
        "\n",
        "IN = re.compile(r'.*\\bin\\b(?!\\b.+ing)')\n",
        "for doc in doc_ieer:\n",
        "    for rel in nltk.sem.extract_rels('ORG', 'LOC', doc,\n",
        "                                     corpus='ieer', pattern=IN):\n",
        "        print(nltk.sem.rtuple(rel))"
      ],
      "execution_count": 46,
      "outputs": [
        {
          "output_type": "stream",
          "text": [
            "['For', 'almost', Tree('DURATION', ['20', 'years']), ',', 'since', 'its', 'debut', 'in', Tree('DATE', ['1979']), ',', Tree('PERSON', ['Bob', 'Edwards']), 'has', 'presided', 'over', 'the', Tree('ORGANIZATION', ['National', 'Public', 'Radio']), 'news', 'magazine', '``Morning', \"Edition.''\"]\n",
            "[ORG: 'WHYY'] 'in' [LOC: 'Philadelphia']\n",
            "[ORG: 'McGlashan &AMP; Sarrail'] 'firm in' [LOC: 'San Mateo']\n",
            "[ORG: 'Freedom Forum'] 'in' [LOC: 'Arlington']\n",
            "[ORG: 'Brookings Institution'] ', the research group in' [LOC: 'Washington']\n",
            "[ORG: 'Idealab'] ', a self-described business incubator based in' [LOC: 'Los Angeles']\n",
            "[ORG: 'Open Text'] ', based in' [LOC: 'Waterloo']\n",
            "[ORG: 'WGBH'] 'in' [LOC: 'Boston']\n",
            "[ORG: 'Bastille Opera'] 'in' [LOC: 'Paris']\n",
            "[ORG: 'Omnicom'] 'in' [LOC: 'New York']\n",
            "[ORG: 'DDB Needham'] 'in' [LOC: 'New York']\n",
            "[ORG: 'Kaplan Thaler Group'] 'in' [LOC: 'New York']\n",
            "[ORG: 'BBDO South'] 'in' [LOC: 'Atlanta']\n",
            "[ORG: 'Georgia-Pacific'] 'in' [LOC: 'Atlanta']\n"
          ],
          "name": "stdout"
        }
      ]
    },
    {
      "cell_type": "code",
      "metadata": {
        "id": "a5C5bQu1bYvG",
        "colab_type": "code",
        "colab": {}
      },
      "source": [
        ""
      ],
      "execution_count": null,
      "outputs": []
    },
    {
      "cell_type": "code",
      "metadata": {
        "id": "8hLhE8IabYoM",
        "colab_type": "code",
        "colab": {}
      },
      "source": [
        ""
      ],
      "execution_count": null,
      "outputs": []
    },
    {
      "cell_type": "markdown",
      "metadata": {
        "id": "FN1BmVXeGu4R",
        "colab_type": "text"
      },
      "source": [
        "## <<기타>> 그림 오류"
      ]
    },
    {
      "cell_type": "code",
      "metadata": {
        "id": "sBsZ2YJuatqc",
        "colab_type": "code",
        "colab": {
          "base_uri": "https://localhost:8080/",
          "height": 422
        },
        "outputId": "2cc21bb2-5319-43fb-a446-783391509ba7"
      },
      "source": [
        "from IPython.display import Image\n",
        "import os\n",
        "\n",
        "nltk.draw.tree.TreeView(result)._cframe.print_to_file('output.ps')\n",
        "os.system('convert output.ps output.png')\n",
        "Image(filename='output.png') "
      ],
      "execution_count": 38,
      "outputs": [
        {
          "output_type": "error",
          "ename": "TclError",
          "evalue": "ignored",
          "traceback": [
            "\u001b[0;31m---------------------------------------------------------------------------\u001b[0m",
            "\u001b[0;31mTclError\u001b[0m                                  Traceback (most recent call last)",
            "\u001b[0;32m<ipython-input-38-367e1f7747e8>\u001b[0m in \u001b[0;36m<module>\u001b[0;34m()\u001b[0m\n\u001b[1;32m      2\u001b[0m \u001b[0;32mimport\u001b[0m \u001b[0mos\u001b[0m\u001b[0;34m\u001b[0m\u001b[0;34m\u001b[0m\u001b[0m\n\u001b[1;32m      3\u001b[0m \u001b[0;34m\u001b[0m\u001b[0m\n\u001b[0;32m----> 4\u001b[0;31m \u001b[0mnltk\u001b[0m\u001b[0;34m.\u001b[0m\u001b[0mdraw\u001b[0m\u001b[0;34m.\u001b[0m\u001b[0mtree\u001b[0m\u001b[0;34m.\u001b[0m\u001b[0mTreeView\u001b[0m\u001b[0;34m(\u001b[0m\u001b[0mresult\u001b[0m\u001b[0;34m)\u001b[0m\u001b[0;34m.\u001b[0m\u001b[0m_cframe\u001b[0m\u001b[0;34m.\u001b[0m\u001b[0mprint_to_file\u001b[0m\u001b[0;34m(\u001b[0m\u001b[0;34m'output.ps'\u001b[0m\u001b[0;34m)\u001b[0m\u001b[0;34m\u001b[0m\u001b[0;34m\u001b[0m\u001b[0m\n\u001b[0m\u001b[1;32m      5\u001b[0m \u001b[0mos\u001b[0m\u001b[0;34m.\u001b[0m\u001b[0msystem\u001b[0m\u001b[0;34m(\u001b[0m\u001b[0;34m'convert output.ps output.png'\u001b[0m\u001b[0;34m)\u001b[0m\u001b[0;34m\u001b[0m\u001b[0;34m\u001b[0m\u001b[0m\n\u001b[1;32m      6\u001b[0m \u001b[0mImage\u001b[0m\u001b[0;34m(\u001b[0m\u001b[0mfilename\u001b[0m\u001b[0;34m=\u001b[0m\u001b[0;34m'output.png'\u001b[0m\u001b[0;34m)\u001b[0m\u001b[0;34m\u001b[0m\u001b[0;34m\u001b[0m\u001b[0m\n",
            "\u001b[0;32m/usr/local/lib/python3.6/dist-packages/nltk/draw/tree.py\u001b[0m in \u001b[0;36m__init__\u001b[0;34m(self, *trees)\u001b[0m\n\u001b[1;32m    754\u001b[0m         \u001b[0mself\u001b[0m\u001b[0;34m.\u001b[0m\u001b[0m_trees\u001b[0m \u001b[0;34m=\u001b[0m \u001b[0mtrees\u001b[0m\u001b[0;34m\u001b[0m\u001b[0;34m\u001b[0m\u001b[0m\n\u001b[1;32m    755\u001b[0m \u001b[0;34m\u001b[0m\u001b[0m\n\u001b[0;32m--> 756\u001b[0;31m         \u001b[0mself\u001b[0m\u001b[0;34m.\u001b[0m\u001b[0m_top\u001b[0m \u001b[0;34m=\u001b[0m \u001b[0mTk\u001b[0m\u001b[0;34m(\u001b[0m\u001b[0;34m)\u001b[0m\u001b[0;34m\u001b[0m\u001b[0;34m\u001b[0m\u001b[0m\n\u001b[0m\u001b[1;32m    757\u001b[0m         \u001b[0mself\u001b[0m\u001b[0;34m.\u001b[0m\u001b[0m_top\u001b[0m\u001b[0;34m.\u001b[0m\u001b[0mtitle\u001b[0m\u001b[0;34m(\u001b[0m\u001b[0;34m'NLTK'\u001b[0m\u001b[0;34m)\u001b[0m\u001b[0;34m\u001b[0m\u001b[0;34m\u001b[0m\u001b[0m\n\u001b[1;32m    758\u001b[0m         \u001b[0mself\u001b[0m\u001b[0;34m.\u001b[0m\u001b[0m_top\u001b[0m\u001b[0;34m.\u001b[0m\u001b[0mbind\u001b[0m\u001b[0;34m(\u001b[0m\u001b[0;34m'<Control-x>'\u001b[0m\u001b[0;34m,\u001b[0m \u001b[0mself\u001b[0m\u001b[0;34m.\u001b[0m\u001b[0mdestroy\u001b[0m\u001b[0;34m)\u001b[0m\u001b[0;34m\u001b[0m\u001b[0;34m\u001b[0m\u001b[0m\n",
            "\u001b[0;32m/usr/lib/python3.6/tkinter/__init__.py\u001b[0m in \u001b[0;36m__init__\u001b[0;34m(self, screenName, baseName, className, useTk, sync, use)\u001b[0m\n\u001b[1;32m   2021\u001b[0m                 \u001b[0mbaseName\u001b[0m \u001b[0;34m=\u001b[0m \u001b[0mbaseName\u001b[0m \u001b[0;34m+\u001b[0m \u001b[0mext\u001b[0m\u001b[0;34m\u001b[0m\u001b[0;34m\u001b[0m\u001b[0m\n\u001b[1;32m   2022\u001b[0m         \u001b[0minteractive\u001b[0m \u001b[0;34m=\u001b[0m \u001b[0;36m0\u001b[0m\u001b[0;34m\u001b[0m\u001b[0;34m\u001b[0m\u001b[0m\n\u001b[0;32m-> 2023\u001b[0;31m         \u001b[0mself\u001b[0m\u001b[0;34m.\u001b[0m\u001b[0mtk\u001b[0m \u001b[0;34m=\u001b[0m \u001b[0m_tkinter\u001b[0m\u001b[0;34m.\u001b[0m\u001b[0mcreate\u001b[0m\u001b[0;34m(\u001b[0m\u001b[0mscreenName\u001b[0m\u001b[0;34m,\u001b[0m \u001b[0mbaseName\u001b[0m\u001b[0;34m,\u001b[0m \u001b[0mclassName\u001b[0m\u001b[0;34m,\u001b[0m \u001b[0minteractive\u001b[0m\u001b[0;34m,\u001b[0m \u001b[0mwantobjects\u001b[0m\u001b[0;34m,\u001b[0m \u001b[0museTk\u001b[0m\u001b[0;34m,\u001b[0m \u001b[0msync\u001b[0m\u001b[0;34m,\u001b[0m \u001b[0muse\u001b[0m\u001b[0;34m)\u001b[0m\u001b[0;34m\u001b[0m\u001b[0;34m\u001b[0m\u001b[0m\n\u001b[0m\u001b[1;32m   2024\u001b[0m         \u001b[0;32mif\u001b[0m \u001b[0museTk\u001b[0m\u001b[0;34m:\u001b[0m\u001b[0;34m\u001b[0m\u001b[0;34m\u001b[0m\u001b[0m\n\u001b[1;32m   2025\u001b[0m             \u001b[0mself\u001b[0m\u001b[0;34m.\u001b[0m\u001b[0m_loadtk\u001b[0m\u001b[0;34m(\u001b[0m\u001b[0;34m)\u001b[0m\u001b[0;34m\u001b[0m\u001b[0;34m\u001b[0m\u001b[0m\n",
            "\u001b[0;31mTclError\u001b[0m: no display name and no $DISPLAY environment variable"
          ]
        }
      ]
    },
    {
      "cell_type": "code",
      "metadata": {
        "id": "7IGZ-_Eja9GM",
        "colab_type": "code",
        "colab": {
          "base_uri": "https://localhost:8080/",
          "height": 386
        },
        "outputId": "26c0aa92-1440-417b-a40f-ac82a2215f59"
      },
      "source": [
        "def jupyter_draw_nltk_tree(tree):\n",
        "    from IPython.display import Image, display\n",
        "    from nltk.draw import TreeWidget\n",
        "    from nltk.draw.util import CanvasFrame\n",
        "    import subprocess\n",
        "    cf = CanvasFrame()\n",
        "    tc = TreeWidget(cf.canvas(), tree)\n",
        "    tc['node_font'] = 'arial 13 bold'\n",
        "    tc['leaf_font'] = 'arial 14'\n",
        "    tc['node_color'] = '#005990'\n",
        "    tc['leaf_color'] = '#3F8F57'\n",
        "    tc['line_color'] = '#175252'\n",
        "    cf.add_widget(tc, 10, 10)\n",
        "    cf.print_to_file('tmp_tree_output.ps')\n",
        "    cf.destroy()\n",
        "\n",
        "    args = (['convert', 'tmp_tree_output.ps', 'tmp_tree_output.png'])\n",
        "    subprocess.call(args)\n",
        "    display(Image(filename='tmp_tree_output.png'))\n",
        "    os.system('rm tmp_tree_output.ps tmp_tree_output.png')\n",
        "\n",
        "jupyter_draw_nltk_tree(result)"
      ],
      "execution_count": 39,
      "outputs": [
        {
          "output_type": "error",
          "ename": "TclError",
          "evalue": "ignored",
          "traceback": [
            "\u001b[0;31m---------------------------------------------------------------------------\u001b[0m",
            "\u001b[0;31mTclError\u001b[0m                                  Traceback (most recent call last)",
            "\u001b[0;32m<ipython-input-39-999e582c830f>\u001b[0m in \u001b[0;36m<module>\u001b[0;34m()\u001b[0m\n\u001b[1;32m     20\u001b[0m     \u001b[0mos\u001b[0m\u001b[0;34m.\u001b[0m\u001b[0msystem\u001b[0m\u001b[0;34m(\u001b[0m\u001b[0;34m'rm tmp_tree_output.ps tmp_tree_output.png'\u001b[0m\u001b[0;34m)\u001b[0m\u001b[0;34m\u001b[0m\u001b[0;34m\u001b[0m\u001b[0m\n\u001b[1;32m     21\u001b[0m \u001b[0;34m\u001b[0m\u001b[0m\n\u001b[0;32m---> 22\u001b[0;31m \u001b[0mjupyter_draw_nltk_tree\u001b[0m\u001b[0;34m(\u001b[0m\u001b[0mresult\u001b[0m\u001b[0;34m)\u001b[0m\u001b[0;34m\u001b[0m\u001b[0;34m\u001b[0m\u001b[0m\n\u001b[0m",
            "\u001b[0;32m<ipython-input-39-999e582c830f>\u001b[0m in \u001b[0;36mjupyter_draw_nltk_tree\u001b[0;34m(tree)\u001b[0m\n\u001b[1;32m      4\u001b[0m     \u001b[0;32mfrom\u001b[0m \u001b[0mnltk\u001b[0m\u001b[0;34m.\u001b[0m\u001b[0mdraw\u001b[0m\u001b[0;34m.\u001b[0m\u001b[0mutil\u001b[0m \u001b[0;32mimport\u001b[0m \u001b[0mCanvasFrame\u001b[0m\u001b[0;34m\u001b[0m\u001b[0;34m\u001b[0m\u001b[0m\n\u001b[1;32m      5\u001b[0m     \u001b[0;32mimport\u001b[0m \u001b[0msubprocess\u001b[0m\u001b[0;34m\u001b[0m\u001b[0;34m\u001b[0m\u001b[0m\n\u001b[0;32m----> 6\u001b[0;31m     \u001b[0mcf\u001b[0m \u001b[0;34m=\u001b[0m \u001b[0mCanvasFrame\u001b[0m\u001b[0;34m(\u001b[0m\u001b[0;34m)\u001b[0m\u001b[0;34m\u001b[0m\u001b[0;34m\u001b[0m\u001b[0m\n\u001b[0m\u001b[1;32m      7\u001b[0m     \u001b[0mtc\u001b[0m \u001b[0;34m=\u001b[0m \u001b[0mTreeWidget\u001b[0m\u001b[0;34m(\u001b[0m\u001b[0mcf\u001b[0m\u001b[0;34m.\u001b[0m\u001b[0mcanvas\u001b[0m\u001b[0;34m(\u001b[0m\u001b[0;34m)\u001b[0m\u001b[0;34m,\u001b[0m \u001b[0mtree\u001b[0m\u001b[0;34m)\u001b[0m\u001b[0;34m\u001b[0m\u001b[0;34m\u001b[0m\u001b[0m\n\u001b[1;32m      8\u001b[0m     \u001b[0mtc\u001b[0m\u001b[0;34m[\u001b[0m\u001b[0;34m'node_font'\u001b[0m\u001b[0;34m]\u001b[0m \u001b[0;34m=\u001b[0m \u001b[0;34m'arial 13 bold'\u001b[0m\u001b[0;34m\u001b[0m\u001b[0;34m\u001b[0m\u001b[0m\n",
            "\u001b[0;32m/usr/local/lib/python3.6/dist-packages/nltk/draw/util.py\u001b[0m in \u001b[0;36m__init__\u001b[0;34m(self, parent, **kw)\u001b[0m\n\u001b[1;32m   1651\u001b[0m         \u001b[0;31m# If no parent was given, set up a top-level window.\u001b[0m\u001b[0;34m\u001b[0m\u001b[0;34m\u001b[0m\u001b[0;34m\u001b[0m\u001b[0m\n\u001b[1;32m   1652\u001b[0m         \u001b[0;32mif\u001b[0m \u001b[0mparent\u001b[0m \u001b[0;32mis\u001b[0m \u001b[0;32mNone\u001b[0m\u001b[0;34m:\u001b[0m\u001b[0;34m\u001b[0m\u001b[0;34m\u001b[0m\u001b[0m\n\u001b[0;32m-> 1653\u001b[0;31m             \u001b[0mself\u001b[0m\u001b[0;34m.\u001b[0m\u001b[0m_parent\u001b[0m \u001b[0;34m=\u001b[0m \u001b[0mTk\u001b[0m\u001b[0;34m(\u001b[0m\u001b[0;34m)\u001b[0m\u001b[0;34m\u001b[0m\u001b[0;34m\u001b[0m\u001b[0m\n\u001b[0m\u001b[1;32m   1654\u001b[0m             \u001b[0mself\u001b[0m\u001b[0;34m.\u001b[0m\u001b[0m_parent\u001b[0m\u001b[0;34m.\u001b[0m\u001b[0mtitle\u001b[0m\u001b[0;34m(\u001b[0m\u001b[0;34m'NLTK'\u001b[0m\u001b[0;34m)\u001b[0m\u001b[0;34m\u001b[0m\u001b[0;34m\u001b[0m\u001b[0m\n\u001b[1;32m   1655\u001b[0m             \u001b[0mself\u001b[0m\u001b[0;34m.\u001b[0m\u001b[0m_parent\u001b[0m\u001b[0;34m.\u001b[0m\u001b[0mbind\u001b[0m\u001b[0;34m(\u001b[0m\u001b[0;34m'<Control-p>'\u001b[0m\u001b[0;34m,\u001b[0m \u001b[0;32mlambda\u001b[0m \u001b[0me\u001b[0m\u001b[0;34m:\u001b[0m \u001b[0mself\u001b[0m\u001b[0;34m.\u001b[0m\u001b[0mprint_to_file\u001b[0m\u001b[0;34m(\u001b[0m\u001b[0;34m)\u001b[0m\u001b[0;34m)\u001b[0m\u001b[0;34m\u001b[0m\u001b[0;34m\u001b[0m\u001b[0m\n",
            "\u001b[0;32m/usr/lib/python3.6/tkinter/__init__.py\u001b[0m in \u001b[0;36m__init__\u001b[0;34m(self, screenName, baseName, className, useTk, sync, use)\u001b[0m\n\u001b[1;32m   2021\u001b[0m                 \u001b[0mbaseName\u001b[0m \u001b[0;34m=\u001b[0m \u001b[0mbaseName\u001b[0m \u001b[0;34m+\u001b[0m \u001b[0mext\u001b[0m\u001b[0;34m\u001b[0m\u001b[0;34m\u001b[0m\u001b[0m\n\u001b[1;32m   2022\u001b[0m         \u001b[0minteractive\u001b[0m \u001b[0;34m=\u001b[0m \u001b[0;36m0\u001b[0m\u001b[0;34m\u001b[0m\u001b[0;34m\u001b[0m\u001b[0m\n\u001b[0;32m-> 2023\u001b[0;31m         \u001b[0mself\u001b[0m\u001b[0;34m.\u001b[0m\u001b[0mtk\u001b[0m \u001b[0;34m=\u001b[0m \u001b[0m_tkinter\u001b[0m\u001b[0;34m.\u001b[0m\u001b[0mcreate\u001b[0m\u001b[0;34m(\u001b[0m\u001b[0mscreenName\u001b[0m\u001b[0;34m,\u001b[0m \u001b[0mbaseName\u001b[0m\u001b[0;34m,\u001b[0m \u001b[0mclassName\u001b[0m\u001b[0;34m,\u001b[0m \u001b[0minteractive\u001b[0m\u001b[0;34m,\u001b[0m \u001b[0mwantobjects\u001b[0m\u001b[0;34m,\u001b[0m \u001b[0museTk\u001b[0m\u001b[0;34m,\u001b[0m \u001b[0msync\u001b[0m\u001b[0;34m,\u001b[0m \u001b[0muse\u001b[0m\u001b[0;34m)\u001b[0m\u001b[0;34m\u001b[0m\u001b[0;34m\u001b[0m\u001b[0m\n\u001b[0m\u001b[1;32m   2024\u001b[0m         \u001b[0;32mif\u001b[0m \u001b[0museTk\u001b[0m\u001b[0;34m:\u001b[0m\u001b[0;34m\u001b[0m\u001b[0;34m\u001b[0m\u001b[0m\n\u001b[1;32m   2025\u001b[0m             \u001b[0mself\u001b[0m\u001b[0;34m.\u001b[0m\u001b[0m_loadtk\u001b[0m\u001b[0;34m(\u001b[0m\u001b[0;34m)\u001b[0m\u001b[0;34m\u001b[0m\u001b[0;34m\u001b[0m\u001b[0m\n",
            "\u001b[0;31mTclError\u001b[0m: no display name and no $DISPLAY environment variable"
          ]
        }
      ]
    },
    {
      "cell_type": "code",
      "metadata": {
        "id": "wO6eVyqmbFdB",
        "colab_type": "code",
        "colab": {
          "base_uri": "https://localhost:8080/",
          "height": 386
        },
        "outputId": "629e59c4-583e-49e6-c2f0-2c713eeca84a"
      },
      "source": [
        "import os\n",
        "from IPython.display import Image, display\n",
        "from nltk.draw import TreeWidget\n",
        "from nltk.draw.util import CanvasFrame\n",
        "\n",
        "def jupyter_draw_nltk_tree(tree):\n",
        "    cf = CanvasFrame()\n",
        "    tc = TreeWidget(cf.canvas(), tree)\n",
        "    tc['node_font'] = 'arial 13 bold'\n",
        "    tc['leaf_font'] = 'arial 14'\n",
        "    tc['node_color'] = '#005990'\n",
        "    tc['leaf_color'] = '#3F8F57'\n",
        "    tc['line_color'] = '#175252'\n",
        "    cf.add_widget(tc, 10, 10)\n",
        "    cf.print_to_file('tmp_tree_output.ps')\n",
        "    cf.destroy()\n",
        "    os.system('convert tmp_tree_output.ps tmp_tree_output.png')\n",
        "    display(Image(filename='tmp_tree_output.png'))\n",
        "    os.system('rm tmp_tree_output.ps tmp_tree_output.png')\n",
        "\n",
        "jupyter_draw_nltk_tree(result)"
      ],
      "execution_count": 40,
      "outputs": [
        {
          "output_type": "error",
          "ename": "TclError",
          "evalue": "ignored",
          "traceback": [
            "\u001b[0;31m---------------------------------------------------------------------------\u001b[0m",
            "\u001b[0;31mTclError\u001b[0m                                  Traceback (most recent call last)",
            "\u001b[0;32m<ipython-input-40-c2d2ca2ffdd3>\u001b[0m in \u001b[0;36m<module>\u001b[0;34m()\u001b[0m\n\u001b[1;32m     19\u001b[0m     \u001b[0mos\u001b[0m\u001b[0;34m.\u001b[0m\u001b[0msystem\u001b[0m\u001b[0;34m(\u001b[0m\u001b[0;34m'rm tmp_tree_output.ps tmp_tree_output.png'\u001b[0m\u001b[0;34m)\u001b[0m\u001b[0;34m\u001b[0m\u001b[0;34m\u001b[0m\u001b[0m\n\u001b[1;32m     20\u001b[0m \u001b[0;34m\u001b[0m\u001b[0m\n\u001b[0;32m---> 21\u001b[0;31m \u001b[0mjupyter_draw_nltk_tree\u001b[0m\u001b[0;34m(\u001b[0m\u001b[0mresult\u001b[0m\u001b[0;34m)\u001b[0m\u001b[0;34m\u001b[0m\u001b[0;34m\u001b[0m\u001b[0m\n\u001b[0m",
            "\u001b[0;32m<ipython-input-40-c2d2ca2ffdd3>\u001b[0m in \u001b[0;36mjupyter_draw_nltk_tree\u001b[0;34m(tree)\u001b[0m\n\u001b[1;32m      5\u001b[0m \u001b[0;34m\u001b[0m\u001b[0m\n\u001b[1;32m      6\u001b[0m \u001b[0;32mdef\u001b[0m \u001b[0mjupyter_draw_nltk_tree\u001b[0m\u001b[0;34m(\u001b[0m\u001b[0mtree\u001b[0m\u001b[0;34m)\u001b[0m\u001b[0;34m:\u001b[0m\u001b[0;34m\u001b[0m\u001b[0;34m\u001b[0m\u001b[0m\n\u001b[0;32m----> 7\u001b[0;31m     \u001b[0mcf\u001b[0m \u001b[0;34m=\u001b[0m \u001b[0mCanvasFrame\u001b[0m\u001b[0;34m(\u001b[0m\u001b[0;34m)\u001b[0m\u001b[0;34m\u001b[0m\u001b[0;34m\u001b[0m\u001b[0m\n\u001b[0m\u001b[1;32m      8\u001b[0m     \u001b[0mtc\u001b[0m \u001b[0;34m=\u001b[0m \u001b[0mTreeWidget\u001b[0m\u001b[0;34m(\u001b[0m\u001b[0mcf\u001b[0m\u001b[0;34m.\u001b[0m\u001b[0mcanvas\u001b[0m\u001b[0;34m(\u001b[0m\u001b[0;34m)\u001b[0m\u001b[0;34m,\u001b[0m \u001b[0mtree\u001b[0m\u001b[0;34m)\u001b[0m\u001b[0;34m\u001b[0m\u001b[0;34m\u001b[0m\u001b[0m\n\u001b[1;32m      9\u001b[0m     \u001b[0mtc\u001b[0m\u001b[0;34m[\u001b[0m\u001b[0;34m'node_font'\u001b[0m\u001b[0;34m]\u001b[0m \u001b[0;34m=\u001b[0m \u001b[0;34m'arial 13 bold'\u001b[0m\u001b[0;34m\u001b[0m\u001b[0;34m\u001b[0m\u001b[0m\n",
            "\u001b[0;32m/usr/local/lib/python3.6/dist-packages/nltk/draw/util.py\u001b[0m in \u001b[0;36m__init__\u001b[0;34m(self, parent, **kw)\u001b[0m\n\u001b[1;32m   1651\u001b[0m         \u001b[0;31m# If no parent was given, set up a top-level window.\u001b[0m\u001b[0;34m\u001b[0m\u001b[0;34m\u001b[0m\u001b[0;34m\u001b[0m\u001b[0m\n\u001b[1;32m   1652\u001b[0m         \u001b[0;32mif\u001b[0m \u001b[0mparent\u001b[0m \u001b[0;32mis\u001b[0m \u001b[0;32mNone\u001b[0m\u001b[0;34m:\u001b[0m\u001b[0;34m\u001b[0m\u001b[0;34m\u001b[0m\u001b[0m\n\u001b[0;32m-> 1653\u001b[0;31m             \u001b[0mself\u001b[0m\u001b[0;34m.\u001b[0m\u001b[0m_parent\u001b[0m \u001b[0;34m=\u001b[0m \u001b[0mTk\u001b[0m\u001b[0;34m(\u001b[0m\u001b[0;34m)\u001b[0m\u001b[0;34m\u001b[0m\u001b[0;34m\u001b[0m\u001b[0m\n\u001b[0m\u001b[1;32m   1654\u001b[0m             \u001b[0mself\u001b[0m\u001b[0;34m.\u001b[0m\u001b[0m_parent\u001b[0m\u001b[0;34m.\u001b[0m\u001b[0mtitle\u001b[0m\u001b[0;34m(\u001b[0m\u001b[0;34m'NLTK'\u001b[0m\u001b[0;34m)\u001b[0m\u001b[0;34m\u001b[0m\u001b[0;34m\u001b[0m\u001b[0m\n\u001b[1;32m   1655\u001b[0m             \u001b[0mself\u001b[0m\u001b[0;34m.\u001b[0m\u001b[0m_parent\u001b[0m\u001b[0;34m.\u001b[0m\u001b[0mbind\u001b[0m\u001b[0;34m(\u001b[0m\u001b[0;34m'<Control-p>'\u001b[0m\u001b[0;34m,\u001b[0m \u001b[0;32mlambda\u001b[0m \u001b[0me\u001b[0m\u001b[0;34m:\u001b[0m \u001b[0mself\u001b[0m\u001b[0;34m.\u001b[0m\u001b[0mprint_to_file\u001b[0m\u001b[0;34m(\u001b[0m\u001b[0;34m)\u001b[0m\u001b[0;34m)\u001b[0m\u001b[0;34m\u001b[0m\u001b[0;34m\u001b[0m\u001b[0m\n",
            "\u001b[0;32m/usr/lib/python3.6/tkinter/__init__.py\u001b[0m in \u001b[0;36m__init__\u001b[0;34m(self, screenName, baseName, className, useTk, sync, use)\u001b[0m\n\u001b[1;32m   2021\u001b[0m                 \u001b[0mbaseName\u001b[0m \u001b[0;34m=\u001b[0m \u001b[0mbaseName\u001b[0m \u001b[0;34m+\u001b[0m \u001b[0mext\u001b[0m\u001b[0;34m\u001b[0m\u001b[0;34m\u001b[0m\u001b[0m\n\u001b[1;32m   2022\u001b[0m         \u001b[0minteractive\u001b[0m \u001b[0;34m=\u001b[0m \u001b[0;36m0\u001b[0m\u001b[0;34m\u001b[0m\u001b[0;34m\u001b[0m\u001b[0m\n\u001b[0;32m-> 2023\u001b[0;31m         \u001b[0mself\u001b[0m\u001b[0;34m.\u001b[0m\u001b[0mtk\u001b[0m \u001b[0;34m=\u001b[0m \u001b[0m_tkinter\u001b[0m\u001b[0;34m.\u001b[0m\u001b[0mcreate\u001b[0m\u001b[0;34m(\u001b[0m\u001b[0mscreenName\u001b[0m\u001b[0;34m,\u001b[0m \u001b[0mbaseName\u001b[0m\u001b[0;34m,\u001b[0m \u001b[0mclassName\u001b[0m\u001b[0;34m,\u001b[0m \u001b[0minteractive\u001b[0m\u001b[0;34m,\u001b[0m \u001b[0mwantobjects\u001b[0m\u001b[0;34m,\u001b[0m \u001b[0museTk\u001b[0m\u001b[0;34m,\u001b[0m \u001b[0msync\u001b[0m\u001b[0;34m,\u001b[0m \u001b[0muse\u001b[0m\u001b[0;34m)\u001b[0m\u001b[0;34m\u001b[0m\u001b[0;34m\u001b[0m\u001b[0m\n\u001b[0m\u001b[1;32m   2024\u001b[0m         \u001b[0;32mif\u001b[0m \u001b[0museTk\u001b[0m\u001b[0;34m:\u001b[0m\u001b[0;34m\u001b[0m\u001b[0;34m\u001b[0m\u001b[0m\n\u001b[1;32m   2025\u001b[0m             \u001b[0mself\u001b[0m\u001b[0;34m.\u001b[0m\u001b[0m_loadtk\u001b[0m\u001b[0;34m(\u001b[0m\u001b[0;34m)\u001b[0m\u001b[0;34m\u001b[0m\u001b[0;34m\u001b[0m\u001b[0m\n",
            "\u001b[0;31mTclError\u001b[0m: no display name and no $DISPLAY environment variable"
          ]
        }
      ]
    },
    {
      "cell_type": "code",
      "metadata": {
        "id": "bl2pmaGIbOxM",
        "colab_type": "code",
        "colab": {
          "base_uri": "https://localhost:8080/",
          "height": 204
        },
        "outputId": "f226f5a6-3d6b-4578-b587-2060a24d271f"
      },
      "source": [
        "from nltk.tree import Tree\n",
        "from IPython.display import display\n",
        "\n",
        "tree = Tree.fromstring('(S (NP this tree) (VP (V is) (AdjP pretty)))')\n",
        "IPython.core.display.display(tree)"
      ],
      "execution_count": 41,
      "outputs": [
        {
          "output_type": "error",
          "ename": "NameError",
          "evalue": "ignored",
          "traceback": [
            "\u001b[0;31m---------------------------------------------------------------------------\u001b[0m",
            "\u001b[0;31mNameError\u001b[0m                                 Traceback (most recent call last)",
            "\u001b[0;32m<ipython-input-41-990c11de8385>\u001b[0m in \u001b[0;36m<module>\u001b[0;34m()\u001b[0m\n\u001b[1;32m      3\u001b[0m \u001b[0;34m\u001b[0m\u001b[0m\n\u001b[1;32m      4\u001b[0m \u001b[0mtree\u001b[0m \u001b[0;34m=\u001b[0m \u001b[0mTree\u001b[0m\u001b[0;34m.\u001b[0m\u001b[0mfromstring\u001b[0m\u001b[0;34m(\u001b[0m\u001b[0;34m'(S (NP this tree) (VP (V is) (AdjP pretty)))'\u001b[0m\u001b[0;34m)\u001b[0m\u001b[0;34m\u001b[0m\u001b[0;34m\u001b[0m\u001b[0m\n\u001b[0;32m----> 5\u001b[0;31m \u001b[0mIPython\u001b[0m\u001b[0;34m.\u001b[0m\u001b[0mcore\u001b[0m\u001b[0;34m.\u001b[0m\u001b[0mdisplay\u001b[0m\u001b[0;34m.\u001b[0m\u001b[0mdisplay\u001b[0m\u001b[0;34m(\u001b[0m\u001b[0mtree\u001b[0m\u001b[0;34m)\u001b[0m\u001b[0;34m\u001b[0m\u001b[0;34m\u001b[0m\u001b[0m\n\u001b[0m",
            "\u001b[0;31mNameError\u001b[0m: name 'IPython' is not defined"
          ]
        }
      ]
    }
  ]
}