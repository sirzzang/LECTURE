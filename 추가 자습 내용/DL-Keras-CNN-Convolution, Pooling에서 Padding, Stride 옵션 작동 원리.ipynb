{
  "nbformat": 4,
  "nbformat_minor": 0,
  "metadata": {
    "colab": {
      "name": "CNN-Convolution, Pooling Layer-Padding, Stride 작동 원리.ipynb",
      "provenance": [],
      "collapsed_sections": []
    },
    "kernelspec": {
      "name": "python3",
      "display_name": "Python 3"
    }
  },
  "cells": [
    {
      "cell_type": "markdown",
      "metadata": {
        "id": "9B5IZdCGt45z",
        "colab_type": "text"
      },
      "source": [
        "# Padding과 Stride의 관계\n",
        "\n",
        " Convolution Layer나 Pooling Layer나 `padding`, `stride` 옵션 작동 원리 자체는 동일하다. 옵션 적용 순서는 `padding` -> `stride`이다.\n",
        "\n",
        " 이 내용을 이해하는 데 한해, 입력은 convolution 혹은 pooling을 하기 전의 데이터(주로 이미지), 중간 출력은 stride 옵션을 적용해 convolution 혹은 pooling을 하기 전, 패딩만 적용한 데이터라고 정의한다. 출력은 padding, stride 옵션을 거쳐 convolution, pooling 연산을 모두 적용한 후의 결과라고 정의한다. \n",
        "\n",
        " 연산 적용 전후의 이미지 사이즈 변화는 이전의 강의에서도 보았듯, `{(N+2P-F)/stride}+1`이다.\n",
        "\n",
        "\n",
        "1. Padding\n",
        "    - SAME: 입력과 중간 출력의 사이즈가 같아지도록 패딩을 붙인다. 인터넷을 찾아 보면 일단 2배로 이미지를 확장한다고 되어 있는데, 정확히 말하면 공식 상에서 입력 이미지가 패딩을 거쳐 `{(N+2P-F)}+1` 중간 출력으로 갈 때, 중간 출력의 이미지와 입력 이미지의 각 변의 사이즈가 같아지도록 `P`를 찾아 적용하는 게 아닐까 싶다. (documentation, 소스코드 찾아 보고 이해할 필요가 있다.)\n",
        "    - VALID: 그런 거 신경 안 쓰고, 그냥 `{(N-F)}+1` 공식에 의해 중간 출력 결과를 내 놓는다.\n",
        "\n",
        "\n",
        "2. Stride\n",
        "\n",
        " 패딩된 결과에 따라 갈 수 있는 한도 안에서 stride를 적용하며 convolution 혹은 pooling 연산을 한다. 그렇게 적용하고 맞지 않는 사이즈의 data는 drop(혹은 crop)한다."
      ]
    },
    {
      "cell_type": "code",
      "metadata": {
        "id": "gwyCgpZiimfe",
        "colab_type": "code",
        "colab": {}
      },
      "source": [
        "import numpy as np\n",
        "import sys\n",
        "from tensorflow.keras.layers import Conv2D, MaxPooling2D\n",
        "import tensorflow as tf"
      ],
      "execution_count": 20,
      "outputs": []
    },
    {
      "cell_type": "code",
      "metadata": {
        "id": "Nb_etnZ3iiDM",
        "colab_type": "code",
        "colab": {}
      },
      "source": [
        "np.set_printoptions(threshold=sys.maxsize)"
      ],
      "execution_count": 26,
      "outputs": []
    },
    {
      "cell_type": "code",
      "metadata": {
        "id": "8yCq7B1gi1hr",
        "colab_type": "code",
        "colab": {}
      },
      "source": [
        "k_size = 4\n",
        "p_size = 2\n",
        "sample_data = tf.constant(np.arange(1.0, 201.0).reshape(-1, 20, 10, 1), dtype=tf.float32)"
      ],
      "execution_count": 37,
      "outputs": []
    },
    {
      "cell_type": "markdown",
      "metadata": {
        "id": "1Ey41PuQwd6Z",
        "colab_type": "text"
      },
      "source": [
        "## Convolution : Padding과 Stride의 관계"
      ]
    },
    {
      "cell_type": "code",
      "metadata": {
        "id": "Bz20W4XMiyh0",
        "colab_type": "code",
        "colab": {
          "base_uri": "https://localhost:8080/",
          "height": 266
        },
        "outputId": "cf4277ff-53aa-486d-bb03-d750d09838e5"
      },
      "source": [
        "# conv padding same\n",
        "sample_conv = Conv2D(filters=1, kernel_size=(k_size, k_size), strides=1, padding='same', activation='linear')(sample_data)\n",
        "sample_conv2 = Conv2D(filters=1, kernel_size=(k_size, k_size), strides=2, padding='same', activation='linear')(sample_data)\n",
        "sample_conv3 = Conv2D(filters=1, kernel_size=(k_size, k_size), strides=3, padding='same', activation='linear')(sample_data)\n",
        "sample_conv4 = Conv2D(filters=1, kernel_size=(k_size, k_size), strides=4, padding='same', activation='linear')(sample_data)\n",
        "sample_conv5 = Conv2D(filters=1, kernel_size=(k_size, k_size), strides=5, padding='same', activation='linear')(sample_data)\n",
        "sample_conv6 = Conv2D(filters=1, kernel_size=(k_size, k_size), strides=6, padding='same', activation='linear')(sample_data)\n",
        "sample_conv7 = Conv2D(filters=1, kernel_size=(k_size, k_size), strides=7, padding='same', activation='linear')(sample_data)\n",
        "sample_conv8 = Conv2D(filters=1, kernel_size=(k_size, k_size), strides=8, padding='same', activation='linear')(sample_data)\n",
        "sample_conv9 = Conv2D(filters=1, kernel_size=(k_size, k_size), strides=9, padding='same', activation='linear')(sample_data)\n",
        "sample_conv10 = Conv2D(filters=1, kernel_size=(k_size, k_size), strides=10, padding='same', activation='linear')(sample_data)\n",
        "sample_conv11 = Conv2D(filters=1, kernel_size=(k_size, k_size), strides=11, padding='same', activation='linear')(sample_data)\n",
        "sample_conv19 = Conv2D(filters=1, kernel_size=(k_size, k_size), strides=19, padding='same', activation='linear')(sample_data)\n",
        "sample_conv20 = Conv2D(filters=1, kernel_size=(k_size, k_size), strides=20, padding='same', activation='linear')(sample_data)\n",
        "print(sample_conv.shape) # 패딩이 same으로 잡히니까, 출력 이미지 사이즈가 원본과 동일하다: (20, 10)\n",
        "print(sample_conv2.shape) # 동일한 출력 이미지 사이즈 (20, 10)에서 strides가 2로 적용되니까 : (10, 5)\n",
        "print(sample_conv3.shape) # 동일한 출력 이미지 사이즈 (20, 10)에서 strides가 3으로 적용되니까 가능한 데까지만 나온다 : 0, 3, 6, 9, 12, 15, 18 // 0, 3, 6, 9 // (7, 4)\n",
        "print(sample_conv4.shape) # 동일한 출력 이미지 사이즈 (20, 10)에서 strides가 4로 적용되니가 0, 4, 8, 12, 16 // 0, 4, 8 // (5, 3)\n",
        "print(sample_conv5.shape) # (20, 10) -> strides 5 적용 -> 0, 5, 10, 15 // 0, 5 -> (4, 2)\n",
        "print(sample_conv6.shape) # (20, 10) -> strides 6 적용 -> 0, 6, 12, 18 // 0, 6 -> (4, 2)\n",
        "print(sample_conv7.shape) # (20, 10) -> strides 7 적용 -> 0, 7, 14 // 0, 7 -> (3, 2)\n",
        "print(sample_conv8.shape)\n",
        "print(sample_conv9.shape)\n",
        "print(sample_conv10.shape)\n",
        "print(sample_conv11.shape)\n",
        "print('...')\n",
        "print(sample_conv19.shape)\n",
        "print(sample_conv20.shape)"
      ],
      "execution_count": 40,
      "outputs": [
        {
          "output_type": "stream",
          "text": [
            "(1, 20, 10, 1)\n",
            "(1, 10, 5, 1)\n",
            "(1, 7, 4, 1)\n",
            "(1, 5, 3, 1)\n",
            "(1, 4, 2, 1)\n",
            "(1, 4, 2, 1)\n",
            "(1, 3, 2, 1)\n",
            "(1, 3, 2, 1)\n",
            "(1, 3, 2, 1)\n",
            "(1, 2, 1, 1)\n",
            "(1, 2, 1, 1)\n",
            "...\n",
            "(1, 2, 1, 1)\n",
            "(1, 1, 1, 1)\n"
          ],
          "name": "stdout"
        }
      ]
    },
    {
      "cell_type": "code",
      "metadata": {
        "id": "bVmCr2OpjxVo",
        "colab_type": "code",
        "colab": {
          "base_uri": "https://localhost:8080/",
          "height": 266
        },
        "outputId": "a20a0136-c66b-4f93-9642-07aec81cc5fa"
      },
      "source": [
        "# conv padding valid\n",
        "sample_conv = Conv2D(filters=1, kernel_size=(k_size, k_size), strides=1, padding='valid', activation='linear')(sample_data)\n",
        "sample_conv2 = Conv2D(filters=1, kernel_size=(k_size, k_size), strides=2, padding='valid', activation='linear')(sample_data)\n",
        "sample_conv3 = Conv2D(filters=1, kernel_size=(k_size, k_size), strides=3, padding='valid', activation='linear')(sample_data)\n",
        "sample_conv4 = Conv2D(filters=1, kernel_size=(k_size, k_size), strides=4, padding='valid', activation='linear')(sample_data)\n",
        "sample_conv5 = Conv2D(filters=1, kernel_size=(k_size, k_size), strides=5, padding='valid', activation='linear')(sample_data)\n",
        "sample_conv6 = Conv2D(filters=1, kernel_size=(k_size, k_size), strides=6, padding='valid', activation='linear')(sample_data)\n",
        "sample_conv7 = Conv2D(filters=1, kernel_size=(k_size, k_size), strides=7, padding='valid', activation='linear')(sample_data)\n",
        "sample_conv8 = Conv2D(filters=1, kernel_size=(k_size, k_size), strides=8, padding='valid', activation='linear')(sample_data)\n",
        "sample_conv9 = Conv2D(filters=1, kernel_size=(k_size, k_size), strides=9, padding='valid', activation='linear')(sample_data)\n",
        "sample_conv10 = Conv2D(filters=1, kernel_size=(k_size, k_size), strides=10, padding='valid', activation='linear')(sample_data)\n",
        "sample_conv11 = Conv2D(filters=1, kernel_size=(k_size, k_size), strides=11, padding='valid', activation='linear')(sample_data)\n",
        "sample_conv19 = Conv2D(filters=1, kernel_size=(k_size, k_size), strides=19, padding='valid', activation='linear')(sample_data)\n",
        "sample_conv20 = Conv2D(filters=1, kernel_size=(k_size, k_size), strides=20, padding='valid', activation='linear')(sample_data)\n",
        "print(sample_conv.shape) # 패딩 valid -> 이미지 출력 사이즈 20-4+1/1 = 17, 10-4+1/1 = 7-> (17, 7)에서 stride 1적용 -> (17, 7)\n",
        "print(sample_conv2.shape) # (17, 7) -> stride 2 -> 0, 2, 4, 6, 8, 10, 12, 14, 16, 18 // 0, 2, 4, 6 -> (9, 4)\n",
        "print(sample_conv3.shape) # (17, 7) -> stride 3 -> 0, 3, 6, 9, 12, 15 // 0, 3, 6 -> (6, 3)\n",
        "print(sample_conv4.shape) # \n",
        "print(sample_conv5.shape) # 4, 2)\n",
        "print(sample_conv6.shape) # 4, 2)\n",
        "print(sample_conv7.shape) # )\n",
        "print(sample_conv8.shape)\n",
        "print(sample_conv9.shape)\n",
        "print(sample_conv10.shape)\n",
        "print(sample_conv11.shape)\n",
        "print('...')\n",
        "print(sample_conv19.shape) # (17, 7) -> strides 19 적용 -> 0, 0 -> 그대로 나옴\n",
        "print(sample_conv20.shape)"
      ],
      "execution_count": 41,
      "outputs": [
        {
          "output_type": "stream",
          "text": [
            "(1, 17, 7, 1)\n",
            "(1, 9, 4, 1)\n",
            "(1, 6, 3, 1)\n",
            "(1, 5, 2, 1)\n",
            "(1, 4, 2, 1)\n",
            "(1, 3, 2, 1)\n",
            "(1, 3, 1, 1)\n",
            "(1, 3, 1, 1)\n",
            "(1, 2, 1, 1)\n",
            "(1, 2, 1, 1)\n",
            "(1, 2, 1, 1)\n",
            "...\n",
            "(1, 1, 1, 1)\n",
            "(1, 1, 1, 1)\n"
          ],
          "name": "stdout"
        }
      ]
    },
    {
      "cell_type": "markdown",
      "metadata": {
        "id": "Q2UV6Riqwqwz",
        "colab_type": "text"
      },
      "source": [
        "## Pooling : 여러 조합 실험"
      ]
    },
    {
      "cell_type": "code",
      "metadata": {
        "id": "UBynyieZrUQH",
        "colab_type": "code",
        "colab": {
          "base_uri": "https://localhost:8080/",
          "height": 372
        },
        "outputId": "4107596e-9eac-4865-c88b-4f5556b4aad9"
      },
      "source": [
        "#  conv padding same + conv padding same + pooling stride 1 고정\n",
        "sample_conv = Conv2D(filters=1, kernel_size=(k_size, k_size), strides=1, padding='same', activation='linear')(sample_data)\n",
        "sample_pool = MaxPooling2D(pool_size=(p_size, p_size), strides=1, padding='same')(sample_conv)\n",
        "sample_conv2 = Conv2D(filters=1, kernel_size=(k_size, k_size), strides=2, padding='same', activation='linear')(sample_data)\n",
        "sample_pool2 = MaxPooling2D(pool_size=(p_size, p_size), strides=1, padding='same')(sample_conv2)\n",
        "sample_conv3 = Conv2D(filters=1, kernel_size=(k_size, k_size), strides=3, padding='same', activation='linear')(sample_data)\n",
        "sample_pool3 = MaxPooling2D(pool_size=(p_size, p_size), strides=1, padding='same')(sample_conv3)\n",
        "sample_conv4 = Conv2D(filters=1, kernel_size=(k_size, k_size), strides=4, padding='same', activation='linear')(sample_data)\n",
        "sample_pool4 = MaxPooling2D(pool_size=(p_size, p_size), strides=1, padding='same')(sample_conv4)\n",
        "sample_conv5 = Conv2D(filters=1, kernel_size=(k_size, k_size), strides=5, padding='same', activation='linear')(sample_data)\n",
        "sample_pool5 = MaxPooling2D(pool_size=(p_size, p_size), strides=1, padding='same')(sample_conv5)\n",
        "sample_conv6 = Conv2D(filters=1, kernel_size=(k_size, k_size), strides=6, padding='same', activation='linear')(sample_data)\n",
        "sample_pool6 = MaxPooling2D(pool_size=(p_size, p_size), strides=1, padding='same')(sample_conv6)\n",
        "sample_conv7 = Conv2D(filters=1, kernel_size=(k_size, k_size), strides=7, padding='same', activation='linear')(sample_data)\n",
        "sample_pool7 = MaxPooling2D(pool_size=(p_size, p_size), strides=1, padding='same')(sample_conv7)\n",
        "sample_conv8 = Conv2D(filters=1, kernel_size=(k_size, k_size), strides=8, padding='same', activation='linear')(sample_data)\n",
        "sample_pool8 = MaxPooling2D(pool_size=(p_size, p_size), strides=1, padding='same')(sample_conv8)\n",
        "sample_conv9 = Conv2D(filters=1, kernel_size=(k_size, k_size), strides=9, padding='same', activation='linear')(sample_data)\n",
        "sample_pool9 = MaxPooling2D(pool_size=(p_size, p_size), strides=1, padding='same')(sample_conv9)\n",
        "sample_conv10 = Conv2D(filters=1, kernel_size=(k_size, k_size), strides=10, padding='same', activation='linear')(sample_data)\n",
        "sample_pool10 = MaxPooling2D(pool_size=(p_size, p_size), strides=1, padding='same')(sample_conv10)\n",
        "print(sample_conv.shape) \n",
        "print(\"      \", sample_pool.shape)\n",
        "print(sample_conv2.shape)\n",
        "print(\"      \", sample_pool2.shape)\n",
        "print(sample_conv3.shape)\n",
        "print(\"      \", sample_pool3.shape)\n",
        "print(sample_conv4.shape)\n",
        "print(\"      \", sample_pool4.shape)\n",
        "print(sample_conv5.shape)\n",
        "print(\"      \", sample_pool5.shape)\n",
        "print(sample_conv6.shape)\n",
        "print(\"      \", sample_pool6.shape)\n",
        "print(sample_conv7.shape)\n",
        "print(\"      \", sample_pool7.shape)\n",
        "print(sample_conv8.shape)\n",
        "print(\"      \", sample_pool8.shape)\n",
        "print(sample_conv9.shape)\n",
        "print(\"      \", sample_pool9.shape)\n",
        "print(sample_conv10.shape)\n",
        "print(\"      \", sample_pool10.shape)"
      ],
      "execution_count": 45,
      "outputs": [
        {
          "output_type": "stream",
          "text": [
            "(1, 10, 4, 1)\n",
            "       (1, 10, 4, 1)\n",
            "(1, 5, 2, 1)\n",
            "       (1, 5, 2, 1)\n",
            "(1, 4, 2, 1)\n",
            "       (1, 4, 2, 1)\n",
            "(1, 3, 1, 1)\n",
            "       (1, 3, 1, 1)\n",
            "(1, 2, 1, 1)\n",
            "       (1, 2, 1, 1)\n",
            "(1, 2, 1, 1)\n",
            "       (1, 2, 1, 1)\n",
            "(1, 2, 1, 1)\n",
            "       (1, 2, 1, 1)\n",
            "(1, 2, 1, 1)\n",
            "       (1, 2, 1, 1)\n",
            "(1, 2, 1, 1)\n",
            "       (1, 2, 1, 1)\n",
            "(1, 1, 1, 1)\n",
            "       (1, 1, 1, 1)\n"
          ],
          "name": "stdout"
        }
      ]
    },
    {
      "cell_type": "code",
      "metadata": {
        "id": "VhfVQ90lsdy0",
        "colab_type": "code",
        "colab": {
          "base_uri": "https://localhost:8080/",
          "height": 372
        },
        "outputId": "002986e0-299c-424e-f3dc-0530761370ef"
      },
      "source": [
        "# conv padding same + conv padding same + pooling stride 변화\n",
        "sample_conv = Conv2D(filters=1, kernel_size=(k_size, k_size), strides=1, padding='same', activation='linear')(sample_data)\n",
        "sample_pool = MaxPooling2D(pool_size=(p_size, p_size), strides=1, padding='same')(sample_conv)\n",
        "sample_conv2 = Conv2D(filters=1, kernel_size=(k_size, k_size), strides=2, padding='same', activation='linear')(sample_data)\n",
        "sample_pool2 = MaxPooling2D(pool_size=(p_size, p_size), strides=2, padding='same')(sample_conv2)\n",
        "sample_conv3 = Conv2D(filters=1, kernel_size=(k_size, k_size), strides=3, padding='same', activation='linear')(sample_data)\n",
        "sample_pool3 = MaxPooling2D(pool_size=(p_size, p_size), strides=3, padding='same')(sample_conv3)\n",
        "sample_conv4 = Conv2D(filters=1, kernel_size=(k_size, k_size), strides=4, padding='same', activation='linear')(sample_data)\n",
        "sample_pool4 = MaxPooling2D(pool_size=(p_size, p_size), strides=4, padding='same')(sample_conv4)\n",
        "sample_conv5 = Conv2D(filters=1, kernel_size=(k_size, k_size), strides=5, padding='same', activation='linear')(sample_data)\n",
        "sample_pool5 = MaxPooling2D(pool_size=(p_size, p_size), strides=5, padding='same')(sample_conv5)\n",
        "sample_conv6 = Conv2D(filters=1, kernel_size=(k_size, k_size), strides=6, padding='same', activation='linear')(sample_data)\n",
        "sample_pool6 = MaxPooling2D(pool_size=(p_size, p_size), strides=6, padding='same')(sample_conv6)\n",
        "sample_conv7 = Conv2D(filters=1, kernel_size=(k_size, k_size), strides=7, padding='same', activation='linear')(sample_data)\n",
        "sample_pool7 = MaxPooling2D(pool_size=(p_size, p_size), strides=7, padding='same')(sample_conv7)\n",
        "sample_conv8 = Conv2D(filters=1, kernel_size=(k_size, k_size), strides=8, padding='same', activation='linear')(sample_data)\n",
        "sample_pool8 = MaxPooling2D(pool_size=(p_size, p_size), strides=8, padding='same')(sample_conv8)\n",
        "sample_conv9 = Conv2D(filters=1, kernel_size=(k_size, k_size), strides=9, padding='same', activation='linear')(sample_data)\n",
        "sample_pool9 = MaxPooling2D(pool_size=(p_size, p_size), strides=9, padding='same')(sample_conv9)\n",
        "sample_conv10 = Conv2D(filters=1, kernel_size=(k_size, k_size), strides=10, padding='same', activation='linear')(sample_data)\n",
        "sample_pool10 = MaxPooling2D(pool_size=(p_size, p_size), strides=10, padding='same')(sample_conv10)\n",
        "print(sample_conv.shape)\n",
        "print(\"      \", sample_pool.shape) # 컨볼루션 결과인 (10, 4) 그대로 나온다.\n",
        "print(sample_conv2.shape)\n",
        "print(\"      \", sample_pool2.shape) # 컨볼루션 결과인 (5, 2) 유지하도록 패딩 ->  stride 2 적용할 수 있는 만큼 간다: 0, 2, 4 // 0 -> (3, 1)\n",
        "print(sample_conv3.shape)\n",
        "print(\"      \", sample_pool3.shape) # 컨볼루션 결과인 (4, 2) 유지하도록 패딩 -> stride 3 적용할 수 있는 만큼 간다: 0, 3 // 0 -> (2, 1)\n",
        "print(sample_conv4.shape)\n",
        "print(\"      \", sample_pool4.shape) # 컨볼루션 결과인 (3, 1) 유지하도록 패딩 -> stride 4 적용할 수 있는 만큼 간다: 0 // 0 -> (1, 1)\n",
        "print(sample_conv5.shape)\n",
        "print(\"      \", sample_pool5.shape)\n",
        "print(sample_conv6.shape)\n",
        "print(\"      \", sample_pool6.shape)\n",
        "print(sample_conv7.shape)\n",
        "print(\"      \", sample_pool7.shape)\n",
        "print(sample_conv8.shape)\n",
        "print(\"      \", sample_pool8.shape)\n",
        "print(sample_conv9.shape)\n",
        "print(\"      \", sample_pool9.shape)\n",
        "print(sample_conv10.shape)\n",
        "print(\"      \", sample_pool10.shape)"
      ],
      "execution_count": 46,
      "outputs": [
        {
          "output_type": "stream",
          "text": [
            "(1, 10, 4, 1)\n",
            "       (1, 10, 4, 1)\n",
            "(1, 5, 2, 1)\n",
            "       (1, 3, 1, 1)\n",
            "(1, 4, 2, 1)\n",
            "       (1, 2, 1, 1)\n",
            "(1, 3, 1, 1)\n",
            "       (1, 1, 1, 1)\n",
            "(1, 2, 1, 1)\n",
            "       (1, 1, 1, 1)\n",
            "(1, 2, 1, 1)\n",
            "       (1, 1, 1, 1)\n",
            "(1, 2, 1, 1)\n",
            "       (1, 1, 1, 1)\n",
            "(1, 2, 1, 1)\n",
            "       (1, 1, 1, 1)\n",
            "(1, 2, 1, 1)\n",
            "       (1, 1, 1, 1)\n",
            "(1, 1, 1, 1)\n",
            "       (1, 1, 1, 1)\n"
          ],
          "name": "stdout"
        }
      ]
    },
    {
      "cell_type": "code",
      "metadata": {
        "id": "-Kl1bdEPsi66",
        "colab_type": "code",
        "colab": {
          "base_uri": "https://localhost:8080/",
          "height": 372
        },
        "outputId": "f1726e78-887a-4c6b-f9b5-fbece91a3134"
      },
      "source": [
        "# conv padding same + pooling padding valid + stride 1 고정\n",
        "sample_conv = Conv2D(filters=1, kernel_size=(k_size, k_size), strides=1, padding='same', activation='linear')(sample_data)\n",
        "sample_pool = MaxPooling2D(pool_size=(p_size, p_size), strides=1, padding='valid')(sample_conv)\n",
        "sample_conv2 = Conv2D(filters=1, kernel_size=(k_size, k_size), strides=2, padding='same', activation='linear')(sample_data)\n",
        "sample_pool2 = MaxPooling2D(pool_size=(p_size, p_size), strides=1, padding='valid')(sample_conv2)\n",
        "sample_conv3 = Conv2D(filters=1, kernel_size=(k_size, k_size), strides=3, padding='same', activation='linear')(sample_data)\n",
        "sample_pool3 = MaxPooling2D(pool_size=(p_size, p_size), strides=1, padding='valid')(sample_conv3)\n",
        "sample_conv4 = Conv2D(filters=1, kernel_size=(k_size, k_size), strides=4, padding='same', activation='linear')(sample_data)\n",
        "sample_pool4 = MaxPooling2D(pool_size=(p_size, p_size), strides=1, padding='valid')(sample_conv4)\n",
        "sample_conv5 = Conv2D(filters=1, kernel_size=(k_size, k_size), strides=5, padding='same', activation='linear')(sample_data)\n",
        "sample_pool5 = MaxPooling2D(pool_size=(p_size, p_size), strides=1, padding='valid')(sample_conv5)\n",
        "sample_conv6 = Conv2D(filters=1, kernel_size=(k_size, k_size), strides=6, padding='same', activation='linear')(sample_data)\n",
        "sample_pool6 = MaxPooling2D(pool_size=(p_size, p_size), strides=1, padding='valid')(sample_conv6)\n",
        "sample_conv7 = Conv2D(filters=1, kernel_size=(k_size, k_size), strides=7, padding='same', activation='linear')(sample_data)\n",
        "sample_pool7 = MaxPooling2D(pool_size=(p_size, p_size), strides=1, padding='valid')(sample_conv7)\n",
        "sample_conv8 = Conv2D(filters=1, kernel_size=(k_size, k_size), strides=8, padding='same', activation='linear')(sample_data)\n",
        "sample_pool8 = MaxPooling2D(pool_size=(p_size, p_size), strides=1, padding='valid')(sample_conv8)\n",
        "sample_conv9 = Conv2D(filters=1, kernel_size=(k_size, k_size), strides=9, padding='same', activation='linear')(sample_data)\n",
        "sample_pool9 = MaxPooling2D(pool_size=(p_size, p_size), strides=1, padding='valid')(sample_conv9)\n",
        "sample_conv10 = Conv2D(filters=1, kernel_size=(k_size, k_size), strides=10, padding='same', activation='linear')(sample_data)\n",
        "sample_pool10 = MaxPooling2D(pool_size=(p_size, p_size), strides=1, padding='valid')(sample_conv10)\n",
        "print(sample_conv.shape) \n",
        "print(\"      \", sample_pool.shape) # valid이므로 conv 결과가 (10-2+1)/1, (4-2+1)/1에 의해 (9, 3) -> pool stride 1이므로 (9, 3).\n",
        "print(sample_conv2.shape)\n",
        "print(\"      \", sample_pool2.shape) # conv 결과인 (5, 2)가 (5-2+1)/1, (2-2+1)/1에 의해 (4, 1) -> pool stride 1이므로 (4, 1).\n",
        "print(sample_conv3.shape)\n",
        "print(\"      \", sample_pool3.shape)\n",
        "print(sample_conv4.shape)\n",
        "print(\"      \", sample_pool4.shape) # conv 결과인 (3, 1)이 (3-2+1)/1, (1-2+1)/1에 의해 (1,0) -> 일단 중간 출력 0이 되고 나서부터는 의미가 없다!\n",
        "print(sample_conv5.shape)\n",
        "print(\"      \", sample_pool5.shape)\n",
        "print(sample_conv6.shape)\n",
        "print(\"      \", sample_pool6.shape)\n",
        "print(sample_conv7.shape)\n",
        "print(\"      \", sample_pool7.shape)\n",
        "print(sample_conv8.shape)\n",
        "print(\"      \", sample_pool8.shape)\n",
        "print(sample_conv9.shape)\n",
        "print(\"      \", sample_pool9.shape)\n",
        "print(sample_conv10.shape)\n",
        "print(\"      \", sample_pool10.shape)"
      ],
      "execution_count": 47,
      "outputs": [
        {
          "output_type": "stream",
          "text": [
            "(1, 10, 4, 1)\n",
            "       (1, 9, 3, 1)\n",
            "(1, 5, 2, 1)\n",
            "       (1, 4, 1, 1)\n",
            "(1, 4, 2, 1)\n",
            "       (1, 3, 1, 1)\n",
            "(1, 3, 1, 1)\n",
            "       (1, 2, 0, 1)\n",
            "(1, 2, 1, 1)\n",
            "       (1, 1, 0, 1)\n",
            "(1, 2, 1, 1)\n",
            "       (1, 1, 0, 1)\n",
            "(1, 2, 1, 1)\n",
            "       (1, 1, 0, 1)\n",
            "(1, 2, 1, 1)\n",
            "       (1, 1, 0, 1)\n",
            "(1, 2, 1, 1)\n",
            "       (1, 1, 0, 1)\n",
            "(1, 1, 1, 1)\n",
            "       (1, 0, 0, 1)\n"
          ],
          "name": "stdout"
        }
      ]
    },
    {
      "cell_type": "code",
      "metadata": {
        "id": "jgVXtv6ztzrH",
        "colab_type": "code",
        "colab": {
          "base_uri": "https://localhost:8080/",
          "height": 372
        },
        "outputId": "13b5b8d2-374d-44b0-a6f8-66ae785c9984"
      },
      "source": [
        "# conv padding same + pooling padding valid + stride 변화\n",
        "sample_conv = Conv2D(filters=1, kernel_size=(k_size, k_size), strides=1, padding='same', activation='linear')(sample_data)\n",
        "sample_pool = MaxPooling2D(pool_size=(p_size, p_size), strides=1, padding='valid')(sample_conv)\n",
        "sample_conv2 = Conv2D(filters=1, kernel_size=(k_size, k_size), strides=2, padding='same', activation='linear')(sample_data)\n",
        "sample_pool2 = MaxPooling2D(pool_size=(p_size, p_size), strides=2, padding='valid')(sample_conv2)\n",
        "sample_conv3 = Conv2D(filters=1, kernel_size=(k_size, k_size), strides=3, padding='same', activation='linear')(sample_data)\n",
        "sample_pool3 = MaxPooling2D(pool_size=(p_size, p_size), strides=3, padding='valid')(sample_conv3)\n",
        "sample_conv4 = Conv2D(filters=1, kernel_size=(k_size, k_size), strides=4, padding='same', activation='linear')(sample_data)\n",
        "sample_pool4 = MaxPooling2D(pool_size=(p_size, p_size), strides=4, padding='valid')(sample_conv4)\n",
        "sample_conv5 = Conv2D(filters=1, kernel_size=(k_size, k_size), strides=5, padding='same', activation='linear')(sample_data)\n",
        "sample_pool5 = MaxPooling2D(pool_size=(p_size, p_size), strides=5, padding='valid')(sample_conv5)\n",
        "sample_conv6 = Conv2D(filters=1, kernel_size=(k_size, k_size), strides=6, padding='same', activation='linear')(sample_data)\n",
        "sample_pool6 = MaxPooling2D(pool_size=(p_size, p_size), strides=6, padding='valid')(sample_conv6)\n",
        "sample_conv7 = Conv2D(filters=1, kernel_size=(k_size, k_size), strides=7, padding='same', activation='linear')(sample_data)\n",
        "sample_pool7 = MaxPooling2D(pool_size=(p_size, p_size), strides=7, padding='valid')(sample_conv7)\n",
        "sample_conv8 = Conv2D(filters=1, kernel_size=(k_size, k_size), strides=8, padding='same', activation='linear')(sample_data)\n",
        "sample_pool8 = MaxPooling2D(pool_size=(p_size, p_size), strides=8, padding='valid')(sample_conv8)\n",
        "sample_conv9 = Conv2D(filters=1, kernel_size=(k_size, k_size), strides=9, padding='same', activation='linear')(sample_data)\n",
        "sample_pool9 = MaxPooling2D(pool_size=(p_size, p_size), strides=9, padding='valid')(sample_conv9)\n",
        "sample_conv10 = Conv2D(filters=1, kernel_size=(k_size, k_size), strides=10, padding='same', activation='linear')(sample_data)\n",
        "sample_pool10 = MaxPooling2D(pool_size=(p_size, p_size), strides=10, padding='valid')(sample_conv10)\n",
        "print(sample_conv.shape) \n",
        "print(\"      \", sample_pool.shape) # valid이므로 conv 결과가 (10-2+1)/1, (4-2+1)/1에 의해 (9, 3) -> pool stride 1이므로 (9, 3).\n",
        "print(sample_conv2.shape)\n",
        "print(\"      \", sample_pool2.shape) # conv 결과인 (5, 2)가 (5-2+1)/1, (2-2+1)/1에 의해 (4, 1) -> pool stride 1이므로 (4, 1).\n",
        "print(sample_conv3.shape)\n",
        "print(\"      \", sample_pool3.shape)\n",
        "print(sample_conv4.shape)\n",
        "print(\"      \", sample_pool4.shape) # conv 결과인 (3, 1)이 (3-2+1)/1, (1-2+1)/1에 의해 (1,0) -> 일단 중간 출력 0이 되고 나서부터는 의미가 없다!\n",
        "print(sample_conv5.shape)\n",
        "print(\"      \", sample_pool5.shape)\n",
        "print(sample_conv6.shape)\n",
        "print(\"      \", sample_pool6.shape)\n",
        "print(sample_conv7.shape)\n",
        "print(\"      \", sample_pool7.shape)\n",
        "print(sample_conv8.shape)\n",
        "print(\"      \", sample_pool8.shape)\n",
        "print(sample_conv9.shape)\n",
        "print(\"      \", sample_pool9.shape)\n",
        "print(sample_conv10.shape)\n",
        "print(\"      \", sample_pool10.shape)"
      ],
      "execution_count": 49,
      "outputs": [
        {
          "output_type": "stream",
          "text": [
            "(1, 10, 4, 1)\n",
            "       (1, 9, 3, 1)\n",
            "(1, 5, 2, 1)\n",
            "       (1, 2, 1, 1)\n",
            "(1, 4, 2, 1)\n",
            "       (1, 1, 1, 1)\n",
            "(1, 3, 1, 1)\n",
            "       (1, 1, 0, 1)\n",
            "(1, 2, 1, 1)\n",
            "       (1, 1, 0, 1)\n",
            "(1, 2, 1, 1)\n",
            "       (1, 1, 0, 1)\n",
            "(1, 2, 1, 1)\n",
            "       (1, 1, 0, 1)\n",
            "(1, 2, 1, 1)\n",
            "       (1, 1, 0, 1)\n",
            "(1, 2, 1, 1)\n",
            "       (1, 1, 0, 1)\n",
            "(1, 1, 1, 1)\n",
            "       (1, 0, 0, 1)\n"
          ],
          "name": "stdout"
        }
      ]
    },
    {
      "cell_type": "markdown",
      "metadata": {
        "id": "367dRTvzlTIl",
        "colab_type": "text"
      },
      "source": [
        "## convolution 연산 원리"
      ]
    },
    {
      "cell_type": "code",
      "metadata": {
        "id": "6H3DYU9nlSlk",
        "colab_type": "code",
        "colab": {}
      },
      "source": [
        "sample_data = tf.constant(np.arange(1.0, 41.0).reshape(-1, 10, 4, 1), dtype=tf.float32)\n",
        "sample_conv = Conv2D(filters=1, kernel_size=(k_size, k_size), strides=1, padding='same', activation='linear')(sample_data)\n",
        "sample_pool = MaxPooling2D(pool_size=(2, 2), strides=1, padding='same')(sample_conv)"
      ],
      "execution_count": 43,
      "outputs": []
    },
    {
      "cell_type": "code",
      "metadata": {
        "id": "SIiDCuiRi0dH",
        "colab_type": "code",
        "colab": {
          "base_uri": "https://localhost:8080/",
          "height": 1000
        },
        "outputId": "6fdf311c-a86f-4c07-8b10-53428162fc36"
      },
      "source": [
        "print(sample_data)\n",
        "print(sample_conv)\n",
        "print(sample_pool)"
      ],
      "execution_count": 44,
      "outputs": [
        {
          "output_type": "stream",
          "text": [
            "tf.Tensor(\n",
            "[[[[ 1.]\n",
            "   [ 2.]\n",
            "   [ 3.]\n",
            "   [ 4.]]\n",
            "\n",
            "  [[ 5.]\n",
            "   [ 6.]\n",
            "   [ 7.]\n",
            "   [ 8.]]\n",
            "\n",
            "  [[ 9.]\n",
            "   [10.]\n",
            "   [11.]\n",
            "   [12.]]\n",
            "\n",
            "  [[13.]\n",
            "   [14.]\n",
            "   [15.]\n",
            "   [16.]]\n",
            "\n",
            "  [[17.]\n",
            "   [18.]\n",
            "   [19.]\n",
            "   [20.]]\n",
            "\n",
            "  [[21.]\n",
            "   [22.]\n",
            "   [23.]\n",
            "   [24.]]\n",
            "\n",
            "  [[25.]\n",
            "   [26.]\n",
            "   [27.]\n",
            "   [28.]]\n",
            "\n",
            "  [[29.]\n",
            "   [30.]\n",
            "   [31.]\n",
            "   [32.]]\n",
            "\n",
            "  [[33.]\n",
            "   [34.]\n",
            "   [35.]\n",
            "   [36.]]\n",
            "\n",
            "  [[37.]\n",
            "   [38.]\n",
            "   [39.]\n",
            "   [40.]]]], shape=(1, 10, 4, 1), dtype=float32)\n",
            "tf.Tensor(\n",
            "[[[[ -3.936306  ]\n",
            "   [ -2.6916444 ]\n",
            "   [ -2.92038   ]\n",
            "   [ -0.06611538]]\n",
            "\n",
            "  [[ -8.436247  ]\n",
            "   [ -6.5332866 ]\n",
            "   [ -7.7500205 ]\n",
            "   [ -0.9188719 ]]\n",
            "\n",
            "  [[-13.340676  ]\n",
            "   [-10.379387  ]\n",
            "   [-12.352623  ]\n",
            "   [ -1.6650438 ]]\n",
            "\n",
            "  [[-18.245104  ]\n",
            "   [-14.225485  ]\n",
            "   [-16.955225  ]\n",
            "   [ -2.4112148 ]]\n",
            "\n",
            "  [[-23.149536  ]\n",
            "   [-18.071587  ]\n",
            "   [-21.557827  ]\n",
            "   [ -3.1573877 ]]\n",
            "\n",
            "  [[-28.053963  ]\n",
            "   [-21.917686  ]\n",
            "   [-26.160427  ]\n",
            "   [ -3.9035587 ]]\n",
            "\n",
            "  [[-32.958397  ]\n",
            "   [-25.763784  ]\n",
            "   [-30.763031  ]\n",
            "   [ -4.6497297 ]]\n",
            "\n",
            "  [[-37.862823  ]\n",
            "   [-29.609886  ]\n",
            "   [-35.365627  ]\n",
            "   [ -5.3959026 ]]\n",
            "\n",
            "  [[-35.28445   ]\n",
            "   [-37.534843  ]\n",
            "   [-44.4859    ]\n",
            "   [-10.312954  ]]\n",
            "\n",
            "  [[-33.119087  ]\n",
            "   [-34.70643   ]\n",
            "   [-46.29064   ]\n",
            "   [-17.083002  ]]]], shape=(1, 10, 4, 1), dtype=float32)\n",
            "tf.Tensor(\n",
            "[[[[ -2.6916444 ]\n",
            "   [ -2.6916444 ]\n",
            "   [ -0.06611538]\n",
            "   [ -0.06611538]]\n",
            "\n",
            "  [[ -6.5332866 ]\n",
            "   [ -6.5332866 ]\n",
            "   [ -0.9188719 ]\n",
            "   [ -0.9188719 ]]\n",
            "\n",
            "  [[-10.379387  ]\n",
            "   [-10.379387  ]\n",
            "   [ -1.6650438 ]\n",
            "   [ -1.6650438 ]]\n",
            "\n",
            "  [[-14.225485  ]\n",
            "   [-14.225485  ]\n",
            "   [ -2.4112148 ]\n",
            "   [ -2.4112148 ]]\n",
            "\n",
            "  [[-18.071587  ]\n",
            "   [-18.071587  ]\n",
            "   [ -3.1573877 ]\n",
            "   [ -3.1573877 ]]\n",
            "\n",
            "  [[-21.917686  ]\n",
            "   [-21.917686  ]\n",
            "   [ -3.9035587 ]\n",
            "   [ -3.9035587 ]]\n",
            "\n",
            "  [[-25.763784  ]\n",
            "   [-25.763784  ]\n",
            "   [ -4.6497297 ]\n",
            "   [ -4.6497297 ]]\n",
            "\n",
            "  [[-29.609886  ]\n",
            "   [-29.609886  ]\n",
            "   [ -5.3959026 ]\n",
            "   [ -5.3959026 ]]\n",
            "\n",
            "  [[-33.119087  ]\n",
            "   [-34.70643   ]\n",
            "   [-10.312954  ]\n",
            "   [-10.312954  ]]\n",
            "\n",
            "  [[-33.119087  ]\n",
            "   [-34.70643   ]\n",
            "   [-17.083002  ]\n",
            "   [-17.083002  ]]]], shape=(1, 10, 4, 1), dtype=float32)\n"
          ],
          "name": "stdout"
        }
      ]
    },
    {
      "cell_type": "code",
      "metadata": {
        "id": "LWXavjDSv4P-",
        "colab_type": "code",
        "colab": {}
      },
      "source": [
        ""
      ],
      "execution_count": null,
      "outputs": []
    }
  ]
}