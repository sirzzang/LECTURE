{
  "nbformat": 4,
  "nbformat_minor": 0,
  "metadata": {
    "colab": {
      "name": "NLP-HuggingFace(Keras)-NaverMovie-MultiLingual.ipynb의 사본",
      "provenance": [],
      "machine_shape": "hm"
    },
    "kernelspec": {
      "name": "python3",
      "display_name": "Python 3"
    },
    "accelerator": "GPU",
    "widgets": {
      "application/vnd.jupyter.widget-state+json": {
        "ce80fb0ad1a24a36b15bf112227be576": {
          "model_module": "@jupyter-widgets/controls",
          "model_name": "HBoxModel",
          "state": {
            "_view_name": "HBoxView",
            "_dom_classes": [],
            "_model_name": "HBoxModel",
            "_view_module": "@jupyter-widgets/controls",
            "_model_module_version": "1.5.0",
            "_view_count": null,
            "_view_module_version": "1.5.0",
            "box_style": "",
            "layout": "IPY_MODEL_83f6449c23eb446ab4f2f4ff01b1f866",
            "_model_module": "@jupyter-widgets/controls",
            "children": [
              "IPY_MODEL_0df5c829c3e644dcb78a639bd3892875",
              "IPY_MODEL_500e17dc224141ee9e8264f1fbd7173b"
            ]
          }
        },
        "83f6449c23eb446ab4f2f4ff01b1f866": {
          "model_module": "@jupyter-widgets/base",
          "model_name": "LayoutModel",
          "state": {
            "_view_name": "LayoutView",
            "grid_template_rows": null,
            "right": null,
            "justify_content": null,
            "_view_module": "@jupyter-widgets/base",
            "overflow": null,
            "_model_module_version": "1.2.0",
            "_view_count": null,
            "flex_flow": null,
            "width": null,
            "min_width": null,
            "border": null,
            "align_items": null,
            "bottom": null,
            "_model_module": "@jupyter-widgets/base",
            "top": null,
            "grid_column": null,
            "overflow_y": null,
            "overflow_x": null,
            "grid_auto_flow": null,
            "grid_area": null,
            "grid_template_columns": null,
            "flex": null,
            "_model_name": "LayoutModel",
            "justify_items": null,
            "grid_row": null,
            "max_height": null,
            "align_content": null,
            "visibility": null,
            "align_self": null,
            "height": null,
            "min_height": null,
            "padding": null,
            "grid_auto_rows": null,
            "grid_gap": null,
            "max_width": null,
            "order": null,
            "_view_module_version": "1.2.0",
            "grid_template_areas": null,
            "object_position": null,
            "object_fit": null,
            "grid_auto_columns": null,
            "margin": null,
            "display": null,
            "left": null
          }
        },
        "0df5c829c3e644dcb78a639bd3892875": {
          "model_module": "@jupyter-widgets/controls",
          "model_name": "FloatProgressModel",
          "state": {
            "_view_name": "ProgressView",
            "style": "IPY_MODEL_d0dce3b5d4c442cebe0c8bc916bc3750",
            "_dom_classes": [],
            "description": "Downloading: 100%",
            "_model_name": "FloatProgressModel",
            "bar_style": "success",
            "max": 995526,
            "_view_module": "@jupyter-widgets/controls",
            "_model_module_version": "1.5.0",
            "value": 995526,
            "_view_count": null,
            "_view_module_version": "1.5.0",
            "orientation": "horizontal",
            "min": 0,
            "description_tooltip": null,
            "_model_module": "@jupyter-widgets/controls",
            "layout": "IPY_MODEL_974d26a5b90d447d95a3fde410961b47"
          }
        },
        "500e17dc224141ee9e8264f1fbd7173b": {
          "model_module": "@jupyter-widgets/controls",
          "model_name": "HTMLModel",
          "state": {
            "_view_name": "HTMLView",
            "style": "IPY_MODEL_2dc849c616a547958ba8772723e7594e",
            "_dom_classes": [],
            "description": "",
            "_model_name": "HTMLModel",
            "placeholder": "​",
            "_view_module": "@jupyter-widgets/controls",
            "_model_module_version": "1.5.0",
            "value": " 996k/996k [00:00&lt;00:00, 1.62MB/s]",
            "_view_count": null,
            "_view_module_version": "1.5.0",
            "description_tooltip": null,
            "_model_module": "@jupyter-widgets/controls",
            "layout": "IPY_MODEL_9b0290629b3245a28ffea9e5369dafed"
          }
        },
        "d0dce3b5d4c442cebe0c8bc916bc3750": {
          "model_module": "@jupyter-widgets/controls",
          "model_name": "ProgressStyleModel",
          "state": {
            "_view_name": "StyleView",
            "_model_name": "ProgressStyleModel",
            "description_width": "initial",
            "_view_module": "@jupyter-widgets/base",
            "_model_module_version": "1.5.0",
            "_view_count": null,
            "_view_module_version": "1.2.0",
            "bar_color": null,
            "_model_module": "@jupyter-widgets/controls"
          }
        },
        "974d26a5b90d447d95a3fde410961b47": {
          "model_module": "@jupyter-widgets/base",
          "model_name": "LayoutModel",
          "state": {
            "_view_name": "LayoutView",
            "grid_template_rows": null,
            "right": null,
            "justify_content": null,
            "_view_module": "@jupyter-widgets/base",
            "overflow": null,
            "_model_module_version": "1.2.0",
            "_view_count": null,
            "flex_flow": null,
            "width": null,
            "min_width": null,
            "border": null,
            "align_items": null,
            "bottom": null,
            "_model_module": "@jupyter-widgets/base",
            "top": null,
            "grid_column": null,
            "overflow_y": null,
            "overflow_x": null,
            "grid_auto_flow": null,
            "grid_area": null,
            "grid_template_columns": null,
            "flex": null,
            "_model_name": "LayoutModel",
            "justify_items": null,
            "grid_row": null,
            "max_height": null,
            "align_content": null,
            "visibility": null,
            "align_self": null,
            "height": null,
            "min_height": null,
            "padding": null,
            "grid_auto_rows": null,
            "grid_gap": null,
            "max_width": null,
            "order": null,
            "_view_module_version": "1.2.0",
            "grid_template_areas": null,
            "object_position": null,
            "object_fit": null,
            "grid_auto_columns": null,
            "margin": null,
            "display": null,
            "left": null
          }
        },
        "2dc849c616a547958ba8772723e7594e": {
          "model_module": "@jupyter-widgets/controls",
          "model_name": "DescriptionStyleModel",
          "state": {
            "_view_name": "StyleView",
            "_model_name": "DescriptionStyleModel",
            "description_width": "",
            "_view_module": "@jupyter-widgets/base",
            "_model_module_version": "1.5.0",
            "_view_count": null,
            "_view_module_version": "1.2.0",
            "_model_module": "@jupyter-widgets/controls"
          }
        },
        "9b0290629b3245a28ffea9e5369dafed": {
          "model_module": "@jupyter-widgets/base",
          "model_name": "LayoutModel",
          "state": {
            "_view_name": "LayoutView",
            "grid_template_rows": null,
            "right": null,
            "justify_content": null,
            "_view_module": "@jupyter-widgets/base",
            "overflow": null,
            "_model_module_version": "1.2.0",
            "_view_count": null,
            "flex_flow": null,
            "width": null,
            "min_width": null,
            "border": null,
            "align_items": null,
            "bottom": null,
            "_model_module": "@jupyter-widgets/base",
            "top": null,
            "grid_column": null,
            "overflow_y": null,
            "overflow_x": null,
            "grid_auto_flow": null,
            "grid_area": null,
            "grid_template_columns": null,
            "flex": null,
            "_model_name": "LayoutModel",
            "justify_items": null,
            "grid_row": null,
            "max_height": null,
            "align_content": null,
            "visibility": null,
            "align_self": null,
            "height": null,
            "min_height": null,
            "padding": null,
            "grid_auto_rows": null,
            "grid_gap": null,
            "max_width": null,
            "order": null,
            "_view_module_version": "1.2.0",
            "grid_template_areas": null,
            "object_position": null,
            "object_fit": null,
            "grid_auto_columns": null,
            "margin": null,
            "display": null,
            "left": null
          }
        },
        "5aceb6e9593e49f3b3b9320b0549437a": {
          "model_module": "@jupyter-widgets/controls",
          "model_name": "HBoxModel",
          "state": {
            "_view_name": "HBoxView",
            "_dom_classes": [],
            "_model_name": "HBoxModel",
            "_view_module": "@jupyter-widgets/controls",
            "_model_module_version": "1.5.0",
            "_view_count": null,
            "_view_module_version": "1.5.0",
            "box_style": "",
            "layout": "IPY_MODEL_11368deb66754bd89bbf1686b62ddbd8",
            "_model_module": "@jupyter-widgets/controls",
            "children": [
              "IPY_MODEL_1d2d42c794d348b8ba2b89ee530ea7e9",
              "IPY_MODEL_935390a448ef4aadb1b0bc3694ac5832"
            ]
          }
        },
        "11368deb66754bd89bbf1686b62ddbd8": {
          "model_module": "@jupyter-widgets/base",
          "model_name": "LayoutModel",
          "state": {
            "_view_name": "LayoutView",
            "grid_template_rows": null,
            "right": null,
            "justify_content": null,
            "_view_module": "@jupyter-widgets/base",
            "overflow": null,
            "_model_module_version": "1.2.0",
            "_view_count": null,
            "flex_flow": null,
            "width": null,
            "min_width": null,
            "border": null,
            "align_items": null,
            "bottom": null,
            "_model_module": "@jupyter-widgets/base",
            "top": null,
            "grid_column": null,
            "overflow_y": null,
            "overflow_x": null,
            "grid_auto_flow": null,
            "grid_area": null,
            "grid_template_columns": null,
            "flex": null,
            "_model_name": "LayoutModel",
            "justify_items": null,
            "grid_row": null,
            "max_height": null,
            "align_content": null,
            "visibility": null,
            "align_self": null,
            "height": null,
            "min_height": null,
            "padding": null,
            "grid_auto_rows": null,
            "grid_gap": null,
            "max_width": null,
            "order": null,
            "_view_module_version": "1.2.0",
            "grid_template_areas": null,
            "object_position": null,
            "object_fit": null,
            "grid_auto_columns": null,
            "margin": null,
            "display": null,
            "left": null
          }
        },
        "1d2d42c794d348b8ba2b89ee530ea7e9": {
          "model_module": "@jupyter-widgets/controls",
          "model_name": "FloatProgressModel",
          "state": {
            "_view_name": "ProgressView",
            "style": "IPY_MODEL_6d6eafd507fd4cf1b7262dc899227815",
            "_dom_classes": [],
            "description": "Downloading: 100%",
            "_model_name": "FloatProgressModel",
            "bar_style": "success",
            "max": 625,
            "_view_module": "@jupyter-widgets/controls",
            "_model_module_version": "1.5.0",
            "value": 625,
            "_view_count": null,
            "_view_module_version": "1.5.0",
            "orientation": "horizontal",
            "min": 0,
            "description_tooltip": null,
            "_model_module": "@jupyter-widgets/controls",
            "layout": "IPY_MODEL_3404d32d5005465880e7b8abd8f3c607"
          }
        },
        "935390a448ef4aadb1b0bc3694ac5832": {
          "model_module": "@jupyter-widgets/controls",
          "model_name": "HTMLModel",
          "state": {
            "_view_name": "HTMLView",
            "style": "IPY_MODEL_dff720958a944973a7e2d0ba208b35c9",
            "_dom_classes": [],
            "description": "",
            "_model_name": "HTMLModel",
            "placeholder": "​",
            "_view_module": "@jupyter-widgets/controls",
            "_model_module_version": "1.5.0",
            "value": " 625/625 [00:33&lt;00:00, 18.9B/s]",
            "_view_count": null,
            "_view_module_version": "1.5.0",
            "description_tooltip": null,
            "_model_module": "@jupyter-widgets/controls",
            "layout": "IPY_MODEL_ab3a7863b86e40c6aeaf41086c403b85"
          }
        },
        "6d6eafd507fd4cf1b7262dc899227815": {
          "model_module": "@jupyter-widgets/controls",
          "model_name": "ProgressStyleModel",
          "state": {
            "_view_name": "StyleView",
            "_model_name": "ProgressStyleModel",
            "description_width": "initial",
            "_view_module": "@jupyter-widgets/base",
            "_model_module_version": "1.5.0",
            "_view_count": null,
            "_view_module_version": "1.2.0",
            "bar_color": null,
            "_model_module": "@jupyter-widgets/controls"
          }
        },
        "3404d32d5005465880e7b8abd8f3c607": {
          "model_module": "@jupyter-widgets/base",
          "model_name": "LayoutModel",
          "state": {
            "_view_name": "LayoutView",
            "grid_template_rows": null,
            "right": null,
            "justify_content": null,
            "_view_module": "@jupyter-widgets/base",
            "overflow": null,
            "_model_module_version": "1.2.0",
            "_view_count": null,
            "flex_flow": null,
            "width": null,
            "min_width": null,
            "border": null,
            "align_items": null,
            "bottom": null,
            "_model_module": "@jupyter-widgets/base",
            "top": null,
            "grid_column": null,
            "overflow_y": null,
            "overflow_x": null,
            "grid_auto_flow": null,
            "grid_area": null,
            "grid_template_columns": null,
            "flex": null,
            "_model_name": "LayoutModel",
            "justify_items": null,
            "grid_row": null,
            "max_height": null,
            "align_content": null,
            "visibility": null,
            "align_self": null,
            "height": null,
            "min_height": null,
            "padding": null,
            "grid_auto_rows": null,
            "grid_gap": null,
            "max_width": null,
            "order": null,
            "_view_module_version": "1.2.0",
            "grid_template_areas": null,
            "object_position": null,
            "object_fit": null,
            "grid_auto_columns": null,
            "margin": null,
            "display": null,
            "left": null
          }
        },
        "dff720958a944973a7e2d0ba208b35c9": {
          "model_module": "@jupyter-widgets/controls",
          "model_name": "DescriptionStyleModel",
          "state": {
            "_view_name": "StyleView",
            "_model_name": "DescriptionStyleModel",
            "description_width": "",
            "_view_module": "@jupyter-widgets/base",
            "_model_module_version": "1.5.0",
            "_view_count": null,
            "_view_module_version": "1.2.0",
            "_model_module": "@jupyter-widgets/controls"
          }
        },
        "ab3a7863b86e40c6aeaf41086c403b85": {
          "model_module": "@jupyter-widgets/base",
          "model_name": "LayoutModel",
          "state": {
            "_view_name": "LayoutView",
            "grid_template_rows": null,
            "right": null,
            "justify_content": null,
            "_view_module": "@jupyter-widgets/base",
            "overflow": null,
            "_model_module_version": "1.2.0",
            "_view_count": null,
            "flex_flow": null,
            "width": null,
            "min_width": null,
            "border": null,
            "align_items": null,
            "bottom": null,
            "_model_module": "@jupyter-widgets/base",
            "top": null,
            "grid_column": null,
            "overflow_y": null,
            "overflow_x": null,
            "grid_auto_flow": null,
            "grid_area": null,
            "grid_template_columns": null,
            "flex": null,
            "_model_name": "LayoutModel",
            "justify_items": null,
            "grid_row": null,
            "max_height": null,
            "align_content": null,
            "visibility": null,
            "align_self": null,
            "height": null,
            "min_height": null,
            "padding": null,
            "grid_auto_rows": null,
            "grid_gap": null,
            "max_width": null,
            "order": null,
            "_view_module_version": "1.2.0",
            "grid_template_areas": null,
            "object_position": null,
            "object_fit": null,
            "grid_auto_columns": null,
            "margin": null,
            "display": null,
            "left": null
          }
        },
        "b27e3e9e7f30401c8196322bb3f7f19e": {
          "model_module": "@jupyter-widgets/controls",
          "model_name": "HBoxModel",
          "state": {
            "_view_name": "HBoxView",
            "_dom_classes": [],
            "_model_name": "HBoxModel",
            "_view_module": "@jupyter-widgets/controls",
            "_model_module_version": "1.5.0",
            "_view_count": null,
            "_view_module_version": "1.5.0",
            "box_style": "",
            "layout": "IPY_MODEL_d6e56b80313f43aab5d044a4e2558ce8",
            "_model_module": "@jupyter-widgets/controls",
            "children": [
              "IPY_MODEL_4fd42312aff549f4a7f16760b1b8f1a2",
              "IPY_MODEL_bbfc55b80d734437b4f07f61f555227b"
            ]
          }
        },
        "d6e56b80313f43aab5d044a4e2558ce8": {
          "model_module": "@jupyter-widgets/base",
          "model_name": "LayoutModel",
          "state": {
            "_view_name": "LayoutView",
            "grid_template_rows": null,
            "right": null,
            "justify_content": null,
            "_view_module": "@jupyter-widgets/base",
            "overflow": null,
            "_model_module_version": "1.2.0",
            "_view_count": null,
            "flex_flow": null,
            "width": null,
            "min_width": null,
            "border": null,
            "align_items": null,
            "bottom": null,
            "_model_module": "@jupyter-widgets/base",
            "top": null,
            "grid_column": null,
            "overflow_y": null,
            "overflow_x": null,
            "grid_auto_flow": null,
            "grid_area": null,
            "grid_template_columns": null,
            "flex": null,
            "_model_name": "LayoutModel",
            "justify_items": null,
            "grid_row": null,
            "max_height": null,
            "align_content": null,
            "visibility": null,
            "align_self": null,
            "height": null,
            "min_height": null,
            "padding": null,
            "grid_auto_rows": null,
            "grid_gap": null,
            "max_width": null,
            "order": null,
            "_view_module_version": "1.2.0",
            "grid_template_areas": null,
            "object_position": null,
            "object_fit": null,
            "grid_auto_columns": null,
            "margin": null,
            "display": null,
            "left": null
          }
        },
        "4fd42312aff549f4a7f16760b1b8f1a2": {
          "model_module": "@jupyter-widgets/controls",
          "model_name": "FloatProgressModel",
          "state": {
            "_view_name": "ProgressView",
            "style": "IPY_MODEL_71905c2716414f68b2ad78b12700a5a6",
            "_dom_classes": [],
            "description": "Downloading: 100%",
            "_model_name": "FloatProgressModel",
            "bar_style": "success",
            "max": 1083389348,
            "_view_module": "@jupyter-widgets/controls",
            "_model_module_version": "1.5.0",
            "value": 1083389348,
            "_view_count": null,
            "_view_module_version": "1.5.0",
            "orientation": "horizontal",
            "min": 0,
            "description_tooltip": null,
            "_model_module": "@jupyter-widgets/controls",
            "layout": "IPY_MODEL_6a1687384f424d22842cb152481ed328"
          }
        },
        "bbfc55b80d734437b4f07f61f555227b": {
          "model_module": "@jupyter-widgets/controls",
          "model_name": "HTMLModel",
          "state": {
            "_view_name": "HTMLView",
            "style": "IPY_MODEL_53157fe4e64a400285bfa7e52b45690f",
            "_dom_classes": [],
            "description": "",
            "_model_name": "HTMLModel",
            "placeholder": "​",
            "_view_module": "@jupyter-widgets/controls",
            "_model_module_version": "1.5.0",
            "value": " 1.08G/1.08G [00:13&lt;00:00, 81.0MB/s]",
            "_view_count": null,
            "_view_module_version": "1.5.0",
            "description_tooltip": null,
            "_model_module": "@jupyter-widgets/controls",
            "layout": "IPY_MODEL_c15875cf9a334b2d9020af31238dc644"
          }
        },
        "71905c2716414f68b2ad78b12700a5a6": {
          "model_module": "@jupyter-widgets/controls",
          "model_name": "ProgressStyleModel",
          "state": {
            "_view_name": "StyleView",
            "_model_name": "ProgressStyleModel",
            "description_width": "initial",
            "_view_module": "@jupyter-widgets/base",
            "_model_module_version": "1.5.0",
            "_view_count": null,
            "_view_module_version": "1.2.0",
            "bar_color": null,
            "_model_module": "@jupyter-widgets/controls"
          }
        },
        "6a1687384f424d22842cb152481ed328": {
          "model_module": "@jupyter-widgets/base",
          "model_name": "LayoutModel",
          "state": {
            "_view_name": "LayoutView",
            "grid_template_rows": null,
            "right": null,
            "justify_content": null,
            "_view_module": "@jupyter-widgets/base",
            "overflow": null,
            "_model_module_version": "1.2.0",
            "_view_count": null,
            "flex_flow": null,
            "width": null,
            "min_width": null,
            "border": null,
            "align_items": null,
            "bottom": null,
            "_model_module": "@jupyter-widgets/base",
            "top": null,
            "grid_column": null,
            "overflow_y": null,
            "overflow_x": null,
            "grid_auto_flow": null,
            "grid_area": null,
            "grid_template_columns": null,
            "flex": null,
            "_model_name": "LayoutModel",
            "justify_items": null,
            "grid_row": null,
            "max_height": null,
            "align_content": null,
            "visibility": null,
            "align_self": null,
            "height": null,
            "min_height": null,
            "padding": null,
            "grid_auto_rows": null,
            "grid_gap": null,
            "max_width": null,
            "order": null,
            "_view_module_version": "1.2.0",
            "grid_template_areas": null,
            "object_position": null,
            "object_fit": null,
            "grid_auto_columns": null,
            "margin": null,
            "display": null,
            "left": null
          }
        },
        "53157fe4e64a400285bfa7e52b45690f": {
          "model_module": "@jupyter-widgets/controls",
          "model_name": "DescriptionStyleModel",
          "state": {
            "_view_name": "StyleView",
            "_model_name": "DescriptionStyleModel",
            "description_width": "",
            "_view_module": "@jupyter-widgets/base",
            "_model_module_version": "1.5.0",
            "_view_count": null,
            "_view_module_version": "1.2.0",
            "_model_module": "@jupyter-widgets/controls"
          }
        },
        "c15875cf9a334b2d9020af31238dc644": {
          "model_module": "@jupyter-widgets/base",
          "model_name": "LayoutModel",
          "state": {
            "_view_name": "LayoutView",
            "grid_template_rows": null,
            "right": null,
            "justify_content": null,
            "_view_module": "@jupyter-widgets/base",
            "overflow": null,
            "_model_module_version": "1.2.0",
            "_view_count": null,
            "flex_flow": null,
            "width": null,
            "min_width": null,
            "border": null,
            "align_items": null,
            "bottom": null,
            "_model_module": "@jupyter-widgets/base",
            "top": null,
            "grid_column": null,
            "overflow_y": null,
            "overflow_x": null,
            "grid_auto_flow": null,
            "grid_area": null,
            "grid_template_columns": null,
            "flex": null,
            "_model_name": "LayoutModel",
            "justify_items": null,
            "grid_row": null,
            "max_height": null,
            "align_content": null,
            "visibility": null,
            "align_self": null,
            "height": null,
            "min_height": null,
            "padding": null,
            "grid_auto_rows": null,
            "grid_gap": null,
            "max_width": null,
            "order": null,
            "_view_module_version": "1.2.0",
            "grid_template_areas": null,
            "object_position": null,
            "object_fit": null,
            "grid_auto_columns": null,
            "margin": null,
            "display": null,
            "left": null
          }
        },
        "4c36dd6d6ed545e4b3e09327481a6047": {
          "model_module": "@jupyter-widgets/controls",
          "model_name": "HBoxModel",
          "state": {
            "_view_name": "HBoxView",
            "_dom_classes": [],
            "_model_name": "HBoxModel",
            "_view_module": "@jupyter-widgets/controls",
            "_model_module_version": "1.5.0",
            "_view_count": null,
            "_view_module_version": "1.5.0",
            "box_style": "",
            "layout": "IPY_MODEL_d6693ddf2ec94767b5b289ed07e3b62d",
            "_model_module": "@jupyter-widgets/controls",
            "children": [
              "IPY_MODEL_204d079d8cdd4c0cbc4ffd45e1afcab4",
              "IPY_MODEL_b47ed699f2df4a06a89e4a69a9405ef1"
            ]
          }
        },
        "d6693ddf2ec94767b5b289ed07e3b62d": {
          "model_module": "@jupyter-widgets/base",
          "model_name": "LayoutModel",
          "state": {
            "_view_name": "LayoutView",
            "grid_template_rows": null,
            "right": null,
            "justify_content": null,
            "_view_module": "@jupyter-widgets/base",
            "overflow": null,
            "_model_module_version": "1.2.0",
            "_view_count": null,
            "flex_flow": null,
            "width": null,
            "min_width": null,
            "border": null,
            "align_items": null,
            "bottom": null,
            "_model_module": "@jupyter-widgets/base",
            "top": null,
            "grid_column": null,
            "overflow_y": null,
            "overflow_x": null,
            "grid_auto_flow": null,
            "grid_area": null,
            "grid_template_columns": null,
            "flex": null,
            "_model_name": "LayoutModel",
            "justify_items": null,
            "grid_row": null,
            "max_height": null,
            "align_content": null,
            "visibility": null,
            "align_self": null,
            "height": null,
            "min_height": null,
            "padding": null,
            "grid_auto_rows": null,
            "grid_gap": null,
            "max_width": null,
            "order": null,
            "_view_module_version": "1.2.0",
            "grid_template_areas": null,
            "object_position": null,
            "object_fit": null,
            "grid_auto_columns": null,
            "margin": null,
            "display": null,
            "left": null
          }
        },
        "204d079d8cdd4c0cbc4ffd45e1afcab4": {
          "model_module": "@jupyter-widgets/controls",
          "model_name": "FloatProgressModel",
          "state": {
            "_view_name": "ProgressView",
            "style": "IPY_MODEL_ab8e1f2be00347a394eae255e15d318c",
            "_dom_classes": [],
            "description": "Downloading: 100%",
            "_model_name": "FloatProgressModel",
            "bar_style": "success",
            "max": 1083389348,
            "_view_module": "@jupyter-widgets/controls",
            "_model_module_version": "1.5.0",
            "value": 1083389348,
            "_view_count": null,
            "_view_module_version": "1.5.0",
            "orientation": "horizontal",
            "min": 0,
            "description_tooltip": null,
            "_model_module": "@jupyter-widgets/controls",
            "layout": "IPY_MODEL_a01c38b8ebf3450c958ccca704590000"
          }
        },
        "b47ed699f2df4a06a89e4a69a9405ef1": {
          "model_module": "@jupyter-widgets/controls",
          "model_name": "HTMLModel",
          "state": {
            "_view_name": "HTMLView",
            "style": "IPY_MODEL_33c80f6bf0c7424ea02fa1e42fb8e810",
            "_dom_classes": [],
            "description": "",
            "_model_name": "HTMLModel",
            "placeholder": "​",
            "_view_module": "@jupyter-widgets/controls",
            "_model_module_version": "1.5.0",
            "value": " 1.08G/1.08G [00:23&lt;00:00, 45.8MB/s]",
            "_view_count": null,
            "_view_module_version": "1.5.0",
            "description_tooltip": null,
            "_model_module": "@jupyter-widgets/controls",
            "layout": "IPY_MODEL_e95d4639895e421eaa598f958e556d9b"
          }
        },
        "ab8e1f2be00347a394eae255e15d318c": {
          "model_module": "@jupyter-widgets/controls",
          "model_name": "ProgressStyleModel",
          "state": {
            "_view_name": "StyleView",
            "_model_name": "ProgressStyleModel",
            "description_width": "initial",
            "_view_module": "@jupyter-widgets/base",
            "_model_module_version": "1.5.0",
            "_view_count": null,
            "_view_module_version": "1.2.0",
            "bar_color": null,
            "_model_module": "@jupyter-widgets/controls"
          }
        },
        "a01c38b8ebf3450c958ccca704590000": {
          "model_module": "@jupyter-widgets/base",
          "model_name": "LayoutModel",
          "state": {
            "_view_name": "LayoutView",
            "grid_template_rows": null,
            "right": null,
            "justify_content": null,
            "_view_module": "@jupyter-widgets/base",
            "overflow": null,
            "_model_module_version": "1.2.0",
            "_view_count": null,
            "flex_flow": null,
            "width": null,
            "min_width": null,
            "border": null,
            "align_items": null,
            "bottom": null,
            "_model_module": "@jupyter-widgets/base",
            "top": null,
            "grid_column": null,
            "overflow_y": null,
            "overflow_x": null,
            "grid_auto_flow": null,
            "grid_area": null,
            "grid_template_columns": null,
            "flex": null,
            "_model_name": "LayoutModel",
            "justify_items": null,
            "grid_row": null,
            "max_height": null,
            "align_content": null,
            "visibility": null,
            "align_self": null,
            "height": null,
            "min_height": null,
            "padding": null,
            "grid_auto_rows": null,
            "grid_gap": null,
            "max_width": null,
            "order": null,
            "_view_module_version": "1.2.0",
            "grid_template_areas": null,
            "object_position": null,
            "object_fit": null,
            "grid_auto_columns": null,
            "margin": null,
            "display": null,
            "left": null
          }
        },
        "33c80f6bf0c7424ea02fa1e42fb8e810": {
          "model_module": "@jupyter-widgets/controls",
          "model_name": "DescriptionStyleModel",
          "state": {
            "_view_name": "StyleView",
            "_model_name": "DescriptionStyleModel",
            "description_width": "",
            "_view_module": "@jupyter-widgets/base",
            "_model_module_version": "1.5.0",
            "_view_count": null,
            "_view_module_version": "1.2.0",
            "_model_module": "@jupyter-widgets/controls"
          }
        },
        "e95d4639895e421eaa598f958e556d9b": {
          "model_module": "@jupyter-widgets/base",
          "model_name": "LayoutModel",
          "state": {
            "_view_name": "LayoutView",
            "grid_template_rows": null,
            "right": null,
            "justify_content": null,
            "_view_module": "@jupyter-widgets/base",
            "overflow": null,
            "_model_module_version": "1.2.0",
            "_view_count": null,
            "flex_flow": null,
            "width": null,
            "min_width": null,
            "border": null,
            "align_items": null,
            "bottom": null,
            "_model_module": "@jupyter-widgets/base",
            "top": null,
            "grid_column": null,
            "overflow_y": null,
            "overflow_x": null,
            "grid_auto_flow": null,
            "grid_area": null,
            "grid_template_columns": null,
            "flex": null,
            "_model_name": "LayoutModel",
            "justify_items": null,
            "grid_row": null,
            "max_height": null,
            "align_content": null,
            "visibility": null,
            "align_self": null,
            "height": null,
            "min_height": null,
            "padding": null,
            "grid_auto_rows": null,
            "grid_gap": null,
            "max_width": null,
            "order": null,
            "_view_module_version": "1.2.0",
            "grid_template_areas": null,
            "object_position": null,
            "object_fit": null,
            "grid_auto_columns": null,
            "margin": null,
            "display": null,
            "left": null
          }
        }
      }
    }
  },
  "cells": [
    {
      "cell_type": "markdown",
      "metadata": {
        "id": "PRGpwrkmPYbO",
        "colab_type": "text"
      },
      "source": [
        "# Transformers\n",
        "\n",
        " HuggingFace의 [Transformer](https://huggingface.co/transformers/index.html) 라이브러리를 이용해 BERT Classification 모델을 구현해 네이버 영화 감성분석 문제를 푼다."
      ]
    },
    {
      "cell_type": "markdown",
      "metadata": {
        "id": "r9yMtEjbPVwB",
        "colab_type": "text"
      },
      "source": [
        "#==================================="
      ]
    },
    {
      "cell_type": "markdown",
      "metadata": {
        "id": "7qhMC5ofREzH",
        "colab_type": "text"
      },
      "source": [
        "# _0_. Importing Modules"
      ]
    },
    {
      "cell_type": "code",
      "metadata": {
        "id": "0ZuDj9j4PMd_",
        "colab_type": "code",
        "colab": {
          "base_uri": "https://localhost:8080/",
          "height": 641
        },
        "outputId": "0c2a3216-c8a5-4776-85b1-14cae19c3047"
      },
      "source": [
        "!pip install transformers"
      ],
      "execution_count": 1,
      "outputs": [
        {
          "output_type": "stream",
          "text": [
            "Collecting transformers\n",
            "\u001b[?25l  Downloading https://files.pythonhosted.org/packages/27/3c/91ed8f5c4e7ef3227b4119200fc0ed4b4fd965b1f0172021c25701087825/transformers-3.0.2-py3-none-any.whl (769kB)\n",
            "\u001b[K     |████████████████████████████████| 778kB 8.5MB/s \n",
            "\u001b[?25hCollecting tokenizers==0.8.1.rc1\n",
            "\u001b[?25l  Downloading https://files.pythonhosted.org/packages/40/d0/30d5f8d221a0ed981a186c8eb986ce1c94e3a6e87f994eae9f4aa5250217/tokenizers-0.8.1rc1-cp36-cp36m-manylinux1_x86_64.whl (3.0MB)\n",
            "\u001b[K     |████████████████████████████████| 3.0MB 31.2MB/s \n",
            "\u001b[?25hRequirement already satisfied: tqdm>=4.27 in /usr/local/lib/python3.6/dist-packages (from transformers) (4.41.1)\n",
            "Requirement already satisfied: numpy in /usr/local/lib/python3.6/dist-packages (from transformers) (1.18.5)\n",
            "Collecting sacremoses\n",
            "\u001b[?25l  Downloading https://files.pythonhosted.org/packages/7d/34/09d19aff26edcc8eb2a01bed8e98f13a1537005d31e95233fd48216eed10/sacremoses-0.0.43.tar.gz (883kB)\n",
            "\u001b[K     |████████████████████████████████| 890kB 54.0MB/s \n",
            "\u001b[?25hRequirement already satisfied: dataclasses; python_version < \"3.7\" in /usr/local/lib/python3.6/dist-packages (from transformers) (0.7)\n",
            "Requirement already satisfied: requests in /usr/local/lib/python3.6/dist-packages (from transformers) (2.23.0)\n",
            "Requirement already satisfied: regex!=2019.12.17 in /usr/local/lib/python3.6/dist-packages (from transformers) (2019.12.20)\n",
            "Requirement already satisfied: filelock in /usr/local/lib/python3.6/dist-packages (from transformers) (3.0.12)\n",
            "Requirement already satisfied: packaging in /usr/local/lib/python3.6/dist-packages (from transformers) (20.4)\n",
            "Collecting sentencepiece!=0.1.92\n",
            "\u001b[?25l  Downloading https://files.pythonhosted.org/packages/d4/a4/d0a884c4300004a78cca907a6ff9a5e9fe4f090f5d95ab341c53d28cbc58/sentencepiece-0.1.91-cp36-cp36m-manylinux1_x86_64.whl (1.1MB)\n",
            "\u001b[K     |████████████████████████████████| 1.1MB 56.2MB/s \n",
            "\u001b[?25hRequirement already satisfied: six in /usr/local/lib/python3.6/dist-packages (from sacremoses->transformers) (1.15.0)\n",
            "Requirement already satisfied: click in /usr/local/lib/python3.6/dist-packages (from sacremoses->transformers) (7.1.2)\n",
            "Requirement already satisfied: joblib in /usr/local/lib/python3.6/dist-packages (from sacremoses->transformers) (0.16.0)\n",
            "Requirement already satisfied: chardet<4,>=3.0.2 in /usr/local/lib/python3.6/dist-packages (from requests->transformers) (3.0.4)\n",
            "Requirement already satisfied: certifi>=2017.4.17 in /usr/local/lib/python3.6/dist-packages (from requests->transformers) (2020.6.20)\n",
            "Requirement already satisfied: urllib3!=1.25.0,!=1.25.1,<1.26,>=1.21.1 in /usr/local/lib/python3.6/dist-packages (from requests->transformers) (1.24.3)\n",
            "Requirement already satisfied: idna<3,>=2.5 in /usr/local/lib/python3.6/dist-packages (from requests->transformers) (2.10)\n",
            "Requirement already satisfied: pyparsing>=2.0.2 in /usr/local/lib/python3.6/dist-packages (from packaging->transformers) (2.4.7)\n",
            "Building wheels for collected packages: sacremoses\n",
            "  Building wheel for sacremoses (setup.py) ... \u001b[?25l\u001b[?25hdone\n",
            "  Created wheel for sacremoses: filename=sacremoses-0.0.43-cp36-none-any.whl size=893260 sha256=29ed08f8d50154f2a5297de3f72bcfa3c17193d3d60970ee8a648934f2cb3b99\n",
            "  Stored in directory: /root/.cache/pip/wheels/29/3c/fd/7ce5c3f0666dab31a50123635e6fb5e19ceb42ce38d4e58f45\n",
            "Successfully built sacremoses\n",
            "Installing collected packages: tokenizers, sacremoses, sentencepiece, transformers\n",
            "Successfully installed sacremoses-0.0.43 sentencepiece-0.1.91 tokenizers-0.8.1rc1 transformers-3.0.2\n"
          ],
          "name": "stdout"
        }
      ]
    },
    {
      "cell_type": "code",
      "metadata": {
        "id": "zAuR_E5YOl8Q",
        "colab_type": "code",
        "colab": {}
      },
      "source": [
        "# 모듈 불러오기\n",
        "import numpy as np\n",
        "import pandas as pd\n",
        "import re\n",
        "from tqdm import tqdm\n",
        "from sklearn.model_selection import train_test_split\n",
        "\n",
        "from transformers import BertTokenizer, BertConfig\n",
        "from transformers import TFBertModel, TFBertForSequenceClassification\n",
        "\n",
        "import tensorflow as tf\n",
        "from tensorflow.keras.optimizers import Adam\n",
        "from tensorflow.keras.layers import Input, Dense, Dropout, BatchNormalization\n",
        "from tensorflow.keras.layers import LSTM, Bidirectional\n",
        "from tensorflow.keras.layers import GlobalMaxPool1D\n",
        "from tensorflow.keras.models import Model\n",
        "import tensorflow.keras.backend as K\n",
        "\n",
        "from IPython.display import SVG\n",
        "from keras.utils import model_to_dot\n",
        "import matplotlib.pyplot as plt\n",
        "import warnings\n",
        "\n",
        "warnings.filterwarnings(action='ignore')"
      ],
      "execution_count": 24,
      "outputs": []
    },
    {
      "cell_type": "code",
      "metadata": {
        "id": "5wGaxI0ePK6V",
        "colab_type": "code",
        "colab": {}
      },
      "source": [
        "# 경로 설정\n",
        "model_path = \"/content/drive/My Drive/BERT/HuggingFace\"\n",
        "data_path = \"/content/drive/My Drive/dataset\"\n",
        "TRAIN_PATH = f\"{data_path}/ratings_train.txt\"\n",
        "TEST_PATH = f\"{data_path}/ratings_test.txt\""
      ],
      "execution_count": 3,
      "outputs": []
    },
    {
      "cell_type": "markdown",
      "metadata": {
        "id": "k8XDEA2OfAeR",
        "colab_type": "text"
      },
      "source": [
        "# _1_. Preprocessing Data"
      ]
    },
    {
      "cell_type": "code",
      "metadata": {
        "id": "k5zZI5kbgPyu",
        "colab_type": "code",
        "colab": {}
      },
      "source": [
        "# 전처리\n",
        "def preprocess_data(x):\n",
        "    x_clean = re.sub(\"[^가-힣ㄱ-ㅎㅏ-ㅣ ]\", \"\", str(x)) # 한글, 공백 제외 제거\n",
        "    return x_clean"
      ],
      "execution_count": 4,
      "outputs": []
    },
    {
      "cell_type": "markdown",
      "metadata": {
        "id": "x8VWkgz1fOit",
        "colab_type": "text"
      },
      "source": [
        "## Train"
      ]
    },
    {
      "cell_type": "code",
      "metadata": {
        "id": "XBFg6dIGPZE4",
        "colab_type": "code",
        "colab": {
          "base_uri": "https://localhost:8080/",
          "height": 211
        },
        "outputId": "23d7f37b-fa17-468e-b673-00ba52f03a0d"
      },
      "source": [
        "# 데이터 로드\n",
        "train_data = pd.read_csv(TRAIN_PATH, header=0, delimiter='\\t', quoting=3)\n",
        "train_data.head()"
      ],
      "execution_count": 9,
      "outputs": [
        {
          "output_type": "execute_result",
          "data": {
            "text/html": [
              "<div>\n",
              "<style scoped>\n",
              "    .dataframe tbody tr th:only-of-type {\n",
              "        vertical-align: middle;\n",
              "    }\n",
              "\n",
              "    .dataframe tbody tr th {\n",
              "        vertical-align: top;\n",
              "    }\n",
              "\n",
              "    .dataframe thead th {\n",
              "        text-align: right;\n",
              "    }\n",
              "</style>\n",
              "<table border=\"1\" class=\"dataframe\">\n",
              "  <thead>\n",
              "    <tr style=\"text-align: right;\">\n",
              "      <th></th>\n",
              "      <th>id</th>\n",
              "      <th>document</th>\n",
              "      <th>label</th>\n",
              "    </tr>\n",
              "  </thead>\n",
              "  <tbody>\n",
              "    <tr>\n",
              "      <th>0</th>\n",
              "      <td>9976970</td>\n",
              "      <td>아 더빙.. 진짜 짜증나네요 목소리</td>\n",
              "      <td>0</td>\n",
              "    </tr>\n",
              "    <tr>\n",
              "      <th>1</th>\n",
              "      <td>3819312</td>\n",
              "      <td>흠...포스터보고 초딩영화줄....오버연기조차 가볍지 않구나</td>\n",
              "      <td>1</td>\n",
              "    </tr>\n",
              "    <tr>\n",
              "      <th>2</th>\n",
              "      <td>10265843</td>\n",
              "      <td>너무재밓었다그래서보는것을추천한다</td>\n",
              "      <td>0</td>\n",
              "    </tr>\n",
              "    <tr>\n",
              "      <th>3</th>\n",
              "      <td>9045019</td>\n",
              "      <td>교도소 이야기구먼 ..솔직히 재미는 없다..평점 조정</td>\n",
              "      <td>0</td>\n",
              "    </tr>\n",
              "    <tr>\n",
              "      <th>4</th>\n",
              "      <td>6483659</td>\n",
              "      <td>사이몬페그의 익살스런 연기가 돋보였던 영화!스파이더맨에서 늙어보이기만 했던 커스틴 ...</td>\n",
              "      <td>1</td>\n",
              "    </tr>\n",
              "  </tbody>\n",
              "</table>\n",
              "</div>"
            ],
            "text/plain": [
              "         id                                           document  label\n",
              "0   9976970                                아 더빙.. 진짜 짜증나네요 목소리      0\n",
              "1   3819312                  흠...포스터보고 초딩영화줄....오버연기조차 가볍지 않구나      1\n",
              "2  10265843                                  너무재밓었다그래서보는것을추천한다      0\n",
              "3   9045019                      교도소 이야기구먼 ..솔직히 재미는 없다..평점 조정      0\n",
              "4   6483659  사이몬페그의 익살스런 연기가 돋보였던 영화!스파이더맨에서 늙어보이기만 했던 커스틴 ...      1"
            ]
          },
          "metadata": {
            "tags": []
          },
          "execution_count": 9
        }
      ]
    },
    {
      "cell_type": "code",
      "metadata": {
        "id": "FvwKWDfoQE38",
        "colab_type": "code",
        "colab": {
          "base_uri": "https://localhost:8080/",
          "height": 266
        },
        "outputId": "1d7bec38-5ea0-40f5-bc70-31cf5e1abaed"
      },
      "source": [
        "# 결측치 제거\n",
        "print(train_data.isnull().sum())\n",
        "train_data = train_data.dropna()\n",
        "train_data.info()"
      ],
      "execution_count": 10,
      "outputs": [
        {
          "output_type": "stream",
          "text": [
            "id          0\n",
            "document    5\n",
            "label       0\n",
            "dtype: int64\n",
            "<class 'pandas.core.frame.DataFrame'>\n",
            "Int64Index: 149995 entries, 0 to 149999\n",
            "Data columns (total 3 columns):\n",
            " #   Column    Non-Null Count   Dtype \n",
            "---  ------    --------------   ----- \n",
            " 0   id        149995 non-null  int64 \n",
            " 1   document  149995 non-null  object\n",
            " 2   label     149995 non-null  int64 \n",
            "dtypes: int64(2), object(1)\n",
            "memory usage: 4.6+ MB\n"
          ],
          "name": "stdout"
        }
      ]
    },
    {
      "cell_type": "code",
      "metadata": {
        "id": "bDfuWkDzP4Zr",
        "colab_type": "code",
        "colab": {
          "base_uri": "https://localhost:8080/",
          "height": 416
        },
        "outputId": "7548ab16-4029-4a3b-d1fb-044178152e53"
      },
      "source": [
        "# 한글만 남기기\n",
        "train_data['document'] = train_data['document'].apply(lambda x: preprocess_data(x))\n",
        "display(train_data)"
      ],
      "execution_count": 11,
      "outputs": [
        {
          "output_type": "display_data",
          "data": {
            "text/html": [
              "<div>\n",
              "<style scoped>\n",
              "    .dataframe tbody tr th:only-of-type {\n",
              "        vertical-align: middle;\n",
              "    }\n",
              "\n",
              "    .dataframe tbody tr th {\n",
              "        vertical-align: top;\n",
              "    }\n",
              "\n",
              "    .dataframe thead th {\n",
              "        text-align: right;\n",
              "    }\n",
              "</style>\n",
              "<table border=\"1\" class=\"dataframe\">\n",
              "  <thead>\n",
              "    <tr style=\"text-align: right;\">\n",
              "      <th></th>\n",
              "      <th>id</th>\n",
              "      <th>document</th>\n",
              "      <th>label</th>\n",
              "    </tr>\n",
              "  </thead>\n",
              "  <tbody>\n",
              "    <tr>\n",
              "      <th>0</th>\n",
              "      <td>9976970</td>\n",
              "      <td>아 더빙 진짜 짜증나네요 목소리</td>\n",
              "      <td>0</td>\n",
              "    </tr>\n",
              "    <tr>\n",
              "      <th>1</th>\n",
              "      <td>3819312</td>\n",
              "      <td>흠포스터보고 초딩영화줄오버연기조차 가볍지 않구나</td>\n",
              "      <td>1</td>\n",
              "    </tr>\n",
              "    <tr>\n",
              "      <th>2</th>\n",
              "      <td>10265843</td>\n",
              "      <td>너무재밓었다그래서보는것을추천한다</td>\n",
              "      <td>0</td>\n",
              "    </tr>\n",
              "    <tr>\n",
              "      <th>3</th>\n",
              "      <td>9045019</td>\n",
              "      <td>교도소 이야기구먼 솔직히 재미는 없다평점 조정</td>\n",
              "      <td>0</td>\n",
              "    </tr>\n",
              "    <tr>\n",
              "      <th>4</th>\n",
              "      <td>6483659</td>\n",
              "      <td>사이몬페그의 익살스런 연기가 돋보였던 영화스파이더맨에서 늙어보이기만 했던 커스틴 던...</td>\n",
              "      <td>1</td>\n",
              "    </tr>\n",
              "    <tr>\n",
              "      <th>...</th>\n",
              "      <td>...</td>\n",
              "      <td>...</td>\n",
              "      <td>...</td>\n",
              "    </tr>\n",
              "    <tr>\n",
              "      <th>149995</th>\n",
              "      <td>6222902</td>\n",
              "      <td>인간이 문제지 소는 뭔죄인가</td>\n",
              "      <td>0</td>\n",
              "    </tr>\n",
              "    <tr>\n",
              "      <th>149996</th>\n",
              "      <td>8549745</td>\n",
              "      <td>평점이 너무 낮아서</td>\n",
              "      <td>1</td>\n",
              "    </tr>\n",
              "    <tr>\n",
              "      <th>149997</th>\n",
              "      <td>9311800</td>\n",
              "      <td>이게 뭐요 한국인은 거들먹거리고 필리핀 혼혈은 착하다</td>\n",
              "      <td>0</td>\n",
              "    </tr>\n",
              "    <tr>\n",
              "      <th>149998</th>\n",
              "      <td>2376369</td>\n",
              "      <td>청춘 영화의 최고봉방황과 우울했던 날들의 자화상</td>\n",
              "      <td>1</td>\n",
              "    </tr>\n",
              "    <tr>\n",
              "      <th>149999</th>\n",
              "      <td>9619869</td>\n",
              "      <td>한국 영화 최초로 수간하는 내용이 담긴 영화</td>\n",
              "      <td>0</td>\n",
              "    </tr>\n",
              "  </tbody>\n",
              "</table>\n",
              "<p>149995 rows × 3 columns</p>\n",
              "</div>"
            ],
            "text/plain": [
              "              id                                           document  label\n",
              "0        9976970                                  아 더빙 진짜 짜증나네요 목소리      0\n",
              "1        3819312                         흠포스터보고 초딩영화줄오버연기조차 가볍지 않구나      1\n",
              "2       10265843                                  너무재밓었다그래서보는것을추천한다      0\n",
              "3        9045019                          교도소 이야기구먼 솔직히 재미는 없다평점 조정      0\n",
              "4        6483659  사이몬페그의 익살스런 연기가 돋보였던 영화스파이더맨에서 늙어보이기만 했던 커스틴 던...      1\n",
              "...          ...                                                ...    ...\n",
              "149995   6222902                                    인간이 문제지 소는 뭔죄인가      0\n",
              "149996   8549745                                         평점이 너무 낮아서      1\n",
              "149997   9311800                      이게 뭐요 한국인은 거들먹거리고 필리핀 혼혈은 착하다      0\n",
              "149998   2376369                         청춘 영화의 최고봉방황과 우울했던 날들의 자화상      1\n",
              "149999   9619869                           한국 영화 최초로 수간하는 내용이 담긴 영화      0\n",
              "\n",
              "[149995 rows x 3 columns]"
            ]
          },
          "metadata": {
            "tags": []
          }
        }
      ]
    },
    {
      "cell_type": "code",
      "metadata": {
        "id": "3mqEjV1blsJO",
        "colab_type": "code",
        "colab": {
          "base_uri": "https://localhost:8080/",
          "height": 416
        },
        "outputId": "b957c1f5-d422-45f9-b61e-f5880d22f349"
      },
      "source": [
        "# 빈 데이터 제거\n",
        "drop_train = [idx for idx, sent in enumerate(train_data['document']) if len(sent) < 1]\n",
        "train_data = train_data.drop(drop_train, axis=0)\n",
        "display(train_data)"
      ],
      "execution_count": 12,
      "outputs": [
        {
          "output_type": "display_data",
          "data": {
            "text/html": [
              "<div>\n",
              "<style scoped>\n",
              "    .dataframe tbody tr th:only-of-type {\n",
              "        vertical-align: middle;\n",
              "    }\n",
              "\n",
              "    .dataframe tbody tr th {\n",
              "        vertical-align: top;\n",
              "    }\n",
              "\n",
              "    .dataframe thead th {\n",
              "        text-align: right;\n",
              "    }\n",
              "</style>\n",
              "<table border=\"1\" class=\"dataframe\">\n",
              "  <thead>\n",
              "    <tr style=\"text-align: right;\">\n",
              "      <th></th>\n",
              "      <th>id</th>\n",
              "      <th>document</th>\n",
              "      <th>label</th>\n",
              "    </tr>\n",
              "  </thead>\n",
              "  <tbody>\n",
              "    <tr>\n",
              "      <th>0</th>\n",
              "      <td>9976970</td>\n",
              "      <td>아 더빙 진짜 짜증나네요 목소리</td>\n",
              "      <td>0</td>\n",
              "    </tr>\n",
              "    <tr>\n",
              "      <th>1</th>\n",
              "      <td>3819312</td>\n",
              "      <td>흠포스터보고 초딩영화줄오버연기조차 가볍지 않구나</td>\n",
              "      <td>1</td>\n",
              "    </tr>\n",
              "    <tr>\n",
              "      <th>2</th>\n",
              "      <td>10265843</td>\n",
              "      <td>너무재밓었다그래서보는것을추천한다</td>\n",
              "      <td>0</td>\n",
              "    </tr>\n",
              "    <tr>\n",
              "      <th>3</th>\n",
              "      <td>9045019</td>\n",
              "      <td>교도소 이야기구먼 솔직히 재미는 없다평점 조정</td>\n",
              "      <td>0</td>\n",
              "    </tr>\n",
              "    <tr>\n",
              "      <th>4</th>\n",
              "      <td>6483659</td>\n",
              "      <td>사이몬페그의 익살스런 연기가 돋보였던 영화스파이더맨에서 늙어보이기만 했던 커스틴 던...</td>\n",
              "      <td>1</td>\n",
              "    </tr>\n",
              "    <tr>\n",
              "      <th>...</th>\n",
              "      <td>...</td>\n",
              "      <td>...</td>\n",
              "      <td>...</td>\n",
              "    </tr>\n",
              "    <tr>\n",
              "      <th>149995</th>\n",
              "      <td>6222902</td>\n",
              "      <td>인간이 문제지 소는 뭔죄인가</td>\n",
              "      <td>0</td>\n",
              "    </tr>\n",
              "    <tr>\n",
              "      <th>149996</th>\n",
              "      <td>8549745</td>\n",
              "      <td>평점이 너무 낮아서</td>\n",
              "      <td>1</td>\n",
              "    </tr>\n",
              "    <tr>\n",
              "      <th>149997</th>\n",
              "      <td>9311800</td>\n",
              "      <td>이게 뭐요 한국인은 거들먹거리고 필리핀 혼혈은 착하다</td>\n",
              "      <td>0</td>\n",
              "    </tr>\n",
              "    <tr>\n",
              "      <th>149998</th>\n",
              "      <td>2376369</td>\n",
              "      <td>청춘 영화의 최고봉방황과 우울했던 날들의 자화상</td>\n",
              "      <td>1</td>\n",
              "    </tr>\n",
              "    <tr>\n",
              "      <th>149999</th>\n",
              "      <td>9619869</td>\n",
              "      <td>한국 영화 최초로 수간하는 내용이 담긴 영화</td>\n",
              "      <td>0</td>\n",
              "    </tr>\n",
              "  </tbody>\n",
              "</table>\n",
              "<p>149186 rows × 3 columns</p>\n",
              "</div>"
            ],
            "text/plain": [
              "              id                                           document  label\n",
              "0        9976970                                  아 더빙 진짜 짜증나네요 목소리      0\n",
              "1        3819312                         흠포스터보고 초딩영화줄오버연기조차 가볍지 않구나      1\n",
              "2       10265843                                  너무재밓었다그래서보는것을추천한다      0\n",
              "3        9045019                          교도소 이야기구먼 솔직히 재미는 없다평점 조정      0\n",
              "4        6483659  사이몬페그의 익살스런 연기가 돋보였던 영화스파이더맨에서 늙어보이기만 했던 커스틴 던...      1\n",
              "...          ...                                                ...    ...\n",
              "149995   6222902                                    인간이 문제지 소는 뭔죄인가      0\n",
              "149996   8549745                                         평점이 너무 낮아서      1\n",
              "149997   9311800                      이게 뭐요 한국인은 거들먹거리고 필리핀 혼혈은 착하다      0\n",
              "149998   2376369                         청춘 영화의 최고봉방황과 우울했던 날들의 자화상      1\n",
              "149999   9619869                           한국 영화 최초로 수간하는 내용이 담긴 영화      0\n",
              "\n",
              "[149186 rows x 3 columns]"
            ]
          },
          "metadata": {
            "tags": []
          }
        }
      ]
    },
    {
      "cell_type": "code",
      "metadata": {
        "id": "yZwDmZddRhV9",
        "colab_type": "code",
        "colab": {
          "base_uri": "https://localhost:8080/",
          "height": 90
        },
        "outputId": "fd8f6e10-f9e0-4267-d07f-95eac38a59f7"
      },
      "source": [
        "# 전처리된 데이터만 저장\n",
        "clean_train = []\n",
        "for review in tqdm(train_data['document']):\n",
        "    if type(review) == str:\n",
        "        clean_train.append(review)\n",
        "\n",
        "print(clean_train[:10])"
      ],
      "execution_count": 13,
      "outputs": [
        {
          "output_type": "stream",
          "text": [
            "100%|██████████| 149186/149186 [00:00<00:00, 1468608.37it/s]"
          ],
          "name": "stderr"
        },
        {
          "output_type": "stream",
          "text": [
            "['아 더빙 진짜 짜증나네요 목소리', '흠포스터보고 초딩영화줄오버연기조차 가볍지 않구나', '너무재밓었다그래서보는것을추천한다', '교도소 이야기구먼 솔직히 재미는 없다평점 조정', '사이몬페그의 익살스런 연기가 돋보였던 영화스파이더맨에서 늙어보이기만 했던 커스틴 던스트가 너무나도 이뻐보였다', '막 걸음마 뗀 세부터 초등학교 학년생인 살용영화ㅋㅋㅋ별반개도 아까움', '원작의 긴장감을 제대로 살려내지못했다', '별 반개도 아깝다 욕나온다 이응경 길용우 연기생활이몇년인지정말 발로해도 그것보단 낫겟다 납치감금만반복반복이드라마는 가족도없다 연기못하는사람만모엿네', '액션이 없는데도 재미 있는 몇안되는 영화', '왜케 평점이 낮은건데 꽤 볼만한데 헐리우드식 화려함에만 너무 길들여져 있나']\n"
          ],
          "name": "stdout"
        },
        {
          "output_type": "stream",
          "text": [
            "\n"
          ],
          "name": "stderr"
        }
      ]
    },
    {
      "cell_type": "code",
      "metadata": {
        "id": "e8zdbRf_Saa1",
        "colab_type": "code",
        "colab": {
          "base_uri": "https://localhost:8080/",
          "height": 35
        },
        "outputId": "077c29e6-f643-412d-d675-ffea79bf7b06"
      },
      "source": [
        "# 데이터 저장\n",
        "with open(f\"{data_path}/NAVER_CLEAN_TRAIN.txt\", 'w', encoding='utf-8') as f:\n",
        "    for review in tqdm(clean_train):\n",
        "        f.write(review + '\\n')"
      ],
      "execution_count": null,
      "outputs": [
        {
          "output_type": "stream",
          "text": [
            "100%|██████████| 149186/149186 [00:00<00:00, 884307.32it/s]\n"
          ],
          "name": "stderr"
        }
      ]
    },
    {
      "cell_type": "code",
      "metadata": {
        "id": "ygOSL2Fnc8ai",
        "colab_type": "code",
        "colab": {
          "base_uri": "https://localhost:8080/",
          "height": 72
        },
        "outputId": "dc73fa06-6d4e-47a8-b1e8-15537a203e1e"
      },
      "source": [
        "# 훈련용 데이터 준비\n",
        "with open(f\"{data_path}/NAVER_CLEAN_TRAIN.txt\", 'r', encoding='utf-8') as f:\n",
        "    train_sentences = [sent.strip('\\n') for sent in f.readlines()]\n",
        "print(train_sentences[:3], len(train_sentences))\n",
        "\n",
        "train_labels = train_data['label'].values\n",
        "print(train_labels, len(train_labels))"
      ],
      "execution_count": 14,
      "outputs": [
        {
          "output_type": "stream",
          "text": [
            "['아 더빙 진짜 짜증나네요 목소리', '흠포스터보고 초딩영화줄오버연기조차 가볍지 않구나', '너무재밓었다그래서보는것을추천한다'] 149186\n",
            "[0 1 0 ... 0 1 0] 149186\n"
          ],
          "name": "stdout"
        }
      ]
    },
    {
      "cell_type": "markdown",
      "metadata": {
        "id": "egj8f_AMgHsl",
        "colab_type": "text"
      },
      "source": [
        "## Test"
      ]
    },
    {
      "cell_type": "code",
      "metadata": {
        "id": "f6G48PaGgJX_",
        "colab_type": "code",
        "colab": {
          "base_uri": "https://localhost:8080/",
          "height": 194
        },
        "outputId": "f26949c6-6470-41b7-c0aa-9ce61920bb1f"
      },
      "source": [
        "# 데이터 로드\n",
        "test_data = pd.read_csv(TEST_PATH, header=0, delimiter='\\t', quoting=3)\n",
        "test_data.head()"
      ],
      "execution_count": 15,
      "outputs": [
        {
          "output_type": "execute_result",
          "data": {
            "text/html": [
              "<div>\n",
              "<style scoped>\n",
              "    .dataframe tbody tr th:only-of-type {\n",
              "        vertical-align: middle;\n",
              "    }\n",
              "\n",
              "    .dataframe tbody tr th {\n",
              "        vertical-align: top;\n",
              "    }\n",
              "\n",
              "    .dataframe thead th {\n",
              "        text-align: right;\n",
              "    }\n",
              "</style>\n",
              "<table border=\"1\" class=\"dataframe\">\n",
              "  <thead>\n",
              "    <tr style=\"text-align: right;\">\n",
              "      <th></th>\n",
              "      <th>id</th>\n",
              "      <th>document</th>\n",
              "      <th>label</th>\n",
              "    </tr>\n",
              "  </thead>\n",
              "  <tbody>\n",
              "    <tr>\n",
              "      <th>0</th>\n",
              "      <td>6270596</td>\n",
              "      <td>굳 ㅋ</td>\n",
              "      <td>1</td>\n",
              "    </tr>\n",
              "    <tr>\n",
              "      <th>1</th>\n",
              "      <td>9274899</td>\n",
              "      <td>GDNTOPCLASSINTHECLUB</td>\n",
              "      <td>0</td>\n",
              "    </tr>\n",
              "    <tr>\n",
              "      <th>2</th>\n",
              "      <td>8544678</td>\n",
              "      <td>뭐야 이 평점들은.... 나쁘진 않지만 10점 짜리는 더더욱 아니잖아</td>\n",
              "      <td>0</td>\n",
              "    </tr>\n",
              "    <tr>\n",
              "      <th>3</th>\n",
              "      <td>6825595</td>\n",
              "      <td>지루하지는 않은데 완전 막장임... 돈주고 보기에는....</td>\n",
              "      <td>0</td>\n",
              "    </tr>\n",
              "    <tr>\n",
              "      <th>4</th>\n",
              "      <td>6723715</td>\n",
              "      <td>3D만 아니었어도 별 다섯 개 줬을텐데.. 왜 3D로 나와서 제 심기를 불편하게 하죠??</td>\n",
              "      <td>0</td>\n",
              "    </tr>\n",
              "  </tbody>\n",
              "</table>\n",
              "</div>"
            ],
            "text/plain": [
              "        id                                           document  label\n",
              "0  6270596                                                굳 ㅋ      1\n",
              "1  9274899                               GDNTOPCLASSINTHECLUB      0\n",
              "2  8544678             뭐야 이 평점들은.... 나쁘진 않지만 10점 짜리는 더더욱 아니잖아      0\n",
              "3  6825595                   지루하지는 않은데 완전 막장임... 돈주고 보기에는....      0\n",
              "4  6723715  3D만 아니었어도 별 다섯 개 줬을텐데.. 왜 3D로 나와서 제 심기를 불편하게 하죠??      0"
            ]
          },
          "metadata": {
            "tags": []
          },
          "execution_count": 15
        }
      ]
    },
    {
      "cell_type": "code",
      "metadata": {
        "id": "QvYHt_VfgVC4",
        "colab_type": "code",
        "colab": {
          "base_uri": "https://localhost:8080/",
          "height": 340
        },
        "outputId": "ed3cb753-dc35-4573-e30f-948278c37e3b"
      },
      "source": [
        "# 전처리\n",
        "test_data['document'] = test_data['document'].apply(lambda x: preprocess_data(x))\n",
        "test_data = test_data.dropna()\n",
        "test_data.head(10)"
      ],
      "execution_count": 16,
      "outputs": [
        {
          "output_type": "execute_result",
          "data": {
            "text/html": [
              "<div>\n",
              "<style scoped>\n",
              "    .dataframe tbody tr th:only-of-type {\n",
              "        vertical-align: middle;\n",
              "    }\n",
              "\n",
              "    .dataframe tbody tr th {\n",
              "        vertical-align: top;\n",
              "    }\n",
              "\n",
              "    .dataframe thead th {\n",
              "        text-align: right;\n",
              "    }\n",
              "</style>\n",
              "<table border=\"1\" class=\"dataframe\">\n",
              "  <thead>\n",
              "    <tr style=\"text-align: right;\">\n",
              "      <th></th>\n",
              "      <th>id</th>\n",
              "      <th>document</th>\n",
              "      <th>label</th>\n",
              "    </tr>\n",
              "  </thead>\n",
              "  <tbody>\n",
              "    <tr>\n",
              "      <th>0</th>\n",
              "      <td>6270596</td>\n",
              "      <td>굳 ㅋ</td>\n",
              "      <td>1</td>\n",
              "    </tr>\n",
              "    <tr>\n",
              "      <th>1</th>\n",
              "      <td>9274899</td>\n",
              "      <td></td>\n",
              "      <td>0</td>\n",
              "    </tr>\n",
              "    <tr>\n",
              "      <th>2</th>\n",
              "      <td>8544678</td>\n",
              "      <td>뭐야 이 평점들은 나쁘진 않지만 점 짜리는 더더욱 아니잖아</td>\n",
              "      <td>0</td>\n",
              "    </tr>\n",
              "    <tr>\n",
              "      <th>3</th>\n",
              "      <td>6825595</td>\n",
              "      <td>지루하지는 않은데 완전 막장임 돈주고 보기에는</td>\n",
              "      <td>0</td>\n",
              "    </tr>\n",
              "    <tr>\n",
              "      <th>4</th>\n",
              "      <td>6723715</td>\n",
              "      <td>만 아니었어도 별 다섯 개 줬을텐데 왜 로 나와서 제 심기를 불편하게 하죠</td>\n",
              "      <td>0</td>\n",
              "    </tr>\n",
              "    <tr>\n",
              "      <th>5</th>\n",
              "      <td>7898805</td>\n",
              "      <td>음악이 주가 된 최고의 음악영화</td>\n",
              "      <td>1</td>\n",
              "    </tr>\n",
              "    <tr>\n",
              "      <th>6</th>\n",
              "      <td>6315043</td>\n",
              "      <td>진정한 쓰레기</td>\n",
              "      <td>0</td>\n",
              "    </tr>\n",
              "    <tr>\n",
              "      <th>7</th>\n",
              "      <td>6097171</td>\n",
              "      <td>마치 미국애니에서 튀어나온듯한 창의력없는 로봇디자인부터가고개를 젖게한다</td>\n",
              "      <td>0</td>\n",
              "    </tr>\n",
              "    <tr>\n",
              "      <th>8</th>\n",
              "      <td>8932678</td>\n",
              "      <td>갈수록 개판되가는 중국영화 유치하고 내용없음 폼잡다 끝남 말도안되는 무기에 유치한남...</td>\n",
              "      <td>0</td>\n",
              "    </tr>\n",
              "    <tr>\n",
              "      <th>9</th>\n",
              "      <td>6242223</td>\n",
              "      <td>이별의 아픔뒤에 찾아오는 새로운 인연의 기쁨  모든 사람이 그렇지는 않네</td>\n",
              "      <td>1</td>\n",
              "    </tr>\n",
              "  </tbody>\n",
              "</table>\n",
              "</div>"
            ],
            "text/plain": [
              "        id                                           document  label\n",
              "0  6270596                                                굳 ㅋ      1\n",
              "1  9274899                                                         0\n",
              "2  8544678                   뭐야 이 평점들은 나쁘진 않지만 점 짜리는 더더욱 아니잖아      0\n",
              "3  6825595                          지루하지는 않은데 완전 막장임 돈주고 보기에는      0\n",
              "4  6723715          만 아니었어도 별 다섯 개 줬을텐데 왜 로 나와서 제 심기를 불편하게 하죠      0\n",
              "5  7898805                                  음악이 주가 된 최고의 음악영화      1\n",
              "6  6315043                                            진정한 쓰레기      0\n",
              "7  6097171            마치 미국애니에서 튀어나온듯한 창의력없는 로봇디자인부터가고개를 젖게한다      0\n",
              "8  8932678  갈수록 개판되가는 중국영화 유치하고 내용없음 폼잡다 끝남 말도안되는 무기에 유치한남...      0\n",
              "9  6242223           이별의 아픔뒤에 찾아오는 새로운 인연의 기쁨  모든 사람이 그렇지는 않네      1"
            ]
          },
          "metadata": {
            "tags": []
          },
          "execution_count": 16
        }
      ]
    },
    {
      "cell_type": "code",
      "metadata": {
        "id": "OwFW2pjlmGwJ",
        "colab_type": "code",
        "colab": {
          "base_uri": "https://localhost:8080/",
          "height": 399
        },
        "outputId": "de077b32-5eb0-4532-8182-4cd91b49a115"
      },
      "source": [
        "# 빈 데이터 제거\n",
        "drop_test = [idx for idx, sent in enumerate(test_data['document']) if len(sent) < 1]\n",
        "test_data = test_data.drop(drop_test, axis=0)\n",
        "display(test_data)"
      ],
      "execution_count": 17,
      "outputs": [
        {
          "output_type": "display_data",
          "data": {
            "text/html": [
              "<div>\n",
              "<style scoped>\n",
              "    .dataframe tbody tr th:only-of-type {\n",
              "        vertical-align: middle;\n",
              "    }\n",
              "\n",
              "    .dataframe tbody tr th {\n",
              "        vertical-align: top;\n",
              "    }\n",
              "\n",
              "    .dataframe thead th {\n",
              "        text-align: right;\n",
              "    }\n",
              "</style>\n",
              "<table border=\"1\" class=\"dataframe\">\n",
              "  <thead>\n",
              "    <tr style=\"text-align: right;\">\n",
              "      <th></th>\n",
              "      <th>id</th>\n",
              "      <th>document</th>\n",
              "      <th>label</th>\n",
              "    </tr>\n",
              "  </thead>\n",
              "  <tbody>\n",
              "    <tr>\n",
              "      <th>0</th>\n",
              "      <td>6270596</td>\n",
              "      <td>굳 ㅋ</td>\n",
              "      <td>1</td>\n",
              "    </tr>\n",
              "    <tr>\n",
              "      <th>2</th>\n",
              "      <td>8544678</td>\n",
              "      <td>뭐야 이 평점들은 나쁘진 않지만 점 짜리는 더더욱 아니잖아</td>\n",
              "      <td>0</td>\n",
              "    </tr>\n",
              "    <tr>\n",
              "      <th>3</th>\n",
              "      <td>6825595</td>\n",
              "      <td>지루하지는 않은데 완전 막장임 돈주고 보기에는</td>\n",
              "      <td>0</td>\n",
              "    </tr>\n",
              "    <tr>\n",
              "      <th>4</th>\n",
              "      <td>6723715</td>\n",
              "      <td>만 아니었어도 별 다섯 개 줬을텐데 왜 로 나와서 제 심기를 불편하게 하죠</td>\n",
              "      <td>0</td>\n",
              "    </tr>\n",
              "    <tr>\n",
              "      <th>5</th>\n",
              "      <td>7898805</td>\n",
              "      <td>음악이 주가 된 최고의 음악영화</td>\n",
              "      <td>1</td>\n",
              "    </tr>\n",
              "    <tr>\n",
              "      <th>...</th>\n",
              "      <td>...</td>\n",
              "      <td>...</td>\n",
              "      <td>...</td>\n",
              "    </tr>\n",
              "    <tr>\n",
              "      <th>49995</th>\n",
              "      <td>4608761</td>\n",
              "      <td>오랜만에 평점 로긴했네ㅋㅋ 킹왕짱 쌈뽕한 영화를 만났습니다 강렬하게 육쾌함</td>\n",
              "      <td>1</td>\n",
              "    </tr>\n",
              "    <tr>\n",
              "      <th>49996</th>\n",
              "      <td>5308387</td>\n",
              "      <td>의지 박약들이나 하는거다 탈영은 일단 주인공 김대희 닮았고 이등병 찐따</td>\n",
              "      <td>0</td>\n",
              "    </tr>\n",
              "    <tr>\n",
              "      <th>49997</th>\n",
              "      <td>9072549</td>\n",
              "      <td>그림도 좋고 완성도도 높았지만 보는 내내 불안하게 만든다</td>\n",
              "      <td>0</td>\n",
              "    </tr>\n",
              "    <tr>\n",
              "      <th>49998</th>\n",
              "      <td>5802125</td>\n",
              "      <td>절대 봐서는 안 될 영화 재미도 없고 기분만 잡치고 한 세트장에서 다 해먹네</td>\n",
              "      <td>0</td>\n",
              "    </tr>\n",
              "    <tr>\n",
              "      <th>49999</th>\n",
              "      <td>6070594</td>\n",
              "      <td>마무리는 또 왜이래</td>\n",
              "      <td>0</td>\n",
              "    </tr>\n",
              "  </tbody>\n",
              "</table>\n",
              "<p>49726 rows × 3 columns</p>\n",
              "</div>"
            ],
            "text/plain": [
              "            id                                    document  label\n",
              "0      6270596                                         굳 ㅋ      1\n",
              "2      8544678            뭐야 이 평점들은 나쁘진 않지만 점 짜리는 더더욱 아니잖아      0\n",
              "3      6825595                   지루하지는 않은데 완전 막장임 돈주고 보기에는      0\n",
              "4      6723715   만 아니었어도 별 다섯 개 줬을텐데 왜 로 나와서 제 심기를 불편하게 하죠      0\n",
              "5      7898805                           음악이 주가 된 최고의 음악영화      1\n",
              "...        ...                                         ...    ...\n",
              "49995  4608761   오랜만에 평점 로긴했네ㅋㅋ 킹왕짱 쌈뽕한 영화를 만났습니다 강렬하게 육쾌함      1\n",
              "49996  5308387    의지 박약들이나 하는거다 탈영은 일단 주인공 김대희 닮았고 이등병 찐따       0\n",
              "49997  9072549             그림도 좋고 완성도도 높았지만 보는 내내 불안하게 만든다      0\n",
              "49998  5802125  절대 봐서는 안 될 영화 재미도 없고 기분만 잡치고 한 세트장에서 다 해먹네      0\n",
              "49999  6070594                                  마무리는 또 왜이래      0\n",
              "\n",
              "[49726 rows x 3 columns]"
            ]
          },
          "metadata": {
            "tags": []
          }
        }
      ]
    },
    {
      "cell_type": "code",
      "metadata": {
        "id": "ILKLvFwmgedz",
        "colab_type": "code",
        "colab": {
          "base_uri": "https://localhost:8080/",
          "height": 91
        },
        "outputId": "a3cb61e2-e749-4856-fcbf-925d61d79bf4"
      },
      "source": [
        "# 전처리된 데이터만 저장\n",
        "clean_test = []\n",
        "for review in tqdm(test_data['document']):\n",
        "    if type(review) == str:\n",
        "        clean_test.append(review)\n",
        "\n",
        "print(clean_test[:10])\n",
        "\n",
        "# 데이터 저장\n",
        "with open(f\"{data_path}/NAVER_CLEAN_TEST.txt\", 'w', encoding='utf-8') as f:\n",
        "    for review in tqdm(clean_test):\n",
        "        f.write(review + '\\n')"
      ],
      "execution_count": null,
      "outputs": [
        {
          "output_type": "stream",
          "text": [
            "100%|██████████| 49726/49726 [00:00<00:00, 1242492.07it/s]\n"
          ],
          "name": "stderr"
        },
        {
          "output_type": "stream",
          "text": [
            "['굳 ㅋ', '뭐야 이 평점들은 나쁘진 않지만 점 짜리는 더더욱 아니잖아', '지루하지는 않은데 완전 막장임 돈주고 보기에는', '만 아니었어도 별 다섯 개 줬을텐데 왜 로 나와서 제 심기를 불편하게 하죠', '음악이 주가 된 최고의 음악영화', '진정한 쓰레기', '마치 미국애니에서 튀어나온듯한 창의력없는 로봇디자인부터가고개를 젖게한다', '갈수록 개판되가는 중국영화 유치하고 내용없음 폼잡다 끝남 말도안되는 무기에 유치한남무 아 그립다 동사서독같은 영화가 이건 류아류작이다', '이별의 아픔뒤에 찾아오는 새로운 인연의 기쁨  모든 사람이 그렇지는 않네', '괜찮네요오랜만포켓몬스터잼밌어요']\n"
          ],
          "name": "stdout"
        },
        {
          "output_type": "stream",
          "text": [
            "100%|██████████| 49726/49726 [00:00<00:00, 891951.71it/s]\n"
          ],
          "name": "stderr"
        }
      ]
    },
    {
      "cell_type": "code",
      "metadata": {
        "id": "FeKdg7QngeV2",
        "colab_type": "code",
        "colab": {
          "base_uri": "https://localhost:8080/",
          "height": 72
        },
        "outputId": "61d3c20e-26f2-47ac-e3f7-e49b8eea2597"
      },
      "source": [
        "# 테스트용 데이터 준비\n",
        "with open(f\"{data_path}/NAVER_CLEAN_TEST.txt\", 'r', encoding='utf-8') as f:\n",
        "    test_sentences = [sent.strip('\\n') for sent in f.readlines()]\n",
        "print(test_sentences[:3], len(test_sentences))\n",
        "\n",
        "test_labels = test_data['label'].values\n",
        "print(test_labels, len(test_labels))"
      ],
      "execution_count": 18,
      "outputs": [
        {
          "output_type": "stream",
          "text": [
            "['굳 ㅋ', '뭐야 이 평점들은 나쁘진 않지만 점 짜리는 더더욱 아니잖아', '지루하지는 않은데 완전 막장임 돈주고 보기에는'] 49726\n",
            "[1 0 0 ... 0 0 0] 49726\n"
          ],
          "name": "stdout"
        }
      ]
    },
    {
      "cell_type": "markdown",
      "metadata": {
        "id": "-XnP996Sg9JU",
        "colab_type": "text"
      },
      "source": [
        "# _2_. Tokenizing Data\n",
        "\n",
        "* BertTokenizer : Wordpiece\n",
        "    - max_length = 72\n",
        "    - padding = True, truncating = True\n",
        "    - return TensorFlow tf.constant"
      ]
    },
    {
      "cell_type": "code",
      "metadata": {
        "id": "oEdDodErS1iR",
        "colab_type": "code",
        "colab": {
          "base_uri": "https://localhost:8080/",
          "height": 67,
          "referenced_widgets": [
            "ce80fb0ad1a24a36b15bf112227be576",
            "83f6449c23eb446ab4f2f4ff01b1f866",
            "0df5c829c3e644dcb78a639bd3892875",
            "500e17dc224141ee9e8264f1fbd7173b",
            "d0dce3b5d4c442cebe0c8bc916bc3750",
            "974d26a5b90d447d95a3fde410961b47",
            "2dc849c616a547958ba8772723e7594e",
            "9b0290629b3245a28ffea9e5369dafed"
          ]
        },
        "outputId": "7dfe5b6e-8bef-4da7-c2a0-44475d50a260"
      },
      "source": [
        "# 토크나이저 설정\n",
        "tokenizer = BertTokenizer.from_pretrained('bert-base-multilingual-cased')\n",
        "\n",
        "# 어휘집 생성\n",
        "word2idx = tokenizer.get_vocab()\n",
        "idx2word = {idx:word for idx, word in enumerate(word2idx)}"
      ],
      "execution_count": 19,
      "outputs": [
        {
          "output_type": "display_data",
          "data": {
            "application/vnd.jupyter.widget-view+json": {
              "model_id": "ce80fb0ad1a24a36b15bf112227be576",
              "version_minor": 0,
              "version_major": 2
            },
            "text/plain": [
              "HBox(children=(FloatProgress(value=0.0, description='Downloading', max=995526.0, style=ProgressStyle(descripti…"
            ]
          },
          "metadata": {
            "tags": []
          }
        },
        {
          "output_type": "stream",
          "text": [
            "\n"
          ],
          "name": "stdout"
        }
      ]
    },
    {
      "cell_type": "code",
      "metadata": {
        "id": "aT4i33ibA6SC",
        "colab_type": "code",
        "colab": {
          "base_uri": "https://localhost:8080/",
          "height": 35
        },
        "outputId": "e6c34013-3a2d-4d34-c76f-9fef5417e3ee"
      },
      "source": [
        "# 데이터 예시 확인\n",
        "for idx in tokenizer.encode('뭐야 이 평점들은 나쁘진 않지만 점 짜리는 더더욱 아니잖아'):\n",
        "    print(idx2word[idx], end=' ')"
      ],
      "execution_count": null,
      "outputs": [
        {
          "output_type": "stream",
          "text": [
            "[CLS] 뭐 ##야 이 평 ##점 ##들은 나 ##쁘 ##진 않 ##지만 점 짜 ##리는 더 ##더 ##욱 [UNK] [SEP] "
          ],
          "name": "stdout"
        }
      ]
    },
    {
      "cell_type": "code",
      "metadata": {
        "id": "UHbibLVN1Ltq",
        "colab_type": "code",
        "colab": {}
      },
      "source": [
        "# 문장 최대 길이 설정\n",
        "MAX_SEQUENCE_LEN = 64"
      ],
      "execution_count": 20,
      "outputs": []
    },
    {
      "cell_type": "markdown",
      "metadata": {
        "id": "I5AUHoFzg-03",
        "colab_type": "text"
      },
      "source": [
        "## Train"
      ]
    },
    {
      "cell_type": "code",
      "metadata": {
        "id": "YXiaxPOHZr5p",
        "colab_type": "code",
        "colab": {
          "base_uri": "https://localhost:8080/",
          "height": 339
        },
        "outputId": "101fbc90-6dc5-4ff6-c4ea-5a4b69c3797f"
      },
      "source": [
        "# 토크나이징\n",
        "train_encoded = tokenizer(train_sentences, padding=True, truncation=True, max_length=MAX_SEQUENCE_LEN, return_tensors='tf')\n",
        "X_train = train_encoded['input_ids']\n",
        "X_train_masks = train_encoded['attention_mask']\n",
        "print(X_train)\n",
        "\n",
        "# 문장 원상복귀\n",
        "print(X_train[0])\n",
        "print(tokenizer.decode(X_train[0]))"
      ],
      "execution_count": 21,
      "outputs": [
        {
          "output_type": "stream",
          "text": [
            "tf.Tensor(\n",
            "[[  101  9519  9074 ...     0     0     0]\n",
            " [  101   100  9757 ...     0     0     0]\n",
            " [  101   100   102 ...     0     0     0]\n",
            " ...\n",
            " [  101  9638 14153 ...     0     0     0]\n",
            " [  101  9751 97707 ...     0     0     0]\n",
            " [  101 48556 42428 ...     0     0     0]], shape=(149186, 64), dtype=int32)\n",
            "tf.Tensor(\n",
            "[   101   9519   9074 119005   9708 119235   9715 119230  16439  77884\n",
            "  48549   9284  22333  12692    102      0      0      0      0      0\n",
            "      0      0      0      0      0      0      0      0      0      0\n",
            "      0      0      0      0      0      0      0      0      0      0\n",
            "      0      0      0      0      0      0      0      0      0      0\n",
            "      0      0      0      0      0      0      0      0      0      0\n",
            "      0      0      0      0], shape=(64,), dtype=int32)\n",
            "[CLS] 아 더빙 진짜 짜증나네요 목소리 [SEP] [PAD] [PAD] [PAD] [PAD] [PAD] [PAD] [PAD] [PAD] [PAD] [PAD] [PAD] [PAD] [PAD] [PAD] [PAD] [PAD] [PAD] [PAD] [PAD] [PAD] [PAD] [PAD] [PAD] [PAD] [PAD] [PAD] [PAD] [PAD] [PAD] [PAD] [PAD] [PAD] [PAD] [PAD] [PAD] [PAD] [PAD] [PAD] [PAD] [PAD] [PAD] [PAD] [PAD] [PAD] [PAD] [PAD] [PAD] [PAD] [PAD]\n"
          ],
          "name": "stdout"
        }
      ]
    },
    {
      "cell_type": "markdown",
      "metadata": {
        "id": "D9p5-O5oiSDw",
        "colab_type": "text"
      },
      "source": [
        "## Test"
      ]
    },
    {
      "cell_type": "code",
      "metadata": {
        "id": "iPXPRmY9iTuc",
        "colab_type": "code",
        "colab": {
          "base_uri": "https://localhost:8080/",
          "height": 304
        },
        "outputId": "418e7541-ccd1-4898-f52f-00c2bc4a3060"
      },
      "source": [
        "# 토크나이징\n",
        "test_encoded = tokenizer(test_sentences, padding=True, truncation=True, max_length=MAX_SEQUENCE_LEN, return_tensors='tf')\n",
        "X_test = test_encoded['input_ids']\n",
        "X_test_masks = test_encoded['attention_mask']\n",
        "print(X_test)\n",
        "\n",
        "# 문장 원상복귀\n",
        "print(X_test[0])\n",
        "print(tokenizer.decode(X_test[0]))"
      ],
      "execution_count": 22,
      "outputs": [
        {
          "output_type": "stream",
          "text": [
            "tf.Tensor(\n",
            "[[  101  8911   100 ...     0     0     0]\n",
            " [  101  9303 21711 ...     0     0     0]\n",
            " [  101  9706 35866 ...     0     0     0]\n",
            " ...\n",
            " [  101  8924 67527 ...     0     0     0]\n",
            " [  101  9666 14423 ...     0     0     0]\n",
            " [  101  9246 32537 ...     0     0     0]], shape=(49726, 64), dtype=int32)\n",
            "tf.Tensor(\n",
            "[ 101 8911  100  102    0    0    0    0    0    0    0    0    0    0\n",
            "    0    0    0    0    0    0    0    0    0    0    0    0    0    0\n",
            "    0    0    0    0    0    0    0    0    0    0    0    0    0    0\n",
            "    0    0    0    0    0    0    0    0    0    0    0    0    0    0\n",
            "    0    0    0    0    0    0    0    0], shape=(64,), dtype=int32)\n",
            "[CLS] 굳 [UNK] [SEP] [PAD] [PAD] [PAD] [PAD] [PAD] [PAD] [PAD] [PAD] [PAD] [PAD] [PAD] [PAD] [PAD] [PAD] [PAD] [PAD] [PAD] [PAD] [PAD] [PAD] [PAD] [PAD] [PAD] [PAD] [PAD] [PAD] [PAD] [PAD] [PAD] [PAD] [PAD] [PAD] [PAD] [PAD] [PAD] [PAD] [PAD] [PAD] [PAD] [PAD] [PAD] [PAD] [PAD] [PAD] [PAD] [PAD] [PAD] [PAD] [PAD] [PAD] [PAD] [PAD] [PAD] [PAD] [PAD] [PAD] [PAD] [PAD] [PAD] [PAD]\n"
          ],
          "name": "stdout"
        }
      ]
    },
    {
      "cell_type": "markdown",
      "metadata": {
        "id": "g3NqTQBSibg2",
        "colab_type": "text"
      },
      "source": [
        "# _3_. Preparing Data"
      ]
    },
    {
      "cell_type": "code",
      "metadata": {
        "id": "MRqulqHDieBQ",
        "colab_type": "code",
        "colab": {
          "base_uri": "https://localhost:8080/",
          "height": 52
        },
        "outputId": "38e3c29d-ca32-472f-fe83-3bc4b9b358d8"
      },
      "source": [
        "# 라벨 준비\n",
        "y_train = np.array(train_labels).reshape(-1, 1)\n",
        "y_test = np.array(test_labels).reshape(-1, 1)\n",
        "\n",
        "# 데이터 최종 확인\n",
        "print(f\"Train: {X_train.shape}, {y_train.shape}\")\n",
        "print(f\"Test: {X_test.shape}, {y_test.shape}\")"
      ],
      "execution_count": 23,
      "outputs": [
        {
          "output_type": "stream",
          "text": [
            "Train: (149186, 64), (149186, 1)\n",
            "Test: (49726, 64), (49726, 1)\n"
          ],
          "name": "stdout"
        }
      ]
    },
    {
      "cell_type": "markdown",
      "metadata": {
        "id": "dJ_R2ORNi1ft",
        "colab_type": "text"
      },
      "source": [
        "# _4_. Preparing Model\n",
        "\n",
        "## TFBertForSequenceClassification\n",
        "\n",
        "> https://huggingface.co/transformers/_modules/transformers/modeling_tf_bert.html#TFBertForSequenceClassification\n",
        "\n",
        "- This model is a `tf.keras.Model` sub-class. Use it as a regular TF 2.0 Keras Model and refer to the TF 2.0 documentation for all matter related to general usage and behavior.\n",
        "- Returns\n",
        "    - logits\n",
        "    - hidden_states(_optional_)\n",
        "    - attentions(_optional_)\n",
        "\n"
      ]
    },
    {
      "cell_type": "markdown",
      "metadata": {
        "id": "WJDjX3VWr7hb",
        "colab_type": "text"
      },
      "source": [
        "## Config\n",
        "\n",
        "* This is the configuration class to store the configuration of a BertModel. It is used to instantiate an BERT model according to the specified arguments, defining the model architecture. Instantiating a configuration with the defaults will yield a similar configuration to that of the BERT bert-base-uncased architecture."
      ]
    },
    {
      "cell_type": "code",
      "metadata": {
        "id": "kJSf31Wqs_AM",
        "colab_type": "code",
        "colab": {
          "base_uri": "https://localhost:8080/",
          "height": 67,
          "referenced_widgets": [
            "5aceb6e9593e49f3b3b9320b0549437a",
            "11368deb66754bd89bbf1686b62ddbd8",
            "1d2d42c794d348b8ba2b89ee530ea7e9",
            "935390a448ef4aadb1b0bc3694ac5832",
            "6d6eafd507fd4cf1b7262dc899227815",
            "3404d32d5005465880e7b8abd8f3c607",
            "dff720958a944973a7e2d0ba208b35c9",
            "ab3a7863b86e40c6aeaf41086c403b85"
          ]
        },
        "outputId": "8e62b61e-c5c8-4fc2-c45f-f49aedaa9c34"
      },
      "source": [
        "# 모델 설정\n",
        "my_config = BertConfig.from_pretrained(\n",
        "    'bert-base-multilingual-cased',\n",
        "    num_labels=2,\n",
        "    output_hidden_states=False,\n",
        "    output_attentions=False\n",
        ")"
      ],
      "execution_count": 26,
      "outputs": [
        {
          "output_type": "display_data",
          "data": {
            "application/vnd.jupyter.widget-view+json": {
              "model_id": "5aceb6e9593e49f3b3b9320b0549437a",
              "version_minor": 0,
              "version_major": 2
            },
            "text/plain": [
              "HBox(children=(FloatProgress(value=0.0, description='Downloading', max=625.0, style=ProgressStyle(description_…"
            ]
          },
          "metadata": {
            "tags": []
          }
        },
        {
          "output_type": "stream",
          "text": [
            "\n"
          ],
          "name": "stdout"
        }
      ]
    },
    {
      "cell_type": "markdown",
      "metadata": {
        "id": "kBBzTm80IwcE",
        "colab_type": "text"
      },
      "source": [
        "## 1. Use Directly"
      ]
    },
    {
      "cell_type": "code",
      "metadata": {
        "id": "bGaEenXOudMM",
        "colab_type": "code",
        "colab": {
          "base_uri": "https://localhost:8080/",
          "height": 447,
          "referenced_widgets": [
            "b27e3e9e7f30401c8196322bb3f7f19e",
            "d6e56b80313f43aab5d044a4e2558ce8",
            "4fd42312aff549f4a7f16760b1b8f1a2",
            "bbfc55b80d734437b4f07f61f555227b",
            "71905c2716414f68b2ad78b12700a5a6",
            "6a1687384f424d22842cb152481ed328",
            "53157fe4e64a400285bfa7e52b45690f",
            "c15875cf9a334b2d9020af31238dc644"
          ]
        },
        "outputId": "4f8d55a8-0873-4c4c-d3ee-76d6e955962c"
      },
      "source": [
        "# Pre-Trained 모델 불러오기\n",
        "bert_model = TFBertForSequenceClassification.from_pretrained('bert-base-multilingual-cased', config=my_config)\n",
        "print(bert_model.summary())"
      ],
      "execution_count": null,
      "outputs": [
        {
          "output_type": "display_data",
          "data": {
            "application/vnd.jupyter.widget-view+json": {
              "model_id": "b27e3e9e7f30401c8196322bb3f7f19e",
              "version_minor": 0,
              "version_major": 2
            },
            "text/plain": [
              "HBox(children=(FloatProgress(value=0.0, description='Downloading', max=1083389348.0, style=ProgressStyle(descr…"
            ]
          },
          "metadata": {
            "tags": []
          }
        },
        {
          "output_type": "stream",
          "text": [
            "\n"
          ],
          "name": "stdout"
        },
        {
          "output_type": "stream",
          "text": [
            "Some weights of the model checkpoint at bert-base-multilingual-cased were not used when initializing TFBertForSequenceClassification: ['nsp___cls', 'mlm___cls']\n",
            "- This IS expected if you are initializing TFBertForSequenceClassification from the checkpoint of a model trained on another task or with another architecture (e.g. initializing a BertForSequenceClassification model from a BertForPretraining model).\n",
            "- This IS NOT expected if you are initializing TFBertForSequenceClassification from the checkpoint of a model that you expect to be exactly identical (initializing a BertForSequenceClassification model from a BertForSequenceClassification model).\n",
            "Some weights of TFBertForSequenceClassification were not initialized from the model checkpoint at bert-base-multilingual-cased and are newly initialized: ['dropout_37', 'classifier']\n",
            "You should probably TRAIN this model on a down-stream task to be able to use it for predictions and inference.\n"
          ],
          "name": "stderr"
        },
        {
          "output_type": "stream",
          "text": [
            "Model: \"tf_bert_for_sequence_classification\"\n",
            "_________________________________________________________________\n",
            "Layer (type)                 Output Shape              Param #   \n",
            "=================================================================\n",
            "bert (TFBertMainLayer)       multiple                  177853440 \n",
            "_________________________________________________________________\n",
            "dropout_37 (Dropout)         multiple                  0         \n",
            "_________________________________________________________________\n",
            "classifier (Dense)           multiple                  1538      \n",
            "=================================================================\n",
            "Total params: 177,854,978\n",
            "Trainable params: 177,854,978\n",
            "Non-trainable params: 0\n",
            "_________________________________________________________________\n",
            "None\n"
          ],
          "name": "stdout"
        }
      ]
    },
    {
      "cell_type": "code",
      "metadata": {
        "id": "JetvNECNwQ50",
        "colab_type": "code",
        "colab": {
          "base_uri": "https://localhost:8080/",
          "height": 644
        },
        "outputId": "2c59b8f0-708a-4131-911e-c05d84be7234"
      },
      "source": [
        "# 모델 네트워크 설정\n",
        "K.clear_session()\n",
        "\n",
        "input_ids = Input(batch_shape=(None, MAX_SEQUENCE_LEN), dtype=tf.int32, name='input_ids')\n",
        "input_masks = Input(batch_shape=(None, MAX_SEQUENCE_LEN), dtype=tf.int32, name='attention_masks')\n",
        "embedding = bert_model([input_ids, input_masks])[0] # logit\n",
        "y_output = Dense(1, activation='sigmoid')(embedding) # sigmoid\n",
        "\n",
        "model = Model(inputs=[input_ids, attention_masks], outputs=output, name='Bert_Classification_1')\n",
        "model.compile(optimizer=Adam(learning_rate=0.0001),\n",
        "              loss='binary_crossentropy',\n",
        "              metrics=['acc'])\n",
        "print(\"Fine-Tuning 모델 구조 확인\")\n",
        "print(model.summary())\n",
        "SVG(model_to_dot(model, show_shapes= True, show_layer_names=True, dpi=65).create(prog='dot', format='svg'))"
      ],
      "execution_count": null,
      "outputs": [
        {
          "output_type": "stream",
          "text": [
            "Fine-Tuning 모델 구조 확인\n",
            "Model: \"Bert_Classification\"\n",
            "__________________________________________________________________________________________________\n",
            "Layer (type)                    Output Shape         Param #     Connected to                     \n",
            "==================================================================================================\n",
            "input_ids (InputLayer)          [(None, 64)]         0                                            \n",
            "__________________________________________________________________________________________________\n",
            "attention_masks (InputLayer)    [(None, 64)]         0                                            \n",
            "__________________________________________________________________________________________________\n",
            "tf_bert_for_sequence_classifica ((None, 2),)         177854978   input_ids[0][0]                  \n",
            "                                                                 attention_masks[0][0]            \n",
            "__________________________________________________________________________________________________\n",
            "dense (Dense)                   (None, 1)            3           tf_bert_for_sequence_classificati\n",
            "==================================================================================================\n",
            "Total params: 177,854,981\n",
            "Trainable params: 177,854,981\n",
            "Non-trainable params: 0\n",
            "__________________________________________________________________________________________________\n",
            "None\n"
          ],
          "name": "stdout"
        },
        {
          "output_type": "execute_result",
          "data": {
            "text/plain": [
              "<IPython.core.display.SVG object>"
            ],
            "image/svg+xml": "<svg height=\"200pt\" viewBox=\"0.00 0.00 608.00 221.00\" width=\"549pt\" xmlns=\"http://www.w3.org/2000/svg\" xmlns:xlink=\"http://www.w3.org/1999/xlink\">\n<g class=\"graph\" id=\"graph0\" transform=\"scale(.9028 .9028) rotate(0) translate(4 217)\">\n<title>G</title>\n<polygon fill=\"#ffffff\" points=\"-4,4 -4,-217 604,-217 604,4 -4,4\" stroke=\"transparent\"/>\n<!-- 139799163342688 -->\n<g class=\"node\" id=\"node1\">\n<title>139799163342688</title>\n<polygon fill=\"none\" points=\"18,-166.5 18,-212.5 281,-212.5 281,-166.5 18,-166.5\" stroke=\"#000000\"/>\n<text fill=\"#000000\" font-family=\"Times,serif\" font-size=\"14.00\" text-anchor=\"middle\" x=\"89\" y=\"-185.8\">input_ids: InputLayer</text>\n<polyline fill=\"none\" points=\"160,-166.5 160,-212.5 \" stroke=\"#000000\"/>\n<text fill=\"#000000\" font-family=\"Times,serif\" font-size=\"14.00\" text-anchor=\"middle\" x=\"189\" y=\"-197.3\">input:</text>\n<polyline fill=\"none\" points=\"160,-189.5 218,-189.5 \" stroke=\"#000000\"/>\n<text fill=\"#000000\" font-family=\"Times,serif\" font-size=\"14.00\" text-anchor=\"middle\" x=\"189\" y=\"-174.3\">output:</text>\n<polyline fill=\"none\" points=\"218,-166.5 218,-212.5 \" stroke=\"#000000\"/>\n<text fill=\"#000000\" font-family=\"Times,serif\" font-size=\"14.00\" text-anchor=\"middle\" x=\"249.5\" y=\"-197.3\">[(?, 64)]</text>\n<polyline fill=\"none\" points=\"218,-189.5 281,-189.5 \" stroke=\"#000000\"/>\n<text fill=\"#000000\" font-family=\"Times,serif\" font-size=\"14.00\" text-anchor=\"middle\" x=\"249.5\" y=\"-174.3\">[(?, 64)]</text>\n</g>\n<!-- 139799179876952 -->\n<g class=\"node\" id=\"node3\">\n<title>139799179876952</title>\n<polygon fill=\"none\" points=\"0,-83.5 0,-129.5 599,-129.5 599,-83.5 0,-83.5\" stroke=\"#000000\"/>\n<text fill=\"#000000\" font-family=\"Times,serif\" font-size=\"14.00\" text-anchor=\"middle\" x=\"216.5\" y=\"-102.8\">tf_bert_for_sequence_classification_1: TFBertForSequenceClassification</text>\n<polyline fill=\"none\" points=\"433,-83.5 433,-129.5 \" stroke=\"#000000\"/>\n<text fill=\"#000000\" font-family=\"Times,serif\" font-size=\"14.00\" text-anchor=\"middle\" x=\"462\" y=\"-114.3\">input:</text>\n<polyline fill=\"none\" points=\"433,-106.5 491,-106.5 \" stroke=\"#000000\"/>\n<text fill=\"#000000\" font-family=\"Times,serif\" font-size=\"14.00\" text-anchor=\"middle\" x=\"462\" y=\"-91.3\">output:</text>\n<polyline fill=\"none\" points=\"491,-83.5 491,-129.5 \" stroke=\"#000000\"/>\n<text fill=\"#000000\" font-family=\"Times,serif\" font-size=\"14.00\" text-anchor=\"middle\" x=\"545\" y=\"-114.3\">[(?, 64), (?, 64)]</text>\n<polyline fill=\"none\" points=\"491,-106.5 599,-106.5 \" stroke=\"#000000\"/>\n<text fill=\"#000000\" font-family=\"Times,serif\" font-size=\"14.00\" text-anchor=\"middle\" x=\"545\" y=\"-91.3\">((?, 2),)</text>\n</g>\n<!-- 139799163342688&#45;&gt;139799179876952 -->\n<g class=\"edge\" id=\"edge1\">\n<title>139799163342688-&gt;139799179876952</title>\n<path d=\"M191.2834,-166.3799C209.0881,-156.5279 230.0226,-144.9442 248.7107,-134.6034\" fill=\"none\" stroke=\"#000000\"/>\n<polygon fill=\"#000000\" points=\"250.6256,-137.544 257.6808,-129.6399 247.2364,-131.4191 250.6256,-137.544\" stroke=\"#000000\"/>\n</g>\n<!-- 139799163453792 -->\n<g class=\"node\" id=\"node2\">\n<title>139799163453792</title>\n<polygon fill=\"none\" points=\"299,-166.5 299,-212.5 600,-212.5 600,-166.5 299,-166.5\" stroke=\"#000000\"/>\n<text fill=\"#000000\" font-family=\"Times,serif\" font-size=\"14.00\" text-anchor=\"middle\" x=\"389\" y=\"-185.8\">attention_masks: InputLayer</text>\n<polyline fill=\"none\" points=\"479,-166.5 479,-212.5 \" stroke=\"#000000\"/>\n<text fill=\"#000000\" font-family=\"Times,serif\" font-size=\"14.00\" text-anchor=\"middle\" x=\"508\" y=\"-197.3\">input:</text>\n<polyline fill=\"none\" points=\"479,-189.5 537,-189.5 \" stroke=\"#000000\"/>\n<text fill=\"#000000\" font-family=\"Times,serif\" font-size=\"14.00\" text-anchor=\"middle\" x=\"508\" y=\"-174.3\">output:</text>\n<polyline fill=\"none\" points=\"537,-166.5 537,-212.5 \" stroke=\"#000000\"/>\n<text fill=\"#000000\" font-family=\"Times,serif\" font-size=\"14.00\" text-anchor=\"middle\" x=\"568.5\" y=\"-197.3\">[(?, 64)]</text>\n<polyline fill=\"none\" points=\"537,-189.5 600,-189.5 \" stroke=\"#000000\"/>\n<text fill=\"#000000\" font-family=\"Times,serif\" font-size=\"14.00\" text-anchor=\"middle\" x=\"568.5\" y=\"-174.3\">[(?, 64)]</text>\n</g>\n<!-- 139799163453792&#45;&gt;139799179876952 -->\n<g class=\"edge\" id=\"edge2\">\n<title>139799163453792-&gt;139799179876952</title>\n<path d=\"M407.7166,-166.3799C389.9119,-156.5279 368.9774,-144.9442 350.2893,-134.6034\" fill=\"none\" stroke=\"#000000\"/>\n<polygon fill=\"#000000\" points=\"351.7636,-131.4191 341.3192,-129.6399 348.3744,-137.544 351.7636,-131.4191\" stroke=\"#000000\"/>\n</g>\n<!-- 139799163797064 -->\n<g class=\"node\" id=\"node4\">\n<title>139799163797064</title>\n<polygon fill=\"none\" points=\"201,-.5 201,-46.5 398,-46.5 398,-.5 201,-.5\" stroke=\"#000000\"/>\n<text fill=\"#000000\" font-family=\"Times,serif\" font-size=\"14.00\" text-anchor=\"middle\" x=\"247\" y=\"-19.8\">dense: Dense</text>\n<polyline fill=\"none\" points=\"293,-.5 293,-46.5 \" stroke=\"#000000\"/>\n<text fill=\"#000000\" font-family=\"Times,serif\" font-size=\"14.00\" text-anchor=\"middle\" x=\"322\" y=\"-31.3\">input:</text>\n<polyline fill=\"none\" points=\"293,-23.5 351,-23.5 \" stroke=\"#000000\"/>\n<text fill=\"#000000\" font-family=\"Times,serif\" font-size=\"14.00\" text-anchor=\"middle\" x=\"322\" y=\"-8.3\">output:</text>\n<polyline fill=\"none\" points=\"351,-.5 351,-46.5 \" stroke=\"#000000\"/>\n<text fill=\"#000000\" font-family=\"Times,serif\" font-size=\"14.00\" text-anchor=\"middle\" x=\"374.5\" y=\"-31.3\">(?, 2)</text>\n<polyline fill=\"none\" points=\"351,-23.5 398,-23.5 \" stroke=\"#000000\"/>\n<text fill=\"#000000\" font-family=\"Times,serif\" font-size=\"14.00\" text-anchor=\"middle\" x=\"374.5\" y=\"-8.3\">(?, 1)</text>\n</g>\n<!-- 139799179876952&#45;&gt;139799163797064 -->\n<g class=\"edge\" id=\"edge3\">\n<title>139799179876952-&gt;139799163797064</title>\n<path d=\"M299.5,-83.3799C299.5,-75.1745 299.5,-65.7679 299.5,-56.8786\" fill=\"none\" stroke=\"#000000\"/>\n<polygon fill=\"#000000\" points=\"303.0001,-56.784 299.5,-46.784 296.0001,-56.784 303.0001,-56.784\" stroke=\"#000000\"/>\n</g>\n</g>\n</svg>"
          },
          "metadata": {
            "tags": []
          },
          "execution_count": 36
        }
      ]
    },
    {
      "cell_type": "markdown",
      "metadata": {
        "id": "JhMUN32yI9AM",
        "colab_type": "text"
      },
      "source": [
        "## 2. Extract Embeddings\n",
        "- `trainable=False` options"
      ]
    },
    {
      "cell_type": "code",
      "metadata": {
        "id": "tWFxqEkHLEgu",
        "colab_type": "code",
        "colab": {
          "base_uri": "https://localhost:8080/",
          "height": 325
        },
        "outputId": "329d8ed3-5893-4d08-c876-226802f86187"
      },
      "source": [
        "bert_model = TFBertModel.from_pretrained('bert-base-multilingual-cased', config=my_config)\n",
        "print(bert_model.summary())"
      ],
      "execution_count": null,
      "outputs": [
        {
          "output_type": "stream",
          "text": [
            "Some weights of the model checkpoint at bert-base-multilingual-cased were not used when initializing TFBertModel: ['nsp___cls', 'mlm___cls']\n",
            "- This IS expected if you are initializing TFBertModel from the checkpoint of a model trained on another task or with another architecture (e.g. initializing a BertForSequenceClassification model from a BertForPretraining model).\n",
            "- This IS NOT expected if you are initializing TFBertModel from the checkpoint of a model that you expect to be exactly identical (initializing a BertForSequenceClassification model from a BertForSequenceClassification model).\n",
            "All the weights of TFBertModel were initialized from the model checkpoint at bert-base-multilingual-cased.\n",
            "If your task is similar to the task the model of the ckeckpoint was trained on, you can already use TFBertModel for predictions without further training.\n"
          ],
          "name": "stderr"
        },
        {
          "output_type": "stream",
          "text": [
            "Model: \"tf_bert_model\"\n",
            "_________________________________________________________________\n",
            "Layer (type)                 Output Shape              Param #   \n",
            "=================================================================\n",
            "bert (TFBertMainLayer)       multiple                  177853440 \n",
            "=================================================================\n",
            "Total params: 177,853,440\n",
            "Trainable params: 177,853,440\n",
            "Non-trainable params: 0\n",
            "_________________________________________________________________\n",
            "None\n"
          ],
          "name": "stdout"
        }
      ]
    },
    {
      "cell_type": "code",
      "metadata": {
        "id": "WHDQmsQjJSIS",
        "colab_type": "code",
        "colab": {
          "base_uri": "https://localhost:8080/",
          "height": 1000
        },
        "outputId": "c51e3afd-5e75-4a74-e145-f98d80ef0cb1"
      },
      "source": [
        "# 모델 네트워크 설정\n",
        "K.clear_session()\n",
        "\n",
        "# 입력층\n",
        "input_ids = Input(batch_shape=(None, MAX_SEQUENCE_LEN), dtype=tf.int32, name='input_ids')\n",
        "input_masks = Input(batch_shape=(None, MAX_SEQUENCE_LEN), dtype=tf.int32, name='attention_masks')\n",
        "\n",
        "# latent feature 추출\n",
        "embedding = bert_model(input_ids, attention_mask=input_masks)[0]\n",
        "cls_tokens = embedding[:, 0, :]\n",
        "\n",
        "# train 해제\n",
        "input_ids.trainable = False\n",
        "input_masks.trainable = False\n",
        "embedding.trainble = False\n",
        "\n",
        "# 층 쌓기\n",
        "X_latent = BatchNormalization()(cls_tokens)\n",
        "X_dense = Dense(192, activation='relu')(X_latent)\n",
        "X_dense = Dropout(0.3)(X_dense)\n",
        "y_output = Dense(1, activation='sigmoid')(X_dense)\n",
        "\n",
        "# 모델 구성\n",
        "model = Model(inputs=[input_ids, input_masks], outputs=y_output, name='Bert_Classification_2')\n",
        "model.compile(optimizer=Adam(learning_rate=3e-5),\n",
        "              loss='binary_crossentropy',\n",
        "              metrics=['acc'])\n",
        "print(\"Fine-Tuning 모델 구조 확인\")\n",
        "print(model.summary())\n",
        "SVG(model_to_dot(model, show_shapes= True, show_layer_names=True, dpi=65).create(prog='dot', format='svg'))"
      ],
      "execution_count": null,
      "outputs": [
        {
          "output_type": "stream",
          "text": [
            "Fine-Tuning 모델 구조 확인\n",
            "Model: \"Bert_Classification_2\"\n",
            "__________________________________________________________________________________________________\n",
            "Layer (type)                    Output Shape         Param #     Connected to                     \n",
            "==================================================================================================\n",
            "input_ids (InputLayer)          [(None, 64)]         0                                            \n",
            "__________________________________________________________________________________________________\n",
            "attention_masks (InputLayer)    [(None, 64)]         0                                            \n",
            "__________________________________________________________________________________________________\n",
            "tf_bert_model (TFBertModel)     ((None, 64, 768), (N 177853440   input_ids[0][0]                  \n",
            "                                                                 attention_masks[0][0]            \n",
            "__________________________________________________________________________________________________\n",
            "tf_op_layer_strided_slice (Tens [(None, 768)]        0           tf_bert_model[6][0]              \n",
            "__________________________________________________________________________________________________\n",
            "batch_normalization (BatchNorma (None, 768)          3072        tf_op_layer_strided_slice[0][0]  \n",
            "__________________________________________________________________________________________________\n",
            "dense (Dense)                   (None, 192)          147648      batch_normalization[0][0]        \n",
            "__________________________________________________________________________________________________\n",
            "dropout (Dropout)               (None, 192)          0           dense[0][0]                      \n",
            "__________________________________________________________________________________________________\n",
            "dense_1 (Dense)                 (None, 1)            193         dropout[0][0]                    \n",
            "==================================================================================================\n",
            "Total params: 178,004,353\n",
            "Trainable params: 178,002,817\n",
            "Non-trainable params: 1,536\n",
            "__________________________________________________________________________________________________\n",
            "None\n"
          ],
          "name": "stdout"
        },
        {
          "output_type": "execute_result",
          "data": {
            "text/plain": [
              "<IPython.core.display.SVG object>"
            ],
            "image/svg+xml": "<svg height=\"499pt\" viewBox=\"0.00 0.00 673.50 553.00\" width=\"608pt\" xmlns=\"http://www.w3.org/2000/svg\" xmlns:xlink=\"http://www.w3.org/1999/xlink\">\n<g class=\"graph\" id=\"graph0\" transform=\"scale(.9028 .9028) rotate(0) translate(4 549)\">\n<title>G</title>\n<polygon fill=\"#ffffff\" points=\"-4,4 -4,-549 669.5,-549 669.5,4 -4,4\" stroke=\"transparent\"/>\n<!-- 140447999674296 -->\n<g class=\"node\" id=\"node1\">\n<title>140447999674296</title>\n<polygon fill=\"none\" points=\"83.5,-498.5 83.5,-544.5 346.5,-544.5 346.5,-498.5 83.5,-498.5\" stroke=\"#000000\"/>\n<text fill=\"#000000\" font-family=\"Times,serif\" font-size=\"14.00\" text-anchor=\"middle\" x=\"154.5\" y=\"-517.8\">input_ids: InputLayer</text>\n<polyline fill=\"none\" points=\"225.5,-498.5 225.5,-544.5 \" stroke=\"#000000\"/>\n<text fill=\"#000000\" font-family=\"Times,serif\" font-size=\"14.00\" text-anchor=\"middle\" x=\"254.5\" y=\"-529.3\">input:</text>\n<polyline fill=\"none\" points=\"225.5,-521.5 283.5,-521.5 \" stroke=\"#000000\"/>\n<text fill=\"#000000\" font-family=\"Times,serif\" font-size=\"14.00\" text-anchor=\"middle\" x=\"254.5\" y=\"-506.3\">output:</text>\n<polyline fill=\"none\" points=\"283.5,-498.5 283.5,-544.5 \" stroke=\"#000000\"/>\n<text fill=\"#000000\" font-family=\"Times,serif\" font-size=\"14.00\" text-anchor=\"middle\" x=\"315\" y=\"-529.3\">[(?, 64)]</text>\n<polyline fill=\"none\" points=\"283.5,-521.5 346.5,-521.5 \" stroke=\"#000000\"/>\n<text fill=\"#000000\" font-family=\"Times,serif\" font-size=\"14.00\" text-anchor=\"middle\" x=\"315\" y=\"-506.3\">[(?, 64)]</text>\n</g>\n<!-- 140448138846672 -->\n<g class=\"node\" id=\"node3\">\n<title>140448138846672</title>\n<polygon fill=\"none\" points=\"21,-415.5 21,-461.5 409,-461.5 409,-415.5 21,-415.5\" stroke=\"#000000\"/>\n<text fill=\"#000000\" font-family=\"Times,serif\" font-size=\"14.00\" text-anchor=\"middle\" x=\"113\" y=\"-434.8\">tf_bert_model: TFBertModel</text>\n<polyline fill=\"none\" points=\"205,-415.5 205,-461.5 \" stroke=\"#000000\"/>\n<text fill=\"#000000\" font-family=\"Times,serif\" font-size=\"14.00\" text-anchor=\"middle\" x=\"234\" y=\"-446.3\">input:</text>\n<polyline fill=\"none\" points=\"205,-438.5 263,-438.5 \" stroke=\"#000000\"/>\n<text fill=\"#000000\" font-family=\"Times,serif\" font-size=\"14.00\" text-anchor=\"middle\" x=\"234\" y=\"-423.3\">output:</text>\n<polyline fill=\"none\" points=\"263,-415.5 263,-461.5 \" stroke=\"#000000\"/>\n<text fill=\"#000000\" font-family=\"Times,serif\" font-size=\"14.00\" text-anchor=\"middle\" x=\"336\" y=\"-446.3\">(?, 64)</text>\n<polyline fill=\"none\" points=\"263,-438.5 409,-438.5 \" stroke=\"#000000\"/>\n<text fill=\"#000000\" font-family=\"Times,serif\" font-size=\"14.00\" text-anchor=\"middle\" x=\"336\" y=\"-423.3\">((?, 64, 768), (?, 768))</text>\n</g>\n<!-- 140447999674296&#45;&gt;140448138846672 -->\n<g class=\"edge\" id=\"edge1\">\n<title>140447999674296-&gt;140448138846672</title>\n<path d=\"M215,-498.3799C215,-490.1745 215,-480.7679 215,-471.8786\" fill=\"none\" stroke=\"#000000\"/>\n<polygon fill=\"#000000\" points=\"218.5001,-471.784 215,-461.784 211.5001,-471.784 218.5001,-471.784\" stroke=\"#000000\"/>\n</g>\n<!-- 140447999458328 -->\n<g class=\"node\" id=\"node2\">\n<title>140447999458328</title>\n<polygon fill=\"none\" points=\"364.5,-498.5 364.5,-544.5 665.5,-544.5 665.5,-498.5 364.5,-498.5\" stroke=\"#000000\"/>\n<text fill=\"#000000\" font-family=\"Times,serif\" font-size=\"14.00\" text-anchor=\"middle\" x=\"454.5\" y=\"-517.8\">attention_masks: InputLayer</text>\n<polyline fill=\"none\" points=\"544.5,-498.5 544.5,-544.5 \" stroke=\"#000000\"/>\n<text fill=\"#000000\" font-family=\"Times,serif\" font-size=\"14.00\" text-anchor=\"middle\" x=\"573.5\" y=\"-529.3\">input:</text>\n<polyline fill=\"none\" points=\"544.5,-521.5 602.5,-521.5 \" stroke=\"#000000\"/>\n<text fill=\"#000000\" font-family=\"Times,serif\" font-size=\"14.00\" text-anchor=\"middle\" x=\"573.5\" y=\"-506.3\">output:</text>\n<polyline fill=\"none\" points=\"602.5,-498.5 602.5,-544.5 \" stroke=\"#000000\"/>\n<text fill=\"#000000\" font-family=\"Times,serif\" font-size=\"14.00\" text-anchor=\"middle\" x=\"634\" y=\"-529.3\">[(?, 64)]</text>\n<polyline fill=\"none\" points=\"602.5,-521.5 665.5,-521.5 \" stroke=\"#000000\"/>\n<text fill=\"#000000\" font-family=\"Times,serif\" font-size=\"14.00\" text-anchor=\"middle\" x=\"634\" y=\"-506.3\">[(?, 64)]</text>\n</g>\n<!-- 140447999675472 -->\n<g class=\"node\" id=\"node4\">\n<title>140447999675472</title>\n<polygon fill=\"none\" points=\"0,-332.5 0,-378.5 430,-378.5 430,-332.5 0,-332.5\" stroke=\"#000000\"/>\n<text fill=\"#000000\" font-family=\"Times,serif\" font-size=\"14.00\" text-anchor=\"middle\" x=\"144\" y=\"-351.8\">tf_op_layer_strided_slice: TensorFlowOpLayer</text>\n<polyline fill=\"none\" points=\"288,-332.5 288,-378.5 \" stroke=\"#000000\"/>\n<text fill=\"#000000\" font-family=\"Times,serif\" font-size=\"14.00\" text-anchor=\"middle\" x=\"317\" y=\"-363.3\">input:</text>\n<polyline fill=\"none\" points=\"288,-355.5 346,-355.5 \" stroke=\"#000000\"/>\n<text fill=\"#000000\" font-family=\"Times,serif\" font-size=\"14.00\" text-anchor=\"middle\" x=\"317\" y=\"-340.3\">output:</text>\n<polyline fill=\"none\" points=\"346,-332.5 346,-378.5 \" stroke=\"#000000\"/>\n<text fill=\"#000000\" font-family=\"Times,serif\" font-size=\"14.00\" text-anchor=\"middle\" x=\"388\" y=\"-363.3\">(?, 64, 768)</text>\n<polyline fill=\"none\" points=\"346,-355.5 430,-355.5 \" stroke=\"#000000\"/>\n<text fill=\"#000000\" font-family=\"Times,serif\" font-size=\"14.00\" text-anchor=\"middle\" x=\"388\" y=\"-340.3\">[(?, 768)]</text>\n</g>\n<!-- 140448138846672&#45;&gt;140447999675472 -->\n<g class=\"edge\" id=\"edge2\">\n<title>140448138846672-&gt;140447999675472</title>\n<path d=\"M215,-415.3799C215,-407.1745 215,-397.7679 215,-388.8786\" fill=\"none\" stroke=\"#000000\"/>\n<polygon fill=\"#000000\" points=\"218.5001,-388.784 215,-378.784 211.5001,-388.784 218.5001,-388.784\" stroke=\"#000000\"/>\n</g>\n<!-- 140447999675976 -->\n<g class=\"node\" id=\"node5\">\n<title>140447999675976</title>\n<polygon fill=\"none\" points=\"27,-249.5 27,-295.5 403,-295.5 403,-249.5 27,-249.5\" stroke=\"#000000\"/>\n<text fill=\"#000000\" font-family=\"Times,serif\" font-size=\"14.00\" text-anchor=\"middle\" x=\"155\" y=\"-268.8\">batch_normalization: BatchNormalization</text>\n<polyline fill=\"none\" points=\"283,-249.5 283,-295.5 \" stroke=\"#000000\"/>\n<text fill=\"#000000\" font-family=\"Times,serif\" font-size=\"14.00\" text-anchor=\"middle\" x=\"312\" y=\"-280.3\">input:</text>\n<polyline fill=\"none\" points=\"283,-272.5 341,-272.5 \" stroke=\"#000000\"/>\n<text fill=\"#000000\" font-family=\"Times,serif\" font-size=\"14.00\" text-anchor=\"middle\" x=\"312\" y=\"-257.3\">output:</text>\n<polyline fill=\"none\" points=\"341,-249.5 341,-295.5 \" stroke=\"#000000\"/>\n<text fill=\"#000000\" font-family=\"Times,serif\" font-size=\"14.00\" text-anchor=\"middle\" x=\"372\" y=\"-280.3\">(?, 768)</text>\n<polyline fill=\"none\" points=\"341,-272.5 403,-272.5 \" stroke=\"#000000\"/>\n<text fill=\"#000000\" font-family=\"Times,serif\" font-size=\"14.00\" text-anchor=\"middle\" x=\"372\" y=\"-257.3\">(?, 768)</text>\n</g>\n<!-- 140447999675472&#45;&gt;140447999675976 -->\n<g class=\"edge\" id=\"edge3\">\n<title>140447999675472-&gt;140447999675976</title>\n<path d=\"M215,-332.3799C215,-324.1745 215,-314.7679 215,-305.8786\" fill=\"none\" stroke=\"#000000\"/>\n<polygon fill=\"#000000\" points=\"218.5001,-305.784 215,-295.784 211.5001,-305.784 218.5001,-305.784\" stroke=\"#000000\"/>\n</g>\n<!-- 140447999676312 -->\n<g class=\"node\" id=\"node6\">\n<title>140447999676312</title>\n<polygon fill=\"none\" points=\"109,-166.5 109,-212.5 321,-212.5 321,-166.5 109,-166.5\" stroke=\"#000000\"/>\n<text fill=\"#000000\" font-family=\"Times,serif\" font-size=\"14.00\" text-anchor=\"middle\" x=\"155\" y=\"-185.8\">dense: Dense</text>\n<polyline fill=\"none\" points=\"201,-166.5 201,-212.5 \" stroke=\"#000000\"/>\n<text fill=\"#000000\" font-family=\"Times,serif\" font-size=\"14.00\" text-anchor=\"middle\" x=\"230\" y=\"-197.3\">input:</text>\n<polyline fill=\"none\" points=\"201,-189.5 259,-189.5 \" stroke=\"#000000\"/>\n<text fill=\"#000000\" font-family=\"Times,serif\" font-size=\"14.00\" text-anchor=\"middle\" x=\"230\" y=\"-174.3\">output:</text>\n<polyline fill=\"none\" points=\"259,-166.5 259,-212.5 \" stroke=\"#000000\"/>\n<text fill=\"#000000\" font-family=\"Times,serif\" font-size=\"14.00\" text-anchor=\"middle\" x=\"290\" y=\"-197.3\">(?, 768)</text>\n<polyline fill=\"none\" points=\"259,-189.5 321,-189.5 \" stroke=\"#000000\"/>\n<text fill=\"#000000\" font-family=\"Times,serif\" font-size=\"14.00\" text-anchor=\"middle\" x=\"290\" y=\"-174.3\">(?, 192)</text>\n</g>\n<!-- 140447999675976&#45;&gt;140447999676312 -->\n<g class=\"edge\" id=\"edge4\">\n<title>140447999675976-&gt;140447999676312</title>\n<path d=\"M215,-249.3799C215,-241.1745 215,-231.7679 215,-222.8786\" fill=\"none\" stroke=\"#000000\"/>\n<polygon fill=\"#000000\" points=\"218.5001,-222.784 215,-212.784 211.5001,-222.784 218.5001,-222.784\" stroke=\"#000000\"/>\n</g>\n<!-- 140447999674912 -->\n<g class=\"node\" id=\"node7\">\n<title>140447999674912</title>\n<polygon fill=\"none\" points=\"95.5,-83.5 95.5,-129.5 334.5,-129.5 334.5,-83.5 95.5,-83.5\" stroke=\"#000000\"/>\n<text fill=\"#000000\" font-family=\"Times,serif\" font-size=\"14.00\" text-anchor=\"middle\" x=\"155\" y=\"-102.8\">dropout: Dropout</text>\n<polyline fill=\"none\" points=\"214.5,-83.5 214.5,-129.5 \" stroke=\"#000000\"/>\n<text fill=\"#000000\" font-family=\"Times,serif\" font-size=\"14.00\" text-anchor=\"middle\" x=\"243.5\" y=\"-114.3\">input:</text>\n<polyline fill=\"none\" points=\"214.5,-106.5 272.5,-106.5 \" stroke=\"#000000\"/>\n<text fill=\"#000000\" font-family=\"Times,serif\" font-size=\"14.00\" text-anchor=\"middle\" x=\"243.5\" y=\"-91.3\">output:</text>\n<polyline fill=\"none\" points=\"272.5,-83.5 272.5,-129.5 \" stroke=\"#000000\"/>\n<text fill=\"#000000\" font-family=\"Times,serif\" font-size=\"14.00\" text-anchor=\"middle\" x=\"303.5\" y=\"-114.3\">(?, 192)</text>\n<polyline fill=\"none\" points=\"272.5,-106.5 334.5,-106.5 \" stroke=\"#000000\"/>\n<text fill=\"#000000\" font-family=\"Times,serif\" font-size=\"14.00\" text-anchor=\"middle\" x=\"303.5\" y=\"-91.3\">(?, 192)</text>\n</g>\n<!-- 140447999676312&#45;&gt;140447999674912 -->\n<g class=\"edge\" id=\"edge5\">\n<title>140447999676312-&gt;140447999674912</title>\n<path d=\"M215,-166.3799C215,-158.1745 215,-148.7679 215,-139.8786\" fill=\"none\" stroke=\"#000000\"/>\n<polygon fill=\"#000000\" points=\"218.5001,-139.784 215,-129.784 211.5001,-139.784 218.5001,-139.784\" stroke=\"#000000\"/>\n</g>\n<!-- 140447993884912 -->\n<g class=\"node\" id=\"node8\">\n<title>140447993884912</title>\n<polygon fill=\"none\" points=\"101.5,-.5 101.5,-46.5 328.5,-46.5 328.5,-.5 101.5,-.5\" stroke=\"#000000\"/>\n<text fill=\"#000000\" font-family=\"Times,serif\" font-size=\"14.00\" text-anchor=\"middle\" x=\"155\" y=\"-19.8\">dense_1: Dense</text>\n<polyline fill=\"none\" points=\"208.5,-.5 208.5,-46.5 \" stroke=\"#000000\"/>\n<text fill=\"#000000\" font-family=\"Times,serif\" font-size=\"14.00\" text-anchor=\"middle\" x=\"237.5\" y=\"-31.3\">input:</text>\n<polyline fill=\"none\" points=\"208.5,-23.5 266.5,-23.5 \" stroke=\"#000000\"/>\n<text fill=\"#000000\" font-family=\"Times,serif\" font-size=\"14.00\" text-anchor=\"middle\" x=\"237.5\" y=\"-8.3\">output:</text>\n<polyline fill=\"none\" points=\"266.5,-.5 266.5,-46.5 \" stroke=\"#000000\"/>\n<text fill=\"#000000\" font-family=\"Times,serif\" font-size=\"14.00\" text-anchor=\"middle\" x=\"297.5\" y=\"-31.3\">(?, 192)</text>\n<polyline fill=\"none\" points=\"266.5,-23.5 328.5,-23.5 \" stroke=\"#000000\"/>\n<text fill=\"#000000\" font-family=\"Times,serif\" font-size=\"14.00\" text-anchor=\"middle\" x=\"297.5\" y=\"-8.3\">(?, 1)</text>\n</g>\n<!-- 140447999674912&#45;&gt;140447993884912 -->\n<g class=\"edge\" id=\"edge6\">\n<title>140447999674912-&gt;140447993884912</title>\n<path d=\"M215,-83.3799C215,-75.1745 215,-65.7679 215,-56.8786\" fill=\"none\" stroke=\"#000000\"/>\n<polygon fill=\"#000000\" points=\"218.5001,-56.784 215,-46.784 211.5001,-56.784 218.5001,-56.784\" stroke=\"#000000\"/>\n</g>\n</g>\n</svg>"
          },
          "metadata": {
            "tags": []
          },
          "execution_count": 52
        }
      ]
    },
    {
      "cell_type": "markdown",
      "metadata": {
        "id": "ri_Kc6aOXXh-",
        "colab_type": "text"
      },
      "source": [
        "## 3. Extract Embeddings and Fine-tune\n",
        "- `trainable=False` options"
      ]
    },
    {
      "cell_type": "code",
      "metadata": {
        "id": "VSVcvKHmYUXt",
        "colab_type": "code",
        "colab": {
          "base_uri": "https://localhost:8080/",
          "height": 371,
          "referenced_widgets": [
            "4c36dd6d6ed545e4b3e09327481a6047",
            "d6693ddf2ec94767b5b289ed07e3b62d",
            "204d079d8cdd4c0cbc4ffd45e1afcab4",
            "b47ed699f2df4a06a89e4a69a9405ef1",
            "ab8e1f2be00347a394eae255e15d318c",
            "a01c38b8ebf3450c958ccca704590000",
            "33c80f6bf0c7424ea02fa1e42fb8e810",
            "e95d4639895e421eaa598f958e556d9b"
          ]
        },
        "outputId": "2b39134a-2794-41b5-98ac-27955c953b62"
      },
      "source": [
        "# Pre-trained 모델 로드\n",
        "bert_model = TFBertModel.from_pretrained('bert-base-multilingual-cased', config=my_config)\n",
        "print(bert_model.summary())"
      ],
      "execution_count": 27,
      "outputs": [
        {
          "output_type": "display_data",
          "data": {
            "application/vnd.jupyter.widget-view+json": {
              "model_id": "4c36dd6d6ed545e4b3e09327481a6047",
              "version_minor": 0,
              "version_major": 2
            },
            "text/plain": [
              "HBox(children=(FloatProgress(value=0.0, description='Downloading', max=1083389348.0, style=ProgressStyle(descr…"
            ]
          },
          "metadata": {
            "tags": []
          }
        },
        {
          "output_type": "stream",
          "text": [
            "\n"
          ],
          "name": "stdout"
        },
        {
          "output_type": "stream",
          "text": [
            "Some weights of the model checkpoint at bert-base-multilingual-cased were not used when initializing TFBertModel: ['nsp___cls', 'mlm___cls']\n",
            "- This IS expected if you are initializing TFBertModel from the checkpoint of a model trained on another task or with another architecture (e.g. initializing a BertForSequenceClassification model from a BertForPretraining model).\n",
            "- This IS NOT expected if you are initializing TFBertModel from the checkpoint of a model that you expect to be exactly identical (initializing a BertForSequenceClassification model from a BertForSequenceClassification model).\n",
            "All the weights of TFBertModel were initialized from the model checkpoint at bert-base-multilingual-cased.\n",
            "If your task is similar to the task the model of the ckeckpoint was trained on, you can already use TFBertModel for predictions without further training.\n"
          ],
          "name": "stderr"
        },
        {
          "output_type": "stream",
          "text": [
            "Model: \"tf_bert_model\"\n",
            "_________________________________________________________________\n",
            "Layer (type)                 Output Shape              Param #   \n",
            "=================================================================\n",
            "bert (TFBertMainLayer)       multiple                  177853440 \n",
            "=================================================================\n",
            "Total params: 177,853,440\n",
            "Trainable params: 177,853,440\n",
            "Non-trainable params: 0\n",
            "_________________________________________________________________\n",
            "None\n"
          ],
          "name": "stdout"
        }
      ]
    },
    {
      "cell_type": "code",
      "metadata": {
        "id": "CwvPrMJUXlzA",
        "colab_type": "code",
        "colab": {
          "base_uri": "https://localhost:8080/",
          "height": 1000
        },
        "outputId": "2d28ed83-a00b-46ca-bc81-50ad4bac1f79"
      },
      "source": [
        "# 모델 네트워크 설정\n",
        "K.clear_session()\n",
        "\n",
        "# 입력층\n",
        "input_ids = Input(batch_shape=(None, MAX_SEQUENCE_LEN), dtype=tf.int32, name='input_ids')\n",
        "input_masks = Input(batch_shape=(None, MAX_SEQUENCE_LEN), dtype=tf.int32, name='attention_masks')\n",
        "\n",
        "# latent feature 추출\n",
        "embedding = bert_model(input_ids, attention_mask=input_masks)[0]\n",
        "\n",
        "# train 해제\n",
        "input_ids.trainable = False\n",
        "input_masks.trainable = False\n",
        "embedding.trainble = False\n",
        "\n",
        "# embedding layer fine-tune\n",
        "X_embed = Bidirectional(LSTM(50, return_sequences=True, dropout=0.1, recurrent_dropout=0.1))(embedding)\n",
        "X_embed = GlobalMaxPool1D()(X_embed)  \n",
        "\n",
        "# 층 쌓기\n",
        "X_latent = BatchNormalization()(X_embed)\n",
        "X_dense = Dense(192, activation='relu')(X_latent)\n",
        "X_dense = Dropout(0.3)(X_dense)\n",
        "y_output = Dense(1, activation='sigmoid')(X_dense)\n",
        "\n",
        "# 모델 구성\n",
        "model = Model(inputs=[input_ids, input_masks], outputs=y_output, name='Bert_Classification_2')\n",
        "model.compile(optimizer=Adam(learning_rate=3e-5),\n",
        "              loss='binary_crossentropy',\n",
        "              metrics=['acc'])\n",
        "print(\"Fine-Tuning 모델 구조 확인\")\n",
        "print(model.summary())\n",
        "SVG(model_to_dot(model, show_shapes= True, show_layer_names=True, dpi=65).create(prog='dot', format='svg'))"
      ],
      "execution_count": 28,
      "outputs": [
        {
          "output_type": "stream",
          "text": [
            "WARNING:tensorflow:Layer lstm will not use cuDNN kernel since it doesn't meet the cuDNN kernel criteria. It will use generic GPU kernel as fallback when running on GPU\n",
            "WARNING:tensorflow:Layer lstm will not use cuDNN kernel since it doesn't meet the cuDNN kernel criteria. It will use generic GPU kernel as fallback when running on GPU\n",
            "WARNING:tensorflow:Layer lstm will not use cuDNN kernel since it doesn't meet the cuDNN kernel criteria. It will use generic GPU kernel as fallback when running on GPU\n",
            "Fine-Tuning 모델 구조 확인\n",
            "Model: \"Bert_Classification_2\"\n",
            "__________________________________________________________________________________________________\n",
            "Layer (type)                    Output Shape         Param #     Connected to                     \n",
            "==================================================================================================\n",
            "input_ids (InputLayer)          [(None, 64)]         0                                            \n",
            "__________________________________________________________________________________________________\n",
            "attention_masks (InputLayer)    [(None, 64)]         0                                            \n",
            "__________________________________________________________________________________________________\n",
            "tf_bert_model (TFBertModel)     ((None, 64, 768), (N 177853440   input_ids[0][0]                  \n",
            "                                                                 attention_masks[0][0]            \n",
            "__________________________________________________________________________________________________\n",
            "bidirectional (Bidirectional)   (None, 64, 100)      327600      tf_bert_model[0][0]              \n",
            "__________________________________________________________________________________________________\n",
            "global_max_pooling1d (GlobalMax (None, 100)          0           bidirectional[0][0]              \n",
            "__________________________________________________________________________________________________\n",
            "batch_normalization (BatchNorma (None, 100)          400         global_max_pooling1d[0][0]       \n",
            "__________________________________________________________________________________________________\n",
            "dense (Dense)                   (None, 192)          19392       batch_normalization[0][0]        \n",
            "__________________________________________________________________________________________________\n",
            "dropout (Dropout)               (None, 192)          0           dense[0][0]                      \n",
            "__________________________________________________________________________________________________\n",
            "dense_1 (Dense)                 (None, 1)            193         dropout[0][0]                    \n",
            "==================================================================================================\n",
            "Total params: 178,201,025\n",
            "Trainable params: 178,200,825\n",
            "Non-trainable params: 200\n",
            "__________________________________________________________________________________________________\n",
            "None\n"
          ],
          "name": "stdout"
        },
        {
          "output_type": "execute_result",
          "data": {
            "text/plain": [
              "<IPython.core.display.SVG object>"
            ],
            "image/svg+xml": "<svg height=\"574pt\" viewBox=\"0.00 0.00 674.00 636.00\" width=\"608pt\" xmlns=\"http://www.w3.org/2000/svg\" xmlns:xlink=\"http://www.w3.org/1999/xlink\">\n<g class=\"graph\" id=\"graph0\" transform=\"scale(.9028 .9028) rotate(0) translate(4 632)\">\n<title>G</title>\n<polygon fill=\"#ffffff\" points=\"-4,4 -4,-632 670,-632 670,4 -4,4\" stroke=\"transparent\"/>\n<!-- 140400093618248 -->\n<g class=\"node\" id=\"node1\">\n<title>140400093618248</title>\n<polygon fill=\"none\" points=\"84,-581.5 84,-627.5 347,-627.5 347,-581.5 84,-581.5\" stroke=\"#000000\"/>\n<text fill=\"#000000\" font-family=\"Times,serif\" font-size=\"14.00\" text-anchor=\"middle\" x=\"155\" y=\"-600.8\">input_ids: InputLayer</text>\n<polyline fill=\"none\" points=\"226,-581.5 226,-627.5 \" stroke=\"#000000\"/>\n<text fill=\"#000000\" font-family=\"Times,serif\" font-size=\"14.00\" text-anchor=\"middle\" x=\"255\" y=\"-612.3\">input:</text>\n<polyline fill=\"none\" points=\"226,-604.5 284,-604.5 \" stroke=\"#000000\"/>\n<text fill=\"#000000\" font-family=\"Times,serif\" font-size=\"14.00\" text-anchor=\"middle\" x=\"255\" y=\"-589.3\">output:</text>\n<polyline fill=\"none\" points=\"284,-581.5 284,-627.5 \" stroke=\"#000000\"/>\n<text fill=\"#000000\" font-family=\"Times,serif\" font-size=\"14.00\" text-anchor=\"middle\" x=\"315.5\" y=\"-612.3\">[(?, 64)]</text>\n<polyline fill=\"none\" points=\"284,-604.5 347,-604.5 \" stroke=\"#000000\"/>\n<text fill=\"#000000\" font-family=\"Times,serif\" font-size=\"14.00\" text-anchor=\"middle\" x=\"315.5\" y=\"-589.3\">[(?, 64)]</text>\n</g>\n<!-- 140400477096592 -->\n<g class=\"node\" id=\"node3\">\n<title>140400477096592</title>\n<polygon fill=\"none\" points=\"21.5,-498.5 21.5,-544.5 409.5,-544.5 409.5,-498.5 21.5,-498.5\" stroke=\"#000000\"/>\n<text fill=\"#000000\" font-family=\"Times,serif\" font-size=\"14.00\" text-anchor=\"middle\" x=\"113.5\" y=\"-517.8\">tf_bert_model: TFBertModel</text>\n<polyline fill=\"none\" points=\"205.5,-498.5 205.5,-544.5 \" stroke=\"#000000\"/>\n<text fill=\"#000000\" font-family=\"Times,serif\" font-size=\"14.00\" text-anchor=\"middle\" x=\"234.5\" y=\"-529.3\">input:</text>\n<polyline fill=\"none\" points=\"205.5,-521.5 263.5,-521.5 \" stroke=\"#000000\"/>\n<text fill=\"#000000\" font-family=\"Times,serif\" font-size=\"14.00\" text-anchor=\"middle\" x=\"234.5\" y=\"-506.3\">output:</text>\n<polyline fill=\"none\" points=\"263.5,-498.5 263.5,-544.5 \" stroke=\"#000000\"/>\n<text fill=\"#000000\" font-family=\"Times,serif\" font-size=\"14.00\" text-anchor=\"middle\" x=\"336.5\" y=\"-529.3\">(?, 64)</text>\n<polyline fill=\"none\" points=\"263.5,-521.5 409.5,-521.5 \" stroke=\"#000000\"/>\n<text fill=\"#000000\" font-family=\"Times,serif\" font-size=\"14.00\" text-anchor=\"middle\" x=\"336.5\" y=\"-506.3\">((?, 64, 768), (?, 768))</text>\n</g>\n<!-- 140400093618248&#45;&gt;140400477096592 -->\n<g class=\"edge\" id=\"edge1\">\n<title>140400093618248-&gt;140400477096592</title>\n<path d=\"M215.5,-581.3799C215.5,-573.1745 215.5,-563.7679 215.5,-554.8786\" fill=\"none\" stroke=\"#000000\"/>\n<polygon fill=\"#000000\" points=\"219.0001,-554.784 215.5,-544.784 212.0001,-554.784 219.0001,-554.784\" stroke=\"#000000\"/>\n</g>\n<!-- 140400093619704 -->\n<g class=\"node\" id=\"node2\">\n<title>140400093619704</title>\n<polygon fill=\"none\" points=\"365,-581.5 365,-627.5 666,-627.5 666,-581.5 365,-581.5\" stroke=\"#000000\"/>\n<text fill=\"#000000\" font-family=\"Times,serif\" font-size=\"14.00\" text-anchor=\"middle\" x=\"455\" y=\"-600.8\">attention_masks: InputLayer</text>\n<polyline fill=\"none\" points=\"545,-581.5 545,-627.5 \" stroke=\"#000000\"/>\n<text fill=\"#000000\" font-family=\"Times,serif\" font-size=\"14.00\" text-anchor=\"middle\" x=\"574\" y=\"-612.3\">input:</text>\n<polyline fill=\"none\" points=\"545,-604.5 603,-604.5 \" stroke=\"#000000\"/>\n<text fill=\"#000000\" font-family=\"Times,serif\" font-size=\"14.00\" text-anchor=\"middle\" x=\"574\" y=\"-589.3\">output:</text>\n<polyline fill=\"none\" points=\"603,-581.5 603,-627.5 \" stroke=\"#000000\"/>\n<text fill=\"#000000\" font-family=\"Times,serif\" font-size=\"14.00\" text-anchor=\"middle\" x=\"634.5\" y=\"-612.3\">[(?, 64)]</text>\n<polyline fill=\"none\" points=\"603,-604.5 666,-604.5 \" stroke=\"#000000\"/>\n<text fill=\"#000000\" font-family=\"Times,serif\" font-size=\"14.00\" text-anchor=\"middle\" x=\"634.5\" y=\"-589.3\">[(?, 64)]</text>\n</g>\n<!-- 140400373721520 -->\n<g class=\"node\" id=\"node4\">\n<title>140400373721520</title>\n<polygon fill=\"none\" points=\"19.5,-415.5 19.5,-461.5 411.5,-461.5 411.5,-415.5 19.5,-415.5\" stroke=\"#000000\"/>\n<text fill=\"#000000\" font-family=\"Times,serif\" font-size=\"14.00\" text-anchor=\"middle\" x=\"144.5\" y=\"-434.8\">bidirectional(lstm): Bidirectional(LSTM)</text>\n<polyline fill=\"none\" points=\"269.5,-415.5 269.5,-461.5 \" stroke=\"#000000\"/>\n<text fill=\"#000000\" font-family=\"Times,serif\" font-size=\"14.00\" text-anchor=\"middle\" x=\"298.5\" y=\"-446.3\">input:</text>\n<polyline fill=\"none\" points=\"269.5,-438.5 327.5,-438.5 \" stroke=\"#000000\"/>\n<text fill=\"#000000\" font-family=\"Times,serif\" font-size=\"14.00\" text-anchor=\"middle\" x=\"298.5\" y=\"-423.3\">output:</text>\n<polyline fill=\"none\" points=\"327.5,-415.5 327.5,-461.5 \" stroke=\"#000000\"/>\n<text fill=\"#000000\" font-family=\"Times,serif\" font-size=\"14.00\" text-anchor=\"middle\" x=\"369.5\" y=\"-446.3\">(?, 64, 768)</text>\n<polyline fill=\"none\" points=\"327.5,-438.5 411.5,-438.5 \" stroke=\"#000000\"/>\n<text fill=\"#000000\" font-family=\"Times,serif\" font-size=\"14.00\" text-anchor=\"middle\" x=\"369.5\" y=\"-423.3\">(?, 64, 100)</text>\n</g>\n<!-- 140400477096592&#45;&gt;140400373721520 -->\n<g class=\"edge\" id=\"edge2\">\n<title>140400477096592-&gt;140400373721520</title>\n<path d=\"M215.5,-498.3799C215.5,-490.1745 215.5,-480.7679 215.5,-471.8786\" fill=\"none\" stroke=\"#000000\"/>\n<polygon fill=\"#000000\" points=\"219.0001,-471.784 215.5,-461.784 212.0001,-471.784 219.0001,-471.784\" stroke=\"#000000\"/>\n</g>\n<!-- 140400505957456 -->\n<g class=\"node\" id=\"node5\">\n<title>140400505957456</title>\n<polygon fill=\"none\" points=\"0,-332.5 0,-378.5 431,-378.5 431,-332.5 0,-332.5\" stroke=\"#000000\"/>\n<text fill=\"#000000\" font-family=\"Times,serif\" font-size=\"14.00\" text-anchor=\"middle\" x=\"144.5\" y=\"-351.8\">global_max_pooling1d: GlobalMaxPooling1D</text>\n<polyline fill=\"none\" points=\"289,-332.5 289,-378.5 \" stroke=\"#000000\"/>\n<text fill=\"#000000\" font-family=\"Times,serif\" font-size=\"14.00\" text-anchor=\"middle\" x=\"318\" y=\"-363.3\">input:</text>\n<polyline fill=\"none\" points=\"289,-355.5 347,-355.5 \" stroke=\"#000000\"/>\n<text fill=\"#000000\" font-family=\"Times,serif\" font-size=\"14.00\" text-anchor=\"middle\" x=\"318\" y=\"-340.3\">output:</text>\n<polyline fill=\"none\" points=\"347,-332.5 347,-378.5 \" stroke=\"#000000\"/>\n<text fill=\"#000000\" font-family=\"Times,serif\" font-size=\"14.00\" text-anchor=\"middle\" x=\"389\" y=\"-363.3\">(?, 64, 100)</text>\n<polyline fill=\"none\" points=\"347,-355.5 431,-355.5 \" stroke=\"#000000\"/>\n<text fill=\"#000000\" font-family=\"Times,serif\" font-size=\"14.00\" text-anchor=\"middle\" x=\"389\" y=\"-340.3\">(?, 100)</text>\n</g>\n<!-- 140400373721520&#45;&gt;140400505957456 -->\n<g class=\"edge\" id=\"edge3\">\n<title>140400373721520-&gt;140400505957456</title>\n<path d=\"M215.5,-415.3799C215.5,-407.1745 215.5,-397.7679 215.5,-388.8786\" fill=\"none\" stroke=\"#000000\"/>\n<polygon fill=\"#000000\" points=\"219.0001,-388.784 215.5,-378.784 212.0001,-388.784 219.0001,-388.784\" stroke=\"#000000\"/>\n</g>\n<!-- 140400482217936 -->\n<g class=\"node\" id=\"node6\">\n<title>140400482217936</title>\n<polygon fill=\"none\" points=\"27.5,-249.5 27.5,-295.5 403.5,-295.5 403.5,-249.5 27.5,-249.5\" stroke=\"#000000\"/>\n<text fill=\"#000000\" font-family=\"Times,serif\" font-size=\"14.00\" text-anchor=\"middle\" x=\"155.5\" y=\"-268.8\">batch_normalization: BatchNormalization</text>\n<polyline fill=\"none\" points=\"283.5,-249.5 283.5,-295.5 \" stroke=\"#000000\"/>\n<text fill=\"#000000\" font-family=\"Times,serif\" font-size=\"14.00\" text-anchor=\"middle\" x=\"312.5\" y=\"-280.3\">input:</text>\n<polyline fill=\"none\" points=\"283.5,-272.5 341.5,-272.5 \" stroke=\"#000000\"/>\n<text fill=\"#000000\" font-family=\"Times,serif\" font-size=\"14.00\" text-anchor=\"middle\" x=\"312.5\" y=\"-257.3\">output:</text>\n<polyline fill=\"none\" points=\"341.5,-249.5 341.5,-295.5 \" stroke=\"#000000\"/>\n<text fill=\"#000000\" font-family=\"Times,serif\" font-size=\"14.00\" text-anchor=\"middle\" x=\"372.5\" y=\"-280.3\">(?, 100)</text>\n<polyline fill=\"none\" points=\"341.5,-272.5 403.5,-272.5 \" stroke=\"#000000\"/>\n<text fill=\"#000000\" font-family=\"Times,serif\" font-size=\"14.00\" text-anchor=\"middle\" x=\"372.5\" y=\"-257.3\">(?, 100)</text>\n</g>\n<!-- 140400505957456&#45;&gt;140400482217936 -->\n<g class=\"edge\" id=\"edge4\">\n<title>140400505957456-&gt;140400482217936</title>\n<path d=\"M215.5,-332.3799C215.5,-324.1745 215.5,-314.7679 215.5,-305.8786\" fill=\"none\" stroke=\"#000000\"/>\n<polygon fill=\"#000000\" points=\"219.0001,-305.784 215.5,-295.784 212.0001,-305.784 219.0001,-305.784\" stroke=\"#000000\"/>\n</g>\n<!-- 140400505305296 -->\n<g class=\"node\" id=\"node7\">\n<title>140400505305296</title>\n<polygon fill=\"none\" points=\"109.5,-166.5 109.5,-212.5 321.5,-212.5 321.5,-166.5 109.5,-166.5\" stroke=\"#000000\"/>\n<text fill=\"#000000\" font-family=\"Times,serif\" font-size=\"14.00\" text-anchor=\"middle\" x=\"155.5\" y=\"-185.8\">dense: Dense</text>\n<polyline fill=\"none\" points=\"201.5,-166.5 201.5,-212.5 \" stroke=\"#000000\"/>\n<text fill=\"#000000\" font-family=\"Times,serif\" font-size=\"14.00\" text-anchor=\"middle\" x=\"230.5\" y=\"-197.3\">input:</text>\n<polyline fill=\"none\" points=\"201.5,-189.5 259.5,-189.5 \" stroke=\"#000000\"/>\n<text fill=\"#000000\" font-family=\"Times,serif\" font-size=\"14.00\" text-anchor=\"middle\" x=\"230.5\" y=\"-174.3\">output:</text>\n<polyline fill=\"none\" points=\"259.5,-166.5 259.5,-212.5 \" stroke=\"#000000\"/>\n<text fill=\"#000000\" font-family=\"Times,serif\" font-size=\"14.00\" text-anchor=\"middle\" x=\"290.5\" y=\"-197.3\">(?, 100)</text>\n<polyline fill=\"none\" points=\"259.5,-189.5 321.5,-189.5 \" stroke=\"#000000\"/>\n<text fill=\"#000000\" font-family=\"Times,serif\" font-size=\"14.00\" text-anchor=\"middle\" x=\"290.5\" y=\"-174.3\">(?, 192)</text>\n</g>\n<!-- 140400482217936&#45;&gt;140400505305296 -->\n<g class=\"edge\" id=\"edge5\">\n<title>140400482217936-&gt;140400505305296</title>\n<path d=\"M215.5,-249.3799C215.5,-241.1745 215.5,-231.7679 215.5,-222.8786\" fill=\"none\" stroke=\"#000000\"/>\n<polygon fill=\"#000000\" points=\"219.0001,-222.784 215.5,-212.784 212.0001,-222.784 219.0001,-222.784\" stroke=\"#000000\"/>\n</g>\n<!-- 140400505305408 -->\n<g class=\"node\" id=\"node8\">\n<title>140400505305408</title>\n<polygon fill=\"none\" points=\"96,-83.5 96,-129.5 335,-129.5 335,-83.5 96,-83.5\" stroke=\"#000000\"/>\n<text fill=\"#000000\" font-family=\"Times,serif\" font-size=\"14.00\" text-anchor=\"middle\" x=\"155.5\" y=\"-102.8\">dropout: Dropout</text>\n<polyline fill=\"none\" points=\"215,-83.5 215,-129.5 \" stroke=\"#000000\"/>\n<text fill=\"#000000\" font-family=\"Times,serif\" font-size=\"14.00\" text-anchor=\"middle\" x=\"244\" y=\"-114.3\">input:</text>\n<polyline fill=\"none\" points=\"215,-106.5 273,-106.5 \" stroke=\"#000000\"/>\n<text fill=\"#000000\" font-family=\"Times,serif\" font-size=\"14.00\" text-anchor=\"middle\" x=\"244\" y=\"-91.3\">output:</text>\n<polyline fill=\"none\" points=\"273,-83.5 273,-129.5 \" stroke=\"#000000\"/>\n<text fill=\"#000000\" font-family=\"Times,serif\" font-size=\"14.00\" text-anchor=\"middle\" x=\"304\" y=\"-114.3\">(?, 192)</text>\n<polyline fill=\"none\" points=\"273,-106.5 335,-106.5 \" stroke=\"#000000\"/>\n<text fill=\"#000000\" font-family=\"Times,serif\" font-size=\"14.00\" text-anchor=\"middle\" x=\"304\" y=\"-91.3\">(?, 192)</text>\n</g>\n<!-- 140400505305296&#45;&gt;140400505305408 -->\n<g class=\"edge\" id=\"edge6\">\n<title>140400505305296-&gt;140400505305408</title>\n<path d=\"M215.5,-166.3799C215.5,-158.1745 215.5,-148.7679 215.5,-139.8786\" fill=\"none\" stroke=\"#000000\"/>\n<polygon fill=\"#000000\" points=\"219.0001,-139.784 215.5,-129.784 212.0001,-139.784 219.0001,-139.784\" stroke=\"#000000\"/>\n</g>\n<!-- 140400482355352 -->\n<g class=\"node\" id=\"node9\">\n<title>140400482355352</title>\n<polygon fill=\"none\" points=\"102,-.5 102,-46.5 329,-46.5 329,-.5 102,-.5\" stroke=\"#000000\"/>\n<text fill=\"#000000\" font-family=\"Times,serif\" font-size=\"14.00\" text-anchor=\"middle\" x=\"155.5\" y=\"-19.8\">dense_1: Dense</text>\n<polyline fill=\"none\" points=\"209,-.5 209,-46.5 \" stroke=\"#000000\"/>\n<text fill=\"#000000\" font-family=\"Times,serif\" font-size=\"14.00\" text-anchor=\"middle\" x=\"238\" y=\"-31.3\">input:</text>\n<polyline fill=\"none\" points=\"209,-23.5 267,-23.5 \" stroke=\"#000000\"/>\n<text fill=\"#000000\" font-family=\"Times,serif\" font-size=\"14.00\" text-anchor=\"middle\" x=\"238\" y=\"-8.3\">output:</text>\n<polyline fill=\"none\" points=\"267,-.5 267,-46.5 \" stroke=\"#000000\"/>\n<text fill=\"#000000\" font-family=\"Times,serif\" font-size=\"14.00\" text-anchor=\"middle\" x=\"298\" y=\"-31.3\">(?, 192)</text>\n<polyline fill=\"none\" points=\"267,-23.5 329,-23.5 \" stroke=\"#000000\"/>\n<text fill=\"#000000\" font-family=\"Times,serif\" font-size=\"14.00\" text-anchor=\"middle\" x=\"298\" y=\"-8.3\">(?, 1)</text>\n</g>\n<!-- 140400505305408&#45;&gt;140400482355352 -->\n<g class=\"edge\" id=\"edge7\">\n<title>140400505305408-&gt;140400482355352</title>\n<path d=\"M215.5,-83.3799C215.5,-75.1745 215.5,-65.7679 215.5,-56.8786\" fill=\"none\" stroke=\"#000000\"/>\n<polygon fill=\"#000000\" points=\"219.0001,-56.784 215.5,-46.784 212.0001,-56.784 219.0001,-56.784\" stroke=\"#000000\"/>\n</g>\n</g>\n</svg>"
          },
          "metadata": {
            "tags": []
          },
          "execution_count": 28
        }
      ]
    },
    {
      "cell_type": "markdown",
      "metadata": {
        "id": "NFB_vshD4peH",
        "colab_type": "text"
      },
      "source": [
        "# _5_. Training "
      ]
    },
    {
      "cell_type": "markdown",
      "metadata": {
        "id": "up3UHcp_2xa6",
        "colab_type": "text"
      },
      "source": [
        "\n",
        "```\n",
        "ResourceExhaustedError: 2 root error(s) found. (0) Resource exhausted: OOM when allocating tensor with shape[36864,3072] and type float on /job:localhost/replica:0/task:0/device:GPU:0 by allocator GPU_0_bfc [[node Bert_Classification/tf_bert_for_sequence_classification/bert/encoder/layer_._3/intermediate/dense/Tensordot/MatMul (defined at /usr/local/lib/python3.6/dist-packages/transformers/modeling_tf_bert.py:341) ]] Hint: If you want to see a list of allocated tensors when OOM happens, add report_tensor_allocations_upon_oom to RunOptions for current allocation info.\n",
        "```\n",
        "\n",
        "-> https://github.com/huggingface/transformers/issues/180\n"
      ]
    },
    {
      "cell_type": "code",
      "metadata": {
        "id": "NxotqHCdwQjI",
        "colab_type": "code",
        "colab": {
          "base_uri": "https://localhost:8080/",
          "height": 52
        },
        "outputId": "e7f179f6-a2fc-4d4b-ac11-f5ae2c9e6a8a"
      },
      "source": [
        "# 1)번 방식\n",
        "hist = model.fit([X_train, X_train_masks], y_train,\n",
        "                 validation_data=([X_test, X_test_masks], y_test),\n",
        "                 batch_size=128,\n",
        "                 epochs=3,\n",
        "                 shuffle=True)    "
      ],
      "execution_count": null,
      "outputs": [
        {
          "output_type": "stream",
          "text": [
            "Epoch 1/3\n",
            " 339/1166 [=======>......................] - ETA: 11:47 - loss: 0.5022 - acc: 0.7466"
          ],
          "name": "stdout"
        }
      ]
    },
    {
      "cell_type": "code",
      "metadata": {
        "id": "t3km2zvdPL3e",
        "colab_type": "code",
        "colab": {
          "base_uri": "https://localhost:8080/",
          "height": 181
        },
        "outputId": "4c34c827-8a91-4d50-bb4e-4adabfd72565"
      },
      "source": [
        "# 2)번 방식\n",
        "hist = model.fit([X_train, X_train_masks], y_train,\n",
        "                 validation_data=([X_test, X_test_masks], y_test),\n",
        "                 batch_size=128,\n",
        "                 epochs=3,\n",
        "                 shuffle=True)    "
      ],
      "execution_count": null,
      "outputs": [
        {
          "output_type": "stream",
          "text": [
            "Epoch 1/3\n",
            "WARNING:tensorflow:Gradients do not exist for variables ['tf_bert_model/bert/pooler/dense/kernel:0', 'tf_bert_model/bert/pooler/dense/bias:0'] when minimizing the loss.\n",
            "WARNING:tensorflow:Gradients do not exist for variables ['tf_bert_model/bert/pooler/dense/kernel:0', 'tf_bert_model/bert/pooler/dense/bias:0'] when minimizing the loss.\n",
            "WARNING:tensorflow:Gradients do not exist for variables ['tf_bert_model/bert/pooler/dense/kernel:0', 'tf_bert_model/bert/pooler/dense/bias:0'] when minimizing the loss.\n",
            "WARNING:tensorflow:Gradients do not exist for variables ['tf_bert_model/bert/pooler/dense/kernel:0', 'tf_bert_model/bert/pooler/dense/bias:0'] when minimizing the loss.\n",
            "1166/1166 [==============================] - 1107s 950ms/step - loss: 0.4468 - acc: 0.7873 - val_loss: 0.3633 - val_acc: 0.8340\n",
            "Epoch 2/3\n",
            " 969/1166 [=======================>......] - ETA: 2:48 - loss: 0.3428 - acc: 0.8464"
          ],
          "name": "stdout"
        }
      ]
    },
    {
      "cell_type": "code",
      "metadata": {
        "id": "SWQxuENGPlBT",
        "colab_type": "code",
        "colab": {
          "base_uri": "https://localhost:8080/",
          "height": 215
        },
        "outputId": "4d26b4e2-3c44-4a9e-b46d-78d71da46792"
      },
      "source": [
        "# 3)번 방식\n",
        "hist = model.fit([X_train, X_train_masks], y_train,\n",
        "                 validation_data=([X_test, X_test_masks], y_test),\n",
        "                 batch_size=128,\n",
        "                 epochs=3,\n",
        "                 shuffle=True)"
      ],
      "execution_count": 29,
      "outputs": [
        {
          "output_type": "stream",
          "text": [
            "Epoch 1/3\n",
            "WARNING:tensorflow:Gradients do not exist for variables ['tf_bert_model/bert/pooler/dense/kernel:0', 'tf_bert_model/bert/pooler/dense/bias:0'] when minimizing the loss.\n",
            "WARNING:tensorflow:Gradients do not exist for variables ['tf_bert_model/bert/pooler/dense/kernel:0', 'tf_bert_model/bert/pooler/dense/bias:0'] when minimizing the loss.\n",
            "WARNING:tensorflow:Gradients do not exist for variables ['tf_bert_model/bert/pooler/dense/kernel:0', 'tf_bert_model/bert/pooler/dense/bias:0'] when minimizing the loss.\n",
            "WARNING:tensorflow:Gradients do not exist for variables ['tf_bert_model/bert/pooler/dense/kernel:0', 'tf_bert_model/bert/pooler/dense/bias:0'] when minimizing the loss.\n",
            "1166/1166 [==============================] - 1533s 1s/step - loss: 0.4343 - acc: 0.7920 - val_loss: 0.3541 - val_acc: 0.8383\n",
            "Epoch 2/3\n",
            "1166/1166 [==============================] - 1537s 1s/step - loss: 0.3368 - acc: 0.8490 - val_loss: 0.3501 - val_acc: 0.8363\n",
            "Epoch 3/3\n",
            "1166/1166 [==============================] - 1545s 1s/step - loss: 0.2882 - acc: 0.8745 - val_loss: 0.3299 - val_acc: 0.8540\n"
          ],
          "name": "stdout"
        }
      ]
    },
    {
      "cell_type": "code",
      "metadata": {
        "id": "UeKd7zRZ6H4W",
        "colab_type": "code",
        "colab": {
          "base_uri": "https://localhost:8080/",
          "height": 295
        },
        "outputId": "cd0ca16e-86ff-4086-f0f6-6833057f5d5b"
      },
      "source": [
        "# loss 시각화\n",
        "plt.plot(hist.history['loss'], label='Train Loss')\n",
        "plt.plot(hist.history['val_loss'], label='Test Loss')\n",
        "plt.title('Loss Trajectory')\n",
        "plt.xlabel('epochs')\n",
        "plt.ylabel('loss')\n",
        "plt.legend()\n",
        "plt.show()"
      ],
      "execution_count": 30,
      "outputs": [
        {
          "output_type": "display_data",
          "data": {
            "image/png": "[encoded data removed]",
            "text/plain": [
              "<Figure size 432x288 with 1 Axes>"
            ]
          },
          "metadata": {
            "tags": [],
            "needs_background": "light"
          }
        }
      ]
    },
    {
      "cell_type": "code",
      "metadata": {
        "id": "0iVbiCjm2hSB",
        "colab_type": "code",
        "colab": {}
      },
      "source": [
        "# 사전학습 가중치 저장\n",
        "model.save_weights(f\"{model_path}/BERT-multilingual-NaverMovie.h5\")"
      ],
      "execution_count": null,
      "outputs": []
    },
    {
      "cell_type": "markdown",
      "metadata": {
        "id": "eG7TGCWz2g5C",
        "colab_type": "text"
      },
      "source": [
        "# _6_. Predicting\n",
        "\n",
        "- 1) 방식: 0.8576\n",
        "- 2) 방식: 0.8511\n",
        "- 3) 방식: "
      ]
    },
    {
      "cell_type": "code",
      "metadata": {
        "id": "2iibGz2hwQRP",
        "colab_type": "code",
        "colab": {
          "base_uri": "https://localhost:8080/",
          "height": 35
        },
        "outputId": "4d2e971c-6bc7-4579-818b-8ed1471550a8"
      },
      "source": [
        "# 1) 예측\n",
        "y_pred = model.predict([X_test, X_test_masks])\n",
        "y_pred = np.where(y_pred > 0.5, 1, 0).reshape(-1, 1)\n",
        "print('Accuracy = %.4f' % np.mean(y_test == y_pred))"
      ],
      "execution_count": null,
      "outputs": [
        {
          "output_type": "stream",
          "text": [
            "Accuracy = 0.8576\n"
          ],
          "name": "stdout"
        }
      ]
    },
    {
      "cell_type": "code",
      "metadata": {
        "id": "HKRN9-4n6xSG",
        "colab_type": "code",
        "colab": {}
      },
      "source": [
        ""
      ],
      "execution_count": null,
      "outputs": []
    }
  ]
}